{
 "cells": [
  {
   "cell_type": "markdown",
   "metadata": {},
   "source": [
    "# Выбор локации для скважины"
   ]
  },
  {
   "cell_type": "markdown",
   "metadata": {},
   "source": [
    "Допустим, вы работаете в добывающей компании «ГлавРосГосНефть». Нужно решить, где бурить новую скважину.\n",
    "\n",
    "Вам предоставлены пробы нефти в трёх регионах: в каждом 10 000 месторождений, где измерили качество нефти и объём её запасов. Постройте модель машинного обучения, которая поможет определить регион, где добыча принесёт наибольшую прибыль. Проанализируйте возможную прибыль и риски техникой *Bootstrap.*\n",
    "\n",
    "Шаги для выбора локации:\n",
    "\n",
    "- В избранном регионе ищут месторождения, для каждого определяют значения признаков;\n",
    "- Строят модель и оценивают объём запасов;\n",
    "- Выбирают месторождения с самым высокими оценками значений. Количество месторождений зависит от бюджета компании и стоимости разработки одной скважины;\n",
    "- Прибыль равна суммарной прибыли отобранных месторождений."
   ]
  },
  {
   "cell_type": "markdown",
   "metadata": {},
   "source": [
    "## Загрузка и подготовка данных"
   ]
  },
  {
   "cell_type": "code",
   "execution_count": 1,
   "metadata": {},
   "outputs": [],
   "source": [
    "import pandas as pd\n",
    "import seaborn as sns\n",
    "import numpy as np\n",
    "import matplotlib.pyplot as plt\n",
    "\n",
    "from sklearn.model_selection import train_test_split, RandomizedSearchCV\n",
    "from sklearn.metrics import mean_squared_error\n",
    "from sklearn.linear_model import LinearRegression"
   ]
  },
  {
   "cell_type": "markdown",
   "metadata": {},
   "source": [
    "### Загрузка данных"
   ]
  },
  {
   "cell_type": "code",
   "execution_count": 2,
   "metadata": {},
   "outputs": [],
   "source": [
    "# загрузка файлов с указанием разделителя и десятичного знака\n",
    "\n",
    "geo_data_0 = pd.read_csv('/datasets/geo_data_0.csv', delimiter=',')\n",
    "geo_data_1 = pd.read_csv('/datasets/geo_data_1.csv', delimiter=',')\n",
    "geo_data_2 = pd.read_csv('/datasets/geo_data_2.csv', delimiter=',')"
   ]
  },
  {
   "cell_type": "code",
   "execution_count": 3,
   "metadata": {},
   "outputs": [
    {
     "data": {
      "text/html": [
       "<div>\n",
       "<style scoped>\n",
       "    .dataframe tbody tr th:only-of-type {\n",
       "        vertical-align: middle;\n",
       "    }\n",
       "\n",
       "    .dataframe tbody tr th {\n",
       "        vertical-align: top;\n",
       "    }\n",
       "\n",
       "    .dataframe thead th {\n",
       "        text-align: right;\n",
       "    }\n",
       "</style>\n",
       "<table border=\"1\" class=\"dataframe\">\n",
       "  <thead>\n",
       "    <tr style=\"text-align: right;\">\n",
       "      <th></th>\n",
       "      <th>id</th>\n",
       "      <th>f0</th>\n",
       "      <th>f1</th>\n",
       "      <th>f2</th>\n",
       "      <th>product</th>\n",
       "    </tr>\n",
       "  </thead>\n",
       "  <tbody>\n",
       "    <tr>\n",
       "      <th>0</th>\n",
       "      <td>txEyH</td>\n",
       "      <td>0.705745</td>\n",
       "      <td>-0.497823</td>\n",
       "      <td>1.221170</td>\n",
       "      <td>105.280062</td>\n",
       "    </tr>\n",
       "    <tr>\n",
       "      <th>1</th>\n",
       "      <td>2acmU</td>\n",
       "      <td>1.334711</td>\n",
       "      <td>-0.340164</td>\n",
       "      <td>4.365080</td>\n",
       "      <td>73.037750</td>\n",
       "    </tr>\n",
       "    <tr>\n",
       "      <th>2</th>\n",
       "      <td>409Wp</td>\n",
       "      <td>1.022732</td>\n",
       "      <td>0.151990</td>\n",
       "      <td>1.419926</td>\n",
       "      <td>85.265647</td>\n",
       "    </tr>\n",
       "    <tr>\n",
       "      <th>3</th>\n",
       "      <td>iJLyR</td>\n",
       "      <td>-0.032172</td>\n",
       "      <td>0.139033</td>\n",
       "      <td>2.978566</td>\n",
       "      <td>168.620776</td>\n",
       "    </tr>\n",
       "    <tr>\n",
       "      <th>4</th>\n",
       "      <td>Xdl7t</td>\n",
       "      <td>1.988431</td>\n",
       "      <td>0.155413</td>\n",
       "      <td>4.751769</td>\n",
       "      <td>154.036647</td>\n",
       "    </tr>\n",
       "  </tbody>\n",
       "</table>\n",
       "</div>"
      ],
      "text/plain": [
       "      id        f0        f1        f2     product\n",
       "0  txEyH  0.705745 -0.497823  1.221170  105.280062\n",
       "1  2acmU  1.334711 -0.340164  4.365080   73.037750\n",
       "2  409Wp  1.022732  0.151990  1.419926   85.265647\n",
       "3  iJLyR -0.032172  0.139033  2.978566  168.620776\n",
       "4  Xdl7t  1.988431  0.155413  4.751769  154.036647"
      ]
     },
     "execution_count": 3,
     "metadata": {},
     "output_type": "execute_result"
    }
   ],
   "source": [
    "# выводим первые 5 строк geo_data_0\n",
    "\n",
    "geo_data_0.head()"
   ]
  },
  {
   "cell_type": "code",
   "execution_count": 4,
   "metadata": {},
   "outputs": [
    {
     "data": {
      "text/html": [
       "<div>\n",
       "<style scoped>\n",
       "    .dataframe tbody tr th:only-of-type {\n",
       "        vertical-align: middle;\n",
       "    }\n",
       "\n",
       "    .dataframe tbody tr th {\n",
       "        vertical-align: top;\n",
       "    }\n",
       "\n",
       "    .dataframe thead th {\n",
       "        text-align: right;\n",
       "    }\n",
       "</style>\n",
       "<table border=\"1\" class=\"dataframe\">\n",
       "  <thead>\n",
       "    <tr style=\"text-align: right;\">\n",
       "      <th></th>\n",
       "      <th>id</th>\n",
       "      <th>f0</th>\n",
       "      <th>f1</th>\n",
       "      <th>f2</th>\n",
       "      <th>product</th>\n",
       "    </tr>\n",
       "  </thead>\n",
       "  <tbody>\n",
       "    <tr>\n",
       "      <th>0</th>\n",
       "      <td>kBEdx</td>\n",
       "      <td>-15.001348</td>\n",
       "      <td>-8.276000</td>\n",
       "      <td>-0.005876</td>\n",
       "      <td>3.179103</td>\n",
       "    </tr>\n",
       "    <tr>\n",
       "      <th>1</th>\n",
       "      <td>62mP7</td>\n",
       "      <td>14.272088</td>\n",
       "      <td>-3.475083</td>\n",
       "      <td>0.999183</td>\n",
       "      <td>26.953261</td>\n",
       "    </tr>\n",
       "    <tr>\n",
       "      <th>2</th>\n",
       "      <td>vyE1P</td>\n",
       "      <td>6.263187</td>\n",
       "      <td>-5.948386</td>\n",
       "      <td>5.001160</td>\n",
       "      <td>134.766305</td>\n",
       "    </tr>\n",
       "    <tr>\n",
       "      <th>3</th>\n",
       "      <td>KcrkZ</td>\n",
       "      <td>-13.081196</td>\n",
       "      <td>-11.506057</td>\n",
       "      <td>4.999415</td>\n",
       "      <td>137.945408</td>\n",
       "    </tr>\n",
       "    <tr>\n",
       "      <th>4</th>\n",
       "      <td>AHL4O</td>\n",
       "      <td>12.702195</td>\n",
       "      <td>-8.147433</td>\n",
       "      <td>5.004363</td>\n",
       "      <td>134.766305</td>\n",
       "    </tr>\n",
       "  </tbody>\n",
       "</table>\n",
       "</div>"
      ],
      "text/plain": [
       "      id         f0         f1        f2     product\n",
       "0  kBEdx -15.001348  -8.276000 -0.005876    3.179103\n",
       "1  62mP7  14.272088  -3.475083  0.999183   26.953261\n",
       "2  vyE1P   6.263187  -5.948386  5.001160  134.766305\n",
       "3  KcrkZ -13.081196 -11.506057  4.999415  137.945408\n",
       "4  AHL4O  12.702195  -8.147433  5.004363  134.766305"
      ]
     },
     "execution_count": 4,
     "metadata": {},
     "output_type": "execute_result"
    }
   ],
   "source": [
    "# выводим первые 5 строк geo_data_1\n",
    "\n",
    "geo_data_1.head()"
   ]
  },
  {
   "cell_type": "code",
   "execution_count": 5,
   "metadata": {},
   "outputs": [
    {
     "data": {
      "text/html": [
       "<div>\n",
       "<style scoped>\n",
       "    .dataframe tbody tr th:only-of-type {\n",
       "        vertical-align: middle;\n",
       "    }\n",
       "\n",
       "    .dataframe tbody tr th {\n",
       "        vertical-align: top;\n",
       "    }\n",
       "\n",
       "    .dataframe thead th {\n",
       "        text-align: right;\n",
       "    }\n",
       "</style>\n",
       "<table border=\"1\" class=\"dataframe\">\n",
       "  <thead>\n",
       "    <tr style=\"text-align: right;\">\n",
       "      <th></th>\n",
       "      <th>id</th>\n",
       "      <th>f0</th>\n",
       "      <th>f1</th>\n",
       "      <th>f2</th>\n",
       "      <th>product</th>\n",
       "    </tr>\n",
       "  </thead>\n",
       "  <tbody>\n",
       "    <tr>\n",
       "      <th>0</th>\n",
       "      <td>fwXo0</td>\n",
       "      <td>-1.146987</td>\n",
       "      <td>0.963328</td>\n",
       "      <td>-0.828965</td>\n",
       "      <td>27.758673</td>\n",
       "    </tr>\n",
       "    <tr>\n",
       "      <th>1</th>\n",
       "      <td>WJtFt</td>\n",
       "      <td>0.262778</td>\n",
       "      <td>0.269839</td>\n",
       "      <td>-2.530187</td>\n",
       "      <td>56.069697</td>\n",
       "    </tr>\n",
       "    <tr>\n",
       "      <th>2</th>\n",
       "      <td>ovLUW</td>\n",
       "      <td>0.194587</td>\n",
       "      <td>0.289035</td>\n",
       "      <td>-5.586433</td>\n",
       "      <td>62.871910</td>\n",
       "    </tr>\n",
       "    <tr>\n",
       "      <th>3</th>\n",
       "      <td>q6cA6</td>\n",
       "      <td>2.236060</td>\n",
       "      <td>-0.553760</td>\n",
       "      <td>0.930038</td>\n",
       "      <td>114.572842</td>\n",
       "    </tr>\n",
       "    <tr>\n",
       "      <th>4</th>\n",
       "      <td>WPMUX</td>\n",
       "      <td>-0.515993</td>\n",
       "      <td>1.716266</td>\n",
       "      <td>5.899011</td>\n",
       "      <td>149.600746</td>\n",
       "    </tr>\n",
       "  </tbody>\n",
       "</table>\n",
       "</div>"
      ],
      "text/plain": [
       "      id        f0        f1        f2     product\n",
       "0  fwXo0 -1.146987  0.963328 -0.828965   27.758673\n",
       "1  WJtFt  0.262778  0.269839 -2.530187   56.069697\n",
       "2  ovLUW  0.194587  0.289035 -5.586433   62.871910\n",
       "3  q6cA6  2.236060 -0.553760  0.930038  114.572842\n",
       "4  WPMUX -0.515993  1.716266  5.899011  149.600746"
      ]
     },
     "execution_count": 5,
     "metadata": {},
     "output_type": "execute_result"
    }
   ],
   "source": [
    "# выводим первые 5 строк geo_data_2\n",
    "\n",
    "geo_data_2.head()"
   ]
  },
  {
   "cell_type": "markdown",
   "metadata": {},
   "source": [
    "### Предобработка данных"
   ]
  },
  {
   "cell_type": "code",
   "execution_count": 6,
   "metadata": {},
   "outputs": [
    {
     "name": "stdout",
     "output_type": "stream",
     "text": [
      "<class 'pandas.core.frame.DataFrame'>\n",
      "RangeIndex: 100000 entries, 0 to 99999\n",
      "Data columns (total 5 columns):\n",
      " #   Column   Non-Null Count   Dtype  \n",
      "---  ------   --------------   -----  \n",
      " 0   id       100000 non-null  object \n",
      " 1   f0       100000 non-null  float64\n",
      " 2   f1       100000 non-null  float64\n",
      " 3   f2       100000 non-null  float64\n",
      " 4   product  100000 non-null  float64\n",
      "dtypes: float64(4), object(1)\n",
      "memory usage: 3.8+ MB\n"
     ]
    }
   ],
   "source": [
    "# смотрим информацию про датасет geo_data_0\n",
    "\n",
    "geo_data_0.info()"
   ]
  },
  {
   "cell_type": "code",
   "execution_count": 7,
   "metadata": {},
   "outputs": [
    {
     "data": {
      "text/plain": [
       "id         0\n",
       "f0         0\n",
       "f1         0\n",
       "f2         0\n",
       "product    0\n",
       "dtype: int64"
      ]
     },
     "execution_count": 7,
     "metadata": {},
     "output_type": "execute_result"
    }
   ],
   "source": [
    "# смотрим количество пропусков\n",
    "\n",
    "geo_data_0.isna().sum()"
   ]
  },
  {
   "cell_type": "code",
   "execution_count": 8,
   "metadata": {},
   "outputs": [
    {
     "data": {
      "text/plain": [
       "0"
      ]
     },
     "execution_count": 8,
     "metadata": {},
     "output_type": "execute_result"
    }
   ],
   "source": [
    "# Выведем на экран количество строк-дубликатов\n",
    "\n",
    "geo_data_0.duplicated().sum()\n",
    "\n",
    "# Дубликатов не обнаружено"
   ]
  },
  {
   "cell_type": "code",
   "execution_count": 9,
   "metadata": {},
   "outputs": [
    {
     "data": {
      "text/html": [
       "<div>\n",
       "<style scoped>\n",
       "    .dataframe tbody tr th:only-of-type {\n",
       "        vertical-align: middle;\n",
       "    }\n",
       "\n",
       "    .dataframe tbody tr th {\n",
       "        vertical-align: top;\n",
       "    }\n",
       "\n",
       "    .dataframe thead th {\n",
       "        text-align: right;\n",
       "    }\n",
       "</style>\n",
       "<table border=\"1\" class=\"dataframe\">\n",
       "  <thead>\n",
       "    <tr style=\"text-align: right;\">\n",
       "      <th></th>\n",
       "      <th>f0</th>\n",
       "      <th>f1</th>\n",
       "      <th>f2</th>\n",
       "      <th>product</th>\n",
       "    </tr>\n",
       "  </thead>\n",
       "  <tbody>\n",
       "    <tr>\n",
       "      <th>count</th>\n",
       "      <td>100000.000000</td>\n",
       "      <td>100000.000000</td>\n",
       "      <td>100000.000000</td>\n",
       "      <td>100000.000000</td>\n",
       "    </tr>\n",
       "    <tr>\n",
       "      <th>mean</th>\n",
       "      <td>0.500419</td>\n",
       "      <td>0.250143</td>\n",
       "      <td>2.502647</td>\n",
       "      <td>92.500000</td>\n",
       "    </tr>\n",
       "    <tr>\n",
       "      <th>std</th>\n",
       "      <td>0.871832</td>\n",
       "      <td>0.504433</td>\n",
       "      <td>3.248248</td>\n",
       "      <td>44.288691</td>\n",
       "    </tr>\n",
       "    <tr>\n",
       "      <th>min</th>\n",
       "      <td>-1.408605</td>\n",
       "      <td>-0.848218</td>\n",
       "      <td>-12.088328</td>\n",
       "      <td>0.000000</td>\n",
       "    </tr>\n",
       "    <tr>\n",
       "      <th>25%</th>\n",
       "      <td>-0.072580</td>\n",
       "      <td>-0.200881</td>\n",
       "      <td>0.287748</td>\n",
       "      <td>56.497507</td>\n",
       "    </tr>\n",
       "    <tr>\n",
       "      <th>50%</th>\n",
       "      <td>0.502360</td>\n",
       "      <td>0.250252</td>\n",
       "      <td>2.515969</td>\n",
       "      <td>91.849972</td>\n",
       "    </tr>\n",
       "    <tr>\n",
       "      <th>75%</th>\n",
       "      <td>1.073581</td>\n",
       "      <td>0.700646</td>\n",
       "      <td>4.715088</td>\n",
       "      <td>128.564089</td>\n",
       "    </tr>\n",
       "    <tr>\n",
       "      <th>max</th>\n",
       "      <td>2.362331</td>\n",
       "      <td>1.343769</td>\n",
       "      <td>16.003790</td>\n",
       "      <td>185.364347</td>\n",
       "    </tr>\n",
       "  </tbody>\n",
       "</table>\n",
       "</div>"
      ],
      "text/plain": [
       "                  f0             f1             f2        product\n",
       "count  100000.000000  100000.000000  100000.000000  100000.000000\n",
       "mean        0.500419       0.250143       2.502647      92.500000\n",
       "std         0.871832       0.504433       3.248248      44.288691\n",
       "min        -1.408605      -0.848218     -12.088328       0.000000\n",
       "25%        -0.072580      -0.200881       0.287748      56.497507\n",
       "50%         0.502360       0.250252       2.515969      91.849972\n",
       "75%         1.073581       0.700646       4.715088     128.564089\n",
       "max         2.362331       1.343769      16.003790     185.364347"
      ]
     },
     "execution_count": 9,
     "metadata": {},
     "output_type": "execute_result"
    }
   ],
   "source": [
    "# Проверка основных статистик\n",
    "\n",
    "geo_data_0.describe()"
   ]
  },
  {
   "cell_type": "code",
   "execution_count": 10,
   "metadata": {},
   "outputs": [
    {
     "data": {
      "image/png": "[encoded data removed]",
      "text/plain": [
       "<Figure size 720x576 with 2 Axes>"
      ]
     },
     "metadata": {
      "needs_background": "light"
     },
     "output_type": "display_data"
    }
   ],
   "source": [
    "correlation_matrix = geo_data_0.corr()\n",
    "plt.figure(figsize=(10, 8))\n",
    "sns.heatmap(correlation_matrix, annot=True, fmt='.2f', cmap='coolwarm', square=True)\n",
    "plt.title('Корреляционная матрица')\n",
    "plt.show()\n",
    "   "
   ]
  },
  {
   "cell_type": "code",
   "execution_count": 11,
   "metadata": {},
   "outputs": [
    {
     "name": "stdout",
     "output_type": "stream",
     "text": [
      "<class 'pandas.core.frame.DataFrame'>\n",
      "RangeIndex: 100000 entries, 0 to 99999\n",
      "Data columns (total 5 columns):\n",
      " #   Column   Non-Null Count   Dtype  \n",
      "---  ------   --------------   -----  \n",
      " 0   id       100000 non-null  object \n",
      " 1   f0       100000 non-null  float64\n",
      " 2   f1       100000 non-null  float64\n",
      " 3   f2       100000 non-null  float64\n",
      " 4   product  100000 non-null  float64\n",
      "dtypes: float64(4), object(1)\n",
      "memory usage: 3.8+ MB\n"
     ]
    }
   ],
   "source": [
    "# смотрим информацию про датасет geo_data_1\n",
    "\n",
    "geo_data_1.info()"
   ]
  },
  {
   "cell_type": "code",
   "execution_count": 12,
   "metadata": {},
   "outputs": [
    {
     "data": {
      "text/plain": [
       "id         0\n",
       "f0         0\n",
       "f1         0\n",
       "f2         0\n",
       "product    0\n",
       "dtype: int64"
      ]
     },
     "execution_count": 12,
     "metadata": {},
     "output_type": "execute_result"
    }
   ],
   "source": [
    "# смотрим количество пропусков\n",
    "\n",
    "geo_data_1.isna().sum()"
   ]
  },
  {
   "cell_type": "code",
   "execution_count": 13,
   "metadata": {},
   "outputs": [
    {
     "data": {
      "text/plain": [
       "0"
      ]
     },
     "execution_count": 13,
     "metadata": {},
     "output_type": "execute_result"
    }
   ],
   "source": [
    "# Выведем на экран количество строк-дубликатов\n",
    "\n",
    "geo_data_1.duplicated().sum()\n",
    "\n",
    "# Дубликатов не обнаружено"
   ]
  },
  {
   "cell_type": "code",
   "execution_count": 14,
   "metadata": {},
   "outputs": [
    {
     "data": {
      "text/html": [
       "<div>\n",
       "<style scoped>\n",
       "    .dataframe tbody tr th:only-of-type {\n",
       "        vertical-align: middle;\n",
       "    }\n",
       "\n",
       "    .dataframe tbody tr th {\n",
       "        vertical-align: top;\n",
       "    }\n",
       "\n",
       "    .dataframe thead th {\n",
       "        text-align: right;\n",
       "    }\n",
       "</style>\n",
       "<table border=\"1\" class=\"dataframe\">\n",
       "  <thead>\n",
       "    <tr style=\"text-align: right;\">\n",
       "      <th></th>\n",
       "      <th>f0</th>\n",
       "      <th>f1</th>\n",
       "      <th>f2</th>\n",
       "      <th>product</th>\n",
       "    </tr>\n",
       "  </thead>\n",
       "  <tbody>\n",
       "    <tr>\n",
       "      <th>count</th>\n",
       "      <td>100000.000000</td>\n",
       "      <td>100000.000000</td>\n",
       "      <td>100000.000000</td>\n",
       "      <td>100000.000000</td>\n",
       "    </tr>\n",
       "    <tr>\n",
       "      <th>mean</th>\n",
       "      <td>1.141296</td>\n",
       "      <td>-4.796579</td>\n",
       "      <td>2.494541</td>\n",
       "      <td>68.825000</td>\n",
       "    </tr>\n",
       "    <tr>\n",
       "      <th>std</th>\n",
       "      <td>8.965932</td>\n",
       "      <td>5.119872</td>\n",
       "      <td>1.703572</td>\n",
       "      <td>45.944423</td>\n",
       "    </tr>\n",
       "    <tr>\n",
       "      <th>min</th>\n",
       "      <td>-31.609576</td>\n",
       "      <td>-26.358598</td>\n",
       "      <td>-0.018144</td>\n",
       "      <td>0.000000</td>\n",
       "    </tr>\n",
       "    <tr>\n",
       "      <th>25%</th>\n",
       "      <td>-6.298551</td>\n",
       "      <td>-8.267985</td>\n",
       "      <td>1.000021</td>\n",
       "      <td>26.953261</td>\n",
       "    </tr>\n",
       "    <tr>\n",
       "      <th>50%</th>\n",
       "      <td>1.153055</td>\n",
       "      <td>-4.813172</td>\n",
       "      <td>2.011479</td>\n",
       "      <td>57.085625</td>\n",
       "    </tr>\n",
       "    <tr>\n",
       "      <th>75%</th>\n",
       "      <td>8.621015</td>\n",
       "      <td>-1.332816</td>\n",
       "      <td>3.999904</td>\n",
       "      <td>107.813044</td>\n",
       "    </tr>\n",
       "    <tr>\n",
       "      <th>max</th>\n",
       "      <td>29.421755</td>\n",
       "      <td>18.734063</td>\n",
       "      <td>5.019721</td>\n",
       "      <td>137.945408</td>\n",
       "    </tr>\n",
       "  </tbody>\n",
       "</table>\n",
       "</div>"
      ],
      "text/plain": [
       "                  f0             f1             f2        product\n",
       "count  100000.000000  100000.000000  100000.000000  100000.000000\n",
       "mean        1.141296      -4.796579       2.494541      68.825000\n",
       "std         8.965932       5.119872       1.703572      45.944423\n",
       "min       -31.609576     -26.358598      -0.018144       0.000000\n",
       "25%        -6.298551      -8.267985       1.000021      26.953261\n",
       "50%         1.153055      -4.813172       2.011479      57.085625\n",
       "75%         8.621015      -1.332816       3.999904     107.813044\n",
       "max        29.421755      18.734063       5.019721     137.945408"
      ]
     },
     "execution_count": 14,
     "metadata": {},
     "output_type": "execute_result"
    }
   ],
   "source": [
    "# Проверка основных статистик\n",
    "\n",
    "geo_data_1.describe()"
   ]
  },
  {
   "cell_type": "code",
   "execution_count": 15,
   "metadata": {},
   "outputs": [
    {
     "data": {
      "image/png": "[encoded data removed]",
      "text/plain": [
       "<Figure size 720x576 with 2 Axes>"
      ]
     },
     "metadata": {
      "needs_background": "light"
     },
     "output_type": "display_data"
    }
   ],
   "source": [
    "correlation_matrix = geo_data_1.corr()\n",
    "plt.figure(figsize=(10, 8))\n",
    "sns.heatmap(correlation_matrix, annot=True, fmt='.2f', cmap='coolwarm', square=True)\n",
    "plt.title('Корреляционная матрица')\n",
    "plt.show()\n",
    "   "
   ]
  },
  {
   "cell_type": "code",
   "execution_count": 16,
   "metadata": {},
   "outputs": [
    {
     "name": "stdout",
     "output_type": "stream",
     "text": [
      "<class 'pandas.core.frame.DataFrame'>\n",
      "RangeIndex: 100000 entries, 0 to 99999\n",
      "Data columns (total 5 columns):\n",
      " #   Column   Non-Null Count   Dtype  \n",
      "---  ------   --------------   -----  \n",
      " 0   id       100000 non-null  object \n",
      " 1   f0       100000 non-null  float64\n",
      " 2   f1       100000 non-null  float64\n",
      " 3   f2       100000 non-null  float64\n",
      " 4   product  100000 non-null  float64\n",
      "dtypes: float64(4), object(1)\n",
      "memory usage: 3.8+ MB\n"
     ]
    }
   ],
   "source": [
    "# смотрим информацию про датасет geo_data_2\n",
    "\n",
    "geo_data_2.info()"
   ]
  },
  {
   "cell_type": "code",
   "execution_count": 17,
   "metadata": {},
   "outputs": [
    {
     "data": {
      "text/plain": [
       "id         0\n",
       "f0         0\n",
       "f1         0\n",
       "f2         0\n",
       "product    0\n",
       "dtype: int64"
      ]
     },
     "execution_count": 17,
     "metadata": {},
     "output_type": "execute_result"
    }
   ],
   "source": [
    "# смотрим количество пропусков\n",
    "\n",
    "geo_data_2.isna().sum()"
   ]
  },
  {
   "cell_type": "code",
   "execution_count": 18,
   "metadata": {},
   "outputs": [
    {
     "data": {
      "text/plain": [
       "0"
      ]
     },
     "execution_count": 18,
     "metadata": {},
     "output_type": "execute_result"
    }
   ],
   "source": [
    "# Выведем на экран количество строк-дубликатов\n",
    "\n",
    "geo_data_2.duplicated().sum()\n",
    "\n",
    "# Дубликатов не обнаружено"
   ]
  },
  {
   "cell_type": "code",
   "execution_count": 19,
   "metadata": {
    "scrolled": true
   },
   "outputs": [
    {
     "data": {
      "text/html": [
       "<div>\n",
       "<style scoped>\n",
       "    .dataframe tbody tr th:only-of-type {\n",
       "        vertical-align: middle;\n",
       "    }\n",
       "\n",
       "    .dataframe tbody tr th {\n",
       "        vertical-align: top;\n",
       "    }\n",
       "\n",
       "    .dataframe thead th {\n",
       "        text-align: right;\n",
       "    }\n",
       "</style>\n",
       "<table border=\"1\" class=\"dataframe\">\n",
       "  <thead>\n",
       "    <tr style=\"text-align: right;\">\n",
       "      <th></th>\n",
       "      <th>f0</th>\n",
       "      <th>f1</th>\n",
       "      <th>f2</th>\n",
       "      <th>product</th>\n",
       "    </tr>\n",
       "  </thead>\n",
       "  <tbody>\n",
       "    <tr>\n",
       "      <th>count</th>\n",
       "      <td>100000.000000</td>\n",
       "      <td>100000.000000</td>\n",
       "      <td>100000.000000</td>\n",
       "      <td>100000.000000</td>\n",
       "    </tr>\n",
       "    <tr>\n",
       "      <th>mean</th>\n",
       "      <td>0.002023</td>\n",
       "      <td>-0.002081</td>\n",
       "      <td>2.495128</td>\n",
       "      <td>95.000000</td>\n",
       "    </tr>\n",
       "    <tr>\n",
       "      <th>std</th>\n",
       "      <td>1.732045</td>\n",
       "      <td>1.730417</td>\n",
       "      <td>3.473445</td>\n",
       "      <td>44.749921</td>\n",
       "    </tr>\n",
       "    <tr>\n",
       "      <th>min</th>\n",
       "      <td>-8.760004</td>\n",
       "      <td>-7.084020</td>\n",
       "      <td>-11.970335</td>\n",
       "      <td>0.000000</td>\n",
       "    </tr>\n",
       "    <tr>\n",
       "      <th>25%</th>\n",
       "      <td>-1.162288</td>\n",
       "      <td>-1.174820</td>\n",
       "      <td>0.130359</td>\n",
       "      <td>59.450441</td>\n",
       "    </tr>\n",
       "    <tr>\n",
       "      <th>50%</th>\n",
       "      <td>0.009424</td>\n",
       "      <td>-0.009482</td>\n",
       "      <td>2.484236</td>\n",
       "      <td>94.925613</td>\n",
       "    </tr>\n",
       "    <tr>\n",
       "      <th>75%</th>\n",
       "      <td>1.158535</td>\n",
       "      <td>1.163678</td>\n",
       "      <td>4.858794</td>\n",
       "      <td>130.595027</td>\n",
       "    </tr>\n",
       "    <tr>\n",
       "      <th>max</th>\n",
       "      <td>7.238262</td>\n",
       "      <td>7.844801</td>\n",
       "      <td>16.739402</td>\n",
       "      <td>190.029838</td>\n",
       "    </tr>\n",
       "  </tbody>\n",
       "</table>\n",
       "</div>"
      ],
      "text/plain": [
       "                  f0             f1             f2        product\n",
       "count  100000.000000  100000.000000  100000.000000  100000.000000\n",
       "mean        0.002023      -0.002081       2.495128      95.000000\n",
       "std         1.732045       1.730417       3.473445      44.749921\n",
       "min        -8.760004      -7.084020     -11.970335       0.000000\n",
       "25%        -1.162288      -1.174820       0.130359      59.450441\n",
       "50%         0.009424      -0.009482       2.484236      94.925613\n",
       "75%         1.158535       1.163678       4.858794     130.595027\n",
       "max         7.238262       7.844801      16.739402     190.029838"
      ]
     },
     "execution_count": 19,
     "metadata": {},
     "output_type": "execute_result"
    }
   ],
   "source": [
    "# Проверка основных статистик\n",
    "\n",
    "geo_data_2.describe()"
   ]
  },
  {
   "cell_type": "code",
   "execution_count": 20,
   "metadata": {},
   "outputs": [
    {
     "data": {
      "image/png": "[encoded data removed]",
      "text/plain": [
       "<Figure size 720x576 with 2 Axes>"
      ]
     },
     "metadata": {
      "needs_background": "light"
     },
     "output_type": "display_data"
    }
   ],
   "source": [
    "correlation_matrix = geo_data_2.corr()\n",
    "plt.figure(figsize=(10, 8))\n",
    "sns.heatmap(correlation_matrix, annot=True, fmt='.2f', cmap='coolwarm', square=True)\n",
    "plt.title('Корреляционная матрица')\n",
    "plt.show()\n",
    "   "
   ]
  },
  {
   "cell_type": "markdown",
   "metadata": {},
   "source": [
    "**Вывод:**\n",
    "\n",
    "Мы провели осмотр и первоначальную обработку данных. Дубликатов не выявлено, тип данных пригоден для анализ. Во втором датасете (geo_data_1) обнаружена высокая корреляция признака f2 с продуктом."
   ]
  },
  {
   "cell_type": "markdown",
   "metadata": {},
   "source": [
    "## Обучение и проверка модели"
   ]
  },
  {
   "cell_type": "markdown",
   "metadata": {},
   "source": [
    "**geo_data_0**"
   ]
  },
  {
   "cell_type": "code",
   "execution_count": 21,
   "metadata": {},
   "outputs": [
    {
     "name": "stdout",
     "output_type": "stream",
     "text": [
      "Средний запас предсказанного сырья: 92.40\n",
      "RMSE модели: 37.76\n"
     ]
    }
   ],
   "source": [
    "# Разбейте данные на обучающую и валидационную выборки в соотношении 75:25\n",
    "# Константы\n",
    "RANDOM_STATE = 42\n",
    "TEST_SIZE = 0.25\n",
    "\n",
    "# Делим на тренировочную и тестовую выборки и удаляем целевой признак из датасета\n",
    "X_train0, X_test0, y_train0, y_test0 = train_test_split(\n",
    "    geo_data_0.drop(['product', 'id'], axis=1),\n",
    "    geo_data_0['product'],\n",
    "    test_size=TEST_SIZE,\n",
    "    random_state=RANDOM_STATE,\n",
    ")\n",
    "\n",
    "# Обучите модель и сделайте предсказания на валидационной выборке\n",
    "\n",
    "# Создаем и обучаем модель линейной регрессии\n",
    "model0 = LinearRegression()\n",
    "model0.fit(X_train0, y_train0)\n",
    "\n",
    "# Делаем предсказания на тестовой (валидационной) выборке\n",
    "predictions0 = model0.predict(X_test0)\n",
    "# Сохраняем предсказания валидационной выборки\n",
    "predictions_df0 = pd.DataFrame({\n",
    "    'Predicted': predictions0,\n",
    "    'Actual': y_test0\n",
    "})\n",
    "\n",
    "# Сохраняем DataFrame в файл\n",
    "predictions_df0.to_csv('predictions0.csv', index=False)\n",
    "# Рассчитываем средний запас предсказанного сырья\n",
    "mean_predicted_reserves0 = np.mean(predictions0)\n",
    "\n",
    "# Рассчитываем RMSE модели\n",
    "rmse = np.sqrt(mean_squared_error(y_test0, predictions0))\n",
    "\n",
    "# Печатаем результаты на экране\n",
    "print(f\"Средний запас предсказанного сырья: {mean_predicted_reserves0:.2f}\")\n",
    "print(f\"RMSE модели: {rmse:.2f}\")"
   ]
  },
  {
   "cell_type": "markdown",
   "metadata": {},
   "source": [
    "**geo_data_1**"
   ]
  },
  {
   "cell_type": "code",
   "execution_count": 22,
   "metadata": {},
   "outputs": [
    {
     "name": "stdout",
     "output_type": "stream",
     "text": [
      "Средний запас предсказанного сырья: 68.82\n",
      "RMSE модели: 0.89\n"
     ]
    }
   ],
   "source": [
    "# Разбейте данные на обучающую и валидационную выборки в соотношении 75:25\n",
    "# Константы\n",
    "RANDOM_STATE = 42\n",
    "TEST_SIZE = 0.25\n",
    "\n",
    "# Делим на тренировочную и тестовую выборки \n",
    "X_train1, X_test1, y_train1, y_test1 = train_test_split(\n",
    "    geo_data_1.drop(['product', 'id'], axis=1),\n",
    "    geo_data_1['product'],\n",
    "    test_size=TEST_SIZE,\n",
    "    random_state=RANDOM_STATE,\n",
    "    stratify=geo_data_1['product']\n",
    ")\n",
    "\n",
    "# Обучите модель и сделайте предсказания на валидационной выборке\n",
    "\n",
    "# Создаем и обучаем модель линейной регрессии\n",
    "model1 = LinearRegression()\n",
    "model1.fit(X_train1, y_train1)\n",
    "\n",
    "# Делаем предсказания на тестовой (валидационной) выборке\n",
    "predictions1 = model1.predict(X_test1)\n",
    "# Сохраняем предсказания валидационной выборки\n",
    "predictions_df1 = pd.DataFrame({\n",
    "    'Predicted': predictions1,\n",
    "    'Actual': y_test1\n",
    "})\n",
    "\n",
    "# Сохраняем DataFrame в файл\n",
    "predictions_df1.to_csv('predictions1.csv', index=False)\n",
    "# Рассчитываем средний запас предсказанного сырья\n",
    "mean_predicted_reserves1 = np.mean(predictions1)\n",
    "\n",
    "# Рассчитываем RMSE модели\n",
    "rmse = np.sqrt(mean_squared_error(y_test1, predictions1))\n",
    "\n",
    "# Печатаем результаты на экране\n",
    "print(f\"Средний запас предсказанного сырья: {mean_predicted_reserves1:.2f}\")\n",
    "print(f\"RMSE модели: {rmse:.2f}\")\n"
   ]
  },
  {
   "cell_type": "markdown",
   "metadata": {},
   "source": [
    "**geo_data_2**"
   ]
  },
  {
   "cell_type": "code",
   "execution_count": 23,
   "metadata": {},
   "outputs": [
    {
     "name": "stdout",
     "output_type": "stream",
     "text": [
      "Средний запас предсказанного сырья: 94.77\n",
      "RMSE модели: 40.15\n"
     ]
    }
   ],
   "source": [
    "# Разбейте данные на обучающую и валидационную выборки в соотношении 75:25\n",
    "# Константы\n",
    "RANDOM_STATE = 42\n",
    "TEST_SIZE = 0.25\n",
    "\n",
    "# Делим на тренировочную и тестовую выборки и удаляем целевой признак из датасета\n",
    "X_train2, X_test2, y_train2, y_test2 = train_test_split(\n",
    "    geo_data_2.drop(['product', 'id'], axis=1),\n",
    "    geo_data_2['product'],\n",
    "    test_size=TEST_SIZE,\n",
    "    random_state=RANDOM_STATE,\n",
    ")\n",
    "\n",
    "# Обучите модель и сделайте предсказания на валидационной выборке\n",
    "\n",
    "# Создаем и обучаем модель линейной регрессии\n",
    "model2 = LinearRegression()\n",
    "model2.fit(X_train2, y_train2)\n",
    "\n",
    "# Делаем предсказания на тестовой (валидационной) выборке\n",
    "predictions2 = model2.predict(X_test2)\n",
    "# Сохраняем предсказания валидационной выборки\n",
    "predictions_df2 = pd.DataFrame({\n",
    "    'Predicted': predictions2,\n",
    "    'Actual': y_test2\n",
    "})\n",
    "\n",
    "# Сохраняем DataFrame в файл\n",
    "predictions_df2.to_csv('predictions2.csv', index=False)\n",
    "# Рассчитываем средний запас предсказанного сырья\n",
    "mean_predicted_reserves2 = np.mean(predictions2)\n",
    "\n",
    "# Рассчитываем RMSE модели\n",
    "rmse = np.sqrt(mean_squared_error(y_test2, predictions2))\n",
    "\n",
    "# Печатаем результаты на экране\n",
    "print(f\"Средний запас предсказанного сырья: {mean_predicted_reserves2:.2f}\")\n",
    "print(f\"RMSE модели: {rmse:.2f}\")"
   ]
  },
  {
   "cell_type": "markdown",
   "metadata": {},
   "source": [
    "### Анализ моделей\n",
    "\n",
    "#### Модель 0 (geo_data_0)\n",
    "- Средний запас предсказанного сырья: 92.40\n",
    "- RMSE модели: 37.76\n",
    "\n",
    "Выводы: Модель имеет относительно высокий средний запас предсказанного сырья, но также высокий RMSE, что указывает на большую ошибку в предсказаниях. Это может означать, что модель часто дает неточные предсказания, что делает её мало пригодной для практического использования.\n",
    "\n",
    "#### Модель 1 (geo_data_1)\n",
    "- Средний запас предсказанного сырья: 68.82\n",
    "- RMSE модели: 0.89\n",
    "\n",
    "Выводы: Эта модель демонстрирует очень низкий RMSE, что указывает на высокую точность предсказания. Однако, средний запас предсказанного сырья значительно ниже по сравнению с другими моделями. Возможно, эта модель имеет снижение средней ошибки за счет меньших вариаций в предсказаниях, но также может недооценивать общий запас сырья.\n",
    "\n",
    "#### Модель 2 (geo_data_2)\n",
    "- Средний запас предсказанного сырья: 94.77\n",
    "- RMSE модели: 40.15\n",
    "\n",
    "Выводы: Модель имеет самый высокий средний запас предсказанного сырья, но также самый высокий RMSE среди всех рассмотренных моделей. Высокий RMSE указывает на значительную ошибку в предсказаниях, что делает её менее надежной для точных расчетов.\n",
    "\n",
    "### Сравнительный анализ\n",
    "- Точность (RMSE): Модель 1 демонстрирует наивысшую точность предсказаний (низкий RMSE). \n",
    "- Средний запас предсказанного сырья: Модель 2 демонстрирует наиболее высокий средний запас, указывая на то, что модель предсказывает наибольшее количество сырья. \n",
    "\n",
    "С учетом этих данных:\n",
    "- Модель 1 может быть предпочтительной, если ключевым критерием является точность предсказаний. Она демонстрирует очень низкий RMSE, что является хорошим показателем надежности предсказаний.\n",
    "- Модель 2 может быть полезной, если ориентироваться на максимальный предсказанный запас сырья, несмотря на более высокий RMSE.\n",
    "\n",
    "### Рекомендация\n",
    "Рекомендуется выбирать модель исходя из конкретных приоритетов задачи. Если важна точность предсказаний и минимальные ошибки, то лучше использовать Модель 1. Если же ключевым критерием является оценка максимального запаса сырья, стоит рассмотреть Модель 2, учитывая при этом её недостатки в точности."
   ]
  },
  {
   "cell_type": "markdown",
   "metadata": {},
   "source": [
    "## Подготовка к расчёту прибыли"
   ]
  },
  {
   "cell_type": "code",
   "execution_count": 24,
   "metadata": {},
   "outputs": [],
   "source": [
    "# Общие характеристики\n",
    "n_points = 500  # Количество точек исследования в регионе\n",
    "n_best_points = 200  # Количество точек для разработки\n",
    "\n",
    "# Финансовые параметры\n",
    "budget = 10_000_000_000  # Бюджет на разработку скважин (в рублях)\n",
    "revenue_per_unit = 450_000  # Доход с одной тысячи баррелей (в рублях)"
   ]
  },
  {
   "cell_type": "code",
   "execution_count": 25,
   "metadata": {},
   "outputs": [
    {
     "data": {
      "text/plain": [
       "50000000.0"
      ]
     },
     "execution_count": 25,
     "metadata": {},
     "output_type": "execute_result"
    }
   ],
   "source": [
    "# Посчитаем капитальные затраты на одну скважину (capex_per_well), учитывая, что бюджет делится прямо на количество разрабатываемых скважин.\n",
    "capex_per_well = budget / n_best_points\n",
    "capex_per_well"
   ]
  },
  {
   "cell_type": "code",
   "execution_count": 26,
   "metadata": {},
   "outputs": [
    {
     "data": {
      "text/plain": [
       "111.11111111111111"
      ]
     },
     "execution_count": 26,
     "metadata": {},
     "output_type": "execute_result"
    }
   ],
   "source": [
    "# Рассчитаем требуемый объём сырья для одной скважины, чтобы обеспечить безубыточность\n",
    "required_volume = capex_per_well / revenue_per_unit\n",
    "required_volume"
   ]
  },
  {
   "cell_type": "markdown",
   "metadata": {},
   "source": [
    "**Вывод:** Каждая из выбранных скважин должна обеспечивать минимум 111.11 тыс. баррелей сырья, чтобы разработка была безубыточной."
   ]
  },
  {
   "cell_type": "code",
   "execution_count": 27,
   "metadata": {},
   "outputs": [],
   "source": [
    "avg_reserve_model_0 = 92.40\n",
    "avg_reserve_model_1 = 68.82\n",
    "avg_reserve_model_2 = 94.77\n",
    "\n",
    "# RMSE каждой модели\n",
    "rmse_model_0 = 37.76\n",
    "rmse_model_1 = 0.89\n",
    "rmse_model_2 = 40.15"
   ]
  },
  {
   "cell_type": "code",
   "execution_count": 28,
   "metadata": {},
   "outputs": [
    {
     "name": "stdout",
     "output_type": "stream",
     "text": [
      "Регион 0 прибыльный: False\n",
      "Регион 1 прибыльный: False\n",
      "Регион 2 прибыльный: False\n"
     ]
    }
   ],
   "source": [
    "# Проведение анализа безубыточности для каждого региона\n",
    "def is_region_profitable(avg_reserve, required_volume):\n",
    "    return avg_reserve >= required_volume\n",
    "\n",
    "# Средний запас в тысячах баррелей по регионам\n",
    "avg_reserve_region_0 = 92.40\n",
    "avg_reserve_region_1 = 68.82\n",
    "avg_reserve_region_2 = 94.77\n",
    "\n",
    "# Проверка прибыльности регионов\n",
    "profitability_region_0 = is_region_profitable(avg_reserve_region_0, required_volume)\n",
    "profitability_region_1 = is_region_profitable(avg_reserve_region_1, required_volume)\n",
    "profitability_region_2 = is_region_profitable(avg_reserve_region_2, required_volume)\n",
    "\n",
    "print(f\"Регион 0 прибыльный: {profitability_region_0}\")\n",
    "print(f\"Регион 1 прибыльный: {profitability_region_1}\")\n",
    "print(f\"Регион 2 прибыльный: {profitability_region_2}\")\n"
   ]
  },
  {
   "cell_type": "markdown",
   "metadata": {},
   "source": [
    "## Расчёт прибыли и рисков "
   ]
  },
  {
   "cell_type": "code",
   "execution_count": 29,
   "metadata": {},
   "outputs": [],
   "source": [
    "# Рассчитываем капитальные затраты на одну скважину\n",
    "capex_per_well = budget / n_best_points\n",
    "\n",
    "# Рассчитываем требуемый объём сырья для одной скважины, чтобы обеспечить безубыточность\n",
    "required_volume = capex_per_well / revenue_per_unit\n",
    "\n",
    "# Функция для расчета прибыли\n",
    "def calculate_profit(predictions0, target_volumes, budget, revenue_per_unit, n_best_points):\n",
    "    # Выбираем индексы скважин с максимальными предсказаниями\n",
    "    indices = np.argsort(predictions0)[-n_best_points:]\n",
    "\n",
    "    # Рассчитываем общий объём сырья\n",
    "    total_target_volume = target_volumes.iloc[indices].sum()  # Для pandas Series или DataFrame\n",
    "\n",
    "    # Рассчёт прибыли\n",
    "    total_revenue = total_target_volume * revenue_per_unit  # Всего доход\n",
    "    profit = total_revenue - budget  # Общая прибыль\n",
    "    \n",
    "    return profit"
   ]
  },
  {
   "cell_type": "markdown",
   "metadata": {},
   "source": [
    "## Посчитайте риски и прибыль для каждого региона:"
   ]
  },
  {
   "cell_type": "code",
   "execution_count": 30,
   "metadata": {},
   "outputs": [],
   "source": [
    "# Константы\n",
    "RANDOM_STATE = 42\n",
    "TEST_SIZE = 0.25"
   ]
  },
  {
   "cell_type": "code",
   "execution_count": 31,
   "metadata": {},
   "outputs": [
    {
     "name": "stdout",
     "output_type": "stream",
     "text": [
      "Средняя прибыль: 408392545.66 рублей\n",
      "95%-й доверительный интервал: [-106972844.49, 896032125.67] рублей\n",
      "Риск убытков: 5.90%\n"
     ]
    }
   ],
   "source": [
    "# Функция для Bootstrap\n",
    "def bootstrap_profits(predictions, target_volumes, budget, revenue_per_unit, n_best_points, n_iterations=1000):\n",
    "    profits = []\n",
    "    for _ in range(n_iterations):\n",
    "        sample_indices = np.random.choice(len(predictions), size=500, replace=True)\n",
    "        sample_predictions = predictions[sample_indices]\n",
    "        sample_targets = target_volumes.iloc[sample_indices]  # Используем iloc для корректного индексации\n",
    "        \n",
    "        profit = calculate_profit(sample_predictions, sample_targets, budget, revenue_per_unit, n_best_points)\n",
    "        profits.append(profit)\n",
    "    \n",
    "    return np.array(profits)\n",
    "    \n",
    "# Применяем метод Bootstrap\n",
    "bootstrapped_profits = bootstrap_profits(predictions0, y_test0, budget, revenue_per_unit, n_best_points, n_iterations=1000)\n",
    "\n",
    "# Находим среднюю прибыль\n",
    "mean_profit = np.mean(bootstrapped_profits)\n",
    "\n",
    "# Находим 95%-й доверительный интервал\n",
    "lower_bound = np.percentile(bootstrapped_profits, 2.5)\n",
    "upper_bound = np.percentile(bootstrapped_profits, 97.5)\n",
    "\n",
    "# Находим риск убытков\n",
    "risk_of_loss = np.mean(bootstrapped_profits < 0)\n",
    "\n",
    "print(f\"Средняя прибыль: {mean_profit:.2f} рублей\")\n",
    "print(f\"95%-й доверительный интервал: [{lower_bound:.2f}, {upper_bound:.2f}] рублей\")\n",
    "print(f\"Риск убытков: {risk_of_loss * 100:.2f}%\")\n"
   ]
  },
  {
   "cell_type": "code",
   "execution_count": 32,
   "metadata": {},
   "outputs": [
    {
     "name": "stdout",
     "output_type": "stream",
     "text": [
      "Средняя прибыль: 445289448.44 рублей\n",
      "95%-й доверительный интервал: [43851787.49, 840978414.21] рублей\n",
      "Риск убытков: 1.70%\n"
     ]
    }
   ],
   "source": [
    "# регион 1\n",
    "\n",
    "\n",
    "# Применяем метод Bootstrap\n",
    "\n",
    "bootstrapped_profits = bootstrap_profits(predictions1, y_test1, budget, revenue_per_unit, n_best_points, n_iterations=1000)\n",
    "\n",
    "# Находим среднюю прибыль\n",
    "mean_profit1 = np.mean(bootstrapped_profits)\n",
    "\n",
    "# Находим 95%-й доверительный интервал\n",
    "lower_bound = np.percentile(bootstrapped_profits, 2.5)\n",
    "upper_bound = np.percentile(bootstrapped_profits, 97.5)\n",
    "\n",
    "# Находим риск убытков\n",
    "risk_of_loss = np.mean(bootstrapped_profits < 0)\n",
    "\n",
    "print(f\"Средняя прибыль: {mean_profit1:.2f} рублей\")\n",
    "print(f\"95%-й доверительный интервал: [{lower_bound:.2f}, {upper_bound:.2f}] рублей\")\n",
    "print(f\"Риск убытков: {risk_of_loss * 100:.2f}%\")\n"
   ]
  },
  {
   "cell_type": "code",
   "execution_count": 33,
   "metadata": {},
   "outputs": [
    {
     "name": "stdout",
     "output_type": "stream",
     "text": [
      "Средняя прибыль: 369592032.94 рублей\n",
      "95%-й доверительный интервал: [-164006419.15, 888326395.54] рублей\n",
      "Риск убытков: 9.50%\n"
     ]
    }
   ],
   "source": [
    "# регион 2\n",
    "\n",
    "# Применяем метод Bootstrap\n",
    "\n",
    "bootstrapped_profits = bootstrap_profits(predictions2, y_test2, budget, revenue_per_unit, n_best_points, n_iterations=1000)\n",
    "\n",
    "# Находим среднюю прибыль\n",
    "mean_profit = np.mean(bootstrapped_profits)\n",
    "\n",
    "# Находим 95%-й доверительный интервал\n",
    "lower_bound = np.percentile(bootstrapped_profits, 2.5)\n",
    "upper_bound = np.percentile(bootstrapped_profits, 97.5)\n",
    "\n",
    "# Находим риск убытков\n",
    "risk_of_loss = np.mean(bootstrapped_profits < 0)\n",
    "\n",
    "print(f\"Средняя прибыль: {mean_profit:.2f} рублей\")\n",
    "print(f\"95%-й доверительный интервал: [{lower_bound:.2f}, {upper_bound:.2f}] рублей\")\n",
    "print(f\"Риск убытков: {risk_of_loss * 100:.2f}%\")\n"
   ]
  },
  {
   "cell_type": "markdown",
   "metadata": {},
   "source": [
    "**Вывод:**\n",
    "\n",
    "Для разработки лучше всего подходит регион geo_data_1 как регион, в котором получается максимальная прибыль и минимальный риск убытков"
   ]
  }
 ],
 "metadata": {
  "ExecuteTimeLog": [
   {
    "duration": 1297,
    "start_time": "2024-11-02T13:22:21.148Z"
   },
   {
    "duration": 1627,
    "start_time": "2024-11-02T13:22:55.134Z"
   },
   {
    "duration": 12,
    "start_time": "2024-11-02T13:23:29.702Z"
   },
   {
    "duration": 10,
    "start_time": "2024-11-02T13:23:51.974Z"
   },
   {
    "duration": 9,
    "start_time": "2024-11-02T13:24:09.374Z"
   },
   {
    "duration": 3,
    "start_time": "2024-11-02T13:26:15.470Z"
   },
   {
    "duration": 16,
    "start_time": "2024-11-02T13:27:31.853Z"
   },
   {
    "duration": 14,
    "start_time": "2024-11-02T13:27:47.518Z"
   },
   {
    "duration": 13,
    "start_time": "2024-11-02T13:27:57.542Z"
   },
   {
    "duration": 10,
    "start_time": "2024-11-02T13:28:22.078Z"
   },
   {
    "duration": 10,
    "start_time": "2024-11-02T13:28:31.365Z"
   },
   {
    "duration": 10,
    "start_time": "2024-11-02T13:28:39.470Z"
   },
   {
    "duration": 53,
    "start_time": "2024-11-02T13:29:08.797Z"
   },
   {
    "duration": 45,
    "start_time": "2024-11-02T13:29:20.158Z"
   },
   {
    "duration": 46,
    "start_time": "2024-11-02T13:29:33.821Z"
   },
   {
    "duration": 37,
    "start_time": "2024-11-02T13:30:17.813Z"
   },
   {
    "duration": 35,
    "start_time": "2024-11-02T13:30:39.550Z"
   },
   {
    "duration": 33,
    "start_time": "2024-11-02T13:30:57.037Z"
   },
   {
    "duration": 6057,
    "start_time": "2024-11-02T13:42:40.267Z"
   },
   {
    "duration": 5302,
    "start_time": "2024-11-02T13:43:01.956Z"
   },
   {
    "duration": 5879,
    "start_time": "2024-11-02T13:43:18.475Z"
   },
   {
    "duration": 306,
    "start_time": "2024-11-02T13:46:26.810Z"
   },
   {
    "duration": 11,
    "start_time": "2024-11-02T13:49:40.833Z"
   },
   {
    "duration": 26,
    "start_time": "2024-11-02T13:50:02.466Z"
   },
   {
    "duration": 23,
    "start_time": "2024-11-02T13:51:38.337Z"
   },
   {
    "duration": 39,
    "start_time": "2024-11-02T13:52:02.304Z"
   },
   {
    "duration": 47,
    "start_time": "2024-11-02T13:54:39.951Z"
   },
   {
    "duration": 12,
    "start_time": "2024-11-02T13:55:23.191Z"
   },
   {
    "duration": 261,
    "start_time": "2024-11-02T13:55:30.664Z"
   },
   {
    "duration": 184,
    "start_time": "2024-11-02T13:56:15.184Z"
   },
   {
    "duration": 10,
    "start_time": "2024-11-02T13:56:29.407Z"
   },
   {
    "duration": 5,
    "start_time": "2024-11-02T13:56:39.856Z"
   },
   {
    "duration": 60,
    "start_time": "2024-11-03T14:13:41.808Z"
   },
   {
    "duration": 1672,
    "start_time": "2024-11-03T14:13:58.260Z"
   },
   {
    "duration": 1773,
    "start_time": "2024-11-03T14:13:59.935Z"
   },
   {
    "duration": 14,
    "start_time": "2024-11-03T14:14:01.710Z"
   },
   {
    "duration": 17,
    "start_time": "2024-11-03T14:14:01.725Z"
   },
   {
    "duration": 25,
    "start_time": "2024-11-03T14:14:01.744Z"
   },
   {
    "duration": 35,
    "start_time": "2024-11-03T14:14:01.771Z"
   },
   {
    "duration": 42,
    "start_time": "2024-11-03T14:14:01.808Z"
   },
   {
    "duration": 83,
    "start_time": "2024-11-03T14:14:01.852Z"
   },
   {
    "duration": 42,
    "start_time": "2024-11-03T14:14:01.937Z"
   },
   {
    "duration": 18,
    "start_time": "2024-11-03T14:14:01.981Z"
   },
   {
    "duration": 67,
    "start_time": "2024-11-03T14:14:02.001Z"
   },
   {
    "duration": 50,
    "start_time": "2024-11-03T14:14:02.070Z"
   },
   {
    "duration": 43,
    "start_time": "2024-11-03T14:14:02.122Z"
   },
   {
    "duration": 26,
    "start_time": "2024-11-03T14:14:02.169Z"
   },
   {
    "duration": 14,
    "start_time": "2024-11-03T14:14:02.197Z"
   },
   {
    "duration": 66,
    "start_time": "2024-11-03T14:14:02.212Z"
   },
   {
    "duration": 39,
    "start_time": "2024-11-03T14:14:02.280Z"
   },
   {
    "duration": 59,
    "start_time": "2024-11-03T14:14:02.321Z"
   },
   {
    "duration": 174,
    "start_time": "2024-11-03T14:14:02.381Z"
   },
   {
    "duration": 348,
    "start_time": "2024-11-03T14:14:02.557Z"
   },
   {
    "duration": 5,
    "start_time": "2024-11-03T14:14:02.907Z"
   },
   {
    "duration": 190,
    "start_time": "2024-11-03T14:14:02.913Z"
   },
   {
    "duration": 1562,
    "start_time": "2024-11-03T14:15:12.676Z"
   },
   {
    "duration": 447,
    "start_time": "2024-11-03T14:15:14.240Z"
   },
   {
    "duration": 13,
    "start_time": "2024-11-03T14:15:14.689Z"
   },
   {
    "duration": 49,
    "start_time": "2024-11-03T14:15:14.704Z"
   },
   {
    "duration": 9,
    "start_time": "2024-11-03T14:15:14.755Z"
   },
   {
    "duration": 17,
    "start_time": "2024-11-03T14:15:14.766Z"
   },
   {
    "duration": 11,
    "start_time": "2024-11-03T14:15:14.785Z"
   },
   {
    "duration": 81,
    "start_time": "2024-11-03T14:15:14.797Z"
   },
   {
    "duration": 41,
    "start_time": "2024-11-03T14:15:14.880Z"
   },
   {
    "duration": 32,
    "start_time": "2024-11-03T14:15:14.923Z"
   },
   {
    "duration": 10,
    "start_time": "2024-11-03T14:15:14.957Z"
   },
   {
    "duration": 47,
    "start_time": "2024-11-03T14:15:14.969Z"
   },
   {
    "duration": 61,
    "start_time": "2024-11-03T14:15:15.017Z"
   },
   {
    "duration": 32,
    "start_time": "2024-11-03T14:15:15.079Z"
   },
   {
    "duration": 21,
    "start_time": "2024-11-03T14:15:15.113Z"
   },
   {
    "duration": 61,
    "start_time": "2024-11-03T14:15:15.136Z"
   },
   {
    "duration": 39,
    "start_time": "2024-11-03T14:15:15.199Z"
   },
   {
    "duration": 369,
    "start_time": "2024-11-03T14:15:15.240Z"
   },
   {
    "duration": 44,
    "start_time": "2024-11-03T14:15:15.610Z"
   },
   {
    "duration": 13,
    "start_time": "2024-11-03T14:15:15.656Z"
   },
   {
    "duration": 239,
    "start_time": "2024-11-03T14:15:15.752Z"
   },
   {
    "duration": 5,
    "start_time": "2024-11-03T14:15:15.993Z"
   },
   {
    "duration": 187,
    "start_time": "2024-11-03T14:15:15.999Z"
   },
   {
    "duration": 30,
    "start_time": "2024-11-03T14:16:29.223Z"
   },
   {
    "duration": 31,
    "start_time": "2024-11-03T14:24:55.538Z"
   },
   {
    "duration": 397,
    "start_time": "2024-11-03T14:25:15.914Z"
   },
   {
    "duration": 308,
    "start_time": "2024-11-03T14:26:12.191Z"
   },
   {
    "duration": 1417,
    "start_time": "2024-11-03T14:26:36.382Z"
   },
   {
    "duration": 439,
    "start_time": "2024-11-03T14:26:37.801Z"
   },
   {
    "duration": 13,
    "start_time": "2024-11-03T14:26:38.242Z"
   },
   {
    "duration": 17,
    "start_time": "2024-11-03T14:26:38.257Z"
   },
   {
    "duration": 17,
    "start_time": "2024-11-03T14:26:38.276Z"
   },
   {
    "duration": 20,
    "start_time": "2024-11-03T14:26:38.294Z"
   },
   {
    "duration": 12,
    "start_time": "2024-11-03T14:26:38.316Z"
   },
   {
    "duration": 59,
    "start_time": "2024-11-03T14:26:38.330Z"
   },
   {
    "duration": 39,
    "start_time": "2024-11-03T14:26:38.391Z"
   },
   {
    "duration": 38,
    "start_time": "2024-11-03T14:26:38.433Z"
   },
   {
    "duration": 10,
    "start_time": "2024-11-03T14:26:38.473Z"
   },
   {
    "duration": 47,
    "start_time": "2024-11-03T14:26:38.485Z"
   },
   {
    "duration": 48,
    "start_time": "2024-11-03T14:26:38.534Z"
   },
   {
    "duration": 15,
    "start_time": "2024-11-03T14:26:38.584Z"
   },
   {
    "duration": 17,
    "start_time": "2024-11-03T14:26:38.601Z"
   },
   {
    "duration": 57,
    "start_time": "2024-11-03T14:26:38.620Z"
   },
   {
    "duration": 35,
    "start_time": "2024-11-03T14:26:38.679Z"
   },
   {
    "duration": 363,
    "start_time": "2024-11-03T14:26:38.716Z"
   },
   {
    "duration": 379,
    "start_time": "2024-11-03T14:26:39.080Z"
   },
   {
    "duration": 329,
    "start_time": "2024-11-03T14:26:39.461Z"
   },
   {
    "duration": 3,
    "start_time": "2024-11-03T14:34:37.011Z"
   },
   {
    "duration": 78,
    "start_time": "2024-11-03T14:35:01.875Z"
   },
   {
    "duration": 3,
    "start_time": "2024-11-03T14:35:16.340Z"
   },
   {
    "duration": 4,
    "start_time": "2024-11-03T14:35:23.731Z"
   },
   {
    "duration": 3,
    "start_time": "2024-11-03T14:36:06.788Z"
   },
   {
    "duration": 3,
    "start_time": "2024-11-03T14:36:15.574Z"
   },
   {
    "duration": 6,
    "start_time": "2024-11-03T14:36:28.060Z"
   },
   {
    "duration": 5,
    "start_time": "2024-11-03T14:40:32.237Z"
   },
   {
    "duration": 1730,
    "start_time": "2024-11-06T18:45:10.578Z"
   },
   {
    "duration": 1342,
    "start_time": "2024-11-06T18:45:12.309Z"
   },
   {
    "duration": 14,
    "start_time": "2024-11-06T18:45:13.652Z"
   },
   {
    "duration": 15,
    "start_time": "2024-11-06T18:45:13.669Z"
   },
   {
    "duration": 21,
    "start_time": "2024-11-06T18:45:13.685Z"
   },
   {
    "duration": 27,
    "start_time": "2024-11-06T18:45:13.708Z"
   },
   {
    "duration": 13,
    "start_time": "2024-11-06T18:45:13.737Z"
   },
   {
    "duration": 58,
    "start_time": "2024-11-06T18:45:13.752Z"
   },
   {
    "duration": 38,
    "start_time": "2024-11-06T18:45:13.812Z"
   },
   {
    "duration": 23,
    "start_time": "2024-11-06T18:45:13.853Z"
   },
   {
    "duration": 10,
    "start_time": "2024-11-06T18:45:13.878Z"
   },
   {
    "duration": 62,
    "start_time": "2024-11-06T18:45:13.889Z"
   },
   {
    "duration": 41,
    "start_time": "2024-11-06T18:45:13.952Z"
   },
   {
    "duration": 14,
    "start_time": "2024-11-06T18:45:13.994Z"
   },
   {
    "duration": 30,
    "start_time": "2024-11-06T18:45:14.009Z"
   },
   {
    "duration": 48,
    "start_time": "2024-11-06T18:45:14.040Z"
   },
   {
    "duration": 33,
    "start_time": "2024-11-06T18:45:14.090Z"
   },
   {
    "duration": 662,
    "start_time": "2024-11-06T18:45:14.125Z"
   },
   {
    "duration": 311,
    "start_time": "2024-11-06T18:45:14.788Z"
   },
   {
    "duration": 287,
    "start_time": "2024-11-06T18:45:15.101Z"
   },
   {
    "duration": 3,
    "start_time": "2024-11-06T18:45:15.389Z"
   },
   {
    "duration": 47,
    "start_time": "2024-11-06T18:45:15.393Z"
   },
   {
    "duration": 25,
    "start_time": "2024-11-06T18:45:15.442Z"
   },
   {
    "duration": 21,
    "start_time": "2024-11-06T18:45:15.469Z"
   },
   {
    "duration": 20,
    "start_time": "2024-11-06T18:45:15.491Z"
   },
   {
    "duration": 7,
    "start_time": "2024-11-06T19:09:08.782Z"
   },
   {
    "duration": 60,
    "start_time": "2024-11-06T19:15:34.043Z"
   },
   {
    "duration": 59,
    "start_time": "2024-11-06T19:19:18.226Z"
   },
   {
    "duration": 82,
    "start_time": "2024-11-06T19:22:17.294Z"
   },
   {
    "duration": 8,
    "start_time": "2024-11-06T19:22:30.113Z"
   },
   {
    "duration": 10,
    "start_time": "2024-11-06T19:24:49.692Z"
   },
   {
    "duration": 11,
    "start_time": "2024-11-06T19:26:15.763Z"
   },
   {
    "duration": 11,
    "start_time": "2024-11-06T19:26:38.636Z"
   },
   {
    "duration": 126,
    "start_time": "2024-11-06T19:29:48.665Z"
   },
   {
    "duration": 58,
    "start_time": "2024-11-06T19:33:05.601Z"
   },
   {
    "duration": 58,
    "start_time": "2024-11-06T19:33:14.107Z"
   },
   {
    "duration": 210,
    "start_time": "2024-11-06T19:33:38.586Z"
   },
   {
    "duration": 108,
    "start_time": "2024-11-06T19:33:58.062Z"
   },
   {
    "duration": 80,
    "start_time": "2024-11-06T19:34:18.489Z"
   },
   {
    "duration": 75,
    "start_time": "2024-11-06T19:34:40.389Z"
   },
   {
    "duration": 105,
    "start_time": "2024-11-06T19:36:34.175Z"
   },
   {
    "duration": 1439,
    "start_time": "2024-11-06T19:38:07.057Z"
   },
   {
    "duration": 408,
    "start_time": "2024-11-06T19:38:08.498Z"
   },
   {
    "duration": 13,
    "start_time": "2024-11-06T19:38:08.907Z"
   },
   {
    "duration": 8,
    "start_time": "2024-11-06T19:38:08.922Z"
   },
   {
    "duration": 21,
    "start_time": "2024-11-06T19:38:08.931Z"
   },
   {
    "duration": 38,
    "start_time": "2024-11-06T19:38:08.953Z"
   },
   {
    "duration": 10,
    "start_time": "2024-11-06T19:38:08.993Z"
   },
   {
    "duration": 44,
    "start_time": "2024-11-06T19:38:09.004Z"
   },
   {
    "duration": 42,
    "start_time": "2024-11-06T19:38:09.049Z"
   },
   {
    "duration": 13,
    "start_time": "2024-11-06T19:38:09.093Z"
   },
   {
    "duration": 14,
    "start_time": "2024-11-06T19:38:09.108Z"
   },
   {
    "duration": 52,
    "start_time": "2024-11-06T19:38:09.123Z"
   },
   {
    "duration": 32,
    "start_time": "2024-11-06T19:38:09.176Z"
   },
   {
    "duration": 13,
    "start_time": "2024-11-06T19:38:09.210Z"
   },
   {
    "duration": 9,
    "start_time": "2024-11-06T19:38:09.224Z"
   },
   {
    "duration": 63,
    "start_time": "2024-11-06T19:38:09.235Z"
   },
   {
    "duration": 34,
    "start_time": "2024-11-06T19:38:09.299Z"
   },
   {
    "duration": 363,
    "start_time": "2024-11-06T19:38:09.335Z"
   },
   {
    "duration": 394,
    "start_time": "2024-11-06T19:38:09.700Z"
   },
   {
    "duration": 294,
    "start_time": "2024-11-06T19:38:10.096Z"
   },
   {
    "duration": 4,
    "start_time": "2024-11-06T19:38:10.392Z"
   },
   {
    "duration": 7,
    "start_time": "2024-11-06T19:38:10.398Z"
   },
   {
    "duration": 5,
    "start_time": "2024-11-06T19:38:10.406Z"
   },
   {
    "duration": 3,
    "start_time": "2024-11-06T19:38:10.412Z"
   },
   {
    "duration": 13,
    "start_time": "2024-11-06T19:38:10.416Z"
   },
   {
    "duration": 103,
    "start_time": "2024-11-06T19:38:10.430Z"
   },
   {
    "duration": 0,
    "start_time": "2024-11-06T19:38:10.535Z"
   },
   {
    "duration": 0,
    "start_time": "2024-11-06T19:38:10.536Z"
   },
   {
    "duration": 13,
    "start_time": "2024-11-06T19:39:11.447Z"
   },
   {
    "duration": 1586,
    "start_time": "2024-11-07T19:44:49.068Z"
   },
   {
    "duration": 884,
    "start_time": "2024-11-07T19:44:50.656Z"
   },
   {
    "duration": 13,
    "start_time": "2024-11-07T19:44:51.542Z"
   },
   {
    "duration": 25,
    "start_time": "2024-11-07T19:44:51.557Z"
   },
   {
    "duration": 20,
    "start_time": "2024-11-07T19:44:51.584Z"
   },
   {
    "duration": 29,
    "start_time": "2024-11-07T19:44:51.605Z"
   },
   {
    "duration": 10,
    "start_time": "2024-11-07T19:44:51.636Z"
   },
   {
    "duration": 45,
    "start_time": "2024-11-07T19:44:51.647Z"
   },
   {
    "duration": 38,
    "start_time": "2024-11-07T19:44:51.700Z"
   },
   {
    "duration": 14,
    "start_time": "2024-11-07T19:44:51.740Z"
   },
   {
    "duration": 10,
    "start_time": "2024-11-07T19:44:51.755Z"
   },
   {
    "duration": 69,
    "start_time": "2024-11-07T19:44:51.766Z"
   },
   {
    "duration": 33,
    "start_time": "2024-11-07T19:44:51.837Z"
   },
   {
    "duration": 30,
    "start_time": "2024-11-07T19:44:51.872Z"
   },
   {
    "duration": 10,
    "start_time": "2024-11-07T19:44:51.903Z"
   },
   {
    "duration": 41,
    "start_time": "2024-11-07T19:44:51.914Z"
   },
   {
    "duration": 55,
    "start_time": "2024-11-07T19:44:51.957Z"
   },
   {
    "duration": 387,
    "start_time": "2024-11-07T19:44:52.014Z"
   },
   {
    "duration": 0,
    "start_time": "2024-11-07T19:44:52.402Z"
   },
   {
    "duration": 0,
    "start_time": "2024-11-07T19:44:52.404Z"
   },
   {
    "duration": 0,
    "start_time": "2024-11-07T19:44:52.405Z"
   },
   {
    "duration": 0,
    "start_time": "2024-11-07T19:44:52.406Z"
   },
   {
    "duration": 0,
    "start_time": "2024-11-07T19:44:52.408Z"
   },
   {
    "duration": 0,
    "start_time": "2024-11-07T19:44:52.409Z"
   },
   {
    "duration": 0,
    "start_time": "2024-11-07T19:44:52.410Z"
   },
   {
    "duration": 0,
    "start_time": "2024-11-07T19:44:52.411Z"
   },
   {
    "duration": 0,
    "start_time": "2024-11-07T19:44:52.412Z"
   },
   {
    "duration": 0,
    "start_time": "2024-11-07T19:44:52.414Z"
   },
   {
    "duration": 322,
    "start_time": "2024-11-07T19:45:10.753Z"
   },
   {
    "duration": 391,
    "start_time": "2024-11-07T19:45:22.034Z"
   },
   {
    "duration": 358,
    "start_time": "2024-11-07T19:45:36.279Z"
   },
   {
    "duration": 279,
    "start_time": "2024-11-07T19:45:47.039Z"
   },
   {
    "duration": 3,
    "start_time": "2024-11-07T19:46:03.166Z"
   },
   {
    "duration": 3,
    "start_time": "2024-11-07T19:46:06.702Z"
   },
   {
    "duration": 5,
    "start_time": "2024-11-07T19:46:11.950Z"
   },
   {
    "duration": 2,
    "start_time": "2024-11-07T19:47:15.216Z"
   },
   {
    "duration": 4,
    "start_time": "2024-11-07T19:47:17.066Z"
   },
   {
    "duration": 63,
    "start_time": "2024-11-07T19:47:19.832Z"
   },
   {
    "duration": 58,
    "start_time": "2024-11-07T19:47:46.960Z"
   },
   {
    "duration": 57,
    "start_time": "2024-11-07T19:49:03.999Z"
   },
   {
    "duration": 80,
    "start_time": "2024-11-07T19:51:22.407Z"
   },
   {
    "duration": 79,
    "start_time": "2024-11-07T19:51:33.720Z"
   },
   {
    "duration": 8,
    "start_time": "2024-11-07T19:52:23.280Z"
   },
   {
    "duration": 19,
    "start_time": "2024-11-07T19:53:05.239Z"
   },
   {
    "duration": 21,
    "start_time": "2024-11-07T19:54:31.920Z"
   },
   {
    "duration": 58,
    "start_time": "2024-11-07T19:56:25.206Z"
   },
   {
    "duration": 70,
    "start_time": "2024-11-07T19:57:31.093Z"
   },
   {
    "duration": 5,
    "start_time": "2024-11-07T19:58:42.645Z"
   },
   {
    "duration": 4,
    "start_time": "2024-11-07T20:03:34.100Z"
   },
   {
    "duration": 330,
    "start_time": "2024-11-07T20:09:21.852Z"
   },
   {
    "duration": 365,
    "start_time": "2024-11-07T20:09:29.769Z"
   },
   {
    "duration": 326,
    "start_time": "2024-11-07T20:09:38.253Z"
   },
   {
    "duration": 212,
    "start_time": "2024-11-07T20:11:34.302Z"
   },
   {
    "duration": 214,
    "start_time": "2024-11-07T20:13:06.292Z"
   },
   {
    "duration": 1433,
    "start_time": "2024-11-07T20:13:30.784Z"
   },
   {
    "duration": 463,
    "start_time": "2024-11-07T20:13:32.219Z"
   },
   {
    "duration": 17,
    "start_time": "2024-11-07T20:13:32.684Z"
   },
   {
    "duration": 46,
    "start_time": "2024-11-07T20:13:32.702Z"
   },
   {
    "duration": 16,
    "start_time": "2024-11-07T20:13:32.750Z"
   },
   {
    "duration": 22,
    "start_time": "2024-11-07T20:13:32.768Z"
   },
   {
    "duration": 10,
    "start_time": "2024-11-07T20:13:32.792Z"
   },
   {
    "duration": 67,
    "start_time": "2024-11-07T20:13:32.803Z"
   },
   {
    "duration": 39,
    "start_time": "2024-11-07T20:13:32.872Z"
   },
   {
    "duration": 16,
    "start_time": "2024-11-07T20:13:32.912Z"
   },
   {
    "duration": 42,
    "start_time": "2024-11-07T20:13:32.930Z"
   },
   {
    "duration": 43,
    "start_time": "2024-11-07T20:13:32.974Z"
   },
   {
    "duration": 35,
    "start_time": "2024-11-07T20:13:33.018Z"
   },
   {
    "duration": 13,
    "start_time": "2024-11-07T20:13:33.056Z"
   },
   {
    "duration": 30,
    "start_time": "2024-11-07T20:13:33.071Z"
   },
   {
    "duration": 43,
    "start_time": "2024-11-07T20:13:33.102Z"
   },
   {
    "duration": 54,
    "start_time": "2024-11-07T20:13:33.147Z"
   },
   {
    "duration": 360,
    "start_time": "2024-11-07T20:13:33.203Z"
   },
   {
    "duration": 369,
    "start_time": "2024-11-07T20:13:33.565Z"
   },
   {
    "duration": 302,
    "start_time": "2024-11-07T20:13:33.935Z"
   },
   {
    "duration": 3,
    "start_time": "2024-11-07T20:13:34.238Z"
   },
   {
    "duration": 18,
    "start_time": "2024-11-07T20:13:34.242Z"
   },
   {
    "duration": 23,
    "start_time": "2024-11-07T20:13:34.262Z"
   },
   {
    "duration": 22,
    "start_time": "2024-11-07T20:13:34.288Z"
   },
   {
    "duration": 16,
    "start_time": "2024-11-07T20:13:34.313Z"
   },
   {
    "duration": 28,
    "start_time": "2024-11-07T20:13:34.331Z"
   },
   {
    "duration": 360,
    "start_time": "2024-11-07T20:13:34.361Z"
   },
   {
    "duration": 153,
    "start_time": "2024-11-07T20:14:10.853Z"
   },
   {
    "duration": 27,
    "start_time": "2024-11-07T20:16:54.283Z"
   },
   {
    "duration": 2691,
    "start_time": "2024-11-07T20:17:09.722Z"
   },
   {
    "duration": 2743,
    "start_time": "2024-11-07T20:19:00.546Z"
   },
   {
    "duration": 2655,
    "start_time": "2024-11-07T20:19:43.192Z"
   },
   {
    "duration": 3,
    "start_time": "2024-11-07T20:20:24.719Z"
   },
   {
    "duration": 2538,
    "start_time": "2024-11-07T20:20:24.791Z"
   },
   {
    "duration": 2621,
    "start_time": "2024-11-07T20:20:59.912Z"
   },
   {
    "duration": 2582,
    "start_time": "2024-11-07T20:21:29.008Z"
   },
   {
    "duration": 1374,
    "start_time": "2024-11-07T20:23:00.723Z"
   },
   {
    "duration": 406,
    "start_time": "2024-11-07T20:23:02.099Z"
   },
   {
    "duration": 14,
    "start_time": "2024-11-07T20:23:02.507Z"
   },
   {
    "duration": 22,
    "start_time": "2024-11-07T20:23:02.523Z"
   },
   {
    "duration": 20,
    "start_time": "2024-11-07T20:23:02.547Z"
   },
   {
    "duration": 48,
    "start_time": "2024-11-07T20:23:02.568Z"
   },
   {
    "duration": 34,
    "start_time": "2024-11-07T20:23:02.617Z"
   },
   {
    "duration": 78,
    "start_time": "2024-11-07T20:23:02.653Z"
   },
   {
    "duration": 44,
    "start_time": "2024-11-07T20:23:02.733Z"
   },
   {
    "duration": 25,
    "start_time": "2024-11-07T20:23:02.780Z"
   },
   {
    "duration": 15,
    "start_time": "2024-11-07T20:23:02.807Z"
   },
   {
    "duration": 76,
    "start_time": "2024-11-07T20:23:02.824Z"
   },
   {
    "duration": 38,
    "start_time": "2024-11-07T20:23:02.901Z"
   },
   {
    "duration": 36,
    "start_time": "2024-11-07T20:23:02.940Z"
   },
   {
    "duration": 30,
    "start_time": "2024-11-07T20:23:02.978Z"
   },
   {
    "duration": 52,
    "start_time": "2024-11-07T20:23:03.011Z"
   },
   {
    "duration": 64,
    "start_time": "2024-11-07T20:23:03.065Z"
   },
   {
    "duration": 342,
    "start_time": "2024-11-07T20:23:03.130Z"
   },
   {
    "duration": 360,
    "start_time": "2024-11-07T20:23:03.474Z"
   },
   {
    "duration": 299,
    "start_time": "2024-11-07T20:23:03.836Z"
   },
   {
    "duration": 2,
    "start_time": "2024-11-07T20:23:04.137Z"
   },
   {
    "duration": 46,
    "start_time": "2024-11-07T20:23:04.141Z"
   },
   {
    "duration": 30,
    "start_time": "2024-11-07T20:23:04.189Z"
   },
   {
    "duration": 33,
    "start_time": "2024-11-07T20:23:04.221Z"
   },
   {
    "duration": 6,
    "start_time": "2024-11-07T20:23:04.256Z"
   },
   {
    "duration": 23,
    "start_time": "2024-11-07T20:23:04.264Z"
   },
   {
    "duration": 13,
    "start_time": "2024-11-07T20:23:04.289Z"
   },
   {
    "duration": 165,
    "start_time": "2024-11-07T20:23:04.305Z"
   },
   {
    "duration": 1,
    "start_time": "2024-11-07T20:23:04.471Z"
   },
   {
    "duration": 0,
    "start_time": "2024-11-07T20:23:04.473Z"
   },
   {
    "duration": 11,
    "start_time": "2024-11-07T20:24:27.271Z"
   },
   {
    "duration": 11,
    "start_time": "2024-11-07T20:27:24.766Z"
   },
   {
    "duration": 1431,
    "start_time": "2024-11-07T20:27:34.274Z"
   },
   {
    "duration": 415,
    "start_time": "2024-11-07T20:27:35.706Z"
   },
   {
    "duration": 13,
    "start_time": "2024-11-07T20:27:36.123Z"
   },
   {
    "duration": 21,
    "start_time": "2024-11-07T20:27:36.139Z"
   },
   {
    "duration": 22,
    "start_time": "2024-11-07T20:27:36.162Z"
   },
   {
    "duration": 30,
    "start_time": "2024-11-07T20:27:36.186Z"
   },
   {
    "duration": 35,
    "start_time": "2024-11-07T20:27:36.217Z"
   },
   {
    "duration": 63,
    "start_time": "2024-11-07T20:27:36.254Z"
   },
   {
    "duration": 41,
    "start_time": "2024-11-07T20:27:36.319Z"
   },
   {
    "duration": 14,
    "start_time": "2024-11-07T20:27:36.363Z"
   },
   {
    "duration": 27,
    "start_time": "2024-11-07T20:27:36.379Z"
   },
   {
    "duration": 77,
    "start_time": "2024-11-07T20:27:36.408Z"
   },
   {
    "duration": 36,
    "start_time": "2024-11-07T20:27:36.487Z"
   },
   {
    "duration": 14,
    "start_time": "2024-11-07T20:27:36.525Z"
   },
   {
    "duration": 24,
    "start_time": "2024-11-07T20:27:36.541Z"
   },
   {
    "duration": 66,
    "start_time": "2024-11-07T20:27:36.567Z"
   },
   {
    "duration": 37,
    "start_time": "2024-11-07T20:27:36.635Z"
   },
   {
    "duration": 387,
    "start_time": "2024-11-07T20:27:36.674Z"
   },
   {
    "duration": 366,
    "start_time": "2024-11-07T20:27:37.063Z"
   },
   {
    "duration": 287,
    "start_time": "2024-11-07T20:27:37.431Z"
   },
   {
    "duration": 2,
    "start_time": "2024-11-07T20:27:37.720Z"
   },
   {
    "duration": 43,
    "start_time": "2024-11-07T20:27:37.724Z"
   },
   {
    "duration": 13,
    "start_time": "2024-11-07T20:27:37.769Z"
   },
   {
    "duration": 6,
    "start_time": "2024-11-07T20:27:37.784Z"
   },
   {
    "duration": 7,
    "start_time": "2024-11-07T20:27:37.792Z"
   },
   {
    "duration": 6,
    "start_time": "2024-11-07T20:27:37.801Z"
   },
   {
    "duration": 24,
    "start_time": "2024-11-07T20:27:37.809Z"
   },
   {
    "duration": 127,
    "start_time": "2024-11-07T20:27:37.836Z"
   },
   {
    "duration": 0,
    "start_time": "2024-11-07T20:27:37.964Z"
   },
   {
    "duration": 0,
    "start_time": "2024-11-07T20:27:37.966Z"
   },
   {
    "duration": 2848,
    "start_time": "2024-11-07T20:28:23.830Z"
   },
   {
    "duration": 2480,
    "start_time": "2024-11-07T20:29:22.814Z"
   },
   {
    "duration": 19,
    "start_time": "2024-11-07T20:29:34.493Z"
   },
   {
    "duration": 352,
    "start_time": "2024-11-07T20:30:22.682Z"
   },
   {
    "duration": 1444,
    "start_time": "2024-11-07T20:30:59.586Z"
   },
   {
    "duration": 449,
    "start_time": "2024-11-07T20:31:01.031Z"
   },
   {
    "duration": 19,
    "start_time": "2024-11-07T20:31:01.481Z"
   },
   {
    "duration": 19,
    "start_time": "2024-11-07T20:31:01.502Z"
   },
   {
    "duration": 38,
    "start_time": "2024-11-07T20:31:01.522Z"
   },
   {
    "duration": 17,
    "start_time": "2024-11-07T20:31:01.562Z"
   },
   {
    "duration": 10,
    "start_time": "2024-11-07T20:31:01.581Z"
   },
   {
    "duration": 81,
    "start_time": "2024-11-07T20:31:01.592Z"
   },
   {
    "duration": 68,
    "start_time": "2024-11-07T20:31:01.674Z"
   },
   {
    "duration": 27,
    "start_time": "2024-11-07T20:31:01.745Z"
   },
   {
    "duration": 58,
    "start_time": "2024-11-07T20:31:01.774Z"
   },
   {
    "duration": 52,
    "start_time": "2024-11-07T20:31:01.834Z"
   },
   {
    "duration": 36,
    "start_time": "2024-11-07T20:31:01.888Z"
   },
   {
    "duration": 14,
    "start_time": "2024-11-07T20:31:01.926Z"
   },
   {
    "duration": 24,
    "start_time": "2024-11-07T20:31:01.942Z"
   },
   {
    "duration": 76,
    "start_time": "2024-11-07T20:31:01.968Z"
   },
   {
    "duration": 34,
    "start_time": "2024-11-07T20:31:02.046Z"
   },
   {
    "duration": 334,
    "start_time": "2024-11-07T20:31:02.082Z"
   },
   {
    "duration": 0,
    "start_time": "2024-11-07T20:31:02.418Z"
   },
   {
    "duration": 0,
    "start_time": "2024-11-07T20:31:02.420Z"
   },
   {
    "duration": 0,
    "start_time": "2024-11-07T20:31:02.421Z"
   },
   {
    "duration": 0,
    "start_time": "2024-11-07T20:31:02.423Z"
   },
   {
    "duration": 0,
    "start_time": "2024-11-07T20:31:02.424Z"
   },
   {
    "duration": 0,
    "start_time": "2024-11-07T20:31:02.425Z"
   },
   {
    "duration": 0,
    "start_time": "2024-11-07T20:31:02.427Z"
   },
   {
    "duration": 0,
    "start_time": "2024-11-07T20:31:02.429Z"
   },
   {
    "duration": 0,
    "start_time": "2024-11-07T20:31:02.430Z"
   },
   {
    "duration": 0,
    "start_time": "2024-11-07T20:31:02.433Z"
   },
   {
    "duration": 0,
    "start_time": "2024-11-07T20:31:02.434Z"
   },
   {
    "duration": 0,
    "start_time": "2024-11-07T20:31:02.436Z"
   },
   {
    "duration": 0,
    "start_time": "2024-11-07T20:31:02.437Z"
   },
   {
    "duration": 302,
    "start_time": "2024-11-07T20:31:13.821Z"
   },
   {
    "duration": 510,
    "start_time": "2024-11-07T20:31:30.594Z"
   },
   {
    "duration": 331,
    "start_time": "2024-11-07T20:31:58.526Z"
   },
   {
    "duration": 3,
    "start_time": "2024-11-07T20:32:07.196Z"
   },
   {
    "duration": 4,
    "start_time": "2024-11-07T20:32:08.812Z"
   },
   {
    "duration": 4,
    "start_time": "2024-11-07T20:32:10.748Z"
   },
   {
    "duration": 4,
    "start_time": "2024-11-07T20:32:12.597Z"
   },
   {
    "duration": 4,
    "start_time": "2024-11-07T20:32:15.157Z"
   },
   {
    "duration": 4,
    "start_time": "2024-11-07T20:32:50.582Z"
   },
   {
    "duration": 3,
    "start_time": "2024-11-07T20:32:55.133Z"
   },
   {
    "duration": 10,
    "start_time": "2024-11-07T20:33:51.880Z"
   },
   {
    "duration": 30,
    "start_time": "2024-11-07T20:36:13.419Z"
   },
   {
    "duration": 2531,
    "start_time": "2024-11-07T20:36:47.654Z"
   },
   {
    "duration": 16,
    "start_time": "2024-11-07T20:37:49.484Z"
   },
   {
    "duration": 2517,
    "start_time": "2024-11-07T20:38:07.038Z"
   },
   {
    "duration": 2551,
    "start_time": "2024-11-07T20:38:33.235Z"
   },
   {
    "duration": 10,
    "start_time": "2024-11-07T20:38:48.891Z"
   },
   {
    "duration": 2547,
    "start_time": "2024-11-07T20:38:57.628Z"
   },
   {
    "duration": 2516,
    "start_time": "2024-11-07T20:39:10.035Z"
   },
   {
    "duration": 1410,
    "start_time": "2024-11-07T20:39:17.901Z"
   },
   {
    "duration": 412,
    "start_time": "2024-11-07T20:39:19.313Z"
   },
   {
    "duration": 13,
    "start_time": "2024-11-07T20:39:19.726Z"
   },
   {
    "duration": 8,
    "start_time": "2024-11-07T20:39:19.741Z"
   },
   {
    "duration": 16,
    "start_time": "2024-11-07T20:39:19.751Z"
   },
   {
    "duration": 20,
    "start_time": "2024-11-07T20:39:19.768Z"
   },
   {
    "duration": 10,
    "start_time": "2024-11-07T20:39:19.799Z"
   },
   {
    "duration": 45,
    "start_time": "2024-11-07T20:39:19.810Z"
   },
   {
    "duration": 59,
    "start_time": "2024-11-07T20:39:19.857Z"
   },
   {
    "duration": 15,
    "start_time": "2024-11-07T20:39:19.919Z"
   },
   {
    "duration": 10,
    "start_time": "2024-11-07T20:39:19.936Z"
   },
   {
    "duration": 65,
    "start_time": "2024-11-07T20:39:19.948Z"
   },
   {
    "duration": 45,
    "start_time": "2024-11-07T20:39:20.015Z"
   },
   {
    "duration": 19,
    "start_time": "2024-11-07T20:39:20.062Z"
   },
   {
    "duration": 14,
    "start_time": "2024-11-07T20:39:20.100Z"
   },
   {
    "duration": 43,
    "start_time": "2024-11-07T20:39:20.116Z"
   },
   {
    "duration": 58,
    "start_time": "2024-11-07T20:39:20.161Z"
   },
   {
    "duration": 314,
    "start_time": "2024-11-07T20:39:20.221Z"
   },
   {
    "duration": 377,
    "start_time": "2024-11-07T20:39:20.536Z"
   },
   {
    "duration": 291,
    "start_time": "2024-11-07T20:39:20.915Z"
   },
   {
    "duration": 3,
    "start_time": "2024-11-07T20:39:21.207Z"
   },
   {
    "duration": 15,
    "start_time": "2024-11-07T20:39:21.212Z"
   },
   {
    "duration": 6,
    "start_time": "2024-11-07T20:39:21.228Z"
   },
   {
    "duration": 4,
    "start_time": "2024-11-07T20:39:21.235Z"
   },
   {
    "duration": 15,
    "start_time": "2024-11-07T20:39:21.240Z"
   },
   {
    "duration": 18,
    "start_time": "2024-11-07T20:39:21.256Z"
   },
   {
    "duration": 10,
    "start_time": "2024-11-07T20:39:21.275Z"
   },
   {
    "duration": 2516,
    "start_time": "2024-11-07T20:39:21.288Z"
   },
   {
    "duration": 2483,
    "start_time": "2024-11-07T20:39:23.806Z"
   },
   {
    "duration": 2522,
    "start_time": "2024-11-07T20:39:26.291Z"
   },
   {
    "duration": 1494,
    "start_time": "2024-11-07T21:09:25.849Z"
   },
   {
    "duration": 1817,
    "start_time": "2024-11-07T21:09:27.345Z"
   },
   {
    "duration": 15,
    "start_time": "2024-11-07T21:09:29.163Z"
   },
   {
    "duration": 9,
    "start_time": "2024-11-07T21:09:29.180Z"
   },
   {
    "duration": 11,
    "start_time": "2024-11-07T21:09:29.191Z"
   },
   {
    "duration": 29,
    "start_time": "2024-11-07T21:09:29.204Z"
   },
   {
    "duration": 23,
    "start_time": "2024-11-07T21:09:29.235Z"
   },
   {
    "duration": 53,
    "start_time": "2024-11-07T21:09:29.259Z"
   },
   {
    "duration": 61,
    "start_time": "2024-11-07T21:09:29.314Z"
   },
   {
    "duration": 16,
    "start_time": "2024-11-07T21:09:29.378Z"
   },
   {
    "duration": 11,
    "start_time": "2024-11-07T21:09:29.396Z"
   },
   {
    "duration": 69,
    "start_time": "2024-11-07T21:09:29.409Z"
   },
   {
    "duration": 38,
    "start_time": "2024-11-07T21:09:29.480Z"
   },
   {
    "duration": 33,
    "start_time": "2024-11-07T21:09:29.519Z"
   },
   {
    "duration": 12,
    "start_time": "2024-11-07T21:09:29.554Z"
   },
   {
    "duration": 55,
    "start_time": "2024-11-07T21:09:29.568Z"
   },
   {
    "duration": 55,
    "start_time": "2024-11-07T21:09:29.624Z"
   },
   {
    "duration": 311,
    "start_time": "2024-11-07T21:09:29.681Z"
   },
   {
    "duration": 407,
    "start_time": "2024-11-07T21:09:29.994Z"
   },
   {
    "duration": 328,
    "start_time": "2024-11-07T21:09:30.403Z"
   },
   {
    "duration": 3,
    "start_time": "2024-11-07T21:09:30.734Z"
   },
   {
    "duration": 27,
    "start_time": "2024-11-07T21:09:30.739Z"
   },
   {
    "duration": 20,
    "start_time": "2024-11-07T21:09:30.768Z"
   },
   {
    "duration": 21,
    "start_time": "2024-11-07T21:09:30.790Z"
   },
   {
    "duration": 5,
    "start_time": "2024-11-07T21:09:30.813Z"
   },
   {
    "duration": 10,
    "start_time": "2024-11-07T21:09:30.820Z"
   },
   {
    "duration": 28,
    "start_time": "2024-11-07T21:09:30.832Z"
   },
   {
    "duration": 2835,
    "start_time": "2024-11-07T21:09:30.863Z"
   },
   {
    "duration": 2862,
    "start_time": "2024-11-07T21:09:33.700Z"
   },
   {
    "duration": 2792,
    "start_time": "2024-11-07T21:09:36.564Z"
   },
   {
    "duration": 296,
    "start_time": "2024-11-07T21:22:24.436Z"
   },
   {
    "duration": 294,
    "start_time": "2024-11-07T21:22:54.911Z"
   },
   {
    "duration": 297,
    "start_time": "2024-11-07T21:22:56.413Z"
   },
   {
    "duration": 1490,
    "start_time": "2024-11-08T07:34:09.451Z"
   },
   {
    "duration": 869,
    "start_time": "2024-11-08T07:34:10.943Z"
   },
   {
    "duration": 10,
    "start_time": "2024-11-08T07:34:11.813Z"
   },
   {
    "duration": 7,
    "start_time": "2024-11-08T07:34:11.825Z"
   },
   {
    "duration": 38,
    "start_time": "2024-11-08T07:34:11.833Z"
   },
   {
    "duration": 38,
    "start_time": "2024-11-08T07:34:11.873Z"
   },
   {
    "duration": 8,
    "start_time": "2024-11-08T07:34:11.912Z"
   },
   {
    "duration": 41,
    "start_time": "2024-11-08T07:34:11.921Z"
   },
   {
    "duration": 32,
    "start_time": "2024-11-08T07:34:11.964Z"
   },
   {
    "duration": 11,
    "start_time": "2024-11-08T07:34:11.997Z"
   },
   {
    "duration": 8,
    "start_time": "2024-11-08T07:34:12.009Z"
   },
   {
    "duration": 42,
    "start_time": "2024-11-08T07:34:12.018Z"
   },
   {
    "duration": 30,
    "start_time": "2024-11-08T07:34:12.061Z"
   },
   {
    "duration": 11,
    "start_time": "2024-11-08T07:34:12.093Z"
   },
   {
    "duration": 7,
    "start_time": "2024-11-08T07:34:12.105Z"
   },
   {
    "duration": 63,
    "start_time": "2024-11-08T07:34:12.114Z"
   },
   {
    "duration": 79,
    "start_time": "2024-11-08T07:34:12.178Z"
   },
   {
    "duration": 484,
    "start_time": "2024-11-08T07:34:12.259Z"
   },
   {
    "duration": 329,
    "start_time": "2024-11-08T07:34:12.744Z"
   },
   {
    "duration": 310,
    "start_time": "2024-11-08T07:34:13.075Z"
   },
   {
    "duration": 3,
    "start_time": "2024-11-08T07:34:13.387Z"
   },
   {
    "duration": 19,
    "start_time": "2024-11-08T07:34:13.391Z"
   },
   {
    "duration": 5,
    "start_time": "2024-11-08T07:34:13.412Z"
   },
   {
    "duration": 2,
    "start_time": "2024-11-08T07:34:13.419Z"
   },
   {
    "duration": 5,
    "start_time": "2024-11-08T07:34:13.422Z"
   },
   {
    "duration": 8,
    "start_time": "2024-11-08T07:34:13.428Z"
   },
   {
    "duration": 7,
    "start_time": "2024-11-08T07:34:13.437Z"
   },
   {
    "duration": 2735,
    "start_time": "2024-11-08T07:34:13.446Z"
   },
   {
    "duration": 2714,
    "start_time": "2024-11-08T07:34:16.182Z"
   },
   {
    "duration": 2715,
    "start_time": "2024-11-08T07:34:18.897Z"
   },
   {
    "duration": 3,
    "start_time": "2024-11-08T07:36:17.380Z"
   },
   {
    "duration": 1399,
    "start_time": "2024-11-08T07:36:25.720Z"
   },
   {
    "duration": 338,
    "start_time": "2024-11-08T07:36:27.121Z"
   },
   {
    "duration": 11,
    "start_time": "2024-11-08T07:36:27.460Z"
   },
   {
    "duration": 7,
    "start_time": "2024-11-08T07:36:27.473Z"
   },
   {
    "duration": 11,
    "start_time": "2024-11-08T07:36:27.481Z"
   },
   {
    "duration": 14,
    "start_time": "2024-11-08T07:36:27.493Z"
   },
   {
    "duration": 8,
    "start_time": "2024-11-08T07:36:27.508Z"
   },
   {
    "duration": 59,
    "start_time": "2024-11-08T07:36:27.517Z"
   },
   {
    "duration": 33,
    "start_time": "2024-11-08T07:36:27.578Z"
   },
   {
    "duration": 11,
    "start_time": "2024-11-08T07:36:27.612Z"
   },
   {
    "duration": 7,
    "start_time": "2024-11-08T07:36:27.625Z"
   },
   {
    "duration": 54,
    "start_time": "2024-11-08T07:36:27.634Z"
   },
   {
    "duration": 29,
    "start_time": "2024-11-08T07:36:27.690Z"
   },
   {
    "duration": 11,
    "start_time": "2024-11-08T07:36:27.722Z"
   },
   {
    "duration": 27,
    "start_time": "2024-11-08T07:36:27.734Z"
   },
   {
    "duration": 40,
    "start_time": "2024-11-08T07:36:27.762Z"
   },
   {
    "duration": 30,
    "start_time": "2024-11-08T07:36:27.804Z"
   },
   {
    "duration": 330,
    "start_time": "2024-11-08T07:36:27.835Z"
   },
   {
    "duration": 327,
    "start_time": "2024-11-08T07:36:28.166Z"
   },
   {
    "duration": 270,
    "start_time": "2024-11-08T07:36:28.494Z"
   },
   {
    "duration": 2,
    "start_time": "2024-11-08T07:36:28.765Z"
   },
   {
    "duration": 9,
    "start_time": "2024-11-08T07:36:28.769Z"
   },
   {
    "duration": 6,
    "start_time": "2024-11-08T07:36:28.779Z"
   },
   {
    "duration": 7,
    "start_time": "2024-11-08T07:36:28.786Z"
   },
   {
    "duration": 13,
    "start_time": "2024-11-08T07:36:28.794Z"
   },
   {
    "duration": 8,
    "start_time": "2024-11-08T07:36:28.808Z"
   },
   {
    "duration": 17,
    "start_time": "2024-11-08T07:36:28.817Z"
   },
   {
    "duration": 109,
    "start_time": "2024-11-08T07:36:28.835Z"
   },
   {
    "duration": 0,
    "start_time": "2024-11-08T07:36:28.945Z"
   },
   {
    "duration": 0,
    "start_time": "2024-11-08T07:36:28.947Z"
   },
   {
    "duration": 3611,
    "start_time": "2024-11-08T17:18:01.396Z"
   },
   {
    "duration": 1482,
    "start_time": "2024-11-08T17:18:15.009Z"
   },
   {
    "duration": 1787,
    "start_time": "2024-11-08T17:18:16.493Z"
   },
   {
    "duration": 11,
    "start_time": "2024-11-08T17:18:18.282Z"
   },
   {
    "duration": 14,
    "start_time": "2024-11-08T17:18:18.294Z"
   },
   {
    "duration": 8,
    "start_time": "2024-11-08T17:18:18.309Z"
   },
   {
    "duration": 27,
    "start_time": "2024-11-08T17:18:18.319Z"
   },
   {
    "duration": 9,
    "start_time": "2024-11-08T17:18:18.347Z"
   },
   {
    "duration": 39,
    "start_time": "2024-11-08T17:18:18.358Z"
   },
   {
    "duration": 39,
    "start_time": "2024-11-08T17:18:18.399Z"
   },
   {
    "duration": 11,
    "start_time": "2024-11-08T17:18:18.440Z"
   },
   {
    "duration": 7,
    "start_time": "2024-11-08T17:18:18.452Z"
   },
   {
    "duration": 52,
    "start_time": "2024-11-08T17:18:18.460Z"
   },
   {
    "duration": 29,
    "start_time": "2024-11-08T17:18:18.514Z"
   },
   {
    "duration": 11,
    "start_time": "2024-11-08T17:18:18.544Z"
   },
   {
    "duration": 8,
    "start_time": "2024-11-08T17:18:18.556Z"
   },
   {
    "duration": 58,
    "start_time": "2024-11-08T17:18:18.565Z"
   },
   {
    "duration": 29,
    "start_time": "2024-11-08T17:18:18.624Z"
   },
   {
    "duration": 2767,
    "start_time": "2024-11-08T17:18:18.654Z"
   },
   {
    "duration": 0,
    "start_time": "2024-11-08T17:18:21.423Z"
   },
   {
    "duration": 0,
    "start_time": "2024-11-08T17:18:21.424Z"
   },
   {
    "duration": 0,
    "start_time": "2024-11-08T17:18:21.425Z"
   },
   {
    "duration": 0,
    "start_time": "2024-11-08T17:18:21.426Z"
   },
   {
    "duration": 0,
    "start_time": "2024-11-08T17:18:21.427Z"
   },
   {
    "duration": 0,
    "start_time": "2024-11-08T17:18:21.428Z"
   },
   {
    "duration": 0,
    "start_time": "2024-11-08T17:18:21.429Z"
   },
   {
    "duration": 0,
    "start_time": "2024-11-08T17:18:21.430Z"
   },
   {
    "duration": 0,
    "start_time": "2024-11-08T17:18:21.431Z"
   },
   {
    "duration": 0,
    "start_time": "2024-11-08T17:18:21.432Z"
   },
   {
    "duration": 0,
    "start_time": "2024-11-08T17:18:21.433Z"
   },
   {
    "duration": 0,
    "start_time": "2024-11-08T17:18:21.434Z"
   },
   {
    "duration": 0,
    "start_time": "2024-11-08T17:18:21.435Z"
   },
   {
    "duration": 2618,
    "start_time": "2024-11-08T17:18:41.201Z"
   },
   {
    "duration": 1306,
    "start_time": "2024-11-08T17:18:52.125Z"
   },
   {
    "duration": 342,
    "start_time": "2024-11-08T17:18:53.432Z"
   },
   {
    "duration": 10,
    "start_time": "2024-11-08T17:18:53.776Z"
   },
   {
    "duration": 10,
    "start_time": "2024-11-08T17:18:53.788Z"
   },
   {
    "duration": 15,
    "start_time": "2024-11-08T17:18:53.799Z"
   },
   {
    "duration": 14,
    "start_time": "2024-11-08T17:18:53.815Z"
   },
   {
    "duration": 8,
    "start_time": "2024-11-08T17:18:53.831Z"
   },
   {
    "duration": 40,
    "start_time": "2024-11-08T17:18:53.840Z"
   },
   {
    "duration": 56,
    "start_time": "2024-11-08T17:18:53.881Z"
   },
   {
    "duration": 12,
    "start_time": "2024-11-08T17:18:53.940Z"
   },
   {
    "duration": 9,
    "start_time": "2024-11-08T17:18:53.953Z"
   },
   {
    "duration": 52,
    "start_time": "2024-11-08T17:18:53.963Z"
   },
   {
    "duration": 31,
    "start_time": "2024-11-08T17:18:54.017Z"
   },
   {
    "duration": 11,
    "start_time": "2024-11-08T17:18:54.050Z"
   },
   {
    "duration": 9,
    "start_time": "2024-11-08T17:18:54.063Z"
   },
   {
    "duration": 65,
    "start_time": "2024-11-08T17:18:54.073Z"
   },
   {
    "duration": 31,
    "start_time": "2024-11-08T17:18:54.139Z"
   },
   {
    "duration": 353,
    "start_time": "2024-11-08T17:18:54.171Z"
   },
   {
    "duration": 296,
    "start_time": "2024-11-08T17:18:54.525Z"
   },
   {
    "duration": 306,
    "start_time": "2024-11-08T17:18:54.822Z"
   },
   {
    "duration": 2,
    "start_time": "2024-11-08T17:18:55.130Z"
   },
   {
    "duration": 10,
    "start_time": "2024-11-08T17:18:55.134Z"
   },
   {
    "duration": 16,
    "start_time": "2024-11-08T17:18:55.146Z"
   },
   {
    "duration": 14,
    "start_time": "2024-11-08T17:18:55.163Z"
   },
   {
    "duration": 15,
    "start_time": "2024-11-08T17:18:55.178Z"
   },
   {
    "duration": 10,
    "start_time": "2024-11-08T17:18:55.194Z"
   },
   {
    "duration": 25,
    "start_time": "2024-11-08T17:18:55.205Z"
   },
   {
    "duration": 111,
    "start_time": "2024-11-08T17:18:55.233Z"
   },
   {
    "duration": 0,
    "start_time": "2024-11-08T17:18:55.346Z"
   },
   {
    "duration": 0,
    "start_time": "2024-11-08T17:18:55.347Z"
   },
   {
    "duration": 2847,
    "start_time": "2024-11-08T17:21:06.050Z"
   },
   {
    "duration": 2804,
    "start_time": "2024-11-08T17:21:19.009Z"
   },
   {
    "duration": 9,
    "start_time": "2024-11-08T17:22:37.110Z"
   },
   {
    "duration": 291,
    "start_time": "2024-11-08T17:23:22.634Z"
   },
   {
    "duration": 318,
    "start_time": "2024-11-08T17:23:59.470Z"
   },
   {
    "duration": 307,
    "start_time": "2024-11-08T17:24:37.639Z"
   },
   {
    "duration": 353,
    "start_time": "2024-11-08T17:29:14.575Z"
   },
   {
    "duration": 3,
    "start_time": "2024-11-08T17:32:15.526Z"
   },
   {
    "duration": 209,
    "start_time": "2024-11-08T17:32:40.398Z"
   },
   {
    "duration": 1262,
    "start_time": "2024-11-08T17:33:10.242Z"
   },
   {
    "duration": 360,
    "start_time": "2024-11-08T17:33:11.505Z"
   },
   {
    "duration": 13,
    "start_time": "2024-11-08T17:33:11.866Z"
   },
   {
    "duration": 8,
    "start_time": "2024-11-08T17:33:11.881Z"
   },
   {
    "duration": 22,
    "start_time": "2024-11-08T17:33:11.890Z"
   },
   {
    "duration": 12,
    "start_time": "2024-11-08T17:33:11.914Z"
   },
   {
    "duration": 26,
    "start_time": "2024-11-08T17:33:11.927Z"
   },
   {
    "duration": 43,
    "start_time": "2024-11-08T17:33:11.954Z"
   },
   {
    "duration": 36,
    "start_time": "2024-11-08T17:33:11.998Z"
   },
   {
    "duration": 302,
    "start_time": "2024-11-08T17:33:12.037Z"
   },
   {
    "duration": 14,
    "start_time": "2024-11-08T17:33:12.340Z"
   },
   {
    "duration": 28,
    "start_time": "2024-11-08T17:33:12.355Z"
   },
   {
    "duration": 47,
    "start_time": "2024-11-08T17:33:12.384Z"
   },
   {
    "duration": 34,
    "start_time": "2024-11-08T17:33:12.432Z"
   },
   {
    "duration": 337,
    "start_time": "2024-11-08T17:33:12.467Z"
   },
   {
    "duration": 22,
    "start_time": "2024-11-08T17:33:12.806Z"
   },
   {
    "duration": 13,
    "start_time": "2024-11-08T17:33:12.830Z"
   },
   {
    "duration": 43,
    "start_time": "2024-11-08T17:33:12.845Z"
   },
   {
    "duration": 54,
    "start_time": "2024-11-08T17:33:12.890Z"
   },
   {
    "duration": 310,
    "start_time": "2024-11-08T17:33:12.946Z"
   },
   {
    "duration": 283,
    "start_time": "2024-11-08T17:33:13.257Z"
   },
   {
    "duration": 356,
    "start_time": "2024-11-08T17:33:13.542Z"
   },
   {
    "duration": 356,
    "start_time": "2024-11-08T17:33:13.900Z"
   },
   {
    "duration": 3,
    "start_time": "2024-11-08T17:33:14.258Z"
   },
   {
    "duration": 13,
    "start_time": "2024-11-08T17:33:14.262Z"
   },
   {
    "duration": 8,
    "start_time": "2024-11-08T17:33:14.277Z"
   },
   {
    "duration": 4,
    "start_time": "2024-11-08T17:33:14.287Z"
   },
   {
    "duration": 6,
    "start_time": "2024-11-08T17:33:14.294Z"
   },
   {
    "duration": 28,
    "start_time": "2024-11-08T17:33:14.301Z"
   },
   {
    "duration": 8,
    "start_time": "2024-11-08T17:33:14.330Z"
   },
   {
    "duration": 118,
    "start_time": "2024-11-08T17:33:14.339Z"
   },
   {
    "duration": 0,
    "start_time": "2024-11-08T17:33:14.460Z"
   },
   {
    "duration": 0,
    "start_time": "2024-11-08T17:33:14.461Z"
   },
   {
    "duration": 27,
    "start_time": "2024-11-08T17:33:38.565Z"
   },
   {
    "duration": 225,
    "start_time": "2024-11-08T17:33:51.647Z"
   },
   {
    "duration": 4,
    "start_time": "2024-11-08T17:34:22.182Z"
   },
   {
    "duration": 2,
    "start_time": "2024-11-08T17:34:25.300Z"
   },
   {
    "duration": 208,
    "start_time": "2024-11-08T17:34:28.467Z"
   },
   {
    "duration": 1323,
    "start_time": "2024-11-08T17:34:34.110Z"
   },
   {
    "duration": 354,
    "start_time": "2024-11-08T17:34:35.436Z"
   },
   {
    "duration": 12,
    "start_time": "2024-11-08T17:34:35.791Z"
   },
   {
    "duration": 12,
    "start_time": "2024-11-08T17:34:35.805Z"
   },
   {
    "duration": 10,
    "start_time": "2024-11-08T17:34:35.818Z"
   },
   {
    "duration": 30,
    "start_time": "2024-11-08T17:34:35.829Z"
   },
   {
    "duration": 18,
    "start_time": "2024-11-08T17:34:35.860Z"
   },
   {
    "duration": 58,
    "start_time": "2024-11-08T17:34:35.879Z"
   },
   {
    "duration": 34,
    "start_time": "2024-11-08T17:34:35.939Z"
   },
   {
    "duration": 346,
    "start_time": "2024-11-08T17:34:35.975Z"
   },
   {
    "duration": 14,
    "start_time": "2024-11-08T17:34:36.323Z"
   },
   {
    "duration": 22,
    "start_time": "2024-11-08T17:34:36.338Z"
   },
   {
    "duration": 46,
    "start_time": "2024-11-08T17:34:36.362Z"
   },
   {
    "duration": 33,
    "start_time": "2024-11-08T17:34:36.410Z"
   },
   {
    "duration": 300,
    "start_time": "2024-11-08T17:34:36.444Z"
   },
   {
    "duration": 12,
    "start_time": "2024-11-08T17:34:36.745Z"
   },
   {
    "duration": 8,
    "start_time": "2024-11-08T17:34:36.758Z"
   },
   {
    "duration": 54,
    "start_time": "2024-11-08T17:34:36.767Z"
   },
   {
    "duration": 32,
    "start_time": "2024-11-08T17:34:36.823Z"
   },
   {
    "duration": 385,
    "start_time": "2024-11-08T17:34:36.856Z"
   },
   {
    "duration": 278,
    "start_time": "2024-11-08T17:34:37.243Z"
   },
   {
    "duration": 360,
    "start_time": "2024-11-08T17:34:37.523Z"
   },
   {
    "duration": 335,
    "start_time": "2024-11-08T17:34:37.884Z"
   },
   {
    "duration": 3,
    "start_time": "2024-11-08T17:34:38.220Z"
   },
   {
    "duration": 18,
    "start_time": "2024-11-08T17:34:38.224Z"
   },
   {
    "duration": 9,
    "start_time": "2024-11-08T17:34:38.243Z"
   },
   {
    "duration": 4,
    "start_time": "2024-11-08T17:34:38.253Z"
   },
   {
    "duration": 8,
    "start_time": "2024-11-08T17:34:38.260Z"
   },
   {
    "duration": 6,
    "start_time": "2024-11-08T17:34:38.269Z"
   },
   {
    "duration": 8,
    "start_time": "2024-11-08T17:34:38.276Z"
   },
   {
    "duration": 228,
    "start_time": "2024-11-08T17:34:38.285Z"
   },
   {
    "duration": 113,
    "start_time": "2024-11-08T17:34:38.514Z"
   },
   {
    "duration": 0,
    "start_time": "2024-11-08T17:34:38.628Z"
   },
   {
    "duration": 215,
    "start_time": "2024-11-08T17:34:56.087Z"
   },
   {
    "duration": 214,
    "start_time": "2024-11-08T17:35:04.256Z"
   },
   {
    "duration": 1297,
    "start_time": "2024-11-08T17:35:10.239Z"
   },
   {
    "duration": 349,
    "start_time": "2024-11-08T17:35:11.538Z"
   },
   {
    "duration": 11,
    "start_time": "2024-11-08T17:35:11.889Z"
   },
   {
    "duration": 28,
    "start_time": "2024-11-08T17:35:11.902Z"
   },
   {
    "duration": 15,
    "start_time": "2024-11-08T17:35:11.932Z"
   },
   {
    "duration": 15,
    "start_time": "2024-11-08T17:35:11.948Z"
   },
   {
    "duration": 11,
    "start_time": "2024-11-08T17:35:11.964Z"
   },
   {
    "duration": 43,
    "start_time": "2024-11-08T17:35:11.976Z"
   },
   {
    "duration": 34,
    "start_time": "2024-11-08T17:35:12.021Z"
   },
   {
    "duration": 342,
    "start_time": "2024-11-08T17:35:12.057Z"
   },
   {
    "duration": 18,
    "start_time": "2024-11-08T17:35:12.401Z"
   },
   {
    "duration": 8,
    "start_time": "2024-11-08T17:35:12.421Z"
   },
   {
    "duration": 40,
    "start_time": "2024-11-08T17:35:12.430Z"
   },
   {
    "duration": 51,
    "start_time": "2024-11-08T17:35:12.471Z"
   },
   {
    "duration": 294,
    "start_time": "2024-11-08T17:35:12.524Z"
   },
   {
    "duration": 12,
    "start_time": "2024-11-08T17:35:12.819Z"
   },
   {
    "duration": 9,
    "start_time": "2024-11-08T17:35:12.832Z"
   },
   {
    "duration": 44,
    "start_time": "2024-11-08T17:35:12.842Z"
   },
   {
    "duration": 48,
    "start_time": "2024-11-08T17:35:12.887Z"
   },
   {
    "duration": 286,
    "start_time": "2024-11-08T17:35:12.937Z"
   },
   {
    "duration": 297,
    "start_time": "2024-11-08T17:35:13.225Z"
   },
   {
    "duration": 302,
    "start_time": "2024-11-08T17:35:13.524Z"
   },
   {
    "duration": 293,
    "start_time": "2024-11-08T17:35:13.827Z"
   },
   {
    "duration": 2,
    "start_time": "2024-11-08T17:35:14.122Z"
   },
   {
    "duration": 8,
    "start_time": "2024-11-08T17:35:14.126Z"
   },
   {
    "duration": 8,
    "start_time": "2024-11-08T17:35:14.135Z"
   },
   {
    "duration": 3,
    "start_time": "2024-11-08T17:35:14.144Z"
   },
   {
    "duration": 3,
    "start_time": "2024-11-08T17:35:14.150Z"
   },
   {
    "duration": 12,
    "start_time": "2024-11-08T17:35:14.155Z"
   },
   {
    "duration": 7,
    "start_time": "2024-11-08T17:35:14.168Z"
   },
   {
    "duration": 226,
    "start_time": "2024-11-08T17:35:14.176Z"
   },
   {
    "duration": 221,
    "start_time": "2024-11-08T17:35:14.403Z"
   },
   {
    "duration": 222,
    "start_time": "2024-11-08T17:35:14.626Z"
   },
   {
    "duration": 1568,
    "start_time": "2024-11-09T04:41:30.412Z"
   },
   {
    "duration": 1140,
    "start_time": "2024-11-09T04:41:31.982Z"
   },
   {
    "duration": 13,
    "start_time": "2024-11-09T04:41:33.124Z"
   },
   {
    "duration": 14,
    "start_time": "2024-11-09T04:41:33.139Z"
   },
   {
    "duration": 27,
    "start_time": "2024-11-09T04:41:33.154Z"
   },
   {
    "duration": 40,
    "start_time": "2024-11-09T04:41:33.183Z"
   },
   {
    "duration": 8,
    "start_time": "2024-11-09T04:41:33.225Z"
   },
   {
    "duration": 53,
    "start_time": "2024-11-09T04:41:33.235Z"
   },
   {
    "duration": 47,
    "start_time": "2024-11-09T04:41:33.290Z"
   },
   {
    "duration": 371,
    "start_time": "2024-11-09T04:41:33.339Z"
   },
   {
    "duration": 12,
    "start_time": "2024-11-09T04:41:33.712Z"
   },
   {
    "duration": 62,
    "start_time": "2024-11-09T04:41:33.725Z"
   },
   {
    "duration": 50,
    "start_time": "2024-11-09T04:41:33.788Z"
   },
   {
    "duration": 35,
    "start_time": "2024-11-09T04:41:33.839Z"
   },
   {
    "duration": 316,
    "start_time": "2024-11-09T04:41:33.875Z"
   },
   {
    "duration": 19,
    "start_time": "2024-11-09T04:41:34.192Z"
   },
   {
    "duration": 8,
    "start_time": "2024-11-09T04:41:34.212Z"
   },
   {
    "duration": 45,
    "start_time": "2024-11-09T04:41:34.222Z"
   },
   {
    "duration": 53,
    "start_time": "2024-11-09T04:41:34.268Z"
   },
   {
    "duration": 291,
    "start_time": "2024-11-09T04:41:34.322Z"
   },
   {
    "duration": 393,
    "start_time": "2024-11-09T04:41:34.614Z"
   },
   {
    "duration": 309,
    "start_time": "2024-11-09T04:41:35.008Z"
   },
   {
    "duration": 318,
    "start_time": "2024-11-09T04:41:35.319Z"
   },
   {
    "duration": 3,
    "start_time": "2024-11-09T04:41:35.639Z"
   },
   {
    "duration": 93,
    "start_time": "2024-11-09T04:41:35.643Z"
   },
   {
    "duration": 40,
    "start_time": "2024-11-09T04:41:35.738Z"
   },
   {
    "duration": 18,
    "start_time": "2024-11-09T04:41:35.780Z"
   },
   {
    "duration": 25,
    "start_time": "2024-11-09T04:41:35.801Z"
   },
   {
    "duration": 19,
    "start_time": "2024-11-09T04:41:35.827Z"
   },
   {
    "duration": 10,
    "start_time": "2024-11-09T04:41:35.847Z"
   },
   {
    "duration": 220,
    "start_time": "2024-11-09T04:41:35.859Z"
   },
   {
    "duration": 214,
    "start_time": "2024-11-09T04:41:36.080Z"
   },
   {
    "duration": 215,
    "start_time": "2024-11-09T04:41:36.296Z"
   }
  ],
  "kernelspec": {
   "display_name": "Python 3 (ipykernel)",
   "language": "python",
   "name": "python3"
  },
  "language_info": {
   "codemirror_mode": {
    "name": "ipython",
    "version": 3
   },
   "file_extension": ".py",
   "mimetype": "text/x-python",
   "name": "python",
   "nbconvert_exporter": "python",
   "pygments_lexer": "ipython3",
   "version": "3.9.5"
  },
  "toc": {
   "base_numbering": 1,
   "nav_menu": {},
   "number_sections": true,
   "sideBar": true,
   "skip_h1_title": true,
   "title_cell": "Table of Contents",
   "title_sidebar": "Contents",
   "toc_cell": false,
   "toc_position": {},
   "toc_section_display": true,
   "toc_window_display": false
  }
 },
 "nbformat": 4,
 "nbformat_minor": 2
}
