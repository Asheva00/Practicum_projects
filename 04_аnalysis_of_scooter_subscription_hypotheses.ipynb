{
 "cells": [
  {
   "cell_type": "markdown",
   "id": "9d118a6b",
   "metadata": {},
   "source": [
    "**ОПИСАНИЕ ПРОЕКТА:**\n",
    "\n",
    "В сервисе аренды самокатов GoFast имеются два вида пользователей: \n",
    "\n",
    "•\tбез подписки\n",
    "\n",
    "    o\tабонентская плата отсутствует;\n",
    "    \n",
    "    o\tстоимость одной минуты поездки — 88 рублей;\n",
    "    \n",
    "    o\tстоимость старта (начала поездки) — 50 рублей;\n",
    "    \n",
    "•\tс подпиской Ultra \n",
    "\n",
    "    o\tабонентская плата — 199 рублей в месяц;\n",
    "    \n",
    "    o\tстоимость одной минуты поездки — 66 рублей;\n",
    "    \n",
    "    o\tстоимость старта — бесплатно.\n",
    "    \n",
    "Нужно проанализировать поведение этих двух групп пользователей, а также принять решение о целесообразности увеличения доли пользователей с подпиской\n",
    "\n",
    "ОПИСАНИЕ ДАННЫХ:\n",
    "\n",
    "Имеются три таблицы с данными: \n",
    "\n",
    "• Пользователи — users_go.csv\n",
    "\n",
    "• Поездки — rides_go.csv\n",
    "\n",
    "• Подписки — subscriptions_go.csv\n",
    "\n",
    "\n",
    "В ХОДЕ РАБОТЫ \n",
    "\n",
    "•\tмы проведем проверку данных: удалим дубликаты, добавим пропущенные значения и создадим недостающие столбцы с данными \n",
    "\n",
    "•\tсоздадим общую таблицу с данными и таблицы с данными о пользователях с подпиской и без подписки \n",
    "\n",
    "•\tизучим информацию о расстоянии и и времени поездок пользователей\n",
    "\n",
    "•\tпосчитаем и проанализируем помесячную выручку \n",
    "\n",
    "•\tпроверим гипотизы о поведении пользователей с подпиской и без подписки\n",
    "\n",
    "    o\tтратят ли пользователи с подпиской больше времени на поездки?\n",
    "    \n",
    "    o\tможно ли сказать, что среднее расстояние, которое проезжают пользователи с подпиской за одну поездку, не превышает           \n",
    "    o   оптимальное расстояние с точки зрения износа самоката 3130 метров? \n",
    "    o   будет ли помесячная выручка от пользователей с подпиской по месяцам выше, чем выручка от пользователей без подписки"
   ]
  },
  {
   "cell_type": "code",
   "execution_count": 1,
   "id": "72576667",
   "metadata": {},
   "outputs": [],
   "source": [
    "import pandas as pd\n",
    "import numpy as np\n",
    "import matplotlib.pyplot as plt\n",
    "from scipy import stats as st\n",
    "from matplotlib import pyplot as plt\n",
    "from math import factorial\n",
    "from scipy.stats import binom\n",
    "from math import sqrt"
   ]
  },
  {
   "cell_type": "markdown",
   "id": "c42cbe00",
   "metadata": {},
   "source": [
    "#### Шаг 1. Загрузка данных"
   ]
  },
  {
   "cell_type": "code",
   "execution_count": 2,
   "id": "eff9f206",
   "metadata": {},
   "outputs": [],
   "source": [
    "users = pd.read_csv('/datasets/users_go.csv')\n",
    "rides = pd.read_csv('/datasets/rides_go.csv')\n",
    "subscriptions = pd.read_csv('/datasets/subscriptions_go.csv')\n",
    "\n",
    "#Считайте CSV-файлы с данными с помощью библиотеки pandas и сохраните их в датафреймы"
   ]
  },
  {
   "cell_type": "code",
   "execution_count": 3,
   "id": "c0f85816",
   "metadata": {},
   "outputs": [
    {
     "data": {
      "text/html": [
       "<div>\n",
       "<style scoped>\n",
       "    .dataframe tbody tr th:only-of-type {\n",
       "        vertical-align: middle;\n",
       "    }\n",
       "\n",
       "    .dataframe tbody tr th {\n",
       "        vertical-align: top;\n",
       "    }\n",
       "\n",
       "    .dataframe thead th {\n",
       "        text-align: right;\n",
       "    }\n",
       "</style>\n",
       "<table border=\"1\" class=\"dataframe\">\n",
       "  <thead>\n",
       "    <tr style=\"text-align: right;\">\n",
       "      <th></th>\n",
       "      <th>user_id</th>\n",
       "      <th>name</th>\n",
       "      <th>age</th>\n",
       "      <th>city</th>\n",
       "      <th>subscription_type</th>\n",
       "    </tr>\n",
       "  </thead>\n",
       "  <tbody>\n",
       "    <tr>\n",
       "      <th>0</th>\n",
       "      <td>1</td>\n",
       "      <td>Кира</td>\n",
       "      <td>22</td>\n",
       "      <td>Тюмень</td>\n",
       "      <td>ultra</td>\n",
       "    </tr>\n",
       "    <tr>\n",
       "      <th>1</th>\n",
       "      <td>2</td>\n",
       "      <td>Станислав</td>\n",
       "      <td>31</td>\n",
       "      <td>Омск</td>\n",
       "      <td>ultra</td>\n",
       "    </tr>\n",
       "    <tr>\n",
       "      <th>2</th>\n",
       "      <td>3</td>\n",
       "      <td>Алексей</td>\n",
       "      <td>20</td>\n",
       "      <td>Москва</td>\n",
       "      <td>ultra</td>\n",
       "    </tr>\n",
       "    <tr>\n",
       "      <th>3</th>\n",
       "      <td>4</td>\n",
       "      <td>Константин</td>\n",
       "      <td>26</td>\n",
       "      <td>Ростов-на-Дону</td>\n",
       "      <td>ultra</td>\n",
       "    </tr>\n",
       "    <tr>\n",
       "      <th>4</th>\n",
       "      <td>5</td>\n",
       "      <td>Адель</td>\n",
       "      <td>28</td>\n",
       "      <td>Омск</td>\n",
       "      <td>ultra</td>\n",
       "    </tr>\n",
       "  </tbody>\n",
       "</table>\n",
       "</div>"
      ],
      "text/plain": [
       "   user_id        name  age            city subscription_type\n",
       "0        1        Кира   22          Тюмень             ultra\n",
       "1        2   Станислав   31            Омск             ultra\n",
       "2        3     Алексей   20          Москва             ultra\n",
       "3        4  Константин   26  Ростов-на-Дону             ultra\n",
       "4        5       Адель   28            Омск             ultra"
      ]
     },
     "execution_count": 3,
     "metadata": {},
     "output_type": "execute_result"
    }
   ],
   "source": [
    "users.head() #Выводим первые строки пользователей   "
   ]
  },
  {
   "cell_type": "code",
   "execution_count": 4,
   "id": "ee2150e3",
   "metadata": {},
   "outputs": [
    {
     "data": {
      "text/html": [
       "<div>\n",
       "<style scoped>\n",
       "    .dataframe tbody tr th:only-of-type {\n",
       "        vertical-align: middle;\n",
       "    }\n",
       "\n",
       "    .dataframe tbody tr th {\n",
       "        vertical-align: top;\n",
       "    }\n",
       "\n",
       "    .dataframe thead th {\n",
       "        text-align: right;\n",
       "    }\n",
       "</style>\n",
       "<table border=\"1\" class=\"dataframe\">\n",
       "  <thead>\n",
       "    <tr style=\"text-align: right;\">\n",
       "      <th></th>\n",
       "      <th>user_id</th>\n",
       "      <th>distance</th>\n",
       "      <th>duration</th>\n",
       "      <th>date</th>\n",
       "    </tr>\n",
       "  </thead>\n",
       "  <tbody>\n",
       "    <tr>\n",
       "      <th>0</th>\n",
       "      <td>1</td>\n",
       "      <td>4409.919140</td>\n",
       "      <td>25.599769</td>\n",
       "      <td>2021-01-01</td>\n",
       "    </tr>\n",
       "    <tr>\n",
       "      <th>1</th>\n",
       "      <td>1</td>\n",
       "      <td>2617.592153</td>\n",
       "      <td>15.816871</td>\n",
       "      <td>2021-01-18</td>\n",
       "    </tr>\n",
       "    <tr>\n",
       "      <th>2</th>\n",
       "      <td>1</td>\n",
       "      <td>754.159807</td>\n",
       "      <td>6.232113</td>\n",
       "      <td>2021-04-20</td>\n",
       "    </tr>\n",
       "    <tr>\n",
       "      <th>3</th>\n",
       "      <td>1</td>\n",
       "      <td>2694.783254</td>\n",
       "      <td>18.511000</td>\n",
       "      <td>2021-08-11</td>\n",
       "    </tr>\n",
       "    <tr>\n",
       "      <th>4</th>\n",
       "      <td>1</td>\n",
       "      <td>4028.687306</td>\n",
       "      <td>26.265803</td>\n",
       "      <td>2021-08-28</td>\n",
       "    </tr>\n",
       "  </tbody>\n",
       "</table>\n",
       "</div>"
      ],
      "text/plain": [
       "   user_id     distance   duration        date\n",
       "0        1  4409.919140  25.599769  2021-01-01\n",
       "1        1  2617.592153  15.816871  2021-01-18\n",
       "2        1   754.159807   6.232113  2021-04-20\n",
       "3        1  2694.783254  18.511000  2021-08-11\n",
       "4        1  4028.687306  26.265803  2021-08-28"
      ]
     },
     "execution_count": 4,
     "metadata": {},
     "output_type": "execute_result"
    }
   ],
   "source": [
    "#Выводим первые строки поездок  \n",
    "    \n",
    "rides.head()"
   ]
  },
  {
   "cell_type": "code",
   "execution_count": 5,
   "id": "82ca2c89",
   "metadata": {},
   "outputs": [
    {
     "data": {
      "text/html": [
       "<div>\n",
       "<style scoped>\n",
       "    .dataframe tbody tr th:only-of-type {\n",
       "        vertical-align: middle;\n",
       "    }\n",
       "\n",
       "    .dataframe tbody tr th {\n",
       "        vertical-align: top;\n",
       "    }\n",
       "\n",
       "    .dataframe thead th {\n",
       "        text-align: right;\n",
       "    }\n",
       "</style>\n",
       "<table border=\"1\" class=\"dataframe\">\n",
       "  <thead>\n",
       "    <tr style=\"text-align: right;\">\n",
       "      <th></th>\n",
       "      <th>subscription_type</th>\n",
       "      <th>minute_price</th>\n",
       "      <th>start_ride_price</th>\n",
       "      <th>subscription_fee</th>\n",
       "    </tr>\n",
       "  </thead>\n",
       "  <tbody>\n",
       "    <tr>\n",
       "      <th>0</th>\n",
       "      <td>free</td>\n",
       "      <td>8</td>\n",
       "      <td>50</td>\n",
       "      <td>0</td>\n",
       "    </tr>\n",
       "    <tr>\n",
       "      <th>1</th>\n",
       "      <td>ultra</td>\n",
       "      <td>6</td>\n",
       "      <td>0</td>\n",
       "      <td>199</td>\n",
       "    </tr>\n",
       "  </tbody>\n",
       "</table>\n",
       "</div>"
      ],
      "text/plain": [
       "  subscription_type  minute_price  start_ride_price  subscription_fee\n",
       "0              free             8                50                 0\n",
       "1             ultra             6                 0               199"
      ]
     },
     "execution_count": 5,
     "metadata": {},
     "output_type": "execute_result"
    }
   ],
   "source": [
    "subscriptions.head()  #Выводим первые строки подписок  "
   ]
  },
  {
   "cell_type": "code",
   "execution_count": 6,
   "id": "9bec0dd8",
   "metadata": {},
   "outputs": [
    {
     "name": "stdout",
     "output_type": "stream",
     "text": [
      "<class 'pandas.core.frame.DataFrame'>\n",
      "RangeIndex: 1565 entries, 0 to 1564\n",
      "Data columns (total 5 columns):\n",
      " #   Column             Non-Null Count  Dtype \n",
      "---  ------             --------------  ----- \n",
      " 0   user_id            1565 non-null   int64 \n",
      " 1   name               1565 non-null   object\n",
      " 2   age                1565 non-null   int64 \n",
      " 3   city               1565 non-null   object\n",
      " 4   subscription_type  1565 non-null   object\n",
      "dtypes: int64(2), object(3)\n",
      "memory usage: 61.3+ KB\n"
     ]
    }
   ],
   "source": [
    "#смотрим информацию про датасет users\n",
    "\n",
    "users.info()\n"
   ]
  },
  {
   "cell_type": "code",
   "execution_count": 7,
   "id": "881b8640",
   "metadata": {},
   "outputs": [
    {
     "name": "stdout",
     "output_type": "stream",
     "text": [
      "<class 'pandas.core.frame.DataFrame'>\n",
      "RangeIndex: 18068 entries, 0 to 18067\n",
      "Data columns (total 4 columns):\n",
      " #   Column    Non-Null Count  Dtype  \n",
      "---  ------    --------------  -----  \n",
      " 0   user_id   18068 non-null  int64  \n",
      " 1   distance  18068 non-null  float64\n",
      " 2   duration  18068 non-null  float64\n",
      " 3   date      18068 non-null  object \n",
      "dtypes: float64(2), int64(1), object(1)\n",
      "memory usage: 564.8+ KB\n"
     ]
    }
   ],
   "source": [
    "#смотрим информацию про датасет rides\n",
    "\n",
    "rides.info()"
   ]
  },
  {
   "cell_type": "code",
   "execution_count": 8,
   "id": "8614e613",
   "metadata": {
    "scrolled": true
   },
   "outputs": [
    {
     "name": "stdout",
     "output_type": "stream",
     "text": [
      "<class 'pandas.core.frame.DataFrame'>\n",
      "RangeIndex: 2 entries, 0 to 1\n",
      "Data columns (total 4 columns):\n",
      " #   Column             Non-Null Count  Dtype \n",
      "---  ------             --------------  ----- \n",
      " 0   subscription_type  2 non-null      object\n",
      " 1   minute_price       2 non-null      int64 \n",
      " 2   start_ride_price   2 non-null      int64 \n",
      " 3   subscription_fee   2 non-null      int64 \n",
      "dtypes: int64(3), object(1)\n",
      "memory usage: 192.0+ bytes\n"
     ]
    }
   ],
   "source": [
    "#смотрим информацию про датасет subscriptions\n",
    "\n",
    "subscriptions.info()"
   ]
  },
  {
   "cell_type": "markdown",
   "id": "99776b8e",
   "metadata": {},
   "source": [
    "В таблице: \n",
    "\n",
    "• <b>users</b> 1565 записи и данные типа \"целые числа\" и \"вещественные числа\". Изменение типа данных не требуется\n",
    "\n",
    "• <b>rides</b> 18068 записи и данные типа \"целые числа\" и \"вещественные числа\". Изменение типа данных не требуется\n",
    "\n",
    "• <b>subscriptions</b> 2 записи и данные типа \"целые числа\" и \"строка\". Изменение типа данных не требуется\n"
   ]
  },
  {
   "cell_type": "markdown",
   "id": "e95ebca7",
   "metadata": {},
   "source": [
    "#### Шаг 2. Предобработка данных"
   ]
  },
  {
   "cell_type": "code",
   "execution_count": 9,
   "id": "af6d202c",
   "metadata": {},
   "outputs": [
    {
     "data": {
      "text/html": [
       "<div>\n",
       "<style scoped>\n",
       "    .dataframe tbody tr th:only-of-type {\n",
       "        vertical-align: middle;\n",
       "    }\n",
       "\n",
       "    .dataframe tbody tr th {\n",
       "        vertical-align: top;\n",
       "    }\n",
       "\n",
       "    .dataframe thead th {\n",
       "        text-align: right;\n",
       "    }\n",
       "</style>\n",
       "<table border=\"1\" class=\"dataframe\">\n",
       "  <thead>\n",
       "    <tr style=\"text-align: right;\">\n",
       "      <th></th>\n",
       "      <th>user_id</th>\n",
       "      <th>distance</th>\n",
       "      <th>duration</th>\n",
       "      <th>date</th>\n",
       "    </tr>\n",
       "  </thead>\n",
       "  <tbody>\n",
       "    <tr>\n",
       "      <th>0</th>\n",
       "      <td>1</td>\n",
       "      <td>4409.919140</td>\n",
       "      <td>25.599769</td>\n",
       "      <td>2021-01-01</td>\n",
       "    </tr>\n",
       "    <tr>\n",
       "      <th>1</th>\n",
       "      <td>1</td>\n",
       "      <td>2617.592153</td>\n",
       "      <td>15.816871</td>\n",
       "      <td>2021-01-18</td>\n",
       "    </tr>\n",
       "    <tr>\n",
       "      <th>2</th>\n",
       "      <td>1</td>\n",
       "      <td>754.159807</td>\n",
       "      <td>6.232113</td>\n",
       "      <td>2021-04-20</td>\n",
       "    </tr>\n",
       "    <tr>\n",
       "      <th>3</th>\n",
       "      <td>1</td>\n",
       "      <td>2694.783254</td>\n",
       "      <td>18.511000</td>\n",
       "      <td>2021-08-11</td>\n",
       "    </tr>\n",
       "    <tr>\n",
       "      <th>4</th>\n",
       "      <td>1</td>\n",
       "      <td>4028.687306</td>\n",
       "      <td>26.265803</td>\n",
       "      <td>2021-08-28</td>\n",
       "    </tr>\n",
       "  </tbody>\n",
       "</table>\n",
       "</div>"
      ],
      "text/plain": [
       "   user_id     distance   duration       date\n",
       "0        1  4409.919140  25.599769 2021-01-01\n",
       "1        1  2617.592153  15.816871 2021-01-18\n",
       "2        1   754.159807   6.232113 2021-04-20\n",
       "3        1  2694.783254  18.511000 2021-08-11\n",
       "4        1  4028.687306  26.265803 2021-08-28"
      ]
     },
     "execution_count": 9,
     "metadata": {},
     "output_type": "execute_result"
    }
   ],
   "source": [
    "# Приведим столбец date к типу даты pandas \n",
    "rides['date'] = pd.to_datetime(rides['date'])\n",
    "\n",
    "rides.head()"
   ]
  },
  {
   "cell_type": "code",
   "execution_count": 10,
   "id": "7b2e43c8",
   "metadata": {
    "scrolled": true
   },
   "outputs": [
    {
     "data": {
      "text/html": [
       "<div>\n",
       "<style scoped>\n",
       "    .dataframe tbody tr th:only-of-type {\n",
       "        vertical-align: middle;\n",
       "    }\n",
       "\n",
       "    .dataframe tbody tr th {\n",
       "        vertical-align: top;\n",
       "    }\n",
       "\n",
       "    .dataframe thead th {\n",
       "        text-align: right;\n",
       "    }\n",
       "</style>\n",
       "<table border=\"1\" class=\"dataframe\">\n",
       "  <thead>\n",
       "    <tr style=\"text-align: right;\">\n",
       "      <th></th>\n",
       "      <th>user_id</th>\n",
       "      <th>distance</th>\n",
       "      <th>duration</th>\n",
       "      <th>date</th>\n",
       "      <th>month</th>\n",
       "    </tr>\n",
       "  </thead>\n",
       "  <tbody>\n",
       "    <tr>\n",
       "      <th>0</th>\n",
       "      <td>1</td>\n",
       "      <td>4409.919140</td>\n",
       "      <td>25.599769</td>\n",
       "      <td>2021-01-01</td>\n",
       "      <td>1</td>\n",
       "    </tr>\n",
       "    <tr>\n",
       "      <th>1</th>\n",
       "      <td>1</td>\n",
       "      <td>2617.592153</td>\n",
       "      <td>15.816871</td>\n",
       "      <td>2021-01-18</td>\n",
       "      <td>1</td>\n",
       "    </tr>\n",
       "    <tr>\n",
       "      <th>2</th>\n",
       "      <td>1</td>\n",
       "      <td>754.159807</td>\n",
       "      <td>6.232113</td>\n",
       "      <td>2021-04-20</td>\n",
       "      <td>4</td>\n",
       "    </tr>\n",
       "    <tr>\n",
       "      <th>3</th>\n",
       "      <td>1</td>\n",
       "      <td>2694.783254</td>\n",
       "      <td>18.511000</td>\n",
       "      <td>2021-08-11</td>\n",
       "      <td>8</td>\n",
       "    </tr>\n",
       "    <tr>\n",
       "      <th>4</th>\n",
       "      <td>1</td>\n",
       "      <td>4028.687306</td>\n",
       "      <td>26.265803</td>\n",
       "      <td>2021-08-28</td>\n",
       "      <td>8</td>\n",
       "    </tr>\n",
       "  </tbody>\n",
       "</table>\n",
       "</div>"
      ],
      "text/plain": [
       "   user_id     distance   duration       date  month\n",
       "0        1  4409.919140  25.599769 2021-01-01      1\n",
       "1        1  2617.592153  15.816871 2021-01-18      1\n",
       "2        1   754.159807   6.232113 2021-04-20      4\n",
       "3        1  2694.783254  18.511000 2021-08-11      8\n",
       "4        1  4028.687306  26.265803 2021-08-28      8"
      ]
     },
     "execution_count": 10,
     "metadata": {},
     "output_type": "execute_result"
    }
   ],
   "source": [
    "#Создаем новый столбец с номером месяца на основе столбца date\n",
    "\n",
    "rides['month'] = rides['date'].dt.month \n",
    "\n",
    "rides.head()"
   ]
  },
  {
   "cell_type": "code",
   "execution_count": 11,
   "id": "564f9341",
   "metadata": {},
   "outputs": [
    {
     "data": {
      "text/html": [
       "<div>\n",
       "<style scoped>\n",
       "    .dataframe tbody tr th:only-of-type {\n",
       "        vertical-align: middle;\n",
       "    }\n",
       "\n",
       "    .dataframe tbody tr th {\n",
       "        vertical-align: top;\n",
       "    }\n",
       "\n",
       "    .dataframe thead th {\n",
       "        text-align: right;\n",
       "    }\n",
       "</style>\n",
       "<table border=\"1\" class=\"dataframe\">\n",
       "  <thead>\n",
       "    <tr style=\"text-align: right;\">\n",
       "      <th></th>\n",
       "      <th>user_id</th>\n",
       "      <th>distance</th>\n",
       "      <th>duration</th>\n",
       "      <th>date</th>\n",
       "      <th>month</th>\n",
       "      <th>year</th>\n",
       "    </tr>\n",
       "  </thead>\n",
       "  <tbody>\n",
       "    <tr>\n",
       "      <th>0</th>\n",
       "      <td>1</td>\n",
       "      <td>4409.919140</td>\n",
       "      <td>25.599769</td>\n",
       "      <td>2021-01-01</td>\n",
       "      <td>1</td>\n",
       "      <td>2021</td>\n",
       "    </tr>\n",
       "    <tr>\n",
       "      <th>1</th>\n",
       "      <td>1</td>\n",
       "      <td>2617.592153</td>\n",
       "      <td>15.816871</td>\n",
       "      <td>2021-01-18</td>\n",
       "      <td>1</td>\n",
       "      <td>2021</td>\n",
       "    </tr>\n",
       "    <tr>\n",
       "      <th>2</th>\n",
       "      <td>1</td>\n",
       "      <td>754.159807</td>\n",
       "      <td>6.232113</td>\n",
       "      <td>2021-04-20</td>\n",
       "      <td>4</td>\n",
       "      <td>2021</td>\n",
       "    </tr>\n",
       "    <tr>\n",
       "      <th>3</th>\n",
       "      <td>1</td>\n",
       "      <td>2694.783254</td>\n",
       "      <td>18.511000</td>\n",
       "      <td>2021-08-11</td>\n",
       "      <td>8</td>\n",
       "      <td>2021</td>\n",
       "    </tr>\n",
       "    <tr>\n",
       "      <th>4</th>\n",
       "      <td>1</td>\n",
       "      <td>4028.687306</td>\n",
       "      <td>26.265803</td>\n",
       "      <td>2021-08-28</td>\n",
       "      <td>8</td>\n",
       "      <td>2021</td>\n",
       "    </tr>\n",
       "  </tbody>\n",
       "</table>\n",
       "</div>"
      ],
      "text/plain": [
       "   user_id     distance   duration       date  month  year\n",
       "0        1  4409.919140  25.599769 2021-01-01      1  2021\n",
       "1        1  2617.592153  15.816871 2021-01-18      1  2021\n",
       "2        1   754.159807   6.232113 2021-04-20      4  2021\n",
       "3        1  2694.783254  18.511000 2021-08-11      8  2021\n",
       "4        1  4028.687306  26.265803 2021-08-28      8  2021"
      ]
     },
     "execution_count": 11,
     "metadata": {},
     "output_type": "execute_result"
    }
   ],
   "source": [
    "#v_1: Создаем новый столбец с годом на основе столбца date\n",
    "\n",
    "rides['year'] = rides['date'].dt.year\n",
    "\n",
    "rides.head()"
   ]
  },
  {
   "cell_type": "code",
   "execution_count": 12,
   "id": "88b0f997",
   "metadata": {},
   "outputs": [
    {
     "data": {
      "text/plain": [
       "array([2021])"
      ]
     },
     "execution_count": 12,
     "metadata": {},
     "output_type": "execute_result"
    }
   ],
   "source": [
    "rides['year'].unique()"
   ]
  },
  {
   "cell_type": "markdown",
   "id": "e271133d",
   "metadata": {},
   "source": [
    "Данные представлены за один год (2021)"
   ]
  },
  {
   "cell_type": "code",
   "execution_count": 13,
   "id": "113228d1",
   "metadata": {
    "scrolled": true
   },
   "outputs": [
    {
     "data": {
      "text/plain": [
       "user_id              0\n",
       "name                 0\n",
       "age                  0\n",
       "city                 0\n",
       "subscription_type    0\n",
       "dtype: int64"
      ]
     },
     "execution_count": 13,
     "metadata": {},
     "output_type": "execute_result"
    }
   ],
   "source": [
    "# смотрим наличие пропущенных значений в users\n",
    "\n",
    "users.isna().sum()"
   ]
  },
  {
   "cell_type": "markdown",
   "id": "712d2347",
   "metadata": {},
   "source": [
    "пропущенных значений не обнаружено"
   ]
  },
  {
   "cell_type": "code",
   "execution_count": 14,
   "id": "7c010a72",
   "metadata": {},
   "outputs": [
    {
     "data": {
      "text/plain": [
       "subscription_type    0\n",
       "minute_price         0\n",
       "start_ride_price     0\n",
       "subscription_fee     0\n",
       "dtype: int64"
      ]
     },
     "execution_count": 14,
     "metadata": {},
     "output_type": "execute_result"
    }
   ],
   "source": [
    "# смотрим наличие пропущенных значений в subscriptions\n",
    "\n",
    "subscriptions.isna().sum()\n",
    "\n",
    "# пропущенных значений не обнаружено"
   ]
  },
  {
   "cell_type": "code",
   "execution_count": 15,
   "id": "23646828",
   "metadata": {},
   "outputs": [
    {
     "data": {
      "text/plain": [
       "user_id     0\n",
       "distance    0\n",
       "duration    0\n",
       "date        0\n",
       "month       0\n",
       "year        0\n",
       "dtype: int64"
      ]
     },
     "execution_count": 15,
     "metadata": {},
     "output_type": "execute_result"
    }
   ],
   "source": [
    "# смотрим наличие пропущенных значений в rides\n",
    "\n",
    "rides.isna().sum()\n",
    "\n",
    "# пропущенных значений не обнаружено"
   ]
  },
  {
   "cell_type": "code",
   "execution_count": 16,
   "id": "7f52b750",
   "metadata": {},
   "outputs": [
    {
     "data": {
      "text/plain": [
       "31"
      ]
     },
     "execution_count": 16,
     "metadata": {},
     "output_type": "execute_result"
    }
   ],
   "source": [
    "#проверяем нет ли явных дубликатов в users\n",
    "\n",
    "users.duplicated().sum()\n",
    "\n",
    "# обнаружен 31 явный дубликат"
   ]
  },
  {
   "cell_type": "code",
   "execution_count": 17,
   "id": "1e8000de",
   "metadata": {},
   "outputs": [
    {
     "data": {
      "text/html": [
       "<div>\n",
       "<style scoped>\n",
       "    .dataframe tbody tr th:only-of-type {\n",
       "        vertical-align: middle;\n",
       "    }\n",
       "\n",
       "    .dataframe tbody tr th {\n",
       "        vertical-align: top;\n",
       "    }\n",
       "\n",
       "    .dataframe thead th {\n",
       "        text-align: right;\n",
       "    }\n",
       "</style>\n",
       "<table border=\"1\" class=\"dataframe\">\n",
       "  <thead>\n",
       "    <tr style=\"text-align: right;\">\n",
       "      <th></th>\n",
       "      <th>user_id</th>\n",
       "      <th>name</th>\n",
       "      <th>age</th>\n",
       "      <th>city</th>\n",
       "      <th>subscription_type</th>\n",
       "    </tr>\n",
       "  </thead>\n",
       "  <tbody>\n",
       "    <tr>\n",
       "      <th>0</th>\n",
       "      <td>1</td>\n",
       "      <td>Кира</td>\n",
       "      <td>22</td>\n",
       "      <td>Тюмень</td>\n",
       "      <td>ultra</td>\n",
       "    </tr>\n",
       "    <tr>\n",
       "      <th>1</th>\n",
       "      <td>2</td>\n",
       "      <td>Станислав</td>\n",
       "      <td>31</td>\n",
       "      <td>Омск</td>\n",
       "      <td>ultra</td>\n",
       "    </tr>\n",
       "    <tr>\n",
       "      <th>2</th>\n",
       "      <td>3</td>\n",
       "      <td>Алексей</td>\n",
       "      <td>20</td>\n",
       "      <td>Москва</td>\n",
       "      <td>ultra</td>\n",
       "    </tr>\n",
       "    <tr>\n",
       "      <th>3</th>\n",
       "      <td>4</td>\n",
       "      <td>Константин</td>\n",
       "      <td>26</td>\n",
       "      <td>Ростов-на-Дону</td>\n",
       "      <td>ultra</td>\n",
       "    </tr>\n",
       "    <tr>\n",
       "      <th>4</th>\n",
       "      <td>5</td>\n",
       "      <td>Адель</td>\n",
       "      <td>28</td>\n",
       "      <td>Омск</td>\n",
       "      <td>ultra</td>\n",
       "    </tr>\n",
       "  </tbody>\n",
       "</table>\n",
       "</div>"
      ],
      "text/plain": [
       "   user_id        name  age            city subscription_type\n",
       "0        1        Кира   22          Тюмень             ultra\n",
       "1        2   Станислав   31            Омск             ultra\n",
       "2        3     Алексей   20          Москва             ultra\n",
       "3        4  Константин   26  Ростов-на-Дону             ultra\n",
       "4        5       Адель   28            Омск             ultra"
      ]
     },
     "execution_count": 17,
     "metadata": {},
     "output_type": "execute_result"
    }
   ],
   "source": [
    "#избавляемся от явных дубликатов в users\n",
    "\n",
    "users = users.drop_duplicates()\n",
    "users = users.reset_index(drop=True)\n",
    "users.head()"
   ]
  },
  {
   "cell_type": "code",
   "execution_count": 18,
   "id": "5881ccf0",
   "metadata": {},
   "outputs": [
    {
     "data": {
      "text/plain": [
       "0"
      ]
     },
     "execution_count": 18,
     "metadata": {},
     "output_type": "execute_result"
    }
   ],
   "source": [
    "#проверяем нет ли явных дубликатов в users\n",
    "\n",
    "users.duplicated().sum()\n",
    "\n",
    "#явных дубликатов нет"
   ]
  },
  {
   "cell_type": "code",
   "execution_count": 19,
   "id": "a381e138",
   "metadata": {},
   "outputs": [
    {
     "data": {
      "text/plain": [
       "0"
      ]
     },
     "execution_count": 19,
     "metadata": {},
     "output_type": "execute_result"
    }
   ],
   "source": [
    "#проверяем нет ли явных дубликатов в subscriptions\n",
    "\n",
    "subscriptions.duplicated().sum()\n",
    "\n",
    "# явных дубликатов не обнаружено"
   ]
  },
  {
   "cell_type": "code",
   "execution_count": 20,
   "id": "b3aac35a",
   "metadata": {},
   "outputs": [
    {
     "data": {
      "text/plain": [
       "0"
      ]
     },
     "execution_count": 20,
     "metadata": {},
     "output_type": "execute_result"
    }
   ],
   "source": [
    "#проверяем нет ли явных дубликатов в rides\n",
    "\n",
    "rides.duplicated().sum()\n",
    "\n",
    "#явных дубликатов не обнаружено"
   ]
  },
  {
   "cell_type": "markdown",
   "id": "212593c7",
   "metadata": {},
   "source": [
    "#### Шаг 3. Исследовательский анализ данных"
   ]
  },
  {
   "cell_type": "code",
   "execution_count": 21,
   "id": "79ecd4c5",
   "metadata": {},
   "outputs": [
    {
     "data": {
      "text/html": [
       "<div>\n",
       "<style scoped>\n",
       "    .dataframe tbody tr th:only-of-type {\n",
       "        vertical-align: middle;\n",
       "    }\n",
       "\n",
       "    .dataframe tbody tr th {\n",
       "        vertical-align: top;\n",
       "    }\n",
       "\n",
       "    .dataframe thead th {\n",
       "        text-align: right;\n",
       "    }\n",
       "</style>\n",
       "<table border=\"1\" class=\"dataframe\">\n",
       "  <thead>\n",
       "    <tr style=\"text-align: right;\">\n",
       "      <th></th>\n",
       "      <th>quantity</th>\n",
       "      <th>percentage</th>\n",
       "    </tr>\n",
       "  </thead>\n",
       "  <tbody>\n",
       "    <tr>\n",
       "      <th>Пятигорск</th>\n",
       "      <td>219</td>\n",
       "      <td>14.28</td>\n",
       "    </tr>\n",
       "    <tr>\n",
       "      <th>Екатеринбург</th>\n",
       "      <td>204</td>\n",
       "      <td>13.30</td>\n",
       "    </tr>\n",
       "    <tr>\n",
       "      <th>Ростов-на-Дону</th>\n",
       "      <td>198</td>\n",
       "      <td>12.91</td>\n",
       "    </tr>\n",
       "    <tr>\n",
       "      <th>Краснодар</th>\n",
       "      <td>193</td>\n",
       "      <td>12.58</td>\n",
       "    </tr>\n",
       "    <tr>\n",
       "      <th>Сочи</th>\n",
       "      <td>189</td>\n",
       "      <td>12.32</td>\n",
       "    </tr>\n",
       "    <tr>\n",
       "      <th>Омск</th>\n",
       "      <td>183</td>\n",
       "      <td>11.93</td>\n",
       "    </tr>\n",
       "    <tr>\n",
       "      <th>Тюмень</th>\n",
       "      <td>180</td>\n",
       "      <td>11.73</td>\n",
       "    </tr>\n",
       "    <tr>\n",
       "      <th>Москва</th>\n",
       "      <td>168</td>\n",
       "      <td>10.95</td>\n",
       "    </tr>\n",
       "  </tbody>\n",
       "</table>\n",
       "</div>"
      ],
      "text/plain": [
       "                quantity  percentage\n",
       "Пятигорск            219       14.28\n",
       "Екатеринбург         204       13.30\n",
       "Ростов-на-Дону       198       12.91\n",
       "Краснодар            193       12.58\n",
       "Сочи                 189       12.32\n",
       "Омск                 183       11.93\n",
       "Тюмень               180       11.73\n",
       "Москва               168       10.95"
      ]
     },
     "execution_count": 21,
     "metadata": {},
     "output_type": "execute_result"
    }
   ],
   "source": [
    "#смотрим частоту встречаемости городов и создаем таблицу city_frequency\n",
    " \n",
    "city_frequency = users['city'].value_counts()\n",
    "\n",
    "#смотрим соотношение в процентах \n",
    "city_percentage = users['city'].value_counts()/len(users) * 100\n",
    "\n",
    "#создаем общую таблицу\n",
    "\n",
    "data_city = pd.concat([city_frequency,city_percentage], axis=1).round(2)\n",
    "data_city.columns = ['quantity','percentage']\n",
    "data_city"
   ]
  },
  {
   "cell_type": "code",
   "execution_count": 22,
   "id": "f178d5c1",
   "metadata": {},
   "outputs": [
    {
     "name": "stdout",
     "output_type": "stream",
     "text": [
      "<class 'pandas.core.frame.DataFrame'>\n",
      "Index: 8 entries, Пятигорск to Москва\n",
      "Data columns (total 2 columns):\n",
      " #   Column      Non-Null Count  Dtype  \n",
      "---  ------      --------------  -----  \n",
      " 0   quantity    8 non-null      int64  \n",
      " 1   percentage  8 non-null      float64\n",
      "dtypes: float64(1), int64(1)\n",
      "memory usage: 192.0+ bytes\n"
     ]
    }
   ],
   "source": [
    "data_city.info()"
   ]
  },
  {
   "cell_type": "code",
   "execution_count": 23,
   "id": "a95024b0",
   "metadata": {},
   "outputs": [
    {
     "data": {
      "image/png": "[encoded data removed]",
      "text/plain": [
       "<Figure size 432x288 with 1 Axes>"
      ]
     },
     "metadata": {
      "needs_background": "light"
     },
     "output_type": "display_data"
    }
   ],
   "source": [
    "#v_1: строим столбчатую диаграмму\n",
    "\n",
    "data_city.plot(y='percentage', kind='bar', legend=None)\n",
    "plt.title('Частота встречаемости городов')\n",
    "plt.xlabel('Город')\n",
    "plt.ylabel('Частота')\n",
    "plt.show()\n",
    "\n",
    "# самый встречаемый город - Пятигорск. Наименее встречаемый - Москва. Этот город стоит после Тюмени, что на мой взгляд странно, т.к. аренда самокатов в Москве очень развита"
   ]
  },
  {
   "cell_type": "code",
   "execution_count": 24,
   "id": "be7d47c6",
   "metadata": {},
   "outputs": [
    {
     "data": {
      "text/html": [
       "<div>\n",
       "<style scoped>\n",
       "    .dataframe tbody tr th:only-of-type {\n",
       "        vertical-align: middle;\n",
       "    }\n",
       "\n",
       "    .dataframe tbody tr th {\n",
       "        vertical-align: top;\n",
       "    }\n",
       "\n",
       "    .dataframe thead th {\n",
       "        text-align: right;\n",
       "    }\n",
       "</style>\n",
       "<table border=\"1\" class=\"dataframe\">\n",
       "  <thead>\n",
       "    <tr style=\"text-align: right;\">\n",
       "      <th></th>\n",
       "      <th>quantity</th>\n",
       "      <th>percentage</th>\n",
       "    </tr>\n",
       "  </thead>\n",
       "  <tbody>\n",
       "    <tr>\n",
       "      <th>free</th>\n",
       "      <td>835</td>\n",
       "      <td>54.43</td>\n",
       "    </tr>\n",
       "    <tr>\n",
       "      <th>ultra</th>\n",
       "      <td>699</td>\n",
       "      <td>45.57</td>\n",
       "    </tr>\n",
       "  </tbody>\n",
       "</table>\n",
       "</div>"
      ],
      "text/plain": [
       "       quantity  percentage\n",
       "free        835       54.43\n",
       "ultra       699       45.57"
      ]
     },
     "execution_count": 24,
     "metadata": {},
     "output_type": "execute_result"
    }
   ],
   "source": [
    "# смотрим соотношение пользователей с подпиской и без подписки\n",
    "\n",
    "user_ratio = users['subscription_type'].value_counts()\n",
    "\n",
    "#смотрим соотношение в процентах \n",
    "user_percentage = users['subscription_type'].value_counts()/len(users) * 100\n",
    "\n",
    "#создаем общую таблицу\n",
    "\n",
    "data_subscription = pd.concat([user_ratio,user_percentage], axis=1).round(2)\n",
    "data_subscription.columns = ['quantity','percentage']\n",
    "data_subscription"
   ]
  },
  {
   "cell_type": "code",
   "execution_count": 25,
   "id": "09895556",
   "metadata": {},
   "outputs": [
    {
     "data": {
      "text/plain": [
       "Text(0.5, 1.0, 'Соотношение пользователей с подпиской и без подписки')"
      ]
     },
     "execution_count": 25,
     "metadata": {},
     "output_type": "execute_result"
    },
    {
     "data": {
      "image/png": "[encoded data removed]",
      "text/plain": [
       "<Figure size 576x576 with 1 Axes>"
      ]
     },
     "metadata": {},
     "output_type": "display_data"
    }
   ],
   "source": [
    "#строим круговую диаграмму\n",
    "\n",
    "data_subscription.plot(y='percentage', kind='pie', figsize=(8, 8), autopct='%1.1f%%')\n",
    "plt.title('Соотношение пользователей с подпиской и без подписки')\n",
    "\n",
    "#пользователей без подписок чуть больше, чем пользователей с подпиской"
   ]
  },
  {
   "cell_type": "code",
   "execution_count": 26,
   "id": "50c736ee",
   "metadata": {},
   "outputs": [
    {
     "data": {
      "text/html": [
       "<div>\n",
       "<style scoped>\n",
       "    .dataframe tbody tr th:only-of-type {\n",
       "        vertical-align: middle;\n",
       "    }\n",
       "\n",
       "    .dataframe tbody tr th {\n",
       "        vertical-align: top;\n",
       "    }\n",
       "\n",
       "    .dataframe thead th {\n",
       "        text-align: right;\n",
       "    }\n",
       "</style>\n",
       "<table border=\"1\" class=\"dataframe\">\n",
       "  <thead>\n",
       "    <tr style=\"text-align: right;\">\n",
       "      <th></th>\n",
       "      <th>quantity</th>\n",
       "      <th>percentage</th>\n",
       "    </tr>\n",
       "  </thead>\n",
       "  <tbody>\n",
       "    <tr>\n",
       "      <th>25</th>\n",
       "      <td>145</td>\n",
       "      <td>9.45</td>\n",
       "    </tr>\n",
       "    <tr>\n",
       "      <th>24</th>\n",
       "      <td>132</td>\n",
       "      <td>8.60</td>\n",
       "    </tr>\n",
       "    <tr>\n",
       "      <th>26</th>\n",
       "      <td>131</td>\n",
       "      <td>8.54</td>\n",
       "    </tr>\n",
       "    <tr>\n",
       "      <th>23</th>\n",
       "      <td>129</td>\n",
       "      <td>8.41</td>\n",
       "    </tr>\n",
       "    <tr>\n",
       "      <th>27</th>\n",
       "      <td>119</td>\n",
       "      <td>7.76</td>\n",
       "    </tr>\n",
       "    <tr>\n",
       "      <th>22</th>\n",
       "      <td>119</td>\n",
       "      <td>7.76</td>\n",
       "    </tr>\n",
       "    <tr>\n",
       "      <th>28</th>\n",
       "      <td>112</td>\n",
       "      <td>7.30</td>\n",
       "    </tr>\n",
       "    <tr>\n",
       "      <th>21</th>\n",
       "      <td>93</td>\n",
       "      <td>6.06</td>\n",
       "    </tr>\n",
       "    <tr>\n",
       "      <th>20</th>\n",
       "      <td>71</td>\n",
       "      <td>4.63</td>\n",
       "    </tr>\n",
       "    <tr>\n",
       "      <th>30</th>\n",
       "      <td>68</td>\n",
       "      <td>4.43</td>\n",
       "    </tr>\n",
       "    <tr>\n",
       "      <th>29</th>\n",
       "      <td>68</td>\n",
       "      <td>4.43</td>\n",
       "    </tr>\n",
       "    <tr>\n",
       "      <th>31</th>\n",
       "      <td>48</td>\n",
       "      <td>3.13</td>\n",
       "    </tr>\n",
       "    <tr>\n",
       "      <th>19</th>\n",
       "      <td>47</td>\n",
       "      <td>3.06</td>\n",
       "    </tr>\n",
       "    <tr>\n",
       "      <th>18</th>\n",
       "      <td>46</td>\n",
       "      <td>3.00</td>\n",
       "    </tr>\n",
       "    <tr>\n",
       "      <th>32</th>\n",
       "      <td>41</td>\n",
       "      <td>2.67</td>\n",
       "    </tr>\n",
       "    <tr>\n",
       "      <th>33</th>\n",
       "      <td>39</td>\n",
       "      <td>2.54</td>\n",
       "    </tr>\n",
       "    <tr>\n",
       "      <th>17</th>\n",
       "      <td>26</td>\n",
       "      <td>1.69</td>\n",
       "    </tr>\n",
       "    <tr>\n",
       "      <th>34</th>\n",
       "      <td>19</td>\n",
       "      <td>1.24</td>\n",
       "    </tr>\n",
       "    <tr>\n",
       "      <th>16</th>\n",
       "      <td>19</td>\n",
       "      <td>1.24</td>\n",
       "    </tr>\n",
       "    <tr>\n",
       "      <th>35</th>\n",
       "      <td>15</td>\n",
       "      <td>0.98</td>\n",
       "    </tr>\n",
       "    <tr>\n",
       "      <th>15</th>\n",
       "      <td>13</td>\n",
       "      <td>0.85</td>\n",
       "    </tr>\n",
       "    <tr>\n",
       "      <th>14</th>\n",
       "      <td>9</td>\n",
       "      <td>0.59</td>\n",
       "    </tr>\n",
       "    <tr>\n",
       "      <th>13</th>\n",
       "      <td>8</td>\n",
       "      <td>0.52</td>\n",
       "    </tr>\n",
       "    <tr>\n",
       "      <th>36</th>\n",
       "      <td>6</td>\n",
       "      <td>0.39</td>\n",
       "    </tr>\n",
       "    <tr>\n",
       "      <th>12</th>\n",
       "      <td>4</td>\n",
       "      <td>0.26</td>\n",
       "    </tr>\n",
       "    <tr>\n",
       "      <th>38</th>\n",
       "      <td>3</td>\n",
       "      <td>0.20</td>\n",
       "    </tr>\n",
       "    <tr>\n",
       "      <th>37</th>\n",
       "      <td>2</td>\n",
       "      <td>0.13</td>\n",
       "    </tr>\n",
       "    <tr>\n",
       "      <th>39</th>\n",
       "      <td>1</td>\n",
       "      <td>0.07</td>\n",
       "    </tr>\n",
       "    <tr>\n",
       "      <th>43</th>\n",
       "      <td>1</td>\n",
       "      <td>0.07</td>\n",
       "    </tr>\n",
       "  </tbody>\n",
       "</table>\n",
       "</div>"
      ],
      "text/plain": [
       "    quantity  percentage\n",
       "25       145        9.45\n",
       "24       132        8.60\n",
       "26       131        8.54\n",
       "23       129        8.41\n",
       "27       119        7.76\n",
       "22       119        7.76\n",
       "28       112        7.30\n",
       "21        93        6.06\n",
       "20        71        4.63\n",
       "30        68        4.43\n",
       "29        68        4.43\n",
       "31        48        3.13\n",
       "19        47        3.06\n",
       "18        46        3.00\n",
       "32        41        2.67\n",
       "33        39        2.54\n",
       "17        26        1.69\n",
       "34        19        1.24\n",
       "16        19        1.24\n",
       "35        15        0.98\n",
       "15        13        0.85\n",
       "14         9        0.59\n",
       "13         8        0.52\n",
       "36         6        0.39\n",
       "12         4        0.26\n",
       "38         3        0.20\n",
       "37         2        0.13\n",
       "39         1        0.07\n",
       "43         1        0.07"
      ]
     },
     "execution_count": 26,
     "metadata": {},
     "output_type": "execute_result"
    }
   ],
   "source": [
    "# смотрим соотношение возраста пользователей\n",
    "\n",
    "age_ratio = users['age'].value_counts()\n",
    "\n",
    "#смотрим соотношение в процентах \n",
    "age_percentage = users['age'].value_counts()/len(users) * 100\n",
    "\n",
    "#создаем общую таблицу\n",
    "\n",
    "data_age = pd.concat([age_ratio, age_percentage], axis=1).round(2)\n",
    "data_age.columns = ['quantity','percentage']\n",
    "data_age"
   ]
  },
  {
   "cell_type": "code",
   "execution_count": 27,
   "id": "1e4b1ad9",
   "metadata": {},
   "outputs": [
    {
     "data": {
      "image/png": "[encoded data removed]",
      "text/plain": [
       "<Figure size 576x576 with 1 Axes>"
      ]
     },
     "metadata": {
      "needs_background": "light"
     },
     "output_type": "display_data"
    }
   ],
   "source": [
    "# строим столбчатую диаграмму\n",
    "\n",
    "data_age.plot(y='percentage', kind='bar',figsize=(8, 8), legend=None)\n",
    "plt.title('Cоотношение возраста пользователей')\n",
    "plt.xlabel('возраст')\n",
    "plt.ylabel('%')\n",
    "plt.show()\n",
    "\n",
    "# наибольший процент людей в возрасте 26,25 и 24 года. Меньше всего пользуются люди 37-39 и 43 года"
   ]
  },
  {
   "cell_type": "code",
   "execution_count": 28,
   "id": "eb6c0943",
   "metadata": {},
   "outputs": [
    {
     "data": {
      "text/html": [
       "<div>\n",
       "<style scoped>\n",
       "    .dataframe tbody tr th:only-of-type {\n",
       "        vertical-align: middle;\n",
       "    }\n",
       "\n",
       "    .dataframe tbody tr th {\n",
       "        vertical-align: top;\n",
       "    }\n",
       "\n",
       "    .dataframe thead th {\n",
       "        text-align: right;\n",
       "    }\n",
       "</style>\n",
       "<table border=\"1\" class=\"dataframe\">\n",
       "  <thead>\n",
       "    <tr style=\"text-align: right;\">\n",
       "      <th></th>\n",
       "      <th>quantity</th>\n",
       "      <th>percentage</th>\n",
       "    </tr>\n",
       "  </thead>\n",
       "  <tbody>\n",
       "    <tr>\n",
       "      <th>count</th>\n",
       "      <td>29.00</td>\n",
       "      <td>29.00</td>\n",
       "    </tr>\n",
       "    <tr>\n",
       "      <th>mean</th>\n",
       "      <td>52.90</td>\n",
       "      <td>3.45</td>\n",
       "    </tr>\n",
       "    <tr>\n",
       "      <th>std</th>\n",
       "      <td>48.82</td>\n",
       "      <td>3.18</td>\n",
       "    </tr>\n",
       "    <tr>\n",
       "      <th>min</th>\n",
       "      <td>1.00</td>\n",
       "      <td>0.07</td>\n",
       "    </tr>\n",
       "    <tr>\n",
       "      <th>25%</th>\n",
       "      <td>9.00</td>\n",
       "      <td>0.59</td>\n",
       "    </tr>\n",
       "    <tr>\n",
       "      <th>50%</th>\n",
       "      <td>41.00</td>\n",
       "      <td>2.67</td>\n",
       "    </tr>\n",
       "    <tr>\n",
       "      <th>75%</th>\n",
       "      <td>93.00</td>\n",
       "      <td>6.06</td>\n",
       "    </tr>\n",
       "    <tr>\n",
       "      <th>max</th>\n",
       "      <td>145.00</td>\n",
       "      <td>9.45</td>\n",
       "    </tr>\n",
       "  </tbody>\n",
       "</table>\n",
       "</div>"
      ],
      "text/plain": [
       "       quantity  percentage\n",
       "count     29.00       29.00\n",
       "mean      52.90        3.45\n",
       "std       48.82        3.18\n",
       "min        1.00        0.07\n",
       "25%        9.00        0.59\n",
       "50%       41.00        2.67\n",
       "75%       93.00        6.06\n",
       "max      145.00        9.45"
      ]
     },
     "execution_count": 28,
     "metadata": {},
     "output_type": "execute_result"
    }
   ],
   "source": [
    "# v_1: \n",
    "        \n",
    "data_age.describe().round(2)"
   ]
  },
  {
   "cell_type": "markdown",
   "id": "86b4b53e",
   "metadata": {},
   "source": []
  },
  {
   "cell_type": "markdown",
   "id": "9ff057da",
   "metadata": {},
   "source": [
    "count   количество наблюдений в наборе данных - 29\n",
    "mean    среднее арифметическое 3,45% или 52,90\n",
    "std     стандартное отклонение 3.18% или 48,82\n",
    "min     минимальное значение 1 или 0,07%\n",
    "25%     первый квартиль 9 или 0,59%\n",
    "50%     медиана, или второй квартиль 41 или 2,67%\n",
    "75%     третий квартиль  93 или 6,06 %\n",
    "max     максимальное значение 145 или 9,45 %\n",
    "dtype: float64 # тип данных "
   ]
  },
  {
   "cell_type": "code",
   "execution_count": 29,
   "id": "b9987a94",
   "metadata": {},
   "outputs": [
    {
     "data": {
      "text/plain": [
       "[25, 30)    575\n",
       "[20, 25)    544\n",
       "[30, 35)    215\n",
       "[15, 20)    151\n",
       "[35, 40)     27\n",
       "[10, 15)     21\n",
       "[40, 45)      1\n",
       "Name: age, dtype: int64"
      ]
     },
     "execution_count": 29,
     "metadata": {},
     "output_type": "execute_result"
    }
   ],
   "source": [
    "# Задаем интервалы группировки по 5 годам\n",
    "bins = list(range(10, max(users['age']) + 6, 5))\n",
    "\n",
    "# Группируем данные по 5 годам\n",
    "age_groups = pd.cut(users['age'], bins=bins, right=False)\n",
    "\n",
    "# Получаем количество значений в каждой группе\n",
    "age_ratio_grouped = age_groups.value_counts()\n",
    "age_ratio_grouped"
   ]
  },
  {
   "cell_type": "code",
   "execution_count": 30,
   "id": "1103715d",
   "metadata": {},
   "outputs": [
    {
     "data": {
      "text/plain": [
       "Text(0, 0.5, 'Частота')"
      ]
     },
     "execution_count": 30,
     "metadata": {},
     "output_type": "execute_result"
    },
    {
     "data": {
      "image/png": "[encoded data removed]",
      "text/plain": [
       "<Figure size 576x576 with 1 Axes>"
      ]
     },
     "metadata": {
      "needs_background": "light"
     },
     "output_type": "display_data"
    }
   ],
   "source": [
    "#строим столбчатую диаграмму\n",
    "\n",
    "age_ratio_grouped.plot(y='age', kind='bar', figsize=(8, 8))\n",
    "plt.title('Cоотношение возраста пользователей')\n",
    "plt.xlabel('Возраст')\n",
    "plt.ylabel('Частота')\n",
    "\n",
    "# на первом месте услугой проката самокатов пользуются люди в возрасте 25-30 лет и 2025 лет. Люди старше 40 не пользуются совсем. Также на предпоследнем месте 10-15 лет"
   ]
  },
  {
   "cell_type": "code",
   "execution_count": 31,
   "id": "e5439b44",
   "metadata": {},
   "outputs": [
    {
     "data": {
      "text/plain": [
       "11555       0.855683\n",
       "9541        2.570787\n",
       "13690       4.329506\n",
       "8658        6.784447\n",
       "7841        7.097072\n",
       "            ...     \n",
       "17242    6724.932981\n",
       "17171    6760.940067\n",
       "15580    6908.491343\n",
       "16484    7066.003772\n",
       "16309    7211.007745\n",
       "Name: distance, Length: 18068, dtype: float64"
      ]
     },
     "execution_count": 31,
     "metadata": {},
     "output_type": "execute_result"
    }
   ],
   "source": [
    "#отсортируем значения столбца 'расстояние' по возрастанию\n",
    "\n",
    "rides['distance'].sort_values()"
   ]
  },
  {
   "cell_type": "code",
   "execution_count": 32,
   "id": "e266ab7b",
   "metadata": {
    "scrolled": true
   },
   "outputs": [
    {
     "data": {
      "text/plain": [
       "Text(0, 0.5, 'Количество поездок')"
      ]
     },
     "execution_count": 32,
     "metadata": {},
     "output_type": "execute_result"
    },
    {
     "data": {
      "image/png": "[encoded data removed]",
      "text/plain": [
       "<Figure size 432x288 with 1 Axes>"
      ]
     },
     "metadata": {
      "needs_background": "light"
     },
     "output_type": "display_data"
    }
   ],
   "source": [
    "#построим гистограмму\n",
    "\n",
    "rides['distance'].hist(bins=100)\n",
    "plt.title('Расстояние, которое пользователь преодолел за одну поездку')\n",
    "plt.xlabel('Метры')\n",
    "plt.ylabel('Количество поездок')\n",
    "\n",
    "# гистограмма имеет распределение, близкое к нормальному с двумя пиками на отметках 3100 м и 800 м"
   ]
  },
  {
   "cell_type": "code",
   "execution_count": 33,
   "id": "a1e5308c",
   "metadata": {},
   "outputs": [
    {
     "data": {
      "text/plain": [
       "12013     0.500000\n",
       "17314     0.500000\n",
       "15029     0.500000\n",
       "7437      0.500000\n",
       "12967     0.500000\n",
       "           ...    \n",
       "6453     38.265229\n",
       "1998     38.352763\n",
       "2623     39.526602\n",
       "4709     39.873856\n",
       "4215     40.823963\n",
       "Name: duration, Length: 18068, dtype: float64"
      ]
     },
     "execution_count": 33,
     "metadata": {},
     "output_type": "execute_result"
    }
   ],
   "source": [
    "#отсортируем значения столбца 'продолжительность' по возрастанию\n",
    "\n",
    "rides['duration'].sort_values()"
   ]
  },
  {
   "cell_type": "code",
   "execution_count": 34,
   "id": "1c52c0c4",
   "metadata": {},
   "outputs": [
    {
     "data": {
      "text/plain": [
       "Text(0, 0.5, 'Количество поездок')"
      ]
     },
     "execution_count": 34,
     "metadata": {},
     "output_type": "execute_result"
    },
    {
     "data": {
      "image/png": "[encoded data removed]",
      "text/plain": [
       "<Figure size 432x288 with 1 Axes>"
      ]
     },
     "metadata": {
      "needs_background": "light"
     },
     "output_type": "display_data"
    }
   ],
   "source": [
    "#строим гистограмму\n",
    "\n",
    "rides['duration'].hist(bins=100)\n",
    "plt.title('Время одной поездки')\n",
    "plt.xlabel('Минуты')\n",
    "plt.ylabel('Количество поездок')\n",
    "\n",
    "# гистограмма имеет распределение, близкое к нормальному с наибольшей частотой в промежутке 15-20 минут. Пик в 30 секунд является скорее всего погрешностью системы. Когда пытаются взять в аренду, а потом перезагружают   "
   ]
  },
  {
   "cell_type": "code",
   "execution_count": 35,
   "id": "b046860f",
   "metadata": {},
   "outputs": [
    {
     "data": {
      "text/plain": [
       "Text(0, 0.5, 'Количество поездок')"
      ]
     },
     "execution_count": 35,
     "metadata": {},
     "output_type": "execute_result"
    },
    {
     "data": {
      "image/png": "[encoded data removed]",
      "text/plain": [
       "<Figure size 432x288 with 1 Axes>"
      ]
     },
     "metadata": {
      "needs_background": "light"
     },
     "output_type": "display_data"
    }
   ],
   "source": [
    "# v_1: рассматриваем значения длительности до 5-ти минут подробнее \n",
    "\n",
    "rides['duration'].hist(bins=100, range = (0, 5))\n",
    "\n",
    "plt.title('Срез времени, которое пользователь преодолел за одну поездку за первые 5 минут')\n",
    "plt.xlabel('Минуты')\n",
    "plt.ylabel('Количество поездок')"
   ]
  },
  {
   "cell_type": "markdown",
   "id": "28b32451",
   "metadata": {},
   "source": [
    "видим много значений на отметке 30 секунд, попытаемся выяснить, что это за значения и приносят ли они выручку"
   ]
  },
  {
   "cell_type": "code",
   "execution_count": 36,
   "id": "e36b3b3c",
   "metadata": {},
   "outputs": [
    {
     "data": {
      "text/html": [
       "<div>\n",
       "<style scoped>\n",
       "    .dataframe tbody tr th:only-of-type {\n",
       "        vertical-align: middle;\n",
       "    }\n",
       "\n",
       "    .dataframe tbody tr th {\n",
       "        vertical-align: top;\n",
       "    }\n",
       "\n",
       "    .dataframe thead th {\n",
       "        text-align: right;\n",
       "    }\n",
       "</style>\n",
       "<table border=\"1\" class=\"dataframe\">\n",
       "  <thead>\n",
       "    <tr style=\"text-align: right;\">\n",
       "      <th></th>\n",
       "      <th>user_id</th>\n",
       "      <th>distance</th>\n",
       "      <th>duration</th>\n",
       "      <th>date</th>\n",
       "      <th>month</th>\n",
       "      <th>year</th>\n",
       "    </tr>\n",
       "  </thead>\n",
       "  <tbody>\n",
       "    <tr>\n",
       "      <th>6531</th>\n",
       "      <td>701</td>\n",
       "      <td>4196.445201</td>\n",
       "      <td>0.5</td>\n",
       "      <td>2021-08-31</td>\n",
       "      <td>8</td>\n",
       "      <td>2021</td>\n",
       "    </tr>\n",
       "    <tr>\n",
       "      <th>6570</th>\n",
       "      <td>704</td>\n",
       "      <td>4830.824371</td>\n",
       "      <td>0.5</td>\n",
       "      <td>2021-10-14</td>\n",
       "      <td>10</td>\n",
       "      <td>2021</td>\n",
       "    </tr>\n",
       "    <tr>\n",
       "      <th>6680</th>\n",
       "      <td>712</td>\n",
       "      <td>4684.004397</td>\n",
       "      <td>0.5</td>\n",
       "      <td>2021-03-04</td>\n",
       "      <td>3</td>\n",
       "      <td>2021</td>\n",
       "    </tr>\n",
       "    <tr>\n",
       "      <th>6695</th>\n",
       "      <td>713</td>\n",
       "      <td>5215.642710</td>\n",
       "      <td>0.5</td>\n",
       "      <td>2021-02-25</td>\n",
       "      <td>2</td>\n",
       "      <td>2021</td>\n",
       "    </tr>\n",
       "    <tr>\n",
       "      <th>6768</th>\n",
       "      <td>718</td>\n",
       "      <td>5197.436649</td>\n",
       "      <td>0.5</td>\n",
       "      <td>2021-02-11</td>\n",
       "      <td>2</td>\n",
       "      <td>2021</td>\n",
       "    </tr>\n",
       "  </tbody>\n",
       "</table>\n",
       "</div>"
      ],
      "text/plain": [
       "      user_id     distance  duration       date  month  year\n",
       "6531      701  4196.445201       0.5 2021-08-31      8  2021\n",
       "6570      704  4830.824371       0.5 2021-10-14     10  2021\n",
       "6680      712  4684.004397       0.5 2021-03-04      3  2021\n",
       "6695      713  5215.642710       0.5 2021-02-25      2  2021\n",
       "6768      718  5197.436649       0.5 2021-02-11      2  2021"
      ]
     },
     "execution_count": 36,
     "metadata": {},
     "output_type": "execute_result"
    }
   ],
   "source": [
    "rides_min = rides.query('duration < 1')\n",
    "rides_min.head()"
   ]
  },
  {
   "cell_type": "code",
   "execution_count": 37,
   "id": "654a1240",
   "metadata": {},
   "outputs": [
    {
     "name": "stdout",
     "output_type": "stream",
     "text": [
      "<class 'pandas.core.frame.DataFrame'>\n",
      "Int64Index: 95 entries, 6531 to 17909\n",
      "Data columns (total 6 columns):\n",
      " #   Column    Non-Null Count  Dtype         \n",
      "---  ------    --------------  -----         \n",
      " 0   user_id   95 non-null     int64         \n",
      " 1   distance  95 non-null     float64       \n",
      " 2   duration  95 non-null     float64       \n",
      " 3   date      95 non-null     datetime64[ns]\n",
      " 4   month     95 non-null     int64         \n",
      " 5   year      95 non-null     int64         \n",
      "dtypes: datetime64[ns](1), float64(2), int64(3)\n",
      "memory usage: 5.2 KB\n"
     ]
    }
   ],
   "source": [
    " rides_min.info()"
   ]
  },
  {
   "cell_type": "markdown",
   "id": "a003d266",
   "metadata": {},
   "source": [
    "Есть 95 пользователей, у которых короткие поездки (30 секунд) и длительная дистанция (около 5-ти км). За такое короткое время проехать такую дистанцию невозможно, может быть была какая-то акция или сбой? "
   ]
  },
  {
   "cell_type": "markdown",
   "id": "ce36528e",
   "metadata": {},
   "source": [
    "выручка изменится, но не сильно, т.к. она считается от времени продолжительности поездки, а не от расстояния. Т.е. каждая поездка в 30 секунд приносит выручку в размере 3-х рублей "
   ]
  },
  {
   "cell_type": "markdown",
   "id": "4ef51331",
   "metadata": {},
   "source": [
    "#### Шаг 4. Объединение данных"
   ]
  },
  {
   "cell_type": "code",
   "execution_count": 38,
   "id": "32f61cb6",
   "metadata": {
    "scrolled": true
   },
   "outputs": [
    {
     "data": {
      "text/html": [
       "<div>\n",
       "<style scoped>\n",
       "    .dataframe tbody tr th:only-of-type {\n",
       "        vertical-align: middle;\n",
       "    }\n",
       "\n",
       "    .dataframe tbody tr th {\n",
       "        vertical-align: top;\n",
       "    }\n",
       "\n",
       "    .dataframe thead th {\n",
       "        text-align: right;\n",
       "    }\n",
       "</style>\n",
       "<table border=\"1\" class=\"dataframe\">\n",
       "  <thead>\n",
       "    <tr style=\"text-align: right;\">\n",
       "      <th></th>\n",
       "      <th>user_id</th>\n",
       "      <th>name</th>\n",
       "      <th>age</th>\n",
       "      <th>city</th>\n",
       "      <th>subscription_type</th>\n",
       "      <th>distance</th>\n",
       "      <th>duration</th>\n",
       "      <th>date</th>\n",
       "      <th>month</th>\n",
       "      <th>year</th>\n",
       "      <th>minute_price</th>\n",
       "      <th>start_ride_price</th>\n",
       "      <th>subscription_fee</th>\n",
       "    </tr>\n",
       "  </thead>\n",
       "  <tbody>\n",
       "    <tr>\n",
       "      <th>0</th>\n",
       "      <td>1</td>\n",
       "      <td>Кира</td>\n",
       "      <td>22</td>\n",
       "      <td>Тюмень</td>\n",
       "      <td>ultra</td>\n",
       "      <td>4409.919140</td>\n",
       "      <td>26.0</td>\n",
       "      <td>2021-01-01</td>\n",
       "      <td>1</td>\n",
       "      <td>2021</td>\n",
       "      <td>6</td>\n",
       "      <td>0</td>\n",
       "      <td>199</td>\n",
       "    </tr>\n",
       "    <tr>\n",
       "      <th>1</th>\n",
       "      <td>1</td>\n",
       "      <td>Кира</td>\n",
       "      <td>22</td>\n",
       "      <td>Тюмень</td>\n",
       "      <td>ultra</td>\n",
       "      <td>2617.592153</td>\n",
       "      <td>16.0</td>\n",
       "      <td>2021-01-18</td>\n",
       "      <td>1</td>\n",
       "      <td>2021</td>\n",
       "      <td>6</td>\n",
       "      <td>0</td>\n",
       "      <td>199</td>\n",
       "    </tr>\n",
       "    <tr>\n",
       "      <th>2</th>\n",
       "      <td>1</td>\n",
       "      <td>Кира</td>\n",
       "      <td>22</td>\n",
       "      <td>Тюмень</td>\n",
       "      <td>ultra</td>\n",
       "      <td>754.159807</td>\n",
       "      <td>7.0</td>\n",
       "      <td>2021-04-20</td>\n",
       "      <td>4</td>\n",
       "      <td>2021</td>\n",
       "      <td>6</td>\n",
       "      <td>0</td>\n",
       "      <td>199</td>\n",
       "    </tr>\n",
       "    <tr>\n",
       "      <th>3</th>\n",
       "      <td>1</td>\n",
       "      <td>Кира</td>\n",
       "      <td>22</td>\n",
       "      <td>Тюмень</td>\n",
       "      <td>ultra</td>\n",
       "      <td>2694.783254</td>\n",
       "      <td>19.0</td>\n",
       "      <td>2021-08-11</td>\n",
       "      <td>8</td>\n",
       "      <td>2021</td>\n",
       "      <td>6</td>\n",
       "      <td>0</td>\n",
       "      <td>199</td>\n",
       "    </tr>\n",
       "    <tr>\n",
       "      <th>4</th>\n",
       "      <td>1</td>\n",
       "      <td>Кира</td>\n",
       "      <td>22</td>\n",
       "      <td>Тюмень</td>\n",
       "      <td>ultra</td>\n",
       "      <td>4028.687306</td>\n",
       "      <td>27.0</td>\n",
       "      <td>2021-08-28</td>\n",
       "      <td>8</td>\n",
       "      <td>2021</td>\n",
       "      <td>6</td>\n",
       "      <td>0</td>\n",
       "      <td>199</td>\n",
       "    </tr>\n",
       "  </tbody>\n",
       "</table>\n",
       "</div>"
      ],
      "text/plain": [
       "   user_id  name  age    city subscription_type     distance  duration  \\\n",
       "0        1  Кира   22  Тюмень             ultra  4409.919140      26.0   \n",
       "1        1  Кира   22  Тюмень             ultra  2617.592153      16.0   \n",
       "2        1  Кира   22  Тюмень             ultra   754.159807       7.0   \n",
       "3        1  Кира   22  Тюмень             ultra  2694.783254      19.0   \n",
       "4        1  Кира   22  Тюмень             ultra  4028.687306      27.0   \n",
       "\n",
       "        date  month  year  minute_price  start_ride_price  subscription_fee  \n",
       "0 2021-01-01      1  2021             6                 0               199  \n",
       "1 2021-01-18      1  2021             6                 0               199  \n",
       "2 2021-04-20      4  2021             6                 0               199  \n",
       "3 2021-08-11      8  2021             6                 0               199  \n",
       "4 2021-08-28      8  2021             6                 0               199  "
      ]
     },
     "execution_count": 38,
     "metadata": {},
     "output_type": "execute_result"
    }
   ],
   "source": [
    "# Объединяем данные о пользователях, поездках и подписках в один датафрейм\n",
    "\n",
    "users_rides =  users.merge(rides, on='user_id', how='left')\n",
    "\n",
    "df_total = users_rides.merge(subscriptions, on='subscription_type', how='left')\n",
    "\n",
    "df_total['duration'] = np.ceil(df_total['duration']) \n",
    "\n",
    "df_total.head()"
   ]
  },
  {
   "cell_type": "code",
   "execution_count": 39,
   "id": "048c429e",
   "metadata": {},
   "outputs": [
    {
     "name": "stdout",
     "output_type": "stream",
     "text": [
      "<class 'pandas.core.frame.DataFrame'>\n",
      "Int64Index: 18068 entries, 0 to 18067\n",
      "Data columns (total 13 columns):\n",
      " #   Column             Non-Null Count  Dtype         \n",
      "---  ------             --------------  -----         \n",
      " 0   user_id            18068 non-null  int64         \n",
      " 1   name               18068 non-null  object        \n",
      " 2   age                18068 non-null  int64         \n",
      " 3   city               18068 non-null  object        \n",
      " 4   subscription_type  18068 non-null  object        \n",
      " 5   distance           18068 non-null  float64       \n",
      " 6   duration           18068 non-null  float64       \n",
      " 7   date               18068 non-null  datetime64[ns]\n",
      " 8   month              18068 non-null  int64         \n",
      " 9   year               18068 non-null  int64         \n",
      " 10  minute_price       18068 non-null  int64         \n",
      " 11  start_ride_price   18068 non-null  int64         \n",
      " 12  subscription_fee   18068 non-null  int64         \n",
      "dtypes: datetime64[ns](1), float64(2), int64(7), object(3)\n",
      "memory usage: 1.9+ MB\n"
     ]
    }
   ],
   "source": [
    "# v_1:\n",
    "df_total.info()"
   ]
  },
  {
   "cell_type": "code",
   "execution_count": 40,
   "id": "2181d028",
   "metadata": {},
   "outputs": [
    {
     "data": {
      "text/plain": [
       "0"
      ]
     },
     "execution_count": 40,
     "metadata": {},
     "output_type": "execute_result"
    }
   ],
   "source": [
    "df_total.duplicated().sum()"
   ]
  },
  {
   "cell_type": "markdown",
   "id": "c6605bf6",
   "metadata": {},
   "source": [
    "Объединение проведено корректно, нет дубликатов, количество строк совпадает с количеством строк в таблице riders"
   ]
  },
  {
   "cell_type": "code",
   "execution_count": 41,
   "id": "6bf288b5",
   "metadata": {},
   "outputs": [
    {
     "data": {
      "text/html": [
       "<div>\n",
       "<style scoped>\n",
       "    .dataframe tbody tr th:only-of-type {\n",
       "        vertical-align: middle;\n",
       "    }\n",
       "\n",
       "    .dataframe tbody tr th {\n",
       "        vertical-align: top;\n",
       "    }\n",
       "\n",
       "    .dataframe thead th {\n",
       "        text-align: right;\n",
       "    }\n",
       "</style>\n",
       "<table border=\"1\" class=\"dataframe\">\n",
       "  <thead>\n",
       "    <tr style=\"text-align: right;\">\n",
       "      <th></th>\n",
       "      <th>user_id</th>\n",
       "      <th>name</th>\n",
       "      <th>age</th>\n",
       "      <th>city</th>\n",
       "      <th>subscription_type</th>\n",
       "      <th>distance</th>\n",
       "      <th>duration</th>\n",
       "      <th>date</th>\n",
       "      <th>month</th>\n",
       "      <th>year</th>\n",
       "      <th>minute_price</th>\n",
       "      <th>start_ride_price</th>\n",
       "      <th>subscription_fee</th>\n",
       "    </tr>\n",
       "  </thead>\n",
       "  <tbody>\n",
       "    <tr>\n",
       "      <th>6500</th>\n",
       "      <td>700</td>\n",
       "      <td>Айдар</td>\n",
       "      <td>22</td>\n",
       "      <td>Омск</td>\n",
       "      <td>free</td>\n",
       "      <td>2515.690719</td>\n",
       "      <td>15.0</td>\n",
       "      <td>2021-01-02</td>\n",
       "      <td>1</td>\n",
       "      <td>2021</td>\n",
       "      <td>8</td>\n",
       "      <td>50</td>\n",
       "      <td>0</td>\n",
       "    </tr>\n",
       "    <tr>\n",
       "      <th>6501</th>\n",
       "      <td>700</td>\n",
       "      <td>Айдар</td>\n",
       "      <td>22</td>\n",
       "      <td>Омск</td>\n",
       "      <td>free</td>\n",
       "      <td>846.932642</td>\n",
       "      <td>17.0</td>\n",
       "      <td>2021-02-01</td>\n",
       "      <td>2</td>\n",
       "      <td>2021</td>\n",
       "      <td>8</td>\n",
       "      <td>50</td>\n",
       "      <td>0</td>\n",
       "    </tr>\n",
       "    <tr>\n",
       "      <th>6502</th>\n",
       "      <td>700</td>\n",
       "      <td>Айдар</td>\n",
       "      <td>22</td>\n",
       "      <td>Омск</td>\n",
       "      <td>free</td>\n",
       "      <td>4004.434142</td>\n",
       "      <td>21.0</td>\n",
       "      <td>2021-02-04</td>\n",
       "      <td>2</td>\n",
       "      <td>2021</td>\n",
       "      <td>8</td>\n",
       "      <td>50</td>\n",
       "      <td>0</td>\n",
       "    </tr>\n",
       "    <tr>\n",
       "      <th>6503</th>\n",
       "      <td>700</td>\n",
       "      <td>Айдар</td>\n",
       "      <td>22</td>\n",
       "      <td>Омск</td>\n",
       "      <td>free</td>\n",
       "      <td>1205.911290</td>\n",
       "      <td>10.0</td>\n",
       "      <td>2021-02-10</td>\n",
       "      <td>2</td>\n",
       "      <td>2021</td>\n",
       "      <td>8</td>\n",
       "      <td>50</td>\n",
       "      <td>0</td>\n",
       "    </tr>\n",
       "    <tr>\n",
       "      <th>6504</th>\n",
       "      <td>700</td>\n",
       "      <td>Айдар</td>\n",
       "      <td>22</td>\n",
       "      <td>Омск</td>\n",
       "      <td>free</td>\n",
       "      <td>3047.379435</td>\n",
       "      <td>18.0</td>\n",
       "      <td>2021-02-14</td>\n",
       "      <td>2</td>\n",
       "      <td>2021</td>\n",
       "      <td>8</td>\n",
       "      <td>50</td>\n",
       "      <td>0</td>\n",
       "    </tr>\n",
       "  </tbody>\n",
       "</table>\n",
       "</div>"
      ],
      "text/plain": [
       "      user_id   name  age  city subscription_type     distance  duration  \\\n",
       "6500      700  Айдар   22  Омск              free  2515.690719      15.0   \n",
       "6501      700  Айдар   22  Омск              free   846.932642      17.0   \n",
       "6502      700  Айдар   22  Омск              free  4004.434142      21.0   \n",
       "6503      700  Айдар   22  Омск              free  1205.911290      10.0   \n",
       "6504      700  Айдар   22  Омск              free  3047.379435      18.0   \n",
       "\n",
       "           date  month  year  minute_price  start_ride_price  subscription_fee  \n",
       "6500 2021-01-02      1  2021             8                50                 0  \n",
       "6501 2021-02-01      2  2021             8                50                 0  \n",
       "6502 2021-02-04      2  2021             8                50                 0  \n",
       "6503 2021-02-10      2  2021             8                50                 0  \n",
       "6504 2021-02-14      2  2021             8                50                 0  "
      ]
     },
     "execution_count": 41,
     "metadata": {},
     "output_type": "execute_result"
    }
   ],
   "source": [
    "# Создаем датафрейм с данными о пользователях без подписок\n",
    "\n",
    "df_free =  df_total.query('subscription_type == \"free\"')\n",
    "\n",
    "# Вывод первых строк нового датафрейма\n",
    "df_free.head()"
   ]
  },
  {
   "cell_type": "code",
   "execution_count": 42,
   "id": "45fc0f3b",
   "metadata": {
    "scrolled": true
   },
   "outputs": [
    {
     "data": {
      "text/html": [
       "<div>\n",
       "<style scoped>\n",
       "    .dataframe tbody tr th:only-of-type {\n",
       "        vertical-align: middle;\n",
       "    }\n",
       "\n",
       "    .dataframe tbody tr th {\n",
       "        vertical-align: top;\n",
       "    }\n",
       "\n",
       "    .dataframe thead th {\n",
       "        text-align: right;\n",
       "    }\n",
       "</style>\n",
       "<table border=\"1\" class=\"dataframe\">\n",
       "  <thead>\n",
       "    <tr style=\"text-align: right;\">\n",
       "      <th></th>\n",
       "      <th>user_id</th>\n",
       "      <th>name</th>\n",
       "      <th>age</th>\n",
       "      <th>city</th>\n",
       "      <th>subscription_type</th>\n",
       "      <th>distance</th>\n",
       "      <th>duration</th>\n",
       "      <th>date</th>\n",
       "      <th>month</th>\n",
       "      <th>year</th>\n",
       "      <th>minute_price</th>\n",
       "      <th>start_ride_price</th>\n",
       "      <th>subscription_fee</th>\n",
       "    </tr>\n",
       "  </thead>\n",
       "  <tbody>\n",
       "    <tr>\n",
       "      <th>0</th>\n",
       "      <td>1</td>\n",
       "      <td>Кира</td>\n",
       "      <td>22</td>\n",
       "      <td>Тюмень</td>\n",
       "      <td>ultra</td>\n",
       "      <td>4409.919140</td>\n",
       "      <td>26.0</td>\n",
       "      <td>2021-01-01</td>\n",
       "      <td>1</td>\n",
       "      <td>2021</td>\n",
       "      <td>6</td>\n",
       "      <td>0</td>\n",
       "      <td>199</td>\n",
       "    </tr>\n",
       "    <tr>\n",
       "      <th>1</th>\n",
       "      <td>1</td>\n",
       "      <td>Кира</td>\n",
       "      <td>22</td>\n",
       "      <td>Тюмень</td>\n",
       "      <td>ultra</td>\n",
       "      <td>2617.592153</td>\n",
       "      <td>16.0</td>\n",
       "      <td>2021-01-18</td>\n",
       "      <td>1</td>\n",
       "      <td>2021</td>\n",
       "      <td>6</td>\n",
       "      <td>0</td>\n",
       "      <td>199</td>\n",
       "    </tr>\n",
       "    <tr>\n",
       "      <th>2</th>\n",
       "      <td>1</td>\n",
       "      <td>Кира</td>\n",
       "      <td>22</td>\n",
       "      <td>Тюмень</td>\n",
       "      <td>ultra</td>\n",
       "      <td>754.159807</td>\n",
       "      <td>7.0</td>\n",
       "      <td>2021-04-20</td>\n",
       "      <td>4</td>\n",
       "      <td>2021</td>\n",
       "      <td>6</td>\n",
       "      <td>0</td>\n",
       "      <td>199</td>\n",
       "    </tr>\n",
       "    <tr>\n",
       "      <th>3</th>\n",
       "      <td>1</td>\n",
       "      <td>Кира</td>\n",
       "      <td>22</td>\n",
       "      <td>Тюмень</td>\n",
       "      <td>ultra</td>\n",
       "      <td>2694.783254</td>\n",
       "      <td>19.0</td>\n",
       "      <td>2021-08-11</td>\n",
       "      <td>8</td>\n",
       "      <td>2021</td>\n",
       "      <td>6</td>\n",
       "      <td>0</td>\n",
       "      <td>199</td>\n",
       "    </tr>\n",
       "    <tr>\n",
       "      <th>4</th>\n",
       "      <td>1</td>\n",
       "      <td>Кира</td>\n",
       "      <td>22</td>\n",
       "      <td>Тюмень</td>\n",
       "      <td>ultra</td>\n",
       "      <td>4028.687306</td>\n",
       "      <td>27.0</td>\n",
       "      <td>2021-08-28</td>\n",
       "      <td>8</td>\n",
       "      <td>2021</td>\n",
       "      <td>6</td>\n",
       "      <td>0</td>\n",
       "      <td>199</td>\n",
       "    </tr>\n",
       "  </tbody>\n",
       "</table>\n",
       "</div>"
      ],
      "text/plain": [
       "   user_id  name  age    city subscription_type     distance  duration  \\\n",
       "0        1  Кира   22  Тюмень             ultra  4409.919140      26.0   \n",
       "1        1  Кира   22  Тюмень             ultra  2617.592153      16.0   \n",
       "2        1  Кира   22  Тюмень             ultra   754.159807       7.0   \n",
       "3        1  Кира   22  Тюмень             ultra  2694.783254      19.0   \n",
       "4        1  Кира   22  Тюмень             ultra  4028.687306      27.0   \n",
       "\n",
       "        date  month  year  minute_price  start_ride_price  subscription_fee  \n",
       "0 2021-01-01      1  2021             6                 0               199  \n",
       "1 2021-01-18      1  2021             6                 0               199  \n",
       "2 2021-04-20      4  2021             6                 0               199  \n",
       "3 2021-08-11      8  2021             6                 0               199  \n",
       "4 2021-08-28      8  2021             6                 0               199  "
      ]
     },
     "execution_count": 42,
     "metadata": {},
     "output_type": "execute_result"
    }
   ],
   "source": [
    "# Создаем датафрейм с данными о пользователях с подписками\n",
    "\n",
    "df_ultra =  df_total.query('subscription_type == \"ultra\"')\n",
    "\n",
    "# Вывод первых строк нового датафрейма\n",
    "df_ultra.head()"
   ]
  },
  {
   "cell_type": "code",
   "execution_count": 43,
   "id": "66beb1a9",
   "metadata": {},
   "outputs": [
    {
     "data": {
      "text/plain": [
       "Text(0, 0.5, 'Количество поездок')"
      ]
     },
     "execution_count": 43,
     "metadata": {},
     "output_type": "execute_result"
    },
    {
     "data": {
      "image/png": "[encoded data removed]",
      "text/plain": [
       "<Figure size 432x288 with 1 Axes>"
      ]
     },
     "metadata": {
      "needs_background": "light"
     },
     "output_type": "display_data"
    }
   ],
   "source": [
    "#строим гистограммы для расстояния поездок для пользователей без подписок\n",
    "\n",
    "df_free['distance'].hist(bins=100)\n",
    "\n",
    "plt.title('Расстояние, которое пользователи без подписки преодолели за одну поездку')\n",
    "plt.xlabel('Метры')\n",
    "plt.ylabel('Количество поездок')"
   ]
  },
  {
   "cell_type": "code",
   "execution_count": 44,
   "id": "b7c9b8f5",
   "metadata": {},
   "outputs": [
    {
     "data": {
      "text/plain": [
       "Text(0, 0.5, 'Количество поездок')"
      ]
     },
     "execution_count": 44,
     "metadata": {},
     "output_type": "execute_result"
    },
    {
     "data": {
      "image/png": "[encoded data removed]",
      "text/plain": [
       "<Figure size 432x288 with 1 Axes>"
      ]
     },
     "metadata": {
      "needs_background": "light"
     },
     "output_type": "display_data"
    }
   ],
   "source": [
    "#строим гистограммы для расстояния поездок для пользователей с подпиской\n",
    "\n",
    "df_ultra['distance'].hist(bins=100)\n",
    "plt.title('Расстояние, которое пользователи с подпиской преодолели за одну поездку')\n",
    "plt.xlabel('Метры')\n",
    "plt.ylabel('Количество поездок')\n"
   ]
  },
  {
   "cell_type": "code",
   "execution_count": 45,
   "id": "79c4e1e4",
   "metadata": {},
   "outputs": [
    {
     "data": {
      "text/plain": [
       "Text(0, 0.5, 'Количество поездок')"
      ]
     },
     "execution_count": 45,
     "metadata": {},
     "output_type": "execute_result"
    },
    {
     "data": {
      "image/png": "[encoded data removed]",
      "text/plain": [
       "<Figure size 432x288 with 1 Axes>"
      ]
     },
     "metadata": {
      "needs_background": "light"
     },
     "output_type": "display_data"
    }
   ],
   "source": [
    "#строим гистограммы для продолжительности поездок для пользователей без подписок\n",
    "\n",
    "df_free['duration'].hist(bins=100)\n",
    "\n",
    "plt.title('Продолжительности поездок для пользователей без подписок')\n",
    "plt.xlabel('Минуты')\n",
    "plt.ylabel('Количество поездок')"
   ]
  },
  {
   "cell_type": "code",
   "execution_count": 46,
   "id": "a40e37c8",
   "metadata": {},
   "outputs": [
    {
     "data": {
      "text/plain": [
       "Text(0, 0.5, 'Количество поездок')"
      ]
     },
     "execution_count": 46,
     "metadata": {},
     "output_type": "execute_result"
    },
    {
     "data": {
      "image/png": "[encoded data removed]",
      "text/plain": [
       "<Figure size 432x288 with 1 Axes>"
      ]
     },
     "metadata": {
      "needs_background": "light"
     },
     "output_type": "display_data"
    }
   ],
   "source": [
    "#строим гистограммы для продолжительности поездок для пользователей с подпиской\n",
    "\n",
    "df_ultra['duration'].hist(bins=100)\n",
    "plt.title('Продолжительности поездок для пользователей с подписоками')\n",
    "plt.xlabel('Минуты')\n",
    "plt.ylabel('Количество поездок')"
   ]
  },
  {
   "cell_type": "code",
   "execution_count": 47,
   "id": "76b4c9d9",
   "metadata": {},
   "outputs": [
    {
     "data": {
      "image/png": "[encoded data removed]",
      "text/plain": [
       "<Figure size 432x288 with 1 Axes>"
      ]
     },
     "metadata": {
      "needs_background": "light"
     },
     "output_type": "display_data"
    }
   ],
   "source": [
    "# Данные из датафрейма df_free\n",
    "x = df_free['distance']\n",
    "\n",
    "# Данные из датафрейма df_ultra\n",
    "y = df_ultra['distance']\n",
    "\n",
    "bins = np.linspace(0, 8000)\n",
    "\n",
    "plt.hist(x, alpha=0.5, label='без подписки')\n",
    "plt.hist(y, alpha=0.5, label='с подписой')\n",
    "\n",
    "plt.legend(loc='upper left')\n",
    "\n",
    "plt.title('Расстояние поездок для пользователей с различными типами подписок')\n",
    "plt.xlabel('Метры')\n",
    "plt.ylabel('Количество поездок')\n",
    "\n",
    "plt.show()"
   ]
  },
  {
   "cell_type": "markdown",
   "id": "e683fa3f",
   "metadata": {},
   "source": [
    "распределение расстояний поездок для пользователей с подпиской или без подписок схоже - есть два пика на отметке около 1 000 м и большой пик в диапазоне 2 500 - 3 000 м. У пользователей с попиской также наблюдается небольшой пик на отметке 4 000 м. А вот на отметке 5 000 км заметно резкое падение расстояния перемещения у пользователей без подписки и практически отсутствие поездок на расстояние больше 5 км у пользователей с подпиской"
   ]
  },
  {
   "cell_type": "code",
   "execution_count": 48,
   "id": "4219ef2e",
   "metadata": {},
   "outputs": [
    {
     "data": {
      "image/png": "[encoded data removed]",
      "text/plain": [
       "<Figure size 432x288 with 1 Axes>"
      ]
     },
     "metadata": {
      "needs_background": "light"
     },
     "output_type": "display_data"
    }
   ],
   "source": [
    "# Данные из датафрейма df_free\n",
    "x = df_free['duration']\n",
    "\n",
    "# Данные из датафрейма df_ultra\n",
    "y = df_ultra['duration']\n",
    "\n",
    "bins = np.linspace(0, 50, 100)\n",
    "\n",
    "plt.hist(x, bins, alpha=0.5, label='без подписки')\n",
    "plt.hist(y, bins, alpha=0.5, label='с подпиской')\n",
    "\n",
    "plt.legend(loc='upper left')\n",
    "plt.title('Продолжительности поездок для пользователей с различными типами подписок')\n",
    "plt.xlabel('Минуты')\n",
    "plt.ylabel('Количество поездок')\n",
    "\n",
    "plt.show()"
   ]
  },
  {
   "cell_type": "markdown",
   "id": "7fe537a9",
   "metadata": {},
   "source": [
    "замечены аномалии во времени в 30 секунд. В обоих графиках мики около 18-23 минут и практически не берут в аренду самокаты на более, чем 35 минут"
   ]
  },
  {
   "cell_type": "markdown",
   "id": "402d620f",
   "metadata": {},
   "source": [
    "#### Шаг 5. Подсчёт выручки"
   ]
  },
  {
   "cell_type": "code",
   "execution_count": 49,
   "id": "7c153d70",
   "metadata": {},
   "outputs": [
    {
     "data": {
      "text/html": [
       "<div>\n",
       "<style scoped>\n",
       "    .dataframe tbody tr th:only-of-type {\n",
       "        vertical-align: middle;\n",
       "    }\n",
       "\n",
       "    .dataframe tbody tr th {\n",
       "        vertical-align: top;\n",
       "    }\n",
       "\n",
       "    .dataframe thead th {\n",
       "        text-align: right;\n",
       "    }\n",
       "</style>\n",
       "<table border=\"1\" class=\"dataframe\">\n",
       "  <thead>\n",
       "    <tr style=\"text-align: right;\">\n",
       "      <th></th>\n",
       "      <th>user_id</th>\n",
       "      <th>month</th>\n",
       "      <th>total_distance</th>\n",
       "      <th>total_duration</th>\n",
       "      <th>total_trips</th>\n",
       "    </tr>\n",
       "  </thead>\n",
       "  <tbody>\n",
       "    <tr>\n",
       "      <th>0</th>\n",
       "      <td>1</td>\n",
       "      <td>1</td>\n",
       "      <td>7027.511294</td>\n",
       "      <td>42.0</td>\n",
       "      <td>2</td>\n",
       "    </tr>\n",
       "    <tr>\n",
       "      <th>1</th>\n",
       "      <td>1</td>\n",
       "      <td>4</td>\n",
       "      <td>754.159807</td>\n",
       "      <td>7.0</td>\n",
       "      <td>1</td>\n",
       "    </tr>\n",
       "    <tr>\n",
       "      <th>2</th>\n",
       "      <td>1</td>\n",
       "      <td>8</td>\n",
       "      <td>6723.470560</td>\n",
       "      <td>46.0</td>\n",
       "      <td>2</td>\n",
       "    </tr>\n",
       "    <tr>\n",
       "      <th>3</th>\n",
       "      <td>1</td>\n",
       "      <td>10</td>\n",
       "      <td>5809.911100</td>\n",
       "      <td>32.0</td>\n",
       "      <td>2</td>\n",
       "    </tr>\n",
       "    <tr>\n",
       "      <th>4</th>\n",
       "      <td>1</td>\n",
       "      <td>11</td>\n",
       "      <td>7003.499363</td>\n",
       "      <td>56.0</td>\n",
       "      <td>3</td>\n",
       "    </tr>\n",
       "    <tr>\n",
       "      <th>...</th>\n",
       "      <td>...</td>\n",
       "      <td>...</td>\n",
       "      <td>...</td>\n",
       "      <td>...</td>\n",
       "      <td>...</td>\n",
       "    </tr>\n",
       "    <tr>\n",
       "      <th>11326</th>\n",
       "      <td>1534</td>\n",
       "      <td>6</td>\n",
       "      <td>3409.468534</td>\n",
       "      <td>26.0</td>\n",
       "      <td>2</td>\n",
       "    </tr>\n",
       "    <tr>\n",
       "      <th>11327</th>\n",
       "      <td>1534</td>\n",
       "      <td>8</td>\n",
       "      <td>7622.453034</td>\n",
       "      <td>48.0</td>\n",
       "      <td>2</td>\n",
       "    </tr>\n",
       "    <tr>\n",
       "      <th>11328</th>\n",
       "      <td>1534</td>\n",
       "      <td>9</td>\n",
       "      <td>4928.173852</td>\n",
       "      <td>23.0</td>\n",
       "      <td>1</td>\n",
       "    </tr>\n",
       "    <tr>\n",
       "      <th>11329</th>\n",
       "      <td>1534</td>\n",
       "      <td>11</td>\n",
       "      <td>13350.015305</td>\n",
       "      <td>78.0</td>\n",
       "      <td>4</td>\n",
       "    </tr>\n",
       "    <tr>\n",
       "      <th>11330</th>\n",
       "      <td>1534</td>\n",
       "      <td>12</td>\n",
       "      <td>2371.711192</td>\n",
       "      <td>16.0</td>\n",
       "      <td>1</td>\n",
       "    </tr>\n",
       "  </tbody>\n",
       "</table>\n",
       "<p>11331 rows × 5 columns</p>\n",
       "</div>"
      ],
      "text/plain": [
       "       user_id  month  total_distance  total_duration  total_trips\n",
       "0            1      1     7027.511294            42.0            2\n",
       "1            1      4      754.159807             7.0            1\n",
       "2            1      8     6723.470560            46.0            2\n",
       "3            1     10     5809.911100            32.0            2\n",
       "4            1     11     7003.499363            56.0            3\n",
       "...        ...    ...             ...             ...          ...\n",
       "11326     1534      6     3409.468534            26.0            2\n",
       "11327     1534      8     7622.453034            48.0            2\n",
       "11328     1534      9     4928.173852            23.0            1\n",
       "11329     1534     11    13350.015305            78.0            4\n",
       "11330     1534     12     2371.711192            16.0            1\n",
       "\n",
       "[11331 rows x 5 columns]"
      ]
     },
     "execution_count": 49,
     "metadata": {},
     "output_type": "execute_result"
    }
   ],
   "source": [
    "df_total['month'] = df_total['date'].dt.month\n",
    "trips_aggregated = df_total.groupby(['user_id', 'month']).agg({'distance': 'sum', 'duration': 'sum'})\n",
    "trips_aggregated.rename(columns={'distance': 'total_distance', 'duration': 'total_duration'}, inplace=True)\n",
    "trips_aggregated['total_trips'] = df_total.groupby(['user_id', 'month'])['user_id'].count()\n",
    "\n",
    "trips_aggregated.reset_index(inplace=True)\n",
    "trips_aggregated"
   ]
  },
  {
   "cell_type": "code",
   "execution_count": 50,
   "id": "f268044c",
   "metadata": {},
   "outputs": [
    {
     "data": {
      "text/html": [
       "<div>\n",
       "<style scoped>\n",
       "    .dataframe tbody tr th:only-of-type {\n",
       "        vertical-align: middle;\n",
       "    }\n",
       "\n",
       "    .dataframe tbody tr th {\n",
       "        vertical-align: top;\n",
       "    }\n",
       "\n",
       "    .dataframe thead th {\n",
       "        text-align: right;\n",
       "    }\n",
       "</style>\n",
       "<table border=\"1\" class=\"dataframe\">\n",
       "  <thead>\n",
       "    <tr style=\"text-align: right;\">\n",
       "      <th></th>\n",
       "      <th>user_id</th>\n",
       "      <th>name</th>\n",
       "      <th>age</th>\n",
       "      <th>city</th>\n",
       "      <th>subscription_type</th>\n",
       "      <th>distance</th>\n",
       "      <th>duration</th>\n",
       "      <th>date</th>\n",
       "      <th>month</th>\n",
       "      <th>year</th>\n",
       "      <th>minute_price</th>\n",
       "      <th>start_ride_price</th>\n",
       "      <th>subscription_fee</th>\n",
       "    </tr>\n",
       "  </thead>\n",
       "  <tbody>\n",
       "    <tr>\n",
       "      <th>0</th>\n",
       "      <td>1</td>\n",
       "      <td>Кира</td>\n",
       "      <td>22</td>\n",
       "      <td>Тюмень</td>\n",
       "      <td>ultra</td>\n",
       "      <td>4409.919140</td>\n",
       "      <td>26.0</td>\n",
       "      <td>2021-01-01</td>\n",
       "      <td>1</td>\n",
       "      <td>2021</td>\n",
       "      <td>6</td>\n",
       "      <td>0</td>\n",
       "      <td>199</td>\n",
       "    </tr>\n",
       "    <tr>\n",
       "      <th>1</th>\n",
       "      <td>1</td>\n",
       "      <td>Кира</td>\n",
       "      <td>22</td>\n",
       "      <td>Тюмень</td>\n",
       "      <td>ultra</td>\n",
       "      <td>2617.592153</td>\n",
       "      <td>16.0</td>\n",
       "      <td>2021-01-18</td>\n",
       "      <td>1</td>\n",
       "      <td>2021</td>\n",
       "      <td>6</td>\n",
       "      <td>0</td>\n",
       "      <td>199</td>\n",
       "    </tr>\n",
       "    <tr>\n",
       "      <th>2</th>\n",
       "      <td>1</td>\n",
       "      <td>Кира</td>\n",
       "      <td>22</td>\n",
       "      <td>Тюмень</td>\n",
       "      <td>ultra</td>\n",
       "      <td>754.159807</td>\n",
       "      <td>7.0</td>\n",
       "      <td>2021-04-20</td>\n",
       "      <td>4</td>\n",
       "      <td>2021</td>\n",
       "      <td>6</td>\n",
       "      <td>0</td>\n",
       "      <td>199</td>\n",
       "    </tr>\n",
       "    <tr>\n",
       "      <th>3</th>\n",
       "      <td>1</td>\n",
       "      <td>Кира</td>\n",
       "      <td>22</td>\n",
       "      <td>Тюмень</td>\n",
       "      <td>ultra</td>\n",
       "      <td>2694.783254</td>\n",
       "      <td>19.0</td>\n",
       "      <td>2021-08-11</td>\n",
       "      <td>8</td>\n",
       "      <td>2021</td>\n",
       "      <td>6</td>\n",
       "      <td>0</td>\n",
       "      <td>199</td>\n",
       "    </tr>\n",
       "    <tr>\n",
       "      <th>4</th>\n",
       "      <td>1</td>\n",
       "      <td>Кира</td>\n",
       "      <td>22</td>\n",
       "      <td>Тюмень</td>\n",
       "      <td>ultra</td>\n",
       "      <td>4028.687306</td>\n",
       "      <td>27.0</td>\n",
       "      <td>2021-08-28</td>\n",
       "      <td>8</td>\n",
       "      <td>2021</td>\n",
       "      <td>6</td>\n",
       "      <td>0</td>\n",
       "      <td>199</td>\n",
       "    </tr>\n",
       "    <tr>\n",
       "      <th>...</th>\n",
       "      <td>...</td>\n",
       "      <td>...</td>\n",
       "      <td>...</td>\n",
       "      <td>...</td>\n",
       "      <td>...</td>\n",
       "      <td>...</td>\n",
       "      <td>...</td>\n",
       "      <td>...</td>\n",
       "      <td>...</td>\n",
       "      <td>...</td>\n",
       "      <td>...</td>\n",
       "      <td>...</td>\n",
       "      <td>...</td>\n",
       "    </tr>\n",
       "    <tr>\n",
       "      <th>18063</th>\n",
       "      <td>1534</td>\n",
       "      <td>Альберт</td>\n",
       "      <td>25</td>\n",
       "      <td>Краснодар</td>\n",
       "      <td>free</td>\n",
       "      <td>3781.098080</td>\n",
       "      <td>20.0</td>\n",
       "      <td>2021-11-04</td>\n",
       "      <td>11</td>\n",
       "      <td>2021</td>\n",
       "      <td>8</td>\n",
       "      <td>50</td>\n",
       "      <td>0</td>\n",
       "    </tr>\n",
       "    <tr>\n",
       "      <th>18064</th>\n",
       "      <td>1534</td>\n",
       "      <td>Альберт</td>\n",
       "      <td>25</td>\n",
       "      <td>Краснодар</td>\n",
       "      <td>free</td>\n",
       "      <td>2840.423057</td>\n",
       "      <td>22.0</td>\n",
       "      <td>2021-11-16</td>\n",
       "      <td>11</td>\n",
       "      <td>2021</td>\n",
       "      <td>8</td>\n",
       "      <td>50</td>\n",
       "      <td>0</td>\n",
       "    </tr>\n",
       "    <tr>\n",
       "      <th>18065</th>\n",
       "      <td>1534</td>\n",
       "      <td>Альберт</td>\n",
       "      <td>25</td>\n",
       "      <td>Краснодар</td>\n",
       "      <td>free</td>\n",
       "      <td>3826.185507</td>\n",
       "      <td>19.0</td>\n",
       "      <td>2021-11-18</td>\n",
       "      <td>11</td>\n",
       "      <td>2021</td>\n",
       "      <td>8</td>\n",
       "      <td>50</td>\n",
       "      <td>0</td>\n",
       "    </tr>\n",
       "    <tr>\n",
       "      <th>18066</th>\n",
       "      <td>1534</td>\n",
       "      <td>Альберт</td>\n",
       "      <td>25</td>\n",
       "      <td>Краснодар</td>\n",
       "      <td>free</td>\n",
       "      <td>2902.308661</td>\n",
       "      <td>17.0</td>\n",
       "      <td>2021-11-27</td>\n",
       "      <td>11</td>\n",
       "      <td>2021</td>\n",
       "      <td>8</td>\n",
       "      <td>50</td>\n",
       "      <td>0</td>\n",
       "    </tr>\n",
       "    <tr>\n",
       "      <th>18067</th>\n",
       "      <td>1534</td>\n",
       "      <td>Альберт</td>\n",
       "      <td>25</td>\n",
       "      <td>Краснодар</td>\n",
       "      <td>free</td>\n",
       "      <td>2371.711192</td>\n",
       "      <td>16.0</td>\n",
       "      <td>2021-12-29</td>\n",
       "      <td>12</td>\n",
       "      <td>2021</td>\n",
       "      <td>8</td>\n",
       "      <td>50</td>\n",
       "      <td>0</td>\n",
       "    </tr>\n",
       "  </tbody>\n",
       "</table>\n",
       "<p>18068 rows × 13 columns</p>\n",
       "</div>"
      ],
      "text/plain": [
       "       user_id     name  age       city subscription_type     distance  \\\n",
       "0            1     Кира   22     Тюмень             ultra  4409.919140   \n",
       "1            1     Кира   22     Тюмень             ultra  2617.592153   \n",
       "2            1     Кира   22     Тюмень             ultra   754.159807   \n",
       "3            1     Кира   22     Тюмень             ultra  2694.783254   \n",
       "4            1     Кира   22     Тюмень             ultra  4028.687306   \n",
       "...        ...      ...  ...        ...               ...          ...   \n",
       "18063     1534  Альберт   25  Краснодар              free  3781.098080   \n",
       "18064     1534  Альберт   25  Краснодар              free  2840.423057   \n",
       "18065     1534  Альберт   25  Краснодар              free  3826.185507   \n",
       "18066     1534  Альберт   25  Краснодар              free  2902.308661   \n",
       "18067     1534  Альберт   25  Краснодар              free  2371.711192   \n",
       "\n",
       "       duration       date  month  year  minute_price  start_ride_price  \\\n",
       "0          26.0 2021-01-01      1  2021             6                 0   \n",
       "1          16.0 2021-01-18      1  2021             6                 0   \n",
       "2           7.0 2021-04-20      4  2021             6                 0   \n",
       "3          19.0 2021-08-11      8  2021             6                 0   \n",
       "4          27.0 2021-08-28      8  2021             6                 0   \n",
       "...         ...        ...    ...   ...           ...               ...   \n",
       "18063      20.0 2021-11-04     11  2021             8                50   \n",
       "18064      22.0 2021-11-16     11  2021             8                50   \n",
       "18065      19.0 2021-11-18     11  2021             8                50   \n",
       "18066      17.0 2021-11-27     11  2021             8                50   \n",
       "18067      16.0 2021-12-29     12  2021             8                50   \n",
       "\n",
       "       subscription_fee  \n",
       "0                   199  \n",
       "1                   199  \n",
       "2                   199  \n",
       "3                   199  \n",
       "4                   199  \n",
       "...                 ...  \n",
       "18063                 0  \n",
       "18064                 0  \n",
       "18065                 0  \n",
       "18066                 0  \n",
       "18067                 0  \n",
       "\n",
       "[18068 rows x 13 columns]"
      ]
     },
     "execution_count": 50,
     "metadata": {},
     "output_type": "execute_result"
    }
   ],
   "source": [
    "df_total"
   ]
  },
  {
   "cell_type": "code",
   "execution_count": 51,
   "id": "dc753334",
   "metadata": {},
   "outputs": [
    {
     "data": {
      "text/html": [
       "<div>\n",
       "<style scoped>\n",
       "    .dataframe tbody tr th:only-of-type {\n",
       "        vertical-align: middle;\n",
       "    }\n",
       "\n",
       "    .dataframe tbody tr th {\n",
       "        vertical-align: top;\n",
       "    }\n",
       "\n",
       "    .dataframe thead th {\n",
       "        text-align: right;\n",
       "    }\n",
       "</style>\n",
       "<table border=\"1\" class=\"dataframe\">\n",
       "  <thead>\n",
       "    <tr style=\"text-align: right;\">\n",
       "      <th></th>\n",
       "      <th>user_id</th>\n",
       "      <th>month</th>\n",
       "      <th>total_distance</th>\n",
       "      <th>total_duration</th>\n",
       "      <th>total_trips</th>\n",
       "      <th>subscription_type</th>\n",
       "    </tr>\n",
       "  </thead>\n",
       "  <tbody>\n",
       "    <tr>\n",
       "      <th>0</th>\n",
       "      <td>1</td>\n",
       "      <td>1</td>\n",
       "      <td>7027.511294</td>\n",
       "      <td>42.0</td>\n",
       "      <td>2</td>\n",
       "      <td>ultra</td>\n",
       "    </tr>\n",
       "    <tr>\n",
       "      <th>1</th>\n",
       "      <td>1</td>\n",
       "      <td>4</td>\n",
       "      <td>754.159807</td>\n",
       "      <td>7.0</td>\n",
       "      <td>1</td>\n",
       "      <td>ultra</td>\n",
       "    </tr>\n",
       "    <tr>\n",
       "      <th>2</th>\n",
       "      <td>1</td>\n",
       "      <td>8</td>\n",
       "      <td>6723.470560</td>\n",
       "      <td>46.0</td>\n",
       "      <td>2</td>\n",
       "      <td>ultra</td>\n",
       "    </tr>\n",
       "    <tr>\n",
       "      <th>3</th>\n",
       "      <td>1</td>\n",
       "      <td>10</td>\n",
       "      <td>5809.911100</td>\n",
       "      <td>32.0</td>\n",
       "      <td>2</td>\n",
       "      <td>ultra</td>\n",
       "    </tr>\n",
       "    <tr>\n",
       "      <th>4</th>\n",
       "      <td>1</td>\n",
       "      <td>11</td>\n",
       "      <td>7003.499363</td>\n",
       "      <td>56.0</td>\n",
       "      <td>3</td>\n",
       "      <td>ultra</td>\n",
       "    </tr>\n",
       "    <tr>\n",
       "      <th>...</th>\n",
       "      <td>...</td>\n",
       "      <td>...</td>\n",
       "      <td>...</td>\n",
       "      <td>...</td>\n",
       "      <td>...</td>\n",
       "      <td>...</td>\n",
       "    </tr>\n",
       "    <tr>\n",
       "      <th>11326</th>\n",
       "      <td>1534</td>\n",
       "      <td>6</td>\n",
       "      <td>3409.468534</td>\n",
       "      <td>26.0</td>\n",
       "      <td>2</td>\n",
       "      <td>free</td>\n",
       "    </tr>\n",
       "    <tr>\n",
       "      <th>11327</th>\n",
       "      <td>1534</td>\n",
       "      <td>8</td>\n",
       "      <td>7622.453034</td>\n",
       "      <td>48.0</td>\n",
       "      <td>2</td>\n",
       "      <td>free</td>\n",
       "    </tr>\n",
       "    <tr>\n",
       "      <th>11328</th>\n",
       "      <td>1534</td>\n",
       "      <td>9</td>\n",
       "      <td>4928.173852</td>\n",
       "      <td>23.0</td>\n",
       "      <td>1</td>\n",
       "      <td>free</td>\n",
       "    </tr>\n",
       "    <tr>\n",
       "      <th>11329</th>\n",
       "      <td>1534</td>\n",
       "      <td>11</td>\n",
       "      <td>13350.015305</td>\n",
       "      <td>78.0</td>\n",
       "      <td>4</td>\n",
       "      <td>free</td>\n",
       "    </tr>\n",
       "    <tr>\n",
       "      <th>11330</th>\n",
       "      <td>1534</td>\n",
       "      <td>12</td>\n",
       "      <td>2371.711192</td>\n",
       "      <td>16.0</td>\n",
       "      <td>1</td>\n",
       "      <td>free</td>\n",
       "    </tr>\n",
       "  </tbody>\n",
       "</table>\n",
       "<p>11331 rows × 6 columns</p>\n",
       "</div>"
      ],
      "text/plain": [
       "       user_id  month  total_distance  total_duration  total_trips  \\\n",
       "0            1      1     7027.511294            42.0            2   \n",
       "1            1      4      754.159807             7.0            1   \n",
       "2            1      8     6723.470560            46.0            2   \n",
       "3            1     10     5809.911100            32.0            2   \n",
       "4            1     11     7003.499363            56.0            3   \n",
       "...        ...    ...             ...             ...          ...   \n",
       "11326     1534      6     3409.468534            26.0            2   \n",
       "11327     1534      8     7622.453034            48.0            2   \n",
       "11328     1534      9     4928.173852            23.0            1   \n",
       "11329     1534     11    13350.015305            78.0            4   \n",
       "11330     1534     12     2371.711192            16.0            1   \n",
       "\n",
       "      subscription_type  \n",
       "0                 ultra  \n",
       "1                 ultra  \n",
       "2                 ultra  \n",
       "3                 ultra  \n",
       "4                 ultra  \n",
       "...                 ...  \n",
       "11326              free  \n",
       "11327              free  \n",
       "11328              free  \n",
       "11329              free  \n",
       "11330              free  \n",
       "\n",
       "[11331 rows x 6 columns]"
      ]
     },
     "execution_count": 51,
     "metadata": {},
     "output_type": "execute_result"
    }
   ],
   "source": [
    "# В trips_aggregated добавляем столбец с subscription_type\n",
    "df_grouped = df_total.groupby('user_id')['subscription_type'].first().reset_index()\n",
    "trips_aggregated = trips_aggregated.join(df_grouped.set_index('user_id'), on='user_id')\n",
    "\n",
    "trips_aggregated"
   ]
  },
  {
   "cell_type": "code",
   "execution_count": 52,
   "id": "609a9c52",
   "metadata": {},
   "outputs": [
    {
     "data": {
      "text/html": [
       "<div>\n",
       "<style scoped>\n",
       "    .dataframe tbody tr th:only-of-type {\n",
       "        vertical-align: middle;\n",
       "    }\n",
       "\n",
       "    .dataframe tbody tr th {\n",
       "        vertical-align: top;\n",
       "    }\n",
       "\n",
       "    .dataframe thead th {\n",
       "        text-align: right;\n",
       "    }\n",
       "</style>\n",
       "<table border=\"1\" class=\"dataframe\">\n",
       "  <thead>\n",
       "    <tr style=\"text-align: right;\">\n",
       "      <th></th>\n",
       "      <th>user_id</th>\n",
       "      <th>month</th>\n",
       "      <th>total_distance</th>\n",
       "      <th>total_duration</th>\n",
       "      <th>total_trips</th>\n",
       "      <th>subscription_type</th>\n",
       "      <th>start_ride_price</th>\n",
       "    </tr>\n",
       "  </thead>\n",
       "  <tbody>\n",
       "    <tr>\n",
       "      <th>0</th>\n",
       "      <td>1</td>\n",
       "      <td>1</td>\n",
       "      <td>7027.511294</td>\n",
       "      <td>42.0</td>\n",
       "      <td>2</td>\n",
       "      <td>ultra</td>\n",
       "      <td>0</td>\n",
       "    </tr>\n",
       "    <tr>\n",
       "      <th>1</th>\n",
       "      <td>1</td>\n",
       "      <td>4</td>\n",
       "      <td>754.159807</td>\n",
       "      <td>7.0</td>\n",
       "      <td>1</td>\n",
       "      <td>ultra</td>\n",
       "      <td>0</td>\n",
       "    </tr>\n",
       "    <tr>\n",
       "      <th>2</th>\n",
       "      <td>1</td>\n",
       "      <td>8</td>\n",
       "      <td>6723.470560</td>\n",
       "      <td>46.0</td>\n",
       "      <td>2</td>\n",
       "      <td>ultra</td>\n",
       "      <td>0</td>\n",
       "    </tr>\n",
       "    <tr>\n",
       "      <th>3</th>\n",
       "      <td>1</td>\n",
       "      <td>10</td>\n",
       "      <td>5809.911100</td>\n",
       "      <td>32.0</td>\n",
       "      <td>2</td>\n",
       "      <td>ultra</td>\n",
       "      <td>0</td>\n",
       "    </tr>\n",
       "    <tr>\n",
       "      <th>4</th>\n",
       "      <td>1</td>\n",
       "      <td>11</td>\n",
       "      <td>7003.499363</td>\n",
       "      <td>56.0</td>\n",
       "      <td>3</td>\n",
       "      <td>ultra</td>\n",
       "      <td>0</td>\n",
       "    </tr>\n",
       "    <tr>\n",
       "      <th>...</th>\n",
       "      <td>...</td>\n",
       "      <td>...</td>\n",
       "      <td>...</td>\n",
       "      <td>...</td>\n",
       "      <td>...</td>\n",
       "      <td>...</td>\n",
       "      <td>...</td>\n",
       "    </tr>\n",
       "    <tr>\n",
       "      <th>11326</th>\n",
       "      <td>1534</td>\n",
       "      <td>6</td>\n",
       "      <td>3409.468534</td>\n",
       "      <td>26.0</td>\n",
       "      <td>2</td>\n",
       "      <td>free</td>\n",
       "      <td>50</td>\n",
       "    </tr>\n",
       "    <tr>\n",
       "      <th>11327</th>\n",
       "      <td>1534</td>\n",
       "      <td>8</td>\n",
       "      <td>7622.453034</td>\n",
       "      <td>48.0</td>\n",
       "      <td>2</td>\n",
       "      <td>free</td>\n",
       "      <td>50</td>\n",
       "    </tr>\n",
       "    <tr>\n",
       "      <th>11328</th>\n",
       "      <td>1534</td>\n",
       "      <td>9</td>\n",
       "      <td>4928.173852</td>\n",
       "      <td>23.0</td>\n",
       "      <td>1</td>\n",
       "      <td>free</td>\n",
       "      <td>50</td>\n",
       "    </tr>\n",
       "    <tr>\n",
       "      <th>11329</th>\n",
       "      <td>1534</td>\n",
       "      <td>11</td>\n",
       "      <td>13350.015305</td>\n",
       "      <td>78.0</td>\n",
       "      <td>4</td>\n",
       "      <td>free</td>\n",
       "      <td>50</td>\n",
       "    </tr>\n",
       "    <tr>\n",
       "      <th>11330</th>\n",
       "      <td>1534</td>\n",
       "      <td>12</td>\n",
       "      <td>2371.711192</td>\n",
       "      <td>16.0</td>\n",
       "      <td>1</td>\n",
       "      <td>free</td>\n",
       "      <td>50</td>\n",
       "    </tr>\n",
       "  </tbody>\n",
       "</table>\n",
       "<p>11331 rows × 7 columns</p>\n",
       "</div>"
      ],
      "text/plain": [
       "       user_id  month  total_distance  total_duration  total_trips  \\\n",
       "0            1      1     7027.511294            42.0            2   \n",
       "1            1      4      754.159807             7.0            1   \n",
       "2            1      8     6723.470560            46.0            2   \n",
       "3            1     10     5809.911100            32.0            2   \n",
       "4            1     11     7003.499363            56.0            3   \n",
       "...        ...    ...             ...             ...          ...   \n",
       "11326     1534      6     3409.468534            26.0            2   \n",
       "11327     1534      8     7622.453034            48.0            2   \n",
       "11328     1534      9     4928.173852            23.0            1   \n",
       "11329     1534     11    13350.015305            78.0            4   \n",
       "11330     1534     12     2371.711192            16.0            1   \n",
       "\n",
       "      subscription_type  start_ride_price  \n",
       "0                 ultra                 0  \n",
       "1                 ultra                 0  \n",
       "2                 ultra                 0  \n",
       "3                 ultra                 0  \n",
       "4                 ultra                 0  \n",
       "...                 ...               ...  \n",
       "11326              free                50  \n",
       "11327              free                50  \n",
       "11328              free                50  \n",
       "11329              free                50  \n",
       "11330              free                50  \n",
       "\n",
       "[11331 rows x 7 columns]"
      ]
     },
     "execution_count": 52,
     "metadata": {},
     "output_type": "execute_result"
    }
   ],
   "source": [
    "# В trips_aggregated добавляем столбец start_ride_price\n",
    "\n",
    "def set_start_ride_price(row):\n",
    "    if row['subscription_type'] == 'free':\n",
    "        return 50\n",
    "    else:\n",
    "        return 0\n",
    "\n",
    "# Применить функцию к DataFrame и установить значения в 'start_ride_price'\n",
    "trips_aggregated['start_ride_price'] = trips_aggregated.apply(lambda row: set_start_ride_price(row), axis=1)\n",
    "\n",
    "trips_aggregated"
   ]
  },
  {
   "cell_type": "code",
   "execution_count": 53,
   "id": "be581ec5",
   "metadata": {},
   "outputs": [
    {
     "data": {
      "text/html": [
       "<div>\n",
       "<style scoped>\n",
       "    .dataframe tbody tr th:only-of-type {\n",
       "        vertical-align: middle;\n",
       "    }\n",
       "\n",
       "    .dataframe tbody tr th {\n",
       "        vertical-align: top;\n",
       "    }\n",
       "\n",
       "    .dataframe thead th {\n",
       "        text-align: right;\n",
       "    }\n",
       "</style>\n",
       "<table border=\"1\" class=\"dataframe\">\n",
       "  <thead>\n",
       "    <tr style=\"text-align: right;\">\n",
       "      <th></th>\n",
       "      <th>user_id</th>\n",
       "      <th>month</th>\n",
       "      <th>total_distance</th>\n",
       "      <th>total_duration</th>\n",
       "      <th>total_trips</th>\n",
       "      <th>subscription_type</th>\n",
       "      <th>start_ride_price</th>\n",
       "      <th>minute_price</th>\n",
       "    </tr>\n",
       "  </thead>\n",
       "  <tbody>\n",
       "    <tr>\n",
       "      <th>0</th>\n",
       "      <td>1</td>\n",
       "      <td>1</td>\n",
       "      <td>7027.511294</td>\n",
       "      <td>42.0</td>\n",
       "      <td>2</td>\n",
       "      <td>ultra</td>\n",
       "      <td>0</td>\n",
       "      <td>6</td>\n",
       "    </tr>\n",
       "    <tr>\n",
       "      <th>1</th>\n",
       "      <td>1</td>\n",
       "      <td>4</td>\n",
       "      <td>754.159807</td>\n",
       "      <td>7.0</td>\n",
       "      <td>1</td>\n",
       "      <td>ultra</td>\n",
       "      <td>0</td>\n",
       "      <td>6</td>\n",
       "    </tr>\n",
       "    <tr>\n",
       "      <th>2</th>\n",
       "      <td>1</td>\n",
       "      <td>8</td>\n",
       "      <td>6723.470560</td>\n",
       "      <td>46.0</td>\n",
       "      <td>2</td>\n",
       "      <td>ultra</td>\n",
       "      <td>0</td>\n",
       "      <td>6</td>\n",
       "    </tr>\n",
       "    <tr>\n",
       "      <th>3</th>\n",
       "      <td>1</td>\n",
       "      <td>10</td>\n",
       "      <td>5809.911100</td>\n",
       "      <td>32.0</td>\n",
       "      <td>2</td>\n",
       "      <td>ultra</td>\n",
       "      <td>0</td>\n",
       "      <td>6</td>\n",
       "    </tr>\n",
       "    <tr>\n",
       "      <th>4</th>\n",
       "      <td>1</td>\n",
       "      <td>11</td>\n",
       "      <td>7003.499363</td>\n",
       "      <td>56.0</td>\n",
       "      <td>3</td>\n",
       "      <td>ultra</td>\n",
       "      <td>0</td>\n",
       "      <td>6</td>\n",
       "    </tr>\n",
       "    <tr>\n",
       "      <th>...</th>\n",
       "      <td>...</td>\n",
       "      <td>...</td>\n",
       "      <td>...</td>\n",
       "      <td>...</td>\n",
       "      <td>...</td>\n",
       "      <td>...</td>\n",
       "      <td>...</td>\n",
       "      <td>...</td>\n",
       "    </tr>\n",
       "    <tr>\n",
       "      <th>11326</th>\n",
       "      <td>1534</td>\n",
       "      <td>6</td>\n",
       "      <td>3409.468534</td>\n",
       "      <td>26.0</td>\n",
       "      <td>2</td>\n",
       "      <td>free</td>\n",
       "      <td>50</td>\n",
       "      <td>8</td>\n",
       "    </tr>\n",
       "    <tr>\n",
       "      <th>11327</th>\n",
       "      <td>1534</td>\n",
       "      <td>8</td>\n",
       "      <td>7622.453034</td>\n",
       "      <td>48.0</td>\n",
       "      <td>2</td>\n",
       "      <td>free</td>\n",
       "      <td>50</td>\n",
       "      <td>8</td>\n",
       "    </tr>\n",
       "    <tr>\n",
       "      <th>11328</th>\n",
       "      <td>1534</td>\n",
       "      <td>9</td>\n",
       "      <td>4928.173852</td>\n",
       "      <td>23.0</td>\n",
       "      <td>1</td>\n",
       "      <td>free</td>\n",
       "      <td>50</td>\n",
       "      <td>8</td>\n",
       "    </tr>\n",
       "    <tr>\n",
       "      <th>11329</th>\n",
       "      <td>1534</td>\n",
       "      <td>11</td>\n",
       "      <td>13350.015305</td>\n",
       "      <td>78.0</td>\n",
       "      <td>4</td>\n",
       "      <td>free</td>\n",
       "      <td>50</td>\n",
       "      <td>8</td>\n",
       "    </tr>\n",
       "    <tr>\n",
       "      <th>11330</th>\n",
       "      <td>1534</td>\n",
       "      <td>12</td>\n",
       "      <td>2371.711192</td>\n",
       "      <td>16.0</td>\n",
       "      <td>1</td>\n",
       "      <td>free</td>\n",
       "      <td>50</td>\n",
       "      <td>8</td>\n",
       "    </tr>\n",
       "  </tbody>\n",
       "</table>\n",
       "<p>11331 rows × 8 columns</p>\n",
       "</div>"
      ],
      "text/plain": [
       "       user_id  month  total_distance  total_duration  total_trips  \\\n",
       "0            1      1     7027.511294            42.0            2   \n",
       "1            1      4      754.159807             7.0            1   \n",
       "2            1      8     6723.470560            46.0            2   \n",
       "3            1     10     5809.911100            32.0            2   \n",
       "4            1     11     7003.499363            56.0            3   \n",
       "...        ...    ...             ...             ...          ...   \n",
       "11326     1534      6     3409.468534            26.0            2   \n",
       "11327     1534      8     7622.453034            48.0            2   \n",
       "11328     1534      9     4928.173852            23.0            1   \n",
       "11329     1534     11    13350.015305            78.0            4   \n",
       "11330     1534     12     2371.711192            16.0            1   \n",
       "\n",
       "      subscription_type  start_ride_price  minute_price  \n",
       "0                 ultra                 0             6  \n",
       "1                 ultra                 0             6  \n",
       "2                 ultra                 0             6  \n",
       "3                 ultra                 0             6  \n",
       "4                 ultra                 0             6  \n",
       "...                 ...               ...           ...  \n",
       "11326              free                50             8  \n",
       "11327              free                50             8  \n",
       "11328              free                50             8  \n",
       "11329              free                50             8  \n",
       "11330              free                50             8  \n",
       "\n",
       "[11331 rows x 8 columns]"
      ]
     },
     "execution_count": 53,
     "metadata": {},
     "output_type": "execute_result"
    }
   ],
   "source": [
    "# В trips_aggregated добавляем столбец 'minute_price'\n",
    "\n",
    "def set_start_ride_price(row):\n",
    "    if row['subscription_type'] == 'free':\n",
    "        return 8\n",
    "    else:\n",
    "        return 6\n",
    "\n",
    "# Применить функцию к DataFrame и установить значения в 'start_ride_price'\n",
    "trips_aggregated['minute_price'] = trips_aggregated.apply(lambda row: set_start_ride_price(row), axis=1)\n",
    "trips_aggregated"
   ]
  },
  {
   "cell_type": "code",
   "execution_count": 54,
   "id": "fa898a26",
   "metadata": {},
   "outputs": [
    {
     "data": {
      "text/html": [
       "<div>\n",
       "<style scoped>\n",
       "    .dataframe tbody tr th:only-of-type {\n",
       "        vertical-align: middle;\n",
       "    }\n",
       "\n",
       "    .dataframe tbody tr th {\n",
       "        vertical-align: top;\n",
       "    }\n",
       "\n",
       "    .dataframe thead th {\n",
       "        text-align: right;\n",
       "    }\n",
       "</style>\n",
       "<table border=\"1\" class=\"dataframe\">\n",
       "  <thead>\n",
       "    <tr style=\"text-align: right;\">\n",
       "      <th></th>\n",
       "      <th>user_id</th>\n",
       "      <th>month</th>\n",
       "      <th>total_distance</th>\n",
       "      <th>total_duration</th>\n",
       "      <th>total_trips</th>\n",
       "      <th>subscription_type</th>\n",
       "      <th>start_ride_price</th>\n",
       "      <th>minute_price</th>\n",
       "      <th>subscription_fee</th>\n",
       "    </tr>\n",
       "  </thead>\n",
       "  <tbody>\n",
       "    <tr>\n",
       "      <th>0</th>\n",
       "      <td>1</td>\n",
       "      <td>1</td>\n",
       "      <td>7027.511294</td>\n",
       "      <td>42.0</td>\n",
       "      <td>2</td>\n",
       "      <td>ultra</td>\n",
       "      <td>0</td>\n",
       "      <td>6</td>\n",
       "      <td>199</td>\n",
       "    </tr>\n",
       "    <tr>\n",
       "      <th>1</th>\n",
       "      <td>1</td>\n",
       "      <td>4</td>\n",
       "      <td>754.159807</td>\n",
       "      <td>7.0</td>\n",
       "      <td>1</td>\n",
       "      <td>ultra</td>\n",
       "      <td>0</td>\n",
       "      <td>6</td>\n",
       "      <td>199</td>\n",
       "    </tr>\n",
       "    <tr>\n",
       "      <th>2</th>\n",
       "      <td>1</td>\n",
       "      <td>8</td>\n",
       "      <td>6723.470560</td>\n",
       "      <td>46.0</td>\n",
       "      <td>2</td>\n",
       "      <td>ultra</td>\n",
       "      <td>0</td>\n",
       "      <td>6</td>\n",
       "      <td>199</td>\n",
       "    </tr>\n",
       "    <tr>\n",
       "      <th>3</th>\n",
       "      <td>1</td>\n",
       "      <td>10</td>\n",
       "      <td>5809.911100</td>\n",
       "      <td>32.0</td>\n",
       "      <td>2</td>\n",
       "      <td>ultra</td>\n",
       "      <td>0</td>\n",
       "      <td>6</td>\n",
       "      <td>199</td>\n",
       "    </tr>\n",
       "    <tr>\n",
       "      <th>4</th>\n",
       "      <td>1</td>\n",
       "      <td>11</td>\n",
       "      <td>7003.499363</td>\n",
       "      <td>56.0</td>\n",
       "      <td>3</td>\n",
       "      <td>ultra</td>\n",
       "      <td>0</td>\n",
       "      <td>6</td>\n",
       "      <td>199</td>\n",
       "    </tr>\n",
       "    <tr>\n",
       "      <th>...</th>\n",
       "      <td>...</td>\n",
       "      <td>...</td>\n",
       "      <td>...</td>\n",
       "      <td>...</td>\n",
       "      <td>...</td>\n",
       "      <td>...</td>\n",
       "      <td>...</td>\n",
       "      <td>...</td>\n",
       "      <td>...</td>\n",
       "    </tr>\n",
       "    <tr>\n",
       "      <th>11326</th>\n",
       "      <td>1534</td>\n",
       "      <td>6</td>\n",
       "      <td>3409.468534</td>\n",
       "      <td>26.0</td>\n",
       "      <td>2</td>\n",
       "      <td>free</td>\n",
       "      <td>50</td>\n",
       "      <td>8</td>\n",
       "      <td>0</td>\n",
       "    </tr>\n",
       "    <tr>\n",
       "      <th>11327</th>\n",
       "      <td>1534</td>\n",
       "      <td>8</td>\n",
       "      <td>7622.453034</td>\n",
       "      <td>48.0</td>\n",
       "      <td>2</td>\n",
       "      <td>free</td>\n",
       "      <td>50</td>\n",
       "      <td>8</td>\n",
       "      <td>0</td>\n",
       "    </tr>\n",
       "    <tr>\n",
       "      <th>11328</th>\n",
       "      <td>1534</td>\n",
       "      <td>9</td>\n",
       "      <td>4928.173852</td>\n",
       "      <td>23.0</td>\n",
       "      <td>1</td>\n",
       "      <td>free</td>\n",
       "      <td>50</td>\n",
       "      <td>8</td>\n",
       "      <td>0</td>\n",
       "    </tr>\n",
       "    <tr>\n",
       "      <th>11329</th>\n",
       "      <td>1534</td>\n",
       "      <td>11</td>\n",
       "      <td>13350.015305</td>\n",
       "      <td>78.0</td>\n",
       "      <td>4</td>\n",
       "      <td>free</td>\n",
       "      <td>50</td>\n",
       "      <td>8</td>\n",
       "      <td>0</td>\n",
       "    </tr>\n",
       "    <tr>\n",
       "      <th>11330</th>\n",
       "      <td>1534</td>\n",
       "      <td>12</td>\n",
       "      <td>2371.711192</td>\n",
       "      <td>16.0</td>\n",
       "      <td>1</td>\n",
       "      <td>free</td>\n",
       "      <td>50</td>\n",
       "      <td>8</td>\n",
       "      <td>0</td>\n",
       "    </tr>\n",
       "  </tbody>\n",
       "</table>\n",
       "<p>11331 rows × 9 columns</p>\n",
       "</div>"
      ],
      "text/plain": [
       "       user_id  month  total_distance  total_duration  total_trips  \\\n",
       "0            1      1     7027.511294            42.0            2   \n",
       "1            1      4      754.159807             7.0            1   \n",
       "2            1      8     6723.470560            46.0            2   \n",
       "3            1     10     5809.911100            32.0            2   \n",
       "4            1     11     7003.499363            56.0            3   \n",
       "...        ...    ...             ...             ...          ...   \n",
       "11326     1534      6     3409.468534            26.0            2   \n",
       "11327     1534      8     7622.453034            48.0            2   \n",
       "11328     1534      9     4928.173852            23.0            1   \n",
       "11329     1534     11    13350.015305            78.0            4   \n",
       "11330     1534     12     2371.711192            16.0            1   \n",
       "\n",
       "      subscription_type  start_ride_price  minute_price  subscription_fee  \n",
       "0                 ultra                 0             6               199  \n",
       "1                 ultra                 0             6               199  \n",
       "2                 ultra                 0             6               199  \n",
       "3                 ultra                 0             6               199  \n",
       "4                 ultra                 0             6               199  \n",
       "...                 ...               ...           ...               ...  \n",
       "11326              free                50             8                 0  \n",
       "11327              free                50             8                 0  \n",
       "11328              free                50             8                 0  \n",
       "11329              free                50             8                 0  \n",
       "11330              free                50             8                 0  \n",
       "\n",
       "[11331 rows x 9 columns]"
      ]
     },
     "execution_count": 54,
     "metadata": {},
     "output_type": "execute_result"
    }
   ],
   "source": [
    "# В trips_aggregated добавляем столбец 'subscription_fee'\n",
    "\n",
    "def set_subscription_fee(row):\n",
    "    if row['subscription_type'] == 'free':\n",
    "        return 0\n",
    "    else:\n",
    "        return 199\n",
    "\n",
    "# Применить функцию к DataFrame и установить значения в 'start_ride_price'\n",
    "trips_aggregated['subscription_fee'] = trips_aggregated.apply(lambda row: set_subscription_fee(row), axis=1)\n",
    "trips_aggregated"
   ]
  },
  {
   "cell_type": "code",
   "execution_count": 55,
   "id": "61f0b693",
   "metadata": {
    "scrolled": false
   },
   "outputs": [
    {
     "data": {
      "text/html": [
       "<div>\n",
       "<style scoped>\n",
       "    .dataframe tbody tr th:only-of-type {\n",
       "        vertical-align: middle;\n",
       "    }\n",
       "\n",
       "    .dataframe tbody tr th {\n",
       "        vertical-align: top;\n",
       "    }\n",
       "\n",
       "    .dataframe thead th {\n",
       "        text-align: right;\n",
       "    }\n",
       "</style>\n",
       "<table border=\"1\" class=\"dataframe\">\n",
       "  <thead>\n",
       "    <tr style=\"text-align: right;\">\n",
       "      <th></th>\n",
       "      <th>user_id</th>\n",
       "      <th>month</th>\n",
       "      <th>total_distance</th>\n",
       "      <th>total_duration</th>\n",
       "      <th>total_trips</th>\n",
       "      <th>subscription_type</th>\n",
       "      <th>start_ride_price</th>\n",
       "      <th>minute_price</th>\n",
       "      <th>subscription_fee</th>\n",
       "      <th>total_tr</th>\n",
       "    </tr>\n",
       "  </thead>\n",
       "  <tbody>\n",
       "    <tr>\n",
       "      <th>0</th>\n",
       "      <td>1</td>\n",
       "      <td>1</td>\n",
       "      <td>7027.511294</td>\n",
       "      <td>42.0</td>\n",
       "      <td>2</td>\n",
       "      <td>ultra</td>\n",
       "      <td>0</td>\n",
       "      <td>6</td>\n",
       "      <td>199</td>\n",
       "      <td>451.0</td>\n",
       "    </tr>\n",
       "    <tr>\n",
       "      <th>1</th>\n",
       "      <td>1</td>\n",
       "      <td>4</td>\n",
       "      <td>754.159807</td>\n",
       "      <td>7.0</td>\n",
       "      <td>1</td>\n",
       "      <td>ultra</td>\n",
       "      <td>0</td>\n",
       "      <td>6</td>\n",
       "      <td>199</td>\n",
       "      <td>241.0</td>\n",
       "    </tr>\n",
       "    <tr>\n",
       "      <th>2</th>\n",
       "      <td>1</td>\n",
       "      <td>8</td>\n",
       "      <td>6723.470560</td>\n",
       "      <td>46.0</td>\n",
       "      <td>2</td>\n",
       "      <td>ultra</td>\n",
       "      <td>0</td>\n",
       "      <td>6</td>\n",
       "      <td>199</td>\n",
       "      <td>475.0</td>\n",
       "    </tr>\n",
       "    <tr>\n",
       "      <th>3</th>\n",
       "      <td>1</td>\n",
       "      <td>10</td>\n",
       "      <td>5809.911100</td>\n",
       "      <td>32.0</td>\n",
       "      <td>2</td>\n",
       "      <td>ultra</td>\n",
       "      <td>0</td>\n",
       "      <td>6</td>\n",
       "      <td>199</td>\n",
       "      <td>391.0</td>\n",
       "    </tr>\n",
       "    <tr>\n",
       "      <th>4</th>\n",
       "      <td>1</td>\n",
       "      <td>11</td>\n",
       "      <td>7003.499363</td>\n",
       "      <td>56.0</td>\n",
       "      <td>3</td>\n",
       "      <td>ultra</td>\n",
       "      <td>0</td>\n",
       "      <td>6</td>\n",
       "      <td>199</td>\n",
       "      <td>535.0</td>\n",
       "    </tr>\n",
       "  </tbody>\n",
       "</table>\n",
       "</div>"
      ],
      "text/plain": [
       "   user_id  month  total_distance  total_duration  total_trips  \\\n",
       "0        1      1     7027.511294            42.0            2   \n",
       "1        1      4      754.159807             7.0            1   \n",
       "2        1      8     6723.470560            46.0            2   \n",
       "3        1     10     5809.911100            32.0            2   \n",
       "4        1     11     7003.499363            56.0            3   \n",
       "\n",
       "  subscription_type  start_ride_price  minute_price  subscription_fee  \\\n",
       "0             ultra                 0             6               199   \n",
       "1             ultra                 0             6               199   \n",
       "2             ultra                 0             6               199   \n",
       "3             ultra                 0             6               199   \n",
       "4             ultra                 0             6               199   \n",
       "\n",
       "   total_tr  \n",
       "0     451.0  \n",
       "1     241.0  \n",
       "2     475.0  \n",
       "3     391.0  \n",
       "4     535.0  "
      ]
     },
     "execution_count": 55,
     "metadata": {},
     "output_type": "execute_result"
    }
   ],
   "source": [
    "# В trips_aggregated добавляем столбец с помесячной выручкой, которую принёс каждый пользователь\n",
    "\n",
    "trips_aggregated['total_tr'] = trips_aggregated['start_ride_price']*trips_aggregated['total_trips'] + trips_aggregated['minute_price']*trips_aggregated['total_duration'] + trips_aggregated['subscription_fee']\n",
    "trips_aggregated.reset_index()\n",
    "trips_aggregated.head()"
   ]
  },
  {
   "cell_type": "markdown",
   "id": "41545ac0",
   "metadata": {},
   "source": [
    "#### Шаг 6. Проверка гипотез"
   ]
  },
  {
   "cell_type": "code",
   "execution_count": 56,
   "id": "9e606adf",
   "metadata": {},
   "outputs": [
    {
     "name": "stdout",
     "output_type": "stream",
     "text": [
      "p-значение: 1.1814679253701353e-36\n",
      "Отвергаем нулевую гипотезу\n"
     ]
    }
   ],
   "source": [
    "# Ho: средняя продолжительность сессии у подписчиков и не у подписчиков равны\n",
    "# H1: средняя продолжительность сессии у подписчиков больше, чем не у подписчиков\n",
    "\n",
    "\n",
    "alpha = 0.05 # уровень статистической значимости          \n",
    "\n",
    "results = st.ttest_ind(df_ultra['duration'], df_free['duration'], equal_var=False, alternative='greater') \n",
    "\n",
    "print('p-значение:', results.pvalue)\n",
    "\n",
    "if  results.pvalue < alpha:\n",
    "    print('Отвергаем нулевую гипотезу')\n",
    "else:\n",
    "    print('Не получилось отвергнуть нулевую гипотезу') "
   ]
  },
  {
   "cell_type": "markdown",
   "id": "29e5d807",
   "metadata": {},
   "source": [
    "Есть основания говорить, что пользователи с подпиской тратят больше времени на поездки"
   ]
  },
  {
   "cell_type": "code",
   "execution_count": 57,
   "id": "23ea867b",
   "metadata": {},
   "outputs": [
    {
     "name": "stdout",
     "output_type": "stream",
     "text": [
      "p-значение: 0.9195368847849785\n",
      "Не получилось отвергнуть нулевую гипотезу\n"
     ]
    }
   ],
   "source": [
    "#Н0: среднее расстояние поездки пользователей с подпиской равно 3130\n",
    "#Н1: среднее расстояние пользователей с подпиской больше 3130.\n",
    "# Односторонняя в сторону увеличения, или правосторонняя\n",
    "# Тогда код будет следующим:\n",
    "\n",
    "value = 3130 # нужное расстояние \n",
    "alpha = 0.05 \n",
    "results = st.ttest_1samp(df_ultra['distance'], value, alternative='greater')\n",
    "\n",
    "print('p-значение:', results.pvalue)\n",
    "\n",
    "if results.pvalue < alpha: # введите ваш код тут:\n",
    "    print('Отвергаем нулевую гипотезу')\n",
    "else:\n",
    "    print('Не получилось отвергнуть нулевую гипотезу')"
   ]
  },
  {
   "cell_type": "markdown",
   "id": "fcdb0a1a",
   "metadata": {},
   "source": [
    "\"Не получилось отвергнуть нулевую гипотезу\" означает, что пользователи не проезжают расстояние больше 3130, т.е. проезжают расстояние, равное или меньше 3130 метров, что является оптимальным расстоянием с точки зрения износа самоката "
   ]
  },
  {
   "cell_type": "code",
   "execution_count": 58,
   "id": "18535638",
   "metadata": {},
   "outputs": [
    {
     "name": "stderr",
     "output_type": "stream",
     "text": [
      "/opt/conda/lib/python3.9/site-packages/pandas/core/frame.py:4441: SettingWithCopyWarning: \n",
      "A value is trying to be set on a copy of a slice from a DataFrame\n",
      "\n",
      "See the caveats in the documentation: https://pandas.pydata.org/pandas-docs/stable/user_guide/indexing.html#returning-a-view-versus-a-copy\n",
      "  return super().rename(\n"
     ]
    },
    {
     "data": {
      "text/html": [
       "<div>\n",
       "<style scoped>\n",
       "    .dataframe tbody tr th:only-of-type {\n",
       "        vertical-align: middle;\n",
       "    }\n",
       "\n",
       "    .dataframe tbody tr th {\n",
       "        vertical-align: top;\n",
       "    }\n",
       "\n",
       "    .dataframe thead th {\n",
       "        text-align: right;\n",
       "    }\n",
       "</style>\n",
       "<table border=\"1\" class=\"dataframe\">\n",
       "  <thead>\n",
       "    <tr style=\"text-align: right;\">\n",
       "      <th></th>\n",
       "      <th>user_id</th>\n",
       "      <th>month</th>\n",
       "      <th>total_distance</th>\n",
       "      <th>total_duration</th>\n",
       "      <th>total_trips</th>\n",
       "      <th>subscription_type</th>\n",
       "      <th>start_ride_price</th>\n",
       "      <th>minute_price</th>\n",
       "      <th>subscription_fee</th>\n",
       "      <th>total_tr_free</th>\n",
       "    </tr>\n",
       "  </thead>\n",
       "  <tbody>\n",
       "    <tr>\n",
       "      <th>4533</th>\n",
       "      <td>700</td>\n",
       "      <td>1</td>\n",
       "      <td>2515.690719</td>\n",
       "      <td>15.0</td>\n",
       "      <td>1</td>\n",
       "      <td>free</td>\n",
       "      <td>50</td>\n",
       "      <td>8</td>\n",
       "      <td>0</td>\n",
       "      <td>170.0</td>\n",
       "    </tr>\n",
       "    <tr>\n",
       "      <th>4534</th>\n",
       "      <td>700</td>\n",
       "      <td>2</td>\n",
       "      <td>13446.659764</td>\n",
       "      <td>89.0</td>\n",
       "      <td>5</td>\n",
       "      <td>free</td>\n",
       "      <td>50</td>\n",
       "      <td>8</td>\n",
       "      <td>0</td>\n",
       "      <td>962.0</td>\n",
       "    </tr>\n",
       "    <tr>\n",
       "      <th>4535</th>\n",
       "      <td>700</td>\n",
       "      <td>3</td>\n",
       "      <td>3798.334905</td>\n",
       "      <td>19.0</td>\n",
       "      <td>1</td>\n",
       "      <td>free</td>\n",
       "      <td>50</td>\n",
       "      <td>8</td>\n",
       "      <td>0</td>\n",
       "      <td>202.0</td>\n",
       "    </tr>\n",
       "    <tr>\n",
       "      <th>4536</th>\n",
       "      <td>700</td>\n",
       "      <td>4</td>\n",
       "      <td>2984.551206</td>\n",
       "      <td>16.0</td>\n",
       "      <td>1</td>\n",
       "      <td>free</td>\n",
       "      <td>50</td>\n",
       "      <td>8</td>\n",
       "      <td>0</td>\n",
       "      <td>178.0</td>\n",
       "    </tr>\n",
       "    <tr>\n",
       "      <th>4537</th>\n",
       "      <td>700</td>\n",
       "      <td>6</td>\n",
       "      <td>5927.650988</td>\n",
       "      <td>29.0</td>\n",
       "      <td>2</td>\n",
       "      <td>free</td>\n",
       "      <td>50</td>\n",
       "      <td>8</td>\n",
       "      <td>0</td>\n",
       "      <td>332.0</td>\n",
       "    </tr>\n",
       "  </tbody>\n",
       "</table>\n",
       "</div>"
      ],
      "text/plain": [
       "      user_id  month  total_distance  total_duration  total_trips  \\\n",
       "4533      700      1     2515.690719            15.0            1   \n",
       "4534      700      2    13446.659764            89.0            5   \n",
       "4535      700      3     3798.334905            19.0            1   \n",
       "4536      700      4     2984.551206            16.0            1   \n",
       "4537      700      6     5927.650988            29.0            2   \n",
       "\n",
       "     subscription_type  start_ride_price  minute_price  subscription_fee  \\\n",
       "4533              free                50             8                 0   \n",
       "4534              free                50             8                 0   \n",
       "4535              free                50             8                 0   \n",
       "4536              free                50             8                 0   \n",
       "4537              free                50             8                 0   \n",
       "\n",
       "      total_tr_free  \n",
       "4533          170.0  \n",
       "4534          962.0  \n",
       "4535          202.0  \n",
       "4536          178.0  \n",
       "4537          332.0  "
      ]
     },
     "execution_count": 58,
     "metadata": {},
     "output_type": "execute_result"
    }
   ],
   "source": [
    "trips_aggregated_free = trips_aggregated.query('subscription_type == \"free\"')\n",
    "trips_aggregated_free.rename(columns={'total_tr': 'total_tr_free'}, inplace=True)\n",
    "\n",
    "trips_aggregated_free.head()"
   ]
  },
  {
   "cell_type": "code",
   "execution_count": 59,
   "id": "af9b1cab",
   "metadata": {},
   "outputs": [
    {
     "name": "stderr",
     "output_type": "stream",
     "text": [
      "/opt/conda/lib/python3.9/site-packages/pandas/core/frame.py:4441: SettingWithCopyWarning: \n",
      "A value is trying to be set on a copy of a slice from a DataFrame\n",
      "\n",
      "See the caveats in the documentation: https://pandas.pydata.org/pandas-docs/stable/user_guide/indexing.html#returning-a-view-versus-a-copy\n",
      "  return super().rename(\n"
     ]
    },
    {
     "data": {
      "text/html": [
       "<div>\n",
       "<style scoped>\n",
       "    .dataframe tbody tr th:only-of-type {\n",
       "        vertical-align: middle;\n",
       "    }\n",
       "\n",
       "    .dataframe tbody tr th {\n",
       "        vertical-align: top;\n",
       "    }\n",
       "\n",
       "    .dataframe thead th {\n",
       "        text-align: right;\n",
       "    }\n",
       "</style>\n",
       "<table border=\"1\" class=\"dataframe\">\n",
       "  <thead>\n",
       "    <tr style=\"text-align: right;\">\n",
       "      <th></th>\n",
       "      <th>user_id</th>\n",
       "      <th>month</th>\n",
       "      <th>total_distance</th>\n",
       "      <th>total_duration</th>\n",
       "      <th>total_trips</th>\n",
       "      <th>subscription_type</th>\n",
       "      <th>start_ride_price</th>\n",
       "      <th>minute_price</th>\n",
       "      <th>subscription_fee</th>\n",
       "      <th>total_tr_ultra</th>\n",
       "    </tr>\n",
       "  </thead>\n",
       "  <tbody>\n",
       "    <tr>\n",
       "      <th>0</th>\n",
       "      <td>1</td>\n",
       "      <td>1</td>\n",
       "      <td>7027.511294</td>\n",
       "      <td>42.0</td>\n",
       "      <td>2</td>\n",
       "      <td>ultra</td>\n",
       "      <td>0</td>\n",
       "      <td>6</td>\n",
       "      <td>199</td>\n",
       "      <td>451.0</td>\n",
       "    </tr>\n",
       "    <tr>\n",
       "      <th>1</th>\n",
       "      <td>1</td>\n",
       "      <td>4</td>\n",
       "      <td>754.159807</td>\n",
       "      <td>7.0</td>\n",
       "      <td>1</td>\n",
       "      <td>ultra</td>\n",
       "      <td>0</td>\n",
       "      <td>6</td>\n",
       "      <td>199</td>\n",
       "      <td>241.0</td>\n",
       "    </tr>\n",
       "    <tr>\n",
       "      <th>2</th>\n",
       "      <td>1</td>\n",
       "      <td>8</td>\n",
       "      <td>6723.470560</td>\n",
       "      <td>46.0</td>\n",
       "      <td>2</td>\n",
       "      <td>ultra</td>\n",
       "      <td>0</td>\n",
       "      <td>6</td>\n",
       "      <td>199</td>\n",
       "      <td>475.0</td>\n",
       "    </tr>\n",
       "    <tr>\n",
       "      <th>3</th>\n",
       "      <td>1</td>\n",
       "      <td>10</td>\n",
       "      <td>5809.911100</td>\n",
       "      <td>32.0</td>\n",
       "      <td>2</td>\n",
       "      <td>ultra</td>\n",
       "      <td>0</td>\n",
       "      <td>6</td>\n",
       "      <td>199</td>\n",
       "      <td>391.0</td>\n",
       "    </tr>\n",
       "    <tr>\n",
       "      <th>4</th>\n",
       "      <td>1</td>\n",
       "      <td>11</td>\n",
       "      <td>7003.499363</td>\n",
       "      <td>56.0</td>\n",
       "      <td>3</td>\n",
       "      <td>ultra</td>\n",
       "      <td>0</td>\n",
       "      <td>6</td>\n",
       "      <td>199</td>\n",
       "      <td>535.0</td>\n",
       "    </tr>\n",
       "  </tbody>\n",
       "</table>\n",
       "</div>"
      ],
      "text/plain": [
       "   user_id  month  total_distance  total_duration  total_trips  \\\n",
       "0        1      1     7027.511294            42.0            2   \n",
       "1        1      4      754.159807             7.0            1   \n",
       "2        1      8     6723.470560            46.0            2   \n",
       "3        1     10     5809.911100            32.0            2   \n",
       "4        1     11     7003.499363            56.0            3   \n",
       "\n",
       "  subscription_type  start_ride_price  minute_price  subscription_fee  \\\n",
       "0             ultra                 0             6               199   \n",
       "1             ultra                 0             6               199   \n",
       "2             ultra                 0             6               199   \n",
       "3             ultra                 0             6               199   \n",
       "4             ultra                 0             6               199   \n",
       "\n",
       "   total_tr_ultra  \n",
       "0           451.0  \n",
       "1           241.0  \n",
       "2           475.0  \n",
       "3           391.0  \n",
       "4           535.0  "
      ]
     },
     "execution_count": 59,
     "metadata": {},
     "output_type": "execute_result"
    }
   ],
   "source": [
    "trips_aggregated_ultra = trips_aggregated.query('subscription_type == \"ultra\"')\n",
    "trips_aggregated_ultra.rename(columns={'total_tr': 'total_tr_ultra'}, inplace=True)\n",
    "\n",
    "trips_aggregated_ultra.head()"
   ]
  },
  {
   "cell_type": "code",
   "execution_count": 60,
   "id": "86d9c8ec",
   "metadata": {},
   "outputs": [
    {
     "name": "stdout",
     "output_type": "stream",
     "text": [
      "p-значение: 8.874140893976874e-40\n",
      "Отвергаем нулевую гипотезу\n"
     ]
    }
   ],
   "source": [
    "# Ho: средняя ежемесячная выручка у подписчиков и у неподписчиков равны\n",
    "# H1: средняя ежемесячная выручка у подписчиков, больше, чем не у подписчиков\n",
    "\n",
    "alpha = 0.05 # уровень статистической значимости          \n",
    "\n",
    "results = st.ttest_ind(trips_aggregated_ultra['total_tr_ultra'], trips_aggregated_free['total_tr_free'], equal_var=False, alternative='greater') \n",
    "\n",
    "print('p-значение:', results.pvalue)\n",
    "\n",
    "if  results.pvalue < alpha:\n",
    "    print('Отвергаем нулевую гипотезу')\n",
    "else:\n",
    "    print('Не получилось отвергнуть нулевую гипотезу') "
   ]
  },
  {
   "cell_type": "markdown",
   "id": "d6df1239",
   "metadata": {},
   "source": [
    "Средняя ежемесячная выручка у подписчиков больше, чем не у подписчиков"
   ]
  },
  {
   "cell_type": "markdown",
   "id": "cf001469",
   "metadata": {},
   "source": [
    "6.4 Представьте такую ситуацию: техническая команда сервиса обновила сервера, с которыми взаимодействует мобильное приложение. Она надеется, что из-за этого количество обращений в техподдержку значимо снизилось. Некоторый файл содержит для каждого пользователя данные о количестве обращений до обновления и после него. Какой тест вам понадобился бы для проверки этой гипотезы?\n",
    "\n",
    "Гипотеза о равенстве средних для зависимых (парных) выборок\n",
    "\n",
    "Нулевая гипотеза будет о том, что средние обращений равны\n",
    "\n",
    "Альтернативная гипотеза будет о том, что средние обращений не равны\n",
    "\n",
    "alpha = 0.05 # уровень статистической значимости\n",
    "\n",
    "results = st.ttest_rel(before, after)\n",
    "\n",
    "print('p-значение:', results.pvalue)\n",
    "\n",
    "if results.pvalue < alpha:\n",
    "    print('Отвергаем нулевую гипотезу о равенстве средних обращений')\n",
    "else:\n",
    "    print('Не получилось отвергнуть нулевую гипотезу о равенстве средних обращений')\n",
    "\n"
   ]
  },
  {
   "cell_type": "markdown",
   "id": "61213c5e",
   "metadata": {},
   "source": [
    "#### Шаг 7. Распределения"
   ]
  },
  {
   "cell_type": "code",
   "execution_count": 61,
   "id": "95cd1d51",
   "metadata": {},
   "outputs": [
    {
     "name": "stderr",
     "output_type": "stream",
     "text": [
      "/opt/conda/lib/python3.9/site-packages/scipy/stats/_discrete_distns.py:78: RuntimeWarning: divide by zero encountered in _binom_pdf\n",
      "  return _boost._binom_pdf(x, n, p)\n"
     ]
    },
    {
     "data": {
      "text/plain": [
       "<BarContainer object of 1001 artists>"
      ]
     },
     "execution_count": 61,
     "metadata": {},
     "output_type": "execute_result"
    },
    {
     "data": {
      "image/png": "[encoded data removed]",
      "text/plain": [
       "<Figure size 432x288 with 1 Axes>"
      ]
     },
     "metadata": {
      "needs_background": "light"
     },
     "output_type": "display_data"
    }
   ],
   "source": [
    "p = 0.1 # напишите ваш код здесь: какова вероятность продлить подписку?\n",
    "n = 1000 # напишите ваш код здесь: сколько промокодов разошлем?\n",
    "\n",
    "# напишите ваш код здесь: создайте список distr, в котором будете хранить значения распределения\n",
    "distr = []\n",
    "\n",
    "# напишите ваш код здесь: постройте распределение вероятностей\n",
    "for k in range(0, n + 1):\n",
    "    current_value = binom.pmf(k, n, p)\n",
    "    distr.append(current_value)\n",
    "    \n",
    "plt.bar(range(0, n + 1), distr)   "
   ]
  },
  {
   "cell_type": "code",
   "execution_count": 62,
   "id": "9cf7d688",
   "metadata": {},
   "outputs": [
    {
     "name": "stdout",
     "output_type": "stream",
     "text": [
      "0.04971489312694162\n"
     ]
    }
   ],
   "source": [
    "# задаём параметры биномиального распределения\n",
    "n = 1169\n",
    "p = 0.1\n",
    "\n",
    "mu = n * p\n",
    "sigma = sqrt(n * p * (1 - p))\n",
    "\n",
    "\n",
    "distr = st.norm(mu, sigma) # задайте нормальное распределение\n",
    "\n",
    "result = distr.cdf(100) # найдите вероятность\n",
    "print(result)"
   ]
  },
  {
   "cell_type": "markdown",
   "id": "52c0d021",
   "metadata": {},
   "source": [
    "Чтобы вероятность не выполнить план была примерно 5 %, нужно разослать минимум 1169 промокода. "
   ]
  },
  {
   "cell_type": "markdown",
   "id": "2f5a272a",
   "metadata": {},
   "source": [
    "**ОБЩИЙ ВЫВОД** \n",
    "\n",
    "В ходе работы анализировались три таблицы с данными: \n",
    "• Пользователи — users_go.csv\n",
    "• Поездки — rides_go.csv\n",
    "• Подписки — subscriptions_go.csv:\n",
    "\n",
    "1. Изначально проводилась проверка данных. Были выявлены и отфильтрованы дубликаты был найден (31 дубликат в users)\n",
    "2. Изучили данные: \n",
    "    o\tо частоте встречаемости городов. Самый встречаемый город - Пятигорск. Наименее встречаемый - Москва.\n",
    "    o\tо соотношении пользователей с подпиской и без подписки: Пользователей без подписки -  54.43%, пользователей с подпииской - 45.57 %\n",
    "    o\tо возрасте пользователей: наибольший процент людей в возрасте 26,25 и 24 года. Меньше всего пользуются люди 37-39 и 43 года\n",
    "    o\tо расстоянии, которое пользователь преодолел за одну поездку: чаще всего пользователи преодолевают расстояние 3100 м и берут также часто на короткие расстояния - около 800 м\n",
    "    o\tо продолжительности поездок: самое популярная продолжительность одной поездки - в промежутке 15-20 минут. Также есть время в 30 секунд, которое, скорее всего, является скорее всего погрешностью системы  \n",
    "\n",
    "2. Затем данные из трех табличек свели в одну и разделили на две таблицы, сгрупированные по типу подписки: \n",
    "\n",
    "•\tбез подписки \n",
    "    o\tабонентская плата отсутствует;\n",
    "    o\tстоимость одной минуты поездки — 88 рублей;\n",
    "    o\tстоимость старта (начала поездки) — 50 рублей;\n",
    "•\tс подпиской Ultra \n",
    "    o\tабонентская плата — 199 рублей в месяц;\n",
    "    o\tстоимость одной минуты поездки — 66 рублей;\n",
    "    o\tстоимость старта — бесплатно.\n",
    "    \n",
    "3. Изучили данные о растоянии и времени поездок пользователей: распределение расстояний поездок для пользователей с подпиской или без подписок схоже - есть два пика на отметке около 1 000 м и большой пик в диапазоне 2 500 - 3 000 м. У пользователей с попиской также наблюдается небольшой пик на отметке 4 000 м. А вот на отметке 5 000 км заметно резкое падение расстояния перемещения у пользователей без подписки и практически отсутствие поездок на расстояние больше 5 км у пользователей с подпиской\n",
    "4. Посчитали и проанализировали помесячную выручку пользователей и с подпиской и без подписки. Пользователи без подписки в среднем приносят меньшую выручку, чем пользователи с подпиской\n",
    "5. Пользователи в среднем проезжают оптимальное расстояние с точки зрения износа самоката в 3130 метров"
   ]
  }
 ],
 "metadata": {
  "ExecuteTimeLog": [
   {
    "duration": 44,
    "start_time": "2024-07-02T19:44:32.113Z"
   },
   {
    "duration": 385,
    "start_time": "2024-07-02T19:44:49.248Z"
   },
   {
    "duration": 351,
    "start_time": "2024-07-02T19:44:59.091Z"
   },
   {
    "duration": 209,
    "start_time": "2024-07-02T19:44:59.444Z"
   },
   {
    "duration": 6,
    "start_time": "2024-07-02T19:45:28.874Z"
   },
   {
    "duration": 343,
    "start_time": "2024-07-02T19:45:37.895Z"
   },
   {
    "duration": 69,
    "start_time": "2024-07-02T19:45:38.240Z"
   },
   {
    "duration": 11,
    "start_time": "2024-07-02T19:45:38.311Z"
   },
   {
    "duration": 5,
    "start_time": "2024-07-02T19:45:38.324Z"
   },
   {
    "duration": 31,
    "start_time": "2024-07-02T19:45:38.331Z"
   },
   {
    "duration": 369,
    "start_time": "2024-07-02T19:47:17.099Z"
   },
   {
    "duration": 66,
    "start_time": "2024-07-02T19:47:17.469Z"
   },
   {
    "duration": 13,
    "start_time": "2024-07-02T19:47:17.536Z"
   },
   {
    "duration": 7,
    "start_time": "2024-07-02T19:47:17.551Z"
   },
   {
    "duration": 9,
    "start_time": "2024-07-02T19:47:17.559Z"
   },
   {
    "duration": 11,
    "start_time": "2024-07-02T19:51:01.804Z"
   },
   {
    "duration": 10,
    "start_time": "2024-07-02T19:52:01.047Z"
   },
   {
    "duration": 48,
    "start_time": "2024-07-02T19:52:17.299Z"
   },
   {
    "duration": 8,
    "start_time": "2024-07-02T19:54:45.995Z"
   },
   {
    "duration": 15,
    "start_time": "2024-07-02T19:57:46.139Z"
   },
   {
    "duration": 16,
    "start_time": "2024-07-02T20:01:09.060Z"
   },
   {
    "duration": 10,
    "start_time": "2024-07-02T20:03:55.660Z"
   },
   {
    "duration": 5,
    "start_time": "2024-07-02T20:05:17.603Z"
   },
   {
    "duration": 5,
    "start_time": "2024-07-02T20:05:20.260Z"
   },
   {
    "duration": 6,
    "start_time": "2024-07-02T20:05:22.124Z"
   },
   {
    "duration": 5,
    "start_time": "2024-07-02T20:08:10.604Z"
   },
   {
    "duration": 5,
    "start_time": "2024-07-02T20:08:13.636Z"
   },
   {
    "duration": 8,
    "start_time": "2024-07-02T20:08:16.275Z"
   },
   {
    "duration": 979,
    "start_time": "2024-07-02T20:13:58.954Z"
   },
   {
    "duration": 4,
    "start_time": "2024-07-02T20:14:24.613Z"
   },
   {
    "duration": 6,
    "start_time": "2024-07-02T20:14:28.492Z"
   },
   {
    "duration": 5,
    "start_time": "2024-07-02T20:14:50.221Z"
   },
   {
    "duration": 6,
    "start_time": "2024-07-02T20:15:21.396Z"
   },
   {
    "duration": 6,
    "start_time": "2024-07-02T20:15:26.444Z"
   },
   {
    "duration": 5,
    "start_time": "2024-07-02T20:16:38.363Z"
   },
   {
    "duration": 4,
    "start_time": "2024-07-02T20:16:46.235Z"
   },
   {
    "duration": 10,
    "start_time": "2024-07-02T20:17:23.643Z"
   },
   {
    "duration": 10,
    "start_time": "2024-07-02T20:18:28.242Z"
   },
   {
    "duration": 10,
    "start_time": "2024-07-02T20:19:01.932Z"
   },
   {
    "duration": 4,
    "start_time": "2024-07-02T20:20:35.499Z"
   },
   {
    "duration": 4,
    "start_time": "2024-07-02T20:20:39.100Z"
   },
   {
    "duration": 4,
    "start_time": "2024-07-02T20:20:42.292Z"
   },
   {
    "duration": 5,
    "start_time": "2024-07-02T20:21:51.261Z"
   },
   {
    "duration": 9,
    "start_time": "2024-07-02T20:24:13.677Z"
   },
   {
    "duration": 13,
    "start_time": "2024-07-02T20:24:24.582Z"
   },
   {
    "duration": 7,
    "start_time": "2024-07-02T20:24:43.555Z"
   },
   {
    "duration": 553,
    "start_time": "2024-07-02T20:29:55.772Z"
   },
   {
    "duration": 6,
    "start_time": "2024-07-02T20:30:34.168Z"
   },
   {
    "duration": 274,
    "start_time": "2024-07-02T20:32:44.420Z"
   },
   {
    "duration": 5,
    "start_time": "2024-07-02T20:32:52.395Z"
   },
   {
    "duration": 241,
    "start_time": "2024-07-02T20:33:01.772Z"
   },
   {
    "duration": 7,
    "start_time": "2024-07-02T20:36:19.603Z"
   },
   {
    "duration": 5,
    "start_time": "2024-07-02T20:36:32.571Z"
   },
   {
    "duration": 5,
    "start_time": "2024-07-02T20:36:56.900Z"
   },
   {
    "duration": 20,
    "start_time": "2024-07-02T20:38:35.451Z"
   },
   {
    "duration": 5,
    "start_time": "2024-07-02T20:39:48.205Z"
   },
   {
    "duration": 4,
    "start_time": "2024-07-02T20:39:51.843Z"
   },
   {
    "duration": 5,
    "start_time": "2024-07-02T20:39:57.860Z"
   },
   {
    "duration": 976,
    "start_time": "2024-07-02T20:41:12.083Z"
   },
   {
    "duration": 6,
    "start_time": "2024-07-02T20:41:20.331Z"
   },
   {
    "duration": 126,
    "start_time": "2024-07-02T20:41:29.940Z"
   },
   {
    "duration": 6,
    "start_time": "2024-07-02T20:42:07.555Z"
   },
   {
    "duration": 6,
    "start_time": "2024-07-02T20:42:13.019Z"
   },
   {
    "duration": 5,
    "start_time": "2024-07-02T20:42:40.700Z"
   },
   {
    "duration": 10,
    "start_time": "2024-07-02T20:43:32.893Z"
   },
   {
    "duration": 83,
    "start_time": "2024-07-02T20:44:15.100Z"
   },
   {
    "duration": 8,
    "start_time": "2024-07-02T20:44:22.037Z"
   },
   {
    "duration": 5,
    "start_time": "2024-07-02T20:44:44.140Z"
   },
   {
    "duration": 122,
    "start_time": "2024-07-02T20:49:23.420Z"
   },
   {
    "duration": 4,
    "start_time": "2024-07-02T20:51:50.731Z"
   },
   {
    "duration": 4,
    "start_time": "2024-07-02T20:51:55.690Z"
   },
   {
    "duration": 384,
    "start_time": "2024-07-02T20:52:04.601Z"
   },
   {
    "duration": 65,
    "start_time": "2024-07-02T20:52:04.987Z"
   },
   {
    "duration": 14,
    "start_time": "2024-07-02T20:52:05.053Z"
   },
   {
    "duration": 17,
    "start_time": "2024-07-02T20:52:05.069Z"
   },
   {
    "duration": 9,
    "start_time": "2024-07-02T20:52:05.087Z"
   },
   {
    "duration": 18,
    "start_time": "2024-07-02T20:52:05.097Z"
   },
   {
    "duration": 6,
    "start_time": "2024-07-02T20:52:05.116Z"
   },
   {
    "duration": 9,
    "start_time": "2024-07-02T20:52:05.123Z"
   },
   {
    "duration": 14,
    "start_time": "2024-07-02T20:52:05.133Z"
   },
   {
    "duration": 10,
    "start_time": "2024-07-02T20:52:05.149Z"
   },
   {
    "duration": 4,
    "start_time": "2024-07-02T20:52:05.161Z"
   },
   {
    "duration": 6,
    "start_time": "2024-07-02T20:52:05.167Z"
   },
   {
    "duration": 5,
    "start_time": "2024-07-02T20:52:05.174Z"
   },
   {
    "duration": 6,
    "start_time": "2024-07-02T20:52:05.180Z"
   },
   {
    "duration": 9,
    "start_time": "2024-07-02T20:52:05.188Z"
   },
   {
    "duration": 39,
    "start_time": "2024-07-02T20:52:05.199Z"
   },
   {
    "duration": 4,
    "start_time": "2024-07-02T20:52:05.240Z"
   },
   {
    "duration": 8,
    "start_time": "2024-07-02T20:52:05.245Z"
   },
   {
    "duration": 9,
    "start_time": "2024-07-02T20:52:05.255Z"
   },
   {
    "duration": 353,
    "start_time": "2024-07-02T20:52:05.265Z"
   },
   {
    "duration": 4,
    "start_time": "2024-07-02T20:52:05.620Z"
   },
   {
    "duration": 6,
    "start_time": "2024-07-02T20:52:13.480Z"
   },
   {
    "duration": 1020,
    "start_time": "2024-07-02T20:53:02.298Z"
   },
   {
    "duration": 893,
    "start_time": "2024-07-02T20:53:33.122Z"
   },
   {
    "duration": 88,
    "start_time": "2024-07-02T20:53:54.937Z"
   },
   {
    "duration": 142,
    "start_time": "2024-07-02T20:54:09.800Z"
   },
   {
    "duration": 8,
    "start_time": "2024-07-02T20:54:52.208Z"
   },
   {
    "duration": 93,
    "start_time": "2024-07-02T20:54:56.360Z"
   },
   {
    "duration": 76,
    "start_time": "2024-07-02T20:55:37.537Z"
   },
   {
    "duration": 155,
    "start_time": "2024-07-02T20:55:57.257Z"
   },
   {
    "duration": 125,
    "start_time": "2024-07-02T20:56:02.331Z"
   },
   {
    "duration": 114,
    "start_time": "2024-07-02T20:56:14.010Z"
   },
   {
    "duration": 79,
    "start_time": "2024-07-02T20:56:22.418Z"
   },
   {
    "duration": 129,
    "start_time": "2024-07-02T20:56:33.751Z"
   },
   {
    "duration": 80,
    "start_time": "2024-07-02T20:56:45.377Z"
   },
   {
    "duration": 5,
    "start_time": "2024-07-02T20:57:49.048Z"
   },
   {
    "duration": 5,
    "start_time": "2024-07-02T20:58:00.281Z"
   },
   {
    "duration": 4,
    "start_time": "2024-07-02T20:58:45.017Z"
   },
   {
    "duration": 30,
    "start_time": "2024-07-02T20:58:54.137Z"
   },
   {
    "duration": 8,
    "start_time": "2024-07-02T21:04:38.147Z"
   },
   {
    "duration": 8,
    "start_time": "2024-07-02T21:04:59.749Z"
   },
   {
    "duration": 17,
    "start_time": "2024-07-02T21:05:16.947Z"
   },
   {
    "duration": 6,
    "start_time": "2024-07-02T21:06:04.308Z"
   },
   {
    "duration": 7,
    "start_time": "2024-07-02T21:07:02.652Z"
   },
   {
    "duration": 9,
    "start_time": "2024-07-02T21:07:10.972Z"
   },
   {
    "duration": 6,
    "start_time": "2024-07-02T21:08:05.832Z"
   },
   {
    "duration": 5,
    "start_time": "2024-07-02T21:09:41.214Z"
   },
   {
    "duration": 5,
    "start_time": "2024-07-02T21:09:49.714Z"
   },
   {
    "duration": 9,
    "start_time": "2024-07-02T21:10:26.301Z"
   },
   {
    "duration": 7,
    "start_time": "2024-07-02T21:10:38.052Z"
   },
   {
    "duration": 231,
    "start_time": "2024-07-02T21:11:04.866Z"
   },
   {
    "duration": 9,
    "start_time": "2024-07-02T21:14:03.921Z"
   },
   {
    "duration": 10,
    "start_time": "2024-07-02T21:14:12.300Z"
   },
   {
    "duration": 11,
    "start_time": "2024-07-02T21:14:38.401Z"
   },
   {
    "duration": 104,
    "start_time": "2024-07-02T21:14:59.660Z"
   },
   {
    "duration": 7,
    "start_time": "2024-07-02T21:15:28.440Z"
   },
   {
    "duration": 705,
    "start_time": "2024-07-02T21:15:46.340Z"
   },
   {
    "duration": 932,
    "start_time": "2024-07-02T21:17:50.280Z"
   },
   {
    "duration": 7,
    "start_time": "2024-07-02T21:18:00.305Z"
   },
   {
    "duration": 8,
    "start_time": "2024-07-02T21:19:23.141Z"
   },
   {
    "duration": 9,
    "start_time": "2024-07-02T21:19:50.262Z"
   },
   {
    "duration": 9,
    "start_time": "2024-07-02T21:22:01.586Z"
   },
   {
    "duration": 11,
    "start_time": "2024-07-02T21:22:09.501Z"
   },
   {
    "duration": 967,
    "start_time": "2024-07-02T21:24:16.985Z"
   },
   {
    "duration": 11,
    "start_time": "2024-07-02T21:24:31.553Z"
   },
   {
    "duration": 1151,
    "start_time": "2024-07-02T21:25:24.014Z"
   },
   {
    "duration": 1100,
    "start_time": "2024-07-02T21:26:06.460Z"
   },
   {
    "duration": 8,
    "start_time": "2024-07-02T21:29:17.758Z"
   },
   {
    "duration": 7,
    "start_time": "2024-07-02T21:29:29.912Z"
   },
   {
    "duration": 10,
    "start_time": "2024-07-02T21:29:51.080Z"
   },
   {
    "duration": 244,
    "start_time": "2024-07-02T21:29:59.697Z"
   },
   {
    "duration": 363,
    "start_time": "2024-07-02T21:30:19.942Z"
   },
   {
    "duration": 407,
    "start_time": "2024-07-02T21:31:16.914Z"
   },
   {
    "duration": 879,
    "start_time": "2024-07-02T21:31:24.412Z"
   },
   {
    "duration": 899,
    "start_time": "2024-07-02T21:33:44.595Z"
   },
   {
    "duration": 9,
    "start_time": "2024-07-02T21:35:28.748Z"
   },
   {
    "duration": 228,
    "start_time": "2024-07-02T21:36:51.514Z"
   },
   {
    "duration": 7,
    "start_time": "2024-07-02T21:39:24.715Z"
   },
   {
    "duration": 224,
    "start_time": "2024-07-02T21:39:42.707Z"
   },
   {
    "duration": 285,
    "start_time": "2024-07-02T21:41:25.275Z"
   },
   {
    "duration": 13,
    "start_time": "2024-07-02T21:46:06.656Z"
   },
   {
    "duration": 7,
    "start_time": "2024-07-02T21:53:48.768Z"
   },
   {
    "duration": 7,
    "start_time": "2024-07-02T21:58:21.568Z"
   },
   {
    "duration": 52,
    "start_time": "2024-07-02T21:58:53.841Z"
   },
   {
    "duration": 37,
    "start_time": "2024-07-02T21:59:07.014Z"
   },
   {
    "duration": 28,
    "start_time": "2024-07-02T21:59:32.818Z"
   },
   {
    "duration": 34,
    "start_time": "2024-07-02T21:59:58.657Z"
   },
   {
    "duration": 28,
    "start_time": "2024-07-02T22:01:05.986Z"
   },
   {
    "duration": 25,
    "start_time": "2024-07-02T22:01:43.885Z"
   },
   {
    "duration": 36,
    "start_time": "2024-07-02T22:05:57.861Z"
   },
   {
    "duration": 41,
    "start_time": "2024-07-02T22:07:47.732Z"
   },
   {
    "duration": 414,
    "start_time": "2024-07-02T22:08:59.104Z"
   },
   {
    "duration": 441,
    "start_time": "2024-07-02T22:10:26.969Z"
   },
   {
    "duration": 225,
    "start_time": "2024-07-02T22:10:27.411Z"
   },
   {
    "duration": 20,
    "start_time": "2024-07-02T22:10:27.638Z"
   },
   {
    "duration": 14,
    "start_time": "2024-07-02T22:10:27.659Z"
   },
   {
    "duration": 10,
    "start_time": "2024-07-02T22:10:27.675Z"
   },
   {
    "duration": 17,
    "start_time": "2024-07-02T22:10:27.687Z"
   },
   {
    "duration": 33,
    "start_time": "2024-07-02T22:10:27.706Z"
   },
   {
    "duration": 10,
    "start_time": "2024-07-02T22:10:27.741Z"
   },
   {
    "duration": 18,
    "start_time": "2024-07-02T22:10:27.753Z"
   },
   {
    "duration": 12,
    "start_time": "2024-07-02T22:10:27.773Z"
   },
   {
    "duration": 7,
    "start_time": "2024-07-02T22:10:27.786Z"
   },
   {
    "duration": 7,
    "start_time": "2024-07-02T22:10:27.795Z"
   },
   {
    "duration": 6,
    "start_time": "2024-07-02T22:10:27.837Z"
   },
   {
    "duration": 5,
    "start_time": "2024-07-02T22:10:27.846Z"
   },
   {
    "duration": 10,
    "start_time": "2024-07-02T22:10:27.853Z"
   },
   {
    "duration": 6,
    "start_time": "2024-07-02T22:10:27.865Z"
   },
   {
    "duration": 5,
    "start_time": "2024-07-02T22:10:27.872Z"
   },
   {
    "duration": 12,
    "start_time": "2024-07-02T22:10:27.879Z"
   },
   {
    "duration": 5,
    "start_time": "2024-07-02T22:10:27.893Z"
   },
   {
    "duration": 7,
    "start_time": "2024-07-02T22:10:27.938Z"
   },
   {
    "duration": 376,
    "start_time": "2024-07-02T22:10:27.947Z"
   },
   {
    "duration": 5,
    "start_time": "2024-07-02T22:10:28.324Z"
   },
   {
    "duration": 12,
    "start_time": "2024-07-02T22:10:28.330Z"
   },
   {
    "duration": 83,
    "start_time": "2024-07-02T22:10:28.343Z"
   },
   {
    "duration": 14,
    "start_time": "2024-07-02T22:10:28.427Z"
   },
   {
    "duration": 8,
    "start_time": "2024-07-02T22:10:28.442Z"
   },
   {
    "duration": 237,
    "start_time": "2024-07-02T22:10:28.451Z"
   },
   {
    "duration": 10,
    "start_time": "2024-07-02T22:10:28.690Z"
   },
   {
    "duration": 117,
    "start_time": "2024-07-02T22:10:28.701Z"
   },
   {
    "duration": 7,
    "start_time": "2024-07-02T22:10:28.819Z"
   },
   {
    "duration": 288,
    "start_time": "2024-07-02T22:10:28.838Z"
   },
   {
    "duration": 11,
    "start_time": "2024-07-02T22:10:29.127Z"
   },
   {
    "duration": 244,
    "start_time": "2024-07-02T22:10:29.139Z"
   },
   {
    "duration": 12,
    "start_time": "2024-07-02T22:10:29.384Z"
   },
   {
    "duration": 18,
    "start_time": "2024-07-02T22:10:29.397Z"
   },
   {
    "duration": 70,
    "start_time": "2024-07-02T22:11:52.003Z"
   },
   {
    "duration": 25,
    "start_time": "2024-07-02T22:11:59.772Z"
   },
   {
    "duration": 33,
    "start_time": "2024-07-02T22:12:16.189Z"
   },
   {
    "duration": 23,
    "start_time": "2024-07-02T22:13:40.924Z"
   },
   {
    "duration": 79,
    "start_time": "2024-07-02T22:14:27.614Z"
   },
   {
    "duration": 9,
    "start_time": "2024-07-02T22:17:25.270Z"
   },
   {
    "duration": 7,
    "start_time": "2024-07-02T22:20:27.671Z"
   },
   {
    "duration": 6,
    "start_time": "2024-07-02T22:20:46.924Z"
   },
   {
    "duration": 7,
    "start_time": "2024-07-02T22:21:07.232Z"
   },
   {
    "duration": 938,
    "start_time": "2024-07-02T22:22:53.003Z"
   },
   {
    "duration": 7,
    "start_time": "2024-07-02T22:31:36.512Z"
   },
   {
    "duration": 7,
    "start_time": "2024-07-02T22:31:46.847Z"
   },
   {
    "duration": 9,
    "start_time": "2024-07-02T22:31:58.927Z"
   },
   {
    "duration": 8,
    "start_time": "2024-07-02T22:35:14.412Z"
   },
   {
    "duration": 72,
    "start_time": "2024-07-02T22:36:43.072Z"
   },
   {
    "duration": 75,
    "start_time": "2024-07-02T22:36:54.013Z"
   },
   {
    "duration": 68,
    "start_time": "2024-07-02T22:37:03.114Z"
   },
   {
    "duration": 65,
    "start_time": "2024-07-02T22:37:07.936Z"
   },
   {
    "duration": 8,
    "start_time": "2024-07-02T22:37:14.967Z"
   },
   {
    "duration": 79,
    "start_time": "2024-07-02T22:38:31.007Z"
   },
   {
    "duration": 7,
    "start_time": "2024-07-02T22:40:09.350Z"
   },
   {
    "duration": 6,
    "start_time": "2024-07-02T22:40:19.967Z"
   },
   {
    "duration": 1058,
    "start_time": "2024-07-02T22:40:43.635Z"
   },
   {
    "duration": 1122,
    "start_time": "2024-07-02T22:40:54.478Z"
   },
   {
    "duration": 354,
    "start_time": "2024-07-03T11:28:42.051Z"
   },
   {
    "duration": 203,
    "start_time": "2024-07-03T11:28:42.411Z"
   },
   {
    "duration": 13,
    "start_time": "2024-07-03T11:28:42.616Z"
   },
   {
    "duration": 17,
    "start_time": "2024-07-03T11:28:42.631Z"
   },
   {
    "duration": 13,
    "start_time": "2024-07-03T11:28:42.650Z"
   },
   {
    "duration": 25,
    "start_time": "2024-07-03T11:28:42.665Z"
   },
   {
    "duration": 44,
    "start_time": "2024-07-03T11:28:42.691Z"
   },
   {
    "duration": 32,
    "start_time": "2024-07-03T11:28:42.736Z"
   },
   {
    "duration": 25,
    "start_time": "2024-07-03T11:28:42.770Z"
   },
   {
    "duration": 19,
    "start_time": "2024-07-03T11:28:42.798Z"
   },
   {
    "duration": 17,
    "start_time": "2024-07-03T11:28:42.819Z"
   },
   {
    "duration": 21,
    "start_time": "2024-07-03T11:28:42.837Z"
   },
   {
    "duration": 20,
    "start_time": "2024-07-03T11:28:42.860Z"
   },
   {
    "duration": 26,
    "start_time": "2024-07-03T11:28:42.881Z"
   },
   {
    "duration": 35,
    "start_time": "2024-07-03T11:28:42.908Z"
   },
   {
    "duration": 26,
    "start_time": "2024-07-03T11:28:42.945Z"
   },
   {
    "duration": 23,
    "start_time": "2024-07-03T11:28:42.973Z"
   },
   {
    "duration": 43,
    "start_time": "2024-07-03T11:28:42.997Z"
   },
   {
    "duration": 21,
    "start_time": "2024-07-03T11:28:43.041Z"
   },
   {
    "duration": 14,
    "start_time": "2024-07-03T11:28:43.063Z"
   },
   {
    "duration": 574,
    "start_time": "2024-07-03T11:28:43.079Z"
   },
   {
    "duration": 5,
    "start_time": "2024-07-03T11:28:43.655Z"
   },
   {
    "duration": 29,
    "start_time": "2024-07-03T11:28:43.662Z"
   },
   {
    "duration": 103,
    "start_time": "2024-07-03T11:28:43.693Z"
   },
   {
    "duration": 5,
    "start_time": "2024-07-03T11:28:43.798Z"
   },
   {
    "duration": 36,
    "start_time": "2024-07-03T11:28:43.804Z"
   },
   {
    "duration": 235,
    "start_time": "2024-07-03T11:28:43.842Z"
   },
   {
    "duration": 11,
    "start_time": "2024-07-03T11:28:44.080Z"
   },
   {
    "duration": 129,
    "start_time": "2024-07-03T11:28:44.092Z"
   },
   {
    "duration": 7,
    "start_time": "2024-07-03T11:28:44.223Z"
   },
   {
    "duration": 307,
    "start_time": "2024-07-03T11:28:44.231Z"
   },
   {
    "duration": 7,
    "start_time": "2024-07-03T11:28:44.539Z"
   },
   {
    "duration": 237,
    "start_time": "2024-07-03T11:28:44.547Z"
   },
   {
    "duration": 11,
    "start_time": "2024-07-03T11:28:44.785Z"
   },
   {
    "duration": 29,
    "start_time": "2024-07-03T11:28:44.797Z"
   },
   {
    "duration": 1127,
    "start_time": "2024-07-03T11:28:44.828Z"
   },
   {
    "duration": 1004,
    "start_time": "2024-07-03T11:33:58.551Z"
   },
   {
    "duration": 379,
    "start_time": "2024-07-03T11:34:18.433Z"
   },
   {
    "duration": 66,
    "start_time": "2024-07-03T11:34:18.813Z"
   },
   {
    "duration": 13,
    "start_time": "2024-07-03T11:34:18.881Z"
   },
   {
    "duration": 15,
    "start_time": "2024-07-03T11:34:18.895Z"
   },
   {
    "duration": 8,
    "start_time": "2024-07-03T11:34:18.911Z"
   },
   {
    "duration": 11,
    "start_time": "2024-07-03T11:34:18.921Z"
   },
   {
    "duration": 14,
    "start_time": "2024-07-03T11:34:18.934Z"
   },
   {
    "duration": 10,
    "start_time": "2024-07-03T11:34:18.949Z"
   },
   {
    "duration": 11,
    "start_time": "2024-07-03T11:34:18.960Z"
   },
   {
    "duration": 39,
    "start_time": "2024-07-03T11:34:18.974Z"
   },
   {
    "duration": 7,
    "start_time": "2024-07-03T11:34:19.015Z"
   },
   {
    "duration": 31,
    "start_time": "2024-07-03T11:34:19.024Z"
   },
   {
    "duration": 11,
    "start_time": "2024-07-03T11:34:19.057Z"
   },
   {
    "duration": 21,
    "start_time": "2024-07-03T11:34:19.069Z"
   },
   {
    "duration": 12,
    "start_time": "2024-07-03T11:34:19.092Z"
   },
   {
    "duration": 5,
    "start_time": "2024-07-03T11:34:19.105Z"
   },
   {
    "duration": 5,
    "start_time": "2024-07-03T11:34:19.112Z"
   },
   {
    "duration": 10,
    "start_time": "2024-07-03T11:34:19.119Z"
   },
   {
    "duration": 7,
    "start_time": "2024-07-03T11:34:19.133Z"
   },
   {
    "duration": 12,
    "start_time": "2024-07-03T11:34:19.142Z"
   },
   {
    "duration": 378,
    "start_time": "2024-07-03T11:34:19.156Z"
   },
   {
    "duration": 6,
    "start_time": "2024-07-03T11:34:19.536Z"
   },
   {
    "duration": 22,
    "start_time": "2024-07-03T11:34:19.544Z"
   },
   {
    "duration": 99,
    "start_time": "2024-07-03T11:34:19.568Z"
   },
   {
    "duration": 5,
    "start_time": "2024-07-03T11:34:19.669Z"
   },
   {
    "duration": 9,
    "start_time": "2024-07-03T11:34:19.675Z"
   },
   {
    "duration": 234,
    "start_time": "2024-07-03T11:34:19.685Z"
   },
   {
    "duration": 11,
    "start_time": "2024-07-03T11:34:19.923Z"
   },
   {
    "duration": 148,
    "start_time": "2024-07-03T11:34:19.936Z"
   },
   {
    "duration": 7,
    "start_time": "2024-07-03T11:34:20.086Z"
   },
   {
    "duration": 266,
    "start_time": "2024-07-03T11:34:20.094Z"
   },
   {
    "duration": 9,
    "start_time": "2024-07-03T11:34:20.362Z"
   },
   {
    "duration": 251,
    "start_time": "2024-07-03T11:34:20.372Z"
   },
   {
    "duration": 11,
    "start_time": "2024-07-03T11:34:20.624Z"
   },
   {
    "duration": 28,
    "start_time": "2024-07-03T11:34:20.637Z"
   },
   {
    "duration": 1189,
    "start_time": "2024-07-03T11:34:20.666Z"
   },
   {
    "duration": 910,
    "start_time": "2024-07-03T11:34:50.482Z"
   },
   {
    "duration": 15,
    "start_time": "2024-07-03T11:35:06.166Z"
   },
   {
    "duration": 21,
    "start_time": "2024-07-03T11:35:24.766Z"
   },
   {
    "duration": 61,
    "start_time": "2024-07-03T11:35:52.286Z"
   },
   {
    "duration": 61,
    "start_time": "2024-07-03T11:35:58.323Z"
   },
   {
    "duration": 21,
    "start_time": "2024-07-03T11:36:09.633Z"
   },
   {
    "duration": 14,
    "start_time": "2024-07-03T11:38:04.033Z"
   },
   {
    "duration": 14,
    "start_time": "2024-07-03T11:39:22.971Z"
   },
   {
    "duration": 14,
    "start_time": "2024-07-03T11:42:36.257Z"
   },
   {
    "duration": 215,
    "start_time": "2024-07-03T11:49:30.353Z"
   },
   {
    "duration": 302,
    "start_time": "2024-07-03T11:50:17.641Z"
   },
   {
    "duration": 303,
    "start_time": "2024-07-03T11:50:29.057Z"
   },
   {
    "duration": 261,
    "start_time": "2024-07-03T11:50:36.334Z"
   },
   {
    "duration": 200,
    "start_time": "2024-07-03T11:50:46.381Z"
   },
   {
    "duration": 197,
    "start_time": "2024-07-03T11:51:48.408Z"
   },
   {
    "duration": 228,
    "start_time": "2024-07-03T11:53:19.808Z"
   },
   {
    "duration": 205,
    "start_time": "2024-07-03T11:54:24.285Z"
   },
   {
    "duration": 290,
    "start_time": "2024-07-03T11:54:28.754Z"
   },
   {
    "duration": 107,
    "start_time": "2024-07-03T12:08:05.011Z"
   },
   {
    "duration": 98,
    "start_time": "2024-07-03T12:08:10.750Z"
   },
   {
    "duration": 217,
    "start_time": "2024-07-03T12:08:17.122Z"
   },
   {
    "duration": 9,
    "start_time": "2024-07-03T12:10:56.266Z"
   },
   {
    "duration": 195,
    "start_time": "2024-07-03T12:11:01.841Z"
   },
   {
    "duration": 49,
    "start_time": "2024-07-04T18:13:41.813Z"
   },
   {
    "duration": 384,
    "start_time": "2024-07-04T18:13:49.252Z"
   },
   {
    "duration": 282,
    "start_time": "2024-07-04T18:13:49.637Z"
   },
   {
    "duration": 17,
    "start_time": "2024-07-04T18:13:49.921Z"
   },
   {
    "duration": 11,
    "start_time": "2024-07-04T18:13:49.940Z"
   },
   {
    "duration": 15,
    "start_time": "2024-07-04T18:13:49.952Z"
   },
   {
    "duration": 10,
    "start_time": "2024-07-04T18:13:49.970Z"
   },
   {
    "duration": 11,
    "start_time": "2024-07-04T18:13:49.981Z"
   },
   {
    "duration": 34,
    "start_time": "2024-07-04T18:13:49.993Z"
   },
   {
    "duration": 12,
    "start_time": "2024-07-04T18:13:50.028Z"
   },
   {
    "duration": 10,
    "start_time": "2024-07-04T18:13:50.043Z"
   },
   {
    "duration": 5,
    "start_time": "2024-07-04T18:13:50.055Z"
   },
   {
    "duration": 11,
    "start_time": "2024-07-04T18:13:50.062Z"
   },
   {
    "duration": 21,
    "start_time": "2024-07-04T18:13:50.075Z"
   },
   {
    "duration": 27,
    "start_time": "2024-07-04T18:13:50.098Z"
   },
   {
    "duration": 12,
    "start_time": "2024-07-04T18:13:50.127Z"
   },
   {
    "duration": 7,
    "start_time": "2024-07-04T18:13:50.141Z"
   },
   {
    "duration": 6,
    "start_time": "2024-07-04T18:13:50.149Z"
   },
   {
    "duration": 29,
    "start_time": "2024-07-04T18:13:50.156Z"
   },
   {
    "duration": 6,
    "start_time": "2024-07-04T18:13:50.187Z"
   },
   {
    "duration": 29,
    "start_time": "2024-07-04T18:13:50.195Z"
   },
   {
    "duration": 550,
    "start_time": "2024-07-04T18:13:50.226Z"
   },
   {
    "duration": 5,
    "start_time": "2024-07-04T18:13:50.778Z"
   },
   {
    "duration": 7,
    "start_time": "2024-07-04T18:13:50.784Z"
   },
   {
    "duration": 93,
    "start_time": "2024-07-04T18:13:50.792Z"
   },
   {
    "duration": 5,
    "start_time": "2024-07-04T18:13:50.886Z"
   },
   {
    "duration": 7,
    "start_time": "2024-07-04T18:13:50.892Z"
   },
   {
    "duration": 226,
    "start_time": "2024-07-04T18:13:50.901Z"
   },
   {
    "duration": 10,
    "start_time": "2024-07-04T18:13:51.130Z"
   },
   {
    "duration": 119,
    "start_time": "2024-07-04T18:13:51.142Z"
   },
   {
    "duration": 7,
    "start_time": "2024-07-04T18:13:51.263Z"
   },
   {
    "duration": 268,
    "start_time": "2024-07-04T18:13:51.271Z"
   },
   {
    "duration": 10,
    "start_time": "2024-07-04T18:13:51.541Z"
   },
   {
    "duration": 234,
    "start_time": "2024-07-04T18:13:51.552Z"
   },
   {
    "duration": 11,
    "start_time": "2024-07-04T18:13:51.788Z"
   },
   {
    "duration": 45,
    "start_time": "2024-07-04T18:13:51.801Z"
   },
   {
    "duration": 18,
    "start_time": "2024-07-04T18:13:51.848Z"
   },
   {
    "duration": 36,
    "start_time": "2024-07-04T18:13:51.867Z"
   },
   {
    "duration": 245,
    "start_time": "2024-07-04T18:13:51.904Z"
   },
   {
    "duration": 208,
    "start_time": "2024-07-04T18:13:52.151Z"
   },
   {
    "duration": 213,
    "start_time": "2024-07-04T18:13:52.360Z"
   },
   {
    "duration": 288,
    "start_time": "2024-07-04T18:13:52.575Z"
   },
   {
    "duration": 249,
    "start_time": "2024-07-04T18:21:41.931Z"
   },
   {
    "duration": 85,
    "start_time": "2024-07-04T18:23:11.069Z"
   },
   {
    "duration": 140,
    "start_time": "2024-07-04T18:24:25.893Z"
   },
   {
    "duration": 9,
    "start_time": "2024-07-04T18:25:35.318Z"
   },
   {
    "duration": 359,
    "start_time": "2024-07-04T18:25:50.350Z"
   },
   {
    "duration": 63,
    "start_time": "2024-07-04T18:25:50.711Z"
   },
   {
    "duration": 13,
    "start_time": "2024-07-04T18:25:50.776Z"
   },
   {
    "duration": 9,
    "start_time": "2024-07-04T18:25:50.791Z"
   },
   {
    "duration": 9,
    "start_time": "2024-07-04T18:25:50.802Z"
   },
   {
    "duration": 24,
    "start_time": "2024-07-04T18:25:50.812Z"
   },
   {
    "duration": 6,
    "start_time": "2024-07-04T18:25:50.837Z"
   },
   {
    "duration": 14,
    "start_time": "2024-07-04T18:25:50.844Z"
   },
   {
    "duration": 13,
    "start_time": "2024-07-04T18:25:50.859Z"
   },
   {
    "duration": 9,
    "start_time": "2024-07-04T18:25:50.876Z"
   },
   {
    "duration": 6,
    "start_time": "2024-07-04T18:25:50.886Z"
   },
   {
    "duration": 5,
    "start_time": "2024-07-04T18:25:50.893Z"
   },
   {
    "duration": 6,
    "start_time": "2024-07-04T18:25:50.920Z"
   },
   {
    "duration": 10,
    "start_time": "2024-07-04T18:25:50.927Z"
   },
   {
    "duration": 9,
    "start_time": "2024-07-04T18:25:50.938Z"
   },
   {
    "duration": 5,
    "start_time": "2024-07-04T18:25:50.949Z"
   },
   {
    "duration": 5,
    "start_time": "2024-07-04T18:25:50.955Z"
   },
   {
    "duration": 9,
    "start_time": "2024-07-04T18:25:50.961Z"
   },
   {
    "duration": 4,
    "start_time": "2024-07-04T18:25:50.972Z"
   },
   {
    "duration": 104,
    "start_time": "2024-07-04T18:25:50.978Z"
   },
   {
    "duration": 0,
    "start_time": "2024-07-04T18:25:51.084Z"
   },
   {
    "duration": 0,
    "start_time": "2024-07-04T18:25:51.086Z"
   },
   {
    "duration": 0,
    "start_time": "2024-07-04T18:25:51.086Z"
   },
   {
    "duration": 0,
    "start_time": "2024-07-04T18:25:51.087Z"
   },
   {
    "duration": 0,
    "start_time": "2024-07-04T18:25:51.088Z"
   },
   {
    "duration": 0,
    "start_time": "2024-07-04T18:25:51.089Z"
   },
   {
    "duration": 0,
    "start_time": "2024-07-04T18:25:51.090Z"
   },
   {
    "duration": 0,
    "start_time": "2024-07-04T18:25:51.091Z"
   },
   {
    "duration": 0,
    "start_time": "2024-07-04T18:25:51.092Z"
   },
   {
    "duration": 0,
    "start_time": "2024-07-04T18:25:51.093Z"
   },
   {
    "duration": 0,
    "start_time": "2024-07-04T18:25:51.094Z"
   },
   {
    "duration": 0,
    "start_time": "2024-07-04T18:25:51.095Z"
   },
   {
    "duration": 0,
    "start_time": "2024-07-04T18:25:51.096Z"
   },
   {
    "duration": 0,
    "start_time": "2024-07-04T18:25:51.120Z"
   },
   {
    "duration": 0,
    "start_time": "2024-07-04T18:25:51.121Z"
   },
   {
    "duration": 0,
    "start_time": "2024-07-04T18:25:51.122Z"
   },
   {
    "duration": 0,
    "start_time": "2024-07-04T18:25:51.123Z"
   },
   {
    "duration": 0,
    "start_time": "2024-07-04T18:25:51.124Z"
   },
   {
    "duration": 0,
    "start_time": "2024-07-04T18:25:51.125Z"
   },
   {
    "duration": 0,
    "start_time": "2024-07-04T18:25:51.126Z"
   },
   {
    "duration": 0,
    "start_time": "2024-07-04T18:25:51.126Z"
   },
   {
    "duration": 11,
    "start_time": "2024-07-04T18:26:09.293Z"
   },
   {
    "duration": 5,
    "start_time": "2024-07-04T18:27:12.461Z"
   },
   {
    "duration": 13,
    "start_time": "2024-07-04T18:27:15.700Z"
   },
   {
    "duration": 7,
    "start_time": "2024-07-04T18:29:11.062Z"
   },
   {
    "duration": 6,
    "start_time": "2024-07-04T18:29:15.068Z"
   },
   {
    "duration": 56,
    "start_time": "2024-07-04T18:31:32.981Z"
   },
   {
    "duration": 6,
    "start_time": "2024-07-04T18:31:43.179Z"
   },
   {
    "duration": 13,
    "start_time": "2024-07-04T18:36:28.811Z"
   },
   {
    "duration": 10,
    "start_time": "2024-07-04T18:36:52.404Z"
   },
   {
    "duration": 15,
    "start_time": "2024-07-04T18:38:04.799Z"
   },
   {
    "duration": 15,
    "start_time": "2024-07-04T18:38:47.675Z"
   },
   {
    "duration": 11,
    "start_time": "2024-07-04T18:39:51.635Z"
   },
   {
    "duration": 15,
    "start_time": "2024-07-04T18:40:02.323Z"
   },
   {
    "duration": 14,
    "start_time": "2024-07-04T18:40:18.259Z"
   },
   {
    "duration": 11,
    "start_time": "2024-07-04T18:41:24.604Z"
   },
   {
    "duration": 15,
    "start_time": "2024-07-04T18:41:30.331Z"
   },
   {
    "duration": 10,
    "start_time": "2024-07-04T18:41:53.764Z"
   },
   {
    "duration": 11,
    "start_time": "2024-07-04T18:42:00.754Z"
   },
   {
    "duration": 398,
    "start_time": "2024-07-04T18:44:20.451Z"
   },
   {
    "duration": 10,
    "start_time": "2024-07-04T18:44:36.570Z"
   },
   {
    "duration": 14,
    "start_time": "2024-07-04T18:44:54.098Z"
   },
   {
    "duration": 10,
    "start_time": "2024-07-04T18:45:05.027Z"
   },
   {
    "duration": 12,
    "start_time": "2024-07-04T18:45:24.556Z"
   },
   {
    "duration": 901,
    "start_time": "2024-07-04T18:47:24.347Z"
   },
   {
    "duration": 13,
    "start_time": "2024-07-04T18:48:12.523Z"
   },
   {
    "duration": 11,
    "start_time": "2024-07-04T18:48:45.723Z"
   },
   {
    "duration": 10,
    "start_time": "2024-07-04T18:49:23.545Z"
   },
   {
    "duration": 6,
    "start_time": "2024-07-04T18:50:28.346Z"
   },
   {
    "duration": 5,
    "start_time": "2024-07-04T18:50:39.105Z"
   },
   {
    "duration": 7,
    "start_time": "2024-07-04T18:53:39.858Z"
   },
   {
    "duration": 52,
    "start_time": "2024-07-04T18:57:00.353Z"
   },
   {
    "duration": 50,
    "start_time": "2024-07-04T18:57:06.976Z"
   },
   {
    "duration": 7,
    "start_time": "2024-07-04T18:57:21.409Z"
   },
   {
    "duration": 6,
    "start_time": "2024-07-04T18:58:24.904Z"
   },
   {
    "duration": 9,
    "start_time": "2024-07-04T18:59:15.304Z"
   },
   {
    "duration": 10,
    "start_time": "2024-07-04T18:59:26.985Z"
   },
   {
    "duration": 10,
    "start_time": "2024-07-04T19:00:34.832Z"
   },
   {
    "duration": 9,
    "start_time": "2024-07-04T19:01:11.736Z"
   },
   {
    "duration": 10,
    "start_time": "2024-07-04T19:06:05.775Z"
   },
   {
    "duration": 9,
    "start_time": "2024-07-04T19:06:18.944Z"
   },
   {
    "duration": 9,
    "start_time": "2024-07-04T19:08:53.680Z"
   },
   {
    "duration": 12,
    "start_time": "2024-07-04T19:09:04.623Z"
   },
   {
    "duration": 7,
    "start_time": "2024-07-04T19:09:24.944Z"
   },
   {
    "duration": 1051,
    "start_time": "2024-07-04T19:09:46.621Z"
   },
   {
    "duration": 321,
    "start_time": "2024-07-04T19:10:23.809Z"
   },
   {
    "duration": 11,
    "start_time": "2024-07-04T19:12:54.783Z"
   },
   {
    "duration": 132,
    "start_time": "2024-07-04T19:13:31.032Z"
   },
   {
    "duration": 13,
    "start_time": "2024-07-04T19:15:43.231Z"
   },
   {
    "duration": 232,
    "start_time": "2024-07-04T19:16:06.023Z"
   },
   {
    "duration": 11,
    "start_time": "2024-07-04T19:16:13.401Z"
   },
   {
    "duration": 130,
    "start_time": "2024-07-04T19:16:16.879Z"
   },
   {
    "duration": 405,
    "start_time": "2024-07-04T19:16:24.582Z"
   },
   {
    "duration": 63,
    "start_time": "2024-07-04T19:16:24.989Z"
   },
   {
    "duration": 15,
    "start_time": "2024-07-04T19:16:25.053Z"
   },
   {
    "duration": 18,
    "start_time": "2024-07-04T19:16:25.070Z"
   },
   {
    "duration": 8,
    "start_time": "2024-07-04T19:16:25.089Z"
   },
   {
    "duration": 11,
    "start_time": "2024-07-04T19:16:25.098Z"
   },
   {
    "duration": 6,
    "start_time": "2024-07-04T19:16:25.110Z"
   },
   {
    "duration": 13,
    "start_time": "2024-07-04T19:16:25.117Z"
   },
   {
    "duration": 12,
    "start_time": "2024-07-04T19:16:25.131Z"
   },
   {
    "duration": 9,
    "start_time": "2024-07-04T19:16:25.146Z"
   },
   {
    "duration": 12,
    "start_time": "2024-07-04T19:16:25.156Z"
   },
   {
    "duration": 11,
    "start_time": "2024-07-04T19:16:25.170Z"
   },
   {
    "duration": 8,
    "start_time": "2024-07-04T19:16:25.183Z"
   },
   {
    "duration": 16,
    "start_time": "2024-07-04T19:16:25.193Z"
   },
   {
    "duration": 14,
    "start_time": "2024-07-04T19:16:25.211Z"
   },
   {
    "duration": 6,
    "start_time": "2024-07-04T19:16:25.227Z"
   },
   {
    "duration": 12,
    "start_time": "2024-07-04T19:16:25.234Z"
   },
   {
    "duration": 11,
    "start_time": "2024-07-04T19:16:25.247Z"
   },
   {
    "duration": 13,
    "start_time": "2024-07-04T19:16:25.259Z"
   },
   {
    "duration": 512,
    "start_time": "2024-07-04T19:16:25.273Z"
   },
   {
    "duration": 11,
    "start_time": "2024-07-04T19:16:25.787Z"
   },
   {
    "duration": 143,
    "start_time": "2024-07-04T19:16:25.799Z"
   },
   {
    "duration": 13,
    "start_time": "2024-07-04T19:16:25.943Z"
   },
   {
    "duration": 253,
    "start_time": "2024-07-04T19:16:25.958Z"
   },
   {
    "duration": 16,
    "start_time": "2024-07-04T19:16:26.213Z"
   },
   {
    "duration": 140,
    "start_time": "2024-07-04T19:16:26.230Z"
   },
   {
    "duration": 7,
    "start_time": "2024-07-04T19:16:26.371Z"
   },
   {
    "duration": 263,
    "start_time": "2024-07-04T19:16:26.381Z"
   },
   {
    "duration": 7,
    "start_time": "2024-07-04T19:16:26.645Z"
   },
   {
    "duration": 247,
    "start_time": "2024-07-04T19:16:26.654Z"
   },
   {
    "duration": 11,
    "start_time": "2024-07-04T19:16:26.902Z"
   },
   {
    "duration": 30,
    "start_time": "2024-07-04T19:16:26.914Z"
   },
   {
    "duration": 17,
    "start_time": "2024-07-04T19:16:26.946Z"
   },
   {
    "duration": 14,
    "start_time": "2024-07-04T19:16:26.965Z"
   },
   {
    "duration": 236,
    "start_time": "2024-07-04T19:16:26.981Z"
   },
   {
    "duration": 216,
    "start_time": "2024-07-04T19:16:27.219Z"
   },
   {
    "duration": 229,
    "start_time": "2024-07-04T19:16:27.436Z"
   },
   {
    "duration": 217,
    "start_time": "2024-07-04T19:16:27.667Z"
   },
   {
    "duration": 46,
    "start_time": "2024-07-04T19:28:19.502Z"
   },
   {
    "duration": 1143,
    "start_time": "2024-07-04T19:29:46.142Z"
   },
   {
    "duration": 14,
    "start_time": "2024-07-04T19:31:38.382Z"
   },
   {
    "duration": 25,
    "start_time": "2024-07-04T19:32:24.197Z"
   },
   {
    "duration": 10,
    "start_time": "2024-07-04T19:33:07.925Z"
   },
   {
    "duration": 8,
    "start_time": "2024-07-04T19:35:48.918Z"
   },
   {
    "duration": 9,
    "start_time": "2024-07-04T19:37:00.181Z"
   },
   {
    "duration": 79,
    "start_time": "2024-07-04T19:37:22.324Z"
   },
   {
    "duration": 16,
    "start_time": "2024-07-04T19:37:28.407Z"
   },
   {
    "duration": 5,
    "start_time": "2024-07-04T19:38:08.267Z"
   },
   {
    "duration": 5,
    "start_time": "2024-07-04T19:38:16.587Z"
   },
   {
    "duration": 7,
    "start_time": "2024-07-04T19:38:48.163Z"
   },
   {
    "duration": 14,
    "start_time": "2024-07-04T19:39:58.740Z"
   },
   {
    "duration": 7,
    "start_time": "2024-07-04T19:40:33.955Z"
   },
   {
    "duration": 8,
    "start_time": "2024-07-04T19:40:38.755Z"
   },
   {
    "duration": 3,
    "start_time": "2024-07-04T19:44:20.676Z"
   },
   {
    "duration": 43,
    "start_time": "2024-07-04T19:45:23.282Z"
   },
   {
    "duration": 15,
    "start_time": "2024-07-04T19:48:40.650Z"
   },
   {
    "duration": 10,
    "start_time": "2024-07-04T19:48:58.986Z"
   },
   {
    "duration": 15,
    "start_time": "2024-07-04T19:49:25.074Z"
   },
   {
    "duration": 11,
    "start_time": "2024-07-04T19:49:39.650Z"
   },
   {
    "duration": 8,
    "start_time": "2024-07-04T19:50:04.034Z"
   },
   {
    "duration": 8,
    "start_time": "2024-07-04T19:50:14.722Z"
   },
   {
    "duration": 6,
    "start_time": "2024-07-04T19:50:34.481Z"
   },
   {
    "duration": 6,
    "start_time": "2024-07-04T19:50:45.617Z"
   },
   {
    "duration": 380,
    "start_time": "2024-07-04T19:51:00.377Z"
   },
   {
    "duration": 64,
    "start_time": "2024-07-04T19:51:00.758Z"
   },
   {
    "duration": 15,
    "start_time": "2024-07-04T19:51:00.824Z"
   },
   {
    "duration": 48,
    "start_time": "2024-07-04T19:51:00.841Z"
   },
   {
    "duration": 60,
    "start_time": "2024-07-04T19:51:00.891Z"
   },
   {
    "duration": 90,
    "start_time": "2024-07-04T19:51:00.953Z"
   },
   {
    "duration": 59,
    "start_time": "2024-07-04T19:51:01.044Z"
   },
   {
    "duration": 107,
    "start_time": "2024-07-04T19:51:01.104Z"
   },
   {
    "duration": 44,
    "start_time": "2024-07-04T19:51:01.212Z"
   },
   {
    "duration": 63,
    "start_time": "2024-07-04T19:51:01.260Z"
   },
   {
    "duration": 43,
    "start_time": "2024-07-04T19:51:01.324Z"
   },
   {
    "duration": 53,
    "start_time": "2024-07-04T19:51:01.368Z"
   },
   {
    "duration": 43,
    "start_time": "2024-07-04T19:51:01.422Z"
   },
   {
    "duration": 39,
    "start_time": "2024-07-04T19:51:01.466Z"
   },
   {
    "duration": 51,
    "start_time": "2024-07-04T19:51:01.507Z"
   },
   {
    "duration": 49,
    "start_time": "2024-07-04T19:51:01.560Z"
   },
   {
    "duration": 101,
    "start_time": "2024-07-04T19:51:01.611Z"
   },
   {
    "duration": 57,
    "start_time": "2024-07-04T19:51:01.714Z"
   },
   {
    "duration": 46,
    "start_time": "2024-07-04T19:51:01.773Z"
   },
   {
    "duration": 499,
    "start_time": "2024-07-04T19:51:01.820Z"
   },
   {
    "duration": 12,
    "start_time": "2024-07-04T19:51:02.320Z"
   },
   {
    "duration": 155,
    "start_time": "2024-07-04T19:51:02.333Z"
   },
   {
    "duration": 16,
    "start_time": "2024-07-04T19:51:02.490Z"
   },
   {
    "duration": 230,
    "start_time": "2024-07-04T19:51:02.520Z"
   },
   {
    "duration": 10,
    "start_time": "2024-07-04T19:51:02.751Z"
   },
   {
    "duration": 144,
    "start_time": "2024-07-04T19:51:02.763Z"
   },
   {
    "duration": 13,
    "start_time": "2024-07-04T19:51:02.908Z"
   },
   {
    "duration": 269,
    "start_time": "2024-07-04T19:51:02.924Z"
   },
   {
    "duration": 6,
    "start_time": "2024-07-04T19:51:03.195Z"
   },
   {
    "duration": 224,
    "start_time": "2024-07-04T19:51:03.203Z"
   },
   {
    "duration": 11,
    "start_time": "2024-07-04T19:51:03.429Z"
   },
   {
    "duration": 24,
    "start_time": "2024-07-04T19:51:03.441Z"
   },
   {
    "duration": 17,
    "start_time": "2024-07-04T19:51:03.466Z"
   },
   {
    "duration": 38,
    "start_time": "2024-07-04T19:51:03.485Z"
   },
   {
    "duration": 220,
    "start_time": "2024-07-04T19:51:03.524Z"
   },
   {
    "duration": 215,
    "start_time": "2024-07-04T19:51:03.745Z"
   },
   {
    "duration": 218,
    "start_time": "2024-07-04T19:51:03.961Z"
   },
   {
    "duration": 241,
    "start_time": "2024-07-04T19:51:04.180Z"
   },
   {
    "duration": 76,
    "start_time": "2024-07-04T19:51:04.422Z"
   },
   {
    "duration": 10,
    "start_time": "2024-07-04T19:51:20.713Z"
   },
   {
    "duration": 13,
    "start_time": "2024-07-04T19:51:26.841Z"
   },
   {
    "duration": 10,
    "start_time": "2024-07-04T19:55:06.944Z"
   },
   {
    "duration": 8,
    "start_time": "2024-07-04T19:55:19.320Z"
   },
   {
    "duration": 10,
    "start_time": "2024-07-04T19:55:24.313Z"
   },
   {
    "duration": 24,
    "start_time": "2024-07-04T19:59:18.586Z"
   },
   {
    "duration": 24,
    "start_time": "2024-07-04T19:59:32.249Z"
   },
   {
    "duration": 14,
    "start_time": "2024-07-04T19:59:39.897Z"
   },
   {
    "duration": 3,
    "start_time": "2024-07-04T20:03:43.656Z"
   },
   {
    "duration": 56,
    "start_time": "2024-07-04T20:03:49.944Z"
   },
   {
    "duration": 73,
    "start_time": "2024-07-04T20:04:40.431Z"
   },
   {
    "duration": 66,
    "start_time": "2024-07-04T20:05:28.264Z"
   },
   {
    "duration": 15,
    "start_time": "2024-07-04T20:06:41.400Z"
   },
   {
    "duration": 13,
    "start_time": "2024-07-04T20:07:05.398Z"
   },
   {
    "duration": 869,
    "start_time": "2024-07-04T20:07:21.560Z"
   },
   {
    "duration": 12,
    "start_time": "2024-07-04T20:07:33.751Z"
   },
   {
    "duration": 23,
    "start_time": "2024-07-04T20:09:27.743Z"
   },
   {
    "duration": 24,
    "start_time": "2024-07-04T20:09:52.503Z"
   },
   {
    "duration": 399,
    "start_time": "2024-07-04T20:09:57.090Z"
   },
   {
    "duration": 67,
    "start_time": "2024-07-04T20:09:57.490Z"
   },
   {
    "duration": 13,
    "start_time": "2024-07-04T20:09:57.559Z"
   },
   {
    "duration": 11,
    "start_time": "2024-07-04T20:09:57.574Z"
   },
   {
    "duration": 10,
    "start_time": "2024-07-04T20:09:57.587Z"
   },
   {
    "duration": 11,
    "start_time": "2024-07-04T20:09:57.598Z"
   },
   {
    "duration": 6,
    "start_time": "2024-07-04T20:09:57.610Z"
   },
   {
    "duration": 17,
    "start_time": "2024-07-04T20:09:57.617Z"
   },
   {
    "duration": 11,
    "start_time": "2024-07-04T20:09:57.635Z"
   },
   {
    "duration": 9,
    "start_time": "2024-07-04T20:09:57.649Z"
   },
   {
    "duration": 4,
    "start_time": "2024-07-04T20:09:57.659Z"
   },
   {
    "duration": 40,
    "start_time": "2024-07-04T20:09:57.665Z"
   },
   {
    "duration": 13,
    "start_time": "2024-07-04T20:09:57.706Z"
   },
   {
    "duration": 11,
    "start_time": "2024-07-04T20:09:57.720Z"
   },
   {
    "duration": 19,
    "start_time": "2024-07-04T20:09:57.732Z"
   },
   {
    "duration": 10,
    "start_time": "2024-07-04T20:09:57.752Z"
   },
   {
    "duration": 15,
    "start_time": "2024-07-04T20:09:57.763Z"
   },
   {
    "duration": 19,
    "start_time": "2024-07-04T20:09:57.779Z"
   },
   {
    "duration": 34,
    "start_time": "2024-07-04T20:09:57.799Z"
   },
   {
    "duration": 483,
    "start_time": "2024-07-04T20:09:57.835Z"
   },
   {
    "duration": 15,
    "start_time": "2024-07-04T20:09:58.320Z"
   },
   {
    "duration": 144,
    "start_time": "2024-07-04T20:09:58.336Z"
   },
   {
    "duration": 13,
    "start_time": "2024-07-04T20:09:58.481Z"
   },
   {
    "duration": 221,
    "start_time": "2024-07-04T20:09:58.496Z"
   },
   {
    "duration": 12,
    "start_time": "2024-07-04T20:09:58.718Z"
   },
   {
    "duration": 137,
    "start_time": "2024-07-04T20:09:58.732Z"
   },
   {
    "duration": 7,
    "start_time": "2024-07-04T20:09:58.871Z"
   },
   {
    "duration": 257,
    "start_time": "2024-07-04T20:09:58.882Z"
   },
   {
    "duration": 8,
    "start_time": "2024-07-04T20:09:59.141Z"
   },
   {
    "duration": 225,
    "start_time": "2024-07-04T20:09:59.150Z"
   },
   {
    "duration": 12,
    "start_time": "2024-07-04T20:09:59.377Z"
   },
   {
    "duration": 39,
    "start_time": "2024-07-04T20:09:59.391Z"
   },
   {
    "duration": 17,
    "start_time": "2024-07-04T20:09:59.432Z"
   },
   {
    "duration": 14,
    "start_time": "2024-07-04T20:09:59.450Z"
   },
   {
    "duration": 229,
    "start_time": "2024-07-04T20:09:59.466Z"
   },
   {
    "duration": 227,
    "start_time": "2024-07-04T20:09:59.697Z"
   },
   {
    "duration": 207,
    "start_time": "2024-07-04T20:09:59.925Z"
   },
   {
    "duration": 219,
    "start_time": "2024-07-04T20:10:00.133Z"
   },
   {
    "duration": 14,
    "start_time": "2024-07-04T20:10:00.354Z"
   },
   {
    "duration": 378,
    "start_time": "2024-07-04T20:11:20.339Z"
   },
   {
    "duration": 63,
    "start_time": "2024-07-04T20:11:20.718Z"
   },
   {
    "duration": 15,
    "start_time": "2024-07-04T20:11:20.782Z"
   },
   {
    "duration": 9,
    "start_time": "2024-07-04T20:11:20.799Z"
   },
   {
    "duration": 10,
    "start_time": "2024-07-04T20:11:20.809Z"
   },
   {
    "duration": 10,
    "start_time": "2024-07-04T20:11:20.820Z"
   },
   {
    "duration": 12,
    "start_time": "2024-07-04T20:11:20.831Z"
   },
   {
    "duration": 29,
    "start_time": "2024-07-04T20:11:20.844Z"
   },
   {
    "duration": 24,
    "start_time": "2024-07-04T20:11:20.874Z"
   },
   {
    "duration": 8,
    "start_time": "2024-07-04T20:11:20.902Z"
   },
   {
    "duration": 7,
    "start_time": "2024-07-04T20:11:20.911Z"
   },
   {
    "duration": 5,
    "start_time": "2024-07-04T20:11:20.919Z"
   },
   {
    "duration": 6,
    "start_time": "2024-07-04T20:11:20.925Z"
   },
   {
    "duration": 5,
    "start_time": "2024-07-04T20:11:20.932Z"
   },
   {
    "duration": 14,
    "start_time": "2024-07-04T20:11:20.938Z"
   },
   {
    "duration": 9,
    "start_time": "2024-07-04T20:11:20.953Z"
   },
   {
    "duration": 5,
    "start_time": "2024-07-04T20:11:20.964Z"
   },
   {
    "duration": 7,
    "start_time": "2024-07-04T20:11:20.970Z"
   },
   {
    "duration": 15,
    "start_time": "2024-07-04T20:11:20.979Z"
   },
   {
    "duration": 466,
    "start_time": "2024-07-04T20:11:20.996Z"
   },
   {
    "duration": 11,
    "start_time": "2024-07-04T20:11:21.463Z"
   },
   {
    "duration": 140,
    "start_time": "2024-07-04T20:11:21.475Z"
   },
   {
    "duration": 14,
    "start_time": "2024-07-04T20:11:21.617Z"
   },
   {
    "duration": 219,
    "start_time": "2024-07-04T20:11:21.633Z"
   },
   {
    "duration": 11,
    "start_time": "2024-07-04T20:11:21.853Z"
   },
   {
    "duration": 162,
    "start_time": "2024-07-04T20:11:21.865Z"
   },
   {
    "duration": 8,
    "start_time": "2024-07-04T20:11:22.028Z"
   },
   {
    "duration": 281,
    "start_time": "2024-07-04T20:11:22.039Z"
   },
   {
    "duration": 7,
    "start_time": "2024-07-04T20:11:22.322Z"
   },
   {
    "duration": 225,
    "start_time": "2024-07-04T20:11:22.331Z"
   },
   {
    "duration": 12,
    "start_time": "2024-07-04T20:11:22.558Z"
   },
   {
    "duration": 34,
    "start_time": "2024-07-04T20:11:22.571Z"
   },
   {
    "duration": 33,
    "start_time": "2024-07-04T20:11:22.606Z"
   },
   {
    "duration": 14,
    "start_time": "2024-07-04T20:11:22.641Z"
   },
   {
    "duration": 219,
    "start_time": "2024-07-04T20:11:22.656Z"
   },
   {
    "duration": 211,
    "start_time": "2024-07-04T20:11:22.877Z"
   },
   {
    "duration": 209,
    "start_time": "2024-07-04T20:11:23.089Z"
   },
   {
    "duration": 233,
    "start_time": "2024-07-04T20:11:23.300Z"
   },
   {
    "duration": 11,
    "start_time": "2024-07-04T20:11:23.534Z"
   },
   {
    "duration": 80,
    "start_time": "2024-07-04T20:11:55.071Z"
   },
   {
    "duration": 14,
    "start_time": "2024-07-04T20:13:49.302Z"
   },
   {
    "duration": 11,
    "start_time": "2024-07-04T20:14:22.463Z"
   },
   {
    "duration": 14,
    "start_time": "2024-07-04T20:16:53.167Z"
   },
   {
    "duration": 903,
    "start_time": "2024-07-04T20:17:07.968Z"
   },
   {
    "duration": 14,
    "start_time": "2024-07-04T20:17:16.991Z"
   },
   {
    "duration": 19,
    "start_time": "2024-07-04T20:17:38.263Z"
   },
   {
    "duration": 964,
    "start_time": "2024-07-04T20:18:26.894Z"
   },
   {
    "duration": 14,
    "start_time": "2024-07-04T20:18:32.359Z"
   },
   {
    "duration": 13,
    "start_time": "2024-07-04T20:19:30.831Z"
   },
   {
    "duration": 13,
    "start_time": "2024-07-04T20:20:10.631Z"
   },
   {
    "duration": 14,
    "start_time": "2024-07-04T20:20:19.447Z"
   },
   {
    "duration": 15,
    "start_time": "2024-07-04T20:20:28.319Z"
   },
   {
    "duration": 14,
    "start_time": "2024-07-04T20:21:06.470Z"
   },
   {
    "duration": 12,
    "start_time": "2024-07-04T20:21:20.406Z"
   },
   {
    "duration": 12,
    "start_time": "2024-07-04T20:21:32.421Z"
   },
   {
    "duration": 11,
    "start_time": "2024-07-04T20:21:56.494Z"
   },
   {
    "duration": 13,
    "start_time": "2024-07-04T20:22:09.584Z"
   },
   {
    "duration": 12,
    "start_time": "2024-07-04T20:22:16.199Z"
   },
   {
    "duration": 13,
    "start_time": "2024-07-04T20:22:23.015Z"
   },
   {
    "duration": 16,
    "start_time": "2024-07-04T20:22:50.447Z"
   },
   {
    "duration": 15,
    "start_time": "2024-07-04T20:22:55.494Z"
   },
   {
    "duration": 15,
    "start_time": "2024-07-04T20:23:07.725Z"
   },
   {
    "duration": 15,
    "start_time": "2024-07-04T20:23:10.334Z"
   },
   {
    "duration": 14,
    "start_time": "2024-07-04T20:23:12.727Z"
   },
   {
    "duration": 12,
    "start_time": "2024-07-04T20:23:17.031Z"
   },
   {
    "duration": 13,
    "start_time": "2024-07-04T20:23:41.174Z"
   },
   {
    "duration": 48,
    "start_time": "2024-07-04T20:25:40.662Z"
   },
   {
    "duration": 51,
    "start_time": "2024-07-04T20:25:54.597Z"
   },
   {
    "duration": 14,
    "start_time": "2024-07-04T20:26:12.622Z"
   },
   {
    "duration": 417,
    "start_time": "2024-07-05T05:21:58.550Z"
   },
   {
    "duration": 203,
    "start_time": "2024-07-05T05:21:58.968Z"
   },
   {
    "duration": 15,
    "start_time": "2024-07-05T05:21:59.172Z"
   },
   {
    "duration": 10,
    "start_time": "2024-07-05T05:21:59.188Z"
   },
   {
    "duration": 10,
    "start_time": "2024-07-05T05:21:59.200Z"
   },
   {
    "duration": 19,
    "start_time": "2024-07-05T05:21:59.211Z"
   },
   {
    "duration": 6,
    "start_time": "2024-07-05T05:21:59.231Z"
   },
   {
    "duration": 11,
    "start_time": "2024-07-05T05:21:59.238Z"
   },
   {
    "duration": 20,
    "start_time": "2024-07-05T05:21:59.250Z"
   },
   {
    "duration": 14,
    "start_time": "2024-07-05T05:21:59.273Z"
   },
   {
    "duration": 5,
    "start_time": "2024-07-05T05:21:59.289Z"
   },
   {
    "duration": 11,
    "start_time": "2024-07-05T05:21:59.295Z"
   },
   {
    "duration": 7,
    "start_time": "2024-07-05T05:21:59.308Z"
   },
   {
    "duration": 17,
    "start_time": "2024-07-05T05:21:59.317Z"
   },
   {
    "duration": 24,
    "start_time": "2024-07-05T05:21:59.336Z"
   },
   {
    "duration": 79,
    "start_time": "2024-07-05T05:21:59.362Z"
   },
   {
    "duration": 7,
    "start_time": "2024-07-05T05:21:59.442Z"
   },
   {
    "duration": 9,
    "start_time": "2024-07-05T05:21:59.451Z"
   },
   {
    "duration": 16,
    "start_time": "2024-07-05T05:21:59.461Z"
   },
   {
    "duration": 647,
    "start_time": "2024-07-05T05:21:59.479Z"
   },
   {
    "duration": 12,
    "start_time": "2024-07-05T05:22:00.128Z"
   },
   {
    "duration": 188,
    "start_time": "2024-07-05T05:22:00.142Z"
   },
   {
    "duration": 13,
    "start_time": "2024-07-05T05:22:00.332Z"
   },
   {
    "duration": 254,
    "start_time": "2024-07-05T05:22:00.347Z"
   },
   {
    "duration": 13,
    "start_time": "2024-07-05T05:22:00.602Z"
   },
   {
    "duration": 216,
    "start_time": "2024-07-05T05:22:00.616Z"
   },
   {
    "duration": 7,
    "start_time": "2024-07-05T05:22:00.834Z"
   },
   {
    "duration": 355,
    "start_time": "2024-07-05T05:22:00.845Z"
   },
   {
    "duration": 7,
    "start_time": "2024-07-05T05:22:01.202Z"
   },
   {
    "duration": 304,
    "start_time": "2024-07-05T05:22:01.211Z"
   },
   {
    "duration": 13,
    "start_time": "2024-07-05T05:22:01.516Z"
   },
   {
    "duration": 69,
    "start_time": "2024-07-05T05:22:01.530Z"
   },
   {
    "duration": 29,
    "start_time": "2024-07-05T05:22:01.601Z"
   },
   {
    "duration": 120,
    "start_time": "2024-07-05T05:22:01.631Z"
   },
   {
    "duration": 252,
    "start_time": "2024-07-05T05:22:01.753Z"
   },
   {
    "duration": 240,
    "start_time": "2024-07-05T05:22:02.007Z"
   },
   {
    "duration": 254,
    "start_time": "2024-07-05T05:22:02.254Z"
   },
   {
    "duration": 351,
    "start_time": "2024-07-05T05:22:02.510Z"
   },
   {
    "duration": 22,
    "start_time": "2024-07-05T05:22:02.863Z"
   },
   {
    "duration": 1009,
    "start_time": "2024-07-05T05:25:00.808Z"
   },
   {
    "duration": 1253,
    "start_time": "2024-07-05T05:25:11.477Z"
   },
   {
    "duration": 11,
    "start_time": "2024-07-05T05:25:25.341Z"
   },
   {
    "duration": 11,
    "start_time": "2024-07-05T05:25:43.854Z"
   },
   {
    "duration": 13,
    "start_time": "2024-07-05T05:25:53.013Z"
   },
   {
    "duration": 409,
    "start_time": "2024-07-05T05:26:10.035Z"
   },
   {
    "duration": 68,
    "start_time": "2024-07-05T05:26:10.446Z"
   },
   {
    "duration": 15,
    "start_time": "2024-07-05T05:26:10.516Z"
   },
   {
    "duration": 11,
    "start_time": "2024-07-05T05:26:10.533Z"
   },
   {
    "duration": 12,
    "start_time": "2024-07-05T05:26:10.545Z"
   },
   {
    "duration": 15,
    "start_time": "2024-07-05T05:26:10.559Z"
   },
   {
    "duration": 6,
    "start_time": "2024-07-05T05:26:10.576Z"
   },
   {
    "duration": 10,
    "start_time": "2024-07-05T05:26:10.584Z"
   },
   {
    "duration": 16,
    "start_time": "2024-07-05T05:26:10.596Z"
   },
   {
    "duration": 10,
    "start_time": "2024-07-05T05:26:10.615Z"
   },
   {
    "duration": 6,
    "start_time": "2024-07-05T05:26:10.626Z"
   },
   {
    "duration": 27,
    "start_time": "2024-07-05T05:26:10.634Z"
   },
   {
    "duration": 6,
    "start_time": "2024-07-05T05:26:10.663Z"
   },
   {
    "duration": 58,
    "start_time": "2024-07-05T05:26:10.671Z"
   },
   {
    "duration": 11,
    "start_time": "2024-07-05T05:26:10.730Z"
   },
   {
    "duration": 6,
    "start_time": "2024-07-05T05:26:10.742Z"
   },
   {
    "duration": 5,
    "start_time": "2024-07-05T05:26:10.750Z"
   },
   {
    "duration": 10,
    "start_time": "2024-07-05T05:26:10.756Z"
   },
   {
    "duration": 11,
    "start_time": "2024-07-05T05:26:10.768Z"
   },
   {
    "duration": 457,
    "start_time": "2024-07-05T05:26:10.780Z"
   },
   {
    "duration": 15,
    "start_time": "2024-07-05T05:26:11.239Z"
   },
   {
    "duration": 151,
    "start_time": "2024-07-05T05:26:11.255Z"
   },
   {
    "duration": 14,
    "start_time": "2024-07-05T05:26:11.407Z"
   },
   {
    "duration": 265,
    "start_time": "2024-07-05T05:26:11.423Z"
   },
   {
    "duration": 11,
    "start_time": "2024-07-05T05:26:11.689Z"
   },
   {
    "duration": 146,
    "start_time": "2024-07-05T05:26:11.702Z"
   },
   {
    "duration": 11,
    "start_time": "2024-07-05T05:26:11.850Z"
   },
   {
    "duration": 312,
    "start_time": "2024-07-05T05:26:11.865Z"
   },
   {
    "duration": 8,
    "start_time": "2024-07-05T05:26:12.179Z"
   },
   {
    "duration": 249,
    "start_time": "2024-07-05T05:26:12.189Z"
   },
   {
    "duration": 22,
    "start_time": "2024-07-05T05:26:12.440Z"
   },
   {
    "duration": 26,
    "start_time": "2024-07-05T05:26:12.463Z"
   },
   {
    "duration": 18,
    "start_time": "2024-07-05T05:26:12.491Z"
   },
   {
    "duration": 20,
    "start_time": "2024-07-05T05:26:12.511Z"
   },
   {
    "duration": 244,
    "start_time": "2024-07-05T05:26:12.560Z"
   },
   {
    "duration": 243,
    "start_time": "2024-07-05T05:26:12.806Z"
   },
   {
    "duration": 258,
    "start_time": "2024-07-05T05:26:13.051Z"
   },
   {
    "duration": 235,
    "start_time": "2024-07-05T05:26:13.311Z"
   },
   {
    "duration": 16,
    "start_time": "2024-07-05T05:26:13.547Z"
   },
   {
    "duration": 10,
    "start_time": "2024-07-05T05:26:13.564Z"
   },
   {
    "duration": 372,
    "start_time": "2024-07-05T05:26:33.985Z"
   },
   {
    "duration": 67,
    "start_time": "2024-07-05T05:26:34.358Z"
   },
   {
    "duration": 13,
    "start_time": "2024-07-05T05:26:34.427Z"
   },
   {
    "duration": 11,
    "start_time": "2024-07-05T05:26:34.442Z"
   },
   {
    "duration": 13,
    "start_time": "2024-07-05T05:26:34.454Z"
   },
   {
    "duration": 11,
    "start_time": "2024-07-05T05:26:34.468Z"
   },
   {
    "duration": 7,
    "start_time": "2024-07-05T05:26:34.481Z"
   },
   {
    "duration": 9,
    "start_time": "2024-07-05T05:26:34.490Z"
   },
   {
    "duration": 13,
    "start_time": "2024-07-05T05:26:34.500Z"
   },
   {
    "duration": 10,
    "start_time": "2024-07-05T05:26:34.517Z"
   },
   {
    "duration": 7,
    "start_time": "2024-07-05T05:26:34.560Z"
   },
   {
    "duration": 6,
    "start_time": "2024-07-05T05:26:34.569Z"
   },
   {
    "duration": 7,
    "start_time": "2024-07-05T05:26:34.576Z"
   },
   {
    "duration": 5,
    "start_time": "2024-07-05T05:26:34.584Z"
   },
   {
    "duration": 9,
    "start_time": "2024-07-05T05:26:34.591Z"
   },
   {
    "duration": 5,
    "start_time": "2024-07-05T05:26:34.601Z"
   },
   {
    "duration": 8,
    "start_time": "2024-07-05T05:26:34.608Z"
   },
   {
    "duration": 44,
    "start_time": "2024-07-05T05:26:34.618Z"
   },
   {
    "duration": 20,
    "start_time": "2024-07-05T05:26:34.663Z"
   },
   {
    "duration": 525,
    "start_time": "2024-07-05T05:26:34.684Z"
   },
   {
    "duration": 12,
    "start_time": "2024-07-05T05:26:35.210Z"
   },
   {
    "duration": 150,
    "start_time": "2024-07-05T05:26:35.223Z"
   },
   {
    "duration": 13,
    "start_time": "2024-07-05T05:26:35.375Z"
   },
   {
    "duration": 288,
    "start_time": "2024-07-05T05:26:35.389Z"
   },
   {
    "duration": 11,
    "start_time": "2024-07-05T05:26:35.678Z"
   },
   {
    "duration": 164,
    "start_time": "2024-07-05T05:26:35.691Z"
   },
   {
    "duration": 7,
    "start_time": "2024-07-05T05:26:35.861Z"
   },
   {
    "duration": 307,
    "start_time": "2024-07-05T05:26:35.871Z"
   },
   {
    "duration": 7,
    "start_time": "2024-07-05T05:26:36.180Z"
   },
   {
    "duration": 246,
    "start_time": "2024-07-05T05:26:36.189Z"
   },
   {
    "duration": 11,
    "start_time": "2024-07-05T05:26:36.437Z"
   },
   {
    "duration": 33,
    "start_time": "2024-07-05T05:26:36.450Z"
   },
   {
    "duration": 18,
    "start_time": "2024-07-05T05:26:36.484Z"
   },
   {
    "duration": 19,
    "start_time": "2024-07-05T05:26:36.503Z"
   },
   {
    "duration": 267,
    "start_time": "2024-07-05T05:26:36.524Z"
   },
   {
    "duration": 237,
    "start_time": "2024-07-05T05:26:36.792Z"
   },
   {
    "duration": 248,
    "start_time": "2024-07-05T05:26:37.031Z"
   },
   {
    "duration": 255,
    "start_time": "2024-07-05T05:26:37.281Z"
   },
   {
    "duration": 24,
    "start_time": "2024-07-05T05:26:37.538Z"
   },
   {
    "duration": 11,
    "start_time": "2024-07-05T05:26:37.564Z"
   },
   {
    "duration": 362,
    "start_time": "2024-07-05T05:32:20.501Z"
   },
   {
    "duration": 68,
    "start_time": "2024-07-05T05:32:20.864Z"
   },
   {
    "duration": 13,
    "start_time": "2024-07-05T05:32:20.934Z"
   },
   {
    "duration": 29,
    "start_time": "2024-07-05T05:32:20.949Z"
   },
   {
    "duration": 23,
    "start_time": "2024-07-05T05:32:20.980Z"
   },
   {
    "duration": 10,
    "start_time": "2024-07-05T05:32:21.004Z"
   },
   {
    "duration": 10,
    "start_time": "2024-07-05T05:32:21.016Z"
   },
   {
    "duration": 14,
    "start_time": "2024-07-05T05:32:21.027Z"
   },
   {
    "duration": 12,
    "start_time": "2024-07-05T05:32:21.042Z"
   },
   {
    "duration": 9,
    "start_time": "2024-07-05T05:32:21.060Z"
   },
   {
    "duration": 5,
    "start_time": "2024-07-05T05:32:21.071Z"
   },
   {
    "duration": 22,
    "start_time": "2024-07-05T05:32:21.077Z"
   },
   {
    "duration": 31,
    "start_time": "2024-07-05T05:32:21.100Z"
   },
   {
    "duration": 5,
    "start_time": "2024-07-05T05:32:21.133Z"
   },
   {
    "duration": 9,
    "start_time": "2024-07-05T05:32:21.139Z"
   },
   {
    "duration": 5,
    "start_time": "2024-07-05T05:32:21.150Z"
   },
   {
    "duration": 9,
    "start_time": "2024-07-05T05:32:21.156Z"
   },
   {
    "duration": 7,
    "start_time": "2024-07-05T05:32:21.166Z"
   },
   {
    "duration": 11,
    "start_time": "2024-07-05T05:32:21.175Z"
   },
   {
    "duration": 511,
    "start_time": "2024-07-05T05:32:21.188Z"
   },
   {
    "duration": 11,
    "start_time": "2024-07-05T05:32:21.700Z"
   },
   {
    "duration": 220,
    "start_time": "2024-07-05T05:32:21.712Z"
   },
   {
    "duration": 15,
    "start_time": "2024-07-05T05:32:21.934Z"
   },
   {
    "duration": 260,
    "start_time": "2024-07-05T05:32:21.961Z"
   },
   {
    "duration": 11,
    "start_time": "2024-07-05T05:32:22.223Z"
   },
   {
    "duration": 151,
    "start_time": "2024-07-05T05:32:22.236Z"
   },
   {
    "duration": 7,
    "start_time": "2024-07-05T05:32:22.389Z"
   },
   {
    "duration": 306,
    "start_time": "2024-07-05T05:32:22.399Z"
   },
   {
    "duration": 7,
    "start_time": "2024-07-05T05:32:22.707Z"
   },
   {
    "duration": 299,
    "start_time": "2024-07-05T05:32:22.716Z"
   },
   {
    "duration": 13,
    "start_time": "2024-07-05T05:32:23.016Z"
   },
   {
    "duration": 43,
    "start_time": "2024-07-05T05:32:23.030Z"
   },
   {
    "duration": 18,
    "start_time": "2024-07-05T05:32:23.074Z"
   },
   {
    "duration": 19,
    "start_time": "2024-07-05T05:32:23.094Z"
   },
   {
    "duration": 266,
    "start_time": "2024-07-05T05:32:23.114Z"
   },
   {
    "duration": 225,
    "start_time": "2024-07-05T05:32:23.382Z"
   },
   {
    "duration": 241,
    "start_time": "2024-07-05T05:32:23.608Z"
   },
   {
    "duration": 236,
    "start_time": "2024-07-05T05:32:23.850Z"
   },
   {
    "duration": 14,
    "start_time": "2024-07-05T05:32:24.087Z"
   },
   {
    "duration": 16,
    "start_time": "2024-07-05T05:32:24.102Z"
   },
   {
    "duration": 14,
    "start_time": "2024-07-05T05:32:32.710Z"
   },
   {
    "duration": 17,
    "start_time": "2024-07-05T05:33:14.356Z"
   },
   {
    "duration": 13,
    "start_time": "2024-07-05T05:36:25.965Z"
   },
   {
    "duration": 3,
    "start_time": "2024-07-05T05:39:08.850Z"
   },
   {
    "duration": 14,
    "start_time": "2024-07-05T05:39:23.522Z"
   },
   {
    "duration": 452,
    "start_time": "2024-07-05T14:27:37.560Z"
   },
   {
    "duration": 334,
    "start_time": "2024-07-05T14:27:38.014Z"
   },
   {
    "duration": 17,
    "start_time": "2024-07-05T14:27:38.349Z"
   },
   {
    "duration": 22,
    "start_time": "2024-07-05T14:27:38.368Z"
   },
   {
    "duration": 89,
    "start_time": "2024-07-05T14:27:38.395Z"
   },
   {
    "duration": 36,
    "start_time": "2024-07-05T14:27:38.486Z"
   },
   {
    "duration": 11,
    "start_time": "2024-07-05T14:27:38.524Z"
   },
   {
    "duration": 20,
    "start_time": "2024-07-05T14:27:38.537Z"
   },
   {
    "duration": 17,
    "start_time": "2024-07-05T14:27:38.559Z"
   },
   {
    "duration": 25,
    "start_time": "2024-07-05T14:27:38.580Z"
   },
   {
    "duration": 15,
    "start_time": "2024-07-05T14:27:38.606Z"
   },
   {
    "duration": 35,
    "start_time": "2024-07-05T14:27:38.623Z"
   },
   {
    "duration": 24,
    "start_time": "2024-07-05T14:27:38.660Z"
   },
   {
    "duration": 18,
    "start_time": "2024-07-05T14:27:38.686Z"
   },
   {
    "duration": 17,
    "start_time": "2024-07-05T14:27:38.707Z"
   },
   {
    "duration": 23,
    "start_time": "2024-07-05T14:27:38.725Z"
   },
   {
    "duration": 17,
    "start_time": "2024-07-05T14:27:38.749Z"
   },
   {
    "duration": 29,
    "start_time": "2024-07-05T14:27:38.767Z"
   },
   {
    "duration": 22,
    "start_time": "2024-07-05T14:27:38.800Z"
   },
   {
    "duration": 766,
    "start_time": "2024-07-05T14:27:38.823Z"
   },
   {
    "duration": 15,
    "start_time": "2024-07-05T14:27:39.592Z"
   },
   {
    "duration": 165,
    "start_time": "2024-07-05T14:27:39.609Z"
   },
   {
    "duration": 26,
    "start_time": "2024-07-05T14:27:39.776Z"
   },
   {
    "duration": 281,
    "start_time": "2024-07-05T14:27:39.804Z"
   },
   {
    "duration": 28,
    "start_time": "2024-07-05T14:27:40.087Z"
   },
   {
    "duration": 147,
    "start_time": "2024-07-05T14:27:40.116Z"
   },
   {
    "duration": 8,
    "start_time": "2024-07-05T14:27:40.265Z"
   },
   {
    "duration": 353,
    "start_time": "2024-07-05T14:27:40.276Z"
   },
   {
    "duration": 7,
    "start_time": "2024-07-05T14:27:40.631Z"
   },
   {
    "duration": 311,
    "start_time": "2024-07-05T14:27:40.640Z"
   },
   {
    "duration": 13,
    "start_time": "2024-07-05T14:27:40.952Z"
   },
   {
    "duration": 70,
    "start_time": "2024-07-05T14:27:40.967Z"
   },
   {
    "duration": 19,
    "start_time": "2024-07-05T14:27:41.038Z"
   },
   {
    "duration": 16,
    "start_time": "2024-07-05T14:27:41.058Z"
   },
   {
    "duration": 285,
    "start_time": "2024-07-05T14:27:41.076Z"
   },
   {
    "duration": 267,
    "start_time": "2024-07-05T14:27:41.362Z"
   },
   {
    "duration": 269,
    "start_time": "2024-07-05T14:27:41.631Z"
   },
   {
    "duration": 345,
    "start_time": "2024-07-05T14:27:41.906Z"
   },
   {
    "duration": 18,
    "start_time": "2024-07-05T14:27:42.253Z"
   },
   {
    "duration": 39,
    "start_time": "2024-07-05T14:27:42.273Z"
   },
   {
    "duration": 20,
    "start_time": "2024-07-05T14:27:42.313Z"
   },
   {
    "duration": 53,
    "start_time": "2024-07-05T15:01:18.205Z"
   },
   {
    "duration": 80,
    "start_time": "2024-07-05T15:01:35.289Z"
   },
   {
    "duration": 8,
    "start_time": "2024-07-05T15:01:44.985Z"
   },
   {
    "duration": 12,
    "start_time": "2024-07-05T15:01:57.072Z"
   },
   {
    "duration": 492,
    "start_time": "2024-07-05T15:04:04.393Z"
   },
   {
    "duration": 9,
    "start_time": "2024-07-05T15:04:23.570Z"
   },
   {
    "duration": 4,
    "start_time": "2024-07-05T15:04:49.241Z"
   },
   {
    "duration": 4,
    "start_time": "2024-07-05T15:04:56.305Z"
   },
   {
    "duration": 396,
    "start_time": "2024-07-05T15:05:07.434Z"
   },
   {
    "duration": 71,
    "start_time": "2024-07-05T15:05:07.832Z"
   },
   {
    "duration": 16,
    "start_time": "2024-07-05T15:05:07.905Z"
   },
   {
    "duration": 18,
    "start_time": "2024-07-05T15:05:07.924Z"
   },
   {
    "duration": 20,
    "start_time": "2024-07-05T15:05:07.944Z"
   },
   {
    "duration": 24,
    "start_time": "2024-07-05T15:05:07.966Z"
   },
   {
    "duration": 8,
    "start_time": "2024-07-05T15:05:07.992Z"
   },
   {
    "duration": 39,
    "start_time": "2024-07-05T15:05:08.002Z"
   },
   {
    "duration": 40,
    "start_time": "2024-07-05T15:05:08.043Z"
   },
   {
    "duration": 12,
    "start_time": "2024-07-05T15:05:08.087Z"
   },
   {
    "duration": 6,
    "start_time": "2024-07-05T15:05:08.101Z"
   },
   {
    "duration": 10,
    "start_time": "2024-07-05T15:05:08.108Z"
   },
   {
    "duration": 11,
    "start_time": "2024-07-05T15:05:08.120Z"
   },
   {
    "duration": 11,
    "start_time": "2024-07-05T15:05:08.132Z"
   },
   {
    "duration": 15,
    "start_time": "2024-07-05T15:05:08.145Z"
   },
   {
    "duration": 32,
    "start_time": "2024-07-05T15:05:08.162Z"
   },
   {
    "duration": 17,
    "start_time": "2024-07-05T15:05:08.196Z"
   },
   {
    "duration": 13,
    "start_time": "2024-07-05T15:05:08.214Z"
   },
   {
    "duration": 14,
    "start_time": "2024-07-05T15:05:08.229Z"
   },
   {
    "duration": 623,
    "start_time": "2024-07-05T15:05:08.245Z"
   },
   {
    "duration": 13,
    "start_time": "2024-07-05T15:05:08.870Z"
   },
   {
    "duration": 168,
    "start_time": "2024-07-05T15:05:08.892Z"
   },
   {
    "duration": 15,
    "start_time": "2024-07-05T15:05:09.062Z"
   },
   {
    "duration": 270,
    "start_time": "2024-07-05T15:05:09.078Z"
   },
   {
    "duration": 12,
    "start_time": "2024-07-05T15:05:09.350Z"
   },
   {
    "duration": 150,
    "start_time": "2024-07-05T15:05:09.363Z"
   },
   {
    "duration": 7,
    "start_time": "2024-07-05T15:05:09.515Z"
   },
   {
    "duration": 363,
    "start_time": "2024-07-05T15:05:09.526Z"
   },
   {
    "duration": 7,
    "start_time": "2024-07-05T15:05:09.891Z"
   },
   {
    "duration": 274,
    "start_time": "2024-07-05T15:05:09.900Z"
   },
   {
    "duration": 18,
    "start_time": "2024-07-05T15:05:10.176Z"
   },
   {
    "duration": 73,
    "start_time": "2024-07-05T15:05:10.196Z"
   },
   {
    "duration": 160,
    "start_time": "2024-07-05T15:05:10.271Z"
   },
   {
    "duration": 40,
    "start_time": "2024-07-05T15:05:10.432Z"
   },
   {
    "duration": 264,
    "start_time": "2024-07-05T15:05:10.474Z"
   },
   {
    "duration": 262,
    "start_time": "2024-07-05T15:05:10.739Z"
   },
   {
    "duration": 265,
    "start_time": "2024-07-05T15:05:11.003Z"
   },
   {
    "duration": 269,
    "start_time": "2024-07-05T15:05:11.270Z"
   },
   {
    "duration": 14,
    "start_time": "2024-07-05T15:05:11.541Z"
   },
   {
    "duration": 14,
    "start_time": "2024-07-05T15:05:11.557Z"
   },
   {
    "duration": 51,
    "start_time": "2024-07-05T15:05:11.572Z"
   },
   {
    "duration": 596,
    "start_time": "2024-07-05T15:05:11.624Z"
   },
   {
    "duration": 6,
    "start_time": "2024-07-05T15:05:43.568Z"
   },
   {
    "duration": 102,
    "start_time": "2024-07-05T15:11:05.768Z"
   },
   {
    "duration": 955,
    "start_time": "2024-07-05T15:11:14.264Z"
   },
   {
    "duration": 71,
    "start_time": "2024-07-05T15:11:15.221Z"
   },
   {
    "duration": 16,
    "start_time": "2024-07-05T15:11:15.294Z"
   },
   {
    "duration": 23,
    "start_time": "2024-07-05T15:11:15.312Z"
   },
   {
    "duration": 33,
    "start_time": "2024-07-05T15:11:15.336Z"
   },
   {
    "duration": 41,
    "start_time": "2024-07-05T15:11:15.371Z"
   },
   {
    "duration": 39,
    "start_time": "2024-07-05T15:11:15.414Z"
   },
   {
    "duration": 33,
    "start_time": "2024-07-05T15:11:15.455Z"
   },
   {
    "duration": 26,
    "start_time": "2024-07-05T15:11:15.491Z"
   },
   {
    "duration": 26,
    "start_time": "2024-07-05T15:11:15.520Z"
   },
   {
    "duration": 21,
    "start_time": "2024-07-05T15:11:15.548Z"
   },
   {
    "duration": 12,
    "start_time": "2024-07-05T15:11:15.571Z"
   },
   {
    "duration": 20,
    "start_time": "2024-07-05T15:11:15.585Z"
   },
   {
    "duration": 7,
    "start_time": "2024-07-05T15:11:15.607Z"
   },
   {
    "duration": 51,
    "start_time": "2024-07-05T15:11:15.616Z"
   },
   {
    "duration": 20,
    "start_time": "2024-07-05T15:11:15.669Z"
   },
   {
    "duration": 40,
    "start_time": "2024-07-05T15:11:15.691Z"
   },
   {
    "duration": 52,
    "start_time": "2024-07-05T15:11:15.734Z"
   },
   {
    "duration": 55,
    "start_time": "2024-07-05T15:11:15.788Z"
   },
   {
    "duration": 623,
    "start_time": "2024-07-05T15:11:15.845Z"
   },
   {
    "duration": 13,
    "start_time": "2024-07-05T15:11:16.470Z"
   },
   {
    "duration": 166,
    "start_time": "2024-07-05T15:11:16.492Z"
   },
   {
    "duration": 15,
    "start_time": "2024-07-05T15:11:16.660Z"
   },
   {
    "duration": 320,
    "start_time": "2024-07-05T15:11:16.677Z"
   },
   {
    "duration": 12,
    "start_time": "2024-07-05T15:11:16.999Z"
   },
   {
    "duration": 160,
    "start_time": "2024-07-05T15:11:17.013Z"
   },
   {
    "duration": 8,
    "start_time": "2024-07-05T15:11:17.175Z"
   },
   {
    "duration": 281,
    "start_time": "2024-07-05T15:11:17.193Z"
   },
   {
    "duration": 16,
    "start_time": "2024-07-05T15:11:17.476Z"
   },
   {
    "duration": 271,
    "start_time": "2024-07-05T15:11:17.493Z"
   },
   {
    "duration": 13,
    "start_time": "2024-07-05T15:11:17.766Z"
   },
   {
    "duration": 55,
    "start_time": "2024-07-05T15:11:17.780Z"
   },
   {
    "duration": 19,
    "start_time": "2024-07-05T15:11:17.837Z"
   },
   {
    "duration": 24,
    "start_time": "2024-07-05T15:11:17.858Z"
   },
   {
    "duration": 294,
    "start_time": "2024-07-05T15:11:17.883Z"
   },
   {
    "duration": 367,
    "start_time": "2024-07-05T15:11:18.179Z"
   },
   {
    "duration": 261,
    "start_time": "2024-07-05T15:11:18.548Z"
   },
   {
    "duration": 267,
    "start_time": "2024-07-05T15:11:18.811Z"
   },
   {
    "duration": 19,
    "start_time": "2024-07-05T15:11:19.080Z"
   },
   {
    "duration": 13,
    "start_time": "2024-07-05T15:11:19.101Z"
   },
   {
    "duration": 81,
    "start_time": "2024-07-05T15:11:19.116Z"
   },
   {
    "duration": 101,
    "start_time": "2024-07-05T15:11:19.199Z"
   },
   {
    "duration": 0,
    "start_time": "2024-07-05T15:11:19.302Z"
   },
   {
    "duration": 11,
    "start_time": "2024-07-05T15:11:31.728Z"
   },
   {
    "duration": 12,
    "start_time": "2024-07-05T15:11:50.488Z"
   },
   {
    "duration": 11,
    "start_time": "2024-07-05T15:12:10.136Z"
   },
   {
    "duration": 5,
    "start_time": "2024-07-05T15:12:11.303Z"
   },
   {
    "duration": 6,
    "start_time": "2024-07-05T15:14:56.408Z"
   },
   {
    "duration": 8,
    "start_time": "2024-07-05T15:17:07.895Z"
   },
   {
    "duration": 6,
    "start_time": "2024-07-05T15:28:44.916Z"
   },
   {
    "duration": 6,
    "start_time": "2024-07-05T15:28:50.915Z"
   },
   {
    "duration": 22,
    "start_time": "2024-07-05T15:39:33.797Z"
   },
   {
    "duration": 8,
    "start_time": "2024-07-05T15:41:26.946Z"
   },
   {
    "duration": 19,
    "start_time": "2024-07-05T15:41:36.152Z"
   },
   {
    "duration": 86,
    "start_time": "2024-07-05T15:41:49.520Z"
   },
   {
    "duration": 194,
    "start_time": "2024-07-05T15:43:02.777Z"
   },
   {
    "duration": 15,
    "start_time": "2024-07-05T15:43:26.937Z"
   },
   {
    "duration": 73,
    "start_time": "2024-07-05T15:43:46.432Z"
   },
   {
    "duration": 9,
    "start_time": "2024-07-05T15:43:58.936Z"
   },
   {
    "duration": 10,
    "start_time": "2024-07-05T15:44:12.679Z"
   },
   {
    "duration": 9,
    "start_time": "2024-07-05T15:44:29.048Z"
   },
   {
    "duration": 11,
    "start_time": "2024-07-05T15:44:40.417Z"
   },
   {
    "duration": 12,
    "start_time": "2024-07-05T15:44:48.392Z"
   },
   {
    "duration": 12,
    "start_time": "2024-07-05T15:44:58.354Z"
   },
   {
    "duration": 969,
    "start_time": "2024-07-05T15:45:13.963Z"
   },
   {
    "duration": 84,
    "start_time": "2024-07-05T15:45:14.936Z"
   },
   {
    "duration": 24,
    "start_time": "2024-07-05T15:45:15.023Z"
   },
   {
    "duration": 48,
    "start_time": "2024-07-05T15:45:15.051Z"
   },
   {
    "duration": 62,
    "start_time": "2024-07-05T15:45:15.101Z"
   },
   {
    "duration": 54,
    "start_time": "2024-07-05T15:45:15.165Z"
   },
   {
    "duration": 20,
    "start_time": "2024-07-05T15:45:15.221Z"
   },
   {
    "duration": 92,
    "start_time": "2024-07-05T15:45:15.243Z"
   },
   {
    "duration": 49,
    "start_time": "2024-07-05T15:45:15.337Z"
   },
   {
    "duration": 30,
    "start_time": "2024-07-05T15:45:15.389Z"
   },
   {
    "duration": 16,
    "start_time": "2024-07-05T15:45:15.420Z"
   },
   {
    "duration": 41,
    "start_time": "2024-07-05T15:45:15.438Z"
   },
   {
    "duration": 12,
    "start_time": "2024-07-05T15:45:15.481Z"
   },
   {
    "duration": 17,
    "start_time": "2024-07-05T15:45:15.506Z"
   },
   {
    "duration": 15,
    "start_time": "2024-07-05T15:45:15.525Z"
   },
   {
    "duration": 32,
    "start_time": "2024-07-05T15:45:15.542Z"
   },
   {
    "duration": 35,
    "start_time": "2024-07-05T15:45:15.576Z"
   },
   {
    "duration": 23,
    "start_time": "2024-07-05T15:45:15.613Z"
   },
   {
    "duration": 16,
    "start_time": "2024-07-05T15:45:15.638Z"
   },
   {
    "duration": 631,
    "start_time": "2024-07-05T15:45:15.656Z"
   },
   {
    "duration": 24,
    "start_time": "2024-07-05T15:45:16.289Z"
   },
   {
    "duration": 167,
    "start_time": "2024-07-05T15:45:16.315Z"
   },
   {
    "duration": 23,
    "start_time": "2024-07-05T15:45:16.484Z"
   },
   {
    "duration": 272,
    "start_time": "2024-07-05T15:45:16.510Z"
   },
   {
    "duration": 25,
    "start_time": "2024-07-05T15:45:16.784Z"
   },
   {
    "duration": 211,
    "start_time": "2024-07-05T15:45:16.811Z"
   },
   {
    "duration": 8,
    "start_time": "2024-07-05T15:45:17.024Z"
   },
   {
    "duration": 305,
    "start_time": "2024-07-05T15:45:17.035Z"
   },
   {
    "duration": 7,
    "start_time": "2024-07-05T15:45:17.342Z"
   },
   {
    "duration": 319,
    "start_time": "2024-07-05T15:45:17.351Z"
   },
   {
    "duration": 12,
    "start_time": "2024-07-05T15:45:17.672Z"
   },
   {
    "duration": 46,
    "start_time": "2024-07-05T15:45:17.699Z"
   },
   {
    "duration": 18,
    "start_time": "2024-07-05T15:45:17.747Z"
   },
   {
    "duration": 41,
    "start_time": "2024-07-05T15:45:17.767Z"
   },
   {
    "duration": 287,
    "start_time": "2024-07-05T15:45:17.810Z"
   },
   {
    "duration": 357,
    "start_time": "2024-07-05T15:45:18.104Z"
   },
   {
    "duration": 294,
    "start_time": "2024-07-05T15:45:18.463Z"
   },
   {
    "duration": 311,
    "start_time": "2024-07-05T15:45:18.759Z"
   },
   {
    "duration": 34,
    "start_time": "2024-07-05T15:45:19.072Z"
   },
   {
    "duration": 15,
    "start_time": "2024-07-05T15:45:19.108Z"
   },
   {
    "duration": 21,
    "start_time": "2024-07-05T15:45:19.124Z"
   },
   {
    "duration": 6,
    "start_time": "2024-07-05T15:45:19.146Z"
   },
   {
    "duration": 20,
    "start_time": "2024-07-05T15:45:19.154Z"
   },
   {
    "duration": 30,
    "start_time": "2024-07-05T15:45:19.176Z"
   },
   {
    "duration": 28,
    "start_time": "2024-07-05T15:45:27.184Z"
   },
   {
    "duration": 26,
    "start_time": "2024-07-05T15:54:01.878Z"
   },
   {
    "duration": 113,
    "start_time": "2024-07-05T15:54:27.899Z"
   },
   {
    "duration": 87,
    "start_time": "2024-07-05T15:54:39.720Z"
   },
   {
    "duration": 221,
    "start_time": "2024-07-05T15:55:20.127Z"
   },
   {
    "duration": 5,
    "start_time": "2024-07-05T15:55:33.835Z"
   },
   {
    "duration": 9,
    "start_time": "2024-07-05T15:55:38.469Z"
   },
   {
    "duration": 902,
    "start_time": "2024-07-05T15:55:44.821Z"
   },
   {
    "duration": 73,
    "start_time": "2024-07-05T15:55:45.725Z"
   },
   {
    "duration": 17,
    "start_time": "2024-07-05T15:55:45.800Z"
   },
   {
    "duration": 12,
    "start_time": "2024-07-05T15:55:45.820Z"
   },
   {
    "duration": 10,
    "start_time": "2024-07-05T15:55:45.834Z"
   },
   {
    "duration": 14,
    "start_time": "2024-07-05T15:55:45.845Z"
   },
   {
    "duration": 7,
    "start_time": "2024-07-05T15:55:45.861Z"
   },
   {
    "duration": 34,
    "start_time": "2024-07-05T15:55:45.870Z"
   },
   {
    "duration": 13,
    "start_time": "2024-07-05T15:55:45.906Z"
   },
   {
    "duration": 11,
    "start_time": "2024-07-05T15:55:45.922Z"
   },
   {
    "duration": 6,
    "start_time": "2024-07-05T15:55:45.935Z"
   },
   {
    "duration": 9,
    "start_time": "2024-07-05T15:55:45.942Z"
   },
   {
    "duration": 9,
    "start_time": "2024-07-05T15:55:45.952Z"
   },
   {
    "duration": 18,
    "start_time": "2024-07-05T15:55:45.994Z"
   },
   {
    "duration": 12,
    "start_time": "2024-07-05T15:55:46.014Z"
   },
   {
    "duration": 7,
    "start_time": "2024-07-05T15:55:46.028Z"
   },
   {
    "duration": 6,
    "start_time": "2024-07-05T15:55:46.037Z"
   },
   {
    "duration": 15,
    "start_time": "2024-07-05T15:55:46.045Z"
   },
   {
    "duration": 42,
    "start_time": "2024-07-05T15:55:46.062Z"
   },
   {
    "duration": 562,
    "start_time": "2024-07-05T15:55:46.106Z"
   },
   {
    "duration": 12,
    "start_time": "2024-07-05T15:55:46.670Z"
   },
   {
    "duration": 177,
    "start_time": "2024-07-05T15:55:46.683Z"
   },
   {
    "duration": 16,
    "start_time": "2024-07-05T15:55:46.862Z"
   },
   {
    "duration": 260,
    "start_time": "2024-07-05T15:55:46.894Z"
   },
   {
    "duration": 12,
    "start_time": "2024-07-05T15:55:47.156Z"
   },
   {
    "duration": 162,
    "start_time": "2024-07-05T15:55:47.170Z"
   },
   {
    "duration": 8,
    "start_time": "2024-07-05T15:55:47.333Z"
   },
   {
    "duration": 290,
    "start_time": "2024-07-05T15:55:47.345Z"
   },
   {
    "duration": 7,
    "start_time": "2024-07-05T15:55:47.637Z"
   },
   {
    "duration": 284,
    "start_time": "2024-07-05T15:55:47.646Z"
   },
   {
    "duration": 12,
    "start_time": "2024-07-05T15:55:47.932Z"
   },
   {
    "duration": 26,
    "start_time": "2024-07-05T15:55:47.946Z"
   },
   {
    "duration": 30,
    "start_time": "2024-07-05T15:55:47.990Z"
   },
   {
    "duration": 23,
    "start_time": "2024-07-05T15:55:48.023Z"
   },
   {
    "duration": 361,
    "start_time": "2024-07-05T15:55:48.048Z"
   },
   {
    "duration": 344,
    "start_time": "2024-07-05T15:55:48.411Z"
   },
   {
    "duration": 261,
    "start_time": "2024-07-05T15:55:48.757Z"
   },
   {
    "duration": 273,
    "start_time": "2024-07-05T15:55:49.020Z"
   },
   {
    "duration": 15,
    "start_time": "2024-07-05T15:55:49.306Z"
   },
   {
    "duration": 22,
    "start_time": "2024-07-05T15:55:49.323Z"
   },
   {
    "duration": 13,
    "start_time": "2024-07-05T15:55:49.347Z"
   },
   {
    "duration": 6,
    "start_time": "2024-07-05T15:55:49.362Z"
   },
   {
    "duration": 5,
    "start_time": "2024-07-05T15:55:49.369Z"
   },
   {
    "duration": 77,
    "start_time": "2024-07-05T15:55:49.402Z"
   },
   {
    "duration": 342,
    "start_time": "2024-07-05T15:57:23.022Z"
   },
   {
    "duration": 23,
    "start_time": "2024-07-05T16:02:38.317Z"
   },
   {
    "duration": 43,
    "start_time": "2024-07-05T16:03:11.300Z"
   },
   {
    "duration": 879,
    "start_time": "2024-07-05T16:03:25.823Z"
   },
   {
    "duration": 68,
    "start_time": "2024-07-05T16:03:26.704Z"
   },
   {
    "duration": 16,
    "start_time": "2024-07-05T16:03:26.774Z"
   },
   {
    "duration": 68,
    "start_time": "2024-07-05T16:03:26.792Z"
   },
   {
    "duration": 57,
    "start_time": "2024-07-05T16:03:26.862Z"
   },
   {
    "duration": 41,
    "start_time": "2024-07-05T16:03:26.921Z"
   },
   {
    "duration": 38,
    "start_time": "2024-07-05T16:03:26.964Z"
   },
   {
    "duration": 16,
    "start_time": "2024-07-05T16:03:27.004Z"
   },
   {
    "duration": 30,
    "start_time": "2024-07-05T16:03:27.022Z"
   },
   {
    "duration": 24,
    "start_time": "2024-07-05T16:03:27.055Z"
   },
   {
    "duration": 18,
    "start_time": "2024-07-05T16:03:27.081Z"
   },
   {
    "duration": 9,
    "start_time": "2024-07-05T16:03:27.101Z"
   },
   {
    "duration": 30,
    "start_time": "2024-07-05T16:03:27.112Z"
   },
   {
    "duration": 9,
    "start_time": "2024-07-05T16:03:27.144Z"
   },
   {
    "duration": 11,
    "start_time": "2024-07-05T16:03:27.155Z"
   },
   {
    "duration": 25,
    "start_time": "2024-07-05T16:03:27.168Z"
   },
   {
    "duration": 6,
    "start_time": "2024-07-05T16:03:27.195Z"
   },
   {
    "duration": 19,
    "start_time": "2024-07-05T16:03:27.204Z"
   },
   {
    "duration": 20,
    "start_time": "2024-07-05T16:03:27.225Z"
   },
   {
    "duration": 609,
    "start_time": "2024-07-05T16:03:27.246Z"
   },
   {
    "duration": 14,
    "start_time": "2024-07-05T16:03:27.856Z"
   },
   {
    "duration": 176,
    "start_time": "2024-07-05T16:03:27.872Z"
   },
   {
    "duration": 17,
    "start_time": "2024-07-05T16:03:28.050Z"
   },
   {
    "duration": 286,
    "start_time": "2024-07-05T16:03:28.068Z"
   },
   {
    "duration": 12,
    "start_time": "2024-07-05T16:03:28.356Z"
   },
   {
    "duration": 159,
    "start_time": "2024-07-05T16:03:28.370Z"
   },
   {
    "duration": 7,
    "start_time": "2024-07-05T16:03:28.531Z"
   },
   {
    "duration": 303,
    "start_time": "2024-07-05T16:03:28.541Z"
   },
   {
    "duration": 8,
    "start_time": "2024-07-05T16:03:28.846Z"
   },
   {
    "duration": 379,
    "start_time": "2024-07-05T16:03:28.858Z"
   },
   {
    "duration": 16,
    "start_time": "2024-07-05T16:03:29.238Z"
   },
   {
    "duration": 57,
    "start_time": "2024-07-05T16:03:29.256Z"
   },
   {
    "duration": 101,
    "start_time": "2024-07-05T16:03:29.315Z"
   },
   {
    "duration": 28,
    "start_time": "2024-07-05T16:03:29.418Z"
   },
   {
    "duration": 294,
    "start_time": "2024-07-05T16:03:29.448Z"
   },
   {
    "duration": 378,
    "start_time": "2024-07-05T16:03:29.744Z"
   },
   {
    "duration": 265,
    "start_time": "2024-07-05T16:03:30.124Z"
   },
   {
    "duration": 305,
    "start_time": "2024-07-05T16:03:30.392Z"
   },
   {
    "duration": 15,
    "start_time": "2024-07-05T16:03:30.699Z"
   },
   {
    "duration": 280,
    "start_time": "2024-07-05T16:03:30.716Z"
   },
   {
    "duration": 64,
    "start_time": "2024-07-05T16:03:30.998Z"
   },
   {
    "duration": 96,
    "start_time": "2024-07-05T16:03:31.064Z"
   },
   {
    "duration": 92,
    "start_time": "2024-07-05T16:03:31.162Z"
   },
   {
    "duration": 164,
    "start_time": "2024-07-05T16:03:31.256Z"
   },
   {
    "duration": 106,
    "start_time": "2024-07-05T16:03:45.267Z"
   },
   {
    "duration": 1006,
    "start_time": "2024-07-05T16:04:11.195Z"
   },
   {
    "duration": 906,
    "start_time": "2024-07-05T16:05:02.651Z"
   },
   {
    "duration": 22,
    "start_time": "2024-07-05T16:05:16.226Z"
   },
   {
    "duration": 19,
    "start_time": "2024-07-05T16:05:51.627Z"
   },
   {
    "duration": 14,
    "start_time": "2024-07-05T16:06:00.082Z"
   },
   {
    "duration": 10,
    "start_time": "2024-07-05T16:06:46.089Z"
   },
   {
    "duration": 14,
    "start_time": "2024-07-05T16:06:49.594Z"
   },
   {
    "duration": 24,
    "start_time": "2024-07-05T16:06:58.579Z"
   },
   {
    "duration": 910,
    "start_time": "2024-07-05T16:08:26.049Z"
   },
   {
    "duration": 20,
    "start_time": "2024-07-05T16:08:42.289Z"
   },
   {
    "duration": 20,
    "start_time": "2024-07-05T16:09:24.864Z"
   },
   {
    "duration": 825,
    "start_time": "2024-07-05T16:09:32.233Z"
   },
   {
    "duration": 70,
    "start_time": "2024-07-05T16:09:33.060Z"
   },
   {
    "duration": 17,
    "start_time": "2024-07-05T16:09:33.132Z"
   },
   {
    "duration": 15,
    "start_time": "2024-07-05T16:09:33.151Z"
   },
   {
    "duration": 11,
    "start_time": "2024-07-05T16:09:33.168Z"
   },
   {
    "duration": 24,
    "start_time": "2024-07-05T16:09:33.180Z"
   },
   {
    "duration": 8,
    "start_time": "2024-07-05T16:09:33.205Z"
   },
   {
    "duration": 14,
    "start_time": "2024-07-05T16:09:33.215Z"
   },
   {
    "duration": 16,
    "start_time": "2024-07-05T16:09:33.231Z"
   },
   {
    "duration": 10,
    "start_time": "2024-07-05T16:09:33.249Z"
   },
   {
    "duration": 31,
    "start_time": "2024-07-05T16:09:33.261Z"
   },
   {
    "duration": 6,
    "start_time": "2024-07-05T16:09:33.294Z"
   },
   {
    "duration": 8,
    "start_time": "2024-07-05T16:09:33.303Z"
   },
   {
    "duration": 8,
    "start_time": "2024-07-05T16:09:33.313Z"
   },
   {
    "duration": 52,
    "start_time": "2024-07-05T16:09:33.323Z"
   },
   {
    "duration": 6,
    "start_time": "2024-07-05T16:09:33.376Z"
   },
   {
    "duration": 13,
    "start_time": "2024-07-05T16:09:33.384Z"
   },
   {
    "duration": 23,
    "start_time": "2024-07-05T16:09:33.399Z"
   },
   {
    "duration": 22,
    "start_time": "2024-07-05T16:09:33.424Z"
   },
   {
    "duration": 761,
    "start_time": "2024-07-05T16:09:33.447Z"
   },
   {
    "duration": 13,
    "start_time": "2024-07-05T16:09:34.210Z"
   },
   {
    "duration": 174,
    "start_time": "2024-07-05T16:09:34.225Z"
   },
   {
    "duration": 21,
    "start_time": "2024-07-05T16:09:34.401Z"
   },
   {
    "duration": 273,
    "start_time": "2024-07-05T16:09:34.424Z"
   },
   {
    "duration": 17,
    "start_time": "2024-07-05T16:09:34.699Z"
   },
   {
    "duration": 176,
    "start_time": "2024-07-05T16:09:34.718Z"
   },
   {
    "duration": 10,
    "start_time": "2024-07-05T16:09:34.896Z"
   },
   {
    "duration": 369,
    "start_time": "2024-07-05T16:09:34.911Z"
   },
   {
    "duration": 13,
    "start_time": "2024-07-05T16:09:35.281Z"
   },
   {
    "duration": 286,
    "start_time": "2024-07-05T16:09:35.296Z"
   },
   {
    "duration": 21,
    "start_time": "2024-07-05T16:09:35.584Z"
   },
   {
    "duration": 27,
    "start_time": "2024-07-05T16:09:35.606Z"
   },
   {
    "duration": 19,
    "start_time": "2024-07-05T16:09:35.635Z"
   },
   {
    "duration": 52,
    "start_time": "2024-07-05T16:09:35.656Z"
   },
   {
    "duration": 321,
    "start_time": "2024-07-05T16:09:35.710Z"
   },
   {
    "duration": 358,
    "start_time": "2024-07-05T16:09:36.033Z"
   },
   {
    "duration": 268,
    "start_time": "2024-07-05T16:09:36.393Z"
   },
   {
    "duration": 275,
    "start_time": "2024-07-05T16:09:36.663Z"
   },
   {
    "duration": 15,
    "start_time": "2024-07-05T16:09:36.939Z"
   },
   {
    "duration": 31,
    "start_time": "2024-07-05T16:09:36.955Z"
   },
   {
    "duration": 15,
    "start_time": "2024-07-05T16:09:36.988Z"
   },
   {
    "duration": 6,
    "start_time": "2024-07-05T16:09:37.005Z"
   },
   {
    "duration": 21,
    "start_time": "2024-07-05T16:09:37.013Z"
   },
   {
    "duration": 53,
    "start_time": "2024-07-05T16:09:37.037Z"
   },
   {
    "duration": 19,
    "start_time": "2024-07-05T16:09:37.092Z"
   },
   {
    "duration": 16,
    "start_time": "2024-07-05T16:09:47.289Z"
   },
   {
    "duration": 20,
    "start_time": "2024-07-05T16:10:22.217Z"
   },
   {
    "duration": 19,
    "start_time": "2024-07-05T16:16:09.003Z"
   },
   {
    "duration": 14,
    "start_time": "2024-07-05T16:16:26.832Z"
   },
   {
    "duration": 10,
    "start_time": "2024-07-05T16:17:11.680Z"
   },
   {
    "duration": 17,
    "start_time": "2024-07-05T16:17:18.784Z"
   },
   {
    "duration": 14,
    "start_time": "2024-07-05T16:17:22.328Z"
   },
   {
    "duration": 15,
    "start_time": "2024-07-05T16:18:55.255Z"
   },
   {
    "duration": 14,
    "start_time": "2024-07-05T16:19:08.911Z"
   },
   {
    "duration": 14,
    "start_time": "2024-07-05T16:19:23.530Z"
   },
   {
    "duration": 11,
    "start_time": "2024-07-05T16:19:35.704Z"
   },
   {
    "duration": 11,
    "start_time": "2024-07-05T16:19:50.120Z"
   },
   {
    "duration": 11,
    "start_time": "2024-07-05T16:20:19.903Z"
   },
   {
    "duration": 16,
    "start_time": "2024-07-05T16:20:47.232Z"
   },
   {
    "duration": 15,
    "start_time": "2024-07-05T16:20:50.343Z"
   },
   {
    "duration": 21,
    "start_time": "2024-07-05T16:21:20.222Z"
   },
   {
    "duration": 10,
    "start_time": "2024-07-05T16:22:39.271Z"
   },
   {
    "duration": 14,
    "start_time": "2024-07-05T16:22:48.551Z"
   },
   {
    "duration": 6,
    "start_time": "2024-07-05T16:22:51.862Z"
   },
   {
    "duration": 19,
    "start_time": "2024-07-05T16:26:39.878Z"
   },
   {
    "duration": 16,
    "start_time": "2024-07-05T16:29:15.190Z"
   },
   {
    "duration": 16,
    "start_time": "2024-07-05T16:31:31.188Z"
   },
   {
    "duration": 14,
    "start_time": "2024-07-05T16:31:57.500Z"
   },
   {
    "duration": 14,
    "start_time": "2024-07-05T16:32:04.612Z"
   },
   {
    "duration": 20,
    "start_time": "2024-07-05T16:32:10.332Z"
   },
   {
    "duration": 20,
    "start_time": "2024-07-05T16:33:17.527Z"
   },
   {
    "duration": 99,
    "start_time": "2024-07-05T16:36:07.243Z"
   },
   {
    "duration": 20,
    "start_time": "2024-07-05T16:37:42.603Z"
   },
   {
    "duration": 17,
    "start_time": "2024-07-05T16:38:19.939Z"
   },
   {
    "duration": 15,
    "start_time": "2024-07-05T16:38:24.908Z"
   },
   {
    "duration": 26,
    "start_time": "2024-07-05T16:38:35.539Z"
   },
   {
    "duration": 20,
    "start_time": "2024-07-05T16:38:53.130Z"
   },
   {
    "duration": 24,
    "start_time": "2024-07-05T16:41:00.506Z"
   },
   {
    "duration": 19,
    "start_time": "2024-07-05T16:41:22.971Z"
   },
   {
    "duration": 16,
    "start_time": "2024-07-05T16:41:38.170Z"
   },
   {
    "duration": 15,
    "start_time": "2024-07-05T16:41:51.010Z"
   },
   {
    "duration": 14,
    "start_time": "2024-07-05T16:42:21.888Z"
   },
   {
    "duration": 882,
    "start_time": "2024-07-05T16:42:43.427Z"
   },
   {
    "duration": 68,
    "start_time": "2024-07-05T16:42:44.311Z"
   },
   {
    "duration": 15,
    "start_time": "2024-07-05T16:42:44.380Z"
   },
   {
    "duration": 10,
    "start_time": "2024-07-05T16:42:44.397Z"
   },
   {
    "duration": 9,
    "start_time": "2024-07-05T16:42:44.409Z"
   },
   {
    "duration": 11,
    "start_time": "2024-07-05T16:42:44.420Z"
   },
   {
    "duration": 7,
    "start_time": "2024-07-05T16:42:44.432Z"
   },
   {
    "duration": 10,
    "start_time": "2024-07-05T16:42:44.441Z"
   },
   {
    "duration": 42,
    "start_time": "2024-07-05T16:42:44.452Z"
   },
   {
    "duration": 11,
    "start_time": "2024-07-05T16:42:44.496Z"
   },
   {
    "duration": 5,
    "start_time": "2024-07-05T16:42:44.509Z"
   },
   {
    "duration": 9,
    "start_time": "2024-07-05T16:42:44.516Z"
   },
   {
    "duration": 7,
    "start_time": "2024-07-05T16:42:44.526Z"
   },
   {
    "duration": 5,
    "start_time": "2024-07-05T16:42:44.534Z"
   },
   {
    "duration": 10,
    "start_time": "2024-07-05T16:42:44.541Z"
   },
   {
    "duration": 43,
    "start_time": "2024-07-05T16:42:44.553Z"
   },
   {
    "duration": 8,
    "start_time": "2024-07-05T16:42:44.598Z"
   },
   {
    "duration": 9,
    "start_time": "2024-07-05T16:42:44.608Z"
   },
   {
    "duration": 14,
    "start_time": "2024-07-05T16:42:44.619Z"
   },
   {
    "duration": 553,
    "start_time": "2024-07-05T16:42:44.634Z"
   },
   {
    "duration": 15,
    "start_time": "2024-07-05T16:42:45.189Z"
   },
   {
    "duration": 182,
    "start_time": "2024-07-05T16:42:45.205Z"
   },
   {
    "duration": 16,
    "start_time": "2024-07-05T16:42:45.389Z"
   },
   {
    "duration": 303,
    "start_time": "2024-07-05T16:42:45.407Z"
   },
   {
    "duration": 14,
    "start_time": "2024-07-05T16:42:45.713Z"
   },
   {
    "duration": 158,
    "start_time": "2024-07-05T16:42:45.729Z"
   },
   {
    "duration": 9,
    "start_time": "2024-07-05T16:42:45.888Z"
   },
   {
    "duration": 285,
    "start_time": "2024-07-05T16:42:45.900Z"
   },
   {
    "duration": 12,
    "start_time": "2024-07-05T16:42:46.186Z"
   },
   {
    "duration": 272,
    "start_time": "2024-07-05T16:42:46.200Z"
   },
   {
    "duration": 19,
    "start_time": "2024-07-05T16:42:46.473Z"
   },
   {
    "duration": 28,
    "start_time": "2024-07-05T16:42:46.494Z"
   },
   {
    "duration": 18,
    "start_time": "2024-07-05T16:42:46.524Z"
   },
   {
    "duration": 15,
    "start_time": "2024-07-05T16:42:46.544Z"
   },
   {
    "duration": 272,
    "start_time": "2024-07-05T16:42:46.560Z"
   },
   {
    "duration": 320,
    "start_time": "2024-07-05T16:42:46.833Z"
   },
   {
    "duration": 278,
    "start_time": "2024-07-05T16:42:47.155Z"
   },
   {
    "duration": 281,
    "start_time": "2024-07-05T16:42:47.436Z"
   },
   {
    "duration": 14,
    "start_time": "2024-07-05T16:42:47.719Z"
   },
   {
    "duration": 13,
    "start_time": "2024-07-05T16:42:47.734Z"
   },
   {
    "duration": 26,
    "start_time": "2024-07-05T16:42:47.749Z"
   },
   {
    "duration": 15,
    "start_time": "2024-07-05T16:42:47.777Z"
   },
   {
    "duration": 5,
    "start_time": "2024-07-05T16:42:47.793Z"
   },
   {
    "duration": 33,
    "start_time": "2024-07-05T16:42:47.800Z"
   },
   {
    "duration": 13,
    "start_time": "2024-07-05T16:42:47.834Z"
   },
   {
    "duration": 23,
    "start_time": "2024-07-05T16:42:47.848Z"
   },
   {
    "duration": 8,
    "start_time": "2024-07-05T16:52:00.320Z"
   },
   {
    "duration": 7,
    "start_time": "2024-07-05T16:52:13.471Z"
   },
   {
    "duration": 999,
    "start_time": "2024-07-05T17:03:15.283Z"
   },
   {
    "duration": 70,
    "start_time": "2024-07-05T17:03:16.284Z"
   },
   {
    "duration": 17,
    "start_time": "2024-07-05T17:03:16.356Z"
   },
   {
    "duration": 12,
    "start_time": "2024-07-05T17:03:16.375Z"
   },
   {
    "duration": 14,
    "start_time": "2024-07-05T17:03:16.388Z"
   },
   {
    "duration": 17,
    "start_time": "2024-07-05T17:03:16.404Z"
   },
   {
    "duration": 9,
    "start_time": "2024-07-05T17:03:16.422Z"
   },
   {
    "duration": 18,
    "start_time": "2024-07-05T17:03:16.433Z"
   },
   {
    "duration": 16,
    "start_time": "2024-07-05T17:03:16.453Z"
   },
   {
    "duration": 26,
    "start_time": "2024-07-05T17:03:16.472Z"
   },
   {
    "duration": 6,
    "start_time": "2024-07-05T17:03:16.500Z"
   },
   {
    "duration": 8,
    "start_time": "2024-07-05T17:03:16.508Z"
   },
   {
    "duration": 9,
    "start_time": "2024-07-05T17:03:16.518Z"
   },
   {
    "duration": 10,
    "start_time": "2024-07-05T17:03:16.529Z"
   },
   {
    "duration": 11,
    "start_time": "2024-07-05T17:03:16.541Z"
   },
   {
    "duration": 19,
    "start_time": "2024-07-05T17:03:16.553Z"
   },
   {
    "duration": 6,
    "start_time": "2024-07-05T17:03:16.591Z"
   },
   {
    "duration": 14,
    "start_time": "2024-07-05T17:03:16.599Z"
   },
   {
    "duration": 14,
    "start_time": "2024-07-05T17:03:16.615Z"
   },
   {
    "duration": 576,
    "start_time": "2024-07-05T17:03:16.631Z"
   },
   {
    "duration": 19,
    "start_time": "2024-07-05T17:03:17.210Z"
   },
   {
    "duration": 174,
    "start_time": "2024-07-05T17:03:17.231Z"
   },
   {
    "duration": 14,
    "start_time": "2024-07-05T17:03:17.407Z"
   },
   {
    "duration": 283,
    "start_time": "2024-07-05T17:03:17.423Z"
   },
   {
    "duration": 12,
    "start_time": "2024-07-05T17:03:17.708Z"
   },
   {
    "duration": 166,
    "start_time": "2024-07-05T17:03:17.722Z"
   },
   {
    "duration": 8,
    "start_time": "2024-07-05T17:03:17.891Z"
   },
   {
    "duration": 305,
    "start_time": "2024-07-05T17:03:17.902Z"
   },
   {
    "duration": 8,
    "start_time": "2024-07-05T17:03:18.209Z"
   },
   {
    "duration": 330,
    "start_time": "2024-07-05T17:03:18.219Z"
   },
   {
    "duration": 15,
    "start_time": "2024-07-05T17:03:18.551Z"
   },
   {
    "duration": 44,
    "start_time": "2024-07-05T17:03:18.568Z"
   },
   {
    "duration": 20,
    "start_time": "2024-07-05T17:03:18.613Z"
   },
   {
    "duration": 16,
    "start_time": "2024-07-05T17:03:18.635Z"
   },
   {
    "duration": 312,
    "start_time": "2024-07-05T17:03:18.653Z"
   },
   {
    "duration": 341,
    "start_time": "2024-07-05T17:03:18.967Z"
   },
   {
    "duration": 273,
    "start_time": "2024-07-05T17:03:19.309Z"
   },
   {
    "duration": 294,
    "start_time": "2024-07-05T17:03:19.584Z"
   },
   {
    "duration": 23,
    "start_time": "2024-07-05T17:03:19.880Z"
   },
   {
    "duration": 13,
    "start_time": "2024-07-05T17:03:19.904Z"
   },
   {
    "duration": 23,
    "start_time": "2024-07-05T17:03:19.918Z"
   },
   {
    "duration": 28,
    "start_time": "2024-07-05T17:03:19.942Z"
   },
   {
    "duration": 8,
    "start_time": "2024-07-05T17:03:19.972Z"
   },
   {
    "duration": 31,
    "start_time": "2024-07-05T17:03:19.981Z"
   },
   {
    "duration": 22,
    "start_time": "2024-07-05T17:03:20.013Z"
   },
   {
    "duration": 19,
    "start_time": "2024-07-05T17:03:20.037Z"
   },
   {
    "duration": 24,
    "start_time": "2024-07-05T17:04:25.972Z"
   },
   {
    "duration": 1129,
    "start_time": "2024-07-05T17:05:10.916Z"
   },
   {
    "duration": 21,
    "start_time": "2024-07-05T17:05:24.037Z"
   },
   {
    "duration": 22,
    "start_time": "2024-07-05T17:07:01.460Z"
   },
   {
    "duration": 282,
    "start_time": "2024-07-05T17:10:47.852Z"
   },
   {
    "duration": 1709,
    "start_time": "2024-07-05T17:14:59.225Z"
   },
   {
    "duration": 281,
    "start_time": "2024-07-05T17:15:11.009Z"
   },
   {
    "duration": 1730,
    "start_time": "2024-07-05T17:15:13.833Z"
   },
   {
    "duration": 2021,
    "start_time": "2024-07-05T17:16:43.592Z"
   },
   {
    "duration": 2717,
    "start_time": "2024-07-05T17:17:04.883Z"
   },
   {
    "duration": 3057,
    "start_time": "2024-07-05T17:17:20.570Z"
   },
   {
    "duration": 2494,
    "start_time": "2024-07-05T17:17:42.649Z"
   },
   {
    "duration": 1659,
    "start_time": "2024-07-05T17:18:13.489Z"
   },
   {
    "duration": 2450,
    "start_time": "2024-07-05T17:18:30.817Z"
   },
   {
    "duration": 2560,
    "start_time": "2024-07-05T17:18:46.113Z"
   },
   {
    "duration": 2587,
    "start_time": "2024-07-05T17:21:50.240Z"
   },
   {
    "duration": 1968,
    "start_time": "2024-07-05T17:22:03.327Z"
   },
   {
    "duration": 6,
    "start_time": "2024-07-05T17:28:36.639Z"
   },
   {
    "duration": 6,
    "start_time": "2024-07-05T17:28:43.566Z"
   },
   {
    "duration": 8,
    "start_time": "2024-07-05T17:28:50.011Z"
   },
   {
    "duration": 5,
    "start_time": "2024-07-05T17:29:37.410Z"
   },
   {
    "duration": 6,
    "start_time": "2024-07-05T17:29:46.743Z"
   },
   {
    "duration": 6,
    "start_time": "2024-07-05T17:29:53.175Z"
   },
   {
    "duration": 6,
    "start_time": "2024-07-05T17:30:16.944Z"
   },
   {
    "duration": 6,
    "start_time": "2024-07-05T17:30:36.974Z"
   },
   {
    "duration": 6,
    "start_time": "2024-07-05T17:30:42.462Z"
   },
   {
    "duration": 6,
    "start_time": "2024-07-05T17:30:50.574Z"
   },
   {
    "duration": 5,
    "start_time": "2024-07-05T17:31:19.054Z"
   },
   {
    "duration": 5,
    "start_time": "2024-07-05T17:31:27.126Z"
   },
   {
    "duration": 7,
    "start_time": "2024-07-05T17:31:32.950Z"
   },
   {
    "duration": 6,
    "start_time": "2024-07-05T17:31:37.014Z"
   },
   {
    "duration": 6,
    "start_time": "2024-07-05T17:31:41.478Z"
   },
   {
    "duration": 6,
    "start_time": "2024-07-05T17:31:45.725Z"
   },
   {
    "duration": 6,
    "start_time": "2024-07-05T17:31:50.974Z"
   },
   {
    "duration": 5,
    "start_time": "2024-07-05T17:31:55.277Z"
   },
   {
    "duration": 5,
    "start_time": "2024-07-05T17:31:58.662Z"
   },
   {
    "duration": 7,
    "start_time": "2024-07-05T17:32:01.564Z"
   },
   {
    "duration": 10,
    "start_time": "2024-07-05T17:32:06.893Z"
   },
   {
    "duration": 6,
    "start_time": "2024-07-05T17:32:20.525Z"
   },
   {
    "duration": 5,
    "start_time": "2024-07-05T17:37:03.159Z"
   },
   {
    "duration": 1105,
    "start_time": "2024-07-05T17:38:42.110Z"
   },
   {
    "duration": 130,
    "start_time": "2024-07-05T17:38:43.217Z"
   },
   {
    "duration": 12,
    "start_time": "2024-07-05T17:38:43.348Z"
   },
   {
    "duration": 10,
    "start_time": "2024-07-05T17:38:43.362Z"
   },
   {
    "duration": 13,
    "start_time": "2024-07-05T17:38:43.374Z"
   },
   {
    "duration": 26,
    "start_time": "2024-07-05T17:38:43.389Z"
   },
   {
    "duration": 8,
    "start_time": "2024-07-05T17:38:43.416Z"
   },
   {
    "duration": 12,
    "start_time": "2024-07-05T17:38:43.425Z"
   },
   {
    "duration": 25,
    "start_time": "2024-07-05T17:38:43.439Z"
   },
   {
    "duration": 11,
    "start_time": "2024-07-05T17:38:43.466Z"
   },
   {
    "duration": 27,
    "start_time": "2024-07-05T17:38:43.479Z"
   },
   {
    "duration": 14,
    "start_time": "2024-07-05T17:38:43.508Z"
   },
   {
    "duration": 28,
    "start_time": "2024-07-05T17:38:43.524Z"
   },
   {
    "duration": 79,
    "start_time": "2024-07-05T17:38:43.554Z"
   },
   {
    "duration": 22,
    "start_time": "2024-07-05T17:38:43.635Z"
   },
   {
    "duration": 7,
    "start_time": "2024-07-05T17:38:43.659Z"
   },
   {
    "duration": 5,
    "start_time": "2024-07-05T17:38:43.668Z"
   },
   {
    "duration": 8,
    "start_time": "2024-07-05T17:38:43.675Z"
   },
   {
    "duration": 32,
    "start_time": "2024-07-05T17:38:43.685Z"
   },
   {
    "duration": 296,
    "start_time": "2024-07-05T17:38:43.719Z"
   },
   {
    "duration": 14,
    "start_time": "2024-07-05T17:38:44.016Z"
   },
   {
    "duration": 183,
    "start_time": "2024-07-05T17:38:44.032Z"
   },
   {
    "duration": 16,
    "start_time": "2024-07-05T17:38:44.217Z"
   },
   {
    "duration": 280,
    "start_time": "2024-07-05T17:38:44.234Z"
   },
   {
    "duration": 14,
    "start_time": "2024-07-05T17:38:44.516Z"
   },
   {
    "duration": 178,
    "start_time": "2024-07-05T17:38:44.531Z"
   },
   {
    "duration": 9,
    "start_time": "2024-07-05T17:38:44.711Z"
   },
   {
    "duration": 296,
    "start_time": "2024-07-05T17:38:44.724Z"
   },
   {
    "duration": 9,
    "start_time": "2024-07-05T17:38:45.022Z"
   },
   {
    "duration": 334,
    "start_time": "2024-07-05T17:38:45.033Z"
   },
   {
    "duration": 14,
    "start_time": "2024-07-05T17:38:45.369Z"
   },
   {
    "duration": 37,
    "start_time": "2024-07-05T17:38:45.391Z"
   },
   {
    "duration": 41,
    "start_time": "2024-07-05T17:38:45.430Z"
   },
   {
    "duration": 20,
    "start_time": "2024-07-05T17:38:45.473Z"
   },
   {
    "duration": 311,
    "start_time": "2024-07-05T17:38:45.495Z"
   },
   {
    "duration": 334,
    "start_time": "2024-07-05T17:38:45.808Z"
   },
   {
    "duration": 267,
    "start_time": "2024-07-05T17:38:46.144Z"
   },
   {
    "duration": 302,
    "start_time": "2024-07-05T17:38:46.412Z"
   },
   {
    "duration": 15,
    "start_time": "2024-07-05T17:38:46.716Z"
   },
   {
    "duration": 14,
    "start_time": "2024-07-05T17:38:46.733Z"
   },
   {
    "duration": 14,
    "start_time": "2024-07-05T17:38:46.749Z"
   },
   {
    "duration": 50,
    "start_time": "2024-07-05T17:38:46.765Z"
   },
   {
    "duration": 6,
    "start_time": "2024-07-05T17:38:46.817Z"
   },
   {
    "duration": 28,
    "start_time": "2024-07-05T17:38:46.824Z"
   },
   {
    "duration": 28,
    "start_time": "2024-07-05T17:38:46.854Z"
   },
   {
    "duration": 1795,
    "start_time": "2024-07-05T17:38:46.884Z"
   },
   {
    "duration": 6,
    "start_time": "2024-07-05T17:38:48.680Z"
   },
   {
    "duration": 1190,
    "start_time": "2024-07-05T17:39:23.680Z"
   },
   {
    "duration": 137,
    "start_time": "2024-07-05T17:39:24.872Z"
   },
   {
    "duration": 12,
    "start_time": "2024-07-05T17:39:25.011Z"
   },
   {
    "duration": 12,
    "start_time": "2024-07-05T17:39:25.025Z"
   },
   {
    "duration": 43,
    "start_time": "2024-07-05T17:39:25.038Z"
   },
   {
    "duration": 35,
    "start_time": "2024-07-05T17:39:25.083Z"
   },
   {
    "duration": 31,
    "start_time": "2024-07-05T17:39:25.120Z"
   },
   {
    "duration": 70,
    "start_time": "2024-07-05T17:39:25.152Z"
   },
   {
    "duration": 113,
    "start_time": "2024-07-05T17:39:25.224Z"
   },
   {
    "duration": 67,
    "start_time": "2024-07-05T17:39:25.339Z"
   },
   {
    "duration": 9,
    "start_time": "2024-07-05T17:39:25.408Z"
   },
   {
    "duration": 39,
    "start_time": "2024-07-05T17:39:25.419Z"
   },
   {
    "duration": 18,
    "start_time": "2024-07-05T17:39:25.460Z"
   },
   {
    "duration": 35,
    "start_time": "2024-07-05T17:39:25.480Z"
   },
   {
    "duration": 101,
    "start_time": "2024-07-05T17:39:25.517Z"
   },
   {
    "duration": 36,
    "start_time": "2024-07-05T17:39:25.619Z"
   },
   {
    "duration": 52,
    "start_time": "2024-07-05T17:39:25.656Z"
   },
   {
    "duration": 41,
    "start_time": "2024-07-05T17:39:25.710Z"
   },
   {
    "duration": 67,
    "start_time": "2024-07-05T17:39:25.753Z"
   },
   {
    "duration": 385,
    "start_time": "2024-07-05T17:39:25.822Z"
   },
   {
    "duration": 13,
    "start_time": "2024-07-05T17:39:26.209Z"
   },
   {
    "duration": 190,
    "start_time": "2024-07-05T17:39:26.224Z"
   },
   {
    "duration": 15,
    "start_time": "2024-07-05T17:39:26.416Z"
   },
   {
    "duration": 297,
    "start_time": "2024-07-05T17:39:26.433Z"
   },
   {
    "duration": 12,
    "start_time": "2024-07-05T17:39:26.732Z"
   },
   {
    "duration": 161,
    "start_time": "2024-07-05T17:39:26.746Z"
   },
   {
    "duration": 7,
    "start_time": "2024-07-05T17:39:26.910Z"
   },
   {
    "duration": 298,
    "start_time": "2024-07-05T17:39:26.920Z"
   },
   {
    "duration": 8,
    "start_time": "2024-07-05T17:39:27.220Z"
   },
   {
    "duration": 389,
    "start_time": "2024-07-05T17:39:27.230Z"
   },
   {
    "duration": 13,
    "start_time": "2024-07-05T17:39:27.621Z"
   },
   {
    "duration": 76,
    "start_time": "2024-07-05T17:39:27.636Z"
   },
   {
    "duration": 18,
    "start_time": "2024-07-05T17:39:27.714Z"
   },
   {
    "duration": 21,
    "start_time": "2024-07-05T17:39:27.734Z"
   },
   {
    "duration": 294,
    "start_time": "2024-07-05T17:39:27.757Z"
   },
   {
    "duration": 356,
    "start_time": "2024-07-05T17:39:28.053Z"
   },
   {
    "duration": 260,
    "start_time": "2024-07-05T17:39:28.411Z"
   },
   {
    "duration": 286,
    "start_time": "2024-07-05T17:39:28.673Z"
   },
   {
    "duration": 15,
    "start_time": "2024-07-05T17:39:28.961Z"
   },
   {
    "duration": 35,
    "start_time": "2024-07-05T17:39:28.977Z"
   },
   {
    "duration": 26,
    "start_time": "2024-07-05T17:39:29.014Z"
   },
   {
    "duration": 13,
    "start_time": "2024-07-05T17:39:29.042Z"
   },
   {
    "duration": 16,
    "start_time": "2024-07-05T17:39:29.056Z"
   },
   {
    "duration": 42,
    "start_time": "2024-07-05T17:39:29.074Z"
   },
   {
    "duration": 34,
    "start_time": "2024-07-05T17:39:29.118Z"
   },
   {
    "duration": 1761,
    "start_time": "2024-07-05T17:39:29.153Z"
   },
   {
    "duration": 9,
    "start_time": "2024-07-05T17:39:30.916Z"
   },
   {
    "duration": 1158,
    "start_time": "2024-07-05T17:40:51.315Z"
   },
   {
    "duration": 130,
    "start_time": "2024-07-05T17:40:52.475Z"
   },
   {
    "duration": 11,
    "start_time": "2024-07-05T17:40:52.607Z"
   },
   {
    "duration": 11,
    "start_time": "2024-07-05T17:40:52.620Z"
   },
   {
    "duration": 31,
    "start_time": "2024-07-05T17:40:52.632Z"
   },
   {
    "duration": 25,
    "start_time": "2024-07-05T17:40:52.665Z"
   },
   {
    "duration": 13,
    "start_time": "2024-07-05T17:40:52.691Z"
   },
   {
    "duration": 11,
    "start_time": "2024-07-05T17:40:52.706Z"
   },
   {
    "duration": 14,
    "start_time": "2024-07-05T17:40:52.719Z"
   },
   {
    "duration": 11,
    "start_time": "2024-07-05T17:40:52.736Z"
   },
   {
    "duration": 6,
    "start_time": "2024-07-05T17:40:52.748Z"
   },
   {
    "duration": 43,
    "start_time": "2024-07-05T17:40:52.756Z"
   },
   {
    "duration": 12,
    "start_time": "2024-07-05T17:40:52.800Z"
   },
   {
    "duration": 7,
    "start_time": "2024-07-05T17:40:52.814Z"
   },
   {
    "duration": 12,
    "start_time": "2024-07-05T17:40:52.822Z"
   },
   {
    "duration": 6,
    "start_time": "2024-07-05T17:40:52.836Z"
   },
   {
    "duration": 6,
    "start_time": "2024-07-05T17:40:52.844Z"
   },
   {
    "duration": 9,
    "start_time": "2024-07-05T17:40:52.852Z"
   },
   {
    "duration": 25,
    "start_time": "2024-07-05T17:40:52.894Z"
   },
   {
    "duration": 319,
    "start_time": "2024-07-05T17:40:52.922Z"
   },
   {
    "duration": 13,
    "start_time": "2024-07-05T17:40:53.244Z"
   },
   {
    "duration": 204,
    "start_time": "2024-07-05T17:40:53.259Z"
   },
   {
    "duration": 15,
    "start_time": "2024-07-05T17:40:53.465Z"
   },
   {
    "duration": 277,
    "start_time": "2024-07-05T17:40:53.482Z"
   },
   {
    "duration": 11,
    "start_time": "2024-07-05T17:40:53.761Z"
   },
   {
    "duration": 171,
    "start_time": "2024-07-05T17:40:53.774Z"
   },
   {
    "duration": 8,
    "start_time": "2024-07-05T17:40:53.947Z"
   },
   {
    "duration": 298,
    "start_time": "2024-07-05T17:40:53.960Z"
   },
   {
    "duration": 8,
    "start_time": "2024-07-05T17:40:54.260Z"
   },
   {
    "duration": 278,
    "start_time": "2024-07-05T17:40:54.269Z"
   },
   {
    "duration": 13,
    "start_time": "2024-07-05T17:40:54.549Z"
   },
   {
    "duration": 43,
    "start_time": "2024-07-05T17:40:54.564Z"
   },
   {
    "duration": 20,
    "start_time": "2024-07-05T17:40:54.609Z"
   },
   {
    "duration": 16,
    "start_time": "2024-07-05T17:40:54.631Z"
   },
   {
    "duration": 290,
    "start_time": "2024-07-05T17:40:54.649Z"
   },
   {
    "duration": 375,
    "start_time": "2024-07-05T17:40:54.940Z"
   },
   {
    "duration": 268,
    "start_time": "2024-07-05T17:40:55.317Z"
   },
   {
    "duration": 272,
    "start_time": "2024-07-05T17:40:55.598Z"
   },
   {
    "duration": 23,
    "start_time": "2024-07-05T17:40:55.872Z"
   },
   {
    "duration": 16,
    "start_time": "2024-07-05T17:40:55.915Z"
   },
   {
    "duration": 35,
    "start_time": "2024-07-05T17:40:55.933Z"
   },
   {
    "duration": 17,
    "start_time": "2024-07-05T17:40:55.970Z"
   },
   {
    "duration": 18,
    "start_time": "2024-07-05T17:40:55.989Z"
   },
   {
    "duration": 23,
    "start_time": "2024-07-05T17:40:56.010Z"
   },
   {
    "duration": 21,
    "start_time": "2024-07-05T17:40:56.035Z"
   },
   {
    "duration": 1756,
    "start_time": "2024-07-05T17:40:56.058Z"
   },
   {
    "duration": 5,
    "start_time": "2024-07-05T17:40:57.816Z"
   },
   {
    "duration": 1084,
    "start_time": "2024-07-05T17:41:41.987Z"
   },
   {
    "duration": 135,
    "start_time": "2024-07-05T17:41:43.072Z"
   },
   {
    "duration": 12,
    "start_time": "2024-07-05T17:41:43.209Z"
   },
   {
    "duration": 58,
    "start_time": "2024-07-05T17:41:43.223Z"
   },
   {
    "duration": 9,
    "start_time": "2024-07-05T17:41:43.283Z"
   },
   {
    "duration": 21,
    "start_time": "2024-07-05T17:41:43.294Z"
   },
   {
    "duration": 7,
    "start_time": "2024-07-05T17:41:43.316Z"
   },
   {
    "duration": 11,
    "start_time": "2024-07-05T17:41:43.325Z"
   },
   {
    "duration": 15,
    "start_time": "2024-07-05T17:41:43.338Z"
   },
   {
    "duration": 11,
    "start_time": "2024-07-05T17:41:43.357Z"
   },
   {
    "duration": 39,
    "start_time": "2024-07-05T17:41:43.369Z"
   },
   {
    "duration": 7,
    "start_time": "2024-07-05T17:41:43.410Z"
   },
   {
    "duration": 12,
    "start_time": "2024-07-05T17:41:43.418Z"
   },
   {
    "duration": 9,
    "start_time": "2024-07-05T17:41:43.431Z"
   },
   {
    "duration": 14,
    "start_time": "2024-07-05T17:41:43.441Z"
   },
   {
    "duration": 8,
    "start_time": "2024-07-05T17:41:43.457Z"
   },
   {
    "duration": 36,
    "start_time": "2024-07-05T17:41:43.467Z"
   },
   {
    "duration": 12,
    "start_time": "2024-07-05T17:41:43.505Z"
   },
   {
    "duration": 14,
    "start_time": "2024-07-05T17:41:43.519Z"
   },
   {
    "duration": 330,
    "start_time": "2024-07-05T17:41:43.534Z"
   },
   {
    "duration": 13,
    "start_time": "2024-07-05T17:41:43.867Z"
   },
   {
    "duration": 165,
    "start_time": "2024-07-05T17:41:43.882Z"
   },
   {
    "duration": 15,
    "start_time": "2024-07-05T17:41:44.049Z"
   },
   {
    "duration": 289,
    "start_time": "2024-07-05T17:41:44.066Z"
   },
   {
    "duration": 13,
    "start_time": "2024-07-05T17:41:44.357Z"
   },
   {
    "duration": 179,
    "start_time": "2024-07-05T17:41:44.372Z"
   },
   {
    "duration": 8,
    "start_time": "2024-07-05T17:41:44.553Z"
   },
   {
    "duration": 274,
    "start_time": "2024-07-05T17:41:44.564Z"
   },
   {
    "duration": 8,
    "start_time": "2024-07-05T17:41:44.840Z"
   },
   {
    "duration": 299,
    "start_time": "2024-07-05T17:41:44.850Z"
   },
   {
    "duration": 13,
    "start_time": "2024-07-05T17:41:45.151Z"
   },
   {
    "duration": 166,
    "start_time": "2024-07-05T17:41:45.166Z"
   },
   {
    "duration": 30,
    "start_time": "2024-07-05T17:41:45.334Z"
   },
   {
    "duration": 18,
    "start_time": "2024-07-05T17:41:45.365Z"
   },
   {
    "duration": 328,
    "start_time": "2024-07-05T17:41:45.384Z"
   },
   {
    "duration": 339,
    "start_time": "2024-07-05T17:41:45.713Z"
   },
   {
    "duration": 257,
    "start_time": "2024-07-05T17:41:46.054Z"
   },
   {
    "duration": 276,
    "start_time": "2024-07-05T17:41:46.313Z"
   },
   {
    "duration": 19,
    "start_time": "2024-07-05T17:41:46.592Z"
   },
   {
    "duration": 16,
    "start_time": "2024-07-05T17:41:46.612Z"
   },
   {
    "duration": 41,
    "start_time": "2024-07-05T17:41:46.630Z"
   },
   {
    "duration": 15,
    "start_time": "2024-07-05T17:41:46.673Z"
   },
   {
    "duration": 22,
    "start_time": "2024-07-05T17:41:46.689Z"
   },
   {
    "duration": 29,
    "start_time": "2024-07-05T17:41:46.713Z"
   },
   {
    "duration": 29,
    "start_time": "2024-07-05T17:41:46.743Z"
   },
   {
    "duration": 1779,
    "start_time": "2024-07-05T17:41:46.774Z"
   },
   {
    "duration": 6,
    "start_time": "2024-07-05T17:41:48.555Z"
   },
   {
    "duration": 9,
    "start_time": "2024-07-05T17:41:48.563Z"
   },
   {
    "duration": 1764,
    "start_time": "2024-07-05T17:41:57.208Z"
   },
   {
    "duration": 18654,
    "start_time": "2024-07-05T17:42:13.379Z"
   },
   {
    "duration": 6,
    "start_time": "2024-07-05T17:44:20.132Z"
   },
   {
    "duration": 6,
    "start_time": "2024-07-05T17:44:30.364Z"
   },
   {
    "duration": 5,
    "start_time": "2024-07-05T17:46:03.732Z"
   },
   {
    "duration": 6,
    "start_time": "2024-07-05T17:46:36.340Z"
   },
   {
    "duration": 21,
    "start_time": "2024-07-05T17:51:13.939Z"
   },
   {
    "duration": 8,
    "start_time": "2024-07-05T17:55:01.236Z"
   },
   {
    "duration": 1074,
    "start_time": "2024-07-05T20:35:03.993Z"
   },
   {
    "duration": 131,
    "start_time": "2024-07-05T20:35:05.070Z"
   },
   {
    "duration": 12,
    "start_time": "2024-07-05T20:35:05.203Z"
   },
   {
    "duration": 32,
    "start_time": "2024-07-05T20:35:05.217Z"
   },
   {
    "duration": 16,
    "start_time": "2024-07-05T20:35:05.251Z"
   },
   {
    "duration": 18,
    "start_time": "2024-07-05T20:35:05.270Z"
   },
   {
    "duration": 7,
    "start_time": "2024-07-05T20:35:05.290Z"
   },
   {
    "duration": 24,
    "start_time": "2024-07-05T20:35:05.299Z"
   },
   {
    "duration": 15,
    "start_time": "2024-07-05T20:35:05.325Z"
   },
   {
    "duration": 12,
    "start_time": "2024-07-05T20:35:05.343Z"
   },
   {
    "duration": 6,
    "start_time": "2024-07-05T20:35:05.356Z"
   },
   {
    "duration": 22,
    "start_time": "2024-07-05T20:35:05.364Z"
   },
   {
    "duration": 23,
    "start_time": "2024-07-05T20:35:05.388Z"
   },
   {
    "duration": 6,
    "start_time": "2024-07-05T20:35:05.413Z"
   },
   {
    "duration": 11,
    "start_time": "2024-07-05T20:35:05.420Z"
   },
   {
    "duration": 6,
    "start_time": "2024-07-05T20:35:05.433Z"
   },
   {
    "duration": 5,
    "start_time": "2024-07-05T20:35:05.440Z"
   },
   {
    "duration": 36,
    "start_time": "2024-07-05T20:35:05.446Z"
   },
   {
    "duration": 13,
    "start_time": "2024-07-05T20:35:05.484Z"
   },
   {
    "duration": 278,
    "start_time": "2024-07-05T20:35:05.499Z"
   },
   {
    "duration": 15,
    "start_time": "2024-07-05T20:35:05.779Z"
   },
   {
    "duration": 176,
    "start_time": "2024-07-05T20:35:05.795Z"
   },
   {
    "duration": 17,
    "start_time": "2024-07-05T20:35:05.973Z"
   },
   {
    "duration": 285,
    "start_time": "2024-07-05T20:35:05.992Z"
   },
   {
    "duration": 13,
    "start_time": "2024-07-05T20:35:06.278Z"
   },
   {
    "duration": 161,
    "start_time": "2024-07-05T20:35:06.293Z"
   },
   {
    "duration": 7,
    "start_time": "2024-07-05T20:35:06.456Z"
   },
   {
    "duration": 276,
    "start_time": "2024-07-05T20:35:06.467Z"
   },
   {
    "duration": 8,
    "start_time": "2024-07-05T20:35:06.744Z"
   },
   {
    "duration": 292,
    "start_time": "2024-07-05T20:35:06.753Z"
   },
   {
    "duration": 12,
    "start_time": "2024-07-05T20:35:07.047Z"
   },
   {
    "duration": 35,
    "start_time": "2024-07-05T20:35:07.060Z"
   },
   {
    "duration": 17,
    "start_time": "2024-07-05T20:35:07.097Z"
   },
   {
    "duration": 14,
    "start_time": "2024-07-05T20:35:07.116Z"
   },
   {
    "duration": 262,
    "start_time": "2024-07-05T20:35:07.132Z"
   },
   {
    "duration": 318,
    "start_time": "2024-07-05T20:35:07.396Z"
   },
   {
    "duration": 248,
    "start_time": "2024-07-05T20:35:07.715Z"
   },
   {
    "duration": 278,
    "start_time": "2024-07-05T20:35:07.964Z"
   },
   {
    "duration": 14,
    "start_time": "2024-07-05T20:35:08.243Z"
   },
   {
    "duration": 24,
    "start_time": "2024-07-05T20:35:08.259Z"
   },
   {
    "duration": 14,
    "start_time": "2024-07-05T20:35:08.285Z"
   },
   {
    "duration": 6,
    "start_time": "2024-07-05T20:35:08.300Z"
   },
   {
    "duration": 7,
    "start_time": "2024-07-05T20:35:08.308Z"
   },
   {
    "duration": 20,
    "start_time": "2024-07-05T20:35:08.317Z"
   },
   {
    "duration": 54,
    "start_time": "2024-07-05T20:35:08.339Z"
   },
   {
    "duration": 14,
    "start_time": "2024-07-05T20:35:08.395Z"
   },
   {
    "duration": 1723,
    "start_time": "2024-07-05T20:35:08.411Z"
   },
   {
    "duration": 6,
    "start_time": "2024-07-05T20:35:10.135Z"
   },
   {
    "duration": 713846,
    "start_time": "2024-07-05T20:35:10.142Z"
   },
   {
    "duration": 0,
    "start_time": "2024-07-05T20:47:03.990Z"
   },
   {
    "duration": 0,
    "start_time": "2024-07-05T20:47:03.991Z"
   },
   {
    "duration": 0,
    "start_time": "2024-07-05T20:47:03.992Z"
   },
   {
    "duration": 0,
    "start_time": "2024-07-05T20:47:03.993Z"
   },
   {
    "duration": 26,
    "start_time": "2024-07-05T20:47:13.676Z"
   },
   {
    "duration": 33,
    "start_time": "2024-07-05T20:47:17.661Z"
   },
   {
    "duration": 19,
    "start_time": "2024-07-05T20:49:38.786Z"
   },
   {
    "duration": 6,
    "start_time": "2024-07-05T20:54:42.926Z"
   },
   {
    "duration": 117,
    "start_time": "2024-07-05T20:59:56.016Z"
   },
   {
    "duration": 5,
    "start_time": "2024-07-05T21:00:40.624Z"
   },
   {
    "duration": 1089,
    "start_time": "2024-07-05T21:02:16.049Z"
   },
   {
    "duration": 122,
    "start_time": "2024-07-05T21:02:17.140Z"
   },
   {
    "duration": 14,
    "start_time": "2024-07-05T21:02:17.264Z"
   },
   {
    "duration": 21,
    "start_time": "2024-07-05T21:02:17.280Z"
   },
   {
    "duration": 9,
    "start_time": "2024-07-05T21:02:17.303Z"
   },
   {
    "duration": 12,
    "start_time": "2024-07-05T21:02:17.314Z"
   },
   {
    "duration": 7,
    "start_time": "2024-07-05T21:02:17.328Z"
   },
   {
    "duration": 10,
    "start_time": "2024-07-05T21:02:17.337Z"
   },
   {
    "duration": 41,
    "start_time": "2024-07-05T21:02:17.349Z"
   },
   {
    "duration": 12,
    "start_time": "2024-07-05T21:02:17.392Z"
   },
   {
    "duration": 6,
    "start_time": "2024-07-05T21:02:17.405Z"
   },
   {
    "duration": 19,
    "start_time": "2024-07-05T21:02:17.413Z"
   },
   {
    "duration": 23,
    "start_time": "2024-07-05T21:02:17.434Z"
   },
   {
    "duration": 13,
    "start_time": "2024-07-05T21:02:17.460Z"
   },
   {
    "duration": 41,
    "start_time": "2024-07-05T21:02:17.481Z"
   },
   {
    "duration": 15,
    "start_time": "2024-07-05T21:02:17.524Z"
   },
   {
    "duration": 6,
    "start_time": "2024-07-05T21:02:17.541Z"
   },
   {
    "duration": 15,
    "start_time": "2024-07-05T21:02:17.549Z"
   },
   {
    "duration": 19,
    "start_time": "2024-07-05T21:02:17.566Z"
   },
   {
    "duration": 284,
    "start_time": "2024-07-05T21:02:17.586Z"
   },
   {
    "duration": 18,
    "start_time": "2024-07-05T21:02:17.871Z"
   },
   {
    "duration": 171,
    "start_time": "2024-07-05T21:02:17.891Z"
   },
   {
    "duration": 24,
    "start_time": "2024-07-05T21:02:18.064Z"
   },
   {
    "duration": 254,
    "start_time": "2024-07-05T21:02:18.089Z"
   },
   {
    "duration": 11,
    "start_time": "2024-07-05T21:02:18.345Z"
   },
   {
    "duration": 151,
    "start_time": "2024-07-05T21:02:18.358Z"
   },
   {
    "duration": 8,
    "start_time": "2024-07-05T21:02:18.510Z"
   },
   {
    "duration": 264,
    "start_time": "2024-07-05T21:02:18.519Z"
   },
   {
    "duration": 7,
    "start_time": "2024-07-05T21:02:18.785Z"
   },
   {
    "duration": 261,
    "start_time": "2024-07-05T21:02:18.793Z"
   },
   {
    "duration": 12,
    "start_time": "2024-07-05T21:02:19.056Z"
   },
   {
    "duration": 36,
    "start_time": "2024-07-05T21:02:19.070Z"
   },
   {
    "duration": 17,
    "start_time": "2024-07-05T21:02:19.108Z"
   },
   {
    "duration": 14,
    "start_time": "2024-07-05T21:02:19.127Z"
   },
   {
    "duration": 293,
    "start_time": "2024-07-05T21:02:19.143Z"
   },
   {
    "duration": 324,
    "start_time": "2024-07-05T21:02:19.438Z"
   },
   {
    "duration": 270,
    "start_time": "2024-07-05T21:02:19.763Z"
   },
   {
    "duration": 268,
    "start_time": "2024-07-05T21:02:20.035Z"
   },
   {
    "duration": 14,
    "start_time": "2024-07-05T21:02:20.305Z"
   },
   {
    "duration": 13,
    "start_time": "2024-07-05T21:02:20.321Z"
   },
   {
    "duration": 13,
    "start_time": "2024-07-05T21:02:20.339Z"
   },
   {
    "duration": 29,
    "start_time": "2024-07-05T21:02:20.354Z"
   },
   {
    "duration": 5,
    "start_time": "2024-07-05T21:02:20.385Z"
   },
   {
    "duration": 20,
    "start_time": "2024-07-05T21:02:20.392Z"
   },
   {
    "duration": 18,
    "start_time": "2024-07-05T21:02:20.414Z"
   },
   {
    "duration": 6,
    "start_time": "2024-07-05T21:02:20.434Z"
   },
   {
    "duration": 1717,
    "start_time": "2024-07-05T21:02:20.441Z"
   },
   {
    "duration": 6,
    "start_time": "2024-07-05T21:02:22.160Z"
   },
   {
    "duration": 48,
    "start_time": "2024-07-06T05:38:49.286Z"
   },
   {
    "duration": 1254,
    "start_time": "2024-07-06T05:39:02.799Z"
   },
   {
    "duration": 374,
    "start_time": "2024-07-06T05:39:04.058Z"
   },
   {
    "duration": 12,
    "start_time": "2024-07-06T05:39:04.434Z"
   },
   {
    "duration": 63,
    "start_time": "2024-07-06T05:39:04.448Z"
   },
   {
    "duration": 14,
    "start_time": "2024-07-06T05:39:04.513Z"
   },
   {
    "duration": 17,
    "start_time": "2024-07-06T05:39:04.528Z"
   },
   {
    "duration": 9,
    "start_time": "2024-07-06T05:39:04.546Z"
   },
   {
    "duration": 18,
    "start_time": "2024-07-06T05:39:04.556Z"
   },
   {
    "duration": 38,
    "start_time": "2024-07-06T05:39:04.577Z"
   },
   {
    "duration": 13,
    "start_time": "2024-07-06T05:39:04.616Z"
   },
   {
    "duration": 15,
    "start_time": "2024-07-06T05:39:04.631Z"
   },
   {
    "duration": 21,
    "start_time": "2024-07-06T05:39:04.648Z"
   },
   {
    "duration": 24,
    "start_time": "2024-07-06T05:39:04.671Z"
   },
   {
    "duration": 20,
    "start_time": "2024-07-06T05:39:04.697Z"
   },
   {
    "duration": 28,
    "start_time": "2024-07-06T05:39:04.719Z"
   },
   {
    "duration": 8,
    "start_time": "2024-07-06T05:39:04.749Z"
   },
   {
    "duration": 10,
    "start_time": "2024-07-06T05:39:04.759Z"
   },
   {
    "duration": 26,
    "start_time": "2024-07-06T05:39:04.771Z"
   },
   {
    "duration": 91,
    "start_time": "2024-07-06T05:39:04.799Z"
   },
   {
    "duration": 280,
    "start_time": "2024-07-06T05:39:04.891Z"
   },
   {
    "duration": 17,
    "start_time": "2024-07-06T05:39:05.173Z"
   },
   {
    "duration": 217,
    "start_time": "2024-07-06T05:39:05.192Z"
   },
   {
    "duration": 20,
    "start_time": "2024-07-06T05:39:05.411Z"
   },
   {
    "duration": 289,
    "start_time": "2024-07-06T05:39:05.433Z"
   },
   {
    "duration": 12,
    "start_time": "2024-07-06T05:39:05.724Z"
   },
   {
    "duration": 147,
    "start_time": "2024-07-06T05:39:05.738Z"
   },
   {
    "duration": 7,
    "start_time": "2024-07-06T05:39:05.889Z"
   },
   {
    "duration": 274,
    "start_time": "2024-07-06T05:39:05.897Z"
   },
   {
    "duration": 9,
    "start_time": "2024-07-06T05:39:06.172Z"
   },
   {
    "duration": 253,
    "start_time": "2024-07-06T05:39:06.183Z"
   },
   {
    "duration": 19,
    "start_time": "2024-07-06T05:39:06.437Z"
   },
   {
    "duration": 65,
    "start_time": "2024-07-06T05:39:06.458Z"
   },
   {
    "duration": 16,
    "start_time": "2024-07-06T05:39:06.524Z"
   },
   {
    "duration": 14,
    "start_time": "2024-07-06T05:39:06.542Z"
   },
   {
    "duration": 252,
    "start_time": "2024-07-06T05:39:06.557Z"
   },
   {
    "duration": 316,
    "start_time": "2024-07-06T05:39:06.811Z"
   },
   {
    "duration": 276,
    "start_time": "2024-07-06T05:39:07.129Z"
   },
   {
    "duration": 264,
    "start_time": "2024-07-06T05:39:07.407Z"
   },
   {
    "duration": 1015,
    "start_time": "2024-07-06T05:39:07.672Z"
   },
   {
    "duration": 0,
    "start_time": "2024-07-06T05:39:08.688Z"
   },
   {
    "duration": 0,
    "start_time": "2024-07-06T05:39:08.689Z"
   },
   {
    "duration": 0,
    "start_time": "2024-07-06T05:39:08.691Z"
   },
   {
    "duration": 0,
    "start_time": "2024-07-06T05:39:08.692Z"
   },
   {
    "duration": 0,
    "start_time": "2024-07-06T05:39:08.694Z"
   },
   {
    "duration": 0,
    "start_time": "2024-07-06T05:39:08.695Z"
   },
   {
    "duration": 0,
    "start_time": "2024-07-06T05:39:08.696Z"
   },
   {
    "duration": 0,
    "start_time": "2024-07-06T05:39:08.698Z"
   },
   {
    "duration": 0,
    "start_time": "2024-07-06T05:39:08.699Z"
   },
   {
    "duration": 0,
    "start_time": "2024-07-06T05:39:08.700Z"
   },
   {
    "duration": 0,
    "start_time": "2024-07-06T05:39:08.702Z"
   },
   {
    "duration": 0,
    "start_time": "2024-07-06T05:39:08.703Z"
   },
   {
    "duration": 0,
    "start_time": "2024-07-06T05:39:08.705Z"
   },
   {
    "duration": 14,
    "start_time": "2024-07-06T05:39:32.895Z"
   },
   {
    "duration": 1107,
    "start_time": "2024-07-06T05:39:42.213Z"
   },
   {
    "duration": 114,
    "start_time": "2024-07-06T05:39:43.321Z"
   },
   {
    "duration": 13,
    "start_time": "2024-07-06T05:39:43.437Z"
   },
   {
    "duration": 13,
    "start_time": "2024-07-06T05:39:43.452Z"
   },
   {
    "duration": 14,
    "start_time": "2024-07-06T05:39:43.467Z"
   },
   {
    "duration": 11,
    "start_time": "2024-07-06T05:39:43.483Z"
   },
   {
    "duration": 9,
    "start_time": "2024-07-06T05:39:43.495Z"
   },
   {
    "duration": 12,
    "start_time": "2024-07-06T05:39:43.506Z"
   },
   {
    "duration": 17,
    "start_time": "2024-07-06T05:39:43.519Z"
   },
   {
    "duration": 10,
    "start_time": "2024-07-06T05:39:43.556Z"
   },
   {
    "duration": 5,
    "start_time": "2024-07-06T05:39:43.567Z"
   },
   {
    "duration": 7,
    "start_time": "2024-07-06T05:39:43.573Z"
   },
   {
    "duration": 17,
    "start_time": "2024-07-06T05:39:43.582Z"
   },
   {
    "duration": 6,
    "start_time": "2024-07-06T05:39:43.601Z"
   },
   {
    "duration": 13,
    "start_time": "2024-07-06T05:39:43.609Z"
   },
   {
    "duration": 6,
    "start_time": "2024-07-06T05:39:43.623Z"
   },
   {
    "duration": 28,
    "start_time": "2024-07-06T05:39:43.631Z"
   },
   {
    "duration": 12,
    "start_time": "2024-07-06T05:39:43.661Z"
   },
   {
    "duration": 13,
    "start_time": "2024-07-06T05:39:43.675Z"
   },
   {
    "duration": 308,
    "start_time": "2024-07-06T05:39:43.689Z"
   },
   {
    "duration": 12,
    "start_time": "2024-07-06T05:39:43.999Z"
   },
   {
    "duration": 158,
    "start_time": "2024-07-06T05:39:44.013Z"
   },
   {
    "duration": 14,
    "start_time": "2024-07-06T05:39:44.172Z"
   },
   {
    "duration": 251,
    "start_time": "2024-07-06T05:39:44.187Z"
   },
   {
    "duration": 20,
    "start_time": "2024-07-06T05:39:44.440Z"
   },
   {
    "duration": 141,
    "start_time": "2024-07-06T05:39:44.461Z"
   },
   {
    "duration": 8,
    "start_time": "2024-07-06T05:39:44.604Z"
   },
   {
    "duration": 248,
    "start_time": "2024-07-06T05:39:44.615Z"
   },
   {
    "duration": 6,
    "start_time": "2024-07-06T05:39:44.865Z"
   },
   {
    "duration": 244,
    "start_time": "2024-07-06T05:39:44.873Z"
   },
   {
    "duration": 11,
    "start_time": "2024-07-06T05:39:45.119Z"
   },
   {
    "duration": 38,
    "start_time": "2024-07-06T05:39:45.132Z"
   },
   {
    "duration": 16,
    "start_time": "2024-07-06T05:39:45.172Z"
   },
   {
    "duration": 103,
    "start_time": "2024-07-06T05:39:45.189Z"
   },
   {
    "duration": 262,
    "start_time": "2024-07-06T05:39:45.294Z"
   },
   {
    "duration": 327,
    "start_time": "2024-07-06T05:39:45.558Z"
   },
   {
    "duration": 257,
    "start_time": "2024-07-06T05:39:45.886Z"
   },
   {
    "duration": 251,
    "start_time": "2024-07-06T05:39:46.145Z"
   },
   {
    "duration": 15,
    "start_time": "2024-07-06T05:39:46.398Z"
   },
   {
    "duration": 12,
    "start_time": "2024-07-06T05:39:46.415Z"
   },
   {
    "duration": 30,
    "start_time": "2024-07-06T05:39:46.429Z"
   },
   {
    "duration": 38,
    "start_time": "2024-07-06T05:39:46.460Z"
   },
   {
    "duration": 8,
    "start_time": "2024-07-06T05:39:46.500Z"
   },
   {
    "duration": 19,
    "start_time": "2024-07-06T05:39:46.509Z"
   },
   {
    "duration": 17,
    "start_time": "2024-07-06T05:39:46.530Z"
   },
   {
    "duration": 5,
    "start_time": "2024-07-06T05:39:46.548Z"
   },
   {
    "duration": 1547,
    "start_time": "2024-07-06T05:39:46.555Z"
   },
   {
    "duration": 5,
    "start_time": "2024-07-06T05:39:48.103Z"
   },
   {
    "duration": 1317,
    "start_time": "2024-07-06T11:46:10.523Z"
   },
   {
    "duration": 4,
    "start_time": "2024-07-06T11:46:20.770Z"
   },
   {
    "duration": 109,
    "start_time": "2024-07-06T12:08:49.212Z"
   },
   {
    "duration": 9,
    "start_time": "2024-07-06T12:14:48.600Z"
   },
   {
    "duration": 10,
    "start_time": "2024-07-06T12:14:53.671Z"
   },
   {
    "duration": 1090,
    "start_time": "2024-07-06T12:14:58.131Z"
   },
   {
    "duration": 365,
    "start_time": "2024-07-06T12:14:59.224Z"
   },
   {
    "duration": 12,
    "start_time": "2024-07-06T12:14:59.591Z"
   },
   {
    "duration": 11,
    "start_time": "2024-07-06T12:14:59.604Z"
   },
   {
    "duration": 10,
    "start_time": "2024-07-06T12:14:59.617Z"
   },
   {
    "duration": 15,
    "start_time": "2024-07-06T12:14:59.629Z"
   },
   {
    "duration": 24,
    "start_time": "2024-07-06T12:14:59.647Z"
   },
   {
    "duration": 14,
    "start_time": "2024-07-06T12:14:59.692Z"
   },
   {
    "duration": 19,
    "start_time": "2024-07-06T12:14:59.708Z"
   },
   {
    "duration": 12,
    "start_time": "2024-07-06T12:14:59.728Z"
   },
   {
    "duration": 12,
    "start_time": "2024-07-06T12:14:59.742Z"
   },
   {
    "duration": 39,
    "start_time": "2024-07-06T12:14:59.756Z"
   },
   {
    "duration": 10,
    "start_time": "2024-07-06T12:14:59.797Z"
   },
   {
    "duration": 7,
    "start_time": "2024-07-06T12:14:59.810Z"
   },
   {
    "duration": 8,
    "start_time": "2024-07-06T12:14:59.818Z"
   },
   {
    "duration": 12,
    "start_time": "2024-07-06T12:14:59.828Z"
   },
   {
    "duration": 7,
    "start_time": "2024-07-06T12:14:59.841Z"
   },
   {
    "duration": 43,
    "start_time": "2024-07-06T12:14:59.850Z"
   },
   {
    "duration": 12,
    "start_time": "2024-07-06T12:14:59.894Z"
   },
   {
    "duration": 19,
    "start_time": "2024-07-06T12:14:59.908Z"
   },
   {
    "duration": 334,
    "start_time": "2024-07-06T12:14:59.929Z"
   },
   {
    "duration": 14,
    "start_time": "2024-07-06T12:15:00.265Z"
   },
   {
    "duration": 184,
    "start_time": "2024-07-06T12:15:00.282Z"
   },
   {
    "duration": 24,
    "start_time": "2024-07-06T12:15:00.469Z"
   },
   {
    "duration": 373,
    "start_time": "2024-07-06T12:15:00.496Z"
   },
   {
    "duration": 23,
    "start_time": "2024-07-06T12:15:00.871Z"
   },
   {
    "duration": 270,
    "start_time": "2024-07-06T12:15:00.896Z"
   },
   {
    "duration": 9,
    "start_time": "2024-07-06T12:15:01.168Z"
   },
   {
    "duration": 386,
    "start_time": "2024-07-06T12:15:01.179Z"
   },
   {
    "duration": 9,
    "start_time": "2024-07-06T12:15:01.567Z"
   },
   {
    "duration": 338,
    "start_time": "2024-07-06T12:15:01.591Z"
   },
   {
    "duration": 14,
    "start_time": "2024-07-06T12:15:01.932Z"
   },
   {
    "duration": 149,
    "start_time": "2024-07-06T12:15:01.947Z"
   },
   {
    "duration": 37,
    "start_time": "2024-07-06T12:15:02.099Z"
   },
   {
    "duration": 46,
    "start_time": "2024-07-06T12:15:02.138Z"
   },
   {
    "duration": 398,
    "start_time": "2024-07-06T12:15:02.186Z"
   },
   {
    "duration": 368,
    "start_time": "2024-07-06T12:15:02.586Z"
   },
   {
    "duration": 272,
    "start_time": "2024-07-06T12:15:02.956Z"
   },
   {
    "duration": 311,
    "start_time": "2024-07-06T12:15:03.230Z"
   },
   {
    "duration": 17,
    "start_time": "2024-07-06T12:15:03.543Z"
   },
   {
    "duration": 40,
    "start_time": "2024-07-06T12:15:03.566Z"
   },
   {
    "duration": 22,
    "start_time": "2024-07-06T12:15:03.608Z"
   },
   {
    "duration": 8,
    "start_time": "2024-07-06T12:15:03.632Z"
   },
   {
    "duration": 33,
    "start_time": "2024-07-06T12:15:03.642Z"
   },
   {
    "duration": 30,
    "start_time": "2024-07-06T12:15:03.677Z"
   },
   {
    "duration": 21,
    "start_time": "2024-07-06T12:15:03.708Z"
   },
   {
    "duration": 7,
    "start_time": "2024-07-06T12:15:03.731Z"
   },
   {
    "duration": 1949,
    "start_time": "2024-07-06T12:15:03.740Z"
   },
   {
    "duration": 6,
    "start_time": "2024-07-06T12:15:05.691Z"
   },
   {
    "duration": 1247,
    "start_time": "2024-07-06T12:16:10.257Z"
   },
   {
    "duration": 128,
    "start_time": "2024-07-06T12:16:11.506Z"
   },
   {
    "duration": 14,
    "start_time": "2024-07-06T12:16:11.636Z"
   },
   {
    "duration": 22,
    "start_time": "2024-07-06T12:16:11.652Z"
   },
   {
    "duration": 18,
    "start_time": "2024-07-06T12:16:11.676Z"
   },
   {
    "duration": 14,
    "start_time": "2024-07-06T12:16:11.696Z"
   },
   {
    "duration": 21,
    "start_time": "2024-07-06T12:16:11.712Z"
   },
   {
    "duration": 12,
    "start_time": "2024-07-06T12:16:11.735Z"
   },
   {
    "duration": 44,
    "start_time": "2024-07-06T12:16:11.749Z"
   },
   {
    "duration": 15,
    "start_time": "2024-07-06T12:16:11.795Z"
   },
   {
    "duration": 17,
    "start_time": "2024-07-06T12:16:11.812Z"
   },
   {
    "duration": 6,
    "start_time": "2024-07-06T12:16:11.831Z"
   },
   {
    "duration": 18,
    "start_time": "2024-07-06T12:16:11.839Z"
   },
   {
    "duration": 37,
    "start_time": "2024-07-06T12:16:11.860Z"
   },
   {
    "duration": 14,
    "start_time": "2024-07-06T12:16:11.898Z"
   },
   {
    "duration": 8,
    "start_time": "2024-07-06T12:16:11.914Z"
   },
   {
    "duration": 17,
    "start_time": "2024-07-06T12:16:11.924Z"
   },
   {
    "duration": 12,
    "start_time": "2024-07-06T12:16:11.943Z"
   },
   {
    "duration": 37,
    "start_time": "2024-07-06T12:16:11.958Z"
   },
   {
    "duration": 49,
    "start_time": "2024-07-06T12:16:11.997Z"
   },
   {
    "duration": 44,
    "start_time": "2024-07-06T12:16:12.048Z"
   },
   {
    "duration": 338,
    "start_time": "2024-07-06T12:16:12.094Z"
   },
   {
    "duration": 14,
    "start_time": "2024-07-06T12:16:12.433Z"
   },
   {
    "duration": 174,
    "start_time": "2024-07-06T12:16:12.449Z"
   },
   {
    "duration": 15,
    "start_time": "2024-07-06T12:16:12.625Z"
   },
   {
    "duration": 268,
    "start_time": "2024-07-06T12:16:12.642Z"
   },
   {
    "duration": 12,
    "start_time": "2024-07-06T12:16:12.912Z"
   },
   {
    "duration": 164,
    "start_time": "2024-07-06T12:16:12.927Z"
   },
   {
    "duration": 10,
    "start_time": "2024-07-06T12:16:13.093Z"
   },
   {
    "duration": 290,
    "start_time": "2024-07-06T12:16:13.105Z"
   },
   {
    "duration": 9,
    "start_time": "2024-07-06T12:16:13.397Z"
   },
   {
    "duration": 284,
    "start_time": "2024-07-06T12:16:13.408Z"
   },
   {
    "duration": 14,
    "start_time": "2024-07-06T12:16:13.694Z"
   },
   {
    "duration": 38,
    "start_time": "2024-07-06T12:16:13.710Z"
   },
   {
    "duration": 47,
    "start_time": "2024-07-06T12:16:13.750Z"
   },
   {
    "duration": 19,
    "start_time": "2024-07-06T12:16:13.799Z"
   },
   {
    "duration": 321,
    "start_time": "2024-07-06T12:16:13.820Z"
   },
   {
    "duration": 332,
    "start_time": "2024-07-06T12:16:14.142Z"
   },
   {
    "duration": 256,
    "start_time": "2024-07-06T12:16:14.476Z"
   },
   {
    "duration": 281,
    "start_time": "2024-07-06T12:16:14.735Z"
   },
   {
    "duration": 16,
    "start_time": "2024-07-06T12:16:15.021Z"
   },
   {
    "duration": 41,
    "start_time": "2024-07-06T12:16:15.039Z"
   },
   {
    "duration": 75,
    "start_time": "2024-07-06T12:16:15.082Z"
   },
   {
    "duration": 20,
    "start_time": "2024-07-06T12:16:15.159Z"
   },
   {
    "duration": 46,
    "start_time": "2024-07-06T12:16:15.181Z"
   },
   {
    "duration": 49,
    "start_time": "2024-07-06T12:16:15.228Z"
   },
   {
    "duration": 39,
    "start_time": "2024-07-06T12:16:15.279Z"
   },
   {
    "duration": 8,
    "start_time": "2024-07-06T12:16:15.321Z"
   },
   {
    "duration": 1702,
    "start_time": "2024-07-06T12:16:15.331Z"
   },
   {
    "duration": 6,
    "start_time": "2024-07-06T12:16:17.035Z"
   },
   {
    "duration": 1074,
    "start_time": "2024-07-06T12:18:12.113Z"
   },
   {
    "duration": 112,
    "start_time": "2024-07-06T12:18:13.189Z"
   },
   {
    "duration": 14,
    "start_time": "2024-07-06T12:18:13.302Z"
   },
   {
    "duration": 10,
    "start_time": "2024-07-06T12:18:13.317Z"
   },
   {
    "duration": 7,
    "start_time": "2024-07-06T12:18:13.330Z"
   },
   {
    "duration": 13,
    "start_time": "2024-07-06T12:18:13.339Z"
   },
   {
    "duration": 42,
    "start_time": "2024-07-06T12:18:13.353Z"
   },
   {
    "duration": 11,
    "start_time": "2024-07-06T12:18:13.396Z"
   },
   {
    "duration": 15,
    "start_time": "2024-07-06T12:18:13.409Z"
   },
   {
    "duration": 13,
    "start_time": "2024-07-06T12:18:13.426Z"
   },
   {
    "duration": 12,
    "start_time": "2024-07-06T12:18:13.441Z"
   },
   {
    "duration": 6,
    "start_time": "2024-07-06T12:18:13.491Z"
   },
   {
    "duration": 6,
    "start_time": "2024-07-06T12:18:13.499Z"
   },
   {
    "duration": 9,
    "start_time": "2024-07-06T12:18:13.508Z"
   },
   {
    "duration": 6,
    "start_time": "2024-07-06T12:18:13.519Z"
   },
   {
    "duration": 6,
    "start_time": "2024-07-06T12:18:13.527Z"
   },
   {
    "duration": 16,
    "start_time": "2024-07-06T12:18:13.534Z"
   },
   {
    "duration": 43,
    "start_time": "2024-07-06T12:18:13.552Z"
   },
   {
    "duration": 7,
    "start_time": "2024-07-06T12:18:13.597Z"
   },
   {
    "duration": 14,
    "start_time": "2024-07-06T12:18:13.605Z"
   },
   {
    "duration": 16,
    "start_time": "2024-07-06T12:18:13.621Z"
   },
   {
    "duration": 236,
    "start_time": "2024-07-06T12:18:13.638Z"
   },
   {
    "duration": 17,
    "start_time": "2024-07-06T12:18:13.876Z"
   },
   {
    "duration": 167,
    "start_time": "2024-07-06T12:18:13.895Z"
   },
   {
    "duration": 16,
    "start_time": "2024-07-06T12:18:14.063Z"
   },
   {
    "duration": 261,
    "start_time": "2024-07-06T12:18:14.091Z"
   },
   {
    "duration": 13,
    "start_time": "2024-07-06T12:18:14.354Z"
   },
   {
    "duration": 171,
    "start_time": "2024-07-06T12:18:14.369Z"
   },
   {
    "duration": 10,
    "start_time": "2024-07-06T12:18:14.542Z"
   },
   {
    "duration": 296,
    "start_time": "2024-07-06T12:18:14.553Z"
   },
   {
    "duration": 9,
    "start_time": "2024-07-06T12:18:14.851Z"
   },
   {
    "duration": 289,
    "start_time": "2024-07-06T12:18:14.862Z"
   },
   {
    "duration": 14,
    "start_time": "2024-07-06T12:18:15.153Z"
   },
   {
    "duration": 39,
    "start_time": "2024-07-06T12:18:15.169Z"
   },
   {
    "duration": 19,
    "start_time": "2024-07-06T12:18:15.210Z"
   },
   {
    "duration": 23,
    "start_time": "2024-07-06T12:18:15.231Z"
   },
   {
    "duration": 289,
    "start_time": "2024-07-06T12:18:15.256Z"
   },
   {
    "duration": 361,
    "start_time": "2024-07-06T12:18:15.547Z"
   },
   {
    "duration": 276,
    "start_time": "2024-07-06T12:18:15.910Z"
   },
   {
    "duration": 263,
    "start_time": "2024-07-06T12:18:16.198Z"
   },
   {
    "duration": 15,
    "start_time": "2024-07-06T12:18:16.465Z"
   },
   {
    "duration": 26,
    "start_time": "2024-07-06T12:18:16.492Z"
   },
   {
    "duration": 17,
    "start_time": "2024-07-06T12:18:16.520Z"
   },
   {
    "duration": 7,
    "start_time": "2024-07-06T12:18:16.539Z"
   },
   {
    "duration": 41,
    "start_time": "2024-07-06T12:18:16.549Z"
   },
   {
    "duration": 23,
    "start_time": "2024-07-06T12:18:16.592Z"
   },
   {
    "duration": 20,
    "start_time": "2024-07-06T12:18:16.617Z"
   },
   {
    "duration": 8,
    "start_time": "2024-07-06T12:18:16.639Z"
   },
   {
    "duration": 1713,
    "start_time": "2024-07-06T12:18:16.649Z"
   },
   {
    "duration": 6,
    "start_time": "2024-07-06T12:18:18.364Z"
   },
   {
    "duration": 1128,
    "start_time": "2024-07-06T12:19:22.542Z"
   },
   {
    "duration": 107,
    "start_time": "2024-07-06T12:19:23.671Z"
   },
   {
    "duration": 16,
    "start_time": "2024-07-06T12:19:23.780Z"
   },
   {
    "duration": 15,
    "start_time": "2024-07-06T12:19:23.797Z"
   },
   {
    "duration": 41,
    "start_time": "2024-07-06T12:19:23.814Z"
   },
   {
    "duration": 29,
    "start_time": "2024-07-06T12:19:23.857Z"
   },
   {
    "duration": 14,
    "start_time": "2024-07-06T12:19:23.888Z"
   },
   {
    "duration": 13,
    "start_time": "2024-07-06T12:19:23.904Z"
   },
   {
    "duration": 23,
    "start_time": "2024-07-06T12:19:23.919Z"
   },
   {
    "duration": 11,
    "start_time": "2024-07-06T12:19:23.943Z"
   },
   {
    "duration": 37,
    "start_time": "2024-07-06T12:19:23.955Z"
   },
   {
    "duration": 7,
    "start_time": "2024-07-06T12:19:23.994Z"
   },
   {
    "duration": 14,
    "start_time": "2024-07-06T12:19:24.002Z"
   },
   {
    "duration": 72,
    "start_time": "2024-07-06T12:19:24.020Z"
   },
   {
    "duration": 18,
    "start_time": "2024-07-06T12:19:24.094Z"
   },
   {
    "duration": 17,
    "start_time": "2024-07-06T12:19:24.114Z"
   },
   {
    "duration": 26,
    "start_time": "2024-07-06T12:19:24.133Z"
   },
   {
    "duration": 19,
    "start_time": "2024-07-06T12:19:24.161Z"
   },
   {
    "duration": 4,
    "start_time": "2024-07-06T12:19:24.182Z"
   },
   {
    "duration": 9,
    "start_time": "2024-07-06T12:19:24.188Z"
   },
   {
    "duration": 34,
    "start_time": "2024-07-06T12:19:24.198Z"
   },
   {
    "duration": 1054,
    "start_time": "2024-07-06T12:19:24.233Z"
   },
   {
    "duration": 0,
    "start_time": "2024-07-06T12:19:25.290Z"
   },
   {
    "duration": 0,
    "start_time": "2024-07-06T12:19:25.291Z"
   },
   {
    "duration": 0,
    "start_time": "2024-07-06T12:19:25.293Z"
   },
   {
    "duration": 0,
    "start_time": "2024-07-06T12:19:25.294Z"
   },
   {
    "duration": 0,
    "start_time": "2024-07-06T12:19:25.295Z"
   },
   {
    "duration": 0,
    "start_time": "2024-07-06T12:19:25.296Z"
   },
   {
    "duration": 0,
    "start_time": "2024-07-06T12:19:25.297Z"
   },
   {
    "duration": 0,
    "start_time": "2024-07-06T12:19:25.299Z"
   },
   {
    "duration": 0,
    "start_time": "2024-07-06T12:19:25.300Z"
   },
   {
    "duration": 0,
    "start_time": "2024-07-06T12:19:25.301Z"
   },
   {
    "duration": 0,
    "start_time": "2024-07-06T12:19:25.302Z"
   },
   {
    "duration": 0,
    "start_time": "2024-07-06T12:19:25.303Z"
   },
   {
    "duration": 0,
    "start_time": "2024-07-06T12:19:25.304Z"
   },
   {
    "duration": 0,
    "start_time": "2024-07-06T12:19:25.305Z"
   },
   {
    "duration": 0,
    "start_time": "2024-07-06T12:19:25.307Z"
   },
   {
    "duration": 0,
    "start_time": "2024-07-06T12:19:25.308Z"
   },
   {
    "duration": 0,
    "start_time": "2024-07-06T12:19:25.310Z"
   },
   {
    "duration": 0,
    "start_time": "2024-07-06T12:19:25.311Z"
   },
   {
    "duration": 0,
    "start_time": "2024-07-06T12:19:25.312Z"
   },
   {
    "duration": 0,
    "start_time": "2024-07-06T12:19:25.313Z"
   },
   {
    "duration": 0,
    "start_time": "2024-07-06T12:19:25.314Z"
   },
   {
    "duration": 0,
    "start_time": "2024-07-06T12:19:25.316Z"
   },
   {
    "duration": 0,
    "start_time": "2024-07-06T12:19:25.317Z"
   },
   {
    "duration": 0,
    "start_time": "2024-07-06T12:19:25.319Z"
   },
   {
    "duration": 0,
    "start_time": "2024-07-06T12:19:25.320Z"
   },
   {
    "duration": 0,
    "start_time": "2024-07-06T12:19:25.321Z"
   },
   {
    "duration": 0,
    "start_time": "2024-07-06T12:19:25.322Z"
   },
   {
    "duration": 0,
    "start_time": "2024-07-06T12:19:25.323Z"
   },
   {
    "duration": 0,
    "start_time": "2024-07-06T12:19:25.324Z"
   },
   {
    "duration": 0,
    "start_time": "2024-07-06T12:19:25.325Z"
   },
   {
    "duration": 0,
    "start_time": "2024-07-06T12:19:25.326Z"
   },
   {
    "duration": 0,
    "start_time": "2024-07-06T12:19:25.327Z"
   },
   {
    "duration": 12,
    "start_time": "2024-07-06T12:20:25.713Z"
   },
   {
    "duration": 155,
    "start_time": "2024-07-06T12:20:28.928Z"
   },
   {
    "duration": 175,
    "start_time": "2024-07-06T12:20:47.265Z"
   },
   {
    "duration": 195,
    "start_time": "2024-07-06T12:24:43.785Z"
   },
   {
    "duration": 57,
    "start_time": "2024-07-06T12:26:18.665Z"
   },
   {
    "duration": 224,
    "start_time": "2024-07-06T12:27:34.065Z"
   },
   {
    "duration": 192,
    "start_time": "2024-07-06T12:28:38.632Z"
   },
   {
    "duration": 213,
    "start_time": "2024-07-06T12:31:05.192Z"
   },
   {
    "duration": 263,
    "start_time": "2024-07-06T12:31:45.993Z"
   },
   {
    "duration": 14,
    "start_time": "2024-07-06T12:31:57.094Z"
   },
   {
    "duration": 186,
    "start_time": "2024-07-06T12:32:49.031Z"
   },
   {
    "duration": 1177,
    "start_time": "2024-07-06T12:32:59.611Z"
   },
   {
    "duration": 131,
    "start_time": "2024-07-06T12:33:00.790Z"
   },
   {
    "duration": 14,
    "start_time": "2024-07-06T12:33:00.923Z"
   },
   {
    "duration": 64,
    "start_time": "2024-07-06T12:33:00.940Z"
   },
   {
    "duration": 52,
    "start_time": "2024-07-06T12:33:01.007Z"
   },
   {
    "duration": 63,
    "start_time": "2024-07-06T12:33:01.060Z"
   },
   {
    "duration": 66,
    "start_time": "2024-07-06T12:33:01.125Z"
   },
   {
    "duration": 66,
    "start_time": "2024-07-06T12:33:01.193Z"
   },
   {
    "duration": 33,
    "start_time": "2024-07-06T12:33:01.261Z"
   },
   {
    "duration": 37,
    "start_time": "2024-07-06T12:33:01.296Z"
   },
   {
    "duration": 67,
    "start_time": "2024-07-06T12:33:01.335Z"
   },
   {
    "duration": 85,
    "start_time": "2024-07-06T12:33:01.403Z"
   },
   {
    "duration": 79,
    "start_time": "2024-07-06T12:33:01.490Z"
   },
   {
    "duration": 37,
    "start_time": "2024-07-06T12:33:01.573Z"
   },
   {
    "duration": 128,
    "start_time": "2024-07-06T12:33:01.611Z"
   },
   {
    "duration": 212,
    "start_time": "2024-07-06T12:33:01.741Z"
   },
   {
    "duration": 62,
    "start_time": "2024-07-06T12:33:01.955Z"
   },
   {
    "duration": 46,
    "start_time": "2024-07-06T12:33:02.020Z"
   },
   {
    "duration": 116,
    "start_time": "2024-07-06T12:33:02.068Z"
   },
   {
    "duration": 42,
    "start_time": "2024-07-06T12:33:02.185Z"
   },
   {
    "duration": 22,
    "start_time": "2024-07-06T12:33:02.229Z"
   },
   {
    "duration": 234,
    "start_time": "2024-07-06T12:33:02.253Z"
   },
   {
    "duration": 13,
    "start_time": "2024-07-06T12:33:02.491Z"
   },
   {
    "duration": 163,
    "start_time": "2024-07-06T12:33:02.506Z"
   },
   {
    "duration": 21,
    "start_time": "2024-07-06T12:33:02.671Z"
   },
   {
    "duration": 258,
    "start_time": "2024-07-06T12:33:02.694Z"
   },
   {
    "duration": 13,
    "start_time": "2024-07-06T12:33:02.953Z"
   },
   {
    "duration": 171,
    "start_time": "2024-07-06T12:33:02.967Z"
   },
   {
    "duration": 9,
    "start_time": "2024-07-06T12:33:03.139Z"
   },
   {
    "duration": 276,
    "start_time": "2024-07-06T12:33:03.149Z"
   },
   {
    "duration": 8,
    "start_time": "2024-07-06T12:33:03.426Z"
   },
   {
    "duration": 303,
    "start_time": "2024-07-06T12:33:03.436Z"
   },
   {
    "duration": 14,
    "start_time": "2024-07-06T12:33:03.741Z"
   },
   {
    "duration": 41,
    "start_time": "2024-07-06T12:33:03.757Z"
   },
   {
    "duration": 20,
    "start_time": "2024-07-06T12:33:03.800Z"
   },
   {
    "duration": 19,
    "start_time": "2024-07-06T12:33:03.822Z"
   },
   {
    "duration": 312,
    "start_time": "2024-07-06T12:33:03.843Z"
   },
   {
    "duration": 336,
    "start_time": "2024-07-06T12:33:04.157Z"
   },
   {
    "duration": 277,
    "start_time": "2024-07-06T12:33:04.495Z"
   },
   {
    "duration": 285,
    "start_time": "2024-07-06T12:33:04.774Z"
   },
   {
    "duration": 17,
    "start_time": "2024-07-06T12:33:05.064Z"
   },
   {
    "duration": 23,
    "start_time": "2024-07-06T12:33:05.083Z"
   },
   {
    "duration": 15,
    "start_time": "2024-07-06T12:33:05.108Z"
   },
   {
    "duration": 8,
    "start_time": "2024-07-06T12:33:05.125Z"
   },
   {
    "duration": 21,
    "start_time": "2024-07-06T12:33:05.135Z"
   },
   {
    "duration": 47,
    "start_time": "2024-07-06T12:33:05.158Z"
   },
   {
    "duration": 19,
    "start_time": "2024-07-06T12:33:05.207Z"
   },
   {
    "duration": 6,
    "start_time": "2024-07-06T12:33:05.228Z"
   },
   {
    "duration": 1715,
    "start_time": "2024-07-06T12:33:05.235Z"
   },
   {
    "duration": 5,
    "start_time": "2024-07-06T12:33:06.952Z"
   },
   {
    "duration": 1174,
    "start_time": "2024-07-06T12:35:03.042Z"
   },
   {
    "duration": 126,
    "start_time": "2024-07-06T12:35:04.218Z"
   },
   {
    "duration": 12,
    "start_time": "2024-07-06T12:35:04.345Z"
   },
   {
    "duration": 9,
    "start_time": "2024-07-06T12:35:04.359Z"
   },
   {
    "duration": 7,
    "start_time": "2024-07-06T12:35:04.371Z"
   },
   {
    "duration": 12,
    "start_time": "2024-07-06T12:35:04.380Z"
   },
   {
    "duration": 12,
    "start_time": "2024-07-06T12:35:04.394Z"
   },
   {
    "duration": 10,
    "start_time": "2024-07-06T12:35:04.407Z"
   },
   {
    "duration": 16,
    "start_time": "2024-07-06T12:35:04.418Z"
   },
   {
    "duration": 12,
    "start_time": "2024-07-06T12:35:04.435Z"
   },
   {
    "duration": 12,
    "start_time": "2024-07-06T12:35:04.448Z"
   },
   {
    "duration": 5,
    "start_time": "2024-07-06T12:35:04.491Z"
   },
   {
    "duration": 8,
    "start_time": "2024-07-06T12:35:04.497Z"
   },
   {
    "duration": 6,
    "start_time": "2024-07-06T12:35:04.509Z"
   },
   {
    "duration": 12,
    "start_time": "2024-07-06T12:35:04.517Z"
   },
   {
    "duration": 6,
    "start_time": "2024-07-06T12:35:04.532Z"
   },
   {
    "duration": 12,
    "start_time": "2024-07-06T12:35:04.540Z"
   },
   {
    "duration": 44,
    "start_time": "2024-07-06T12:35:04.553Z"
   },
   {
    "duration": 5,
    "start_time": "2024-07-06T12:35:04.599Z"
   },
   {
    "duration": 10,
    "start_time": "2024-07-06T12:35:04.605Z"
   },
   {
    "duration": 14,
    "start_time": "2024-07-06T12:35:04.616Z"
   },
   {
    "duration": 1825,
    "start_time": "2024-07-06T12:35:04.632Z"
   },
   {
    "duration": 0,
    "start_time": "2024-07-06T12:35:06.459Z"
   },
   {
    "duration": 0,
    "start_time": "2024-07-06T12:35:06.460Z"
   },
   {
    "duration": 0,
    "start_time": "2024-07-06T12:35:06.461Z"
   },
   {
    "duration": 0,
    "start_time": "2024-07-06T12:35:06.462Z"
   },
   {
    "duration": 0,
    "start_time": "2024-07-06T12:35:06.463Z"
   },
   {
    "duration": 0,
    "start_time": "2024-07-06T12:35:06.465Z"
   },
   {
    "duration": 0,
    "start_time": "2024-07-06T12:35:06.466Z"
   },
   {
    "duration": 0,
    "start_time": "2024-07-06T12:35:06.467Z"
   },
   {
    "duration": 0,
    "start_time": "2024-07-06T12:35:06.468Z"
   },
   {
    "duration": 0,
    "start_time": "2024-07-06T12:35:06.469Z"
   },
   {
    "duration": 0,
    "start_time": "2024-07-06T12:35:06.470Z"
   },
   {
    "duration": 0,
    "start_time": "2024-07-06T12:35:06.471Z"
   },
   {
    "duration": 0,
    "start_time": "2024-07-06T12:35:06.472Z"
   },
   {
    "duration": 0,
    "start_time": "2024-07-06T12:35:06.473Z"
   },
   {
    "duration": 0,
    "start_time": "2024-07-06T12:35:06.474Z"
   },
   {
    "duration": 0,
    "start_time": "2024-07-06T12:35:06.475Z"
   },
   {
    "duration": 0,
    "start_time": "2024-07-06T12:35:06.476Z"
   },
   {
    "duration": 0,
    "start_time": "2024-07-06T12:35:06.477Z"
   },
   {
    "duration": 0,
    "start_time": "2024-07-06T12:35:06.478Z"
   },
   {
    "duration": 0,
    "start_time": "2024-07-06T12:35:06.480Z"
   },
   {
    "duration": 0,
    "start_time": "2024-07-06T12:35:06.481Z"
   },
   {
    "duration": 0,
    "start_time": "2024-07-06T12:35:06.482Z"
   },
   {
    "duration": 0,
    "start_time": "2024-07-06T12:35:06.483Z"
   },
   {
    "duration": 0,
    "start_time": "2024-07-06T12:35:06.484Z"
   },
   {
    "duration": 0,
    "start_time": "2024-07-06T12:35:06.485Z"
   },
   {
    "duration": 0,
    "start_time": "2024-07-06T12:35:06.486Z"
   },
   {
    "duration": 0,
    "start_time": "2024-07-06T12:35:06.487Z"
   },
   {
    "duration": 0,
    "start_time": "2024-07-06T12:35:06.488Z"
   },
   {
    "duration": 0,
    "start_time": "2024-07-06T12:35:06.489Z"
   },
   {
    "duration": 0,
    "start_time": "2024-07-06T12:35:06.490Z"
   },
   {
    "duration": 0,
    "start_time": "2024-07-06T12:35:06.491Z"
   },
   {
    "duration": 0,
    "start_time": "2024-07-06T12:35:06.492Z"
   },
   {
    "duration": 884,
    "start_time": "2024-07-06T12:36:27.855Z"
   },
   {
    "duration": 946,
    "start_time": "2024-07-06T12:36:30.575Z"
   },
   {
    "duration": 1023,
    "start_time": "2024-07-06T12:36:35.138Z"
   },
   {
    "duration": 107,
    "start_time": "2024-07-06T12:36:36.162Z"
   },
   {
    "duration": 12,
    "start_time": "2024-07-06T12:36:36.271Z"
   },
   {
    "duration": 33,
    "start_time": "2024-07-06T12:36:36.284Z"
   },
   {
    "duration": 24,
    "start_time": "2024-07-06T12:36:36.319Z"
   },
   {
    "duration": 26,
    "start_time": "2024-07-06T12:36:36.345Z"
   },
   {
    "duration": 24,
    "start_time": "2024-07-06T12:36:36.373Z"
   },
   {
    "duration": 48,
    "start_time": "2024-07-06T12:36:36.399Z"
   },
   {
    "duration": 36,
    "start_time": "2024-07-06T12:36:36.448Z"
   },
   {
    "duration": 12,
    "start_time": "2024-07-06T12:36:36.486Z"
   },
   {
    "duration": 19,
    "start_time": "2024-07-06T12:36:36.500Z"
   },
   {
    "duration": 9,
    "start_time": "2024-07-06T12:36:36.521Z"
   },
   {
    "duration": 24,
    "start_time": "2024-07-06T12:36:36.531Z"
   },
   {
    "duration": 22,
    "start_time": "2024-07-06T12:36:36.558Z"
   },
   {
    "duration": 20,
    "start_time": "2024-07-06T12:36:36.582Z"
   },
   {
    "duration": 17,
    "start_time": "2024-07-06T12:36:36.604Z"
   },
   {
    "duration": 28,
    "start_time": "2024-07-06T12:36:36.622Z"
   },
   {
    "duration": 6,
    "start_time": "2024-07-06T12:36:36.652Z"
   },
   {
    "duration": 42,
    "start_time": "2024-07-06T12:36:36.660Z"
   },
   {
    "duration": 12,
    "start_time": "2024-07-06T12:36:36.704Z"
   },
   {
    "duration": 25,
    "start_time": "2024-07-06T12:36:36.718Z"
   },
   {
    "duration": 1039,
    "start_time": "2024-07-06T12:36:36.745Z"
   },
   {
    "duration": 0,
    "start_time": "2024-07-06T12:36:37.787Z"
   },
   {
    "duration": 0,
    "start_time": "2024-07-06T12:36:37.789Z"
   },
   {
    "duration": 0,
    "start_time": "2024-07-06T12:36:37.791Z"
   },
   {
    "duration": 0,
    "start_time": "2024-07-06T12:36:37.792Z"
   },
   {
    "duration": 0,
    "start_time": "2024-07-06T12:36:37.794Z"
   },
   {
    "duration": 0,
    "start_time": "2024-07-06T12:36:37.795Z"
   },
   {
    "duration": 0,
    "start_time": "2024-07-06T12:36:37.797Z"
   },
   {
    "duration": 0,
    "start_time": "2024-07-06T12:36:37.798Z"
   },
   {
    "duration": 0,
    "start_time": "2024-07-06T12:36:37.800Z"
   },
   {
    "duration": 0,
    "start_time": "2024-07-06T12:36:37.802Z"
   },
   {
    "duration": 0,
    "start_time": "2024-07-06T12:36:37.803Z"
   },
   {
    "duration": 0,
    "start_time": "2024-07-06T12:36:37.804Z"
   },
   {
    "duration": 0,
    "start_time": "2024-07-06T12:36:37.805Z"
   },
   {
    "duration": 0,
    "start_time": "2024-07-06T12:36:37.806Z"
   },
   {
    "duration": 0,
    "start_time": "2024-07-06T12:36:37.807Z"
   },
   {
    "duration": 0,
    "start_time": "2024-07-06T12:36:37.809Z"
   },
   {
    "duration": 0,
    "start_time": "2024-07-06T12:36:37.810Z"
   },
   {
    "duration": 0,
    "start_time": "2024-07-06T12:36:37.812Z"
   },
   {
    "duration": 0,
    "start_time": "2024-07-06T12:36:37.813Z"
   },
   {
    "duration": 0,
    "start_time": "2024-07-06T12:36:37.815Z"
   },
   {
    "duration": 0,
    "start_time": "2024-07-06T12:36:37.816Z"
   },
   {
    "duration": 0,
    "start_time": "2024-07-06T12:36:37.818Z"
   },
   {
    "duration": 0,
    "start_time": "2024-07-06T12:36:37.819Z"
   },
   {
    "duration": 0,
    "start_time": "2024-07-06T12:36:37.821Z"
   },
   {
    "duration": 1,
    "start_time": "2024-07-06T12:36:37.822Z"
   },
   {
    "duration": 0,
    "start_time": "2024-07-06T12:36:37.824Z"
   },
   {
    "duration": 0,
    "start_time": "2024-07-06T12:36:37.825Z"
   },
   {
    "duration": 0,
    "start_time": "2024-07-06T12:36:37.827Z"
   },
   {
    "duration": 0,
    "start_time": "2024-07-06T12:36:37.828Z"
   },
   {
    "duration": 0,
    "start_time": "2024-07-06T12:36:37.829Z"
   },
   {
    "duration": 0,
    "start_time": "2024-07-06T12:36:37.830Z"
   },
   {
    "duration": 0,
    "start_time": "2024-07-06T12:36:37.831Z"
   },
   {
    "duration": 11,
    "start_time": "2024-07-06T12:37:45.646Z"
   },
   {
    "duration": 165,
    "start_time": "2024-07-06T12:38:03.631Z"
   },
   {
    "duration": 156,
    "start_time": "2024-07-06T12:38:28.799Z"
   },
   {
    "duration": 153,
    "start_time": "2024-07-06T12:38:39.423Z"
   },
   {
    "duration": 162,
    "start_time": "2024-07-06T12:39:28.903Z"
   },
   {
    "duration": 170,
    "start_time": "2024-07-06T12:39:42.535Z"
   },
   {
    "duration": 175,
    "start_time": "2024-07-06T12:39:50.286Z"
   },
   {
    "duration": 172,
    "start_time": "2024-07-06T12:40:17.950Z"
   },
   {
    "duration": 12,
    "start_time": "2024-07-06T12:40:29.950Z"
   },
   {
    "duration": 145,
    "start_time": "2024-07-06T12:40:32.575Z"
   },
   {
    "duration": 159,
    "start_time": "2024-07-06T12:42:02.318Z"
   },
   {
    "duration": 15,
    "start_time": "2024-07-06T12:42:31.119Z"
   },
   {
    "duration": 263,
    "start_time": "2024-07-06T12:42:34.783Z"
   },
   {
    "duration": 235,
    "start_time": "2024-07-06T12:42:53.006Z"
   },
   {
    "duration": 172,
    "start_time": "2024-07-06T12:46:47.126Z"
   },
   {
    "duration": 151,
    "start_time": "2024-07-06T12:47:07.005Z"
   },
   {
    "duration": 260,
    "start_time": "2024-07-06T12:47:28.302Z"
   },
   {
    "duration": 260,
    "start_time": "2024-07-06T12:47:45.469Z"
   },
   {
    "duration": 279,
    "start_time": "2024-07-06T12:48:01.317Z"
   },
   {
    "duration": 1090,
    "start_time": "2024-07-06T12:48:13.542Z"
   },
   {
    "duration": 120,
    "start_time": "2024-07-06T12:48:14.634Z"
   },
   {
    "duration": 12,
    "start_time": "2024-07-06T12:48:14.756Z"
   },
   {
    "duration": 52,
    "start_time": "2024-07-06T12:48:14.770Z"
   },
   {
    "duration": 23,
    "start_time": "2024-07-06T12:48:14.824Z"
   },
   {
    "duration": 35,
    "start_time": "2024-07-06T12:48:14.848Z"
   },
   {
    "duration": 13,
    "start_time": "2024-07-06T12:48:14.885Z"
   },
   {
    "duration": 8,
    "start_time": "2024-07-06T12:48:14.900Z"
   },
   {
    "duration": 24,
    "start_time": "2024-07-06T12:48:14.910Z"
   },
   {
    "duration": 11,
    "start_time": "2024-07-06T12:48:14.936Z"
   },
   {
    "duration": 11,
    "start_time": "2024-07-06T12:48:14.949Z"
   },
   {
    "duration": 4,
    "start_time": "2024-07-06T12:48:14.961Z"
   },
   {
    "duration": 26,
    "start_time": "2024-07-06T12:48:14.966Z"
   },
   {
    "duration": 68,
    "start_time": "2024-07-06T12:48:14.994Z"
   },
   {
    "duration": 53,
    "start_time": "2024-07-06T12:48:15.064Z"
   },
   {
    "duration": 67,
    "start_time": "2024-07-06T12:48:15.119Z"
   },
   {
    "duration": 28,
    "start_time": "2024-07-06T12:48:15.188Z"
   },
   {
    "duration": 9,
    "start_time": "2024-07-06T12:48:15.218Z"
   },
   {
    "duration": 15,
    "start_time": "2024-07-06T12:48:15.229Z"
   },
   {
    "duration": 35,
    "start_time": "2024-07-06T12:48:15.246Z"
   },
   {
    "duration": 35,
    "start_time": "2024-07-06T12:48:15.283Z"
   },
   {
    "duration": 19,
    "start_time": "2024-07-06T12:48:15.320Z"
   },
   {
    "duration": 182,
    "start_time": "2024-07-06T12:48:15.341Z"
   },
   {
    "duration": 14,
    "start_time": "2024-07-06T12:48:15.525Z"
   },
   {
    "duration": 174,
    "start_time": "2024-07-06T12:48:15.540Z"
   },
   {
    "duration": 24,
    "start_time": "2024-07-06T12:48:15.716Z"
   },
   {
    "duration": 300,
    "start_time": "2024-07-06T12:48:15.742Z"
   },
   {
    "duration": 13,
    "start_time": "2024-07-06T12:48:16.047Z"
   },
   {
    "duration": 167,
    "start_time": "2024-07-06T12:48:16.061Z"
   },
   {
    "duration": 8,
    "start_time": "2024-07-06T12:48:16.229Z"
   },
   {
    "duration": 276,
    "start_time": "2024-07-06T12:48:16.239Z"
   },
   {
    "duration": 8,
    "start_time": "2024-07-06T12:48:16.516Z"
   },
   {
    "duration": 270,
    "start_time": "2024-07-06T12:48:16.526Z"
   },
   {
    "duration": 14,
    "start_time": "2024-07-06T12:48:16.798Z"
   },
   {
    "duration": 55,
    "start_time": "2024-07-06T12:48:16.813Z"
   },
   {
    "duration": 20,
    "start_time": "2024-07-06T12:48:16.870Z"
   },
   {
    "duration": 16,
    "start_time": "2024-07-06T12:48:16.891Z"
   },
   {
    "duration": 341,
    "start_time": "2024-07-06T12:48:16.908Z"
   },
   {
    "duration": 288,
    "start_time": "2024-07-06T12:48:17.251Z"
   },
   {
    "duration": 253,
    "start_time": "2024-07-06T12:48:17.540Z"
   },
   {
    "duration": 276,
    "start_time": "2024-07-06T12:48:17.795Z"
   },
   {
    "duration": 20,
    "start_time": "2024-07-06T12:48:18.073Z"
   },
   {
    "duration": 13,
    "start_time": "2024-07-06T12:48:18.095Z"
   },
   {
    "duration": 19,
    "start_time": "2024-07-06T12:48:18.109Z"
   },
   {
    "duration": 5,
    "start_time": "2024-07-06T12:48:18.130Z"
   },
   {
    "duration": 5,
    "start_time": "2024-07-06T12:48:18.137Z"
   },
   {
    "duration": 50,
    "start_time": "2024-07-06T12:48:18.144Z"
   },
   {
    "duration": 50,
    "start_time": "2024-07-06T12:48:18.196Z"
   },
   {
    "duration": 7,
    "start_time": "2024-07-06T12:48:18.248Z"
   },
   {
    "duration": 1641,
    "start_time": "2024-07-06T12:48:18.257Z"
   },
   {
    "duration": 6,
    "start_time": "2024-07-06T12:48:19.900Z"
   },
   {
    "duration": 1098,
    "start_time": "2024-07-06T12:49:17.644Z"
   },
   {
    "duration": 101,
    "start_time": "2024-07-06T12:49:18.743Z"
   },
   {
    "duration": 15,
    "start_time": "2024-07-06T12:49:18.846Z"
   },
   {
    "duration": 11,
    "start_time": "2024-07-06T12:49:18.863Z"
   },
   {
    "duration": 7,
    "start_time": "2024-07-06T12:49:18.877Z"
   },
   {
    "duration": 17,
    "start_time": "2024-07-06T12:49:18.886Z"
   },
   {
    "duration": 13,
    "start_time": "2024-07-06T12:49:18.905Z"
   },
   {
    "duration": 10,
    "start_time": "2024-07-06T12:49:18.919Z"
   },
   {
    "duration": 19,
    "start_time": "2024-07-06T12:49:18.930Z"
   },
   {
    "duration": 12,
    "start_time": "2024-07-06T12:49:18.950Z"
   },
   {
    "duration": 36,
    "start_time": "2024-07-06T12:49:18.963Z"
   },
   {
    "duration": 4,
    "start_time": "2024-07-06T12:49:19.001Z"
   },
   {
    "duration": 18,
    "start_time": "2024-07-06T12:49:19.007Z"
   },
   {
    "duration": 18,
    "start_time": "2024-07-06T12:49:19.028Z"
   },
   {
    "duration": 8,
    "start_time": "2024-07-06T12:49:19.047Z"
   },
   {
    "duration": 5,
    "start_time": "2024-07-06T12:49:19.057Z"
   },
   {
    "duration": 32,
    "start_time": "2024-07-06T12:49:19.064Z"
   },
   {
    "duration": 57,
    "start_time": "2024-07-06T12:49:19.097Z"
   },
   {
    "duration": 5,
    "start_time": "2024-07-06T12:49:19.156Z"
   },
   {
    "duration": 13,
    "start_time": "2024-07-06T12:49:19.163Z"
   },
   {
    "duration": 14,
    "start_time": "2024-07-06T12:49:19.178Z"
   },
   {
    "duration": 10,
    "start_time": "2024-07-06T12:49:19.194Z"
   },
   {
    "duration": 187,
    "start_time": "2024-07-06T12:49:19.206Z"
   },
   {
    "duration": 13,
    "start_time": "2024-07-06T12:49:19.395Z"
   },
   {
    "duration": 195,
    "start_time": "2024-07-06T12:49:19.410Z"
   },
   {
    "duration": 16,
    "start_time": "2024-07-06T12:49:19.607Z"
   },
   {
    "duration": 313,
    "start_time": "2024-07-06T12:49:19.625Z"
   },
   {
    "duration": 12,
    "start_time": "2024-07-06T12:49:19.940Z"
   },
   {
    "duration": 174,
    "start_time": "2024-07-06T12:49:19.954Z"
   },
   {
    "duration": 8,
    "start_time": "2024-07-06T12:49:20.130Z"
   },
   {
    "duration": 304,
    "start_time": "2024-07-06T12:49:20.139Z"
   },
   {
    "duration": 8,
    "start_time": "2024-07-06T12:49:20.444Z"
   },
   {
    "duration": 277,
    "start_time": "2024-07-06T12:49:20.454Z"
   },
   {
    "duration": 12,
    "start_time": "2024-07-06T12:49:20.733Z"
   },
   {
    "duration": 45,
    "start_time": "2024-07-06T12:49:20.747Z"
   },
   {
    "duration": 62,
    "start_time": "2024-07-06T12:49:20.794Z"
   },
   {
    "duration": 16,
    "start_time": "2024-07-06T12:49:20.857Z"
   },
   {
    "duration": 371,
    "start_time": "2024-07-06T12:49:20.875Z"
   },
   {
    "duration": 266,
    "start_time": "2024-07-06T12:49:21.248Z"
   },
   {
    "duration": 258,
    "start_time": "2024-07-06T12:49:21.516Z"
   },
   {
    "duration": 273,
    "start_time": "2024-07-06T12:49:21.778Z"
   },
   {
    "duration": 15,
    "start_time": "2024-07-06T12:49:22.053Z"
   },
   {
    "duration": 23,
    "start_time": "2024-07-06T12:49:22.070Z"
   },
   {
    "duration": 15,
    "start_time": "2024-07-06T12:49:22.095Z"
   },
   {
    "duration": 6,
    "start_time": "2024-07-06T12:49:22.111Z"
   },
   {
    "duration": 11,
    "start_time": "2024-07-06T12:49:22.119Z"
   },
   {
    "duration": 33,
    "start_time": "2024-07-06T12:49:22.132Z"
   },
   {
    "duration": 62,
    "start_time": "2024-07-06T12:49:22.167Z"
   },
   {
    "duration": 7,
    "start_time": "2024-07-06T12:49:22.232Z"
   },
   {
    "duration": 1652,
    "start_time": "2024-07-06T12:49:22.240Z"
   },
   {
    "duration": 6,
    "start_time": "2024-07-06T12:49:23.893Z"
   },
   {
    "duration": 1098,
    "start_time": "2024-07-06T12:50:49.675Z"
   },
   {
    "duration": 106,
    "start_time": "2024-07-06T12:50:50.775Z"
   },
   {
    "duration": 12,
    "start_time": "2024-07-06T12:50:50.883Z"
   },
   {
    "duration": 8,
    "start_time": "2024-07-06T12:50:50.896Z"
   },
   {
    "duration": 20,
    "start_time": "2024-07-06T12:50:50.907Z"
   },
   {
    "duration": 12,
    "start_time": "2024-07-06T12:50:50.929Z"
   },
   {
    "duration": 17,
    "start_time": "2024-07-06T12:50:50.943Z"
   },
   {
    "duration": 17,
    "start_time": "2024-07-06T12:50:50.962Z"
   },
   {
    "duration": 17,
    "start_time": "2024-07-06T12:50:50.981Z"
   },
   {
    "duration": 11,
    "start_time": "2024-07-06T12:50:51.000Z"
   },
   {
    "duration": 10,
    "start_time": "2024-07-06T12:50:51.013Z"
   },
   {
    "duration": 4,
    "start_time": "2024-07-06T12:50:51.025Z"
   },
   {
    "duration": 28,
    "start_time": "2024-07-06T12:50:51.031Z"
   },
   {
    "duration": 6,
    "start_time": "2024-07-06T12:50:51.062Z"
   },
   {
    "duration": 19,
    "start_time": "2024-07-06T12:50:51.069Z"
   },
   {
    "duration": 6,
    "start_time": "2024-07-06T12:50:51.090Z"
   },
   {
    "duration": 10,
    "start_time": "2024-07-06T12:50:51.097Z"
   },
   {
    "duration": 6,
    "start_time": "2024-07-06T12:50:51.108Z"
   },
   {
    "duration": 4,
    "start_time": "2024-07-06T12:50:51.116Z"
   },
   {
    "duration": 11,
    "start_time": "2024-07-06T12:50:51.122Z"
   },
   {
    "duration": 17,
    "start_time": "2024-07-06T12:50:51.135Z"
   },
   {
    "duration": 46,
    "start_time": "2024-07-06T12:50:51.153Z"
   },
   {
    "duration": 190,
    "start_time": "2024-07-06T12:50:51.201Z"
   },
   {
    "duration": 14,
    "start_time": "2024-07-06T12:50:51.393Z"
   },
   {
    "duration": 178,
    "start_time": "2024-07-06T12:50:51.409Z"
   },
   {
    "duration": 16,
    "start_time": "2024-07-06T12:50:51.591Z"
   },
   {
    "duration": 301,
    "start_time": "2024-07-06T12:50:51.608Z"
   },
   {
    "duration": 12,
    "start_time": "2024-07-06T12:50:51.911Z"
   },
   {
    "duration": 176,
    "start_time": "2024-07-06T12:50:51.925Z"
   },
   {
    "duration": 7,
    "start_time": "2024-07-06T12:50:52.103Z"
   },
   {
    "duration": 339,
    "start_time": "2024-07-06T12:50:52.112Z"
   },
   {
    "duration": 10,
    "start_time": "2024-07-06T12:50:52.453Z"
   },
   {
    "duration": 304,
    "start_time": "2024-07-06T12:50:52.464Z"
   },
   {
    "duration": 25,
    "start_time": "2024-07-06T12:50:52.770Z"
   },
   {
    "duration": 85,
    "start_time": "2024-07-06T12:50:52.797Z"
   },
   {
    "duration": 20,
    "start_time": "2024-07-06T12:50:52.885Z"
   },
   {
    "duration": 19,
    "start_time": "2024-07-06T12:50:52.907Z"
   },
   {
    "duration": 344,
    "start_time": "2024-07-06T12:50:52.928Z"
   },
   {
    "duration": 285,
    "start_time": "2024-07-06T12:50:53.273Z"
   },
   {
    "duration": 258,
    "start_time": "2024-07-06T12:50:53.559Z"
   },
   {
    "duration": 287,
    "start_time": "2024-07-06T12:50:53.823Z"
   },
   {
    "duration": 15,
    "start_time": "2024-07-06T12:50:54.112Z"
   },
   {
    "duration": 17,
    "start_time": "2024-07-06T12:50:54.129Z"
   },
   {
    "duration": 20,
    "start_time": "2024-07-06T12:50:54.148Z"
   },
   {
    "duration": 7,
    "start_time": "2024-07-06T12:50:54.192Z"
   },
   {
    "duration": 48,
    "start_time": "2024-07-06T12:50:54.200Z"
   },
   {
    "duration": 37,
    "start_time": "2024-07-06T12:50:54.250Z"
   },
   {
    "duration": 60,
    "start_time": "2024-07-06T12:50:54.288Z"
   },
   {
    "duration": 35,
    "start_time": "2024-07-06T12:50:54.350Z"
   },
   {
    "duration": 1826,
    "start_time": "2024-07-06T12:50:54.387Z"
   },
   {
    "duration": 5,
    "start_time": "2024-07-06T12:50:56.216Z"
   },
   {
    "duration": 1116,
    "start_time": "2024-07-06T12:51:41.357Z"
   },
   {
    "duration": 123,
    "start_time": "2024-07-06T12:51:42.475Z"
   },
   {
    "duration": 12,
    "start_time": "2024-07-06T12:51:42.600Z"
   },
   {
    "duration": 24,
    "start_time": "2024-07-06T12:51:42.613Z"
   },
   {
    "duration": 17,
    "start_time": "2024-07-06T12:51:42.639Z"
   },
   {
    "duration": 12,
    "start_time": "2024-07-06T12:51:42.657Z"
   },
   {
    "duration": 23,
    "start_time": "2024-07-06T12:51:42.671Z"
   },
   {
    "duration": 11,
    "start_time": "2024-07-06T12:51:42.696Z"
   },
   {
    "duration": 62,
    "start_time": "2024-07-06T12:51:42.708Z"
   },
   {
    "duration": 11,
    "start_time": "2024-07-06T12:51:42.772Z"
   },
   {
    "duration": 84,
    "start_time": "2024-07-06T12:51:42.785Z"
   },
   {
    "duration": 4,
    "start_time": "2024-07-06T12:51:42.871Z"
   },
   {
    "duration": 11,
    "start_time": "2024-07-06T12:51:42.877Z"
   },
   {
    "duration": 6,
    "start_time": "2024-07-06T12:51:42.892Z"
   },
   {
    "duration": 9,
    "start_time": "2024-07-06T12:51:42.900Z"
   },
   {
    "duration": 7,
    "start_time": "2024-07-06T12:51:42.910Z"
   },
   {
    "duration": 13,
    "start_time": "2024-07-06T12:51:42.919Z"
   },
   {
    "duration": 6,
    "start_time": "2024-07-06T12:51:42.934Z"
   },
   {
    "duration": 5,
    "start_time": "2024-07-06T12:51:42.942Z"
   },
   {
    "duration": 44,
    "start_time": "2024-07-06T12:51:42.948Z"
   },
   {
    "duration": 36,
    "start_time": "2024-07-06T12:51:42.994Z"
   },
   {
    "duration": 10,
    "start_time": "2024-07-06T12:51:43.032Z"
   },
   {
    "duration": 175,
    "start_time": "2024-07-06T12:51:43.043Z"
   },
   {
    "duration": 13,
    "start_time": "2024-07-06T12:51:43.220Z"
   },
   {
    "duration": 174,
    "start_time": "2024-07-06T12:51:43.235Z"
   },
   {
    "duration": 16,
    "start_time": "2024-07-06T12:51:43.411Z"
   },
   {
    "duration": 296,
    "start_time": "2024-07-06T12:51:43.429Z"
   },
   {
    "duration": 12,
    "start_time": "2024-07-06T12:51:43.727Z"
   },
   {
    "duration": 161,
    "start_time": "2024-07-06T12:51:43.741Z"
   },
   {
    "duration": 8,
    "start_time": "2024-07-06T12:51:43.904Z"
   },
   {
    "duration": 282,
    "start_time": "2024-07-06T12:51:43.913Z"
   },
   {
    "duration": 8,
    "start_time": "2024-07-06T12:51:44.197Z"
   },
   {
    "duration": 290,
    "start_time": "2024-07-06T12:51:44.206Z"
   },
   {
    "duration": 14,
    "start_time": "2024-07-06T12:51:44.497Z"
   },
   {
    "duration": 27,
    "start_time": "2024-07-06T12:51:44.513Z"
   },
   {
    "duration": 20,
    "start_time": "2024-07-06T12:51:44.542Z"
   },
   {
    "duration": 41,
    "start_time": "2024-07-06T12:51:44.564Z"
   },
   {
    "duration": 396,
    "start_time": "2024-07-06T12:51:44.607Z"
   },
   {
    "duration": 290,
    "start_time": "2024-07-06T12:51:45.004Z"
   },
   {
    "duration": 268,
    "start_time": "2024-07-06T12:51:45.296Z"
   },
   {
    "duration": 276,
    "start_time": "2024-07-06T12:51:45.568Z"
   },
   {
    "duration": 15,
    "start_time": "2024-07-06T12:51:45.846Z"
   },
   {
    "duration": 14,
    "start_time": "2024-07-06T12:51:45.862Z"
   },
   {
    "duration": 15,
    "start_time": "2024-07-06T12:51:45.892Z"
   },
   {
    "duration": 5,
    "start_time": "2024-07-06T12:51:45.909Z"
   },
   {
    "duration": 5,
    "start_time": "2024-07-06T12:51:45.916Z"
   },
   {
    "duration": 35,
    "start_time": "2024-07-06T12:51:45.923Z"
   },
   {
    "duration": 34,
    "start_time": "2024-07-06T12:51:45.960Z"
   },
   {
    "duration": 5,
    "start_time": "2024-07-06T12:51:45.996Z"
   },
   {
    "duration": 1720,
    "start_time": "2024-07-06T12:51:46.002Z"
   },
   {
    "duration": 5,
    "start_time": "2024-07-06T12:51:47.724Z"
   },
   {
    "duration": 1116,
    "start_time": "2024-07-06T12:52:08.361Z"
   },
   {
    "duration": 121,
    "start_time": "2024-07-06T12:52:09.479Z"
   },
   {
    "duration": 13,
    "start_time": "2024-07-06T12:52:09.602Z"
   },
   {
    "duration": 19,
    "start_time": "2024-07-06T12:52:09.617Z"
   },
   {
    "duration": 21,
    "start_time": "2024-07-06T12:52:09.639Z"
   },
   {
    "duration": 20,
    "start_time": "2024-07-06T12:52:09.662Z"
   },
   {
    "duration": 27,
    "start_time": "2024-07-06T12:52:09.684Z"
   },
   {
    "duration": 14,
    "start_time": "2024-07-06T12:52:09.712Z"
   },
   {
    "duration": 28,
    "start_time": "2024-07-06T12:52:09.727Z"
   },
   {
    "duration": 15,
    "start_time": "2024-07-06T12:52:09.757Z"
   },
   {
    "duration": 22,
    "start_time": "2024-07-06T12:52:09.773Z"
   },
   {
    "duration": 19,
    "start_time": "2024-07-06T12:52:09.796Z"
   },
   {
    "duration": 9,
    "start_time": "2024-07-06T12:52:09.817Z"
   },
   {
    "duration": 7,
    "start_time": "2024-07-06T12:52:09.830Z"
   },
   {
    "duration": 17,
    "start_time": "2024-07-06T12:52:09.839Z"
   },
   {
    "duration": 8,
    "start_time": "2024-07-06T12:52:09.857Z"
   },
   {
    "duration": 35,
    "start_time": "2024-07-06T12:52:09.867Z"
   },
   {
    "duration": 16,
    "start_time": "2024-07-06T12:52:09.904Z"
   },
   {
    "duration": 7,
    "start_time": "2024-07-06T12:52:09.922Z"
   },
   {
    "duration": 14,
    "start_time": "2024-07-06T12:52:09.930Z"
   },
   {
    "duration": 17,
    "start_time": "2024-07-06T12:52:09.946Z"
   },
   {
    "duration": 30,
    "start_time": "2024-07-06T12:52:09.965Z"
   },
   {
    "duration": 195,
    "start_time": "2024-07-06T12:52:09.997Z"
   },
   {
    "duration": 13,
    "start_time": "2024-07-06T12:52:10.193Z"
   },
   {
    "duration": 219,
    "start_time": "2024-07-06T12:52:10.208Z"
   },
   {
    "duration": 16,
    "start_time": "2024-07-06T12:52:10.429Z"
   },
   {
    "duration": 277,
    "start_time": "2024-07-06T12:52:10.447Z"
   },
   {
    "duration": 11,
    "start_time": "2024-07-06T12:52:10.726Z"
   },
   {
    "duration": 164,
    "start_time": "2024-07-06T12:52:10.738Z"
   },
   {
    "duration": 10,
    "start_time": "2024-07-06T12:52:10.903Z"
   },
   {
    "duration": 350,
    "start_time": "2024-07-06T12:52:10.915Z"
   },
   {
    "duration": 9,
    "start_time": "2024-07-06T12:52:11.266Z"
   },
   {
    "duration": 314,
    "start_time": "2024-07-06T12:52:11.277Z"
   },
   {
    "duration": 15,
    "start_time": "2024-07-06T12:52:11.593Z"
   },
   {
    "duration": 31,
    "start_time": "2024-07-06T12:52:11.609Z"
   },
   {
    "duration": 21,
    "start_time": "2024-07-06T12:52:11.641Z"
   },
   {
    "duration": 17,
    "start_time": "2024-07-06T12:52:11.691Z"
   },
   {
    "duration": 354,
    "start_time": "2024-07-06T12:52:11.710Z"
   },
   {
    "duration": 247,
    "start_time": "2024-07-06T12:52:12.066Z"
   },
   {
    "duration": 247,
    "start_time": "2024-07-06T12:52:12.315Z"
   },
   {
    "duration": 271,
    "start_time": "2024-07-06T12:52:12.567Z"
   },
   {
    "duration": 16,
    "start_time": "2024-07-06T12:52:12.840Z"
   },
   {
    "duration": 15,
    "start_time": "2024-07-06T12:52:12.857Z"
   },
   {
    "duration": 31,
    "start_time": "2024-07-06T12:52:12.874Z"
   },
   {
    "duration": 6,
    "start_time": "2024-07-06T12:52:12.907Z"
   },
   {
    "duration": 7,
    "start_time": "2024-07-06T12:52:12.915Z"
   },
   {
    "duration": 32,
    "start_time": "2024-07-06T12:52:12.923Z"
   },
   {
    "duration": 41,
    "start_time": "2024-07-06T12:52:12.957Z"
   },
   {
    "duration": 8,
    "start_time": "2024-07-06T12:52:13.000Z"
   },
   {
    "duration": 1684,
    "start_time": "2024-07-06T12:52:13.010Z"
   },
   {
    "duration": 6,
    "start_time": "2024-07-06T12:52:14.695Z"
   },
   {
    "duration": 1149,
    "start_time": "2024-07-06T12:52:49.103Z"
   },
   {
    "duration": 123,
    "start_time": "2024-07-06T12:52:50.255Z"
   },
   {
    "duration": 12,
    "start_time": "2024-07-06T12:52:50.380Z"
   },
   {
    "duration": 15,
    "start_time": "2024-07-06T12:52:50.394Z"
   },
   {
    "duration": 9,
    "start_time": "2024-07-06T12:52:50.411Z"
   },
   {
    "duration": 23,
    "start_time": "2024-07-06T12:52:50.421Z"
   },
   {
    "duration": 17,
    "start_time": "2024-07-06T12:52:50.446Z"
   },
   {
    "duration": 9,
    "start_time": "2024-07-06T12:52:50.465Z"
   },
   {
    "duration": 18,
    "start_time": "2024-07-06T12:52:50.475Z"
   },
   {
    "duration": 11,
    "start_time": "2024-07-06T12:52:50.495Z"
   },
   {
    "duration": 12,
    "start_time": "2024-07-06T12:52:50.507Z"
   },
   {
    "duration": 5,
    "start_time": "2024-07-06T12:52:50.520Z"
   },
   {
    "duration": 7,
    "start_time": "2024-07-06T12:52:50.527Z"
   },
   {
    "duration": 5,
    "start_time": "2024-07-06T12:52:50.537Z"
   },
   {
    "duration": 8,
    "start_time": "2024-07-06T12:52:50.543Z"
   },
   {
    "duration": 6,
    "start_time": "2024-07-06T12:52:50.592Z"
   },
   {
    "duration": 16,
    "start_time": "2024-07-06T12:52:50.600Z"
   },
   {
    "duration": 8,
    "start_time": "2024-07-06T12:52:50.617Z"
   },
   {
    "duration": 27,
    "start_time": "2024-07-06T12:52:50.626Z"
   },
   {
    "duration": 13,
    "start_time": "2024-07-06T12:52:50.655Z"
   },
   {
    "duration": 27,
    "start_time": "2024-07-06T12:52:50.670Z"
   },
   {
    "duration": 10,
    "start_time": "2024-07-06T12:52:50.699Z"
   },
   {
    "duration": 234,
    "start_time": "2024-07-06T12:52:50.711Z"
   },
   {
    "duration": 13,
    "start_time": "2024-07-06T12:52:50.947Z"
   },
   {
    "duration": 188,
    "start_time": "2024-07-06T12:52:50.962Z"
   },
   {
    "duration": 15,
    "start_time": "2024-07-06T12:52:51.152Z"
   },
   {
    "duration": 363,
    "start_time": "2024-07-06T12:52:51.168Z"
   },
   {
    "duration": 12,
    "start_time": "2024-07-06T12:52:51.533Z"
   },
   {
    "duration": 288,
    "start_time": "2024-07-06T12:52:51.546Z"
   },
   {
    "duration": 7,
    "start_time": "2024-07-06T12:52:51.836Z"
   },
   {
    "duration": 368,
    "start_time": "2024-07-06T12:52:51.844Z"
   },
   {
    "duration": 7,
    "start_time": "2024-07-06T12:52:52.214Z"
   },
   {
    "duration": 320,
    "start_time": "2024-07-06T12:52:52.224Z"
   },
   {
    "duration": 14,
    "start_time": "2024-07-06T12:52:52.545Z"
   },
   {
    "duration": 40,
    "start_time": "2024-07-06T12:52:52.560Z"
   },
   {
    "duration": 24,
    "start_time": "2024-07-06T12:52:52.603Z"
   },
   {
    "duration": 17,
    "start_time": "2024-07-06T12:52:52.629Z"
   },
   {
    "duration": 388,
    "start_time": "2024-07-06T12:52:52.648Z"
   },
   {
    "duration": 245,
    "start_time": "2024-07-06T12:52:53.038Z"
   },
   {
    "duration": 279,
    "start_time": "2024-07-06T12:52:53.291Z"
   },
   {
    "duration": 310,
    "start_time": "2024-07-06T12:52:53.576Z"
   },
   {
    "duration": 17,
    "start_time": "2024-07-06T12:52:53.888Z"
   },
   {
    "duration": 15,
    "start_time": "2024-07-06T12:52:53.907Z"
   },
   {
    "duration": 16,
    "start_time": "2024-07-06T12:52:53.924Z"
   },
   {
    "duration": 6,
    "start_time": "2024-07-06T12:52:53.942Z"
   },
   {
    "duration": 49,
    "start_time": "2024-07-06T12:52:53.950Z"
   },
   {
    "duration": 21,
    "start_time": "2024-07-06T12:52:54.000Z"
   },
   {
    "duration": 21,
    "start_time": "2024-07-06T12:52:54.023Z"
   },
   {
    "duration": 6,
    "start_time": "2024-07-06T12:52:54.046Z"
   },
   {
    "duration": 1667,
    "start_time": "2024-07-06T12:52:54.054Z"
   },
   {
    "duration": 5,
    "start_time": "2024-07-06T12:52:55.723Z"
   },
   {
    "duration": 1017,
    "start_time": "2024-07-06T12:53:55.247Z"
   },
   {
    "duration": 122,
    "start_time": "2024-07-06T12:53:56.266Z"
   },
   {
    "duration": 12,
    "start_time": "2024-07-06T12:53:56.390Z"
   },
   {
    "duration": 7,
    "start_time": "2024-07-06T12:53:56.404Z"
   },
   {
    "duration": 12,
    "start_time": "2024-07-06T12:53:56.413Z"
   },
   {
    "duration": 22,
    "start_time": "2024-07-06T12:53:56.427Z"
   },
   {
    "duration": 16,
    "start_time": "2024-07-06T12:53:56.451Z"
   },
   {
    "duration": 32,
    "start_time": "2024-07-06T12:53:56.468Z"
   },
   {
    "duration": 14,
    "start_time": "2024-07-06T12:53:56.502Z"
   },
   {
    "duration": 11,
    "start_time": "2024-07-06T12:53:56.518Z"
   },
   {
    "duration": 11,
    "start_time": "2024-07-06T12:53:56.531Z"
   },
   {
    "duration": 4,
    "start_time": "2024-07-06T12:53:56.544Z"
   },
   {
    "duration": 10,
    "start_time": "2024-07-06T12:53:56.549Z"
   },
   {
    "duration": 6,
    "start_time": "2024-07-06T12:53:56.593Z"
   },
   {
    "duration": 11,
    "start_time": "2024-07-06T12:53:56.601Z"
   },
   {
    "duration": 8,
    "start_time": "2024-07-06T12:53:56.614Z"
   },
   {
    "duration": 13,
    "start_time": "2024-07-06T12:53:56.624Z"
   },
   {
    "duration": 8,
    "start_time": "2024-07-06T12:53:56.639Z"
   },
   {
    "duration": 5,
    "start_time": "2024-07-06T12:53:56.649Z"
   },
   {
    "duration": 9,
    "start_time": "2024-07-06T12:53:56.692Z"
   },
   {
    "duration": 14,
    "start_time": "2024-07-06T12:53:56.703Z"
   },
   {
    "duration": 109,
    "start_time": "2024-07-06T12:53:56.720Z"
   },
   {
    "duration": 209,
    "start_time": "2024-07-06T12:53:56.831Z"
   },
   {
    "duration": 16,
    "start_time": "2024-07-06T12:53:57.041Z"
   },
   {
    "duration": 196,
    "start_time": "2024-07-06T12:53:57.059Z"
   },
   {
    "duration": 15,
    "start_time": "2024-07-06T12:53:57.257Z"
   },
   {
    "duration": 315,
    "start_time": "2024-07-06T12:53:57.274Z"
   },
   {
    "duration": 7,
    "start_time": "2024-07-06T12:53:57.591Z"
   },
   {
    "duration": 17,
    "start_time": "2024-07-06T12:53:57.600Z"
   },
   {
    "duration": 160,
    "start_time": "2024-07-06T12:53:57.619Z"
   },
   {
    "duration": 15,
    "start_time": "2024-07-06T12:53:57.782Z"
   },
   {
    "duration": 279,
    "start_time": "2024-07-06T12:53:57.799Z"
   },
   {
    "duration": 14,
    "start_time": "2024-07-06T12:53:58.080Z"
   },
   {
    "duration": 273,
    "start_time": "2024-07-06T12:53:58.096Z"
   },
   {
    "duration": 13,
    "start_time": "2024-07-06T12:53:58.371Z"
   },
   {
    "duration": 26,
    "start_time": "2024-07-06T12:53:58.392Z"
   },
   {
    "duration": 19,
    "start_time": "2024-07-06T12:53:58.420Z"
   },
   {
    "duration": 16,
    "start_time": "2024-07-06T12:53:58.441Z"
   },
   {
    "duration": 350,
    "start_time": "2024-07-06T12:53:58.459Z"
   },
   {
    "duration": 241,
    "start_time": "2024-07-06T12:53:58.811Z"
   },
   {
    "duration": 238,
    "start_time": "2024-07-06T12:53:59.056Z"
   },
   {
    "duration": 281,
    "start_time": "2024-07-06T12:53:59.296Z"
   },
   {
    "duration": 21,
    "start_time": "2024-07-06T12:53:59.579Z"
   },
   {
    "duration": 13,
    "start_time": "2024-07-06T12:53:59.601Z"
   },
   {
    "duration": 21,
    "start_time": "2024-07-06T12:53:59.616Z"
   },
   {
    "duration": 6,
    "start_time": "2024-07-06T12:53:59.639Z"
   },
   {
    "duration": 12,
    "start_time": "2024-07-06T12:53:59.647Z"
   },
   {
    "duration": 50,
    "start_time": "2024-07-06T12:53:59.661Z"
   },
   {
    "duration": 20,
    "start_time": "2024-07-06T12:53:59.713Z"
   },
   {
    "duration": 6,
    "start_time": "2024-07-06T12:53:59.734Z"
   },
   {
    "duration": 1702,
    "start_time": "2024-07-06T12:53:59.742Z"
   },
   {
    "duration": 6,
    "start_time": "2024-07-06T12:54:01.447Z"
   },
   {
    "duration": 1082,
    "start_time": "2024-07-06T12:56:34.611Z"
   },
   {
    "duration": 123,
    "start_time": "2024-07-06T12:56:35.695Z"
   },
   {
    "duration": 13,
    "start_time": "2024-07-06T12:56:35.819Z"
   },
   {
    "duration": 18,
    "start_time": "2024-07-06T12:56:35.834Z"
   },
   {
    "duration": 10,
    "start_time": "2024-07-06T12:56:35.855Z"
   },
   {
    "duration": 22,
    "start_time": "2024-07-06T12:56:35.867Z"
   },
   {
    "duration": 21,
    "start_time": "2024-07-06T12:56:35.890Z"
   },
   {
    "duration": 10,
    "start_time": "2024-07-06T12:56:35.913Z"
   },
   {
    "duration": 17,
    "start_time": "2024-07-06T12:56:35.925Z"
   },
   {
    "duration": 11,
    "start_time": "2024-07-06T12:56:35.943Z"
   },
   {
    "duration": 11,
    "start_time": "2024-07-06T12:56:35.955Z"
   },
   {
    "duration": 26,
    "start_time": "2024-07-06T12:56:35.967Z"
   },
   {
    "duration": 7,
    "start_time": "2024-07-06T12:56:35.994Z"
   },
   {
    "duration": 5,
    "start_time": "2024-07-06T12:56:36.005Z"
   },
   {
    "duration": 16,
    "start_time": "2024-07-06T12:56:36.012Z"
   },
   {
    "duration": 8,
    "start_time": "2024-07-06T12:56:36.029Z"
   },
   {
    "duration": 13,
    "start_time": "2024-07-06T12:56:36.038Z"
   },
   {
    "duration": 7,
    "start_time": "2024-07-06T12:56:36.053Z"
   },
   {
    "duration": 5,
    "start_time": "2024-07-06T12:56:36.092Z"
   },
   {
    "duration": 12,
    "start_time": "2024-07-06T12:56:36.099Z"
   },
   {
    "duration": 15,
    "start_time": "2024-07-06T12:56:36.112Z"
   },
   {
    "duration": 10,
    "start_time": "2024-07-06T12:56:36.129Z"
   },
   {
    "duration": 196,
    "start_time": "2024-07-06T12:56:36.140Z"
   },
   {
    "duration": 12,
    "start_time": "2024-07-06T12:56:36.338Z"
   },
   {
    "duration": 174,
    "start_time": "2024-07-06T12:56:36.351Z"
   },
   {
    "duration": 15,
    "start_time": "2024-07-06T12:56:36.526Z"
   },
   {
    "duration": 294,
    "start_time": "2024-07-06T12:56:36.543Z"
   },
   {
    "duration": 783,
    "start_time": "2024-07-06T12:56:36.838Z"
   },
   {
    "duration": 0,
    "start_time": "2024-07-06T12:56:37.623Z"
   },
   {
    "duration": 0,
    "start_time": "2024-07-06T12:56:37.624Z"
   },
   {
    "duration": 0,
    "start_time": "2024-07-06T12:56:37.625Z"
   },
   {
    "duration": 0,
    "start_time": "2024-07-06T12:56:37.627Z"
   },
   {
    "duration": 0,
    "start_time": "2024-07-06T12:56:37.628Z"
   },
   {
    "duration": 0,
    "start_time": "2024-07-06T12:56:37.629Z"
   },
   {
    "duration": 0,
    "start_time": "2024-07-06T12:56:37.630Z"
   },
   {
    "duration": 0,
    "start_time": "2024-07-06T12:56:37.631Z"
   },
   {
    "duration": 0,
    "start_time": "2024-07-06T12:56:37.632Z"
   },
   {
    "duration": 0,
    "start_time": "2024-07-06T12:56:37.633Z"
   },
   {
    "duration": 0,
    "start_time": "2024-07-06T12:56:37.634Z"
   },
   {
    "duration": 0,
    "start_time": "2024-07-06T12:56:37.636Z"
   },
   {
    "duration": 0,
    "start_time": "2024-07-06T12:56:37.637Z"
   },
   {
    "duration": 0,
    "start_time": "2024-07-06T12:56:37.638Z"
   },
   {
    "duration": 0,
    "start_time": "2024-07-06T12:56:37.639Z"
   },
   {
    "duration": 0,
    "start_time": "2024-07-06T12:56:37.640Z"
   },
   {
    "duration": 0,
    "start_time": "2024-07-06T12:56:37.641Z"
   },
   {
    "duration": 0,
    "start_time": "2024-07-06T12:56:37.642Z"
   },
   {
    "duration": 0,
    "start_time": "2024-07-06T12:56:37.643Z"
   },
   {
    "duration": 0,
    "start_time": "2024-07-06T12:56:37.644Z"
   },
   {
    "duration": 0,
    "start_time": "2024-07-06T12:56:37.645Z"
   },
   {
    "duration": 0,
    "start_time": "2024-07-06T12:56:37.647Z"
   },
   {
    "duration": 0,
    "start_time": "2024-07-06T12:56:37.648Z"
   },
   {
    "duration": 0,
    "start_time": "2024-07-06T12:56:37.649Z"
   },
   {
    "duration": 0,
    "start_time": "2024-07-06T12:56:37.650Z"
   },
   {
    "duration": 0,
    "start_time": "2024-07-06T12:56:37.651Z"
   },
   {
    "duration": 0,
    "start_time": "2024-07-06T12:56:37.652Z"
   },
   {
    "duration": 0,
    "start_time": "2024-07-06T12:56:37.654Z"
   },
   {
    "duration": 8,
    "start_time": "2024-07-06T12:56:49.292Z"
   },
   {
    "duration": 15,
    "start_time": "2024-07-06T12:58:24.469Z"
   },
   {
    "duration": 14,
    "start_time": "2024-07-06T12:58:29.348Z"
   },
   {
    "duration": 15,
    "start_time": "2024-07-06T12:59:10.180Z"
   },
   {
    "duration": 20,
    "start_time": "2024-07-06T13:00:28.132Z"
   },
   {
    "duration": 269,
    "start_time": "2024-07-06T13:01:41.876Z"
   },
   {
    "duration": 269,
    "start_time": "2024-07-06T13:01:53.980Z"
   },
   {
    "duration": 255,
    "start_time": "2024-07-06T13:02:01.596Z"
   },
   {
    "duration": 13,
    "start_time": "2024-07-06T13:02:52.004Z"
   },
   {
    "duration": 1145,
    "start_time": "2024-07-06T13:03:10.951Z"
   },
   {
    "duration": 124,
    "start_time": "2024-07-06T13:03:12.098Z"
   },
   {
    "duration": 12,
    "start_time": "2024-07-06T13:03:12.224Z"
   },
   {
    "duration": 9,
    "start_time": "2024-07-06T13:03:12.238Z"
   },
   {
    "duration": 26,
    "start_time": "2024-07-06T13:03:12.249Z"
   },
   {
    "duration": 65,
    "start_time": "2024-07-06T13:03:12.276Z"
   },
   {
    "duration": 25,
    "start_time": "2024-07-06T13:03:12.342Z"
   },
   {
    "duration": 9,
    "start_time": "2024-07-06T13:03:12.369Z"
   },
   {
    "duration": 15,
    "start_time": "2024-07-06T13:03:12.380Z"
   },
   {
    "duration": 11,
    "start_time": "2024-07-06T13:03:12.398Z"
   },
   {
    "duration": 11,
    "start_time": "2024-07-06T13:03:12.411Z"
   },
   {
    "duration": 4,
    "start_time": "2024-07-06T13:03:12.423Z"
   },
   {
    "duration": 7,
    "start_time": "2024-07-06T13:03:12.429Z"
   },
   {
    "duration": 6,
    "start_time": "2024-07-06T13:03:12.438Z"
   },
   {
    "duration": 7,
    "start_time": "2024-07-06T13:03:12.446Z"
   },
   {
    "duration": 42,
    "start_time": "2024-07-06T13:03:12.454Z"
   },
   {
    "duration": 34,
    "start_time": "2024-07-06T13:03:12.498Z"
   },
   {
    "duration": 7,
    "start_time": "2024-07-06T13:03:12.533Z"
   },
   {
    "duration": 5,
    "start_time": "2024-07-06T13:03:12.541Z"
   },
   {
    "duration": 11,
    "start_time": "2024-07-06T13:03:12.548Z"
   },
   {
    "duration": 14,
    "start_time": "2024-07-06T13:03:12.560Z"
   },
   {
    "duration": 24,
    "start_time": "2024-07-06T13:03:12.576Z"
   },
   {
    "duration": 192,
    "start_time": "2024-07-06T13:03:12.601Z"
   },
   {
    "duration": 13,
    "start_time": "2024-07-06T13:03:12.794Z"
   },
   {
    "duration": 244,
    "start_time": "2024-07-06T13:03:12.808Z"
   },
   {
    "duration": 16,
    "start_time": "2024-07-06T13:03:13.053Z"
   },
   {
    "duration": 278,
    "start_time": "2024-07-06T13:03:13.070Z"
   },
   {
    "duration": 16,
    "start_time": "2024-07-06T13:03:13.352Z"
   },
   {
    "duration": 25,
    "start_time": "2024-07-06T13:03:13.370Z"
   },
   {
    "duration": 162,
    "start_time": "2024-07-06T13:03:13.397Z"
   },
   {
    "duration": 7,
    "start_time": "2024-07-06T13:03:13.561Z"
   },
   {
    "duration": 273,
    "start_time": "2024-07-06T13:03:13.570Z"
   },
   {
    "duration": 8,
    "start_time": "2024-07-06T13:03:13.845Z"
   },
   {
    "duration": 276,
    "start_time": "2024-07-06T13:03:13.855Z"
   },
   {
    "duration": 14,
    "start_time": "2024-07-06T13:03:14.133Z"
   },
   {
    "duration": 43,
    "start_time": "2024-07-06T13:03:14.149Z"
   },
   {
    "duration": 21,
    "start_time": "2024-07-06T13:03:14.194Z"
   },
   {
    "duration": 17,
    "start_time": "2024-07-06T13:03:14.217Z"
   },
   {
    "duration": 344,
    "start_time": "2024-07-06T13:03:14.237Z"
   },
   {
    "duration": 335,
    "start_time": "2024-07-06T13:03:14.582Z"
   },
   {
    "duration": 276,
    "start_time": "2024-07-06T13:03:14.919Z"
   },
   {
    "duration": 276,
    "start_time": "2024-07-06T13:03:15.197Z"
   },
   {
    "duration": 25,
    "start_time": "2024-07-06T13:03:15.475Z"
   },
   {
    "duration": 14,
    "start_time": "2024-07-06T13:03:15.502Z"
   },
   {
    "duration": 20,
    "start_time": "2024-07-06T13:03:15.518Z"
   },
   {
    "duration": 5,
    "start_time": "2024-07-06T13:03:15.540Z"
   },
   {
    "duration": 11,
    "start_time": "2024-07-06T13:03:15.547Z"
   },
   {
    "duration": 46,
    "start_time": "2024-07-06T13:03:15.560Z"
   },
   {
    "duration": 19,
    "start_time": "2024-07-06T13:03:15.607Z"
   },
   {
    "duration": 27,
    "start_time": "2024-07-06T13:03:15.628Z"
   },
   {
    "duration": 1766,
    "start_time": "2024-07-06T13:03:15.656Z"
   },
   {
    "duration": 5,
    "start_time": "2024-07-06T13:03:17.424Z"
   },
   {
    "duration": 1115,
    "start_time": "2024-07-06T13:04:24.352Z"
   },
   {
    "duration": 134,
    "start_time": "2024-07-06T13:04:25.469Z"
   },
   {
    "duration": 12,
    "start_time": "2024-07-06T13:04:25.605Z"
   },
   {
    "duration": 12,
    "start_time": "2024-07-06T13:04:25.619Z"
   },
   {
    "duration": 33,
    "start_time": "2024-07-06T13:04:25.633Z"
   },
   {
    "duration": 18,
    "start_time": "2024-07-06T13:04:25.667Z"
   },
   {
    "duration": 14,
    "start_time": "2024-07-06T13:04:25.687Z"
   },
   {
    "duration": 11,
    "start_time": "2024-07-06T13:04:25.702Z"
   },
   {
    "duration": 20,
    "start_time": "2024-07-06T13:04:25.714Z"
   },
   {
    "duration": 11,
    "start_time": "2024-07-06T13:04:25.736Z"
   },
   {
    "duration": 11,
    "start_time": "2024-07-06T13:04:25.749Z"
   },
   {
    "duration": 4,
    "start_time": "2024-07-06T13:04:25.761Z"
   },
   {
    "duration": 7,
    "start_time": "2024-07-06T13:04:25.792Z"
   },
   {
    "duration": 11,
    "start_time": "2024-07-06T13:04:25.804Z"
   },
   {
    "duration": 19,
    "start_time": "2024-07-06T13:04:25.817Z"
   },
   {
    "duration": 13,
    "start_time": "2024-07-06T13:04:25.838Z"
   },
   {
    "duration": 49,
    "start_time": "2024-07-06T13:04:25.853Z"
   },
   {
    "duration": 11,
    "start_time": "2024-07-06T13:04:25.903Z"
   },
   {
    "duration": 5,
    "start_time": "2024-07-06T13:04:25.916Z"
   },
   {
    "duration": 20,
    "start_time": "2024-07-06T13:04:25.923Z"
   },
   {
    "duration": 13,
    "start_time": "2024-07-06T13:04:25.945Z"
   },
   {
    "duration": 29,
    "start_time": "2024-07-06T13:04:25.959Z"
   },
   {
    "duration": 181,
    "start_time": "2024-07-06T13:04:25.989Z"
   },
   {
    "duration": 21,
    "start_time": "2024-07-06T13:04:26.171Z"
   },
   {
    "duration": 169,
    "start_time": "2024-07-06T13:04:26.194Z"
   },
   {
    "duration": 13,
    "start_time": "2024-07-06T13:04:26.365Z"
   },
   {
    "duration": 282,
    "start_time": "2024-07-06T13:04:26.392Z"
   },
   {
    "duration": 22,
    "start_time": "2024-07-06T13:04:26.676Z"
   },
   {
    "duration": 30,
    "start_time": "2024-07-06T13:04:26.700Z"
   },
   {
    "duration": 299,
    "start_time": "2024-07-06T13:04:26.732Z"
   },
   {
    "duration": 0,
    "start_time": "2024-07-06T13:04:27.034Z"
   },
   {
    "duration": 0,
    "start_time": "2024-07-06T13:04:27.035Z"
   },
   {
    "duration": 0,
    "start_time": "2024-07-06T13:04:27.037Z"
   },
   {
    "duration": 0,
    "start_time": "2024-07-06T13:04:27.038Z"
   },
   {
    "duration": 0,
    "start_time": "2024-07-06T13:04:27.040Z"
   },
   {
    "duration": 0,
    "start_time": "2024-07-06T13:04:27.041Z"
   },
   {
    "duration": 0,
    "start_time": "2024-07-06T13:04:27.043Z"
   },
   {
    "duration": 0,
    "start_time": "2024-07-06T13:04:27.044Z"
   },
   {
    "duration": 0,
    "start_time": "2024-07-06T13:04:27.046Z"
   },
   {
    "duration": 0,
    "start_time": "2024-07-06T13:04:27.047Z"
   },
   {
    "duration": 0,
    "start_time": "2024-07-06T13:04:27.049Z"
   },
   {
    "duration": 0,
    "start_time": "2024-07-06T13:04:27.050Z"
   },
   {
    "duration": 0,
    "start_time": "2024-07-06T13:04:27.053Z"
   },
   {
    "duration": 0,
    "start_time": "2024-07-06T13:04:27.054Z"
   },
   {
    "duration": 0,
    "start_time": "2024-07-06T13:04:27.092Z"
   },
   {
    "duration": 0,
    "start_time": "2024-07-06T13:04:27.094Z"
   },
   {
    "duration": 0,
    "start_time": "2024-07-06T13:04:27.095Z"
   },
   {
    "duration": 0,
    "start_time": "2024-07-06T13:04:27.097Z"
   },
   {
    "duration": 0,
    "start_time": "2024-07-06T13:04:27.098Z"
   },
   {
    "duration": 0,
    "start_time": "2024-07-06T13:04:27.099Z"
   },
   {
    "duration": 0,
    "start_time": "2024-07-06T13:04:27.101Z"
   },
   {
    "duration": 0,
    "start_time": "2024-07-06T13:04:27.102Z"
   },
   {
    "duration": 0,
    "start_time": "2024-07-06T13:04:27.104Z"
   },
   {
    "duration": 0,
    "start_time": "2024-07-06T13:04:27.105Z"
   },
   {
    "duration": 0,
    "start_time": "2024-07-06T13:04:27.106Z"
   },
   {
    "duration": 0,
    "start_time": "2024-07-06T13:04:27.107Z"
   },
   {
    "duration": 133,
    "start_time": "2024-07-06T13:04:48.940Z"
   },
   {
    "duration": 1046,
    "start_time": "2024-07-06T13:05:02.740Z"
   },
   {
    "duration": 129,
    "start_time": "2024-07-06T13:05:03.788Z"
   },
   {
    "duration": 14,
    "start_time": "2024-07-06T13:05:03.919Z"
   },
   {
    "duration": 29,
    "start_time": "2024-07-06T13:05:03.935Z"
   },
   {
    "duration": 27,
    "start_time": "2024-07-06T13:05:03.966Z"
   },
   {
    "duration": 33,
    "start_time": "2024-07-06T13:05:03.995Z"
   },
   {
    "duration": 43,
    "start_time": "2024-07-06T13:05:04.030Z"
   },
   {
    "duration": 28,
    "start_time": "2024-07-06T13:05:04.076Z"
   },
   {
    "duration": 44,
    "start_time": "2024-07-06T13:05:04.106Z"
   },
   {
    "duration": 26,
    "start_time": "2024-07-06T13:05:04.154Z"
   },
   {
    "duration": 29,
    "start_time": "2024-07-06T13:05:04.182Z"
   },
   {
    "duration": 6,
    "start_time": "2024-07-06T13:05:04.213Z"
   },
   {
    "duration": 21,
    "start_time": "2024-07-06T13:05:04.221Z"
   },
   {
    "duration": 83,
    "start_time": "2024-07-06T13:05:04.244Z"
   },
   {
    "duration": 32,
    "start_time": "2024-07-06T13:05:04.329Z"
   },
   {
    "duration": 44,
    "start_time": "2024-07-06T13:05:04.363Z"
   },
   {
    "duration": 33,
    "start_time": "2024-07-06T13:05:04.409Z"
   },
   {
    "duration": 31,
    "start_time": "2024-07-06T13:05:04.444Z"
   },
   {
    "duration": 24,
    "start_time": "2024-07-06T13:05:04.477Z"
   },
   {
    "duration": 38,
    "start_time": "2024-07-06T13:05:04.503Z"
   },
   {
    "duration": 23,
    "start_time": "2024-07-06T13:05:04.543Z"
   },
   {
    "duration": 10,
    "start_time": "2024-07-06T13:05:04.568Z"
   },
   {
    "duration": 207,
    "start_time": "2024-07-06T13:05:04.580Z"
   },
   {
    "duration": 13,
    "start_time": "2024-07-06T13:05:04.788Z"
   },
   {
    "duration": 255,
    "start_time": "2024-07-06T13:05:04.802Z"
   },
   {
    "duration": 19,
    "start_time": "2024-07-06T13:05:05.059Z"
   },
   {
    "duration": 300,
    "start_time": "2024-07-06T13:05:05.080Z"
   },
   {
    "duration": 17,
    "start_time": "2024-07-06T13:05:05.384Z"
   },
   {
    "duration": 33,
    "start_time": "2024-07-06T13:05:05.402Z"
   },
   {
    "duration": 251,
    "start_time": "2024-07-06T13:05:05.437Z"
   },
   {
    "duration": 0,
    "start_time": "2024-07-06T13:05:05.690Z"
   },
   {
    "duration": 0,
    "start_time": "2024-07-06T13:05:05.691Z"
   },
   {
    "duration": 0,
    "start_time": "2024-07-06T13:05:05.693Z"
   },
   {
    "duration": 0,
    "start_time": "2024-07-06T13:05:05.693Z"
   },
   {
    "duration": 0,
    "start_time": "2024-07-06T13:05:05.695Z"
   },
   {
    "duration": 0,
    "start_time": "2024-07-06T13:05:05.696Z"
   },
   {
    "duration": 0,
    "start_time": "2024-07-06T13:05:05.697Z"
   },
   {
    "duration": 0,
    "start_time": "2024-07-06T13:05:05.698Z"
   },
   {
    "duration": 0,
    "start_time": "2024-07-06T13:05:05.699Z"
   },
   {
    "duration": 0,
    "start_time": "2024-07-06T13:05:05.700Z"
   },
   {
    "duration": 0,
    "start_time": "2024-07-06T13:05:05.701Z"
   },
   {
    "duration": 0,
    "start_time": "2024-07-06T13:05:05.702Z"
   },
   {
    "duration": 0,
    "start_time": "2024-07-06T13:05:05.704Z"
   },
   {
    "duration": 0,
    "start_time": "2024-07-06T13:05:05.705Z"
   },
   {
    "duration": 0,
    "start_time": "2024-07-06T13:05:05.706Z"
   },
   {
    "duration": 0,
    "start_time": "2024-07-06T13:05:05.707Z"
   },
   {
    "duration": 0,
    "start_time": "2024-07-06T13:05:05.708Z"
   },
   {
    "duration": 0,
    "start_time": "2024-07-06T13:05:05.709Z"
   },
   {
    "duration": 0,
    "start_time": "2024-07-06T13:05:05.710Z"
   },
   {
    "duration": 0,
    "start_time": "2024-07-06T13:05:05.711Z"
   },
   {
    "duration": 0,
    "start_time": "2024-07-06T13:05:05.712Z"
   },
   {
    "duration": 0,
    "start_time": "2024-07-06T13:05:05.713Z"
   },
   {
    "duration": 0,
    "start_time": "2024-07-06T13:05:05.714Z"
   },
   {
    "duration": 0,
    "start_time": "2024-07-06T13:05:05.715Z"
   },
   {
    "duration": 0,
    "start_time": "2024-07-06T13:05:05.716Z"
   },
   {
    "duration": 0,
    "start_time": "2024-07-06T13:05:05.717Z"
   },
   {
    "duration": 156,
    "start_time": "2024-07-06T13:05:28.070Z"
   },
   {
    "duration": 146,
    "start_time": "2024-07-06T13:05:38.436Z"
   },
   {
    "duration": 8,
    "start_time": "2024-07-06T13:05:52.860Z"
   },
   {
    "duration": 285,
    "start_time": "2024-07-06T13:05:55.644Z"
   },
   {
    "duration": 9,
    "start_time": "2024-07-06T13:06:03.660Z"
   },
   {
    "duration": 255,
    "start_time": "2024-07-06T13:06:08.708Z"
   },
   {
    "duration": 15,
    "start_time": "2024-07-06T13:06:11.564Z"
   },
   {
    "duration": 330,
    "start_time": "2024-07-06T13:07:36.468Z"
   },
   {
    "duration": 304,
    "start_time": "2024-07-06T13:10:32.390Z"
   },
   {
    "duration": 284,
    "start_time": "2024-07-06T13:11:17.012Z"
   },
   {
    "duration": 248,
    "start_time": "2024-07-06T13:11:52.996Z"
   },
   {
    "duration": 1152,
    "start_time": "2024-07-06T13:12:01.621Z"
   },
   {
    "duration": 103,
    "start_time": "2024-07-06T13:12:02.776Z"
   },
   {
    "duration": 44,
    "start_time": "2024-07-06T13:12:02.881Z"
   },
   {
    "duration": 9,
    "start_time": "2024-07-06T13:12:02.927Z"
   },
   {
    "duration": 14,
    "start_time": "2024-07-06T13:12:02.937Z"
   },
   {
    "duration": 24,
    "start_time": "2024-07-06T13:12:02.953Z"
   },
   {
    "duration": 17,
    "start_time": "2024-07-06T13:12:02.978Z"
   },
   {
    "duration": 10,
    "start_time": "2024-07-06T13:12:02.996Z"
   },
   {
    "duration": 20,
    "start_time": "2024-07-06T13:12:03.007Z"
   },
   {
    "duration": 11,
    "start_time": "2024-07-06T13:12:03.030Z"
   },
   {
    "duration": 12,
    "start_time": "2024-07-06T13:12:03.043Z"
   },
   {
    "duration": 6,
    "start_time": "2024-07-06T13:12:03.056Z"
   },
   {
    "duration": 31,
    "start_time": "2024-07-06T13:12:03.064Z"
   },
   {
    "duration": 7,
    "start_time": "2024-07-06T13:12:03.097Z"
   },
   {
    "duration": 8,
    "start_time": "2024-07-06T13:12:03.106Z"
   },
   {
    "duration": 7,
    "start_time": "2024-07-06T13:12:03.115Z"
   },
   {
    "duration": 11,
    "start_time": "2024-07-06T13:12:03.124Z"
   },
   {
    "duration": 7,
    "start_time": "2024-07-06T13:12:03.137Z"
   },
   {
    "duration": 47,
    "start_time": "2024-07-06T13:12:03.146Z"
   },
   {
    "duration": 9,
    "start_time": "2024-07-06T13:12:03.195Z"
   },
   {
    "duration": 15,
    "start_time": "2024-07-06T13:12:03.206Z"
   },
   {
    "duration": 12,
    "start_time": "2024-07-06T13:12:03.223Z"
   },
   {
    "duration": 201,
    "start_time": "2024-07-06T13:12:03.237Z"
   },
   {
    "duration": 15,
    "start_time": "2024-07-06T13:12:03.440Z"
   },
   {
    "duration": 181,
    "start_time": "2024-07-06T13:12:03.457Z"
   },
   {
    "duration": 16,
    "start_time": "2024-07-06T13:12:03.640Z"
   },
   {
    "duration": 275,
    "start_time": "2024-07-06T13:12:03.658Z"
   },
   {
    "duration": 17,
    "start_time": "2024-07-06T13:12:03.936Z"
   },
   {
    "duration": 15,
    "start_time": "2024-07-06T13:12:03.954Z"
   },
   {
    "duration": 189,
    "start_time": "2024-07-06T13:12:03.971Z"
   },
   {
    "duration": 8,
    "start_time": "2024-07-06T13:12:04.161Z"
   },
   {
    "duration": 278,
    "start_time": "2024-07-06T13:12:04.171Z"
   },
   {
    "duration": 8,
    "start_time": "2024-07-06T13:12:04.451Z"
   },
   {
    "duration": 283,
    "start_time": "2024-07-06T13:12:04.461Z"
   },
   {
    "duration": 267,
    "start_time": "2024-07-06T13:12:04.746Z"
   },
   {
    "duration": 14,
    "start_time": "2024-07-06T13:12:05.014Z"
   },
   {
    "duration": 131,
    "start_time": "2024-07-06T13:12:05.029Z"
   },
   {
    "duration": 18,
    "start_time": "2024-07-06T13:12:05.162Z"
   },
   {
    "duration": 24,
    "start_time": "2024-07-06T13:12:05.182Z"
   },
   {
    "duration": 286,
    "start_time": "2024-07-06T13:12:05.208Z"
   },
   {
    "duration": 276,
    "start_time": "2024-07-06T13:12:05.496Z"
   },
   {
    "duration": 255,
    "start_time": "2024-07-06T13:12:05.773Z"
   },
   {
    "duration": 265,
    "start_time": "2024-07-06T13:12:06.029Z"
   },
   {
    "duration": 15,
    "start_time": "2024-07-06T13:12:06.295Z"
   },
   {
    "duration": 70,
    "start_time": "2024-07-06T13:12:06.311Z"
   },
   {
    "duration": 15,
    "start_time": "2024-07-06T13:12:06.383Z"
   },
   {
    "duration": 6,
    "start_time": "2024-07-06T13:12:06.400Z"
   },
   {
    "duration": 5,
    "start_time": "2024-07-06T13:12:06.408Z"
   },
   {
    "duration": 22,
    "start_time": "2024-07-06T13:12:06.414Z"
   },
   {
    "duration": 27,
    "start_time": "2024-07-06T13:12:06.437Z"
   },
   {
    "duration": 5,
    "start_time": "2024-07-06T13:12:06.466Z"
   },
   {
    "duration": 1652,
    "start_time": "2024-07-06T13:12:06.491Z"
   },
   {
    "duration": 5,
    "start_time": "2024-07-06T13:12:08.145Z"
   },
   {
    "duration": 1167,
    "start_time": "2024-07-06T13:14:42.279Z"
   },
   {
    "duration": 122,
    "start_time": "2024-07-06T13:14:43.448Z"
   },
   {
    "duration": 12,
    "start_time": "2024-07-06T13:14:43.572Z"
   },
   {
    "duration": 14,
    "start_time": "2024-07-06T13:14:43.586Z"
   },
   {
    "duration": 9,
    "start_time": "2024-07-06T13:14:43.602Z"
   },
   {
    "duration": 23,
    "start_time": "2024-07-06T13:14:43.613Z"
   },
   {
    "duration": 29,
    "start_time": "2024-07-06T13:14:43.638Z"
   },
   {
    "duration": 15,
    "start_time": "2024-07-06T13:14:43.669Z"
   },
   {
    "duration": 25,
    "start_time": "2024-07-06T13:14:43.686Z"
   },
   {
    "duration": 11,
    "start_time": "2024-07-06T13:14:43.712Z"
   },
   {
    "duration": 12,
    "start_time": "2024-07-06T13:14:43.725Z"
   },
   {
    "duration": 9,
    "start_time": "2024-07-06T13:14:43.739Z"
   },
   {
    "duration": 7,
    "start_time": "2024-07-06T13:14:43.750Z"
   },
   {
    "duration": 18,
    "start_time": "2024-07-06T13:14:43.759Z"
   },
   {
    "duration": 17,
    "start_time": "2024-07-06T13:14:43.779Z"
   },
   {
    "duration": 6,
    "start_time": "2024-07-06T13:14:43.798Z"
   },
   {
    "duration": 10,
    "start_time": "2024-07-06T13:14:43.806Z"
   },
   {
    "duration": 8,
    "start_time": "2024-07-06T13:14:43.818Z"
   },
   {
    "duration": 8,
    "start_time": "2024-07-06T13:14:43.828Z"
   },
   {
    "duration": 39,
    "start_time": "2024-07-06T13:14:43.838Z"
   },
   {
    "duration": 21,
    "start_time": "2024-07-06T13:14:43.879Z"
   },
   {
    "duration": 10,
    "start_time": "2024-07-06T13:14:43.902Z"
   },
   {
    "duration": 207,
    "start_time": "2024-07-06T13:14:43.914Z"
   },
   {
    "duration": 15,
    "start_time": "2024-07-06T13:14:44.123Z"
   },
   {
    "duration": 197,
    "start_time": "2024-07-06T13:14:44.140Z"
   },
   {
    "duration": 14,
    "start_time": "2024-07-06T13:14:44.339Z"
   },
   {
    "duration": 266,
    "start_time": "2024-07-06T13:14:44.354Z"
   },
   {
    "duration": 17,
    "start_time": "2024-07-06T13:14:44.622Z"
   },
   {
    "duration": 13,
    "start_time": "2024-07-06T13:14:44.641Z"
   },
   {
    "duration": 179,
    "start_time": "2024-07-06T13:14:44.656Z"
   },
   {
    "duration": 9,
    "start_time": "2024-07-06T13:14:44.837Z"
   },
   {
    "duration": 324,
    "start_time": "2024-07-06T13:14:44.848Z"
   },
   {
    "duration": 7,
    "start_time": "2024-07-06T13:14:45.174Z"
   },
   {
    "duration": 266,
    "start_time": "2024-07-06T13:14:45.182Z"
   },
   {
    "duration": 251,
    "start_time": "2024-07-06T13:14:45.449Z"
   },
   {
    "duration": 6,
    "start_time": "2024-07-06T13:14:45.702Z"
   },
   {
    "duration": 16,
    "start_time": "2024-07-06T13:14:45.710Z"
   },
   {
    "duration": 127,
    "start_time": "2024-07-06T13:14:45.728Z"
   },
   {
    "duration": 21,
    "start_time": "2024-07-06T13:14:45.857Z"
   },
   {
    "duration": 17,
    "start_time": "2024-07-06T13:14:45.892Z"
   },
   {
    "duration": 277,
    "start_time": "2024-07-06T13:14:45.913Z"
   },
   {
    "duration": 261,
    "start_time": "2024-07-06T13:14:46.192Z"
   },
   {
    "duration": 246,
    "start_time": "2024-07-06T13:14:46.454Z"
   },
   {
    "duration": 279,
    "start_time": "2024-07-06T13:14:46.701Z"
   },
   {
    "duration": 14,
    "start_time": "2024-07-06T13:14:46.982Z"
   },
   {
    "duration": 16,
    "start_time": "2024-07-06T13:14:46.998Z"
   },
   {
    "duration": 18,
    "start_time": "2024-07-06T13:14:47.016Z"
   },
   {
    "duration": 6,
    "start_time": "2024-07-06T13:14:47.036Z"
   },
   {
    "duration": 6,
    "start_time": "2024-07-06T13:14:47.044Z"
   },
   {
    "duration": 50,
    "start_time": "2024-07-06T13:14:47.052Z"
   },
   {
    "duration": 20,
    "start_time": "2024-07-06T13:14:47.104Z"
   },
   {
    "duration": 5,
    "start_time": "2024-07-06T13:14:47.126Z"
   },
   {
    "duration": 1711,
    "start_time": "2024-07-06T13:14:47.133Z"
   },
   {
    "duration": 6,
    "start_time": "2024-07-06T13:14:48.845Z"
   },
   {
    "duration": 1087,
    "start_time": "2024-07-06T13:15:08.909Z"
   },
   {
    "duration": 136,
    "start_time": "2024-07-06T13:15:09.998Z"
   },
   {
    "duration": 16,
    "start_time": "2024-07-06T13:15:10.135Z"
   },
   {
    "duration": 10,
    "start_time": "2024-07-06T13:15:10.153Z"
   },
   {
    "duration": 21,
    "start_time": "2024-07-06T13:15:10.165Z"
   },
   {
    "duration": 12,
    "start_time": "2024-07-06T13:15:10.188Z"
   },
   {
    "duration": 28,
    "start_time": "2024-07-06T13:15:10.202Z"
   },
   {
    "duration": 16,
    "start_time": "2024-07-06T13:15:10.232Z"
   },
   {
    "duration": 15,
    "start_time": "2024-07-06T13:15:10.250Z"
   },
   {
    "duration": 15,
    "start_time": "2024-07-06T13:15:10.266Z"
   },
   {
    "duration": 16,
    "start_time": "2024-07-06T13:15:10.282Z"
   },
   {
    "duration": 5,
    "start_time": "2024-07-06T13:15:10.299Z"
   },
   {
    "duration": 68,
    "start_time": "2024-07-06T13:15:10.305Z"
   },
   {
    "duration": 6,
    "start_time": "2024-07-06T13:15:10.376Z"
   },
   {
    "duration": 7,
    "start_time": "2024-07-06T13:15:10.383Z"
   },
   {
    "duration": 21,
    "start_time": "2024-07-06T13:15:10.391Z"
   },
   {
    "duration": 25,
    "start_time": "2024-07-06T13:15:10.413Z"
   },
   {
    "duration": 6,
    "start_time": "2024-07-06T13:15:10.440Z"
   },
   {
    "duration": 8,
    "start_time": "2024-07-06T13:15:10.447Z"
   },
   {
    "duration": 19,
    "start_time": "2024-07-06T13:15:10.456Z"
   },
   {
    "duration": 24,
    "start_time": "2024-07-06T13:15:10.476Z"
   },
   {
    "duration": 10,
    "start_time": "2024-07-06T13:15:10.502Z"
   },
   {
    "duration": 175,
    "start_time": "2024-07-06T13:15:10.513Z"
   },
   {
    "duration": 12,
    "start_time": "2024-07-06T13:15:10.692Z"
   },
   {
    "duration": 172,
    "start_time": "2024-07-06T13:15:10.706Z"
   },
   {
    "duration": 20,
    "start_time": "2024-07-06T13:15:10.879Z"
   },
   {
    "duration": 274,
    "start_time": "2024-07-06T13:15:10.901Z"
   },
   {
    "duration": 21,
    "start_time": "2024-07-06T13:15:11.177Z"
   },
   {
    "duration": 17,
    "start_time": "2024-07-06T13:15:11.200Z"
   },
   {
    "duration": 244,
    "start_time": "2024-07-06T13:15:11.218Z"
   },
   {
    "duration": 8,
    "start_time": "2024-07-06T13:15:11.463Z"
   },
   {
    "duration": 318,
    "start_time": "2024-07-06T13:15:11.473Z"
   },
   {
    "duration": 8,
    "start_time": "2024-07-06T13:15:11.793Z"
   },
   {
    "duration": 326,
    "start_time": "2024-07-06T13:15:11.803Z"
   },
   {
    "duration": 253,
    "start_time": "2024-07-06T13:15:12.131Z"
   },
   {
    "duration": 9,
    "start_time": "2024-07-06T13:15:12.391Z"
   },
   {
    "duration": 13,
    "start_time": "2024-07-06T13:15:12.402Z"
   },
   {
    "duration": 122,
    "start_time": "2024-07-06T13:15:12.416Z"
   },
   {
    "duration": 20,
    "start_time": "2024-07-06T13:15:12.539Z"
   },
   {
    "duration": 33,
    "start_time": "2024-07-06T13:15:12.560Z"
   },
   {
    "duration": 259,
    "start_time": "2024-07-06T13:15:12.597Z"
   },
   {
    "duration": 256,
    "start_time": "2024-07-06T13:15:12.858Z"
   },
   {
    "duration": 278,
    "start_time": "2024-07-06T13:15:13.116Z"
   },
   {
    "duration": 280,
    "start_time": "2024-07-06T13:15:13.396Z"
   },
   {
    "duration": 19,
    "start_time": "2024-07-06T13:15:13.678Z"
   },
   {
    "duration": 13,
    "start_time": "2024-07-06T13:15:13.699Z"
   },
   {
    "duration": 15,
    "start_time": "2024-07-06T13:15:13.714Z"
   },
   {
    "duration": 7,
    "start_time": "2024-07-06T13:15:13.730Z"
   },
   {
    "duration": 6,
    "start_time": "2024-07-06T13:15:13.739Z"
   },
   {
    "duration": 58,
    "start_time": "2024-07-06T13:15:13.747Z"
   },
   {
    "duration": 19,
    "start_time": "2024-07-06T13:15:13.807Z"
   },
   {
    "duration": 7,
    "start_time": "2024-07-06T13:15:13.828Z"
   },
   {
    "duration": 1664,
    "start_time": "2024-07-06T13:15:13.837Z"
   },
   {
    "duration": 5,
    "start_time": "2024-07-06T13:15:15.503Z"
   },
   {
    "duration": 1128,
    "start_time": "2024-07-06T13:17:12.295Z"
   },
   {
    "duration": 133,
    "start_time": "2024-07-06T13:17:13.426Z"
   },
   {
    "duration": 12,
    "start_time": "2024-07-06T13:17:13.561Z"
   },
   {
    "duration": 8,
    "start_time": "2024-07-06T13:17:13.575Z"
   },
   {
    "duration": 8,
    "start_time": "2024-07-06T13:17:13.586Z"
   },
   {
    "duration": 21,
    "start_time": "2024-07-06T13:17:13.596Z"
   },
   {
    "duration": 24,
    "start_time": "2024-07-06T13:17:13.619Z"
   },
   {
    "duration": 13,
    "start_time": "2024-07-06T13:17:13.645Z"
   },
   {
    "duration": 18,
    "start_time": "2024-07-06T13:17:13.660Z"
   },
   {
    "duration": 20,
    "start_time": "2024-07-06T13:17:13.679Z"
   },
   {
    "duration": 12,
    "start_time": "2024-07-06T13:17:13.701Z"
   },
   {
    "duration": 5,
    "start_time": "2024-07-06T13:17:13.714Z"
   },
   {
    "duration": 12,
    "start_time": "2024-07-06T13:17:13.720Z"
   },
   {
    "duration": 5,
    "start_time": "2024-07-06T13:17:13.735Z"
   },
   {
    "duration": 6,
    "start_time": "2024-07-06T13:17:13.742Z"
   },
   {
    "duration": 5,
    "start_time": "2024-07-06T13:17:13.750Z"
   },
   {
    "duration": 44,
    "start_time": "2024-07-06T13:17:13.757Z"
   },
   {
    "duration": 12,
    "start_time": "2024-07-06T13:17:13.803Z"
   },
   {
    "duration": 15,
    "start_time": "2024-07-06T13:17:13.817Z"
   },
   {
    "duration": 14,
    "start_time": "2024-07-06T13:17:13.833Z"
   },
   {
    "duration": 14,
    "start_time": "2024-07-06T13:17:13.848Z"
   },
   {
    "duration": 11,
    "start_time": "2024-07-06T13:17:13.864Z"
   },
   {
    "duration": 170,
    "start_time": "2024-07-06T13:17:13.892Z"
   },
   {
    "duration": 12,
    "start_time": "2024-07-06T13:17:14.064Z"
   },
   {
    "duration": 161,
    "start_time": "2024-07-06T13:17:14.091Z"
   },
   {
    "duration": 14,
    "start_time": "2024-07-06T13:17:14.253Z"
   },
   {
    "duration": 295,
    "start_time": "2024-07-06T13:17:14.268Z"
   },
   {
    "duration": 31,
    "start_time": "2024-07-06T13:17:14.565Z"
   },
   {
    "duration": 14,
    "start_time": "2024-07-06T13:17:14.597Z"
   },
   {
    "duration": 178,
    "start_time": "2024-07-06T13:17:14.613Z"
   },
   {
    "duration": 8,
    "start_time": "2024-07-06T13:17:14.793Z"
   },
   {
    "duration": 298,
    "start_time": "2024-07-06T13:17:14.803Z"
   },
   {
    "duration": 7,
    "start_time": "2024-07-06T13:17:15.103Z"
   },
   {
    "duration": 276,
    "start_time": "2024-07-06T13:17:15.112Z"
   },
   {
    "duration": 248,
    "start_time": "2024-07-06T13:17:15.392Z"
   },
   {
    "duration": 12,
    "start_time": "2024-07-06T13:17:15.641Z"
   },
   {
    "duration": 12,
    "start_time": "2024-07-06T13:17:15.655Z"
   },
   {
    "duration": 125,
    "start_time": "2024-07-06T13:17:15.668Z"
   },
   {
    "duration": 21,
    "start_time": "2024-07-06T13:17:15.795Z"
   },
   {
    "duration": 24,
    "start_time": "2024-07-06T13:17:15.818Z"
   },
   {
    "duration": 320,
    "start_time": "2024-07-06T13:17:15.847Z"
   },
   {
    "duration": 282,
    "start_time": "2024-07-06T13:17:16.169Z"
   },
   {
    "duration": 255,
    "start_time": "2024-07-06T13:17:16.453Z"
   },
   {
    "duration": 261,
    "start_time": "2024-07-06T13:17:16.710Z"
   },
   {
    "duration": 21,
    "start_time": "2024-07-06T13:17:16.973Z"
   },
   {
    "duration": 15,
    "start_time": "2024-07-06T13:17:16.995Z"
   },
   {
    "duration": 18,
    "start_time": "2024-07-06T13:17:17.012Z"
   },
   {
    "duration": 5,
    "start_time": "2024-07-06T13:17:17.032Z"
   },
   {
    "duration": 5,
    "start_time": "2024-07-06T13:17:17.039Z"
   },
   {
    "duration": 56,
    "start_time": "2024-07-06T13:17:17.046Z"
   },
   {
    "duration": 19,
    "start_time": "2024-07-06T13:17:17.104Z"
   },
   {
    "duration": 6,
    "start_time": "2024-07-06T13:17:17.124Z"
   },
   {
    "duration": 1706,
    "start_time": "2024-07-06T13:17:17.132Z"
   },
   {
    "duration": 6,
    "start_time": "2024-07-06T13:17:18.839Z"
   },
   {
    "duration": 1093,
    "start_time": "2024-07-06T13:18:43.761Z"
   },
   {
    "duration": 123,
    "start_time": "2024-07-06T13:18:44.856Z"
   },
   {
    "duration": 12,
    "start_time": "2024-07-06T13:18:44.980Z"
   },
   {
    "duration": 8,
    "start_time": "2024-07-06T13:18:44.994Z"
   },
   {
    "duration": 8,
    "start_time": "2024-07-06T13:18:45.004Z"
   },
   {
    "duration": 91,
    "start_time": "2024-07-06T13:18:45.014Z"
   },
   {
    "duration": 28,
    "start_time": "2024-07-06T13:18:45.107Z"
   },
   {
    "duration": 52,
    "start_time": "2024-07-06T13:18:45.138Z"
   },
   {
    "duration": 61,
    "start_time": "2024-07-06T13:18:45.192Z"
   },
   {
    "duration": 20,
    "start_time": "2024-07-06T13:18:45.255Z"
   },
   {
    "duration": 22,
    "start_time": "2024-07-06T13:18:45.277Z"
   },
   {
    "duration": 5,
    "start_time": "2024-07-06T13:18:45.301Z"
   },
   {
    "duration": 46,
    "start_time": "2024-07-06T13:18:45.308Z"
   },
   {
    "duration": 25,
    "start_time": "2024-07-06T13:18:45.358Z"
   },
   {
    "duration": 86,
    "start_time": "2024-07-06T13:18:45.385Z"
   },
   {
    "duration": 24,
    "start_time": "2024-07-06T13:18:45.473Z"
   },
   {
    "duration": 23,
    "start_time": "2024-07-06T13:18:45.499Z"
   },
   {
    "duration": 48,
    "start_time": "2024-07-06T13:18:45.524Z"
   },
   {
    "duration": 26,
    "start_time": "2024-07-06T13:18:45.574Z"
   },
   {
    "duration": 25,
    "start_time": "2024-07-06T13:18:45.602Z"
   },
   {
    "duration": 15,
    "start_time": "2024-07-06T13:18:45.629Z"
   },
   {
    "duration": 32,
    "start_time": "2024-07-06T13:18:45.646Z"
   },
   {
    "duration": 200,
    "start_time": "2024-07-06T13:18:45.680Z"
   },
   {
    "duration": 14,
    "start_time": "2024-07-06T13:18:45.882Z"
   },
   {
    "duration": 199,
    "start_time": "2024-07-06T13:18:45.898Z"
   },
   {
    "duration": 16,
    "start_time": "2024-07-06T13:18:46.099Z"
   },
   {
    "duration": 266,
    "start_time": "2024-07-06T13:18:46.117Z"
   },
   {
    "duration": 19,
    "start_time": "2024-07-06T13:18:46.385Z"
   },
   {
    "duration": 15,
    "start_time": "2024-07-06T13:18:46.405Z"
   },
   {
    "duration": 162,
    "start_time": "2024-07-06T13:18:46.422Z"
   },
   {
    "duration": 7,
    "start_time": "2024-07-06T13:18:46.591Z"
   },
   {
    "duration": 267,
    "start_time": "2024-07-06T13:18:46.600Z"
   },
   {
    "duration": 8,
    "start_time": "2024-07-06T13:18:46.868Z"
   },
   {
    "duration": 303,
    "start_time": "2024-07-06T13:18:46.877Z"
   },
   {
    "duration": 239,
    "start_time": "2024-07-06T13:18:47.182Z"
   },
   {
    "duration": 18,
    "start_time": "2024-07-06T13:18:47.422Z"
   },
   {
    "duration": 13,
    "start_time": "2024-07-06T13:18:47.441Z"
   },
   {
    "duration": 130,
    "start_time": "2024-07-06T13:18:47.455Z"
   },
   {
    "duration": 24,
    "start_time": "2024-07-06T13:18:47.587Z"
   },
   {
    "duration": 18,
    "start_time": "2024-07-06T13:18:47.614Z"
   },
   {
    "duration": 276,
    "start_time": "2024-07-06T13:18:47.636Z"
   },
   {
    "duration": 269,
    "start_time": "2024-07-06T13:18:47.913Z"
   },
   {
    "duration": 255,
    "start_time": "2024-07-06T13:18:48.184Z"
   },
   {
    "duration": 272,
    "start_time": "2024-07-06T13:18:48.441Z"
   },
   {
    "duration": 17,
    "start_time": "2024-07-06T13:18:48.715Z"
   },
   {
    "duration": 20,
    "start_time": "2024-07-06T13:18:48.733Z"
   },
   {
    "duration": 29,
    "start_time": "2024-07-06T13:18:48.755Z"
   },
   {
    "duration": 9,
    "start_time": "2024-07-06T13:18:48.786Z"
   },
   {
    "duration": 59,
    "start_time": "2024-07-06T13:18:48.797Z"
   },
   {
    "duration": 95,
    "start_time": "2024-07-06T13:18:48.857Z"
   },
   {
    "duration": 20,
    "start_time": "2024-07-06T13:18:48.953Z"
   },
   {
    "duration": 6,
    "start_time": "2024-07-06T13:18:48.974Z"
   },
   {
    "duration": 1656,
    "start_time": "2024-07-06T13:18:48.982Z"
   },
   {
    "duration": 6,
    "start_time": "2024-07-06T13:18:50.639Z"
   },
   {
    "duration": 1116,
    "start_time": "2024-07-06T13:19:33.845Z"
   },
   {
    "duration": 127,
    "start_time": "2024-07-06T13:19:34.963Z"
   },
   {
    "duration": 14,
    "start_time": "2024-07-06T13:19:35.092Z"
   },
   {
    "duration": 14,
    "start_time": "2024-07-06T13:19:35.108Z"
   },
   {
    "duration": 17,
    "start_time": "2024-07-06T13:19:35.125Z"
   },
   {
    "duration": 13,
    "start_time": "2024-07-06T13:19:35.144Z"
   },
   {
    "duration": 15,
    "start_time": "2024-07-06T13:19:35.159Z"
   },
   {
    "duration": 12,
    "start_time": "2024-07-06T13:19:35.192Z"
   },
   {
    "duration": 16,
    "start_time": "2024-07-06T13:19:35.206Z"
   },
   {
    "duration": 19,
    "start_time": "2024-07-06T13:19:35.223Z"
   },
   {
    "duration": 11,
    "start_time": "2024-07-06T13:19:35.244Z"
   },
   {
    "duration": 4,
    "start_time": "2024-07-06T13:19:35.257Z"
   },
   {
    "duration": 34,
    "start_time": "2024-07-06T13:19:35.263Z"
   },
   {
    "duration": 32,
    "start_time": "2024-07-06T13:19:35.300Z"
   },
   {
    "duration": 9,
    "start_time": "2024-07-06T13:19:35.334Z"
   },
   {
    "duration": 8,
    "start_time": "2024-07-06T13:19:35.345Z"
   },
   {
    "duration": 12,
    "start_time": "2024-07-06T13:19:35.355Z"
   },
   {
    "duration": 6,
    "start_time": "2024-07-06T13:19:35.369Z"
   },
   {
    "duration": 5,
    "start_time": "2024-07-06T13:19:35.391Z"
   },
   {
    "duration": 8,
    "start_time": "2024-07-06T13:19:35.398Z"
   },
   {
    "duration": 13,
    "start_time": "2024-07-06T13:19:35.408Z"
   },
   {
    "duration": 11,
    "start_time": "2024-07-06T13:19:35.422Z"
   },
   {
    "duration": 198,
    "start_time": "2024-07-06T13:19:35.434Z"
   },
   {
    "duration": 12,
    "start_time": "2024-07-06T13:19:35.634Z"
   },
   {
    "duration": 177,
    "start_time": "2024-07-06T13:19:35.647Z"
   },
   {
    "duration": 15,
    "start_time": "2024-07-06T13:19:35.826Z"
   },
   {
    "duration": 277,
    "start_time": "2024-07-06T13:19:35.843Z"
   },
   {
    "duration": 19,
    "start_time": "2024-07-06T13:19:36.122Z"
   },
   {
    "duration": 13,
    "start_time": "2024-07-06T13:19:36.143Z"
   },
   {
    "duration": 228,
    "start_time": "2024-07-06T13:19:36.158Z"
   },
   {
    "duration": 9,
    "start_time": "2024-07-06T13:19:36.392Z"
   },
   {
    "duration": 283,
    "start_time": "2024-07-06T13:19:36.403Z"
   },
   {
    "duration": 7,
    "start_time": "2024-07-06T13:19:36.692Z"
   },
   {
    "duration": 262,
    "start_time": "2024-07-06T13:19:36.701Z"
   },
   {
    "duration": 239,
    "start_time": "2024-07-06T13:19:36.965Z"
   },
   {
    "duration": 13,
    "start_time": "2024-07-06T13:19:37.206Z"
   },
   {
    "duration": 12,
    "start_time": "2024-07-06T13:19:37.220Z"
   },
   {
    "duration": 121,
    "start_time": "2024-07-06T13:19:37.234Z"
   },
   {
    "duration": 20,
    "start_time": "2024-07-06T13:19:37.357Z"
   },
   {
    "duration": 17,
    "start_time": "2024-07-06T13:19:37.391Z"
   },
   {
    "duration": 273,
    "start_time": "2024-07-06T13:19:37.413Z"
   },
   {
    "duration": 275,
    "start_time": "2024-07-06T13:19:37.688Z"
   },
   {
    "duration": 292,
    "start_time": "2024-07-06T13:19:37.965Z"
   },
   {
    "duration": 265,
    "start_time": "2024-07-06T13:19:38.259Z"
   },
   {
    "duration": 14,
    "start_time": "2024-07-06T13:19:38.526Z"
   },
   {
    "duration": 12,
    "start_time": "2024-07-06T13:19:38.542Z"
   },
   {
    "duration": 14,
    "start_time": "2024-07-06T13:19:38.555Z"
   },
   {
    "duration": 6,
    "start_time": "2024-07-06T13:19:38.591Z"
   },
   {
    "duration": 5,
    "start_time": "2024-07-06T13:19:38.598Z"
   },
   {
    "duration": 17,
    "start_time": "2024-07-06T13:19:38.605Z"
   },
   {
    "duration": 17,
    "start_time": "2024-07-06T13:19:38.624Z"
   },
   {
    "duration": 6,
    "start_time": "2024-07-06T13:19:38.642Z"
   },
   {
    "duration": 1698,
    "start_time": "2024-07-06T13:19:38.649Z"
   },
   {
    "duration": 6,
    "start_time": "2024-07-06T13:19:40.349Z"
   },
   {
    "duration": 1107,
    "start_time": "2024-07-06T13:20:41.364Z"
   },
   {
    "duration": 123,
    "start_time": "2024-07-06T13:20:42.473Z"
   },
   {
    "duration": 12,
    "start_time": "2024-07-06T13:20:42.598Z"
   },
   {
    "duration": 8,
    "start_time": "2024-07-06T13:20:42.612Z"
   },
   {
    "duration": 8,
    "start_time": "2024-07-06T13:20:42.622Z"
   },
   {
    "duration": 17,
    "start_time": "2024-07-06T13:20:42.632Z"
   },
   {
    "duration": 11,
    "start_time": "2024-07-06T13:20:42.651Z"
   },
   {
    "duration": 33,
    "start_time": "2024-07-06T13:20:42.663Z"
   },
   {
    "duration": 33,
    "start_time": "2024-07-06T13:20:42.698Z"
   },
   {
    "duration": 12,
    "start_time": "2024-07-06T13:20:42.732Z"
   },
   {
    "duration": 12,
    "start_time": "2024-07-06T13:20:42.745Z"
   },
   {
    "duration": 5,
    "start_time": "2024-07-06T13:20:42.759Z"
   },
   {
    "duration": 26,
    "start_time": "2024-07-06T13:20:42.766Z"
   },
   {
    "duration": 6,
    "start_time": "2024-07-06T13:20:42.797Z"
   },
   {
    "duration": 75,
    "start_time": "2024-07-06T13:20:42.804Z"
   },
   {
    "duration": 51,
    "start_time": "2024-07-06T13:20:42.881Z"
   },
   {
    "duration": 11,
    "start_time": "2024-07-06T13:20:42.934Z"
   },
   {
    "duration": 7,
    "start_time": "2024-07-06T13:20:42.947Z"
   },
   {
    "duration": 5,
    "start_time": "2024-07-06T13:20:42.956Z"
   },
   {
    "duration": 19,
    "start_time": "2024-07-06T13:20:42.963Z"
   },
   {
    "duration": 15,
    "start_time": "2024-07-06T13:20:42.983Z"
   },
   {
    "duration": 11,
    "start_time": "2024-07-06T13:20:43.000Z"
   },
   {
    "duration": 184,
    "start_time": "2024-07-06T13:20:43.012Z"
   },
   {
    "duration": 12,
    "start_time": "2024-07-06T13:20:43.198Z"
   },
   {
    "duration": 171,
    "start_time": "2024-07-06T13:20:43.212Z"
   },
   {
    "duration": 14,
    "start_time": "2024-07-06T13:20:43.391Z"
   },
   {
    "duration": 284,
    "start_time": "2024-07-06T13:20:43.407Z"
   },
   {
    "duration": 16,
    "start_time": "2024-07-06T13:20:43.693Z"
   },
   {
    "duration": 15,
    "start_time": "2024-07-06T13:20:43.710Z"
   },
   {
    "duration": 171,
    "start_time": "2024-07-06T13:20:43.726Z"
   },
   {
    "duration": 8,
    "start_time": "2024-07-06T13:20:43.899Z"
   },
   {
    "duration": 278,
    "start_time": "2024-07-06T13:20:43.908Z"
   },
   {
    "duration": 8,
    "start_time": "2024-07-06T13:20:44.191Z"
   },
   {
    "duration": 253,
    "start_time": "2024-07-06T13:20:44.200Z"
   },
   {
    "duration": 239,
    "start_time": "2024-07-06T13:20:44.455Z"
   },
   {
    "duration": 12,
    "start_time": "2024-07-06T13:20:44.696Z"
   },
   {
    "duration": 20,
    "start_time": "2024-07-06T13:20:44.710Z"
   },
   {
    "duration": 133,
    "start_time": "2024-07-06T13:20:44.732Z"
   },
   {
    "duration": 25,
    "start_time": "2024-07-06T13:20:44.867Z"
   },
   {
    "duration": 90,
    "start_time": "2024-07-06T13:20:44.895Z"
   },
   {
    "duration": 279,
    "start_time": "2024-07-06T13:20:44.990Z"
   },
   {
    "duration": 261,
    "start_time": "2024-07-06T13:20:45.271Z"
   },
   {
    "duration": 251,
    "start_time": "2024-07-06T13:20:45.534Z"
   },
   {
    "duration": 270,
    "start_time": "2024-07-06T13:20:45.791Z"
   },
   {
    "duration": 16,
    "start_time": "2024-07-06T13:20:46.063Z"
   },
   {
    "duration": 31,
    "start_time": "2024-07-06T13:20:46.081Z"
   },
   {
    "duration": 33,
    "start_time": "2024-07-06T13:20:46.114Z"
   },
   {
    "duration": 6,
    "start_time": "2024-07-06T13:20:46.148Z"
   },
   {
    "duration": 5,
    "start_time": "2024-07-06T13:20:46.156Z"
   },
   {
    "duration": 35,
    "start_time": "2024-07-06T13:20:46.163Z"
   },
   {
    "duration": 28,
    "start_time": "2024-07-06T13:20:46.200Z"
   },
   {
    "duration": 5,
    "start_time": "2024-07-06T13:20:46.229Z"
   },
   {
    "duration": 1701,
    "start_time": "2024-07-06T13:20:46.236Z"
   },
   {
    "duration": 6,
    "start_time": "2024-07-06T13:20:47.939Z"
   },
   {
    "duration": 1156,
    "start_time": "2024-07-06T13:48:41.879Z"
   },
   {
    "duration": 348,
    "start_time": "2024-07-06T13:48:43.037Z"
   },
   {
    "duration": 13,
    "start_time": "2024-07-06T13:48:43.386Z"
   },
   {
    "duration": 8,
    "start_time": "2024-07-06T13:48:43.401Z"
   },
   {
    "duration": 8,
    "start_time": "2024-07-06T13:48:43.410Z"
   },
   {
    "duration": 11,
    "start_time": "2024-07-06T13:48:43.420Z"
   },
   {
    "duration": 10,
    "start_time": "2024-07-06T13:48:43.433Z"
   },
   {
    "duration": 10,
    "start_time": "2024-07-06T13:48:43.445Z"
   },
   {
    "duration": 45,
    "start_time": "2024-07-06T13:48:43.456Z"
   },
   {
    "duration": 12,
    "start_time": "2024-07-06T13:48:43.503Z"
   },
   {
    "duration": 13,
    "start_time": "2024-07-06T13:48:43.517Z"
   },
   {
    "duration": 4,
    "start_time": "2024-07-06T13:48:43.531Z"
   },
   {
    "duration": 8,
    "start_time": "2024-07-06T13:48:43.537Z"
   },
   {
    "duration": 6,
    "start_time": "2024-07-06T13:48:43.546Z"
   },
   {
    "duration": 39,
    "start_time": "2024-07-06T13:48:43.553Z"
   },
   {
    "duration": 6,
    "start_time": "2024-07-06T13:48:43.594Z"
   },
   {
    "duration": 17,
    "start_time": "2024-07-06T13:48:43.601Z"
   },
   {
    "duration": 5,
    "start_time": "2024-07-06T13:48:43.620Z"
   },
   {
    "duration": 7,
    "start_time": "2024-07-06T13:48:43.627Z"
   },
   {
    "duration": 20,
    "start_time": "2024-07-06T13:48:43.635Z"
   },
   {
    "duration": 29,
    "start_time": "2024-07-06T13:48:43.657Z"
   },
   {
    "duration": 10,
    "start_time": "2024-07-06T13:48:43.692Z"
   },
   {
    "duration": 188,
    "start_time": "2024-07-06T13:48:43.703Z"
   },
   {
    "duration": 12,
    "start_time": "2024-07-06T13:48:43.893Z"
   },
   {
    "duration": 180,
    "start_time": "2024-07-06T13:48:43.906Z"
   },
   {
    "duration": 15,
    "start_time": "2024-07-06T13:48:44.088Z"
   },
   {
    "duration": 285,
    "start_time": "2024-07-06T13:48:44.106Z"
   },
   {
    "duration": 15,
    "start_time": "2024-07-06T13:48:44.395Z"
   },
   {
    "duration": 13,
    "start_time": "2024-07-06T13:48:44.411Z"
   },
   {
    "duration": 162,
    "start_time": "2024-07-06T13:48:44.426Z"
   },
   {
    "duration": 8,
    "start_time": "2024-07-06T13:48:44.591Z"
   },
   {
    "duration": 274,
    "start_time": "2024-07-06T13:48:44.600Z"
   },
   {
    "duration": 8,
    "start_time": "2024-07-06T13:48:44.875Z"
   },
   {
    "duration": 275,
    "start_time": "2024-07-06T13:48:44.892Z"
   },
   {
    "duration": 240,
    "start_time": "2024-07-06T13:48:45.169Z"
   },
   {
    "duration": 13,
    "start_time": "2024-07-06T13:48:45.411Z"
   },
   {
    "duration": 23,
    "start_time": "2024-07-06T13:48:45.425Z"
   },
   {
    "duration": 142,
    "start_time": "2024-07-06T13:48:45.450Z"
   },
   {
    "duration": 21,
    "start_time": "2024-07-06T13:48:45.594Z"
   },
   {
    "duration": 22,
    "start_time": "2024-07-06T13:48:45.617Z"
   },
   {
    "duration": 301,
    "start_time": "2024-07-06T13:48:45.641Z"
   },
   {
    "duration": 283,
    "start_time": "2024-07-06T13:48:45.944Z"
   },
   {
    "duration": 253,
    "start_time": "2024-07-06T13:48:46.228Z"
   },
   {
    "duration": 274,
    "start_time": "2024-07-06T13:48:46.482Z"
   },
   {
    "duration": 15,
    "start_time": "2024-07-06T13:48:46.758Z"
   },
   {
    "duration": 25,
    "start_time": "2024-07-06T13:48:46.775Z"
   },
   {
    "duration": 19,
    "start_time": "2024-07-06T13:48:46.802Z"
   },
   {
    "duration": 6,
    "start_time": "2024-07-06T13:48:46.823Z"
   },
   {
    "duration": 10,
    "start_time": "2024-07-06T13:48:46.830Z"
   },
   {
    "duration": 43,
    "start_time": "2024-07-06T13:48:46.842Z"
   },
   {
    "duration": 20,
    "start_time": "2024-07-06T13:48:46.886Z"
   },
   {
    "duration": 91,
    "start_time": "2024-07-06T13:48:46.908Z"
   },
   {
    "duration": 1703,
    "start_time": "2024-07-06T13:48:47.001Z"
   },
   {
    "duration": 5,
    "start_time": "2024-07-06T13:48:48.706Z"
   },
   {
    "duration": 1087,
    "start_time": "2024-07-06T13:51:39.653Z"
   },
   {
    "duration": 102,
    "start_time": "2024-07-06T13:51:40.742Z"
   },
   {
    "duration": 15,
    "start_time": "2024-07-06T13:51:40.846Z"
   },
   {
    "duration": 9,
    "start_time": "2024-07-06T13:51:40.863Z"
   },
   {
    "duration": 9,
    "start_time": "2024-07-06T13:51:40.874Z"
   },
   {
    "duration": 13,
    "start_time": "2024-07-06T13:51:40.884Z"
   },
   {
    "duration": 11,
    "start_time": "2024-07-06T13:51:40.899Z"
   },
   {
    "duration": 25,
    "start_time": "2024-07-06T13:51:40.912Z"
   },
   {
    "duration": 113,
    "start_time": "2024-07-06T13:51:40.939Z"
   },
   {
    "duration": 29,
    "start_time": "2024-07-06T13:51:41.054Z"
   },
   {
    "duration": 15,
    "start_time": "2024-07-06T13:51:41.085Z"
   },
   {
    "duration": 6,
    "start_time": "2024-07-06T13:51:41.101Z"
   },
   {
    "duration": 6,
    "start_time": "2024-07-06T13:51:41.109Z"
   },
   {
    "duration": 9,
    "start_time": "2024-07-06T13:51:41.119Z"
   },
   {
    "duration": 28,
    "start_time": "2024-07-06T13:51:41.130Z"
   },
   {
    "duration": 8,
    "start_time": "2024-07-06T13:51:41.160Z"
   },
   {
    "duration": 14,
    "start_time": "2024-07-06T13:51:41.169Z"
   },
   {
    "duration": 8,
    "start_time": "2024-07-06T13:51:41.192Z"
   },
   {
    "duration": 6,
    "start_time": "2024-07-06T13:51:41.202Z"
   },
   {
    "duration": 22,
    "start_time": "2024-07-06T13:51:41.210Z"
   },
   {
    "duration": 16,
    "start_time": "2024-07-06T13:51:41.234Z"
   },
   {
    "duration": 39,
    "start_time": "2024-07-06T13:51:41.253Z"
   },
   {
    "duration": 189,
    "start_time": "2024-07-06T13:51:41.294Z"
   },
   {
    "duration": 16,
    "start_time": "2024-07-06T13:51:41.485Z"
   },
   {
    "duration": 169,
    "start_time": "2024-07-06T13:51:41.503Z"
   },
   {
    "duration": 19,
    "start_time": "2024-07-06T13:51:41.674Z"
   },
   {
    "duration": 287,
    "start_time": "2024-07-06T13:51:41.695Z"
   },
   {
    "duration": 25,
    "start_time": "2024-07-06T13:51:41.984Z"
   },
   {
    "duration": 14,
    "start_time": "2024-07-06T13:51:42.011Z"
   },
   {
    "duration": 172,
    "start_time": "2024-07-06T13:51:42.026Z"
   },
   {
    "duration": 8,
    "start_time": "2024-07-06T13:51:42.199Z"
   },
   {
    "duration": 283,
    "start_time": "2024-07-06T13:51:42.208Z"
   },
   {
    "duration": 8,
    "start_time": "2024-07-06T13:51:42.493Z"
   },
   {
    "duration": 296,
    "start_time": "2024-07-06T13:51:42.503Z"
   },
   {
    "duration": 247,
    "start_time": "2024-07-06T13:51:42.801Z"
   },
   {
    "duration": 12,
    "start_time": "2024-07-06T13:51:43.050Z"
   },
   {
    "duration": 15,
    "start_time": "2024-07-06T13:51:43.064Z"
   },
   {
    "duration": 116,
    "start_time": "2024-07-06T13:51:43.080Z"
   },
   {
    "duration": 28,
    "start_time": "2024-07-06T13:51:43.198Z"
   },
   {
    "duration": 22,
    "start_time": "2024-07-06T13:51:43.229Z"
   },
   {
    "duration": 293,
    "start_time": "2024-07-06T13:51:43.256Z"
   },
   {
    "duration": 247,
    "start_time": "2024-07-06T13:51:43.550Z"
   },
   {
    "duration": 242,
    "start_time": "2024-07-06T13:51:43.798Z"
   },
   {
    "duration": 252,
    "start_time": "2024-07-06T13:51:44.041Z"
   },
   {
    "duration": 13,
    "start_time": "2024-07-06T13:51:44.295Z"
   },
   {
    "duration": 12,
    "start_time": "2024-07-06T13:51:44.310Z"
   },
   {
    "duration": 15,
    "start_time": "2024-07-06T13:51:44.324Z"
   },
   {
    "duration": 5,
    "start_time": "2024-07-06T13:51:44.340Z"
   },
   {
    "duration": 20,
    "start_time": "2024-07-06T13:51:44.347Z"
   },
   {
    "duration": 39,
    "start_time": "2024-07-06T13:51:44.368Z"
   },
   {
    "duration": 18,
    "start_time": "2024-07-06T13:51:44.408Z"
   },
   {
    "duration": 7,
    "start_time": "2024-07-06T13:51:44.427Z"
   },
   {
    "duration": 1710,
    "start_time": "2024-07-06T13:51:44.436Z"
   },
   {
    "duration": 5,
    "start_time": "2024-07-06T13:51:46.148Z"
   },
   {
    "duration": 1117,
    "start_time": "2024-07-06T13:55:19.833Z"
   },
   {
    "duration": 124,
    "start_time": "2024-07-06T13:55:20.952Z"
   },
   {
    "duration": 13,
    "start_time": "2024-07-06T13:55:21.077Z"
   },
   {
    "duration": 8,
    "start_time": "2024-07-06T13:55:21.091Z"
   },
   {
    "duration": 8,
    "start_time": "2024-07-06T13:55:21.101Z"
   },
   {
    "duration": 20,
    "start_time": "2024-07-06T13:55:21.110Z"
   },
   {
    "duration": 25,
    "start_time": "2024-07-06T13:55:21.131Z"
   },
   {
    "duration": 12,
    "start_time": "2024-07-06T13:55:21.158Z"
   },
   {
    "duration": 28,
    "start_time": "2024-07-06T13:55:21.171Z"
   },
   {
    "duration": 12,
    "start_time": "2024-07-06T13:55:21.201Z"
   },
   {
    "duration": 17,
    "start_time": "2024-07-06T13:55:21.215Z"
   },
   {
    "duration": 62,
    "start_time": "2024-07-06T13:55:21.233Z"
   },
   {
    "duration": 61,
    "start_time": "2024-07-06T13:55:21.297Z"
   },
   {
    "duration": 22,
    "start_time": "2024-07-06T13:55:21.361Z"
   },
   {
    "duration": 15,
    "start_time": "2024-07-06T13:55:21.384Z"
   },
   {
    "duration": 12,
    "start_time": "2024-07-06T13:55:21.401Z"
   },
   {
    "duration": 15,
    "start_time": "2024-07-06T13:55:21.414Z"
   },
   {
    "duration": 14,
    "start_time": "2024-07-06T13:55:21.430Z"
   },
   {
    "duration": 10,
    "start_time": "2024-07-06T13:55:21.445Z"
   },
   {
    "duration": 16,
    "start_time": "2024-07-06T13:55:21.457Z"
   },
   {
    "duration": 26,
    "start_time": "2024-07-06T13:55:21.474Z"
   },
   {
    "duration": 11,
    "start_time": "2024-07-06T13:55:21.501Z"
   },
   {
    "duration": 185,
    "start_time": "2024-07-06T13:55:21.514Z"
   },
   {
    "duration": 13,
    "start_time": "2024-07-06T13:55:21.701Z"
   },
   {
    "duration": 186,
    "start_time": "2024-07-06T13:55:21.715Z"
   },
   {
    "duration": 15,
    "start_time": "2024-07-06T13:55:21.902Z"
   },
   {
    "duration": 298,
    "start_time": "2024-07-06T13:55:21.919Z"
   },
   {
    "duration": 16,
    "start_time": "2024-07-06T13:55:22.219Z"
   },
   {
    "duration": 52,
    "start_time": "2024-07-06T13:55:22.237Z"
   },
   {
    "duration": 176,
    "start_time": "2024-07-06T13:55:22.291Z"
   },
   {
    "duration": 8,
    "start_time": "2024-07-06T13:55:22.469Z"
   },
   {
    "duration": 258,
    "start_time": "2024-07-06T13:55:22.479Z"
   },
   {
    "duration": 8,
    "start_time": "2024-07-06T13:55:22.738Z"
   },
   {
    "duration": 269,
    "start_time": "2024-07-06T13:55:22.747Z"
   },
   {
    "duration": 257,
    "start_time": "2024-07-06T13:55:23.018Z"
   },
   {
    "duration": 23,
    "start_time": "2024-07-06T13:55:23.277Z"
   },
   {
    "duration": 11,
    "start_time": "2024-07-06T13:55:23.302Z"
   },
   {
    "duration": 132,
    "start_time": "2024-07-06T13:55:23.315Z"
   },
   {
    "duration": 16,
    "start_time": "2024-07-06T13:55:23.448Z"
   },
   {
    "duration": 29,
    "start_time": "2024-07-06T13:55:23.466Z"
   },
   {
    "duration": 19,
    "start_time": "2024-07-06T13:55:23.499Z"
   },
   {
    "duration": 25,
    "start_time": "2024-07-06T13:55:23.520Z"
   },
   {
    "duration": 278,
    "start_time": "2024-07-06T13:55:23.546Z"
   },
   {
    "duration": 252,
    "start_time": "2024-07-06T13:55:23.826Z"
   },
   {
    "duration": 255,
    "start_time": "2024-07-06T13:55:24.080Z"
   },
   {
    "duration": 266,
    "start_time": "2024-07-06T13:55:24.336Z"
   },
   {
    "duration": 16,
    "start_time": "2024-07-06T13:55:24.603Z"
   },
   {
    "duration": 19,
    "start_time": "2024-07-06T13:55:24.620Z"
   },
   {
    "duration": 19,
    "start_time": "2024-07-06T13:55:24.641Z"
   },
   {
    "duration": 7,
    "start_time": "2024-07-06T13:55:24.661Z"
   },
   {
    "duration": 37,
    "start_time": "2024-07-06T13:55:24.669Z"
   },
   {
    "duration": 20,
    "start_time": "2024-07-06T13:55:24.708Z"
   },
   {
    "duration": 19,
    "start_time": "2024-07-06T13:55:24.729Z"
   },
   {
    "duration": 6,
    "start_time": "2024-07-06T13:55:24.749Z"
   },
   {
    "duration": 1656,
    "start_time": "2024-07-06T13:55:24.756Z"
   },
   {
    "duration": 5,
    "start_time": "2024-07-06T13:55:26.413Z"
   },
   {
    "duration": 1060,
    "start_time": "2024-07-06T14:00:56.238Z"
   },
   {
    "duration": 122,
    "start_time": "2024-07-06T14:00:57.300Z"
   },
   {
    "duration": 13,
    "start_time": "2024-07-06T14:00:57.423Z"
   },
   {
    "duration": 20,
    "start_time": "2024-07-06T14:00:57.437Z"
   },
   {
    "duration": 38,
    "start_time": "2024-07-06T14:00:57.458Z"
   },
   {
    "duration": 12,
    "start_time": "2024-07-06T14:00:57.498Z"
   },
   {
    "duration": 61,
    "start_time": "2024-07-06T14:00:57.512Z"
   },
   {
    "duration": 10,
    "start_time": "2024-07-06T14:00:57.575Z"
   },
   {
    "duration": 59,
    "start_time": "2024-07-06T14:00:57.587Z"
   },
   {
    "duration": 10,
    "start_time": "2024-07-06T14:00:57.648Z"
   },
   {
    "duration": 23,
    "start_time": "2024-07-06T14:00:57.660Z"
   },
   {
    "duration": 12,
    "start_time": "2024-07-06T14:00:57.685Z"
   },
   {
    "duration": 15,
    "start_time": "2024-07-06T14:00:57.698Z"
   },
   {
    "duration": 8,
    "start_time": "2024-07-06T14:00:57.716Z"
   },
   {
    "duration": 25,
    "start_time": "2024-07-06T14:00:57.725Z"
   },
   {
    "duration": 37,
    "start_time": "2024-07-06T14:00:57.752Z"
   },
   {
    "duration": 48,
    "start_time": "2024-07-06T14:00:57.790Z"
   },
   {
    "duration": 33,
    "start_time": "2024-07-06T14:00:57.840Z"
   },
   {
    "duration": 24,
    "start_time": "2024-07-06T14:00:57.875Z"
   },
   {
    "duration": 45,
    "start_time": "2024-07-06T14:00:57.900Z"
   },
   {
    "duration": 36,
    "start_time": "2024-07-06T14:00:57.947Z"
   },
   {
    "duration": 26,
    "start_time": "2024-07-06T14:00:57.985Z"
   },
   {
    "duration": 207,
    "start_time": "2024-07-06T14:00:58.013Z"
   },
   {
    "duration": 14,
    "start_time": "2024-07-06T14:00:58.221Z"
   },
   {
    "duration": 198,
    "start_time": "2024-07-06T14:00:58.236Z"
   },
   {
    "duration": 17,
    "start_time": "2024-07-06T14:00:58.437Z"
   },
   {
    "duration": 286,
    "start_time": "2024-07-06T14:00:58.456Z"
   },
   {
    "duration": 16,
    "start_time": "2024-07-06T14:00:58.743Z"
   },
   {
    "duration": 56,
    "start_time": "2024-07-06T14:00:58.762Z"
   },
   {
    "duration": 193,
    "start_time": "2024-07-06T14:00:58.819Z"
   },
   {
    "duration": 8,
    "start_time": "2024-07-06T14:00:59.013Z"
   },
   {
    "duration": 285,
    "start_time": "2024-07-06T14:00:59.023Z"
   },
   {
    "duration": 6,
    "start_time": "2024-07-06T14:00:59.310Z"
   },
   {
    "duration": 267,
    "start_time": "2024-07-06T14:00:59.318Z"
   },
   {
    "duration": 241,
    "start_time": "2024-07-06T14:00:59.591Z"
   },
   {
    "duration": 13,
    "start_time": "2024-07-06T14:00:59.834Z"
   },
   {
    "duration": 16,
    "start_time": "2024-07-06T14:00:59.849Z"
   },
   {
    "duration": 172,
    "start_time": "2024-07-06T14:00:59.866Z"
   },
   {
    "duration": 17,
    "start_time": "2024-07-06T14:01:00.040Z"
   },
   {
    "duration": 51,
    "start_time": "2024-07-06T14:01:00.059Z"
   },
   {
    "duration": 26,
    "start_time": "2024-07-06T14:01:00.114Z"
   },
   {
    "duration": 27,
    "start_time": "2024-07-06T14:01:00.142Z"
   },
   {
    "duration": 296,
    "start_time": "2024-07-06T14:01:00.171Z"
   },
   {
    "duration": 108,
    "start_time": "2024-07-06T14:01:00.469Z"
   },
   {
    "duration": 0,
    "start_time": "2024-07-06T14:01:00.579Z"
   },
   {
    "duration": 0,
    "start_time": "2024-07-06T14:01:00.580Z"
   },
   {
    "duration": 0,
    "start_time": "2024-07-06T14:01:00.581Z"
   },
   {
    "duration": 0,
    "start_time": "2024-07-06T14:01:00.592Z"
   },
   {
    "duration": 0,
    "start_time": "2024-07-06T14:01:00.593Z"
   },
   {
    "duration": 0,
    "start_time": "2024-07-06T14:01:00.594Z"
   },
   {
    "duration": 0,
    "start_time": "2024-07-06T14:01:00.595Z"
   },
   {
    "duration": 0,
    "start_time": "2024-07-06T14:01:00.596Z"
   },
   {
    "duration": 0,
    "start_time": "2024-07-06T14:01:00.597Z"
   },
   {
    "duration": 0,
    "start_time": "2024-07-06T14:01:00.598Z"
   },
   {
    "duration": 0,
    "start_time": "2024-07-06T14:01:00.599Z"
   },
   {
    "duration": 1,
    "start_time": "2024-07-06T14:01:00.600Z"
   },
   {
    "duration": 0,
    "start_time": "2024-07-06T14:01:00.602Z"
   },
   {
    "duration": 0,
    "start_time": "2024-07-06T14:01:00.603Z"
   },
   {
    "duration": 0,
    "start_time": "2024-07-06T14:01:00.604Z"
   },
   {
    "duration": 0,
    "start_time": "2024-07-06T14:01:00.605Z"
   },
   {
    "duration": 0,
    "start_time": "2024-07-06T14:01:00.606Z"
   },
   {
    "duration": 48,
    "start_time": "2024-07-06T14:06:39.607Z"
   },
   {
    "duration": 10,
    "start_time": "2024-07-06T14:06:47.095Z"
   },
   {
    "duration": 1113,
    "start_time": "2024-07-06T14:06:57.053Z"
   },
   {
    "duration": 122,
    "start_time": "2024-07-06T14:06:58.168Z"
   },
   {
    "duration": 11,
    "start_time": "2024-07-06T14:06:58.292Z"
   },
   {
    "duration": 9,
    "start_time": "2024-07-06T14:06:58.305Z"
   },
   {
    "duration": 7,
    "start_time": "2024-07-06T14:06:58.316Z"
   },
   {
    "duration": 12,
    "start_time": "2024-07-06T14:06:58.324Z"
   },
   {
    "duration": 11,
    "start_time": "2024-07-06T14:06:58.337Z"
   },
   {
    "duration": 12,
    "start_time": "2024-07-06T14:06:58.349Z"
   },
   {
    "duration": 14,
    "start_time": "2024-07-06T14:06:58.391Z"
   },
   {
    "duration": 12,
    "start_time": "2024-07-06T14:06:58.406Z"
   },
   {
    "duration": 12,
    "start_time": "2024-07-06T14:06:58.419Z"
   },
   {
    "duration": 5,
    "start_time": "2024-07-06T14:06:58.433Z"
   },
   {
    "duration": 7,
    "start_time": "2024-07-06T14:06:58.439Z"
   },
   {
    "duration": 43,
    "start_time": "2024-07-06T14:06:58.450Z"
   },
   {
    "duration": 7,
    "start_time": "2024-07-06T14:06:58.496Z"
   },
   {
    "duration": 6,
    "start_time": "2024-07-06T14:06:58.505Z"
   },
   {
    "duration": 12,
    "start_time": "2024-07-06T14:06:58.513Z"
   },
   {
    "duration": 10,
    "start_time": "2024-07-06T14:06:58.527Z"
   },
   {
    "duration": 5,
    "start_time": "2024-07-06T14:06:58.539Z"
   },
   {
    "duration": 47,
    "start_time": "2024-07-06T14:06:58.546Z"
   },
   {
    "duration": 15,
    "start_time": "2024-07-06T14:06:58.595Z"
   },
   {
    "duration": 12,
    "start_time": "2024-07-06T14:06:58.612Z"
   },
   {
    "duration": 246,
    "start_time": "2024-07-06T14:06:58.626Z"
   },
   {
    "duration": 19,
    "start_time": "2024-07-06T14:06:58.874Z"
   },
   {
    "duration": 199,
    "start_time": "2024-07-06T14:06:58.895Z"
   },
   {
    "duration": 16,
    "start_time": "2024-07-06T14:06:59.096Z"
   },
   {
    "duration": 292,
    "start_time": "2024-07-06T14:06:59.115Z"
   },
   {
    "duration": 18,
    "start_time": "2024-07-06T14:06:59.408Z"
   },
   {
    "duration": 40,
    "start_time": "2024-07-06T14:06:59.428Z"
   },
   {
    "duration": 158,
    "start_time": "2024-07-06T14:06:59.470Z"
   },
   {
    "duration": 8,
    "start_time": "2024-07-06T14:06:59.630Z"
   },
   {
    "duration": 323,
    "start_time": "2024-07-06T14:06:59.639Z"
   },
   {
    "duration": 8,
    "start_time": "2024-07-06T14:06:59.963Z"
   },
   {
    "duration": 305,
    "start_time": "2024-07-06T14:06:59.973Z"
   },
   {
    "duration": 254,
    "start_time": "2024-07-06T14:07:00.279Z"
   },
   {
    "duration": 20,
    "start_time": "2024-07-06T14:07:00.535Z"
   },
   {
    "duration": 86,
    "start_time": "2024-07-06T14:07:00.558Z"
   },
   {
    "duration": 178,
    "start_time": "2024-07-06T14:07:00.646Z"
   },
   {
    "duration": 16,
    "start_time": "2024-07-06T14:07:00.826Z"
   },
   {
    "duration": 70,
    "start_time": "2024-07-06T14:07:00.844Z"
   },
   {
    "duration": 48,
    "start_time": "2024-07-06T14:07:00.920Z"
   },
   {
    "duration": 148,
    "start_time": "2024-07-06T14:07:00.970Z"
   },
   {
    "duration": 308,
    "start_time": "2024-07-06T14:07:01.120Z"
   },
   {
    "duration": 109,
    "start_time": "2024-07-06T14:07:01.429Z"
   },
   {
    "duration": 0,
    "start_time": "2024-07-06T14:07:01.540Z"
   },
   {
    "duration": 0,
    "start_time": "2024-07-06T14:07:01.541Z"
   },
   {
    "duration": 0,
    "start_time": "2024-07-06T14:07:01.542Z"
   },
   {
    "duration": 0,
    "start_time": "2024-07-06T14:07:01.545Z"
   },
   {
    "duration": 0,
    "start_time": "2024-07-06T14:07:01.546Z"
   },
   {
    "duration": 0,
    "start_time": "2024-07-06T14:07:01.547Z"
   },
   {
    "duration": 0,
    "start_time": "2024-07-06T14:07:01.548Z"
   },
   {
    "duration": 0,
    "start_time": "2024-07-06T14:07:01.549Z"
   },
   {
    "duration": 0,
    "start_time": "2024-07-06T14:07:01.550Z"
   },
   {
    "duration": 0,
    "start_time": "2024-07-06T14:07:01.551Z"
   },
   {
    "duration": 0,
    "start_time": "2024-07-06T14:07:01.552Z"
   },
   {
    "duration": 0,
    "start_time": "2024-07-06T14:07:01.553Z"
   },
   {
    "duration": 0,
    "start_time": "2024-07-06T14:07:01.554Z"
   },
   {
    "duration": 0,
    "start_time": "2024-07-06T14:07:01.556Z"
   },
   {
    "duration": 0,
    "start_time": "2024-07-06T14:07:01.557Z"
   },
   {
    "duration": 0,
    "start_time": "2024-07-06T14:07:01.558Z"
   },
   {
    "duration": 0,
    "start_time": "2024-07-06T14:07:01.559Z"
   },
   {
    "duration": 1174,
    "start_time": "2024-07-06T14:08:11.261Z"
   },
   {
    "duration": 134,
    "start_time": "2024-07-06T14:08:12.440Z"
   },
   {
    "duration": 13,
    "start_time": "2024-07-06T14:08:12.576Z"
   },
   {
    "duration": 24,
    "start_time": "2024-07-06T14:08:12.590Z"
   },
   {
    "duration": 7,
    "start_time": "2024-07-06T14:08:12.616Z"
   },
   {
    "duration": 40,
    "start_time": "2024-07-06T14:08:12.624Z"
   },
   {
    "duration": 12,
    "start_time": "2024-07-06T14:08:12.665Z"
   },
   {
    "duration": 10,
    "start_time": "2024-07-06T14:08:12.678Z"
   },
   {
    "duration": 15,
    "start_time": "2024-07-06T14:08:12.690Z"
   },
   {
    "duration": 11,
    "start_time": "2024-07-06T14:08:12.706Z"
   },
   {
    "duration": 11,
    "start_time": "2024-07-06T14:08:12.718Z"
   },
   {
    "duration": 3,
    "start_time": "2024-07-06T14:08:12.731Z"
   },
   {
    "duration": 28,
    "start_time": "2024-07-06T14:08:12.736Z"
   },
   {
    "duration": 6,
    "start_time": "2024-07-06T14:08:12.768Z"
   },
   {
    "duration": 7,
    "start_time": "2024-07-06T14:08:12.792Z"
   },
   {
    "duration": 6,
    "start_time": "2024-07-06T14:08:12.801Z"
   },
   {
    "duration": 10,
    "start_time": "2024-07-06T14:08:12.808Z"
   },
   {
    "duration": 14,
    "start_time": "2024-07-06T14:08:12.820Z"
   },
   {
    "duration": 14,
    "start_time": "2024-07-06T14:08:12.835Z"
   },
   {
    "duration": 19,
    "start_time": "2024-07-06T14:08:12.851Z"
   },
   {
    "duration": 23,
    "start_time": "2024-07-06T14:08:12.871Z"
   },
   {
    "duration": 10,
    "start_time": "2024-07-06T14:08:12.895Z"
   },
   {
    "duration": 185,
    "start_time": "2024-07-06T14:08:12.906Z"
   },
   {
    "duration": 12,
    "start_time": "2024-07-06T14:08:13.093Z"
   },
   {
    "duration": 179,
    "start_time": "2024-07-06T14:08:13.107Z"
   },
   {
    "duration": 15,
    "start_time": "2024-07-06T14:08:13.288Z"
   },
   {
    "duration": 265,
    "start_time": "2024-07-06T14:08:13.304Z"
   },
   {
    "duration": 24,
    "start_time": "2024-07-06T14:08:13.572Z"
   },
   {
    "duration": 13,
    "start_time": "2024-07-06T14:08:13.598Z"
   },
   {
    "duration": 172,
    "start_time": "2024-07-06T14:08:13.613Z"
   },
   {
    "duration": 11,
    "start_time": "2024-07-06T14:08:13.787Z"
   },
   {
    "duration": 284,
    "start_time": "2024-07-06T14:08:13.800Z"
   },
   {
    "duration": 16,
    "start_time": "2024-07-06T14:08:14.086Z"
   },
   {
    "duration": 252,
    "start_time": "2024-07-06T14:08:14.103Z"
   },
   {
    "duration": 237,
    "start_time": "2024-07-06T14:08:14.357Z"
   },
   {
    "duration": 12,
    "start_time": "2024-07-06T14:08:14.596Z"
   },
   {
    "duration": 24,
    "start_time": "2024-07-06T14:08:14.609Z"
   },
   {
    "duration": 122,
    "start_time": "2024-07-06T14:08:14.635Z"
   },
   {
    "duration": 14,
    "start_time": "2024-07-06T14:08:14.758Z"
   },
   {
    "duration": 23,
    "start_time": "2024-07-06T14:08:14.774Z"
   },
   {
    "duration": 18,
    "start_time": "2024-07-06T14:08:14.801Z"
   },
   {
    "duration": 15,
    "start_time": "2024-07-06T14:08:14.820Z"
   },
   {
    "duration": 278,
    "start_time": "2024-07-06T14:08:14.837Z"
   },
   {
    "duration": 38951,
    "start_time": "2024-07-06T14:08:15.117Z"
   },
   {
    "duration": 269,
    "start_time": "2024-07-06T14:08:54.070Z"
   },
   {
    "duration": 255,
    "start_time": "2024-07-06T14:08:54.341Z"
   },
   {
    "duration": 273,
    "start_time": "2024-07-06T14:08:54.598Z"
   },
   {
    "duration": 25,
    "start_time": "2024-07-06T14:08:54.873Z"
   },
   {
    "duration": 14,
    "start_time": "2024-07-06T14:08:54.900Z"
   },
   {
    "duration": 19,
    "start_time": "2024-07-06T14:08:54.916Z"
   },
   {
    "duration": 5,
    "start_time": "2024-07-06T14:08:54.937Z"
   },
   {
    "duration": 7,
    "start_time": "2024-07-06T14:08:54.944Z"
   },
   {
    "duration": 50,
    "start_time": "2024-07-06T14:08:54.952Z"
   },
   {
    "duration": 21,
    "start_time": "2024-07-06T14:08:55.003Z"
   },
   {
    "duration": 55,
    "start_time": "2024-07-06T14:08:55.026Z"
   },
   {
    "duration": 1578,
    "start_time": "2024-07-06T14:08:55.083Z"
   },
   {
    "duration": 5,
    "start_time": "2024-07-06T14:08:56.663Z"
   },
   {
    "duration": 1130,
    "start_time": "2024-07-06T14:09:30.357Z"
   },
   {
    "duration": 121,
    "start_time": "2024-07-06T14:09:31.489Z"
   },
   {
    "duration": 12,
    "start_time": "2024-07-06T14:09:31.612Z"
   },
   {
    "duration": 28,
    "start_time": "2024-07-06T14:09:31.625Z"
   },
   {
    "duration": 45,
    "start_time": "2024-07-06T14:09:31.656Z"
   },
   {
    "duration": 13,
    "start_time": "2024-07-06T14:09:31.703Z"
   },
   {
    "duration": 23,
    "start_time": "2024-07-06T14:09:31.717Z"
   },
   {
    "duration": 28,
    "start_time": "2024-07-06T14:09:31.742Z"
   },
   {
    "duration": 27,
    "start_time": "2024-07-06T14:09:31.772Z"
   },
   {
    "duration": 17,
    "start_time": "2024-07-06T14:09:31.801Z"
   },
   {
    "duration": 11,
    "start_time": "2024-07-06T14:09:31.820Z"
   },
   {
    "duration": 8,
    "start_time": "2024-07-06T14:09:31.833Z"
   },
   {
    "duration": 7,
    "start_time": "2024-07-06T14:09:31.843Z"
   },
   {
    "duration": 22,
    "start_time": "2024-07-06T14:09:31.853Z"
   },
   {
    "duration": 18,
    "start_time": "2024-07-06T14:09:31.877Z"
   },
   {
    "duration": 6,
    "start_time": "2024-07-06T14:09:31.896Z"
   },
   {
    "duration": 13,
    "start_time": "2024-07-06T14:09:31.904Z"
   },
   {
    "duration": 7,
    "start_time": "2024-07-06T14:09:31.919Z"
   },
   {
    "duration": 6,
    "start_time": "2024-07-06T14:09:31.928Z"
   },
   {
    "duration": 15,
    "start_time": "2024-07-06T14:09:31.936Z"
   },
   {
    "duration": 52,
    "start_time": "2024-07-06T14:09:31.953Z"
   },
   {
    "duration": 11,
    "start_time": "2024-07-06T14:09:32.007Z"
   },
   {
    "duration": 192,
    "start_time": "2024-07-06T14:09:32.020Z"
   },
   {
    "duration": 14,
    "start_time": "2024-07-06T14:09:32.213Z"
   },
   {
    "duration": 172,
    "start_time": "2024-07-06T14:09:32.228Z"
   },
   {
    "duration": 14,
    "start_time": "2024-07-06T14:09:32.401Z"
   },
   {
    "duration": 269,
    "start_time": "2024-07-06T14:09:32.417Z"
   },
   {
    "duration": 15,
    "start_time": "2024-07-06T14:09:32.691Z"
   },
   {
    "duration": 62,
    "start_time": "2024-07-06T14:09:32.707Z"
   },
   {
    "duration": 191,
    "start_time": "2024-07-06T14:09:32.770Z"
   },
   {
    "duration": 8,
    "start_time": "2024-07-06T14:09:32.963Z"
   },
   {
    "duration": 366,
    "start_time": "2024-07-06T14:09:32.972Z"
   },
   {
    "duration": 9,
    "start_time": "2024-07-06T14:09:33.340Z"
   },
   {
    "duration": 316,
    "start_time": "2024-07-06T14:09:33.351Z"
   },
   {
    "duration": 262,
    "start_time": "2024-07-06T14:09:33.670Z"
   },
   {
    "duration": 12,
    "start_time": "2024-07-06T14:09:33.934Z"
   },
   {
    "duration": 11,
    "start_time": "2024-07-06T14:09:33.948Z"
   },
   {
    "duration": 142,
    "start_time": "2024-07-06T14:09:33.961Z"
   },
   {
    "duration": 17,
    "start_time": "2024-07-06T14:09:34.106Z"
   },
   {
    "duration": 22,
    "start_time": "2024-07-06T14:09:34.125Z"
   },
   {
    "duration": 51,
    "start_time": "2024-07-06T14:09:34.152Z"
   },
   {
    "duration": 16,
    "start_time": "2024-07-06T14:09:34.205Z"
   },
   {
    "duration": 283,
    "start_time": "2024-07-06T14:09:34.223Z"
   },
   {
    "duration": 28244,
    "start_time": "2024-07-06T14:09:34.508Z"
   },
   {
    "duration": 278,
    "start_time": "2024-07-06T14:10:02.753Z"
   },
   {
    "duration": 258,
    "start_time": "2024-07-06T14:10:03.033Z"
   },
   {
    "duration": 2688,
    "start_time": "2024-07-06T14:10:03.293Z"
   },
   {
    "duration": 20,
    "start_time": "2024-07-06T14:10:05.983Z"
   },
   {
    "duration": 17,
    "start_time": "2024-07-06T14:10:06.004Z"
   },
   {
    "duration": 28,
    "start_time": "2024-07-06T14:10:06.023Z"
   },
   {
    "duration": 8,
    "start_time": "2024-07-06T14:10:06.052Z"
   },
   {
    "duration": 13,
    "start_time": "2024-07-06T14:10:06.064Z"
   },
   {
    "duration": 41,
    "start_time": "2024-07-06T14:10:06.080Z"
   },
   {
    "duration": 22,
    "start_time": "2024-07-06T14:10:06.123Z"
   },
   {
    "duration": 6,
    "start_time": "2024-07-06T14:10:06.146Z"
   },
   {
    "duration": 1880,
    "start_time": "2024-07-06T14:10:06.153Z"
   },
   {
    "duration": 5,
    "start_time": "2024-07-06T14:10:08.035Z"
   },
   {
    "duration": 1144,
    "start_time": "2024-07-06T14:12:14.700Z"
   },
   {
    "duration": 123,
    "start_time": "2024-07-06T14:12:15.845Z"
   },
   {
    "duration": 12,
    "start_time": "2024-07-06T14:12:15.970Z"
   },
   {
    "duration": 9,
    "start_time": "2024-07-06T14:12:15.984Z"
   },
   {
    "duration": 7,
    "start_time": "2024-07-06T14:12:15.996Z"
   },
   {
    "duration": 29,
    "start_time": "2024-07-06T14:12:16.005Z"
   },
   {
    "duration": 11,
    "start_time": "2024-07-06T14:12:16.036Z"
   },
   {
    "duration": 12,
    "start_time": "2024-07-06T14:12:16.050Z"
   },
   {
    "duration": 38,
    "start_time": "2024-07-06T14:12:16.064Z"
   },
   {
    "duration": 13,
    "start_time": "2024-07-06T14:12:16.105Z"
   },
   {
    "duration": 17,
    "start_time": "2024-07-06T14:12:16.120Z"
   },
   {
    "duration": 6,
    "start_time": "2024-07-06T14:12:16.139Z"
   },
   {
    "duration": 12,
    "start_time": "2024-07-06T14:12:16.147Z"
   },
   {
    "duration": 6,
    "start_time": "2024-07-06T14:12:16.195Z"
   },
   {
    "duration": 12,
    "start_time": "2024-07-06T14:12:16.203Z"
   },
   {
    "duration": 6,
    "start_time": "2024-07-06T14:12:16.217Z"
   },
   {
    "duration": 10,
    "start_time": "2024-07-06T14:12:16.225Z"
   },
   {
    "duration": 6,
    "start_time": "2024-07-06T14:12:16.237Z"
   },
   {
    "duration": 15,
    "start_time": "2024-07-06T14:12:16.245Z"
   },
   {
    "duration": 36,
    "start_time": "2024-07-06T14:12:16.262Z"
   },
   {
    "duration": 16,
    "start_time": "2024-07-06T14:12:16.300Z"
   },
   {
    "duration": 15,
    "start_time": "2024-07-06T14:12:16.318Z"
   },
   {
    "duration": 212,
    "start_time": "2024-07-06T14:12:16.335Z"
   },
   {
    "duration": 15,
    "start_time": "2024-07-06T14:12:16.550Z"
   },
   {
    "duration": 219,
    "start_time": "2024-07-06T14:12:16.567Z"
   },
   {
    "duration": 15,
    "start_time": "2024-07-06T14:12:16.788Z"
   },
   {
    "duration": 258,
    "start_time": "2024-07-06T14:12:16.806Z"
   },
   {
    "duration": 36,
    "start_time": "2024-07-06T14:12:17.066Z"
   },
   {
    "duration": 11,
    "start_time": "2024-07-06T14:12:17.104Z"
   },
   {
    "duration": 169,
    "start_time": "2024-07-06T14:12:17.117Z"
   },
   {
    "duration": 10,
    "start_time": "2024-07-06T14:12:17.288Z"
   },
   {
    "duration": 294,
    "start_time": "2024-07-06T14:12:17.299Z"
   },
   {
    "duration": 8,
    "start_time": "2024-07-06T14:12:17.596Z"
   },
   {
    "duration": 297,
    "start_time": "2024-07-06T14:12:17.606Z"
   },
   {
    "duration": 262,
    "start_time": "2024-07-06T14:12:17.905Z"
   },
   {
    "duration": 23,
    "start_time": "2024-07-06T14:12:18.169Z"
   },
   {
    "duration": 14,
    "start_time": "2024-07-06T14:12:18.194Z"
   },
   {
    "duration": 132,
    "start_time": "2024-07-06T14:12:18.210Z"
   },
   {
    "duration": 13,
    "start_time": "2024-07-06T14:12:18.343Z"
   },
   {
    "duration": 14,
    "start_time": "2024-07-06T14:12:18.358Z"
   },
   {
    "duration": 18,
    "start_time": "2024-07-06T14:12:18.394Z"
   },
   {
    "duration": 15,
    "start_time": "2024-07-06T14:12:18.413Z"
   },
   {
    "duration": 263,
    "start_time": "2024-07-06T14:12:18.430Z"
   },
   {
    "duration": 102,
    "start_time": "2024-07-06T14:12:18.695Z"
   },
   {
    "duration": 0,
    "start_time": "2024-07-06T14:12:18.798Z"
   },
   {
    "duration": 0,
    "start_time": "2024-07-06T14:12:18.799Z"
   },
   {
    "duration": 0,
    "start_time": "2024-07-06T14:12:18.801Z"
   },
   {
    "duration": 0,
    "start_time": "2024-07-06T14:12:18.802Z"
   },
   {
    "duration": 0,
    "start_time": "2024-07-06T14:12:18.803Z"
   },
   {
    "duration": 0,
    "start_time": "2024-07-06T14:12:18.804Z"
   },
   {
    "duration": 0,
    "start_time": "2024-07-06T14:12:18.806Z"
   },
   {
    "duration": 0,
    "start_time": "2024-07-06T14:12:18.807Z"
   },
   {
    "duration": 0,
    "start_time": "2024-07-06T14:12:18.808Z"
   },
   {
    "duration": 0,
    "start_time": "2024-07-06T14:12:18.809Z"
   },
   {
    "duration": 0,
    "start_time": "2024-07-06T14:12:18.811Z"
   },
   {
    "duration": 0,
    "start_time": "2024-07-06T14:12:18.812Z"
   },
   {
    "duration": 0,
    "start_time": "2024-07-06T14:12:18.813Z"
   },
   {
    "duration": 0,
    "start_time": "2024-07-06T14:12:18.814Z"
   },
   {
    "duration": 0,
    "start_time": "2024-07-06T14:12:18.815Z"
   },
   {
    "duration": 0,
    "start_time": "2024-07-06T14:12:18.816Z"
   },
   {
    "duration": 0,
    "start_time": "2024-07-06T14:12:18.818Z"
   },
   {
    "duration": 241,
    "start_time": "2024-07-06T14:13:32.126Z"
   },
   {
    "duration": 232,
    "start_time": "2024-07-06T14:13:54.581Z"
   },
   {
    "duration": 228,
    "start_time": "2024-07-06T14:14:23.909Z"
   },
   {
    "duration": 263,
    "start_time": "2024-07-06T14:14:40.534Z"
   },
   {
    "duration": 192,
    "start_time": "2024-07-06T14:14:51.926Z"
   },
   {
    "duration": 329,
    "start_time": "2024-07-06T14:15:09.893Z"
   },
   {
    "duration": 1112,
    "start_time": "2024-07-06T14:15:55.927Z"
   },
   {
    "duration": 126,
    "start_time": "2024-07-06T14:15:57.041Z"
   },
   {
    "duration": 14,
    "start_time": "2024-07-06T14:15:57.168Z"
   },
   {
    "duration": 10,
    "start_time": "2024-07-06T14:15:57.184Z"
   },
   {
    "duration": 8,
    "start_time": "2024-07-06T14:15:57.197Z"
   },
   {
    "duration": 14,
    "start_time": "2024-07-06T14:15:57.207Z"
   },
   {
    "duration": 13,
    "start_time": "2024-07-06T14:15:57.222Z"
   },
   {
    "duration": 10,
    "start_time": "2024-07-06T14:15:57.236Z"
   },
   {
    "duration": 21,
    "start_time": "2024-07-06T14:15:57.247Z"
   },
   {
    "duration": 28,
    "start_time": "2024-07-06T14:15:57.270Z"
   },
   {
    "duration": 12,
    "start_time": "2024-07-06T14:15:57.299Z"
   },
   {
    "duration": 4,
    "start_time": "2024-07-06T14:15:57.313Z"
   },
   {
    "duration": 10,
    "start_time": "2024-07-06T14:15:57.319Z"
   },
   {
    "duration": 6,
    "start_time": "2024-07-06T14:15:57.332Z"
   },
   {
    "duration": 9,
    "start_time": "2024-07-06T14:15:57.340Z"
   },
   {
    "duration": 41,
    "start_time": "2024-07-06T14:15:57.351Z"
   },
   {
    "duration": 11,
    "start_time": "2024-07-06T14:15:57.393Z"
   },
   {
    "duration": 6,
    "start_time": "2024-07-06T14:15:57.406Z"
   },
   {
    "duration": 6,
    "start_time": "2024-07-06T14:15:57.413Z"
   },
   {
    "duration": 14,
    "start_time": "2024-07-06T14:15:57.420Z"
   },
   {
    "duration": 15,
    "start_time": "2024-07-06T14:15:57.436Z"
   },
   {
    "duration": 45,
    "start_time": "2024-07-06T14:15:57.453Z"
   },
   {
    "duration": 206,
    "start_time": "2024-07-06T14:15:57.500Z"
   },
   {
    "duration": 13,
    "start_time": "2024-07-06T14:15:57.708Z"
   },
   {
    "duration": 177,
    "start_time": "2024-07-06T14:15:57.723Z"
   },
   {
    "duration": 15,
    "start_time": "2024-07-06T14:15:57.901Z"
   },
   {
    "duration": 292,
    "start_time": "2024-07-06T14:15:57.918Z"
   },
   {
    "duration": 17,
    "start_time": "2024-07-06T14:15:58.212Z"
   },
   {
    "duration": 11,
    "start_time": "2024-07-06T14:15:58.231Z"
   },
   {
    "duration": 170,
    "start_time": "2024-07-06T14:15:58.244Z"
   },
   {
    "duration": 8,
    "start_time": "2024-07-06T14:15:58.415Z"
   },
   {
    "duration": 264,
    "start_time": "2024-07-06T14:15:58.424Z"
   },
   {
    "duration": 8,
    "start_time": "2024-07-06T14:15:58.691Z"
   },
   {
    "duration": 265,
    "start_time": "2024-07-06T14:15:58.701Z"
   },
   {
    "duration": 261,
    "start_time": "2024-07-06T14:15:58.968Z"
   },
   {
    "duration": 12,
    "start_time": "2024-07-06T14:15:59.231Z"
   },
   {
    "duration": 11,
    "start_time": "2024-07-06T14:15:59.245Z"
   },
   {
    "duration": 122,
    "start_time": "2024-07-06T14:15:59.258Z"
   },
   {
    "duration": 20,
    "start_time": "2024-07-06T14:15:59.381Z"
   },
   {
    "duration": 15,
    "start_time": "2024-07-06T14:15:59.402Z"
   },
   {
    "duration": 19,
    "start_time": "2024-07-06T14:15:59.421Z"
   },
   {
    "duration": 50,
    "start_time": "2024-07-06T14:15:59.442Z"
   },
   {
    "duration": 285,
    "start_time": "2024-07-06T14:15:59.494Z"
   },
   {
    "duration": 284,
    "start_time": "2024-07-06T14:15:59.781Z"
   },
   {
    "duration": 276,
    "start_time": "2024-07-06T14:16:00.067Z"
   },
   {
    "duration": 276,
    "start_time": "2024-07-06T14:16:00.344Z"
   },
   {
    "duration": 188,
    "start_time": "2024-07-06T14:16:00.621Z"
   },
   {
    "duration": 219,
    "start_time": "2024-07-06T14:16:00.811Z"
   },
   {
    "duration": 102,
    "start_time": "2024-07-06T14:16:01.031Z"
   },
   {
    "duration": 156,
    "start_time": "2024-07-06T14:16:01.134Z"
   },
   {
    "duration": 30,
    "start_time": "2024-07-06T14:16:01.293Z"
   },
   {
    "duration": 29,
    "start_time": "2024-07-06T14:16:01.325Z"
   },
   {
    "duration": 40,
    "start_time": "2024-07-06T14:16:01.357Z"
   },
   {
    "duration": 169,
    "start_time": "2024-07-06T14:16:01.399Z"
   },
   {
    "duration": 27,
    "start_time": "2024-07-06T14:16:01.570Z"
   },
   {
    "duration": 22,
    "start_time": "2024-07-06T14:16:01.599Z"
   },
   {
    "duration": 1704,
    "start_time": "2024-07-06T14:16:01.623Z"
   },
   {
    "duration": 6,
    "start_time": "2024-07-06T14:16:03.329Z"
   },
   {
    "duration": 1113,
    "start_time": "2024-07-06T14:18:16.861Z"
   },
   {
    "duration": 133,
    "start_time": "2024-07-06T14:18:17.976Z"
   },
   {
    "duration": 15,
    "start_time": "2024-07-06T14:18:18.111Z"
   },
   {
    "duration": 25,
    "start_time": "2024-07-06T14:18:18.127Z"
   },
   {
    "duration": 20,
    "start_time": "2024-07-06T14:18:18.155Z"
   },
   {
    "duration": 21,
    "start_time": "2024-07-06T14:18:18.177Z"
   },
   {
    "duration": 14,
    "start_time": "2024-07-06T14:18:18.200Z"
   },
   {
    "duration": 10,
    "start_time": "2024-07-06T14:18:18.216Z"
   },
   {
    "duration": 22,
    "start_time": "2024-07-06T14:18:18.228Z"
   },
   {
    "duration": 11,
    "start_time": "2024-07-06T14:18:18.252Z"
   },
   {
    "duration": 38,
    "start_time": "2024-07-06T14:18:18.264Z"
   },
   {
    "duration": 5,
    "start_time": "2024-07-06T14:18:18.304Z"
   },
   {
    "duration": 8,
    "start_time": "2024-07-06T14:18:18.310Z"
   },
   {
    "duration": 6,
    "start_time": "2024-07-06T14:18:18.321Z"
   },
   {
    "duration": 7,
    "start_time": "2024-07-06T14:18:18.329Z"
   },
   {
    "duration": 6,
    "start_time": "2024-07-06T14:18:18.337Z"
   },
   {
    "duration": 48,
    "start_time": "2024-07-06T14:18:18.344Z"
   },
   {
    "duration": 6,
    "start_time": "2024-07-06T14:18:18.394Z"
   },
   {
    "duration": 4,
    "start_time": "2024-07-06T14:18:18.402Z"
   },
   {
    "duration": 11,
    "start_time": "2024-07-06T14:18:18.407Z"
   },
   {
    "duration": 13,
    "start_time": "2024-07-06T14:18:18.420Z"
   },
   {
    "duration": 9,
    "start_time": "2024-07-06T14:18:18.435Z"
   },
   {
    "duration": 198,
    "start_time": "2024-07-06T14:18:18.446Z"
   },
   {
    "duration": 12,
    "start_time": "2024-07-06T14:18:18.646Z"
   },
   {
    "duration": 178,
    "start_time": "2024-07-06T14:18:18.660Z"
   },
   {
    "duration": 15,
    "start_time": "2024-07-06T14:18:18.840Z"
   },
   {
    "duration": 273,
    "start_time": "2024-07-06T14:18:18.856Z"
   },
   {
    "duration": 17,
    "start_time": "2024-07-06T14:18:19.131Z"
   },
   {
    "duration": 12,
    "start_time": "2024-07-06T14:18:19.149Z"
   },
   {
    "duration": 168,
    "start_time": "2024-07-06T14:18:19.163Z"
   },
   {
    "duration": 8,
    "start_time": "2024-07-06T14:18:19.333Z"
   },
   {
    "duration": 272,
    "start_time": "2024-07-06T14:18:19.342Z"
   },
   {
    "duration": 7,
    "start_time": "2024-07-06T14:18:19.616Z"
   },
   {
    "duration": 289,
    "start_time": "2024-07-06T14:18:19.625Z"
   },
   {
    "duration": 249,
    "start_time": "2024-07-06T14:18:19.915Z"
   },
   {
    "duration": 11,
    "start_time": "2024-07-06T14:18:20.166Z"
   },
   {
    "duration": 22,
    "start_time": "2024-07-06T14:18:20.179Z"
   },
   {
    "duration": 111,
    "start_time": "2024-07-06T14:18:20.203Z"
   },
   {
    "duration": 14,
    "start_time": "2024-07-06T14:18:20.316Z"
   },
   {
    "duration": 17,
    "start_time": "2024-07-06T14:18:20.331Z"
   },
   {
    "duration": 40,
    "start_time": "2024-07-06T14:18:20.352Z"
   },
   {
    "duration": 16,
    "start_time": "2024-07-06T14:18:20.394Z"
   },
   {
    "duration": 279,
    "start_time": "2024-07-06T14:18:20.412Z"
   },
   {
    "duration": 254,
    "start_time": "2024-07-06T14:18:20.693Z"
   },
   {
    "duration": 277,
    "start_time": "2024-07-06T14:18:20.949Z"
   },
   {
    "duration": 285,
    "start_time": "2024-07-06T14:18:21.229Z"
   },
   {
    "duration": 193,
    "start_time": "2024-07-06T14:18:21.516Z"
   },
   {
    "duration": 492,
    "start_time": "2024-07-06T14:18:21.711Z"
   },
   {
    "duration": 15,
    "start_time": "2024-07-06T14:18:22.205Z"
   },
   {
    "duration": 17,
    "start_time": "2024-07-06T14:18:22.222Z"
   },
   {
    "duration": 14,
    "start_time": "2024-07-06T14:18:22.241Z"
   },
   {
    "duration": 6,
    "start_time": "2024-07-06T14:18:22.257Z"
   },
   {
    "duration": 36,
    "start_time": "2024-07-06T14:18:22.265Z"
   },
   {
    "duration": 26,
    "start_time": "2024-07-06T14:18:22.303Z"
   },
   {
    "duration": 27,
    "start_time": "2024-07-06T14:18:22.330Z"
   },
   {
    "duration": 20,
    "start_time": "2024-07-06T14:18:22.359Z"
   },
   {
    "duration": 1700,
    "start_time": "2024-07-06T14:18:22.381Z"
   },
   {
    "duration": 6,
    "start_time": "2024-07-06T14:18:24.083Z"
   },
   {
    "duration": 1130,
    "start_time": "2024-07-06T14:21:09.416Z"
   },
   {
    "duration": 127,
    "start_time": "2024-07-06T14:21:10.548Z"
   },
   {
    "duration": 13,
    "start_time": "2024-07-06T14:21:10.676Z"
   },
   {
    "duration": 9,
    "start_time": "2024-07-06T14:21:10.691Z"
   },
   {
    "duration": 11,
    "start_time": "2024-07-06T14:21:10.702Z"
   },
   {
    "duration": 10,
    "start_time": "2024-07-06T14:21:10.715Z"
   },
   {
    "duration": 12,
    "start_time": "2024-07-06T14:21:10.727Z"
   },
   {
    "duration": 9,
    "start_time": "2024-07-06T14:21:10.741Z"
   },
   {
    "duration": 42,
    "start_time": "2024-07-06T14:21:10.751Z"
   },
   {
    "duration": 12,
    "start_time": "2024-07-06T14:21:10.794Z"
   },
   {
    "duration": 13,
    "start_time": "2024-07-06T14:21:10.807Z"
   },
   {
    "duration": 5,
    "start_time": "2024-07-06T14:21:10.821Z"
   },
   {
    "duration": 5,
    "start_time": "2024-07-06T14:21:10.828Z"
   },
   {
    "duration": 10,
    "start_time": "2024-07-06T14:21:10.836Z"
   },
   {
    "duration": 6,
    "start_time": "2024-07-06T14:21:10.848Z"
   },
   {
    "duration": 40,
    "start_time": "2024-07-06T14:21:10.856Z"
   },
   {
    "duration": 15,
    "start_time": "2024-07-06T14:21:10.897Z"
   },
   {
    "duration": 6,
    "start_time": "2024-07-06T14:21:10.913Z"
   },
   {
    "duration": 4,
    "start_time": "2024-07-06T14:21:10.921Z"
   },
   {
    "duration": 7,
    "start_time": "2024-07-06T14:21:10.927Z"
   },
   {
    "duration": 13,
    "start_time": "2024-07-06T14:21:10.936Z"
   },
   {
    "duration": 42,
    "start_time": "2024-07-06T14:21:10.950Z"
   },
   {
    "duration": 231,
    "start_time": "2024-07-06T14:21:10.994Z"
   },
   {
    "duration": 16,
    "start_time": "2024-07-06T14:21:11.227Z"
   },
   {
    "duration": 176,
    "start_time": "2024-07-06T14:21:11.245Z"
   },
   {
    "duration": 16,
    "start_time": "2024-07-06T14:21:11.422Z"
   },
   {
    "duration": 303,
    "start_time": "2024-07-06T14:21:11.440Z"
   },
   {
    "duration": 17,
    "start_time": "2024-07-06T14:21:11.745Z"
   },
   {
    "duration": 12,
    "start_time": "2024-07-06T14:21:11.764Z"
   },
   {
    "duration": 176,
    "start_time": "2024-07-06T14:21:11.777Z"
   },
   {
    "duration": 9,
    "start_time": "2024-07-06T14:21:11.955Z"
   },
   {
    "duration": 291,
    "start_time": "2024-07-06T14:21:11.966Z"
   },
   {
    "duration": 7,
    "start_time": "2024-07-06T14:21:12.259Z"
   },
   {
    "duration": 256,
    "start_time": "2024-07-06T14:21:12.267Z"
   },
   {
    "duration": 247,
    "start_time": "2024-07-06T14:21:12.524Z"
   },
   {
    "duration": 20,
    "start_time": "2024-07-06T14:21:12.773Z"
   },
   {
    "duration": 11,
    "start_time": "2024-07-06T14:21:12.795Z"
   },
   {
    "duration": 120,
    "start_time": "2024-07-06T14:21:12.808Z"
   },
   {
    "duration": 14,
    "start_time": "2024-07-06T14:21:12.930Z"
   },
   {
    "duration": 15,
    "start_time": "2024-07-06T14:21:12.946Z"
   },
   {
    "duration": 44,
    "start_time": "2024-07-06T14:21:12.965Z"
   },
   {
    "duration": 124,
    "start_time": "2024-07-06T14:21:13.011Z"
   },
   {
    "duration": 265,
    "start_time": "2024-07-06T14:21:13.137Z"
   },
   {
    "duration": 245,
    "start_time": "2024-07-06T14:21:13.404Z"
   },
   {
    "duration": 245,
    "start_time": "2024-07-06T14:21:13.651Z"
   },
   {
    "duration": 276,
    "start_time": "2024-07-06T14:21:13.897Z"
   },
   {
    "duration": 167,
    "start_time": "2024-07-06T14:21:14.175Z"
   },
   {
    "duration": 521,
    "start_time": "2024-07-06T14:21:14.343Z"
   },
   {
    "duration": 27,
    "start_time": "2024-07-06T14:21:14.865Z"
   },
   {
    "duration": 13,
    "start_time": "2024-07-06T14:21:14.893Z"
   },
   {
    "duration": 14,
    "start_time": "2024-07-06T14:21:14.908Z"
   },
   {
    "duration": 5,
    "start_time": "2024-07-06T14:21:14.924Z"
   },
   {
    "duration": 16,
    "start_time": "2024-07-06T14:21:14.931Z"
   },
   {
    "duration": 43,
    "start_time": "2024-07-06T14:21:14.949Z"
   },
   {
    "duration": 20,
    "start_time": "2024-07-06T14:21:14.994Z"
   },
   {
    "duration": 123,
    "start_time": "2024-07-06T14:21:15.016Z"
   },
   {
    "duration": 1753,
    "start_time": "2024-07-06T14:21:15.141Z"
   },
   {
    "duration": 5,
    "start_time": "2024-07-06T14:21:16.896Z"
   },
   {
    "duration": 1162,
    "start_time": "2024-07-06T14:23:53.516Z"
   },
   {
    "duration": 67,
    "start_time": "2024-07-06T14:23:54.681Z"
   },
   {
    "duration": 13,
    "start_time": "2024-07-06T14:23:54.750Z"
   },
   {
    "duration": 15,
    "start_time": "2024-07-06T14:23:54.765Z"
   },
   {
    "duration": 8,
    "start_time": "2024-07-06T14:23:54.782Z"
   },
   {
    "duration": 18,
    "start_time": "2024-07-06T14:23:54.792Z"
   },
   {
    "duration": 22,
    "start_time": "2024-07-06T14:23:54.811Z"
   },
   {
    "duration": 10,
    "start_time": "2024-07-06T14:23:54.835Z"
   },
   {
    "duration": 18,
    "start_time": "2024-07-06T14:23:54.847Z"
   },
   {
    "duration": 11,
    "start_time": "2024-07-06T14:23:54.867Z"
   },
   {
    "duration": 11,
    "start_time": "2024-07-06T14:23:54.893Z"
   },
   {
    "duration": 4,
    "start_time": "2024-07-06T14:23:54.905Z"
   },
   {
    "duration": 5,
    "start_time": "2024-07-06T14:23:54.911Z"
   },
   {
    "duration": 5,
    "start_time": "2024-07-06T14:23:54.919Z"
   },
   {
    "duration": 8,
    "start_time": "2024-07-06T14:23:54.926Z"
   },
   {
    "duration": 6,
    "start_time": "2024-07-06T14:23:54.935Z"
   },
   {
    "duration": 10,
    "start_time": "2024-07-06T14:23:54.942Z"
   },
   {
    "duration": 6,
    "start_time": "2024-07-06T14:23:54.991Z"
   },
   {
    "duration": 5,
    "start_time": "2024-07-06T14:23:54.999Z"
   },
   {
    "duration": 10,
    "start_time": "2024-07-06T14:23:55.005Z"
   },
   {
    "duration": 15,
    "start_time": "2024-07-06T14:23:55.017Z"
   },
   {
    "duration": 10,
    "start_time": "2024-07-06T14:23:55.034Z"
   },
   {
    "duration": 198,
    "start_time": "2024-07-06T14:23:55.045Z"
   },
   {
    "duration": 13,
    "start_time": "2024-07-06T14:23:55.244Z"
   },
   {
    "duration": 171,
    "start_time": "2024-07-06T14:23:55.258Z"
   },
   {
    "duration": 14,
    "start_time": "2024-07-06T14:23:55.431Z"
   },
   {
    "duration": 262,
    "start_time": "2024-07-06T14:23:55.446Z"
   },
   {
    "duration": 16,
    "start_time": "2024-07-06T14:23:55.710Z"
   },
   {
    "duration": 19,
    "start_time": "2024-07-06T14:23:55.728Z"
   },
   {
    "duration": 175,
    "start_time": "2024-07-06T14:23:55.749Z"
   },
   {
    "duration": 7,
    "start_time": "2024-07-06T14:23:55.926Z"
   },
   {
    "duration": 284,
    "start_time": "2024-07-06T14:23:55.935Z"
   },
   {
    "duration": 7,
    "start_time": "2024-07-06T14:23:56.220Z"
   },
   {
    "duration": 277,
    "start_time": "2024-07-06T14:23:56.229Z"
   },
   {
    "duration": 316,
    "start_time": "2024-07-06T14:23:56.508Z"
   },
   {
    "duration": 13,
    "start_time": "2024-07-06T14:23:56.825Z"
   },
   {
    "duration": 12,
    "start_time": "2024-07-06T14:23:56.839Z"
   },
   {
    "duration": 47,
    "start_time": "2024-07-06T14:23:56.853Z"
   },
   {
    "duration": 15,
    "start_time": "2024-07-06T14:23:56.901Z"
   },
   {
    "duration": 16,
    "start_time": "2024-07-06T14:23:56.917Z"
   },
   {
    "duration": 19,
    "start_time": "2024-07-06T14:23:56.937Z"
   },
   {
    "duration": 46,
    "start_time": "2024-07-06T14:23:56.957Z"
   },
   {
    "duration": 361,
    "start_time": "2024-07-06T14:23:57.005Z"
   },
   {
    "duration": 248,
    "start_time": "2024-07-06T14:23:57.368Z"
   },
   {
    "duration": 269,
    "start_time": "2024-07-06T14:23:57.618Z"
   },
   {
    "duration": 278,
    "start_time": "2024-07-06T14:23:57.890Z"
   },
   {
    "duration": 166,
    "start_time": "2024-07-06T14:23:58.170Z"
   },
   {
    "duration": 485,
    "start_time": "2024-07-06T14:23:58.338Z"
   },
   {
    "duration": 15,
    "start_time": "2024-07-06T14:23:58.825Z"
   },
   {
    "duration": 13,
    "start_time": "2024-07-06T14:23:58.842Z"
   },
   {
    "duration": 36,
    "start_time": "2024-07-06T14:23:58.857Z"
   },
   {
    "duration": 6,
    "start_time": "2024-07-06T14:23:58.894Z"
   },
   {
    "duration": 6,
    "start_time": "2024-07-06T14:23:58.901Z"
   },
   {
    "duration": 19,
    "start_time": "2024-07-06T14:23:58.908Z"
   },
   {
    "duration": 17,
    "start_time": "2024-07-06T14:23:58.929Z"
   },
   {
    "duration": 6,
    "start_time": "2024-07-06T14:23:58.948Z"
   },
   {
    "duration": 1768,
    "start_time": "2024-07-06T14:23:58.955Z"
   },
   {
    "duration": 6,
    "start_time": "2024-07-06T14:24:00.725Z"
   },
   {
    "duration": 1183,
    "start_time": "2024-07-06T14:26:00.134Z"
   },
   {
    "duration": 72,
    "start_time": "2024-07-06T14:26:01.319Z"
   },
   {
    "duration": 13,
    "start_time": "2024-07-06T14:26:01.393Z"
   },
   {
    "duration": 93,
    "start_time": "2024-07-06T14:26:01.408Z"
   },
   {
    "duration": 89,
    "start_time": "2024-07-06T14:26:01.503Z"
   },
   {
    "duration": 149,
    "start_time": "2024-07-06T14:26:01.594Z"
   },
   {
    "duration": 88,
    "start_time": "2024-07-06T14:26:01.745Z"
   },
   {
    "duration": 15,
    "start_time": "2024-07-06T14:26:01.835Z"
   },
   {
    "duration": 59,
    "start_time": "2024-07-06T14:26:01.853Z"
   },
   {
    "duration": 22,
    "start_time": "2024-07-06T14:26:01.914Z"
   },
   {
    "duration": 18,
    "start_time": "2024-07-06T14:26:01.938Z"
   },
   {
    "duration": 6,
    "start_time": "2024-07-06T14:26:01.958Z"
   },
   {
    "duration": 28,
    "start_time": "2024-07-06T14:26:01.966Z"
   },
   {
    "duration": 7,
    "start_time": "2024-07-06T14:26:01.997Z"
   },
   {
    "duration": 8,
    "start_time": "2024-07-06T14:26:02.006Z"
   },
   {
    "duration": 7,
    "start_time": "2024-07-06T14:26:02.015Z"
   },
   {
    "duration": 13,
    "start_time": "2024-07-06T14:26:02.024Z"
   },
   {
    "duration": 53,
    "start_time": "2024-07-06T14:26:02.040Z"
   },
   {
    "duration": 6,
    "start_time": "2024-07-06T14:26:02.095Z"
   },
   {
    "duration": 10,
    "start_time": "2024-07-06T14:26:02.103Z"
   },
   {
    "duration": 16,
    "start_time": "2024-07-06T14:26:02.115Z"
   },
   {
    "duration": 11,
    "start_time": "2024-07-06T14:26:02.133Z"
   },
   {
    "duration": 223,
    "start_time": "2024-07-06T14:26:02.145Z"
   },
   {
    "duration": 21,
    "start_time": "2024-07-06T14:26:02.370Z"
   },
   {
    "duration": 183,
    "start_time": "2024-07-06T14:26:02.394Z"
   },
   {
    "duration": 19,
    "start_time": "2024-07-06T14:26:02.579Z"
   },
   {
    "duration": 321,
    "start_time": "2024-07-06T14:26:02.600Z"
   },
   {
    "duration": 17,
    "start_time": "2024-07-06T14:26:02.923Z"
   },
   {
    "duration": 13,
    "start_time": "2024-07-06T14:26:02.942Z"
   },
   {
    "duration": 161,
    "start_time": "2024-07-06T14:26:02.957Z"
   },
   {
    "duration": 7,
    "start_time": "2024-07-06T14:26:03.120Z"
   },
   {
    "duration": 272,
    "start_time": "2024-07-06T14:26:03.129Z"
   },
   {
    "duration": 8,
    "start_time": "2024-07-06T14:26:03.402Z"
   },
   {
    "duration": 275,
    "start_time": "2024-07-06T14:26:03.411Z"
   },
   {
    "duration": 359,
    "start_time": "2024-07-06T14:26:03.692Z"
   },
   {
    "duration": 16,
    "start_time": "2024-07-06T14:26:04.053Z"
   },
   {
    "duration": 33,
    "start_time": "2024-07-06T14:26:04.071Z"
   },
   {
    "duration": 32,
    "start_time": "2024-07-06T14:26:04.106Z"
   },
   {
    "duration": 23,
    "start_time": "2024-07-06T14:26:04.140Z"
   },
   {
    "duration": 44,
    "start_time": "2024-07-06T14:26:04.166Z"
   },
   {
    "duration": 27,
    "start_time": "2024-07-06T14:26:04.215Z"
   },
   {
    "duration": 25,
    "start_time": "2024-07-06T14:26:04.244Z"
   },
   {
    "duration": 266,
    "start_time": "2024-07-06T14:26:04.291Z"
   },
   {
    "duration": 255,
    "start_time": "2024-07-06T14:26:04.558Z"
   },
   {
    "duration": 259,
    "start_time": "2024-07-06T14:26:04.814Z"
   },
   {
    "duration": 285,
    "start_time": "2024-07-06T14:26:05.075Z"
   },
   {
    "duration": 191,
    "start_time": "2024-07-06T14:26:05.362Z"
   },
   {
    "duration": 521,
    "start_time": "2024-07-06T14:26:05.554Z"
   },
   {
    "duration": 22,
    "start_time": "2024-07-06T14:26:06.077Z"
   },
   {
    "duration": 13,
    "start_time": "2024-07-06T14:26:06.101Z"
   },
   {
    "duration": 26,
    "start_time": "2024-07-06T14:26:06.116Z"
   },
   {
    "duration": 5,
    "start_time": "2024-07-06T14:26:06.144Z"
   },
   {
    "duration": 21,
    "start_time": "2024-07-06T14:26:06.150Z"
   },
   {
    "duration": 30,
    "start_time": "2024-07-06T14:26:06.173Z"
   },
   {
    "duration": 5,
    "start_time": "2024-07-06T14:26:06.205Z"
   },
   {
    "duration": 1675,
    "start_time": "2024-07-06T14:26:06.211Z"
   },
   {
    "duration": 5,
    "start_time": "2024-07-06T14:26:07.888Z"
   },
   {
    "duration": 1129,
    "start_time": "2024-07-06T14:28:33.038Z"
   },
   {
    "duration": 67,
    "start_time": "2024-07-06T14:28:34.169Z"
   },
   {
    "duration": 13,
    "start_time": "2024-07-06T14:28:34.238Z"
   },
   {
    "duration": 8,
    "start_time": "2024-07-06T14:28:34.253Z"
   },
   {
    "duration": 13,
    "start_time": "2024-07-06T14:28:34.264Z"
   },
   {
    "duration": 23,
    "start_time": "2024-07-06T14:28:34.279Z"
   },
   {
    "duration": 14,
    "start_time": "2024-07-06T14:28:34.304Z"
   },
   {
    "duration": 18,
    "start_time": "2024-07-06T14:28:34.320Z"
   },
   {
    "duration": 23,
    "start_time": "2024-07-06T14:28:34.340Z"
   },
   {
    "duration": 15,
    "start_time": "2024-07-06T14:28:34.365Z"
   },
   {
    "duration": 24,
    "start_time": "2024-07-06T14:28:34.382Z"
   },
   {
    "duration": 22,
    "start_time": "2024-07-06T14:28:34.408Z"
   },
   {
    "duration": 16,
    "start_time": "2024-07-06T14:28:34.432Z"
   },
   {
    "duration": 18,
    "start_time": "2024-07-06T14:28:34.452Z"
   },
   {
    "duration": 23,
    "start_time": "2024-07-06T14:28:34.472Z"
   },
   {
    "duration": 14,
    "start_time": "2024-07-06T14:28:34.497Z"
   },
   {
    "duration": 25,
    "start_time": "2024-07-06T14:28:34.513Z"
   },
   {
    "duration": 18,
    "start_time": "2024-07-06T14:28:34.540Z"
   },
   {
    "duration": 15,
    "start_time": "2024-07-06T14:28:34.559Z"
   },
   {
    "duration": 25,
    "start_time": "2024-07-06T14:28:34.575Z"
   },
   {
    "duration": 70,
    "start_time": "2024-07-06T14:28:34.602Z"
   },
   {
    "duration": 15,
    "start_time": "2024-07-06T14:28:34.674Z"
   },
   {
    "duration": 184,
    "start_time": "2024-07-06T14:28:34.691Z"
   },
   {
    "duration": 19,
    "start_time": "2024-07-06T14:28:34.877Z"
   },
   {
    "duration": 181,
    "start_time": "2024-07-06T14:28:34.898Z"
   },
   {
    "duration": 21,
    "start_time": "2024-07-06T14:28:35.081Z"
   },
   {
    "duration": 306,
    "start_time": "2024-07-06T14:28:35.104Z"
   },
   {
    "duration": 17,
    "start_time": "2024-07-06T14:28:35.412Z"
   },
   {
    "duration": 22,
    "start_time": "2024-07-06T14:28:35.431Z"
   },
   {
    "duration": 176,
    "start_time": "2024-07-06T14:28:35.455Z"
   },
   {
    "duration": 9,
    "start_time": "2024-07-06T14:28:35.632Z"
   },
   {
    "duration": 279,
    "start_time": "2024-07-06T14:28:35.643Z"
   },
   {
    "duration": 7,
    "start_time": "2024-07-06T14:28:35.923Z"
   },
   {
    "duration": 277,
    "start_time": "2024-07-06T14:28:35.932Z"
   },
   {
    "duration": 328,
    "start_time": "2024-07-06T14:28:36.211Z"
   },
   {
    "duration": 13,
    "start_time": "2024-07-06T14:28:36.540Z"
   },
   {
    "duration": 12,
    "start_time": "2024-07-06T14:28:36.555Z"
   },
   {
    "duration": 46,
    "start_time": "2024-07-06T14:28:36.569Z"
   },
   {
    "duration": 14,
    "start_time": "2024-07-06T14:28:36.616Z"
   },
   {
    "duration": 65,
    "start_time": "2024-07-06T14:28:36.631Z"
   },
   {
    "duration": 18,
    "start_time": "2024-07-06T14:28:36.700Z"
   },
   {
    "duration": 16,
    "start_time": "2024-07-06T14:28:36.720Z"
   },
   {
    "duration": 288,
    "start_time": "2024-07-06T14:28:36.737Z"
   },
   {
    "duration": 251,
    "start_time": "2024-07-06T14:28:37.026Z"
   },
   {
    "duration": 245,
    "start_time": "2024-07-06T14:28:37.279Z"
   },
   {
    "duration": 267,
    "start_time": "2024-07-06T14:28:37.526Z"
   },
   {
    "duration": 174,
    "start_time": "2024-07-06T14:28:37.795Z"
   },
   {
    "duration": 512,
    "start_time": "2024-07-06T14:28:37.970Z"
   },
   {
    "duration": 17,
    "start_time": "2024-07-06T14:28:38.483Z"
   },
   {
    "duration": 147,
    "start_time": "2024-07-06T14:28:38.502Z"
   },
   {
    "duration": 0,
    "start_time": "2024-07-06T14:28:38.650Z"
   },
   {
    "duration": 0,
    "start_time": "2024-07-06T14:28:38.651Z"
   },
   {
    "duration": 0,
    "start_time": "2024-07-06T14:28:38.652Z"
   },
   {
    "duration": 0,
    "start_time": "2024-07-06T14:28:38.653Z"
   },
   {
    "duration": 0,
    "start_time": "2024-07-06T14:28:38.655Z"
   },
   {
    "duration": 0,
    "start_time": "2024-07-06T14:28:38.656Z"
   },
   {
    "duration": 0,
    "start_time": "2024-07-06T14:28:38.657Z"
   },
   {
    "duration": 0,
    "start_time": "2024-07-06T14:28:38.658Z"
   },
   {
    "duration": 0,
    "start_time": "2024-07-06T14:28:38.659Z"
   },
   {
    "duration": 0,
    "start_time": "2024-07-06T14:28:38.660Z"
   },
   {
    "duration": 0,
    "start_time": "2024-07-06T14:28:38.661Z"
   },
   {
    "duration": 0,
    "start_time": "2024-07-06T14:28:38.662Z"
   },
   {
    "duration": 13,
    "start_time": "2024-07-06T14:58:43.394Z"
   },
   {
    "duration": 1171,
    "start_time": "2024-07-06T14:58:48.020Z"
   },
   {
    "duration": 68,
    "start_time": "2024-07-06T14:58:49.193Z"
   },
   {
    "duration": 12,
    "start_time": "2024-07-06T14:58:49.263Z"
   },
   {
    "duration": 9,
    "start_time": "2024-07-06T14:58:49.277Z"
   },
   {
    "duration": 9,
    "start_time": "2024-07-06T14:58:49.288Z"
   },
   {
    "duration": 13,
    "start_time": "2024-07-06T14:58:49.298Z"
   },
   {
    "duration": 12,
    "start_time": "2024-07-06T14:58:49.312Z"
   },
   {
    "duration": 9,
    "start_time": "2024-07-06T14:58:49.326Z"
   },
   {
    "duration": 13,
    "start_time": "2024-07-06T14:58:49.337Z"
   },
   {
    "duration": 44,
    "start_time": "2024-07-06T14:58:49.354Z"
   },
   {
    "duration": 12,
    "start_time": "2024-07-06T14:58:49.400Z"
   },
   {
    "duration": 5,
    "start_time": "2024-07-06T14:58:49.414Z"
   },
   {
    "duration": 7,
    "start_time": "2024-07-06T14:58:49.421Z"
   },
   {
    "duration": 10,
    "start_time": "2024-07-06T14:58:49.430Z"
   },
   {
    "duration": 9,
    "start_time": "2024-07-06T14:58:49.442Z"
   },
   {
    "duration": 8,
    "start_time": "2024-07-06T14:58:49.452Z"
   },
   {
    "duration": 38,
    "start_time": "2024-07-06T14:58:49.462Z"
   },
   {
    "duration": 7,
    "start_time": "2024-07-06T14:58:49.502Z"
   },
   {
    "duration": 14,
    "start_time": "2024-07-06T14:58:49.510Z"
   },
   {
    "duration": 16,
    "start_time": "2024-07-06T14:58:49.525Z"
   },
   {
    "duration": 13,
    "start_time": "2024-07-06T14:58:49.543Z"
   },
   {
    "duration": 9,
    "start_time": "2024-07-06T14:58:49.557Z"
   },
   {
    "duration": 198,
    "start_time": "2024-07-06T14:58:49.568Z"
   },
   {
    "duration": 12,
    "start_time": "2024-07-06T14:58:49.768Z"
   },
   {
    "duration": 179,
    "start_time": "2024-07-06T14:58:49.791Z"
   },
   {
    "duration": 20,
    "start_time": "2024-07-06T14:58:49.972Z"
   },
   {
    "duration": 268,
    "start_time": "2024-07-06T14:58:49.994Z"
   },
   {
    "duration": 26,
    "start_time": "2024-07-06T14:58:50.266Z"
   },
   {
    "duration": 13,
    "start_time": "2024-07-06T14:58:50.293Z"
   },
   {
    "duration": 186,
    "start_time": "2024-07-06T14:58:50.308Z"
   },
   {
    "duration": 9,
    "start_time": "2024-07-06T14:58:50.495Z"
   },
   {
    "duration": 298,
    "start_time": "2024-07-06T14:58:50.505Z"
   },
   {
    "duration": 7,
    "start_time": "2024-07-06T14:58:50.805Z"
   },
   {
    "duration": 263,
    "start_time": "2024-07-06T14:58:50.814Z"
   },
   {
    "duration": 337,
    "start_time": "2024-07-06T14:58:51.079Z"
   },
   {
    "duration": 13,
    "start_time": "2024-07-06T14:58:51.418Z"
   },
   {
    "duration": 12,
    "start_time": "2024-07-06T14:58:51.433Z"
   },
   {
    "duration": 51,
    "start_time": "2024-07-06T14:58:51.447Z"
   },
   {
    "duration": 14,
    "start_time": "2024-07-06T14:58:51.500Z"
   },
   {
    "duration": 14,
    "start_time": "2024-07-06T14:58:51.515Z"
   },
   {
    "duration": 16,
    "start_time": "2024-07-06T14:58:51.530Z"
   },
   {
    "duration": 45,
    "start_time": "2024-07-06T14:58:51.547Z"
   },
   {
    "duration": 271,
    "start_time": "2024-07-06T14:58:51.594Z"
   },
   {
    "duration": 261,
    "start_time": "2024-07-06T14:58:51.867Z"
   },
   {
    "duration": 284,
    "start_time": "2024-07-06T14:58:52.129Z"
   },
   {
    "duration": 269,
    "start_time": "2024-07-06T14:58:52.415Z"
   },
   {
    "duration": 207,
    "start_time": "2024-07-06T14:58:52.685Z"
   },
   {
    "duration": 530,
    "start_time": "2024-07-06T14:58:52.895Z"
   },
   {
    "duration": 15,
    "start_time": "2024-07-06T14:58:53.426Z"
   },
   {
    "duration": 10,
    "start_time": "2024-07-06T14:58:53.442Z"
   },
   {
    "duration": 13,
    "start_time": "2024-07-06T14:58:53.454Z"
   },
   {
    "duration": 6,
    "start_time": "2024-07-06T14:58:53.492Z"
   },
   {
    "duration": 9,
    "start_time": "2024-07-06T14:58:53.499Z"
   },
   {
    "duration": 19,
    "start_time": "2024-07-06T14:58:53.510Z"
   },
   {
    "duration": 17,
    "start_time": "2024-07-06T14:58:53.530Z"
   },
   {
    "duration": 5,
    "start_time": "2024-07-06T14:58:53.549Z"
   },
   {
    "duration": 1710,
    "start_time": "2024-07-06T14:58:53.556Z"
   },
   {
    "duration": 6,
    "start_time": "2024-07-06T14:58:55.268Z"
   },
   {
    "duration": 1132,
    "start_time": "2024-07-06T15:02:06.132Z"
   },
   {
    "duration": 67,
    "start_time": "2024-07-06T15:02:07.266Z"
   },
   {
    "duration": 13,
    "start_time": "2024-07-06T15:02:07.335Z"
   },
   {
    "duration": 8,
    "start_time": "2024-07-06T15:02:07.350Z"
   },
   {
    "duration": 8,
    "start_time": "2024-07-06T15:02:07.360Z"
   },
   {
    "duration": 18,
    "start_time": "2024-07-06T15:02:07.369Z"
   },
   {
    "duration": 14,
    "start_time": "2024-07-06T15:02:07.389Z"
   },
   {
    "duration": 14,
    "start_time": "2024-07-06T15:02:07.405Z"
   },
   {
    "duration": 31,
    "start_time": "2024-07-06T15:02:07.421Z"
   },
   {
    "duration": 14,
    "start_time": "2024-07-06T15:02:07.454Z"
   },
   {
    "duration": 22,
    "start_time": "2024-07-06T15:02:07.470Z"
   },
   {
    "duration": 6,
    "start_time": "2024-07-06T15:02:07.493Z"
   },
   {
    "duration": 14,
    "start_time": "2024-07-06T15:02:07.500Z"
   },
   {
    "duration": 8,
    "start_time": "2024-07-06T15:02:07.516Z"
   },
   {
    "duration": 7,
    "start_time": "2024-07-06T15:02:07.526Z"
   },
   {
    "duration": 6,
    "start_time": "2024-07-06T15:02:07.535Z"
   },
   {
    "duration": 22,
    "start_time": "2024-07-06T15:02:07.543Z"
   },
   {
    "duration": 6,
    "start_time": "2024-07-06T15:02:07.591Z"
   },
   {
    "duration": 17,
    "start_time": "2024-07-06T15:02:07.598Z"
   },
   {
    "duration": 12,
    "start_time": "2024-07-06T15:02:07.616Z"
   },
   {
    "duration": 20,
    "start_time": "2024-07-06T15:02:07.629Z"
   },
   {
    "duration": 23,
    "start_time": "2024-07-06T15:02:07.651Z"
   },
   {
    "duration": 180,
    "start_time": "2024-07-06T15:02:07.676Z"
   },
   {
    "duration": 13,
    "start_time": "2024-07-06T15:02:07.858Z"
   },
   {
    "duration": 213,
    "start_time": "2024-07-06T15:02:07.873Z"
   },
   {
    "duration": 14,
    "start_time": "2024-07-06T15:02:08.092Z"
   },
   {
    "duration": 277,
    "start_time": "2024-07-06T15:02:08.108Z"
   },
   {
    "duration": 16,
    "start_time": "2024-07-06T15:02:08.392Z"
   },
   {
    "duration": 15,
    "start_time": "2024-07-06T15:02:08.410Z"
   },
   {
    "duration": 170,
    "start_time": "2024-07-06T15:02:08.427Z"
   },
   {
    "duration": 9,
    "start_time": "2024-07-06T15:02:08.599Z"
   },
   {
    "duration": 279,
    "start_time": "2024-07-06T15:02:08.609Z"
   },
   {
    "duration": 8,
    "start_time": "2024-07-06T15:02:08.891Z"
   },
   {
    "duration": 261,
    "start_time": "2024-07-06T15:02:08.900Z"
   },
   {
    "duration": 322,
    "start_time": "2024-07-06T15:02:09.162Z"
   },
   {
    "duration": 17,
    "start_time": "2024-07-06T15:02:09.485Z"
   },
   {
    "duration": 12,
    "start_time": "2024-07-06T15:02:09.504Z"
   },
   {
    "duration": 36,
    "start_time": "2024-07-06T15:02:09.518Z"
   },
   {
    "duration": 42,
    "start_time": "2024-07-06T15:02:09.556Z"
   },
   {
    "duration": 16,
    "start_time": "2024-07-06T15:02:09.600Z"
   },
   {
    "duration": 20,
    "start_time": "2024-07-06T15:02:09.620Z"
   },
   {
    "duration": 17,
    "start_time": "2024-07-06T15:02:09.642Z"
   },
   {
    "duration": 291,
    "start_time": "2024-07-06T15:02:09.691Z"
   },
   {
    "duration": 286,
    "start_time": "2024-07-06T15:02:09.984Z"
   },
   {
    "duration": 249,
    "start_time": "2024-07-06T15:02:10.272Z"
   },
   {
    "duration": 279,
    "start_time": "2024-07-06T15:02:10.523Z"
   },
   {
    "duration": 175,
    "start_time": "2024-07-06T15:02:10.804Z"
   },
   {
    "duration": 562,
    "start_time": "2024-07-06T15:02:10.981Z"
   },
   {
    "duration": 16,
    "start_time": "2024-07-06T15:02:11.545Z"
   },
   {
    "duration": 32,
    "start_time": "2024-07-06T15:02:11.562Z"
   },
   {
    "duration": 13,
    "start_time": "2024-07-06T15:02:11.596Z"
   },
   {
    "duration": 6,
    "start_time": "2024-07-06T15:02:11.610Z"
   },
   {
    "duration": 6,
    "start_time": "2024-07-06T15:02:11.618Z"
   },
   {
    "duration": 19,
    "start_time": "2024-07-06T15:02:11.626Z"
   },
   {
    "duration": 48,
    "start_time": "2024-07-06T15:02:11.647Z"
   },
   {
    "duration": 6,
    "start_time": "2024-07-06T15:02:11.696Z"
   },
   {
    "duration": 1679,
    "start_time": "2024-07-06T15:02:11.703Z"
   },
   {
    "duration": 8,
    "start_time": "2024-07-06T15:02:13.384Z"
   },
   {
    "duration": 48,
    "start_time": "2024-07-06T15:37:38.294Z"
   },
   {
    "duration": 6,
    "start_time": "2024-07-06T15:37:48.178Z"
   },
   {
    "duration": 1227,
    "start_time": "2024-07-06T15:37:55.865Z"
   },
   {
    "duration": 306,
    "start_time": "2024-07-06T15:37:57.094Z"
   },
   {
    "duration": 13,
    "start_time": "2024-07-06T15:37:57.402Z"
   },
   {
    "duration": 28,
    "start_time": "2024-07-06T15:37:57.417Z"
   },
   {
    "duration": 18,
    "start_time": "2024-07-06T15:37:57.447Z"
   },
   {
    "duration": 48,
    "start_time": "2024-07-06T15:37:57.467Z"
   },
   {
    "duration": 41,
    "start_time": "2024-07-06T15:37:57.517Z"
   },
   {
    "duration": 24,
    "start_time": "2024-07-06T15:37:57.559Z"
   },
   {
    "duration": 33,
    "start_time": "2024-07-06T15:37:57.584Z"
   },
   {
    "duration": 15,
    "start_time": "2024-07-06T15:37:57.619Z"
   },
   {
    "duration": 15,
    "start_time": "2024-07-06T15:37:57.635Z"
   },
   {
    "duration": 13,
    "start_time": "2024-07-06T15:37:57.651Z"
   },
   {
    "duration": 27,
    "start_time": "2024-07-06T15:37:57.665Z"
   },
   {
    "duration": 26,
    "start_time": "2024-07-06T15:37:57.696Z"
   },
   {
    "duration": 36,
    "start_time": "2024-07-06T15:37:57.724Z"
   },
   {
    "duration": 26,
    "start_time": "2024-07-06T15:37:57.762Z"
   },
   {
    "duration": 19,
    "start_time": "2024-07-06T15:37:57.789Z"
   },
   {
    "duration": 20,
    "start_time": "2024-07-06T15:37:57.810Z"
   },
   {
    "duration": 5,
    "start_time": "2024-07-06T15:37:57.832Z"
   },
   {
    "duration": 17,
    "start_time": "2024-07-06T15:37:57.838Z"
   },
   {
    "duration": 14,
    "start_time": "2024-07-06T15:37:57.856Z"
   },
   {
    "duration": 13,
    "start_time": "2024-07-06T15:37:57.871Z"
   },
   {
    "duration": 180,
    "start_time": "2024-07-06T15:37:57.886Z"
   },
   {
    "duration": 13,
    "start_time": "2024-07-06T15:37:58.068Z"
   },
   {
    "duration": 190,
    "start_time": "2024-07-06T15:37:58.082Z"
   },
   {
    "duration": 20,
    "start_time": "2024-07-06T15:37:58.275Z"
   },
   {
    "duration": 283,
    "start_time": "2024-07-06T15:37:58.298Z"
   },
   {
    "duration": 21,
    "start_time": "2024-07-06T15:37:58.583Z"
   },
   {
    "duration": 12,
    "start_time": "2024-07-06T15:37:58.606Z"
   },
   {
    "duration": 165,
    "start_time": "2024-07-06T15:37:58.620Z"
   },
   {
    "duration": 8,
    "start_time": "2024-07-06T15:37:58.791Z"
   },
   {
    "duration": 269,
    "start_time": "2024-07-06T15:37:58.801Z"
   },
   {
    "duration": 8,
    "start_time": "2024-07-06T15:37:59.071Z"
   },
   {
    "duration": 260,
    "start_time": "2024-07-06T15:37:59.092Z"
   },
   {
    "duration": 326,
    "start_time": "2024-07-06T15:37:59.354Z"
   },
   {
    "duration": 19,
    "start_time": "2024-07-06T15:37:59.681Z"
   },
   {
    "duration": 16,
    "start_time": "2024-07-06T15:37:59.702Z"
   },
   {
    "duration": 29,
    "start_time": "2024-07-06T15:37:59.720Z"
   },
   {
    "duration": 15,
    "start_time": "2024-07-06T15:37:59.751Z"
   },
   {
    "duration": 44,
    "start_time": "2024-07-06T15:37:59.768Z"
   },
   {
    "duration": 22,
    "start_time": "2024-07-06T15:37:59.818Z"
   },
   {
    "duration": 26,
    "start_time": "2024-07-06T15:37:59.842Z"
   },
   {
    "duration": 322,
    "start_time": "2024-07-06T15:37:59.869Z"
   },
   {
    "duration": 272,
    "start_time": "2024-07-06T15:38:00.193Z"
   },
   {
    "duration": 266,
    "start_time": "2024-07-06T15:38:00.467Z"
   },
   {
    "duration": 275,
    "start_time": "2024-07-06T15:38:00.735Z"
   },
   {
    "duration": 186,
    "start_time": "2024-07-06T15:38:01.011Z"
   },
   {
    "duration": 560,
    "start_time": "2024-07-06T15:38:01.199Z"
   },
   {
    "duration": 16,
    "start_time": "2024-07-06T15:38:01.761Z"
   },
   {
    "duration": 82,
    "start_time": "2024-07-06T15:38:01.779Z"
   },
   {
    "duration": 35,
    "start_time": "2024-07-06T15:38:01.863Z"
   },
   {
    "duration": 18,
    "start_time": "2024-07-06T15:38:01.899Z"
   },
   {
    "duration": 51,
    "start_time": "2024-07-06T15:38:01.919Z"
   },
   {
    "duration": 54,
    "start_time": "2024-07-06T15:38:01.972Z"
   },
   {
    "duration": 37,
    "start_time": "2024-07-06T15:38:02.028Z"
   },
   {
    "duration": 66,
    "start_time": "2024-07-06T15:38:02.067Z"
   },
   {
    "duration": 1775,
    "start_time": "2024-07-06T15:38:02.134Z"
   },
   {
    "duration": 6,
    "start_time": "2024-07-06T15:38:03.910Z"
   },
   {
    "duration": 1152,
    "start_time": "2024-07-06T15:38:45.606Z"
   },
   {
    "duration": 68,
    "start_time": "2024-07-06T15:38:46.760Z"
   },
   {
    "duration": 13,
    "start_time": "2024-07-06T15:38:46.830Z"
   },
   {
    "duration": 9,
    "start_time": "2024-07-06T15:38:46.845Z"
   },
   {
    "duration": 18,
    "start_time": "2024-07-06T15:38:46.856Z"
   },
   {
    "duration": 22,
    "start_time": "2024-07-06T15:38:46.876Z"
   },
   {
    "duration": 31,
    "start_time": "2024-07-06T15:38:46.900Z"
   },
   {
    "duration": 38,
    "start_time": "2024-07-06T15:38:46.933Z"
   },
   {
    "duration": 18,
    "start_time": "2024-07-06T15:38:46.973Z"
   },
   {
    "duration": 11,
    "start_time": "2024-07-06T15:38:46.993Z"
   },
   {
    "duration": 28,
    "start_time": "2024-07-06T15:38:47.005Z"
   },
   {
    "duration": 21,
    "start_time": "2024-07-06T15:38:47.035Z"
   },
   {
    "duration": 9,
    "start_time": "2024-07-06T15:38:47.057Z"
   },
   {
    "duration": 6,
    "start_time": "2024-07-06T15:38:47.069Z"
   },
   {
    "duration": 29,
    "start_time": "2024-07-06T15:38:47.076Z"
   },
   {
    "duration": 8,
    "start_time": "2024-07-06T15:38:47.106Z"
   },
   {
    "duration": 16,
    "start_time": "2024-07-06T15:38:47.116Z"
   },
   {
    "duration": 6,
    "start_time": "2024-07-06T15:38:47.134Z"
   },
   {
    "duration": 5,
    "start_time": "2024-07-06T15:38:47.142Z"
   },
   {
    "duration": 14,
    "start_time": "2024-07-06T15:38:47.148Z"
   },
   {
    "duration": 40,
    "start_time": "2024-07-06T15:38:47.164Z"
   },
   {
    "duration": 11,
    "start_time": "2024-07-06T15:38:47.206Z"
   },
   {
    "duration": 212,
    "start_time": "2024-07-06T15:38:47.218Z"
   },
   {
    "duration": 14,
    "start_time": "2024-07-06T15:38:47.432Z"
   },
   {
    "duration": 182,
    "start_time": "2024-07-06T15:38:47.448Z"
   },
   {
    "duration": 16,
    "start_time": "2024-07-06T15:38:47.633Z"
   },
   {
    "duration": 285,
    "start_time": "2024-07-06T15:38:47.651Z"
   },
   {
    "duration": 17,
    "start_time": "2024-07-06T15:38:47.937Z"
   },
   {
    "duration": 12,
    "start_time": "2024-07-06T15:38:47.956Z"
   },
   {
    "duration": 178,
    "start_time": "2024-07-06T15:38:47.969Z"
   },
   {
    "duration": 8,
    "start_time": "2024-07-06T15:38:48.148Z"
   },
   {
    "duration": 275,
    "start_time": "2024-07-06T15:38:48.157Z"
   },
   {
    "duration": 8,
    "start_time": "2024-07-06T15:38:48.433Z"
   },
   {
    "duration": 256,
    "start_time": "2024-07-06T15:38:48.442Z"
   },
   {
    "duration": 340,
    "start_time": "2024-07-06T15:38:48.700Z"
   },
   {
    "duration": 15,
    "start_time": "2024-07-06T15:38:49.042Z"
   },
   {
    "duration": 14,
    "start_time": "2024-07-06T15:38:49.060Z"
   },
   {
    "duration": 27,
    "start_time": "2024-07-06T15:38:49.091Z"
   },
   {
    "duration": 15,
    "start_time": "2024-07-06T15:38:49.120Z"
   },
   {
    "duration": 40,
    "start_time": "2024-07-06T15:38:49.137Z"
   },
   {
    "duration": 18,
    "start_time": "2024-07-06T15:38:49.181Z"
   },
   {
    "duration": 15,
    "start_time": "2024-07-06T15:38:49.201Z"
   },
   {
    "duration": 270,
    "start_time": "2024-07-06T15:38:49.218Z"
   },
   {
    "duration": 246,
    "start_time": "2024-07-06T15:38:49.491Z"
   },
   {
    "duration": 264,
    "start_time": "2024-07-06T15:38:49.738Z"
   },
   {
    "duration": 285,
    "start_time": "2024-07-06T15:38:50.004Z"
   },
   {
    "duration": 171,
    "start_time": "2024-07-06T15:38:50.292Z"
   },
   {
    "duration": 511,
    "start_time": "2024-07-06T15:38:50.464Z"
   },
   {
    "duration": 20,
    "start_time": "2024-07-06T15:38:50.977Z"
   },
   {
    "duration": 20,
    "start_time": "2024-07-06T15:38:50.998Z"
   },
   {
    "duration": 14,
    "start_time": "2024-07-06T15:38:51.019Z"
   },
   {
    "duration": 14,
    "start_time": "2024-07-06T15:38:51.034Z"
   },
   {
    "duration": 9,
    "start_time": "2024-07-06T15:38:51.049Z"
   },
   {
    "duration": 40,
    "start_time": "2024-07-06T15:38:51.060Z"
   },
   {
    "duration": 18,
    "start_time": "2024-07-06T15:38:51.102Z"
   },
   {
    "duration": 6,
    "start_time": "2024-07-06T15:38:51.122Z"
   },
   {
    "duration": 1697,
    "start_time": "2024-07-06T15:38:51.130Z"
   },
   {
    "duration": 5,
    "start_time": "2024-07-06T15:38:52.829Z"
   },
   {
    "duration": 1117,
    "start_time": "2024-07-06T15:40:43.950Z"
   },
   {
    "duration": 68,
    "start_time": "2024-07-06T15:40:45.070Z"
   },
   {
    "duration": 14,
    "start_time": "2024-07-06T15:40:45.140Z"
   },
   {
    "duration": 10,
    "start_time": "2024-07-06T15:40:45.155Z"
   },
   {
    "duration": 11,
    "start_time": "2024-07-06T15:40:45.167Z"
   },
   {
    "duration": 21,
    "start_time": "2024-07-06T15:40:45.180Z"
   },
   {
    "duration": 44,
    "start_time": "2024-07-06T15:40:45.203Z"
   },
   {
    "duration": 107,
    "start_time": "2024-07-06T15:40:45.249Z"
   },
   {
    "duration": 20,
    "start_time": "2024-07-06T15:40:45.357Z"
   },
   {
    "duration": 24,
    "start_time": "2024-07-06T15:40:45.379Z"
   },
   {
    "duration": 11,
    "start_time": "2024-07-06T15:40:45.405Z"
   },
   {
    "duration": 15,
    "start_time": "2024-07-06T15:40:45.418Z"
   },
   {
    "duration": 24,
    "start_time": "2024-07-06T15:40:45.435Z"
   },
   {
    "duration": 21,
    "start_time": "2024-07-06T15:40:45.462Z"
   },
   {
    "duration": 9,
    "start_time": "2024-07-06T15:40:45.484Z"
   },
   {
    "duration": 6,
    "start_time": "2024-07-06T15:40:45.494Z"
   },
   {
    "duration": 25,
    "start_time": "2024-07-06T15:40:45.501Z"
   },
   {
    "duration": 6,
    "start_time": "2024-07-06T15:40:45.527Z"
   },
   {
    "duration": 24,
    "start_time": "2024-07-06T15:40:45.534Z"
   },
   {
    "duration": 10,
    "start_time": "2024-07-06T15:40:45.559Z"
   },
   {
    "duration": 14,
    "start_time": "2024-07-06T15:40:45.571Z"
   },
   {
    "duration": 10,
    "start_time": "2024-07-06T15:40:45.586Z"
   },
   {
    "duration": 175,
    "start_time": "2024-07-06T15:40:45.598Z"
   },
   {
    "duration": 17,
    "start_time": "2024-07-06T15:40:45.775Z"
   },
   {
    "duration": 169,
    "start_time": "2024-07-06T15:40:45.794Z"
   },
   {
    "duration": 15,
    "start_time": "2024-07-06T15:40:45.965Z"
   },
   {
    "duration": 292,
    "start_time": "2024-07-06T15:40:45.991Z"
   },
   {
    "duration": 17,
    "start_time": "2024-07-06T15:40:46.291Z"
   },
   {
    "duration": 18,
    "start_time": "2024-07-06T15:40:46.310Z"
   },
   {
    "duration": 179,
    "start_time": "2024-07-06T15:40:46.330Z"
   },
   {
    "duration": 8,
    "start_time": "2024-07-06T15:40:46.512Z"
   },
   {
    "duration": 264,
    "start_time": "2024-07-06T15:40:46.522Z"
   },
   {
    "duration": 7,
    "start_time": "2024-07-06T15:40:46.791Z"
   },
   {
    "duration": 267,
    "start_time": "2024-07-06T15:40:46.800Z"
   },
   {
    "duration": 305,
    "start_time": "2024-07-06T15:40:47.069Z"
   },
   {
    "duration": 21,
    "start_time": "2024-07-06T15:40:47.376Z"
   },
   {
    "duration": 11,
    "start_time": "2024-07-06T15:40:47.398Z"
   },
   {
    "duration": 28,
    "start_time": "2024-07-06T15:40:47.410Z"
   },
   {
    "duration": 14,
    "start_time": "2024-07-06T15:40:47.439Z"
   },
   {
    "duration": 42,
    "start_time": "2024-07-06T15:40:47.455Z"
   },
   {
    "duration": 20,
    "start_time": "2024-07-06T15:40:47.502Z"
   },
   {
    "duration": 16,
    "start_time": "2024-07-06T15:40:47.524Z"
   },
   {
    "duration": 287,
    "start_time": "2024-07-06T15:40:47.541Z"
   },
   {
    "duration": 276,
    "start_time": "2024-07-06T15:40:47.830Z"
   },
   {
    "duration": 265,
    "start_time": "2024-07-06T15:40:48.107Z"
   },
   {
    "duration": 257,
    "start_time": "2024-07-06T15:40:48.374Z"
   },
   {
    "duration": 164,
    "start_time": "2024-07-06T15:40:48.633Z"
   },
   {
    "duration": 479,
    "start_time": "2024-07-06T15:40:48.798Z"
   },
   {
    "duration": 19,
    "start_time": "2024-07-06T15:40:49.279Z"
   },
   {
    "duration": 85,
    "start_time": "2024-07-06T15:40:49.299Z"
   },
   {
    "duration": 95,
    "start_time": "2024-07-06T15:40:49.385Z"
   },
   {
    "duration": 0,
    "start_time": "2024-07-06T15:40:49.482Z"
   },
   {
    "duration": 0,
    "start_time": "2024-07-06T15:40:49.483Z"
   },
   {
    "duration": 0,
    "start_time": "2024-07-06T15:40:49.484Z"
   },
   {
    "duration": 0,
    "start_time": "2024-07-06T15:40:49.485Z"
   },
   {
    "duration": 0,
    "start_time": "2024-07-06T15:40:49.485Z"
   },
   {
    "duration": 0,
    "start_time": "2024-07-06T15:40:49.491Z"
   },
   {
    "duration": 0,
    "start_time": "2024-07-06T15:40:49.493Z"
   },
   {
    "duration": 0,
    "start_time": "2024-07-06T15:40:49.494Z"
   },
   {
    "duration": 0,
    "start_time": "2024-07-06T15:40:49.495Z"
   },
   {
    "duration": 0,
    "start_time": "2024-07-06T15:40:49.496Z"
   },
   {
    "duration": 0,
    "start_time": "2024-07-06T15:40:49.497Z"
   },
   {
    "duration": 15,
    "start_time": "2024-07-06T15:43:54.411Z"
   },
   {
    "duration": 10,
    "start_time": "2024-07-06T15:44:06.237Z"
   },
   {
    "duration": 8,
    "start_time": "2024-07-06T15:44:19.803Z"
   },
   {
    "duration": 4,
    "start_time": "2024-07-06T15:44:54.739Z"
   },
   {
    "duration": 15,
    "start_time": "2024-07-06T15:45:13.274Z"
   },
   {
    "duration": 22,
    "start_time": "2024-07-06T15:45:47.386Z"
   },
   {
    "duration": 15,
    "start_time": "2024-07-06T15:46:03.147Z"
   },
   {
    "duration": 14,
    "start_time": "2024-07-06T15:46:58.923Z"
   },
   {
    "duration": 12,
    "start_time": "2024-07-06T15:47:47.274Z"
   },
   {
    "duration": 10,
    "start_time": "2024-07-06T15:48:05.362Z"
   },
   {
    "duration": 12,
    "start_time": "2024-07-06T15:48:22.682Z"
   },
   {
    "duration": 11,
    "start_time": "2024-07-06T15:49:36.562Z"
   },
   {
    "duration": 12,
    "start_time": "2024-07-06T15:50:09.522Z"
   },
   {
    "duration": 12,
    "start_time": "2024-07-06T15:50:32.978Z"
   },
   {
    "duration": 16,
    "start_time": "2024-07-06T15:50:43.409Z"
   },
   {
    "duration": 20,
    "start_time": "2024-07-06T15:51:44.266Z"
   },
   {
    "duration": 1159,
    "start_time": "2024-07-06T15:51:56.716Z"
   },
   {
    "duration": 67,
    "start_time": "2024-07-06T15:51:57.877Z"
   },
   {
    "duration": 13,
    "start_time": "2024-07-06T15:51:57.945Z"
   },
   {
    "duration": 28,
    "start_time": "2024-07-06T15:51:57.960Z"
   },
   {
    "duration": 19,
    "start_time": "2024-07-06T15:51:57.990Z"
   },
   {
    "duration": 23,
    "start_time": "2024-07-06T15:51:58.011Z"
   },
   {
    "duration": 20,
    "start_time": "2024-07-06T15:51:58.036Z"
   },
   {
    "duration": 28,
    "start_time": "2024-07-06T15:51:58.057Z"
   },
   {
    "duration": 19,
    "start_time": "2024-07-06T15:51:58.086Z"
   },
   {
    "duration": 18,
    "start_time": "2024-07-06T15:51:58.107Z"
   },
   {
    "duration": 12,
    "start_time": "2024-07-06T15:51:58.127Z"
   },
   {
    "duration": 5,
    "start_time": "2024-07-06T15:51:58.140Z"
   },
   {
    "duration": 7,
    "start_time": "2024-07-06T15:51:58.147Z"
   },
   {
    "duration": 10,
    "start_time": "2024-07-06T15:51:58.157Z"
   },
   {
    "duration": 25,
    "start_time": "2024-07-06T15:51:58.169Z"
   },
   {
    "duration": 7,
    "start_time": "2024-07-06T15:51:58.196Z"
   },
   {
    "duration": 28,
    "start_time": "2024-07-06T15:51:58.205Z"
   },
   {
    "duration": 36,
    "start_time": "2024-07-06T15:51:58.234Z"
   },
   {
    "duration": 24,
    "start_time": "2024-07-06T15:51:58.272Z"
   },
   {
    "duration": 12,
    "start_time": "2024-07-06T15:51:58.298Z"
   },
   {
    "duration": 29,
    "start_time": "2024-07-06T15:51:58.312Z"
   },
   {
    "duration": 15,
    "start_time": "2024-07-06T15:51:58.343Z"
   },
   {
    "duration": 181,
    "start_time": "2024-07-06T15:51:58.360Z"
   },
   {
    "duration": 12,
    "start_time": "2024-07-06T15:51:58.543Z"
   },
   {
    "duration": 180,
    "start_time": "2024-07-06T15:51:58.557Z"
   },
   {
    "duration": 16,
    "start_time": "2024-07-06T15:51:58.739Z"
   },
   {
    "duration": 266,
    "start_time": "2024-07-06T15:51:58.757Z"
   },
   {
    "duration": 18,
    "start_time": "2024-07-06T15:51:59.025Z"
   },
   {
    "duration": 28,
    "start_time": "2024-07-06T15:51:59.044Z"
   },
   {
    "duration": 196,
    "start_time": "2024-07-06T15:51:59.074Z"
   },
   {
    "duration": 8,
    "start_time": "2024-07-06T15:51:59.272Z"
   },
   {
    "duration": 263,
    "start_time": "2024-07-06T15:51:59.281Z"
   },
   {
    "duration": 8,
    "start_time": "2024-07-06T15:51:59.545Z"
   },
   {
    "duration": 281,
    "start_time": "2024-07-06T15:51:59.554Z"
   },
   {
    "duration": 388,
    "start_time": "2024-07-06T15:51:59.837Z"
   },
   {
    "duration": 13,
    "start_time": "2024-07-06T15:52:00.227Z"
   },
   {
    "duration": 60,
    "start_time": "2024-07-06T15:52:00.241Z"
   },
   {
    "duration": 62,
    "start_time": "2024-07-06T15:52:00.304Z"
   },
   {
    "duration": 72,
    "start_time": "2024-07-06T15:52:00.368Z"
   },
   {
    "duration": 109,
    "start_time": "2024-07-06T15:52:00.441Z"
   },
   {
    "duration": 25,
    "start_time": "2024-07-06T15:52:00.554Z"
   },
   {
    "duration": 42,
    "start_time": "2024-07-06T15:52:00.581Z"
   },
   {
    "duration": 316,
    "start_time": "2024-07-06T15:52:00.625Z"
   },
   {
    "duration": 305,
    "start_time": "2024-07-06T15:52:00.943Z"
   },
   {
    "duration": 266,
    "start_time": "2024-07-06T15:52:01.250Z"
   },
   {
    "duration": 285,
    "start_time": "2024-07-06T15:52:01.518Z"
   },
   {
    "duration": 191,
    "start_time": "2024-07-06T15:52:01.805Z"
   },
   {
    "duration": 512,
    "start_time": "2024-07-06T15:52:01.998Z"
   },
   {
    "duration": 15,
    "start_time": "2024-07-06T15:52:02.512Z"
   },
   {
    "duration": 18,
    "start_time": "2024-07-06T15:52:02.529Z"
   },
   {
    "duration": 128,
    "start_time": "2024-07-06T15:52:02.548Z"
   },
   {
    "duration": 0,
    "start_time": "2024-07-06T15:52:02.678Z"
   },
   {
    "duration": 0,
    "start_time": "2024-07-06T15:52:02.679Z"
   },
   {
    "duration": 0,
    "start_time": "2024-07-06T15:52:02.680Z"
   },
   {
    "duration": 0,
    "start_time": "2024-07-06T15:52:02.691Z"
   },
   {
    "duration": 0,
    "start_time": "2024-07-06T15:52:02.692Z"
   },
   {
    "duration": 0,
    "start_time": "2024-07-06T15:52:02.693Z"
   },
   {
    "duration": 0,
    "start_time": "2024-07-06T15:52:02.695Z"
   },
   {
    "duration": 0,
    "start_time": "2024-07-06T15:52:02.696Z"
   },
   {
    "duration": 0,
    "start_time": "2024-07-06T15:52:02.697Z"
   },
   {
    "duration": 0,
    "start_time": "2024-07-06T15:52:02.698Z"
   },
   {
    "duration": 0,
    "start_time": "2024-07-06T15:52:02.700Z"
   },
   {
    "duration": 0,
    "start_time": "2024-07-06T15:52:02.700Z"
   },
   {
    "duration": 14,
    "start_time": "2024-07-06T15:52:51.858Z"
   },
   {
    "duration": 27,
    "start_time": "2024-07-06T15:55:34.362Z"
   },
   {
    "duration": 1212,
    "start_time": "2024-07-06T15:55:40.564Z"
   },
   {
    "duration": 71,
    "start_time": "2024-07-06T15:55:41.778Z"
   },
   {
    "duration": 14,
    "start_time": "2024-07-06T15:55:41.850Z"
   },
   {
    "duration": 8,
    "start_time": "2024-07-06T15:55:41.865Z"
   },
   {
    "duration": 7,
    "start_time": "2024-07-06T15:55:41.876Z"
   },
   {
    "duration": 14,
    "start_time": "2024-07-06T15:55:41.884Z"
   },
   {
    "duration": 21,
    "start_time": "2024-07-06T15:55:41.900Z"
   },
   {
    "duration": 10,
    "start_time": "2024-07-06T15:55:41.923Z"
   },
   {
    "duration": 13,
    "start_time": "2024-07-06T15:55:41.934Z"
   },
   {
    "duration": 20,
    "start_time": "2024-07-06T15:55:41.949Z"
   },
   {
    "duration": 21,
    "start_time": "2024-07-06T15:55:41.971Z"
   },
   {
    "duration": 4,
    "start_time": "2024-07-06T15:55:41.994Z"
   },
   {
    "duration": 7,
    "start_time": "2024-07-06T15:55:42.000Z"
   },
   {
    "duration": 11,
    "start_time": "2024-07-06T15:55:42.010Z"
   },
   {
    "duration": 7,
    "start_time": "2024-07-06T15:55:42.023Z"
   },
   {
    "duration": 15,
    "start_time": "2024-07-06T15:55:42.031Z"
   },
   {
    "duration": 14,
    "start_time": "2024-07-06T15:55:42.048Z"
   },
   {
    "duration": 7,
    "start_time": "2024-07-06T15:55:42.092Z"
   },
   {
    "duration": 6,
    "start_time": "2024-07-06T15:55:42.101Z"
   },
   {
    "duration": 10,
    "start_time": "2024-07-06T15:55:42.109Z"
   },
   {
    "duration": 17,
    "start_time": "2024-07-06T15:55:42.120Z"
   },
   {
    "duration": 13,
    "start_time": "2024-07-06T15:55:42.138Z"
   },
   {
    "duration": 204,
    "start_time": "2024-07-06T15:55:42.153Z"
   },
   {
    "duration": 12,
    "start_time": "2024-07-06T15:55:42.358Z"
   },
   {
    "duration": 174,
    "start_time": "2024-07-06T15:55:42.371Z"
   },
   {
    "duration": 16,
    "start_time": "2024-07-06T15:55:42.546Z"
   },
   {
    "duration": 275,
    "start_time": "2024-07-06T15:55:42.563Z"
   },
   {
    "duration": 18,
    "start_time": "2024-07-06T15:55:42.840Z"
   },
   {
    "duration": 28,
    "start_time": "2024-07-06T15:55:42.860Z"
   },
   {
    "duration": 176,
    "start_time": "2024-07-06T15:55:42.892Z"
   },
   {
    "duration": 8,
    "start_time": "2024-07-06T15:55:43.070Z"
   },
   {
    "duration": 309,
    "start_time": "2024-07-06T15:55:43.079Z"
   },
   {
    "duration": 10,
    "start_time": "2024-07-06T15:55:43.390Z"
   },
   {
    "duration": 278,
    "start_time": "2024-07-06T15:55:43.402Z"
   },
   {
    "duration": 314,
    "start_time": "2024-07-06T15:55:43.681Z"
   },
   {
    "duration": 13,
    "start_time": "2024-07-06T15:55:43.997Z"
   },
   {
    "duration": 12,
    "start_time": "2024-07-06T15:55:44.011Z"
   },
   {
    "duration": 28,
    "start_time": "2024-07-06T15:55:44.025Z"
   },
   {
    "duration": 44,
    "start_time": "2024-07-06T15:55:44.055Z"
   },
   {
    "duration": 13,
    "start_time": "2024-07-06T15:55:44.101Z"
   },
   {
    "duration": 17,
    "start_time": "2024-07-06T15:55:44.119Z"
   },
   {
    "duration": 15,
    "start_time": "2024-07-06T15:55:44.138Z"
   },
   {
    "duration": 294,
    "start_time": "2024-07-06T15:55:44.155Z"
   },
   {
    "duration": 269,
    "start_time": "2024-07-06T15:55:44.450Z"
   },
   {
    "duration": 311,
    "start_time": "2024-07-06T15:55:44.720Z"
   },
   {
    "duration": 272,
    "start_time": "2024-07-06T15:55:45.033Z"
   },
   {
    "duration": 171,
    "start_time": "2024-07-06T15:55:45.307Z"
   },
   {
    "duration": 498,
    "start_time": "2024-07-06T15:55:45.480Z"
   },
   {
    "duration": 22,
    "start_time": "2024-07-06T15:55:45.980Z"
   },
   {
    "duration": 25,
    "start_time": "2024-07-06T15:55:46.004Z"
   },
   {
    "duration": 148,
    "start_time": "2024-07-06T15:55:46.031Z"
   },
   {
    "duration": 0,
    "start_time": "2024-07-06T15:55:46.180Z"
   },
   {
    "duration": 0,
    "start_time": "2024-07-06T15:55:46.182Z"
   },
   {
    "duration": 0,
    "start_time": "2024-07-06T15:55:46.192Z"
   },
   {
    "duration": 0,
    "start_time": "2024-07-06T15:55:46.194Z"
   },
   {
    "duration": 0,
    "start_time": "2024-07-06T15:55:46.195Z"
   },
   {
    "duration": 0,
    "start_time": "2024-07-06T15:55:46.196Z"
   },
   {
    "duration": 0,
    "start_time": "2024-07-06T15:55:46.198Z"
   },
   {
    "duration": 0,
    "start_time": "2024-07-06T15:55:46.199Z"
   },
   {
    "duration": 1,
    "start_time": "2024-07-06T15:55:46.200Z"
   },
   {
    "duration": 0,
    "start_time": "2024-07-06T15:55:46.201Z"
   },
   {
    "duration": 0,
    "start_time": "2024-07-06T15:55:46.203Z"
   },
   {
    "duration": 0,
    "start_time": "2024-07-06T15:55:46.204Z"
   },
   {
    "duration": 1129,
    "start_time": "2024-07-06T15:56:06.748Z"
   },
   {
    "duration": 67,
    "start_time": "2024-07-06T15:56:07.879Z"
   },
   {
    "duration": 16,
    "start_time": "2024-07-06T15:56:07.948Z"
   },
   {
    "duration": 29,
    "start_time": "2024-07-06T15:56:07.965Z"
   },
   {
    "duration": 15,
    "start_time": "2024-07-06T15:56:07.996Z"
   },
   {
    "duration": 25,
    "start_time": "2024-07-06T15:56:08.012Z"
   },
   {
    "duration": 28,
    "start_time": "2024-07-06T15:56:08.040Z"
   },
   {
    "duration": 11,
    "start_time": "2024-07-06T15:56:08.069Z"
   },
   {
    "duration": 19,
    "start_time": "2024-07-06T15:56:08.082Z"
   },
   {
    "duration": 11,
    "start_time": "2024-07-06T15:56:08.103Z"
   },
   {
    "duration": 12,
    "start_time": "2024-07-06T15:56:08.116Z"
   },
   {
    "duration": 5,
    "start_time": "2024-07-06T15:56:08.129Z"
   },
   {
    "duration": 8,
    "start_time": "2024-07-06T15:56:08.136Z"
   },
   {
    "duration": 7,
    "start_time": "2024-07-06T15:56:08.147Z"
   },
   {
    "duration": 37,
    "start_time": "2024-07-06T15:56:08.156Z"
   },
   {
    "duration": 6,
    "start_time": "2024-07-06T15:56:08.194Z"
   },
   {
    "duration": 12,
    "start_time": "2024-07-06T15:56:08.202Z"
   },
   {
    "duration": 7,
    "start_time": "2024-07-06T15:56:08.215Z"
   },
   {
    "duration": 5,
    "start_time": "2024-07-06T15:56:08.224Z"
   },
   {
    "duration": 9,
    "start_time": "2024-07-06T15:56:08.230Z"
   },
   {
    "duration": 55,
    "start_time": "2024-07-06T15:56:08.241Z"
   },
   {
    "duration": 10,
    "start_time": "2024-07-06T15:56:08.297Z"
   },
   {
    "duration": 184,
    "start_time": "2024-07-06T15:56:08.309Z"
   },
   {
    "duration": 13,
    "start_time": "2024-07-06T15:56:08.495Z"
   },
   {
    "duration": 188,
    "start_time": "2024-07-06T15:56:08.509Z"
   },
   {
    "duration": 14,
    "start_time": "2024-07-06T15:56:08.698Z"
   },
   {
    "duration": 270,
    "start_time": "2024-07-06T15:56:08.713Z"
   },
   {
    "duration": 21,
    "start_time": "2024-07-06T15:56:08.984Z"
   },
   {
    "duration": 62,
    "start_time": "2024-07-06T15:56:09.007Z"
   },
   {
    "duration": 165,
    "start_time": "2024-07-06T15:56:09.071Z"
   },
   {
    "duration": 8,
    "start_time": "2024-07-06T15:56:09.238Z"
   },
   {
    "duration": 320,
    "start_time": "2024-07-06T15:56:09.248Z"
   },
   {
    "duration": 8,
    "start_time": "2024-07-06T15:56:09.569Z"
   },
   {
    "duration": 267,
    "start_time": "2024-07-06T15:56:09.579Z"
   },
   {
    "duration": 325,
    "start_time": "2024-07-06T15:56:09.848Z"
   },
   {
    "duration": 17,
    "start_time": "2024-07-06T15:56:10.175Z"
   },
   {
    "duration": 12,
    "start_time": "2024-07-06T15:56:10.194Z"
   },
   {
    "duration": 27,
    "start_time": "2024-07-06T15:56:10.208Z"
   },
   {
    "duration": 17,
    "start_time": "2024-07-06T15:56:10.237Z"
   },
   {
    "duration": 42,
    "start_time": "2024-07-06T15:56:10.256Z"
   },
   {
    "duration": 19,
    "start_time": "2024-07-06T15:56:10.302Z"
   },
   {
    "duration": 16,
    "start_time": "2024-07-06T15:56:10.323Z"
   },
   {
    "duration": 285,
    "start_time": "2024-07-06T15:56:10.341Z"
   },
   {
    "duration": 272,
    "start_time": "2024-07-06T15:56:10.628Z"
   },
   {
    "duration": 275,
    "start_time": "2024-07-06T15:56:10.901Z"
   },
   {
    "duration": 272,
    "start_time": "2024-07-06T15:56:11.177Z"
   },
   {
    "duration": 171,
    "start_time": "2024-07-06T15:56:11.451Z"
   },
   {
    "duration": 524,
    "start_time": "2024-07-06T15:56:11.624Z"
   },
   {
    "duration": 15,
    "start_time": "2024-07-06T15:56:12.150Z"
   },
   {
    "duration": 26,
    "start_time": "2024-07-06T15:56:12.167Z"
   },
   {
    "duration": 128,
    "start_time": "2024-07-06T15:56:12.195Z"
   },
   {
    "duration": 0,
    "start_time": "2024-07-06T15:56:12.325Z"
   },
   {
    "duration": 0,
    "start_time": "2024-07-06T15:56:12.326Z"
   },
   {
    "duration": 0,
    "start_time": "2024-07-06T15:56:12.328Z"
   },
   {
    "duration": 1,
    "start_time": "2024-07-06T15:56:12.329Z"
   },
   {
    "duration": 0,
    "start_time": "2024-07-06T15:56:12.331Z"
   },
   {
    "duration": 0,
    "start_time": "2024-07-06T15:56:12.331Z"
   },
   {
    "duration": 0,
    "start_time": "2024-07-06T15:56:12.332Z"
   },
   {
    "duration": 1,
    "start_time": "2024-07-06T15:56:12.333Z"
   },
   {
    "duration": 0,
    "start_time": "2024-07-06T15:56:12.335Z"
   },
   {
    "duration": 0,
    "start_time": "2024-07-06T15:56:12.337Z"
   },
   {
    "duration": 0,
    "start_time": "2024-07-06T15:56:12.338Z"
   },
   {
    "duration": 0,
    "start_time": "2024-07-06T15:56:12.339Z"
   },
   {
    "duration": 15,
    "start_time": "2024-07-06T15:57:10.467Z"
   },
   {
    "duration": 16,
    "start_time": "2024-07-06T15:57:16.529Z"
   },
   {
    "duration": 27,
    "start_time": "2024-07-06T15:57:53.710Z"
   },
   {
    "duration": 18,
    "start_time": "2024-07-06T15:58:26.409Z"
   },
   {
    "duration": 47,
    "start_time": "2024-07-06T15:59:21.290Z"
   },
   {
    "duration": 49,
    "start_time": "2024-07-06T15:59:42.665Z"
   },
   {
    "duration": 47,
    "start_time": "2024-07-06T16:03:05.745Z"
   },
   {
    "duration": 48,
    "start_time": "2024-07-06T16:03:10.720Z"
   },
   {
    "duration": 48,
    "start_time": "2024-07-06T16:03:24.642Z"
   },
   {
    "duration": 26,
    "start_time": "2024-07-06T16:03:38.585Z"
   },
   {
    "duration": 89,
    "start_time": "2024-07-06T16:05:01.032Z"
   },
   {
    "duration": 4,
    "start_time": "2024-07-06T16:06:29.016Z"
   },
   {
    "duration": 4,
    "start_time": "2024-07-06T16:07:26.528Z"
   },
   {
    "duration": 4,
    "start_time": "2024-07-06T16:07:35.680Z"
   },
   {
    "duration": 939,
    "start_time": "2024-07-06T16:07:48.619Z"
   },
   {
    "duration": 1084,
    "start_time": "2024-07-06T16:10:42.096Z"
   },
   {
    "duration": 973,
    "start_time": "2024-07-06T16:10:55.600Z"
   },
   {
    "duration": 0,
    "start_time": "2024-07-06T16:10:56.575Z"
   },
   {
    "duration": 72,
    "start_time": "2024-07-06T19:57:21.012Z"
   },
   {
    "duration": 1517,
    "start_time": "2024-07-06T19:57:29.054Z"
   },
   {
    "duration": 209,
    "start_time": "2024-07-06T19:57:30.573Z"
   },
   {
    "duration": 14,
    "start_time": "2024-07-06T19:57:30.784Z"
   },
   {
    "duration": 64,
    "start_time": "2024-07-06T19:57:30.800Z"
   },
   {
    "duration": 107,
    "start_time": "2024-07-06T19:57:30.866Z"
   },
   {
    "duration": 89,
    "start_time": "2024-07-06T19:57:30.976Z"
   },
   {
    "duration": 46,
    "start_time": "2024-07-06T19:57:31.068Z"
   },
   {
    "duration": 42,
    "start_time": "2024-07-06T19:57:31.116Z"
   },
   {
    "duration": 24,
    "start_time": "2024-07-06T19:57:31.162Z"
   },
   {
    "duration": 86,
    "start_time": "2024-07-06T19:57:31.190Z"
   },
   {
    "duration": 39,
    "start_time": "2024-07-06T19:57:31.278Z"
   },
   {
    "duration": 54,
    "start_time": "2024-07-06T19:57:31.319Z"
   },
   {
    "duration": 62,
    "start_time": "2024-07-06T19:57:31.375Z"
   },
   {
    "duration": 53,
    "start_time": "2024-07-06T19:57:31.439Z"
   },
   {
    "duration": 35,
    "start_time": "2024-07-06T19:57:31.493Z"
   },
   {
    "duration": 59,
    "start_time": "2024-07-06T19:57:31.530Z"
   },
   {
    "duration": 51,
    "start_time": "2024-07-06T19:57:31.592Z"
   },
   {
    "duration": 13,
    "start_time": "2024-07-06T19:57:31.645Z"
   },
   {
    "duration": 28,
    "start_time": "2024-07-06T19:57:31.660Z"
   },
   {
    "duration": 22,
    "start_time": "2024-07-06T19:57:31.690Z"
   },
   {
    "duration": 30,
    "start_time": "2024-07-06T19:57:31.713Z"
   },
   {
    "duration": 35,
    "start_time": "2024-07-06T19:57:31.745Z"
   },
   {
    "duration": 244,
    "start_time": "2024-07-06T19:57:31.781Z"
   },
   {
    "duration": 22,
    "start_time": "2024-07-06T19:57:32.026Z"
   },
   {
    "duration": 160,
    "start_time": "2024-07-06T19:57:32.053Z"
   },
   {
    "duration": 13,
    "start_time": "2024-07-06T19:57:32.215Z"
   },
   {
    "duration": 296,
    "start_time": "2024-07-06T19:57:32.229Z"
   },
   {
    "duration": 27,
    "start_time": "2024-07-06T19:57:32.529Z"
   },
   {
    "duration": 15,
    "start_time": "2024-07-06T19:57:32.561Z"
   },
   {
    "duration": 162,
    "start_time": "2024-07-06T19:57:32.577Z"
   },
   {
    "duration": 28,
    "start_time": "2024-07-06T19:57:32.741Z"
   },
   {
    "duration": 286,
    "start_time": "2024-07-06T19:57:32.774Z"
   },
   {
    "duration": 11,
    "start_time": "2024-07-06T19:57:33.062Z"
   },
   {
    "duration": 335,
    "start_time": "2024-07-06T19:57:33.075Z"
   },
   {
    "duration": 371,
    "start_time": "2024-07-06T19:57:33.412Z"
   },
   {
    "duration": 12,
    "start_time": "2024-07-06T19:57:33.785Z"
   },
   {
    "duration": 125,
    "start_time": "2024-07-06T19:57:33.799Z"
   },
   {
    "duration": 0,
    "start_time": "2024-07-06T19:57:33.925Z"
   },
   {
    "duration": 0,
    "start_time": "2024-07-06T19:57:33.927Z"
   },
   {
    "duration": 0,
    "start_time": "2024-07-06T19:57:33.928Z"
   },
   {
    "duration": 0,
    "start_time": "2024-07-06T19:57:33.929Z"
   },
   {
    "duration": 0,
    "start_time": "2024-07-06T19:57:33.938Z"
   },
   {
    "duration": 0,
    "start_time": "2024-07-06T19:57:33.939Z"
   },
   {
    "duration": 0,
    "start_time": "2024-07-06T19:57:33.941Z"
   },
   {
    "duration": 0,
    "start_time": "2024-07-06T19:57:33.942Z"
   },
   {
    "duration": 0,
    "start_time": "2024-07-06T19:57:33.943Z"
   },
   {
    "duration": 0,
    "start_time": "2024-07-06T19:57:33.945Z"
   },
   {
    "duration": 0,
    "start_time": "2024-07-06T19:57:33.946Z"
   },
   {
    "duration": 0,
    "start_time": "2024-07-06T19:57:33.950Z"
   },
   {
    "duration": 0,
    "start_time": "2024-07-06T19:57:33.951Z"
   },
   {
    "duration": 0,
    "start_time": "2024-07-06T19:57:33.952Z"
   },
   {
    "duration": 0,
    "start_time": "2024-07-06T19:57:33.953Z"
   },
   {
    "duration": 0,
    "start_time": "2024-07-06T19:57:33.957Z"
   },
   {
    "duration": 0,
    "start_time": "2024-07-06T19:57:33.958Z"
   },
   {
    "duration": 0,
    "start_time": "2024-07-06T19:57:33.959Z"
   },
   {
    "duration": 0,
    "start_time": "2024-07-06T19:57:33.960Z"
   },
   {
    "duration": 0,
    "start_time": "2024-07-06T19:57:33.960Z"
   },
   {
    "duration": 0,
    "start_time": "2024-07-06T19:57:33.961Z"
   },
   {
    "duration": 0,
    "start_time": "2024-07-06T19:57:33.963Z"
   },
   {
    "duration": 0,
    "start_time": "2024-07-06T19:57:33.973Z"
   },
   {
    "duration": 0,
    "start_time": "2024-07-06T19:57:33.974Z"
   },
   {
    "duration": 0,
    "start_time": "2024-07-06T19:57:33.976Z"
   },
   {
    "duration": 0,
    "start_time": "2024-07-06T19:57:33.977Z"
   },
   {
    "duration": 11,
    "start_time": "2024-07-06T19:57:56.109Z"
   },
   {
    "duration": 10,
    "start_time": "2024-07-06T19:57:59.523Z"
   },
   {
    "duration": 1374,
    "start_time": "2024-07-06T19:58:41.246Z"
   },
   {
    "duration": 79,
    "start_time": "2024-07-06T19:58:42.622Z"
   },
   {
    "duration": 12,
    "start_time": "2024-07-06T19:58:42.702Z"
   },
   {
    "duration": 16,
    "start_time": "2024-07-06T19:58:42.716Z"
   },
   {
    "duration": 34,
    "start_time": "2024-07-06T19:58:42.734Z"
   },
   {
    "duration": 16,
    "start_time": "2024-07-06T19:58:42.770Z"
   },
   {
    "duration": 10,
    "start_time": "2024-07-06T19:58:42.788Z"
   },
   {
    "duration": 11,
    "start_time": "2024-07-06T19:58:42.800Z"
   },
   {
    "duration": 17,
    "start_time": "2024-07-06T19:58:42.812Z"
   },
   {
    "duration": 38,
    "start_time": "2024-07-06T19:58:42.831Z"
   },
   {
    "duration": 15,
    "start_time": "2024-07-06T19:58:42.877Z"
   },
   {
    "duration": 4,
    "start_time": "2024-07-06T19:58:42.894Z"
   },
   {
    "duration": 8,
    "start_time": "2024-07-06T19:58:42.900Z"
   },
   {
    "duration": 6,
    "start_time": "2024-07-06T19:58:42.909Z"
   },
   {
    "duration": 8,
    "start_time": "2024-07-06T19:58:42.916Z"
   },
   {
    "duration": 21,
    "start_time": "2024-07-06T19:58:42.925Z"
   },
   {
    "duration": 19,
    "start_time": "2024-07-06T19:58:42.948Z"
   },
   {
    "duration": 10,
    "start_time": "2024-07-06T19:58:42.971Z"
   },
   {
    "duration": 11,
    "start_time": "2024-07-06T19:58:42.983Z"
   },
   {
    "duration": 9,
    "start_time": "2024-07-06T19:58:42.995Z"
   },
   {
    "duration": 36,
    "start_time": "2024-07-06T19:58:43.006Z"
   },
   {
    "duration": 27,
    "start_time": "2024-07-06T19:58:43.045Z"
   },
   {
    "duration": 227,
    "start_time": "2024-07-06T19:58:43.076Z"
   },
   {
    "duration": 13,
    "start_time": "2024-07-06T19:58:43.305Z"
   },
   {
    "duration": 264,
    "start_time": "2024-07-06T19:58:43.319Z"
   },
   {
    "duration": 20,
    "start_time": "2024-07-06T19:58:43.587Z"
   },
   {
    "duration": 402,
    "start_time": "2024-07-06T19:58:43.609Z"
   },
   {
    "duration": 20,
    "start_time": "2024-07-06T19:58:44.016Z"
   },
   {
    "duration": 27,
    "start_time": "2024-07-06T19:58:44.043Z"
   },
   {
    "duration": 221,
    "start_time": "2024-07-06T19:58:44.075Z"
   },
   {
    "duration": 9,
    "start_time": "2024-07-06T19:58:44.298Z"
   },
   {
    "duration": 315,
    "start_time": "2024-07-06T19:58:44.309Z"
   },
   {
    "duration": 20,
    "start_time": "2024-07-06T19:58:44.625Z"
   },
   {
    "duration": 316,
    "start_time": "2024-07-06T19:58:44.649Z"
   },
   {
    "duration": 424,
    "start_time": "2024-07-06T19:58:44.967Z"
   },
   {
    "duration": 11,
    "start_time": "2024-07-06T19:58:45.393Z"
   },
   {
    "duration": 21,
    "start_time": "2024-07-06T19:58:45.405Z"
   },
   {
    "duration": 55,
    "start_time": "2024-07-06T19:58:45.428Z"
   },
   {
    "duration": 22,
    "start_time": "2024-07-06T19:58:45.485Z"
   },
   {
    "duration": 30,
    "start_time": "2024-07-06T19:58:45.509Z"
   },
   {
    "duration": 26,
    "start_time": "2024-07-06T19:58:45.547Z"
   },
   {
    "duration": 21,
    "start_time": "2024-07-06T19:58:45.575Z"
   },
   {
    "duration": 343,
    "start_time": "2024-07-06T19:58:45.598Z"
   },
   {
    "duration": 289,
    "start_time": "2024-07-06T19:58:45.943Z"
   },
   {
    "duration": 296,
    "start_time": "2024-07-06T19:58:46.234Z"
   },
   {
    "duration": 284,
    "start_time": "2024-07-06T19:58:46.531Z"
   },
   {
    "duration": 247,
    "start_time": "2024-07-06T19:58:46.816Z"
   },
   {
    "duration": 644,
    "start_time": "2024-07-06T19:58:47.065Z"
   },
   {
    "duration": 19,
    "start_time": "2024-07-06T19:58:47.711Z"
   },
   {
    "duration": 1373,
    "start_time": "2024-07-06T19:58:47.739Z"
   },
   {
    "duration": 0,
    "start_time": "2024-07-06T19:58:49.113Z"
   },
   {
    "duration": 0,
    "start_time": "2024-07-06T19:58:49.115Z"
   },
   {
    "duration": 0,
    "start_time": "2024-07-06T19:58:49.116Z"
   },
   {
    "duration": 0,
    "start_time": "2024-07-06T19:58:49.117Z"
   },
   {
    "duration": 0,
    "start_time": "2024-07-06T19:58:49.118Z"
   },
   {
    "duration": 0,
    "start_time": "2024-07-06T19:58:49.119Z"
   },
   {
    "duration": 0,
    "start_time": "2024-07-06T19:58:49.120Z"
   },
   {
    "duration": 0,
    "start_time": "2024-07-06T19:58:49.121Z"
   },
   {
    "duration": 0,
    "start_time": "2024-07-06T19:58:49.122Z"
   },
   {
    "duration": 0,
    "start_time": "2024-07-06T19:58:49.123Z"
   },
   {
    "duration": 0,
    "start_time": "2024-07-06T19:58:49.124Z"
   },
   {
    "duration": 0,
    "start_time": "2024-07-06T19:58:49.125Z"
   },
   {
    "duration": 0,
    "start_time": "2024-07-06T19:58:49.126Z"
   },
   {
    "duration": 939,
    "start_time": "2024-07-06T20:06:34.883Z"
   },
   {
    "duration": 88,
    "start_time": "2024-07-06T20:06:43.619Z"
   },
   {
    "duration": 1242,
    "start_time": "2024-07-06T20:15:40.539Z"
   },
   {
    "duration": 297,
    "start_time": "2024-07-06T20:19:46.582Z"
   },
   {
    "duration": 369,
    "start_time": "2024-07-06T20:21:34.034Z"
   },
   {
    "duration": 294,
    "start_time": "2024-07-06T20:22:05.585Z"
   },
   {
    "duration": 276,
    "start_time": "2024-07-06T20:24:07.729Z"
   },
   {
    "duration": 361,
    "start_time": "2024-07-06T20:24:29.363Z"
   },
   {
    "duration": 1232,
    "start_time": "2024-07-06T20:24:35.729Z"
   },
   {
    "duration": 96,
    "start_time": "2024-07-06T20:24:36.970Z"
   },
   {
    "duration": 17,
    "start_time": "2024-07-06T20:24:37.068Z"
   },
   {
    "duration": 8,
    "start_time": "2024-07-06T20:24:37.088Z"
   },
   {
    "duration": 7,
    "start_time": "2024-07-06T20:24:37.097Z"
   },
   {
    "duration": 11,
    "start_time": "2024-07-06T20:24:37.106Z"
   },
   {
    "duration": 11,
    "start_time": "2024-07-06T20:24:37.119Z"
   },
   {
    "duration": 15,
    "start_time": "2024-07-06T20:24:37.147Z"
   },
   {
    "duration": 28,
    "start_time": "2024-07-06T20:24:37.165Z"
   },
   {
    "duration": 11,
    "start_time": "2024-07-06T20:24:37.195Z"
   },
   {
    "duration": 13,
    "start_time": "2024-07-06T20:24:37.207Z"
   },
   {
    "duration": 5,
    "start_time": "2024-07-06T20:24:37.222Z"
   },
   {
    "duration": 15,
    "start_time": "2024-07-06T20:24:37.240Z"
   },
   {
    "duration": 17,
    "start_time": "2024-07-06T20:24:37.260Z"
   },
   {
    "duration": 8,
    "start_time": "2024-07-06T20:24:37.282Z"
   },
   {
    "duration": 7,
    "start_time": "2024-07-06T20:24:37.291Z"
   },
   {
    "duration": 12,
    "start_time": "2024-07-06T20:24:37.299Z"
   },
   {
    "duration": 36,
    "start_time": "2024-07-06T20:24:37.312Z"
   },
   {
    "duration": 11,
    "start_time": "2024-07-06T20:24:37.356Z"
   },
   {
    "duration": 23,
    "start_time": "2024-07-06T20:24:37.369Z"
   },
   {
    "duration": 15,
    "start_time": "2024-07-06T20:24:37.394Z"
   },
   {
    "duration": 9,
    "start_time": "2024-07-06T20:24:37.410Z"
   },
   {
    "duration": 186,
    "start_time": "2024-07-06T20:24:37.421Z"
   },
   {
    "duration": 13,
    "start_time": "2024-07-06T20:24:37.608Z"
   },
   {
    "duration": 226,
    "start_time": "2024-07-06T20:24:37.623Z"
   },
   {
    "duration": 20,
    "start_time": "2024-07-06T20:24:37.852Z"
   },
   {
    "duration": 312,
    "start_time": "2024-07-06T20:24:37.874Z"
   },
   {
    "duration": 18,
    "start_time": "2024-07-06T20:24:38.190Z"
   },
   {
    "duration": 47,
    "start_time": "2024-07-06T20:24:38.210Z"
   },
   {
    "duration": 169,
    "start_time": "2024-07-06T20:24:38.259Z"
   },
   {
    "duration": 13,
    "start_time": "2024-07-06T20:24:38.429Z"
   },
   {
    "duration": 310,
    "start_time": "2024-07-06T20:24:38.449Z"
   },
   {
    "duration": 8,
    "start_time": "2024-07-06T20:24:38.767Z"
   },
   {
    "duration": 271,
    "start_time": "2024-07-06T20:24:38.777Z"
   },
   {
    "duration": 329,
    "start_time": "2024-07-06T20:24:39.056Z"
   },
   {
    "duration": 11,
    "start_time": "2024-07-06T20:24:39.387Z"
   },
   {
    "duration": 13,
    "start_time": "2024-07-06T20:24:39.400Z"
   },
   {
    "duration": 58,
    "start_time": "2024-07-06T20:24:39.414Z"
   },
   {
    "duration": 15,
    "start_time": "2024-07-06T20:24:39.474Z"
   },
   {
    "duration": 13,
    "start_time": "2024-07-06T20:24:39.490Z"
   },
   {
    "duration": 55,
    "start_time": "2024-07-06T20:24:39.504Z"
   },
   {
    "duration": 20,
    "start_time": "2024-07-06T20:24:39.560Z"
   },
   {
    "duration": 303,
    "start_time": "2024-07-06T20:24:39.581Z"
   },
   {
    "duration": 297,
    "start_time": "2024-07-06T20:24:39.886Z"
   },
   {
    "duration": 307,
    "start_time": "2024-07-06T20:24:40.185Z"
   },
   {
    "duration": 278,
    "start_time": "2024-07-06T20:24:40.494Z"
   },
   {
    "duration": 192,
    "start_time": "2024-07-06T20:24:40.773Z"
   },
   {
    "duration": 537,
    "start_time": "2024-07-06T20:24:40.967Z"
   },
   {
    "duration": 15,
    "start_time": "2024-07-06T20:24:41.506Z"
   },
   {
    "duration": 288,
    "start_time": "2024-07-06T20:24:41.523Z"
   },
   {
    "duration": 295,
    "start_time": "2024-07-06T20:24:41.813Z"
   },
   {
    "duration": 135,
    "start_time": "2024-07-06T20:24:42.110Z"
   },
   {
    "duration": 0,
    "start_time": "2024-07-06T20:24:42.248Z"
   },
   {
    "duration": 0,
    "start_time": "2024-07-06T20:24:42.249Z"
   },
   {
    "duration": 0,
    "start_time": "2024-07-06T20:24:42.252Z"
   },
   {
    "duration": 0,
    "start_time": "2024-07-06T20:24:42.252Z"
   },
   {
    "duration": 0,
    "start_time": "2024-07-06T20:24:42.253Z"
   },
   {
    "duration": 0,
    "start_time": "2024-07-06T20:24:42.254Z"
   },
   {
    "duration": 0,
    "start_time": "2024-07-06T20:24:42.255Z"
   },
   {
    "duration": 0,
    "start_time": "2024-07-06T20:24:42.255Z"
   },
   {
    "duration": 0,
    "start_time": "2024-07-06T20:24:42.256Z"
   },
   {
    "duration": 0,
    "start_time": "2024-07-06T20:24:42.258Z"
   },
   {
    "duration": 0,
    "start_time": "2024-07-06T20:24:42.260Z"
   },
   {
    "duration": 0,
    "start_time": "2024-07-06T20:24:42.261Z"
   },
   {
    "duration": 297,
    "start_time": "2024-07-06T20:30:03.594Z"
   },
   {
    "duration": 281,
    "start_time": "2024-07-06T20:32:00.920Z"
   },
   {
    "duration": 22,
    "start_time": "2024-07-06T20:32:48.437Z"
   },
   {
    "duration": 8,
    "start_time": "2024-07-06T20:34:40.264Z"
   },
   {
    "duration": 7,
    "start_time": "2024-07-06T20:34:48.606Z"
   },
   {
    "duration": 63,
    "start_time": "2024-07-06T20:35:46.798Z"
   },
   {
    "duration": 14,
    "start_time": "2024-07-06T20:36:49.405Z"
   },
   {
    "duration": 19,
    "start_time": "2024-07-06T20:37:26.368Z"
   },
   {
    "duration": 1349,
    "start_time": "2024-07-06T20:38:47.846Z"
   },
   {
    "duration": 85,
    "start_time": "2024-07-06T20:38:49.197Z"
   },
   {
    "duration": 16,
    "start_time": "2024-07-06T20:38:49.284Z"
   },
   {
    "duration": 12,
    "start_time": "2024-07-06T20:38:49.314Z"
   },
   {
    "duration": 11,
    "start_time": "2024-07-06T20:38:49.328Z"
   },
   {
    "duration": 22,
    "start_time": "2024-07-06T20:38:49.341Z"
   },
   {
    "duration": 16,
    "start_time": "2024-07-06T20:38:49.365Z"
   },
   {
    "duration": 16,
    "start_time": "2024-07-06T20:38:49.383Z"
   },
   {
    "duration": 13,
    "start_time": "2024-07-06T20:38:49.400Z"
   },
   {
    "duration": 20,
    "start_time": "2024-07-06T20:38:49.436Z"
   },
   {
    "duration": 19,
    "start_time": "2024-07-06T20:38:49.459Z"
   },
   {
    "duration": 8,
    "start_time": "2024-07-06T20:38:49.480Z"
   },
   {
    "duration": 16,
    "start_time": "2024-07-06T20:38:49.493Z"
   },
   {
    "duration": 9,
    "start_time": "2024-07-06T20:38:49.511Z"
   },
   {
    "duration": 8,
    "start_time": "2024-07-06T20:38:49.542Z"
   },
   {
    "duration": 22,
    "start_time": "2024-07-06T20:38:49.556Z"
   },
   {
    "duration": 14,
    "start_time": "2024-07-06T20:38:49.587Z"
   },
   {
    "duration": 7,
    "start_time": "2024-07-06T20:38:49.602Z"
   },
   {
    "duration": 11,
    "start_time": "2024-07-06T20:38:49.610Z"
   },
   {
    "duration": 16,
    "start_time": "2024-07-06T20:38:49.623Z"
   },
   {
    "duration": 28,
    "start_time": "2024-07-06T20:38:49.640Z"
   },
   {
    "duration": 17,
    "start_time": "2024-07-06T20:38:49.671Z"
   },
   {
    "duration": 298,
    "start_time": "2024-07-06T20:38:49.690Z"
   },
   {
    "duration": 12,
    "start_time": "2024-07-06T20:38:49.990Z"
   },
   {
    "duration": 202,
    "start_time": "2024-07-06T20:38:50.004Z"
   },
   {
    "duration": 34,
    "start_time": "2024-07-06T20:38:50.208Z"
   },
   {
    "duration": 320,
    "start_time": "2024-07-06T20:38:50.245Z"
   },
   {
    "duration": 22,
    "start_time": "2024-07-06T20:38:50.575Z"
   },
   {
    "duration": 15,
    "start_time": "2024-07-06T20:38:50.599Z"
   },
   {
    "duration": 184,
    "start_time": "2024-07-06T20:38:50.637Z"
   },
   {
    "duration": 9,
    "start_time": "2024-07-06T20:38:50.824Z"
   },
   {
    "duration": 297,
    "start_time": "2024-07-06T20:38:50.836Z"
   },
   {
    "duration": 24,
    "start_time": "2024-07-06T20:38:51.137Z"
   },
   {
    "duration": 277,
    "start_time": "2024-07-06T20:38:51.163Z"
   },
   {
    "duration": 386,
    "start_time": "2024-07-06T20:38:51.448Z"
   },
   {
    "duration": 32,
    "start_time": "2024-07-06T20:38:51.835Z"
   },
   {
    "duration": 32,
    "start_time": "2024-07-06T20:38:51.870Z"
   },
   {
    "duration": 35,
    "start_time": "2024-07-06T20:38:51.904Z"
   },
   {
    "duration": 29,
    "start_time": "2024-07-06T20:38:51.953Z"
   },
   {
    "duration": 19,
    "start_time": "2024-07-06T20:38:51.984Z"
   },
   {
    "duration": 15,
    "start_time": "2024-07-06T20:38:52.005Z"
   },
   {
    "duration": 68,
    "start_time": "2024-07-06T20:38:52.022Z"
   },
   {
    "duration": 364,
    "start_time": "2024-07-06T20:38:52.092Z"
   },
   {
    "duration": 273,
    "start_time": "2024-07-06T20:38:52.458Z"
   },
   {
    "duration": 294,
    "start_time": "2024-07-06T20:38:52.737Z"
   },
   {
    "duration": 293,
    "start_time": "2024-07-06T20:38:53.032Z"
   },
   {
    "duration": 188,
    "start_time": "2024-07-06T20:38:53.327Z"
   },
   {
    "duration": 670,
    "start_time": "2024-07-06T20:38:53.517Z"
   },
   {
    "duration": 14,
    "start_time": "2024-07-06T20:38:54.190Z"
   },
   {
    "duration": 303,
    "start_time": "2024-07-06T20:38:54.206Z"
   },
   {
    "duration": 284,
    "start_time": "2024-07-06T20:38:54.510Z"
   },
   {
    "duration": 292,
    "start_time": "2024-07-06T20:38:54.796Z"
   },
   {
    "duration": 302,
    "start_time": "2024-07-06T20:38:55.090Z"
   },
   {
    "duration": 18,
    "start_time": "2024-07-06T20:38:55.398Z"
   },
   {
    "duration": 6,
    "start_time": "2024-07-06T20:38:55.418Z"
   },
   {
    "duration": 6,
    "start_time": "2024-07-06T20:38:55.426Z"
   },
   {
    "duration": 154,
    "start_time": "2024-07-06T20:38:55.437Z"
   },
   {
    "duration": 0,
    "start_time": "2024-07-06T20:38:55.593Z"
   },
   {
    "duration": 0,
    "start_time": "2024-07-06T20:38:55.594Z"
   },
   {
    "duration": 0,
    "start_time": "2024-07-06T20:38:55.595Z"
   },
   {
    "duration": 0,
    "start_time": "2024-07-06T20:38:55.596Z"
   },
   {
    "duration": 0,
    "start_time": "2024-07-06T20:38:55.597Z"
   },
   {
    "duration": 0,
    "start_time": "2024-07-06T20:38:55.599Z"
   },
   {
    "duration": 0,
    "start_time": "2024-07-06T20:38:55.600Z"
   },
   {
    "duration": 0,
    "start_time": "2024-07-06T20:38:55.601Z"
   },
   {
    "duration": 14,
    "start_time": "2024-07-06T20:39:52.813Z"
   },
   {
    "duration": 6,
    "start_time": "2024-07-06T20:39:58.323Z"
   },
   {
    "duration": 6,
    "start_time": "2024-07-06T20:40:01.294Z"
   },
   {
    "duration": 10,
    "start_time": "2024-07-06T20:40:05.884Z"
   },
   {
    "duration": 19,
    "start_time": "2024-07-06T20:41:09.052Z"
   },
   {
    "duration": 1280,
    "start_time": "2024-07-06T20:41:39.113Z"
   },
   {
    "duration": 76,
    "start_time": "2024-07-06T20:41:40.395Z"
   },
   {
    "duration": 15,
    "start_time": "2024-07-06T20:41:40.473Z"
   },
   {
    "duration": 10,
    "start_time": "2024-07-06T20:41:40.490Z"
   },
   {
    "duration": 11,
    "start_time": "2024-07-06T20:41:40.502Z"
   },
   {
    "duration": 37,
    "start_time": "2024-07-06T20:41:40.515Z"
   },
   {
    "duration": 28,
    "start_time": "2024-07-06T20:41:40.555Z"
   },
   {
    "duration": 12,
    "start_time": "2024-07-06T20:41:40.585Z"
   },
   {
    "duration": 15,
    "start_time": "2024-07-06T20:41:40.598Z"
   },
   {
    "duration": 45,
    "start_time": "2024-07-06T20:41:40.616Z"
   },
   {
    "duration": 11,
    "start_time": "2024-07-06T20:41:40.663Z"
   },
   {
    "duration": 4,
    "start_time": "2024-07-06T20:41:40.676Z"
   },
   {
    "duration": 12,
    "start_time": "2024-07-06T20:41:40.682Z"
   },
   {
    "duration": 18,
    "start_time": "2024-07-06T20:41:40.695Z"
   },
   {
    "duration": 18,
    "start_time": "2024-07-06T20:41:40.714Z"
   },
   {
    "duration": 23,
    "start_time": "2024-07-06T20:41:40.734Z"
   },
   {
    "duration": 16,
    "start_time": "2024-07-06T20:41:40.761Z"
   },
   {
    "duration": 27,
    "start_time": "2024-07-06T20:41:40.781Z"
   },
   {
    "duration": 6,
    "start_time": "2024-07-06T20:41:40.810Z"
   },
   {
    "duration": 9,
    "start_time": "2024-07-06T20:41:40.817Z"
   },
   {
    "duration": 26,
    "start_time": "2024-07-06T20:41:40.827Z"
   },
   {
    "duration": 16,
    "start_time": "2024-07-06T20:41:40.859Z"
   },
   {
    "duration": 240,
    "start_time": "2024-07-06T20:41:40.882Z"
   },
   {
    "duration": 22,
    "start_time": "2024-07-06T20:41:41.123Z"
   },
   {
    "duration": 233,
    "start_time": "2024-07-06T20:41:41.147Z"
   },
   {
    "duration": 20,
    "start_time": "2024-07-06T20:41:41.382Z"
   },
   {
    "duration": 357,
    "start_time": "2024-07-06T20:41:41.404Z"
   },
   {
    "duration": 15,
    "start_time": "2024-07-06T20:41:41.766Z"
   },
   {
    "duration": 27,
    "start_time": "2024-07-06T20:41:41.782Z"
   },
   {
    "duration": 196,
    "start_time": "2024-07-06T20:41:41.811Z"
   },
   {
    "duration": 8,
    "start_time": "2024-07-06T20:41:42.009Z"
   },
   {
    "duration": 313,
    "start_time": "2024-07-06T20:41:42.019Z"
   },
   {
    "duration": 17,
    "start_time": "2024-07-06T20:41:42.342Z"
   },
   {
    "duration": 320,
    "start_time": "2024-07-06T20:41:42.362Z"
   },
   {
    "duration": 477,
    "start_time": "2024-07-06T20:41:42.683Z"
   },
   {
    "duration": 18,
    "start_time": "2024-07-06T20:41:43.167Z"
   },
   {
    "duration": 11,
    "start_time": "2024-07-06T20:41:43.186Z"
   },
   {
    "duration": 28,
    "start_time": "2024-07-06T20:41:43.199Z"
   },
   {
    "duration": 36,
    "start_time": "2024-07-06T20:41:43.229Z"
   },
   {
    "duration": 21,
    "start_time": "2024-07-06T20:41:43.273Z"
   },
   {
    "duration": 18,
    "start_time": "2024-07-06T20:41:43.296Z"
   },
   {
    "duration": 43,
    "start_time": "2024-07-06T20:41:43.316Z"
   },
   {
    "duration": 341,
    "start_time": "2024-07-06T20:41:43.362Z"
   },
   {
    "duration": 286,
    "start_time": "2024-07-06T20:41:43.704Z"
   },
   {
    "duration": 314,
    "start_time": "2024-07-06T20:41:43.991Z"
   },
   {
    "duration": 304,
    "start_time": "2024-07-06T20:41:44.307Z"
   },
   {
    "duration": 198,
    "start_time": "2024-07-06T20:41:44.613Z"
   },
   {
    "duration": 607,
    "start_time": "2024-07-06T20:41:44.813Z"
   },
   {
    "duration": 30,
    "start_time": "2024-07-06T20:41:45.422Z"
   },
   {
    "duration": 295,
    "start_time": "2024-07-06T20:41:45.454Z"
   },
   {
    "duration": 274,
    "start_time": "2024-07-06T20:41:45.752Z"
   },
   {
    "duration": 286,
    "start_time": "2024-07-06T20:41:46.027Z"
   },
   {
    "duration": 284,
    "start_time": "2024-07-06T20:41:46.315Z"
   },
   {
    "duration": 13,
    "start_time": "2024-07-06T20:41:46.601Z"
   },
   {
    "duration": 6,
    "start_time": "2024-07-06T20:41:46.616Z"
   },
   {
    "duration": 13,
    "start_time": "2024-07-06T20:41:46.641Z"
   },
   {
    "duration": 142,
    "start_time": "2024-07-06T20:41:46.656Z"
   },
   {
    "duration": 0,
    "start_time": "2024-07-06T20:41:46.800Z"
   },
   {
    "duration": 0,
    "start_time": "2024-07-06T20:41:46.802Z"
   },
   {
    "duration": 0,
    "start_time": "2024-07-06T20:41:46.804Z"
   },
   {
    "duration": 0,
    "start_time": "2024-07-06T20:41:46.805Z"
   },
   {
    "duration": 0,
    "start_time": "2024-07-06T20:41:46.806Z"
   },
   {
    "duration": 0,
    "start_time": "2024-07-06T20:41:46.808Z"
   },
   {
    "duration": 0,
    "start_time": "2024-07-06T20:41:46.810Z"
   },
   {
    "duration": 0,
    "start_time": "2024-07-06T20:41:46.811Z"
   },
   {
    "duration": 13,
    "start_time": "2024-07-06T20:42:25.268Z"
   },
   {
    "duration": 9,
    "start_time": "2024-07-06T20:42:51.763Z"
   },
   {
    "duration": 1138,
    "start_time": "2024-07-06T20:43:05.778Z"
   },
   {
    "duration": 72,
    "start_time": "2024-07-06T20:43:06.918Z"
   },
   {
    "duration": 13,
    "start_time": "2024-07-06T20:43:06.991Z"
   },
   {
    "duration": 21,
    "start_time": "2024-07-06T20:43:07.005Z"
   },
   {
    "duration": 32,
    "start_time": "2024-07-06T20:43:07.027Z"
   },
   {
    "duration": 20,
    "start_time": "2024-07-06T20:43:07.064Z"
   },
   {
    "duration": 34,
    "start_time": "2024-07-06T20:43:07.085Z"
   },
   {
    "duration": 45,
    "start_time": "2024-07-06T20:43:07.120Z"
   },
   {
    "duration": 40,
    "start_time": "2024-07-06T20:43:07.169Z"
   },
   {
    "duration": 37,
    "start_time": "2024-07-06T20:43:07.212Z"
   },
   {
    "duration": 21,
    "start_time": "2024-07-06T20:43:07.251Z"
   },
   {
    "duration": 4,
    "start_time": "2024-07-06T20:43:07.274Z"
   },
   {
    "duration": 24,
    "start_time": "2024-07-06T20:43:07.280Z"
   },
   {
    "duration": 46,
    "start_time": "2024-07-06T20:43:07.305Z"
   },
   {
    "duration": 21,
    "start_time": "2024-07-06T20:43:07.357Z"
   },
   {
    "duration": 20,
    "start_time": "2024-07-06T20:43:07.380Z"
   },
   {
    "duration": 56,
    "start_time": "2024-07-06T20:43:07.401Z"
   },
   {
    "duration": 20,
    "start_time": "2024-07-06T20:43:07.460Z"
   },
   {
    "duration": 31,
    "start_time": "2024-07-06T20:43:07.482Z"
   },
   {
    "duration": 41,
    "start_time": "2024-07-06T20:43:07.515Z"
   },
   {
    "duration": 29,
    "start_time": "2024-07-06T20:43:07.561Z"
   },
   {
    "duration": 23,
    "start_time": "2024-07-06T20:43:07.592Z"
   },
   {
    "duration": 227,
    "start_time": "2024-07-06T20:43:07.617Z"
   },
   {
    "duration": 19,
    "start_time": "2024-07-06T20:43:07.851Z"
   },
   {
    "duration": 188,
    "start_time": "2024-07-06T20:43:07.871Z"
   },
   {
    "duration": 23,
    "start_time": "2024-07-06T20:43:08.062Z"
   },
   {
    "duration": 411,
    "start_time": "2024-07-06T20:43:08.087Z"
   },
   {
    "duration": 14,
    "start_time": "2024-07-06T20:43:08.502Z"
   },
   {
    "duration": 81,
    "start_time": "2024-07-06T20:43:08.517Z"
   },
   {
    "duration": 246,
    "start_time": "2024-07-06T20:43:08.600Z"
   },
   {
    "duration": 12,
    "start_time": "2024-07-06T20:43:08.851Z"
   },
   {
    "duration": 675,
    "start_time": "2024-07-06T20:43:08.867Z"
   },
   {
    "duration": 14,
    "start_time": "2024-07-06T20:43:09.545Z"
   },
   {
    "duration": 323,
    "start_time": "2024-07-06T20:43:09.562Z"
   },
   {
    "duration": 334,
    "start_time": "2024-07-06T20:43:09.887Z"
   },
   {
    "duration": 11,
    "start_time": "2024-07-06T20:43:10.223Z"
   },
   {
    "duration": 54,
    "start_time": "2024-07-06T20:43:10.235Z"
   },
   {
    "duration": 86,
    "start_time": "2024-07-06T20:43:10.291Z"
   },
   {
    "duration": 12,
    "start_time": "2024-07-06T20:43:10.379Z"
   },
   {
    "duration": 59,
    "start_time": "2024-07-06T20:43:10.392Z"
   },
   {
    "duration": 31,
    "start_time": "2024-07-06T20:43:10.453Z"
   },
   {
    "duration": 15,
    "start_time": "2024-07-06T20:43:10.485Z"
   },
   {
    "duration": 280,
    "start_time": "2024-07-06T20:43:10.501Z"
   },
   {
    "duration": 251,
    "start_time": "2024-07-06T20:43:10.782Z"
   },
   {
    "duration": 279,
    "start_time": "2024-07-06T20:43:11.034Z"
   },
   {
    "duration": 289,
    "start_time": "2024-07-06T20:43:11.314Z"
   },
   {
    "duration": 175,
    "start_time": "2024-07-06T20:43:11.605Z"
   },
   {
    "duration": 476,
    "start_time": "2024-07-06T20:43:11.781Z"
   },
   {
    "duration": 13,
    "start_time": "2024-07-06T20:43:12.259Z"
   },
   {
    "duration": 245,
    "start_time": "2024-07-06T20:43:12.274Z"
   },
   {
    "duration": 276,
    "start_time": "2024-07-06T20:43:12.521Z"
   },
   {
    "duration": 261,
    "start_time": "2024-07-06T20:43:12.799Z"
   },
   {
    "duration": 258,
    "start_time": "2024-07-06T20:43:13.062Z"
   },
   {
    "duration": 18,
    "start_time": "2024-07-06T20:43:13.322Z"
   },
   {
    "duration": 22,
    "start_time": "2024-07-06T20:43:13.342Z"
   },
   {
    "duration": 62,
    "start_time": "2024-07-06T20:43:13.366Z"
   },
   {
    "duration": 41,
    "start_time": "2024-07-06T20:43:13.430Z"
   },
   {
    "duration": 41,
    "start_time": "2024-07-06T20:43:13.473Z"
   },
   {
    "duration": 61,
    "start_time": "2024-07-06T20:43:13.516Z"
   },
   {
    "duration": 1023,
    "start_time": "2024-07-06T20:43:13.578Z"
   },
   {
    "duration": 0,
    "start_time": "2024-07-06T20:43:14.602Z"
   },
   {
    "duration": 0,
    "start_time": "2024-07-06T20:43:14.603Z"
   },
   {
    "duration": 0,
    "start_time": "2024-07-06T20:43:14.604Z"
   },
   {
    "duration": 0,
    "start_time": "2024-07-06T20:43:14.605Z"
   },
   {
    "duration": 0,
    "start_time": "2024-07-06T20:43:14.605Z"
   },
   {
    "duration": 0,
    "start_time": "2024-07-06T20:43:14.606Z"
   },
   {
    "duration": 384,
    "start_time": "2024-07-06T20:45:20.172Z"
   },
   {
    "duration": 17,
    "start_time": "2024-07-06T20:45:41.966Z"
   },
   {
    "duration": 256,
    "start_time": "2024-07-06T20:47:07.857Z"
   },
   {
    "duration": 267,
    "start_time": "2024-07-06T20:47:25.046Z"
   },
   {
    "duration": 265,
    "start_time": "2024-07-06T20:47:50.026Z"
   },
   {
    "duration": 22,
    "start_time": "2024-07-06T20:49:39.602Z"
   },
   {
    "duration": 1110,
    "start_time": "2024-07-06T20:49:50.801Z"
   },
   {
    "duration": 76,
    "start_time": "2024-07-06T20:49:51.913Z"
   },
   {
    "duration": 11,
    "start_time": "2024-07-06T20:49:51.991Z"
   },
   {
    "duration": 12,
    "start_time": "2024-07-06T20:49:52.004Z"
   },
   {
    "duration": 40,
    "start_time": "2024-07-06T20:49:52.017Z"
   },
   {
    "duration": 15,
    "start_time": "2024-07-06T20:49:52.061Z"
   },
   {
    "duration": 40,
    "start_time": "2024-07-06T20:49:52.077Z"
   },
   {
    "duration": 41,
    "start_time": "2024-07-06T20:49:52.119Z"
   },
   {
    "duration": 20,
    "start_time": "2024-07-06T20:49:52.162Z"
   },
   {
    "duration": 10,
    "start_time": "2024-07-06T20:49:52.185Z"
   },
   {
    "duration": 23,
    "start_time": "2024-07-06T20:49:52.196Z"
   },
   {
    "duration": 7,
    "start_time": "2024-07-06T20:49:52.220Z"
   },
   {
    "duration": 28,
    "start_time": "2024-07-06T20:49:52.228Z"
   },
   {
    "duration": 31,
    "start_time": "2024-07-06T20:49:52.259Z"
   },
   {
    "duration": 28,
    "start_time": "2024-07-06T20:49:52.292Z"
   },
   {
    "duration": 33,
    "start_time": "2024-07-06T20:49:52.322Z"
   },
   {
    "duration": 19,
    "start_time": "2024-07-06T20:49:52.359Z"
   },
   {
    "duration": 7,
    "start_time": "2024-07-06T20:49:52.380Z"
   },
   {
    "duration": 27,
    "start_time": "2024-07-06T20:49:52.388Z"
   },
   {
    "duration": 56,
    "start_time": "2024-07-06T20:49:52.417Z"
   },
   {
    "duration": 29,
    "start_time": "2024-07-06T20:49:52.474Z"
   },
   {
    "duration": 11,
    "start_time": "2024-07-06T20:49:52.504Z"
   },
   {
    "duration": 213,
    "start_time": "2024-07-06T20:49:52.517Z"
   },
   {
    "duration": 21,
    "start_time": "2024-07-06T20:49:52.732Z"
   },
   {
    "duration": 169,
    "start_time": "2024-07-06T20:49:52.755Z"
   },
   {
    "duration": 31,
    "start_time": "2024-07-06T20:49:52.926Z"
   },
   {
    "duration": 253,
    "start_time": "2024-07-06T20:49:52.962Z"
   },
   {
    "duration": 38,
    "start_time": "2024-07-06T20:49:53.219Z"
   },
   {
    "duration": 13,
    "start_time": "2024-07-06T20:49:53.259Z"
   },
   {
    "duration": 151,
    "start_time": "2024-07-06T20:49:53.273Z"
   },
   {
    "duration": 28,
    "start_time": "2024-07-06T20:49:53.425Z"
   },
   {
    "duration": 258,
    "start_time": "2024-07-06T20:49:53.462Z"
   },
   {
    "duration": 6,
    "start_time": "2024-07-06T20:49:53.722Z"
   },
   {
    "duration": 330,
    "start_time": "2024-07-06T20:49:53.739Z"
   },
   {
    "duration": 328,
    "start_time": "2024-07-06T20:49:54.071Z"
   },
   {
    "duration": 13,
    "start_time": "2024-07-06T20:49:54.401Z"
   },
   {
    "duration": 38,
    "start_time": "2024-07-06T20:49:54.415Z"
   },
   {
    "duration": 38,
    "start_time": "2024-07-06T20:49:54.462Z"
   },
   {
    "duration": 16,
    "start_time": "2024-07-06T20:49:54.502Z"
   },
   {
    "duration": 38,
    "start_time": "2024-07-06T20:49:54.519Z"
   },
   {
    "duration": 19,
    "start_time": "2024-07-06T20:49:54.559Z"
   },
   {
    "duration": 26,
    "start_time": "2024-07-06T20:49:54.580Z"
   },
   {
    "duration": 259,
    "start_time": "2024-07-06T20:49:54.607Z"
   },
   {
    "duration": 249,
    "start_time": "2024-07-06T20:49:54.867Z"
   },
   {
    "duration": 272,
    "start_time": "2024-07-06T20:49:55.117Z"
   },
   {
    "duration": 312,
    "start_time": "2024-07-06T20:49:55.390Z"
   },
   {
    "duration": 172,
    "start_time": "2024-07-06T20:49:55.704Z"
   },
   {
    "duration": 496,
    "start_time": "2024-07-06T20:49:55.878Z"
   },
   {
    "duration": 15,
    "start_time": "2024-07-06T20:49:56.376Z"
   },
   {
    "duration": 1089,
    "start_time": "2024-07-06T20:49:56.393Z"
   },
   {
    "duration": 0,
    "start_time": "2024-07-06T20:49:57.484Z"
   },
   {
    "duration": 0,
    "start_time": "2024-07-06T20:49:57.486Z"
   },
   {
    "duration": 0,
    "start_time": "2024-07-06T20:49:57.488Z"
   },
   {
    "duration": 0,
    "start_time": "2024-07-06T20:49:57.489Z"
   },
   {
    "duration": 0,
    "start_time": "2024-07-06T20:49:57.491Z"
   },
   {
    "duration": 0,
    "start_time": "2024-07-06T20:49:57.492Z"
   },
   {
    "duration": 0,
    "start_time": "2024-07-06T20:49:57.493Z"
   },
   {
    "duration": 0,
    "start_time": "2024-07-06T20:49:57.495Z"
   },
   {
    "duration": 0,
    "start_time": "2024-07-06T20:49:57.496Z"
   },
   {
    "duration": 0,
    "start_time": "2024-07-06T20:49:57.497Z"
   },
   {
    "duration": 0,
    "start_time": "2024-07-06T20:49:57.498Z"
   },
   {
    "duration": 0,
    "start_time": "2024-07-06T20:49:57.499Z"
   },
   {
    "duration": 0,
    "start_time": "2024-07-06T20:49:57.501Z"
   },
   {
    "duration": 0,
    "start_time": "2024-07-06T20:49:57.502Z"
   },
   {
    "duration": 0,
    "start_time": "2024-07-06T20:49:57.503Z"
   },
   {
    "duration": 0,
    "start_time": "2024-07-06T20:49:57.504Z"
   },
   {
    "duration": 90,
    "start_time": "2024-07-06T20:51:28.266Z"
   },
   {
    "duration": 1173,
    "start_time": "2024-07-06T20:51:48.427Z"
   },
   {
    "duration": 79,
    "start_time": "2024-07-06T20:51:49.602Z"
   },
   {
    "duration": 13,
    "start_time": "2024-07-06T20:51:49.682Z"
   },
   {
    "duration": 10,
    "start_time": "2024-07-06T20:51:49.696Z"
   },
   {
    "duration": 42,
    "start_time": "2024-07-06T20:51:49.707Z"
   },
   {
    "duration": 42,
    "start_time": "2024-07-06T20:51:49.753Z"
   },
   {
    "duration": 14,
    "start_time": "2024-07-06T20:51:49.797Z"
   },
   {
    "duration": 9,
    "start_time": "2024-07-06T20:51:49.812Z"
   },
   {
    "duration": 11,
    "start_time": "2024-07-06T20:51:49.822Z"
   },
   {
    "duration": 22,
    "start_time": "2024-07-06T20:51:49.836Z"
   },
   {
    "duration": 14,
    "start_time": "2024-07-06T20:51:49.862Z"
   },
   {
    "duration": 12,
    "start_time": "2024-07-06T20:51:49.877Z"
   },
   {
    "duration": 21,
    "start_time": "2024-07-06T20:51:49.891Z"
   },
   {
    "duration": 12,
    "start_time": "2024-07-06T20:51:49.914Z"
   },
   {
    "duration": 6,
    "start_time": "2024-07-06T20:51:49.927Z"
   },
   {
    "duration": 21,
    "start_time": "2024-07-06T20:51:49.934Z"
   },
   {
    "duration": 13,
    "start_time": "2024-07-06T20:51:49.956Z"
   },
   {
    "duration": 5,
    "start_time": "2024-07-06T20:51:49.970Z"
   },
   {
    "duration": 29,
    "start_time": "2024-07-06T20:51:49.976Z"
   },
   {
    "duration": 30,
    "start_time": "2024-07-06T20:51:50.006Z"
   },
   {
    "duration": 36,
    "start_time": "2024-07-06T20:51:50.043Z"
   },
   {
    "duration": 90,
    "start_time": "2024-07-06T20:51:50.080Z"
   },
   {
    "duration": 190,
    "start_time": "2024-07-06T20:51:50.171Z"
   },
   {
    "duration": 14,
    "start_time": "2024-07-06T20:51:50.363Z"
   },
   {
    "duration": 182,
    "start_time": "2024-07-06T20:51:50.378Z"
   },
   {
    "duration": 19,
    "start_time": "2024-07-06T20:51:50.562Z"
   },
   {
    "duration": 299,
    "start_time": "2024-07-06T20:51:50.582Z"
   },
   {
    "duration": 14,
    "start_time": "2024-07-06T20:51:50.885Z"
   },
   {
    "duration": 13,
    "start_time": "2024-07-06T20:51:50.901Z"
   },
   {
    "duration": 169,
    "start_time": "2024-07-06T20:51:50.916Z"
   },
   {
    "duration": 6,
    "start_time": "2024-07-06T20:51:51.087Z"
   },
   {
    "duration": 280,
    "start_time": "2024-07-06T20:51:51.095Z"
   },
   {
    "duration": 6,
    "start_time": "2024-07-06T20:51:51.377Z"
   },
   {
    "duration": 295,
    "start_time": "2024-07-06T20:51:51.384Z"
   },
   {
    "duration": 318,
    "start_time": "2024-07-06T20:51:51.680Z"
   },
   {
    "duration": 11,
    "start_time": "2024-07-06T20:51:51.999Z"
   },
   {
    "duration": 32,
    "start_time": "2024-07-06T20:51:52.012Z"
   },
   {
    "duration": 39,
    "start_time": "2024-07-06T20:51:52.050Z"
   },
   {
    "duration": 12,
    "start_time": "2024-07-06T20:51:52.090Z"
   },
   {
    "duration": 82,
    "start_time": "2024-07-06T20:51:52.103Z"
   },
   {
    "duration": 33,
    "start_time": "2024-07-06T20:51:52.187Z"
   },
   {
    "duration": 17,
    "start_time": "2024-07-06T20:51:52.222Z"
   },
   {
    "duration": 277,
    "start_time": "2024-07-06T20:51:52.240Z"
   },
   {
    "duration": 267,
    "start_time": "2024-07-06T20:51:52.519Z"
   },
   {
    "duration": 280,
    "start_time": "2024-07-06T20:51:52.787Z"
   },
   {
    "duration": 246,
    "start_time": "2024-07-06T20:51:53.069Z"
   },
   {
    "duration": 179,
    "start_time": "2024-07-06T20:51:53.317Z"
   },
   {
    "duration": 489,
    "start_time": "2024-07-06T20:51:53.498Z"
   },
   {
    "duration": 14,
    "start_time": "2024-07-06T20:51:53.989Z"
   },
   {
    "duration": 76,
    "start_time": "2024-07-06T20:51:54.005Z"
   },
   {
    "duration": 1,
    "start_time": "2024-07-06T20:51:54.082Z"
   },
   {
    "duration": 0,
    "start_time": "2024-07-06T20:51:54.084Z"
   },
   {
    "duration": 0,
    "start_time": "2024-07-06T20:51:54.086Z"
   },
   {
    "duration": 0,
    "start_time": "2024-07-06T20:51:54.087Z"
   },
   {
    "duration": 0,
    "start_time": "2024-07-06T20:51:54.089Z"
   },
   {
    "duration": 0,
    "start_time": "2024-07-06T20:51:54.091Z"
   },
   {
    "duration": 0,
    "start_time": "2024-07-06T20:51:54.092Z"
   },
   {
    "duration": 0,
    "start_time": "2024-07-06T20:51:54.093Z"
   },
   {
    "duration": 0,
    "start_time": "2024-07-06T20:51:54.095Z"
   },
   {
    "duration": 0,
    "start_time": "2024-07-06T20:51:54.096Z"
   },
   {
    "duration": 0,
    "start_time": "2024-07-06T20:51:54.097Z"
   },
   {
    "duration": 0,
    "start_time": "2024-07-06T20:51:54.098Z"
   },
   {
    "duration": 0,
    "start_time": "2024-07-06T20:51:54.099Z"
   },
   {
    "duration": 0,
    "start_time": "2024-07-06T20:51:54.100Z"
   },
   {
    "duration": 0,
    "start_time": "2024-07-06T20:51:54.102Z"
   },
   {
    "duration": 0,
    "start_time": "2024-07-06T20:51:54.102Z"
   },
   {
    "duration": 257,
    "start_time": "2024-07-06T20:52:20.700Z"
   },
   {
    "duration": 1170,
    "start_time": "2024-07-06T20:52:32.315Z"
   },
   {
    "duration": 78,
    "start_time": "2024-07-06T20:52:33.487Z"
   },
   {
    "duration": 13,
    "start_time": "2024-07-06T20:52:33.567Z"
   },
   {
    "duration": 14,
    "start_time": "2024-07-06T20:52:33.582Z"
   },
   {
    "duration": 6,
    "start_time": "2024-07-06T20:52:33.598Z"
   },
   {
    "duration": 12,
    "start_time": "2024-07-06T20:52:33.605Z"
   },
   {
    "duration": 22,
    "start_time": "2024-07-06T20:52:33.618Z"
   },
   {
    "duration": 13,
    "start_time": "2024-07-06T20:52:33.654Z"
   },
   {
    "duration": 22,
    "start_time": "2024-07-06T20:52:33.668Z"
   },
   {
    "duration": 19,
    "start_time": "2024-07-06T20:52:33.693Z"
   },
   {
    "duration": 9,
    "start_time": "2024-07-06T20:52:33.713Z"
   },
   {
    "duration": 56,
    "start_time": "2024-07-06T20:52:33.724Z"
   },
   {
    "duration": 40,
    "start_time": "2024-07-06T20:52:33.781Z"
   },
   {
    "duration": 5,
    "start_time": "2024-07-06T20:52:33.822Z"
   },
   {
    "duration": 6,
    "start_time": "2024-07-06T20:52:33.828Z"
   },
   {
    "duration": 16,
    "start_time": "2024-07-06T20:52:33.835Z"
   },
   {
    "duration": 16,
    "start_time": "2024-07-06T20:52:33.852Z"
   },
   {
    "duration": 6,
    "start_time": "2024-07-06T20:52:33.870Z"
   },
   {
    "duration": 10,
    "start_time": "2024-07-06T20:52:33.877Z"
   },
   {
    "duration": 16,
    "start_time": "2024-07-06T20:52:33.888Z"
   },
   {
    "duration": 11,
    "start_time": "2024-07-06T20:52:33.906Z"
   },
   {
    "duration": 14,
    "start_time": "2024-07-06T20:52:33.918Z"
   },
   {
    "duration": 164,
    "start_time": "2024-07-06T20:52:33.945Z"
   },
   {
    "duration": 11,
    "start_time": "2024-07-06T20:52:34.110Z"
   },
   {
    "duration": 249,
    "start_time": "2024-07-06T20:52:34.123Z"
   },
   {
    "duration": 13,
    "start_time": "2024-07-06T20:52:34.374Z"
   },
   {
    "duration": 279,
    "start_time": "2024-07-06T20:52:34.389Z"
   },
   {
    "duration": 14,
    "start_time": "2024-07-06T20:52:34.673Z"
   },
   {
    "duration": 22,
    "start_time": "2024-07-06T20:52:34.689Z"
   },
   {
    "duration": 169,
    "start_time": "2024-07-06T20:52:34.713Z"
   },
   {
    "duration": 7,
    "start_time": "2024-07-06T20:52:34.884Z"
   },
   {
    "duration": 272,
    "start_time": "2024-07-06T20:52:34.892Z"
   },
   {
    "duration": 7,
    "start_time": "2024-07-06T20:52:35.167Z"
   },
   {
    "duration": 257,
    "start_time": "2024-07-06T20:52:35.175Z"
   },
   {
    "duration": 318,
    "start_time": "2024-07-06T20:52:35.433Z"
   },
   {
    "duration": 22,
    "start_time": "2024-07-06T20:52:35.754Z"
   },
   {
    "duration": 79,
    "start_time": "2024-07-06T20:52:35.778Z"
   },
   {
    "duration": 25,
    "start_time": "2024-07-06T20:52:35.863Z"
   },
   {
    "duration": 12,
    "start_time": "2024-07-06T20:52:35.889Z"
   },
   {
    "duration": 30,
    "start_time": "2024-07-06T20:52:35.902Z"
   },
   {
    "duration": 36,
    "start_time": "2024-07-06T20:52:35.933Z"
   },
   {
    "duration": 19,
    "start_time": "2024-07-06T20:52:35.971Z"
   },
   {
    "duration": 284,
    "start_time": "2024-07-06T20:52:35.991Z"
   },
   {
    "duration": 260,
    "start_time": "2024-07-06T20:52:36.277Z"
   },
   {
    "duration": 255,
    "start_time": "2024-07-06T20:52:36.546Z"
   },
   {
    "duration": 262,
    "start_time": "2024-07-06T20:52:36.803Z"
   },
   {
    "duration": 180,
    "start_time": "2024-07-06T20:52:37.067Z"
   },
   {
    "duration": 558,
    "start_time": "2024-07-06T20:52:37.249Z"
   },
   {
    "duration": 15,
    "start_time": "2024-07-06T20:52:37.809Z"
   },
   {
    "duration": 280,
    "start_time": "2024-07-06T20:52:37.825Z"
   },
   {
    "duration": 268,
    "start_time": "2024-07-06T20:52:38.106Z"
   },
   {
    "duration": 248,
    "start_time": "2024-07-06T20:52:38.376Z"
   },
   {
    "duration": 250,
    "start_time": "2024-07-06T20:52:38.626Z"
   },
   {
    "duration": 12,
    "start_time": "2024-07-06T20:52:38.878Z"
   },
   {
    "duration": 13,
    "start_time": "2024-07-06T20:52:38.892Z"
   },
   {
    "duration": 7,
    "start_time": "2024-07-06T20:52:38.906Z"
   },
   {
    "duration": 8,
    "start_time": "2024-07-06T20:52:38.915Z"
   },
   {
    "duration": 19,
    "start_time": "2024-07-06T20:52:38.937Z"
   },
   {
    "duration": 26,
    "start_time": "2024-07-06T20:52:38.961Z"
   },
   {
    "duration": 1134,
    "start_time": "2024-07-06T20:52:38.989Z"
   },
   {
    "duration": 0,
    "start_time": "2024-07-06T20:52:40.125Z"
   },
   {
    "duration": 0,
    "start_time": "2024-07-06T20:52:40.125Z"
   },
   {
    "duration": 0,
    "start_time": "2024-07-06T20:52:40.126Z"
   },
   {
    "duration": 0,
    "start_time": "2024-07-06T20:52:40.127Z"
   },
   {
    "duration": 0,
    "start_time": "2024-07-06T20:52:40.128Z"
   },
   {
    "duration": 0,
    "start_time": "2024-07-06T20:52:40.129Z"
   },
   {
    "duration": 276,
    "start_time": "2024-07-06T20:54:36.355Z"
   },
   {
    "duration": 1129,
    "start_time": "2024-07-06T20:54:53.204Z"
   },
   {
    "duration": 70,
    "start_time": "2024-07-06T20:54:54.341Z"
   },
   {
    "duration": 14,
    "start_time": "2024-07-06T20:54:54.412Z"
   },
   {
    "duration": 21,
    "start_time": "2024-07-06T20:54:54.427Z"
   },
   {
    "duration": 14,
    "start_time": "2024-07-06T20:54:54.450Z"
   },
   {
    "duration": 10,
    "start_time": "2024-07-06T20:54:54.469Z"
   },
   {
    "duration": 9,
    "start_time": "2024-07-06T20:54:54.481Z"
   },
   {
    "duration": 9,
    "start_time": "2024-07-06T20:54:54.491Z"
   },
   {
    "duration": 13,
    "start_time": "2024-07-06T20:54:54.501Z"
   },
   {
    "duration": 26,
    "start_time": "2024-07-06T20:54:54.537Z"
   },
   {
    "duration": 10,
    "start_time": "2024-07-06T20:54:54.566Z"
   },
   {
    "duration": 4,
    "start_time": "2024-07-06T20:54:54.578Z"
   },
   {
    "duration": 5,
    "start_time": "2024-07-06T20:54:54.583Z"
   },
   {
    "duration": 4,
    "start_time": "2024-07-06T20:54:54.590Z"
   },
   {
    "duration": 17,
    "start_time": "2024-07-06T20:54:54.596Z"
   },
   {
    "duration": 23,
    "start_time": "2024-07-06T20:54:54.614Z"
   },
   {
    "duration": 34,
    "start_time": "2024-07-06T20:54:54.642Z"
   },
   {
    "duration": 6,
    "start_time": "2024-07-06T20:54:54.678Z"
   },
   {
    "duration": 5,
    "start_time": "2024-07-06T20:54:54.686Z"
   },
   {
    "duration": 8,
    "start_time": "2024-07-06T20:54:54.693Z"
   },
   {
    "duration": 13,
    "start_time": "2024-07-06T20:54:54.703Z"
   },
   {
    "duration": 9,
    "start_time": "2024-07-06T20:54:54.717Z"
   },
   {
    "duration": 181,
    "start_time": "2024-07-06T20:54:54.727Z"
   },
   {
    "duration": 11,
    "start_time": "2024-07-06T20:54:54.909Z"
   },
   {
    "duration": 174,
    "start_time": "2024-07-06T20:54:54.921Z"
   },
   {
    "duration": 13,
    "start_time": "2024-07-06T20:54:55.097Z"
   },
   {
    "duration": 276,
    "start_time": "2024-07-06T20:54:55.111Z"
   },
   {
    "duration": 14,
    "start_time": "2024-07-06T20:54:55.390Z"
   },
   {
    "duration": 57,
    "start_time": "2024-07-06T20:54:55.406Z"
   },
   {
    "duration": 164,
    "start_time": "2024-07-06T20:54:55.470Z"
   },
   {
    "duration": 15,
    "start_time": "2024-07-06T20:54:55.641Z"
   },
   {
    "duration": 307,
    "start_time": "2024-07-06T20:54:55.658Z"
   },
   {
    "duration": 8,
    "start_time": "2024-07-06T20:54:55.969Z"
   },
   {
    "duration": 255,
    "start_time": "2024-07-06T20:54:55.978Z"
   },
   {
    "duration": 314,
    "start_time": "2024-07-06T20:54:56.234Z"
   },
   {
    "duration": 17,
    "start_time": "2024-07-06T20:54:56.550Z"
   },
   {
    "duration": 21,
    "start_time": "2024-07-06T20:54:56.568Z"
   },
   {
    "duration": 24,
    "start_time": "2024-07-06T20:54:56.590Z"
   },
   {
    "duration": 22,
    "start_time": "2024-07-06T20:54:56.616Z"
   },
   {
    "duration": 19,
    "start_time": "2024-07-06T20:54:56.640Z"
   },
   {
    "duration": 16,
    "start_time": "2024-07-06T20:54:56.663Z"
   },
   {
    "duration": 16,
    "start_time": "2024-07-06T20:54:56.680Z"
   },
   {
    "duration": 287,
    "start_time": "2024-07-06T20:54:56.697Z"
   },
   {
    "duration": 294,
    "start_time": "2024-07-06T20:54:56.986Z"
   },
   {
    "duration": 292,
    "start_time": "2024-07-06T20:54:57.281Z"
   },
   {
    "duration": 287,
    "start_time": "2024-07-06T20:54:57.575Z"
   },
   {
    "duration": 162,
    "start_time": "2024-07-06T20:54:57.867Z"
   },
   {
    "duration": 515,
    "start_time": "2024-07-06T20:54:58.030Z"
   },
   {
    "duration": 24,
    "start_time": "2024-07-06T20:54:58.547Z"
   },
   {
    "duration": 226,
    "start_time": "2024-07-06T20:54:58.573Z"
   },
   {
    "duration": 290,
    "start_time": "2024-07-06T20:54:58.800Z"
   },
   {
    "duration": 275,
    "start_time": "2024-07-06T20:54:59.092Z"
   },
   {
    "duration": 246,
    "start_time": "2024-07-06T20:54:59.369Z"
   },
   {
    "duration": 12,
    "start_time": "2024-07-06T20:54:59.617Z"
   },
   {
    "duration": 20,
    "start_time": "2024-07-06T20:54:59.638Z"
   },
   {
    "duration": 39,
    "start_time": "2024-07-06T20:54:59.660Z"
   },
   {
    "duration": 33,
    "start_time": "2024-07-06T20:54:59.701Z"
   },
   {
    "duration": 38,
    "start_time": "2024-07-06T20:54:59.735Z"
   },
   {
    "duration": 83,
    "start_time": "2024-07-06T20:54:59.774Z"
   },
   {
    "duration": 1039,
    "start_time": "2024-07-06T20:54:59.862Z"
   },
   {
    "duration": 0,
    "start_time": "2024-07-06T20:55:00.903Z"
   },
   {
    "duration": 0,
    "start_time": "2024-07-06T20:55:00.905Z"
   },
   {
    "duration": 0,
    "start_time": "2024-07-06T20:55:00.905Z"
   },
   {
    "duration": 0,
    "start_time": "2024-07-06T20:55:00.906Z"
   },
   {
    "duration": 1,
    "start_time": "2024-07-06T20:55:00.907Z"
   },
   {
    "duration": 0,
    "start_time": "2024-07-06T20:55:00.909Z"
   },
   {
    "duration": 311,
    "start_time": "2024-07-06T20:56:02.040Z"
   },
   {
    "duration": 18,
    "start_time": "2024-07-06T20:57:41.088Z"
   },
   {
    "duration": 191,
    "start_time": "2024-07-06T20:57:49.720Z"
   },
   {
    "duration": 3251,
    "start_time": "2024-07-06T20:58:50.928Z"
   },
   {
    "duration": 338,
    "start_time": "2024-07-06T20:58:57.321Z"
   },
   {
    "duration": 1124,
    "start_time": "2024-07-06T21:01:05.970Z"
   },
   {
    "duration": 80,
    "start_time": "2024-07-06T21:01:07.096Z"
   },
   {
    "duration": 13,
    "start_time": "2024-07-06T21:01:07.178Z"
   },
   {
    "duration": 27,
    "start_time": "2024-07-06T21:01:07.193Z"
   },
   {
    "duration": 18,
    "start_time": "2024-07-06T21:01:07.222Z"
   },
   {
    "duration": 26,
    "start_time": "2024-07-06T21:01:07.241Z"
   },
   {
    "duration": 28,
    "start_time": "2024-07-06T21:01:07.271Z"
   },
   {
    "duration": 15,
    "start_time": "2024-07-06T21:01:07.302Z"
   },
   {
    "duration": 31,
    "start_time": "2024-07-06T21:01:07.318Z"
   },
   {
    "duration": 17,
    "start_time": "2024-07-06T21:01:07.354Z"
   },
   {
    "duration": 10,
    "start_time": "2024-07-06T21:01:07.373Z"
   },
   {
    "duration": 4,
    "start_time": "2024-07-06T21:01:07.385Z"
   },
   {
    "duration": 10,
    "start_time": "2024-07-06T21:01:07.391Z"
   },
   {
    "duration": 13,
    "start_time": "2024-07-06T21:01:07.403Z"
   },
   {
    "duration": 28,
    "start_time": "2024-07-06T21:01:07.417Z"
   },
   {
    "duration": 25,
    "start_time": "2024-07-06T21:01:07.450Z"
   },
   {
    "duration": 29,
    "start_time": "2024-07-06T21:01:07.476Z"
   },
   {
    "duration": 13,
    "start_time": "2024-07-06T21:01:07.507Z"
   },
   {
    "duration": 8,
    "start_time": "2024-07-06T21:01:07.521Z"
   },
   {
    "duration": 25,
    "start_time": "2024-07-06T21:01:07.530Z"
   },
   {
    "duration": 36,
    "start_time": "2024-07-06T21:01:07.556Z"
   },
   {
    "duration": 13,
    "start_time": "2024-07-06T21:01:07.593Z"
   },
   {
    "duration": 200,
    "start_time": "2024-07-06T21:01:07.608Z"
   },
   {
    "duration": 11,
    "start_time": "2024-07-06T21:01:07.810Z"
   },
   {
    "duration": 175,
    "start_time": "2024-07-06T21:01:07.823Z"
   },
   {
    "duration": 12,
    "start_time": "2024-07-06T21:01:07.999Z"
   },
   {
    "duration": 341,
    "start_time": "2024-07-06T21:01:08.013Z"
   },
   {
    "duration": 16,
    "start_time": "2024-07-06T21:01:08.360Z"
   },
   {
    "duration": 27,
    "start_time": "2024-07-06T21:01:08.378Z"
   },
   {
    "duration": 187,
    "start_time": "2024-07-06T21:01:08.407Z"
   },
   {
    "duration": 7,
    "start_time": "2024-07-06T21:01:08.596Z"
   },
   {
    "duration": 313,
    "start_time": "2024-07-06T21:01:08.604Z"
   },
   {
    "duration": 15,
    "start_time": "2024-07-06T21:01:08.937Z"
   },
   {
    "duration": 538,
    "start_time": "2024-07-06T21:01:08.954Z"
   },
   {
    "duration": 325,
    "start_time": "2024-07-06T21:01:09.494Z"
   },
   {
    "duration": 28,
    "start_time": "2024-07-06T21:01:09.821Z"
   },
   {
    "duration": 23,
    "start_time": "2024-07-06T21:01:09.851Z"
   },
   {
    "duration": 49,
    "start_time": "2024-07-06T21:01:09.875Z"
   },
   {
    "duration": 21,
    "start_time": "2024-07-06T21:01:09.926Z"
   },
   {
    "duration": 21,
    "start_time": "2024-07-06T21:01:09.949Z"
   },
   {
    "duration": 24,
    "start_time": "2024-07-06T21:01:09.971Z"
   },
   {
    "duration": 101,
    "start_time": "2024-07-06T21:01:09.997Z"
   },
   {
    "duration": 359,
    "start_time": "2024-07-06T21:01:10.099Z"
   },
   {
    "duration": 253,
    "start_time": "2024-07-06T21:01:10.462Z"
   },
   {
    "duration": 312,
    "start_time": "2024-07-06T21:01:10.716Z"
   },
   {
    "duration": 284,
    "start_time": "2024-07-06T21:01:11.030Z"
   },
   {
    "duration": 192,
    "start_time": "2024-07-06T21:01:11.315Z"
   },
   {
    "duration": 532,
    "start_time": "2024-07-06T21:01:11.509Z"
   },
   {
    "duration": 24,
    "start_time": "2024-07-06T21:01:12.051Z"
   },
   {
    "duration": 29,
    "start_time": "2024-07-06T21:01:12.078Z"
   },
   {
    "duration": 3294,
    "start_time": "2024-07-06T21:01:12.108Z"
   },
   {
    "duration": 288,
    "start_time": "2024-07-06T21:01:15.403Z"
   },
   {
    "duration": 280,
    "start_time": "2024-07-06T21:01:15.693Z"
   },
   {
    "duration": 255,
    "start_time": "2024-07-06T21:01:15.975Z"
   },
   {
    "duration": 35,
    "start_time": "2024-07-06T21:01:16.231Z"
   },
   {
    "duration": 17,
    "start_time": "2024-07-06T21:01:16.268Z"
   },
   {
    "duration": 28,
    "start_time": "2024-07-06T21:01:16.286Z"
   },
   {
    "duration": 38,
    "start_time": "2024-07-06T21:01:16.315Z"
   },
   {
    "duration": 23,
    "start_time": "2024-07-06T21:01:16.355Z"
   },
   {
    "duration": 31,
    "start_time": "2024-07-06T21:01:16.379Z"
   },
   {
    "duration": 1067,
    "start_time": "2024-07-06T21:01:16.411Z"
   },
   {
    "duration": 0,
    "start_time": "2024-07-06T21:01:17.480Z"
   },
   {
    "duration": 0,
    "start_time": "2024-07-06T21:01:17.482Z"
   },
   {
    "duration": 0,
    "start_time": "2024-07-06T21:01:17.483Z"
   },
   {
    "duration": 0,
    "start_time": "2024-07-06T21:01:17.484Z"
   },
   {
    "duration": 1,
    "start_time": "2024-07-06T21:01:17.485Z"
   },
   {
    "duration": 0,
    "start_time": "2024-07-06T21:01:17.487Z"
   },
   {
    "duration": 3180,
    "start_time": "2024-07-06T21:01:34.736Z"
   },
   {
    "duration": 1306,
    "start_time": "2024-07-06T21:08:08.050Z"
   },
   {
    "duration": 3685,
    "start_time": "2024-07-06T21:08:29.287Z"
   },
   {
    "duration": 17,
    "start_time": "2024-07-06T21:17:11.989Z"
   },
   {
    "duration": 12,
    "start_time": "2024-07-06T21:17:52.534Z"
   },
   {
    "duration": 6,
    "start_time": "2024-07-06T21:18:26.196Z"
   },
   {
    "duration": 1197,
    "start_time": "2024-07-06T21:18:37.904Z"
   },
   {
    "duration": 81,
    "start_time": "2024-07-06T21:18:39.102Z"
   },
   {
    "duration": 12,
    "start_time": "2024-07-06T21:18:39.185Z"
   },
   {
    "duration": 31,
    "start_time": "2024-07-06T21:18:39.198Z"
   },
   {
    "duration": 8,
    "start_time": "2024-07-06T21:18:39.231Z"
   },
   {
    "duration": 26,
    "start_time": "2024-07-06T21:18:39.247Z"
   },
   {
    "duration": 10,
    "start_time": "2024-07-06T21:18:39.275Z"
   },
   {
    "duration": 10,
    "start_time": "2024-07-06T21:18:39.286Z"
   },
   {
    "duration": 14,
    "start_time": "2024-07-06T21:18:39.297Z"
   },
   {
    "duration": 9,
    "start_time": "2024-07-06T21:18:39.313Z"
   },
   {
    "duration": 32,
    "start_time": "2024-07-06T21:18:39.324Z"
   },
   {
    "duration": 10,
    "start_time": "2024-07-06T21:18:39.361Z"
   },
   {
    "duration": 8,
    "start_time": "2024-07-06T21:18:39.373Z"
   },
   {
    "duration": 8,
    "start_time": "2024-07-06T21:18:39.382Z"
   },
   {
    "duration": 7,
    "start_time": "2024-07-06T21:18:39.391Z"
   },
   {
    "duration": 7,
    "start_time": "2024-07-06T21:18:39.399Z"
   },
   {
    "duration": 53,
    "start_time": "2024-07-06T21:18:39.407Z"
   },
   {
    "duration": 12,
    "start_time": "2024-07-06T21:18:39.461Z"
   },
   {
    "duration": 12,
    "start_time": "2024-07-06T21:18:39.476Z"
   },
   {
    "duration": 12,
    "start_time": "2024-07-06T21:18:39.490Z"
   },
   {
    "duration": 18,
    "start_time": "2024-07-06T21:18:39.503Z"
   },
   {
    "duration": 19,
    "start_time": "2024-07-06T21:18:39.522Z"
   },
   {
    "duration": 223,
    "start_time": "2024-07-06T21:18:39.546Z"
   },
   {
    "duration": 13,
    "start_time": "2024-07-06T21:18:39.770Z"
   },
   {
    "duration": 196,
    "start_time": "2024-07-06T21:18:39.784Z"
   },
   {
    "duration": 13,
    "start_time": "2024-07-06T21:18:39.981Z"
   },
   {
    "duration": 312,
    "start_time": "2024-07-06T21:18:39.996Z"
   },
   {
    "duration": 15,
    "start_time": "2024-07-06T21:18:40.312Z"
   },
   {
    "duration": 36,
    "start_time": "2024-07-06T21:18:40.328Z"
   },
   {
    "duration": 159,
    "start_time": "2024-07-06T21:18:40.366Z"
   },
   {
    "duration": 17,
    "start_time": "2024-07-06T21:18:40.527Z"
   },
   {
    "duration": 303,
    "start_time": "2024-07-06T21:18:40.551Z"
   },
   {
    "duration": 10,
    "start_time": "2024-07-06T21:18:40.862Z"
   },
   {
    "duration": 257,
    "start_time": "2024-07-06T21:18:40.874Z"
   },
   {
    "duration": 347,
    "start_time": "2024-07-06T21:18:41.138Z"
   },
   {
    "duration": 16,
    "start_time": "2024-07-06T21:18:41.487Z"
   },
   {
    "duration": 11,
    "start_time": "2024-07-06T21:18:41.505Z"
   },
   {
    "duration": 53,
    "start_time": "2024-07-06T21:18:41.517Z"
   },
   {
    "duration": 18,
    "start_time": "2024-07-06T21:18:41.572Z"
   },
   {
    "duration": 21,
    "start_time": "2024-07-06T21:18:41.592Z"
   },
   {
    "duration": 36,
    "start_time": "2024-07-06T21:18:41.639Z"
   },
   {
    "duration": 15,
    "start_time": "2024-07-06T21:18:41.676Z"
   },
   {
    "duration": 315,
    "start_time": "2024-07-06T21:18:41.693Z"
   },
   {
    "duration": 270,
    "start_time": "2024-07-06T21:18:42.010Z"
   },
   {
    "duration": 294,
    "start_time": "2024-07-06T21:18:42.282Z"
   },
   {
    "duration": 286,
    "start_time": "2024-07-06T21:18:42.578Z"
   },
   {
    "duration": 175,
    "start_time": "2024-07-06T21:18:42.867Z"
   },
   {
    "duration": 588,
    "start_time": "2024-07-06T21:18:43.044Z"
   },
   {
    "duration": 41,
    "start_time": "2024-07-06T21:18:43.641Z"
   },
   {
    "duration": 22,
    "start_time": "2024-07-06T21:18:43.684Z"
   },
   {
    "duration": 11,
    "start_time": "2024-07-06T21:18:43.708Z"
   },
   {
    "duration": 10,
    "start_time": "2024-07-06T21:18:43.721Z"
   },
   {
    "duration": 27,
    "start_time": "2024-07-06T21:18:43.740Z"
   },
   {
    "duration": 11,
    "start_time": "2024-07-06T21:18:43.772Z"
   },
   {
    "duration": 14,
    "start_time": "2024-07-06T21:18:43.785Z"
   },
   {
    "duration": 1121,
    "start_time": "2024-07-06T21:18:43.801Z"
   },
   {
    "duration": 0,
    "start_time": "2024-07-06T21:18:44.923Z"
   },
   {
    "duration": 0,
    "start_time": "2024-07-06T21:18:44.925Z"
   },
   {
    "duration": 0,
    "start_time": "2024-07-06T21:18:44.926Z"
   },
   {
    "duration": 0,
    "start_time": "2024-07-06T21:18:44.927Z"
   },
   {
    "duration": 0,
    "start_time": "2024-07-06T21:18:44.928Z"
   },
   {
    "duration": 0,
    "start_time": "2024-07-06T21:18:44.930Z"
   },
   {
    "duration": 0,
    "start_time": "2024-07-06T21:18:44.931Z"
   },
   {
    "duration": 0,
    "start_time": "2024-07-06T21:18:44.932Z"
   },
   {
    "duration": 0,
    "start_time": "2024-07-06T21:18:44.933Z"
   },
   {
    "duration": 0,
    "start_time": "2024-07-06T21:18:44.933Z"
   },
   {
    "duration": 0,
    "start_time": "2024-07-06T21:18:44.935Z"
   },
   {
    "duration": 0,
    "start_time": "2024-07-06T21:18:44.936Z"
   },
   {
    "duration": 9,
    "start_time": "2024-07-06T21:19:24.967Z"
   },
   {
    "duration": 1192,
    "start_time": "2024-07-06T21:19:49.026Z"
   },
   {
    "duration": 84,
    "start_time": "2024-07-06T21:19:50.221Z"
   },
   {
    "duration": 17,
    "start_time": "2024-07-06T21:19:50.307Z"
   },
   {
    "duration": 15,
    "start_time": "2024-07-06T21:19:50.326Z"
   },
   {
    "duration": 13,
    "start_time": "2024-07-06T21:19:50.350Z"
   },
   {
    "duration": 16,
    "start_time": "2024-07-06T21:19:50.370Z"
   },
   {
    "duration": 13,
    "start_time": "2024-07-06T21:19:50.388Z"
   },
   {
    "duration": 8,
    "start_time": "2024-07-06T21:19:50.402Z"
   },
   {
    "duration": 12,
    "start_time": "2024-07-06T21:19:50.412Z"
   },
   {
    "duration": 33,
    "start_time": "2024-07-06T21:19:50.428Z"
   },
   {
    "duration": 14,
    "start_time": "2024-07-06T21:19:50.463Z"
   },
   {
    "duration": 12,
    "start_time": "2024-07-06T21:19:50.479Z"
   },
   {
    "duration": 16,
    "start_time": "2024-07-06T21:19:50.493Z"
   },
   {
    "duration": 18,
    "start_time": "2024-07-06T21:19:50.511Z"
   },
   {
    "duration": 19,
    "start_time": "2024-07-06T21:19:50.530Z"
   },
   {
    "duration": 19,
    "start_time": "2024-07-06T21:19:50.551Z"
   },
   {
    "duration": 11,
    "start_time": "2024-07-06T21:19:50.572Z"
   },
   {
    "duration": 6,
    "start_time": "2024-07-06T21:19:50.584Z"
   },
   {
    "duration": 8,
    "start_time": "2024-07-06T21:19:50.591Z"
   },
   {
    "duration": 9,
    "start_time": "2024-07-06T21:19:50.600Z"
   },
   {
    "duration": 15,
    "start_time": "2024-07-06T21:19:50.610Z"
   },
   {
    "duration": 26,
    "start_time": "2024-07-06T21:19:50.637Z"
   },
   {
    "duration": 212,
    "start_time": "2024-07-06T21:19:50.670Z"
   },
   {
    "duration": 12,
    "start_time": "2024-07-06T21:19:50.884Z"
   },
   {
    "duration": 197,
    "start_time": "2024-07-06T21:19:50.897Z"
   },
   {
    "duration": 14,
    "start_time": "2024-07-06T21:19:51.095Z"
   },
   {
    "duration": 305,
    "start_time": "2024-07-06T21:19:51.111Z"
   },
   {
    "duration": 22,
    "start_time": "2024-07-06T21:19:51.420Z"
   },
   {
    "duration": 33,
    "start_time": "2024-07-06T21:19:51.444Z"
   },
   {
    "duration": 191,
    "start_time": "2024-07-06T21:19:51.478Z"
   },
   {
    "duration": 7,
    "start_time": "2024-07-06T21:19:51.671Z"
   },
   {
    "duration": 297,
    "start_time": "2024-07-06T21:19:51.679Z"
   },
   {
    "duration": 8,
    "start_time": "2024-07-06T21:19:51.977Z"
   },
   {
    "duration": 281,
    "start_time": "2024-07-06T21:19:51.986Z"
   },
   {
    "duration": 339,
    "start_time": "2024-07-06T21:19:52.268Z"
   },
   {
    "duration": 11,
    "start_time": "2024-07-06T21:19:52.608Z"
   },
   {
    "duration": 33,
    "start_time": "2024-07-06T21:19:52.621Z"
   },
   {
    "duration": 42,
    "start_time": "2024-07-06T21:19:52.656Z"
   },
   {
    "duration": 13,
    "start_time": "2024-07-06T21:19:52.700Z"
   },
   {
    "duration": 15,
    "start_time": "2024-07-06T21:19:52.715Z"
   },
   {
    "duration": 33,
    "start_time": "2024-07-06T21:19:52.731Z"
   },
   {
    "duration": 22,
    "start_time": "2024-07-06T21:19:52.768Z"
   },
   {
    "duration": 317,
    "start_time": "2024-07-06T21:19:52.791Z"
   },
   {
    "duration": 265,
    "start_time": "2024-07-06T21:19:53.110Z"
   },
   {
    "duration": 309,
    "start_time": "2024-07-06T21:19:53.377Z"
   },
   {
    "duration": 264,
    "start_time": "2024-07-06T21:19:53.688Z"
   },
   {
    "duration": 174,
    "start_time": "2024-07-06T21:19:53.954Z"
   },
   {
    "duration": 558,
    "start_time": "2024-07-06T21:19:54.130Z"
   },
   {
    "duration": 20,
    "start_time": "2024-07-06T21:19:54.690Z"
   },
   {
    "duration": 49,
    "start_time": "2024-07-06T21:19:54.712Z"
   },
   {
    "duration": 3569,
    "start_time": "2024-07-06T21:19:54.762Z"
   },
   {
    "duration": 345,
    "start_time": "2024-07-06T21:19:58.332Z"
   },
   {
    "duration": 305,
    "start_time": "2024-07-06T21:19:58.682Z"
   },
   {
    "duration": 293,
    "start_time": "2024-07-06T21:19:58.989Z"
   },
   {
    "duration": 18,
    "start_time": "2024-07-06T21:19:59.284Z"
   },
   {
    "duration": 51,
    "start_time": "2024-07-06T21:19:59.304Z"
   },
   {
    "duration": 9,
    "start_time": "2024-07-06T21:19:59.363Z"
   },
   {
    "duration": 10,
    "start_time": "2024-07-06T21:19:59.374Z"
   },
   {
    "duration": 17,
    "start_time": "2024-07-06T21:19:59.386Z"
   },
   {
    "duration": 23,
    "start_time": "2024-07-06T21:19:59.405Z"
   },
   {
    "duration": 1220,
    "start_time": "2024-07-06T21:19:59.430Z"
   },
   {
    "duration": 0,
    "start_time": "2024-07-06T21:20:00.653Z"
   },
   {
    "duration": 0,
    "start_time": "2024-07-06T21:20:00.654Z"
   },
   {
    "duration": 0,
    "start_time": "2024-07-06T21:20:00.656Z"
   },
   {
    "duration": 0,
    "start_time": "2024-07-06T21:20:00.658Z"
   },
   {
    "duration": 0,
    "start_time": "2024-07-06T21:20:00.660Z"
   },
   {
    "duration": 0,
    "start_time": "2024-07-06T21:20:00.665Z"
   },
   {
    "duration": 31,
    "start_time": "2024-07-06T21:21:22.876Z"
   },
   {
    "duration": 1117,
    "start_time": "2024-07-06T21:21:57.988Z"
   },
   {
    "duration": 73,
    "start_time": "2024-07-06T21:21:59.107Z"
   },
   {
    "duration": 12,
    "start_time": "2024-07-06T21:21:59.182Z"
   },
   {
    "duration": 10,
    "start_time": "2024-07-06T21:21:59.196Z"
   },
   {
    "duration": 7,
    "start_time": "2024-07-06T21:21:59.208Z"
   },
   {
    "duration": 14,
    "start_time": "2024-07-06T21:21:59.217Z"
   },
   {
    "duration": 23,
    "start_time": "2024-07-06T21:21:59.233Z"
   },
   {
    "duration": 11,
    "start_time": "2024-07-06T21:21:59.258Z"
   },
   {
    "duration": 23,
    "start_time": "2024-07-06T21:21:59.271Z"
   },
   {
    "duration": 10,
    "start_time": "2024-07-06T21:21:59.296Z"
   },
   {
    "duration": 21,
    "start_time": "2024-07-06T21:21:59.308Z"
   },
   {
    "duration": 5,
    "start_time": "2024-07-06T21:21:59.343Z"
   },
   {
    "duration": 12,
    "start_time": "2024-07-06T21:21:59.355Z"
   },
   {
    "duration": 48,
    "start_time": "2024-07-06T21:21:59.369Z"
   },
   {
    "duration": 10,
    "start_time": "2024-07-06T21:21:59.418Z"
   },
   {
    "duration": 6,
    "start_time": "2024-07-06T21:21:59.429Z"
   },
   {
    "duration": 29,
    "start_time": "2024-07-06T21:21:59.436Z"
   },
   {
    "duration": 7,
    "start_time": "2024-07-06T21:21:59.467Z"
   },
   {
    "duration": 6,
    "start_time": "2024-07-06T21:21:59.476Z"
   },
   {
    "duration": 10,
    "start_time": "2024-07-06T21:21:59.483Z"
   },
   {
    "duration": 13,
    "start_time": "2024-07-06T21:21:59.494Z"
   },
   {
    "duration": 33,
    "start_time": "2024-07-06T21:21:59.509Z"
   },
   {
    "duration": 177,
    "start_time": "2024-07-06T21:21:59.547Z"
   },
   {
    "duration": 20,
    "start_time": "2024-07-06T21:21:59.726Z"
   },
   {
    "duration": 173,
    "start_time": "2024-07-06T21:21:59.751Z"
   },
   {
    "duration": 27,
    "start_time": "2024-07-06T21:21:59.926Z"
   },
   {
    "duration": 274,
    "start_time": "2024-07-06T21:21:59.954Z"
   },
   {
    "duration": 32,
    "start_time": "2024-07-06T21:22:00.239Z"
   },
   {
    "duration": 53,
    "start_time": "2024-07-06T21:22:00.273Z"
   },
   {
    "duration": 205,
    "start_time": "2024-07-06T21:22:00.327Z"
   },
   {
    "duration": 20,
    "start_time": "2024-07-06T21:22:00.534Z"
   },
   {
    "duration": 318,
    "start_time": "2024-07-06T21:22:00.557Z"
   },
   {
    "duration": 8,
    "start_time": "2024-07-06T21:22:00.877Z"
   },
   {
    "duration": 309,
    "start_time": "2024-07-06T21:22:00.887Z"
   },
   {
    "duration": 385,
    "start_time": "2024-07-06T21:22:01.198Z"
   },
   {
    "duration": 13,
    "start_time": "2024-07-06T21:22:01.584Z"
   },
   {
    "duration": 71,
    "start_time": "2024-07-06T21:22:01.599Z"
   },
   {
    "duration": 116,
    "start_time": "2024-07-06T21:22:01.673Z"
   },
   {
    "duration": 25,
    "start_time": "2024-07-06T21:22:01.791Z"
   },
   {
    "duration": 56,
    "start_time": "2024-07-06T21:22:01.819Z"
   },
   {
    "duration": 44,
    "start_time": "2024-07-06T21:22:01.877Z"
   },
   {
    "duration": 37,
    "start_time": "2024-07-06T21:22:01.923Z"
   },
   {
    "duration": 272,
    "start_time": "2024-07-06T21:22:01.963Z"
   },
   {
    "duration": 303,
    "start_time": "2024-07-06T21:22:02.242Z"
   },
   {
    "duration": 321,
    "start_time": "2024-07-06T21:22:02.548Z"
   },
   {
    "duration": 292,
    "start_time": "2024-07-06T21:22:02.872Z"
   },
   {
    "duration": 163,
    "start_time": "2024-07-06T21:22:03.170Z"
   },
   {
    "duration": 552,
    "start_time": "2024-07-06T21:22:03.337Z"
   },
   {
    "duration": 16,
    "start_time": "2024-07-06T21:22:03.891Z"
   },
   {
    "duration": 39,
    "start_time": "2024-07-06T21:22:03.908Z"
   },
   {
    "duration": 3227,
    "start_time": "2024-07-06T21:22:03.950Z"
   },
   {
    "duration": 26,
    "start_time": "2024-07-06T21:22:07.179Z"
   },
   {
    "duration": 348,
    "start_time": "2024-07-06T21:22:07.207Z"
   },
   {
    "duration": 282,
    "start_time": "2024-07-06T21:22:07.558Z"
   },
   {
    "duration": 17,
    "start_time": "2024-07-06T21:22:07.843Z"
   },
   {
    "duration": 32,
    "start_time": "2024-07-06T21:22:07.863Z"
   },
   {
    "duration": 17,
    "start_time": "2024-07-06T21:22:07.897Z"
   },
   {
    "duration": 9,
    "start_time": "2024-07-06T21:22:07.915Z"
   },
   {
    "duration": 12,
    "start_time": "2024-07-06T21:22:07.926Z"
   },
   {
    "duration": 33,
    "start_time": "2024-07-06T21:22:07.941Z"
   },
   {
    "duration": 1094,
    "start_time": "2024-07-06T21:22:07.976Z"
   },
   {
    "duration": 0,
    "start_time": "2024-07-06T21:22:09.072Z"
   },
   {
    "duration": 0,
    "start_time": "2024-07-06T21:22:09.073Z"
   },
   {
    "duration": 0,
    "start_time": "2024-07-06T21:22:09.074Z"
   },
   {
    "duration": 0,
    "start_time": "2024-07-06T21:22:09.075Z"
   },
   {
    "duration": 0,
    "start_time": "2024-07-06T21:22:09.076Z"
   },
   {
    "duration": 0,
    "start_time": "2024-07-06T21:22:09.077Z"
   },
   {
    "duration": 278,
    "start_time": "2024-07-06T21:22:39.931Z"
   },
   {
    "duration": 30,
    "start_time": "2024-07-06T21:23:14.754Z"
   },
   {
    "duration": 23,
    "start_time": "2024-07-06T21:23:56.066Z"
   },
   {
    "duration": 14,
    "start_time": "2024-07-06T21:24:02.467Z"
   },
   {
    "duration": 1181,
    "start_time": "2024-07-07T10:43:16.931Z"
   },
   {
    "duration": 307,
    "start_time": "2024-07-07T10:43:18.114Z"
   },
   {
    "duration": 16,
    "start_time": "2024-07-07T10:43:18.423Z"
   },
   {
    "duration": 9,
    "start_time": "2024-07-07T10:43:18.441Z"
   },
   {
    "duration": 15,
    "start_time": "2024-07-07T10:43:18.452Z"
   },
   {
    "duration": 11,
    "start_time": "2024-07-07T10:43:18.468Z"
   },
   {
    "duration": 12,
    "start_time": "2024-07-07T10:43:18.480Z"
   },
   {
    "duration": 9,
    "start_time": "2024-07-07T10:43:18.493Z"
   },
   {
    "duration": 10,
    "start_time": "2024-07-07T10:43:18.504Z"
   },
   {
    "duration": 9,
    "start_time": "2024-07-07T10:43:18.517Z"
   },
   {
    "duration": 43,
    "start_time": "2024-07-07T10:43:18.528Z"
   },
   {
    "duration": 5,
    "start_time": "2024-07-07T10:43:18.573Z"
   },
   {
    "duration": 11,
    "start_time": "2024-07-07T10:43:18.580Z"
   },
   {
    "duration": 10,
    "start_time": "2024-07-07T10:43:18.593Z"
   },
   {
    "duration": 23,
    "start_time": "2024-07-07T10:43:18.605Z"
   },
   {
    "duration": 23,
    "start_time": "2024-07-07T10:43:18.630Z"
   },
   {
    "duration": 35,
    "start_time": "2024-07-07T10:43:18.654Z"
   },
   {
    "duration": 7,
    "start_time": "2024-07-07T10:43:18.690Z"
   },
   {
    "duration": 5,
    "start_time": "2024-07-07T10:43:18.699Z"
   },
   {
    "duration": 9,
    "start_time": "2024-07-07T10:43:18.705Z"
   },
   {
    "duration": 16,
    "start_time": "2024-07-07T10:43:18.716Z"
   },
   {
    "duration": 8,
    "start_time": "2024-07-07T10:43:18.734Z"
   },
   {
    "duration": 184,
    "start_time": "2024-07-07T10:43:18.744Z"
   },
   {
    "duration": 11,
    "start_time": "2024-07-07T10:43:18.929Z"
   },
   {
    "duration": 162,
    "start_time": "2024-07-07T10:43:18.942Z"
   },
   {
    "duration": 18,
    "start_time": "2024-07-07T10:43:19.106Z"
   },
   {
    "duration": 263,
    "start_time": "2024-07-07T10:43:19.126Z"
   },
   {
    "duration": 13,
    "start_time": "2024-07-07T10:43:19.394Z"
   },
   {
    "duration": 13,
    "start_time": "2024-07-07T10:43:19.408Z"
   },
   {
    "duration": 146,
    "start_time": "2024-07-07T10:43:19.423Z"
   },
   {
    "duration": 14,
    "start_time": "2024-07-07T10:43:19.575Z"
   },
   {
    "duration": 222,
    "start_time": "2024-07-07T10:43:19.590Z"
   },
   {
    "duration": 7,
    "start_time": "2024-07-07T10:43:19.813Z"
   },
   {
    "duration": 216,
    "start_time": "2024-07-07T10:43:19.821Z"
   },
   {
    "duration": 245,
    "start_time": "2024-07-07T10:43:20.038Z"
   },
   {
    "duration": 12,
    "start_time": "2024-07-07T10:43:20.285Z"
   },
   {
    "duration": 11,
    "start_time": "2024-07-07T10:43:20.299Z"
   },
   {
    "duration": 42,
    "start_time": "2024-07-07T10:43:20.312Z"
   },
   {
    "duration": 15,
    "start_time": "2024-07-07T10:43:20.356Z"
   },
   {
    "duration": 22,
    "start_time": "2024-07-07T10:43:20.372Z"
   },
   {
    "duration": 15,
    "start_time": "2024-07-07T10:43:20.395Z"
   },
   {
    "duration": 19,
    "start_time": "2024-07-07T10:43:20.412Z"
   },
   {
    "duration": 229,
    "start_time": "2024-07-07T10:43:20.433Z"
   },
   {
    "duration": 267,
    "start_time": "2024-07-07T10:43:20.664Z"
   },
   {
    "duration": 252,
    "start_time": "2024-07-07T10:43:20.933Z"
   },
   {
    "duration": 405,
    "start_time": "2024-07-07T10:43:21.187Z"
   },
   {
    "duration": 149,
    "start_time": "2024-07-07T10:43:21.594Z"
   },
   {
    "duration": 375,
    "start_time": "2024-07-07T10:43:21.744Z"
   },
   {
    "duration": 14,
    "start_time": "2024-07-07T10:43:22.121Z"
   },
   {
    "duration": 30,
    "start_time": "2024-07-07T10:43:22.136Z"
   },
   {
    "duration": 2681,
    "start_time": "2024-07-07T10:43:22.167Z"
   },
   {
    "duration": 26,
    "start_time": "2024-07-07T10:43:24.849Z"
   },
   {
    "duration": 25,
    "start_time": "2024-07-07T10:43:24.877Z"
   },
   {
    "duration": 19,
    "start_time": "2024-07-07T10:43:24.903Z"
   },
   {
    "duration": 10,
    "start_time": "2024-07-07T10:43:24.924Z"
   },
   {
    "duration": 5,
    "start_time": "2024-07-07T10:43:24.935Z"
   },
   {
    "duration": 5,
    "start_time": "2024-07-07T10:43:24.942Z"
   },
   {
    "duration": 12,
    "start_time": "2024-07-07T10:43:24.971Z"
   },
   {
    "duration": 13,
    "start_time": "2024-07-07T10:43:24.984Z"
   },
   {
    "duration": 16,
    "start_time": "2024-07-07T10:43:24.998Z"
   },
   {
    "duration": 958,
    "start_time": "2024-07-07T10:43:25.016Z"
   },
   {
    "duration": 0,
    "start_time": "2024-07-07T10:43:25.979Z"
   },
   {
    "duration": 0,
    "start_time": "2024-07-07T10:43:25.983Z"
   },
   {
    "duration": 0,
    "start_time": "2024-07-07T10:43:25.985Z"
   },
   {
    "duration": 0,
    "start_time": "2024-07-07T10:43:25.986Z"
   },
   {
    "duration": 0,
    "start_time": "2024-07-07T10:43:25.988Z"
   },
   {
    "duration": 0,
    "start_time": "2024-07-07T10:43:25.989Z"
   },
   {
    "duration": 32,
    "start_time": "2024-07-07T10:43:52.959Z"
   },
   {
    "duration": 7,
    "start_time": "2024-07-07T10:48:19.031Z"
   },
   {
    "duration": 14,
    "start_time": "2024-07-07T10:48:34.798Z"
   },
   {
    "duration": 15,
    "start_time": "2024-07-07T10:48:46.430Z"
   },
   {
    "duration": 17,
    "start_time": "2024-07-07T10:49:04.062Z"
   },
   {
    "duration": 34,
    "start_time": "2024-07-07T10:50:43.373Z"
   },
   {
    "duration": 1155,
    "start_time": "2024-07-07T10:51:03.548Z"
   },
   {
    "duration": 74,
    "start_time": "2024-07-07T10:51:04.706Z"
   },
   {
    "duration": 17,
    "start_time": "2024-07-07T10:51:04.781Z"
   },
   {
    "duration": 10,
    "start_time": "2024-07-07T10:51:04.800Z"
   },
   {
    "duration": 6,
    "start_time": "2024-07-07T10:51:04.812Z"
   },
   {
    "duration": 14,
    "start_time": "2024-07-07T10:51:04.820Z"
   },
   {
    "duration": 37,
    "start_time": "2024-07-07T10:51:04.836Z"
   },
   {
    "duration": 15,
    "start_time": "2024-07-07T10:51:04.876Z"
   },
   {
    "duration": 17,
    "start_time": "2024-07-07T10:51:04.893Z"
   },
   {
    "duration": 12,
    "start_time": "2024-07-07T10:51:04.913Z"
   },
   {
    "duration": 10,
    "start_time": "2024-07-07T10:51:04.926Z"
   },
   {
    "duration": 5,
    "start_time": "2024-07-07T10:51:04.971Z"
   },
   {
    "duration": 6,
    "start_time": "2024-07-07T10:51:04.977Z"
   },
   {
    "duration": 6,
    "start_time": "2024-07-07T10:51:04.984Z"
   },
   {
    "duration": 8,
    "start_time": "2024-07-07T10:51:04.991Z"
   },
   {
    "duration": 6,
    "start_time": "2024-07-07T10:51:05.000Z"
   },
   {
    "duration": 10,
    "start_time": "2024-07-07T10:51:05.007Z"
   },
   {
    "duration": 6,
    "start_time": "2024-07-07T10:51:05.018Z"
   },
   {
    "duration": 9,
    "start_time": "2024-07-07T10:51:05.025Z"
   },
   {
    "duration": 43,
    "start_time": "2024-07-07T10:51:05.035Z"
   },
   {
    "duration": 18,
    "start_time": "2024-07-07T10:51:05.080Z"
   },
   {
    "duration": 9,
    "start_time": "2024-07-07T10:51:05.099Z"
   },
   {
    "duration": 167,
    "start_time": "2024-07-07T10:51:05.109Z"
   },
   {
    "duration": 15,
    "start_time": "2024-07-07T10:51:05.277Z"
   },
   {
    "duration": 156,
    "start_time": "2024-07-07T10:51:05.293Z"
   },
   {
    "duration": 24,
    "start_time": "2024-07-07T10:51:05.451Z"
   },
   {
    "duration": 322,
    "start_time": "2024-07-07T10:51:05.477Z"
   },
   {
    "duration": 18,
    "start_time": "2024-07-07T10:51:05.804Z"
   },
   {
    "duration": 14,
    "start_time": "2024-07-07T10:51:05.824Z"
   },
   {
    "duration": 220,
    "start_time": "2024-07-07T10:51:05.840Z"
   },
   {
    "duration": 12,
    "start_time": "2024-07-07T10:51:06.062Z"
   },
   {
    "duration": 243,
    "start_time": "2024-07-07T10:51:06.076Z"
   },
   {
    "duration": 8,
    "start_time": "2024-07-07T10:51:06.321Z"
   },
   {
    "duration": 219,
    "start_time": "2024-07-07T10:51:06.331Z"
   },
   {
    "duration": 246,
    "start_time": "2024-07-07T10:51:06.552Z"
   },
   {
    "duration": 10,
    "start_time": "2024-07-07T10:51:06.799Z"
   },
   {
    "duration": 9,
    "start_time": "2024-07-07T10:51:06.810Z"
   },
   {
    "duration": 22,
    "start_time": "2024-07-07T10:51:06.820Z"
   },
   {
    "duration": 39,
    "start_time": "2024-07-07T10:51:06.843Z"
   },
   {
    "duration": 12,
    "start_time": "2024-07-07T10:51:06.886Z"
   },
   {
    "duration": 15,
    "start_time": "2024-07-07T10:51:06.899Z"
   },
   {
    "duration": 14,
    "start_time": "2024-07-07T10:51:06.915Z"
   },
   {
    "duration": 232,
    "start_time": "2024-07-07T10:51:06.930Z"
   },
   {
    "duration": 207,
    "start_time": "2024-07-07T10:51:07.164Z"
   },
   {
    "duration": 225,
    "start_time": "2024-07-07T10:51:07.373Z"
   },
   {
    "duration": 255,
    "start_time": "2024-07-07T10:51:07.599Z"
   },
   {
    "duration": 140,
    "start_time": "2024-07-07T10:51:07.856Z"
   },
   {
    "duration": 379,
    "start_time": "2024-07-07T10:51:07.998Z"
   },
   {
    "duration": 24,
    "start_time": "2024-07-07T10:51:08.378Z"
   },
   {
    "duration": 21,
    "start_time": "2024-07-07T10:51:08.404Z"
   },
   {
    "duration": 23,
    "start_time": "2024-07-07T10:51:08.426Z"
   },
   {
    "duration": 152,
    "start_time": "2024-07-07T10:51:08.450Z"
   },
   {
    "duration": 125,
    "start_time": "2024-07-07T10:51:08.604Z"
   },
   {
    "duration": 145,
    "start_time": "2024-07-07T10:51:08.731Z"
   },
   {
    "duration": 17,
    "start_time": "2024-07-07T10:51:08.877Z"
   },
   {
    "duration": 5,
    "start_time": "2024-07-07T10:51:08.895Z"
   },
   {
    "duration": 4,
    "start_time": "2024-07-07T10:51:08.902Z"
   },
   {
    "duration": 13,
    "start_time": "2024-07-07T10:51:08.907Z"
   },
   {
    "duration": 11,
    "start_time": "2024-07-07T10:51:08.922Z"
   },
   {
    "duration": 46,
    "start_time": "2024-07-07T10:51:08.934Z"
   },
   {
    "duration": 947,
    "start_time": "2024-07-07T10:51:08.981Z"
   },
   {
    "duration": 0,
    "start_time": "2024-07-07T10:51:09.930Z"
   },
   {
    "duration": 0,
    "start_time": "2024-07-07T10:51:09.931Z"
   },
   {
    "duration": 0,
    "start_time": "2024-07-07T10:51:09.932Z"
   },
   {
    "duration": 0,
    "start_time": "2024-07-07T10:51:09.934Z"
   },
   {
    "duration": 0,
    "start_time": "2024-07-07T10:51:09.935Z"
   },
   {
    "duration": 0,
    "start_time": "2024-07-07T10:51:09.936Z"
   },
   {
    "duration": 46,
    "start_time": "2024-07-07T10:52:40.276Z"
   },
   {
    "duration": 988,
    "start_time": "2024-07-07T10:52:50.405Z"
   },
   {
    "duration": 77,
    "start_time": "2024-07-07T10:52:51.395Z"
   },
   {
    "duration": 14,
    "start_time": "2024-07-07T10:52:51.473Z"
   },
   {
    "duration": 68,
    "start_time": "2024-07-07T10:52:51.489Z"
   },
   {
    "duration": 10,
    "start_time": "2024-07-07T10:52:51.558Z"
   },
   {
    "duration": 11,
    "start_time": "2024-07-07T10:52:51.569Z"
   },
   {
    "duration": 24,
    "start_time": "2024-07-07T10:52:51.581Z"
   },
   {
    "duration": 9,
    "start_time": "2024-07-07T10:52:51.607Z"
   },
   {
    "duration": 34,
    "start_time": "2024-07-07T10:52:51.618Z"
   },
   {
    "duration": 16,
    "start_time": "2024-07-07T10:52:51.655Z"
   },
   {
    "duration": 8,
    "start_time": "2024-07-07T10:52:51.672Z"
   },
   {
    "duration": 88,
    "start_time": "2024-07-07T10:52:51.682Z"
   },
   {
    "duration": 7,
    "start_time": "2024-07-07T10:52:51.772Z"
   },
   {
    "duration": 5,
    "start_time": "2024-07-07T10:52:51.780Z"
   },
   {
    "duration": 9,
    "start_time": "2024-07-07T10:52:51.787Z"
   },
   {
    "duration": 5,
    "start_time": "2024-07-07T10:52:51.798Z"
   },
   {
    "duration": 10,
    "start_time": "2024-07-07T10:52:51.804Z"
   },
   {
    "duration": 16,
    "start_time": "2024-07-07T10:52:51.816Z"
   },
   {
    "duration": 25,
    "start_time": "2024-07-07T10:52:51.833Z"
   },
   {
    "duration": 11,
    "start_time": "2024-07-07T10:52:51.859Z"
   },
   {
    "duration": 12,
    "start_time": "2024-07-07T10:52:51.872Z"
   },
   {
    "duration": 17,
    "start_time": "2024-07-07T10:52:51.886Z"
   },
   {
    "duration": 159,
    "start_time": "2024-07-07T10:52:51.905Z"
   },
   {
    "duration": 10,
    "start_time": "2024-07-07T10:52:52.066Z"
   },
   {
    "duration": 132,
    "start_time": "2024-07-07T10:52:52.078Z"
   },
   {
    "duration": 12,
    "start_time": "2024-07-07T10:52:52.212Z"
   },
   {
    "duration": 223,
    "start_time": "2024-07-07T10:52:52.225Z"
   },
   {
    "duration": 13,
    "start_time": "2024-07-07T10:52:52.452Z"
   },
   {
    "duration": 11,
    "start_time": "2024-07-07T10:52:52.471Z"
   },
   {
    "duration": 145,
    "start_time": "2024-07-07T10:52:52.483Z"
   },
   {
    "duration": 6,
    "start_time": "2024-07-07T10:52:52.630Z"
   },
   {
    "duration": 206,
    "start_time": "2024-07-07T10:52:52.637Z"
   },
   {
    "duration": 6,
    "start_time": "2024-07-07T10:52:52.845Z"
   },
   {
    "duration": 233,
    "start_time": "2024-07-07T10:52:52.852Z"
   },
   {
    "duration": 236,
    "start_time": "2024-07-07T10:52:53.087Z"
   },
   {
    "duration": 13,
    "start_time": "2024-07-07T10:52:53.324Z"
   },
   {
    "duration": 8,
    "start_time": "2024-07-07T10:52:53.338Z"
   },
   {
    "duration": 42,
    "start_time": "2024-07-07T10:52:53.348Z"
   },
   {
    "duration": 12,
    "start_time": "2024-07-07T10:52:53.391Z"
   },
   {
    "duration": 12,
    "start_time": "2024-07-07T10:52:53.405Z"
   },
   {
    "duration": 15,
    "start_time": "2024-07-07T10:52:53.418Z"
   },
   {
    "duration": 37,
    "start_time": "2024-07-07T10:52:53.435Z"
   },
   {
    "duration": 208,
    "start_time": "2024-07-07T10:52:53.474Z"
   },
   {
    "duration": 190,
    "start_time": "2024-07-07T10:52:53.683Z"
   },
   {
    "duration": 205,
    "start_time": "2024-07-07T10:52:53.874Z"
   },
   {
    "duration": 213,
    "start_time": "2024-07-07T10:52:54.081Z"
   },
   {
    "duration": 136,
    "start_time": "2024-07-07T10:52:54.295Z"
   },
   {
    "duration": 381,
    "start_time": "2024-07-07T10:52:54.432Z"
   },
   {
    "duration": 14,
    "start_time": "2024-07-07T10:52:54.814Z"
   },
   {
    "duration": 15,
    "start_time": "2024-07-07T10:52:54.829Z"
   },
   {
    "duration": 29,
    "start_time": "2024-07-07T10:52:54.844Z"
   },
   {
    "duration": 106,
    "start_time": "2024-07-07T10:52:54.875Z"
   },
   {
    "duration": 1,
    "start_time": "2024-07-07T10:52:54.982Z"
   },
   {
    "duration": 0,
    "start_time": "2024-07-07T10:52:54.984Z"
   },
   {
    "duration": 0,
    "start_time": "2024-07-07T10:52:54.985Z"
   },
   {
    "duration": 0,
    "start_time": "2024-07-07T10:52:54.985Z"
   },
   {
    "duration": 0,
    "start_time": "2024-07-07T10:52:54.986Z"
   },
   {
    "duration": 0,
    "start_time": "2024-07-07T10:52:54.988Z"
   },
   {
    "duration": 0,
    "start_time": "2024-07-07T10:52:54.988Z"
   },
   {
    "duration": 0,
    "start_time": "2024-07-07T10:52:54.989Z"
   },
   {
    "duration": 0,
    "start_time": "2024-07-07T10:52:54.990Z"
   },
   {
    "duration": 0,
    "start_time": "2024-07-07T10:52:54.991Z"
   },
   {
    "duration": 0,
    "start_time": "2024-07-07T10:52:54.992Z"
   },
   {
    "duration": 0,
    "start_time": "2024-07-07T10:52:54.992Z"
   },
   {
    "duration": 0,
    "start_time": "2024-07-07T10:52:54.993Z"
   },
   {
    "duration": 0,
    "start_time": "2024-07-07T10:52:54.994Z"
   },
   {
    "duration": 0,
    "start_time": "2024-07-07T10:52:54.994Z"
   },
   {
    "duration": 9,
    "start_time": "2024-07-07T10:53:46.021Z"
   },
   {
    "duration": 17,
    "start_time": "2024-07-07T10:54:43.413Z"
   },
   {
    "duration": 15,
    "start_time": "2024-07-07T10:56:15.221Z"
   },
   {
    "duration": 13,
    "start_time": "2024-07-07T10:56:39.012Z"
   },
   {
    "duration": 14,
    "start_time": "2024-07-07T10:57:05.948Z"
   },
   {
    "duration": 1057,
    "start_time": "2024-07-07T10:57:48.346Z"
   },
   {
    "duration": 64,
    "start_time": "2024-07-07T10:57:49.404Z"
   },
   {
    "duration": 11,
    "start_time": "2024-07-07T10:57:49.470Z"
   },
   {
    "duration": 7,
    "start_time": "2024-07-07T10:57:49.483Z"
   },
   {
    "duration": 6,
    "start_time": "2024-07-07T10:57:49.491Z"
   },
   {
    "duration": 9,
    "start_time": "2024-07-07T10:57:49.498Z"
   },
   {
    "duration": 9,
    "start_time": "2024-07-07T10:57:49.508Z"
   },
   {
    "duration": 8,
    "start_time": "2024-07-07T10:57:49.518Z"
   },
   {
    "duration": 54,
    "start_time": "2024-07-07T10:57:49.527Z"
   },
   {
    "duration": 10,
    "start_time": "2024-07-07T10:57:49.583Z"
   },
   {
    "duration": 10,
    "start_time": "2024-07-07T10:57:49.594Z"
   },
   {
    "duration": 4,
    "start_time": "2024-07-07T10:57:49.605Z"
   },
   {
    "duration": 6,
    "start_time": "2024-07-07T10:57:49.610Z"
   },
   {
    "duration": 5,
    "start_time": "2024-07-07T10:57:49.619Z"
   },
   {
    "duration": 6,
    "start_time": "2024-07-07T10:57:49.625Z"
   },
   {
    "duration": 6,
    "start_time": "2024-07-07T10:57:49.671Z"
   },
   {
    "duration": 9,
    "start_time": "2024-07-07T10:57:49.678Z"
   },
   {
    "duration": 7,
    "start_time": "2024-07-07T10:57:49.688Z"
   },
   {
    "duration": 4,
    "start_time": "2024-07-07T10:57:49.696Z"
   },
   {
    "duration": 34,
    "start_time": "2024-07-07T10:57:49.702Z"
   },
   {
    "duration": 37,
    "start_time": "2024-07-07T10:57:49.737Z"
   },
   {
    "duration": 9,
    "start_time": "2024-07-07T10:57:49.775Z"
   },
   {
    "duration": 169,
    "start_time": "2024-07-07T10:57:49.785Z"
   },
   {
    "duration": 11,
    "start_time": "2024-07-07T10:57:49.955Z"
   },
   {
    "duration": 142,
    "start_time": "2024-07-07T10:57:49.967Z"
   },
   {
    "duration": 12,
    "start_time": "2024-07-07T10:57:50.110Z"
   },
   {
    "duration": 224,
    "start_time": "2024-07-07T10:57:50.124Z"
   },
   {
    "duration": 20,
    "start_time": "2024-07-07T10:57:50.351Z"
   },
   {
    "duration": 17,
    "start_time": "2024-07-07T10:57:50.372Z"
   },
   {
    "duration": 171,
    "start_time": "2024-07-07T10:57:50.390Z"
   },
   {
    "duration": 15,
    "start_time": "2024-07-07T10:57:50.563Z"
   },
   {
    "duration": 225,
    "start_time": "2024-07-07T10:57:50.579Z"
   },
   {
    "duration": 8,
    "start_time": "2024-07-07T10:57:50.806Z"
   },
   {
    "duration": 255,
    "start_time": "2024-07-07T10:57:50.816Z"
   },
   {
    "duration": 238,
    "start_time": "2024-07-07T10:57:51.072Z"
   },
   {
    "duration": 10,
    "start_time": "2024-07-07T10:57:51.311Z"
   },
   {
    "duration": 11,
    "start_time": "2024-07-07T10:57:51.322Z"
   },
   {
    "duration": 40,
    "start_time": "2024-07-07T10:57:51.335Z"
   },
   {
    "duration": 14,
    "start_time": "2024-07-07T10:57:51.376Z"
   },
   {
    "duration": 16,
    "start_time": "2024-07-07T10:57:51.392Z"
   },
   {
    "duration": 17,
    "start_time": "2024-07-07T10:57:51.409Z"
   },
   {
    "duration": 44,
    "start_time": "2024-07-07T10:57:51.428Z"
   },
   {
    "duration": 226,
    "start_time": "2024-07-07T10:57:51.473Z"
   },
   {
    "duration": 193,
    "start_time": "2024-07-07T10:57:51.701Z"
   },
   {
    "duration": 213,
    "start_time": "2024-07-07T10:57:51.895Z"
   },
   {
    "duration": 227,
    "start_time": "2024-07-07T10:57:52.109Z"
   },
   {
    "duration": 161,
    "start_time": "2024-07-07T10:57:52.338Z"
   },
   {
    "duration": 388,
    "start_time": "2024-07-07T10:57:52.500Z"
   },
   {
    "duration": 19,
    "start_time": "2024-07-07T10:57:52.890Z"
   },
   {
    "duration": 18,
    "start_time": "2024-07-07T10:57:52.910Z"
   },
   {
    "duration": 14,
    "start_time": "2024-07-07T10:57:52.929Z"
   },
   {
    "duration": 45,
    "start_time": "2024-07-07T10:57:52.944Z"
   },
   {
    "duration": 22,
    "start_time": "2024-07-07T10:57:52.990Z"
   },
   {
    "duration": 22,
    "start_time": "2024-07-07T10:57:53.013Z"
   },
   {
    "duration": 36,
    "start_time": "2024-07-07T10:57:53.036Z"
   },
   {
    "duration": 6,
    "start_time": "2024-07-07T10:57:53.075Z"
   },
   {
    "duration": 5,
    "start_time": "2024-07-07T10:57:53.082Z"
   },
   {
    "duration": 15,
    "start_time": "2024-07-07T10:57:53.089Z"
   },
   {
    "duration": 15,
    "start_time": "2024-07-07T10:57:53.105Z"
   },
   {
    "duration": 53,
    "start_time": "2024-07-07T10:57:53.122Z"
   },
   {
    "duration": 979,
    "start_time": "2024-07-07T10:57:53.177Z"
   },
   {
    "duration": 0,
    "start_time": "2024-07-07T10:57:54.157Z"
   },
   {
    "duration": 0,
    "start_time": "2024-07-07T10:57:54.158Z"
   },
   {
    "duration": 0,
    "start_time": "2024-07-07T10:57:54.159Z"
   },
   {
    "duration": 0,
    "start_time": "2024-07-07T10:57:54.160Z"
   },
   {
    "duration": 0,
    "start_time": "2024-07-07T10:57:54.161Z"
   },
   {
    "duration": 0,
    "start_time": "2024-07-07T10:57:54.162Z"
   },
   {
    "duration": 12,
    "start_time": "2024-07-07T11:00:35.980Z"
   },
   {
    "duration": 14,
    "start_time": "2024-07-07T11:00:56.787Z"
   },
   {
    "duration": 23,
    "start_time": "2024-07-07T11:02:29.132Z"
   },
   {
    "duration": 16,
    "start_time": "2024-07-07T11:02:40.100Z"
   },
   {
    "duration": 15,
    "start_time": "2024-07-07T11:02:50.155Z"
   },
   {
    "duration": 27,
    "start_time": "2024-07-07T11:07:16.802Z"
   },
   {
    "duration": 1013,
    "start_time": "2024-07-07T11:07:38.458Z"
   },
   {
    "duration": 74,
    "start_time": "2024-07-07T11:07:39.473Z"
   },
   {
    "duration": 15,
    "start_time": "2024-07-07T11:07:39.549Z"
   },
   {
    "duration": 25,
    "start_time": "2024-07-07T11:07:39.566Z"
   },
   {
    "duration": 13,
    "start_time": "2024-07-07T11:07:39.593Z"
   },
   {
    "duration": 10,
    "start_time": "2024-07-07T11:07:39.607Z"
   },
   {
    "duration": 8,
    "start_time": "2024-07-07T11:07:39.619Z"
   },
   {
    "duration": 18,
    "start_time": "2024-07-07T11:07:39.628Z"
   },
   {
    "duration": 16,
    "start_time": "2024-07-07T11:07:39.647Z"
   },
   {
    "duration": 8,
    "start_time": "2024-07-07T11:07:39.665Z"
   },
   {
    "duration": 21,
    "start_time": "2024-07-07T11:07:39.674Z"
   },
   {
    "duration": 4,
    "start_time": "2024-07-07T11:07:39.696Z"
   },
   {
    "duration": 15,
    "start_time": "2024-07-07T11:07:39.702Z"
   },
   {
    "duration": 76,
    "start_time": "2024-07-07T11:07:39.718Z"
   },
   {
    "duration": 24,
    "start_time": "2024-07-07T11:07:39.795Z"
   },
   {
    "duration": 5,
    "start_time": "2024-07-07T11:07:39.821Z"
   },
   {
    "duration": 51,
    "start_time": "2024-07-07T11:07:39.828Z"
   },
   {
    "duration": 6,
    "start_time": "2024-07-07T11:07:39.881Z"
   },
   {
    "duration": 11,
    "start_time": "2024-07-07T11:07:39.888Z"
   },
   {
    "duration": 22,
    "start_time": "2024-07-07T11:07:39.900Z"
   },
   {
    "duration": 28,
    "start_time": "2024-07-07T11:07:39.923Z"
   },
   {
    "duration": 14,
    "start_time": "2024-07-07T11:07:39.952Z"
   },
   {
    "duration": 162,
    "start_time": "2024-07-07T11:07:39.968Z"
   },
   {
    "duration": 10,
    "start_time": "2024-07-07T11:07:40.132Z"
   },
   {
    "duration": 150,
    "start_time": "2024-07-07T11:07:40.143Z"
   },
   {
    "duration": 15,
    "start_time": "2024-07-07T11:07:40.295Z"
   },
   {
    "duration": 216,
    "start_time": "2024-07-07T11:07:40.311Z"
   },
   {
    "duration": 13,
    "start_time": "2024-07-07T11:07:40.531Z"
   },
   {
    "duration": 28,
    "start_time": "2024-07-07T11:07:40.546Z"
   },
   {
    "duration": 158,
    "start_time": "2024-07-07T11:07:40.576Z"
   },
   {
    "duration": 8,
    "start_time": "2024-07-07T11:07:40.736Z"
   },
   {
    "duration": 219,
    "start_time": "2024-07-07T11:07:40.746Z"
   },
   {
    "duration": 11,
    "start_time": "2024-07-07T11:07:40.966Z"
   },
   {
    "duration": 207,
    "start_time": "2024-07-07T11:07:40.978Z"
   },
   {
    "duration": 237,
    "start_time": "2024-07-07T11:07:41.186Z"
   },
   {
    "duration": 10,
    "start_time": "2024-07-07T11:07:41.425Z"
   },
   {
    "duration": 8,
    "start_time": "2024-07-07T11:07:41.436Z"
   },
   {
    "duration": 40,
    "start_time": "2024-07-07T11:07:41.446Z"
   },
   {
    "duration": 11,
    "start_time": "2024-07-07T11:07:41.487Z"
   },
   {
    "duration": 13,
    "start_time": "2024-07-07T11:07:41.499Z"
   },
   {
    "duration": 15,
    "start_time": "2024-07-07T11:07:41.513Z"
   },
   {
    "duration": 13,
    "start_time": "2024-07-07T11:07:41.529Z"
   },
   {
    "duration": 253,
    "start_time": "2024-07-07T11:07:41.543Z"
   },
   {
    "duration": 209,
    "start_time": "2024-07-07T11:07:41.797Z"
   },
   {
    "duration": 220,
    "start_time": "2024-07-07T11:07:42.008Z"
   },
   {
    "duration": 223,
    "start_time": "2024-07-07T11:07:42.230Z"
   },
   {
    "duration": 137,
    "start_time": "2024-07-07T11:07:42.455Z"
   },
   {
    "duration": 370,
    "start_time": "2024-07-07T11:07:42.594Z"
   },
   {
    "duration": 16,
    "start_time": "2024-07-07T11:07:42.965Z"
   },
   {
    "duration": 16,
    "start_time": "2024-07-07T11:07:42.982Z"
   },
   {
    "duration": 13,
    "start_time": "2024-07-07T11:07:43.000Z"
   },
   {
    "duration": 22,
    "start_time": "2024-07-07T11:07:43.015Z"
   },
   {
    "duration": 47,
    "start_time": "2024-07-07T11:07:43.039Z"
   },
   {
    "duration": 25,
    "start_time": "2024-07-07T11:07:43.088Z"
   },
   {
    "duration": 14,
    "start_time": "2024-07-07T11:07:43.114Z"
   },
   {
    "duration": 5,
    "start_time": "2024-07-07T11:07:43.129Z"
   },
   {
    "duration": 7,
    "start_time": "2024-07-07T11:07:43.135Z"
   },
   {
    "duration": 42,
    "start_time": "2024-07-07T11:07:43.143Z"
   },
   {
    "duration": 14,
    "start_time": "2024-07-07T11:07:43.187Z"
   },
   {
    "duration": 918,
    "start_time": "2024-07-07T11:07:43.203Z"
   },
   {
    "duration": 0,
    "start_time": "2024-07-07T11:07:44.123Z"
   },
   {
    "duration": 0,
    "start_time": "2024-07-07T11:07:44.123Z"
   },
   {
    "duration": 0,
    "start_time": "2024-07-07T11:07:44.124Z"
   },
   {
    "duration": 0,
    "start_time": "2024-07-07T11:07:44.125Z"
   },
   {
    "duration": 0,
    "start_time": "2024-07-07T11:07:44.126Z"
   },
   {
    "duration": 0,
    "start_time": "2024-07-07T11:07:44.127Z"
   },
   {
    "duration": 0,
    "start_time": "2024-07-07T11:07:44.128Z"
   },
   {
    "duration": 0,
    "start_time": "2024-07-07T11:07:44.129Z"
   },
   {
    "duration": 13,
    "start_time": "2024-07-07T11:08:09.923Z"
   },
   {
    "duration": 12,
    "start_time": "2024-07-07T11:08:31.013Z"
   },
   {
    "duration": 1005,
    "start_time": "2024-07-07T11:08:42.783Z"
   },
   {
    "duration": 64,
    "start_time": "2024-07-07T11:08:43.790Z"
   },
   {
    "duration": 11,
    "start_time": "2024-07-07T11:08:43.856Z"
   },
   {
    "duration": 28,
    "start_time": "2024-07-07T11:08:43.868Z"
   },
   {
    "duration": 9,
    "start_time": "2024-07-07T11:08:43.897Z"
   },
   {
    "duration": 13,
    "start_time": "2024-07-07T11:08:43.908Z"
   },
   {
    "duration": 9,
    "start_time": "2024-07-07T11:08:43.923Z"
   },
   {
    "duration": 12,
    "start_time": "2024-07-07T11:08:43.933Z"
   },
   {
    "duration": 14,
    "start_time": "2024-07-07T11:08:43.946Z"
   },
   {
    "duration": 18,
    "start_time": "2024-07-07T11:08:43.962Z"
   },
   {
    "duration": 12,
    "start_time": "2024-07-07T11:08:43.983Z"
   },
   {
    "duration": 3,
    "start_time": "2024-07-07T11:08:43.997Z"
   },
   {
    "duration": 8,
    "start_time": "2024-07-07T11:08:44.001Z"
   },
   {
    "duration": 13,
    "start_time": "2024-07-07T11:08:44.010Z"
   },
   {
    "duration": 7,
    "start_time": "2024-07-07T11:08:44.024Z"
   },
   {
    "duration": 5,
    "start_time": "2024-07-07T11:08:44.032Z"
   },
   {
    "duration": 29,
    "start_time": "2024-07-07T11:08:44.039Z"
   },
   {
    "duration": 9,
    "start_time": "2024-07-07T11:08:44.069Z"
   },
   {
    "duration": 10,
    "start_time": "2024-07-07T11:08:44.080Z"
   },
   {
    "duration": 11,
    "start_time": "2024-07-07T11:08:44.091Z"
   },
   {
    "duration": 11,
    "start_time": "2024-07-07T11:08:44.103Z"
   },
   {
    "duration": 10,
    "start_time": "2024-07-07T11:08:44.115Z"
   },
   {
    "duration": 151,
    "start_time": "2024-07-07T11:08:44.126Z"
   },
   {
    "duration": 14,
    "start_time": "2024-07-07T11:08:44.280Z"
   },
   {
    "duration": 146,
    "start_time": "2024-07-07T11:08:44.296Z"
   },
   {
    "duration": 13,
    "start_time": "2024-07-07T11:08:44.444Z"
   },
   {
    "duration": 236,
    "start_time": "2024-07-07T11:08:44.459Z"
   },
   {
    "duration": 12,
    "start_time": "2024-07-07T11:08:44.700Z"
   },
   {
    "duration": 15,
    "start_time": "2024-07-07T11:08:44.714Z"
   },
   {
    "duration": 158,
    "start_time": "2024-07-07T11:08:44.731Z"
   },
   {
    "duration": 7,
    "start_time": "2024-07-07T11:08:44.891Z"
   },
   {
    "duration": 206,
    "start_time": "2024-07-07T11:08:44.899Z"
   },
   {
    "duration": 6,
    "start_time": "2024-07-07T11:08:45.107Z"
   },
   {
    "duration": 238,
    "start_time": "2024-07-07T11:08:45.114Z"
   },
   {
    "duration": 227,
    "start_time": "2024-07-07T11:08:45.353Z"
   },
   {
    "duration": 12,
    "start_time": "2024-07-07T11:08:45.582Z"
   },
   {
    "duration": 35,
    "start_time": "2024-07-07T11:08:45.595Z"
   },
   {
    "duration": 27,
    "start_time": "2024-07-07T11:08:45.632Z"
   },
   {
    "duration": 15,
    "start_time": "2024-07-07T11:08:45.661Z"
   },
   {
    "duration": 14,
    "start_time": "2024-07-07T11:08:45.678Z"
   },
   {
    "duration": 14,
    "start_time": "2024-07-07T11:08:45.693Z"
   },
   {
    "duration": 13,
    "start_time": "2024-07-07T11:08:45.708Z"
   },
   {
    "duration": 222,
    "start_time": "2024-07-07T11:08:45.723Z"
   },
   {
    "duration": 200,
    "start_time": "2024-07-07T11:08:45.947Z"
   },
   {
    "duration": 211,
    "start_time": "2024-07-07T11:08:46.148Z"
   },
   {
    "duration": 233,
    "start_time": "2024-07-07T11:08:46.360Z"
   },
   {
    "duration": 138,
    "start_time": "2024-07-07T11:08:46.594Z"
   },
   {
    "duration": 399,
    "start_time": "2024-07-07T11:08:46.734Z"
   },
   {
    "duration": 14,
    "start_time": "2024-07-07T11:08:47.134Z"
   },
   {
    "duration": 33,
    "start_time": "2024-07-07T11:08:47.149Z"
   },
   {
    "duration": 14,
    "start_time": "2024-07-07T11:08:47.187Z"
   },
   {
    "duration": 23,
    "start_time": "2024-07-07T11:08:47.203Z"
   },
   {
    "duration": 28,
    "start_time": "2024-07-07T11:08:47.228Z"
   },
   {
    "duration": 29,
    "start_time": "2024-07-07T11:08:47.271Z"
   },
   {
    "duration": 26,
    "start_time": "2024-07-07T11:08:47.301Z"
   },
   {
    "duration": 10,
    "start_time": "2024-07-07T11:08:47.328Z"
   },
   {
    "duration": 26,
    "start_time": "2024-07-07T11:08:47.339Z"
   },
   {
    "duration": 37,
    "start_time": "2024-07-07T11:08:47.366Z"
   },
   {
    "duration": 18,
    "start_time": "2024-07-07T11:08:47.404Z"
   },
   {
    "duration": 9,
    "start_time": "2024-07-07T11:08:47.423Z"
   },
   {
    "duration": 1331,
    "start_time": "2024-07-07T11:08:47.433Z"
   },
   {
    "duration": 6,
    "start_time": "2024-07-07T11:08:48.765Z"
   },
   {
    "duration": 986,
    "start_time": "2024-07-07T11:11:06.090Z"
   },
   {
    "duration": 69,
    "start_time": "2024-07-07T11:11:07.077Z"
   },
   {
    "duration": 12,
    "start_time": "2024-07-07T11:11:07.148Z"
   },
   {
    "duration": 10,
    "start_time": "2024-07-07T11:11:07.163Z"
   },
   {
    "duration": 17,
    "start_time": "2024-07-07T11:11:07.175Z"
   },
   {
    "duration": 12,
    "start_time": "2024-07-07T11:11:07.193Z"
   },
   {
    "duration": 31,
    "start_time": "2024-07-07T11:11:07.207Z"
   },
   {
    "duration": 8,
    "start_time": "2024-07-07T11:11:07.239Z"
   },
   {
    "duration": 35,
    "start_time": "2024-07-07T11:11:07.249Z"
   },
   {
    "duration": 9,
    "start_time": "2024-07-07T11:11:07.286Z"
   },
   {
    "duration": 10,
    "start_time": "2024-07-07T11:11:07.296Z"
   },
   {
    "duration": 6,
    "start_time": "2024-07-07T11:11:07.307Z"
   },
   {
    "duration": 13,
    "start_time": "2024-07-07T11:11:07.314Z"
   },
   {
    "duration": 5,
    "start_time": "2024-07-07T11:11:07.329Z"
   },
   {
    "duration": 16,
    "start_time": "2024-07-07T11:11:07.335Z"
   },
   {
    "duration": 11,
    "start_time": "2024-07-07T11:11:07.352Z"
   },
   {
    "duration": 20,
    "start_time": "2024-07-07T11:11:07.364Z"
   },
   {
    "duration": 18,
    "start_time": "2024-07-07T11:11:07.385Z"
   },
   {
    "duration": 14,
    "start_time": "2024-07-07T11:11:07.405Z"
   },
   {
    "duration": 7,
    "start_time": "2024-07-07T11:11:07.420Z"
   },
   {
    "duration": 14,
    "start_time": "2024-07-07T11:11:07.428Z"
   },
   {
    "duration": 7,
    "start_time": "2024-07-07T11:11:07.443Z"
   },
   {
    "duration": 139,
    "start_time": "2024-07-07T11:11:07.451Z"
   },
   {
    "duration": 9,
    "start_time": "2024-07-07T11:11:07.592Z"
   },
   {
    "duration": 144,
    "start_time": "2024-07-07T11:11:07.602Z"
   },
   {
    "duration": 12,
    "start_time": "2024-07-07T11:11:07.748Z"
   },
   {
    "duration": 243,
    "start_time": "2024-07-07T11:11:07.761Z"
   },
   {
    "duration": 13,
    "start_time": "2024-07-07T11:11:08.007Z"
   },
   {
    "duration": 11,
    "start_time": "2024-07-07T11:11:08.022Z"
   },
   {
    "duration": 144,
    "start_time": "2024-07-07T11:11:08.034Z"
   },
   {
    "duration": 7,
    "start_time": "2024-07-07T11:11:08.179Z"
   },
   {
    "duration": 206,
    "start_time": "2024-07-07T11:11:08.187Z"
   },
   {
    "duration": 7,
    "start_time": "2024-07-07T11:11:08.394Z"
   },
   {
    "duration": 213,
    "start_time": "2024-07-07T11:11:08.402Z"
   },
   {
    "duration": 237,
    "start_time": "2024-07-07T11:11:08.617Z"
   },
   {
    "duration": 19,
    "start_time": "2024-07-07T11:11:08.856Z"
   },
   {
    "duration": 9,
    "start_time": "2024-07-07T11:11:08.877Z"
   },
   {
    "duration": 23,
    "start_time": "2024-07-07T11:11:08.887Z"
   },
   {
    "duration": 11,
    "start_time": "2024-07-07T11:11:08.912Z"
   },
   {
    "duration": 12,
    "start_time": "2024-07-07T11:11:08.925Z"
   },
   {
    "duration": 41,
    "start_time": "2024-07-07T11:11:08.938Z"
   },
   {
    "duration": 13,
    "start_time": "2024-07-07T11:11:08.981Z"
   },
   {
    "duration": 216,
    "start_time": "2024-07-07T11:11:08.996Z"
   },
   {
    "duration": 195,
    "start_time": "2024-07-07T11:11:09.214Z"
   },
   {
    "duration": 200,
    "start_time": "2024-07-07T11:11:09.411Z"
   },
   {
    "duration": 196,
    "start_time": "2024-07-07T11:11:09.612Z"
   },
   {
    "duration": 141,
    "start_time": "2024-07-07T11:11:09.809Z"
   },
   {
    "duration": 376,
    "start_time": "2024-07-07T11:11:09.952Z"
   },
   {
    "duration": 14,
    "start_time": "2024-07-07T11:11:10.329Z"
   },
   {
    "duration": 32,
    "start_time": "2024-07-07T11:11:10.345Z"
   },
   {
    "duration": 14,
    "start_time": "2024-07-07T11:11:10.379Z"
   },
   {
    "duration": 28,
    "start_time": "2024-07-07T11:11:10.395Z"
   },
   {
    "duration": 21,
    "start_time": "2024-07-07T11:11:10.425Z"
   },
   {
    "duration": 44,
    "start_time": "2024-07-07T11:11:10.448Z"
   },
   {
    "duration": 10,
    "start_time": "2024-07-07T11:11:10.493Z"
   },
   {
    "duration": 9,
    "start_time": "2024-07-07T11:11:10.504Z"
   },
   {
    "duration": 4,
    "start_time": "2024-07-07T11:11:10.514Z"
   },
   {
    "duration": 16,
    "start_time": "2024-07-07T11:11:10.519Z"
   },
   {
    "duration": 21,
    "start_time": "2024-07-07T11:11:10.536Z"
   },
   {
    "duration": 15,
    "start_time": "2024-07-07T11:11:10.558Z"
   },
   {
    "duration": 4,
    "start_time": "2024-07-07T11:11:10.574Z"
   },
   {
    "duration": 1247,
    "start_time": "2024-07-07T11:11:10.579Z"
   },
   {
    "duration": 5,
    "start_time": "2024-07-07T11:11:11.827Z"
   },
   {
    "duration": 1014,
    "start_time": "2024-07-07T11:25:52.765Z"
   },
   {
    "duration": 65,
    "start_time": "2024-07-07T11:25:53.780Z"
   },
   {
    "duration": 14,
    "start_time": "2024-07-07T11:25:53.847Z"
   },
   {
    "duration": 9,
    "start_time": "2024-07-07T11:25:53.863Z"
   },
   {
    "duration": 7,
    "start_time": "2024-07-07T11:25:53.874Z"
   },
   {
    "duration": 9,
    "start_time": "2024-07-07T11:25:53.883Z"
   },
   {
    "duration": 11,
    "start_time": "2024-07-07T11:25:53.894Z"
   },
   {
    "duration": 11,
    "start_time": "2024-07-07T11:25:53.907Z"
   },
   {
    "duration": 14,
    "start_time": "2024-07-07T11:25:53.920Z"
   },
   {
    "duration": 13,
    "start_time": "2024-07-07T11:25:53.971Z"
   },
   {
    "duration": 12,
    "start_time": "2024-07-07T11:25:53.987Z"
   },
   {
    "duration": 4,
    "start_time": "2024-07-07T11:25:54.001Z"
   },
   {
    "duration": 7,
    "start_time": "2024-07-07T11:25:54.006Z"
   },
   {
    "duration": 5,
    "start_time": "2024-07-07T11:25:54.014Z"
   },
   {
    "duration": 10,
    "start_time": "2024-07-07T11:25:54.021Z"
   },
   {
    "duration": 7,
    "start_time": "2024-07-07T11:25:54.032Z"
   },
   {
    "duration": 13,
    "start_time": "2024-07-07T11:25:54.070Z"
   },
   {
    "duration": 6,
    "start_time": "2024-07-07T11:25:54.085Z"
   },
   {
    "duration": 6,
    "start_time": "2024-07-07T11:25:54.093Z"
   },
   {
    "duration": 10,
    "start_time": "2024-07-07T11:25:54.101Z"
   },
   {
    "duration": 17,
    "start_time": "2024-07-07T11:25:54.113Z"
   },
   {
    "duration": 42,
    "start_time": "2024-07-07T11:25:54.131Z"
   },
   {
    "duration": 152,
    "start_time": "2024-07-07T11:25:54.174Z"
   },
   {
    "duration": 11,
    "start_time": "2024-07-07T11:25:54.328Z"
   },
   {
    "duration": 149,
    "start_time": "2024-07-07T11:25:54.340Z"
   },
   {
    "duration": 13,
    "start_time": "2024-07-07T11:25:54.491Z"
   },
   {
    "duration": 218,
    "start_time": "2024-07-07T11:25:54.506Z"
   },
   {
    "duration": 14,
    "start_time": "2024-07-07T11:25:54.728Z"
   },
   {
    "duration": 10,
    "start_time": "2024-07-07T11:25:54.743Z"
   },
   {
    "duration": 148,
    "start_time": "2024-07-07T11:25:54.754Z"
   },
   {
    "duration": 7,
    "start_time": "2024-07-07T11:25:54.905Z"
   },
   {
    "duration": 215,
    "start_time": "2024-07-07T11:25:54.913Z"
   },
   {
    "duration": 9,
    "start_time": "2024-07-07T11:25:55.129Z"
   },
   {
    "duration": 227,
    "start_time": "2024-07-07T11:25:55.140Z"
   },
   {
    "duration": 238,
    "start_time": "2024-07-07T11:25:55.371Z"
   },
   {
    "duration": 14,
    "start_time": "2024-07-07T11:25:55.611Z"
   },
   {
    "duration": 28,
    "start_time": "2024-07-07T11:25:55.627Z"
   },
   {
    "duration": 24,
    "start_time": "2024-07-07T11:25:55.657Z"
   },
   {
    "duration": 17,
    "start_time": "2024-07-07T11:25:55.682Z"
   },
   {
    "duration": 18,
    "start_time": "2024-07-07T11:25:55.700Z"
   },
   {
    "duration": 20,
    "start_time": "2024-07-07T11:25:55.719Z"
   },
   {
    "duration": 46,
    "start_time": "2024-07-07T11:25:55.741Z"
   },
   {
    "duration": 263,
    "start_time": "2024-07-07T11:25:55.789Z"
   },
   {
    "duration": 196,
    "start_time": "2024-07-07T11:25:56.053Z"
   },
   {
    "duration": 201,
    "start_time": "2024-07-07T11:25:56.251Z"
   },
   {
    "duration": 196,
    "start_time": "2024-07-07T11:25:56.454Z"
   },
   {
    "duration": 128,
    "start_time": "2024-07-07T11:25:56.651Z"
   },
   {
    "duration": 362,
    "start_time": "2024-07-07T11:25:56.780Z"
   },
   {
    "duration": 36,
    "start_time": "2024-07-07T11:25:57.144Z"
   },
   {
    "duration": 14,
    "start_time": "2024-07-07T11:25:57.182Z"
   },
   {
    "duration": 19,
    "start_time": "2024-07-07T11:25:57.197Z"
   },
   {
    "duration": 26,
    "start_time": "2024-07-07T11:25:57.218Z"
   },
   {
    "duration": 53,
    "start_time": "2024-07-07T11:25:57.245Z"
   },
   {
    "duration": 35,
    "start_time": "2024-07-07T11:25:57.300Z"
   },
   {
    "duration": 40,
    "start_time": "2024-07-07T11:25:57.337Z"
   },
   {
    "duration": 26,
    "start_time": "2024-07-07T11:25:57.379Z"
   },
   {
    "duration": 16,
    "start_time": "2024-07-07T11:25:57.407Z"
   },
   {
    "duration": 18,
    "start_time": "2024-07-07T11:25:57.424Z"
   },
   {
    "duration": 13,
    "start_time": "2024-07-07T11:25:57.443Z"
   },
   {
    "duration": 17,
    "start_time": "2024-07-07T11:25:57.458Z"
   },
   {
    "duration": 6,
    "start_time": "2024-07-07T11:25:57.476Z"
   },
   {
    "duration": 1297,
    "start_time": "2024-07-07T11:25:57.483Z"
   },
   {
    "duration": 6,
    "start_time": "2024-07-07T11:25:58.781Z"
   },
   {
    "duration": 1013,
    "start_time": "2024-07-07T11:26:30.041Z"
   },
   {
    "duration": 66,
    "start_time": "2024-07-07T11:26:31.055Z"
   },
   {
    "duration": 12,
    "start_time": "2024-07-07T11:26:31.123Z"
   },
   {
    "duration": 76,
    "start_time": "2024-07-07T11:26:31.137Z"
   },
   {
    "duration": 39,
    "start_time": "2024-07-07T11:26:31.217Z"
   },
   {
    "duration": 114,
    "start_time": "2024-07-07T11:26:31.258Z"
   },
   {
    "duration": 99,
    "start_time": "2024-07-07T11:26:31.375Z"
   },
   {
    "duration": 135,
    "start_time": "2024-07-07T11:26:31.475Z"
   },
   {
    "duration": 80,
    "start_time": "2024-07-07T11:26:31.612Z"
   },
   {
    "duration": 26,
    "start_time": "2024-07-07T11:26:31.694Z"
   },
   {
    "duration": 18,
    "start_time": "2024-07-07T11:26:31.721Z"
   },
   {
    "duration": 9,
    "start_time": "2024-07-07T11:26:31.740Z"
   },
   {
    "duration": 7,
    "start_time": "2024-07-07T11:26:31.750Z"
   },
   {
    "duration": 81,
    "start_time": "2024-07-07T11:26:31.758Z"
   },
   {
    "duration": 5,
    "start_time": "2024-07-07T11:26:31.841Z"
   },
   {
    "duration": 4,
    "start_time": "2024-07-07T11:26:31.848Z"
   },
   {
    "duration": 12,
    "start_time": "2024-07-07T11:26:31.853Z"
   },
   {
    "duration": 6,
    "start_time": "2024-07-07T11:26:31.866Z"
   },
   {
    "duration": 13,
    "start_time": "2024-07-07T11:26:31.873Z"
   },
   {
    "duration": 19,
    "start_time": "2024-07-07T11:26:31.887Z"
   },
   {
    "duration": 14,
    "start_time": "2024-07-07T11:26:31.907Z"
   },
   {
    "duration": 8,
    "start_time": "2024-07-07T11:26:31.922Z"
   },
   {
    "duration": 139,
    "start_time": "2024-07-07T11:26:31.932Z"
   },
   {
    "duration": 11,
    "start_time": "2024-07-07T11:26:32.072Z"
   },
   {
    "duration": 140,
    "start_time": "2024-07-07T11:26:32.084Z"
   },
   {
    "duration": 12,
    "start_time": "2024-07-07T11:26:32.225Z"
   },
   {
    "duration": 232,
    "start_time": "2024-07-07T11:26:32.239Z"
   },
   {
    "duration": 13,
    "start_time": "2024-07-07T11:26:32.475Z"
   },
   {
    "duration": 12,
    "start_time": "2024-07-07T11:26:32.490Z"
   },
   {
    "duration": 147,
    "start_time": "2024-07-07T11:26:32.504Z"
   },
   {
    "duration": 6,
    "start_time": "2024-07-07T11:26:32.652Z"
   },
   {
    "duration": 250,
    "start_time": "2024-07-07T11:26:32.659Z"
   },
   {
    "duration": 8,
    "start_time": "2024-07-07T11:26:32.911Z"
   },
   {
    "duration": 239,
    "start_time": "2024-07-07T11:26:32.920Z"
   },
   {
    "duration": 265,
    "start_time": "2024-07-07T11:26:33.161Z"
   },
   {
    "duration": 11,
    "start_time": "2024-07-07T11:26:33.427Z"
   },
   {
    "duration": 9,
    "start_time": "2024-07-07T11:26:33.439Z"
   },
   {
    "duration": 40,
    "start_time": "2024-07-07T11:26:33.449Z"
   },
   {
    "duration": 11,
    "start_time": "2024-07-07T11:26:33.490Z"
   },
   {
    "duration": 11,
    "start_time": "2024-07-07T11:26:33.502Z"
   },
   {
    "duration": 18,
    "start_time": "2024-07-07T11:26:33.514Z"
   },
   {
    "duration": 12,
    "start_time": "2024-07-07T11:26:33.534Z"
   },
   {
    "duration": 234,
    "start_time": "2024-07-07T11:26:33.548Z"
   },
   {
    "duration": 197,
    "start_time": "2024-07-07T11:26:33.784Z"
   },
   {
    "duration": 207,
    "start_time": "2024-07-07T11:26:33.982Z"
   },
   {
    "duration": 195,
    "start_time": "2024-07-07T11:26:34.191Z"
   },
   {
    "duration": 157,
    "start_time": "2024-07-07T11:26:34.388Z"
   },
   {
    "duration": 427,
    "start_time": "2024-07-07T11:26:34.546Z"
   },
   {
    "duration": 21,
    "start_time": "2024-07-07T11:26:34.975Z"
   },
   {
    "duration": 24,
    "start_time": "2024-07-07T11:26:34.998Z"
   },
   {
    "duration": 17,
    "start_time": "2024-07-07T11:26:35.023Z"
   },
   {
    "duration": 111,
    "start_time": "2024-07-07T11:26:35.041Z"
   },
   {
    "duration": 84,
    "start_time": "2024-07-07T11:26:35.153Z"
   },
   {
    "duration": 115,
    "start_time": "2024-07-07T11:26:35.239Z"
   },
   {
    "duration": 20,
    "start_time": "2024-07-07T11:26:35.356Z"
   },
   {
    "duration": 5,
    "start_time": "2024-07-07T11:26:35.378Z"
   },
   {
    "duration": 12,
    "start_time": "2024-07-07T11:26:35.385Z"
   },
   {
    "duration": 19,
    "start_time": "2024-07-07T11:26:35.398Z"
   },
   {
    "duration": 13,
    "start_time": "2024-07-07T11:26:35.419Z"
   },
   {
    "duration": 6,
    "start_time": "2024-07-07T11:26:35.433Z"
   },
   {
    "duration": 1307,
    "start_time": "2024-07-07T11:26:35.440Z"
   },
   {
    "duration": 4,
    "start_time": "2024-07-07T11:26:36.749Z"
   },
   {
    "duration": 983,
    "start_time": "2024-07-07T11:28:26.600Z"
   },
   {
    "duration": 64,
    "start_time": "2024-07-07T11:28:27.585Z"
   },
   {
    "duration": 12,
    "start_time": "2024-07-07T11:28:27.651Z"
   },
   {
    "duration": 8,
    "start_time": "2024-07-07T11:28:27.665Z"
   },
   {
    "duration": 7,
    "start_time": "2024-07-07T11:28:27.677Z"
   },
   {
    "duration": 13,
    "start_time": "2024-07-07T11:28:27.687Z"
   },
   {
    "duration": 13,
    "start_time": "2024-07-07T11:28:27.701Z"
   },
   {
    "duration": 9,
    "start_time": "2024-07-07T11:28:27.716Z"
   },
   {
    "duration": 12,
    "start_time": "2024-07-07T11:28:27.726Z"
   },
   {
    "duration": 10,
    "start_time": "2024-07-07T11:28:27.772Z"
   },
   {
    "duration": 53,
    "start_time": "2024-07-07T11:28:27.783Z"
   },
   {
    "duration": 31,
    "start_time": "2024-07-07T11:28:27.837Z"
   },
   {
    "duration": 17,
    "start_time": "2024-07-07T11:28:27.869Z"
   },
   {
    "duration": 4,
    "start_time": "2024-07-07T11:28:27.887Z"
   },
   {
    "duration": 6,
    "start_time": "2024-07-07T11:28:27.893Z"
   },
   {
    "duration": 5,
    "start_time": "2024-07-07T11:28:27.901Z"
   },
   {
    "duration": 9,
    "start_time": "2024-07-07T11:28:27.907Z"
   },
   {
    "duration": 5,
    "start_time": "2024-07-07T11:28:27.918Z"
   },
   {
    "duration": 4,
    "start_time": "2024-07-07T11:28:27.925Z"
   },
   {
    "duration": 42,
    "start_time": "2024-07-07T11:28:27.931Z"
   },
   {
    "duration": 17,
    "start_time": "2024-07-07T11:28:27.975Z"
   },
   {
    "duration": 9,
    "start_time": "2024-07-07T11:28:27.993Z"
   },
   {
    "duration": 173,
    "start_time": "2024-07-07T11:28:28.003Z"
   },
   {
    "duration": 12,
    "start_time": "2024-07-07T11:28:28.177Z"
   },
   {
    "duration": 140,
    "start_time": "2024-07-07T11:28:28.191Z"
   },
   {
    "duration": 11,
    "start_time": "2024-07-07T11:28:28.333Z"
   },
   {
    "duration": 215,
    "start_time": "2024-07-07T11:28:28.346Z"
   },
   {
    "duration": 16,
    "start_time": "2024-07-07T11:28:28.565Z"
   },
   {
    "duration": 10,
    "start_time": "2024-07-07T11:28:28.583Z"
   },
   {
    "duration": 147,
    "start_time": "2024-07-07T11:28:28.595Z"
   },
   {
    "duration": 6,
    "start_time": "2024-07-07T11:28:28.743Z"
   },
   {
    "duration": 236,
    "start_time": "2024-07-07T11:28:28.750Z"
   },
   {
    "duration": 7,
    "start_time": "2024-07-07T11:28:28.988Z"
   },
   {
    "duration": 234,
    "start_time": "2024-07-07T11:28:28.996Z"
   },
   {
    "duration": 245,
    "start_time": "2024-07-07T11:28:29.231Z"
   },
   {
    "duration": 13,
    "start_time": "2024-07-07T11:28:29.478Z"
   },
   {
    "duration": 9,
    "start_time": "2024-07-07T11:28:29.493Z"
   },
   {
    "duration": 21,
    "start_time": "2024-07-07T11:28:29.503Z"
   },
   {
    "duration": 11,
    "start_time": "2024-07-07T11:28:29.525Z"
   },
   {
    "duration": 36,
    "start_time": "2024-07-07T11:28:29.537Z"
   },
   {
    "duration": 16,
    "start_time": "2024-07-07T11:28:29.575Z"
   },
   {
    "duration": 13,
    "start_time": "2024-07-07T11:28:29.592Z"
   },
   {
    "duration": 244,
    "start_time": "2024-07-07T11:28:29.606Z"
   },
   {
    "duration": 195,
    "start_time": "2024-07-07T11:28:29.851Z"
   },
   {
    "duration": 209,
    "start_time": "2024-07-07T11:28:30.047Z"
   },
   {
    "duration": 203,
    "start_time": "2024-07-07T11:28:30.257Z"
   },
   {
    "duration": 146,
    "start_time": "2024-07-07T11:28:30.462Z"
   },
   {
    "duration": 388,
    "start_time": "2024-07-07T11:28:30.610Z"
   },
   {
    "duration": 21,
    "start_time": "2024-07-07T11:28:31.000Z"
   },
   {
    "duration": 21,
    "start_time": "2024-07-07T11:28:31.022Z"
   },
   {
    "duration": 62,
    "start_time": "2024-07-07T11:28:31.044Z"
   },
   {
    "duration": 101,
    "start_time": "2024-07-07T11:28:31.108Z"
   },
   {
    "duration": 85,
    "start_time": "2024-07-07T11:28:31.210Z"
   },
   {
    "duration": 82,
    "start_time": "2024-07-07T11:28:31.296Z"
   },
   {
    "duration": 12,
    "start_time": "2024-07-07T11:28:31.380Z"
   },
   {
    "duration": 19,
    "start_time": "2024-07-07T11:28:31.394Z"
   },
   {
    "duration": 43,
    "start_time": "2024-07-07T11:28:31.415Z"
   },
   {
    "duration": 35,
    "start_time": "2024-07-07T11:28:31.459Z"
   },
   {
    "duration": 23,
    "start_time": "2024-07-07T11:28:31.495Z"
   },
   {
    "duration": 5,
    "start_time": "2024-07-07T11:28:31.519Z"
   },
   {
    "duration": 1298,
    "start_time": "2024-07-07T11:28:31.525Z"
   },
   {
    "duration": 4,
    "start_time": "2024-07-07T11:28:32.825Z"
   },
   {
    "duration": 1004,
    "start_time": "2024-07-07T12:25:39.057Z"
   },
   {
    "duration": 63,
    "start_time": "2024-07-07T12:25:40.063Z"
   },
   {
    "duration": 12,
    "start_time": "2024-07-07T12:25:40.128Z"
   },
   {
    "duration": 9,
    "start_time": "2024-07-07T12:25:40.141Z"
   },
   {
    "duration": 10,
    "start_time": "2024-07-07T12:25:40.151Z"
   },
   {
    "duration": 12,
    "start_time": "2024-07-07T12:25:40.162Z"
   },
   {
    "duration": 17,
    "start_time": "2024-07-07T12:25:40.175Z"
   },
   {
    "duration": 9,
    "start_time": "2024-07-07T12:25:40.193Z"
   },
   {
    "duration": 16,
    "start_time": "2024-07-07T12:25:40.203Z"
   },
   {
    "duration": 9,
    "start_time": "2024-07-07T12:25:40.221Z"
   },
   {
    "duration": 10,
    "start_time": "2024-07-07T12:25:40.231Z"
   },
   {
    "duration": 3,
    "start_time": "2024-07-07T12:25:40.242Z"
   },
   {
    "duration": 5,
    "start_time": "2024-07-07T12:25:40.247Z"
   },
   {
    "duration": 10,
    "start_time": "2024-07-07T12:25:40.253Z"
   },
   {
    "duration": 8,
    "start_time": "2024-07-07T12:25:40.264Z"
   },
   {
    "duration": 37,
    "start_time": "2024-07-07T12:25:40.273Z"
   },
   {
    "duration": 10,
    "start_time": "2024-07-07T12:25:40.311Z"
   },
   {
    "duration": 6,
    "start_time": "2024-07-07T12:25:40.323Z"
   },
   {
    "duration": 5,
    "start_time": "2024-07-07T12:25:40.330Z"
   },
   {
    "duration": 10,
    "start_time": "2024-07-07T12:25:40.336Z"
   },
   {
    "duration": 12,
    "start_time": "2024-07-07T12:25:40.347Z"
   },
   {
    "duration": 8,
    "start_time": "2024-07-07T12:25:40.361Z"
   },
   {
    "duration": 154,
    "start_time": "2024-07-07T12:25:40.409Z"
   },
   {
    "duration": 12,
    "start_time": "2024-07-07T12:25:40.564Z"
   },
   {
    "duration": 148,
    "start_time": "2024-07-07T12:25:40.577Z"
   },
   {
    "duration": 13,
    "start_time": "2024-07-07T12:25:40.726Z"
   },
   {
    "duration": 274,
    "start_time": "2024-07-07T12:25:40.741Z"
   },
   {
    "duration": 15,
    "start_time": "2024-07-07T12:25:41.019Z"
   },
   {
    "duration": 16,
    "start_time": "2024-07-07T12:25:41.035Z"
   },
   {
    "duration": 168,
    "start_time": "2024-07-07T12:25:41.053Z"
   },
   {
    "duration": 7,
    "start_time": "2024-07-07T12:25:41.223Z"
   },
   {
    "duration": 216,
    "start_time": "2024-07-07T12:25:41.232Z"
   },
   {
    "duration": 7,
    "start_time": "2024-07-07T12:25:41.449Z"
   },
   {
    "duration": 203,
    "start_time": "2024-07-07T12:25:41.458Z"
   },
   {
    "duration": 241,
    "start_time": "2024-07-07T12:25:41.663Z"
   },
   {
    "duration": 11,
    "start_time": "2024-07-07T12:25:41.909Z"
   },
   {
    "duration": 9,
    "start_time": "2024-07-07T12:25:41.921Z"
   },
   {
    "duration": 24,
    "start_time": "2024-07-07T12:25:41.931Z"
   },
   {
    "duration": 12,
    "start_time": "2024-07-07T12:25:41.956Z"
   },
   {
    "duration": 13,
    "start_time": "2024-07-07T12:25:41.969Z"
   },
   {
    "duration": 40,
    "start_time": "2024-07-07T12:25:41.983Z"
   },
   {
    "duration": 14,
    "start_time": "2024-07-07T12:25:42.024Z"
   },
   {
    "duration": 215,
    "start_time": "2024-07-07T12:25:42.039Z"
   },
   {
    "duration": 199,
    "start_time": "2024-07-07T12:25:42.255Z"
   },
   {
    "duration": 205,
    "start_time": "2024-07-07T12:25:42.455Z"
   },
   {
    "duration": 213,
    "start_time": "2024-07-07T12:25:42.661Z"
   },
   {
    "duration": 164,
    "start_time": "2024-07-07T12:25:42.876Z"
   },
   {
    "duration": 379,
    "start_time": "2024-07-07T12:25:43.041Z"
   },
   {
    "duration": 22,
    "start_time": "2024-07-07T12:25:43.422Z"
   },
   {
    "duration": 15,
    "start_time": "2024-07-07T12:25:43.446Z"
   },
   {
    "duration": 21,
    "start_time": "2024-07-07T12:25:43.463Z"
   },
   {
    "duration": 104,
    "start_time": "2024-07-07T12:25:43.486Z"
   },
   {
    "duration": 89,
    "start_time": "2024-07-07T12:25:43.591Z"
   },
   {
    "duration": 88,
    "start_time": "2024-07-07T12:25:43.682Z"
   },
   {
    "duration": 12,
    "start_time": "2024-07-07T12:25:43.771Z"
   },
   {
    "duration": 5,
    "start_time": "2024-07-07T12:25:43.784Z"
   },
   {
    "duration": 19,
    "start_time": "2024-07-07T12:25:43.790Z"
   },
   {
    "duration": 19,
    "start_time": "2024-07-07T12:25:43.810Z"
   },
   {
    "duration": 14,
    "start_time": "2024-07-07T12:25:43.831Z"
   },
   {
    "duration": 19,
    "start_time": "2024-07-07T12:25:43.846Z"
   },
   {
    "duration": 1265,
    "start_time": "2024-07-07T12:25:43.866Z"
   },
   {
    "duration": 5,
    "start_time": "2024-07-07T12:25:45.133Z"
   },
   {
    "duration": 1104398,
    "start_time": "2024-07-07T12:25:45.139Z"
   },
   {
    "duration": 0,
    "start_time": "2024-07-07T12:44:09.539Z"
   },
   {
    "duration": 0,
    "start_time": "2024-07-07T12:44:09.541Z"
   },
   {
    "duration": 0,
    "start_time": "2024-07-07T12:44:09.542Z"
   },
   {
    "duration": 1,
    "start_time": "2024-07-07T12:44:09.543Z"
   },
   {
    "duration": 9,
    "start_time": "2024-07-07T12:44:12.883Z"
   },
   {
    "duration": 5,
    "start_time": "2024-07-07T12:46:37.114Z"
   },
   {
    "duration": 1012,
    "start_time": "2024-07-07T12:49:05.815Z"
   },
   {
    "duration": 65,
    "start_time": "2024-07-07T12:49:06.828Z"
   },
   {
    "duration": 16,
    "start_time": "2024-07-07T12:49:06.895Z"
   },
   {
    "duration": 9,
    "start_time": "2024-07-07T12:49:06.914Z"
   },
   {
    "duration": 7,
    "start_time": "2024-07-07T12:49:06.925Z"
   },
   {
    "duration": 10,
    "start_time": "2024-07-07T12:49:06.934Z"
   },
   {
    "duration": 9,
    "start_time": "2024-07-07T12:49:06.946Z"
   },
   {
    "duration": 8,
    "start_time": "2024-07-07T12:49:06.956Z"
   },
   {
    "duration": 44,
    "start_time": "2024-07-07T12:49:06.966Z"
   },
   {
    "duration": 10,
    "start_time": "2024-07-07T12:49:07.012Z"
   },
   {
    "duration": 9,
    "start_time": "2024-07-07T12:49:07.023Z"
   },
   {
    "duration": 4,
    "start_time": "2024-07-07T12:49:07.033Z"
   },
   {
    "duration": 11,
    "start_time": "2024-07-07T12:49:07.039Z"
   },
   {
    "duration": 5,
    "start_time": "2024-07-07T12:49:07.051Z"
   },
   {
    "duration": 6,
    "start_time": "2024-07-07T12:49:07.058Z"
   },
   {
    "duration": 45,
    "start_time": "2024-07-07T12:49:07.065Z"
   },
   {
    "duration": 10,
    "start_time": "2024-07-07T12:49:07.111Z"
   },
   {
    "duration": 5,
    "start_time": "2024-07-07T12:49:07.122Z"
   },
   {
    "duration": 63,
    "start_time": "2024-07-07T12:49:07.128Z"
   },
   {
    "duration": 12,
    "start_time": "2024-07-07T12:49:07.192Z"
   },
   {
    "duration": 12,
    "start_time": "2024-07-07T12:49:07.206Z"
   },
   {
    "duration": 9,
    "start_time": "2024-07-07T12:49:07.219Z"
   },
   {
    "duration": 164,
    "start_time": "2024-07-07T12:49:07.229Z"
   },
   {
    "duration": 19,
    "start_time": "2024-07-07T12:49:07.394Z"
   },
   {
    "duration": 155,
    "start_time": "2024-07-07T12:49:07.414Z"
   },
   {
    "duration": 12,
    "start_time": "2024-07-07T12:49:07.571Z"
   },
   {
    "duration": 234,
    "start_time": "2024-07-07T12:49:07.584Z"
   },
   {
    "duration": 14,
    "start_time": "2024-07-07T12:49:07.822Z"
   },
   {
    "duration": 10,
    "start_time": "2024-07-07T12:49:07.837Z"
   },
   {
    "duration": 148,
    "start_time": "2024-07-07T12:49:07.848Z"
   },
   {
    "duration": 14,
    "start_time": "2024-07-07T12:49:07.998Z"
   },
   {
    "duration": 214,
    "start_time": "2024-07-07T12:49:08.013Z"
   },
   {
    "duration": 7,
    "start_time": "2024-07-07T12:49:08.228Z"
   },
   {
    "duration": 212,
    "start_time": "2024-07-07T12:49:08.237Z"
   },
   {
    "duration": 259,
    "start_time": "2024-07-07T12:49:08.451Z"
   },
   {
    "duration": 11,
    "start_time": "2024-07-07T12:49:08.712Z"
   },
   {
    "duration": 9,
    "start_time": "2024-07-07T12:49:08.724Z"
   },
   {
    "duration": 25,
    "start_time": "2024-07-07T12:49:08.734Z"
   },
   {
    "duration": 11,
    "start_time": "2024-07-07T12:49:08.760Z"
   },
   {
    "duration": 17,
    "start_time": "2024-07-07T12:49:08.772Z"
   },
   {
    "duration": 15,
    "start_time": "2024-07-07T12:49:08.809Z"
   },
   {
    "duration": 64,
    "start_time": "2024-07-07T12:49:08.825Z"
   },
   {
    "duration": 195,
    "start_time": "2024-07-07T12:49:08.890Z"
   },
   {
    "duration": 196,
    "start_time": "2024-07-07T12:49:09.086Z"
   },
   {
    "duration": 211,
    "start_time": "2024-07-07T12:49:09.283Z"
   },
   {
    "duration": 210,
    "start_time": "2024-07-07T12:49:09.496Z"
   },
   {
    "duration": 142,
    "start_time": "2024-07-07T12:49:09.709Z"
   },
   {
    "duration": 387,
    "start_time": "2024-07-07T12:49:09.853Z"
   },
   {
    "duration": 23,
    "start_time": "2024-07-07T12:49:10.241Z"
   },
   {
    "duration": 17,
    "start_time": "2024-07-07T12:49:10.266Z"
   },
   {
    "duration": 37,
    "start_time": "2024-07-07T12:49:10.284Z"
   },
   {
    "duration": 110,
    "start_time": "2024-07-07T12:49:10.322Z"
   },
   {
    "duration": 90,
    "start_time": "2024-07-07T12:49:10.434Z"
   },
   {
    "duration": 90,
    "start_time": "2024-07-07T12:49:10.526Z"
   },
   {
    "duration": 11,
    "start_time": "2024-07-07T12:49:10.618Z"
   },
   {
    "duration": 4,
    "start_time": "2024-07-07T12:49:10.631Z"
   },
   {
    "duration": 9,
    "start_time": "2024-07-07T12:49:10.637Z"
   },
   {
    "duration": 14,
    "start_time": "2024-07-07T12:49:10.648Z"
   },
   {
    "duration": 14,
    "start_time": "2024-07-07T12:49:10.664Z"
   },
   {
    "duration": 5,
    "start_time": "2024-07-07T12:49:10.710Z"
   },
   {
    "duration": 1318,
    "start_time": "2024-07-07T12:49:10.717Z"
   },
   {
    "duration": 7,
    "start_time": "2024-07-07T12:49:12.036Z"
   },
   {
    "duration": 52,
    "start_time": "2024-07-07T14:08:47.902Z"
   },
   {
    "duration": 1451,
    "start_time": "2024-07-07T14:08:57.895Z"
   },
   {
    "duration": 210,
    "start_time": "2024-07-07T14:08:59.348Z"
   },
   {
    "duration": 19,
    "start_time": "2024-07-07T14:08:59.559Z"
   },
   {
    "duration": 12,
    "start_time": "2024-07-07T14:08:59.581Z"
   },
   {
    "duration": 28,
    "start_time": "2024-07-07T14:08:59.594Z"
   },
   {
    "duration": 37,
    "start_time": "2024-07-07T14:08:59.624Z"
   },
   {
    "duration": 36,
    "start_time": "2024-07-07T14:08:59.663Z"
   },
   {
    "duration": 10,
    "start_time": "2024-07-07T14:08:59.701Z"
   },
   {
    "duration": 15,
    "start_time": "2024-07-07T14:08:59.712Z"
   },
   {
    "duration": 11,
    "start_time": "2024-07-07T14:08:59.730Z"
   },
   {
    "duration": 15,
    "start_time": "2024-07-07T14:08:59.747Z"
   },
   {
    "duration": 9,
    "start_time": "2024-07-07T14:08:59.764Z"
   },
   {
    "duration": 19,
    "start_time": "2024-07-07T14:08:59.775Z"
   },
   {
    "duration": 8,
    "start_time": "2024-07-07T14:08:59.796Z"
   },
   {
    "duration": 18,
    "start_time": "2024-07-07T14:08:59.806Z"
   },
   {
    "duration": 10,
    "start_time": "2024-07-07T14:08:59.825Z"
   },
   {
    "duration": 23,
    "start_time": "2024-07-07T14:08:59.837Z"
   },
   {
    "duration": 9,
    "start_time": "2024-07-07T14:08:59.862Z"
   },
   {
    "duration": 7,
    "start_time": "2024-07-07T14:08:59.873Z"
   },
   {
    "duration": 10,
    "start_time": "2024-07-07T14:08:59.881Z"
   },
   {
    "duration": 15,
    "start_time": "2024-07-07T14:08:59.895Z"
   },
   {
    "duration": 12,
    "start_time": "2024-07-07T14:08:59.947Z"
   },
   {
    "duration": 214,
    "start_time": "2024-07-07T14:08:59.961Z"
   },
   {
    "duration": 14,
    "start_time": "2024-07-07T14:09:00.176Z"
   },
   {
    "duration": 296,
    "start_time": "2024-07-07T14:09:00.192Z"
   },
   {
    "duration": 18,
    "start_time": "2024-07-07T14:09:00.490Z"
   },
   {
    "duration": 303,
    "start_time": "2024-07-07T14:09:00.510Z"
   },
   {
    "duration": 17,
    "start_time": "2024-07-07T14:09:00.817Z"
   },
   {
    "duration": 55,
    "start_time": "2024-07-07T14:09:00.845Z"
   },
   {
    "duration": 200,
    "start_time": "2024-07-07T14:09:00.902Z"
   },
   {
    "duration": 8,
    "start_time": "2024-07-07T14:09:01.104Z"
   },
   {
    "duration": 314,
    "start_time": "2024-07-07T14:09:01.114Z"
   },
   {
    "duration": 17,
    "start_time": "2024-07-07T14:09:01.430Z"
   },
   {
    "duration": 359,
    "start_time": "2024-07-07T14:09:01.449Z"
   },
   {
    "duration": 360,
    "start_time": "2024-07-07T14:09:01.811Z"
   },
   {
    "duration": 15,
    "start_time": "2024-07-07T14:09:02.173Z"
   },
   {
    "duration": 12,
    "start_time": "2024-07-07T14:09:02.190Z"
   },
   {
    "duration": 60,
    "start_time": "2024-07-07T14:09:02.204Z"
   },
   {
    "duration": 15,
    "start_time": "2024-07-07T14:09:02.266Z"
   },
   {
    "duration": 32,
    "start_time": "2024-07-07T14:09:02.283Z"
   },
   {
    "duration": 39,
    "start_time": "2024-07-07T14:09:02.317Z"
   },
   {
    "duration": 23,
    "start_time": "2024-07-07T14:09:02.358Z"
   },
   {
    "duration": 331,
    "start_time": "2024-07-07T14:09:02.384Z"
   },
   {
    "duration": 292,
    "start_time": "2024-07-07T14:09:02.716Z"
   },
   {
    "duration": 319,
    "start_time": "2024-07-07T14:09:03.009Z"
   },
   {
    "duration": 297,
    "start_time": "2024-07-07T14:09:03.330Z"
   },
   {
    "duration": 210,
    "start_time": "2024-07-07T14:09:03.628Z"
   },
   {
    "duration": 565,
    "start_time": "2024-07-07T14:09:03.840Z"
   },
   {
    "duration": 39,
    "start_time": "2024-07-07T14:09:04.407Z"
   },
   {
    "duration": 20,
    "start_time": "2024-07-07T14:09:04.448Z"
   },
   {
    "duration": 25,
    "start_time": "2024-07-07T14:09:04.470Z"
   },
   {
    "duration": 130,
    "start_time": "2024-07-07T14:09:04.497Z"
   },
   {
    "duration": 111,
    "start_time": "2024-07-07T14:09:04.628Z"
   },
   {
    "duration": 146,
    "start_time": "2024-07-07T14:09:04.745Z"
   },
   {
    "duration": 18,
    "start_time": "2024-07-07T14:09:04.893Z"
   },
   {
    "duration": 6,
    "start_time": "2024-07-07T14:09:04.915Z"
   },
   {
    "duration": 25,
    "start_time": "2024-07-07T14:09:04.922Z"
   },
   {
    "duration": 29,
    "start_time": "2024-07-07T14:09:04.949Z"
   },
   {
    "duration": 15,
    "start_time": "2024-07-07T14:09:04.979Z"
   },
   {
    "duration": 6,
    "start_time": "2024-07-07T14:09:04.996Z"
   },
   {
    "duration": 1860,
    "start_time": "2024-07-07T14:09:05.007Z"
   },
   {
    "duration": 6,
    "start_time": "2024-07-07T14:09:06.868Z"
   },
   {
    "duration": 1267,
    "start_time": "2024-07-07T14:16:36.392Z"
   },
   {
    "duration": 68,
    "start_time": "2024-07-07T14:16:37.661Z"
   },
   {
    "duration": 13,
    "start_time": "2024-07-07T14:16:37.731Z"
   },
   {
    "duration": 12,
    "start_time": "2024-07-07T14:16:37.747Z"
   },
   {
    "duration": 10,
    "start_time": "2024-07-07T14:16:37.761Z"
   },
   {
    "duration": 16,
    "start_time": "2024-07-07T14:16:37.773Z"
   },
   {
    "duration": 15,
    "start_time": "2024-07-07T14:16:37.791Z"
   },
   {
    "duration": 44,
    "start_time": "2024-07-07T14:16:37.807Z"
   },
   {
    "duration": 20,
    "start_time": "2024-07-07T14:16:37.854Z"
   },
   {
    "duration": 12,
    "start_time": "2024-07-07T14:16:37.877Z"
   },
   {
    "duration": 12,
    "start_time": "2024-07-07T14:16:37.890Z"
   },
   {
    "duration": 5,
    "start_time": "2024-07-07T14:16:37.904Z"
   },
   {
    "duration": 7,
    "start_time": "2024-07-07T14:16:37.945Z"
   },
   {
    "duration": 19,
    "start_time": "2024-07-07T14:16:37.954Z"
   },
   {
    "duration": 18,
    "start_time": "2024-07-07T14:16:37.975Z"
   },
   {
    "duration": 7,
    "start_time": "2024-07-07T14:16:37.994Z"
   },
   {
    "duration": 12,
    "start_time": "2024-07-07T14:16:38.003Z"
   },
   {
    "duration": 7,
    "start_time": "2024-07-07T14:16:38.016Z"
   },
   {
    "duration": 11,
    "start_time": "2024-07-07T14:16:38.046Z"
   },
   {
    "duration": 16,
    "start_time": "2024-07-07T14:16:38.059Z"
   },
   {
    "duration": 14,
    "start_time": "2024-07-07T14:16:38.077Z"
   },
   {
    "duration": 10,
    "start_time": "2024-07-07T14:16:38.093Z"
   },
   {
    "duration": 235,
    "start_time": "2024-07-07T14:16:38.104Z"
   },
   {
    "duration": 15,
    "start_time": "2024-07-07T14:16:38.341Z"
   },
   {
    "duration": 177,
    "start_time": "2024-07-07T14:16:38.358Z"
   },
   {
    "duration": 31,
    "start_time": "2024-07-07T14:16:38.537Z"
   },
   {
    "duration": 293,
    "start_time": "2024-07-07T14:16:38.570Z"
   },
   {
    "duration": 17,
    "start_time": "2024-07-07T14:16:38.869Z"
   },
   {
    "duration": 24,
    "start_time": "2024-07-07T14:16:38.888Z"
   },
   {
    "duration": 176,
    "start_time": "2024-07-07T14:16:38.914Z"
   },
   {
    "duration": 8,
    "start_time": "2024-07-07T14:16:39.091Z"
   },
   {
    "duration": 303,
    "start_time": "2024-07-07T14:16:39.100Z"
   },
   {
    "duration": 10,
    "start_time": "2024-07-07T14:16:39.404Z"
   },
   {
    "duration": 344,
    "start_time": "2024-07-07T14:16:39.416Z"
   },
   {
    "duration": 383,
    "start_time": "2024-07-07T14:16:39.763Z"
   },
   {
    "duration": 18,
    "start_time": "2024-07-07T14:16:40.152Z"
   },
   {
    "duration": 11,
    "start_time": "2024-07-07T14:16:40.171Z"
   },
   {
    "duration": 28,
    "start_time": "2024-07-07T14:16:40.183Z"
   },
   {
    "duration": 43,
    "start_time": "2024-07-07T14:16:40.213Z"
   },
   {
    "duration": 14,
    "start_time": "2024-07-07T14:16:40.259Z"
   },
   {
    "duration": 23,
    "start_time": "2024-07-07T14:16:40.274Z"
   },
   {
    "duration": 23,
    "start_time": "2024-07-07T14:16:40.298Z"
   },
   {
    "duration": 335,
    "start_time": "2024-07-07T14:16:40.346Z"
   },
   {
    "duration": 305,
    "start_time": "2024-07-07T14:16:40.682Z"
   },
   {
    "duration": 322,
    "start_time": "2024-07-07T14:16:40.989Z"
   },
   {
    "duration": 366,
    "start_time": "2024-07-07T14:16:41.313Z"
   },
   {
    "duration": 262,
    "start_time": "2024-07-07T14:16:41.682Z"
   },
   {
    "duration": 542,
    "start_time": "2024-07-07T14:16:41.946Z"
   },
   {
    "duration": 32,
    "start_time": "2024-07-07T14:16:42.490Z"
   },
   {
    "duration": 42,
    "start_time": "2024-07-07T14:16:42.524Z"
   },
   {
    "duration": 30,
    "start_time": "2024-07-07T14:16:42.567Z"
   },
   {
    "duration": 144,
    "start_time": "2024-07-07T14:16:42.599Z"
   },
   {
    "duration": 106,
    "start_time": "2024-07-07T14:16:42.745Z"
   },
   {
    "duration": 122,
    "start_time": "2024-07-07T14:16:42.853Z"
   },
   {
    "duration": 20,
    "start_time": "2024-07-07T14:16:42.977Z"
   },
   {
    "duration": 7,
    "start_time": "2024-07-07T14:16:42.999Z"
   },
   {
    "duration": 7,
    "start_time": "2024-07-07T14:16:43.008Z"
   },
   {
    "duration": 55,
    "start_time": "2024-07-07T14:16:43.017Z"
   },
   {
    "duration": 16,
    "start_time": "2024-07-07T14:16:43.074Z"
   },
   {
    "duration": 7,
    "start_time": "2024-07-07T14:16:43.092Z"
   },
   {
    "duration": 1851,
    "start_time": "2024-07-07T14:16:43.101Z"
   },
   {
    "duration": 6,
    "start_time": "2024-07-07T14:16:44.953Z"
   },
   {
    "duration": 1198,
    "start_time": "2024-07-07T14:18:32.230Z"
   },
   {
    "duration": 79,
    "start_time": "2024-07-07T14:18:33.430Z"
   },
   {
    "duration": 16,
    "start_time": "2024-07-07T14:18:33.514Z"
   },
   {
    "duration": 12,
    "start_time": "2024-07-07T14:18:33.531Z"
   },
   {
    "duration": 12,
    "start_time": "2024-07-07T14:18:33.545Z"
   },
   {
    "duration": 48,
    "start_time": "2024-07-07T14:18:33.559Z"
   },
   {
    "duration": 15,
    "start_time": "2024-07-07T14:18:33.609Z"
   },
   {
    "duration": 37,
    "start_time": "2024-07-07T14:18:33.626Z"
   },
   {
    "duration": 24,
    "start_time": "2024-07-07T14:18:33.667Z"
   },
   {
    "duration": 11,
    "start_time": "2024-07-07T14:18:33.693Z"
   },
   {
    "duration": 11,
    "start_time": "2024-07-07T14:18:33.706Z"
   },
   {
    "duration": 5,
    "start_time": "2024-07-07T14:18:33.718Z"
   },
   {
    "duration": 10,
    "start_time": "2024-07-07T14:18:33.745Z"
   },
   {
    "duration": 13,
    "start_time": "2024-07-07T14:18:33.758Z"
   },
   {
    "duration": 7,
    "start_time": "2024-07-07T14:18:33.772Z"
   },
   {
    "duration": 6,
    "start_time": "2024-07-07T14:18:33.780Z"
   },
   {
    "duration": 11,
    "start_time": "2024-07-07T14:18:33.787Z"
   },
   {
    "duration": 50,
    "start_time": "2024-07-07T14:18:33.799Z"
   },
   {
    "duration": 7,
    "start_time": "2024-07-07T14:18:33.850Z"
   },
   {
    "duration": 15,
    "start_time": "2024-07-07T14:18:33.858Z"
   },
   {
    "duration": 40,
    "start_time": "2024-07-07T14:18:33.875Z"
   },
   {
    "duration": 10,
    "start_time": "2024-07-07T14:18:33.917Z"
   },
   {
    "duration": 200,
    "start_time": "2024-07-07T14:18:33.929Z"
   },
   {
    "duration": 19,
    "start_time": "2024-07-07T14:18:34.130Z"
   },
   {
    "duration": 185,
    "start_time": "2024-07-07T14:18:34.151Z"
   },
   {
    "duration": 20,
    "start_time": "2024-07-07T14:18:34.338Z"
   },
   {
    "duration": 267,
    "start_time": "2024-07-07T14:18:34.362Z"
   },
   {
    "duration": 31,
    "start_time": "2024-07-07T14:18:34.631Z"
   },
   {
    "duration": 15,
    "start_time": "2024-07-07T14:18:34.664Z"
   },
   {
    "duration": 230,
    "start_time": "2024-07-07T14:18:34.681Z"
   },
   {
    "duration": 8,
    "start_time": "2024-07-07T14:18:34.912Z"
   },
   {
    "duration": 333,
    "start_time": "2024-07-07T14:18:34.921Z"
   },
   {
    "duration": 11,
    "start_time": "2024-07-07T14:18:35.260Z"
   },
   {
    "duration": 311,
    "start_time": "2024-07-07T14:18:35.273Z"
   },
   {
    "duration": 368,
    "start_time": "2024-07-07T14:18:35.586Z"
   },
   {
    "duration": 16,
    "start_time": "2024-07-07T14:18:35.956Z"
   },
   {
    "duration": 14,
    "start_time": "2024-07-07T14:18:35.974Z"
   },
   {
    "duration": 62,
    "start_time": "2024-07-07T14:18:35.989Z"
   },
   {
    "duration": 18,
    "start_time": "2024-07-07T14:18:36.053Z"
   },
   {
    "duration": 12,
    "start_time": "2024-07-07T14:18:36.073Z"
   },
   {
    "duration": 24,
    "start_time": "2024-07-07T14:18:36.086Z"
   },
   {
    "duration": 39,
    "start_time": "2024-07-07T14:18:36.112Z"
   },
   {
    "duration": 304,
    "start_time": "2024-07-07T14:18:36.152Z"
   },
   {
    "duration": 311,
    "start_time": "2024-07-07T14:18:36.457Z"
   },
   {
    "duration": 330,
    "start_time": "2024-07-07T14:18:36.770Z"
   },
   {
    "duration": 348,
    "start_time": "2024-07-07T14:18:37.102Z"
   },
   {
    "duration": 209,
    "start_time": "2024-07-07T14:18:37.452Z"
   },
   {
    "duration": 529,
    "start_time": "2024-07-07T14:18:37.663Z"
   },
   {
    "duration": 27,
    "start_time": "2024-07-07T14:18:38.194Z"
   },
   {
    "duration": 37,
    "start_time": "2024-07-07T14:18:38.223Z"
   },
   {
    "duration": 20,
    "start_time": "2024-07-07T14:18:38.261Z"
   },
   {
    "duration": 119,
    "start_time": "2024-07-07T14:18:38.283Z"
   },
   {
    "duration": 130,
    "start_time": "2024-07-07T14:18:38.404Z"
   },
   {
    "duration": 103,
    "start_time": "2024-07-07T14:18:38.536Z"
   },
   {
    "duration": 21,
    "start_time": "2024-07-07T14:18:38.646Z"
   },
   {
    "duration": 5,
    "start_time": "2024-07-07T14:18:38.669Z"
   },
   {
    "duration": 11,
    "start_time": "2024-07-07T14:18:38.676Z"
   },
   {
    "duration": 17,
    "start_time": "2024-07-07T14:18:38.688Z"
   },
   {
    "duration": 51,
    "start_time": "2024-07-07T14:18:38.706Z"
   },
   {
    "duration": 8,
    "start_time": "2024-07-07T14:18:38.760Z"
   },
   {
    "duration": 1831,
    "start_time": "2024-07-07T14:18:38.770Z"
   },
   {
    "duration": 7,
    "start_time": "2024-07-07T14:18:40.603Z"
   },
   {
    "duration": 1218,
    "start_time": "2024-07-07T14:32:38.683Z"
   },
   {
    "duration": 69,
    "start_time": "2024-07-07T14:32:39.903Z"
   },
   {
    "duration": 13,
    "start_time": "2024-07-07T14:32:39.974Z"
   },
   {
    "duration": 17,
    "start_time": "2024-07-07T14:32:39.989Z"
   },
   {
    "duration": 22,
    "start_time": "2024-07-07T14:32:40.009Z"
   },
   {
    "duration": 45,
    "start_time": "2024-07-07T14:32:40.033Z"
   },
   {
    "duration": 33,
    "start_time": "2024-07-07T14:32:40.080Z"
   },
   {
    "duration": 27,
    "start_time": "2024-07-07T14:32:40.114Z"
   },
   {
    "duration": 38,
    "start_time": "2024-07-07T14:32:40.143Z"
   },
   {
    "duration": 20,
    "start_time": "2024-07-07T14:32:40.184Z"
   },
   {
    "duration": 17,
    "start_time": "2024-07-07T14:32:40.206Z"
   },
   {
    "duration": 22,
    "start_time": "2024-07-07T14:32:40.225Z"
   },
   {
    "duration": 13,
    "start_time": "2024-07-07T14:32:40.249Z"
   },
   {
    "duration": 13,
    "start_time": "2024-07-07T14:32:40.264Z"
   },
   {
    "duration": 32,
    "start_time": "2024-07-07T14:32:40.279Z"
   },
   {
    "duration": 12,
    "start_time": "2024-07-07T14:32:40.313Z"
   },
   {
    "duration": 19,
    "start_time": "2024-07-07T14:32:40.328Z"
   },
   {
    "duration": 8,
    "start_time": "2024-07-07T14:32:40.349Z"
   },
   {
    "duration": 17,
    "start_time": "2024-07-07T14:32:40.360Z"
   },
   {
    "duration": 37,
    "start_time": "2024-07-07T14:32:40.379Z"
   },
   {
    "duration": 17,
    "start_time": "2024-07-07T14:32:40.418Z"
   },
   {
    "duration": 14,
    "start_time": "2024-07-07T14:32:40.437Z"
   },
   {
    "duration": 184,
    "start_time": "2024-07-07T14:32:40.453Z"
   },
   {
    "duration": 17,
    "start_time": "2024-07-07T14:32:40.639Z"
   },
   {
    "duration": 196,
    "start_time": "2024-07-07T14:32:40.658Z"
   },
   {
    "duration": 15,
    "start_time": "2024-07-07T14:32:40.856Z"
   },
   {
    "duration": 274,
    "start_time": "2024-07-07T14:32:40.872Z"
   },
   {
    "duration": 17,
    "start_time": "2024-07-07T14:32:41.150Z"
   },
   {
    "duration": 12,
    "start_time": "2024-07-07T14:32:41.169Z"
   },
   {
    "duration": 187,
    "start_time": "2024-07-07T14:32:41.183Z"
   },
   {
    "duration": 7,
    "start_time": "2024-07-07T14:32:41.372Z"
   },
   {
    "duration": 308,
    "start_time": "2024-07-07T14:32:41.380Z"
   },
   {
    "duration": 8,
    "start_time": "2024-07-07T14:32:41.691Z"
   },
   {
    "duration": 300,
    "start_time": "2024-07-07T14:32:41.705Z"
   },
   {
    "duration": 376,
    "start_time": "2024-07-07T14:32:42.007Z"
   },
   {
    "duration": 19,
    "start_time": "2024-07-07T14:32:42.384Z"
   },
   {
    "duration": 18,
    "start_time": "2024-07-07T14:32:42.405Z"
   },
   {
    "duration": 61,
    "start_time": "2024-07-07T14:32:42.425Z"
   },
   {
    "duration": 16,
    "start_time": "2024-07-07T14:32:42.488Z"
   },
   {
    "duration": 15,
    "start_time": "2024-07-07T14:32:42.506Z"
   },
   {
    "duration": 41,
    "start_time": "2024-07-07T14:32:42.524Z"
   },
   {
    "duration": 24,
    "start_time": "2024-07-07T14:32:42.567Z"
   },
   {
    "duration": 331,
    "start_time": "2024-07-07T14:32:42.593Z"
   },
   {
    "duration": 284,
    "start_time": "2024-07-07T14:32:42.925Z"
   },
   {
    "duration": 303,
    "start_time": "2024-07-07T14:32:43.210Z"
   },
   {
    "duration": 305,
    "start_time": "2024-07-07T14:32:43.515Z"
   },
   {
    "duration": 228,
    "start_time": "2024-07-07T14:32:43.822Z"
   },
   {
    "duration": 572,
    "start_time": "2024-07-07T14:32:44.052Z"
   },
   {
    "duration": 35,
    "start_time": "2024-07-07T14:32:44.627Z"
   },
   {
    "duration": 20,
    "start_time": "2024-07-07T14:32:44.664Z"
   },
   {
    "duration": 19,
    "start_time": "2024-07-07T14:32:44.686Z"
   },
   {
    "duration": 116,
    "start_time": "2024-07-07T14:32:44.707Z"
   },
   {
    "duration": 117,
    "start_time": "2024-07-07T14:32:44.825Z"
   },
   {
    "duration": 103,
    "start_time": "2024-07-07T14:32:44.946Z"
   },
   {
    "duration": 14,
    "start_time": "2024-07-07T14:32:45.052Z"
   },
   {
    "duration": 7,
    "start_time": "2024-07-07T14:32:45.068Z"
   },
   {
    "duration": 18,
    "start_time": "2024-07-07T14:32:45.077Z"
   },
   {
    "duration": 28,
    "start_time": "2024-07-07T14:32:45.097Z"
   },
   {
    "duration": 23,
    "start_time": "2024-07-07T14:32:45.146Z"
   },
   {
    "duration": 6,
    "start_time": "2024-07-07T14:32:45.172Z"
   },
   {
    "duration": 1878,
    "start_time": "2024-07-07T14:32:45.180Z"
   },
   {
    "duration": 6,
    "start_time": "2024-07-07T14:32:47.060Z"
   },
   {
    "duration": 1224,
    "start_time": "2024-07-07T14:33:28.815Z"
   },
   {
    "duration": 76,
    "start_time": "2024-07-07T14:33:30.042Z"
   },
   {
    "duration": 16,
    "start_time": "2024-07-07T14:33:30.121Z"
   },
   {
    "duration": 54,
    "start_time": "2024-07-07T14:33:30.139Z"
   },
   {
    "duration": 37,
    "start_time": "2024-07-07T14:33:30.195Z"
   },
   {
    "duration": 78,
    "start_time": "2024-07-07T14:33:30.235Z"
   },
   {
    "duration": 80,
    "start_time": "2024-07-07T14:33:30.315Z"
   },
   {
    "duration": 29,
    "start_time": "2024-07-07T14:33:30.397Z"
   },
   {
    "duration": 70,
    "start_time": "2024-07-07T14:33:30.428Z"
   },
   {
    "duration": 111,
    "start_time": "2024-07-07T14:33:30.501Z"
   },
   {
    "duration": 214,
    "start_time": "2024-07-07T14:33:30.614Z"
   },
   {
    "duration": 189,
    "start_time": "2024-07-07T14:33:30.830Z"
   },
   {
    "duration": 55,
    "start_time": "2024-07-07T14:33:31.021Z"
   },
   {
    "duration": 70,
    "start_time": "2024-07-07T14:33:31.078Z"
   },
   {
    "duration": 60,
    "start_time": "2024-07-07T14:33:31.150Z"
   },
   {
    "duration": 96,
    "start_time": "2024-07-07T14:33:31.212Z"
   },
   {
    "duration": 247,
    "start_time": "2024-07-07T14:33:31.311Z"
   },
   {
    "duration": 188,
    "start_time": "2024-07-07T14:33:31.560Z"
   },
   {
    "duration": 28,
    "start_time": "2024-07-07T14:33:31.750Z"
   },
   {
    "duration": 43,
    "start_time": "2024-07-07T14:33:31.780Z"
   },
   {
    "duration": 25,
    "start_time": "2024-07-07T14:33:31.825Z"
   },
   {
    "duration": 16,
    "start_time": "2024-07-07T14:33:31.852Z"
   },
   {
    "duration": 205,
    "start_time": "2024-07-07T14:33:31.870Z"
   },
   {
    "duration": 13,
    "start_time": "2024-07-07T14:33:32.076Z"
   },
   {
    "duration": 216,
    "start_time": "2024-07-07T14:33:32.091Z"
   },
   {
    "duration": 21,
    "start_time": "2024-07-07T14:33:32.309Z"
   },
   {
    "duration": 298,
    "start_time": "2024-07-07T14:33:32.332Z"
   },
   {
    "duration": 29,
    "start_time": "2024-07-07T14:33:32.636Z"
   },
   {
    "duration": 28,
    "start_time": "2024-07-07T14:33:32.666Z"
   },
   {
    "duration": 199,
    "start_time": "2024-07-07T14:33:32.696Z"
   },
   {
    "duration": 9,
    "start_time": "2024-07-07T14:33:32.896Z"
   },
   {
    "duration": 306,
    "start_time": "2024-07-07T14:33:32.907Z"
   },
   {
    "duration": 10,
    "start_time": "2024-07-07T14:33:33.215Z"
   },
   {
    "duration": 295,
    "start_time": "2024-07-07T14:33:33.227Z"
   },
   {
    "duration": 337,
    "start_time": "2024-07-07T14:33:33.524Z"
   },
   {
    "duration": 13,
    "start_time": "2024-07-07T14:33:33.863Z"
   },
   {
    "duration": 11,
    "start_time": "2024-07-07T14:33:33.877Z"
   },
   {
    "duration": 58,
    "start_time": "2024-07-07T14:33:33.889Z"
   },
   {
    "duration": 17,
    "start_time": "2024-07-07T14:33:33.948Z"
   },
   {
    "duration": 15,
    "start_time": "2024-07-07T14:33:33.966Z"
   },
   {
    "duration": 19,
    "start_time": "2024-07-07T14:33:33.983Z"
   },
   {
    "duration": 52,
    "start_time": "2024-07-07T14:33:34.003Z"
   },
   {
    "duration": 317,
    "start_time": "2024-07-07T14:33:34.057Z"
   },
   {
    "duration": 323,
    "start_time": "2024-07-07T14:33:34.377Z"
   },
   {
    "duration": 291,
    "start_time": "2024-07-07T14:33:34.702Z"
   },
   {
    "duration": 290,
    "start_time": "2024-07-07T14:33:34.995Z"
   },
   {
    "duration": 196,
    "start_time": "2024-07-07T14:33:35.287Z"
   },
   {
    "duration": 578,
    "start_time": "2024-07-07T14:33:35.485Z"
   },
   {
    "duration": 40,
    "start_time": "2024-07-07T14:33:36.066Z"
   },
   {
    "duration": 47,
    "start_time": "2024-07-07T14:33:36.109Z"
   },
   {
    "duration": 28,
    "start_time": "2024-07-07T14:33:36.158Z"
   },
   {
    "duration": 127,
    "start_time": "2024-07-07T14:33:36.188Z"
   },
   {
    "duration": 173,
    "start_time": "2024-07-07T14:33:36.316Z"
   },
   {
    "duration": 101,
    "start_time": "2024-07-07T14:33:36.491Z"
   },
   {
    "duration": 16,
    "start_time": "2024-07-07T14:33:36.594Z"
   },
   {
    "duration": 7,
    "start_time": "2024-07-07T14:33:36.611Z"
   },
   {
    "duration": 30,
    "start_time": "2024-07-07T14:33:36.620Z"
   },
   {
    "duration": 19,
    "start_time": "2024-07-07T14:33:36.652Z"
   },
   {
    "duration": 17,
    "start_time": "2024-07-07T14:33:36.673Z"
   },
   {
    "duration": 7,
    "start_time": "2024-07-07T14:33:36.692Z"
   },
   {
    "duration": 1819,
    "start_time": "2024-07-07T14:33:36.700Z"
   },
   {
    "duration": 6,
    "start_time": "2024-07-07T14:33:38.521Z"
   },
   {
    "duration": 1476,
    "start_time": "2024-07-07T16:09:37.317Z"
   },
   {
    "duration": 210,
    "start_time": "2024-07-07T16:09:38.795Z"
   },
   {
    "duration": 22,
    "start_time": "2024-07-07T16:09:39.007Z"
   },
   {
    "duration": 9,
    "start_time": "2024-07-07T16:09:39.032Z"
   },
   {
    "duration": 21,
    "start_time": "2024-07-07T16:09:39.043Z"
   },
   {
    "duration": 17,
    "start_time": "2024-07-07T16:09:39.068Z"
   },
   {
    "duration": 15,
    "start_time": "2024-07-07T16:09:39.087Z"
   },
   {
    "duration": 12,
    "start_time": "2024-07-07T16:09:39.104Z"
   },
   {
    "duration": 41,
    "start_time": "2024-07-07T16:09:39.118Z"
   },
   {
    "duration": 16,
    "start_time": "2024-07-07T16:09:39.167Z"
   },
   {
    "duration": 15,
    "start_time": "2024-07-07T16:09:39.185Z"
   },
   {
    "duration": 4,
    "start_time": "2024-07-07T16:09:39.202Z"
   },
   {
    "duration": 25,
    "start_time": "2024-07-07T16:09:39.208Z"
   },
   {
    "duration": 9,
    "start_time": "2024-07-07T16:09:39.234Z"
   },
   {
    "duration": 22,
    "start_time": "2024-07-07T16:09:39.252Z"
   },
   {
    "duration": 8,
    "start_time": "2024-07-07T16:09:39.278Z"
   },
   {
    "duration": 24,
    "start_time": "2024-07-07T16:09:39.288Z"
   },
   {
    "duration": 7,
    "start_time": "2024-07-07T16:09:39.313Z"
   },
   {
    "duration": 5,
    "start_time": "2024-07-07T16:09:39.322Z"
   },
   {
    "duration": 21,
    "start_time": "2024-07-07T16:09:39.329Z"
   },
   {
    "duration": 28,
    "start_time": "2024-07-07T16:09:39.351Z"
   },
   {
    "duration": 10,
    "start_time": "2024-07-07T16:09:39.381Z"
   },
   {
    "duration": 209,
    "start_time": "2024-07-07T16:09:39.393Z"
   },
   {
    "duration": 12,
    "start_time": "2024-07-07T16:09:39.604Z"
   },
   {
    "duration": 203,
    "start_time": "2024-07-07T16:09:39.618Z"
   },
   {
    "duration": 15,
    "start_time": "2024-07-07T16:09:39.823Z"
   },
   {
    "duration": 296,
    "start_time": "2024-07-07T16:09:39.845Z"
   },
   {
    "duration": 31,
    "start_time": "2024-07-07T16:09:40.149Z"
   },
   {
    "duration": 17,
    "start_time": "2024-07-07T16:09:40.182Z"
   },
   {
    "duration": 214,
    "start_time": "2024-07-07T16:09:40.201Z"
   },
   {
    "duration": 10,
    "start_time": "2024-07-07T16:09:40.418Z"
   },
   {
    "duration": 369,
    "start_time": "2024-07-07T16:09:40.430Z"
   },
   {
    "duration": 10,
    "start_time": "2024-07-07T16:09:40.801Z"
   },
   {
    "duration": 368,
    "start_time": "2024-07-07T16:09:40.813Z"
   },
   {
    "duration": 398,
    "start_time": "2024-07-07T16:09:41.182Z"
   },
   {
    "duration": 13,
    "start_time": "2024-07-07T16:09:41.581Z"
   },
   {
    "duration": 11,
    "start_time": "2024-07-07T16:09:41.596Z"
   },
   {
    "duration": 52,
    "start_time": "2024-07-07T16:09:41.608Z"
   },
   {
    "duration": 26,
    "start_time": "2024-07-07T16:09:41.662Z"
   },
   {
    "duration": 14,
    "start_time": "2024-07-07T16:09:41.690Z"
   },
   {
    "duration": 18,
    "start_time": "2024-07-07T16:09:41.706Z"
   },
   {
    "duration": 38,
    "start_time": "2024-07-07T16:09:41.726Z"
   },
   {
    "duration": 342,
    "start_time": "2024-07-07T16:09:41.766Z"
   },
   {
    "duration": 330,
    "start_time": "2024-07-07T16:09:42.110Z"
   },
   {
    "duration": 374,
    "start_time": "2024-07-07T16:09:42.442Z"
   },
   {
    "duration": 344,
    "start_time": "2024-07-07T16:09:42.819Z"
   },
   {
    "duration": 206,
    "start_time": "2024-07-07T16:09:43.167Z"
   },
   {
    "duration": 575,
    "start_time": "2024-07-07T16:09:43.377Z"
   },
   {
    "duration": 34,
    "start_time": "2024-07-07T16:09:43.959Z"
   },
   {
    "duration": 18,
    "start_time": "2024-07-07T16:09:43.995Z"
   },
   {
    "duration": 45,
    "start_time": "2024-07-07T16:09:44.015Z"
   },
   {
    "duration": 126,
    "start_time": "2024-07-07T16:09:44.065Z"
   },
   {
    "duration": 130,
    "start_time": "2024-07-07T16:09:44.192Z"
   },
   {
    "duration": 145,
    "start_time": "2024-07-07T16:09:44.324Z"
   },
   {
    "duration": 21,
    "start_time": "2024-07-07T16:09:44.471Z"
   },
   {
    "duration": 6,
    "start_time": "2024-07-07T16:09:44.494Z"
   },
   {
    "duration": 7,
    "start_time": "2024-07-07T16:09:44.502Z"
   },
   {
    "duration": 58,
    "start_time": "2024-07-07T16:09:44.511Z"
   },
   {
    "duration": 24,
    "start_time": "2024-07-07T16:09:44.571Z"
   },
   {
    "duration": 12,
    "start_time": "2024-07-07T16:09:44.597Z"
   },
   {
    "duration": 1925,
    "start_time": "2024-07-07T16:09:44.611Z"
   },
   {
    "duration": 16,
    "start_time": "2024-07-07T16:09:46.538Z"
   },
   {
    "duration": 1205,
    "start_time": "2024-07-07T16:23:35.931Z"
   },
   {
    "duration": 69,
    "start_time": "2024-07-07T16:23:37.138Z"
   },
   {
    "duration": 15,
    "start_time": "2024-07-07T16:23:37.208Z"
   },
   {
    "duration": 102,
    "start_time": "2024-07-07T16:23:37.225Z"
   },
   {
    "duration": 7,
    "start_time": "2024-07-07T16:23:37.330Z"
   },
   {
    "duration": 15,
    "start_time": "2024-07-07T16:23:37.339Z"
   },
   {
    "duration": 13,
    "start_time": "2024-07-07T16:23:37.355Z"
   },
   {
    "duration": 45,
    "start_time": "2024-07-07T16:23:37.370Z"
   },
   {
    "duration": 17,
    "start_time": "2024-07-07T16:23:37.417Z"
   },
   {
    "duration": 18,
    "start_time": "2024-07-07T16:23:37.436Z"
   },
   {
    "duration": 14,
    "start_time": "2024-07-07T16:23:37.456Z"
   },
   {
    "duration": 6,
    "start_time": "2024-07-07T16:23:37.471Z"
   },
   {
    "duration": 8,
    "start_time": "2024-07-07T16:23:37.479Z"
   },
   {
    "duration": 8,
    "start_time": "2024-07-07T16:23:37.492Z"
   },
   {
    "duration": 51,
    "start_time": "2024-07-07T16:23:37.502Z"
   },
   {
    "duration": 7,
    "start_time": "2024-07-07T16:23:37.555Z"
   },
   {
    "duration": 12,
    "start_time": "2024-07-07T16:23:37.564Z"
   },
   {
    "duration": 9,
    "start_time": "2024-07-07T16:23:37.578Z"
   },
   {
    "duration": 7,
    "start_time": "2024-07-07T16:23:37.589Z"
   },
   {
    "duration": 58,
    "start_time": "2024-07-07T16:23:37.598Z"
   },
   {
    "duration": 17,
    "start_time": "2024-07-07T16:23:37.658Z"
   },
   {
    "duration": 10,
    "start_time": "2024-07-07T16:23:37.677Z"
   },
   {
    "duration": 266,
    "start_time": "2024-07-07T16:23:37.689Z"
   },
   {
    "duration": 13,
    "start_time": "2024-07-07T16:23:37.957Z"
   },
   {
    "duration": 186,
    "start_time": "2024-07-07T16:23:37.972Z"
   },
   {
    "duration": 16,
    "start_time": "2024-07-07T16:23:38.159Z"
   },
   {
    "duration": 286,
    "start_time": "2024-07-07T16:23:38.177Z"
   },
   {
    "duration": 25,
    "start_time": "2024-07-07T16:23:38.465Z"
   },
   {
    "duration": 15,
    "start_time": "2024-07-07T16:23:38.492Z"
   },
   {
    "duration": 207,
    "start_time": "2024-07-07T16:23:38.510Z"
   },
   {
    "duration": 9,
    "start_time": "2024-07-07T16:23:38.718Z"
   },
   {
    "duration": 313,
    "start_time": "2024-07-07T16:23:38.728Z"
   },
   {
    "duration": 12,
    "start_time": "2024-07-07T16:23:39.042Z"
   },
   {
    "duration": 323,
    "start_time": "2024-07-07T16:23:39.056Z"
   },
   {
    "duration": 517,
    "start_time": "2024-07-07T16:23:39.381Z"
   },
   {
    "duration": 20,
    "start_time": "2024-07-07T16:23:39.901Z"
   },
   {
    "duration": 27,
    "start_time": "2024-07-07T16:23:39.923Z"
   },
   {
    "duration": 30,
    "start_time": "2024-07-07T16:23:39.954Z"
   },
   {
    "duration": 16,
    "start_time": "2024-07-07T16:23:39.986Z"
   },
   {
    "duration": 52,
    "start_time": "2024-07-07T16:23:40.005Z"
   },
   {
    "duration": 28,
    "start_time": "2024-07-07T16:23:40.064Z"
   },
   {
    "duration": 51,
    "start_time": "2024-07-07T16:23:40.095Z"
   },
   {
    "duration": 341,
    "start_time": "2024-07-07T16:23:40.148Z"
   },
   {
    "duration": 375,
    "start_time": "2024-07-07T16:23:40.493Z"
   },
   {
    "duration": 343,
    "start_time": "2024-07-07T16:23:40.871Z"
   },
   {
    "duration": 362,
    "start_time": "2024-07-07T16:23:41.216Z"
   },
   {
    "duration": 228,
    "start_time": "2024-07-07T16:23:41.581Z"
   },
   {
    "duration": 545,
    "start_time": "2024-07-07T16:23:41.811Z"
   },
   {
    "duration": 28,
    "start_time": "2024-07-07T16:23:42.357Z"
   },
   {
    "duration": 27,
    "start_time": "2024-07-07T16:23:42.387Z"
   },
   {
    "duration": 56,
    "start_time": "2024-07-07T16:23:42.416Z"
   },
   {
    "duration": 112,
    "start_time": "2024-07-07T16:23:42.474Z"
   },
   {
    "duration": 149,
    "start_time": "2024-07-07T16:23:42.587Z"
   },
   {
    "duration": 146,
    "start_time": "2024-07-07T16:23:42.738Z"
   },
   {
    "duration": 22,
    "start_time": "2024-07-07T16:23:42.887Z"
   },
   {
    "duration": 8,
    "start_time": "2024-07-07T16:23:42.912Z"
   },
   {
    "duration": 27,
    "start_time": "2024-07-07T16:23:42.922Z"
   },
   {
    "duration": 18,
    "start_time": "2024-07-07T16:23:42.951Z"
   },
   {
    "duration": 36,
    "start_time": "2024-07-07T16:23:42.971Z"
   },
   {
    "duration": 38,
    "start_time": "2024-07-07T16:23:43.009Z"
   },
   {
    "duration": 1811,
    "start_time": "2024-07-07T16:23:43.049Z"
   },
   {
    "duration": 5,
    "start_time": "2024-07-07T16:23:44.862Z"
   },
   {
    "duration": 1282,
    "start_time": "2025-03-20T19:22:02.198Z"
   },
   {
    "duration": 67,
    "start_time": "2025-03-20T19:22:03.483Z"
   },
   {
    "duration": 13,
    "start_time": "2025-03-20T19:22:03.553Z"
   },
   {
    "duration": 13,
    "start_time": "2025-03-20T19:22:03.567Z"
   },
   {
    "duration": 9,
    "start_time": "2025-03-20T19:22:03.583Z"
   },
   {
    "duration": 27,
    "start_time": "2025-03-20T19:22:03.593Z"
   },
   {
    "duration": 12,
    "start_time": "2025-03-20T19:22:03.621Z"
   },
   {
    "duration": 10,
    "start_time": "2025-03-20T19:22:03.635Z"
   },
   {
    "duration": 31,
    "start_time": "2025-03-20T19:22:03.647Z"
   },
   {
    "duration": 10,
    "start_time": "2025-03-20T19:22:03.680Z"
   },
   {
    "duration": 10,
    "start_time": "2025-03-20T19:22:03.691Z"
   },
   {
    "duration": 84,
    "start_time": "2025-03-20T19:22:03.702Z"
   },
   {
    "duration": 6,
    "start_time": "2025-03-20T19:22:03.787Z"
   },
   {
    "duration": 5,
    "start_time": "2025-03-20T19:22:03.796Z"
   },
   {
    "duration": 21,
    "start_time": "2025-03-20T19:22:03.803Z"
   },
   {
    "duration": 6,
    "start_time": "2025-03-20T19:22:03.826Z"
   },
   {
    "duration": 11,
    "start_time": "2025-03-20T19:22:03.834Z"
   },
   {
    "duration": 5,
    "start_time": "2025-03-20T19:22:03.847Z"
   },
   {
    "duration": 13,
    "start_time": "2025-03-20T19:22:03.854Z"
   },
   {
    "duration": 16,
    "start_time": "2025-03-20T19:22:03.868Z"
   },
   {
    "duration": 13,
    "start_time": "2025-03-20T19:22:03.885Z"
   },
   {
    "duration": 8,
    "start_time": "2025-03-20T19:22:03.900Z"
   },
   {
    "duration": 171,
    "start_time": "2025-03-20T19:22:03.910Z"
   },
   {
    "duration": 12,
    "start_time": "2025-03-20T19:22:04.082Z"
   },
   {
    "duration": 162,
    "start_time": "2025-03-20T19:22:04.096Z"
   },
   {
    "duration": 14,
    "start_time": "2025-03-20T19:22:04.267Z"
   },
   {
    "duration": 240,
    "start_time": "2025-03-20T19:22:04.283Z"
   },
   {
    "duration": 14,
    "start_time": "2025-03-20T19:22:04.525Z"
   },
   {
    "duration": 27,
    "start_time": "2025-03-20T19:22:04.541Z"
   },
   {
    "duration": 147,
    "start_time": "2025-03-20T19:22:04.569Z"
   },
   {
    "duration": 7,
    "start_time": "2025-03-20T19:22:04.718Z"
   },
   {
    "duration": 262,
    "start_time": "2025-03-20T19:22:04.726Z"
   },
   {
    "duration": 7,
    "start_time": "2025-03-20T19:22:04.990Z"
   },
   {
    "duration": 262,
    "start_time": "2025-03-20T19:22:04.998Z"
   },
   {
    "duration": 325,
    "start_time": "2025-03-20T19:22:05.262Z"
   },
   {
    "duration": 12,
    "start_time": "2025-03-20T19:22:05.588Z"
   },
   {
    "duration": 37,
    "start_time": "2025-03-20T19:22:05.601Z"
   },
   {
    "duration": 30,
    "start_time": "2025-03-20T19:22:05.640Z"
   },
   {
    "duration": 42,
    "start_time": "2025-03-20T19:22:05.672Z"
   },
   {
    "duration": 81,
    "start_time": "2025-03-20T19:22:05.716Z"
   },
   {
    "duration": 22,
    "start_time": "2025-03-20T19:22:05.801Z"
   },
   {
    "duration": 16,
    "start_time": "2025-03-20T19:22:05.824Z"
   },
   {
    "duration": 273,
    "start_time": "2025-03-20T19:22:05.842Z"
   },
   {
    "duration": 263,
    "start_time": "2025-03-20T19:22:06.117Z"
   },
   {
    "duration": 267,
    "start_time": "2025-03-20T19:22:06.381Z"
   },
   {
    "duration": 260,
    "start_time": "2025-03-20T19:22:06.650Z"
   },
   {
    "duration": 186,
    "start_time": "2025-03-20T19:22:06.911Z"
   },
   {
    "duration": 513,
    "start_time": "2025-03-20T19:22:07.099Z"
   },
   {
    "duration": 26,
    "start_time": "2025-03-20T19:22:07.613Z"
   },
   {
    "duration": 36,
    "start_time": "2025-03-20T19:22:07.641Z"
   },
   {
    "duration": 18,
    "start_time": "2025-03-20T19:22:07.678Z"
   },
   {
    "duration": 112,
    "start_time": "2025-03-20T19:22:07.698Z"
   },
   {
    "duration": 90,
    "start_time": "2025-03-20T19:22:07.811Z"
   },
   {
    "duration": 92,
    "start_time": "2025-03-20T19:22:07.902Z"
   },
   {
    "duration": 16,
    "start_time": "2025-03-20T19:22:07.996Z"
   },
   {
    "duration": 6,
    "start_time": "2025-03-20T19:22:08.014Z"
   },
   {
    "duration": 10,
    "start_time": "2025-03-20T19:22:08.022Z"
   },
   {
    "duration": 43,
    "start_time": "2025-03-20T19:22:08.034Z"
   },
   {
    "duration": 15,
    "start_time": "2025-03-20T19:22:08.079Z"
   },
   {
    "duration": 7,
    "start_time": "2025-03-20T19:22:08.095Z"
   },
   {
    "duration": 1600,
    "start_time": "2025-03-20T19:22:08.103Z"
   },
   {
    "duration": 5,
    "start_time": "2025-03-20T19:22:09.705Z"
   },
   {
    "duration": 1099,
    "start_time": "2025-03-20T20:43:41.310Z"
   },
   {
    "duration": 54,
    "start_time": "2025-03-20T20:43:42.411Z"
   },
   {
    "duration": 18,
    "start_time": "2025-03-20T20:43:42.467Z"
   },
   {
    "duration": 8,
    "start_time": "2025-03-20T20:43:42.487Z"
   },
   {
    "duration": 7,
    "start_time": "2025-03-20T20:43:42.497Z"
   },
   {
    "duration": 12,
    "start_time": "2025-03-20T20:43:42.506Z"
   },
   {
    "duration": 14,
    "start_time": "2025-03-20T20:43:42.519Z"
   },
   {
    "duration": 7,
    "start_time": "2025-03-20T20:43:42.535Z"
   },
   {
    "duration": 18,
    "start_time": "2025-03-20T20:43:42.568Z"
   },
   {
    "duration": 10,
    "start_time": "2025-03-20T20:43:42.587Z"
   },
   {
    "duration": 9,
    "start_time": "2025-03-20T20:43:42.599Z"
   },
   {
    "duration": 4,
    "start_time": "2025-03-20T20:43:42.610Z"
   },
   {
    "duration": 8,
    "start_time": "2025-03-20T20:43:42.615Z"
   },
   {
    "duration": 4,
    "start_time": "2025-03-20T20:43:42.626Z"
   },
   {
    "duration": 11,
    "start_time": "2025-03-20T20:43:42.668Z"
   },
   {
    "duration": 7,
    "start_time": "2025-03-20T20:43:42.681Z"
   },
   {
    "duration": 9,
    "start_time": "2025-03-20T20:43:42.690Z"
   },
   {
    "duration": 9,
    "start_time": "2025-03-20T20:43:42.700Z"
   },
   {
    "duration": 4,
    "start_time": "2025-03-20T20:43:42.711Z"
   },
   {
    "duration": 8,
    "start_time": "2025-03-20T20:43:42.716Z"
   },
   {
    "duration": 46,
    "start_time": "2025-03-20T20:43:42.725Z"
   },
   {
    "duration": 13,
    "start_time": "2025-03-20T20:43:42.773Z"
   },
   {
    "duration": 177,
    "start_time": "2025-03-20T20:43:42.788Z"
   },
   {
    "duration": 18,
    "start_time": "2025-03-20T20:43:42.967Z"
   },
   {
    "duration": 161,
    "start_time": "2025-03-20T20:43:42.986Z"
   },
   {
    "duration": 25,
    "start_time": "2025-03-20T20:43:43.148Z"
   },
   {
    "duration": 239,
    "start_time": "2025-03-20T20:43:43.175Z"
   },
   {
    "duration": 13,
    "start_time": "2025-03-20T20:43:43.416Z"
   },
   {
    "duration": 9,
    "start_time": "2025-03-20T20:43:43.431Z"
   },
   {
    "duration": 183,
    "start_time": "2025-03-20T20:43:43.441Z"
   },
   {
    "duration": 8,
    "start_time": "2025-03-20T20:43:43.626Z"
   },
   {
    "duration": 292,
    "start_time": "2025-03-20T20:43:43.635Z"
   },
   {
    "duration": 8,
    "start_time": "2025-03-20T20:43:43.928Z"
   },
   {
    "duration": 288,
    "start_time": "2025-03-20T20:43:43.938Z"
   },
   {
    "duration": 312,
    "start_time": "2025-03-20T20:43:44.228Z"
   },
   {
    "duration": 11,
    "start_time": "2025-03-20T20:43:44.542Z"
   },
   {
    "duration": 25,
    "start_time": "2025-03-20T20:43:44.555Z"
   },
   {
    "duration": 24,
    "start_time": "2025-03-20T20:43:44.583Z"
   },
   {
    "duration": 13,
    "start_time": "2025-03-20T20:43:44.608Z"
   },
   {
    "duration": 12,
    "start_time": "2025-03-20T20:43:44.622Z"
   },
   {
    "duration": 53,
    "start_time": "2025-03-20T20:43:44.638Z"
   },
   {
    "duration": 15,
    "start_time": "2025-03-20T20:43:44.692Z"
   },
   {
    "duration": 287,
    "start_time": "2025-03-20T20:43:44.709Z"
   },
   {
    "duration": 288,
    "start_time": "2025-03-20T20:43:44.997Z"
   },
   {
    "duration": 283,
    "start_time": "2025-03-20T20:43:45.287Z"
   },
   {
    "duration": 272,
    "start_time": "2025-03-20T20:43:45.572Z"
   },
   {
    "duration": 185,
    "start_time": "2025-03-20T20:43:45.846Z"
   },
   {
    "duration": 484,
    "start_time": "2025-03-20T20:43:46.033Z"
   },
   {
    "duration": 23,
    "start_time": "2025-03-20T20:43:46.519Z"
   },
   {
    "duration": 47,
    "start_time": "2025-03-20T20:43:46.544Z"
   },
   {
    "duration": 19,
    "start_time": "2025-03-20T20:43:46.593Z"
   },
   {
    "duration": 112,
    "start_time": "2025-03-20T20:43:46.614Z"
   },
   {
    "duration": 168,
    "start_time": "2025-03-20T20:43:46.728Z"
   },
   {
    "duration": 110,
    "start_time": "2025-03-20T20:43:46.897Z"
   },
   {
    "duration": 14,
    "start_time": "2025-03-20T20:43:47.008Z"
   },
   {
    "duration": 5,
    "start_time": "2025-03-20T20:43:47.023Z"
   },
   {
    "duration": 31,
    "start_time": "2025-03-20T20:43:47.030Z"
   },
   {
    "duration": 31,
    "start_time": "2025-03-20T20:43:47.062Z"
   },
   {
    "duration": 15,
    "start_time": "2025-03-20T20:43:47.094Z"
   },
   {
    "duration": 5,
    "start_time": "2025-03-20T20:43:47.110Z"
   },
   {
    "duration": 1971,
    "start_time": "2025-03-20T20:43:47.117Z"
   },
   {
    "duration": 5,
    "start_time": "2025-03-20T20:43:49.089Z"
   }
  ],
  "kernelspec": {
   "display_name": "Python 3 (ipykernel)",
   "language": "python",
   "name": "python3"
  },
  "language_info": {
   "codemirror_mode": {
    "name": "ipython",
    "version": 3
   },
   "file_extension": ".py",
   "mimetype": "text/x-python",
   "name": "python",
   "nbconvert_exporter": "python",
   "pygments_lexer": "ipython3",
   "version": "3.9.5"
  },
  "toc": {
   "base_numbering": 1,
   "nav_menu": {},
   "number_sections": true,
   "sideBar": true,
   "skip_h1_title": true,
   "title_cell": "Table of Contents",
   "title_sidebar": "Contents",
   "toc_cell": false,
   "toc_position": {},
   "toc_section_display": true,
   "toc_window_display": false
  }
 },
 "nbformat": 4,
 "nbformat_minor": 5
}
