{
 "cells": [
  {
   "cell_type": "markdown",
   "metadata": {
    "deletable": false,
    "editable": false,
    "id": "E0vqbgi9ay0H"
   },
   "source": [
    "# Яндекс Музыка"
   ]
  },
  {
   "cell_type": "markdown",
   "metadata": {
    "deletable": false,
    "editable": false,
    "id": "VUC88oWjTJw2"
   },
   "source": [
    "Сравнение Москвы и Петербурга окружено мифами. Например:\n",
    " * Москва — мегаполис, подчинённый жёсткому ритму рабочей недели;\n",
    " * Петербург — культурная столица, со своими вкусами.\n",
    "\n",
    "На данных Яндекс Музыки вы сравните поведение пользователей двух столиц.\n",
    "\n",
    "**Цель исследования** — проверьте три гипотезы:\n",
    "1. Активность пользователей зависит от дня недели. Причём в Москве и Петербурге это проявляется по-разному.\n",
    "2. В понедельник утром в Москве преобладают одни жанры, а в Петербурге — другие. Так же и вечером пятницы преобладают разные жанры — в зависимости от города.\n",
    "3. Москва и Петербург предпочитают разные жанры музыки. В Москве чаще слушают поп-музыку, в Петербурге — русский рэп.\n",
    "\n",
    "**Ход исследования**\n",
    "\n",
    "Данные о поведении пользователей вы получите из файла `yandex_music_project.csv`. О качестве данных ничего не известно. Поэтому перед проверкой гипотез понадобится обзор данных.\n",
    "\n",
    "Вы проверите данные на ошибки и оцените их влияние на исследование. Затем, на этапе предобработки вы поищете возможность исправить самые критичные ошибки данных.\n",
    "\n",
    "Таким образом, исследование пройдёт в три этапа:\n",
    " 1. Обзор данных.\n",
    " 2. Предобработка данных.\n",
    " 3. Проверка гипотез.\n",
    "\n"
   ]
  },
  {
   "cell_type": "markdown",
   "metadata": {
    "deletable": false,
    "editable": false,
    "id": "Ml1hmfXC_Zcs"
   },
   "source": [
    "## Обзор данных\n",
    "\n",
    "Составьте первое представление о данных Яндекс Музыки.\n",
    "\n",
    "\n"
   ]
  },
  {
   "cell_type": "markdown",
   "metadata": {
    "deletable": false,
    "editable": false,
    "id": "57eAOGIz_Zcs",
    "tags": [
     "start_task"
    ]
   },
   "source": [
    "**Задание 1**"
   ]
  },
  {
   "cell_type": "code",
   "execution_count": 44,
   "metadata": {
    "deletable": false,
    "id": "AXN7PHPN_Zcs"
   },
   "outputs": [],
   "source": [
    "import pandas as pd # импорт библиотеки pandas"
   ]
  },
  {
   "cell_type": "markdown",
   "metadata": {
    "deletable": false,
    "editable": false,
    "id": "SG23P8tt_Zcs",
    "tags": [
     "start_task"
    ]
   },
   "source": [
    "**Задание 2**"
   ]
  },
  {
   "cell_type": "code",
   "execution_count": 45,
   "metadata": {
    "deletable": false,
    "id": "fFVu7vqh_Zct"
   },
   "outputs": [],
   "source": [
    "df = pd.read_csv('/datasets/yandex_music_project.csv') # чтение файла с данными и сохранение в df"
   ]
  },
  {
   "cell_type": "markdown",
   "metadata": {
    "deletable": false,
    "editable": false,
    "id": "rDoOMd3uTqnZ",
    "tags": [
     "start_task"
    ]
   },
   "source": [
    "**Задание 3**"
   ]
  },
  {
   "cell_type": "code",
   "execution_count": 46,
   "metadata": {
    "deletable": false,
    "id": "oWTVX3gW_Zct"
   },
   "outputs": [
    {
     "data": {
      "text/html": [
       "<div>\n",
       "<style scoped>\n",
       "    .dataframe tbody tr th:only-of-type {\n",
       "        vertical-align: middle;\n",
       "    }\n",
       "\n",
       "    .dataframe tbody tr th {\n",
       "        vertical-align: top;\n",
       "    }\n",
       "\n",
       "    .dataframe thead th {\n",
       "        text-align: right;\n",
       "    }\n",
       "</style>\n",
       "<table border=\"1\" class=\"dataframe\">\n",
       "  <thead>\n",
       "    <tr style=\"text-align: right;\">\n",
       "      <th></th>\n",
       "      <th>userID</th>\n",
       "      <th>Track</th>\n",
       "      <th>artist</th>\n",
       "      <th>genre</th>\n",
       "      <th>City</th>\n",
       "      <th>time</th>\n",
       "      <th>Day</th>\n",
       "    </tr>\n",
       "  </thead>\n",
       "  <tbody>\n",
       "    <tr>\n",
       "      <th>0</th>\n",
       "      <td>FFB692EC</td>\n",
       "      <td>Kamigata To Boots</td>\n",
       "      <td>The Mass Missile</td>\n",
       "      <td>rock</td>\n",
       "      <td>Saint-Petersburg</td>\n",
       "      <td>20:28:33</td>\n",
       "      <td>Wednesday</td>\n",
       "    </tr>\n",
       "    <tr>\n",
       "      <th>1</th>\n",
       "      <td>55204538</td>\n",
       "      <td>Delayed Because of Accident</td>\n",
       "      <td>Andreas Rönnberg</td>\n",
       "      <td>rock</td>\n",
       "      <td>Moscow</td>\n",
       "      <td>14:07:09</td>\n",
       "      <td>Friday</td>\n",
       "    </tr>\n",
       "    <tr>\n",
       "      <th>2</th>\n",
       "      <td>20EC38</td>\n",
       "      <td>Funiculì funiculà</td>\n",
       "      <td>Mario Lanza</td>\n",
       "      <td>pop</td>\n",
       "      <td>Saint-Petersburg</td>\n",
       "      <td>20:58:07</td>\n",
       "      <td>Wednesday</td>\n",
       "    </tr>\n",
       "    <tr>\n",
       "      <th>3</th>\n",
       "      <td>A3DD03C9</td>\n",
       "      <td>Dragons in the Sunset</td>\n",
       "      <td>Fire + Ice</td>\n",
       "      <td>folk</td>\n",
       "      <td>Saint-Petersburg</td>\n",
       "      <td>08:37:09</td>\n",
       "      <td>Monday</td>\n",
       "    </tr>\n",
       "    <tr>\n",
       "      <th>4</th>\n",
       "      <td>E2DC1FAE</td>\n",
       "      <td>Soul People</td>\n",
       "      <td>Space Echo</td>\n",
       "      <td>dance</td>\n",
       "      <td>Moscow</td>\n",
       "      <td>08:34:34</td>\n",
       "      <td>Monday</td>\n",
       "    </tr>\n",
       "    <tr>\n",
       "      <th>5</th>\n",
       "      <td>842029A1</td>\n",
       "      <td>Преданная</td>\n",
       "      <td>IMPERVTOR</td>\n",
       "      <td>rusrap</td>\n",
       "      <td>Saint-Petersburg</td>\n",
       "      <td>13:09:41</td>\n",
       "      <td>Friday</td>\n",
       "    </tr>\n",
       "    <tr>\n",
       "      <th>6</th>\n",
       "      <td>4CB90AA5</td>\n",
       "      <td>True</td>\n",
       "      <td>Roman Messer</td>\n",
       "      <td>dance</td>\n",
       "      <td>Moscow</td>\n",
       "      <td>13:00:07</td>\n",
       "      <td>Wednesday</td>\n",
       "    </tr>\n",
       "    <tr>\n",
       "      <th>7</th>\n",
       "      <td>F03E1C1F</td>\n",
       "      <td>Feeling This Way</td>\n",
       "      <td>Polina Griffith</td>\n",
       "      <td>dance</td>\n",
       "      <td>Moscow</td>\n",
       "      <td>20:47:49</td>\n",
       "      <td>Wednesday</td>\n",
       "    </tr>\n",
       "    <tr>\n",
       "      <th>8</th>\n",
       "      <td>8FA1D3BE</td>\n",
       "      <td>И вновь продолжается бой</td>\n",
       "      <td>NaN</td>\n",
       "      <td>ruspop</td>\n",
       "      <td>Moscow</td>\n",
       "      <td>09:17:40</td>\n",
       "      <td>Friday</td>\n",
       "    </tr>\n",
       "    <tr>\n",
       "      <th>9</th>\n",
       "      <td>E772D5C0</td>\n",
       "      <td>Pessimist</td>\n",
       "      <td>NaN</td>\n",
       "      <td>dance</td>\n",
       "      <td>Saint-Petersburg</td>\n",
       "      <td>21:20:49</td>\n",
       "      <td>Wednesday</td>\n",
       "    </tr>\n",
       "  </tbody>\n",
       "</table>\n",
       "</div>"
      ],
      "text/plain": [
       "     userID                        Track            artist   genre  \\\n",
       "0  FFB692EC            Kamigata To Boots  The Mass Missile    rock   \n",
       "1  55204538  Delayed Because of Accident  Andreas Rönnberg    rock   \n",
       "2    20EC38            Funiculì funiculà       Mario Lanza     pop   \n",
       "3  A3DD03C9        Dragons in the Sunset        Fire + Ice    folk   \n",
       "4  E2DC1FAE                  Soul People        Space Echo   dance   \n",
       "5  842029A1                    Преданная         IMPERVTOR  rusrap   \n",
       "6  4CB90AA5                         True      Roman Messer   dance   \n",
       "7  F03E1C1F             Feeling This Way   Polina Griffith   dance   \n",
       "8  8FA1D3BE     И вновь продолжается бой               NaN  ruspop   \n",
       "9  E772D5C0                    Pessimist               NaN   dance   \n",
       "\n",
       "             City        time        Day  \n",
       "0  Saint-Petersburg  20:28:33  Wednesday  \n",
       "1            Moscow  14:07:09     Friday  \n",
       "2  Saint-Petersburg  20:58:07  Wednesday  \n",
       "3  Saint-Petersburg  08:37:09     Monday  \n",
       "4            Moscow  08:34:34     Monday  \n",
       "5  Saint-Petersburg  13:09:41     Friday  \n",
       "6            Moscow  13:00:07  Wednesday  \n",
       "7            Moscow  20:47:49  Wednesday  \n",
       "8            Moscow  09:17:40     Friday  \n",
       "9  Saint-Petersburg  21:20:49  Wednesday  "
      ]
     },
     "execution_count": 46,
     "metadata": {},
     "output_type": "execute_result"
    }
   ],
   "source": [
    "df.head(10) # получение первых 10 строк таблицы df"
   ]
  },
  {
   "cell_type": "markdown",
   "metadata": {
    "deletable": false,
    "editable": false,
    "id": "EO73Kwic_Zct",
    "tags": [
     "start_task"
    ]
   },
   "source": [
    "**Задание 4**"
   ]
  },
  {
   "cell_type": "code",
   "execution_count": 47,
   "metadata": {
    "deletable": false,
    "id": "DSf2kIb-_Zct"
   },
   "outputs": [
    {
     "name": "stdout",
     "output_type": "stream",
     "text": [
      "<class 'pandas.core.frame.DataFrame'>\n",
      "RangeIndex: 65079 entries, 0 to 65078\n",
      "Data columns (total 7 columns):\n",
      " #   Column    Non-Null Count  Dtype \n",
      "---  ------    --------------  ----- \n",
      " 0     userID  65079 non-null  object\n",
      " 1   Track     63848 non-null  object\n",
      " 2   artist    57876 non-null  object\n",
      " 3   genre     63881 non-null  object\n",
      " 4     City    65079 non-null  object\n",
      " 5   time      65079 non-null  object\n",
      " 6   Day       65079 non-null  object\n",
      "dtypes: object(7)\n",
      "memory usage: 3.5+ MB\n"
     ]
    }
   ],
   "source": [
    "df.info() # получение общей информации о данных в таблице df"
   ]
  },
  {
   "cell_type": "markdown",
   "metadata": {
    "deletable": false,
    "editable": false,
    "id": "TaQ2Iwbr_Zct"
   },
   "source": [
    "Количество значений в столбцах различается. Значит, в данных есть пропущенные значения."
   ]
  },
  {
   "cell_type": "markdown",
   "metadata": {
    "deletable": false,
    "editable": false,
    "id": "4P0UCWzswgEm",
    "tags": [
     "start_task"
    ]
   },
   "source": [
    "**Задание 5**"
   ]
  },
  {
   "cell_type": "code",
   "execution_count": 5,
   "metadata": {
    "id": "c137-ZstwgEm"
   },
   "outputs": [],
   "source": [
    "# змеиный регистр Напишите ваш ответ здесь комментарием. Не удаляйте символ #. Не меняйте тип этой ячейки на Markdown."
   ]
  },
  {
   "cell_type": "markdown",
   "metadata": {
    "deletable": false,
    "editable": false,
    "id": "MCB6-dXG_Zct"
   },
   "source": [
    "**Выводы**\n",
    "\n",
    "В каждой строке таблицы — данные о прослушанном треке. Часть колонок описывает саму композицию: название, исполнителя и жанр. Остальные данные рассказывают о пользователе: из какого он города, когда он слушал музыку.\n",
    "\n",
    "Предварительно можно утверждать, что данных достаточно для проверки гипотез. Но встречаются пропуски в данных, а в названиях колонок — расхождения с хорошим стилем.\n",
    "\n",
    "Чтобы двигаться дальше, нужно устранить проблемы в данных."
   ]
  },
  {
   "cell_type": "markdown",
   "metadata": {
    "deletable": false,
    "editable": false,
    "id": "SjYF6Ub9_Zct"
   },
   "source": [
    "## Предобработка данных"
   ]
  },
  {
   "cell_type": "markdown",
   "metadata": {
    "deletable": false,
    "editable": false,
    "id": "dIaKXr29_Zct",
    "tags": [
     "start_task"
    ]
   },
   "source": [
    "### Переименование столбцов\n",
    "\n",
    "**Задание 6**"
   ]
  },
  {
   "cell_type": "code",
   "execution_count": 48,
   "metadata": {
    "deletable": false,
    "id": "oKOTdF_Q_Zct"
   },
   "outputs": [
    {
     "data": {
      "text/plain": [
       "Index(['  userID', 'Track', 'artist', 'genre', '  City  ', 'time', 'Day'], dtype='object')"
      ]
     },
     "execution_count": 48,
     "metadata": {},
     "output_type": "execute_result"
    }
   ],
   "source": [
    "df.columns # перечень названий столбцов таблицы df"
   ]
  },
  {
   "cell_type": "markdown",
   "metadata": {
    "deletable": false,
    "editable": false,
    "id": "zj5534cv_Zct",
    "tags": [
     "start_task"
    ]
   },
   "source": [
    "**Задание 7**"
   ]
  },
  {
   "cell_type": "code",
   "execution_count": 49,
   "metadata": {
    "deletable": false,
    "id": "ISlFqs5y_Zct"
   },
   "outputs": [],
   "source": [
    "df = df.rename(columns={'  userID' : 'user_id', 'Track' : 'track', '  City  ' : 'city', 'Day' : 'day'})  # переименование столбцов"
   ]
  },
  {
   "cell_type": "markdown",
   "metadata": {
    "deletable": false,
    "editable": false,
    "id": "1dqbh00J_Zct",
    "tags": [
     "start_task"
    ]
   },
   "source": [
    "**Задание 8**"
   ]
  },
  {
   "cell_type": "code",
   "execution_count": 50,
   "metadata": {
    "deletable": false,
    "id": "d4NOAmTW_Zct"
   },
   "outputs": [
    {
     "data": {
      "text/plain": [
       "Index(['user_id', 'track', 'artist', 'genre', 'city', 'time', 'day'], dtype='object')"
      ]
     },
     "execution_count": 50,
     "metadata": {},
     "output_type": "execute_result"
    }
   ],
   "source": [
    "df.columns # проверка результатов - перечень названий столбцов"
   ]
  },
  {
   "cell_type": "markdown",
   "metadata": {
    "deletable": false,
    "editable": false,
    "id": "5ISfbcfY_Zct",
    "tags": [
     "start_task"
    ]
   },
   "source": [
    "### Обработка пропущенных значений\n",
    "\n",
    "**Задание 9**"
   ]
  },
  {
   "cell_type": "code",
   "execution_count": 9,
   "metadata": {
    "deletable": false,
    "id": "RskX29qr_Zct"
   },
   "outputs": [
    {
     "data": {
      "text/plain": [
       "user_id       0\n",
       "track      1231\n",
       "artist     7203\n",
       "genre      1198\n",
       "city          0\n",
       "time          0\n",
       "day           0\n",
       "dtype: int64"
      ]
     },
     "execution_count": 9,
     "metadata": {},
     "output_type": "execute_result"
    }
   ],
   "source": [
    "df.isna().sum() # подсчёт пропусков"
   ]
  },
  {
   "cell_type": "markdown",
   "metadata": {
    "deletable": false,
    "editable": false,
    "id": "fSv2laPA_Zct",
    "tags": [
     "start_task"
    ]
   },
   "source": [
    "**Задание 10**"
   ]
  },
  {
   "cell_type": "code",
   "execution_count": 51,
   "metadata": {
    "deletable": false,
    "id": "KplB5qWs_Zct"
   },
   "outputs": [],
   "source": [
    "columns_to_replace = ['track', 'artist', 'genre']  # список со столбцами, в которых нужно заменить значения\n",
    "\n",
    "for column in columns_to_replace:\n",
    "    df['track'] = df['track'].fillna('unknown') \n",
    "    df['artist'] = df['artist'].fillna('unknown')\n",
    "    df['genre'] = df['genre'].fillna('unknown') # замена пропущенных значений на 'unknown'"
   ]
  },
  {
   "cell_type": "markdown",
   "metadata": {
    "deletable": false,
    "editable": false,
    "id": "Ilsm-MZo_Zct",
    "tags": [
     "start_task"
    ]
   },
   "source": [
    "**Задание 11**"
   ]
  },
  {
   "cell_type": "code",
   "execution_count": 52,
   "metadata": {
    "deletable": false,
    "id": "Tq4nYRX4_Zct"
   },
   "outputs": [
    {
     "data": {
      "text/plain": [
       "user_id    0\n",
       "track      0\n",
       "artist     0\n",
       "genre      0\n",
       "city       0\n",
       "time       0\n",
       "day        0\n",
       "dtype: int64"
      ]
     },
     "execution_count": 52,
     "metadata": {},
     "output_type": "execute_result"
    }
   ],
   "source": [
    "df.isna().sum() # проверка на отсутствие пропусков"
   ]
  },
  {
   "cell_type": "markdown",
   "metadata": {
    "deletable": false,
    "editable": false,
    "id": "BWKRtBJ3_Zct",
    "tags": [
     "start_task"
    ]
   },
   "source": [
    "### Обработка дубликатов\n",
    "\n",
    "**Задание 12**"
   ]
  },
  {
   "cell_type": "code",
   "execution_count": 53,
   "metadata": {
    "deletable": false,
    "id": "36eES_S0_Zct"
   },
   "outputs": [
    {
     "data": {
      "text/plain": [
       "3826"
      ]
     },
     "execution_count": 53,
     "metadata": {},
     "output_type": "execute_result"
    }
   ],
   "source": [
    "df.duplicated().sum() # подсчёт явных дубликатов"
   ]
  },
  {
   "cell_type": "markdown",
   "metadata": {
    "deletable": false,
    "editable": false,
    "id": "Ot25h6XR_Zct",
    "tags": [
     "start_task"
    ]
   },
   "source": [
    "**Задание 13**"
   ]
  },
  {
   "cell_type": "code",
   "execution_count": 54,
   "metadata": {
    "deletable": false,
    "id": "exFHq6tt_Zct"
   },
   "outputs": [],
   "source": [
    "df = df.drop_duplicates().reset_index(drop=True) # удаление явных дубликатов, создание новых индексов и удаление старых"
   ]
  },
  {
   "cell_type": "markdown",
   "metadata": {
    "deletable": false,
    "editable": false,
    "id": "Im2YwBEG_Zct",
    "tags": [
     "start_task"
    ]
   },
   "source": [
    "**Задание 14**"
   ]
  },
  {
   "cell_type": "code",
   "execution_count": 55,
   "metadata": {
    "deletable": false,
    "id": "-8PuNWQ0_Zct"
   },
   "outputs": [
    {
     "data": {
      "text/plain": [
       "0"
      ]
     },
     "execution_count": 55,
     "metadata": {},
     "output_type": "execute_result"
    }
   ],
   "source": [
    "df.duplicated().sum() # проверка на отсутствие явных дубликатов"
   ]
  },
  {
   "cell_type": "markdown",
   "metadata": {
    "deletable": false,
    "editable": false,
    "id": "eSjWwsOh_Zct",
    "tags": [
     "start_task"
    ]
   },
   "source": [
    "**Задание 15**"
   ]
  },
  {
   "cell_type": "code",
   "execution_count": 56,
   "metadata": {
    "deletable": false,
    "id": "JIUcqzZN_Zct"
   },
   "outputs": [
    {
     "data": {
      "text/plain": [
       "array(['acid', 'acoustic', 'action', 'adult', 'africa', 'afrikaans',\n",
       "       'alternative', 'alternativepunk', 'ambient', 'americana',\n",
       "       'animated', 'anime', 'arabesk', 'arabic', 'arena',\n",
       "       'argentinetango', 'art', 'audiobook', 'author', 'avantgarde',\n",
       "       'axé', 'baile', 'balkan', 'beats', 'bigroom', 'black', 'bluegrass',\n",
       "       'blues', 'bollywood', 'bossa', 'brazilian', 'breakbeat', 'breaks',\n",
       "       'broadway', 'cantautori', 'cantopop', 'canzone', 'caribbean',\n",
       "       'caucasian', 'celtic', 'chamber', 'chanson', 'children', 'chill',\n",
       "       'chinese', 'choral', 'christian', 'christmas', 'classical',\n",
       "       'classicmetal', 'club', 'colombian', 'comedy', 'conjazz',\n",
       "       'contemporary', 'country', 'cuban', 'dance', 'dancehall',\n",
       "       'dancepop', 'dark', 'death', 'deep', 'deutschrock', 'deutschspr',\n",
       "       'dirty', 'disco', 'dnb', 'documentary', 'downbeat', 'downtempo',\n",
       "       'drum', 'dub', 'dubstep', 'eastern', 'easy', 'electronic',\n",
       "       'electropop', 'emo', 'entehno', 'epicmetal', 'estrada', 'ethnic',\n",
       "       'eurofolk', 'european', 'experimental', 'extrememetal', 'fado',\n",
       "       'fairytail', 'film', 'fitness', 'flamenco', 'folk', 'folklore',\n",
       "       'folkmetal', 'folkrock', 'folktronica', 'forró', 'frankreich',\n",
       "       'französisch', 'french', 'funk', 'future', 'gangsta', 'garage',\n",
       "       'german', 'ghazal', 'gitarre', 'glitch', 'gospel', 'gothic',\n",
       "       'grime', 'grunge', 'gypsy', 'handsup', \"hard'n'heavy\", 'hardcore',\n",
       "       'hardstyle', 'hardtechno', 'hip', 'hip-hop', 'hiphop',\n",
       "       'historisch', 'holiday', 'hop', 'horror', 'house', 'hymn', 'idm',\n",
       "       'independent', 'indian', 'indie', 'indipop', 'industrial',\n",
       "       'inspirational', 'instrumental', 'international', 'irish', 'jam',\n",
       "       'japanese', 'jazz', 'jewish', 'jpop', 'jungle', 'k-pop',\n",
       "       'karadeniz', 'karaoke', 'kayokyoku', 'korean', 'laiko', 'latin',\n",
       "       'latino', 'leftfield', 'local', 'lounge', 'loungeelectronic',\n",
       "       'lovers', 'malaysian', 'mandopop', 'marschmusik', 'meditative',\n",
       "       'mediterranean', 'melodic', 'metal', 'metalcore', 'mexican',\n",
       "       'middle', 'minimal', 'miscellaneous', 'modern', 'mood', 'mpb',\n",
       "       'muslim', 'native', 'neoklassik', 'neue', 'new', 'newage',\n",
       "       'newwave', 'nu', 'nujazz', 'numetal', 'oceania', 'old', 'opera',\n",
       "       'orchestral', 'other', 'piano', 'podcasts', 'pop', 'popdance',\n",
       "       'popelectronic', 'popeurodance', 'poprussian', 'post',\n",
       "       'posthardcore', 'postrock', 'power', 'progmetal', 'progressive',\n",
       "       'psychedelic', 'punjabi', 'punk', 'quebecois', 'ragga', 'ram',\n",
       "       'rancheras', 'rap', 'rave', 'reggae', 'reggaeton', 'regional',\n",
       "       'relax', 'religious', 'retro', 'rhythm', 'rnb', 'rnr', 'rock',\n",
       "       'rockabilly', 'rockalternative', 'rockindie', 'rockother',\n",
       "       'romance', 'roots', 'ruspop', 'rusrap', 'rusrock', 'russian',\n",
       "       'salsa', 'samba', 'scenic', 'schlager', 'self', 'sertanejo',\n",
       "       'shanson', 'shoegazing', 'showtunes', 'singer', 'ska', 'skarock',\n",
       "       'slow', 'smooth', 'soft', 'soul', 'soulful', 'sound', 'soundtrack',\n",
       "       'southern', 'specialty', 'speech', 'spiritual', 'sport',\n",
       "       'stonerrock', 'surf', 'swing', 'synthpop', 'synthrock',\n",
       "       'sängerportrait', 'tango', 'tanzorchester', 'taraftar', 'tatar',\n",
       "       'tech', 'techno', 'teen', 'thrash', 'top', 'traditional',\n",
       "       'tradjazz', 'trance', 'tribal', 'trip', 'triphop', 'tropical',\n",
       "       'türk', 'türkçe', 'ukrrock', 'unknown', 'urban', 'uzbek',\n",
       "       'variété', 'vi', 'videogame', 'vocal', 'western', 'world',\n",
       "       'worldbeat', 'ïîï', 'электроника'], dtype=object)"
      ]
     },
     "execution_count": 56,
     "metadata": {},
     "output_type": "execute_result"
    }
   ],
   "source": [
    "df_genre = df['genre']\n",
    "df_genre.sort_values(ascending=True).unique()\n",
    "\n",
    "# просмотр уникальных отсортированных названий жанров"
   ]
  },
  {
   "cell_type": "markdown",
   "metadata": {
    "deletable": false,
    "editable": false,
    "id": "qej-Qmuo_Zct",
    "tags": [
     "start_task"
    ]
   },
   "source": [
    "**Задание 16**"
   ]
  },
  {
   "cell_type": "code",
   "execution_count": 57,
   "metadata": {
    "deletable": false,
    "id": "ErNDkmns_Zct"
   },
   "outputs": [],
   "source": [
    "df['genre'] = df['genre'].replace('hip','hiphop') \n",
    "df['genre'] = df['genre'].replace('hop', 'hiphop') \n",
    "df['genre'] = df['genre'].replace('hip-hop', 'hiphop') \n",
    "# устранение неявных дубликатов"
   ]
  },
  {
   "cell_type": "markdown",
   "metadata": {
    "deletable": false,
    "editable": false,
    "id": "zQKF16_RG15m",
    "tags": [
     "start_task"
    ]
   },
   "source": [
    "**Задание 17**"
   ]
  },
  {
   "cell_type": "code",
   "execution_count": 58,
   "metadata": {
    "deletable": false,
    "id": "wvixALnFG15m"
   },
   "outputs": [
    {
     "data": {
      "text/plain": [
       "array(['acid', 'acoustic', 'action', 'adult', 'africa', 'afrikaans',\n",
       "       'alternative', 'alternativepunk', 'ambient', 'americana',\n",
       "       'animated', 'anime', 'arabesk', 'arabic', 'arena',\n",
       "       'argentinetango', 'art', 'audiobook', 'author', 'avantgarde',\n",
       "       'axé', 'baile', 'balkan', 'beats', 'bigroom', 'black', 'bluegrass',\n",
       "       'blues', 'bollywood', 'bossa', 'brazilian', 'breakbeat', 'breaks',\n",
       "       'broadway', 'cantautori', 'cantopop', 'canzone', 'caribbean',\n",
       "       'caucasian', 'celtic', 'chamber', 'chanson', 'children', 'chill',\n",
       "       'chinese', 'choral', 'christian', 'christmas', 'classical',\n",
       "       'classicmetal', 'club', 'colombian', 'comedy', 'conjazz',\n",
       "       'contemporary', 'country', 'cuban', 'dance', 'dancehall',\n",
       "       'dancepop', 'dark', 'death', 'deep', 'deutschrock', 'deutschspr',\n",
       "       'dirty', 'disco', 'dnb', 'documentary', 'downbeat', 'downtempo',\n",
       "       'drum', 'dub', 'dubstep', 'eastern', 'easy', 'electronic',\n",
       "       'electropop', 'emo', 'entehno', 'epicmetal', 'estrada', 'ethnic',\n",
       "       'eurofolk', 'european', 'experimental', 'extrememetal', 'fado',\n",
       "       'fairytail', 'film', 'fitness', 'flamenco', 'folk', 'folklore',\n",
       "       'folkmetal', 'folkrock', 'folktronica', 'forró', 'frankreich',\n",
       "       'französisch', 'french', 'funk', 'future', 'gangsta', 'garage',\n",
       "       'german', 'ghazal', 'gitarre', 'glitch', 'gospel', 'gothic',\n",
       "       'grime', 'grunge', 'gypsy', 'handsup', \"hard'n'heavy\", 'hardcore',\n",
       "       'hardstyle', 'hardtechno', 'hiphop', 'historisch', 'holiday',\n",
       "       'horror', 'house', 'hymn', 'idm', 'independent', 'indian', 'indie',\n",
       "       'indipop', 'industrial', 'inspirational', 'instrumental',\n",
       "       'international', 'irish', 'jam', 'japanese', 'jazz', 'jewish',\n",
       "       'jpop', 'jungle', 'k-pop', 'karadeniz', 'karaoke', 'kayokyoku',\n",
       "       'korean', 'laiko', 'latin', 'latino', 'leftfield', 'local',\n",
       "       'lounge', 'loungeelectronic', 'lovers', 'malaysian', 'mandopop',\n",
       "       'marschmusik', 'meditative', 'mediterranean', 'melodic', 'metal',\n",
       "       'metalcore', 'mexican', 'middle', 'minimal', 'miscellaneous',\n",
       "       'modern', 'mood', 'mpb', 'muslim', 'native', 'neoklassik', 'neue',\n",
       "       'new', 'newage', 'newwave', 'nu', 'nujazz', 'numetal', 'oceania',\n",
       "       'old', 'opera', 'orchestral', 'other', 'piano', 'podcasts', 'pop',\n",
       "       'popdance', 'popelectronic', 'popeurodance', 'poprussian', 'post',\n",
       "       'posthardcore', 'postrock', 'power', 'progmetal', 'progressive',\n",
       "       'psychedelic', 'punjabi', 'punk', 'quebecois', 'ragga', 'ram',\n",
       "       'rancheras', 'rap', 'rave', 'reggae', 'reggaeton', 'regional',\n",
       "       'relax', 'religious', 'retro', 'rhythm', 'rnb', 'rnr', 'rock',\n",
       "       'rockabilly', 'rockalternative', 'rockindie', 'rockother',\n",
       "       'romance', 'roots', 'ruspop', 'rusrap', 'rusrock', 'russian',\n",
       "       'salsa', 'samba', 'scenic', 'schlager', 'self', 'sertanejo',\n",
       "       'shanson', 'shoegazing', 'showtunes', 'singer', 'ska', 'skarock',\n",
       "       'slow', 'smooth', 'soft', 'soul', 'soulful', 'sound', 'soundtrack',\n",
       "       'southern', 'specialty', 'speech', 'spiritual', 'sport',\n",
       "       'stonerrock', 'surf', 'swing', 'synthpop', 'synthrock',\n",
       "       'sängerportrait', 'tango', 'tanzorchester', 'taraftar', 'tatar',\n",
       "       'tech', 'techno', 'teen', 'thrash', 'top', 'traditional',\n",
       "       'tradjazz', 'trance', 'tribal', 'trip', 'triphop', 'tropical',\n",
       "       'türk', 'türkçe', 'ukrrock', 'unknown', 'urban', 'uzbek',\n",
       "       'variété', 'vi', 'videogame', 'vocal', 'western', 'world',\n",
       "       'worldbeat', 'ïîï', 'электроника'], dtype=object)"
      ]
     },
     "execution_count": 58,
     "metadata": {},
     "output_type": "execute_result"
    }
   ],
   "source": [
    "genre_final_count = df[df['genre'] == 'hip']['genre'].count()\n",
    "genre_final_count = df[df['genre'] == 'hop']['genre'].count()\n",
    "genre_final_count = df[df['genre'] == 'hip-hop']['genre'].count()\n",
    "\n",
    "df_genre = df['genre']\n",
    "df_genre.sort_values(ascending=True).unique()\n"
   ]
  },
  {
   "cell_type": "markdown",
   "metadata": {
    "deletable": false,
    "editable": false,
    "id": "jz6a9-7HQUDd"
   },
   "source": [
    "**Выводы**\n",
    "\n",
    "Предобработка обнаружила три проблемы в данных:\n",
    "\n",
    "- нарушения в стиле заголовков,\n",
    "- пропущенные значения,\n",
    "- дубликаты — явные и неявные.\n",
    "\n",
    "Вы исправили заголовки, чтобы упростить работу с таблицей. Без дубликатов исследование станет более точным.\n",
    "\n",
    "Пропущенные значения вы заменили на `'unknown'`. Ещё предстоит увидеть, не повредят ли исследованию пропуски в колонке `genre`.\n",
    "\n",
    "Теперь можно перейти к проверке гипотез."
   ]
  },
  {
   "cell_type": "markdown",
   "metadata": {
    "deletable": false,
    "editable": false,
    "id": "WttZHXH0SqKk"
   },
   "source": [
    "## Проверка гипотез"
   ]
  },
  {
   "cell_type": "markdown",
   "metadata": {
    "deletable": false,
    "editable": false,
    "id": "Im936VVi_Zcu"
   },
   "source": [
    "### Сравнение поведения пользователей двух столиц"
   ]
  },
  {
   "cell_type": "markdown",
   "metadata": {
    "deletable": false,
    "editable": false,
    "id": "nwt_MuaL_Zcu"
   },
   "source": [
    "Первая гипотеза утверждает, что пользователи по-разному слушают музыку в Москве и Санкт-Петербурге. Проверим это предположение по данным о трёх днях недели — понедельнике, среде и пятнице. Для этого:\n",
    "\n",
    "* Разделим пользователей Москвы и Санкт-Петербурга.\n",
    "* Сравним, сколько треков послушала каждая группа пользователей в понедельник, среду и пятницу.\n"
   ]
  },
  {
   "cell_type": "markdown",
   "metadata": {
    "deletable": false,
    "id": "8Dw_YMmT_Zcu",
    "tags": [
     "start_task"
    ]
   },
   "source": [
    "**Задание 18**\n",
    "\n"
   ]
  },
  {
   "cell_type": "code",
   "execution_count": 59,
   "metadata": {
    "deletable": false,
    "id": "0_Qs96oh_Zcu"
   },
   "outputs": [
    {
     "data": {
      "text/plain": [
       "city\n",
       "Moscow              42741\n",
       "Saint-Petersburg    18512\n",
       "Name: day, dtype: int64"
      ]
     },
     "execution_count": 59,
     "metadata": {},
     "output_type": "execute_result"
    }
   ],
   "source": [
    "city_grouping = df.groupby('city')['day'].count()\n",
    "city_grouping\n",
    "\n",
    "# подсчёт прослушиваний в каждом городе"
   ]
  },
  {
   "cell_type": "markdown",
   "metadata": {
    "id": "dzli3w8o_Zcu",
    "tags": [
     "start_task"
    ]
   },
   "source": [
    "**Задание 19**\n"
   ]
  },
  {
   "cell_type": "code",
   "execution_count": 60,
   "metadata": {
    "deletable": false,
    "id": "uZMKjiJz_Zcu"
   },
   "outputs": [
    {
     "data": {
      "text/plain": [
       "day\n",
       "Friday       21840\n",
       "Monday       21354\n",
       "Wednesday    18059\n",
       "Name: city, dtype: int64"
      ]
     },
     "execution_count": 60,
     "metadata": {},
     "output_type": "execute_result"
    }
   ],
   "source": [
    "day_grouping = df.groupby('day')['city'].count()\n",
    "day_grouping  # подсчёт прослушиваний в каждый из трёх дней"
   ]
  },
  {
   "cell_type": "markdown",
   "metadata": {
    "deletable": false,
    "editable": false,
    "id": "POzs8bGa_Zcu",
    "tags": [
     "start_task"
    ]
   },
   "source": [
    "**Задание 20**"
   ]
  },
  {
   "cell_type": "code",
   "execution_count": 61,
   "metadata": {
    "deletable": false,
    "id": "Nz3GdQB1_Zcu"
   },
   "outputs": [],
   "source": [
    "def number_tracks(day, city):\n",
    "    track_list = df[df['day'] == day]  # выберите только строки df со значением переменной day в столбце day\n",
    "    track_list = track_list[track_list['city'] == city] # выберите только строки track_list со значением переменной city в столбце city\n",
    "    track_list_count = track_list['user_id'].count()\n",
    "\n",
    "    return track_list_count # верните значение track_list_count из функции"
   ]
  },
  {
   "cell_type": "markdown",
   "metadata": {
    "deletable": false,
    "editable": false,
    "id": "ytf7xFrFJQ2r",
    "tags": [
     "start_task"
    ]
   },
   "source": [
    "**Задание 21**"
   ]
  },
  {
   "cell_type": "code",
   "execution_count": 62,
   "metadata": {
    "deletable": false,
    "id": "rJcRATNQ_Zcu"
   },
   "outputs": [
    {
     "data": {
      "text/plain": [
       "15740"
      ]
     },
     "execution_count": 62,
     "metadata": {},
     "output_type": "execute_result"
    }
   ],
   "source": [
    "number_tracks('Monday', 'Moscow')# количество прослушиваний в Москве по понедельникам"
   ]
  },
  {
   "cell_type": "code",
   "execution_count": 63,
   "metadata": {
    "deletable": false,
    "id": "hq_ncZ5T_Zcu"
   },
   "outputs": [
    {
     "data": {
      "text/plain": [
       "5614"
      ]
     },
     "execution_count": 63,
     "metadata": {},
     "output_type": "execute_result"
    }
   ],
   "source": [
    "number_tracks('Monday', 'Saint-Petersburg')# количество прослушиваний в Санкт-Петербурге по понедельникам"
   ]
  },
  {
   "cell_type": "code",
   "execution_count": 64,
   "metadata": {
    "deletable": false,
    "id": "_NTy2VPU_Zcu"
   },
   "outputs": [
    {
     "data": {
      "text/plain": [
       "11056"
      ]
     },
     "execution_count": 64,
     "metadata": {},
     "output_type": "execute_result"
    }
   ],
   "source": [
    "number_tracks('Wednesday', 'Moscow')# количество прослушиваний в Москве по средам"
   ]
  },
  {
   "cell_type": "code",
   "execution_count": 65,
   "metadata": {
    "deletable": false,
    "id": "j2y3TAwo_Zcu"
   },
   "outputs": [
    {
     "data": {
      "text/plain": [
       "7003"
      ]
     },
     "execution_count": 65,
     "metadata": {},
     "output_type": "execute_result"
    }
   ],
   "source": [
    "number_tracks('Wednesday', 'Saint-Petersburg')# количество прослушиваний в Санкт-Петербурге по средам"
   ]
  },
  {
   "cell_type": "code",
   "execution_count": 66,
   "metadata": {
    "deletable": false,
    "id": "vYDw5u_K_Zcu"
   },
   "outputs": [
    {
     "data": {
      "text/plain": [
       "15945"
      ]
     },
     "execution_count": 66,
     "metadata": {},
     "output_type": "execute_result"
    }
   ],
   "source": [
    "number_tracks('Friday', 'Moscow')# количество прослушиваний в Москве по пятницам"
   ]
  },
  {
   "cell_type": "code",
   "execution_count": 67,
   "metadata": {
    "deletable": false,
    "id": "8_yzFtW3_Zcu"
   },
   "outputs": [
    {
     "data": {
      "text/plain": [
       "5895"
      ]
     },
     "execution_count": 67,
     "metadata": {},
     "output_type": "execute_result"
    }
   ],
   "source": [
    "number_tracks('Friday', 'Saint-Petersburg')# количество прослушиваний в Санкт-Петербурге по пятницам"
   ]
  },
  {
   "cell_type": "markdown",
   "metadata": {
    "deletable": false,
    "editable": false,
    "id": "7QXffbO-_Zcu",
    "tags": [
     "start_task"
    ]
   },
   "source": [
    "**Задание 22**"
   ]
  },
  {
   "cell_type": "code",
   "execution_count": 68,
   "metadata": {
    "deletable": false,
    "id": "APAcLpOr_Zcu"
   },
   "outputs": [
    {
     "data": {
      "text/html": [
       "<div>\n",
       "<style scoped>\n",
       "    .dataframe tbody tr th:only-of-type {\n",
       "        vertical-align: middle;\n",
       "    }\n",
       "\n",
       "    .dataframe tbody tr th {\n",
       "        vertical-align: top;\n",
       "    }\n",
       "\n",
       "    .dataframe thead th {\n",
       "        text-align: right;\n",
       "    }\n",
       "</style>\n",
       "<table border=\"1\" class=\"dataframe\">\n",
       "  <thead>\n",
       "    <tr style=\"text-align: right;\">\n",
       "      <th></th>\n",
       "      <th>city</th>\n",
       "      <th>monday</th>\n",
       "      <th>wednesday</th>\n",
       "      <th>friday</th>\n",
       "    </tr>\n",
       "  </thead>\n",
       "  <tbody>\n",
       "    <tr>\n",
       "      <th>0</th>\n",
       "      <td>Москва</td>\n",
       "      <td>15740</td>\n",
       "      <td>11056</td>\n",
       "      <td>15945</td>\n",
       "    </tr>\n",
       "    <tr>\n",
       "      <th>1</th>\n",
       "      <td>Санкт-Петербург</td>\n",
       "      <td>5614</td>\n",
       "      <td>7003</td>\n",
       "      <td>5895</td>\n",
       "    </tr>\n",
       "  </tbody>\n",
       "</table>\n",
       "</div>"
      ],
      "text/plain": [
       "              city  monday  wednesday  friday\n",
       "0           Москва   15740      11056   15945\n",
       "1  Санкт-Петербург    5614       7003    5895"
      ]
     },
     "execution_count": 68,
     "metadata": {},
     "output_type": "execute_result"
    }
   ],
   "source": [
    "info = pd.DataFrame(data=[['Москва', 15740, 11056, 15945], ['Санкт-Петербург', 5614, 7003, 5895]], columns=['city', 'monday', 'wednesday', 'friday']) # создание таблицы с результатами\n",
    "info # вывод таблицы на экран"
   ]
  },
  {
   "cell_type": "markdown",
   "metadata": {
    "deletable": false,
    "editable": false,
    "id": "-EgPIHYu_Zcu"
   },
   "source": [
    "**Выводы**\n",
    "\n",
    "Данные показывают разницу поведения пользователей:\n",
    "\n",
    "- В Москве пик прослушиваний приходится на понедельник и пятницу, а в среду заметен спад.\n",
    "- В Петербурге, наоборот, больше слушают музыку по средам. Активность в понедельник и пятницу здесь почти в равной мере уступает среде.\n",
    "\n",
    "Значит, данные говорят в пользу первой гипотезы."
   ]
  },
  {
   "cell_type": "markdown",
   "metadata": {
    "deletable": false,
    "editable": false,
    "id": "atZAxtq4_Zcu"
   },
   "source": [
    "### Музыка в начале и в конце недели"
   ]
  },
  {
   "cell_type": "markdown",
   "metadata": {
    "deletable": false,
    "editable": false,
    "id": "eXrQqXFH_Zcu"
   },
   "source": [
    "Согласно второй гипотезе, утром в понедельник в Москве преобладают одни жанры, а в Петербурге — другие. Так же и вечером пятницы преобладают разные жанры — в зависимости от города."
   ]
  },
  {
   "cell_type": "markdown",
   "metadata": {
    "deletable": false,
    "editable": false,
    "id": "S8UcW6Hw_Zcu",
    "tags": [
     "start_task"
    ]
   },
   "source": [
    "**Задание 23**"
   ]
  },
  {
   "cell_type": "code",
   "execution_count": 69,
   "metadata": {
    "deletable": false,
    "id": "qeaFfM_P_Zcu"
   },
   "outputs": [],
   "source": [
    "moscow_general = df[df['city'] == 'Moscow'] # получение таблицы moscow_general из тех строк таблицы df, для которых значение в столбце 'city' равно 'Moscow'\n"
   ]
  },
  {
   "cell_type": "code",
   "execution_count": 70,
   "metadata": {
    "deletable": false,
    "id": "ORaVRKto_Zcu"
   },
   "outputs": [],
   "source": [
    "spb_general = df[df['city'] == 'Saint-Petersburg'] # получение таблицы spb_general из тех строк таблицы df, для которых значение в столбце 'city' равно 'Saint-Petersburg'\n"
   ]
  },
  {
   "cell_type": "markdown",
   "metadata": {
    "deletable": false,
    "editable": false,
    "id": "MEJV-CX2_Zcu",
    "tags": [
     "start_task"
    ]
   },
   "source": [
    "**Задание 24**"
   ]
  },
  {
   "cell_type": "code",
   "execution_count": 71,
   "metadata": {
    "deletable": false,
    "id": "laJT9BYl_Zcu"
   },
   "outputs": [],
   "source": [
    "def genre_weekday(df, day, time1, time2):\n",
    "    # последовательная фильтрация\n",
    "    # оставляем в genre_df только те строки df, у которых день равен day\n",
    "    genre_df = df[df['day'] == day] # ваш код здесь\n",
    "    # оставляем в genre_df только те строки genre_df, у которых время меньше time2\n",
    "    genre_df = genre_df[genre_df['time'] < time2]  # ваш код здесь\n",
    "    # оставляем в genre_df только те строки genre_df, у которых время больше time1\n",
    "    genre_df = genre_df[genre_df['time'] > time1] # ваш код здесь\n",
    "    # сгруппируем отфильтрованный датафрейм по столбцу с названиями жанров, возьмём столбец genre и посчитаем кол-во строк для каждого жанра методом count()\n",
    "    genre_df_grouped = genre_df.groupby('genre')['user_id'].count() # ваш код здесь\n",
    "    # отсортируем результат по убыванию (чтобы в начале Series оказались самые популярные жанры)\n",
    "    genre_df_sorted = genre_df_grouped.sort_values(ascending=False) # ваш код здесь\n",
    "    # вернём Series с 10 самыми популярными жанрами в указанный отрезок времени заданного дня\n",
    "    return genre_df_sorted[:10]"
   ]
  },
  {
   "cell_type": "markdown",
   "metadata": {
    "deletable": false,
    "editable": false,
    "id": "la2s2_PF_Zcu",
    "tags": [
     "start_task"
    ]
   },
   "source": [
    "**Задание 25**"
   ]
  },
  {
   "cell_type": "code",
   "execution_count": 73,
   "metadata": {
    "deletable": false,
    "id": "yz7itPUQ_Zcu"
   },
   "outputs": [
    {
     "data": {
      "text/plain": [
       "genre\n",
       "pop            781\n",
       "dance          549\n",
       "electronic     480\n",
       "rock           474\n",
       "hiphop         286\n",
       "ruspop         186\n",
       "world          181\n",
       "rusrap         175\n",
       "alternative    164\n",
       "unknown        161\n",
       "Name: user_id, dtype: int64"
      ]
     },
     "execution_count": 73,
     "metadata": {},
     "output_type": "execute_result"
    }
   ],
   "source": [
    "genre_weekday(moscow_general, 'Monday', '07:00', '11:00')\n",
    "# вызов функции для утра понедельника в Москве (вместо df — таблица moscow_general)"
   ]
  },
  {
   "cell_type": "code",
   "execution_count": 74,
   "metadata": {
    "deletable": false,
    "id": "kwUcHPdy_Zcu"
   },
   "outputs": [
    {
     "data": {
      "text/plain": [
       "genre\n",
       "pop            218\n",
       "dance          182\n",
       "rock           162\n",
       "electronic     147\n",
       "hiphop          80\n",
       "ruspop          64\n",
       "alternative     58\n",
       "rusrap          55\n",
       "jazz            44\n",
       "classical       40\n",
       "Name: user_id, dtype: int64"
      ]
     },
     "execution_count": 74,
     "metadata": {},
     "output_type": "execute_result"
    }
   ],
   "source": [
    "genre_weekday(spb_general, 'Monday', '07:00', '11:00') # вызов функции для утра понедельника в Петербурге (вместо df — таблица spb_general)"
   ]
  },
  {
   "cell_type": "code",
   "execution_count": 75,
   "metadata": {
    "deletable": false,
    "id": "EzXVRE1o_Zcu"
   },
   "outputs": [
    {
     "data": {
      "text/plain": [
       "genre\n",
       "pop            713\n",
       "rock           517\n",
       "dance          495\n",
       "electronic     482\n",
       "hiphop         273\n",
       "world          208\n",
       "ruspop         170\n",
       "alternative    163\n",
       "classical      163\n",
       "rusrap         142\n",
       "Name: user_id, dtype: int64"
      ]
     },
     "execution_count": 75,
     "metadata": {},
     "output_type": "execute_result"
    }
   ],
   "source": [
    "genre_weekday(moscow_general, 'Friday', '17:00', '23:00') # вызов функции для вечера пятницы в Москве"
   ]
  },
  {
   "cell_type": "code",
   "execution_count": 76,
   "metadata": {
    "deletable": false,
    "id": "JZaEKu5v_Zcu"
   },
   "outputs": [
    {
     "data": {
      "text/plain": [
       "genre\n",
       "pop            256\n",
       "electronic     216\n",
       "rock           216\n",
       "dance          210\n",
       "hiphop          97\n",
       "alternative     63\n",
       "jazz            61\n",
       "classical       60\n",
       "rusrap          59\n",
       "world           54\n",
       "Name: user_id, dtype: int64"
      ]
     },
     "execution_count": 76,
     "metadata": {},
     "output_type": "execute_result"
    }
   ],
   "source": [
    "genre_weekday(spb_general, 'Friday', '17:00', '23:00') # вызов функции для вечера пятницы в Петербурге"
   ]
  },
  {
   "cell_type": "markdown",
   "metadata": {
    "deletable": false,
    "editable": false,
    "id": "wrCe4MNX_Zcu"
   },
   "source": [
    "**Выводы**\n",
    "\n",
    "Если сравнить топ-10 жанров в понедельник утром, можно сделать такие выводы:\n",
    "\n",
    "1. В Москве и Петербурге слушают похожую музыку. Единственное различие — в московский рейтинг вошёл жанр “world”, а в петербургский — джаз и классика.\n",
    "\n",
    "2. В Москве пропущенных значений оказалось так много, что значение `'unknown'` заняло десятое место среди самых популярных жанров. Значит, пропущенные значения занимают существенную долю в данных и угрожают достоверности исследования.\n",
    "\n",
    "Вечер пятницы не меняет эту картину. Некоторые жанры поднимаются немного выше, другие спускаются, но в целом топ-10 остаётся тем же самым.\n",
    "\n",
    "Таким образом, вторая гипотеза подтвердилась лишь частично:\n",
    "* Пользователи слушают похожую музыку в начале недели и в конце.\n",
    "* Разница между Москвой и Петербургом не слишком выражена. В Москве чаще слушают русскую популярную музыку, в Петербурге — джаз.\n",
    "\n",
    "Однако пропуски в данных ставят под сомнение этот результат. В Москве их так много, что рейтинг топ-10 мог бы выглядеть иначе, если бы не утерянные  данные о жанрах."
   ]
  },
  {
   "cell_type": "markdown",
   "metadata": {
    "deletable": false,
    "editable": false,
    "id": "JolODAqr_Zcu"
   },
   "source": [
    "### Жанровые предпочтения в Москве и Петербурге\n",
    "\n",
    "Гипотеза: Петербург — столица рэпа, музыку этого жанра там слушают чаще, чем в Москве.  А Москва — город контрастов, в котором, тем не менее, преобладает поп-музыка."
   ]
  },
  {
   "cell_type": "markdown",
   "metadata": {
    "deletable": false,
    "editable": false,
    "id": "DlegSvaT_Zcu",
    "tags": [
     "start_task"
    ]
   },
   "source": [
    "**Задание 26**"
   ]
  },
  {
   "cell_type": "code",
   "execution_count": 81,
   "metadata": {
    "deletable": false,
    "id": "r19lIPke_Zcu"
   },
   "outputs": [],
   "source": [
    "moscow_genres = moscow_general.groupby('genre')['genre'].count() # ваш код здесь\n",
    "moscow_genres = moscow_genres.sort_values(ascending=False) # ваш код здесь"
   ]
  },
  {
   "cell_type": "markdown",
   "metadata": {
    "deletable": false,
    "editable": false,
    "id": "6kMuomxTiIr8",
    "tags": [
     "start_task"
    ]
   },
   "source": [
    "**Задание 27**"
   ]
  },
  {
   "cell_type": "code",
   "execution_count": 82,
   "metadata": {
    "deletable": false,
    "id": "WhCSooF8_Zcv"
   },
   "outputs": [
    {
     "data": {
      "text/plain": [
       "genre\n",
       "pop            5892\n",
       "dance          4435\n",
       "rock           3965\n",
       "electronic     3786\n",
       "hiphop         2096\n",
       "classical      1616\n",
       "world          1432\n",
       "alternative    1379\n",
       "ruspop         1372\n",
       "rusrap         1161\n",
       "Name: genre, dtype: int64"
      ]
     },
     "execution_count": 82,
     "metadata": {},
     "output_type": "execute_result"
    }
   ],
   "source": [
    "moscow_genres.head(10)"
   ]
  },
  {
   "cell_type": "markdown",
   "metadata": {
    "deletable": false,
    "editable": false,
    "id": "cnPG2vnN_Zcv",
    "tags": [
     "start_task"
    ]
   },
   "source": [
    "**Задание 28**"
   ]
  },
  {
   "cell_type": "code",
   "execution_count": 37,
   "metadata": {
    "deletable": false,
    "id": "gluLIpE7_Zcv"
   },
   "outputs": [],
   "source": [
    "# одной строкой: группировка таблицы spb_general по столбцу 'genre', выбор столбца `genre`, подсчёт числа значений 'genre' методом count(), сохранение в spb_genres\n",
    "# сортировка получившегося Series в порядке убывания и сохранение обратно в spb_genres\n",
    "\n",
    "spb_genres = spb_general.groupby('genre')['genre'].count() # ваш код здесь\n",
    "spb_genres = spb_genres.sort_values(ascending=False)"
   ]
  },
  {
   "cell_type": "markdown",
   "metadata": {
    "deletable": false,
    "editable": false,
    "id": "5Doha_ODgyQ8",
    "tags": [
     "start_task"
    ]
   },
   "source": [
    "**Задание 29**"
   ]
  },
  {
   "cell_type": "code",
   "execution_count": 38,
   "metadata": {
    "deletable": false,
    "id": "uaGJHjVU_Zcv"
   },
   "outputs": [
    {
     "data": {
      "text/plain": [
       "genre\n",
       "pop            2431\n",
       "dance          1932\n",
       "rock           1879\n",
       "electronic     1736\n",
       "hiphop          960\n",
       "alternative     649\n",
       "classical       646\n",
       "rusrap          564\n",
       "ruspop          538\n",
       "world           515\n",
       "Name: user_id, dtype: int64"
      ]
     },
     "execution_count": 38,
     "metadata": {},
     "output_type": "execute_result"
    }
   ],
   "source": [
    "spb_genres[:10] # просмотр первых 10 строк spb_genres"
   ]
  },
  {
   "cell_type": "markdown",
   "metadata": {
    "deletable": false,
    "editable": false,
    "id": "RY51YJYu_Zcv"
   },
   "source": [
    "**Выводы**"
   ]
  },
  {
   "cell_type": "markdown",
   "metadata": {
    "deletable": false,
    "editable": false,
    "id": "nVhnJEm__Zcv"
   },
   "source": [
    "Гипотеза частично подтвердилась:\n",
    "* Поп-музыка — самый популярный жанр в Москве, как и предполагала гипотеза. Более того, в топ-10 жанров встречается близкий жанр — русская популярная музыка.\n",
    "* Вопреки ожиданиям, рэп одинаково популярен в Москве и Петербурге.\n"
   ]
  },
  {
   "cell_type": "markdown",
   "metadata": {
    "deletable": false,
    "editable": false,
    "id": "ykKQ0N65_Zcv"
   },
   "source": [
    "## Итоги исследования"
   ]
  },
  {
   "cell_type": "markdown",
   "metadata": {
    "deletable": false,
    "editable": false,
    "id": "tjUwbHb3_Zcv"
   },
   "source": [
    "Вы проверили три гипотезы и установили:\n",
    "\n",
    "1. День недели по-разному влияет на активность пользователей в Москве и Петербурге.\n",
    "\n",
    "Первая гипотеза полностью подтвердилась.\n",
    "\n",
    "2. Музыкальные предпочтения не сильно меняются в течение недели — будь то Москва или Петербург. Небольшие различия заметны в начале недели, по понедельникам:\n",
    "* в Москве слушают музыку жанра “world”,\n",
    "* в Петербурге — джаз и классику.\n",
    "\n",
    "Таким образом, вторая гипотеза подтвердилась лишь отчасти. Этот результат мог оказаться иным, если бы не пропуски в данных.\n",
    "\n",
    "3. Во вкусах пользователей Москвы и Петербурга больше общего, чем различий. Вопреки ожиданиям, предпочтения жанров в Петербурге напоминают московские.\n",
    "\n",
    "Третья гипотеза не подтвердилась. Если различия в предпочтениях и существуют, на основной массе пользователей они незаметны.\n",
    "\n",
    "**На практике исследования содержат проверки статистических гипотез.**\n",
    "Из части данных одного сервиса невозможно сделать какие-то выводы о всех пользователях сервиса без методов статистики.\n",
    "Проверки статистических гипотез покажут, насколько они достоверны, исходя из имеющихся данных.\n",
    "С методами проверок гипотез вы ещё познакомитесь в следующих темах."
   ]
  }
 ],
 "metadata": {
  "ExecuteTimeLog": [
   {
    "duration": 46,
    "start_time": "2024-05-08T13:31:29.731Z"
   },
   {
    "duration": 413,
    "start_time": "2024-05-08T13:31:38.813Z"
   },
   {
    "duration": 49,
    "start_time": "2024-05-08T13:31:50.773Z"
   },
   {
    "duration": 385,
    "start_time": "2024-05-08T14:52:01.118Z"
   },
   {
    "duration": 155,
    "start_time": "2024-05-08T14:52:04.309Z"
   },
   {
    "duration": 16,
    "start_time": "2024-05-08T14:52:12.701Z"
   },
   {
    "duration": 27,
    "start_time": "2024-05-08T14:52:16.549Z"
   },
   {
    "duration": 2,
    "start_time": "2024-05-08T14:52:43.602Z"
   },
   {
    "duration": 4,
    "start_time": "2024-05-08T14:53:09.810Z"
   },
   {
    "duration": 60,
    "start_time": "2024-05-08T14:56:18.137Z"
   },
   {
    "duration": 34,
    "start_time": "2024-05-08T14:56:28.303Z"
   },
   {
    "duration": 37,
    "start_time": "2024-05-08T14:57:22.777Z"
   },
   {
    "duration": 37,
    "start_time": "2024-05-08T14:58:34.810Z"
   },
   {
    "duration": 35,
    "start_time": "2024-05-08T14:58:46.675Z"
   },
   {
    "duration": 33,
    "start_time": "2024-05-08T14:58:52.649Z"
   },
   {
    "duration": 3,
    "start_time": "2024-05-08T14:59:13.531Z"
   },
   {
    "duration": 2,
    "start_time": "2024-05-08T14:59:20.576Z"
   },
   {
    "duration": 153,
    "start_time": "2024-05-08T14:59:22.855Z"
   },
   {
    "duration": 10,
    "start_time": "2024-05-08T14:59:25.037Z"
   },
   {
    "duration": 24,
    "start_time": "2024-05-08T14:59:30.202Z"
   },
   {
    "duration": 2,
    "start_time": "2024-05-08T14:59:38.665Z"
   },
   {
    "duration": 3,
    "start_time": "2024-05-08T14:59:41.640Z"
   },
   {
    "duration": 47,
    "start_time": "2024-05-08T14:59:44.600Z"
   },
   {
    "duration": 52,
    "start_time": "2024-05-08T15:00:25.609Z"
   },
   {
    "duration": 370,
    "start_time": "2024-05-08T15:00:53.734Z"
   },
   {
    "duration": 154,
    "start_time": "2024-05-08T15:00:54.106Z"
   },
   {
    "duration": 16,
    "start_time": "2024-05-08T15:00:54.262Z"
   },
   {
    "duration": 35,
    "start_time": "2024-05-08T15:00:54.281Z"
   },
   {
    "duration": 2,
    "start_time": "2024-05-08T15:00:54.318Z"
   },
   {
    "duration": 6,
    "start_time": "2024-05-08T15:00:54.322Z"
   },
   {
    "duration": 40,
    "start_time": "2024-05-08T15:00:54.329Z"
   },
   {
    "duration": 0,
    "start_time": "2024-05-08T15:00:54.371Z"
   },
   {
    "duration": 0,
    "start_time": "2024-05-08T15:00:54.372Z"
   },
   {
    "duration": 0,
    "start_time": "2024-05-08T15:00:54.374Z"
   },
   {
    "duration": 0,
    "start_time": "2024-05-08T15:00:54.374Z"
   },
   {
    "duration": 0,
    "start_time": "2024-05-08T15:00:54.375Z"
   },
   {
    "duration": 0,
    "start_time": "2024-05-08T15:00:54.377Z"
   },
   {
    "duration": 0,
    "start_time": "2024-05-08T15:00:54.378Z"
   },
   {
    "duration": 0,
    "start_time": "2024-05-08T15:00:54.379Z"
   },
   {
    "duration": 0,
    "start_time": "2024-05-08T15:00:54.380Z"
   },
   {
    "duration": 0,
    "start_time": "2024-05-08T15:00:54.381Z"
   },
   {
    "duration": 0,
    "start_time": "2024-05-08T15:00:54.382Z"
   },
   {
    "duration": 0,
    "start_time": "2024-05-08T15:00:54.383Z"
   },
   {
    "duration": 0,
    "start_time": "2024-05-08T15:00:54.384Z"
   },
   {
    "duration": 0,
    "start_time": "2024-05-08T15:00:54.385Z"
   },
   {
    "duration": 0,
    "start_time": "2024-05-08T15:00:54.386Z"
   },
   {
    "duration": 0,
    "start_time": "2024-05-08T15:00:54.387Z"
   },
   {
    "duration": 0,
    "start_time": "2024-05-08T15:00:54.388Z"
   },
   {
    "duration": 0,
    "start_time": "2024-05-08T15:00:54.389Z"
   },
   {
    "duration": 0,
    "start_time": "2024-05-08T15:00:54.390Z"
   },
   {
    "duration": 0,
    "start_time": "2024-05-08T15:00:54.391Z"
   },
   {
    "duration": 0,
    "start_time": "2024-05-08T15:00:54.392Z"
   },
   {
    "duration": 0,
    "start_time": "2024-05-08T15:00:54.412Z"
   },
   {
    "duration": 0,
    "start_time": "2024-05-08T15:00:54.413Z"
   },
   {
    "duration": 0,
    "start_time": "2024-05-08T15:00:54.414Z"
   },
   {
    "duration": 0,
    "start_time": "2024-05-08T15:00:54.415Z"
   },
   {
    "duration": 0,
    "start_time": "2024-05-08T15:00:54.416Z"
   },
   {
    "duration": 0,
    "start_time": "2024-05-08T15:00:54.417Z"
   },
   {
    "duration": 0,
    "start_time": "2024-05-08T15:00:54.418Z"
   },
   {
    "duration": 0,
    "start_time": "2024-05-08T15:00:54.419Z"
   },
   {
    "duration": 0,
    "start_time": "2024-05-08T15:00:54.419Z"
   },
   {
    "duration": 0,
    "start_time": "2024-05-08T15:00:54.420Z"
   },
   {
    "duration": 10,
    "start_time": "2024-05-08T15:03:22.334Z"
   },
   {
    "duration": 10,
    "start_time": "2024-05-08T15:03:33.335Z"
   },
   {
    "duration": 3,
    "start_time": "2024-05-08T15:04:01.024Z"
   },
   {
    "duration": 63,
    "start_time": "2024-05-08T15:05:11.031Z"
   },
   {
    "duration": 20,
    "start_time": "2024-05-08T15:06:09.688Z"
   },
   {
    "duration": 61,
    "start_time": "2024-05-08T16:36:21.984Z"
   },
   {
    "duration": 20,
    "start_time": "2024-05-08T16:36:27.448Z"
   },
   {
    "duration": 60,
    "start_time": "2024-05-08T16:36:31.072Z"
   },
   {
    "duration": 70,
    "start_time": "2024-05-08T16:36:34.451Z"
   },
   {
    "duration": 51,
    "start_time": "2024-05-08T16:36:39.280Z"
   },
   {
    "duration": 587,
    "start_time": "2024-05-08T16:38:39.138Z"
   },
   {
    "duration": 8,
    "start_time": "2024-05-08T16:39:33.513Z"
   },
   {
    "duration": 48,
    "start_time": "2024-05-08T16:43:16.752Z"
   },
   {
    "duration": 6,
    "start_time": "2024-05-08T16:46:56.605Z"
   },
   {
    "duration": 2,
    "start_time": "2024-05-08T16:47:11.647Z"
   },
   {
    "duration": 2,
    "start_time": "2024-05-08T16:47:16.966Z"
   },
   {
    "duration": 6,
    "start_time": "2024-05-08T16:47:34.758Z"
   },
   {
    "duration": 7,
    "start_time": "2024-05-08T16:48:47.158Z"
   },
   {
    "duration": 393,
    "start_time": "2024-05-08T16:49:00.471Z"
   },
   {
    "duration": 163,
    "start_time": "2024-05-08T16:49:00.866Z"
   },
   {
    "duration": 16,
    "start_time": "2024-05-08T16:49:01.030Z"
   },
   {
    "duration": 50,
    "start_time": "2024-05-08T16:49:01.048Z"
   },
   {
    "duration": 15,
    "start_time": "2024-05-08T16:49:01.100Z"
   },
   {
    "duration": 48,
    "start_time": "2024-05-08T16:49:01.117Z"
   },
   {
    "duration": 31,
    "start_time": "2024-05-08T16:49:01.167Z"
   },
   {
    "duration": 31,
    "start_time": "2024-05-08T16:49:01.199Z"
   },
   {
    "duration": 55,
    "start_time": "2024-05-08T16:49:01.232Z"
   },
   {
    "duration": 66,
    "start_time": "2024-05-08T16:49:01.290Z"
   },
   {
    "duration": 20,
    "start_time": "2024-05-08T16:49:01.357Z"
   },
   {
    "duration": 80,
    "start_time": "2024-05-08T16:49:01.378Z"
   },
   {
    "duration": 79,
    "start_time": "2024-05-08T16:49:01.459Z"
   },
   {
    "duration": 58,
    "start_time": "2024-05-08T16:49:01.540Z"
   },
   {
    "duration": 79,
    "start_time": "2024-05-08T16:49:01.599Z"
   },
   {
    "duration": 0,
    "start_time": "2024-05-08T16:49:01.680Z"
   },
   {
    "duration": 0,
    "start_time": "2024-05-08T16:49:01.681Z"
   },
   {
    "duration": 0,
    "start_time": "2024-05-08T16:49:01.683Z"
   },
   {
    "duration": 0,
    "start_time": "2024-05-08T16:49:01.684Z"
   },
   {
    "duration": 0,
    "start_time": "2024-05-08T16:49:01.685Z"
   },
   {
    "duration": 0,
    "start_time": "2024-05-08T16:49:01.687Z"
   },
   {
    "duration": 0,
    "start_time": "2024-05-08T16:49:01.688Z"
   },
   {
    "duration": 0,
    "start_time": "2024-05-08T16:49:01.689Z"
   },
   {
    "duration": 0,
    "start_time": "2024-05-08T16:49:01.713Z"
   },
   {
    "duration": 0,
    "start_time": "2024-05-08T16:49:01.714Z"
   },
   {
    "duration": 0,
    "start_time": "2024-05-08T16:49:01.715Z"
   },
   {
    "duration": 0,
    "start_time": "2024-05-08T16:49:01.716Z"
   },
   {
    "duration": 0,
    "start_time": "2024-05-08T16:49:01.718Z"
   },
   {
    "duration": 0,
    "start_time": "2024-05-08T16:49:01.719Z"
   },
   {
    "duration": 0,
    "start_time": "2024-05-08T16:49:01.720Z"
   },
   {
    "duration": 0,
    "start_time": "2024-05-08T16:49:01.722Z"
   },
   {
    "duration": 0,
    "start_time": "2024-05-08T16:49:01.723Z"
   },
   {
    "duration": 0,
    "start_time": "2024-05-08T16:49:01.725Z"
   },
   {
    "duration": 0,
    "start_time": "2024-05-08T16:49:01.726Z"
   },
   {
    "duration": 0,
    "start_time": "2024-05-08T16:49:01.727Z"
   },
   {
    "duration": 0,
    "start_time": "2024-05-08T16:49:01.728Z"
   },
   {
    "duration": 0,
    "start_time": "2024-05-08T16:49:01.730Z"
   },
   {
    "duration": 0,
    "start_time": "2024-05-08T16:49:01.731Z"
   },
   {
    "duration": 40,
    "start_time": "2024-05-08T16:50:35.447Z"
   },
   {
    "duration": 57,
    "start_time": "2024-05-08T16:54:00.093Z"
   },
   {
    "duration": 3,
    "start_time": "2024-05-08T16:54:04.086Z"
   },
   {
    "duration": 2,
    "start_time": "2024-05-08T16:54:09.086Z"
   },
   {
    "duration": 379,
    "start_time": "2024-05-08T16:56:16.325Z"
   },
   {
    "duration": 156,
    "start_time": "2024-05-08T16:56:16.706Z"
   },
   {
    "duration": 16,
    "start_time": "2024-05-08T16:56:16.863Z"
   },
   {
    "duration": 36,
    "start_time": "2024-05-08T16:56:16.881Z"
   },
   {
    "duration": 2,
    "start_time": "2024-05-08T16:56:16.918Z"
   },
   {
    "duration": 7,
    "start_time": "2024-05-08T16:56:16.922Z"
   },
   {
    "duration": 13,
    "start_time": "2024-05-08T16:56:16.930Z"
   },
   {
    "duration": 6,
    "start_time": "2024-05-08T16:56:16.945Z"
   },
   {
    "duration": 22,
    "start_time": "2024-05-08T16:56:16.952Z"
   },
   {
    "duration": 55,
    "start_time": "2024-05-08T16:56:16.976Z"
   },
   {
    "duration": 19,
    "start_time": "2024-05-08T16:56:17.033Z"
   },
   {
    "duration": 76,
    "start_time": "2024-05-08T16:56:17.054Z"
   },
   {
    "duration": 80,
    "start_time": "2024-05-08T16:56:17.132Z"
   },
   {
    "duration": 57,
    "start_time": "2024-05-08T16:56:17.213Z"
   },
   {
    "duration": 2,
    "start_time": "2024-05-08T16:56:17.271Z"
   },
   {
    "duration": 5,
    "start_time": "2024-05-08T16:56:17.274Z"
   },
   {
    "duration": 18,
    "start_time": "2024-05-08T16:56:17.280Z"
   },
   {
    "duration": 5,
    "start_time": "2024-05-08T16:56:17.299Z"
   },
   {
    "duration": 20,
    "start_time": "2024-05-08T16:56:17.305Z"
   },
   {
    "duration": 33,
    "start_time": "2024-05-08T16:56:17.326Z"
   },
   {
    "duration": 0,
    "start_time": "2024-05-08T16:56:17.360Z"
   },
   {
    "duration": 0,
    "start_time": "2024-05-08T16:56:17.361Z"
   },
   {
    "duration": 0,
    "start_time": "2024-05-08T16:56:17.362Z"
   },
   {
    "duration": 0,
    "start_time": "2024-05-08T16:56:17.363Z"
   },
   {
    "duration": 0,
    "start_time": "2024-05-08T16:56:17.364Z"
   },
   {
    "duration": 0,
    "start_time": "2024-05-08T16:56:17.364Z"
   },
   {
    "duration": 0,
    "start_time": "2024-05-08T16:56:17.365Z"
   },
   {
    "duration": 0,
    "start_time": "2024-05-08T16:56:17.366Z"
   },
   {
    "duration": 0,
    "start_time": "2024-05-08T16:56:17.367Z"
   },
   {
    "duration": 0,
    "start_time": "2024-05-08T16:56:17.368Z"
   },
   {
    "duration": 0,
    "start_time": "2024-05-08T16:56:17.368Z"
   },
   {
    "duration": 0,
    "start_time": "2024-05-08T16:56:17.369Z"
   },
   {
    "duration": 0,
    "start_time": "2024-05-08T16:56:17.370Z"
   },
   {
    "duration": 0,
    "start_time": "2024-05-08T16:56:17.371Z"
   },
   {
    "duration": 0,
    "start_time": "2024-05-08T16:56:17.372Z"
   },
   {
    "duration": 0,
    "start_time": "2024-05-08T16:56:17.372Z"
   },
   {
    "duration": 0,
    "start_time": "2024-05-08T16:56:17.373Z"
   },
   {
    "duration": 0,
    "start_time": "2024-05-08T16:56:17.374Z"
   },
   {
    "duration": 2,
    "start_time": "2024-05-08T16:56:28.429Z"
   },
   {
    "duration": 66,
    "start_time": "2024-05-08T17:02:26.852Z"
   },
   {
    "duration": 48,
    "start_time": "2024-05-08T17:02:42.126Z"
   },
   {
    "duration": 47,
    "start_time": "2024-05-08T17:03:04.239Z"
   },
   {
    "duration": 45,
    "start_time": "2024-05-08T17:03:28.333Z"
   },
   {
    "duration": 419,
    "start_time": "2024-05-08T17:04:43.179Z"
   },
   {
    "duration": 165,
    "start_time": "2024-05-08T17:04:43.599Z"
   },
   {
    "duration": 16,
    "start_time": "2024-05-08T17:04:43.765Z"
   },
   {
    "duration": 33,
    "start_time": "2024-05-08T17:04:43.783Z"
   },
   {
    "duration": 2,
    "start_time": "2024-05-08T17:04:43.817Z"
   },
   {
    "duration": 6,
    "start_time": "2024-05-08T17:04:43.820Z"
   },
   {
    "duration": 9,
    "start_time": "2024-05-08T17:04:43.827Z"
   },
   {
    "duration": 8,
    "start_time": "2024-05-08T17:04:43.837Z"
   },
   {
    "duration": 22,
    "start_time": "2024-05-08T17:04:43.846Z"
   },
   {
    "duration": 60,
    "start_time": "2024-05-08T17:04:43.871Z"
   },
   {
    "duration": 20,
    "start_time": "2024-05-08T17:04:43.933Z"
   },
   {
    "duration": 76,
    "start_time": "2024-05-08T17:04:43.956Z"
   },
   {
    "duration": 81,
    "start_time": "2024-05-08T17:04:44.033Z"
   },
   {
    "duration": 55,
    "start_time": "2024-05-08T17:04:44.116Z"
   },
   {
    "duration": 52,
    "start_time": "2024-05-08T17:04:44.172Z"
   },
   {
    "duration": 1,
    "start_time": "2024-05-08T17:04:44.226Z"
   },
   {
    "duration": 5,
    "start_time": "2024-05-08T17:04:44.229Z"
   },
   {
    "duration": 3,
    "start_time": "2024-05-08T17:04:44.235Z"
   },
   {
    "duration": 7,
    "start_time": "2024-05-08T17:04:44.239Z"
   },
   {
    "duration": 35,
    "start_time": "2024-05-08T17:04:44.247Z"
   },
   {
    "duration": 0,
    "start_time": "2024-05-08T17:04:44.284Z"
   },
   {
    "duration": 0,
    "start_time": "2024-05-08T17:04:44.284Z"
   },
   {
    "duration": 0,
    "start_time": "2024-05-08T17:04:44.285Z"
   },
   {
    "duration": 0,
    "start_time": "2024-05-08T17:04:44.286Z"
   },
   {
    "duration": 0,
    "start_time": "2024-05-08T17:04:44.287Z"
   },
   {
    "duration": 0,
    "start_time": "2024-05-08T17:04:44.288Z"
   },
   {
    "duration": 0,
    "start_time": "2024-05-08T17:04:44.289Z"
   },
   {
    "duration": 0,
    "start_time": "2024-05-08T17:04:44.289Z"
   },
   {
    "duration": 0,
    "start_time": "2024-05-08T17:04:44.290Z"
   },
   {
    "duration": 0,
    "start_time": "2024-05-08T17:04:44.291Z"
   },
   {
    "duration": 0,
    "start_time": "2024-05-08T17:04:44.291Z"
   },
   {
    "duration": 0,
    "start_time": "2024-05-08T17:04:44.292Z"
   },
   {
    "duration": 0,
    "start_time": "2024-05-08T17:04:44.293Z"
   },
   {
    "duration": 0,
    "start_time": "2024-05-08T17:04:44.293Z"
   },
   {
    "duration": 0,
    "start_time": "2024-05-08T17:04:44.294Z"
   },
   {
    "duration": 0,
    "start_time": "2024-05-08T17:04:44.295Z"
   },
   {
    "duration": 0,
    "start_time": "2024-05-08T17:04:44.296Z"
   },
   {
    "duration": 0,
    "start_time": "2024-05-08T17:04:44.296Z"
   },
   {
    "duration": 64,
    "start_time": "2024-05-08T17:05:20.494Z"
   },
   {
    "duration": 42,
    "start_time": "2024-05-08T17:06:41.206Z"
   },
   {
    "duration": 36,
    "start_time": "2024-05-08T17:06:51.533Z"
   },
   {
    "duration": 39,
    "start_time": "2024-05-08T17:07:54.932Z"
   },
   {
    "duration": 2,
    "start_time": "2024-05-08T17:08:45.031Z"
   },
   {
    "duration": 2,
    "start_time": "2024-05-08T17:08:47.395Z"
   },
   {
    "duration": 38,
    "start_time": "2024-05-08T17:09:56.812Z"
   },
   {
    "duration": 35,
    "start_time": "2024-05-08T17:10:37.901Z"
   },
   {
    "duration": 48,
    "start_time": "2024-05-08T17:12:21.484Z"
   },
   {
    "duration": 43,
    "start_time": "2024-05-08T17:12:31.731Z"
   },
   {
    "duration": 40,
    "start_time": "2024-05-08T17:12:41.737Z"
   },
   {
    "duration": 38,
    "start_time": "2024-05-08T17:13:12.963Z"
   },
   {
    "duration": 386,
    "start_time": "2024-05-08T17:13:32.822Z"
   },
   {
    "duration": 156,
    "start_time": "2024-05-08T17:13:33.212Z"
   },
   {
    "duration": 15,
    "start_time": "2024-05-08T17:13:33.370Z"
   },
   {
    "duration": 27,
    "start_time": "2024-05-08T17:13:33.387Z"
   },
   {
    "duration": 2,
    "start_time": "2024-05-08T17:13:33.415Z"
   },
   {
    "duration": 6,
    "start_time": "2024-05-08T17:13:33.418Z"
   },
   {
    "duration": 9,
    "start_time": "2024-05-08T17:13:33.426Z"
   },
   {
    "duration": 14,
    "start_time": "2024-05-08T17:13:33.436Z"
   },
   {
    "duration": 23,
    "start_time": "2024-05-08T17:13:33.452Z"
   },
   {
    "duration": 63,
    "start_time": "2024-05-08T17:13:33.477Z"
   },
   {
    "duration": 26,
    "start_time": "2024-05-08T17:13:33.541Z"
   },
   {
    "duration": 86,
    "start_time": "2024-05-08T17:13:33.569Z"
   },
   {
    "duration": 82,
    "start_time": "2024-05-08T17:13:33.656Z"
   },
   {
    "duration": 60,
    "start_time": "2024-05-08T17:13:33.739Z"
   },
   {
    "duration": 46,
    "start_time": "2024-05-08T17:13:33.800Z"
   },
   {
    "duration": 2,
    "start_time": "2024-05-08T17:13:33.848Z"
   },
   {
    "duration": 17,
    "start_time": "2024-05-08T17:13:33.851Z"
   },
   {
    "duration": 11,
    "start_time": "2024-05-08T17:13:33.869Z"
   },
   {
    "duration": 8,
    "start_time": "2024-05-08T17:13:33.882Z"
   },
   {
    "duration": 41,
    "start_time": "2024-05-08T17:13:33.891Z"
   },
   {
    "duration": 0,
    "start_time": "2024-05-08T17:13:33.934Z"
   },
   {
    "duration": 0,
    "start_time": "2024-05-08T17:13:33.935Z"
   },
   {
    "duration": 0,
    "start_time": "2024-05-08T17:13:33.936Z"
   },
   {
    "duration": 0,
    "start_time": "2024-05-08T17:13:33.937Z"
   },
   {
    "duration": 0,
    "start_time": "2024-05-08T17:13:33.938Z"
   },
   {
    "duration": 0,
    "start_time": "2024-05-08T17:13:33.938Z"
   },
   {
    "duration": 0,
    "start_time": "2024-05-08T17:13:33.939Z"
   },
   {
    "duration": 0,
    "start_time": "2024-05-08T17:13:33.940Z"
   },
   {
    "duration": 0,
    "start_time": "2024-05-08T17:13:33.941Z"
   },
   {
    "duration": 0,
    "start_time": "2024-05-08T17:13:33.942Z"
   },
   {
    "duration": 0,
    "start_time": "2024-05-08T17:13:33.943Z"
   },
   {
    "duration": 0,
    "start_time": "2024-05-08T17:13:33.944Z"
   },
   {
    "duration": 0,
    "start_time": "2024-05-08T17:13:33.945Z"
   },
   {
    "duration": 0,
    "start_time": "2024-05-08T17:13:33.946Z"
   },
   {
    "duration": 0,
    "start_time": "2024-05-08T17:13:33.947Z"
   },
   {
    "duration": 0,
    "start_time": "2024-05-08T17:13:33.948Z"
   },
   {
    "duration": 0,
    "start_time": "2024-05-08T17:13:33.948Z"
   },
   {
    "duration": 0,
    "start_time": "2024-05-08T17:13:33.949Z"
   },
   {
    "duration": 51,
    "start_time": "2024-05-08T17:17:40.859Z"
   },
   {
    "duration": 45,
    "start_time": "2024-05-08T17:18:09.593Z"
   },
   {
    "duration": 43,
    "start_time": "2024-05-08T17:18:57.828Z"
   },
   {
    "duration": 43,
    "start_time": "2024-05-08T17:19:36.498Z"
   },
   {
    "duration": 43,
    "start_time": "2024-05-08T17:19:39.738Z"
   },
   {
    "duration": 49,
    "start_time": "2024-05-08T17:19:44.194Z"
   },
   {
    "duration": 45,
    "start_time": "2024-05-08T17:20:18.466Z"
   },
   {
    "duration": 44,
    "start_time": "2024-05-08T17:20:28.066Z"
   },
   {
    "duration": 49,
    "start_time": "2024-05-08T17:21:01.510Z"
   },
   {
    "duration": 4,
    "start_time": "2024-05-08T17:21:53.404Z"
   },
   {
    "duration": 39,
    "start_time": "2024-05-08T17:22:15.658Z"
   },
   {
    "duration": 67,
    "start_time": "2024-05-08T17:22:36.168Z"
   },
   {
    "duration": 39,
    "start_time": "2024-05-08T17:22:48.003Z"
   },
   {
    "duration": 8,
    "start_time": "2024-05-08T17:22:53.393Z"
   },
   {
    "duration": 40,
    "start_time": "2024-05-08T17:23:08.617Z"
   },
   {
    "duration": 36,
    "start_time": "2024-05-08T17:23:34.673Z"
   },
   {
    "duration": 40,
    "start_time": "2024-05-08T17:24:32.107Z"
   },
   {
    "duration": 40,
    "start_time": "2024-05-08T17:24:40.138Z"
   },
   {
    "duration": 40,
    "start_time": "2024-05-08T17:24:55.026Z"
   },
   {
    "duration": 401,
    "start_time": "2024-05-10T18:37:07.398Z"
   },
   {
    "duration": 276,
    "start_time": "2024-05-10T18:37:07.801Z"
   },
   {
    "duration": 27,
    "start_time": "2024-05-10T18:37:08.079Z"
   },
   {
    "duration": 47,
    "start_time": "2024-05-10T18:37:08.108Z"
   },
   {
    "duration": 15,
    "start_time": "2024-05-10T18:37:08.158Z"
   },
   {
    "duration": 6,
    "start_time": "2024-05-10T18:37:08.175Z"
   },
   {
    "duration": 20,
    "start_time": "2024-05-10T18:37:08.182Z"
   },
   {
    "duration": 22,
    "start_time": "2024-05-10T18:37:08.204Z"
   },
   {
    "duration": 37,
    "start_time": "2024-05-10T18:37:08.227Z"
   },
   {
    "duration": 76,
    "start_time": "2024-05-10T18:37:08.265Z"
   },
   {
    "duration": 29,
    "start_time": "2024-05-10T18:37:08.342Z"
   },
   {
    "duration": 81,
    "start_time": "2024-05-10T18:37:08.373Z"
   },
   {
    "duration": 87,
    "start_time": "2024-05-10T18:37:08.456Z"
   },
   {
    "duration": 88,
    "start_time": "2024-05-10T18:37:08.549Z"
   },
   {
    "duration": 56,
    "start_time": "2024-05-10T18:37:08.638Z"
   },
   {
    "duration": 3,
    "start_time": "2024-05-10T18:37:08.696Z"
   },
   {
    "duration": 35,
    "start_time": "2024-05-10T18:37:08.700Z"
   },
   {
    "duration": 29,
    "start_time": "2024-05-10T18:37:08.736Z"
   },
   {
    "duration": 24,
    "start_time": "2024-05-10T18:37:08.767Z"
   },
   {
    "duration": 69,
    "start_time": "2024-05-10T18:37:08.792Z"
   },
   {
    "duration": 0,
    "start_time": "2024-05-10T18:37:08.863Z"
   },
   {
    "duration": 0,
    "start_time": "2024-05-10T18:37:08.864Z"
   },
   {
    "duration": 0,
    "start_time": "2024-05-10T18:37:08.865Z"
   },
   {
    "duration": 0,
    "start_time": "2024-05-10T18:37:08.866Z"
   },
   {
    "duration": 0,
    "start_time": "2024-05-10T18:37:08.867Z"
   },
   {
    "duration": 0,
    "start_time": "2024-05-10T18:37:08.868Z"
   },
   {
    "duration": 0,
    "start_time": "2024-05-10T18:37:08.869Z"
   },
   {
    "duration": 0,
    "start_time": "2024-05-10T18:37:08.870Z"
   },
   {
    "duration": 0,
    "start_time": "2024-05-10T18:37:08.871Z"
   },
   {
    "duration": 0,
    "start_time": "2024-05-10T18:37:08.873Z"
   },
   {
    "duration": 0,
    "start_time": "2024-05-10T18:37:08.874Z"
   },
   {
    "duration": 0,
    "start_time": "2024-05-10T18:37:08.875Z"
   },
   {
    "duration": 0,
    "start_time": "2024-05-10T18:37:08.876Z"
   },
   {
    "duration": 0,
    "start_time": "2024-05-10T18:37:08.878Z"
   },
   {
    "duration": 0,
    "start_time": "2024-05-10T18:37:08.879Z"
   },
   {
    "duration": 0,
    "start_time": "2024-05-10T18:37:08.880Z"
   },
   {
    "duration": 0,
    "start_time": "2024-05-10T18:37:08.881Z"
   },
   {
    "duration": 0,
    "start_time": "2024-05-10T18:37:08.882Z"
   },
   {
    "duration": 67,
    "start_time": "2024-05-10T18:41:19.125Z"
   },
   {
    "duration": 11,
    "start_time": "2024-05-10T18:41:35.271Z"
   },
   {
    "duration": 1075,
    "start_time": "2024-05-10T18:43:29.516Z"
   },
   {
    "duration": 1095,
    "start_time": "2024-05-10T18:43:51.588Z"
   },
   {
    "duration": 1104,
    "start_time": "2024-05-10T18:44:14.251Z"
   },
   {
    "duration": 16,
    "start_time": "2024-05-10T18:44:39.235Z"
   },
   {
    "duration": 16,
    "start_time": "2024-05-10T18:44:50.106Z"
   },
   {
    "duration": 60,
    "start_time": "2024-05-10T18:45:16.481Z"
   },
   {
    "duration": 11,
    "start_time": "2024-05-10T18:47:50.005Z"
   },
   {
    "duration": 11,
    "start_time": "2024-05-10T18:48:16.830Z"
   },
   {
    "duration": 10,
    "start_time": "2024-05-10T18:49:21.117Z"
   },
   {
    "duration": 10,
    "start_time": "2024-05-10T18:49:29.053Z"
   },
   {
    "duration": 87,
    "start_time": "2024-05-10T18:51:15.859Z"
   },
   {
    "duration": 11,
    "start_time": "2024-05-10T18:51:24.436Z"
   },
   {
    "duration": 15,
    "start_time": "2024-05-10T18:51:35.068Z"
   },
   {
    "duration": 14,
    "start_time": "2024-05-10T18:52:02.147Z"
   },
   {
    "duration": 92,
    "start_time": "2024-05-10T18:59:31.167Z"
   },
   {
    "duration": 62,
    "start_time": "2024-05-10T18:59:49.407Z"
   },
   {
    "duration": 12,
    "start_time": "2024-05-10T18:59:55.059Z"
   },
   {
    "duration": 16,
    "start_time": "2024-05-10T19:01:17.501Z"
   },
   {
    "duration": 15,
    "start_time": "2024-05-10T19:01:22.198Z"
   },
   {
    "duration": 14,
    "start_time": "2024-05-10T19:01:31.640Z"
   },
   {
    "duration": 15,
    "start_time": "2024-05-10T19:01:34.478Z"
   },
   {
    "duration": 61,
    "start_time": "2024-05-10T19:03:23.471Z"
   },
   {
    "duration": 70,
    "start_time": "2024-05-10T19:03:52.853Z"
   },
   {
    "duration": 10,
    "start_time": "2024-05-10T19:04:37.146Z"
   },
   {
    "duration": 19,
    "start_time": "2024-05-10T19:04:47.079Z"
   },
   {
    "duration": 3,
    "start_time": "2024-05-10T19:17:00.915Z"
   },
   {
    "duration": 13,
    "start_time": "2024-05-10T19:17:25.158Z"
   },
   {
    "duration": 3,
    "start_time": "2024-05-10T19:17:33.557Z"
   },
   {
    "duration": 4,
    "start_time": "2024-05-10T19:20:07.318Z"
   },
   {
    "duration": 3,
    "start_time": "2024-05-10T19:22:19.674Z"
   },
   {
    "duration": 4,
    "start_time": "2024-05-10T19:22:24.825Z"
   },
   {
    "duration": 4,
    "start_time": "2024-05-10T19:23:30.474Z"
   },
   {
    "duration": 4,
    "start_time": "2024-05-10T19:23:33.321Z"
   },
   {
    "duration": 3,
    "start_time": "2024-05-10T19:24:44.386Z"
   },
   {
    "duration": 3,
    "start_time": "2024-05-10T19:26:03.306Z"
   },
   {
    "duration": 4,
    "start_time": "2024-05-10T19:26:07.418Z"
   },
   {
    "duration": 3,
    "start_time": "2024-05-10T19:26:17.282Z"
   },
   {
    "duration": 4,
    "start_time": "2024-05-10T19:27:10.203Z"
   },
   {
    "duration": 3,
    "start_time": "2024-05-10T19:28:14.267Z"
   },
   {
    "duration": 4,
    "start_time": "2024-05-10T19:30:13.291Z"
   },
   {
    "duration": 64,
    "start_time": "2024-05-10T19:30:20.267Z"
   },
   {
    "duration": 3,
    "start_time": "2024-05-10T19:30:26.611Z"
   },
   {
    "duration": 3,
    "start_time": "2024-05-10T19:30:31.460Z"
   },
   {
    "duration": 3,
    "start_time": "2024-05-10T19:30:33.618Z"
   },
   {
    "duration": 3,
    "start_time": "2024-05-10T19:49:41.847Z"
   },
   {
    "duration": 408,
    "start_time": "2024-05-12T15:24:40.377Z"
   },
   {
    "duration": 436,
    "start_time": "2024-05-12T15:24:40.787Z"
   },
   {
    "duration": 16,
    "start_time": "2024-05-12T15:24:41.224Z"
   },
   {
    "duration": 24,
    "start_time": "2024-05-12T15:24:41.241Z"
   },
   {
    "duration": 2,
    "start_time": "2024-05-12T15:24:41.266Z"
   },
   {
    "duration": 13,
    "start_time": "2024-05-12T15:24:41.270Z"
   },
   {
    "duration": 14,
    "start_time": "2024-05-12T15:24:41.285Z"
   },
   {
    "duration": 6,
    "start_time": "2024-05-12T15:24:41.300Z"
   },
   {
    "duration": 23,
    "start_time": "2024-05-12T15:24:41.307Z"
   },
   {
    "duration": 47,
    "start_time": "2024-05-12T15:24:41.333Z"
   },
   {
    "duration": 19,
    "start_time": "2024-05-12T15:24:41.381Z"
   },
   {
    "duration": 68,
    "start_time": "2024-05-12T15:24:41.401Z"
   },
   {
    "duration": 72,
    "start_time": "2024-05-12T15:24:41.470Z"
   },
   {
    "duration": 58,
    "start_time": "2024-05-12T15:24:41.544Z"
   },
   {
    "duration": 39,
    "start_time": "2024-05-12T15:24:41.612Z"
   },
   {
    "duration": 8,
    "start_time": "2024-05-12T15:24:41.653Z"
   },
   {
    "duration": 67,
    "start_time": "2024-05-12T15:24:41.663Z"
   },
   {
    "duration": 10,
    "start_time": "2024-05-12T15:24:41.731Z"
   },
   {
    "duration": 10,
    "start_time": "2024-05-12T15:24:41.743Z"
   },
   {
    "duration": 3,
    "start_time": "2024-05-12T15:24:41.754Z"
   },
   {
    "duration": 4,
    "start_time": "2024-05-12T15:24:41.758Z"
   },
   {
    "duration": 4,
    "start_time": "2024-05-12T15:24:41.763Z"
   },
   {
    "duration": 6,
    "start_time": "2024-05-12T15:24:41.769Z"
   },
   {
    "duration": 3,
    "start_time": "2024-05-12T15:24:41.776Z"
   },
   {
    "duration": 5,
    "start_time": "2024-05-12T15:24:41.781Z"
   },
   {
    "duration": 4,
    "start_time": "2024-05-12T15:24:41.788Z"
   },
   {
    "duration": 19,
    "start_time": "2024-05-12T15:24:41.793Z"
   },
   {
    "duration": 3,
    "start_time": "2024-05-12T15:24:41.815Z"
   },
   {
    "duration": 6,
    "start_time": "2024-05-12T15:24:41.819Z"
   },
   {
    "duration": 43,
    "start_time": "2024-05-12T15:24:41.826Z"
   },
   {
    "duration": 0,
    "start_time": "2024-05-12T15:24:41.870Z"
   },
   {
    "duration": 0,
    "start_time": "2024-05-12T15:24:41.871Z"
   },
   {
    "duration": 0,
    "start_time": "2024-05-12T15:24:41.872Z"
   },
   {
    "duration": 0,
    "start_time": "2024-05-12T15:24:41.873Z"
   },
   {
    "duration": 1,
    "start_time": "2024-05-12T15:24:41.873Z"
   },
   {
    "duration": 0,
    "start_time": "2024-05-12T15:24:41.874Z"
   },
   {
    "duration": 0,
    "start_time": "2024-05-12T15:24:41.875Z"
   },
   {
    "duration": 0,
    "start_time": "2024-05-12T15:24:41.876Z"
   },
   {
    "duration": 19,
    "start_time": "2024-05-12T15:32:33.294Z"
   },
   {
    "duration": 17,
    "start_time": "2024-05-12T15:32:36.311Z"
   },
   {
    "duration": 19,
    "start_time": "2024-05-12T15:32:39.518Z"
   },
   {
    "duration": 15,
    "start_time": "2024-05-12T15:32:41.823Z"
   },
   {
    "duration": 19,
    "start_time": "2024-05-12T15:32:44.358Z"
   },
   {
    "duration": 17,
    "start_time": "2024-05-12T15:32:49.311Z"
   },
   {
    "duration": 19,
    "start_time": "2024-05-12T15:39:01.912Z"
   },
   {
    "duration": 19,
    "start_time": "2024-05-12T15:39:18.926Z"
   },
   {
    "duration": 3,
    "start_time": "2024-05-12T15:40:37.498Z"
   },
   {
    "duration": 3,
    "start_time": "2024-05-12T15:40:43.951Z"
   },
   {
    "duration": 14,
    "start_time": "2024-05-12T15:40:46.668Z"
   },
   {
    "duration": 13,
    "start_time": "2024-05-12T15:40:49.415Z"
   },
   {
    "duration": 12,
    "start_time": "2024-05-12T15:40:51.600Z"
   },
   {
    "duration": 13,
    "start_time": "2024-05-12T15:40:53.654Z"
   },
   {
    "duration": 15,
    "start_time": "2024-05-12T15:40:55.831Z"
   },
   {
    "duration": 14,
    "start_time": "2024-05-12T15:40:57.942Z"
   },
   {
    "duration": 7,
    "start_time": "2024-05-12T15:41:47.536Z"
   },
   {
    "duration": 10,
    "start_time": "2024-05-12T15:43:07.423Z"
   },
   {
    "duration": 7,
    "start_time": "2024-05-12T15:43:11.654Z"
   },
   {
    "duration": 19,
    "start_time": "2024-05-12T15:50:50.838Z"
   },
   {
    "duration": 17,
    "start_time": "2024-05-12T15:51:03.381Z"
   },
   {
    "duration": 411,
    "start_time": "2024-05-12T15:51:47.287Z"
   },
   {
    "duration": 156,
    "start_time": "2024-05-12T15:51:47.699Z"
   },
   {
    "duration": 15,
    "start_time": "2024-05-12T15:51:47.856Z"
   },
   {
    "duration": 39,
    "start_time": "2024-05-12T15:51:47.873Z"
   },
   {
    "duration": 2,
    "start_time": "2024-05-12T15:51:47.914Z"
   },
   {
    "duration": 5,
    "start_time": "2024-05-12T15:51:47.917Z"
   },
   {
    "duration": 12,
    "start_time": "2024-05-12T15:51:47.923Z"
   },
   {
    "duration": 5,
    "start_time": "2024-05-12T15:51:47.936Z"
   },
   {
    "duration": 21,
    "start_time": "2024-05-12T15:51:47.942Z"
   },
   {
    "duration": 67,
    "start_time": "2024-05-12T15:51:47.965Z"
   },
   {
    "duration": 19,
    "start_time": "2024-05-12T15:51:48.034Z"
   },
   {
    "duration": 77,
    "start_time": "2024-05-12T15:51:48.054Z"
   },
   {
    "duration": 79,
    "start_time": "2024-05-12T15:51:48.133Z"
   },
   {
    "duration": 57,
    "start_time": "2024-05-12T15:51:48.213Z"
   },
   {
    "duration": 50,
    "start_time": "2024-05-12T15:51:48.272Z"
   },
   {
    "duration": 9,
    "start_time": "2024-05-12T15:51:48.323Z"
   },
   {
    "duration": 51,
    "start_time": "2024-05-12T15:51:48.333Z"
   },
   {
    "duration": 29,
    "start_time": "2024-05-12T15:51:48.385Z"
   },
   {
    "duration": 10,
    "start_time": "2024-05-12T15:51:48.416Z"
   },
   {
    "duration": 3,
    "start_time": "2024-05-12T15:51:48.427Z"
   },
   {
    "duration": 18,
    "start_time": "2024-05-12T15:51:48.431Z"
   },
   {
    "duration": 11,
    "start_time": "2024-05-12T15:51:48.451Z"
   },
   {
    "duration": 12,
    "start_time": "2024-05-12T15:51:48.464Z"
   },
   {
    "duration": 12,
    "start_time": "2024-05-12T15:51:48.512Z"
   },
   {
    "duration": 14,
    "start_time": "2024-05-12T15:51:48.526Z"
   },
   {
    "duration": 12,
    "start_time": "2024-05-12T15:51:48.541Z"
   },
   {
    "duration": 9,
    "start_time": "2024-05-12T15:51:48.554Z"
   },
   {
    "duration": 52,
    "start_time": "2024-05-12T15:51:48.565Z"
   },
   {
    "duration": 16,
    "start_time": "2024-05-12T15:51:48.619Z"
   },
   {
    "duration": 36,
    "start_time": "2024-05-12T15:51:48.636Z"
   },
   {
    "duration": 0,
    "start_time": "2024-05-12T15:51:48.674Z"
   },
   {
    "duration": 1,
    "start_time": "2024-05-12T15:51:48.674Z"
   },
   {
    "duration": 0,
    "start_time": "2024-05-12T15:51:48.675Z"
   },
   {
    "duration": 0,
    "start_time": "2024-05-12T15:51:48.676Z"
   },
   {
    "duration": 0,
    "start_time": "2024-05-12T15:51:48.677Z"
   },
   {
    "duration": 0,
    "start_time": "2024-05-12T15:51:48.678Z"
   },
   {
    "duration": 0,
    "start_time": "2024-05-12T15:51:48.679Z"
   },
   {
    "duration": 0,
    "start_time": "2024-05-12T15:51:48.681Z"
   },
   {
    "duration": 2,
    "start_time": "2024-05-12T15:52:10.375Z"
   },
   {
    "duration": 155,
    "start_time": "2024-05-12T15:52:12.357Z"
   },
   {
    "duration": 10,
    "start_time": "2024-05-12T15:52:15.670Z"
   },
   {
    "duration": 24,
    "start_time": "2024-05-12T15:52:19.534Z"
   },
   {
    "duration": 3,
    "start_time": "2024-05-12T15:52:24.901Z"
   },
   {
    "duration": 9,
    "start_time": "2024-05-12T15:52:28.190Z"
   },
   {
    "duration": 4,
    "start_time": "2024-05-12T15:52:30.335Z"
   },
   {
    "duration": 21,
    "start_time": "2024-05-12T15:52:34.180Z"
   },
   {
    "duration": 33,
    "start_time": "2024-05-12T15:52:38.421Z"
   },
   {
    "duration": 21,
    "start_time": "2024-05-12T15:52:45.925Z"
   },
   {
    "duration": 59,
    "start_time": "2024-05-12T15:52:49.630Z"
   },
   {
    "duration": 63,
    "start_time": "2024-05-12T15:52:52.004Z"
   },
   {
    "duration": 53,
    "start_time": "2024-05-12T15:52:54.278Z"
   },
   {
    "duration": 40,
    "start_time": "2024-05-12T15:52:56.780Z"
   },
   {
    "duration": 8,
    "start_time": "2024-05-12T15:53:01.475Z"
   },
   {
    "duration": 49,
    "start_time": "2024-05-12T15:53:04.847Z"
   },
   {
    "duration": 12,
    "start_time": "2024-05-12T15:53:15.941Z"
   },
   {
    "duration": 12,
    "start_time": "2024-05-12T15:53:21.101Z"
   },
   {
    "duration": 3,
    "start_time": "2024-05-12T15:53:25.701Z"
   },
   {
    "duration": 15,
    "start_time": "2024-05-12T15:53:28.739Z"
   },
   {
    "duration": 13,
    "start_time": "2024-05-12T15:53:31.021Z"
   },
   {
    "duration": 13,
    "start_time": "2024-05-12T15:53:33.807Z"
   },
   {
    "duration": 13,
    "start_time": "2024-05-12T15:53:35.646Z"
   },
   {
    "duration": 14,
    "start_time": "2024-05-12T15:53:37.885Z"
   },
   {
    "duration": 12,
    "start_time": "2024-05-12T15:53:40.045Z"
   },
   {
    "duration": 8,
    "start_time": "2024-05-12T15:53:43.005Z"
   },
   {
    "duration": 17,
    "start_time": "2024-05-12T15:53:48.374Z"
   },
   {
    "duration": 16,
    "start_time": "2024-05-12T15:53:55.901Z"
   },
   {
    "duration": 7,
    "start_time": "2024-05-12T15:54:07.870Z"
   },
   {
    "duration": 9,
    "start_time": "2024-05-12T15:54:14.166Z"
   },
   {
    "duration": 3,
    "start_time": "2024-05-12T15:59:10.025Z"
   },
   {
    "duration": 4,
    "start_time": "2024-05-12T16:00:06.445Z"
   },
   {
    "duration": 3,
    "start_time": "2024-05-12T16:00:28.933Z"
   },
   {
    "duration": 4,
    "start_time": "2024-05-12T16:02:25.611Z"
   },
   {
    "duration": 3,
    "start_time": "2024-05-12T16:09:11.228Z"
   },
   {
    "duration": 71,
    "start_time": "2024-05-12T16:09:25.085Z"
   },
   {
    "duration": 4,
    "start_time": "2024-05-12T16:09:42.939Z"
   },
   {
    "duration": 3,
    "start_time": "2024-05-12T16:09:45.412Z"
   },
   {
    "duration": 38,
    "start_time": "2024-05-12T16:09:53.628Z"
   },
   {
    "duration": 7,
    "start_time": "2024-05-12T16:10:02.379Z"
   },
   {
    "duration": 3,
    "start_time": "2024-05-12T16:12:58.117Z"
   },
   {
    "duration": 6,
    "start_time": "2024-05-12T16:13:14.475Z"
   },
   {
    "duration": 3,
    "start_time": "2024-05-12T16:14:41.155Z"
   },
   {
    "duration": 4,
    "start_time": "2024-05-12T16:14:50.435Z"
   },
   {
    "duration": 3,
    "start_time": "2024-05-12T16:15:03.052Z"
   },
   {
    "duration": 4,
    "start_time": "2024-05-12T16:15:35.516Z"
   },
   {
    "duration": 5,
    "start_time": "2024-05-12T16:16:03.589Z"
   },
   {
    "duration": 3,
    "start_time": "2024-05-12T16:16:13.940Z"
   },
   {
    "duration": 14,
    "start_time": "2024-05-12T16:17:55.242Z"
   },
   {
    "duration": 10,
    "start_time": "2024-05-12T16:17:58.569Z"
   },
   {
    "duration": 16,
    "start_time": "2024-05-12T16:18:09.258Z"
   },
   {
    "duration": 11,
    "start_time": "2024-05-12T16:18:14.201Z"
   },
   {
    "duration": 7,
    "start_time": "2024-05-12T16:20:05.444Z"
   },
   {
    "duration": 9,
    "start_time": "2024-05-12T16:20:39.433Z"
   },
   {
    "duration": 5,
    "start_time": "2024-05-12T16:21:18.378Z"
   },
   {
    "duration": 6,
    "start_time": "2024-05-12T16:22:52.817Z"
   },
   {
    "duration": 5,
    "start_time": "2024-05-12T16:24:08.219Z"
   },
   {
    "duration": 4,
    "start_time": "2024-05-12T16:24:36.458Z"
   },
   {
    "duration": 353,
    "start_time": "2024-05-12T16:25:07.960Z"
   },
   {
    "duration": 153,
    "start_time": "2024-05-12T16:25:08.315Z"
   },
   {
    "duration": 16,
    "start_time": "2024-05-12T16:25:08.470Z"
   },
   {
    "duration": 35,
    "start_time": "2024-05-12T16:25:08.488Z"
   },
   {
    "duration": 2,
    "start_time": "2024-05-12T16:25:08.525Z"
   },
   {
    "duration": 7,
    "start_time": "2024-05-12T16:25:08.529Z"
   },
   {
    "duration": 10,
    "start_time": "2024-05-12T16:25:08.537Z"
   },
   {
    "duration": 4,
    "start_time": "2024-05-12T16:25:08.549Z"
   },
   {
    "duration": 61,
    "start_time": "2024-05-12T16:25:08.555Z"
   },
   {
    "duration": 38,
    "start_time": "2024-05-12T16:25:08.619Z"
   },
   {
    "duration": 21,
    "start_time": "2024-05-12T16:25:08.658Z"
   },
   {
    "duration": 90,
    "start_time": "2024-05-12T16:25:08.681Z"
   },
   {
    "duration": 83,
    "start_time": "2024-05-12T16:25:08.773Z"
   },
   {
    "duration": 63,
    "start_time": "2024-05-12T16:25:08.858Z"
   },
   {
    "duration": 39,
    "start_time": "2024-05-12T16:25:08.923Z"
   },
   {
    "duration": 9,
    "start_time": "2024-05-12T16:25:08.963Z"
   },
   {
    "duration": 67,
    "start_time": "2024-05-12T16:25:08.973Z"
   },
   {
    "duration": 10,
    "start_time": "2024-05-12T16:25:09.042Z"
   },
   {
    "duration": 16,
    "start_time": "2024-05-12T16:25:09.053Z"
   },
   {
    "duration": 3,
    "start_time": "2024-05-12T16:25:09.070Z"
   },
   {
    "duration": 41,
    "start_time": "2024-05-12T16:25:09.074Z"
   },
   {
    "duration": 14,
    "start_time": "2024-05-12T16:25:09.116Z"
   },
   {
    "duration": 13,
    "start_time": "2024-05-12T16:25:09.132Z"
   },
   {
    "duration": 12,
    "start_time": "2024-05-12T16:25:09.147Z"
   },
   {
    "duration": 18,
    "start_time": "2024-05-12T16:25:09.161Z"
   },
   {
    "duration": 14,
    "start_time": "2024-05-12T16:25:09.212Z"
   },
   {
    "duration": 7,
    "start_time": "2024-05-12T16:25:09.228Z"
   },
   {
    "duration": 8,
    "start_time": "2024-05-12T16:25:09.238Z"
   },
   {
    "duration": 10,
    "start_time": "2024-05-12T16:25:09.247Z"
   },
   {
    "duration": 3,
    "start_time": "2024-05-12T16:25:09.259Z"
   },
   {
    "duration": 50,
    "start_time": "2024-05-12T16:25:09.264Z"
   },
   {
    "duration": 10,
    "start_time": "2024-05-12T16:25:09.315Z"
   },
   {
    "duration": 16,
    "start_time": "2024-05-12T16:25:09.326Z"
   },
   {
    "duration": 10,
    "start_time": "2024-05-12T16:25:09.343Z"
   },
   {
    "duration": 9,
    "start_time": "2024-05-12T16:25:09.354Z"
   },
   {
    "duration": 4,
    "start_time": "2024-05-12T16:25:09.365Z"
   },
   {
    "duration": 42,
    "start_time": "2024-05-12T16:25:09.371Z"
   },
   {
    "duration": 2,
    "start_time": "2024-05-12T16:25:09.415Z"
   },
   {
    "duration": 60,
    "start_time": "2024-05-12T16:26:11.220Z"
   },
   {
    "duration": 4,
    "start_time": "2024-05-12T16:26:40.658Z"
   },
   {
    "duration": 6,
    "start_time": "2024-05-12T16:26:48.274Z"
   },
   {
    "duration": 2,
    "start_time": "2024-05-12T16:41:38.952Z"
   },
   {
    "duration": 2,
    "start_time": "2024-05-12T16:42:14.967Z"
   },
   {
    "duration": 8,
    "start_time": "2024-05-12T16:42:25.402Z"
   },
   {
    "duration": 2,
    "start_time": "2024-05-12T16:42:28.176Z"
   },
   {
    "duration": 2,
    "start_time": "2024-05-12T16:42:34.825Z"
   },
   {
    "duration": 62,
    "start_time": "2024-05-12T16:43:22.386Z"
   },
   {
    "duration": 9,
    "start_time": "2024-05-12T16:43:37.000Z"
   },
   {
    "duration": 4,
    "start_time": "2024-05-12T16:43:39.423Z"
   },
   {
    "duration": 355,
    "start_time": "2024-05-12T16:44:06.553Z"
   },
   {
    "duration": 161,
    "start_time": "2024-05-12T16:44:06.909Z"
   },
   {
    "duration": 15,
    "start_time": "2024-05-12T16:44:07.072Z"
   },
   {
    "duration": 49,
    "start_time": "2024-05-12T16:44:07.089Z"
   },
   {
    "duration": 2,
    "start_time": "2024-05-12T16:44:07.140Z"
   },
   {
    "duration": 9,
    "start_time": "2024-05-12T16:44:07.144Z"
   },
   {
    "duration": 11,
    "start_time": "2024-05-12T16:44:07.154Z"
   },
   {
    "duration": 19,
    "start_time": "2024-05-12T16:44:07.167Z"
   },
   {
    "duration": 34,
    "start_time": "2024-05-12T16:44:07.188Z"
   },
   {
    "duration": 42,
    "start_time": "2024-05-12T16:44:07.224Z"
   },
   {
    "duration": 19,
    "start_time": "2024-05-12T16:44:07.268Z"
   },
   {
    "duration": 78,
    "start_time": "2024-05-12T16:44:07.288Z"
   },
   {
    "duration": 82,
    "start_time": "2024-05-12T16:44:07.368Z"
   },
   {
    "duration": 60,
    "start_time": "2024-05-12T16:44:07.452Z"
   },
   {
    "duration": 39,
    "start_time": "2024-05-12T16:44:07.514Z"
   },
   {
    "duration": 9,
    "start_time": "2024-05-12T16:44:07.554Z"
   },
   {
    "duration": 66,
    "start_time": "2024-05-12T16:44:07.565Z"
   },
   {
    "duration": 11,
    "start_time": "2024-05-12T16:44:07.632Z"
   },
   {
    "duration": 12,
    "start_time": "2024-05-12T16:44:07.644Z"
   },
   {
    "duration": 5,
    "start_time": "2024-05-12T16:44:07.657Z"
   },
   {
    "duration": 25,
    "start_time": "2024-05-12T16:44:07.664Z"
   },
   {
    "duration": 29,
    "start_time": "2024-05-12T16:44:07.690Z"
   },
   {
    "duration": 13,
    "start_time": "2024-05-12T16:44:07.720Z"
   },
   {
    "duration": 12,
    "start_time": "2024-05-12T16:44:07.735Z"
   },
   {
    "duration": 14,
    "start_time": "2024-05-12T16:44:07.749Z"
   },
   {
    "duration": 48,
    "start_time": "2024-05-12T16:44:07.765Z"
   },
   {
    "duration": 8,
    "start_time": "2024-05-12T16:44:07.814Z"
   },
   {
    "duration": 9,
    "start_time": "2024-05-12T16:44:07.826Z"
   },
   {
    "duration": 8,
    "start_time": "2024-05-12T16:44:07.836Z"
   },
   {
    "duration": 8,
    "start_time": "2024-05-12T16:44:07.845Z"
   },
   {
    "duration": 20,
    "start_time": "2024-05-12T16:44:07.854Z"
   },
   {
    "duration": 41,
    "start_time": "2024-05-12T16:44:07.875Z"
   },
   {
    "duration": 17,
    "start_time": "2024-05-12T16:44:07.918Z"
   },
   {
    "duration": 11,
    "start_time": "2024-05-12T16:44:07.937Z"
   },
   {
    "duration": 18,
    "start_time": "2024-05-12T16:44:07.950Z"
   },
   {
    "duration": 5,
    "start_time": "2024-05-12T16:44:07.969Z"
   },
   {
    "duration": 37,
    "start_time": "2024-05-12T16:44:07.976Z"
   },
   {
    "duration": 2,
    "start_time": "2024-05-12T16:44:08.015Z"
   },
   {
    "duration": 2,
    "start_time": "2024-05-12T16:44:22.833Z"
   },
   {
    "duration": 155,
    "start_time": "2024-05-12T16:44:24.586Z"
   },
   {
    "duration": 11,
    "start_time": "2024-05-12T16:44:26.272Z"
   },
   {
    "duration": 26,
    "start_time": "2024-05-12T16:44:29.455Z"
   },
   {
    "duration": 4,
    "start_time": "2024-05-12T16:44:33.576Z"
   },
   {
    "duration": 7,
    "start_time": "2024-05-12T16:44:36.120Z"
   },
   {
    "duration": 3,
    "start_time": "2024-05-12T16:44:37.984Z"
   },
   {
    "duration": 20,
    "start_time": "2024-05-12T16:44:40.193Z"
   },
   {
    "duration": 34,
    "start_time": "2024-05-12T16:44:44.280Z"
   },
   {
    "duration": 20,
    "start_time": "2024-05-12T16:44:46.865Z"
   },
   {
    "duration": 59,
    "start_time": "2024-05-12T16:44:49.471Z"
   },
   {
    "duration": 64,
    "start_time": "2024-05-12T16:44:51.783Z"
   },
   {
    "duration": 52,
    "start_time": "2024-05-12T16:44:54.256Z"
   },
   {
    "duration": 40,
    "start_time": "2024-05-12T16:44:57.207Z"
   },
   {
    "duration": 9,
    "start_time": "2024-05-12T16:45:02.336Z"
   },
   {
    "duration": 49,
    "start_time": "2024-05-12T16:45:04.240Z"
   },
   {
    "duration": 11,
    "start_time": "2024-05-12T16:45:08.913Z"
   },
   {
    "duration": 11,
    "start_time": "2024-05-12T16:45:11.655Z"
   },
   {
    "duration": 3,
    "start_time": "2024-05-12T16:45:14.776Z"
   },
   {
    "duration": 14,
    "start_time": "2024-05-12T16:45:18.703Z"
   },
   {
    "duration": 13,
    "start_time": "2024-05-12T16:45:20.735Z"
   },
   {
    "duration": 12,
    "start_time": "2024-05-12T16:45:22.935Z"
   },
   {
    "duration": 13,
    "start_time": "2024-05-12T16:45:25.184Z"
   },
   {
    "duration": 15,
    "start_time": "2024-05-12T16:45:28.198Z"
   },
   {
    "duration": 14,
    "start_time": "2024-05-12T16:45:31.680Z"
   },
   {
    "duration": 9,
    "start_time": "2024-05-12T16:45:33.576Z"
   },
   {
    "duration": 10,
    "start_time": "2024-05-12T16:45:38.808Z"
   },
   {
    "duration": 9,
    "start_time": "2024-05-12T16:45:42.840Z"
   },
   {
    "duration": 4,
    "start_time": "2024-05-12T16:45:48.433Z"
   },
   {
    "duration": 13,
    "start_time": "2024-05-12T16:45:51.872Z"
   },
   {
    "duration": 4,
    "start_time": "2024-05-12T16:52:16.481Z"
   },
   {
    "duration": 6,
    "start_time": "2024-05-12T16:52:39.360Z"
   },
   {
    "duration": 9,
    "start_time": "2024-05-12T16:52:57.151Z"
   },
   {
    "duration": 4,
    "start_time": "2024-05-12T16:55:26.135Z"
   },
   {
    "duration": 4,
    "start_time": "2024-05-12T16:56:50.447Z"
   },
   {
    "duration": 4,
    "start_time": "2024-05-12T16:59:26.288Z"
   },
   {
    "duration": 4,
    "start_time": "2024-05-12T17:02:26.822Z"
   },
   {
    "duration": 4,
    "start_time": "2024-05-12T17:03:17.512Z"
   },
   {
    "duration": 4,
    "start_time": "2024-05-12T17:05:43.733Z"
   },
   {
    "duration": 5,
    "start_time": "2024-05-12T17:06:06.653Z"
   },
   {
    "duration": 4,
    "start_time": "2024-05-12T17:06:26.396Z"
   },
   {
    "duration": 366,
    "start_time": "2024-05-12T17:07:20.446Z"
   },
   {
    "duration": 156,
    "start_time": "2024-05-12T17:07:20.813Z"
   },
   {
    "duration": 16,
    "start_time": "2024-05-12T17:07:20.973Z"
   },
   {
    "duration": 39,
    "start_time": "2024-05-12T17:07:20.990Z"
   },
   {
    "duration": 15,
    "start_time": "2024-05-12T17:07:21.030Z"
   },
   {
    "duration": 26,
    "start_time": "2024-05-12T17:07:21.046Z"
   },
   {
    "duration": 22,
    "start_time": "2024-05-12T17:07:21.074Z"
   },
   {
    "duration": 5,
    "start_time": "2024-05-12T17:07:21.097Z"
   },
   {
    "duration": 30,
    "start_time": "2024-05-12T17:07:21.105Z"
   },
   {
    "duration": 38,
    "start_time": "2024-05-12T17:07:21.136Z"
   },
   {
    "duration": 19,
    "start_time": "2024-05-12T17:07:21.176Z"
   },
   {
    "duration": 77,
    "start_time": "2024-05-12T17:07:21.196Z"
   },
   {
    "duration": 81,
    "start_time": "2024-05-12T17:07:21.274Z"
   },
   {
    "duration": 63,
    "start_time": "2024-05-12T17:07:21.356Z"
   },
   {
    "duration": 39,
    "start_time": "2024-05-12T17:07:21.420Z"
   },
   {
    "duration": 16,
    "start_time": "2024-05-12T17:07:21.460Z"
   },
   {
    "duration": 71,
    "start_time": "2024-05-12T17:07:21.477Z"
   },
   {
    "duration": 10,
    "start_time": "2024-05-12T17:07:21.549Z"
   },
   {
    "duration": 16,
    "start_time": "2024-05-12T17:07:21.561Z"
   },
   {
    "duration": 11,
    "start_time": "2024-05-12T17:07:21.579Z"
   },
   {
    "duration": 23,
    "start_time": "2024-05-12T17:07:21.591Z"
   },
   {
    "duration": 21,
    "start_time": "2024-05-12T17:07:21.615Z"
   },
   {
    "duration": 23,
    "start_time": "2024-05-12T17:07:21.637Z"
   },
   {
    "duration": 11,
    "start_time": "2024-05-12T17:07:21.661Z"
   },
   {
    "duration": 13,
    "start_time": "2024-05-12T17:07:21.673Z"
   },
   {
    "duration": 40,
    "start_time": "2024-05-12T17:07:21.687Z"
   },
   {
    "duration": 32,
    "start_time": "2024-05-12T17:07:21.730Z"
   },
   {
    "duration": 44,
    "start_time": "2024-05-12T17:07:21.763Z"
   },
   {
    "duration": 30,
    "start_time": "2024-05-12T17:07:21.809Z"
   },
   {
    "duration": 38,
    "start_time": "2024-05-12T17:07:21.840Z"
   },
   {
    "duration": 56,
    "start_time": "2024-05-12T17:07:21.879Z"
   },
   {
    "duration": 20,
    "start_time": "2024-05-12T17:07:21.937Z"
   },
   {
    "duration": 16,
    "start_time": "2024-05-12T17:07:21.958Z"
   },
   {
    "duration": 18,
    "start_time": "2024-05-12T17:07:21.975Z"
   },
   {
    "duration": 8,
    "start_time": "2024-05-12T17:07:21.994Z"
   },
   {
    "duration": 4,
    "start_time": "2024-05-12T17:07:22.003Z"
   },
   {
    "duration": 8,
    "start_time": "2024-05-12T17:07:22.008Z"
   },
   {
    "duration": 22,
    "start_time": "2024-05-12T17:07:22.017Z"
   },
   {
    "duration": 351,
    "start_time": "2024-05-12T17:09:15.866Z"
   },
   {
    "duration": 156,
    "start_time": "2024-05-12T17:09:16.219Z"
   },
   {
    "duration": 15,
    "start_time": "2024-05-12T17:09:16.377Z"
   },
   {
    "duration": 32,
    "start_time": "2024-05-12T17:09:16.394Z"
   },
   {
    "duration": 2,
    "start_time": "2024-05-12T17:09:16.428Z"
   },
   {
    "duration": 11,
    "start_time": "2024-05-12T17:09:16.431Z"
   },
   {
    "duration": 11,
    "start_time": "2024-05-12T17:09:16.443Z"
   },
   {
    "duration": 8,
    "start_time": "2024-05-12T17:09:16.456Z"
   },
   {
    "duration": 23,
    "start_time": "2024-05-12T17:09:16.466Z"
   },
   {
    "duration": 56,
    "start_time": "2024-05-12T17:09:16.492Z"
   },
   {
    "duration": 18,
    "start_time": "2024-05-12T17:09:16.550Z"
   },
   {
    "duration": 79,
    "start_time": "2024-05-12T17:09:16.570Z"
   },
   {
    "duration": 78,
    "start_time": "2024-05-12T17:09:16.651Z"
   },
   {
    "duration": 57,
    "start_time": "2024-05-12T17:09:16.730Z"
   },
   {
    "duration": 53,
    "start_time": "2024-05-12T17:09:16.789Z"
   },
   {
    "duration": 8,
    "start_time": "2024-05-12T17:09:16.844Z"
   },
   {
    "duration": 64,
    "start_time": "2024-05-12T17:09:16.853Z"
   },
   {
    "duration": 11,
    "start_time": "2024-05-12T17:09:16.918Z"
   },
   {
    "duration": 11,
    "start_time": "2024-05-12T17:09:16.930Z"
   },
   {
    "duration": 3,
    "start_time": "2024-05-12T17:09:16.942Z"
   },
   {
    "duration": 41,
    "start_time": "2024-05-12T17:09:16.946Z"
   },
   {
    "duration": 14,
    "start_time": "2024-05-12T17:09:16.988Z"
   },
   {
    "duration": 14,
    "start_time": "2024-05-12T17:09:17.004Z"
   },
   {
    "duration": 16,
    "start_time": "2024-05-12T17:09:17.020Z"
   },
   {
    "duration": 13,
    "start_time": "2024-05-12T17:09:17.037Z"
   },
   {
    "duration": 12,
    "start_time": "2024-05-12T17:09:17.052Z"
   },
   {
    "duration": 7,
    "start_time": "2024-05-12T17:09:17.066Z"
   },
   {
    "duration": 42,
    "start_time": "2024-05-12T17:09:17.075Z"
   },
   {
    "duration": 8,
    "start_time": "2024-05-12T17:09:17.118Z"
   },
   {
    "duration": 4,
    "start_time": "2024-05-12T17:09:17.128Z"
   },
   {
    "duration": 16,
    "start_time": "2024-05-12T17:09:17.133Z"
   },
   {
    "duration": 9,
    "start_time": "2024-05-12T17:09:17.150Z"
   },
   {
    "duration": 19,
    "start_time": "2024-05-12T17:09:17.161Z"
   },
   {
    "duration": 39,
    "start_time": "2024-05-12T17:09:17.181Z"
   },
   {
    "duration": 9,
    "start_time": "2024-05-12T17:09:17.221Z"
   },
   {
    "duration": 6,
    "start_time": "2024-05-12T17:09:17.231Z"
   },
   {
    "duration": 6,
    "start_time": "2024-05-12T17:09:17.238Z"
   },
   {
    "duration": 4,
    "start_time": "2024-05-12T17:09:17.245Z"
   },
   {
    "duration": 8,
    "start_time": "2024-05-12T17:09:56.542Z"
   },
   {
    "duration": 4,
    "start_time": "2024-05-12T17:09:59.581Z"
   },
   {
    "duration": 4,
    "start_time": "2024-05-12T17:10:01.885Z"
   },
   {
    "duration": 354,
    "start_time": "2024-05-12T17:11:34.553Z"
   },
   {
    "duration": 156,
    "start_time": "2024-05-12T17:11:34.911Z"
   },
   {
    "duration": 16,
    "start_time": "2024-05-12T17:11:35.069Z"
   },
   {
    "duration": 32,
    "start_time": "2024-05-12T17:11:35.086Z"
   },
   {
    "duration": 3,
    "start_time": "2024-05-12T17:11:35.119Z"
   },
   {
    "duration": 7,
    "start_time": "2024-05-12T17:11:35.123Z"
   },
   {
    "duration": 9,
    "start_time": "2024-05-12T17:11:35.131Z"
   },
   {
    "duration": 6,
    "start_time": "2024-05-12T17:11:35.141Z"
   },
   {
    "duration": 22,
    "start_time": "2024-05-12T17:11:35.148Z"
   },
   {
    "duration": 73,
    "start_time": "2024-05-12T17:11:35.172Z"
   },
   {
    "duration": 21,
    "start_time": "2024-05-12T17:11:35.247Z"
   },
   {
    "duration": 75,
    "start_time": "2024-05-12T17:11:35.269Z"
   },
   {
    "duration": 78,
    "start_time": "2024-05-12T17:11:35.345Z"
   },
   {
    "duration": 56,
    "start_time": "2024-05-12T17:11:35.425Z"
   },
   {
    "duration": 55,
    "start_time": "2024-05-12T17:11:35.482Z"
   },
   {
    "duration": 9,
    "start_time": "2024-05-12T17:11:35.538Z"
   },
   {
    "duration": 71,
    "start_time": "2024-05-12T17:11:35.548Z"
   },
   {
    "duration": 13,
    "start_time": "2024-05-12T17:11:35.621Z"
   },
   {
    "duration": 10,
    "start_time": "2024-05-12T17:11:35.635Z"
   },
   {
    "duration": 3,
    "start_time": "2024-05-12T17:11:35.646Z"
   },
   {
    "duration": 15,
    "start_time": "2024-05-12T17:11:35.650Z"
   },
   {
    "duration": 11,
    "start_time": "2024-05-12T17:11:35.667Z"
   },
   {
    "duration": 43,
    "start_time": "2024-05-12T17:11:35.679Z"
   },
   {
    "duration": 11,
    "start_time": "2024-05-12T17:11:35.724Z"
   },
   {
    "duration": 13,
    "start_time": "2024-05-12T17:11:35.736Z"
   },
   {
    "duration": 12,
    "start_time": "2024-05-12T17:11:35.750Z"
   },
   {
    "duration": 8,
    "start_time": "2024-05-12T17:11:35.763Z"
   },
   {
    "duration": 46,
    "start_time": "2024-05-12T17:11:35.774Z"
   },
   {
    "duration": 17,
    "start_time": "2024-05-12T17:11:35.821Z"
   },
   {
    "duration": 17,
    "start_time": "2024-05-12T17:11:35.839Z"
   },
   {
    "duration": 19,
    "start_time": "2024-05-12T17:11:35.857Z"
   },
   {
    "duration": 12,
    "start_time": "2024-05-12T17:11:35.877Z"
   },
   {
    "duration": 23,
    "start_time": "2024-05-12T17:11:35.890Z"
   },
   {
    "duration": 10,
    "start_time": "2024-05-12T17:11:35.915Z"
   },
   {
    "duration": 9,
    "start_time": "2024-05-12T17:11:35.926Z"
   },
   {
    "duration": 8,
    "start_time": "2024-05-12T17:11:35.936Z"
   },
   {
    "duration": 8,
    "start_time": "2024-05-12T17:11:35.946Z"
   },
   {
    "duration": 18,
    "start_time": "2024-05-12T17:11:35.956Z"
   },
   {
    "duration": 83,
    "start_time": "2024-05-12T17:12:01.520Z"
   },
   {
    "duration": 10,
    "start_time": "2024-05-12T17:12:06.173Z"
   },
   {
    "duration": 6,
    "start_time": "2024-05-12T17:12:28.260Z"
   },
   {
    "duration": 8,
    "start_time": "2024-05-12T17:12:33.717Z"
   },
   {
    "duration": 4,
    "start_time": "2024-05-12T17:13:34.701Z"
   },
   {
    "duration": 3,
    "start_time": "2024-05-12T17:16:48.731Z"
   },
   {
    "duration": 149,
    "start_time": "2024-05-12T17:16:50.634Z"
   },
   {
    "duration": 9,
    "start_time": "2024-05-12T17:16:56.475Z"
   },
   {
    "duration": 23,
    "start_time": "2024-05-12T17:17:04.342Z"
   },
   {
    "duration": 3,
    "start_time": "2024-05-12T17:17:10.963Z"
   },
   {
    "duration": 9,
    "start_time": "2024-05-12T17:17:14.094Z"
   },
   {
    "duration": 4,
    "start_time": "2024-05-12T17:17:15.707Z"
   },
   {
    "duration": 32,
    "start_time": "2024-05-12T17:17:17.933Z"
   },
   {
    "duration": 20,
    "start_time": "2024-05-12T17:17:19.867Z"
   },
   {
    "duration": 62,
    "start_time": "2024-05-12T17:17:22.234Z"
   },
   {
    "duration": 62,
    "start_time": "2024-05-12T17:17:23.860Z"
   },
   {
    "duration": 53,
    "start_time": "2024-05-12T17:17:25.795Z"
   },
   {
    "duration": 40,
    "start_time": "2024-05-12T17:17:28.261Z"
   },
   {
    "duration": 9,
    "start_time": "2024-05-12T17:17:33.333Z"
   },
   {
    "duration": 50,
    "start_time": "2024-05-12T17:17:35.332Z"
   },
   {
    "duration": 11,
    "start_time": "2024-05-12T17:17:39.897Z"
   },
   {
    "duration": 10,
    "start_time": "2024-05-12T17:17:42.421Z"
   },
   {
    "duration": 3,
    "start_time": "2024-05-12T17:17:44.733Z"
   },
   {
    "duration": 14,
    "start_time": "2024-05-12T17:17:46.877Z"
   },
   {
    "duration": 12,
    "start_time": "2024-05-12T17:17:49.348Z"
   },
   {
    "duration": 16,
    "start_time": "2024-05-12T17:17:51.110Z"
   },
   {
    "duration": 12,
    "start_time": "2024-05-12T17:17:53.564Z"
   },
   {
    "duration": 14,
    "start_time": "2024-05-12T17:17:55.798Z"
   },
   {
    "duration": 13,
    "start_time": "2024-05-12T17:17:57.957Z"
   },
   {
    "duration": 7,
    "start_time": "2024-05-12T17:18:00.364Z"
   },
   {
    "duration": 10,
    "start_time": "2024-05-12T17:18:03.941Z"
   },
   {
    "duration": 8,
    "start_time": "2024-05-12T17:18:06.121Z"
   },
   {
    "duration": 4,
    "start_time": "2024-05-12T17:18:07.734Z"
   },
   {
    "duration": 13,
    "start_time": "2024-05-12T17:18:11.014Z"
   },
   {
    "duration": 17,
    "start_time": "2024-05-12T17:18:13.614Z"
   },
   {
    "duration": 11,
    "start_time": "2024-05-12T17:18:16.405Z"
   },
   {
    "duration": 15,
    "start_time": "2024-05-12T17:18:19.208Z"
   },
   {
    "duration": 11,
    "start_time": "2024-05-12T17:18:21.838Z"
   },
   {
    "duration": 9,
    "start_time": "2024-05-12T17:18:25.364Z"
   },
   {
    "duration": 5,
    "start_time": "2024-05-12T17:18:44.198Z"
   },
   {
    "duration": 8,
    "start_time": "2024-05-12T17:30:54.374Z"
   },
   {
    "duration": 4,
    "start_time": "2024-05-12T17:30:56.488Z"
   },
   {
    "duration": 7,
    "start_time": "2024-05-12T17:32:33.843Z"
   },
   {
    "duration": 4,
    "start_time": "2024-05-12T17:32:35.816Z"
   }
  ],
  "celltoolbar": "Отсутствует",
  "colab": {
   "collapsed_sections": [
    "E0vqbgi9ay0H",
    "VUC88oWjTJw2"
   ],
   "provenance": []
  },
  "kernelspec": {
   "display_name": "Python 3 (ipykernel)",
   "language": "python",
   "name": "python3"
  },
  "language_info": {
   "codemirror_mode": {
    "name": "ipython",
    "version": 3
   },
   "file_extension": ".py",
   "mimetype": "text/x-python",
   "name": "python",
   "nbconvert_exporter": "python",
   "pygments_lexer": "ipython3",
   "version": "3.9.5"
  },
  "toc": {
   "base_numbering": 1,
   "nav_menu": {
    "height": "215px",
    "width": "403px"
   },
   "number_sections": true,
   "sideBar": true,
   "skip_h1_title": true,
   "title_cell": "Table of Contents",
   "title_sidebar": "Contents",
   "toc_cell": false,
   "toc_position": {
    "height": "calc(100% - 180px)",
    "left": "10px",
    "top": "150px",
    "width": "285.825px"
   },
   "toc_section_display": true,
   "toc_window_display": false
  }
 },
 "nbformat": 4,
 "nbformat_minor": 1
}
