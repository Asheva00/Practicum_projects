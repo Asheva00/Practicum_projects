{
 "cells": [
  {
   "cell_type": "markdown",
   "metadata": {},
   "source": [
    "# Определение стоимости автомобилей"
   ]
  },
  {
   "cell_type": "markdown",
   "metadata": {},
   "source": [
    "Сервис по продаже автомобилей с пробегом «Не бит, не крашен» разрабатывает приложение для привлечения новых клиентов. В нём можно быстро узнать рыночную стоимость своего автомобиля. В вашем распоряжении исторические данные: технические характеристики, комплектации и цены автомобилей. Вам нужно построить модель для определения стоимости. \n",
    "\n",
    "Заказчику важны:\n",
    "\n",
    "- качество предсказания;\n",
    "- скорость предсказания;\n",
    "- время обучения."
   ]
  },
  {
   "cell_type": "markdown",
   "metadata": {},
   "source": [
    "## Подготовка данных"
   ]
  },
  {
   "cell_type": "code",
   "execution_count": 1,
   "metadata": {},
   "outputs": [
    {
     "name": "stdout",
     "output_type": "stream",
     "text": [
      "Requirement already satisfied: scikit-learn in /opt/conda/lib/python3.9/site-packages (1.6.0)\n",
      "Requirement already satisfied: joblib>=1.2.0 in /opt/conda/lib/python3.9/site-packages (from scikit-learn) (1.4.2)\n",
      "Requirement already satisfied: scipy>=1.6.0 in /opt/conda/lib/python3.9/site-packages (from scikit-learn) (1.9.1)\n",
      "Requirement already satisfied: numpy>=1.19.5 in /opt/conda/lib/python3.9/site-packages (from scikit-learn) (1.21.1)\n",
      "Requirement already satisfied: threadpoolctl>=3.1.0 in /opt/conda/lib/python3.9/site-packages (from scikit-learn) (3.1.0)\n",
      "Requirement already satisfied: shap in /opt/conda/lib/python3.9/site-packages (0.46.0)\n",
      "Requirement already satisfied: numba in /opt/conda/lib/python3.9/site-packages (from shap) (0.56.0)\n",
      "Requirement already satisfied: pandas in /opt/conda/lib/python3.9/site-packages (from shap) (1.2.4)\n",
      "Requirement already satisfied: scipy in /opt/conda/lib/python3.9/site-packages (from shap) (1.9.1)\n",
      "Requirement already satisfied: packaging>20.9 in /opt/conda/lib/python3.9/site-packages (from shap) (21.3)\n",
      "Requirement already satisfied: slicer==0.0.8 in /opt/conda/lib/python3.9/site-packages (from shap) (0.0.8)\n",
      "Requirement already satisfied: cloudpickle in /opt/conda/lib/python3.9/site-packages (from shap) (3.1.0)\n",
      "Requirement already satisfied: scikit-learn in /opt/conda/lib/python3.9/site-packages (from shap) (1.6.0)\n",
      "Requirement already satisfied: numpy in /opt/conda/lib/python3.9/site-packages (from shap) (1.21.1)\n",
      "Requirement already satisfied: tqdm>=4.27.0 in /opt/conda/lib/python3.9/site-packages (from shap) (4.61.2)\n",
      "Requirement already satisfied: pyparsing!=3.0.5,>=2.0.2 in /opt/conda/lib/python3.9/site-packages (from packaging>20.9->shap) (2.4.7)\n",
      "Requirement already satisfied: setuptools in /opt/conda/lib/python3.9/site-packages (from numba->shap) (49.6.0.post20210108)\n",
      "Requirement already satisfied: llvmlite<0.40,>=0.39.0dev0 in /opt/conda/lib/python3.9/site-packages (from numba->shap) (0.39.0)\n",
      "Requirement already satisfied: python-dateutil>=2.7.3 in /opt/conda/lib/python3.9/site-packages (from pandas->shap) (2.8.1)\n",
      "Requirement already satisfied: pytz>=2017.3 in /opt/conda/lib/python3.9/site-packages (from pandas->shap) (2021.1)\n",
      "Requirement already satisfied: six>=1.5 in /opt/conda/lib/python3.9/site-packages (from python-dateutil>=2.7.3->pandas->shap) (1.16.0)\n",
      "Requirement already satisfied: joblib>=1.2.0 in /opt/conda/lib/python3.9/site-packages (from scikit-learn->shap) (1.4.2)\n",
      "Requirement already satisfied: threadpoolctl>=3.1.0 in /opt/conda/lib/python3.9/site-packages (from scikit-learn->shap) (3.1.0)\n"
     ]
    }
   ],
   "source": [
    "!pip install -U scikit-learn\n",
    "!pip install shap\n",
    "\n",
    "import pandas as pd\n",
    "import matplotlib.pyplot as plt\n",
    "import numpy as np\n",
    "import seaborn as sns\n",
    "import sklearn\n",
    "import lightgbm as lgb\n",
    "\n",
    "from sklearn.model_selection import train_test_split\n",
    "from sklearn.preprocessing import StandardScaler, LabelEncoder, OneHotEncoder\n",
    "\n",
    "from sklearn.ensemble import RandomForestClassifier, RandomForestRegressor\n",
    "from sklearn.linear_model import LinearRegression\n",
    "from sklearn.metrics import accuracy_score, mean_squared_error\n",
    "\n",
    "from sklearn.model_selection import GridSearchCV\n",
    "from catboost import CatBoostRegressor\n",
    "from lightgbm import LGBMRegressor\n",
    "\n",
    "from lightgbm import LGBMRegressor\n",
    "\n",
    "from time import time"
   ]
  },
  {
   "cell_type": "code",
   "execution_count": 2,
   "metadata": {},
   "outputs": [
    {
     "data": {
      "text/html": [
       "<div>\n",
       "<style scoped>\n",
       "    .dataframe tbody tr th:only-of-type {\n",
       "        vertical-align: middle;\n",
       "    }\n",
       "\n",
       "    .dataframe tbody tr th {\n",
       "        vertical-align: top;\n",
       "    }\n",
       "\n",
       "    .dataframe thead th {\n",
       "        text-align: right;\n",
       "    }\n",
       "</style>\n",
       "<table border=\"1\" class=\"dataframe\">\n",
       "  <thead>\n",
       "    <tr style=\"text-align: right;\">\n",
       "      <th></th>\n",
       "      <th>DateCrawled</th>\n",
       "      <th>Price</th>\n",
       "      <th>VehicleType</th>\n",
       "      <th>RegistrationYear</th>\n",
       "      <th>Gearbox</th>\n",
       "      <th>Power</th>\n",
       "      <th>Model</th>\n",
       "      <th>Kilometer</th>\n",
       "      <th>RegistrationMonth</th>\n",
       "      <th>FuelType</th>\n",
       "      <th>Brand</th>\n",
       "      <th>Repaired</th>\n",
       "      <th>DateCreated</th>\n",
       "      <th>NumberOfPictures</th>\n",
       "      <th>PostalCode</th>\n",
       "      <th>LastSeen</th>\n",
       "    </tr>\n",
       "  </thead>\n",
       "  <tbody>\n",
       "    <tr>\n",
       "      <th>0</th>\n",
       "      <td>2016-03-24 11:52:17</td>\n",
       "      <td>480</td>\n",
       "      <td>NaN</td>\n",
       "      <td>1993</td>\n",
       "      <td>manual</td>\n",
       "      <td>0</td>\n",
       "      <td>golf</td>\n",
       "      <td>150000</td>\n",
       "      <td>0</td>\n",
       "      <td>petrol</td>\n",
       "      <td>volkswagen</td>\n",
       "      <td>NaN</td>\n",
       "      <td>2016-03-24 00:00:00</td>\n",
       "      <td>0</td>\n",
       "      <td>70435</td>\n",
       "      <td>2016-04-07 03:16:57</td>\n",
       "    </tr>\n",
       "    <tr>\n",
       "      <th>1</th>\n",
       "      <td>2016-03-24 10:58:45</td>\n",
       "      <td>18300</td>\n",
       "      <td>coupe</td>\n",
       "      <td>2011</td>\n",
       "      <td>manual</td>\n",
       "      <td>190</td>\n",
       "      <td>NaN</td>\n",
       "      <td>125000</td>\n",
       "      <td>5</td>\n",
       "      <td>gasoline</td>\n",
       "      <td>audi</td>\n",
       "      <td>yes</td>\n",
       "      <td>2016-03-24 00:00:00</td>\n",
       "      <td>0</td>\n",
       "      <td>66954</td>\n",
       "      <td>2016-04-07 01:46:50</td>\n",
       "    </tr>\n",
       "    <tr>\n",
       "      <th>2</th>\n",
       "      <td>2016-03-14 12:52:21</td>\n",
       "      <td>9800</td>\n",
       "      <td>suv</td>\n",
       "      <td>2004</td>\n",
       "      <td>auto</td>\n",
       "      <td>163</td>\n",
       "      <td>grand</td>\n",
       "      <td>125000</td>\n",
       "      <td>8</td>\n",
       "      <td>gasoline</td>\n",
       "      <td>jeep</td>\n",
       "      <td>NaN</td>\n",
       "      <td>2016-03-14 00:00:00</td>\n",
       "      <td>0</td>\n",
       "      <td>90480</td>\n",
       "      <td>2016-04-05 12:47:46</td>\n",
       "    </tr>\n",
       "    <tr>\n",
       "      <th>3</th>\n",
       "      <td>2016-03-17 16:54:04</td>\n",
       "      <td>1500</td>\n",
       "      <td>small</td>\n",
       "      <td>2001</td>\n",
       "      <td>manual</td>\n",
       "      <td>75</td>\n",
       "      <td>golf</td>\n",
       "      <td>150000</td>\n",
       "      <td>6</td>\n",
       "      <td>petrol</td>\n",
       "      <td>volkswagen</td>\n",
       "      <td>no</td>\n",
       "      <td>2016-03-17 00:00:00</td>\n",
       "      <td>0</td>\n",
       "      <td>91074</td>\n",
       "      <td>2016-03-17 17:40:17</td>\n",
       "    </tr>\n",
       "    <tr>\n",
       "      <th>4</th>\n",
       "      <td>2016-03-31 17:25:20</td>\n",
       "      <td>3600</td>\n",
       "      <td>small</td>\n",
       "      <td>2008</td>\n",
       "      <td>manual</td>\n",
       "      <td>69</td>\n",
       "      <td>fabia</td>\n",
       "      <td>90000</td>\n",
       "      <td>7</td>\n",
       "      <td>gasoline</td>\n",
       "      <td>skoda</td>\n",
       "      <td>no</td>\n",
       "      <td>2016-03-31 00:00:00</td>\n",
       "      <td>0</td>\n",
       "      <td>60437</td>\n",
       "      <td>2016-04-06 10:17:21</td>\n",
       "    </tr>\n",
       "  </tbody>\n",
       "</table>\n",
       "</div>"
      ],
      "text/plain": [
       "           DateCrawled  Price VehicleType  RegistrationYear Gearbox  Power  \\\n",
       "0  2016-03-24 11:52:17    480         NaN              1993  manual      0   \n",
       "1  2016-03-24 10:58:45  18300       coupe              2011  manual    190   \n",
       "2  2016-03-14 12:52:21   9800         suv              2004    auto    163   \n",
       "3  2016-03-17 16:54:04   1500       small              2001  manual     75   \n",
       "4  2016-03-31 17:25:20   3600       small              2008  manual     69   \n",
       "\n",
       "   Model  Kilometer  RegistrationMonth  FuelType       Brand Repaired  \\\n",
       "0   golf     150000                  0    petrol  volkswagen      NaN   \n",
       "1    NaN     125000                  5  gasoline        audi      yes   \n",
       "2  grand     125000                  8  gasoline        jeep      NaN   \n",
       "3   golf     150000                  6    petrol  volkswagen       no   \n",
       "4  fabia      90000                  7  gasoline       skoda       no   \n",
       "\n",
       "           DateCreated  NumberOfPictures  PostalCode             LastSeen  \n",
       "0  2016-03-24 00:00:00                 0       70435  2016-04-07 03:16:57  \n",
       "1  2016-03-24 00:00:00                 0       66954  2016-04-07 01:46:50  \n",
       "2  2016-03-14 00:00:00                 0       90480  2016-04-05 12:47:46  \n",
       "3  2016-03-17 00:00:00                 0       91074  2016-03-17 17:40:17  \n",
       "4  2016-03-31 00:00:00                 0       60437  2016-04-06 10:17:21  "
      ]
     },
     "execution_count": 2,
     "metadata": {},
     "output_type": "execute_result"
    }
   ],
   "source": [
    "## Загружаем данные\n",
    "file_path = '/datasets/autos.csv'\n",
    "data = pd.read_csv(file_path)\n",
    "\n",
    "# Просмотр первых строк данных\n",
    "data.head()"
   ]
  },
  {
   "cell_type": "code",
   "execution_count": 3,
   "metadata": {},
   "outputs": [
    {
     "name": "stdout",
     "output_type": "stream",
     "text": [
      "<class 'pandas.core.frame.DataFrame'>\n",
      "RangeIndex: 354369 entries, 0 to 354368\n",
      "Data columns (total 16 columns):\n",
      " #   Column             Non-Null Count   Dtype \n",
      "---  ------             --------------   ----- \n",
      " 0   DateCrawled        354369 non-null  object\n",
      " 1   Price              354369 non-null  int64 \n",
      " 2   VehicleType        316879 non-null  object\n",
      " 3   RegistrationYear   354369 non-null  int64 \n",
      " 4   Gearbox            334536 non-null  object\n",
      " 5   Power              354369 non-null  int64 \n",
      " 6   Model              334664 non-null  object\n",
      " 7   Kilometer          354369 non-null  int64 \n",
      " 8   RegistrationMonth  354369 non-null  int64 \n",
      " 9   FuelType           321474 non-null  object\n",
      " 10  Brand              354369 non-null  object\n",
      " 11  Repaired           283215 non-null  object\n",
      " 12  DateCreated        354369 non-null  object\n",
      " 13  NumberOfPictures   354369 non-null  int64 \n",
      " 14  PostalCode         354369 non-null  int64 \n",
      " 15  LastSeen           354369 non-null  object\n",
      "dtypes: int64(7), object(9)\n",
      "memory usage: 43.3+ MB\n"
     ]
    }
   ],
   "source": [
    "# Получаем общую информацию о данных\n",
    "data.info()"
   ]
  },
  {
   "cell_type": "code",
   "execution_count": 4,
   "metadata": {},
   "outputs": [],
   "source": [
    "# Преобразуем тип даты из object в float64\n",
    "\n",
    "# Проверяем, что столбцы DateCrawled и LastSeen существуют\n",
    "if 'DateCrawled' in data.columns and 'LastSeen' in data.columns:\n",
    "    # Преобразуем DateCrawled в формат datetime\n",
    "    data['DateCrawled'] = pd.to_datetime(data['DateCrawled'])\n",
    "    # Преобразуем в timestamp (число секунд с 1970 года)\n",
    "    data['DateCrawled'] = data['DateCrawled'].astype(int) / 10**9  # Преобразование в float\n",
    "\n",
    "    # То же самое для LastSeen\n",
    "    data['LastSeen'] = pd.to_datetime(data['LastSeen'])\n",
    "    data['LastSeen'] = data['LastSeen'].astype(int) / 10**9  # Преобразование в float\n",
    "    # То же самое для DateCreated\n",
    "    data['DateCreated'] = pd.to_datetime(data['DateCreated'])\n",
    "    data['DateCreated'] = data['DateCreated'].astype(int) / 10**9  # Преобразование в float\n",
    "    \n",
    "else:\n",
    "    print(\"Столбцы DateCrawled или LastSeen отсутствуют в данных\")"
   ]
  },
  {
   "cell_type": "code",
   "execution_count": 5,
   "metadata": {},
   "outputs": [
    {
     "name": "stdout",
     "output_type": "stream",
     "text": [
      "<class 'pandas.core.frame.DataFrame'>\n",
      "RangeIndex: 354369 entries, 0 to 354368\n",
      "Data columns (total 16 columns):\n",
      " #   Column             Non-Null Count   Dtype  \n",
      "---  ------             --------------   -----  \n",
      " 0   DateCrawled        354369 non-null  float64\n",
      " 1   Price              354369 non-null  int64  \n",
      " 2   VehicleType        316879 non-null  object \n",
      " 3   RegistrationYear   354369 non-null  int64  \n",
      " 4   Gearbox            334536 non-null  object \n",
      " 5   Power              354369 non-null  int64  \n",
      " 6   Model              334664 non-null  object \n",
      " 7   Kilometer          354369 non-null  int64  \n",
      " 8   RegistrationMonth  354369 non-null  int64  \n",
      " 9   FuelType           321474 non-null  object \n",
      " 10  Brand              354369 non-null  object \n",
      " 11  Repaired           283215 non-null  object \n",
      " 12  DateCreated        354369 non-null  float64\n",
      " 13  NumberOfPictures   354369 non-null  int64  \n",
      " 14  PostalCode         354369 non-null  int64  \n",
      " 15  LastSeen           354369 non-null  float64\n",
      "dtypes: float64(3), int64(7), object(6)\n",
      "memory usage: 43.3+ MB\n"
     ]
    }
   ],
   "source": [
    "data.info()"
   ]
  },
  {
   "cell_type": "code",
   "execution_count": 6,
   "metadata": {},
   "outputs": [
    {
     "data": {
      "text/html": [
       "<div>\n",
       "<style scoped>\n",
       "    .dataframe tbody tr th:only-of-type {\n",
       "        vertical-align: middle;\n",
       "    }\n",
       "\n",
       "    .dataframe tbody tr th {\n",
       "        vertical-align: top;\n",
       "    }\n",
       "\n",
       "    .dataframe thead th {\n",
       "        text-align: right;\n",
       "    }\n",
       "</style>\n",
       "<table border=\"1\" class=\"dataframe\">\n",
       "  <thead>\n",
       "    <tr style=\"text-align: right;\">\n",
       "      <th></th>\n",
       "      <th>DateCrawled</th>\n",
       "      <th>Price</th>\n",
       "      <th>RegistrationYear</th>\n",
       "      <th>Power</th>\n",
       "      <th>Kilometer</th>\n",
       "      <th>RegistrationMonth</th>\n",
       "      <th>DateCreated</th>\n",
       "      <th>NumberOfPictures</th>\n",
       "      <th>PostalCode</th>\n",
       "      <th>LastSeen</th>\n",
       "    </tr>\n",
       "  </thead>\n",
       "  <tbody>\n",
       "    <tr>\n",
       "      <th>count</th>\n",
       "      <td>3.543690e+05</td>\n",
       "      <td>354369.000000</td>\n",
       "      <td>354369.000000</td>\n",
       "      <td>354369.000000</td>\n",
       "      <td>354369.000000</td>\n",
       "      <td>354369.000000</td>\n",
       "      <td>3.543690e+05</td>\n",
       "      <td>354369.0</td>\n",
       "      <td>354369.000000</td>\n",
       "      <td>3.543690e+05</td>\n",
       "    </tr>\n",
       "    <tr>\n",
       "      <th>mean</th>\n",
       "      <td>1.458565e+09</td>\n",
       "      <td>4416.656776</td>\n",
       "      <td>2004.234448</td>\n",
       "      <td>110.094337</td>\n",
       "      <td>128211.172535</td>\n",
       "      <td>5.714645</td>\n",
       "      <td>1.458501e+09</td>\n",
       "      <td>0.0</td>\n",
       "      <td>50508.689087</td>\n",
       "      <td>1.459295e+09</td>\n",
       "    </tr>\n",
       "    <tr>\n",
       "      <th>std</th>\n",
       "      <td>7.864403e+05</td>\n",
       "      <td>4514.158514</td>\n",
       "      <td>90.227958</td>\n",
       "      <td>189.850405</td>\n",
       "      <td>37905.341530</td>\n",
       "      <td>3.726421</td>\n",
       "      <td>8.109686e+05</td>\n",
       "      <td>0.0</td>\n",
       "      <td>25783.096248</td>\n",
       "      <td>7.933327e+05</td>\n",
       "    </tr>\n",
       "    <tr>\n",
       "      <th>min</th>\n",
       "      <td>1.457187e+09</td>\n",
       "      <td>0.000000</td>\n",
       "      <td>1000.000000</td>\n",
       "      <td>0.000000</td>\n",
       "      <td>5000.000000</td>\n",
       "      <td>0.000000</td>\n",
       "      <td>1.394410e+09</td>\n",
       "      <td>0.0</td>\n",
       "      <td>1067.000000</td>\n",
       "      <td>1.457187e+09</td>\n",
       "    </tr>\n",
       "    <tr>\n",
       "      <th>25%</th>\n",
       "      <td>1.457870e+09</td>\n",
       "      <td>1050.000000</td>\n",
       "      <td>1999.000000</td>\n",
       "      <td>69.000000</td>\n",
       "      <td>125000.000000</td>\n",
       "      <td>3.000000</td>\n",
       "      <td>1.457827e+09</td>\n",
       "      <td>0.0</td>\n",
       "      <td>30165.000000</td>\n",
       "      <td>1.458701e+09</td>\n",
       "    </tr>\n",
       "    <tr>\n",
       "      <th>50%</th>\n",
       "      <td>1.458583e+09</td>\n",
       "      <td>2700.000000</td>\n",
       "      <td>2003.000000</td>\n",
       "      <td>105.000000</td>\n",
       "      <td>150000.000000</td>\n",
       "      <td>6.000000</td>\n",
       "      <td>1.458518e+09</td>\n",
       "      <td>0.0</td>\n",
       "      <td>49413.000000</td>\n",
       "      <td>1.459697e+09</td>\n",
       "    </tr>\n",
       "    <tr>\n",
       "      <th>75%</th>\n",
       "      <td>1.459262e+09</td>\n",
       "      <td>6400.000000</td>\n",
       "      <td>2008.000000</td>\n",
       "      <td>143.000000</td>\n",
       "      <td>150000.000000</td>\n",
       "      <td>9.000000</td>\n",
       "      <td>1.459210e+09</td>\n",
       "      <td>0.0</td>\n",
       "      <td>71083.000000</td>\n",
       "      <td>1.459938e+09</td>\n",
       "    </tr>\n",
       "    <tr>\n",
       "      <th>max</th>\n",
       "      <td>1.460040e+09</td>\n",
       "      <td>20000.000000</td>\n",
       "      <td>9999.000000</td>\n",
       "      <td>20000.000000</td>\n",
       "      <td>150000.000000</td>\n",
       "      <td>12.000000</td>\n",
       "      <td>1.459987e+09</td>\n",
       "      <td>0.0</td>\n",
       "      <td>99998.000000</td>\n",
       "      <td>1.460041e+09</td>\n",
       "    </tr>\n",
       "  </tbody>\n",
       "</table>\n",
       "</div>"
      ],
      "text/plain": [
       "        DateCrawled          Price  RegistrationYear          Power  \\\n",
       "count  3.543690e+05  354369.000000     354369.000000  354369.000000   \n",
       "mean   1.458565e+09    4416.656776       2004.234448     110.094337   \n",
       "std    7.864403e+05    4514.158514         90.227958     189.850405   \n",
       "min    1.457187e+09       0.000000       1000.000000       0.000000   \n",
       "25%    1.457870e+09    1050.000000       1999.000000      69.000000   \n",
       "50%    1.458583e+09    2700.000000       2003.000000     105.000000   \n",
       "75%    1.459262e+09    6400.000000       2008.000000     143.000000   \n",
       "max    1.460040e+09   20000.000000       9999.000000   20000.000000   \n",
       "\n",
       "           Kilometer  RegistrationMonth   DateCreated  NumberOfPictures  \\\n",
       "count  354369.000000      354369.000000  3.543690e+05          354369.0   \n",
       "mean   128211.172535           5.714645  1.458501e+09               0.0   \n",
       "std     37905.341530           3.726421  8.109686e+05               0.0   \n",
       "min      5000.000000           0.000000  1.394410e+09               0.0   \n",
       "25%    125000.000000           3.000000  1.457827e+09               0.0   \n",
       "50%    150000.000000           6.000000  1.458518e+09               0.0   \n",
       "75%    150000.000000           9.000000  1.459210e+09               0.0   \n",
       "max    150000.000000          12.000000  1.459987e+09               0.0   \n",
       "\n",
       "          PostalCode      LastSeen  \n",
       "count  354369.000000  3.543690e+05  \n",
       "mean    50508.689087  1.459295e+09  \n",
       "std     25783.096248  7.933327e+05  \n",
       "min      1067.000000  1.457187e+09  \n",
       "25%     30165.000000  1.458701e+09  \n",
       "50%     49413.000000  1.459697e+09  \n",
       "75%     71083.000000  1.459938e+09  \n",
       "max     99998.000000  1.460041e+09  "
      ]
     },
     "execution_count": 6,
     "metadata": {},
     "output_type": "execute_result"
    }
   ],
   "source": [
    "# Смотрим описание числовых переменных\n",
    "data.describe()"
   ]
  },
  {
   "cell_type": "code",
   "execution_count": 7,
   "metadata": {},
   "outputs": [],
   "source": [
    "# удаляем аномалии \n",
    "\n",
    "# Заменяем значения RegistrationYear вне диапазона 1950-2025 на NaN\n",
    "data['RegistrationYear'] = np.where(\n",
    "    (data['RegistrationYear'] >= 1950) & (data['RegistrationYear'] <= 2016),\n",
    "    data['RegistrationYear'],  # Если условие выполняется, оставляем значение\n",
    "    np.nan  # Если условие не выполняется, заменяем на NaN\n",
    ")\n",
    "\n",
    "# Заменяем значения Power больше 1000 на NaN\n",
    "data['Power'] = np.where(\n",
    "    (data['Power'] <= 1000),\n",
    "    data['Power'],  # Если условие выполняется, оставляем значение\n",
    "    np.nan  # Если условие не выполняется, заменяем на NaN\n",
    ")\n",
    "\n",
    "# Удаляем записи, где цена равна 0\n",
    "data = data[data['Price'] > 0]\n"
   ]
  },
  {
   "cell_type": "code",
   "execution_count": 8,
   "metadata": {},
   "outputs": [
    {
     "data": {
      "text/plain": [
       "DateCrawled              0\n",
       "Price                    0\n",
       "VehicleType          33750\n",
       "RegistrationYear     13958\n",
       "Gearbox              17355\n",
       "Power                  286\n",
       "Model                17521\n",
       "Kilometer                0\n",
       "RegistrationMonth        0\n",
       "FuelType             29459\n",
       "Brand                    0\n",
       "Repaired             65866\n",
       "DateCreated              0\n",
       "NumberOfPictures         0\n",
       "PostalCode               0\n",
       "LastSeen                 0\n",
       "dtype: int64"
      ]
     },
     "execution_count": 8,
     "metadata": {},
     "output_type": "execute_result"
    }
   ],
   "source": [
    "# Проверяем наличие пропусков\n",
    "data.isnull().sum()"
   ]
  },
  {
   "cell_type": "code",
   "execution_count": 9,
   "metadata": {},
   "outputs": [
    {
     "name": "stdout",
     "output_type": "stream",
     "text": [
      "DateCrawled          0\n",
      "Price                0\n",
      "VehicleType          0\n",
      "RegistrationYear     0\n",
      "Gearbox              0\n",
      "Power                0\n",
      "Model                0\n",
      "Kilometer            0\n",
      "RegistrationMonth    0\n",
      "FuelType             0\n",
      "Brand                0\n",
      "Repaired             0\n",
      "DateCreated          0\n",
      "NumberOfPictures     0\n",
      "PostalCode           0\n",
      "LastSeen             0\n",
      "dtype: int64\n"
     ]
    }
   ],
   "source": [
    "# Заполнение числовых пропусков медианой\n",
    "for column in data.select_dtypes(include=['float64', 'int64']).columns:\n",
    "    data[column].fillna(data[column].median(), inplace=True)\n",
    "\n",
    "# Заполнение категориальных пропусков наиболее частым значением\n",
    "for column in data.select_dtypes(include=['object']).columns:\n",
    "    data[column].fillna(data[column].mode()[0], inplace=True)\n",
    "\n",
    "# Повторно проверяем пропуски\n",
    "print(data.isnull().sum())"
   ]
  },
  {
   "cell_type": "code",
   "execution_count": 10,
   "metadata": {},
   "outputs": [
    {
     "name": "stdout",
     "output_type": "stream",
     "text": [
      "Неинформативный столбец: NumberOfPictures\n",
      "(343597, 16)\n"
     ]
    }
   ],
   "source": [
    "# Проверяем столбцы с единственным значением (постоянные столбцы)\n",
    "for column in data.columns:\n",
    "    if data[column].nunique() == 1:\n",
    "        print(f\"Неинформативный столбец: {column}\")\n",
    "\n",
    "# Убираем неинформативные столбцы (пример: если более 50% пропусков)\n",
    "threshold = 0.5\n",
    "columns_to_drop = [col for col in data.columns if data[col].isnull().mean() > threshold]\n",
    "data.drop(columns=columns_to_drop, axis=1, inplace=True)\n",
    "\n",
    "# Перепроверяем размеры данных\n",
    "print(data.shape)\n"
   ]
  },
  {
   "cell_type": "code",
   "execution_count": 11,
   "metadata": {},
   "outputs": [
    {
     "data": {
      "image/png": "[encoded data removed]",
      "text/plain": [
       "<Figure size 576x288 with 1 Axes>"
      ]
     },
     "metadata": {
      "needs_background": "light"
     },
     "output_type": "display_data"
    },
    {
     "data": {
      "image/png": "[encoded data removed]",
      "text/plain": [
       "<Figure size 576x288 with 1 Axes>"
      ]
     },
     "metadata": {
      "needs_background": "light"
     },
     "output_type": "display_data"
    },
    {
     "data": {
      "image/png": "[encoded data removed]",
      "text/plain": [
       "<Figure size 576x288 with 1 Axes>"
      ]
     },
     "metadata": {
      "needs_background": "light"
     },
     "output_type": "display_data"
    },
    {
     "data": {
      "image/png": "[encoded data removed]",
      "text/plain": [
       "<Figure size 576x288 with 1 Axes>"
      ]
     },
     "metadata": {
      "needs_background": "light"
     },
     "output_type": "display_data"
    },
    {
     "data": {
      "image/png": "[encoded data removed]",
      "text/plain": [
       "<Figure size 576x288 with 1 Axes>"
      ]
     },
     "metadata": {
      "needs_background": "light"
     },
     "output_type": "display_data"
    },
    {
     "data": {
      "image/png": "[encoded data removed]",
      "text/plain": [
       "<Figure size 576x288 with 1 Axes>"
      ]
     },
     "metadata": {
      "needs_background": "light"
     },
     "output_type": "display_data"
    },
    {
     "data": {
      "image/png": "[encoded data removed]",
      "text/plain": [
       "<Figure size 576x288 with 1 Axes>"
      ]
     },
     "metadata": {
      "needs_background": "light"
     },
     "output_type": "display_data"
    },
    {
     "data": {
      "image/png": "[encoded data removed]",
      "text/plain": [
       "<Figure size 576x288 with 1 Axes>"
      ]
     },
     "metadata": {
      "needs_background": "light"
     },
     "output_type": "display_data"
    },
    {
     "data": {
      "image/png": "[encoded data removed]",
      "text/plain": [
       "<Figure size 576x288 with 1 Axes>"
      ]
     },
     "metadata": {
      "needs_background": "light"
     },
     "output_type": "display_data"
    },
    {
     "data": {
      "image/png": "[encoded data removed]",
      "text/plain": [
       "<Figure size 576x288 with 1 Axes>"
      ]
     },
     "metadata": {
      "needs_background": "light"
     },
     "output_type": "display_data"
    }
   ],
   "source": [
    "# Выбираем только числовые столбцы\n",
    "numerical_columns = data.select_dtypes(include=['int64', 'float64']).columns\n",
    "\n",
    "# Построение гистограмм\n",
    "for column in numerical_columns:\n",
    "    plt.figure(figsize=(8, 4))  # Размер графика\n",
    "    plt.hist(data[column], bins=30, color='blue', edgecolor='black')  # Гистограмма\n",
    "    plt.title(f'Гистограмма для {column}')  # Название\n",
    "    plt.xlabel(column)  # Ось X\n",
    "    plt.ylabel('Частота')  # Ось Y\n",
    "    plt.grid(axis='y', linestyle='--', alpha=0.7)\n",
    "    plt.show()   \n",
    "    "
   ]
  },
  {
   "cell_type": "code",
   "execution_count": 12,
   "metadata": {
    "scrolled": false
   },
   "outputs": [
    {
     "name": "stdout",
     "output_type": "stream",
     "text": [
      "                   DateCrawled     Price  RegistrationYear     Power  \\\n",
      "DateCrawled           1.000000  0.015111         -0.002567  0.004818   \n",
      "Price                 0.015111  1.000000          0.442464  0.483235   \n",
      "RegistrationYear     -0.002567  0.442464          1.000000  0.146432   \n",
      "Power                 0.004818  0.483235          0.146432  1.000000   \n",
      "Kilometer            -0.002370 -0.350496         -0.227584  0.078524   \n",
      "RegistrationMonth    -0.003844  0.097642          0.062747  0.116910   \n",
      "DateCreated           0.972999  0.011121         -0.003593  0.003704   \n",
      "PostalCode            0.015170  0.071697          0.031354  0.071877   \n",
      "LastSeen              0.586995  0.149793          0.018508  0.069997   \n",
      "\n",
      "                   Kilometer  RegistrationMonth  DateCreated  PostalCode  \\\n",
      "DateCrawled        -0.002370          -0.003844     0.972999    0.015170   \n",
      "Price              -0.350496           0.097642     0.011121    0.071697   \n",
      "RegistrationYear   -0.227584           0.062747    -0.003593    0.031354   \n",
      "Power               0.078524           0.116910     0.003704    0.071877   \n",
      "Kilometer           1.000000           0.002506    -0.000008   -0.009011   \n",
      "RegistrationMonth   0.002506           1.000000    -0.003213    0.009915   \n",
      "DateCreated        -0.000008          -0.003213     1.000000    0.014576   \n",
      "PostalCode         -0.009011           0.009915     0.014576    1.000000   \n",
      "LastSeen           -0.065892          -0.001828     0.568844    0.043382   \n",
      "\n",
      "                   LastSeen  \n",
      "DateCrawled        0.586995  \n",
      "Price              0.149793  \n",
      "RegistrationYear   0.018508  \n",
      "Power              0.069997  \n",
      "Kilometer         -0.065892  \n",
      "RegistrationMonth -0.001828  \n",
      "DateCreated        0.568844  \n",
      "PostalCode         0.043382  \n",
      "LastSeen           1.000000  \n"
     ]
    },
    {
     "data": {
      "image/png": "[encoded data removed]",
      "text/plain": [
       "<Figure size 864x720 with 2 Axes>"
      ]
     },
     "metadata": {
      "needs_background": "light"
     },
     "output_type": "display_data"
    }
   ],
   "source": [
    "# Удаление ненужных признаков\n",
    "\n",
    "data = data.drop(['NumberOfPictures'], axis=1)\n",
    "\n",
    "# Построение матрицы корреляции\n",
    "correlation_matrix = data.corr()\n",
    "\n",
    "# Вывод матрицы корреляции\n",
    "print(correlation_matrix)\n",
    "\n",
    "# Визуализация (опционально)\n",
    "\n",
    "plt.figure(figsize=(12, 10))\n",
    "sns.heatmap(correlation_matrix, annot=True, fmt=\".2f\", cmap='coolwarm')\n",
    "plt.title('Корреляционная матрица признаков')\n",
    "plt.show()"
   ]
  },
  {
   "cell_type": "markdown",
   "metadata": {},
   "source": [
    "Целеые признаки все значимые"
   ]
  },
  {
   "cell_type": "markdown",
   "metadata": {},
   "source": [
    "Вывод: заменили аномальные значения в столбцах RegistrationYear и Power на NaN. Удалили столбец NumberOfPictures как неинформативный (в нем не содержится ни одной фотографии). Составили матрицу корреляции, по которой определили, что признаков с корреляцией больше 0,5 нет  "
   ]
  },
  {
   "cell_type": "markdown",
   "metadata": {},
   "source": [
    "## Обучение моделей"
   ]
  },
  {
   "cell_type": "code",
   "execution_count": 13,
   "metadata": {},
   "outputs": [
    {
     "name": "stderr",
     "output_type": "stream",
     "text": [
      "/opt/conda/lib/python3.9/site-packages/sklearn/preprocessing/_encoders.py:246: UserWarning: Found unknown categories in columns [2] during transform. These unknown categories will be encoded as all zeros\n",
      "  warnings.warn(\n"
     ]
    }
   ],
   "source": [
    "# Разделение на признаки и целевую переменную\n",
    "X = data.drop('Price', axis=1)\n",
    "y = data['Price']\n",
    "\n",
    "# Разбиение данных на обучающую и тестовую выборки\n",
    "X_train, X_test, y_train, y_test = train_test_split(X, y, test_size=0.3, random_state=42)\n",
    "\n",
    "# Проверка версии sklearn, настройка OneHotEncoder\n",
    "one_hot_encoder = None\n",
    "if sklearn.__version__ >= '1.2':\n",
    "    # Для версии 1.2 и выше\n",
    "    one_hot_encoder = OneHotEncoder(handle_unknown='ignore', sparse_output=False, drop='first')\n",
    "else:\n",
    "    # Для версии ниже 1.2\n",
    "    one_hot_encoder = OneHotEncoder(handle_unknown='ignore', sparse=False, drop='first')\n",
    "\n",
    "# Указание категориальных признаков\n",
    "categorical_features = ['VehicleType', 'Gearbox', 'Model', 'FuelType', 'Brand', 'Repaired']\n",
    "\n",
    "# Кодируем обучающие данные (только категориальные признаки)\n",
    "X_train_encoded = one_hot_encoder.fit_transform(X_train[categorical_features])\n",
    "X_test_encoded = one_hot_encoder.transform(X_test[categorical_features])\n",
    "\n",
    "# Получение названий столбцов для OneHotEncoder\n",
    "try:\n",
    "    # Для Scikit-learn 1.0+\n",
    "    column_names = one_hot_encoder.get_feature_names_out(categorical_features)\n",
    "except AttributeError:\n",
    "    # Для Scikit-learn версий ниже 1.0\n",
    "    column_names = one_hot_encoder.get_feature_names(categorical_features)\n",
    "\n",
    "# Создание DataFrame из закодированных данных\n",
    "X_train_encoded = pd.DataFrame(X_train_encoded, columns=column_names, index=X_train.index)\n",
    "X_test_encoded = pd.DataFrame(X_test_encoded, columns=column_names, index=X_test.index)\n",
    "\n",
    "# Результаты можно добавить к численным признакам\n",
    "X_train = pd.concat([X_train.drop(categorical_features, axis=1), X_train_encoded], axis=1)\n",
    "X_test = pd.concat([X_test.drop(categorical_features, axis=1), X_test_encoded], axis=1)\n",
    "\n"
   ]
  },
  {
   "cell_type": "code",
   "execution_count": 14,
   "metadata": {},
   "outputs": [
    {
     "name": "stdout",
     "output_type": "stream",
     "text": [
      "Текущее моделирование: LinearRegression\n",
      "Текущее моделирование: CatBoost\n",
      "Текущее моделирование: LGBM\n"
     ]
    },
    {
     "name": "stderr",
     "output_type": "stream",
     "text": [
      "/opt/conda/lib/python3.9/site-packages/sklearn/utils/_tags.py:354: FutureWarning: The LGBMRegressor or classes from which it inherits use `_get_tags` and `_more_tags`. Please define the `__sklearn_tags__` method, or inherit from `sklearn.base.BaseEstimator` and/or other appropriate mixins such as `sklearn.base.TransformerMixin`, `sklearn.base.ClassifierMixin`, `sklearn.base.RegressorMixin`, and `sklearn.base.OutlierMixin`. From scikit-learn 1.7, not defining `__sklearn_tags__` will raise an error.\n",
      "  warnings.warn(\n",
      "/opt/conda/lib/python3.9/site-packages/sklearn/utils/_tags.py:354: FutureWarning: The LGBMRegressor or classes from which it inherits use `_get_tags` and `_more_tags`. Please define the `__sklearn_tags__` method, or inherit from `sklearn.base.BaseEstimator` and/or other appropriate mixins such as `sklearn.base.TransformerMixin`, `sklearn.base.ClassifierMixin`, `sklearn.base.RegressorMixin`, and `sklearn.base.OutlierMixin`. From scikit-learn 1.7, not defining `__sklearn_tags__` will raise an error.\n",
      "  warnings.warn(\n",
      "/opt/conda/lib/python3.9/site-packages/sklearn/utils/_tags.py:354: FutureWarning: The LGBMRegressor or classes from which it inherits use `_get_tags` and `_more_tags`. Please define the `__sklearn_tags__` method, or inherit from `sklearn.base.BaseEstimator` and/or other appropriate mixins such as `sklearn.base.TransformerMixin`, `sklearn.base.ClassifierMixin`, `sklearn.base.RegressorMixin`, and `sklearn.base.OutlierMixin`. From scikit-learn 1.7, not defining `__sklearn_tags__` will raise an error.\n",
      "  warnings.warn(\n",
      "/opt/conda/lib/python3.9/site-packages/sklearn/utils/_tags.py:354: FutureWarning: The LGBMRegressor or classes from which it inherits use `_get_tags` and `_more_tags`. Please define the `__sklearn_tags__` method, or inherit from `sklearn.base.BaseEstimator` and/or other appropriate mixins such as `sklearn.base.TransformerMixin`, `sklearn.base.ClassifierMixin`, `sklearn.base.RegressorMixin`, and `sklearn.base.OutlierMixin`. From scikit-learn 1.7, not defining `__sklearn_tags__` will raise an error.\n",
      "  warnings.warn(\n",
      "/opt/conda/lib/python3.9/site-packages/sklearn/utils/_tags.py:354: FutureWarning: The LGBMRegressor or classes from which it inherits use `_get_tags` and `_more_tags`. Please define the `__sklearn_tags__` method, or inherit from `sklearn.base.BaseEstimator` and/or other appropriate mixins such as `sklearn.base.TransformerMixin`, `sklearn.base.ClassifierMixin`, `sklearn.base.RegressorMixin`, and `sklearn.base.OutlierMixin`. From scikit-learn 1.7, not defining `__sklearn_tags__` will raise an error.\n",
      "  warnings.warn(\n",
      "/opt/conda/lib/python3.9/site-packages/sklearn/utils/_tags.py:354: FutureWarning: The LGBMRegressor or classes from which it inherits use `_get_tags` and `_more_tags`. Please define the `__sklearn_tags__` method, or inherit from `sklearn.base.BaseEstimator` and/or other appropriate mixins such as `sklearn.base.TransformerMixin`, `sklearn.base.ClassifierMixin`, `sklearn.base.RegressorMixin`, and `sklearn.base.OutlierMixin`. From scikit-learn 1.7, not defining `__sklearn_tags__` will raise an error.\n",
      "  warnings.warn(\n",
      "/opt/conda/lib/python3.9/site-packages/sklearn/utils/_tags.py:354: FutureWarning: The LGBMRegressor or classes from which it inherits use `_get_tags` and `_more_tags`. Please define the `__sklearn_tags__` method, or inherit from `sklearn.base.BaseEstimator` and/or other appropriate mixins such as `sklearn.base.TransformerMixin`, `sklearn.base.ClassifierMixin`, `sklearn.base.RegressorMixin`, and `sklearn.base.OutlierMixin`. From scikit-learn 1.7, not defining `__sklearn_tags__` will raise an error.\n",
      "  warnings.warn(\n",
      "/opt/conda/lib/python3.9/site-packages/sklearn/utils/_tags.py:354: FutureWarning: The LGBMRegressor or classes from which it inherits use `_get_tags` and `_more_tags`. Please define the `__sklearn_tags__` method, or inherit from `sklearn.base.BaseEstimator` and/or other appropriate mixins such as `sklearn.base.TransformerMixin`, `sklearn.base.ClassifierMixin`, `sklearn.base.RegressorMixin`, and `sklearn.base.OutlierMixin`. From scikit-learn 1.7, not defining `__sklearn_tags__` will raise an error.\n",
      "  warnings.warn(\n"
     ]
    },
    {
     "name": "stdout",
     "output_type": "stream",
     "text": [
      "\n",
      "Результаты анализа моделей (сортировка по RMSE на кросс-валидации):\n",
      "              Model      RMSE_CV  Training Time (s)  Prediction Time (s)\n",
      "1          CatBoost  1696.285690          10.798359             0.165246\n",
      "2              LGBM  1718.467000           8.308627             3.003667\n",
      "0  LinearRegression  2728.945292          20.504926             0.491077\n",
      "\n",
      "Лучшая модель: CatBoost с RMSE: 1696.2857\n"
     ]
    }
   ],
   "source": [
    "# Модели и гиперпараметры (параметры оптимизированы)\n",
    "models = {\n",
    "    'LinearRegression': {\n",
    "        'model': LinearRegression(),\n",
    "        'params': {}\n",
    "    },\n",
    "    'CatBoost': {\n",
    "        'model': CatBoostRegressor(random_state=42, verbose=0),  # Указан silent режим для ускорения\n",
    "        'params': {'iterations': [100, 200], 'learning_rate': [0.1, 0.2], 'depth': [6, 8]}\n",
    "    },\n",
    "    'LGBM': {\n",
    "        'model': LGBMRegressor(random_state=42),\n",
    "        'params': {'n_estimators': [50, 100], 'learning_rate': [0.1, 0.2]}\n",
    "    }\n",
    "}\n",
    "\n",
    "# Таблица для анализа времени/качества\n",
    "result_table = []\n",
    "final_best_score = float('inf')\n",
    "final_best_model_name = None\n",
    "final_best_model = None\n",
    "\n",
    "# Цикл по моделям\n",
    "for model_name, model_info in models.items():\n",
    "    print(f\"Текущее моделирование: {model_name}\")\n",
    "    \n",
    "    # Настройка GridSearchCV (уменьшенный cv=2)\n",
    "    grid_search = GridSearchCV(model_info['model'], param_grid=model_info['params'], cv=2, scoring='neg_mean_squared_error')\n",
    "    \n",
    "    # Время обучения финальной модели\n",
    "    grid_search.fit(X_train, y_train)  # Здесь идет подбор гиперпараметров (но время не считаем)\n",
    "    \n",
    "    start_time = time()\n",
    "    best_model = grid_search.best_estimator_  # Лучшая модель\n",
    "    best_model.fit(X_train, y_train)  # Обучаем на всех данных\n",
    "    fit_time = time() - start_time\n",
    "    \n",
    "    # Вычисление RMSE на кросс-валидации\n",
    "    val_rmse = (-grid_search.best_score_) ** 0.5  # Пересчет из 'neg_mean_squared_error'\n",
    "    \n",
    "    # Время предсказания на обучающей выборке\n",
    "    start_time = time()\n",
    "    predictions_train = best_model.predict(X_train)  # Только для замера времени\n",
    "    predict_time = time() - start_time\n",
    "    \n",
    "    # Занесение результатов в таблицу\n",
    "    result_table.append({\n",
    "        'Model': model_name,\n",
    "        'RMSE_CV': val_rmse,\n",
    "        'Training Time (s)': fit_time,\n",
    "        'Prediction Time (s)': predict_time\n",
    "    })\n",
    "    \n",
    "    # Выбор лучшей модели\n",
    "    if val_rmse < final_best_score:\n",
    "        final_best_score = val_rmse\n",
    "        final_best_model_name = model_name\n",
    "        final_best_model = best_model\n",
    "\n",
    "# Создание dataframe для удобства анализа\n",
    "results_df = pd.DataFrame(result_table)\n",
    "print(\"\\nРезультаты анализа моделей (сортировка по RMSE на кросс-валидации):\")\n",
    "print(results_df.sort_values(by=\"RMSE_CV\"))\n",
    "\n",
    "# Итоговая модель\n",
    "print(f\"\\nЛучшая модель: {final_best_model_name} с RMSE: {final_best_score:.4f}\")"
   ]
  },
  {
   "cell_type": "markdown",
   "metadata": {},
   "source": [
    "## Анализ моделей"
   ]
  },
  {
   "cell_type": "markdown",
   "metadata": {},
   "source": [
    "#### 1. **Качество моделей (RMSECV):\n",
    "   - CatBoost показал лучшее качество на кросс-валидации с RMSE: 1696.2857.\n",
    "   - LightGBM немного уступает по качеству: 1718.4670.\n",
    "   - LinearRegression значительно хуже (RMSE: 2728.9453), что делает её неприемлемой для задачи, требующей высокой точности.\n",
    "\n",
    "#### 2. Время обучения:\n",
    "   - CatBoost обучается намного быстрее, чем LightGBM (~10.88 с против ~97.91 с). Это делает его предпочтительным для сценариев, где важна скорость обучения.\n",
    "   - LinearRegression — самая простая модель, но её качество недостаточно для практического использования.\n",
    "\n",
    "#### 3. Время предсказания:\n",
    "   - CatBoost имеет минимальное время предсказания: 0.16 с. Это особенно ценно для задач, где требуется быстрое получение результатов.\n",
    "   - LGBM чуть медленнее — занимает ~3.21 с.\n",
    "   - LinearRegression также уступает CatBoost по времени предсказания.\n",
    "\n",
    "---\n",
    "\n",
    "### ▎Рекомендация модели для заказчика\n",
    "\n",
    "Критерии выбора модели:\n",
    "1. Высокое качество (минимальный RMSE).\n",
    "2. Быстрое время обучения.\n",
    "3. Быстрое время предсказания.\n",
    "\n",
    "Выбор:  \n",
    "На основе анализа итоговой таблицы, модель CatBoostRegressor соответствует всем требованиям:\n",
    "1. Лучшее качество (минимальный RMSE).\n",
    "2. Кратчайшее время обучения (по сравнению с LGBM).\n",
    "3. Минимальное время предсказания."
   ]
  },
  {
   "cell_type": "markdown",
   "metadata": {},
   "source": [
    "### ▎Проверка качества выбранной модели на тестовой выборке\n",
    "\n",
    "После выбора модели CatBoostRegressor, нужно провести финальную проверку её качества на тестовых данных. Ниже приведен соответствующий код."
   ]
  },
  {
   "cell_type": "code",
   "execution_count": 15,
   "metadata": {},
   "outputs": [
    {
     "name": "stdout",
     "output_type": "stream",
     "text": [
      "Финальное качество лучшей модели на тестовой выборке:\n",
      "CatBoost RMSE (Test): 1662.1495\n"
     ]
    }
   ],
   "source": [
    "test_predictions = final_best_model.predict(X_test)\n",
    "test_mse = mean_squared_error(y_test, test_predictions)  # Вычисление MSE\n",
    "test_rmse = np.sqrt(test_mse)  # Корень из MSE для RMSE\n",
    "print(f\"Финальное качество лучшей модели на тестовой выборке:\")\n",
    "print(f\"CatBoost RMSE (Test): {test_rmse:.4f}\")"
   ]
  }
 ],
 "metadata": {
  "ExecuteTimeLog": [
   {
    "duration": 372,
    "start_time": "2024-12-04T19:11:07.650Z"
   },
   {
    "duration": 1137,
    "start_time": "2024-12-04T19:11:09.075Z"
   },
   {
    "duration": 144,
    "start_time": "2024-12-04T19:12:25.234Z"
   },
   {
    "duration": 133,
    "start_time": "2024-12-04T19:12:35.088Z"
   },
   {
    "duration": 81,
    "start_time": "2024-12-04T19:13:14.122Z"
   },
   {
    "duration": 140,
    "start_time": "2024-12-04T19:14:35.786Z"
   },
   {
    "duration": 14,
    "start_time": "2024-12-04T19:15:12.674Z"
   },
   {
    "duration": 701,
    "start_time": "2024-12-04T19:15:33.001Z"
   },
   {
    "duration": 1212,
    "start_time": "2024-12-04T19:16:51.034Z"
   },
   {
    "duration": 656,
    "start_time": "2024-12-04T19:17:24.032Z"
   },
   {
    "duration": 20,
    "start_time": "2024-12-04T19:19:34.899Z"
   },
   {
    "duration": 411,
    "start_time": "2024-12-04T19:19:53.537Z"
   },
   {
    "duration": 1231,
    "start_time": "2024-12-04T19:19:58.705Z"
   },
   {
    "duration": 17,
    "start_time": "2024-12-04T19:22:00.550Z"
   },
   {
    "duration": 11,
    "start_time": "2024-12-04T19:22:31.815Z"
   },
   {
    "duration": 85,
    "start_time": "2024-12-04T19:29:52.421Z"
   },
   {
    "duration": 8,
    "start_time": "2024-12-04T19:30:06.830Z"
   },
   {
    "duration": 21,
    "start_time": "2024-12-04T19:30:16.523Z"
   },
   {
    "duration": 221,
    "start_time": "2024-12-04T19:33:57.956Z"
   },
   {
    "duration": 229,
    "start_time": "2024-12-04T19:34:09.518Z"
   },
   {
    "duration": 216,
    "start_time": "2024-12-04T19:34:31.031Z"
   },
   {
    "duration": 260,
    "start_time": "2024-12-04T19:34:49.071Z"
   },
   {
    "duration": 12,
    "start_time": "2024-12-04T19:36:25.022Z"
   },
   {
    "duration": 2,
    "start_time": "2024-12-04T19:36:41.517Z"
   },
   {
    "duration": 206,
    "start_time": "2024-12-04T19:37:38.685Z"
   },
   {
    "duration": 13,
    "start_time": "2024-12-04T19:39:15.042Z"
   },
   {
    "duration": 633,
    "start_time": "2024-12-04T19:40:09.501Z"
   },
   {
    "duration": 838,
    "start_time": "2024-12-04T19:40:10.135Z"
   },
   {
    "duration": 139,
    "start_time": "2024-12-04T19:40:10.974Z"
   },
   {
    "duration": 100,
    "start_time": "2024-12-04T19:40:11.114Z"
   },
   {
    "duration": 22,
    "start_time": "2024-12-04T19:40:11.216Z"
   },
   {
    "duration": 135,
    "start_time": "2024-12-04T19:40:11.239Z"
   },
   {
    "duration": 716,
    "start_time": "2024-12-04T19:40:11.377Z"
   },
   {
    "duration": 613,
    "start_time": "2024-12-04T19:40:12.094Z"
   },
   {
    "duration": 1215,
    "start_time": "2024-12-04T19:40:12.709Z"
   },
   {
    "duration": 597,
    "start_time": "2024-12-04T19:42:52.036Z"
   },
   {
    "duration": 830,
    "start_time": "2024-12-04T19:42:52.635Z"
   },
   {
    "duration": 143,
    "start_time": "2024-12-04T19:42:53.466Z"
   },
   {
    "duration": 86,
    "start_time": "2024-12-04T19:42:53.611Z"
   },
   {
    "duration": 29,
    "start_time": "2024-12-04T19:42:53.698Z"
   },
   {
    "duration": 141,
    "start_time": "2024-12-04T19:42:53.729Z"
   },
   {
    "duration": 733,
    "start_time": "2024-12-04T19:42:53.871Z"
   },
   {
    "duration": 615,
    "start_time": "2024-12-04T19:42:54.606Z"
   },
   {
    "duration": 1149,
    "start_time": "2024-12-04T19:42:55.222Z"
   },
   {
    "duration": 1118,
    "start_time": "2024-12-04T19:42:56.373Z"
   },
   {
    "duration": 552,
    "start_time": "2024-12-04T19:44:22.414Z"
   },
   {
    "duration": 152,
    "start_time": "2024-12-04T19:45:04.605Z"
   },
   {
    "duration": 665,
    "start_time": "2024-12-04T19:52:04.570Z"
   },
   {
    "duration": 854,
    "start_time": "2024-12-04T19:52:05.237Z"
   },
   {
    "duration": 155,
    "start_time": "2024-12-04T19:52:06.093Z"
   },
   {
    "duration": 97,
    "start_time": "2024-12-04T19:52:06.249Z"
   },
   {
    "duration": 21,
    "start_time": "2024-12-04T19:52:06.348Z"
   },
   {
    "duration": 162,
    "start_time": "2024-12-04T19:52:06.371Z"
   },
   {
    "duration": 751,
    "start_time": "2024-12-04T19:52:06.535Z"
   },
   {
    "duration": 719,
    "start_time": "2024-12-04T19:52:07.287Z"
   },
   {
    "duration": 1275,
    "start_time": "2024-12-04T19:52:08.007Z"
   },
   {
    "duration": 171,
    "start_time": "2024-12-04T19:52:09.284Z"
   },
   {
    "duration": 0,
    "start_time": "2024-12-04T19:52:09.457Z"
   },
   {
    "duration": 1096,
    "start_time": "2024-12-04T19:53:02.419Z"
   },
   {
    "duration": 852,
    "start_time": "2024-12-04T19:53:03.518Z"
   },
   {
    "duration": 139,
    "start_time": "2024-12-04T19:53:04.372Z"
   },
   {
    "duration": 88,
    "start_time": "2024-12-04T19:53:04.520Z"
   },
   {
    "duration": 32,
    "start_time": "2024-12-04T19:53:04.609Z"
   },
   {
    "duration": 157,
    "start_time": "2024-12-04T19:53:04.643Z"
   },
   {
    "duration": 723,
    "start_time": "2024-12-04T19:53:04.801Z"
   },
   {
    "duration": 626,
    "start_time": "2024-12-04T19:53:05.526Z"
   },
   {
    "duration": 1173,
    "start_time": "2024-12-04T19:53:06.153Z"
   },
   {
    "duration": 552,
    "start_time": "2024-12-04T19:53:07.329Z"
   },
   {
    "duration": 51,
    "start_time": "2024-12-04T19:53:07.883Z"
   },
   {
    "duration": 1413,
    "start_time": "2024-12-06T17:07:51.102Z"
   },
   {
    "duration": 2944,
    "start_time": "2024-12-06T17:07:52.517Z"
   },
   {
    "duration": 159,
    "start_time": "2024-12-06T17:07:55.463Z"
   },
   {
    "duration": 112,
    "start_time": "2024-12-06T17:07:55.624Z"
   },
   {
    "duration": 40,
    "start_time": "2024-12-06T17:07:55.738Z"
   },
   {
    "duration": 145,
    "start_time": "2024-12-06T17:07:55.780Z"
   },
   {
    "duration": 924,
    "start_time": "2024-12-06T17:07:55.927Z"
   },
   {
    "duration": 702,
    "start_time": "2024-12-06T17:07:56.853Z"
   },
   {
    "duration": 1312,
    "start_time": "2024-12-06T17:07:57.557Z"
   },
   {
    "duration": 724,
    "start_time": "2024-12-06T17:07:58.873Z"
   },
   {
    "duration": 1754,
    "start_time": "2024-12-06T17:10:26.935Z"
   },
   {
    "duration": 1441,
    "start_time": "2024-12-06T17:16:37.644Z"
   },
   {
    "duration": 1425,
    "start_time": "2024-12-06T17:16:51.624Z"
   },
   {
    "duration": 1473,
    "start_time": "2024-12-06T17:17:08.740Z"
   },
   {
    "duration": 549,
    "start_time": "2024-12-06T17:21:38.460Z"
   },
   {
    "duration": 100,
    "start_time": "2024-12-06T17:22:17.281Z"
   },
   {
    "duration": 1110,
    "start_time": "2024-12-06T17:22:28.188Z"
   },
   {
    "duration": 902,
    "start_time": "2024-12-06T17:22:29.299Z"
   },
   {
    "duration": 152,
    "start_time": "2024-12-06T17:22:30.203Z"
   },
   {
    "duration": 99,
    "start_time": "2024-12-06T17:22:30.357Z"
   },
   {
    "duration": 34,
    "start_time": "2024-12-06T17:22:30.458Z"
   },
   {
    "duration": 157,
    "start_time": "2024-12-06T17:22:30.494Z"
   },
   {
    "duration": 824,
    "start_time": "2024-12-06T17:22:30.652Z"
   },
   {
    "duration": 667,
    "start_time": "2024-12-06T17:22:31.481Z"
   },
   {
    "duration": 1276,
    "start_time": "2024-12-06T17:22:32.150Z"
   },
   {
    "duration": 575,
    "start_time": "2024-12-06T17:22:33.428Z"
   },
   {
    "duration": 1009,
    "start_time": "2024-12-06T17:22:34.005Z"
   },
   {
    "duration": 1,
    "start_time": "2024-12-06T17:22:35.015Z"
   },
   {
    "duration": 436,
    "start_time": "2024-12-06T17:23:05.203Z"
   },
   {
    "duration": 405,
    "start_time": "2024-12-06T17:24:36.151Z"
   },
   {
    "duration": 384,
    "start_time": "2024-12-06T17:26:35.931Z"
   },
   {
    "duration": 98,
    "start_time": "2024-12-06T17:26:42.211Z"
   },
   {
    "duration": 127,
    "start_time": "2024-12-06T17:27:02.607Z"
   },
   {
    "duration": 352,
    "start_time": "2024-12-06T17:27:20.418Z"
   },
   {
    "duration": 15,
    "start_time": "2024-12-06T17:29:40.871Z"
   },
   {
    "duration": 348,
    "start_time": "2024-12-06T17:29:52.958Z"
   },
   {
    "duration": 24,
    "start_time": "2024-12-06T17:30:24.111Z"
   },
   {
    "duration": 330,
    "start_time": "2024-12-06T17:32:16.522Z"
   },
   {
    "duration": 59,
    "start_time": "2024-12-06T17:32:39.285Z"
   },
   {
    "duration": 316,
    "start_time": "2024-12-06T17:33:00.491Z"
   },
   {
    "duration": 5,
    "start_time": "2024-12-06T17:33:26.814Z"
   },
   {
    "duration": 44,
    "start_time": "2024-12-06T17:33:48.636Z"
   },
   {
    "duration": 1212,
    "start_time": "2024-12-06T17:34:07.571Z"
   },
   {
    "duration": 892,
    "start_time": "2024-12-06T17:34:08.785Z"
   },
   {
    "duration": 157,
    "start_time": "2024-12-06T17:34:09.679Z"
   },
   {
    "duration": 214,
    "start_time": "2024-12-06T17:34:09.838Z"
   },
   {
    "duration": 130,
    "start_time": "2024-12-06T17:34:10.054Z"
   },
   {
    "duration": 225,
    "start_time": "2024-12-06T17:34:10.186Z"
   },
   {
    "duration": 21,
    "start_time": "2024-12-06T17:34:10.413Z"
   },
   {
    "duration": 165,
    "start_time": "2024-12-06T17:34:10.436Z"
   },
   {
    "duration": 428,
    "start_time": "2024-12-06T17:34:10.603Z"
   },
   {
    "duration": 456,
    "start_time": "2024-12-06T17:34:11.034Z"
   },
   {
    "duration": 1702,
    "start_time": "2024-12-06T17:34:11.492Z"
   },
   {
    "duration": 800,
    "start_time": "2024-12-06T17:34:13.195Z"
   },
   {
    "duration": 1131,
    "start_time": "2024-12-06T17:34:13.997Z"
   },
   {
    "duration": 0,
    "start_time": "2024-12-06T17:34:15.129Z"
   },
   {
    "duration": 1196,
    "start_time": "2024-12-06T17:36:23.206Z"
   },
   {
    "duration": 924,
    "start_time": "2024-12-06T17:36:24.405Z"
   },
   {
    "duration": 156,
    "start_time": "2024-12-06T17:36:25.331Z"
   },
   {
    "duration": 319,
    "start_time": "2024-12-06T17:36:25.489Z"
   },
   {
    "duration": 103,
    "start_time": "2024-12-06T17:36:25.810Z"
   },
   {
    "duration": 168,
    "start_time": "2024-12-06T17:36:25.914Z"
   },
   {
    "duration": 17,
    "start_time": "2024-12-06T17:36:26.084Z"
   },
   {
    "duration": 109,
    "start_time": "2024-12-06T17:36:26.102Z"
   },
   {
    "duration": 406,
    "start_time": "2024-12-06T17:36:26.213Z"
   },
   {
    "duration": 431,
    "start_time": "2024-12-06T17:36:26.622Z"
   },
   {
    "duration": 1864,
    "start_time": "2024-12-06T17:36:27.054Z"
   },
   {
    "duration": 938,
    "start_time": "2024-12-06T17:36:28.920Z"
   },
   {
    "duration": 937,
    "start_time": "2024-12-06T17:36:29.860Z"
   },
   {
    "duration": 14,
    "start_time": "2024-12-06T17:38:53.997Z"
   },
   {
    "duration": 1227,
    "start_time": "2024-12-06T17:38:59.375Z"
   },
   {
    "duration": 2847,
    "start_time": "2024-12-06T17:39:00.604Z"
   },
   {
    "duration": 153,
    "start_time": "2024-12-06T17:39:03.452Z"
   },
   {
    "duration": 293,
    "start_time": "2024-12-06T17:39:03.607Z"
   },
   {
    "duration": 109,
    "start_time": "2024-12-06T17:39:03.902Z"
   },
   {
    "duration": 164,
    "start_time": "2024-12-06T17:39:04.013Z"
   },
   {
    "duration": 20,
    "start_time": "2024-12-06T17:39:04.179Z"
   },
   {
    "duration": 258,
    "start_time": "2024-12-06T17:39:04.200Z"
   },
   {
    "duration": 406,
    "start_time": "2024-12-06T17:39:04.460Z"
   },
   {
    "duration": 411,
    "start_time": "2024-12-06T17:39:04.868Z"
   },
   {
    "duration": 1882,
    "start_time": "2024-12-06T17:39:05.280Z"
   },
   {
    "duration": 921,
    "start_time": "2024-12-06T17:39:07.164Z"
   },
   {
    "duration": 852,
    "start_time": "2024-12-06T17:39:08.087Z"
   },
   {
    "duration": 1173,
    "start_time": "2024-12-06T17:43:05.482Z"
   },
   {
    "duration": 2877,
    "start_time": "2024-12-06T17:43:06.657Z"
   },
   {
    "duration": 164,
    "start_time": "2024-12-06T17:43:09.535Z"
   },
   {
    "duration": 293,
    "start_time": "2024-12-06T17:43:09.701Z"
   },
   {
    "duration": 111,
    "start_time": "2024-12-06T17:43:09.997Z"
   },
   {
    "duration": 176,
    "start_time": "2024-12-06T17:43:10.110Z"
   },
   {
    "duration": 17,
    "start_time": "2024-12-06T17:43:10.288Z"
   },
   {
    "duration": 142,
    "start_time": "2024-12-06T17:43:10.307Z"
   },
   {
    "duration": 420,
    "start_time": "2024-12-06T17:43:10.451Z"
   },
   {
    "duration": 439,
    "start_time": "2024-12-06T17:43:10.872Z"
   },
   {
    "duration": 1913,
    "start_time": "2024-12-06T17:43:11.312Z"
   },
   {
    "duration": 973,
    "start_time": "2024-12-06T17:43:13.226Z"
   },
   {
    "duration": 921,
    "start_time": "2024-12-06T17:43:14.201Z"
   },
   {
    "duration": 1373,
    "start_time": "2024-12-06T17:46:50.232Z"
   },
   {
    "duration": 1138,
    "start_time": "2024-12-06T17:46:56.518Z"
   },
   {
    "duration": 2950,
    "start_time": "2024-12-06T17:46:57.658Z"
   },
   {
    "duration": 175,
    "start_time": "2024-12-06T17:47:00.610Z"
   },
   {
    "duration": 298,
    "start_time": "2024-12-06T17:47:00.788Z"
   },
   {
    "duration": 122,
    "start_time": "2024-12-06T17:47:01.088Z"
   },
   {
    "duration": 175,
    "start_time": "2024-12-06T17:47:01.211Z"
   },
   {
    "duration": 19,
    "start_time": "2024-12-06T17:47:01.387Z"
   },
   {
    "duration": 116,
    "start_time": "2024-12-06T17:47:01.408Z"
   },
   {
    "duration": 428,
    "start_time": "2024-12-06T17:47:01.526Z"
   },
   {
    "duration": 449,
    "start_time": "2024-12-06T17:47:01.957Z"
   },
   {
    "duration": 1951,
    "start_time": "2024-12-06T17:47:02.408Z"
   },
   {
    "duration": 1001,
    "start_time": "2024-12-06T17:47:04.360Z"
   },
   {
    "duration": 924,
    "start_time": "2024-12-06T17:47:05.363Z"
   },
   {
    "duration": 1437,
    "start_time": "2024-12-06T17:49:33.339Z"
   },
   {
    "duration": 903,
    "start_time": "2024-12-06T17:49:34.778Z"
   },
   {
    "duration": 152,
    "start_time": "2024-12-06T17:49:35.683Z"
   },
   {
    "duration": 308,
    "start_time": "2024-12-06T17:49:35.837Z"
   },
   {
    "duration": 116,
    "start_time": "2024-12-06T17:49:36.146Z"
   },
   {
    "duration": 239,
    "start_time": "2024-12-06T17:49:36.273Z"
   },
   {
    "duration": 17,
    "start_time": "2024-12-06T17:49:36.514Z"
   },
   {
    "duration": 116,
    "start_time": "2024-12-06T17:49:36.533Z"
   },
   {
    "duration": 414,
    "start_time": "2024-12-06T17:49:36.651Z"
   },
   {
    "duration": 423,
    "start_time": "2024-12-06T17:49:37.070Z"
   },
   {
    "duration": 1891,
    "start_time": "2024-12-06T17:49:37.494Z"
   },
   {
    "duration": 926,
    "start_time": "2024-12-06T17:49:39.386Z"
   },
   {
    "duration": 674,
    "start_time": "2024-12-06T17:49:40.314Z"
   },
   {
    "duration": 1632,
    "start_time": "2024-12-07T05:24:41.994Z"
   },
   {
    "duration": 3057,
    "start_time": "2024-12-07T05:24:43.628Z"
   },
   {
    "duration": 174,
    "start_time": "2024-12-07T05:24:46.687Z"
   },
   {
    "duration": 346,
    "start_time": "2024-12-07T05:24:46.863Z"
   },
   {
    "duration": 116,
    "start_time": "2024-12-07T05:24:47.210Z"
   },
   {
    "duration": 195,
    "start_time": "2024-12-07T05:24:47.328Z"
   },
   {
    "duration": 19,
    "start_time": "2024-12-07T05:24:47.525Z"
   },
   {
    "duration": 128,
    "start_time": "2024-12-07T05:24:47.545Z"
   },
   {
    "duration": 449,
    "start_time": "2024-12-07T05:24:47.674Z"
   },
   {
    "duration": 438,
    "start_time": "2024-12-07T05:24:48.125Z"
   },
   {
    "duration": 1951,
    "start_time": "2024-12-07T05:24:48.565Z"
   },
   {
    "duration": 1055,
    "start_time": "2024-12-07T05:24:50.518Z"
   },
   {
    "duration": 696,
    "start_time": "2024-12-07T05:24:51.575Z"
   },
   {
    "duration": 1585,
    "start_time": "2024-12-07T17:55:12.753Z"
   },
   {
    "duration": 2886,
    "start_time": "2024-12-07T17:55:14.340Z"
   },
   {
    "duration": 160,
    "start_time": "2024-12-07T17:55:17.228Z"
   },
   {
    "duration": 322,
    "start_time": "2024-12-07T17:55:17.391Z"
   },
   {
    "duration": 109,
    "start_time": "2024-12-07T17:55:17.715Z"
   },
   {
    "duration": 168,
    "start_time": "2024-12-07T17:55:17.825Z"
   },
   {
    "duration": 18,
    "start_time": "2024-12-07T17:55:17.994Z"
   },
   {
    "duration": 208,
    "start_time": "2024-12-07T17:55:18.014Z"
   },
   {
    "duration": 395,
    "start_time": "2024-12-07T17:55:18.224Z"
   },
   {
    "duration": 417,
    "start_time": "2024-12-07T17:55:18.621Z"
   },
   {
    "duration": 1814,
    "start_time": "2024-12-07T17:55:19.040Z"
   },
   {
    "duration": 1002,
    "start_time": "2024-12-07T17:55:20.855Z"
   },
   {
    "duration": 618,
    "start_time": "2024-12-07T17:55:21.858Z"
   },
   {
    "duration": 1418,
    "start_time": "2024-12-07T18:07:09.649Z"
   },
   {
    "duration": 921,
    "start_time": "2024-12-07T18:07:11.069Z"
   },
   {
    "duration": 162,
    "start_time": "2024-12-07T18:07:11.991Z"
   },
   {
    "duration": 312,
    "start_time": "2024-12-07T18:07:12.155Z"
   },
   {
    "duration": 105,
    "start_time": "2024-12-07T18:07:12.470Z"
   },
   {
    "duration": 159,
    "start_time": "2024-12-07T18:07:12.577Z"
   },
   {
    "duration": 19,
    "start_time": "2024-12-07T18:07:12.737Z"
   },
   {
    "duration": 107,
    "start_time": "2024-12-07T18:07:12.757Z"
   },
   {
    "duration": 405,
    "start_time": "2024-12-07T18:07:12.866Z"
   },
   {
    "duration": 408,
    "start_time": "2024-12-07T18:07:13.273Z"
   },
   {
    "duration": 1876,
    "start_time": "2024-12-07T18:07:13.683Z"
   },
   {
    "duration": 972,
    "start_time": "2024-12-07T18:07:15.561Z"
   },
   {
    "duration": 642,
    "start_time": "2024-12-07T18:07:16.535Z"
   },
   {
    "duration": 138,
    "start_time": "2024-12-07T18:07:17.180Z"
   },
   {
    "duration": 0,
    "start_time": "2024-12-07T18:07:17.320Z"
   },
   {
    "duration": 0,
    "start_time": "2024-12-07T18:07:17.321Z"
   },
   {
    "duration": 0,
    "start_time": "2024-12-07T18:07:17.323Z"
   },
   {
    "duration": 0,
    "start_time": "2024-12-07T18:07:17.324Z"
   },
   {
    "duration": 11,
    "start_time": "2024-12-07T18:07:29.074Z"
   },
   {
    "duration": 7299,
    "start_time": "2024-12-07T18:07:41.202Z"
   },
   {
    "duration": 8401,
    "start_time": "2024-12-07T18:08:09.602Z"
   },
   {
    "duration": 57,
    "start_time": "2024-12-07T18:08:25.674Z"
   },
   {
    "duration": 1410,
    "start_time": "2024-12-07T18:13:01.131Z"
   },
   {
    "duration": 914,
    "start_time": "2024-12-07T18:13:02.543Z"
   },
   {
    "duration": 164,
    "start_time": "2024-12-07T18:13:03.459Z"
   },
   {
    "duration": 301,
    "start_time": "2024-12-07T18:13:03.625Z"
   },
   {
    "duration": 111,
    "start_time": "2024-12-07T18:13:03.928Z"
   },
   {
    "duration": 166,
    "start_time": "2024-12-07T18:13:04.041Z"
   },
   {
    "duration": 19,
    "start_time": "2024-12-07T18:13:04.208Z"
   },
   {
    "duration": 113,
    "start_time": "2024-12-07T18:13:04.228Z"
   },
   {
    "duration": 447,
    "start_time": "2024-12-07T18:13:04.343Z"
   },
   {
    "duration": 434,
    "start_time": "2024-12-07T18:13:04.792Z"
   },
   {
    "duration": 1876,
    "start_time": "2024-12-07T18:13:05.228Z"
   },
   {
    "duration": 963,
    "start_time": "2024-12-07T18:13:07.106Z"
   },
   {
    "duration": 627,
    "start_time": "2024-12-07T18:13:08.071Z"
   },
   {
    "duration": 1469,
    "start_time": "2024-12-07T18:13:24.622Z"
   },
   {
    "duration": 2858,
    "start_time": "2024-12-07T18:13:26.093Z"
   },
   {
    "duration": 157,
    "start_time": "2024-12-07T18:13:28.953Z"
   },
   {
    "duration": 315,
    "start_time": "2024-12-07T18:13:29.112Z"
   },
   {
    "duration": 109,
    "start_time": "2024-12-07T18:13:29.429Z"
   },
   {
    "duration": 160,
    "start_time": "2024-12-07T18:13:29.540Z"
   },
   {
    "duration": 19,
    "start_time": "2024-12-07T18:13:29.702Z"
   },
   {
    "duration": 114,
    "start_time": "2024-12-07T18:13:29.722Z"
   },
   {
    "duration": 400,
    "start_time": "2024-12-07T18:13:29.838Z"
   },
   {
    "duration": 426,
    "start_time": "2024-12-07T18:13:30.241Z"
   },
   {
    "duration": 1846,
    "start_time": "2024-12-07T18:13:30.669Z"
   },
   {
    "duration": 964,
    "start_time": "2024-12-07T18:13:32.517Z"
   },
   {
    "duration": 635,
    "start_time": "2024-12-07T18:13:33.482Z"
   },
   {
    "duration": 1098,
    "start_time": "2024-12-07T18:14:28.570Z"
   },
   {
    "duration": 1457,
    "start_time": "2024-12-07T18:14:53.756Z"
   },
   {
    "duration": 2861,
    "start_time": "2024-12-07T18:14:55.215Z"
   },
   {
    "duration": 155,
    "start_time": "2024-12-07T18:14:58.078Z"
   },
   {
    "duration": 298,
    "start_time": "2024-12-07T18:14:58.235Z"
   },
   {
    "duration": 106,
    "start_time": "2024-12-07T18:14:58.535Z"
   },
   {
    "duration": 158,
    "start_time": "2024-12-07T18:14:58.642Z"
   },
   {
    "duration": 18,
    "start_time": "2024-12-07T18:14:58.802Z"
   },
   {
    "duration": 114,
    "start_time": "2024-12-07T18:14:58.821Z"
   },
   {
    "duration": 393,
    "start_time": "2024-12-07T18:14:58.936Z"
   },
   {
    "duration": 416,
    "start_time": "2024-12-07T18:14:59.331Z"
   },
   {
    "duration": 1859,
    "start_time": "2024-12-07T18:14:59.749Z"
   },
   {
    "duration": 943,
    "start_time": "2024-12-07T18:15:01.610Z"
   },
   {
    "duration": 621,
    "start_time": "2024-12-07T18:15:02.554Z"
   },
   {
    "duration": 1387,
    "start_time": "2024-12-07T18:15:45.550Z"
   },
   {
    "duration": 892,
    "start_time": "2024-12-07T18:15:46.939Z"
   },
   {
    "duration": 149,
    "start_time": "2024-12-07T18:15:47.832Z"
   },
   {
    "duration": 299,
    "start_time": "2024-12-07T18:15:47.989Z"
   },
   {
    "duration": 110,
    "start_time": "2024-12-07T18:15:48.290Z"
   },
   {
    "duration": 150,
    "start_time": "2024-12-07T18:15:48.402Z"
   },
   {
    "duration": 18,
    "start_time": "2024-12-07T18:15:48.553Z"
   },
   {
    "duration": 109,
    "start_time": "2024-12-07T18:15:48.573Z"
   },
   {
    "duration": 390,
    "start_time": "2024-12-07T18:15:48.688Z"
   },
   {
    "duration": 418,
    "start_time": "2024-12-07T18:15:49.081Z"
   },
   {
    "duration": 1847,
    "start_time": "2024-12-07T18:15:49.501Z"
   },
   {
    "duration": 975,
    "start_time": "2024-12-07T18:15:51.350Z"
   },
   {
    "duration": 544,
    "start_time": "2024-12-07T18:15:52.327Z"
   },
   {
    "duration": 1518,
    "start_time": "2024-12-07T18:16:13.268Z"
   },
   {
    "duration": 2847,
    "start_time": "2024-12-07T18:16:14.789Z"
   },
   {
    "duration": 147,
    "start_time": "2024-12-07T18:16:17.638Z"
   },
   {
    "duration": 301,
    "start_time": "2024-12-07T18:16:17.787Z"
   },
   {
    "duration": 112,
    "start_time": "2024-12-07T18:16:18.090Z"
   },
   {
    "duration": 170,
    "start_time": "2024-12-07T18:16:18.204Z"
   },
   {
    "duration": 23,
    "start_time": "2024-12-07T18:16:18.376Z"
   },
   {
    "duration": 150,
    "start_time": "2024-12-07T18:16:18.400Z"
   },
   {
    "duration": 403,
    "start_time": "2024-12-07T18:16:18.551Z"
   },
   {
    "duration": 413,
    "start_time": "2024-12-07T18:16:18.956Z"
   },
   {
    "duration": 1835,
    "start_time": "2024-12-07T18:16:19.371Z"
   },
   {
    "duration": 917,
    "start_time": "2024-12-07T18:16:21.208Z"
   },
   {
    "duration": 523,
    "start_time": "2024-12-07T18:16:22.126Z"
   },
   {
    "duration": 1469,
    "start_time": "2024-12-07T18:16:42.055Z"
   },
   {
    "duration": 2861,
    "start_time": "2024-12-07T18:16:43.527Z"
   },
   {
    "duration": 159,
    "start_time": "2024-12-07T18:16:46.389Z"
   },
   {
    "duration": 321,
    "start_time": "2024-12-07T18:16:46.550Z"
   },
   {
    "duration": 106,
    "start_time": "2024-12-07T18:16:46.873Z"
   },
   {
    "duration": 156,
    "start_time": "2024-12-07T18:16:46.988Z"
   },
   {
    "duration": 18,
    "start_time": "2024-12-07T18:16:47.146Z"
   },
   {
    "duration": 111,
    "start_time": "2024-12-07T18:16:47.166Z"
   },
   {
    "duration": 411,
    "start_time": "2024-12-07T18:16:47.279Z"
   },
   {
    "duration": 424,
    "start_time": "2024-12-07T18:16:47.691Z"
   },
   {
    "duration": 1827,
    "start_time": "2024-12-07T18:16:48.116Z"
   },
   {
    "duration": 976,
    "start_time": "2024-12-07T18:16:49.945Z"
   },
   {
    "duration": 505,
    "start_time": "2024-12-07T18:16:50.922Z"
   },
   {
    "duration": 530,
    "start_time": "2024-12-07T18:16:51.430Z"
   },
   {
    "duration": 0,
    "start_time": "2024-12-07T18:16:51.962Z"
   },
   {
    "duration": 0,
    "start_time": "2024-12-07T18:16:51.963Z"
   },
   {
    "duration": 300,
    "start_time": "2024-12-07T18:17:43.191Z"
   },
   {
    "duration": 237,
    "start_time": "2024-12-07T18:18:21.254Z"
   },
   {
    "duration": 1438,
    "start_time": "2024-12-07T18:18:31.574Z"
   },
   {
    "duration": 934,
    "start_time": "2024-12-07T18:18:33.014Z"
   },
   {
    "duration": 164,
    "start_time": "2024-12-07T18:18:33.952Z"
   },
   {
    "duration": 384,
    "start_time": "2024-12-07T18:18:34.118Z"
   },
   {
    "duration": 117,
    "start_time": "2024-12-07T18:18:34.504Z"
   },
   {
    "duration": 182,
    "start_time": "2024-12-07T18:18:34.623Z"
   },
   {
    "duration": 20,
    "start_time": "2024-12-07T18:18:34.806Z"
   },
   {
    "duration": 117,
    "start_time": "2024-12-07T18:18:34.828Z"
   },
   {
    "duration": 409,
    "start_time": "2024-12-07T18:18:34.947Z"
   },
   {
    "duration": 430,
    "start_time": "2024-12-07T18:18:35.358Z"
   },
   {
    "duration": 1843,
    "start_time": "2024-12-07T18:18:35.790Z"
   },
   {
    "duration": 958,
    "start_time": "2024-12-07T18:18:37.635Z"
   },
   {
    "duration": 618,
    "start_time": "2024-12-07T18:18:38.595Z"
   },
   {
    "duration": 275,
    "start_time": "2024-12-07T18:18:39.215Z"
   },
   {
    "duration": 210,
    "start_time": "2024-12-07T18:18:39.493Z"
   },
   {
    "duration": 0,
    "start_time": "2024-12-07T18:18:39.704Z"
   },
   {
    "duration": 1452,
    "start_time": "2024-12-07T18:20:36.867Z"
   },
   {
    "duration": 914,
    "start_time": "2024-12-07T18:20:38.321Z"
   },
   {
    "duration": 164,
    "start_time": "2024-12-07T18:20:39.236Z"
   },
   {
    "duration": 313,
    "start_time": "2024-12-07T18:20:39.402Z"
   },
   {
    "duration": 113,
    "start_time": "2024-12-07T18:20:39.717Z"
   },
   {
    "duration": 159,
    "start_time": "2024-12-07T18:20:39.832Z"
   },
   {
    "duration": 19,
    "start_time": "2024-12-07T18:20:39.992Z"
   },
   {
    "duration": 113,
    "start_time": "2024-12-07T18:20:40.013Z"
   },
   {
    "duration": 413,
    "start_time": "2024-12-07T18:20:40.128Z"
   },
   {
    "duration": 421,
    "start_time": "2024-12-07T18:20:40.543Z"
   },
   {
    "duration": 1853,
    "start_time": "2024-12-07T18:20:40.966Z"
   },
   {
    "duration": 980,
    "start_time": "2024-12-07T18:20:42.821Z"
   },
   {
    "duration": 621,
    "start_time": "2024-12-07T18:20:43.803Z"
   },
   {
    "duration": 172,
    "start_time": "2024-12-07T18:20:44.426Z"
   },
   {
    "duration": 1337,
    "start_time": "2024-12-07T18:22:28.843Z"
   },
   {
    "duration": 2844,
    "start_time": "2024-12-07T18:22:30.181Z"
   },
   {
    "duration": 147,
    "start_time": "2024-12-07T18:22:33.027Z"
   },
   {
    "duration": 324,
    "start_time": "2024-12-07T18:22:33.176Z"
   },
   {
    "duration": 105,
    "start_time": "2024-12-07T18:22:33.502Z"
   },
   {
    "duration": 178,
    "start_time": "2024-12-07T18:22:33.609Z"
   },
   {
    "duration": 19,
    "start_time": "2024-12-07T18:22:33.789Z"
   },
   {
    "duration": 116,
    "start_time": "2024-12-07T18:22:33.810Z"
   },
   {
    "duration": 409,
    "start_time": "2024-12-07T18:22:33.928Z"
   },
   {
    "duration": 453,
    "start_time": "2024-12-07T18:22:34.339Z"
   },
   {
    "duration": 1867,
    "start_time": "2024-12-07T18:22:34.794Z"
   },
   {
    "duration": 978,
    "start_time": "2024-12-07T18:22:36.663Z"
   },
   {
    "duration": 423,
    "start_time": "2024-12-07T18:22:37.643Z"
   },
   {
    "duration": 1,
    "start_time": "2024-12-07T18:22:38.067Z"
   },
   {
    "duration": 0,
    "start_time": "2024-12-07T18:22:38.069Z"
   },
   {
    "duration": 0,
    "start_time": "2024-12-07T18:22:38.070Z"
   },
   {
    "duration": 1072,
    "start_time": "2024-12-07T18:24:08.681Z"
   },
   {
    "duration": 1353,
    "start_time": "2024-12-07T18:24:17.812Z"
   },
   {
    "duration": 2835,
    "start_time": "2024-12-07T18:24:19.167Z"
   },
   {
    "duration": 147,
    "start_time": "2024-12-07T18:24:22.004Z"
   },
   {
    "duration": 323,
    "start_time": "2024-12-07T18:24:22.153Z"
   },
   {
    "duration": 100,
    "start_time": "2024-12-07T18:24:22.478Z"
   },
   {
    "duration": 158,
    "start_time": "2024-12-07T18:24:22.580Z"
   },
   {
    "duration": 17,
    "start_time": "2024-12-07T18:24:22.740Z"
   },
   {
    "duration": 106,
    "start_time": "2024-12-07T18:24:22.759Z"
   },
   {
    "duration": 387,
    "start_time": "2024-12-07T18:24:22.867Z"
   },
   {
    "duration": 409,
    "start_time": "2024-12-07T18:24:23.257Z"
   },
   {
    "duration": 1897,
    "start_time": "2024-12-07T18:24:23.667Z"
   },
   {
    "duration": 952,
    "start_time": "2024-12-07T18:24:25.565Z"
   },
   {
    "duration": 435,
    "start_time": "2024-12-07T18:24:26.518Z"
   },
   {
    "duration": 0,
    "start_time": "2024-12-07T18:24:26.954Z"
   },
   {
    "duration": 0,
    "start_time": "2024-12-07T18:24:26.956Z"
   },
   {
    "duration": 0,
    "start_time": "2024-12-07T18:24:26.957Z"
   },
   {
    "duration": 6480,
    "start_time": "2024-12-07T18:25:44.750Z"
   },
   {
    "duration": 594,
    "start_time": "2024-12-07T18:26:09.989Z"
   },
   {
    "duration": 259,
    "start_time": "2024-12-07T18:26:17.628Z"
   },
   {
    "duration": 1472,
    "start_time": "2024-12-07T18:34:03.956Z"
   },
   {
    "duration": 903,
    "start_time": "2024-12-07T18:34:05.430Z"
   },
   {
    "duration": 164,
    "start_time": "2024-12-07T18:34:06.335Z"
   },
   {
    "duration": 315,
    "start_time": "2024-12-07T18:34:06.501Z"
   },
   {
    "duration": 108,
    "start_time": "2024-12-07T18:34:06.818Z"
   },
   {
    "duration": 165,
    "start_time": "2024-12-07T18:34:06.928Z"
   },
   {
    "duration": 19,
    "start_time": "2024-12-07T18:34:07.094Z"
   },
   {
    "duration": 151,
    "start_time": "2024-12-07T18:34:07.114Z"
   },
   {
    "duration": 397,
    "start_time": "2024-12-07T18:34:07.267Z"
   },
   {
    "duration": 421,
    "start_time": "2024-12-07T18:34:07.667Z"
   },
   {
    "duration": 1844,
    "start_time": "2024-12-07T18:34:08.089Z"
   },
   {
    "duration": 974,
    "start_time": "2024-12-07T18:34:09.935Z"
   },
   {
    "duration": 628,
    "start_time": "2024-12-07T18:34:10.910Z"
   },
   {
    "duration": 252,
    "start_time": "2024-12-07T18:34:11.540Z"
   },
   {
    "duration": 209,
    "start_time": "2024-12-07T18:34:11.795Z"
   },
   {
    "duration": 0,
    "start_time": "2024-12-07T18:34:12.006Z"
   },
   {
    "duration": 1424,
    "start_time": "2024-12-07T18:38:29.934Z"
   },
   {
    "duration": 924,
    "start_time": "2024-12-07T18:38:31.360Z"
   },
   {
    "duration": 164,
    "start_time": "2024-12-07T18:38:32.288Z"
   },
   {
    "duration": 311,
    "start_time": "2024-12-07T18:38:32.454Z"
   },
   {
    "duration": 113,
    "start_time": "2024-12-07T18:38:32.767Z"
   },
   {
    "duration": 167,
    "start_time": "2024-12-07T18:38:32.887Z"
   },
   {
    "duration": 18,
    "start_time": "2024-12-07T18:38:33.056Z"
   },
   {
    "duration": 204,
    "start_time": "2024-12-07T18:38:33.076Z"
   },
   {
    "duration": 413,
    "start_time": "2024-12-07T18:38:33.282Z"
   },
   {
    "duration": 424,
    "start_time": "2024-12-07T18:38:33.697Z"
   },
   {
    "duration": 1955,
    "start_time": "2024-12-07T18:38:34.124Z"
   },
   {
    "duration": 961,
    "start_time": "2024-12-07T18:38:36.088Z"
   },
   {
    "duration": 606,
    "start_time": "2024-12-07T18:38:37.050Z"
   },
   {
    "duration": 234,
    "start_time": "2024-12-07T18:38:37.658Z"
   },
   {
    "duration": 129,
    "start_time": "2024-12-07T18:40:29.362Z"
   },
   {
    "duration": 0,
    "start_time": "2024-12-07T18:40:29.494Z"
   },
   {
    "duration": 1479,
    "start_time": "2024-12-07T18:50:53.353Z"
   },
   {
    "duration": 928,
    "start_time": "2024-12-07T18:50:54.834Z"
   },
   {
    "duration": 153,
    "start_time": "2024-12-07T18:50:55.763Z"
   },
   {
    "duration": 304,
    "start_time": "2024-12-07T18:50:55.918Z"
   },
   {
    "duration": 101,
    "start_time": "2024-12-07T18:50:56.224Z"
   },
   {
    "duration": 163,
    "start_time": "2024-12-07T18:50:56.326Z"
   },
   {
    "duration": 18,
    "start_time": "2024-12-07T18:50:56.490Z"
   },
   {
    "duration": 109,
    "start_time": "2024-12-07T18:50:56.509Z"
   },
   {
    "duration": 407,
    "start_time": "2024-12-07T18:50:56.619Z"
   },
   {
    "duration": 403,
    "start_time": "2024-12-07T18:50:57.028Z"
   },
   {
    "duration": 1805,
    "start_time": "2024-12-07T18:50:57.433Z"
   },
   {
    "duration": 954,
    "start_time": "2024-12-07T18:50:59.239Z"
   },
   {
    "duration": 620,
    "start_time": "2024-12-07T18:51:00.195Z"
   },
   {
    "duration": 186,
    "start_time": "2024-12-07T18:51:00.816Z"
   },
   {
    "duration": 1566,
    "start_time": "2024-12-07T18:52:02.373Z"
   },
   {
    "duration": 999,
    "start_time": "2024-12-07T18:52:03.941Z"
   },
   {
    "duration": 210,
    "start_time": "2024-12-07T18:52:04.942Z"
   },
   {
    "duration": 342,
    "start_time": "2024-12-07T18:52:05.155Z"
   },
   {
    "duration": 117,
    "start_time": "2024-12-07T18:52:05.499Z"
   },
   {
    "duration": 236,
    "start_time": "2024-12-07T18:52:05.618Z"
   },
   {
    "duration": 19,
    "start_time": "2024-12-07T18:52:05.856Z"
   },
   {
    "duration": 152,
    "start_time": "2024-12-07T18:52:05.876Z"
   },
   {
    "duration": 434,
    "start_time": "2024-12-07T18:52:06.030Z"
   },
   {
    "duration": 448,
    "start_time": "2024-12-07T18:52:06.467Z"
   },
   {
    "duration": 1957,
    "start_time": "2024-12-07T18:52:06.917Z"
   },
   {
    "duration": 950,
    "start_time": "2024-12-07T18:52:08.875Z"
   },
   {
    "duration": 634,
    "start_time": "2024-12-07T18:52:09.826Z"
   },
   {
    "duration": 139,
    "start_time": "2024-12-07T18:52:10.461Z"
   },
   {
    "duration": 107234,
    "start_time": "2024-12-07T18:52:10.689Z"
   },
   {
    "duration": 134,
    "start_time": "2024-12-07T19:17:57.303Z"
   },
   {
    "duration": 0,
    "start_time": "2024-12-07T19:17:57.438Z"
   },
   {
    "duration": 1432974,
    "start_time": "2024-12-07T19:18:28.913Z"
   },
   {
    "duration": 15,
    "start_time": "2024-12-07T20:03:57.245Z"
   },
   {
    "duration": 2058,
    "start_time": "2024-12-07T20:16:14.744Z"
   },
   {
    "duration": 90,
    "start_time": "2024-12-07T20:16:32.483Z"
   },
   {
    "duration": 53,
    "start_time": "2024-12-08T19:17:42.751Z"
   },
   {
    "duration": 1712,
    "start_time": "2024-12-08T19:25:35.882Z"
   },
   {
    "duration": 2936,
    "start_time": "2024-12-08T19:25:37.596Z"
   },
   {
    "duration": 161,
    "start_time": "2024-12-08T19:25:40.534Z"
   },
   {
    "duration": 325,
    "start_time": "2024-12-08T19:25:40.697Z"
   },
   {
    "duration": 111,
    "start_time": "2024-12-08T19:25:41.024Z"
   },
   {
    "duration": 182,
    "start_time": "2024-12-08T19:25:41.137Z"
   },
   {
    "duration": 75,
    "start_time": "2024-12-08T19:25:41.320Z"
   },
   {
    "duration": 105,
    "start_time": "2024-12-08T19:25:41.397Z"
   },
   {
    "duration": 287,
    "start_time": "2024-12-08T19:25:41.504Z"
   },
   {
    "duration": 403,
    "start_time": "2024-12-08T19:25:41.794Z"
   },
   {
    "duration": 1944,
    "start_time": "2024-12-08T19:25:42.199Z"
   },
   {
    "duration": 1046,
    "start_time": "2024-12-08T19:25:44.149Z"
   },
   {
    "duration": 413,
    "start_time": "2024-12-08T19:25:45.196Z"
   },
   {
    "duration": 0,
    "start_time": "2024-12-08T19:25:45.610Z"
   },
   {
    "duration": 0,
    "start_time": "2024-12-08T19:25:45.612Z"
   },
   {
    "duration": 0,
    "start_time": "2024-12-08T19:25:45.613Z"
   },
   {
    "duration": 0,
    "start_time": "2024-12-08T19:25:45.614Z"
   },
   {
    "duration": 1501,
    "start_time": "2024-12-08T19:28:40.661Z"
   },
   {
    "duration": 971,
    "start_time": "2024-12-08T19:28:42.164Z"
   },
   {
    "duration": 172,
    "start_time": "2024-12-08T19:28:43.137Z"
   },
   {
    "duration": 325,
    "start_time": "2024-12-08T19:28:43.311Z"
   },
   {
    "duration": 119,
    "start_time": "2024-12-08T19:28:43.637Z"
   },
   {
    "duration": 167,
    "start_time": "2024-12-08T19:28:43.757Z"
   },
   {
    "duration": 73,
    "start_time": "2024-12-08T19:28:43.926Z"
   },
   {
    "duration": 105,
    "start_time": "2024-12-08T19:28:44.001Z"
   },
   {
    "duration": 400,
    "start_time": "2024-12-08T19:28:44.107Z"
   },
   {
    "duration": 437,
    "start_time": "2024-12-08T19:28:44.510Z"
   },
   {
    "duration": 1916,
    "start_time": "2024-12-08T19:28:44.949Z"
   },
   {
    "duration": 990,
    "start_time": "2024-12-08T19:28:46.868Z"
   },
   {
    "duration": 396,
    "start_time": "2024-12-08T19:28:47.860Z"
   },
   {
    "duration": 0,
    "start_time": "2024-12-08T19:28:48.258Z"
   },
   {
    "duration": 0,
    "start_time": "2024-12-08T19:28:48.259Z"
   },
   {
    "duration": 0,
    "start_time": "2024-12-08T19:28:48.260Z"
   },
   {
    "duration": 0,
    "start_time": "2024-12-08T19:28:48.261Z"
   },
   {
    "duration": 1642,
    "start_time": "2024-12-08T19:31:05.340Z"
   },
   {
    "duration": 30,
    "start_time": "2024-12-08T19:34:00.910Z"
   },
   {
    "duration": 86,
    "start_time": "2024-12-08T19:34:56.996Z"
   },
   {
    "duration": 7372,
    "start_time": "2024-12-08T19:35:08.110Z"
   },
   {
    "duration": 1323,
    "start_time": "2024-12-08T19:35:58.511Z"
   },
   {
    "duration": 965,
    "start_time": "2024-12-08T19:35:59.835Z"
   },
   {
    "duration": 154,
    "start_time": "2024-12-08T19:36:00.802Z"
   },
   {
    "duration": 396,
    "start_time": "2024-12-08T19:36:00.958Z"
   },
   {
    "duration": 113,
    "start_time": "2024-12-08T19:36:01.355Z"
   },
   {
    "duration": 176,
    "start_time": "2024-12-08T19:36:01.470Z"
   },
   {
    "duration": 63,
    "start_time": "2024-12-08T19:36:01.650Z"
   },
   {
    "duration": 125,
    "start_time": "2024-12-08T19:36:01.714Z"
   },
   {
    "duration": 402,
    "start_time": "2024-12-08T19:36:01.841Z"
   },
   {
    "duration": 407,
    "start_time": "2024-12-08T19:36:02.250Z"
   },
   {
    "duration": 1964,
    "start_time": "2024-12-08T19:36:02.659Z"
   },
   {
    "duration": 1016,
    "start_time": "2024-12-08T19:36:04.626Z"
   },
   {
    "duration": 3487,
    "start_time": "2024-12-08T19:36:05.644Z"
   },
   {
    "duration": 0,
    "start_time": "2024-12-08T19:36:09.133Z"
   },
   {
    "duration": 0,
    "start_time": "2024-12-08T19:36:09.134Z"
   },
   {
    "duration": 0,
    "start_time": "2024-12-08T19:36:09.136Z"
   },
   {
    "duration": 0,
    "start_time": "2024-12-08T19:36:09.137Z"
   },
   {
    "duration": 3252,
    "start_time": "2024-12-08T19:37:29.389Z"
   },
   {
    "duration": 1364,
    "start_time": "2024-12-08T19:39:13.303Z"
   },
   {
    "duration": 1018,
    "start_time": "2024-12-08T19:39:14.669Z"
   },
   {
    "duration": 162,
    "start_time": "2024-12-08T19:39:15.689Z"
   },
   {
    "duration": 320,
    "start_time": "2024-12-08T19:39:15.853Z"
   },
   {
    "duration": 110,
    "start_time": "2024-12-08T19:39:16.175Z"
   },
   {
    "duration": 184,
    "start_time": "2024-12-08T19:39:16.287Z"
   },
   {
    "duration": 68,
    "start_time": "2024-12-08T19:39:16.473Z"
   },
   {
    "duration": 101,
    "start_time": "2024-12-08T19:39:16.551Z"
   },
   {
    "duration": 409,
    "start_time": "2024-12-08T19:39:16.653Z"
   },
   {
    "duration": 407,
    "start_time": "2024-12-08T19:39:17.065Z"
   },
   {
    "duration": 2019,
    "start_time": "2024-12-08T19:39:17.474Z"
   },
   {
    "duration": 1023,
    "start_time": "2024-12-08T19:39:19.495Z"
   },
   {
    "duration": 4608,
    "start_time": "2024-12-08T19:39:20.520Z"
   },
   {
    "duration": 137,
    "start_time": "2024-12-08T19:39:25.131Z"
   },
   {
    "duration": 0,
    "start_time": "2024-12-08T19:39:25.270Z"
   },
   {
    "duration": 0,
    "start_time": "2024-12-08T19:39:25.272Z"
   },
   {
    "duration": 0,
    "start_time": "2024-12-08T19:39:25.273Z"
   },
   {
    "duration": 4913,
    "start_time": "2024-12-08T19:40:28.691Z"
   },
   {
    "duration": 94,
    "start_time": "2024-12-08T19:43:41.986Z"
   },
   {
    "duration": 0,
    "start_time": "2024-12-08T19:43:42.082Z"
   },
   {
    "duration": 0,
    "start_time": "2024-12-08T19:43:42.083Z"
   },
   {
    "duration": 0,
    "start_time": "2024-12-08T19:43:42.084Z"
   },
   {
    "duration": 0,
    "start_time": "2024-12-08T19:43:42.085Z"
   },
   {
    "duration": 0,
    "start_time": "2024-12-08T19:43:42.086Z"
   },
   {
    "duration": 0,
    "start_time": "2024-12-08T19:43:42.087Z"
   },
   {
    "duration": 0,
    "start_time": "2024-12-08T19:43:42.088Z"
   },
   {
    "duration": 0,
    "start_time": "2024-12-08T19:43:42.090Z"
   },
   {
    "duration": 0,
    "start_time": "2024-12-08T19:43:42.091Z"
   },
   {
    "duration": 0,
    "start_time": "2024-12-08T19:43:42.092Z"
   },
   {
    "duration": 0,
    "start_time": "2024-12-08T19:43:42.094Z"
   },
   {
    "duration": 0,
    "start_time": "2024-12-08T19:43:42.095Z"
   },
   {
    "duration": 0,
    "start_time": "2024-12-08T19:43:42.096Z"
   },
   {
    "duration": 0,
    "start_time": "2024-12-08T19:43:42.098Z"
   },
   {
    "duration": 0,
    "start_time": "2024-12-08T19:43:42.099Z"
   },
   {
    "duration": 102,
    "start_time": "2024-12-08T19:44:52.803Z"
   },
   {
    "duration": 0,
    "start_time": "2024-12-08T19:44:52.907Z"
   },
   {
    "duration": 0,
    "start_time": "2024-12-08T19:44:52.908Z"
   },
   {
    "duration": 0,
    "start_time": "2024-12-08T19:44:52.909Z"
   },
   {
    "duration": 0,
    "start_time": "2024-12-08T19:44:52.910Z"
   },
   {
    "duration": 0,
    "start_time": "2024-12-08T19:44:52.911Z"
   },
   {
    "duration": 0,
    "start_time": "2024-12-08T19:44:52.913Z"
   },
   {
    "duration": 0,
    "start_time": "2024-12-08T19:44:52.914Z"
   },
   {
    "duration": 0,
    "start_time": "2024-12-08T19:44:52.915Z"
   },
   {
    "duration": 0,
    "start_time": "2024-12-08T19:44:52.916Z"
   },
   {
    "duration": 0,
    "start_time": "2024-12-08T19:44:52.917Z"
   },
   {
    "duration": 0,
    "start_time": "2024-12-08T19:44:52.918Z"
   },
   {
    "duration": 0,
    "start_time": "2024-12-08T19:44:52.919Z"
   },
   {
    "duration": 0,
    "start_time": "2024-12-08T19:44:52.920Z"
   },
   {
    "duration": 0,
    "start_time": "2024-12-08T19:44:52.921Z"
   },
   {
    "duration": 0,
    "start_time": "2024-12-08T19:44:52.922Z"
   },
   {
    "duration": 4487,
    "start_time": "2024-12-08T19:45:33.407Z"
   },
   {
    "duration": 982,
    "start_time": "2024-12-08T19:45:37.897Z"
   },
   {
    "duration": 155,
    "start_time": "2024-12-08T19:45:38.881Z"
   },
   {
    "duration": 307,
    "start_time": "2024-12-08T19:45:39.038Z"
   },
   {
    "duration": 112,
    "start_time": "2024-12-08T19:45:39.349Z"
   },
   {
    "duration": 165,
    "start_time": "2024-12-08T19:45:39.463Z"
   },
   {
    "duration": 70,
    "start_time": "2024-12-08T19:45:39.630Z"
   },
   {
    "duration": 97,
    "start_time": "2024-12-08T19:45:39.702Z"
   },
   {
    "duration": 401,
    "start_time": "2024-12-08T19:45:39.801Z"
   },
   {
    "duration": 395,
    "start_time": "2024-12-08T19:45:40.205Z"
   },
   {
    "duration": 1909,
    "start_time": "2024-12-08T19:45:40.601Z"
   },
   {
    "duration": 1058,
    "start_time": "2024-12-08T19:45:42.512Z"
   },
   {
    "duration": 1747,
    "start_time": "2024-12-08T19:45:43.572Z"
   },
   {
    "duration": 139,
    "start_time": "2024-12-08T19:45:45.321Z"
   },
   {
    "duration": 0,
    "start_time": "2024-12-08T19:45:45.462Z"
   },
   {
    "duration": 0,
    "start_time": "2024-12-08T19:45:45.464Z"
   },
   {
    "duration": 4455,
    "start_time": "2024-12-08T19:47:29.274Z"
   },
   {
    "duration": 997,
    "start_time": "2024-12-08T19:47:33.732Z"
   },
   {
    "duration": 173,
    "start_time": "2024-12-08T19:47:34.731Z"
   },
   {
    "duration": 327,
    "start_time": "2024-12-08T19:47:34.907Z"
   },
   {
    "duration": 122,
    "start_time": "2024-12-08T19:47:35.236Z"
   },
   {
    "duration": 216,
    "start_time": "2024-12-08T19:47:35.360Z"
   },
   {
    "duration": 72,
    "start_time": "2024-12-08T19:47:35.578Z"
   },
   {
    "duration": 102,
    "start_time": "2024-12-08T19:47:35.651Z"
   },
   {
    "duration": 405,
    "start_time": "2024-12-08T19:47:35.755Z"
   },
   {
    "duration": 407,
    "start_time": "2024-12-08T19:47:36.163Z"
   },
   {
    "duration": 1977,
    "start_time": "2024-12-08T19:47:36.573Z"
   },
   {
    "duration": 1008,
    "start_time": "2024-12-08T19:47:38.551Z"
   },
   {
    "duration": 1738,
    "start_time": "2024-12-08T19:47:39.560Z"
   },
   {
    "duration": 127,
    "start_time": "2024-12-08T19:47:41.300Z"
   },
   {
    "duration": 0,
    "start_time": "2024-12-08T19:47:41.428Z"
   },
   {
    "duration": 0,
    "start_time": "2024-12-08T19:47:41.430Z"
   },
   {
    "duration": 4599,
    "start_time": "2024-12-08T19:48:04.283Z"
   },
   {
    "duration": 944,
    "start_time": "2024-12-08T19:48:08.884Z"
   },
   {
    "duration": 162,
    "start_time": "2024-12-08T19:48:09.830Z"
   },
   {
    "duration": 329,
    "start_time": "2024-12-08T19:48:09.993Z"
   },
   {
    "duration": 115,
    "start_time": "2024-12-08T19:48:10.324Z"
   },
   {
    "duration": 174,
    "start_time": "2024-12-08T19:48:10.440Z"
   },
   {
    "duration": 70,
    "start_time": "2024-12-08T19:48:10.615Z"
   },
   {
    "duration": 106,
    "start_time": "2024-12-08T19:48:10.687Z"
   },
   {
    "duration": 395,
    "start_time": "2024-12-08T19:48:10.795Z"
   },
   {
    "duration": 408,
    "start_time": "2024-12-08T19:48:11.192Z"
   },
   {
    "duration": 1948,
    "start_time": "2024-12-08T19:48:11.602Z"
   },
   {
    "duration": 1027,
    "start_time": "2024-12-08T19:48:13.552Z"
   },
   {
    "duration": 1783,
    "start_time": "2024-12-08T19:48:14.582Z"
   },
   {
    "duration": 9643,
    "start_time": "2024-12-09T06:44:03.779Z"
   },
   {
    "duration": 1334,
    "start_time": "2024-12-09T06:44:13.424Z"
   },
   {
    "duration": 179,
    "start_time": "2024-12-09T06:44:14.759Z"
   },
   {
    "duration": 331,
    "start_time": "2024-12-09T06:44:14.939Z"
   },
   {
    "duration": 135,
    "start_time": "2024-12-09T06:44:15.271Z"
   },
   {
    "duration": 160,
    "start_time": "2024-12-09T06:44:15.424Z"
   },
   {
    "duration": 70,
    "start_time": "2024-12-09T06:44:15.586Z"
   },
   {
    "duration": 118,
    "start_time": "2024-12-09T06:44:15.658Z"
   },
   {
    "duration": 442,
    "start_time": "2024-12-09T06:44:15.778Z"
   },
   {
    "duration": 439,
    "start_time": "2024-12-09T06:44:16.226Z"
   },
   {
    "duration": 2117,
    "start_time": "2024-12-09T06:44:16.667Z"
   },
   {
    "duration": 1052,
    "start_time": "2024-12-09T06:44:18.786Z"
   },
   {
    "duration": 1847,
    "start_time": "2024-12-09T06:44:19.840Z"
   },
   {
    "duration": 4802,
    "start_time": "2024-12-09T07:20:16.062Z"
   },
   {
    "duration": 1055,
    "start_time": "2024-12-09T07:20:20.867Z"
   },
   {
    "duration": 195,
    "start_time": "2024-12-09T07:20:21.928Z"
   },
   {
    "duration": 352,
    "start_time": "2024-12-09T07:20:22.124Z"
   },
   {
    "duration": 140,
    "start_time": "2024-12-09T07:20:22.477Z"
   },
   {
    "duration": 163,
    "start_time": "2024-12-09T07:20:22.623Z"
   },
   {
    "duration": 68,
    "start_time": "2024-12-09T07:20:22.787Z"
   },
   {
    "duration": 121,
    "start_time": "2024-12-09T07:20:22.857Z"
   },
   {
    "duration": 478,
    "start_time": "2024-12-09T07:20:22.979Z"
   },
   {
    "duration": 478,
    "start_time": "2024-12-09T07:20:23.459Z"
   },
   {
    "duration": 2079,
    "start_time": "2024-12-09T07:20:23.939Z"
   },
   {
    "duration": 1047,
    "start_time": "2024-12-09T07:20:26.023Z"
   },
   {
    "duration": 4666,
    "start_time": "2024-12-09T07:20:27.072Z"
   },
   {
    "duration": 9110,
    "start_time": "2024-12-09T14:51:53.011Z"
   },
   {
    "duration": 3095,
    "start_time": "2024-12-09T14:52:02.124Z"
   },
   {
    "duration": 170,
    "start_time": "2024-12-09T14:52:05.221Z"
   },
   {
    "duration": 323,
    "start_time": "2024-12-09T14:52:05.392Z"
   },
   {
    "duration": 123,
    "start_time": "2024-12-09T14:52:05.717Z"
   },
   {
    "duration": 160,
    "start_time": "2024-12-09T14:52:05.850Z"
   },
   {
    "duration": 78,
    "start_time": "2024-12-09T14:52:06.012Z"
   },
   {
    "duration": 107,
    "start_time": "2024-12-09T14:52:06.091Z"
   },
   {
    "duration": 413,
    "start_time": "2024-12-09T14:52:06.199Z"
   },
   {
    "duration": 439,
    "start_time": "2024-12-09T14:52:06.614Z"
   },
   {
    "duration": 1928,
    "start_time": "2024-12-09T14:52:07.055Z"
   },
   {
    "duration": 1046,
    "start_time": "2024-12-09T14:52:08.984Z"
   },
   {
    "duration": 276,
    "start_time": "2024-12-09T14:52:10.032Z"
   },
   {
    "duration": 0,
    "start_time": "2024-12-09T14:52:10.309Z"
   },
   {
    "duration": 0,
    "start_time": "2024-12-09T14:52:10.310Z"
   },
   {
    "duration": 0,
    "start_time": "2024-12-09T14:52:10.311Z"
   },
   {
    "duration": 8896,
    "start_time": "2024-12-09T18:51:45.054Z"
   },
   {
    "duration": 2956,
    "start_time": "2024-12-09T18:51:53.953Z"
   },
   {
    "duration": 152,
    "start_time": "2024-12-09T18:51:56.911Z"
   },
   {
    "duration": 298,
    "start_time": "2024-12-09T18:51:57.072Z"
   },
   {
    "duration": 112,
    "start_time": "2024-12-09T18:51:57.372Z"
   },
   {
    "duration": 163,
    "start_time": "2024-12-09T18:51:57.486Z"
   },
   {
    "duration": 71,
    "start_time": "2024-12-09T18:51:57.650Z"
   },
   {
    "duration": 101,
    "start_time": "2024-12-09T18:51:57.723Z"
   },
   {
    "duration": 388,
    "start_time": "2024-12-09T18:51:57.826Z"
   },
   {
    "duration": 384,
    "start_time": "2024-12-09T18:51:58.216Z"
   },
   {
    "duration": 1894,
    "start_time": "2024-12-09T18:51:58.601Z"
   },
   {
    "duration": 1058,
    "start_time": "2024-12-09T18:52:00.497Z"
   },
   {
    "duration": 252,
    "start_time": "2024-12-09T18:52:01.557Z"
   },
   {
    "duration": 0,
    "start_time": "2024-12-09T18:52:01.811Z"
   },
   {
    "duration": 0,
    "start_time": "2024-12-09T18:52:01.812Z"
   },
   {
    "duration": 0,
    "start_time": "2024-12-09T18:52:01.813Z"
   },
   {
    "duration": 4665,
    "start_time": "2024-12-09T18:53:31.062Z"
   },
   {
    "duration": 842,
    "start_time": "2024-12-09T18:53:35.729Z"
   },
   {
    "duration": 147,
    "start_time": "2024-12-09T18:53:36.572Z"
   },
   {
    "duration": 290,
    "start_time": "2024-12-09T18:53:36.721Z"
   },
   {
    "duration": 104,
    "start_time": "2024-12-09T18:53:37.012Z"
   },
   {
    "duration": 153,
    "start_time": "2024-12-09T18:53:37.118Z"
   },
   {
    "duration": 56,
    "start_time": "2024-12-09T18:53:37.273Z"
   },
   {
    "duration": 105,
    "start_time": "2024-12-09T18:53:37.330Z"
   },
   {
    "duration": 378,
    "start_time": "2024-12-09T18:53:37.436Z"
   },
   {
    "duration": 384,
    "start_time": "2024-12-09T18:53:37.817Z"
   },
   {
    "duration": 1773,
    "start_time": "2024-12-09T18:53:38.202Z"
   },
   {
    "duration": 962,
    "start_time": "2024-12-09T18:53:39.977Z"
   },
   {
    "duration": 4277,
    "start_time": "2024-12-09T18:53:40.941Z"
   },
   {
    "duration": 4362,
    "start_time": "2024-12-09T18:58:49.596Z"
   },
   {
    "duration": 925,
    "start_time": "2024-12-09T18:58:53.960Z"
   },
   {
    "duration": 154,
    "start_time": "2024-12-09T18:58:54.887Z"
   },
   {
    "duration": 309,
    "start_time": "2024-12-09T18:58:55.042Z"
   },
   {
    "duration": 102,
    "start_time": "2024-12-09T18:58:55.353Z"
   },
   {
    "duration": 158,
    "start_time": "2024-12-09T18:58:55.457Z"
   },
   {
    "duration": 70,
    "start_time": "2024-12-09T18:58:55.617Z"
   },
   {
    "duration": 133,
    "start_time": "2024-12-09T18:58:55.689Z"
   },
   {
    "duration": 382,
    "start_time": "2024-12-09T18:58:55.823Z"
   },
   {
    "duration": 391,
    "start_time": "2024-12-09T18:58:56.207Z"
   },
   {
    "duration": 1848,
    "start_time": "2024-12-09T18:58:56.600Z"
   },
   {
    "duration": 1033,
    "start_time": "2024-12-09T18:58:58.450Z"
   },
   {
    "duration": 3819,
    "start_time": "2024-12-09T18:58:59.485Z"
   },
   {
    "duration": 305,
    "start_time": "2024-12-09T18:59:03.306Z"
   },
   {
    "duration": 0,
    "start_time": "2024-12-09T18:59:03.612Z"
   },
   {
    "duration": 0,
    "start_time": "2024-12-09T18:59:03.613Z"
   },
   {
    "duration": 0,
    "start_time": "2024-12-09T18:59:03.615Z"
   },
   {
    "duration": 4927,
    "start_time": "2024-12-09T20:02:39.397Z"
   },
   {
    "duration": 2885,
    "start_time": "2024-12-09T20:02:44.326Z"
   },
   {
    "duration": 145,
    "start_time": "2024-12-09T20:02:47.213Z"
   },
   {
    "duration": 310,
    "start_time": "2024-12-09T20:02:47.360Z"
   },
   {
    "duration": 110,
    "start_time": "2024-12-09T20:02:47.672Z"
   },
   {
    "duration": 155,
    "start_time": "2024-12-09T20:02:47.784Z"
   },
   {
    "duration": 55,
    "start_time": "2024-12-09T20:02:47.941Z"
   },
   {
    "duration": 101,
    "start_time": "2024-12-09T20:02:47.998Z"
   },
   {
    "duration": 393,
    "start_time": "2024-12-09T20:02:48.100Z"
   },
   {
    "duration": 403,
    "start_time": "2024-12-09T20:02:48.496Z"
   },
   {
    "duration": 1854,
    "start_time": "2024-12-09T20:02:48.901Z"
   },
   {
    "duration": 1015,
    "start_time": "2024-12-09T20:02:50.757Z"
   },
   {
    "duration": 3943,
    "start_time": "2024-12-09T20:02:51.774Z"
   },
   {
    "duration": 4509,
    "start_time": "2024-12-09T20:09:51.887Z"
   },
   {
    "duration": 942,
    "start_time": "2024-12-09T20:09:56.399Z"
   },
   {
    "duration": 155,
    "start_time": "2024-12-09T20:09:57.343Z"
   },
   {
    "duration": 319,
    "start_time": "2024-12-09T20:09:57.500Z"
   },
   {
    "duration": 107,
    "start_time": "2024-12-09T20:09:57.821Z"
   },
   {
    "duration": 185,
    "start_time": "2024-12-09T20:09:57.930Z"
   },
   {
    "duration": 74,
    "start_time": "2024-12-09T20:09:58.117Z"
   },
   {
    "duration": 103,
    "start_time": "2024-12-09T20:09:58.192Z"
   },
   {
    "duration": 386,
    "start_time": "2024-12-09T20:09:58.297Z"
   },
   {
    "duration": 400,
    "start_time": "2024-12-09T20:09:58.686Z"
   },
   {
    "duration": 1885,
    "start_time": "2024-12-09T20:09:59.087Z"
   },
   {
    "duration": 925,
    "start_time": "2024-12-09T20:10:00.974Z"
   },
   {
    "duration": 3648,
    "start_time": "2024-12-09T20:10:01.901Z"
   },
   {
    "duration": 4528,
    "start_time": "2024-12-09T20:19:02.500Z"
   },
   {
    "duration": 914,
    "start_time": "2024-12-09T20:19:07.030Z"
   },
   {
    "duration": 164,
    "start_time": "2024-12-09T20:19:07.945Z"
   },
   {
    "duration": 314,
    "start_time": "2024-12-09T20:19:08.110Z"
   },
   {
    "duration": 110,
    "start_time": "2024-12-09T20:19:08.426Z"
   },
   {
    "duration": 161,
    "start_time": "2024-12-09T20:19:08.538Z"
   },
   {
    "duration": 76,
    "start_time": "2024-12-09T20:19:08.702Z"
   },
   {
    "duration": 100,
    "start_time": "2024-12-09T20:19:08.780Z"
   },
   {
    "duration": 384,
    "start_time": "2024-12-09T20:19:08.881Z"
   },
   {
    "duration": 394,
    "start_time": "2024-12-09T20:19:09.270Z"
   },
   {
    "duration": 1920,
    "start_time": "2024-12-09T20:19:09.669Z"
   },
   {
    "duration": 997,
    "start_time": "2024-12-09T20:19:11.590Z"
   },
   {
    "duration": 3893,
    "start_time": "2024-12-09T20:19:12.589Z"
   },
   {
    "duration": 4589,
    "start_time": "2024-12-09T20:21:54.476Z"
   },
   {
    "duration": 942,
    "start_time": "2024-12-09T20:21:59.067Z"
   },
   {
    "duration": 159,
    "start_time": "2024-12-09T20:22:00.011Z"
   },
   {
    "duration": 314,
    "start_time": "2024-12-09T20:22:00.173Z"
   },
   {
    "duration": 119,
    "start_time": "2024-12-09T20:22:00.489Z"
   },
   {
    "duration": 171,
    "start_time": "2024-12-09T20:22:00.610Z"
   },
   {
    "duration": 64,
    "start_time": "2024-12-09T20:22:00.783Z"
   },
   {
    "duration": 112,
    "start_time": "2024-12-09T20:22:00.849Z"
   },
   {
    "duration": 393,
    "start_time": "2024-12-09T20:22:00.969Z"
   },
   {
    "duration": 396,
    "start_time": "2024-12-09T20:22:01.364Z"
   },
   {
    "duration": 1846,
    "start_time": "2024-12-09T20:22:01.761Z"
   },
   {
    "duration": 1039,
    "start_time": "2024-12-09T20:22:03.608Z"
   },
   {
    "duration": 4073,
    "start_time": "2024-12-09T20:22:04.649Z"
   },
   {
    "duration": 4594,
    "start_time": "2024-12-09T20:27:40.669Z"
   },
   {
    "duration": 948,
    "start_time": "2024-12-09T20:27:45.265Z"
   },
   {
    "duration": 162,
    "start_time": "2024-12-09T20:27:46.214Z"
   },
   {
    "duration": 322,
    "start_time": "2024-12-09T20:27:46.378Z"
   },
   {
    "duration": 122,
    "start_time": "2024-12-09T20:27:46.702Z"
   },
   {
    "duration": 165,
    "start_time": "2024-12-09T20:27:46.826Z"
   },
   {
    "duration": 60,
    "start_time": "2024-12-09T20:27:46.993Z"
   },
   {
    "duration": 107,
    "start_time": "2024-12-09T20:27:47.055Z"
   },
   {
    "duration": 383,
    "start_time": "2024-12-09T20:27:47.171Z"
   },
   {
    "duration": 391,
    "start_time": "2024-12-09T20:27:47.556Z"
   },
   {
    "duration": 1924,
    "start_time": "2024-12-09T20:27:47.949Z"
   },
   {
    "duration": 977,
    "start_time": "2024-12-09T20:27:49.874Z"
   },
   {
    "duration": 3762,
    "start_time": "2024-12-09T20:27:50.853Z"
   },
   {
    "duration": 987288,
    "start_time": "2024-12-09T20:27:54.617Z"
   },
   {
    "duration": 92,
    "start_time": "2024-12-10T19:13:00.299Z"
   },
   {
    "duration": 16186,
    "start_time": "2024-12-10T20:27:31.274Z"
   },
   {
    "duration": 2947,
    "start_time": "2024-12-10T20:27:47.463Z"
   },
   {
    "duration": 151,
    "start_time": "2024-12-10T20:27:50.411Z"
   },
   {
    "duration": 299,
    "start_time": "2024-12-10T20:27:50.564Z"
   },
   {
    "duration": 116,
    "start_time": "2024-12-10T20:27:50.865Z"
   },
   {
    "duration": 161,
    "start_time": "2024-12-10T20:27:50.983Z"
   },
   {
    "duration": 60,
    "start_time": "2024-12-10T20:27:51.146Z"
   },
   {
    "duration": 109,
    "start_time": "2024-12-10T20:27:51.208Z"
   },
   {
    "duration": 378,
    "start_time": "2024-12-10T20:27:51.319Z"
   },
   {
    "duration": 389,
    "start_time": "2024-12-10T20:27:51.700Z"
   },
   {
    "duration": 1857,
    "start_time": "2024-12-10T20:27:52.091Z"
   },
   {
    "duration": 976,
    "start_time": "2024-12-10T20:27:53.950Z"
   },
   {
    "duration": 240,
    "start_time": "2024-12-10T20:27:54.927Z"
   },
   {
    "duration": 0,
    "start_time": "2024-12-10T20:27:55.169Z"
   },
   {
    "duration": 0,
    "start_time": "2024-12-10T20:27:55.170Z"
   },
   {
    "duration": 7004,
    "start_time": "2024-12-10T20:29:28.335Z"
   },
   {
    "duration": 897,
    "start_time": "2024-12-10T20:29:35.341Z"
   },
   {
    "duration": 153,
    "start_time": "2024-12-10T20:29:36.239Z"
   },
   {
    "duration": 302,
    "start_time": "2024-12-10T20:29:36.394Z"
   },
   {
    "duration": 100,
    "start_time": "2024-12-10T20:29:36.698Z"
   },
   {
    "duration": 180,
    "start_time": "2024-12-10T20:29:36.800Z"
   },
   {
    "duration": 62,
    "start_time": "2024-12-10T20:29:36.982Z"
   },
   {
    "duration": 104,
    "start_time": "2024-12-10T20:29:37.046Z"
   },
   {
    "duration": 378,
    "start_time": "2024-12-10T20:29:37.151Z"
   },
   {
    "duration": 378,
    "start_time": "2024-12-10T20:29:37.536Z"
   },
   {
    "duration": 1868,
    "start_time": "2024-12-10T20:29:37.916Z"
   },
   {
    "duration": 956,
    "start_time": "2024-12-10T20:29:39.786Z"
   },
   {
    "duration": 4902,
    "start_time": "2024-12-10T20:29:40.743Z"
   },
   {
    "duration": 242409,
    "start_time": "2024-12-10T20:29:45.647Z"
   },
   {
    "duration": 158,
    "start_time": "2024-12-10T20:33:48.057Z"
   }
  ],
  "kernelspec": {
   "display_name": "Python 3 (ipykernel)",
   "language": "python",
   "name": "python3"
  },
  "language_info": {
   "codemirror_mode": {
    "name": "ipython",
    "version": 3
   },
   "file_extension": ".py",
   "mimetype": "text/x-python",
   "name": "python",
   "nbconvert_exporter": "python",
   "pygments_lexer": "ipython3",
   "version": "3.9.5"
  },
  "toc": {
   "base_numbering": 1,
   "nav_menu": {},
   "number_sections": true,
   "sideBar": true,
   "skip_h1_title": true,
   "title_cell": "Table of Contents",
   "title_sidebar": "Contents",
   "toc_cell": false,
   "toc_position": {
    "height": "calc(100% - 180px)",
    "left": "10px",
    "top": "150px",
    "width": "165px"
   },
   "toc_section_display": true,
   "toc_window_display": true
  }
 },
 "nbformat": 4,
 "nbformat_minor": 2
}
