{
 "cells": [
  {
   "cell_type": "markdown",
   "metadata": {},
   "source": [
    "**ОПИСАНИЕ ПРОЕКТА:**\n",
    "\n",
    "Интернет-магазин «Стримчик», продаёт по всему миру компьютерные игры. \n",
    "\n",
    "Из открытых источников доступны исторические данные о продажах игр, оценки пользователей и экспертов, жанры и платформы (например, Xbox или PlayStation). Нужно выявить определяющие успешность игры закономерности. Это позволит сделать ставку на потенциально популярный продукт и спланировать рекламные кампании.\n",
    "\n",
    "**ОПИСАНИЕ ДАННЫХ:**\n",
    "\n",
    "Датасет games, содержащий следующие данные:\n",
    "\n",
    "* Name — название игры\n",
    "* Platform — платформа\n",
    "* Year_of_Release — год выпуска\n",
    "* Genre — жанр игры\n",
    "* NA_sales — продажи в Северной Америке (миллионы проданных копий)\n",
    "* EU_sales — продажи в Европе (миллионы проданных копий)\n",
    "* JP_sales — продажи в Японии (миллионы проданных копий)\n",
    "* Other_sales — продажи в Других странах (миллионы проданных копий)\n",
    "* Critic_Score — оценка критиков (максимум 100)\n",
    "* User_Score — оценка пользователей (максимум 10)\n",
    "* Rating — рейтинг от организации ESRB (англ. Entertainment Software Rating Board). Эта ассоциация определяет рейтинг компьютерных игр и присваивает им подходящую возрастную категорию.\n",
    "\n",
    "\n",
    "В ходе исследования мы: \n",
    "\n",
    "* подготовим и проведем проверку данных:переименуем столбцы, удалим дубликаты, добавим пропущенные значения и создадим недостающие столбцы с данными \n",
    "* проведем исследовательский анализ данных: посмотрим количество игр, которые выпускались в разные годы; как изменялись продажи по платформам; изучим, какие платформы лидируют в актуальный период, какие растут и какие падают\n",
    "влияют ли отзывы критиков на продажи; посмотрим на общее распределение игр по жанрам\n",
    "* составим портрет пользователя каждого региона: найдем самые популярные платформы и жанры, выясним влияет ли рейтинг ESRB на продажи в отдельном регионе\n",
    "* проверим гипотезы: \n",
    "    * Средние пользовательские рейтинги платформ Xbox One и PC одинаковые;\n",
    "    * Средние пользовательские рейтинги жанров Action (англ. «действие», экшен-игры) и Sports (англ. «спортивные соревнования») разные.\n",
    "    \n",
    "\n",
    "! Мы предполагаем прогноз на 2017 год, основываясь на данных до 2016 года"
   ]
  },
  {
   "cell_type": "markdown",
   "metadata": {},
   "source": [
    "**Шаг 1. Откройте файл с данными и изучите общую информацию**"
   ]
  },
  {
   "cell_type": "code",
   "execution_count": 1,
   "metadata": {},
   "outputs": [],
   "source": [
    "import pandas as pd\n",
    "import matplotlib.pyplot as plt\n",
    "import seaborn as sns\n",
    "import numpy as np\n",
    "from scipy import stats"
   ]
  },
  {
   "cell_type": "code",
   "execution_count": 2,
   "metadata": {},
   "outputs": [],
   "source": [
    "data = pd.read_csv('/datasets/games.csv')\n",
    "\n",
    "#Считайте CSV-файлы с данными с помощью библиотеки pandas и сохраните их в датафреймы"
   ]
  },
  {
   "cell_type": "code",
   "execution_count": 3,
   "metadata": {},
   "outputs": [
    {
     "data": {
      "text/html": [
       "<div>\n",
       "<style scoped>\n",
       "    .dataframe tbody tr th:only-of-type {\n",
       "        vertical-align: middle;\n",
       "    }\n",
       "\n",
       "    .dataframe tbody tr th {\n",
       "        vertical-align: top;\n",
       "    }\n",
       "\n",
       "    .dataframe thead th {\n",
       "        text-align: right;\n",
       "    }\n",
       "</style>\n",
       "<table border=\"1\" class=\"dataframe\">\n",
       "  <thead>\n",
       "    <tr style=\"text-align: right;\">\n",
       "      <th></th>\n",
       "      <th>Name</th>\n",
       "      <th>Platform</th>\n",
       "      <th>Year_of_Release</th>\n",
       "      <th>Genre</th>\n",
       "      <th>NA_sales</th>\n",
       "      <th>EU_sales</th>\n",
       "      <th>JP_sales</th>\n",
       "      <th>Other_sales</th>\n",
       "      <th>Critic_Score</th>\n",
       "      <th>User_Score</th>\n",
       "      <th>Rating</th>\n",
       "    </tr>\n",
       "  </thead>\n",
       "  <tbody>\n",
       "    <tr>\n",
       "      <th>0</th>\n",
       "      <td>Wii Sports</td>\n",
       "      <td>Wii</td>\n",
       "      <td>2006.0</td>\n",
       "      <td>Sports</td>\n",
       "      <td>41.36</td>\n",
       "      <td>28.96</td>\n",
       "      <td>3.77</td>\n",
       "      <td>8.45</td>\n",
       "      <td>76.0</td>\n",
       "      <td>8</td>\n",
       "      <td>E</td>\n",
       "    </tr>\n",
       "    <tr>\n",
       "      <th>1</th>\n",
       "      <td>Super Mario Bros.</td>\n",
       "      <td>NES</td>\n",
       "      <td>1985.0</td>\n",
       "      <td>Platform</td>\n",
       "      <td>29.08</td>\n",
       "      <td>3.58</td>\n",
       "      <td>6.81</td>\n",
       "      <td>0.77</td>\n",
       "      <td>NaN</td>\n",
       "      <td>NaN</td>\n",
       "      <td>NaN</td>\n",
       "    </tr>\n",
       "    <tr>\n",
       "      <th>2</th>\n",
       "      <td>Mario Kart Wii</td>\n",
       "      <td>Wii</td>\n",
       "      <td>2008.0</td>\n",
       "      <td>Racing</td>\n",
       "      <td>15.68</td>\n",
       "      <td>12.76</td>\n",
       "      <td>3.79</td>\n",
       "      <td>3.29</td>\n",
       "      <td>82.0</td>\n",
       "      <td>8.3</td>\n",
       "      <td>E</td>\n",
       "    </tr>\n",
       "    <tr>\n",
       "      <th>3</th>\n",
       "      <td>Wii Sports Resort</td>\n",
       "      <td>Wii</td>\n",
       "      <td>2009.0</td>\n",
       "      <td>Sports</td>\n",
       "      <td>15.61</td>\n",
       "      <td>10.93</td>\n",
       "      <td>3.28</td>\n",
       "      <td>2.95</td>\n",
       "      <td>80.0</td>\n",
       "      <td>8</td>\n",
       "      <td>E</td>\n",
       "    </tr>\n",
       "    <tr>\n",
       "      <th>4</th>\n",
       "      <td>Pokemon Red/Pokemon Blue</td>\n",
       "      <td>GB</td>\n",
       "      <td>1996.0</td>\n",
       "      <td>Role-Playing</td>\n",
       "      <td>11.27</td>\n",
       "      <td>8.89</td>\n",
       "      <td>10.22</td>\n",
       "      <td>1.00</td>\n",
       "      <td>NaN</td>\n",
       "      <td>NaN</td>\n",
       "      <td>NaN</td>\n",
       "    </tr>\n",
       "  </tbody>\n",
       "</table>\n",
       "</div>"
      ],
      "text/plain": [
       "                       Name Platform  Year_of_Release         Genre  NA_sales  \\\n",
       "0                Wii Sports      Wii           2006.0        Sports     41.36   \n",
       "1         Super Mario Bros.      NES           1985.0      Platform     29.08   \n",
       "2            Mario Kart Wii      Wii           2008.0        Racing     15.68   \n",
       "3         Wii Sports Resort      Wii           2009.0        Sports     15.61   \n",
       "4  Pokemon Red/Pokemon Blue       GB           1996.0  Role-Playing     11.27   \n",
       "\n",
       "   EU_sales  JP_sales  Other_sales  Critic_Score User_Score Rating  \n",
       "0     28.96      3.77         8.45          76.0          8      E  \n",
       "1      3.58      6.81         0.77           NaN        NaN    NaN  \n",
       "2     12.76      3.79         3.29          82.0        8.3      E  \n",
       "3     10.93      3.28         2.95          80.0          8      E  \n",
       "4      8.89     10.22         1.00           NaN        NaN    NaN  "
      ]
     },
     "execution_count": 3,
     "metadata": {},
     "output_type": "execute_result"
    }
   ],
   "source": [
    "data.head()\n",
    "#Выводим первые строки датасета"
   ]
  },
  {
   "cell_type": "code",
   "execution_count": 4,
   "metadata": {},
   "outputs": [
    {
     "name": "stdout",
     "output_type": "stream",
     "text": [
      "<class 'pandas.core.frame.DataFrame'>\n",
      "RangeIndex: 16715 entries, 0 to 16714\n",
      "Data columns (total 11 columns):\n",
      " #   Column           Non-Null Count  Dtype  \n",
      "---  ------           --------------  -----  \n",
      " 0   Name             16713 non-null  object \n",
      " 1   Platform         16715 non-null  object \n",
      " 2   Year_of_Release  16446 non-null  float64\n",
      " 3   Genre            16713 non-null  object \n",
      " 4   NA_sales         16715 non-null  float64\n",
      " 5   EU_sales         16715 non-null  float64\n",
      " 6   JP_sales         16715 non-null  float64\n",
      " 7   Other_sales      16715 non-null  float64\n",
      " 8   Critic_Score     8137 non-null   float64\n",
      " 9   User_Score       10014 non-null  object \n",
      " 10  Rating           9949 non-null   object \n",
      "dtypes: float64(6), object(5)\n",
      "memory usage: 1.4+ MB\n"
     ]
    }
   ],
   "source": [
    "#смотрим информацию про датасет\n",
    "\n",
    "data.info()"
   ]
  },
  {
   "cell_type": "markdown",
   "metadata": {},
   "source": [
    "Много пропусков в оценках критиких и пользователей и в рейтинге. Названия столбцов начинаются с больших букв, что не подходит для Python. Тип данных соответствует "
   ]
  },
  {
   "cell_type": "markdown",
   "metadata": {},
   "source": [
    "**Шаг 2. Подготовьте данные**"
   ]
  },
  {
   "cell_type": "code",
   "execution_count": 5,
   "metadata": {},
   "outputs": [
    {
     "data": {
      "text/html": [
       "<div>\n",
       "<style scoped>\n",
       "    .dataframe tbody tr th:only-of-type {\n",
       "        vertical-align: middle;\n",
       "    }\n",
       "\n",
       "    .dataframe tbody tr th {\n",
       "        vertical-align: top;\n",
       "    }\n",
       "\n",
       "    .dataframe thead th {\n",
       "        text-align: right;\n",
       "    }\n",
       "</style>\n",
       "<table border=\"1\" class=\"dataframe\">\n",
       "  <thead>\n",
       "    <tr style=\"text-align: right;\">\n",
       "      <th></th>\n",
       "      <th>name</th>\n",
       "      <th>platform</th>\n",
       "      <th>year_of_release</th>\n",
       "      <th>genre</th>\n",
       "      <th>na_sales</th>\n",
       "      <th>eu_sales</th>\n",
       "      <th>jp_sales</th>\n",
       "      <th>other_sales</th>\n",
       "      <th>critic_score</th>\n",
       "      <th>user_score</th>\n",
       "      <th>rating</th>\n",
       "    </tr>\n",
       "  </thead>\n",
       "  <tbody>\n",
       "    <tr>\n",
       "      <th>0</th>\n",
       "      <td>Wii Sports</td>\n",
       "      <td>Wii</td>\n",
       "      <td>2006.0</td>\n",
       "      <td>Sports</td>\n",
       "      <td>41.36</td>\n",
       "      <td>28.96</td>\n",
       "      <td>3.77</td>\n",
       "      <td>8.45</td>\n",
       "      <td>76.0</td>\n",
       "      <td>8</td>\n",
       "      <td>E</td>\n",
       "    </tr>\n",
       "    <tr>\n",
       "      <th>1</th>\n",
       "      <td>Super Mario Bros.</td>\n",
       "      <td>NES</td>\n",
       "      <td>1985.0</td>\n",
       "      <td>Platform</td>\n",
       "      <td>29.08</td>\n",
       "      <td>3.58</td>\n",
       "      <td>6.81</td>\n",
       "      <td>0.77</td>\n",
       "      <td>NaN</td>\n",
       "      <td>NaN</td>\n",
       "      <td>NaN</td>\n",
       "    </tr>\n",
       "    <tr>\n",
       "      <th>2</th>\n",
       "      <td>Mario Kart Wii</td>\n",
       "      <td>Wii</td>\n",
       "      <td>2008.0</td>\n",
       "      <td>Racing</td>\n",
       "      <td>15.68</td>\n",
       "      <td>12.76</td>\n",
       "      <td>3.79</td>\n",
       "      <td>3.29</td>\n",
       "      <td>82.0</td>\n",
       "      <td>8.3</td>\n",
       "      <td>E</td>\n",
       "    </tr>\n",
       "    <tr>\n",
       "      <th>3</th>\n",
       "      <td>Wii Sports Resort</td>\n",
       "      <td>Wii</td>\n",
       "      <td>2009.0</td>\n",
       "      <td>Sports</td>\n",
       "      <td>15.61</td>\n",
       "      <td>10.93</td>\n",
       "      <td>3.28</td>\n",
       "      <td>2.95</td>\n",
       "      <td>80.0</td>\n",
       "      <td>8</td>\n",
       "      <td>E</td>\n",
       "    </tr>\n",
       "    <tr>\n",
       "      <th>4</th>\n",
       "      <td>Pokemon Red/Pokemon Blue</td>\n",
       "      <td>GB</td>\n",
       "      <td>1996.0</td>\n",
       "      <td>Role-Playing</td>\n",
       "      <td>11.27</td>\n",
       "      <td>8.89</td>\n",
       "      <td>10.22</td>\n",
       "      <td>1.00</td>\n",
       "      <td>NaN</td>\n",
       "      <td>NaN</td>\n",
       "      <td>NaN</td>\n",
       "    </tr>\n",
       "  </tbody>\n",
       "</table>\n",
       "</div>"
      ],
      "text/plain": [
       "                       name platform  year_of_release         genre  na_sales  \\\n",
       "0                Wii Sports      Wii           2006.0        Sports     41.36   \n",
       "1         Super Mario Bros.      NES           1985.0      Platform     29.08   \n",
       "2            Mario Kart Wii      Wii           2008.0        Racing     15.68   \n",
       "3         Wii Sports Resort      Wii           2009.0        Sports     15.61   \n",
       "4  Pokemon Red/Pokemon Blue       GB           1996.0  Role-Playing     11.27   \n",
       "\n",
       "   eu_sales  jp_sales  other_sales  critic_score user_score rating  \n",
       "0     28.96      3.77         8.45          76.0          8      E  \n",
       "1      3.58      6.81         0.77           NaN        NaN    NaN  \n",
       "2     12.76      3.79         3.29          82.0        8.3      E  \n",
       "3     10.93      3.28         2.95          80.0          8      E  \n",
       "4      8.89     10.22         1.00           NaN        NaN    NaN  "
      ]
     },
     "execution_count": 5,
     "metadata": {},
     "output_type": "execute_result"
    }
   ],
   "source": [
    "# Переименовываем столбцы\n",
    "data.rename(columns={'Name': 'name', 'Platform': 'platform', 'Year_of_Release': 'year_of_release', 'Genre': 'genre', 'NA_sales': 'na_sales', 'EU_sales': 'eu_sales', 'JP_sales': 'jp_sales', 'Other_sales': 'other_sales', 'Critic_Score': 'critic_score', 'User_Score': 'user_score', 'Rating': 'rating'}, inplace=True)\n",
    "data.head() #Выводим первые строки датасета"
   ]
  },
  {
   "cell_type": "code",
   "execution_count": 6,
   "metadata": {},
   "outputs": [
    {
     "data": {
      "text/plain": [
       "name                  2\n",
       "platform              0\n",
       "year_of_release     269\n",
       "genre                 2\n",
       "na_sales              0\n",
       "eu_sales              0\n",
       "jp_sales              0\n",
       "other_sales           0\n",
       "critic_score       8578\n",
       "user_score         6701\n",
       "rating             6766\n",
       "dtype: int64"
      ]
     },
     "execution_count": 6,
     "metadata": {},
     "output_type": "execute_result"
    }
   ],
   "source": [
    "# смотрим количество пропусков\n",
    "data.isna().sum()"
   ]
  },
  {
   "cell_type": "code",
   "execution_count": 7,
   "metadata": {},
   "outputs": [
    {
     "data": {
      "text/html": [
       "<div>\n",
       "<style scoped>\n",
       "    .dataframe tbody tr th:only-of-type {\n",
       "        vertical-align: middle;\n",
       "    }\n",
       "\n",
       "    .dataframe tbody tr th {\n",
       "        vertical-align: top;\n",
       "    }\n",
       "\n",
       "    .dataframe thead th {\n",
       "        text-align: right;\n",
       "    }\n",
       "</style>\n",
       "<table border=\"1\" class=\"dataframe\">\n",
       "  <thead>\n",
       "    <tr style=\"text-align: right;\">\n",
       "      <th></th>\n",
       "      <th>name</th>\n",
       "      <th>platform</th>\n",
       "      <th>year_of_release</th>\n",
       "      <th>genre</th>\n",
       "      <th>na_sales</th>\n",
       "      <th>eu_sales</th>\n",
       "      <th>jp_sales</th>\n",
       "      <th>other_sales</th>\n",
       "      <th>critic_score</th>\n",
       "      <th>user_score</th>\n",
       "      <th>rating</th>\n",
       "    </tr>\n",
       "  </thead>\n",
       "  <tbody>\n",
       "    <tr>\n",
       "      <th>0</th>\n",
       "      <td>Wii Sports</td>\n",
       "      <td>Wii</td>\n",
       "      <td>2006.0</td>\n",
       "      <td>Sports</td>\n",
       "      <td>41.36</td>\n",
       "      <td>28.96</td>\n",
       "      <td>3.77</td>\n",
       "      <td>8.45</td>\n",
       "      <td>76.0</td>\n",
       "      <td>8</td>\n",
       "      <td>E</td>\n",
       "    </tr>\n",
       "    <tr>\n",
       "      <th>1</th>\n",
       "      <td>Super Mario Bros.</td>\n",
       "      <td>NES</td>\n",
       "      <td>1985.0</td>\n",
       "      <td>Platform</td>\n",
       "      <td>29.08</td>\n",
       "      <td>3.58</td>\n",
       "      <td>6.81</td>\n",
       "      <td>0.77</td>\n",
       "      <td>NaN</td>\n",
       "      <td>NaN</td>\n",
       "      <td>no_rating</td>\n",
       "    </tr>\n",
       "    <tr>\n",
       "      <th>2</th>\n",
       "      <td>Mario Kart Wii</td>\n",
       "      <td>Wii</td>\n",
       "      <td>2008.0</td>\n",
       "      <td>Racing</td>\n",
       "      <td>15.68</td>\n",
       "      <td>12.76</td>\n",
       "      <td>3.79</td>\n",
       "      <td>3.29</td>\n",
       "      <td>82.0</td>\n",
       "      <td>8.3</td>\n",
       "      <td>E</td>\n",
       "    </tr>\n",
       "    <tr>\n",
       "      <th>3</th>\n",
       "      <td>Wii Sports Resort</td>\n",
       "      <td>Wii</td>\n",
       "      <td>2009.0</td>\n",
       "      <td>Sports</td>\n",
       "      <td>15.61</td>\n",
       "      <td>10.93</td>\n",
       "      <td>3.28</td>\n",
       "      <td>2.95</td>\n",
       "      <td>80.0</td>\n",
       "      <td>8</td>\n",
       "      <td>E</td>\n",
       "    </tr>\n",
       "    <tr>\n",
       "      <th>4</th>\n",
       "      <td>Pokemon Red/Pokemon Blue</td>\n",
       "      <td>GB</td>\n",
       "      <td>1996.0</td>\n",
       "      <td>Role-Playing</td>\n",
       "      <td>11.27</td>\n",
       "      <td>8.89</td>\n",
       "      <td>10.22</td>\n",
       "      <td>1.00</td>\n",
       "      <td>NaN</td>\n",
       "      <td>NaN</td>\n",
       "      <td>no_rating</td>\n",
       "    </tr>\n",
       "  </tbody>\n",
       "</table>\n",
       "</div>"
      ],
      "text/plain": [
       "                       name platform  year_of_release         genre  na_sales  \\\n",
       "0                Wii Sports      Wii           2006.0        Sports     41.36   \n",
       "1         Super Mario Bros.      NES           1985.0      Platform     29.08   \n",
       "2            Mario Kart Wii      Wii           2008.0        Racing     15.68   \n",
       "3         Wii Sports Resort      Wii           2009.0        Sports     15.61   \n",
       "4  Pokemon Red/Pokemon Blue       GB           1996.0  Role-Playing     11.27   \n",
       "\n",
       "   eu_sales  jp_sales  other_sales  critic_score user_score     rating  \n",
       "0     28.96      3.77         8.45          76.0          8          E  \n",
       "1      3.58      6.81         0.77           NaN        NaN  no_rating  \n",
       "2     12.76      3.79         3.29          82.0        8.3          E  \n",
       "3     10.93      3.28         2.95          80.0          8          E  \n",
       "4      8.89     10.22         1.00           NaN        NaN  no_rating  "
      ]
     },
     "execution_count": 7,
     "metadata": {},
     "output_type": "execute_result"
    }
   ],
   "source": [
    "data['rating'] = data['rating'].fillna(\"no_rating\") # заменяем NaN на rating в столбце 'rating'\n",
    "\n",
    "data.head()"
   ]
  },
  {
   "cell_type": "code",
   "execution_count": 8,
   "metadata": {},
   "outputs": [
    {
     "data": {
      "text/plain": [
       "name                  2\n",
       "platform              0\n",
       "year_of_release       0\n",
       "genre                 2\n",
       "na_sales              0\n",
       "eu_sales              0\n",
       "jp_sales              0\n",
       "other_sales           0\n",
       "critic_score       8463\n",
       "user_score         6607\n",
       "rating                0\n",
       "dtype: int64"
      ]
     },
     "execution_count": 8,
     "metadata": {},
     "output_type": "execute_result"
    }
   ],
   "source": [
    "# Удаляем пропущенные значения в столбце 'year_of_release'\n",
    "\n",
    "data = data.dropna(subset=['year_of_release'])\n",
    " \n",
    "data.head()\n",
    "data.isna().sum() "
   ]
  },
  {
   "cell_type": "code",
   "execution_count": 9,
   "metadata": {},
   "outputs": [
    {
     "data": {
      "text/html": [
       "<div>\n",
       "<style scoped>\n",
       "    .dataframe tbody tr th:only-of-type {\n",
       "        vertical-align: middle;\n",
       "    }\n",
       "\n",
       "    .dataframe tbody tr th {\n",
       "        vertical-align: top;\n",
       "    }\n",
       "\n",
       "    .dataframe thead th {\n",
       "        text-align: right;\n",
       "    }\n",
       "</style>\n",
       "<table border=\"1\" class=\"dataframe\">\n",
       "  <thead>\n",
       "    <tr style=\"text-align: right;\">\n",
       "      <th></th>\n",
       "      <th>name</th>\n",
       "      <th>platform</th>\n",
       "      <th>year_of_release</th>\n",
       "      <th>genre</th>\n",
       "      <th>na_sales</th>\n",
       "      <th>eu_sales</th>\n",
       "      <th>jp_sales</th>\n",
       "      <th>other_sales</th>\n",
       "      <th>critic_score</th>\n",
       "      <th>user_score</th>\n",
       "      <th>rating</th>\n",
       "    </tr>\n",
       "  </thead>\n",
       "  <tbody>\n",
       "    <tr>\n",
       "      <th>119</th>\n",
       "      <td>Zumba Fitness</td>\n",
       "      <td>Wii</td>\n",
       "      <td>2010.0</td>\n",
       "      <td>Sports</td>\n",
       "      <td>3.45</td>\n",
       "      <td>2.59</td>\n",
       "      <td>0.00</td>\n",
       "      <td>0.66</td>\n",
       "      <td>NaN</td>\n",
       "      <td>tbd</td>\n",
       "      <td>E</td>\n",
       "    </tr>\n",
       "    <tr>\n",
       "      <th>301</th>\n",
       "      <td>Namco Museum: 50th Anniversary</td>\n",
       "      <td>PS2</td>\n",
       "      <td>2005.0</td>\n",
       "      <td>Misc</td>\n",
       "      <td>2.08</td>\n",
       "      <td>1.35</td>\n",
       "      <td>0.00</td>\n",
       "      <td>0.54</td>\n",
       "      <td>61.0</td>\n",
       "      <td>tbd</td>\n",
       "      <td>E10+</td>\n",
       "    </tr>\n",
       "    <tr>\n",
       "      <th>520</th>\n",
       "      <td>Zumba Fitness 2</td>\n",
       "      <td>Wii</td>\n",
       "      <td>2011.0</td>\n",
       "      <td>Sports</td>\n",
       "      <td>1.51</td>\n",
       "      <td>1.03</td>\n",
       "      <td>0.00</td>\n",
       "      <td>0.27</td>\n",
       "      <td>NaN</td>\n",
       "      <td>tbd</td>\n",
       "      <td>T</td>\n",
       "    </tr>\n",
       "    <tr>\n",
       "      <th>645</th>\n",
       "      <td>uDraw Studio</td>\n",
       "      <td>Wii</td>\n",
       "      <td>2010.0</td>\n",
       "      <td>Misc</td>\n",
       "      <td>1.65</td>\n",
       "      <td>0.57</td>\n",
       "      <td>0.00</td>\n",
       "      <td>0.20</td>\n",
       "      <td>71.0</td>\n",
       "      <td>tbd</td>\n",
       "      <td>E</td>\n",
       "    </tr>\n",
       "    <tr>\n",
       "      <th>718</th>\n",
       "      <td>Just Dance Kids</td>\n",
       "      <td>Wii</td>\n",
       "      <td>2010.0</td>\n",
       "      <td>Misc</td>\n",
       "      <td>1.52</td>\n",
       "      <td>0.54</td>\n",
       "      <td>0.00</td>\n",
       "      <td>0.18</td>\n",
       "      <td>NaN</td>\n",
       "      <td>tbd</td>\n",
       "      <td>E</td>\n",
       "    </tr>\n",
       "    <tr>\n",
       "      <th>726</th>\n",
       "      <td>Dance Dance Revolution X2</td>\n",
       "      <td>PS2</td>\n",
       "      <td>2009.0</td>\n",
       "      <td>Simulation</td>\n",
       "      <td>1.09</td>\n",
       "      <td>0.85</td>\n",
       "      <td>0.00</td>\n",
       "      <td>0.28</td>\n",
       "      <td>NaN</td>\n",
       "      <td>tbd</td>\n",
       "      <td>E10+</td>\n",
       "    </tr>\n",
       "    <tr>\n",
       "      <th>821</th>\n",
       "      <td>The Incredibles</td>\n",
       "      <td>GBA</td>\n",
       "      <td>2004.0</td>\n",
       "      <td>Action</td>\n",
       "      <td>1.15</td>\n",
       "      <td>0.77</td>\n",
       "      <td>0.04</td>\n",
       "      <td>0.10</td>\n",
       "      <td>55.0</td>\n",
       "      <td>tbd</td>\n",
       "      <td>E</td>\n",
       "    </tr>\n",
       "    <tr>\n",
       "      <th>881</th>\n",
       "      <td>Who wants to be a millionaire</td>\n",
       "      <td>PC</td>\n",
       "      <td>1999.0</td>\n",
       "      <td>Misc</td>\n",
       "      <td>1.94</td>\n",
       "      <td>0.00</td>\n",
       "      <td>0.00</td>\n",
       "      <td>0.00</td>\n",
       "      <td>NaN</td>\n",
       "      <td>tbd</td>\n",
       "      <td>E</td>\n",
       "    </tr>\n",
       "    <tr>\n",
       "      <th>1047</th>\n",
       "      <td>Tetris Worlds</td>\n",
       "      <td>GBA</td>\n",
       "      <td>2001.0</td>\n",
       "      <td>Puzzle</td>\n",
       "      <td>1.25</td>\n",
       "      <td>0.39</td>\n",
       "      <td>0.00</td>\n",
       "      <td>0.06</td>\n",
       "      <td>65.0</td>\n",
       "      <td>tbd</td>\n",
       "      <td>E</td>\n",
       "    </tr>\n",
       "    <tr>\n",
       "      <th>1048</th>\n",
       "      <td>Imagine: Teacher</td>\n",
       "      <td>DS</td>\n",
       "      <td>2008.0</td>\n",
       "      <td>Simulation</td>\n",
       "      <td>0.70</td>\n",
       "      <td>0.82</td>\n",
       "      <td>0.00</td>\n",
       "      <td>0.19</td>\n",
       "      <td>NaN</td>\n",
       "      <td>tbd</td>\n",
       "      <td>E</td>\n",
       "    </tr>\n",
       "    <tr>\n",
       "      <th>1069</th>\n",
       "      <td>Personal Trainer: Math</td>\n",
       "      <td>DS</td>\n",
       "      <td>2007.0</td>\n",
       "      <td>Puzzle</td>\n",
       "      <td>0.48</td>\n",
       "      <td>1.12</td>\n",
       "      <td>0.00</td>\n",
       "      <td>0.08</td>\n",
       "      <td>63.0</td>\n",
       "      <td>tbd</td>\n",
       "      <td>E</td>\n",
       "    </tr>\n",
       "    <tr>\n",
       "      <th>1070</th>\n",
       "      <td>Game Party 3</td>\n",
       "      <td>Wii</td>\n",
       "      <td>2009.0</td>\n",
       "      <td>Puzzle</td>\n",
       "      <td>1.40</td>\n",
       "      <td>0.16</td>\n",
       "      <td>0.00</td>\n",
       "      <td>0.12</td>\n",
       "      <td>37.0</td>\n",
       "      <td>tbd</td>\n",
       "      <td>E</td>\n",
       "    </tr>\n",
       "    <tr>\n",
       "      <th>1089</th>\n",
       "      <td>Monsters, Inc.</td>\n",
       "      <td>GBA</td>\n",
       "      <td>2001.0</td>\n",
       "      <td>Adventure</td>\n",
       "      <td>0.59</td>\n",
       "      <td>0.95</td>\n",
       "      <td>0.03</td>\n",
       "      <td>0.10</td>\n",
       "      <td>NaN</td>\n",
       "      <td>tbd</td>\n",
       "      <td>E</td>\n",
       "    </tr>\n",
       "    <tr>\n",
       "      <th>1151</th>\n",
       "      <td>SpongeBob's Atlantis SquarePantis</td>\n",
       "      <td>DS</td>\n",
       "      <td>2007.0</td>\n",
       "      <td>Action</td>\n",
       "      <td>1.49</td>\n",
       "      <td>0.00</td>\n",
       "      <td>0.00</td>\n",
       "      <td>0.11</td>\n",
       "      <td>64.0</td>\n",
       "      <td>tbd</td>\n",
       "      <td>E</td>\n",
       "    </tr>\n",
       "    <tr>\n",
       "      <th>1199</th>\n",
       "      <td>MySims Kingdom</td>\n",
       "      <td>DS</td>\n",
       "      <td>2008.0</td>\n",
       "      <td>Simulation</td>\n",
       "      <td>0.80</td>\n",
       "      <td>0.59</td>\n",
       "      <td>0.01</td>\n",
       "      <td>0.16</td>\n",
       "      <td>58.0</td>\n",
       "      <td>tbd</td>\n",
       "      <td>E</td>\n",
       "    </tr>\n",
       "    <tr>\n",
       "      <th>1210</th>\n",
       "      <td>Moshi Monsters: Moshling Zoo</td>\n",
       "      <td>DS</td>\n",
       "      <td>2011.0</td>\n",
       "      <td>Misc</td>\n",
       "      <td>0.37</td>\n",
       "      <td>0.96</td>\n",
       "      <td>0.00</td>\n",
       "      <td>0.21</td>\n",
       "      <td>NaN</td>\n",
       "      <td>tbd</td>\n",
       "      <td>E</td>\n",
       "    </tr>\n",
       "    <tr>\n",
       "      <th>1284</th>\n",
       "      <td>Disney Sing It: Pop Hits</td>\n",
       "      <td>Wii</td>\n",
       "      <td>2009.0</td>\n",
       "      <td>Misc</td>\n",
       "      <td>1.07</td>\n",
       "      <td>0.28</td>\n",
       "      <td>0.00</td>\n",
       "      <td>0.13</td>\n",
       "      <td>NaN</td>\n",
       "      <td>tbd</td>\n",
       "      <td>E</td>\n",
       "    </tr>\n",
       "    <tr>\n",
       "      <th>1291</th>\n",
       "      <td>Imagine: Master Chef</td>\n",
       "      <td>DS</td>\n",
       "      <td>2007.0</td>\n",
       "      <td>Simulation</td>\n",
       "      <td>0.39</td>\n",
       "      <td>0.91</td>\n",
       "      <td>0.00</td>\n",
       "      <td>0.17</td>\n",
       "      <td>NaN</td>\n",
       "      <td>tbd</td>\n",
       "      <td>E</td>\n",
       "    </tr>\n",
       "    <tr>\n",
       "      <th>1292</th>\n",
       "      <td>Disney Princess</td>\n",
       "      <td>GBA</td>\n",
       "      <td>2003.0</td>\n",
       "      <td>Platform</td>\n",
       "      <td>1.04</td>\n",
       "      <td>0.37</td>\n",
       "      <td>0.00</td>\n",
       "      <td>0.06</td>\n",
       "      <td>NaN</td>\n",
       "      <td>tbd</td>\n",
       "      <td>E</td>\n",
       "    </tr>\n",
       "    <tr>\n",
       "      <th>1298</th>\n",
       "      <td>The SpongeBob SquarePants Movie</td>\n",
       "      <td>GBA</td>\n",
       "      <td>2004.0</td>\n",
       "      <td>Platform</td>\n",
       "      <td>1.02</td>\n",
       "      <td>0.38</td>\n",
       "      <td>0.00</td>\n",
       "      <td>0.06</td>\n",
       "      <td>NaN</td>\n",
       "      <td>tbd</td>\n",
       "      <td>E</td>\n",
       "    </tr>\n",
       "  </tbody>\n",
       "</table>\n",
       "</div>"
      ],
      "text/plain": [
       "                                   name platform  year_of_release       genre  \\\n",
       "119                       Zumba Fitness      Wii           2010.0      Sports   \n",
       "301      Namco Museum: 50th Anniversary      PS2           2005.0        Misc   \n",
       "520                     Zumba Fitness 2      Wii           2011.0      Sports   \n",
       "645                        uDraw Studio      Wii           2010.0        Misc   \n",
       "718                     Just Dance Kids      Wii           2010.0        Misc   \n",
       "726           Dance Dance Revolution X2      PS2           2009.0  Simulation   \n",
       "821                     The Incredibles      GBA           2004.0      Action   \n",
       "881       Who wants to be a millionaire       PC           1999.0        Misc   \n",
       "1047                      Tetris Worlds      GBA           2001.0      Puzzle   \n",
       "1048                   Imagine: Teacher       DS           2008.0  Simulation   \n",
       "1069             Personal Trainer: Math       DS           2007.0      Puzzle   \n",
       "1070                       Game Party 3      Wii           2009.0      Puzzle   \n",
       "1089                     Monsters, Inc.      GBA           2001.0   Adventure   \n",
       "1151  SpongeBob's Atlantis SquarePantis       DS           2007.0      Action   \n",
       "1199                     MySims Kingdom       DS           2008.0  Simulation   \n",
       "1210       Moshi Monsters: Moshling Zoo       DS           2011.0        Misc   \n",
       "1284           Disney Sing It: Pop Hits      Wii           2009.0        Misc   \n",
       "1291               Imagine: Master Chef       DS           2007.0  Simulation   \n",
       "1292                    Disney Princess      GBA           2003.0    Platform   \n",
       "1298    The SpongeBob SquarePants Movie      GBA           2004.0    Platform   \n",
       "\n",
       "      na_sales  eu_sales  jp_sales  other_sales  critic_score user_score  \\\n",
       "119       3.45      2.59      0.00         0.66           NaN        tbd   \n",
       "301       2.08      1.35      0.00         0.54          61.0        tbd   \n",
       "520       1.51      1.03      0.00         0.27           NaN        tbd   \n",
       "645       1.65      0.57      0.00         0.20          71.0        tbd   \n",
       "718       1.52      0.54      0.00         0.18           NaN        tbd   \n",
       "726       1.09      0.85      0.00         0.28           NaN        tbd   \n",
       "821       1.15      0.77      0.04         0.10          55.0        tbd   \n",
       "881       1.94      0.00      0.00         0.00           NaN        tbd   \n",
       "1047      1.25      0.39      0.00         0.06          65.0        tbd   \n",
       "1048      0.70      0.82      0.00         0.19           NaN        tbd   \n",
       "1069      0.48      1.12      0.00         0.08          63.0        tbd   \n",
       "1070      1.40      0.16      0.00         0.12          37.0        tbd   \n",
       "1089      0.59      0.95      0.03         0.10           NaN        tbd   \n",
       "1151      1.49      0.00      0.00         0.11          64.0        tbd   \n",
       "1199      0.80      0.59      0.01         0.16          58.0        tbd   \n",
       "1210      0.37      0.96      0.00         0.21           NaN        tbd   \n",
       "1284      1.07      0.28      0.00         0.13           NaN        tbd   \n",
       "1291      0.39      0.91      0.00         0.17           NaN        tbd   \n",
       "1292      1.04      0.37      0.00         0.06           NaN        tbd   \n",
       "1298      1.02      0.38      0.00         0.06           NaN        tbd   \n",
       "\n",
       "     rating  \n",
       "119       E  \n",
       "301    E10+  \n",
       "520       T  \n",
       "645       E  \n",
       "718       E  \n",
       "726    E10+  \n",
       "821       E  \n",
       "881       E  \n",
       "1047      E  \n",
       "1048      E  \n",
       "1069      E  \n",
       "1070      E  \n",
       "1089      E  \n",
       "1151      E  \n",
       "1199      E  \n",
       "1210      E  \n",
       "1284      E  \n",
       "1291      E  \n",
       "1292      E  \n",
       "1298      E  "
      ]
     },
     "execution_count": 9,
     "metadata": {},
     "output_type": "execute_result"
    }
   ],
   "source": [
    "# Выводим значения только tbd для дальнейшего анализа \n",
    "\n",
    "data_tbd = data[data['user_score'] == 'tbd'] \n",
    "\n",
    "data_tbd.head(20)"
   ]
  },
  {
   "cell_type": "markdown",
   "metadata": {},
   "source": [
    "Мы видим, что в столбце 'user_score' значениям tbd соответстуют малые значения продаж. Т.е. для выставления оценки не хватает данных по продажам этой игры. Теоретически, можно эти значения также заменить медианными значениями по жанрам, но пока нет уверенности, в правильности такого решения мы этого делать не будем. Чтобы эти значения не мешали в анализе данных заменяем tbd на \"0\"\n",
    "\n",
    "Пропуски типа NaN могли быть по причине того, что критики не проставили оценки"
   ]
  },
  {
   "cell_type": "code",
   "execution_count": 10,
   "metadata": {},
   "outputs": [],
   "source": [
    "data['user_score'] = data['user_score'].replace('tbd', -1).astype(float)"
   ]
  },
  {
   "cell_type": "code",
   "execution_count": 11,
   "metadata": {},
   "outputs": [
    {
     "data": {
      "text/html": [
       "<div>\n",
       "<style scoped>\n",
       "    .dataframe tbody tr th:only-of-type {\n",
       "        vertical-align: middle;\n",
       "    }\n",
       "\n",
       "    .dataframe tbody tr th {\n",
       "        vertical-align: top;\n",
       "    }\n",
       "\n",
       "    .dataframe thead th {\n",
       "        text-align: right;\n",
       "    }\n",
       "</style>\n",
       "<table border=\"1\" class=\"dataframe\">\n",
       "  <thead>\n",
       "    <tr style=\"text-align: right;\">\n",
       "      <th></th>\n",
       "      <th>name</th>\n",
       "      <th>platform</th>\n",
       "      <th>year_of_release</th>\n",
       "      <th>genre</th>\n",
       "      <th>na_sales</th>\n",
       "      <th>eu_sales</th>\n",
       "      <th>jp_sales</th>\n",
       "      <th>other_sales</th>\n",
       "      <th>critic_score</th>\n",
       "      <th>user_score</th>\n",
       "      <th>rating</th>\n",
       "      <th>total_sales</th>\n",
       "    </tr>\n",
       "  </thead>\n",
       "  <tbody>\n",
       "    <tr>\n",
       "      <th>0</th>\n",
       "      <td>Wii Sports</td>\n",
       "      <td>Wii</td>\n",
       "      <td>2006.0</td>\n",
       "      <td>Sports</td>\n",
       "      <td>41.36</td>\n",
       "      <td>28.96</td>\n",
       "      <td>3.77</td>\n",
       "      <td>8.45</td>\n",
       "      <td>76.0</td>\n",
       "      <td>8.0</td>\n",
       "      <td>E</td>\n",
       "      <td>82.54</td>\n",
       "    </tr>\n",
       "    <tr>\n",
       "      <th>1</th>\n",
       "      <td>Super Mario Bros.</td>\n",
       "      <td>NES</td>\n",
       "      <td>1985.0</td>\n",
       "      <td>Platform</td>\n",
       "      <td>29.08</td>\n",
       "      <td>3.58</td>\n",
       "      <td>6.81</td>\n",
       "      <td>0.77</td>\n",
       "      <td>NaN</td>\n",
       "      <td>NaN</td>\n",
       "      <td>no_rating</td>\n",
       "      <td>40.24</td>\n",
       "    </tr>\n",
       "    <tr>\n",
       "      <th>2</th>\n",
       "      <td>Mario Kart Wii</td>\n",
       "      <td>Wii</td>\n",
       "      <td>2008.0</td>\n",
       "      <td>Racing</td>\n",
       "      <td>15.68</td>\n",
       "      <td>12.76</td>\n",
       "      <td>3.79</td>\n",
       "      <td>3.29</td>\n",
       "      <td>82.0</td>\n",
       "      <td>8.3</td>\n",
       "      <td>E</td>\n",
       "      <td>35.52</td>\n",
       "    </tr>\n",
       "    <tr>\n",
       "      <th>3</th>\n",
       "      <td>Wii Sports Resort</td>\n",
       "      <td>Wii</td>\n",
       "      <td>2009.0</td>\n",
       "      <td>Sports</td>\n",
       "      <td>15.61</td>\n",
       "      <td>10.93</td>\n",
       "      <td>3.28</td>\n",
       "      <td>2.95</td>\n",
       "      <td>80.0</td>\n",
       "      <td>8.0</td>\n",
       "      <td>E</td>\n",
       "      <td>32.77</td>\n",
       "    </tr>\n",
       "    <tr>\n",
       "      <th>4</th>\n",
       "      <td>Pokemon Red/Pokemon Blue</td>\n",
       "      <td>GB</td>\n",
       "      <td>1996.0</td>\n",
       "      <td>Role-Playing</td>\n",
       "      <td>11.27</td>\n",
       "      <td>8.89</td>\n",
       "      <td>10.22</td>\n",
       "      <td>1.00</td>\n",
       "      <td>NaN</td>\n",
       "      <td>NaN</td>\n",
       "      <td>no_rating</td>\n",
       "      <td>31.38</td>\n",
       "    </tr>\n",
       "  </tbody>\n",
       "</table>\n",
       "</div>"
      ],
      "text/plain": [
       "                       name platform  year_of_release         genre  na_sales  \\\n",
       "0                Wii Sports      Wii           2006.0        Sports     41.36   \n",
       "1         Super Mario Bros.      NES           1985.0      Platform     29.08   \n",
       "2            Mario Kart Wii      Wii           2008.0        Racing     15.68   \n",
       "3         Wii Sports Resort      Wii           2009.0        Sports     15.61   \n",
       "4  Pokemon Red/Pokemon Blue       GB           1996.0  Role-Playing     11.27   \n",
       "\n",
       "   eu_sales  jp_sales  other_sales  critic_score  user_score     rating  \\\n",
       "0     28.96      3.77         8.45          76.0         8.0          E   \n",
       "1      3.58      6.81         0.77           NaN         NaN  no_rating   \n",
       "2     12.76      3.79         3.29          82.0         8.3          E   \n",
       "3     10.93      3.28         2.95          80.0         8.0          E   \n",
       "4      8.89     10.22         1.00           NaN         NaN  no_rating   \n",
       "\n",
       "   total_sales  \n",
       "0        82.54  \n",
       "1        40.24  \n",
       "2        35.52  \n",
       "3        32.77  \n",
       "4        31.38  "
      ]
     },
     "execution_count": 11,
     "metadata": {},
     "output_type": "execute_result"
    }
   ],
   "source": [
    "data['total_sales'] = data[['na_sales', 'eu_sales', 'jp_sales', 'other_sales']].sum(axis=1)\n",
    "data.head()"
   ]
  },
  {
   "cell_type": "markdown",
   "metadata": {},
   "source": [
    "Мы заменили названия столбцов на нижний регистр, удалили строки с пропусками годов выхода и заменили пропуски в столцах \"рейтинг\"  и \"оценка пользователей\". Добавили столбец \"суммарные продажи\" "
   ]
  },
  {
   "cell_type": "markdown",
   "metadata": {},
   "source": [
    "**Шаг 3. Проведите исследовательский анализ данных**"
   ]
  },
  {
   "cell_type": "code",
   "execution_count": 12,
   "metadata": {},
   "outputs": [
    {
     "data": {
      "text/plain": [
       "1980.0       9\n",
       "1981.0      46\n",
       "1982.0      36\n",
       "1983.0      17\n",
       "1984.0      14\n",
       "1985.0      14\n",
       "1986.0      21\n",
       "1987.0      16\n",
       "1988.0      15\n",
       "1989.0      17\n",
       "1990.0      16\n",
       "1991.0      41\n",
       "1992.0      43\n",
       "1993.0      62\n",
       "1994.0     121\n",
       "1995.0     219\n",
       "1996.0     263\n",
       "1997.0     289\n",
       "1998.0     379\n",
       "1999.0     338\n",
       "2000.0     350\n",
       "2001.0     482\n",
       "2002.0     829\n",
       "2003.0     775\n",
       "2004.0     762\n",
       "2005.0     939\n",
       "2006.0    1006\n",
       "2007.0    1197\n",
       "2008.0    1427\n",
       "2009.0    1426\n",
       "2010.0    1255\n",
       "2011.0    1136\n",
       "2012.0     653\n",
       "2013.0     544\n",
       "2014.0     581\n",
       "2015.0     606\n",
       "2016.0     502\n",
       "Name: year_of_release, dtype: int64"
      ]
     },
     "execution_count": 12,
     "metadata": {},
     "output_type": "execute_result"
    }
   ],
   "source": [
    "# Cмотрим, сколько игр выпускалось в разные годы\n",
    "data['year_of_release'].value_counts().sort_index()"
   ]
  },
  {
   "cell_type": "code",
   "execution_count": 13,
   "metadata": {},
   "outputs": [
    {
     "data": {
      "text/plain": [
       "Text(0, 0.5, 'Количество игр')"
      ]
     },
     "execution_count": 13,
     "metadata": {},
     "output_type": "execute_result"
    },
    {
     "data": {
      "image/png": "[encoded data removed]",
      "text/plain": [
       "<Figure size 432x288 with 1 Axes>"
      ]
     },
     "metadata": {
      "needs_background": "light"
     },
     "output_type": "display_data"
    }
   ],
   "source": [
    "# Посмотрим данные на гистограмме \n",
    "\n",
    "data['year_of_release'].hist(bins=100)\n",
    "plt.title('Распределение количества выпущенных игр по годам')\n",
    "plt.xlabel('Год выпуска')\n",
    "plt.ylabel('Количество игр')"
   ]
  },
  {
   "cell_type": "markdown",
   "metadata": {},
   "source": [
    "Видим резкий скачок выпуска игр (почти в 2 раза - с 62 по 121) произошел в 1994 году. Максимальное количество игр (1498) было выпущено в 2009 году. Затем пошел спад и в 2012 году годовой выпуск сократился почти в 2 раза - с 1136 до 653"
   ]
  },
  {
   "cell_type": "code",
   "execution_count": 14,
   "metadata": {},
   "outputs": [
    {
     "data": {
      "text/plain": [
       "PS2     2127\n",
       "DS      2121\n",
       "PS3     1306\n",
       "Wii     1286\n",
       "X360    1232\n",
       "PSP     1193\n",
       "PS      1190\n",
       "PC       957\n",
       "GBA      811\n",
       "XB       803\n",
       "GC       542\n",
       "3DS      512\n",
       "PSV      429\n",
       "PS4      392\n",
       "N64      316\n",
       "XOne     247\n",
       "SNES     239\n",
       "SAT      173\n",
       "WiiU     147\n",
       "2600     116\n",
       "NES       98\n",
       "GB        97\n",
       "DC        52\n",
       "GEN       29\n",
       "NG        12\n",
       "SCD        6\n",
       "WS         6\n",
       "3DO        3\n",
       "TG16       2\n",
       "GG         1\n",
       "PCFX       1\n",
       "Name: platform, dtype: int64"
      ]
     },
     "execution_count": 14,
     "metadata": {},
     "output_type": "execute_result"
    }
   ],
   "source": [
    "data['platform'].value_counts()"
   ]
  },
  {
   "cell_type": "code",
   "execution_count": 15,
   "metadata": {},
   "outputs": [
    {
     "data": {
      "image/png": "[encoded data removed]",
      "text/plain": [
       "<Figure size 864x432 with 1 Axes>"
      ]
     },
     "metadata": {
      "needs_background": "light"
     },
     "output_type": "display_data"
    }
   ],
   "source": [
    "platform_sales = data.groupby('platform')['total_sales'].sum().sort_values(ascending=False)\n",
    "\n",
    "top_platforms = platform_sales.head(5)  # Выберем платформы с наибольшими продажами\n",
    "\n",
    "# Построим распределение по годам для выбранных платформ\n",
    "plt.figure(figsize=(12, 6))\n",
    "for platform in top_platforms.index:\n",
    "    platform_data = data[data['platform'] == platform]\n",
    "    grouped_data = platform_data.groupby('year_of_release')['total_sales'].sum()\n",
    "    plt.step(grouped_data.index, grouped_data.values, label=platform, linewidth=3, alpha=0.7)\n",
    "\n",
    "plt.title('Распределение по платформам Топ-5')\n",
    "plt.xlabel('Год выпуска')\n",
    "plt.ylabel('Суммарные продажи')\n",
    "plt.legend()\n",
    "plt.grid(True)\n",
    "plt.show()"
   ]
  },
  {
   "cell_type": "markdown",
   "metadata": {},
   "source": [
    "В среднем активный срок деятельности каждой платформы - 5 лет.\n",
    "\n",
    "Актуальный период берем 3 года, т.к. при большем значении можем \"упустить\" цикл развития платормы, а при меньшем - не увидеть "
   ]
  },
  {
   "cell_type": "code",
   "execution_count": 16,
   "metadata": {},
   "outputs": [
    {
     "data": {
      "text/html": [
       "<div>\n",
       "<style scoped>\n",
       "    .dataframe tbody tr th:only-of-type {\n",
       "        vertical-align: middle;\n",
       "    }\n",
       "\n",
       "    .dataframe tbody tr th {\n",
       "        vertical-align: top;\n",
       "    }\n",
       "\n",
       "    .dataframe thead th {\n",
       "        text-align: right;\n",
       "    }\n",
       "</style>\n",
       "<table border=\"1\" class=\"dataframe\">\n",
       "  <thead>\n",
       "    <tr style=\"text-align: right;\">\n",
       "      <th></th>\n",
       "      <th>name</th>\n",
       "      <th>platform</th>\n",
       "      <th>year_of_release</th>\n",
       "      <th>genre</th>\n",
       "      <th>na_sales</th>\n",
       "      <th>eu_sales</th>\n",
       "      <th>jp_sales</th>\n",
       "      <th>other_sales</th>\n",
       "      <th>critic_score</th>\n",
       "      <th>user_score</th>\n",
       "      <th>rating</th>\n",
       "      <th>total_sales</th>\n",
       "    </tr>\n",
       "  </thead>\n",
       "  <tbody>\n",
       "    <tr>\n",
       "      <th>31</th>\n",
       "      <td>Call of Duty: Black Ops 3</td>\n",
       "      <td>PS4</td>\n",
       "      <td>2015.0</td>\n",
       "      <td>Shooter</td>\n",
       "      <td>6.03</td>\n",
       "      <td>5.86</td>\n",
       "      <td>0.36</td>\n",
       "      <td>2.38</td>\n",
       "      <td>NaN</td>\n",
       "      <td>NaN</td>\n",
       "      <td>no_rating</td>\n",
       "      <td>14.63</td>\n",
       "    </tr>\n",
       "    <tr>\n",
       "      <th>42</th>\n",
       "      <td>Grand Theft Auto V</td>\n",
       "      <td>PS4</td>\n",
       "      <td>2014.0</td>\n",
       "      <td>Action</td>\n",
       "      <td>3.96</td>\n",
       "      <td>6.31</td>\n",
       "      <td>0.38</td>\n",
       "      <td>1.97</td>\n",
       "      <td>97.0</td>\n",
       "      <td>8.3</td>\n",
       "      <td>M</td>\n",
       "      <td>12.62</td>\n",
       "    </tr>\n",
       "    <tr>\n",
       "      <th>47</th>\n",
       "      <td>Pokemon Omega Ruby/Pokemon Alpha Sapphire</td>\n",
       "      <td>3DS</td>\n",
       "      <td>2014.0</td>\n",
       "      <td>Role-Playing</td>\n",
       "      <td>4.35</td>\n",
       "      <td>3.49</td>\n",
       "      <td>3.10</td>\n",
       "      <td>0.74</td>\n",
       "      <td>NaN</td>\n",
       "      <td>NaN</td>\n",
       "      <td>no_rating</td>\n",
       "      <td>11.68</td>\n",
       "    </tr>\n",
       "    <tr>\n",
       "      <th>77</th>\n",
       "      <td>FIFA 16</td>\n",
       "      <td>PS4</td>\n",
       "      <td>2015.0</td>\n",
       "      <td>Sports</td>\n",
       "      <td>1.12</td>\n",
       "      <td>6.12</td>\n",
       "      <td>0.06</td>\n",
       "      <td>1.28</td>\n",
       "      <td>82.0</td>\n",
       "      <td>4.3</td>\n",
       "      <td>E</td>\n",
       "      <td>8.58</td>\n",
       "    </tr>\n",
       "    <tr>\n",
       "      <th>87</th>\n",
       "      <td>Star Wars Battlefront (2015)</td>\n",
       "      <td>PS4</td>\n",
       "      <td>2015.0</td>\n",
       "      <td>Shooter</td>\n",
       "      <td>2.99</td>\n",
       "      <td>3.49</td>\n",
       "      <td>0.22</td>\n",
       "      <td>1.28</td>\n",
       "      <td>NaN</td>\n",
       "      <td>NaN</td>\n",
       "      <td>no_rating</td>\n",
       "      <td>7.98</td>\n",
       "    </tr>\n",
       "  </tbody>\n",
       "</table>\n",
       "</div>"
      ],
      "text/plain": [
       "                                         name platform  year_of_release  \\\n",
       "31                  Call of Duty: Black Ops 3      PS4           2015.0   \n",
       "42                         Grand Theft Auto V      PS4           2014.0   \n",
       "47  Pokemon Omega Ruby/Pokemon Alpha Sapphire      3DS           2014.0   \n",
       "77                                    FIFA 16      PS4           2015.0   \n",
       "87               Star Wars Battlefront (2015)      PS4           2015.0   \n",
       "\n",
       "           genre  na_sales  eu_sales  jp_sales  other_sales  critic_score  \\\n",
       "31       Shooter      6.03      5.86      0.36         2.38           NaN   \n",
       "42        Action      3.96      6.31      0.38         1.97          97.0   \n",
       "47  Role-Playing      4.35      3.49      3.10         0.74           NaN   \n",
       "77        Sports      1.12      6.12      0.06         1.28          82.0   \n",
       "87       Shooter      2.99      3.49      0.22         1.28           NaN   \n",
       "\n",
       "    user_score     rating  total_sales  \n",
       "31         NaN  no_rating        14.63  \n",
       "42         8.3          M        12.62  \n",
       "47         NaN  no_rating        11.68  \n",
       "77         4.3          E         8.58  \n",
       "87         NaN  no_rating         7.98  "
      ]
     },
     "execution_count": 16,
     "metadata": {},
     "output_type": "execute_result"
    }
   ],
   "source": [
    "data_fin = data[data['year_of_release'] > 2013.0]\n",
    "\n",
    "data_fin.head()"
   ]
  },
  {
   "cell_type": "code",
   "execution_count": 17,
   "metadata": {},
   "outputs": [
    {
     "data": {
      "text/plain": [
       "platform\n",
       "PS4     288.15\n",
       "XOne    140.36\n",
       "3DS      86.68\n",
       "PS3      68.18\n",
       "X360     48.22\n",
       "Name: total_sales, dtype: float64"
      ]
     },
     "execution_count": 17,
     "metadata": {},
     "output_type": "execute_result"
    }
   ],
   "source": [
    "platform_sales = data_fin.groupby('platform')['total_sales'].sum().sort_values(ascending=False)\n",
    "\n",
    "top_platforms = platform_sales.head(5)  # Выберем платформы с наибольшими продажами\n",
    "\n",
    "top_platforms"
   ]
  },
  {
   "cell_type": "code",
   "execution_count": 18,
   "metadata": {},
   "outputs": [
    {
     "data": {
      "image/png": "[encoded data removed]",
      "text/plain": [
       "<Figure size 864x432 with 1 Axes>"
      ]
     },
     "metadata": {
      "needs_background": "light"
     },
     "output_type": "display_data"
    }
   ],
   "source": [
    "# Построим распределение по годам для выбранных платформ\n",
    "plt.figure(figsize=(12, 6))\n",
    "for platform in top_platforms.index:\n",
    "    platform_data = data_fin[data_fin['platform'] == platform]\n",
    "    grouped_data = platform_data.groupby('year_of_release')['total_sales'].sum()\n",
    "    plt.plot(grouped_data.index, grouped_data.values, label=platform, linewidth=3)\n",
    "\n",
    "plt.title('Распределение по платформам Топ-5 с 2014 года')\n",
    "plt.xlabel('Год выпуска')\n",
    "plt.ylabel('Глобальные продажи')\n",
    "plt.legend()\n",
    "plt.grid(True)\n",
    "plt.show()"
   ]
  },
  {
   "cell_type": "markdown",
   "metadata": {},
   "source": [
    "Все платформы падают, но можно выделить трех лидеров: PS4, XOne и 3DS"
   ]
  },
  {
   "cell_type": "code",
   "execution_count": 19,
   "metadata": {},
   "outputs": [
    {
     "data": {
      "image/png": "[encoded data removed]",
      "text/plain": [
       "<Figure size 720x432 with 1 Axes>"
      ]
     },
     "metadata": {
      "needs_background": "light"
     },
     "output_type": "display_data"
    }
   ],
   "source": [
    "#строим график Глобальных продаж игр в разбивке по платформам\n",
    "\n",
    "plt.figure(figsize=(10, 6))\n",
    "sns.boxplot(x='platform', y='total_sales', data=data_fin)\n",
    "plt.xlabel('Платформы')\n",
    "plt.ylabel('Глобальные продажи')\n",
    "plt.title('Глобальные продажи игр в разбивке по платформам')\n",
    "plt.show()"
   ]
  },
  {
   "cell_type": "code",
   "execution_count": 20,
   "metadata": {},
   "outputs": [
    {
     "data": {
      "image/png": "[encoded data removed]",
      "text/plain": [
       "<Figure size 720x432 with 1 Axes>"
      ]
     },
     "metadata": {
      "needs_background": "light"
     },
     "output_type": "display_data"
    }
   ],
   "source": [
    "# Приближаем график \n",
    "\n",
    "plt.figure(figsize=(10, 6))\n",
    "sns.boxplot(x='platform', y='total_sales', data=data_fin)\n",
    "plt.xlabel('Платформы')\n",
    "plt.ylabel('Глобальные продажи')\n",
    "plt.title('Глобальные продажи игр в разбивке по платформам для Топ-10')\n",
    "plt.ylim(0, 1.6)\n",
    "plt.show()"
   ]
  },
  {
   "cell_type": "markdown",
   "metadata": {},
   "source": [
    "Медианные зачения находятся до отметки 0.2, у лидеров продаж примерно на одном уровне кроме 3DS. Мы видим,что у платформы Wii практически все продажи происходят внутри \"ящика\", в то время как у Топ-3: PS4, XOne и 3DS много значений, превышающих третий квартиль - 75%"
   ]
  },
  {
   "cell_type": "markdown",
   "metadata": {},
   "source": [
    "Выходило много игр разного качества. Какие-то \"залетали\", а какие-то - нет"
   ]
  },
  {
   "cell_type": "code",
   "execution_count": 21,
   "metadata": {},
   "outputs": [
    {
     "data": {
      "image/png": "[encoded data removed]",
      "text/plain": [
       "<Figure size 864x432 with 2 Axes>"
      ]
     },
     "metadata": {
      "needs_background": "light"
     },
     "output_type": "display_data"
    }
   ],
   "source": [
    "# Посмотрите, как влияют на продажи внутри одной популярной платформы отзывы пользователей и критиков. \n",
    "# Постройте диаграмму рассеяния и посчитайте корреляцию между отзывами и продажами\n",
    "\n",
    "platform = 'PS4'\n",
    "platform_data = data_fin[data_fin['platform'] == platform]\n",
    "\n",
    "# Построение диаграммы рассеяния для оценки пользователей\n",
    "plt.figure(figsize=(12, 6))\n",
    "\n",
    "plt.subplot(1, 2, 1)\n",
    "sns.scatterplot(x=platform_data['user_score'], y=platform_data['total_sales'])\n",
    "plt.title(f'{platform} - Влияние на продажи отзывов пользователей')\n",
    "plt.xlabel('Оценка пользователей')\n",
    "plt.ylabel('Суммарные продажи')\n",
    "\n",
    "# Построение диаграммы рассеяния для оценки критиков\n",
    "plt.subplot(1, 2, 2)\n",
    "sns.scatterplot(x=platform_data['critic_score'], y=platform_data['total_sales'])\n",
    "plt.title(f'{platform} - Влияние на продажи отзывов критиков')\n",
    "plt.xlabel('Оценка критиков')\n",
    "plt.ylabel('Суммарные продажи')\n",
    "\n",
    "plt.tight_layout()\n",
    "plt.show()"
   ]
  },
  {
   "cell_type": "code",
   "execution_count": 22,
   "metadata": {
    "scrolled": true
   },
   "outputs": [
    {
     "name": "stdout",
     "output_type": "stream",
     "text": [
      "Корреляция между оценкой пользователей и суммарными продажами для PS4: -0.04\n",
      "Корреляция между оценкой критиков и суммарными продажами для PS4: 0.40\n"
     ]
    }
   ],
   "source": [
    "# Удаление значений-заглушек из данных\n",
    "platform_data = platform_data[\n",
    "    (platform_data['user_score'] != -1) & \n",
    "    (platform_data['critic_score'] != -1)\n",
    "]\n",
    "# Вычисление корреляции\n",
    "user_corr = platform_data['user_score'].corr(platform_data['total_sales'])\n",
    "critic_corr = platform_data['critic_score'].corr(platform_data['total_sales'])\n",
    "\n",
    "print(f'Корреляция между оценкой пользователей и суммарными продажами для {platform}: {user_corr:.2f}')\n",
    "print(f'Корреляция между оценкой критиков и суммарными продажами для {platform}: {critic_corr:.2f}')"
   ]
  },
  {
   "cell_type": "markdown",
   "metadata": {},
   "source": [
    "Корреляция между оценкой пользователей и суммарными продажами для PS4: -0,04 - **слабая отрицательная связь**\n",
    "\n",
    "Корреляция между оценкой критиков и суммарными продажами для PS4: 0.4 - **умеренная положительная связь** "
   ]
  },
  {
   "cell_type": "code",
   "execution_count": 23,
   "metadata": {},
   "outputs": [
    {
     "name": "stdout",
     "output_type": "stream",
     "text": [
      "Корреляция между оценкой пользователей и суммарными продажами для 3DS: 0.34\n",
      "Корреляция между оценкой критиков и суммарными продажами для 3DS: 0.31\n"
     ]
    }
   ],
   "source": [
    "# Вычисление корреляции\n",
    "platform = '3DS'\n",
    "platform_data = data_fin[data_fin['platform'] == platform]\n",
    "user_corr = platform_data['user_score'].corr(platform_data['total_sales'])\n",
    "critic_corr = platform_data['critic_score'].corr(platform_data['total_sales'])\n",
    "\n",
    "print(f'Корреляция между оценкой пользователей и суммарными продажами для {platform}: {user_corr:.2f}')\n",
    "print(f'Корреляция между оценкой критиков и суммарными продажами для {platform}: {critic_corr:.2f}')"
   ]
  },
  {
   "cell_type": "code",
   "execution_count": 24,
   "metadata": {},
   "outputs": [
    {
     "name": "stdout",
     "output_type": "stream",
     "text": [
      "Корреляция между оценкой пользователей и суммарными продажами для XOne: 0.09\n",
      "Корреляция между оценкой критиков и суммарными продажами для XOne: 0.43\n"
     ]
    }
   ],
   "source": [
    "# Вычисление корреляции\n",
    "platform = 'XOne'\n",
    "platform_data = data_fin[data_fin['platform'] == platform]\n",
    "user_corr = platform_data['user_score'].corr(platform_data['total_sales'])\n",
    "critic_corr = platform_data['critic_score'].corr(platform_data['total_sales'])\n",
    "\n",
    "print(f'Корреляция между оценкой пользователей и суммарными продажами для {platform}: {user_corr:.2f}')\n",
    "print(f'Корреляция между оценкой критиков и суммарными продажами для {platform}: {critic_corr:.2f}')"
   ]
  },
  {
   "cell_type": "code",
   "execution_count": 25,
   "metadata": {},
   "outputs": [
    {
     "name": "stdout",
     "output_type": "stream",
     "text": [
      "Корреляция между оценкой пользователей и суммарными продажами для WiiU: 0.34\n",
      "Корреляция между оценкой критиков и суммарными продажами для WiiU: 0.37\n"
     ]
    }
   ],
   "source": [
    "# Вычисление корреляции\n",
    "platform = 'WiiU'\n",
    "platform_data = data_fin[data_fin['platform'] == platform]\n",
    "user_corr = platform_data['user_score'].corr(platform_data['total_sales'])\n",
    "critic_corr = platform_data['critic_score'].corr(platform_data['total_sales'])\n",
    "\n",
    "print(f'Корреляция между оценкой пользователей и суммарными продажами для {platform}: {user_corr:.2f}')\n",
    "print(f'Корреляция между оценкой критиков и суммарными продажами для {platform}: {critic_corr:.2f}')"
   ]
  },
  {
   "cell_type": "code",
   "execution_count": 26,
   "metadata": {},
   "outputs": [
    {
     "name": "stdout",
     "output_type": "stream",
     "text": [
      "Корреляция между оценкой пользователей и суммарными продажами для PS3: 0.13\n",
      "Корреляция между оценкой критиков и суммарными продажами для PS3: 0.45\n"
     ]
    }
   ],
   "source": [
    "# Вычисление корреляции\n",
    "platform = 'PS3'\n",
    "platform_data = data_fin[data_fin['platform'] == platform]\n",
    "user_corr = platform_data['user_score'].corr(platform_data['total_sales'])\n",
    "critic_corr = platform_data['critic_score'].corr(platform_data['total_sales'])\n",
    "\n",
    "print(f'Корреляция между оценкой пользователей и суммарными продажами для {platform}: {user_corr:.2f}')\n",
    "print(f'Корреляция между оценкой критиков и суммарными продажами для {platform}: {critic_corr:.2f}')"
   ]
  },
  {
   "cell_type": "code",
   "execution_count": 27,
   "metadata": {},
   "outputs": [
    {
     "name": "stdout",
     "output_type": "stream",
     "text": [
      "Корреляция между оценкой пользователей и суммарными продажами для X360: 0.04\n",
      "Корреляция между оценкой критиков и суммарными продажами для X360: 0.53\n"
     ]
    }
   ],
   "source": [
    "# Вычисление корреляции\n",
    "platform = 'X360'\n",
    "platform_data = data_fin[data_fin['platform'] == platform]\n",
    "user_corr = platform_data['user_score'].corr(platform_data['total_sales'])\n",
    "critic_corr = platform_data['critic_score'].corr(platform_data['total_sales'])\n",
    "\n",
    "print(f'Корреляция между оценкой пользователей и суммарными продажами для {platform}: {user_corr:.2f}')\n",
    "print(f'Корреляция между оценкой критиков и суммарными продажами для {platform}: {critic_corr:.2f}')"
   ]
  },
  {
   "cell_type": "code",
   "execution_count": 28,
   "metadata": {},
   "outputs": [
    {
     "name": "stdout",
     "output_type": "stream",
     "text": [
      "Корреляция между оценкой пользователей и суммарными продажами для PC: 0.01\n",
      "Корреляция между оценкой критиков и суммарными продажами для PC: 0.17\n"
     ]
    }
   ],
   "source": [
    "# Вычисление корреляции\n",
    "platform = 'PC'\n",
    "platform_data = data_fin[data_fin['platform'] == platform]\n",
    "user_corr = platform_data['user_score'].corr(platform_data['total_sales'])\n",
    "critic_corr = platform_data['critic_score'].corr(platform_data['total_sales'])\n",
    "\n",
    "print(f'Корреляция между оценкой пользователей и суммарными продажами для {platform}: {user_corr:.2f}')\n",
    "print(f'Корреляция между оценкой критиков и суммарными продажами для {platform}: {critic_corr:.2f}')"
   ]
  },
  {
   "cell_type": "code",
   "execution_count": 29,
   "metadata": {},
   "outputs": [
    {
     "name": "stdout",
     "output_type": "stream",
     "text": [
      "Корреляция между оценкой пользователей и суммарными продажами для Wii: 0.76\n",
      "Корреляция между оценкой критиков и суммарными продажами для Wii: nan\n"
     ]
    }
   ],
   "source": [
    "# Вычисление корреляции\n",
    "platform = 'Wii'\n",
    "platform_data = data_fin[data_fin['platform'] == platform]\n",
    "user_corr = platform_data['user_score'].corr(platform_data['total_sales'])\n",
    "critic_corr = platform_data['critic_score'].corr(platform_data['total_sales'])\n",
    "\n",
    "print(f'Корреляция между оценкой пользователей и суммарными продажами для {platform}: {user_corr:.2f}')\n",
    "print(f'Корреляция между оценкой критиков и суммарными продажами для {platform}: {critic_corr:.2f}')"
   ]
  },
  {
   "cell_type": "code",
   "execution_count": 30,
   "metadata": {},
   "outputs": [
    {
     "name": "stdout",
     "output_type": "stream",
     "text": [
      "Корреляция между оценкой пользователей и суммарными продажами для PSV: 0.14\n",
      "Корреляция между оценкой критиков и суммарными продажами для PSV: 0.04\n"
     ]
    }
   ],
   "source": [
    "# Вычисление корреляции\n",
    "platform = 'PSV'\n",
    "platform_data = data_fin[data_fin['platform'] == platform]\n",
    "user_corr = platform_data['user_score'].corr(platform_data['total_sales'])\n",
    "critic_corr = platform_data['critic_score'].corr(platform_data['total_sales'])\n",
    "\n",
    "print(f'Корреляция между оценкой пользователей и суммарными продажами для {platform}: {user_corr:.2f}')\n",
    "print(f'Корреляция между оценкой критиков и суммарными продажами для {platform}: {critic_corr:.2f}')"
   ]
  },
  {
   "cell_type": "code",
   "execution_count": 31,
   "metadata": {},
   "outputs": [
    {
     "name": "stdout",
     "output_type": "stream",
     "text": [
      "Корреляция между оценкой пользователей и суммарными продажами для PSP: nan\n",
      "Корреляция между оценкой критиков и суммарными продажами для PSP: nan\n"
     ]
    }
   ],
   "source": [
    "# Вычисление корреляции\n",
    "platform = 'PSP'\n",
    "platform_data = data_fin[data_fin['platform'] == platform]\n",
    "user_corr = platform_data['user_score'].corr(platform_data['total_sales'])\n",
    "critic_corr = platform_data['critic_score'].corr(platform_data['total_sales'])\n",
    "\n",
    "print(f'Корреляция между оценкой пользователей и суммарными продажами для {platform}: {user_corr:.2f}')\n",
    "print(f'Корреляция между оценкой критиков и суммарными продажами для {platform}: {critic_corr:.2f}')"
   ]
  },
  {
   "cell_type": "markdown",
   "metadata": {},
   "source": [
    "**Вывод:** Оценка пользователей влияет на продажи в очень слабой степени. А вот взаимосвязь между оценкой критиков и продажами чаще всего умеренная"
   ]
  },
  {
   "cell_type": "code",
   "execution_count": 32,
   "metadata": {},
   "outputs": [
    {
     "data": {
      "image/png": "[encoded data removed]",
      "text/plain": [
       "<Figure size 720x432 with 1 Axes>"
      ]
     },
     "metadata": {
      "needs_background": "light"
     },
     "output_type": "display_data"
    }
   ],
   "source": [
    "# Построение гистограммы распределения жанров\n",
    "\n",
    "genre_count = data_fin['genre'].value_counts()\n",
    "\n",
    "plt.figure(figsize=(10, 6))\n",
    "sns.barplot(x=genre_count.index, y=genre_count.values, palette='viridis')\n",
    "plt.title('Распределение игр по жанрам')\n",
    "plt.xlabel('Жанр')\n",
    "plt.ylabel('Количество игр')\n",
    "\n",
    "plt.xticks(rotation=45)\n",
    "plt.show()"
   ]
  },
  {
   "cell_type": "code",
   "execution_count": 33,
   "metadata": {},
   "outputs": [
    {
     "data": {
      "image/png": "[encoded data removed]",
      "text/plain": [
       "<Figure size 720x432 with 1 Axes>"
      ]
     },
     "metadata": {
      "needs_background": "light"
     },
     "output_type": "display_data"
    }
   ],
   "source": [
    "# Построение гистограммы суммарной выручки по жанрам\n",
    "\n",
    "genre_revenue = data_fin.groupby('genre')['total_sales'].sum()\n",
    "genre_revenue = genre_revenue.sort_values(ascending=False)\n",
    "\n",
    "plt.figure(figsize=(10, 6))\n",
    "sns.barplot(x=genre_revenue.index, y=genre_revenue.values, palette='viridis')\n",
    "plt.title('Распределение суммарной выручки по жанрам')\n",
    "plt.xlabel('Жанр')\n",
    "plt.ylabel('Суммарная выручка')\n",
    "\n",
    "plt.xticks(rotation=45)\n",
    "plt.show()"
   ]
  },
  {
   "cell_type": "markdown",
   "metadata": {},
   "source": [
    "Безусловным лидером по суммарной выручке и количеству игр является жанр \"action\". На втором месте по выручке занимает жанр \"Shooter\", а вот по количеству игр он только на пятом месте. Третье место по суммарной выручке у жанра \"Sports\", занимающего в рейтинге количества игр четвертую позицию. А вот у жанра Role-Playing второе место по количеству игр, но лишь четвертое по суммарной выручке. \n",
    "\n",
    "В целом, можно выделить ТОП-4 жанров, приносящих максимальную выручку: Action, Shooter, Sports, Role-Playing. После них идет снижение выручки"
   ]
  },
  {
   "cell_type": "markdown",
   "metadata": {},
   "source": [
    "**Шаг 4. Составьте портрет пользователя каждого региона**"
   ]
  },
  {
   "cell_type": "code",
   "execution_count": 34,
   "metadata": {},
   "outputs": [
    {
     "data": {
      "image/png": "[encoded data removed]",
      "text/plain": [
       "<Figure size 720x432 with 1 Axes>"
      ]
     },
     "metadata": {},
     "output_type": "display_data"
    },
    {
     "data": {
      "image/png": "[encoded data removed]",
      "text/plain": [
       "<Figure size 720x432 with 1 Axes>"
      ]
     },
     "metadata": {},
     "output_type": "display_data"
    },
    {
     "data": {
      "image/png": "[encoded data removed]",
      "text/plain": [
       "<Figure size 720x432 with 1 Axes>"
      ]
     },
     "metadata": {},
     "output_type": "display_data"
    },
    {
     "data": {
      "image/png": "[encoded data removed]",
      "text/plain": [
       "<Figure size 720x432 with 1 Axes>"
      ]
     },
     "metadata": {},
     "output_type": "display_data"
    }
   ],
   "source": [
    "# Определите для пользователя каждого региона cамые популярные платформы (топ-5).\n",
    "\n",
    "platform_sales = data_fin.groupby('platform').sum()\n",
    "\n",
    "# Определение топ-5 платформ по продажам в каждом регионе\n",
    "top_platforms_na = platform_sales['na_sales'].sort_values(ascending=False).head(5)\n",
    "top_platforms_eu = platform_sales['eu_sales'].sort_values(ascending=False).head(5)\n",
    "top_platforms_jp = platform_sales['jp_sales'].sort_values(ascending=False).head(5)\n",
    "top_platforms_os = platform_sales['other_sales'].sort_values(ascending=False).head(5)\n",
    "\n",
    "\n",
    "# Функция для построения круговой диаграммы\n",
    "\n",
    "def plot_top_platforms(data_fin, region, color):\n",
    "    plt.figure(figsize=(10, 6))\n",
    "    plt.pie(data_fin.values, labels=data_fin.index, autopct='%1.1f%%')\n",
    "    plt.title(f'Топ-5 платформ по продажам в регионе {region}')\n",
    "    plt.axis('equal')\n",
    "    plt.show()\n",
    "\n",
    "plot_top_platforms(top_platforms_na, 'Северная Америка', 'Blues')\n",
    "\n",
    "# Построение круговой диаграммы для EU\n",
    "plot_top_platforms(top_platforms_eu, 'Европа', 'Greens')\n",
    "\n",
    "# Построение круговой диаграммы для JP\n",
    "plot_top_platforms(top_platforms_jp, 'Япония', 'Reds')\n",
    "\n",
    "# Построение круговой диаграммы для Other_sales\n",
    "plot_top_platforms(top_platforms_os, 'Другие страны', 'Greys')\n",
    "\n"
   ]
  },
  {
   "cell_type": "code",
   "execution_count": 35,
   "metadata": {},
   "outputs": [
    {
     "name": "stdout",
     "output_type": "stream",
     "text": [
      "NA доля продаж (%):\n",
      " platform\n",
      "PS4     38.996322\n",
      "XOne    32.139044\n",
      "X360    11.191521\n",
      "3DS      8.953217\n",
      "PS3      8.719896\n",
      "Name: na_sales, dtype: float64\n",
      "\n",
      "EU доля продаж (%):\n",
      " platform\n",
      "PS4     55.120380\n",
      "XOne    19.604103\n",
      "PS3     10.825704\n",
      "PC       7.616989\n",
      "3DS      6.832825\n",
      "Name: eu_sales, dtype: float64\n",
      "\n",
      "JP доля продаж (%):\n",
      " platform\n",
      "3DS     47.915087\n",
      "PS4     16.267735\n",
      "PSV     15.747861\n",
      "PS3     12.152063\n",
      "WiiU     7.917253\n",
      "Name: jp_sales, dtype: float64\n",
      "\n",
      "Other доля продаж (%):\n",
      " platform\n",
      "PS4     59.784946\n",
      "XOne    16.827957\n",
      "PS3     12.594086\n",
      "X360     5.846774\n",
      "3DS      4.946237\n",
      "Name: other_sales, dtype: float64\n"
     ]
    }
   ],
   "source": [
    "# Вычисление долей продаж для каждого региона\n",
    "def calculate_sales_shares(data_fin):\n",
    "    total_sales = data_fin.sum()\n",
    "    shares = (data_fin / total_sales) * 100\n",
    "    return shares\n",
    "\n",
    "shares_na = calculate_sales_shares(top_platforms_na)\n",
    "shares_eu = calculate_sales_shares(top_platforms_eu)\n",
    "shares_jp = calculate_sales_shares(top_platforms_jp)\n",
    "shares_os = calculate_sales_shares(top_platforms_os)\n",
    "\n",
    "\n",
    "# Вывод долей продаж\n",
    "print(\"NA доля продаж (%):\\n\", shares_na)\n",
    "print(\"\\nEU доля продаж (%):\\n\", shares_eu)\n",
    "print(\"\\nJP доля продаж (%):\\n\", shares_jp)\n",
    "print(\"\\nOther доля продаж (%):\\n\", shares_os)\n"
   ]
  },
  {
   "cell_type": "markdown",
   "metadata": {},
   "source": [
    "В северной Америке лидируют платформы: PS4, XOne, X360, 3DS, PS3\n",
    "В Европе лидируют платформы:  PS4, XOne, PS3, PC, 3DS\n",
    "В Японии лидируют платформы: 3DS, PS4, PSV, PS3, WiiU\n",
    "В Других странах лидируют платформы: PS4, XOne, PS3, X360, 3DS\n",
    "\n",
    "Мы можем наблюдать, что распределение доли продаж среди ТОП-5 равномерное, но можно выделиь лидера PS4 во всех регионах кроме Японии. В Японии лидер - 3DS. Комбинация платформ в разных регионах разная, хотя набор платформ в ТОП-5 схож. Но в топе в основном PS4, XOne, PS3"
   ]
  },
  {
   "cell_type": "code",
   "execution_count": 36,
   "metadata": {},
   "outputs": [
    {
     "data": {
      "image/png": "[encoded data removed]",
      "text/plain": [
       "<Figure size 720x432 with 1 Axes>"
      ]
     },
     "metadata": {},
     "output_type": "display_data"
    },
    {
     "data": {
      "image/png": "[encoded data removed]",
      "text/plain": [
       "<Figure size 720x432 with 1 Axes>"
      ]
     },
     "metadata": {},
     "output_type": "display_data"
    },
    {
     "data": {
      "image/png": "[encoded data removed]",
      "text/plain": [
       "<Figure size 720x432 with 1 Axes>"
      ]
     },
     "metadata": {},
     "output_type": "display_data"
    },
    {
     "data": {
      "image/png": "[encoded data removed]",
      "text/plain": [
       "<Figure size 720x432 with 1 Axes>"
      ]
     },
     "metadata": {},
     "output_type": "display_data"
    }
   ],
   "source": [
    "# Определите для пользователя каждого региона cамые популярные жанры (топ-5).\n",
    "\n",
    "genre_sales = data_fin.groupby('genre').sum()\n",
    "\n",
    "# Определение топ-5 жанров по продажам в каждом регионе\n",
    "top_genre_na = genre_sales['na_sales'].sort_values(ascending=False).head(5)\n",
    "top_genre_eu = genre_sales['eu_sales'].sort_values(ascending=False).head(5)\n",
    "top_genre_jp = genre_sales['jp_sales'].sort_values(ascending=False).head(5)\n",
    "top_genre_os = genre_sales['other_sales'].sort_values(ascending=False).head(5)\n",
    "\n",
    "\n",
    "# Функция для построения круговой диаграммы\n",
    "\n",
    "def plot_top_genre_pie(data_fin, region, color):\n",
    "    plt.figure(figsize=(10, 6))\n",
    "    plt.pie(data_fin.values, labels=data_fin.index, autopct='%1.1f%%')\n",
    "    plt.title(f'Топ-5 жанров по продажам в регионе {region}')\n",
    "    plt.axis('equal')\n",
    "    plt.show()\n",
    "\n",
    "plot_top_genre_pie(top_genre_na, 'Северная Америка', 'Blues')\n",
    "\n",
    "# Построение круговой диаграммы для EU\n",
    "plot_top_genre_pie(top_genre_eu, 'Европа', 'Greens')\n",
    "\n",
    "# Построение круговой диаграммы для JP\n",
    "plot_top_genre_pie(top_genre_jp, 'Япония', 'Reds')\n",
    "\n",
    "# Построение круговой диаграммы для Other_sales\n",
    "plot_top_genre_pie(top_genre_os, 'Другие страны', 'Greys')"
   ]
  },
  {
   "cell_type": "code",
   "execution_count": 37,
   "metadata": {},
   "outputs": [
    {
     "name": "stdout",
     "output_type": "stream",
     "text": [
      "NA доля продаж (%):\n",
      " platform\n",
      "PS4     38.996322\n",
      "XOne    32.139044\n",
      "X360    11.191521\n",
      "3DS      8.953217\n",
      "PS3      8.719896\n",
      "Name: na_sales, dtype: float64\n",
      "\n",
      "EU доля продаж (%):\n",
      " platform\n",
      "PS4     55.120380\n",
      "XOne    19.604103\n",
      "PS3     10.825704\n",
      "PC       7.616989\n",
      "3DS      6.832825\n",
      "Name: eu_sales, dtype: float64\n",
      "\n",
      "JP доля продаж (%):\n",
      " platform\n",
      "3DS     47.915087\n",
      "PS4     16.267735\n",
      "PSV     15.747861\n",
      "PS3     12.152063\n",
      "WiiU     7.917253\n",
      "Name: jp_sales, dtype: float64\n",
      "\n",
      "Other доля продаж (%):\n",
      " platform\n",
      "PS4     59.784946\n",
      "XOne    16.827957\n",
      "PS3     12.594086\n",
      "X360     5.846774\n",
      "3DS      4.946237\n",
      "Name: other_sales, dtype: float64\n",
      "NA доля продаж (%):\n",
      " genre\n",
      "Shooter         32.095857\n",
      "Action          29.459789\n",
      "Sports          18.736799\n",
      "Role-Playing    13.594639\n",
      "Misc             6.112916\n",
      "Name: na_sales, dtype: float64\n",
      "\n",
      "EU доля продаж (%):\n",
      " genre\n",
      "Action          32.721378\n",
      "Shooter         28.707882\n",
      "Sports          20.036805\n",
      "Role-Playing    12.342812\n",
      "Racing           6.191123\n",
      "Name: eu_sales, dtype: float64\n",
      "\n",
      "JP доля продаж (%):\n",
      " genre\n",
      "Role-Playing    40.159814\n",
      "Action          38.123470\n",
      "Fighting         8.209821\n",
      "Misc             7.230313\n",
      "Shooter          6.276582\n",
      "Name: jp_sales, dtype: float64\n",
      "\n",
      "Other доля продаж (%):\n",
      " genre\n",
      "Action          31.730634\n",
      "Shooter         30.268522\n",
      "Sports          20.188387\n",
      "Role-Playing    12.146774\n",
      "Misc             5.665683\n",
      "Name: other_sales, dtype: float64\n"
     ]
    }
   ],
   "source": [
    "# Вычисление долей продаж для каждого региона\n",
    "def calculate_sales_shares(data_fin):\n",
    "    total_sales = data_fin.sum()\n",
    "    shares = (data_fin / total_sales) * 100\n",
    "    return shares\n",
    "\n",
    "shares_na = calculate_sales_shares(top_platforms_na)\n",
    "shares_eu = calculate_sales_shares(top_platforms_eu)\n",
    "shares_jp = calculate_sales_shares(top_platforms_jp)\n",
    "shares_os = calculate_sales_shares(top_platforms_os)\n",
    "\n",
    "\n",
    "# Вывод долей продаж\n",
    "print(\"NA доля продаж (%):\\n\", shares_na)\n",
    "print(\"\\nEU доля продаж (%):\\n\", shares_eu)\n",
    "print(\"\\nJP доля продаж (%):\\n\", shares_jp)\n",
    "print(\"\\nOther доля продаж (%):\\n\", shares_os)\n",
    "# Вычисление долей продаж для каждого региона\n",
    "\n",
    "shares_na = calculate_sales_shares(top_genre_na)\n",
    "shares_eu = calculate_sales_shares(top_genre_eu)\n",
    "shares_jp = calculate_sales_shares(top_genre_jp)\n",
    "shares_os = calculate_sales_shares(top_genre_os)\n",
    "\n",
    "\n",
    "# Вывод долей продаж\n",
    "print(\"NA доля продаж (%):\\n\", shares_na)\n",
    "print(\"\\nEU доля продаж (%):\\n\", shares_eu)\n",
    "print(\"\\nJP доля продаж (%):\\n\", shares_jp)\n",
    "print(\"\\nOther доля продаж (%):\\n\", shares_os)\n"
   ]
  },
  {
   "cell_type": "markdown",
   "metadata": {},
   "source": [
    "В регионах Северная Америка и Европа мы видим одинаковый набор жанров в ТОП-3: Action, Sports, Shooter\n",
    "В Японии на первое место с большим отрывом выходят жанры Role-Playing и Action."
   ]
  },
  {
   "cell_type": "code",
   "execution_count": 38,
   "metadata": {},
   "outputs": [
    {
     "name": "stdout",
     "output_type": "stream",
     "text": [
      "Корреляция между рейтингом и na_sales: 0.09397845795738925\n",
      "Корреляция между рейтингом и eu_sales: 0.05644289977644462\n",
      "Корреляция между рейтингом и jp_sales: -0.003736476105275465\n",
      "Корреляция между рейтингом и other_sales: 0.08800109883855649\n"
     ]
    },
    {
     "name": "stderr",
     "output_type": "stream",
     "text": [
      "/tmp/ipykernel_48/3476489556.py:12: SettingWithCopyWarning: \n",
      "A value is trying to be set on a copy of a slice from a DataFrame.\n",
      "Try using .loc[row_indexer,col_indexer] = value instead\n",
      "\n",
      "See the caveats in the documentation: https://pandas.pydata.org/pandas-docs/stable/user_guide/indexing.html#returning-a-view-versus-a-copy\n",
      "  data_fin['numeric_rating'] = data_fin['rating'].map(rating_mapping)\n"
     ]
    }
   ],
   "source": [
    "# Преобразование категориальных данных в числовые.\n",
    "rating_mapping = {\n",
    "    'E': 1,  # Everyone\n",
    "    'E10+': 2,  # Everyone 10 and older\n",
    "    'T': 3,  # Teen\n",
    "    'M': 4,  # Mature\n",
    "    'AO': 5,  # Adults Only\n",
    "    'K-A': 0,  # Kids to Adults (старый рейтинг, заменён на E)\n",
    "    'EC': 0  # Early Childhood\n",
    "}\n",
    "\n",
    "data_fin['numeric_rating'] = data_fin['rating'].map(rating_mapping)\n",
    "\n",
    "# Рассчитайте корреляцию для различных регионов\n",
    "regions = ['na_sales', 'eu_sales', 'jp_sales', 'other_sales']\n",
    "\n",
    "for region in regions:\n",
    "    corr_value = data_fin['numeric_rating'].corr(data[region])\n",
    "    print(f'Корреляция между рейтингом и {region}: {corr_value}')"
   ]
  },
  {
   "cell_type": "markdown",
   "metadata": {},
   "source": [
    "Выявлена во всех регионах кроме Японии слабая положительная связь. В Японии - слабая отрицательная связь"
   ]
  },
  {
   "cell_type": "markdown",
   "id": "610ff88d",
   "metadata": {
    "id": "5766e785"
   },
   "source": [
    "<div class=\"alert alert-block alert-danger\">\n",
    "<b>❌Комментарий ревьюера:</b> \n",
    "    \n",
    "Давай визуализируем продажи по рейтингам тоже (топ-5 для каждого региона), так информация будет гораздо нагляднее, ведь мы делаем исследование для отдела маркетинга :) Тут подойдет `barplot` или `piechart`</div>"
   ]
  },
  {
   "cell_type": "markdown",
   "id": "610ff88d",
   "metadata": {
    "id": "5766e785"
   },
   "source": [
    "<div class=\"alert alert-block alert-danger\">\n",
    "<b>❌Комментарий ревьюера 2:</b> \n",
    "    \n",
    "Продажи по жанрам уже были визуализированы выше, нужно добавить диаграммы для продаж по **рейтингам ESRB**</div>"
   ]
  },
  {
   "cell_type": "code",
   "execution_count": 39,
   "metadata": {},
   "outputs": [
    {
     "data": {
      "image/png": "[encoded data removed]",
      "text/plain": [
       "<Figure size 576x360 with 1 Axes>"
      ]
     },
     "metadata": {},
     "output_type": "display_data"
    },
    {
     "data": {
      "image/png": "[encoded data removed]",
      "text/plain": [
       "<Figure size 576x360 with 1 Axes>"
      ]
     },
     "metadata": {},
     "output_type": "display_data"
    },
    {
     "data": {
      "image/png": "[encoded data removed]",
      "text/plain": [
       "<Figure size 576x360 with 1 Axes>"
      ]
     },
     "metadata": {},
     "output_type": "display_data"
    },
    {
     "data": {
      "image/png": "[encoded data removed]",
      "text/plain": [
       "<Figure size 576x360 with 1 Axes>"
      ]
     },
     "metadata": {},
     "output_type": "display_data"
    }
   ],
   "source": [
    "# Определите для пользователя каждого региона cамые популярные рейтинги (топ-5).\n",
    "\n",
    "rating_sales = data_fin.groupby('rating').sum()\n",
    "\n",
    "# Определение топ-5 жанров по продажам в каждом регионе\n",
    "top_rating_na = rating_sales['na_sales'].sort_values(ascending=False).head(5)\n",
    "top_rating_eu = rating_sales['eu_sales'].sort_values(ascending=False).head(5)\n",
    "top_rating_jp = rating_sales['jp_sales'].sort_values(ascending=False).head(5)\n",
    "top_rating_os = rating_sales['other_sales'].sort_values(ascending=False).head(5)# Визуализация круговых диаграмм\n",
    "def plot_sales_pie(shares, region, color):\n",
    "    plt.figure(figsize=(8, 5))\n",
    "    plt.pie(shares.values, labels=shares.index, autopct='%1.1f%%')\n",
    "    plt.title(f'Продажи по рейтингам ESRB в регионе {region}')\n",
    "    plt.axis('equal')\n",
    "    plt.show()\n",
    "    \n",
    "# Построение круговых диаграмм для каждого региона\n",
    "plot_sales_pie(top_rating_na, 'Северная Америка', 'Blues')\n",
    "plot_sales_pie(top_rating_eu, 'Европа', 'Greens')\n",
    "plot_sales_pie(top_rating_jp, 'Япония', 'Reds')\n",
    "plot_sales_pie(top_rating_os, 'Другие страны', 'Greys')"
   ]
  },
  {
   "cell_type": "markdown",
   "metadata": {},
   "source": [
    "Во всех регионах кроме Японии лидируют продажи по рейтингу М, на втором месте - Е. В Японии лидер продаж - Т, на втором месте - также Е, а М занимает третью строчку"
   ]
  },
  {
   "cell_type": "markdown",
   "metadata": {},
   "source": [
    "В Японии большинство игр не имеют рейтинга ESRB связано с тем, что это нутренние особенности страны"
   ]
  },
  {
   "cell_type": "markdown",
   "metadata": {},
   "source": [
    "**Шаг 5. Проверьте гипотезы**"
   ]
  },
  {
   "cell_type": "markdown",
   "metadata": {},
   "source": [
    "Средние пользовательские рейтинги платформ Xbox One и PC одинаковые\n",
    "\n",
    "1. **Формулировка гипотез**:\n",
    "    - Нулевая гипотеза (H0): Средние пользовательские рейтинги для платформ Xbox One и PC одинаковые (μ_XboxOne = μ_PC).\n",
    "    - Альтернативная гипотеза (H1): Средние пользовательские рейтинги для платформ Xbox One и PC различаются (μ_XboxOne ≠ μ_PC).\n",
    "\n",
    "\n",
    "2. **Предварительная обработка данных**:\n",
    "    - Удаление пропусков в данных.\n",
    "    - Выбор данных по соответствующим платформам.\n",
    "\n",
    "\n",
    "3. **Выполнение t-теста для независимых выборок**.\n",
    "4. **Интерпретация результатов**."
   ]
  },
  {
   "cell_type": "code",
   "execution_count": 40,
   "metadata": {},
   "outputs": [
    {
     "name": "stdout",
     "output_type": "stream",
     "text": [
      "t-статистика: 1.577760647447497\n",
      "p-значение: 0.11601398086668832\n",
      "Не отвергаем нулевую гипотезу: средние пользовательские рейтинги не различаются.\n"
     ]
    }
   ],
   "source": [
    "# Выбор данных для платформ Xbox One и PC и удаление пропусков\n",
    "xbox_one_scores = data_fin.loc[data_fin['platform'] == 'XOne', 'user_score'].dropna()\n",
    "pc_scores = data_fin.loc[data['platform'] == 'PC', 'user_score'].dropna()\n",
    "data_fin = data_fin[data_fin['user_score'] != -1]\n",
    "\n",
    "# Создание выборки для Xbox One и фильтрация значений '-1'\n",
    "xbox_one_scores = data_fin.loc[(data_fin['platform'] == 'XOne') & (data_fin['user_score'] != -1), 'user_score'].dropna()\n",
    "\n",
    "# Создание выборки для PC и фильтрация значений '-1'\n",
    "pc_scores = data_fin.loc[(data_fin['platform'] == 'PC') & (data_fin['user_score'] != -1), 'user_score'].dropna()\n",
    "\n",
    "\n",
    "# Выполнение t-теста для независимых выборок\n",
    "t_stat, p_value = stats.ttest_ind(xbox_one_scores, pc_scores, equal_var=False)\n",
    "\n",
    "print(f\"t-статистика: {t_stat}\")\n",
    "print(f\"p-значение: {p_value}\")\n",
    "\n",
    "# Интерпретация результатов\n",
    "alpha = 0.05\n",
    "if p_value < alpha:\n",
    "    print(\"Отвергаем нулевую гипотезу: средние пользовательские рейтинги различаются.\")\n",
    "else:\n",
    "    print(\"Не отвергаем нулевую гипотезу: средние пользовательские рейтинги не различаются.\")"
   ]
  },
  {
   "cell_type": "code",
   "execution_count": 41,
   "metadata": {},
   "outputs": [
    {
     "name": "stdout",
     "output_type": "stream",
     "text": [
      "False\n",
      "False\n"
     ]
    }
   ],
   "source": [
    "# код ревьюера\n",
    "\n",
    "print(-1 in xbox_one_scores.unique())\n",
    "print(-1 in pc_scores.unique())"
   ]
  },
  {
   "cell_type": "markdown",
   "metadata": {},
   "source": [
    "Проверяем гипотезу: Средние пользовательские рейтинги жанров Action (англ. «действие», экшен-игры) и Sports (англ. «спортивные соревнования») разные.\n",
    "\n",
    "Нулевая гипотеза (H0): Средние рейтинги жанров Action и Sports одинаковые.\n",
    "Альтернативная гипотеза (H1): Средние рейтинги жанров Action и Sports разные."
   ]
  },
  {
   "cell_type": "code",
   "execution_count": 42,
   "metadata": {},
   "outputs": [
    {
     "name": "stdout",
     "output_type": "stream",
     "text": [
      "t-статистика: 8.384614718486121\n",
      "p-значение: 1.1825550382644557e-14\n",
      "Отвергаем нулевую гипотезу: средние пользовательские рейтинги различаются.\n"
     ]
    }
   ],
   "source": [
    "# Выбор данных для платформ Xbox One и PC и удаление пропусков\n",
    "action_scores = data_fin.loc[(data_fin['genre'] == 'Action') & (data_fin['user_score'] != -1), 'user_score'].dropna()\n",
    "sports_scores = data_fin.loc[(data_fin['genre'] == 'Sports') & (data_fin['user_score'] != -1), 'user_score'].dropna()\n",
    "\n",
    "# Выполнение t-теста для независимых выборок\n",
    "t_stat, p_value = stats.ttest_ind(action_scores, sports_scores, equal_var=False)\n",
    "\n",
    "print(f\"t-статистика: {t_stat}\")\n",
    "print(f\"p-значение: {p_value}\")\n",
    "\n",
    "# Интерпретация результатов\n",
    "alpha = 0.05\n",
    "if p_value < alpha:\n",
    "    print(\"Отвергаем нулевую гипотезу: средние пользовательские рейтинги различаются.\")\n",
    "else:\n",
    "    print(\"Не отвергаем нулевую гипотезу: средние пользовательские рейтинги не различаются.\")"
   ]
  },
  {
   "cell_type": "code",
   "execution_count": 43,
   "metadata": {},
   "outputs": [
    {
     "name": "stdout",
     "output_type": "stream",
     "text": [
      "False\n",
      "False\n"
     ]
    }
   ],
   "source": [
    "# код ревьюера\n",
    "\n",
    "print(-1 in action_scores.unique())\n",
    "print(-1 in sports_scores.unique())"
   ]
  },
  {
   "cell_type": "markdown",
   "metadata": {},
   "source": [
    " **Вывод**\n",
    "\n",
    "1. Изначально проводилась проверка данных. Была изменены названия столбцов, выявлены и отфильтрованы дубликаты, заменены пропуски там, где это возможно\n",
    "\n",
    "2. Изучили данные: \n",
    "* В 1994 году произошел резкий скачок выпуска игр (почти в 2 раза - с 62 по 121). Максимальное количество игр (1498) было выпущено в 2009 году. Затем пошел спад и в 2012 году годовой выпуск сократился почти в 2 раза - с 1136 до 653\n",
    "\n",
    "* В среднем активный срок деятельности каждой платформы - 5 лет.\n",
    "\n",
    "* Актуальный период берем 3 года, т.к. при большем значении можем \"упустить\" цикл развития платормы, а при меньшем - не увидеть\n",
    "\n",
    "* Мы можем наблюдать, что распределение доли продаж среди ТОП-5 платорм равномерное, но можно выделиь лидера PS4 во всех регионах кроме Японии. В Японии лидер - 3DS. Комбинация платформ в разных регионах разная, хотя набор платформ в ТОП-5 схож. Но в топе в основном PS4, XOne, PS3\n",
    "\n",
    "* Безусловным лидером по суммарной выручке и количеству игр является жанр \"action\". На втором месте по выручке занимает жанр \"sports\", а вот по количеству игр он только на четвертом месте. Третье место по суммарной выручке у жанра \"shooter\", занимающего в рейтинге количества игр лишь пятую позицию. А вот у жанра Role-Playing второе место по количеству игр, но лишь четвертое по суммарной выручке. \n",
    "\n",
    "    * В регионах Северная Америка и Европа мы видим одинаковый набор жанров в ТОП-3: Action, Sports, Shooter\n",
    "В Японии на первое место с большим отрывом выходят жанры Role-Playing и Action.\n",
    "    \n",
    "В целом, можно выделить ТОП-4 жанров, приносящих максимальную выручку: Action, Sports, Shooter, Role-Playing. После них идет снижение выручки\n",
    "\n",
    "\n",
    "* Выявлена во всех регионах кроме Японии слабая положительная связь влияния рейтинга ESRB на продажи. В Японии - слабая отрицательная связь\n",
    "\n",
    "* На продажи влияют оценки критиков, но практически не влияют оценки пользователей\n",
    "\n",
    "* Проверка гипотез: \n",
    "\n",
    "Средние пользовательские рейтинги платформ Xbox One и PC одинаковые\n",
    "\n",
    "Средние пользовательские рейтинги жанров Action и Sports разные."
   ]
  }
 ],
 "metadata": {
  "ExecuteTimeLog": [
   {
    "duration": 358,
    "start_time": "2024-07-07T20:39:42.032Z"
   },
   {
    "duration": 97,
    "start_time": "2024-07-07T20:39:42.392Z"
   },
   {
    "duration": 17,
    "start_time": "2024-07-07T20:39:42.490Z"
   },
   {
    "duration": 13,
    "start_time": "2024-07-07T20:46:15.150Z"
   },
   {
    "duration": 12,
    "start_time": "2024-07-07T20:50:36.273Z"
   },
   {
    "duration": 915,
    "start_time": "2024-07-07T20:54:22.643Z"
   },
   {
    "duration": 235,
    "start_time": "2024-07-07T20:54:36.280Z"
   },
   {
    "duration": 45,
    "start_time": "2024-07-08T08:10:28.341Z"
   },
   {
    "duration": 6,
    "start_time": "2024-07-08T08:10:39.500Z"
   },
   {
    "duration": 367,
    "start_time": "2024-07-08T08:10:46.502Z"
   },
   {
    "duration": 114,
    "start_time": "2024-07-08T08:10:46.870Z"
   },
   {
    "duration": 22,
    "start_time": "2024-07-08T08:10:46.985Z"
   },
   {
    "duration": 83,
    "start_time": "2024-07-08T08:10:47.008Z"
   },
   {
    "duration": 16,
    "start_time": "2024-07-08T08:10:47.094Z"
   },
   {
    "duration": 19,
    "start_time": "2024-07-08T08:10:47.111Z"
   },
   {
    "duration": 25,
    "start_time": "2024-07-08T08:12:05.257Z"
   },
   {
    "duration": 45,
    "start_time": "2024-07-08T08:14:18.664Z"
   },
   {
    "duration": 359,
    "start_time": "2024-07-08T08:14:23.213Z"
   },
   {
    "duration": 55,
    "start_time": "2024-07-08T08:14:23.574Z"
   },
   {
    "duration": 19,
    "start_time": "2024-07-08T08:14:23.630Z"
   },
   {
    "duration": 25,
    "start_time": "2024-07-08T08:14:23.651Z"
   },
   {
    "duration": 22,
    "start_time": "2024-07-08T08:14:23.678Z"
   },
   {
    "duration": 9,
    "start_time": "2024-07-08T08:14:23.702Z"
   },
   {
    "duration": 64,
    "start_time": "2024-07-08T08:14:23.713Z"
   },
   {
    "duration": 54,
    "start_time": "2024-07-08T08:14:44.495Z"
   },
   {
    "duration": 60,
    "start_time": "2024-07-08T08:15:10.154Z"
   },
   {
    "duration": 83,
    "start_time": "2024-07-08T08:27:20.116Z"
   },
   {
    "duration": 1143,
    "start_time": "2024-07-08T08:31:09.251Z"
   },
   {
    "duration": 973,
    "start_time": "2024-07-08T08:31:21.960Z"
   },
   {
    "duration": 18,
    "start_time": "2024-07-08T08:32:14.475Z"
   },
   {
    "duration": 939,
    "start_time": "2024-07-08T08:32:36.479Z"
   },
   {
    "duration": 8,
    "start_time": "2024-07-08T08:33:09.074Z"
   },
   {
    "duration": 21,
    "start_time": "2024-07-08T08:33:30.700Z"
   },
   {
    "duration": 33,
    "start_time": "2024-07-08T08:33:42.530Z"
   },
   {
    "duration": 992,
    "start_time": "2024-07-08T08:36:07.228Z"
   },
   {
    "duration": 14,
    "start_time": "2024-07-08T08:37:42.622Z"
   },
   {
    "duration": 15,
    "start_time": "2024-07-08T08:39:19.494Z"
   },
   {
    "duration": 17,
    "start_time": "2024-07-08T08:39:28.811Z"
   },
   {
    "duration": 22,
    "start_time": "2024-07-08T08:39:56.581Z"
   },
   {
    "duration": 76,
    "start_time": "2024-07-08T08:43:44.755Z"
   },
   {
    "duration": 59,
    "start_time": "2024-07-08T08:44:16.918Z"
   },
   {
    "duration": 409,
    "start_time": "2024-07-08T08:44:24.444Z"
   },
   {
    "duration": 56,
    "start_time": "2024-07-08T08:44:24.855Z"
   },
   {
    "duration": 19,
    "start_time": "2024-07-08T08:44:24.912Z"
   },
   {
    "duration": 17,
    "start_time": "2024-07-08T08:44:24.933Z"
   },
   {
    "duration": 14,
    "start_time": "2024-07-08T08:44:24.952Z"
   },
   {
    "duration": 9,
    "start_time": "2024-07-08T08:44:24.967Z"
   },
   {
    "duration": 64,
    "start_time": "2024-07-08T08:44:24.978Z"
   },
   {
    "duration": 68,
    "start_time": "2024-07-08T08:44:25.044Z"
   },
   {
    "duration": 8,
    "start_time": "2024-07-08T08:44:25.114Z"
   },
   {
    "duration": 18,
    "start_time": "2024-07-08T08:45:57.741Z"
   },
   {
    "duration": 427,
    "start_time": "2024-07-08T08:46:03.674Z"
   },
   {
    "duration": 56,
    "start_time": "2024-07-08T08:46:04.103Z"
   },
   {
    "duration": 20,
    "start_time": "2024-07-08T08:46:04.161Z"
   },
   {
    "duration": 14,
    "start_time": "2024-07-08T08:46:04.183Z"
   },
   {
    "duration": 15,
    "start_time": "2024-07-08T08:46:04.199Z"
   },
   {
    "duration": 10,
    "start_time": "2024-07-08T08:46:04.215Z"
   },
   {
    "duration": 46,
    "start_time": "2024-07-08T08:46:04.226Z"
   },
   {
    "duration": 54,
    "start_time": "2024-07-08T08:46:04.273Z"
   },
   {
    "duration": 33,
    "start_time": "2024-07-08T08:46:04.328Z"
   },
   {
    "duration": 22,
    "start_time": "2024-07-08T08:48:38.501Z"
   },
   {
    "duration": 69,
    "start_time": "2024-07-08T09:01:35.315Z"
   },
   {
    "duration": 69,
    "start_time": "2024-07-08T09:02:28.124Z"
   },
   {
    "duration": 16,
    "start_time": "2024-07-08T09:03:31.883Z"
   },
   {
    "duration": 373,
    "start_time": "2024-07-08T14:11:57.620Z"
   },
   {
    "duration": 55,
    "start_time": "2024-07-08T14:11:57.996Z"
   },
   {
    "duration": 20,
    "start_time": "2024-07-08T14:11:58.053Z"
   },
   {
    "duration": 20,
    "start_time": "2024-07-08T14:11:58.075Z"
   },
   {
    "duration": 16,
    "start_time": "2024-07-08T14:11:58.097Z"
   },
   {
    "duration": 9,
    "start_time": "2024-07-08T14:11:58.115Z"
   },
   {
    "duration": 36,
    "start_time": "2024-07-08T14:11:58.126Z"
   },
   {
    "duration": 63,
    "start_time": "2024-07-08T14:11:58.164Z"
   },
   {
    "duration": 34,
    "start_time": "2024-07-08T14:11:58.229Z"
   },
   {
    "duration": 17,
    "start_time": "2024-07-08T14:11:58.264Z"
   },
   {
    "duration": 5,
    "start_time": "2024-07-08T14:14:32.439Z"
   },
   {
    "duration": 3,
    "start_time": "2024-07-08T14:26:37.766Z"
   },
   {
    "duration": 383,
    "start_time": "2024-07-08T14:26:47.388Z"
   },
   {
    "duration": 54,
    "start_time": "2024-07-08T14:26:47.773Z"
   },
   {
    "duration": 26,
    "start_time": "2024-07-08T14:26:47.828Z"
   },
   {
    "duration": 15,
    "start_time": "2024-07-08T14:26:47.856Z"
   },
   {
    "duration": 18,
    "start_time": "2024-07-08T14:26:47.873Z"
   },
   {
    "duration": 10,
    "start_time": "2024-07-08T14:26:47.893Z"
   },
   {
    "duration": 28,
    "start_time": "2024-07-08T14:26:47.905Z"
   },
   {
    "duration": 74,
    "start_time": "2024-07-08T14:26:47.935Z"
   },
   {
    "duration": 22,
    "start_time": "2024-07-08T14:26:48.011Z"
   },
   {
    "duration": 31,
    "start_time": "2024-07-08T14:26:48.035Z"
   },
   {
    "duration": 21,
    "start_time": "2024-07-08T14:26:48.067Z"
   },
   {
    "duration": 73,
    "start_time": "2024-07-08T14:27:09.822Z"
   },
   {
    "duration": 5,
    "start_time": "2024-07-08T14:28:22.062Z"
   },
   {
    "duration": 7,
    "start_time": "2024-07-08T14:29:10.996Z"
   },
   {
    "duration": 7,
    "start_time": "2024-07-08T14:29:33.421Z"
   },
   {
    "duration": 7,
    "start_time": "2024-07-08T14:32:03.957Z"
   },
   {
    "duration": 7,
    "start_time": "2024-07-08T14:32:54.926Z"
   },
   {
    "duration": 573,
    "start_time": "2024-07-08T14:34:24.820Z"
   },
   {
    "duration": 242,
    "start_time": "2024-07-08T14:34:34.811Z"
   },
   {
    "duration": 11,
    "start_time": "2024-07-08T14:39:52.315Z"
   },
   {
    "duration": 36,
    "start_time": "2024-07-08T14:40:56.963Z"
   },
   {
    "duration": 587,
    "start_time": "2024-07-08T14:41:45.914Z"
   },
   {
    "duration": 56,
    "start_time": "2024-07-08T14:41:46.503Z"
   },
   {
    "duration": 18,
    "start_time": "2024-07-08T14:41:46.562Z"
   },
   {
    "duration": 19,
    "start_time": "2024-07-08T14:41:46.581Z"
   },
   {
    "duration": 21,
    "start_time": "2024-07-08T14:41:46.602Z"
   },
   {
    "duration": 9,
    "start_time": "2024-07-08T14:41:46.624Z"
   },
   {
    "duration": 36,
    "start_time": "2024-07-08T14:41:46.635Z"
   },
   {
    "duration": 53,
    "start_time": "2024-07-08T14:41:46.673Z"
   },
   {
    "duration": 38,
    "start_time": "2024-07-08T14:41:46.729Z"
   },
   {
    "duration": 18,
    "start_time": "2024-07-08T14:41:46.769Z"
   },
   {
    "duration": 7,
    "start_time": "2024-07-08T14:41:46.788Z"
   },
   {
    "duration": 319,
    "start_time": "2024-07-08T14:41:46.796Z"
   },
   {
    "duration": 8,
    "start_time": "2024-07-08T14:41:47.117Z"
   },
   {
    "duration": 253,
    "start_time": "2024-07-08T14:41:47.127Z"
   },
   {
    "duration": 241,
    "start_time": "2024-07-08T14:42:18.490Z"
   },
   {
    "duration": 347,
    "start_time": "2024-07-08T14:42:48.842Z"
   },
   {
    "duration": 288,
    "start_time": "2024-07-08T14:47:20.481Z"
   },
   {
    "duration": 284,
    "start_time": "2024-07-08T14:47:27.904Z"
   },
   {
    "duration": 412,
    "start_time": "2024-07-08T14:49:04.425Z"
   },
   {
    "duration": 83,
    "start_time": "2024-07-08T14:50:00.968Z"
   },
   {
    "duration": 270,
    "start_time": "2024-07-08T14:54:16.041Z"
   },
   {
    "duration": 93,
    "start_time": "2024-07-08T14:58:56.984Z"
   },
   {
    "duration": 75,
    "start_time": "2024-07-08T14:59:01.744Z"
   },
   {
    "duration": 21,
    "start_time": "2024-07-08T14:59:12.023Z"
   },
   {
    "duration": 17,
    "start_time": "2024-07-08T14:59:23.736Z"
   },
   {
    "duration": 13,
    "start_time": "2024-07-08T15:00:21.335Z"
   },
   {
    "duration": 216,
    "start_time": "2024-07-08T15:00:38.121Z"
   },
   {
    "duration": 238,
    "start_time": "2024-07-08T15:01:59.345Z"
   },
   {
    "duration": 341,
    "start_time": "2024-07-08T15:03:11.726Z"
   },
   {
    "duration": 253,
    "start_time": "2024-07-08T15:03:22.198Z"
   },
   {
    "duration": 189,
    "start_time": "2024-07-08T15:03:58.135Z"
   },
   {
    "duration": 248,
    "start_time": "2024-07-08T15:04:07.965Z"
   },
   {
    "duration": 14,
    "start_time": "2024-07-08T15:07:48.363Z"
   },
   {
    "duration": 17,
    "start_time": "2024-07-08T15:08:03.252Z"
   },
   {
    "duration": 16,
    "start_time": "2024-07-08T15:08:25.782Z"
   },
   {
    "duration": 290,
    "start_time": "2024-07-08T15:09:21.915Z"
   },
   {
    "duration": 265,
    "start_time": "2024-07-08T15:09:49.043Z"
   },
   {
    "duration": 281,
    "start_time": "2024-07-08T15:09:57.771Z"
   },
   {
    "duration": 281,
    "start_time": "2024-07-08T15:10:06.290Z"
   },
   {
    "duration": 269,
    "start_time": "2024-07-08T15:10:10.842Z"
   },
   {
    "duration": 668,
    "start_time": "2024-07-08T15:10:19.133Z"
   },
   {
    "duration": 58,
    "start_time": "2024-07-08T15:10:19.803Z"
   },
   {
    "duration": 17,
    "start_time": "2024-07-08T15:10:19.863Z"
   },
   {
    "duration": 35,
    "start_time": "2024-07-08T15:10:19.881Z"
   },
   {
    "duration": 25,
    "start_time": "2024-07-08T15:10:19.918Z"
   },
   {
    "duration": 13,
    "start_time": "2024-07-08T15:10:19.945Z"
   },
   {
    "duration": 19,
    "start_time": "2024-07-08T15:10:19.961Z"
   },
   {
    "duration": 54,
    "start_time": "2024-07-08T15:10:19.982Z"
   },
   {
    "duration": 42,
    "start_time": "2024-07-08T15:10:20.038Z"
   },
   {
    "duration": 17,
    "start_time": "2024-07-08T15:10:20.082Z"
   },
   {
    "duration": 8,
    "start_time": "2024-07-08T15:10:20.101Z"
   },
   {
    "duration": 275,
    "start_time": "2024-07-08T15:10:20.110Z"
   },
   {
    "duration": 6,
    "start_time": "2024-07-08T15:10:20.387Z"
   },
   {
    "duration": 267,
    "start_time": "2024-07-08T15:10:20.396Z"
   },
   {
    "duration": 18,
    "start_time": "2024-07-08T15:10:20.665Z"
   },
   {
    "duration": 295,
    "start_time": "2024-07-08T15:10:20.685Z"
   },
   {
    "duration": 356,
    "start_time": "2024-07-08T15:10:59.965Z"
   },
   {
    "duration": 274,
    "start_time": "2024-07-08T15:11:09.083Z"
   },
   {
    "duration": 7,
    "start_time": "2024-07-08T15:12:20.569Z"
   },
   {
    "duration": 839,
    "start_time": "2024-07-08T20:01:50.006Z"
   },
   {
    "duration": 209,
    "start_time": "2024-07-08T20:01:50.847Z"
   },
   {
    "duration": 20,
    "start_time": "2024-07-08T20:01:51.057Z"
   },
   {
    "duration": 16,
    "start_time": "2024-07-08T20:01:51.079Z"
   },
   {
    "duration": 23,
    "start_time": "2024-07-08T20:01:51.098Z"
   },
   {
    "duration": 39,
    "start_time": "2024-07-08T20:01:51.123Z"
   },
   {
    "duration": 33,
    "start_time": "2024-07-08T20:01:51.164Z"
   },
   {
    "duration": 69,
    "start_time": "2024-07-08T20:01:51.199Z"
   },
   {
    "duration": 24,
    "start_time": "2024-07-08T20:01:51.270Z"
   },
   {
    "duration": 26,
    "start_time": "2024-07-08T20:01:51.296Z"
   },
   {
    "duration": 23,
    "start_time": "2024-07-08T20:01:51.324Z"
   },
   {
    "duration": 9,
    "start_time": "2024-07-08T20:01:51.356Z"
   },
   {
    "duration": 318,
    "start_time": "2024-07-08T20:01:51.367Z"
   },
   {
    "duration": 8,
    "start_time": "2024-07-08T20:01:51.688Z"
   },
   {
    "duration": 348,
    "start_time": "2024-07-08T20:01:51.698Z"
   },
   {
    "duration": 18,
    "start_time": "2024-07-08T20:01:52.054Z"
   },
   {
    "duration": 355,
    "start_time": "2024-07-08T20:01:52.074Z"
   },
   {
    "duration": 441,
    "start_time": "2024-07-08T20:04:50.797Z"
   },
   {
    "duration": 279,
    "start_time": "2024-07-08T20:05:06.805Z"
   },
   {
    "duration": 291,
    "start_time": "2024-07-08T20:05:23.405Z"
   },
   {
    "duration": 126,
    "start_time": "2024-07-08T20:11:45.572Z"
   },
   {
    "duration": 77,
    "start_time": "2024-07-08T20:13:16.205Z"
   },
   {
    "duration": 663,
    "start_time": "2024-07-08T20:13:28.010Z"
   },
   {
    "duration": 69,
    "start_time": "2024-07-08T20:13:28.675Z"
   },
   {
    "duration": 21,
    "start_time": "2024-07-08T20:13:28.747Z"
   },
   {
    "duration": 15,
    "start_time": "2024-07-08T20:13:28.770Z"
   },
   {
    "duration": 21,
    "start_time": "2024-07-08T20:13:28.788Z"
   },
   {
    "duration": 14,
    "start_time": "2024-07-08T20:13:28.811Z"
   },
   {
    "duration": 39,
    "start_time": "2024-07-08T20:13:28.826Z"
   },
   {
    "duration": 55,
    "start_time": "2024-07-08T20:13:28.867Z"
   },
   {
    "duration": 39,
    "start_time": "2024-07-08T20:13:28.924Z"
   },
   {
    "duration": 11,
    "start_time": "2024-07-08T20:13:28.965Z"
   },
   {
    "duration": 21,
    "start_time": "2024-07-08T20:13:28.977Z"
   },
   {
    "duration": 7,
    "start_time": "2024-07-08T20:13:28.999Z"
   },
   {
    "duration": 310,
    "start_time": "2024-07-08T20:13:29.008Z"
   },
   {
    "duration": 8,
    "start_time": "2024-07-08T20:13:29.320Z"
   },
   {
    "duration": 284,
    "start_time": "2024-07-08T20:13:29.329Z"
   },
   {
    "duration": 19,
    "start_time": "2024-07-08T20:13:29.614Z"
   },
   {
    "duration": 316,
    "start_time": "2024-07-08T20:13:29.634Z"
   },
   {
    "duration": 81,
    "start_time": "2024-07-08T20:13:29.954Z"
   },
   {
    "duration": 1385,
    "start_time": "2024-07-08T20:13:59.655Z"
   },
   {
    "duration": 60,
    "start_time": "2024-07-08T20:14:01.042Z"
   },
   {
    "duration": 19,
    "start_time": "2024-07-08T20:14:01.106Z"
   },
   {
    "duration": 188,
    "start_time": "2024-07-08T20:14:01.127Z"
   },
   {
    "duration": 82,
    "start_time": "2024-07-08T20:14:01.317Z"
   },
   {
    "duration": 52,
    "start_time": "2024-07-08T20:14:01.402Z"
   },
   {
    "duration": 45,
    "start_time": "2024-07-08T20:14:01.456Z"
   },
   {
    "duration": 105,
    "start_time": "2024-07-08T20:14:01.503Z"
   },
   {
    "duration": 22,
    "start_time": "2024-07-08T20:14:01.610Z"
   },
   {
    "duration": 45,
    "start_time": "2024-07-08T20:14:01.635Z"
   },
   {
    "duration": 65,
    "start_time": "2024-07-08T20:14:01.682Z"
   },
   {
    "duration": 14,
    "start_time": "2024-07-08T20:14:01.749Z"
   },
   {
    "duration": 354,
    "start_time": "2024-07-08T20:14:01.764Z"
   },
   {
    "duration": 9,
    "start_time": "2024-07-08T20:14:02.120Z"
   },
   {
    "duration": 354,
    "start_time": "2024-07-08T20:14:02.131Z"
   },
   {
    "duration": 19,
    "start_time": "2024-07-08T20:14:02.486Z"
   },
   {
    "duration": 377,
    "start_time": "2024-07-08T20:14:02.506Z"
   },
   {
    "duration": 140,
    "start_time": "2024-07-08T20:14:02.885Z"
   },
   {
    "duration": 284,
    "start_time": "2024-07-08T20:14:42.405Z"
   },
   {
    "duration": 381,
    "start_time": "2024-07-08T20:19:01.268Z"
   },
   {
    "duration": 265,
    "start_time": "2024-07-08T20:20:58.155Z"
   },
   {
    "duration": 266,
    "start_time": "2024-07-08T20:23:00.810Z"
   },
   {
    "duration": 20,
    "start_time": "2024-07-08T20:25:14.665Z"
   },
   {
    "duration": 15,
    "start_time": "2024-07-08T20:25:26.952Z"
   },
   {
    "duration": 272,
    "start_time": "2024-07-08T20:25:56.186Z"
   },
   {
    "duration": 146,
    "start_time": "2024-07-08T20:28:48.672Z"
   },
   {
    "duration": 16,
    "start_time": "2024-07-08T20:29:13.359Z"
   },
   {
    "duration": 16,
    "start_time": "2024-07-08T20:29:27.390Z"
   },
   {
    "duration": 137,
    "start_time": "2024-07-08T20:29:39.270Z"
   },
   {
    "duration": 267,
    "start_time": "2024-07-08T20:30:05.415Z"
   },
   {
    "duration": 268,
    "start_time": "2024-07-08T20:31:51.006Z"
   },
   {
    "duration": 296,
    "start_time": "2024-07-08T20:32:20.988Z"
   },
   {
    "duration": 1233,
    "start_time": "2024-07-08T20:32:27.264Z"
   },
   {
    "duration": 59,
    "start_time": "2024-07-08T20:32:28.499Z"
   },
   {
    "duration": 19,
    "start_time": "2024-07-08T20:32:28.559Z"
   },
   {
    "duration": 21,
    "start_time": "2024-07-08T20:32:28.580Z"
   },
   {
    "duration": 23,
    "start_time": "2024-07-08T20:32:28.604Z"
   },
   {
    "duration": 27,
    "start_time": "2024-07-08T20:32:28.629Z"
   },
   {
    "duration": 20,
    "start_time": "2024-07-08T20:32:28.658Z"
   },
   {
    "duration": 83,
    "start_time": "2024-07-08T20:32:28.680Z"
   },
   {
    "duration": 24,
    "start_time": "2024-07-08T20:32:28.765Z"
   },
   {
    "duration": 28,
    "start_time": "2024-07-08T20:32:28.792Z"
   },
   {
    "duration": 23,
    "start_time": "2024-07-08T20:32:28.821Z"
   },
   {
    "duration": 7,
    "start_time": "2024-07-08T20:32:28.845Z"
   },
   {
    "duration": 304,
    "start_time": "2024-07-08T20:32:28.856Z"
   },
   {
    "duration": 8,
    "start_time": "2024-07-08T20:32:29.161Z"
   },
   {
    "duration": 296,
    "start_time": "2024-07-08T20:32:29.170Z"
   },
   {
    "duration": 18,
    "start_time": "2024-07-08T20:32:29.468Z"
   },
   {
    "duration": 319,
    "start_time": "2024-07-08T20:32:29.487Z"
   },
   {
    "duration": 293,
    "start_time": "2024-07-08T20:32:29.808Z"
   },
   {
    "duration": 287,
    "start_time": "2024-07-08T20:35:03.213Z"
   },
   {
    "duration": 333,
    "start_time": "2024-07-08T20:36:43.675Z"
   },
   {
    "duration": 111,
    "start_time": "2024-07-08T20:37:56.540Z"
   },
   {
    "duration": 255,
    "start_time": "2024-07-08T20:38:01.418Z"
   },
   {
    "duration": 259,
    "start_time": "2024-07-08T20:39:21.026Z"
   },
   {
    "duration": 343,
    "start_time": "2024-07-08T20:39:24.179Z"
   },
   {
    "duration": 247,
    "start_time": "2024-07-08T20:39:54.215Z"
   },
   {
    "duration": 464,
    "start_time": "2024-07-08T20:47:57.683Z"
   },
   {
    "duration": 593,
    "start_time": "2024-07-08T20:52:20.436Z"
   },
   {
    "duration": 459,
    "start_time": "2024-07-08T20:53:00.727Z"
   },
   {
    "duration": 6,
    "start_time": "2024-07-08T20:53:04.225Z"
   },
   {
    "duration": 7,
    "start_time": "2024-07-08T20:53:14.705Z"
   },
   {
    "duration": 7,
    "start_time": "2024-07-08T20:53:20.118Z"
   },
   {
    "duration": 6,
    "start_time": "2024-07-08T20:53:44.366Z"
   },
   {
    "duration": 204,
    "start_time": "2024-07-08T20:57:32.117Z"
   },
   {
    "duration": 223,
    "start_time": "2024-07-08T20:58:28.357Z"
   },
   {
    "duration": 193,
    "start_time": "2024-07-08T20:58:33.446Z"
   },
   {
    "duration": 5,
    "start_time": "2024-07-08T21:00:10.811Z"
   },
   {
    "duration": 7,
    "start_time": "2024-07-08T21:00:48.356Z"
   },
   {
    "duration": 6,
    "start_time": "2024-07-08T21:01:21.259Z"
   },
   {
    "duration": 7,
    "start_time": "2024-07-08T21:02:02.090Z"
   },
   {
    "duration": 8,
    "start_time": "2024-07-08T21:02:28.235Z"
   },
   {
    "duration": 6,
    "start_time": "2024-07-08T21:03:04.810Z"
   },
   {
    "duration": 7,
    "start_time": "2024-07-08T21:03:17.506Z"
   },
   {
    "duration": 6,
    "start_time": "2024-07-08T21:04:26.041Z"
   },
   {
    "duration": 7,
    "start_time": "2024-07-08T21:04:38.433Z"
   },
   {
    "duration": 6,
    "start_time": "2024-07-08T21:05:12.713Z"
   },
   {
    "duration": 8,
    "start_time": "2024-07-08T21:06:01.227Z"
   },
   {
    "duration": 8,
    "start_time": "2024-07-08T21:06:04.449Z"
   },
   {
    "duration": 6,
    "start_time": "2024-07-08T21:06:19.755Z"
   },
   {
    "duration": 14,
    "start_time": "2024-07-08T21:09:54.183Z"
   },
   {
    "duration": 222,
    "start_time": "2024-07-08T21:11:38.855Z"
   },
   {
    "duration": 204,
    "start_time": "2024-07-08T21:12:41.702Z"
   },
   {
    "duration": 222,
    "start_time": "2024-07-08T21:14:04.671Z"
   },
   {
    "duration": 1270,
    "start_time": "2024-07-08T21:21:27.655Z"
   },
   {
    "duration": 59,
    "start_time": "2024-07-08T21:21:28.927Z"
   },
   {
    "duration": 19,
    "start_time": "2024-07-08T21:21:28.987Z"
   },
   {
    "duration": 15,
    "start_time": "2024-07-08T21:21:29.008Z"
   },
   {
    "duration": 18,
    "start_time": "2024-07-08T21:21:29.024Z"
   },
   {
    "duration": 18,
    "start_time": "2024-07-08T21:21:29.044Z"
   },
   {
    "duration": 20,
    "start_time": "2024-07-08T21:21:29.064Z"
   },
   {
    "duration": 79,
    "start_time": "2024-07-08T21:21:29.086Z"
   },
   {
    "duration": 24,
    "start_time": "2024-07-08T21:21:29.166Z"
   },
   {
    "duration": 14,
    "start_time": "2024-07-08T21:21:29.192Z"
   },
   {
    "duration": 20,
    "start_time": "2024-07-08T21:21:29.208Z"
   },
   {
    "duration": 30,
    "start_time": "2024-07-08T21:21:29.230Z"
   },
   {
    "duration": 297,
    "start_time": "2024-07-08T21:21:29.261Z"
   },
   {
    "duration": 7,
    "start_time": "2024-07-08T21:21:29.560Z"
   },
   {
    "duration": 296,
    "start_time": "2024-07-08T21:21:29.568Z"
   },
   {
    "duration": 18,
    "start_time": "2024-07-08T21:21:29.865Z"
   },
   {
    "duration": 353,
    "start_time": "2024-07-08T21:21:29.884Z"
   },
   {
    "duration": 288,
    "start_time": "2024-07-08T21:21:30.240Z"
   },
   {
    "duration": 284,
    "start_time": "2024-07-08T21:21:30.530Z"
   },
   {
    "duration": 552,
    "start_time": "2024-07-08T21:21:30.816Z"
   },
   {
    "duration": 6,
    "start_time": "2024-07-08T21:21:31.369Z"
   },
   {
    "duration": 31,
    "start_time": "2024-07-08T21:21:31.376Z"
   },
   {
    "duration": 39,
    "start_time": "2024-07-08T21:21:31.409Z"
   },
   {
    "duration": 8,
    "start_time": "2024-07-08T21:21:31.450Z"
   },
   {
    "duration": 37,
    "start_time": "2024-07-08T21:21:31.460Z"
   },
   {
    "duration": 34,
    "start_time": "2024-07-08T21:21:31.499Z"
   },
   {
    "duration": 22,
    "start_time": "2024-07-08T21:21:31.535Z"
   },
   {
    "duration": 36,
    "start_time": "2024-07-08T21:21:31.560Z"
   },
   {
    "duration": 48,
    "start_time": "2024-07-08T21:21:31.598Z"
   },
   {
    "duration": 9,
    "start_time": "2024-07-08T21:21:31.648Z"
   },
   {
    "duration": 239,
    "start_time": "2024-07-08T21:21:31.659Z"
   },
   {
    "duration": 220,
    "start_time": "2024-07-08T21:21:31.899Z"
   },
   {
    "duration": 1149,
    "start_time": "2024-07-10T06:34:26.409Z"
   },
   {
    "duration": 104,
    "start_time": "2024-07-10T06:34:27.560Z"
   },
   {
    "duration": 15,
    "start_time": "2024-07-10T06:34:27.665Z"
   },
   {
    "duration": 13,
    "start_time": "2024-07-10T06:34:27.682Z"
   },
   {
    "duration": 24,
    "start_time": "2024-07-10T06:34:27.696Z"
   },
   {
    "duration": 17,
    "start_time": "2024-07-10T06:34:27.722Z"
   },
   {
    "duration": 22,
    "start_time": "2024-07-10T06:34:27.740Z"
   },
   {
    "duration": 63,
    "start_time": "2024-07-10T06:34:27.763Z"
   },
   {
    "duration": 18,
    "start_time": "2024-07-10T06:34:27.827Z"
   },
   {
    "duration": 8,
    "start_time": "2024-07-10T06:34:27.847Z"
   },
   {
    "duration": 31,
    "start_time": "2024-07-10T06:34:27.856Z"
   },
   {
    "duration": 13,
    "start_time": "2024-07-10T06:34:27.889Z"
   },
   {
    "duration": 254,
    "start_time": "2024-07-10T06:34:27.904Z"
   },
   {
    "duration": 6,
    "start_time": "2024-07-10T06:34:28.159Z"
   },
   {
    "duration": 274,
    "start_time": "2024-07-10T06:34:28.166Z"
   },
   {
    "duration": 13,
    "start_time": "2024-07-10T06:34:28.441Z"
   },
   {
    "duration": 238,
    "start_time": "2024-07-10T06:34:28.455Z"
   },
   {
    "duration": 200,
    "start_time": "2024-07-10T06:34:28.694Z"
   },
   {
    "duration": 209,
    "start_time": "2024-07-10T06:34:28.895Z"
   },
   {
    "duration": 480,
    "start_time": "2024-07-10T06:34:29.105Z"
   },
   {
    "duration": 16,
    "start_time": "2024-07-10T06:34:29.586Z"
   },
   {
    "duration": 9,
    "start_time": "2024-07-10T06:34:29.604Z"
   },
   {
    "duration": 8,
    "start_time": "2024-07-10T06:34:29.614Z"
   },
   {
    "duration": 6,
    "start_time": "2024-07-10T06:34:29.624Z"
   },
   {
    "duration": 9,
    "start_time": "2024-07-10T06:34:29.631Z"
   },
   {
    "duration": 8,
    "start_time": "2024-07-10T06:34:29.641Z"
   },
   {
    "duration": 6,
    "start_time": "2024-07-10T06:34:29.650Z"
   },
   {
    "duration": 9,
    "start_time": "2024-07-10T06:34:29.660Z"
   },
   {
    "duration": 34,
    "start_time": "2024-07-10T06:34:29.671Z"
   },
   {
    "duration": 6,
    "start_time": "2024-07-10T06:34:29.707Z"
   },
   {
    "duration": 164,
    "start_time": "2024-07-10T06:34:29.714Z"
   },
   {
    "duration": 173,
    "start_time": "2024-07-10T06:34:29.879Z"
   },
   {
    "duration": 61,
    "start_time": "2024-07-10T06:34:30.053Z"
   },
   {
    "duration": 1028,
    "start_time": "2024-07-10T06:36:31.804Z"
   },
   {
    "duration": 50,
    "start_time": "2024-07-10T06:36:32.833Z"
   },
   {
    "duration": 15,
    "start_time": "2024-07-10T06:36:32.884Z"
   },
   {
    "duration": 12,
    "start_time": "2024-07-10T06:36:32.900Z"
   },
   {
    "duration": 22,
    "start_time": "2024-07-10T06:36:32.914Z"
   },
   {
    "duration": 14,
    "start_time": "2024-07-10T06:36:32.937Z"
   },
   {
    "duration": 20,
    "start_time": "2024-07-10T06:36:32.952Z"
   },
   {
    "duration": 41,
    "start_time": "2024-07-10T06:36:32.973Z"
   },
   {
    "duration": 18,
    "start_time": "2024-07-10T06:36:33.015Z"
   },
   {
    "duration": 14,
    "start_time": "2024-07-10T06:36:33.035Z"
   },
   {
    "duration": 23,
    "start_time": "2024-07-10T06:36:33.050Z"
   },
   {
    "duration": 6,
    "start_time": "2024-07-10T06:36:33.074Z"
   },
   {
    "duration": 244,
    "start_time": "2024-07-10T06:36:33.081Z"
   },
   {
    "duration": 6,
    "start_time": "2024-07-10T06:36:33.326Z"
   },
   {
    "duration": 222,
    "start_time": "2024-07-10T06:36:33.333Z"
   },
   {
    "duration": 14,
    "start_time": "2024-07-10T06:36:33.557Z"
   },
   {
    "duration": 248,
    "start_time": "2024-07-10T06:36:33.572Z"
   },
   {
    "duration": 209,
    "start_time": "2024-07-10T06:36:33.822Z"
   },
   {
    "duration": 202,
    "start_time": "2024-07-10T06:36:34.033Z"
   },
   {
    "duration": 422,
    "start_time": "2024-07-10T06:36:34.237Z"
   },
   {
    "duration": 4,
    "start_time": "2024-07-10T06:36:34.661Z"
   },
   {
    "duration": 7,
    "start_time": "2024-07-10T06:36:34.666Z"
   },
   {
    "duration": 7,
    "start_time": "2024-07-10T06:36:34.674Z"
   },
   {
    "duration": 22,
    "start_time": "2024-07-10T06:36:34.682Z"
   },
   {
    "duration": 10,
    "start_time": "2024-07-10T06:36:34.705Z"
   },
   {
    "duration": 19,
    "start_time": "2024-07-10T06:36:34.716Z"
   },
   {
    "duration": 22,
    "start_time": "2024-07-10T06:36:34.736Z"
   },
   {
    "duration": 7,
    "start_time": "2024-07-10T06:36:34.761Z"
   },
   {
    "duration": 19,
    "start_time": "2024-07-10T06:36:34.769Z"
   },
   {
    "duration": 17,
    "start_time": "2024-07-10T06:36:34.790Z"
   },
   {
    "duration": 159,
    "start_time": "2024-07-10T06:36:34.809Z"
   },
   {
    "duration": 175,
    "start_time": "2024-07-10T06:36:34.969Z"
   },
   {
    "duration": 71,
    "start_time": "2024-07-10T06:36:35.145Z"
   },
   {
    "duration": 335,
    "start_time": "2024-07-10T06:40:43.938Z"
   },
   {
    "duration": 7,
    "start_time": "2024-07-10T06:41:59.122Z"
   },
   {
    "duration": 7,
    "start_time": "2024-07-10T06:43:39.578Z"
   },
   {
    "duration": 7,
    "start_time": "2024-07-10T06:43:51.912Z"
   },
   {
    "duration": 7,
    "start_time": "2024-07-10T06:43:59.202Z"
   },
   {
    "duration": 1021,
    "start_time": "2024-07-10T06:45:44.906Z"
   },
   {
    "duration": 49,
    "start_time": "2024-07-10T06:45:45.929Z"
   },
   {
    "duration": 13,
    "start_time": "2024-07-10T06:45:45.979Z"
   },
   {
    "duration": 16,
    "start_time": "2024-07-10T06:45:45.993Z"
   },
   {
    "duration": 16,
    "start_time": "2024-07-10T06:45:46.010Z"
   },
   {
    "duration": 8,
    "start_time": "2024-07-10T06:45:46.027Z"
   },
   {
    "duration": 20,
    "start_time": "2024-07-10T06:45:46.036Z"
   },
   {
    "duration": 50,
    "start_time": "2024-07-10T06:45:46.058Z"
   },
   {
    "duration": 17,
    "start_time": "2024-07-10T06:45:46.110Z"
   },
   {
    "duration": 26,
    "start_time": "2024-07-10T06:45:46.129Z"
   },
   {
    "duration": 14,
    "start_time": "2024-07-10T06:45:46.157Z"
   },
   {
    "duration": 13,
    "start_time": "2024-07-10T06:45:46.172Z"
   },
   {
    "duration": 227,
    "start_time": "2024-07-10T06:45:46.186Z"
   },
   {
    "duration": 6,
    "start_time": "2024-07-10T06:45:46.414Z"
   },
   {
    "duration": 266,
    "start_time": "2024-07-10T06:45:46.421Z"
   },
   {
    "duration": 16,
    "start_time": "2024-07-10T06:45:46.688Z"
   },
   {
    "duration": 244,
    "start_time": "2024-07-10T06:45:46.705Z"
   },
   {
    "duration": 197,
    "start_time": "2024-07-10T06:45:46.950Z"
   },
   {
    "duration": 224,
    "start_time": "2024-07-10T06:45:47.149Z"
   },
   {
    "duration": 439,
    "start_time": "2024-07-10T06:45:47.374Z"
   },
   {
    "duration": 5,
    "start_time": "2024-07-10T06:45:47.815Z"
   },
   {
    "duration": 25,
    "start_time": "2024-07-10T06:45:47.821Z"
   },
   {
    "duration": 23,
    "start_time": "2024-07-10T06:45:47.847Z"
   },
   {
    "duration": 20,
    "start_time": "2024-07-10T06:45:47.871Z"
   },
   {
    "duration": 8,
    "start_time": "2024-07-10T06:45:47.892Z"
   },
   {
    "duration": 30,
    "start_time": "2024-07-10T06:45:47.901Z"
   },
   {
    "duration": 8,
    "start_time": "2024-07-10T06:45:47.933Z"
   },
   {
    "duration": 10,
    "start_time": "2024-07-10T06:45:47.944Z"
   },
   {
    "duration": 11,
    "start_time": "2024-07-10T06:45:47.955Z"
   },
   {
    "duration": 7,
    "start_time": "2024-07-10T06:45:47.968Z"
   },
   {
    "duration": 176,
    "start_time": "2024-07-10T06:45:47.976Z"
   },
   {
    "duration": 171,
    "start_time": "2024-07-10T06:45:48.153Z"
   },
   {
    "duration": 361,
    "start_time": "2024-07-10T06:45:48.326Z"
   },
   {
    "duration": 7,
    "start_time": "2024-07-10T06:45:48.689Z"
   },
   {
    "duration": 1029,
    "start_time": "2024-07-10T06:46:54.905Z"
   },
   {
    "duration": 49,
    "start_time": "2024-07-10T06:46:55.935Z"
   },
   {
    "duration": 14,
    "start_time": "2024-07-10T06:46:55.986Z"
   },
   {
    "duration": 11,
    "start_time": "2024-07-10T06:46:56.001Z"
   },
   {
    "duration": 13,
    "start_time": "2024-07-10T06:46:56.013Z"
   },
   {
    "duration": 7,
    "start_time": "2024-07-10T06:46:56.027Z"
   },
   {
    "duration": 24,
    "start_time": "2024-07-10T06:46:56.035Z"
   },
   {
    "duration": 45,
    "start_time": "2024-07-10T06:46:56.061Z"
   },
   {
    "duration": 18,
    "start_time": "2024-07-10T06:46:56.107Z"
   },
   {
    "duration": 9,
    "start_time": "2024-07-10T06:46:56.127Z"
   },
   {
    "duration": 25,
    "start_time": "2024-07-10T06:46:56.138Z"
   },
   {
    "duration": 6,
    "start_time": "2024-07-10T06:46:56.164Z"
   },
   {
    "duration": 226,
    "start_time": "2024-07-10T06:46:56.171Z"
   },
   {
    "duration": 8,
    "start_time": "2024-07-10T06:46:56.398Z"
   },
   {
    "duration": 214,
    "start_time": "2024-07-10T06:46:56.407Z"
   },
   {
    "duration": 13,
    "start_time": "2024-07-10T06:46:56.622Z"
   },
   {
    "duration": 241,
    "start_time": "2024-07-10T06:46:56.636Z"
   },
   {
    "duration": 206,
    "start_time": "2024-07-10T06:46:56.879Z"
   },
   {
    "duration": 214,
    "start_time": "2024-07-10T06:46:57.087Z"
   },
   {
    "duration": 428,
    "start_time": "2024-07-10T06:46:57.302Z"
   },
   {
    "duration": 4,
    "start_time": "2024-07-10T06:46:57.731Z"
   },
   {
    "duration": 6,
    "start_time": "2024-07-10T06:46:57.737Z"
   },
   {
    "duration": 12,
    "start_time": "2024-07-10T06:46:57.744Z"
   },
   {
    "duration": 8,
    "start_time": "2024-07-10T06:46:57.757Z"
   },
   {
    "duration": 16,
    "start_time": "2024-07-10T06:46:57.767Z"
   },
   {
    "duration": 19,
    "start_time": "2024-07-10T06:46:57.784Z"
   },
   {
    "duration": 11,
    "start_time": "2024-07-10T06:46:57.804Z"
   },
   {
    "duration": 13,
    "start_time": "2024-07-10T06:46:57.818Z"
   },
   {
    "duration": 9,
    "start_time": "2024-07-10T06:46:57.832Z"
   },
   {
    "duration": 6,
    "start_time": "2024-07-10T06:46:57.842Z"
   },
   {
    "duration": 158,
    "start_time": "2024-07-10T06:46:57.849Z"
   },
   {
    "duration": 166,
    "start_time": "2024-07-10T06:46:58.008Z"
   },
   {
    "duration": 361,
    "start_time": "2024-07-10T06:46:58.175Z"
   },
   {
    "duration": 6,
    "start_time": "2024-07-10T06:46:58.538Z"
   },
   {
    "duration": 7,
    "start_time": "2024-07-10T06:47:11.889Z"
   },
   {
    "duration": 71,
    "start_time": "2024-07-10T06:47:20.306Z"
   },
   {
    "duration": 7,
    "start_time": "2024-07-10T06:47:31.257Z"
   },
   {
    "duration": 6,
    "start_time": "2024-07-10T06:48:45.489Z"
   },
   {
    "duration": 7,
    "start_time": "2024-07-10T07:07:30.675Z"
   },
   {
    "duration": 368,
    "start_time": "2024-07-10T07:20:36.520Z"
   },
   {
    "duration": 9,
    "start_time": "2024-07-10T07:21:59.736Z"
   },
   {
    "duration": 416,
    "start_time": "2024-07-10T07:22:27.408Z"
   },
   {
    "duration": 7,
    "start_time": "2024-07-10T07:22:45.192Z"
   },
   {
    "duration": 1084,
    "start_time": "2024-07-10T07:36:26.588Z"
   },
   {
    "duration": 4,
    "start_time": "2024-07-10T07:36:37.149Z"
   },
   {
    "duration": 958,
    "start_time": "2024-07-10T07:37:59.404Z"
   },
   {
    "duration": 6,
    "start_time": "2024-07-10T07:39:08.812Z"
   },
   {
    "duration": 10,
    "start_time": "2024-07-10T07:42:46.021Z"
   },
   {
    "duration": 1116,
    "start_time": "2024-07-10T07:43:44.052Z"
   },
   {
    "duration": 86,
    "start_time": "2024-07-10T07:45:17.708Z"
   },
   {
    "duration": 62,
    "start_time": "2024-07-10T07:45:27.695Z"
   },
   {
    "duration": 69,
    "start_time": "2024-07-10T07:45:39.396Z"
   },
   {
    "duration": 69,
    "start_time": "2024-07-10T07:45:50.684Z"
   },
   {
    "duration": 199,
    "start_time": "2024-07-10T07:46:05.589Z"
   },
   {
    "duration": 925,
    "start_time": "2024-07-10T07:48:05.972Z"
   },
   {
    "duration": 1055,
    "start_time": "2024-07-10T07:48:39.381Z"
   },
   {
    "duration": 931,
    "start_time": "2024-07-10T07:49:41.084Z"
   },
   {
    "duration": 11,
    "start_time": "2024-07-10T07:49:52.763Z"
   },
   {
    "duration": 937,
    "start_time": "2024-07-10T07:52:09.211Z"
   },
   {
    "duration": 1016,
    "start_time": "2024-07-10T07:53:47.843Z"
   },
   {
    "duration": 483,
    "start_time": "2024-07-10T07:54:09.707Z"
   },
   {
    "duration": 361,
    "start_time": "2024-07-10T07:54:30.659Z"
   },
   {
    "duration": 387,
    "start_time": "2024-07-10T07:55:02.684Z"
   },
   {
    "duration": 427,
    "start_time": "2024-07-10T07:55:17.899Z"
   },
   {
    "duration": 474,
    "start_time": "2024-07-10T07:55:42.259Z"
   },
   {
    "duration": 8,
    "start_time": "2024-07-10T07:56:35.425Z"
   },
   {
    "duration": 469,
    "start_time": "2024-07-10T07:58:26.804Z"
   },
   {
    "duration": 9,
    "start_time": "2024-07-10T07:58:44.938Z"
   },
   {
    "duration": 10,
    "start_time": "2024-07-10T07:59:02.041Z"
   },
   {
    "duration": 447,
    "start_time": "2024-07-10T07:59:56.132Z"
   },
   {
    "duration": 9,
    "start_time": "2024-07-10T08:00:02.683Z"
   },
   {
    "duration": 454,
    "start_time": "2024-07-10T08:00:18.242Z"
   },
   {
    "duration": 10,
    "start_time": "2024-07-10T08:00:27.184Z"
   },
   {
    "duration": 9,
    "start_time": "2024-07-10T08:03:22.984Z"
   },
   {
    "duration": 11,
    "start_time": "2024-07-10T08:03:59.489Z"
   },
   {
    "duration": 92,
    "start_time": "2024-07-10T08:08:10.784Z"
   },
   {
    "duration": 8,
    "start_time": "2024-07-10T08:08:21.513Z"
   },
   {
    "duration": 1005,
    "start_time": "2024-07-10T08:08:36.874Z"
   },
   {
    "duration": 8,
    "start_time": "2024-07-10T08:09:07.776Z"
   },
   {
    "duration": 1186,
    "start_time": "2024-07-10T15:34:37.090Z"
   },
   {
    "duration": 116,
    "start_time": "2024-07-10T15:34:38.278Z"
   },
   {
    "duration": 21,
    "start_time": "2024-07-10T15:34:38.395Z"
   },
   {
    "duration": 45,
    "start_time": "2024-07-10T15:34:38.418Z"
   },
   {
    "duration": 21,
    "start_time": "2024-07-10T15:34:38.464Z"
   },
   {
    "duration": 11,
    "start_time": "2024-07-10T15:34:38.487Z"
   },
   {
    "duration": 18,
    "start_time": "2024-07-10T15:34:38.499Z"
   },
   {
    "duration": 40,
    "start_time": "2024-07-10T15:34:38.518Z"
   },
   {
    "duration": 18,
    "start_time": "2024-07-10T15:34:38.560Z"
   },
   {
    "duration": 21,
    "start_time": "2024-07-10T15:34:38.580Z"
   },
   {
    "duration": 45,
    "start_time": "2024-07-10T15:34:38.603Z"
   },
   {
    "duration": 6,
    "start_time": "2024-07-10T15:34:38.649Z"
   },
   {
    "duration": 216,
    "start_time": "2024-07-10T15:34:38.656Z"
   },
   {
    "duration": 5,
    "start_time": "2024-07-10T15:34:38.873Z"
   },
   {
    "duration": 218,
    "start_time": "2024-07-10T15:34:38.880Z"
   },
   {
    "duration": 13,
    "start_time": "2024-07-10T15:34:39.101Z"
   },
   {
    "duration": 260,
    "start_time": "2024-07-10T15:34:39.115Z"
   },
   {
    "duration": 204,
    "start_time": "2024-07-10T15:34:39.376Z"
   },
   {
    "duration": 207,
    "start_time": "2024-07-10T15:34:39.582Z"
   },
   {
    "duration": 488,
    "start_time": "2024-07-10T15:34:39.790Z"
   },
   {
    "duration": 4,
    "start_time": "2024-07-10T15:34:40.279Z"
   },
   {
    "duration": 18,
    "start_time": "2024-07-10T15:34:40.284Z"
   },
   {
    "duration": 6,
    "start_time": "2024-07-10T15:34:40.303Z"
   },
   {
    "duration": 11,
    "start_time": "2024-07-10T15:34:40.310Z"
   },
   {
    "duration": 5,
    "start_time": "2024-07-10T15:34:40.322Z"
   },
   {
    "duration": 8,
    "start_time": "2024-07-10T15:34:40.328Z"
   },
   {
    "duration": 7,
    "start_time": "2024-07-10T15:34:40.337Z"
   },
   {
    "duration": 7,
    "start_time": "2024-07-10T15:34:40.346Z"
   },
   {
    "duration": 18,
    "start_time": "2024-07-10T15:34:40.355Z"
   },
   {
    "duration": 6,
    "start_time": "2024-07-10T15:34:40.374Z"
   },
   {
    "duration": 163,
    "start_time": "2024-07-10T15:34:40.401Z"
   },
   {
    "duration": 175,
    "start_time": "2024-07-10T15:34:40.565Z"
   },
   {
    "duration": 487,
    "start_time": "2024-07-10T15:34:40.741Z"
   },
   {
    "duration": 9,
    "start_time": "2024-07-10T15:34:41.229Z"
   },
   {
    "duration": 510,
    "start_time": "2024-07-10T15:34:41.239Z"
   },
   {
    "duration": 9,
    "start_time": "2024-07-10T15:34:41.750Z"
   },
   {
    "duration": 82,
    "start_time": "2024-07-10T15:34:41.760Z"
   },
   {
    "duration": 21,
    "start_time": "2024-07-10T15:34:41.843Z"
   },
   {
    "duration": 2,
    "start_time": "2024-07-10T15:36:28.299Z"
   },
   {
    "duration": 1037,
    "start_time": "2024-07-10T15:36:32.511Z"
   },
   {
    "duration": 50,
    "start_time": "2024-07-10T15:36:33.550Z"
   },
   {
    "duration": 14,
    "start_time": "2024-07-10T15:36:33.601Z"
   },
   {
    "duration": 12,
    "start_time": "2024-07-10T15:36:33.616Z"
   },
   {
    "duration": 15,
    "start_time": "2024-07-10T15:36:33.629Z"
   },
   {
    "duration": 53,
    "start_time": "2024-07-10T15:36:33.645Z"
   },
   {
    "duration": 17,
    "start_time": "2024-07-10T15:36:33.699Z"
   },
   {
    "duration": 41,
    "start_time": "2024-07-10T15:36:33.717Z"
   },
   {
    "duration": 18,
    "start_time": "2024-07-10T15:36:33.759Z"
   },
   {
    "duration": 44,
    "start_time": "2024-07-10T15:36:33.780Z"
   },
   {
    "duration": 23,
    "start_time": "2024-07-10T15:36:33.825Z"
   },
   {
    "duration": 16,
    "start_time": "2024-07-10T15:36:33.850Z"
   },
   {
    "duration": 255,
    "start_time": "2024-07-10T15:36:33.867Z"
   },
   {
    "duration": 6,
    "start_time": "2024-07-10T15:36:34.123Z"
   },
   {
    "duration": 256,
    "start_time": "2024-07-10T15:36:34.130Z"
   },
   {
    "duration": 21,
    "start_time": "2024-07-10T15:36:34.387Z"
   },
   {
    "duration": 242,
    "start_time": "2024-07-10T15:36:34.409Z"
   },
   {
    "duration": 217,
    "start_time": "2024-07-10T15:36:34.653Z"
   },
   {
    "duration": 206,
    "start_time": "2024-07-10T15:36:34.871Z"
   },
   {
    "duration": 464,
    "start_time": "2024-07-10T15:36:35.078Z"
   },
   {
    "duration": 5,
    "start_time": "2024-07-10T15:36:35.543Z"
   },
   {
    "duration": 9,
    "start_time": "2024-07-10T15:36:35.549Z"
   },
   {
    "duration": 66,
    "start_time": "2024-07-10T15:36:35.559Z"
   },
   {
    "duration": 14,
    "start_time": "2024-07-10T15:36:35.626Z"
   },
   {
    "duration": 37,
    "start_time": "2024-07-10T15:36:35.641Z"
   },
   {
    "duration": 91,
    "start_time": "2024-07-10T15:36:35.679Z"
   },
   {
    "duration": 21,
    "start_time": "2024-07-10T15:36:35.772Z"
   },
   {
    "duration": 26,
    "start_time": "2024-07-10T15:36:35.797Z"
   },
   {
    "duration": 38,
    "start_time": "2024-07-10T15:36:35.825Z"
   },
   {
    "duration": 32,
    "start_time": "2024-07-10T15:36:35.864Z"
   },
   {
    "duration": 174,
    "start_time": "2024-07-10T15:36:35.897Z"
   },
   {
    "duration": 168,
    "start_time": "2024-07-10T15:36:36.073Z"
   },
   {
    "duration": 483,
    "start_time": "2024-07-10T15:36:36.243Z"
   },
   {
    "duration": 9,
    "start_time": "2024-07-10T15:36:36.727Z"
   },
   {
    "duration": 501,
    "start_time": "2024-07-10T15:36:36.737Z"
   },
   {
    "duration": 8,
    "start_time": "2024-07-10T15:36:37.240Z"
   },
   {
    "duration": 76,
    "start_time": "2024-07-10T15:36:37.249Z"
   },
   {
    "duration": 91,
    "start_time": "2024-07-10T15:36:37.326Z"
   },
   {
    "duration": 7,
    "start_time": "2024-07-10T15:41:20.435Z"
   },
   {
    "duration": 7,
    "start_time": "2024-07-10T15:42:20.618Z"
   },
   {
    "duration": 221,
    "start_time": "2024-07-10T15:59:13.784Z"
   },
   {
    "duration": 178,
    "start_time": "2024-07-10T16:01:19.488Z"
   },
   {
    "duration": 445,
    "start_time": "2024-07-10T16:01:25.801Z"
   },
   {
    "duration": 102,
    "start_time": "2024-07-10T16:02:00.280Z"
   },
   {
    "duration": 22,
    "start_time": "2024-07-10T16:02:18.328Z"
   },
   {
    "duration": 8,
    "start_time": "2024-07-10T16:02:26.696Z"
   },
   {
    "duration": 324,
    "start_time": "2024-07-10T16:02:44.191Z"
   },
   {
    "duration": 483,
    "start_time": "2024-07-10T16:02:56.128Z"
   },
   {
    "duration": 994,
    "start_time": "2024-07-10T16:03:00.349Z"
   },
   {
    "duration": 49,
    "start_time": "2024-07-10T16:03:01.345Z"
   },
   {
    "duration": 29,
    "start_time": "2024-07-10T16:03:01.395Z"
   },
   {
    "duration": 56,
    "start_time": "2024-07-10T16:03:01.425Z"
   },
   {
    "duration": 78,
    "start_time": "2024-07-10T16:03:01.482Z"
   },
   {
    "duration": 18,
    "start_time": "2024-07-10T16:03:01.562Z"
   },
   {
    "duration": 18,
    "start_time": "2024-07-10T16:03:01.581Z"
   },
   {
    "duration": 37,
    "start_time": "2024-07-10T16:03:01.601Z"
   },
   {
    "duration": 17,
    "start_time": "2024-07-10T16:03:01.639Z"
   },
   {
    "duration": 52,
    "start_time": "2024-07-10T16:03:01.658Z"
   },
   {
    "duration": 25,
    "start_time": "2024-07-10T16:03:01.711Z"
   },
   {
    "duration": 5,
    "start_time": "2024-07-10T16:03:01.738Z"
   },
   {
    "duration": 216,
    "start_time": "2024-07-10T16:03:01.744Z"
   },
   {
    "duration": 6,
    "start_time": "2024-07-10T16:03:01.962Z"
   },
   {
    "duration": 226,
    "start_time": "2024-07-10T16:03:01.969Z"
   },
   {
    "duration": 17,
    "start_time": "2024-07-10T16:03:02.196Z"
   },
   {
    "duration": 256,
    "start_time": "2024-07-10T16:03:02.214Z"
   },
   {
    "duration": 235,
    "start_time": "2024-07-10T16:03:02.472Z"
   },
   {
    "duration": 203,
    "start_time": "2024-07-10T16:03:02.708Z"
   },
   {
    "duration": 421,
    "start_time": "2024-07-10T16:03:02.912Z"
   },
   {
    "duration": 5,
    "start_time": "2024-07-10T16:03:03.334Z"
   },
   {
    "duration": 48,
    "start_time": "2024-07-10T16:03:03.340Z"
   },
   {
    "duration": 16,
    "start_time": "2024-07-10T16:03:03.389Z"
   },
   {
    "duration": 10,
    "start_time": "2024-07-10T16:03:03.407Z"
   },
   {
    "duration": 13,
    "start_time": "2024-07-10T16:03:03.418Z"
   },
   {
    "duration": 35,
    "start_time": "2024-07-10T16:03:03.432Z"
   },
   {
    "duration": 14,
    "start_time": "2024-07-10T16:03:03.468Z"
   },
   {
    "duration": 7,
    "start_time": "2024-07-10T16:03:03.485Z"
   },
   {
    "duration": 11,
    "start_time": "2024-07-10T16:03:03.494Z"
   },
   {
    "duration": 7,
    "start_time": "2024-07-10T16:03:03.506Z"
   },
   {
    "duration": 178,
    "start_time": "2024-07-10T16:03:03.514Z"
   },
   {
    "duration": 168,
    "start_time": "2024-07-10T16:03:03.694Z"
   },
   {
    "duration": 502,
    "start_time": "2024-07-10T16:03:03.863Z"
   },
   {
    "duration": 7,
    "start_time": "2024-07-10T16:03:04.366Z"
   },
   {
    "duration": 485,
    "start_time": "2024-07-10T16:03:04.375Z"
   },
   {
    "duration": 8,
    "start_time": "2024-07-10T16:03:04.861Z"
   },
   {
    "duration": 15,
    "start_time": "2024-07-10T16:03:04.870Z"
   },
   {
    "duration": 16,
    "start_time": "2024-07-10T16:03:04.887Z"
   },
   {
    "duration": 61,
    "start_time": "2024-07-10T16:03:04.904Z"
   },
   {
    "duration": 8,
    "start_time": "2024-07-10T16:06:00.792Z"
   },
   {
    "duration": 86,
    "start_time": "2024-07-10T16:11:42.763Z"
   },
   {
    "duration": 1015,
    "start_time": "2024-07-10T16:11:52.819Z"
   },
   {
    "duration": 50,
    "start_time": "2024-07-10T16:11:53.836Z"
   },
   {
    "duration": 15,
    "start_time": "2024-07-10T16:11:53.887Z"
   },
   {
    "duration": 13,
    "start_time": "2024-07-10T16:11:53.903Z"
   },
   {
    "duration": 35,
    "start_time": "2024-07-10T16:11:53.917Z"
   },
   {
    "duration": 22,
    "start_time": "2024-07-10T16:11:53.953Z"
   },
   {
    "duration": 31,
    "start_time": "2024-07-10T16:11:53.976Z"
   },
   {
    "duration": 38,
    "start_time": "2024-07-10T16:11:54.008Z"
   },
   {
    "duration": 17,
    "start_time": "2024-07-10T16:11:54.047Z"
   },
   {
    "duration": 11,
    "start_time": "2024-07-10T16:11:54.066Z"
   },
   {
    "duration": 24,
    "start_time": "2024-07-10T16:11:54.078Z"
   },
   {
    "duration": 6,
    "start_time": "2024-07-10T16:11:54.103Z"
   },
   {
    "duration": 235,
    "start_time": "2024-07-10T16:11:54.110Z"
   },
   {
    "duration": 5,
    "start_time": "2024-07-10T16:11:54.347Z"
   },
   {
    "duration": 251,
    "start_time": "2024-07-10T16:11:54.354Z"
   },
   {
    "duration": 13,
    "start_time": "2024-07-10T16:11:54.606Z"
   },
   {
    "duration": 112,
    "start_time": "2024-07-10T16:11:54.620Z"
   },
   {
    "duration": 0,
    "start_time": "2024-07-10T16:11:54.734Z"
   },
   {
    "duration": 0,
    "start_time": "2024-07-10T16:11:54.735Z"
   },
   {
    "duration": 0,
    "start_time": "2024-07-10T16:11:54.736Z"
   },
   {
    "duration": 0,
    "start_time": "2024-07-10T16:11:54.737Z"
   },
   {
    "duration": 0,
    "start_time": "2024-07-10T16:11:54.738Z"
   },
   {
    "duration": 0,
    "start_time": "2024-07-10T16:11:54.739Z"
   },
   {
    "duration": 0,
    "start_time": "2024-07-10T16:11:54.740Z"
   },
   {
    "duration": 1,
    "start_time": "2024-07-10T16:11:54.740Z"
   },
   {
    "duration": 0,
    "start_time": "2024-07-10T16:11:54.741Z"
   },
   {
    "duration": 0,
    "start_time": "2024-07-10T16:11:54.742Z"
   },
   {
    "duration": 0,
    "start_time": "2024-07-10T16:11:54.743Z"
   },
   {
    "duration": 0,
    "start_time": "2024-07-10T16:11:54.744Z"
   },
   {
    "duration": 0,
    "start_time": "2024-07-10T16:11:54.745Z"
   },
   {
    "duration": 0,
    "start_time": "2024-07-10T16:11:54.746Z"
   },
   {
    "duration": 0,
    "start_time": "2024-07-10T16:11:54.747Z"
   },
   {
    "duration": 0,
    "start_time": "2024-07-10T16:11:54.748Z"
   },
   {
    "duration": 0,
    "start_time": "2024-07-10T16:11:54.749Z"
   },
   {
    "duration": 0,
    "start_time": "2024-07-10T16:11:54.749Z"
   },
   {
    "duration": 0,
    "start_time": "2024-07-10T16:11:54.750Z"
   },
   {
    "duration": 0,
    "start_time": "2024-07-10T16:11:54.751Z"
   },
   {
    "duration": 0,
    "start_time": "2024-07-10T16:11:54.752Z"
   },
   {
    "duration": 0,
    "start_time": "2024-07-10T16:11:54.753Z"
   },
   {
    "duration": 0,
    "start_time": "2024-07-10T16:11:54.754Z"
   },
   {
    "duration": 9,
    "start_time": "2024-07-10T16:12:41.419Z"
   },
   {
    "duration": 6,
    "start_time": "2024-07-10T16:12:58.715Z"
   },
   {
    "duration": 1023,
    "start_time": "2024-07-10T16:19:09.585Z"
   },
   {
    "duration": 52,
    "start_time": "2024-07-10T16:19:10.609Z"
   },
   {
    "duration": 14,
    "start_time": "2024-07-10T16:19:10.662Z"
   },
   {
    "duration": 12,
    "start_time": "2024-07-10T16:19:10.678Z"
   },
   {
    "duration": 14,
    "start_time": "2024-07-10T16:19:10.692Z"
   },
   {
    "duration": 7,
    "start_time": "2024-07-10T16:19:10.707Z"
   },
   {
    "duration": 14,
    "start_time": "2024-07-10T16:19:10.715Z"
   },
   {
    "duration": 37,
    "start_time": "2024-07-10T16:19:10.730Z"
   },
   {
    "duration": 16,
    "start_time": "2024-07-10T16:19:10.768Z"
   },
   {
    "duration": 12,
    "start_time": "2024-07-10T16:19:10.801Z"
   },
   {
    "duration": 21,
    "start_time": "2024-07-10T16:19:10.814Z"
   },
   {
    "duration": 8,
    "start_time": "2024-07-10T16:19:10.836Z"
   },
   {
    "duration": 228,
    "start_time": "2024-07-10T16:19:10.846Z"
   },
   {
    "duration": 6,
    "start_time": "2024-07-10T16:19:11.075Z"
   },
   {
    "duration": 241,
    "start_time": "2024-07-10T16:19:11.083Z"
   },
   {
    "duration": 16,
    "start_time": "2024-07-10T16:19:11.326Z"
   },
   {
    "duration": 6,
    "start_time": "2024-07-10T16:19:11.343Z"
   },
   {
    "duration": 241,
    "start_time": "2024-07-10T16:19:11.350Z"
   },
   {
    "duration": 198,
    "start_time": "2024-07-10T16:19:11.592Z"
   },
   {
    "duration": 211,
    "start_time": "2024-07-10T16:19:11.791Z"
   },
   {
    "duration": 426,
    "start_time": "2024-07-10T16:19:12.003Z"
   },
   {
    "duration": 4,
    "start_time": "2024-07-10T16:19:12.431Z"
   },
   {
    "duration": 7,
    "start_time": "2024-07-10T16:19:12.436Z"
   },
   {
    "duration": 16,
    "start_time": "2024-07-10T16:19:12.444Z"
   },
   {
    "duration": 6,
    "start_time": "2024-07-10T16:19:12.461Z"
   },
   {
    "duration": 5,
    "start_time": "2024-07-10T16:19:12.469Z"
   },
   {
    "duration": 21,
    "start_time": "2024-07-10T16:19:12.476Z"
   },
   {
    "duration": 5,
    "start_time": "2024-07-10T16:19:12.503Z"
   },
   {
    "duration": 6,
    "start_time": "2024-07-10T16:19:12.510Z"
   },
   {
    "duration": 7,
    "start_time": "2024-07-10T16:19:12.517Z"
   },
   {
    "duration": 7,
    "start_time": "2024-07-10T16:19:12.526Z"
   },
   {
    "duration": 195,
    "start_time": "2024-07-10T16:19:12.534Z"
   },
   {
    "duration": 169,
    "start_time": "2024-07-10T16:19:12.730Z"
   },
   {
    "duration": 494,
    "start_time": "2024-07-10T16:19:12.901Z"
   },
   {
    "duration": 8,
    "start_time": "2024-07-10T16:19:13.397Z"
   },
   {
    "duration": 469,
    "start_time": "2024-07-10T16:19:13.406Z"
   },
   {
    "duration": 8,
    "start_time": "2024-07-10T16:19:13.876Z"
   },
   {
    "duration": 20,
    "start_time": "2024-07-10T16:19:13.885Z"
   },
   {
    "duration": 6,
    "start_time": "2024-07-10T16:19:13.907Z"
   },
   {
    "duration": 108,
    "start_time": "2024-07-10T16:19:13.914Z"
   },
   {
    "duration": 1030,
    "start_time": "2024-07-10T16:51:14.231Z"
   },
   {
    "duration": 50,
    "start_time": "2024-07-10T16:51:15.263Z"
   },
   {
    "duration": 14,
    "start_time": "2024-07-10T16:51:15.314Z"
   },
   {
    "duration": 18,
    "start_time": "2024-07-10T16:51:15.330Z"
   },
   {
    "duration": 59,
    "start_time": "2024-07-10T16:51:15.349Z"
   },
   {
    "duration": 20,
    "start_time": "2024-07-10T16:51:15.410Z"
   },
   {
    "duration": 51,
    "start_time": "2024-07-10T16:51:15.431Z"
   },
   {
    "duration": 38,
    "start_time": "2024-07-10T16:51:15.484Z"
   },
   {
    "duration": 17,
    "start_time": "2024-07-10T16:51:15.523Z"
   },
   {
    "duration": 24,
    "start_time": "2024-07-10T16:51:15.542Z"
   },
   {
    "duration": 20,
    "start_time": "2024-07-10T16:51:15.567Z"
   },
   {
    "duration": 5,
    "start_time": "2024-07-10T16:51:15.589Z"
   },
   {
    "duration": 252,
    "start_time": "2024-07-10T16:51:15.595Z"
   },
   {
    "duration": 6,
    "start_time": "2024-07-10T16:51:15.848Z"
   },
   {
    "duration": 222,
    "start_time": "2024-07-10T16:51:15.855Z"
   },
   {
    "duration": 14,
    "start_time": "2024-07-10T16:51:16.079Z"
   },
   {
    "duration": 8,
    "start_time": "2024-07-10T16:51:16.101Z"
   },
   {
    "duration": 247,
    "start_time": "2024-07-10T16:51:16.110Z"
   },
   {
    "duration": 197,
    "start_time": "2024-07-10T16:51:16.359Z"
   },
   {
    "duration": 202,
    "start_time": "2024-07-10T16:51:16.558Z"
   },
   {
    "duration": 433,
    "start_time": "2024-07-10T16:51:16.761Z"
   },
   {
    "duration": 8,
    "start_time": "2024-07-10T16:51:17.196Z"
   },
   {
    "duration": 34,
    "start_time": "2024-07-10T16:51:17.205Z"
   },
   {
    "duration": 34,
    "start_time": "2024-07-10T16:51:17.241Z"
   },
   {
    "duration": 18,
    "start_time": "2024-07-10T16:51:17.277Z"
   },
   {
    "duration": 7,
    "start_time": "2024-07-10T16:51:17.296Z"
   },
   {
    "duration": 51,
    "start_time": "2024-07-10T16:51:17.304Z"
   },
   {
    "duration": 43,
    "start_time": "2024-07-10T16:51:17.359Z"
   },
   {
    "duration": 37,
    "start_time": "2024-07-10T16:51:17.404Z"
   },
   {
    "duration": 51,
    "start_time": "2024-07-10T16:51:17.443Z"
   },
   {
    "duration": 31,
    "start_time": "2024-07-10T16:51:17.495Z"
   },
   {
    "duration": 191,
    "start_time": "2024-07-10T16:51:17.528Z"
   },
   {
    "duration": 171,
    "start_time": "2024-07-10T16:51:17.721Z"
   },
   {
    "duration": 477,
    "start_time": "2024-07-10T16:51:17.894Z"
   },
   {
    "duration": 8,
    "start_time": "2024-07-10T16:51:18.373Z"
   },
   {
    "duration": 484,
    "start_time": "2024-07-10T16:51:18.382Z"
   },
   {
    "duration": 8,
    "start_time": "2024-07-10T16:51:18.867Z"
   },
   {
    "duration": 66,
    "start_time": "2024-07-10T16:51:18.876Z"
   },
   {
    "duration": 18,
    "start_time": "2024-07-10T16:51:18.943Z"
   },
   {
    "duration": 36,
    "start_time": "2024-07-10T16:51:18.962Z"
   },
   {
    "duration": 1007,
    "start_time": "2024-07-10T17:07:43.238Z"
   },
   {
    "duration": 49,
    "start_time": "2024-07-10T17:07:44.246Z"
   },
   {
    "duration": 14,
    "start_time": "2024-07-10T17:07:44.297Z"
   },
   {
    "duration": 12,
    "start_time": "2024-07-10T17:07:44.313Z"
   },
   {
    "duration": 16,
    "start_time": "2024-07-10T17:07:44.326Z"
   },
   {
    "duration": 20,
    "start_time": "2024-07-10T17:07:44.343Z"
   },
   {
    "duration": 17,
    "start_time": "2024-07-10T17:07:44.364Z"
   },
   {
    "duration": 52,
    "start_time": "2024-07-10T17:07:44.382Z"
   },
   {
    "duration": 17,
    "start_time": "2024-07-10T17:07:44.436Z"
   },
   {
    "duration": 13,
    "start_time": "2024-07-10T17:07:44.456Z"
   },
   {
    "duration": 29,
    "start_time": "2024-07-10T17:07:44.470Z"
   },
   {
    "duration": 34,
    "start_time": "2024-07-10T17:07:44.500Z"
   },
   {
    "duration": 220,
    "start_time": "2024-07-10T17:07:44.535Z"
   },
   {
    "duration": 5,
    "start_time": "2024-07-10T17:07:44.757Z"
   },
   {
    "duration": 216,
    "start_time": "2024-07-10T17:07:44.763Z"
   },
   {
    "duration": 13,
    "start_time": "2024-07-10T17:07:44.980Z"
   },
   {
    "duration": 99,
    "start_time": "2024-07-10T17:07:44.994Z"
   },
   {
    "duration": 314,
    "start_time": "2024-07-10T17:07:45.094Z"
   },
   {
    "duration": 212,
    "start_time": "2024-07-10T17:07:45.409Z"
   },
   {
    "duration": 206,
    "start_time": "2024-07-10T17:07:45.623Z"
   },
   {
    "duration": 429,
    "start_time": "2024-07-10T17:07:45.831Z"
   },
   {
    "duration": 5,
    "start_time": "2024-07-10T17:07:46.261Z"
   },
   {
    "duration": 18,
    "start_time": "2024-07-10T17:07:46.268Z"
   },
   {
    "duration": 10,
    "start_time": "2024-07-10T17:07:46.287Z"
   },
   {
    "duration": 5,
    "start_time": "2024-07-10T17:07:46.302Z"
   },
   {
    "duration": 9,
    "start_time": "2024-07-10T17:07:46.309Z"
   },
   {
    "duration": 10,
    "start_time": "2024-07-10T17:07:46.320Z"
   },
   {
    "duration": 12,
    "start_time": "2024-07-10T17:07:46.334Z"
   },
   {
    "duration": 21,
    "start_time": "2024-07-10T17:07:46.347Z"
   },
   {
    "duration": 26,
    "start_time": "2024-07-10T17:07:46.369Z"
   },
   {
    "duration": 12,
    "start_time": "2024-07-10T17:07:46.397Z"
   },
   {
    "duration": 158,
    "start_time": "2024-07-10T17:07:46.411Z"
   },
   {
    "duration": 173,
    "start_time": "2024-07-10T17:07:46.571Z"
   },
   {
    "duration": 483,
    "start_time": "2024-07-10T17:07:46.746Z"
   },
   {
    "duration": 8,
    "start_time": "2024-07-10T17:07:47.231Z"
   },
   {
    "duration": 530,
    "start_time": "2024-07-10T17:07:47.240Z"
   },
   {
    "duration": 8,
    "start_time": "2024-07-10T17:07:47.771Z"
   },
   {
    "duration": 102,
    "start_time": "2024-07-10T17:07:47.781Z"
   },
   {
    "duration": 9,
    "start_time": "2024-07-10T17:07:47.884Z"
   },
   {
    "duration": 11,
    "start_time": "2024-07-10T17:07:47.894Z"
   },
   {
    "duration": 50,
    "start_time": "2024-07-10T17:28:30.545Z"
   },
   {
    "duration": 6,
    "start_time": "2024-07-10T17:35:57.584Z"
   },
   {
    "duration": 1331,
    "start_time": "2024-07-10T17:36:04.106Z"
   },
   {
    "duration": 111,
    "start_time": "2024-07-10T17:36:05.439Z"
   },
   {
    "duration": 17,
    "start_time": "2024-07-10T17:36:05.551Z"
   },
   {
    "duration": 16,
    "start_time": "2024-07-10T17:36:05.570Z"
   },
   {
    "duration": 34,
    "start_time": "2024-07-10T17:36:05.587Z"
   },
   {
    "duration": 14,
    "start_time": "2024-07-10T17:36:05.630Z"
   },
   {
    "duration": 38,
    "start_time": "2024-07-10T17:36:05.646Z"
   },
   {
    "duration": 72,
    "start_time": "2024-07-10T17:36:05.685Z"
   },
   {
    "duration": 21,
    "start_time": "2024-07-10T17:36:05.759Z"
   },
   {
    "duration": 42,
    "start_time": "2024-07-10T17:36:05.782Z"
   },
   {
    "duration": 37,
    "start_time": "2024-07-10T17:36:05.826Z"
   },
   {
    "duration": 8,
    "start_time": "2024-07-10T17:36:05.865Z"
   },
   {
    "duration": 274,
    "start_time": "2024-07-10T17:36:05.875Z"
   },
   {
    "duration": 7,
    "start_time": "2024-07-10T17:36:06.150Z"
   },
   {
    "duration": 282,
    "start_time": "2024-07-10T17:36:06.158Z"
   },
   {
    "duration": 15,
    "start_time": "2024-07-10T17:36:06.441Z"
   },
   {
    "duration": 19,
    "start_time": "2024-07-10T17:36:06.457Z"
   },
   {
    "duration": 292,
    "start_time": "2024-07-10T17:36:06.478Z"
   },
   {
    "duration": 253,
    "start_time": "2024-07-10T17:36:06.772Z"
   },
   {
    "duration": 272,
    "start_time": "2024-07-10T17:36:07.026Z"
   },
   {
    "duration": 566,
    "start_time": "2024-07-10T17:36:07.300Z"
   },
   {
    "duration": 4,
    "start_time": "2024-07-10T17:36:07.868Z"
   },
   {
    "duration": 13,
    "start_time": "2024-07-10T17:36:07.874Z"
   },
   {
    "duration": 37,
    "start_time": "2024-07-10T17:36:07.889Z"
   },
   {
    "duration": 36,
    "start_time": "2024-07-10T17:36:07.928Z"
   },
   {
    "duration": 64,
    "start_time": "2024-07-10T17:36:07.965Z"
   },
   {
    "duration": 29,
    "start_time": "2024-07-10T17:36:08.030Z"
   },
   {
    "duration": 20,
    "start_time": "2024-07-10T17:36:08.062Z"
   },
   {
    "duration": 18,
    "start_time": "2024-07-10T17:36:08.083Z"
   },
   {
    "duration": 30,
    "start_time": "2024-07-10T17:36:08.102Z"
   },
   {
    "duration": 12,
    "start_time": "2024-07-10T17:36:08.134Z"
   },
   {
    "duration": 206,
    "start_time": "2024-07-10T17:36:08.148Z"
   },
   {
    "duration": 211,
    "start_time": "2024-07-10T17:36:08.355Z"
   },
   {
    "duration": 588,
    "start_time": "2024-07-10T17:36:08.567Z"
   },
   {
    "duration": 8,
    "start_time": "2024-07-10T17:36:09.157Z"
   },
   {
    "duration": 576,
    "start_time": "2024-07-10T17:36:09.167Z"
   },
   {
    "duration": 9,
    "start_time": "2024-07-10T17:36:09.744Z"
   },
   {
    "duration": 28,
    "start_time": "2024-07-10T17:36:09.754Z"
   },
   {
    "duration": 18,
    "start_time": "2024-07-10T17:36:09.784Z"
   },
   {
    "duration": 8,
    "start_time": "2024-07-10T17:36:09.803Z"
   },
   {
    "duration": 1158,
    "start_time": "2024-07-10T17:36:58.692Z"
   },
   {
    "duration": 53,
    "start_time": "2024-07-10T17:36:59.852Z"
   },
   {
    "duration": 21,
    "start_time": "2024-07-10T17:36:59.906Z"
   },
   {
    "duration": 18,
    "start_time": "2024-07-10T17:36:59.929Z"
   },
   {
    "duration": 14,
    "start_time": "2024-07-10T17:36:59.948Z"
   },
   {
    "duration": 7,
    "start_time": "2024-07-10T17:36:59.964Z"
   },
   {
    "duration": 15,
    "start_time": "2024-07-10T17:36:59.973Z"
   },
   {
    "duration": 50,
    "start_time": "2024-07-10T17:37:00.019Z"
   },
   {
    "duration": 35,
    "start_time": "2024-07-10T17:37:00.071Z"
   },
   {
    "duration": 69,
    "start_time": "2024-07-10T17:37:00.109Z"
   },
   {
    "duration": 83,
    "start_time": "2024-07-10T17:37:00.180Z"
   },
   {
    "duration": 65,
    "start_time": "2024-07-10T17:37:00.265Z"
   },
   {
    "duration": 431,
    "start_time": "2024-07-10T17:37:00.332Z"
   },
   {
    "duration": 7,
    "start_time": "2024-07-10T17:37:00.765Z"
   },
   {
    "duration": 281,
    "start_time": "2024-07-10T17:37:00.773Z"
   },
   {
    "duration": 29,
    "start_time": "2024-07-10T17:37:01.056Z"
   },
   {
    "duration": 17,
    "start_time": "2024-07-10T17:37:01.087Z"
   },
   {
    "duration": 294,
    "start_time": "2024-07-10T17:37:01.111Z"
   },
   {
    "duration": 264,
    "start_time": "2024-07-10T17:37:01.407Z"
   },
   {
    "duration": 256,
    "start_time": "2024-07-10T17:37:01.673Z"
   },
   {
    "duration": 494,
    "start_time": "2024-07-10T17:37:01.931Z"
   },
   {
    "duration": 6,
    "start_time": "2024-07-10T17:37:02.426Z"
   },
   {
    "duration": 18,
    "start_time": "2024-07-10T17:37:02.434Z"
   },
   {
    "duration": 51,
    "start_time": "2024-07-10T17:37:02.453Z"
   },
   {
    "duration": 35,
    "start_time": "2024-07-10T17:37:02.505Z"
   },
   {
    "duration": 20,
    "start_time": "2024-07-10T17:37:02.542Z"
   },
   {
    "duration": 63,
    "start_time": "2024-07-10T17:37:02.564Z"
   },
   {
    "duration": 46,
    "start_time": "2024-07-10T17:37:02.630Z"
   },
   {
    "duration": 13,
    "start_time": "2024-07-10T17:37:02.678Z"
   },
   {
    "duration": 7,
    "start_time": "2024-07-10T17:37:02.693Z"
   },
   {
    "duration": 29,
    "start_time": "2024-07-10T17:37:02.701Z"
   },
   {
    "duration": 199,
    "start_time": "2024-07-10T17:37:02.732Z"
   },
   {
    "duration": 223,
    "start_time": "2024-07-10T17:37:02.933Z"
   },
   {
    "duration": 598,
    "start_time": "2024-07-10T17:37:03.157Z"
   },
   {
    "duration": 8,
    "start_time": "2024-07-10T17:37:03.757Z"
   },
   {
    "duration": 584,
    "start_time": "2024-07-10T17:37:03.767Z"
   },
   {
    "duration": 9,
    "start_time": "2024-07-10T17:37:04.353Z"
   },
   {
    "duration": 72,
    "start_time": "2024-07-10T17:37:04.363Z"
   },
   {
    "duration": 9,
    "start_time": "2024-07-10T17:37:04.436Z"
   },
   {
    "duration": 11,
    "start_time": "2024-07-10T17:37:04.447Z"
   },
   {
    "duration": 17,
    "start_time": "2024-07-10T17:38:04.828Z"
   },
   {
    "duration": 1119,
    "start_time": "2024-07-10T17:38:21.052Z"
   },
   {
    "duration": 60,
    "start_time": "2024-07-10T17:38:22.172Z"
   },
   {
    "duration": 17,
    "start_time": "2024-07-10T17:38:22.234Z"
   },
   {
    "duration": 13,
    "start_time": "2024-07-10T17:38:22.253Z"
   },
   {
    "duration": 13,
    "start_time": "2024-07-10T17:38:22.267Z"
   },
   {
    "duration": 9,
    "start_time": "2024-07-10T17:38:22.281Z"
   },
   {
    "duration": 37,
    "start_time": "2024-07-10T17:38:22.292Z"
   },
   {
    "duration": 46,
    "start_time": "2024-07-10T17:38:22.330Z"
   },
   {
    "duration": 47,
    "start_time": "2024-07-10T17:38:22.378Z"
   },
   {
    "duration": 9,
    "start_time": "2024-07-10T17:38:22.427Z"
   },
   {
    "duration": 18,
    "start_time": "2024-07-10T17:38:22.437Z"
   },
   {
    "duration": 6,
    "start_time": "2024-07-10T17:38:22.457Z"
   },
   {
    "duration": 301,
    "start_time": "2024-07-10T17:38:22.464Z"
   },
   {
    "duration": 7,
    "start_time": "2024-07-10T17:38:22.767Z"
   },
   {
    "duration": 271,
    "start_time": "2024-07-10T17:38:22.775Z"
   },
   {
    "duration": 15,
    "start_time": "2024-07-10T17:38:23.047Z"
   },
   {
    "duration": 6,
    "start_time": "2024-07-10T17:38:23.064Z"
   },
   {
    "duration": 303,
    "start_time": "2024-07-10T17:38:23.071Z"
   },
   {
    "duration": 253,
    "start_time": "2024-07-10T17:38:23.376Z"
   },
   {
    "duration": 233,
    "start_time": "2024-07-10T17:38:23.630Z"
   },
   {
    "duration": 504,
    "start_time": "2024-07-10T17:38:23.865Z"
   },
   {
    "duration": 5,
    "start_time": "2024-07-10T17:38:24.370Z"
   },
   {
    "duration": 67,
    "start_time": "2024-07-10T17:38:24.377Z"
   },
   {
    "duration": 14,
    "start_time": "2024-07-10T17:38:24.445Z"
   },
   {
    "duration": 6,
    "start_time": "2024-07-10T17:38:24.461Z"
   },
   {
    "duration": 6,
    "start_time": "2024-07-10T17:38:24.468Z"
   },
   {
    "duration": 10,
    "start_time": "2024-07-10T17:38:24.475Z"
   },
   {
    "duration": 7,
    "start_time": "2024-07-10T17:38:24.488Z"
   },
   {
    "duration": 6,
    "start_time": "2024-07-10T17:38:24.496Z"
   },
   {
    "duration": 14,
    "start_time": "2024-07-10T17:38:24.503Z"
   },
   {
    "duration": 15,
    "start_time": "2024-07-10T17:38:24.518Z"
   },
   {
    "duration": 197,
    "start_time": "2024-07-10T17:38:24.535Z"
   },
   {
    "duration": 205,
    "start_time": "2024-07-10T17:38:24.734Z"
   },
   {
    "duration": 600,
    "start_time": "2024-07-10T17:38:24.941Z"
   },
   {
    "duration": 9,
    "start_time": "2024-07-10T17:38:25.543Z"
   },
   {
    "duration": 634,
    "start_time": "2024-07-10T17:38:25.553Z"
   },
   {
    "duration": 9,
    "start_time": "2024-07-10T17:38:26.188Z"
   },
   {
    "duration": 78,
    "start_time": "2024-07-10T17:38:26.198Z"
   },
   {
    "duration": 64,
    "start_time": "2024-07-10T17:38:26.278Z"
   },
   {
    "duration": 35,
    "start_time": "2024-07-10T17:38:26.344Z"
   },
   {
    "duration": 117,
    "start_time": "2024-07-10T17:40:44.095Z"
   },
   {
    "duration": 12,
    "start_time": "2024-07-10T17:41:08.670Z"
   },
   {
    "duration": 4,
    "start_time": "2024-07-10T17:41:46.549Z"
   },
   {
    "duration": 11,
    "start_time": "2024-07-10T17:43:30.924Z"
   },
   {
    "duration": 1183,
    "start_time": "2024-07-10T17:44:00.411Z"
   },
   {
    "duration": 53,
    "start_time": "2024-07-10T17:44:01.596Z"
   },
   {
    "duration": 64,
    "start_time": "2024-07-10T17:44:01.651Z"
   },
   {
    "duration": 60,
    "start_time": "2024-07-10T17:44:01.718Z"
   },
   {
    "duration": 42,
    "start_time": "2024-07-10T17:44:01.780Z"
   },
   {
    "duration": 31,
    "start_time": "2024-07-10T17:44:01.823Z"
   },
   {
    "duration": 34,
    "start_time": "2024-07-10T17:44:01.856Z"
   },
   {
    "duration": 48,
    "start_time": "2024-07-10T17:44:01.891Z"
   },
   {
    "duration": 20,
    "start_time": "2024-07-10T17:44:01.941Z"
   },
   {
    "duration": 32,
    "start_time": "2024-07-10T17:44:01.964Z"
   },
   {
    "duration": 129,
    "start_time": "2024-07-10T17:44:01.997Z"
   },
   {
    "duration": 6,
    "start_time": "2024-07-10T17:44:02.128Z"
   },
   {
    "duration": 263,
    "start_time": "2024-07-10T17:44:02.136Z"
   },
   {
    "duration": 13,
    "start_time": "2024-07-10T17:44:02.400Z"
   },
   {
    "duration": 310,
    "start_time": "2024-07-10T17:44:02.414Z"
   },
   {
    "duration": 15,
    "start_time": "2024-07-10T17:44:02.725Z"
   },
   {
    "duration": 9,
    "start_time": "2024-07-10T17:44:02.741Z"
   },
   {
    "duration": 282,
    "start_time": "2024-07-10T17:44:02.751Z"
   },
   {
    "duration": 259,
    "start_time": "2024-07-10T17:44:03.034Z"
   },
   {
    "duration": 241,
    "start_time": "2024-07-10T17:44:03.295Z"
   },
   {
    "duration": 496,
    "start_time": "2024-07-10T17:44:03.538Z"
   },
   {
    "duration": 6,
    "start_time": "2024-07-10T17:44:04.036Z"
   },
   {
    "duration": 34,
    "start_time": "2024-07-10T17:44:04.044Z"
   },
   {
    "duration": 11,
    "start_time": "2024-07-10T17:44:04.080Z"
   },
   {
    "duration": 7,
    "start_time": "2024-07-10T17:44:04.092Z"
   },
   {
    "duration": 9,
    "start_time": "2024-07-10T17:44:04.100Z"
   },
   {
    "duration": 10,
    "start_time": "2024-07-10T17:44:04.111Z"
   },
   {
    "duration": 8,
    "start_time": "2024-07-10T17:44:04.125Z"
   },
   {
    "duration": 10,
    "start_time": "2024-07-10T17:44:04.134Z"
   },
   {
    "duration": 18,
    "start_time": "2024-07-10T17:44:04.145Z"
   },
   {
    "duration": 13,
    "start_time": "2024-07-10T17:44:04.165Z"
   },
   {
    "duration": 214,
    "start_time": "2024-07-10T17:44:04.179Z"
   },
   {
    "duration": 197,
    "start_time": "2024-07-10T17:44:04.395Z"
   },
   {
    "duration": 555,
    "start_time": "2024-07-10T17:44:04.594Z"
   },
   {
    "duration": 8,
    "start_time": "2024-07-10T17:44:05.151Z"
   },
   {
    "duration": 593,
    "start_time": "2024-07-10T17:44:05.161Z"
   },
   {
    "duration": 9,
    "start_time": "2024-07-10T17:44:05.756Z"
   },
   {
    "duration": 39,
    "start_time": "2024-07-10T17:44:05.766Z"
   },
   {
    "duration": 25,
    "start_time": "2024-07-10T17:44:05.806Z"
   },
   {
    "duration": 15,
    "start_time": "2024-07-10T17:44:05.833Z"
   },
   {
    "duration": 272,
    "start_time": "2024-07-10T17:49:59.806Z"
   },
   {
    "duration": 210,
    "start_time": "2024-07-10T17:51:48.949Z"
   },
   {
    "duration": 1137,
    "start_time": "2024-07-10T17:52:11.728Z"
   },
   {
    "duration": 54,
    "start_time": "2024-07-10T17:52:12.867Z"
   },
   {
    "duration": 17,
    "start_time": "2024-07-10T17:52:12.922Z"
   },
   {
    "duration": 14,
    "start_time": "2024-07-10T17:52:12.942Z"
   },
   {
    "duration": 26,
    "start_time": "2024-07-10T17:52:12.958Z"
   },
   {
    "duration": 27,
    "start_time": "2024-07-10T17:52:12.986Z"
   },
   {
    "duration": 21,
    "start_time": "2024-07-10T17:52:13.015Z"
   },
   {
    "duration": 18,
    "start_time": "2024-07-10T17:52:13.037Z"
   },
   {
    "duration": 30,
    "start_time": "2024-07-10T17:52:13.057Z"
   },
   {
    "duration": 9,
    "start_time": "2024-07-10T17:52:13.113Z"
   },
   {
    "duration": 25,
    "start_time": "2024-07-10T17:52:13.124Z"
   },
   {
    "duration": 8,
    "start_time": "2024-07-10T17:52:13.151Z"
   },
   {
    "duration": 303,
    "start_time": "2024-07-10T17:52:13.161Z"
   },
   {
    "duration": 9,
    "start_time": "2024-07-10T17:52:13.465Z"
   },
   {
    "duration": 113,
    "start_time": "2024-07-10T17:52:13.475Z"
   },
   {
    "duration": 0,
    "start_time": "2024-07-10T17:52:13.590Z"
   },
   {
    "duration": 0,
    "start_time": "2024-07-10T17:52:13.591Z"
   },
   {
    "duration": 0,
    "start_time": "2024-07-10T17:52:13.592Z"
   },
   {
    "duration": 0,
    "start_time": "2024-07-10T17:52:13.594Z"
   },
   {
    "duration": 0,
    "start_time": "2024-07-10T17:52:13.595Z"
   },
   {
    "duration": 0,
    "start_time": "2024-07-10T17:52:13.611Z"
   },
   {
    "duration": 0,
    "start_time": "2024-07-10T17:52:13.612Z"
   },
   {
    "duration": 0,
    "start_time": "2024-07-10T17:52:13.613Z"
   },
   {
    "duration": 0,
    "start_time": "2024-07-10T17:52:13.614Z"
   },
   {
    "duration": 0,
    "start_time": "2024-07-10T17:52:13.615Z"
   },
   {
    "duration": 0,
    "start_time": "2024-07-10T17:52:13.616Z"
   },
   {
    "duration": 0,
    "start_time": "2024-07-10T17:52:13.617Z"
   },
   {
    "duration": 0,
    "start_time": "2024-07-10T17:52:13.618Z"
   },
   {
    "duration": 0,
    "start_time": "2024-07-10T17:52:13.619Z"
   },
   {
    "duration": 0,
    "start_time": "2024-07-10T17:52:13.620Z"
   },
   {
    "duration": 0,
    "start_time": "2024-07-10T17:52:13.621Z"
   },
   {
    "duration": 0,
    "start_time": "2024-07-10T17:52:13.622Z"
   },
   {
    "duration": 0,
    "start_time": "2024-07-10T17:52:13.623Z"
   },
   {
    "duration": 0,
    "start_time": "2024-07-10T17:52:13.624Z"
   },
   {
    "duration": 0,
    "start_time": "2024-07-10T17:52:13.625Z"
   },
   {
    "duration": 0,
    "start_time": "2024-07-10T17:52:13.626Z"
   },
   {
    "duration": 0,
    "start_time": "2024-07-10T17:52:13.627Z"
   },
   {
    "duration": 0,
    "start_time": "2024-07-10T17:52:13.628Z"
   },
   {
    "duration": 0,
    "start_time": "2024-07-10T17:52:13.629Z"
   },
   {
    "duration": 0,
    "start_time": "2024-07-10T17:52:13.630Z"
   },
   {
    "duration": 201,
    "start_time": "2024-07-10T17:52:56.205Z"
   },
   {
    "duration": 1180,
    "start_time": "2024-07-10T17:53:02.276Z"
   },
   {
    "duration": 54,
    "start_time": "2024-07-10T17:53:03.458Z"
   },
   {
    "duration": 17,
    "start_time": "2024-07-10T17:53:03.514Z"
   },
   {
    "duration": 14,
    "start_time": "2024-07-10T17:53:03.533Z"
   },
   {
    "duration": 16,
    "start_time": "2024-07-10T17:53:03.549Z"
   },
   {
    "duration": 9,
    "start_time": "2024-07-10T17:53:03.567Z"
   },
   {
    "duration": 37,
    "start_time": "2024-07-10T17:53:03.578Z"
   },
   {
    "duration": 16,
    "start_time": "2024-07-10T17:53:03.617Z"
   },
   {
    "duration": 30,
    "start_time": "2024-07-10T17:53:03.635Z"
   },
   {
    "duration": 10,
    "start_time": "2024-07-10T17:53:03.668Z"
   },
   {
    "duration": 18,
    "start_time": "2024-07-10T17:53:03.680Z"
   },
   {
    "duration": 7,
    "start_time": "2024-07-10T17:53:03.712Z"
   },
   {
    "duration": 279,
    "start_time": "2024-07-10T17:53:03.721Z"
   },
   {
    "duration": 11,
    "start_time": "2024-07-10T17:53:04.002Z"
   },
   {
    "duration": 241,
    "start_time": "2024-07-10T17:53:04.014Z"
   },
   {
    "duration": 22,
    "start_time": "2024-07-10T17:53:04.257Z"
   },
   {
    "duration": 9,
    "start_time": "2024-07-10T17:53:04.281Z"
   },
   {
    "duration": 299,
    "start_time": "2024-07-10T17:53:04.292Z"
   },
   {
    "duration": 238,
    "start_time": "2024-07-10T17:53:04.592Z"
   },
   {
    "duration": 248,
    "start_time": "2024-07-10T17:53:04.831Z"
   },
   {
    "duration": 497,
    "start_time": "2024-07-10T17:53:05.081Z"
   },
   {
    "duration": 5,
    "start_time": "2024-07-10T17:53:05.580Z"
   },
   {
    "duration": 20,
    "start_time": "2024-07-10T17:53:05.587Z"
   },
   {
    "duration": 17,
    "start_time": "2024-07-10T17:53:05.613Z"
   },
   {
    "duration": 9,
    "start_time": "2024-07-10T17:53:05.632Z"
   },
   {
    "duration": 14,
    "start_time": "2024-07-10T17:53:05.642Z"
   },
   {
    "duration": 35,
    "start_time": "2024-07-10T17:53:05.658Z"
   },
   {
    "duration": 7,
    "start_time": "2024-07-10T17:53:05.696Z"
   },
   {
    "duration": 6,
    "start_time": "2024-07-10T17:53:05.705Z"
   },
   {
    "duration": 15,
    "start_time": "2024-07-10T17:53:05.712Z"
   },
   {
    "duration": 7,
    "start_time": "2024-07-10T17:53:05.730Z"
   },
   {
    "duration": 198,
    "start_time": "2024-07-10T17:53:05.739Z"
   },
   {
    "duration": 202,
    "start_time": "2024-07-10T17:53:05.939Z"
   },
   {
    "duration": 573,
    "start_time": "2024-07-10T17:53:06.143Z"
   },
   {
    "duration": 9,
    "start_time": "2024-07-10T17:53:06.718Z"
   },
   {
    "duration": 598,
    "start_time": "2024-07-10T17:53:06.729Z"
   },
   {
    "duration": 9,
    "start_time": "2024-07-10T17:53:07.328Z"
   },
   {
    "duration": 12,
    "start_time": "2024-07-10T17:53:07.339Z"
   },
   {
    "duration": 9,
    "start_time": "2024-07-10T17:53:07.352Z"
   },
   {
    "duration": 23,
    "start_time": "2024-07-10T17:53:07.363Z"
   },
   {
    "duration": 382,
    "start_time": "2024-07-10T17:53:21.740Z"
   },
   {
    "duration": 1153,
    "start_time": "2024-07-10T17:53:30.346Z"
   },
   {
    "duration": 55,
    "start_time": "2024-07-10T17:53:31.501Z"
   },
   {
    "duration": 17,
    "start_time": "2024-07-10T17:53:31.557Z"
   },
   {
    "duration": 16,
    "start_time": "2024-07-10T17:53:31.576Z"
   },
   {
    "duration": 29,
    "start_time": "2024-07-10T17:53:31.594Z"
   },
   {
    "duration": 22,
    "start_time": "2024-07-10T17:53:31.625Z"
   },
   {
    "duration": 27,
    "start_time": "2024-07-10T17:53:31.649Z"
   },
   {
    "duration": 14,
    "start_time": "2024-07-10T17:53:31.678Z"
   },
   {
    "duration": 39,
    "start_time": "2024-07-10T17:53:31.694Z"
   },
   {
    "duration": 11,
    "start_time": "2024-07-10T17:53:31.735Z"
   },
   {
    "duration": 30,
    "start_time": "2024-07-10T17:53:31.748Z"
   },
   {
    "duration": 10,
    "start_time": "2024-07-10T17:53:31.780Z"
   },
   {
    "duration": 289,
    "start_time": "2024-07-10T17:53:31.792Z"
   },
   {
    "duration": 7,
    "start_time": "2024-07-10T17:53:32.085Z"
   },
   {
    "duration": 219,
    "start_time": "2024-07-10T17:53:32.093Z"
   },
   {
    "duration": 16,
    "start_time": "2024-07-10T17:53:32.313Z"
   },
   {
    "duration": 23,
    "start_time": "2024-07-10T17:53:32.330Z"
   },
   {
    "duration": 315,
    "start_time": "2024-07-10T17:53:32.355Z"
   },
   {
    "duration": 231,
    "start_time": "2024-07-10T17:53:32.672Z"
   },
   {
    "duration": 260,
    "start_time": "2024-07-10T17:53:32.905Z"
   },
   {
    "duration": 513,
    "start_time": "2024-07-10T17:53:33.168Z"
   },
   {
    "duration": 5,
    "start_time": "2024-07-10T17:53:33.683Z"
   },
   {
    "duration": 8,
    "start_time": "2024-07-10T17:53:33.690Z"
   },
   {
    "duration": 15,
    "start_time": "2024-07-10T17:53:33.712Z"
   },
   {
    "duration": 20,
    "start_time": "2024-07-10T17:53:33.729Z"
   },
   {
    "duration": 13,
    "start_time": "2024-07-10T17:53:33.751Z"
   },
   {
    "duration": 20,
    "start_time": "2024-07-10T17:53:33.766Z"
   },
   {
    "duration": 8,
    "start_time": "2024-07-10T17:53:33.787Z"
   },
   {
    "duration": 7,
    "start_time": "2024-07-10T17:53:33.797Z"
   },
   {
    "duration": 28,
    "start_time": "2024-07-10T17:53:33.806Z"
   },
   {
    "duration": 6,
    "start_time": "2024-07-10T17:53:33.835Z"
   },
   {
    "duration": 187,
    "start_time": "2024-07-10T17:53:33.842Z"
   },
   {
    "duration": 207,
    "start_time": "2024-07-10T17:53:34.031Z"
   },
   {
    "duration": 569,
    "start_time": "2024-07-10T17:53:34.239Z"
   },
   {
    "duration": 10,
    "start_time": "2024-07-10T17:53:34.812Z"
   },
   {
    "duration": 582,
    "start_time": "2024-07-10T17:53:34.823Z"
   },
   {
    "duration": 12,
    "start_time": "2024-07-10T17:53:35.406Z"
   },
   {
    "duration": 22,
    "start_time": "2024-07-10T17:53:35.420Z"
   },
   {
    "duration": 13,
    "start_time": "2024-07-10T17:53:35.444Z"
   },
   {
    "duration": 30,
    "start_time": "2024-07-10T17:53:35.459Z"
   },
   {
    "duration": 6,
    "start_time": "2024-07-10T17:56:07.837Z"
   },
   {
    "duration": 8,
    "start_time": "2024-07-10T17:56:30.403Z"
   },
   {
    "duration": 1111,
    "start_time": "2024-07-10T17:56:38.595Z"
   },
   {
    "duration": 64,
    "start_time": "2024-07-10T17:56:39.708Z"
   },
   {
    "duration": 22,
    "start_time": "2024-07-10T17:56:39.776Z"
   },
   {
    "duration": 19,
    "start_time": "2024-07-10T17:56:39.800Z"
   },
   {
    "duration": 19,
    "start_time": "2024-07-10T17:56:39.821Z"
   },
   {
    "duration": 8,
    "start_time": "2024-07-10T17:56:39.841Z"
   },
   {
    "duration": 14,
    "start_time": "2024-07-10T17:56:39.850Z"
   },
   {
    "duration": 13,
    "start_time": "2024-07-10T17:56:39.865Z"
   },
   {
    "duration": 43,
    "start_time": "2024-07-10T17:56:39.880Z"
   },
   {
    "duration": 6,
    "start_time": "2024-07-10T17:56:39.924Z"
   },
   {
    "duration": 17,
    "start_time": "2024-07-10T17:56:39.931Z"
   },
   {
    "duration": 7,
    "start_time": "2024-07-10T17:56:39.949Z"
   },
   {
    "duration": 268,
    "start_time": "2024-07-10T17:56:39.957Z"
   },
   {
    "duration": 6,
    "start_time": "2024-07-10T17:56:40.226Z"
   },
   {
    "duration": 201,
    "start_time": "2024-07-10T17:56:40.234Z"
   },
   {
    "duration": 15,
    "start_time": "2024-07-10T17:56:40.436Z"
   },
   {
    "duration": 14,
    "start_time": "2024-07-10T17:56:40.452Z"
   },
   {
    "duration": 303,
    "start_time": "2024-07-10T17:56:40.467Z"
   },
   {
    "duration": 238,
    "start_time": "2024-07-10T17:56:40.771Z"
   },
   {
    "duration": 248,
    "start_time": "2024-07-10T17:56:41.011Z"
   },
   {
    "duration": 500,
    "start_time": "2024-07-10T17:56:41.261Z"
   },
   {
    "duration": 6,
    "start_time": "2024-07-10T17:56:41.763Z"
   },
   {
    "duration": 7,
    "start_time": "2024-07-10T17:56:41.770Z"
   },
   {
    "duration": 17,
    "start_time": "2024-07-10T17:56:41.778Z"
   },
   {
    "duration": 17,
    "start_time": "2024-07-10T17:56:41.796Z"
   },
   {
    "duration": 5,
    "start_time": "2024-07-10T17:56:41.815Z"
   },
   {
    "duration": 8,
    "start_time": "2024-07-10T17:56:41.823Z"
   },
   {
    "duration": 8,
    "start_time": "2024-07-10T17:56:41.833Z"
   },
   {
    "duration": 6,
    "start_time": "2024-07-10T17:56:41.843Z"
   },
   {
    "duration": 12,
    "start_time": "2024-07-10T17:56:41.851Z"
   },
   {
    "duration": 6,
    "start_time": "2024-07-10T17:56:41.864Z"
   },
   {
    "duration": 223,
    "start_time": "2024-07-10T17:56:41.872Z"
   },
   {
    "duration": 208,
    "start_time": "2024-07-10T17:56:42.097Z"
   },
   {
    "duration": 539,
    "start_time": "2024-07-10T17:56:42.311Z"
   },
   {
    "duration": 7,
    "start_time": "2024-07-10T17:56:42.852Z"
   },
   {
    "duration": 568,
    "start_time": "2024-07-10T17:56:42.861Z"
   },
   {
    "duration": 8,
    "start_time": "2024-07-10T17:56:43.430Z"
   },
   {
    "duration": 9,
    "start_time": "2024-07-10T17:56:43.440Z"
   },
   {
    "duration": 22,
    "start_time": "2024-07-10T17:56:43.451Z"
   },
   {
    "duration": 8,
    "start_time": "2024-07-10T17:56:43.474Z"
   },
   {
    "duration": 1087,
    "start_time": "2024-07-10T18:00:28.208Z"
   },
   {
    "duration": 139,
    "start_time": "2024-07-10T18:01:23.472Z"
   },
   {
    "duration": 517,
    "start_time": "2024-07-10T18:01:44.760Z"
   },
   {
    "duration": 30,
    "start_time": "2024-07-10T18:02:06.519Z"
   },
   {
    "duration": 32,
    "start_time": "2024-07-10T18:02:25.257Z"
   },
   {
    "duration": 10,
    "start_time": "2024-07-10T18:02:57.694Z"
   },
   {
    "duration": 628,
    "start_time": "2024-07-10T18:04:54.470Z"
   },
   {
    "duration": 14,
    "start_time": "2024-07-10T18:09:08.668Z"
   },
   {
    "duration": 1134,
    "start_time": "2024-07-10T18:09:38.029Z"
   },
   {
    "duration": 58,
    "start_time": "2024-07-10T18:09:39.164Z"
   },
   {
    "duration": 16,
    "start_time": "2024-07-10T18:09:39.223Z"
   },
   {
    "duration": 13,
    "start_time": "2024-07-10T18:09:39.241Z"
   },
   {
    "duration": 42,
    "start_time": "2024-07-10T18:09:39.256Z"
   },
   {
    "duration": 10,
    "start_time": "2024-07-10T18:09:39.300Z"
   },
   {
    "duration": 24,
    "start_time": "2024-07-10T18:09:39.311Z"
   },
   {
    "duration": 16,
    "start_time": "2024-07-10T18:09:39.336Z"
   },
   {
    "duration": 41,
    "start_time": "2024-07-10T18:09:39.354Z"
   },
   {
    "duration": 6,
    "start_time": "2024-07-10T18:09:39.397Z"
   },
   {
    "duration": 32,
    "start_time": "2024-07-10T18:09:39.405Z"
   },
   {
    "duration": 6,
    "start_time": "2024-07-10T18:09:39.438Z"
   },
   {
    "duration": 261,
    "start_time": "2024-07-10T18:09:39.446Z"
   },
   {
    "duration": 12,
    "start_time": "2024-07-10T18:09:39.709Z"
   },
   {
    "duration": 218,
    "start_time": "2024-07-10T18:09:39.722Z"
   },
   {
    "duration": 15,
    "start_time": "2024-07-10T18:09:39.942Z"
   },
   {
    "duration": 11,
    "start_time": "2024-07-10T18:09:39.958Z"
   },
   {
    "duration": 307,
    "start_time": "2024-07-10T18:09:39.971Z"
   },
   {
    "duration": 230,
    "start_time": "2024-07-10T18:09:40.280Z"
   },
   {
    "duration": 240,
    "start_time": "2024-07-10T18:09:40.518Z"
   },
   {
    "duration": 511,
    "start_time": "2024-07-10T18:09:40.760Z"
   },
   {
    "duration": 7,
    "start_time": "2024-07-10T18:09:41.272Z"
   },
   {
    "duration": 6,
    "start_time": "2024-07-10T18:09:41.280Z"
   },
   {
    "duration": 34,
    "start_time": "2024-07-10T18:09:41.287Z"
   },
   {
    "duration": 7,
    "start_time": "2024-07-10T18:09:41.323Z"
   },
   {
    "duration": 6,
    "start_time": "2024-07-10T18:09:41.331Z"
   },
   {
    "duration": 11,
    "start_time": "2024-07-10T18:09:41.338Z"
   },
   {
    "duration": 5,
    "start_time": "2024-07-10T18:09:41.352Z"
   },
   {
    "duration": 21,
    "start_time": "2024-07-10T18:09:41.358Z"
   },
   {
    "duration": 7,
    "start_time": "2024-07-10T18:09:41.380Z"
   },
   {
    "duration": 8,
    "start_time": "2024-07-10T18:09:41.388Z"
   },
   {
    "duration": 208,
    "start_time": "2024-07-10T18:09:41.397Z"
   },
   {
    "duration": 217,
    "start_time": "2024-07-10T18:09:41.607Z"
   },
   {
    "duration": 527,
    "start_time": "2024-07-10T18:09:41.825Z"
   },
   {
    "duration": 8,
    "start_time": "2024-07-10T18:09:42.353Z"
   },
   {
    "duration": 268,
    "start_time": "2024-07-10T18:09:42.362Z"
   },
   {
    "duration": 0,
    "start_time": "2024-07-10T18:09:42.632Z"
   },
   {
    "duration": 0,
    "start_time": "2024-07-10T18:09:42.633Z"
   },
   {
    "duration": 0,
    "start_time": "2024-07-10T18:09:42.635Z"
   },
   {
    "duration": 0,
    "start_time": "2024-07-10T18:09:42.636Z"
   },
   {
    "duration": 493,
    "start_time": "2024-07-10T18:11:29.155Z"
   },
   {
    "duration": 420,
    "start_time": "2024-07-10T18:12:11.179Z"
   },
   {
    "duration": 19,
    "start_time": "2024-07-10T18:12:57.610Z"
   },
   {
    "duration": 444,
    "start_time": "2024-07-10T18:13:13.993Z"
   },
   {
    "duration": 91,
    "start_time": "2024-07-10T18:14:08.770Z"
   },
   {
    "duration": 72,
    "start_time": "2024-07-10T18:14:14.673Z"
   },
   {
    "duration": 443,
    "start_time": "2024-07-10T18:14:24.633Z"
   },
   {
    "duration": 278,
    "start_time": "2024-07-10T19:33:24.822Z"
   },
   {
    "duration": 385,
    "start_time": "2024-07-10T19:35:12.323Z"
   },
   {
    "duration": 1145,
    "start_time": "2024-07-10T19:36:00.143Z"
   },
   {
    "duration": 62,
    "start_time": "2024-07-10T19:36:01.290Z"
   },
   {
    "duration": 17,
    "start_time": "2024-07-10T19:36:01.354Z"
   },
   {
    "duration": 64,
    "start_time": "2024-07-10T19:36:01.373Z"
   },
   {
    "duration": 30,
    "start_time": "2024-07-10T19:36:01.438Z"
   },
   {
    "duration": 70,
    "start_time": "2024-07-10T19:36:01.470Z"
   },
   {
    "duration": 86,
    "start_time": "2024-07-10T19:36:01.541Z"
   },
   {
    "duration": 26,
    "start_time": "2024-07-10T19:36:01.629Z"
   },
   {
    "duration": 77,
    "start_time": "2024-07-10T19:36:01.657Z"
   },
   {
    "duration": 6,
    "start_time": "2024-07-10T19:36:01.737Z"
   },
   {
    "duration": 64,
    "start_time": "2024-07-10T19:36:01.745Z"
   },
   {
    "duration": 23,
    "start_time": "2024-07-10T19:36:01.811Z"
   },
   {
    "duration": 292,
    "start_time": "2024-07-10T19:36:01.836Z"
   },
   {
    "duration": 7,
    "start_time": "2024-07-10T19:36:02.130Z"
   },
   {
    "duration": 217,
    "start_time": "2024-07-10T19:36:02.138Z"
   },
   {
    "duration": 15,
    "start_time": "2024-07-10T19:36:02.356Z"
   },
   {
    "duration": 30,
    "start_time": "2024-07-10T19:36:02.372Z"
   },
   {
    "duration": 330,
    "start_time": "2024-07-10T19:36:02.404Z"
   },
   {
    "duration": 253,
    "start_time": "2024-07-10T19:36:02.736Z"
   },
   {
    "duration": 273,
    "start_time": "2024-07-10T19:36:02.991Z"
   },
   {
    "duration": 506,
    "start_time": "2024-07-10T19:36:03.266Z"
   },
   {
    "duration": 6,
    "start_time": "2024-07-10T19:36:03.774Z"
   },
   {
    "duration": 17,
    "start_time": "2024-07-10T19:36:03.781Z"
   },
   {
    "duration": 27,
    "start_time": "2024-07-10T19:36:03.799Z"
   },
   {
    "duration": 7,
    "start_time": "2024-07-10T19:36:03.828Z"
   },
   {
    "duration": 8,
    "start_time": "2024-07-10T19:36:03.837Z"
   },
   {
    "duration": 6,
    "start_time": "2024-07-10T19:36:03.847Z"
   },
   {
    "duration": 6,
    "start_time": "2024-07-10T19:36:03.856Z"
   },
   {
    "duration": 9,
    "start_time": "2024-07-10T19:36:03.864Z"
   },
   {
    "duration": 21,
    "start_time": "2024-07-10T19:36:03.875Z"
   },
   {
    "duration": 29,
    "start_time": "2024-07-10T19:36:03.897Z"
   },
   {
    "duration": 203,
    "start_time": "2024-07-10T19:36:03.928Z"
   },
   {
    "duration": 208,
    "start_time": "2024-07-10T19:36:04.133Z"
   },
   {
    "duration": 561,
    "start_time": "2024-07-10T19:36:04.342Z"
   },
   {
    "duration": 24,
    "start_time": "2024-07-10T19:36:04.904Z"
   },
   {
    "duration": 469,
    "start_time": "2024-07-10T19:36:04.930Z"
   },
   {
    "duration": 25,
    "start_time": "2024-07-10T19:36:05.401Z"
   },
   {
    "duration": 16,
    "start_time": "2024-07-10T19:36:05.432Z"
   },
   {
    "duration": 16,
    "start_time": "2024-07-10T19:36:05.450Z"
   },
   {
    "duration": 20,
    "start_time": "2024-07-10T19:36:05.468Z"
   },
   {
    "duration": 366,
    "start_time": "2024-07-10T19:36:27.363Z"
   },
   {
    "duration": 282,
    "start_time": "2024-07-10T19:37:00.707Z"
   },
   {
    "duration": 289,
    "start_time": "2024-07-10T19:37:25.028Z"
   },
   {
    "duration": 323,
    "start_time": "2024-07-10T19:37:36.562Z"
   },
   {
    "duration": 294,
    "start_time": "2024-07-10T19:37:55.401Z"
   },
   {
    "duration": 446,
    "start_time": "2024-07-10T19:42:24.802Z"
   },
   {
    "duration": 539,
    "start_time": "2024-07-10T19:42:33.107Z"
   },
   {
    "duration": 104,
    "start_time": "2024-07-10T19:45:30.367Z"
   },
   {
    "duration": 470,
    "start_time": "2024-07-10T19:46:24.767Z"
   },
   {
    "duration": 245,
    "start_time": "2024-07-10T19:47:45.648Z"
   },
   {
    "duration": 6,
    "start_time": "2024-07-10T19:48:21.176Z"
   },
   {
    "duration": 461,
    "start_time": "2024-07-10T19:48:45.681Z"
   },
   {
    "duration": 1104,
    "start_time": "2024-07-10T19:53:07.525Z"
   },
   {
    "duration": 1168,
    "start_time": "2024-07-10T19:53:15.309Z"
   },
   {
    "duration": 61,
    "start_time": "2024-07-10T19:53:16.479Z"
   },
   {
    "duration": 18,
    "start_time": "2024-07-10T19:53:16.541Z"
   },
   {
    "duration": 20,
    "start_time": "2024-07-10T19:53:16.561Z"
   },
   {
    "duration": 17,
    "start_time": "2024-07-10T19:53:16.583Z"
   },
   {
    "duration": 23,
    "start_time": "2024-07-10T19:53:16.602Z"
   },
   {
    "duration": 23,
    "start_time": "2024-07-10T19:53:16.626Z"
   },
   {
    "duration": 14,
    "start_time": "2024-07-10T19:53:16.651Z"
   },
   {
    "duration": 20,
    "start_time": "2024-07-10T19:53:16.666Z"
   },
   {
    "duration": 41,
    "start_time": "2024-07-10T19:53:16.688Z"
   },
   {
    "duration": 20,
    "start_time": "2024-07-10T19:53:16.730Z"
   },
   {
    "duration": 6,
    "start_time": "2024-07-10T19:53:16.751Z"
   },
   {
    "duration": 427,
    "start_time": "2024-07-10T19:53:16.759Z"
   },
   {
    "duration": 6,
    "start_time": "2024-07-10T19:53:17.188Z"
   },
   {
    "duration": 207,
    "start_time": "2024-07-10T19:53:17.196Z"
   },
   {
    "duration": 30,
    "start_time": "2024-07-10T19:53:17.405Z"
   },
   {
    "duration": 8,
    "start_time": "2024-07-10T19:53:17.437Z"
   },
   {
    "duration": 316,
    "start_time": "2024-07-10T19:53:17.446Z"
   },
   {
    "duration": 244,
    "start_time": "2024-07-10T19:53:17.764Z"
   },
   {
    "duration": 272,
    "start_time": "2024-07-10T19:53:18.009Z"
   },
   {
    "duration": 490,
    "start_time": "2024-07-10T19:53:18.283Z"
   },
   {
    "duration": 6,
    "start_time": "2024-07-10T19:53:18.775Z"
   },
   {
    "duration": 6,
    "start_time": "2024-07-10T19:53:18.783Z"
   },
   {
    "duration": 33,
    "start_time": "2024-07-10T19:53:18.790Z"
   },
   {
    "duration": 13,
    "start_time": "2024-07-10T19:53:18.825Z"
   },
   {
    "duration": 57,
    "start_time": "2024-07-10T19:53:18.842Z"
   },
   {
    "duration": 29,
    "start_time": "2024-07-10T19:53:18.901Z"
   },
   {
    "duration": 6,
    "start_time": "2024-07-10T19:53:18.939Z"
   },
   {
    "duration": 7,
    "start_time": "2024-07-10T19:53:18.946Z"
   },
   {
    "duration": 9,
    "start_time": "2024-07-10T19:53:18.954Z"
   },
   {
    "duration": 4,
    "start_time": "2024-07-10T19:53:18.965Z"
   },
   {
    "duration": 197,
    "start_time": "2024-07-10T19:53:18.971Z"
   },
   {
    "duration": 208,
    "start_time": "2024-07-10T19:53:19.170Z"
   },
   {
    "duration": 1024,
    "start_time": "2024-07-10T19:53:19.380Z"
   },
   {
    "duration": 32,
    "start_time": "2024-07-10T19:53:20.406Z"
   },
   {
    "duration": 533,
    "start_time": "2024-07-10T19:53:20.439Z"
   },
   {
    "duration": 7,
    "start_time": "2024-07-10T19:53:20.974Z"
   },
   {
    "duration": 14,
    "start_time": "2024-07-10T19:53:20.983Z"
   },
   {
    "duration": 35,
    "start_time": "2024-07-10T19:53:20.998Z"
   },
   {
    "duration": 10,
    "start_time": "2024-07-10T19:53:21.035Z"
   },
   {
    "duration": 468,
    "start_time": "2024-07-10T19:53:36.012Z"
   },
   {
    "duration": 1107,
    "start_time": "2024-07-10T19:53:45.495Z"
   },
   {
    "duration": 67,
    "start_time": "2024-07-10T19:53:46.605Z"
   },
   {
    "duration": 17,
    "start_time": "2024-07-10T19:53:46.674Z"
   },
   {
    "duration": 13,
    "start_time": "2024-07-10T19:53:46.693Z"
   },
   {
    "duration": 32,
    "start_time": "2024-07-10T19:53:46.709Z"
   },
   {
    "duration": 40,
    "start_time": "2024-07-10T19:53:46.742Z"
   },
   {
    "duration": 50,
    "start_time": "2024-07-10T19:53:46.783Z"
   },
   {
    "duration": 36,
    "start_time": "2024-07-10T19:53:46.838Z"
   },
   {
    "duration": 29,
    "start_time": "2024-07-10T19:53:46.875Z"
   },
   {
    "duration": 23,
    "start_time": "2024-07-10T19:53:46.908Z"
   },
   {
    "duration": 28,
    "start_time": "2024-07-10T19:53:46.934Z"
   },
   {
    "duration": 9,
    "start_time": "2024-07-10T19:53:46.963Z"
   },
   {
    "duration": 352,
    "start_time": "2024-07-10T19:53:46.974Z"
   },
   {
    "duration": 9,
    "start_time": "2024-07-10T19:53:47.333Z"
   },
   {
    "duration": 220,
    "start_time": "2024-07-10T19:53:47.343Z"
   },
   {
    "duration": 14,
    "start_time": "2024-07-10T19:53:47.564Z"
   },
   {
    "duration": 58,
    "start_time": "2024-07-10T19:53:47.579Z"
   },
   {
    "duration": 323,
    "start_time": "2024-07-10T19:53:47.639Z"
   },
   {
    "duration": 254,
    "start_time": "2024-07-10T19:53:47.964Z"
   },
   {
    "duration": 240,
    "start_time": "2024-07-10T19:53:48.227Z"
   },
   {
    "duration": 511,
    "start_time": "2024-07-10T19:53:48.469Z"
   },
   {
    "duration": 7,
    "start_time": "2024-07-10T19:53:48.981Z"
   },
   {
    "duration": 17,
    "start_time": "2024-07-10T19:53:48.989Z"
   },
   {
    "duration": 31,
    "start_time": "2024-07-10T19:53:49.007Z"
   },
   {
    "duration": 27,
    "start_time": "2024-07-10T19:53:49.039Z"
   },
   {
    "duration": 41,
    "start_time": "2024-07-10T19:53:49.067Z"
   },
   {
    "duration": 29,
    "start_time": "2024-07-10T19:53:49.109Z"
   },
   {
    "duration": 29,
    "start_time": "2024-07-10T19:53:49.143Z"
   },
   {
    "duration": 17,
    "start_time": "2024-07-10T19:53:49.174Z"
   },
   {
    "duration": 37,
    "start_time": "2024-07-10T19:53:49.192Z"
   },
   {
    "duration": 16,
    "start_time": "2024-07-10T19:53:49.230Z"
   },
   {
    "duration": 227,
    "start_time": "2024-07-10T19:53:49.247Z"
   },
   {
    "duration": 198,
    "start_time": "2024-07-10T19:53:49.476Z"
   },
   {
    "duration": 463,
    "start_time": "2024-07-10T19:53:49.676Z"
   },
   {
    "duration": 9,
    "start_time": "2024-07-10T19:53:50.141Z"
   },
   {
    "duration": 496,
    "start_time": "2024-07-10T19:53:50.152Z"
   },
   {
    "duration": 8,
    "start_time": "2024-07-10T19:53:50.650Z"
   },
   {
    "duration": 18,
    "start_time": "2024-07-10T19:53:50.659Z"
   },
   {
    "duration": 8,
    "start_time": "2024-07-10T19:53:50.678Z"
   },
   {
    "duration": 46,
    "start_time": "2024-07-10T19:53:50.687Z"
   },
   {
    "duration": 8,
    "start_time": "2024-07-10T19:55:09.139Z"
   },
   {
    "duration": 11,
    "start_time": "2024-07-10T19:56:20.298Z"
   },
   {
    "duration": 1070,
    "start_time": "2024-07-10T19:56:47.334Z"
   },
   {
    "duration": 10,
    "start_time": "2024-07-10T19:57:01.335Z"
   },
   {
    "duration": 488,
    "start_time": "2024-07-10T19:58:53.900Z"
   },
   {
    "duration": 12,
    "start_time": "2024-07-10T20:00:04.125Z"
   },
   {
    "duration": 8,
    "start_time": "2024-07-10T20:03:00.637Z"
   },
   {
    "duration": 1161,
    "start_time": "2024-07-10T20:03:08.441Z"
   },
   {
    "duration": 64,
    "start_time": "2024-07-10T20:03:09.603Z"
   },
   {
    "duration": 16,
    "start_time": "2024-07-10T20:03:09.669Z"
   },
   {
    "duration": 13,
    "start_time": "2024-07-10T20:03:09.686Z"
   },
   {
    "duration": 39,
    "start_time": "2024-07-10T20:03:09.701Z"
   },
   {
    "duration": 8,
    "start_time": "2024-07-10T20:03:09.742Z"
   },
   {
    "duration": 14,
    "start_time": "2024-07-10T20:03:09.751Z"
   },
   {
    "duration": 18,
    "start_time": "2024-07-10T20:03:09.767Z"
   },
   {
    "duration": 20,
    "start_time": "2024-07-10T20:03:09.787Z"
   },
   {
    "duration": 14,
    "start_time": "2024-07-10T20:03:09.809Z"
   },
   {
    "duration": 21,
    "start_time": "2024-07-10T20:03:09.833Z"
   },
   {
    "duration": 7,
    "start_time": "2024-07-10T20:03:09.855Z"
   },
   {
    "duration": 288,
    "start_time": "2024-07-10T20:03:09.864Z"
   },
   {
    "duration": 6,
    "start_time": "2024-07-10T20:03:10.154Z"
   },
   {
    "duration": 224,
    "start_time": "2024-07-10T20:03:10.161Z"
   },
   {
    "duration": 14,
    "start_time": "2024-07-10T20:03:10.387Z"
   },
   {
    "duration": 29,
    "start_time": "2024-07-10T20:03:10.411Z"
   },
   {
    "duration": 324,
    "start_time": "2024-07-10T20:03:10.442Z"
   },
   {
    "duration": 255,
    "start_time": "2024-07-10T20:03:10.767Z"
   },
   {
    "duration": 281,
    "start_time": "2024-07-10T20:03:11.030Z"
   },
   {
    "duration": 511,
    "start_time": "2024-07-10T20:03:11.322Z"
   },
   {
    "duration": 7,
    "start_time": "2024-07-10T20:03:11.834Z"
   },
   {
    "duration": 6,
    "start_time": "2024-07-10T20:03:11.843Z"
   },
   {
    "duration": 6,
    "start_time": "2024-07-10T20:03:11.851Z"
   },
   {
    "duration": 5,
    "start_time": "2024-07-10T20:03:11.859Z"
   },
   {
    "duration": 6,
    "start_time": "2024-07-10T20:03:11.866Z"
   },
   {
    "duration": 8,
    "start_time": "2024-07-10T20:03:11.874Z"
   },
   {
    "duration": 20,
    "start_time": "2024-07-10T20:03:11.917Z"
   },
   {
    "duration": 7,
    "start_time": "2024-07-10T20:03:11.938Z"
   },
   {
    "duration": 7,
    "start_time": "2024-07-10T20:03:11.946Z"
   },
   {
    "duration": 5,
    "start_time": "2024-07-10T20:03:11.955Z"
   },
   {
    "duration": 212,
    "start_time": "2024-07-10T20:03:11.961Z"
   },
   {
    "duration": 205,
    "start_time": "2024-07-10T20:03:12.175Z"
   },
   {
    "duration": 485,
    "start_time": "2024-07-10T20:03:12.381Z"
   },
   {
    "duration": 8,
    "start_time": "2024-07-10T20:03:12.868Z"
   },
   {
    "duration": 554,
    "start_time": "2024-07-10T20:03:12.878Z"
   },
   {
    "duration": 8,
    "start_time": "2024-07-10T20:03:13.438Z"
   },
   {
    "duration": 20,
    "start_time": "2024-07-10T20:03:13.447Z"
   },
   {
    "duration": 498,
    "start_time": "2024-07-10T20:03:13.468Z"
   },
   {
    "duration": 9,
    "start_time": "2024-07-10T20:03:13.968Z"
   },
   {
    "duration": 7,
    "start_time": "2024-07-10T20:03:13.978Z"
   },
   {
    "duration": 290,
    "start_time": "2024-07-10T20:04:32.460Z"
   },
   {
    "duration": 7,
    "start_time": "2024-07-10T20:04:49.437Z"
   },
   {
    "duration": 218,
    "start_time": "2024-07-10T20:04:54.468Z"
   },
   {
    "duration": 1116,
    "start_time": "2024-07-10T20:05:17.092Z"
   },
   {
    "duration": 58,
    "start_time": "2024-07-10T20:05:18.210Z"
   },
   {
    "duration": 16,
    "start_time": "2024-07-10T20:05:18.270Z"
   },
   {
    "duration": 55,
    "start_time": "2024-07-10T20:05:18.288Z"
   },
   {
    "duration": 27,
    "start_time": "2024-07-10T20:05:18.344Z"
   },
   {
    "duration": 29,
    "start_time": "2024-07-10T20:05:18.372Z"
   },
   {
    "duration": 21,
    "start_time": "2024-07-10T20:05:18.402Z"
   },
   {
    "duration": 18,
    "start_time": "2024-07-10T20:05:18.442Z"
   },
   {
    "duration": 21,
    "start_time": "2024-07-10T20:05:18.461Z"
   },
   {
    "duration": 6,
    "start_time": "2024-07-10T20:05:18.485Z"
   },
   {
    "duration": 57,
    "start_time": "2024-07-10T20:05:18.492Z"
   },
   {
    "duration": 7,
    "start_time": "2024-07-10T20:05:18.550Z"
   },
   {
    "duration": 279,
    "start_time": "2024-07-10T20:05:18.558Z"
   },
   {
    "duration": 7,
    "start_time": "2024-07-10T20:05:18.838Z"
   },
   {
    "duration": 226,
    "start_time": "2024-07-10T20:05:18.847Z"
   },
   {
    "duration": 14,
    "start_time": "2024-07-10T20:05:19.074Z"
   },
   {
    "duration": 9,
    "start_time": "2024-07-10T20:05:19.090Z"
   },
   {
    "duration": 239,
    "start_time": "2024-07-10T20:05:19.100Z"
   },
   {
    "duration": 244,
    "start_time": "2024-07-10T20:05:19.340Z"
   },
   {
    "duration": 267,
    "start_time": "2024-07-10T20:05:19.586Z"
   },
   {
    "duration": 528,
    "start_time": "2024-07-10T20:05:19.854Z"
   },
   {
    "duration": 7,
    "start_time": "2024-07-10T20:05:20.383Z"
   },
   {
    "duration": 15,
    "start_time": "2024-07-10T20:05:20.391Z"
   },
   {
    "duration": 27,
    "start_time": "2024-07-10T20:05:20.412Z"
   },
   {
    "duration": 9,
    "start_time": "2024-07-10T20:05:20.440Z"
   },
   {
    "duration": 7,
    "start_time": "2024-07-10T20:05:20.450Z"
   },
   {
    "duration": 9,
    "start_time": "2024-07-10T20:05:20.458Z"
   },
   {
    "duration": 6,
    "start_time": "2024-07-10T20:05:20.470Z"
   },
   {
    "duration": 7,
    "start_time": "2024-07-10T20:05:20.477Z"
   },
   {
    "duration": 15,
    "start_time": "2024-07-10T20:05:20.485Z"
   },
   {
    "duration": 28,
    "start_time": "2024-07-10T20:05:20.501Z"
   },
   {
    "duration": 212,
    "start_time": "2024-07-10T20:05:20.530Z"
   },
   {
    "duration": 220,
    "start_time": "2024-07-10T20:05:20.743Z"
   },
   {
    "duration": 438,
    "start_time": "2024-07-10T20:05:20.965Z"
   },
   {
    "duration": 23,
    "start_time": "2024-07-10T20:05:21.405Z"
   },
   {
    "duration": 455,
    "start_time": "2024-07-10T20:05:21.430Z"
   },
   {
    "duration": 8,
    "start_time": "2024-07-10T20:05:21.886Z"
   },
   {
    "duration": 33,
    "start_time": "2024-07-10T20:05:21.895Z"
   },
   {
    "duration": 511,
    "start_time": "2024-07-10T20:05:21.933Z"
   },
   {
    "duration": 7,
    "start_time": "2024-07-10T20:05:22.445Z"
   },
   {
    "duration": 26,
    "start_time": "2024-07-10T20:05:22.454Z"
   },
   {
    "duration": 1128,
    "start_time": "2024-07-10T20:06:43.770Z"
   },
   {
    "duration": 63,
    "start_time": "2024-07-10T20:06:44.900Z"
   },
   {
    "duration": 16,
    "start_time": "2024-07-10T20:06:44.965Z"
   },
   {
    "duration": 14,
    "start_time": "2024-07-10T20:06:44.983Z"
   },
   {
    "duration": 26,
    "start_time": "2024-07-10T20:06:44.998Z"
   },
   {
    "duration": 24,
    "start_time": "2024-07-10T20:06:45.028Z"
   },
   {
    "duration": 22,
    "start_time": "2024-07-10T20:06:45.054Z"
   },
   {
    "duration": 65,
    "start_time": "2024-07-10T20:06:45.078Z"
   },
   {
    "duration": 21,
    "start_time": "2024-07-10T20:06:45.144Z"
   },
   {
    "duration": 8,
    "start_time": "2024-07-10T20:06:45.168Z"
   },
   {
    "duration": 25,
    "start_time": "2024-07-10T20:06:45.178Z"
   },
   {
    "duration": 6,
    "start_time": "2024-07-10T20:06:45.204Z"
   },
   {
    "duration": 270,
    "start_time": "2024-07-10T20:06:45.212Z"
   },
   {
    "duration": 6,
    "start_time": "2024-07-10T20:06:45.483Z"
   },
   {
    "duration": 229,
    "start_time": "2024-07-10T20:06:45.490Z"
   },
   {
    "duration": 19,
    "start_time": "2024-07-10T20:06:45.733Z"
   },
   {
    "duration": 27,
    "start_time": "2024-07-10T20:06:45.756Z"
   },
   {
    "duration": 247,
    "start_time": "2024-07-10T20:06:45.785Z"
   },
   {
    "duration": 246,
    "start_time": "2024-07-10T20:06:46.038Z"
   },
   {
    "duration": 259,
    "start_time": "2024-07-10T20:06:46.286Z"
   },
   {
    "duration": 488,
    "start_time": "2024-07-10T20:06:46.547Z"
   },
   {
    "duration": 13,
    "start_time": "2024-07-10T20:06:47.036Z"
   },
   {
    "duration": 16,
    "start_time": "2024-07-10T20:06:47.051Z"
   },
   {
    "duration": 8,
    "start_time": "2024-07-10T20:06:47.069Z"
   },
   {
    "duration": 7,
    "start_time": "2024-07-10T20:06:47.079Z"
   },
   {
    "duration": 8,
    "start_time": "2024-07-10T20:06:47.088Z"
   },
   {
    "duration": 27,
    "start_time": "2024-07-10T20:06:47.098Z"
   },
   {
    "duration": 25,
    "start_time": "2024-07-10T20:06:47.128Z"
   },
   {
    "duration": 8,
    "start_time": "2024-07-10T20:06:47.157Z"
   },
   {
    "duration": 11,
    "start_time": "2024-07-10T20:06:47.167Z"
   },
   {
    "duration": 20,
    "start_time": "2024-07-10T20:06:47.180Z"
   },
   {
    "duration": 192,
    "start_time": "2024-07-10T20:06:47.202Z"
   },
   {
    "duration": 229,
    "start_time": "2024-07-10T20:06:47.396Z"
   },
   {
    "duration": 441,
    "start_time": "2024-07-10T20:06:47.634Z"
   },
   {
    "duration": 8,
    "start_time": "2024-07-10T20:06:48.077Z"
   },
   {
    "duration": 512,
    "start_time": "2024-07-10T20:06:48.087Z"
   },
   {
    "duration": 20,
    "start_time": "2024-07-10T20:06:48.600Z"
   },
   {
    "duration": 11,
    "start_time": "2024-07-10T20:06:48.633Z"
   },
   {
    "duration": 493,
    "start_time": "2024-07-10T20:06:48.646Z"
   },
   {
    "duration": 11,
    "start_time": "2024-07-10T20:06:49.140Z"
   },
   {
    "duration": 7,
    "start_time": "2024-07-10T20:06:49.152Z"
   },
   {
    "duration": 1148,
    "start_time": "2024-07-10T20:22:22.069Z"
   },
   {
    "duration": 58,
    "start_time": "2024-07-10T20:22:23.218Z"
   },
   {
    "duration": 16,
    "start_time": "2024-07-10T20:22:23.277Z"
   },
   {
    "duration": 13,
    "start_time": "2024-07-10T20:22:23.295Z"
   },
   {
    "duration": 41,
    "start_time": "2024-07-10T20:22:23.309Z"
   },
   {
    "duration": 18,
    "start_time": "2024-07-10T20:22:23.351Z"
   },
   {
    "duration": 16,
    "start_time": "2024-07-10T20:22:23.371Z"
   },
   {
    "duration": 18,
    "start_time": "2024-07-10T20:22:23.389Z"
   },
   {
    "duration": 41,
    "start_time": "2024-07-10T20:22:23.408Z"
   },
   {
    "duration": 7,
    "start_time": "2024-07-10T20:22:23.452Z"
   },
   {
    "duration": 20,
    "start_time": "2024-07-10T20:22:23.460Z"
   },
   {
    "duration": 8,
    "start_time": "2024-07-10T20:22:23.481Z"
   },
   {
    "duration": 301,
    "start_time": "2024-07-10T20:22:23.491Z"
   },
   {
    "duration": 6,
    "start_time": "2024-07-10T20:22:23.794Z"
   },
   {
    "duration": 253,
    "start_time": "2024-07-10T20:22:23.802Z"
   },
   {
    "duration": 15,
    "start_time": "2024-07-10T20:22:24.057Z"
   },
   {
    "duration": 9,
    "start_time": "2024-07-10T20:22:24.074Z"
   },
   {
    "duration": 248,
    "start_time": "2024-07-10T20:22:24.084Z"
   },
   {
    "duration": 256,
    "start_time": "2024-07-10T20:22:24.334Z"
   },
   {
    "duration": 276,
    "start_time": "2024-07-10T20:22:24.591Z"
   },
   {
    "duration": 511,
    "start_time": "2024-07-10T20:22:24.869Z"
   },
   {
    "duration": 6,
    "start_time": "2024-07-10T20:22:25.382Z"
   },
   {
    "duration": 17,
    "start_time": "2024-07-10T20:22:25.389Z"
   },
   {
    "duration": 29,
    "start_time": "2024-07-10T20:22:25.408Z"
   },
   {
    "duration": 7,
    "start_time": "2024-07-10T20:22:25.448Z"
   },
   {
    "duration": 6,
    "start_time": "2024-07-10T20:22:25.456Z"
   },
   {
    "duration": 8,
    "start_time": "2024-07-10T20:22:25.463Z"
   },
   {
    "duration": 6,
    "start_time": "2024-07-10T20:22:25.474Z"
   },
   {
    "duration": 8,
    "start_time": "2024-07-10T20:22:25.481Z"
   },
   {
    "duration": 6,
    "start_time": "2024-07-10T20:22:25.490Z"
   },
   {
    "duration": 5,
    "start_time": "2024-07-10T20:22:25.498Z"
   },
   {
    "duration": 245,
    "start_time": "2024-07-10T20:22:25.504Z"
   },
   {
    "duration": 228,
    "start_time": "2024-07-10T20:22:25.758Z"
   },
   {
    "duration": 493,
    "start_time": "2024-07-10T20:22:25.988Z"
   },
   {
    "duration": 9,
    "start_time": "2024-07-10T20:22:26.483Z"
   },
   {
    "duration": 492,
    "start_time": "2024-07-10T20:22:26.493Z"
   },
   {
    "duration": 9,
    "start_time": "2024-07-10T20:22:26.986Z"
   },
   {
    "duration": 32,
    "start_time": "2024-07-10T20:22:26.996Z"
   },
   {
    "duration": 559,
    "start_time": "2024-07-10T20:22:27.030Z"
   },
   {
    "duration": 8,
    "start_time": "2024-07-10T20:22:27.590Z"
   },
   {
    "duration": 30,
    "start_time": "2024-07-10T20:22:27.599Z"
   },
   {
    "duration": 1224,
    "start_time": "2024-07-11T05:17:41.136Z"
   },
   {
    "duration": 63,
    "start_time": "2024-07-11T05:17:42.362Z"
   },
   {
    "duration": 17,
    "start_time": "2024-07-11T05:17:42.427Z"
   },
   {
    "duration": 13,
    "start_time": "2024-07-11T05:17:42.446Z"
   },
   {
    "duration": 15,
    "start_time": "2024-07-11T05:17:42.460Z"
   },
   {
    "duration": 9,
    "start_time": "2024-07-11T05:17:42.476Z"
   },
   {
    "duration": 14,
    "start_time": "2024-07-11T05:17:42.486Z"
   },
   {
    "duration": 13,
    "start_time": "2024-07-11T05:17:42.501Z"
   },
   {
    "duration": 21,
    "start_time": "2024-07-11T05:17:42.516Z"
   },
   {
    "duration": 31,
    "start_time": "2024-07-11T05:17:42.540Z"
   },
   {
    "duration": 19,
    "start_time": "2024-07-11T05:17:42.573Z"
   },
   {
    "duration": 8,
    "start_time": "2024-07-11T05:17:42.594Z"
   },
   {
    "duration": 302,
    "start_time": "2024-07-11T05:17:42.604Z"
   },
   {
    "duration": 8,
    "start_time": "2024-07-11T05:17:42.908Z"
   },
   {
    "duration": 224,
    "start_time": "2024-07-11T05:17:42.918Z"
   },
   {
    "duration": 28,
    "start_time": "2024-07-11T05:17:43.143Z"
   },
   {
    "duration": 7,
    "start_time": "2024-07-11T05:17:43.173Z"
   },
   {
    "duration": 227,
    "start_time": "2024-07-11T05:17:43.182Z"
   },
   {
    "duration": 259,
    "start_time": "2024-07-11T05:17:43.411Z"
   },
   {
    "duration": 280,
    "start_time": "2024-07-11T05:17:43.672Z"
   },
   {
    "duration": 499,
    "start_time": "2024-07-11T05:17:43.955Z"
   },
   {
    "duration": 12,
    "start_time": "2024-07-11T05:17:44.456Z"
   },
   {
    "duration": 9,
    "start_time": "2024-07-11T05:17:44.470Z"
   },
   {
    "duration": 7,
    "start_time": "2024-07-11T05:17:44.480Z"
   },
   {
    "duration": 6,
    "start_time": "2024-07-11T05:17:44.488Z"
   },
   {
    "duration": 6,
    "start_time": "2024-07-11T05:17:44.496Z"
   },
   {
    "duration": 9,
    "start_time": "2024-07-11T05:17:44.503Z"
   },
   {
    "duration": 10,
    "start_time": "2024-07-11T05:17:44.515Z"
   },
   {
    "duration": 6,
    "start_time": "2024-07-11T05:17:44.527Z"
   },
   {
    "duration": 7,
    "start_time": "2024-07-11T05:17:44.565Z"
   },
   {
    "duration": 6,
    "start_time": "2024-07-11T05:17:44.573Z"
   },
   {
    "duration": 206,
    "start_time": "2024-07-11T05:17:44.580Z"
   },
   {
    "duration": 212,
    "start_time": "2024-07-11T05:17:44.788Z"
   },
   {
    "duration": 470,
    "start_time": "2024-07-11T05:17:45.002Z"
   },
   {
    "duration": 9,
    "start_time": "2024-07-11T05:17:45.473Z"
   },
   {
    "duration": 475,
    "start_time": "2024-07-11T05:17:45.484Z"
   },
   {
    "duration": 9,
    "start_time": "2024-07-11T05:17:45.965Z"
   },
   {
    "duration": 14,
    "start_time": "2024-07-11T05:17:45.976Z"
   },
   {
    "duration": 512,
    "start_time": "2024-07-11T05:17:45.992Z"
   },
   {
    "duration": 9,
    "start_time": "2024-07-11T05:17:46.506Z"
   },
   {
    "duration": 19,
    "start_time": "2024-07-11T05:17:46.517Z"
   },
   {
    "duration": 1194,
    "start_time": "2024-07-11T05:30:56.755Z"
   },
   {
    "duration": 55,
    "start_time": "2024-07-11T05:30:57.951Z"
   },
   {
    "duration": 17,
    "start_time": "2024-07-11T05:30:58.008Z"
   },
   {
    "duration": 26,
    "start_time": "2024-07-11T05:30:58.026Z"
   },
   {
    "duration": 16,
    "start_time": "2024-07-11T05:30:58.054Z"
   },
   {
    "duration": 15,
    "start_time": "2024-07-11T05:30:58.072Z"
   },
   {
    "duration": 28,
    "start_time": "2024-07-11T05:30:58.088Z"
   },
   {
    "duration": 25,
    "start_time": "2024-07-11T05:30:58.118Z"
   },
   {
    "duration": 29,
    "start_time": "2024-07-11T05:30:58.144Z"
   },
   {
    "duration": 22,
    "start_time": "2024-07-11T05:30:58.176Z"
   },
   {
    "duration": 30,
    "start_time": "2024-07-11T05:30:58.200Z"
   },
   {
    "duration": 8,
    "start_time": "2024-07-11T05:30:58.231Z"
   },
   {
    "duration": 293,
    "start_time": "2024-07-11T05:30:58.240Z"
   },
   {
    "duration": 7,
    "start_time": "2024-07-11T05:30:58.535Z"
   },
   {
    "duration": 224,
    "start_time": "2024-07-11T05:30:58.543Z"
   },
   {
    "duration": 16,
    "start_time": "2024-07-11T05:30:58.768Z"
   },
   {
    "duration": 30,
    "start_time": "2024-07-11T05:30:58.785Z"
   },
   {
    "duration": 215,
    "start_time": "2024-07-11T05:30:58.817Z"
   },
   {
    "duration": 245,
    "start_time": "2024-07-11T05:30:59.034Z"
   },
   {
    "duration": 252,
    "start_time": "2024-07-11T05:30:59.280Z"
   },
   {
    "duration": 525,
    "start_time": "2024-07-11T05:30:59.533Z"
   },
   {
    "duration": 7,
    "start_time": "2024-07-11T05:31:00.065Z"
   },
   {
    "duration": 41,
    "start_time": "2024-07-11T05:31:00.074Z"
   },
   {
    "duration": 83,
    "start_time": "2024-07-11T05:31:00.117Z"
   },
   {
    "duration": 68,
    "start_time": "2024-07-11T05:31:00.201Z"
   },
   {
    "duration": 134,
    "start_time": "2024-07-11T05:31:00.271Z"
   },
   {
    "duration": 128,
    "start_time": "2024-07-11T05:31:00.407Z"
   },
   {
    "duration": 78,
    "start_time": "2024-07-11T05:31:00.539Z"
   },
   {
    "duration": 36,
    "start_time": "2024-07-11T05:31:00.619Z"
   },
   {
    "duration": 41,
    "start_time": "2024-07-11T05:31:00.656Z"
   },
   {
    "duration": 19,
    "start_time": "2024-07-11T05:31:00.699Z"
   },
   {
    "duration": 236,
    "start_time": "2024-07-11T05:31:00.720Z"
   },
   {
    "duration": 212,
    "start_time": "2024-07-11T05:31:00.958Z"
   },
   {
    "duration": 459,
    "start_time": "2024-07-11T05:31:01.172Z"
   },
   {
    "duration": 15,
    "start_time": "2024-07-11T05:31:01.632Z"
   },
   {
    "duration": 522,
    "start_time": "2024-07-11T05:31:01.649Z"
   },
   {
    "duration": 17,
    "start_time": "2024-07-11T05:31:02.173Z"
   },
   {
    "duration": 14,
    "start_time": "2024-07-11T05:31:02.193Z"
   },
   {
    "duration": 558,
    "start_time": "2024-07-11T05:31:02.209Z"
   },
   {
    "duration": 10,
    "start_time": "2024-07-11T05:31:02.769Z"
   },
   {
    "duration": 8,
    "start_time": "2024-07-11T05:31:02.781Z"
   },
   {
    "duration": 49,
    "start_time": "2024-07-11T07:02:21.939Z"
   },
   {
    "duration": 1297,
    "start_time": "2024-07-11T07:02:27.357Z"
   },
   {
    "duration": 106,
    "start_time": "2024-07-11T07:02:28.656Z"
   },
   {
    "duration": 19,
    "start_time": "2024-07-11T07:02:28.766Z"
   },
   {
    "duration": 19,
    "start_time": "2024-07-11T07:02:28.786Z"
   },
   {
    "duration": 15,
    "start_time": "2024-07-11T07:02:28.807Z"
   },
   {
    "duration": 13,
    "start_time": "2024-07-11T07:02:28.824Z"
   },
   {
    "duration": 24,
    "start_time": "2024-07-11T07:02:28.839Z"
   },
   {
    "duration": 32,
    "start_time": "2024-07-11T07:02:28.865Z"
   },
   {
    "duration": 22,
    "start_time": "2024-07-11T07:02:28.901Z"
   },
   {
    "duration": 13,
    "start_time": "2024-07-11T07:02:28.924Z"
   },
   {
    "duration": 16,
    "start_time": "2024-07-11T07:02:28.939Z"
   },
   {
    "duration": 7,
    "start_time": "2024-07-11T07:02:28.957Z"
   },
   {
    "duration": 302,
    "start_time": "2024-07-11T07:02:28.966Z"
   },
   {
    "duration": 9,
    "start_time": "2024-07-11T07:02:29.270Z"
   },
   {
    "duration": 224,
    "start_time": "2024-07-11T07:02:29.281Z"
   },
   {
    "duration": 17,
    "start_time": "2024-07-11T07:02:29.506Z"
   },
   {
    "duration": 14,
    "start_time": "2024-07-11T07:02:29.525Z"
   },
   {
    "duration": 220,
    "start_time": "2024-07-11T07:02:29.540Z"
   },
   {
    "duration": 237,
    "start_time": "2024-07-11T07:02:29.762Z"
   },
   {
    "duration": 253,
    "start_time": "2024-07-11T07:02:30.000Z"
   },
   {
    "duration": 606,
    "start_time": "2024-07-11T07:02:30.255Z"
   },
   {
    "duration": 9,
    "start_time": "2024-07-11T07:02:30.862Z"
   },
   {
    "duration": 32,
    "start_time": "2024-07-11T07:02:30.873Z"
   },
   {
    "duration": 73,
    "start_time": "2024-07-11T07:02:30.907Z"
   },
   {
    "duration": 39,
    "start_time": "2024-07-11T07:02:30.982Z"
   },
   {
    "duration": 30,
    "start_time": "2024-07-11T07:02:31.023Z"
   },
   {
    "duration": 56,
    "start_time": "2024-07-11T07:02:31.056Z"
   },
   {
    "duration": 22,
    "start_time": "2024-07-11T07:02:31.114Z"
   },
   {
    "duration": 42,
    "start_time": "2024-07-11T07:02:31.138Z"
   },
   {
    "duration": 75,
    "start_time": "2024-07-11T07:02:31.182Z"
   },
   {
    "duration": 43,
    "start_time": "2024-07-11T07:02:31.259Z"
   },
   {
    "duration": 222,
    "start_time": "2024-07-11T07:02:31.304Z"
   },
   {
    "duration": 209,
    "start_time": "2024-07-11T07:02:31.528Z"
   },
   {
    "duration": 467,
    "start_time": "2024-07-11T07:02:31.739Z"
   },
   {
    "duration": 9,
    "start_time": "2024-07-11T07:02:32.208Z"
   },
   {
    "duration": 478,
    "start_time": "2024-07-11T07:02:32.219Z"
   },
   {
    "duration": 15,
    "start_time": "2024-07-11T07:02:32.698Z"
   },
   {
    "duration": 27,
    "start_time": "2024-07-11T07:02:32.714Z"
   },
   {
    "duration": 472,
    "start_time": "2024-07-11T07:02:32.742Z"
   },
   {
    "duration": 9,
    "start_time": "2024-07-11T07:02:33.216Z"
   },
   {
    "duration": 7,
    "start_time": "2024-07-11T07:02:33.237Z"
   },
   {
    "duration": 389,
    "start_time": "2024-07-11T07:13:12.539Z"
   },
   {
    "duration": 101,
    "start_time": "2024-07-11T07:15:43.786Z"
   },
   {
    "duration": 1051,
    "start_time": "2024-07-11T07:15:55.588Z"
   },
   {
    "duration": 54,
    "start_time": "2024-07-11T07:15:56.641Z"
   },
   {
    "duration": 16,
    "start_time": "2024-07-11T07:15:56.696Z"
   },
   {
    "duration": 97,
    "start_time": "2024-07-11T07:15:56.714Z"
   },
   {
    "duration": 56,
    "start_time": "2024-07-11T07:15:56.813Z"
   },
   {
    "duration": 72,
    "start_time": "2024-07-11T07:15:56.870Z"
   },
   {
    "duration": 37,
    "start_time": "2024-07-11T07:15:56.943Z"
   },
   {
    "duration": 44,
    "start_time": "2024-07-11T07:15:56.982Z"
   },
   {
    "duration": 39,
    "start_time": "2024-07-11T07:15:57.028Z"
   },
   {
    "duration": 38,
    "start_time": "2024-07-11T07:15:57.070Z"
   },
   {
    "duration": 65,
    "start_time": "2024-07-11T07:15:57.109Z"
   },
   {
    "duration": 31,
    "start_time": "2024-07-11T07:15:57.175Z"
   },
   {
    "duration": 325,
    "start_time": "2024-07-11T07:15:57.207Z"
   },
   {
    "duration": 6,
    "start_time": "2024-07-11T07:15:57.537Z"
   },
   {
    "duration": 239,
    "start_time": "2024-07-11T07:15:57.545Z"
   },
   {
    "duration": 15,
    "start_time": "2024-07-11T07:15:57.785Z"
   },
   {
    "duration": 11,
    "start_time": "2024-07-11T07:15:57.801Z"
   },
   {
    "duration": 247,
    "start_time": "2024-07-11T07:15:57.814Z"
   },
   {
    "duration": 236,
    "start_time": "2024-07-11T07:15:58.062Z"
   },
   {
    "duration": 240,
    "start_time": "2024-07-11T07:15:58.300Z"
   },
   {
    "duration": 491,
    "start_time": "2024-07-11T07:15:58.541Z"
   },
   {
    "duration": 7,
    "start_time": "2024-07-11T07:15:59.033Z"
   },
   {
    "duration": 41,
    "start_time": "2024-07-11T07:15:59.041Z"
   },
   {
    "duration": 42,
    "start_time": "2024-07-11T07:15:59.084Z"
   },
   {
    "duration": 35,
    "start_time": "2024-07-11T07:15:59.127Z"
   },
   {
    "duration": 26,
    "start_time": "2024-07-11T07:15:59.164Z"
   },
   {
    "duration": 48,
    "start_time": "2024-07-11T07:15:59.191Z"
   },
   {
    "duration": 20,
    "start_time": "2024-07-11T07:15:59.242Z"
   },
   {
    "duration": 33,
    "start_time": "2024-07-11T07:15:59.264Z"
   },
   {
    "duration": 25,
    "start_time": "2024-07-11T07:15:59.299Z"
   },
   {
    "duration": 25,
    "start_time": "2024-07-11T07:15:59.325Z"
   },
   {
    "duration": 204,
    "start_time": "2024-07-11T07:15:59.352Z"
   },
   {
    "duration": 202,
    "start_time": "2024-07-11T07:15:59.557Z"
   },
   {
    "duration": 448,
    "start_time": "2024-07-11T07:15:59.761Z"
   },
   {
    "duration": 9,
    "start_time": "2024-07-11T07:16:00.210Z"
   },
   {
    "duration": 646,
    "start_time": "2024-07-11T07:16:00.220Z"
   },
   {
    "duration": 14,
    "start_time": "2024-07-11T07:16:00.868Z"
   },
   {
    "duration": 120,
    "start_time": "2024-07-11T07:16:00.884Z"
   },
   {
    "duration": 174,
    "start_time": "2024-07-11T07:16:01.006Z"
   },
   {
    "duration": 0,
    "start_time": "2024-07-11T07:16:01.181Z"
   },
   {
    "duration": 0,
    "start_time": "2024-07-11T07:16:01.183Z"
   },
   {
    "duration": 9,
    "start_time": "2024-07-11T07:16:26.946Z"
   },
   {
    "duration": 1081,
    "start_time": "2024-07-11T07:16:33.180Z"
   },
   {
    "duration": 53,
    "start_time": "2024-07-11T07:16:34.263Z"
   },
   {
    "duration": 16,
    "start_time": "2024-07-11T07:16:34.318Z"
   },
   {
    "duration": 17,
    "start_time": "2024-07-11T07:16:34.336Z"
   },
   {
    "duration": 14,
    "start_time": "2024-07-11T07:16:34.354Z"
   },
   {
    "duration": 9,
    "start_time": "2024-07-11T07:16:34.369Z"
   },
   {
    "duration": 14,
    "start_time": "2024-07-11T07:16:34.379Z"
   },
   {
    "duration": 16,
    "start_time": "2024-07-11T07:16:34.395Z"
   },
   {
    "duration": 36,
    "start_time": "2024-07-11T07:16:34.413Z"
   },
   {
    "duration": 6,
    "start_time": "2024-07-11T07:16:34.451Z"
   },
   {
    "duration": 42,
    "start_time": "2024-07-11T07:16:34.458Z"
   },
   {
    "duration": 16,
    "start_time": "2024-07-11T07:16:34.502Z"
   },
   {
    "duration": 278,
    "start_time": "2024-07-11T07:16:34.519Z"
   },
   {
    "duration": 7,
    "start_time": "2024-07-11T07:16:34.798Z"
   },
   {
    "duration": 211,
    "start_time": "2024-07-11T07:16:34.807Z"
   },
   {
    "duration": 23,
    "start_time": "2024-07-11T07:16:35.020Z"
   },
   {
    "duration": 21,
    "start_time": "2024-07-11T07:16:35.045Z"
   },
   {
    "duration": 243,
    "start_time": "2024-07-11T07:16:35.067Z"
   },
   {
    "duration": 272,
    "start_time": "2024-07-11T07:16:35.312Z"
   },
   {
    "duration": 244,
    "start_time": "2024-07-11T07:16:35.586Z"
   },
   {
    "duration": 475,
    "start_time": "2024-07-11T07:16:35.832Z"
   },
   {
    "duration": 7,
    "start_time": "2024-07-11T07:16:36.309Z"
   },
   {
    "duration": 21,
    "start_time": "2024-07-11T07:16:36.318Z"
   },
   {
    "duration": 6,
    "start_time": "2024-07-11T07:16:36.341Z"
   },
   {
    "duration": 7,
    "start_time": "2024-07-11T07:16:36.348Z"
   },
   {
    "duration": 8,
    "start_time": "2024-07-11T07:16:36.357Z"
   },
   {
    "duration": 5,
    "start_time": "2024-07-11T07:16:36.367Z"
   },
   {
    "duration": 5,
    "start_time": "2024-07-11T07:16:36.375Z"
   },
   {
    "duration": 6,
    "start_time": "2024-07-11T07:16:36.382Z"
   },
   {
    "duration": 12,
    "start_time": "2024-07-11T07:16:36.389Z"
   },
   {
    "duration": 35,
    "start_time": "2024-07-11T07:16:36.403Z"
   },
   {
    "duration": 209,
    "start_time": "2024-07-11T07:16:36.440Z"
   },
   {
    "duration": 239,
    "start_time": "2024-07-11T07:16:36.651Z"
   },
   {
    "duration": 456,
    "start_time": "2024-07-11T07:16:36.892Z"
   },
   {
    "duration": 8,
    "start_time": "2024-07-11T07:16:37.350Z"
   },
   {
    "duration": 461,
    "start_time": "2024-07-11T07:16:37.360Z"
   },
   {
    "duration": 18,
    "start_time": "2024-07-11T07:16:37.822Z"
   },
   {
    "duration": 12,
    "start_time": "2024-07-11T07:16:37.842Z"
   },
   {
    "duration": 94,
    "start_time": "2024-07-11T07:16:37.856Z"
   },
   {
    "duration": 15,
    "start_time": "2024-07-11T07:16:37.952Z"
   },
   {
    "duration": 7,
    "start_time": "2024-07-11T07:16:37.969Z"
   },
   {
    "duration": 103,
    "start_time": "2024-07-11T07:18:44.809Z"
   },
   {
    "duration": 1138,
    "start_time": "2024-07-11T07:19:06.794Z"
   },
   {
    "duration": 59,
    "start_time": "2024-07-11T07:19:07.934Z"
   },
   {
    "duration": 22,
    "start_time": "2024-07-11T07:19:07.996Z"
   },
   {
    "duration": 22,
    "start_time": "2024-07-11T07:19:08.021Z"
   },
   {
    "duration": 14,
    "start_time": "2024-07-11T07:19:08.046Z"
   },
   {
    "duration": 13,
    "start_time": "2024-07-11T07:19:08.062Z"
   },
   {
    "duration": 15,
    "start_time": "2024-07-11T07:19:08.076Z"
   },
   {
    "duration": 14,
    "start_time": "2024-07-11T07:19:08.093Z"
   },
   {
    "duration": 45,
    "start_time": "2024-07-11T07:19:08.109Z"
   },
   {
    "duration": 8,
    "start_time": "2024-07-11T07:19:08.156Z"
   },
   {
    "duration": 25,
    "start_time": "2024-07-11T07:19:08.166Z"
   },
   {
    "duration": 7,
    "start_time": "2024-07-11T07:19:08.192Z"
   },
   {
    "duration": 306,
    "start_time": "2024-07-11T07:19:08.201Z"
   },
   {
    "duration": 7,
    "start_time": "2024-07-11T07:19:08.508Z"
   },
   {
    "duration": 221,
    "start_time": "2024-07-11T07:19:08.517Z"
   },
   {
    "duration": 15,
    "start_time": "2024-07-11T07:19:08.740Z"
   },
   {
    "duration": 85,
    "start_time": "2024-07-11T07:19:08.757Z"
   },
   {
    "duration": 236,
    "start_time": "2024-07-11T07:19:08.843Z"
   },
   {
    "duration": 236,
    "start_time": "2024-07-11T07:19:09.081Z"
   },
   {
    "duration": 254,
    "start_time": "2024-07-11T07:19:09.319Z"
   },
   {
    "duration": 543,
    "start_time": "2024-07-11T07:19:09.574Z"
   },
   {
    "duration": 9,
    "start_time": "2024-07-11T07:19:10.119Z"
   },
   {
    "duration": 19,
    "start_time": "2024-07-11T07:19:10.130Z"
   },
   {
    "duration": 16,
    "start_time": "2024-07-11T07:19:10.151Z"
   },
   {
    "duration": 9,
    "start_time": "2024-07-11T07:19:10.168Z"
   },
   {
    "duration": 8,
    "start_time": "2024-07-11T07:19:10.179Z"
   },
   {
    "duration": 8,
    "start_time": "2024-07-11T07:19:10.189Z"
   },
   {
    "duration": 7,
    "start_time": "2024-07-11T07:19:10.200Z"
   },
   {
    "duration": 20,
    "start_time": "2024-07-11T07:19:10.208Z"
   },
   {
    "duration": 6,
    "start_time": "2024-07-11T07:19:10.238Z"
   },
   {
    "duration": 5,
    "start_time": "2024-07-11T07:19:10.245Z"
   },
   {
    "duration": 195,
    "start_time": "2024-07-11T07:19:10.252Z"
   },
   {
    "duration": 205,
    "start_time": "2024-07-11T07:19:10.448Z"
   },
   {
    "duration": 424,
    "start_time": "2024-07-11T07:19:10.654Z"
   },
   {
    "duration": 9,
    "start_time": "2024-07-11T07:19:11.080Z"
   },
   {
    "duration": 511,
    "start_time": "2024-07-11T07:19:11.090Z"
   },
   {
    "duration": 16,
    "start_time": "2024-07-11T07:19:11.602Z"
   },
   {
    "duration": 26,
    "start_time": "2024-07-11T07:19:11.619Z"
   },
   {
    "duration": 200,
    "start_time": "2024-07-11T07:19:11.647Z"
   },
   {
    "duration": 0,
    "start_time": "2024-07-11T07:19:11.849Z"
   },
   {
    "duration": 0,
    "start_time": "2024-07-11T07:19:11.850Z"
   },
   {
    "duration": 15,
    "start_time": "2024-07-11T07:21:36.946Z"
   },
   {
    "duration": 390,
    "start_time": "2024-07-11T07:21:59.271Z"
   },
   {
    "duration": 352,
    "start_time": "2024-07-11T07:22:38.664Z"
   },
   {
    "duration": 386,
    "start_time": "2024-07-11T07:23:02.072Z"
   },
   {
    "duration": 1092,
    "start_time": "2024-07-11T09:57:20.911Z"
   },
   {
    "duration": 50,
    "start_time": "2024-07-11T09:57:22.004Z"
   },
   {
    "duration": 14,
    "start_time": "2024-07-11T09:57:22.056Z"
   },
   {
    "duration": 61,
    "start_time": "2024-07-11T09:57:22.072Z"
   },
   {
    "duration": 43,
    "start_time": "2024-07-11T09:57:22.135Z"
   },
   {
    "duration": 56,
    "start_time": "2024-07-11T09:57:22.180Z"
   },
   {
    "duration": 28,
    "start_time": "2024-07-11T09:57:22.238Z"
   },
   {
    "duration": 38,
    "start_time": "2024-07-11T09:57:22.267Z"
   },
   {
    "duration": 35,
    "start_time": "2024-07-11T09:57:22.306Z"
   },
   {
    "duration": 13,
    "start_time": "2024-07-11T09:57:22.344Z"
   },
   {
    "duration": 26,
    "start_time": "2024-07-11T09:57:22.358Z"
   },
   {
    "duration": 32,
    "start_time": "2024-07-11T09:57:22.386Z"
   },
   {
    "duration": 262,
    "start_time": "2024-07-11T09:57:22.420Z"
   },
   {
    "duration": 6,
    "start_time": "2024-07-11T09:57:22.684Z"
   },
   {
    "duration": 245,
    "start_time": "2024-07-11T09:57:22.701Z"
   },
   {
    "duration": 12,
    "start_time": "2024-07-11T09:57:22.948Z"
   },
   {
    "duration": 33,
    "start_time": "2024-07-11T09:57:22.961Z"
   },
   {
    "duration": 231,
    "start_time": "2024-07-11T09:57:22.996Z"
   },
   {
    "duration": 250,
    "start_time": "2024-07-11T09:57:23.228Z"
   },
   {
    "duration": 209,
    "start_time": "2024-07-11T09:57:23.479Z"
   },
   {
    "duration": 466,
    "start_time": "2024-07-11T09:57:23.689Z"
   },
   {
    "duration": 7,
    "start_time": "2024-07-11T09:57:24.157Z"
   },
   {
    "duration": 11,
    "start_time": "2024-07-11T09:57:24.165Z"
   },
   {
    "duration": 6,
    "start_time": "2024-07-11T09:57:24.178Z"
   },
   {
    "duration": 20,
    "start_time": "2024-07-11T09:57:24.185Z"
   },
   {
    "duration": 7,
    "start_time": "2024-07-11T09:57:24.207Z"
   },
   {
    "duration": 13,
    "start_time": "2024-07-11T09:57:24.215Z"
   },
   {
    "duration": 12,
    "start_time": "2024-07-11T09:57:24.231Z"
   },
   {
    "duration": 20,
    "start_time": "2024-07-11T09:57:24.244Z"
   },
   {
    "duration": 20,
    "start_time": "2024-07-11T09:57:24.265Z"
   },
   {
    "duration": 10,
    "start_time": "2024-07-11T09:57:24.286Z"
   },
   {
    "duration": 185,
    "start_time": "2024-07-11T09:57:24.297Z"
   },
   {
    "duration": 174,
    "start_time": "2024-07-11T09:57:24.483Z"
   },
   {
    "duration": 410,
    "start_time": "2024-07-11T09:57:24.658Z"
   },
   {
    "duration": 8,
    "start_time": "2024-07-11T09:57:25.069Z"
   },
   {
    "duration": 416,
    "start_time": "2024-07-11T09:57:25.078Z"
   },
   {
    "duration": 12,
    "start_time": "2024-07-11T09:57:25.501Z"
   },
   {
    "duration": 28,
    "start_time": "2024-07-11T09:57:25.515Z"
   },
   {
    "duration": 417,
    "start_time": "2024-07-11T09:57:25.545Z"
   },
   {
    "duration": 8,
    "start_time": "2024-07-11T09:57:25.963Z"
   },
   {
    "duration": 7,
    "start_time": "2024-07-11T09:57:25.972Z"
   },
   {
    "duration": 5,
    "start_time": "2024-07-11T09:59:31.076Z"
   },
   {
    "duration": 4,
    "start_time": "2024-07-11T09:59:39.248Z"
   },
   {
    "duration": 3,
    "start_time": "2024-07-11T10:00:30.616Z"
   },
   {
    "duration": 7,
    "start_time": "2024-07-11T10:00:40.564Z"
   },
   {
    "duration": 4,
    "start_time": "2024-07-11T10:01:16.400Z"
   },
   {
    "duration": 5,
    "start_time": "2024-07-11T10:01:44.853Z"
   },
   {
    "duration": 59,
    "start_time": "2024-07-11T11:19:20.370Z"
   },
   {
    "duration": 1368,
    "start_time": "2024-07-11T11:19:26.119Z"
   },
   {
    "duration": 106,
    "start_time": "2024-07-11T11:19:27.489Z"
   },
   {
    "duration": 25,
    "start_time": "2024-07-11T11:19:27.596Z"
   },
   {
    "duration": 21,
    "start_time": "2024-07-11T11:19:27.624Z"
   },
   {
    "duration": 21,
    "start_time": "2024-07-11T11:19:27.647Z"
   },
   {
    "duration": 13,
    "start_time": "2024-07-11T11:19:27.670Z"
   },
   {
    "duration": 21,
    "start_time": "2024-07-11T11:19:27.685Z"
   },
   {
    "duration": 42,
    "start_time": "2024-07-11T11:19:27.708Z"
   },
   {
    "duration": 25,
    "start_time": "2024-07-11T11:19:27.751Z"
   },
   {
    "duration": 10,
    "start_time": "2024-07-11T11:19:27.779Z"
   },
   {
    "duration": 19,
    "start_time": "2024-07-11T11:19:27.790Z"
   },
   {
    "duration": 36,
    "start_time": "2024-07-11T11:19:27.810Z"
   },
   {
    "duration": 296,
    "start_time": "2024-07-11T11:19:27.847Z"
   },
   {
    "duration": 7,
    "start_time": "2024-07-11T11:19:28.145Z"
   },
   {
    "duration": 228,
    "start_time": "2024-07-11T11:19:28.154Z"
   },
   {
    "duration": 16,
    "start_time": "2024-07-11T11:19:28.383Z"
   },
   {
    "duration": 8,
    "start_time": "2024-07-11T11:19:28.400Z"
   },
   {
    "duration": 279,
    "start_time": "2024-07-11T11:19:28.409Z"
   },
   {
    "duration": 279,
    "start_time": "2024-07-11T11:19:28.690Z"
   },
   {
    "duration": 270,
    "start_time": "2024-07-11T11:19:28.971Z"
   },
   {
    "duration": 634,
    "start_time": "2024-07-11T11:19:29.243Z"
   },
   {
    "duration": 7,
    "start_time": "2024-07-11T11:19:29.878Z"
   },
   {
    "duration": 9,
    "start_time": "2024-07-11T11:19:29.886Z"
   },
   {
    "duration": 17,
    "start_time": "2024-07-11T11:19:29.896Z"
   },
   {
    "duration": 8,
    "start_time": "2024-07-11T11:19:29.915Z"
   },
   {
    "duration": 23,
    "start_time": "2024-07-11T11:19:29.925Z"
   },
   {
    "duration": 8,
    "start_time": "2024-07-11T11:19:29.950Z"
   },
   {
    "duration": 10,
    "start_time": "2024-07-11T11:19:29.962Z"
   },
   {
    "duration": 15,
    "start_time": "2024-07-11T11:19:29.974Z"
   },
   {
    "duration": 13,
    "start_time": "2024-07-11T11:19:29.991Z"
   },
   {
    "duration": 36,
    "start_time": "2024-07-11T11:19:30.006Z"
   },
   {
    "duration": 272,
    "start_time": "2024-07-11T11:19:30.043Z"
   },
   {
    "duration": 217,
    "start_time": "2024-07-11T11:19:30.317Z"
   },
   {
    "duration": 505,
    "start_time": "2024-07-11T11:19:30.537Z"
   },
   {
    "duration": 10,
    "start_time": "2024-07-11T11:19:31.045Z"
   },
   {
    "duration": 592,
    "start_time": "2024-07-11T11:19:31.056Z"
   },
   {
    "duration": 15,
    "start_time": "2024-07-11T11:19:31.649Z"
   },
   {
    "duration": 151,
    "start_time": "2024-07-11T11:19:31.666Z"
   },
   {
    "duration": 494,
    "start_time": "2024-07-11T11:19:31.818Z"
   },
   {
    "duration": 14,
    "start_time": "2024-07-11T11:19:32.315Z"
   },
   {
    "duration": 17,
    "start_time": "2024-07-11T11:19:32.330Z"
   },
   {
    "duration": 39,
    "start_time": "2024-07-11T11:19:32.348Z"
   },
   {
    "duration": 53,
    "start_time": "2024-07-11T11:19:32.388Z"
   },
   {
    "duration": 1208,
    "start_time": "2024-07-11T13:50:54.976Z"
   },
   {
    "duration": 67,
    "start_time": "2024-07-11T13:50:56.186Z"
   },
   {
    "duration": 19,
    "start_time": "2024-07-11T13:50:56.255Z"
   },
   {
    "duration": 31,
    "start_time": "2024-07-11T13:50:56.276Z"
   },
   {
    "duration": 17,
    "start_time": "2024-07-11T13:50:56.309Z"
   },
   {
    "duration": 22,
    "start_time": "2024-07-11T13:50:56.328Z"
   },
   {
    "duration": 17,
    "start_time": "2024-07-11T13:50:56.351Z"
   },
   {
    "duration": 15,
    "start_time": "2024-07-11T13:50:56.369Z"
   },
   {
    "duration": 23,
    "start_time": "2024-07-11T13:50:56.385Z"
   },
   {
    "duration": 36,
    "start_time": "2024-07-11T13:50:56.410Z"
   },
   {
    "duration": 18,
    "start_time": "2024-07-11T13:50:56.447Z"
   },
   {
    "duration": 7,
    "start_time": "2024-07-11T13:50:56.467Z"
   },
   {
    "duration": 317,
    "start_time": "2024-07-11T13:50:56.475Z"
   },
   {
    "duration": 7,
    "start_time": "2024-07-11T13:50:56.794Z"
   },
   {
    "duration": 226,
    "start_time": "2024-07-11T13:50:56.803Z"
   },
   {
    "duration": 23,
    "start_time": "2024-07-11T13:50:57.031Z"
   },
   {
    "duration": 7,
    "start_time": "2024-07-11T13:50:57.055Z"
   },
   {
    "duration": 239,
    "start_time": "2024-07-11T13:50:57.064Z"
   },
   {
    "duration": 270,
    "start_time": "2024-07-11T13:50:57.305Z"
   },
   {
    "duration": 271,
    "start_time": "2024-07-11T13:50:57.576Z"
   },
   {
    "duration": 567,
    "start_time": "2024-07-11T13:50:57.849Z"
   },
   {
    "duration": 7,
    "start_time": "2024-07-11T13:50:58.418Z"
   },
   {
    "duration": 19,
    "start_time": "2024-07-11T13:50:58.427Z"
   },
   {
    "duration": 8,
    "start_time": "2024-07-11T13:50:58.448Z"
   },
   {
    "duration": 8,
    "start_time": "2024-07-11T13:50:58.458Z"
   },
   {
    "duration": 8,
    "start_time": "2024-07-11T13:50:58.467Z"
   },
   {
    "duration": 12,
    "start_time": "2024-07-11T13:50:58.477Z"
   },
   {
    "duration": 6,
    "start_time": "2024-07-11T13:50:58.493Z"
   },
   {
    "duration": 7,
    "start_time": "2024-07-11T13:50:58.501Z"
   },
   {
    "duration": 8,
    "start_time": "2024-07-11T13:50:58.546Z"
   },
   {
    "duration": 10,
    "start_time": "2024-07-11T13:50:58.556Z"
   },
   {
    "duration": 238,
    "start_time": "2024-07-11T13:50:58.567Z"
   },
   {
    "duration": 216,
    "start_time": "2024-07-11T13:50:58.807Z"
   },
   {
    "duration": 488,
    "start_time": "2024-07-11T13:50:59.025Z"
   },
   {
    "duration": 10,
    "start_time": "2024-07-11T13:50:59.516Z"
   },
   {
    "duration": 506,
    "start_time": "2024-07-11T13:50:59.528Z"
   },
   {
    "duration": 24,
    "start_time": "2024-07-11T13:51:00.036Z"
   },
   {
    "duration": 105,
    "start_time": "2024-07-11T13:51:00.062Z"
   },
   {
    "duration": 548,
    "start_time": "2024-07-11T13:51:00.168Z"
   },
   {
    "duration": 12,
    "start_time": "2024-07-11T13:51:00.718Z"
   },
   {
    "duration": 71,
    "start_time": "2024-07-11T13:51:00.731Z"
   },
   {
    "duration": 158,
    "start_time": "2024-07-11T13:51:00.804Z"
   },
   {
    "duration": 124,
    "start_time": "2024-07-11T13:51:00.965Z"
   },
   {
    "duration": 59,
    "start_time": "2024-07-11T14:59:40.529Z"
   },
   {
    "duration": 1404,
    "start_time": "2024-07-11T14:59:50.593Z"
   },
   {
    "duration": 122,
    "start_time": "2024-07-11T14:59:51.999Z"
   },
   {
    "duration": 19,
    "start_time": "2024-07-11T14:59:52.123Z"
   },
   {
    "duration": 33,
    "start_time": "2024-07-11T14:59:52.145Z"
   },
   {
    "duration": 20,
    "start_time": "2024-07-11T14:59:52.180Z"
   },
   {
    "duration": 23,
    "start_time": "2024-07-11T14:59:52.202Z"
   },
   {
    "duration": 16,
    "start_time": "2024-07-11T14:59:52.227Z"
   },
   {
    "duration": 26,
    "start_time": "2024-07-11T14:59:52.247Z"
   },
   {
    "duration": 25,
    "start_time": "2024-07-11T14:59:52.275Z"
   },
   {
    "duration": 9,
    "start_time": "2024-07-11T14:59:52.303Z"
   },
   {
    "duration": 50,
    "start_time": "2024-07-11T14:59:52.313Z"
   },
   {
    "duration": 53,
    "start_time": "2024-07-11T14:59:52.365Z"
   },
   {
    "duration": 373,
    "start_time": "2024-07-11T14:59:52.420Z"
   },
   {
    "duration": 7,
    "start_time": "2024-07-11T14:59:52.794Z"
   },
   {
    "duration": 263,
    "start_time": "2024-07-11T14:59:52.803Z"
   },
   {
    "duration": 17,
    "start_time": "2024-07-11T14:59:53.068Z"
   },
   {
    "duration": 24,
    "start_time": "2024-07-11T14:59:53.086Z"
   },
   {
    "duration": 273,
    "start_time": "2024-07-11T14:59:53.112Z"
   },
   {
    "duration": 304,
    "start_time": "2024-07-11T14:59:53.387Z"
   },
   {
    "duration": 301,
    "start_time": "2024-07-11T14:59:53.693Z"
   },
   {
    "duration": 593,
    "start_time": "2024-07-11T14:59:53.996Z"
   },
   {
    "duration": 8,
    "start_time": "2024-07-11T14:59:54.591Z"
   },
   {
    "duration": 12,
    "start_time": "2024-07-11T14:59:54.600Z"
   },
   {
    "duration": 14,
    "start_time": "2024-07-11T14:59:54.614Z"
   },
   {
    "duration": 25,
    "start_time": "2024-07-11T14:59:54.630Z"
   },
   {
    "duration": 7,
    "start_time": "2024-07-11T14:59:54.657Z"
   },
   {
    "duration": 20,
    "start_time": "2024-07-11T14:59:54.666Z"
   },
   {
    "duration": 9,
    "start_time": "2024-07-11T14:59:54.690Z"
   },
   {
    "duration": 11,
    "start_time": "2024-07-11T14:59:54.701Z"
   },
   {
    "duration": 10,
    "start_time": "2024-07-11T14:59:54.714Z"
   },
   {
    "duration": 11,
    "start_time": "2024-07-11T14:59:54.726Z"
   },
   {
    "duration": 229,
    "start_time": "2024-07-11T14:59:54.748Z"
   },
   {
    "duration": 232,
    "start_time": "2024-07-11T14:59:54.979Z"
   },
   {
    "duration": 523,
    "start_time": "2024-07-11T14:59:55.212Z"
   },
   {
    "duration": 25,
    "start_time": "2024-07-11T14:59:55.737Z"
   },
   {
    "duration": 504,
    "start_time": "2024-07-11T14:59:55.763Z"
   },
   {
    "duration": 17,
    "start_time": "2024-07-11T14:59:56.268Z"
   },
   {
    "duration": 12,
    "start_time": "2024-07-11T14:59:56.286Z"
   },
   {
    "duration": 584,
    "start_time": "2024-07-11T14:59:56.300Z"
   },
   {
    "duration": 12,
    "start_time": "2024-07-11T14:59:56.886Z"
   },
   {
    "duration": 10,
    "start_time": "2024-07-11T14:59:56.900Z"
   },
   {
    "duration": 16,
    "start_time": "2024-07-11T14:59:56.912Z"
   },
   {
    "duration": 22,
    "start_time": "2024-07-11T14:59:56.930Z"
   },
   {
    "duration": 9,
    "start_time": "2024-07-11T15:01:47.058Z"
   },
   {
    "duration": 11,
    "start_time": "2024-07-11T15:01:56.802Z"
   },
   {
    "duration": 9,
    "start_time": "2024-07-11T15:02:03.458Z"
   },
   {
    "duration": 8,
    "start_time": "2024-07-11T15:02:36.697Z"
   },
   {
    "duration": 33,
    "start_time": "2024-07-11T15:02:41.178Z"
   },
   {
    "duration": 34,
    "start_time": "2024-07-11T15:02:48.107Z"
   },
   {
    "duration": 1246,
    "start_time": "2024-07-11T15:02:59.664Z"
   },
   {
    "duration": 63,
    "start_time": "2024-07-11T15:03:00.913Z"
   },
   {
    "duration": 23,
    "start_time": "2024-07-11T15:03:00.978Z"
   },
   {
    "duration": 53,
    "start_time": "2024-07-11T15:03:01.004Z"
   },
   {
    "duration": 43,
    "start_time": "2024-07-11T15:03:01.059Z"
   },
   {
    "duration": 62,
    "start_time": "2024-07-11T15:03:01.104Z"
   },
   {
    "duration": 49,
    "start_time": "2024-07-11T15:03:01.168Z"
   },
   {
    "duration": 59,
    "start_time": "2024-07-11T15:03:01.219Z"
   },
   {
    "duration": 61,
    "start_time": "2024-07-11T15:03:01.280Z"
   },
   {
    "duration": 18,
    "start_time": "2024-07-11T15:03:01.344Z"
   },
   {
    "duration": 72,
    "start_time": "2024-07-11T15:03:01.364Z"
   },
   {
    "duration": 24,
    "start_time": "2024-07-11T15:03:01.437Z"
   },
   {
    "duration": 419,
    "start_time": "2024-07-11T15:03:01.463Z"
   },
   {
    "duration": 7,
    "start_time": "2024-07-11T15:03:01.884Z"
   },
   {
    "duration": 335,
    "start_time": "2024-07-11T15:03:01.892Z"
   },
   {
    "duration": 82,
    "start_time": "2024-07-11T15:03:02.228Z"
   },
   {
    "duration": 384,
    "start_time": "2024-07-11T15:03:02.312Z"
   },
   {
    "duration": 403,
    "start_time": "2024-07-11T15:03:02.698Z"
   },
   {
    "duration": 275,
    "start_time": "2024-07-11T15:03:03.103Z"
   },
   {
    "duration": 286,
    "start_time": "2024-07-11T15:03:03.380Z"
   },
   {
    "duration": 586,
    "start_time": "2024-07-11T15:03:03.669Z"
   },
   {
    "duration": 7,
    "start_time": "2024-07-11T15:03:04.261Z"
   },
   {
    "duration": 23,
    "start_time": "2024-07-11T15:03:04.269Z"
   },
   {
    "duration": 8,
    "start_time": "2024-07-11T15:03:04.294Z"
   },
   {
    "duration": 6,
    "start_time": "2024-07-11T15:03:04.303Z"
   },
   {
    "duration": 16,
    "start_time": "2024-07-11T15:03:04.311Z"
   },
   {
    "duration": 28,
    "start_time": "2024-07-11T15:03:04.329Z"
   },
   {
    "duration": 15,
    "start_time": "2024-07-11T15:03:04.362Z"
   },
   {
    "duration": 19,
    "start_time": "2024-07-11T15:03:04.379Z"
   },
   {
    "duration": 26,
    "start_time": "2024-07-11T15:03:04.400Z"
   },
   {
    "duration": 5,
    "start_time": "2024-07-11T15:03:04.428Z"
   },
   {
    "duration": 212,
    "start_time": "2024-07-11T15:03:04.435Z"
   },
   {
    "duration": 225,
    "start_time": "2024-07-11T15:03:04.656Z"
   },
   {
    "duration": 495,
    "start_time": "2024-07-11T15:03:04.883Z"
   },
   {
    "duration": 10,
    "start_time": "2024-07-11T15:03:05.380Z"
   },
   {
    "duration": 538,
    "start_time": "2024-07-11T15:03:05.393Z"
   },
   {
    "duration": 25,
    "start_time": "2024-07-11T15:03:05.933Z"
   },
   {
    "duration": 17,
    "start_time": "2024-07-11T15:03:05.960Z"
   },
   {
    "duration": 518,
    "start_time": "2024-07-11T15:03:05.979Z"
   },
   {
    "duration": 13,
    "start_time": "2024-07-11T15:03:06.499Z"
   },
   {
    "duration": 19,
    "start_time": "2024-07-11T15:03:06.514Z"
   },
   {
    "duration": 24,
    "start_time": "2024-07-11T15:03:06.535Z"
   },
   {
    "duration": 9,
    "start_time": "2024-07-11T15:03:06.565Z"
   },
   {
    "duration": 20,
    "start_time": "2024-07-11T15:03:06.575Z"
   },
   {
    "duration": 9,
    "start_time": "2024-07-11T15:03:21.681Z"
   },
   {
    "duration": 13,
    "start_time": "2024-07-11T15:05:34.297Z"
   },
   {
    "duration": 4,
    "start_time": "2024-07-11T15:05:37.905Z"
   },
   {
    "duration": 1190,
    "start_time": "2024-07-11T15:05:43.897Z"
   },
   {
    "duration": 61,
    "start_time": "2024-07-11T15:05:45.088Z"
   },
   {
    "duration": 19,
    "start_time": "2024-07-11T15:05:45.155Z"
   },
   {
    "duration": 25,
    "start_time": "2024-07-11T15:05:45.176Z"
   },
   {
    "duration": 19,
    "start_time": "2024-07-11T15:05:45.202Z"
   },
   {
    "duration": 29,
    "start_time": "2024-07-11T15:05:45.222Z"
   },
   {
    "duration": 60,
    "start_time": "2024-07-11T15:05:45.253Z"
   },
   {
    "duration": 49,
    "start_time": "2024-07-11T15:05:45.315Z"
   },
   {
    "duration": 35,
    "start_time": "2024-07-11T15:05:45.366Z"
   },
   {
    "duration": 40,
    "start_time": "2024-07-11T15:05:45.403Z"
   },
   {
    "duration": 139,
    "start_time": "2024-07-11T15:05:45.445Z"
   },
   {
    "duration": 7,
    "start_time": "2024-07-11T15:05:45.586Z"
   },
   {
    "duration": 332,
    "start_time": "2024-07-11T15:05:45.595Z"
   },
   {
    "duration": 23,
    "start_time": "2024-07-11T15:05:45.928Z"
   },
   {
    "duration": 226,
    "start_time": "2024-07-11T15:05:45.957Z"
   },
   {
    "duration": 16,
    "start_time": "2024-07-11T15:05:46.185Z"
   },
   {
    "duration": 7,
    "start_time": "2024-07-11T15:05:46.203Z"
   },
   {
    "duration": 278,
    "start_time": "2024-07-11T15:05:46.211Z"
   },
   {
    "duration": 290,
    "start_time": "2024-07-11T15:05:46.492Z"
   },
   {
    "duration": 294,
    "start_time": "2024-07-11T15:05:46.783Z"
   },
   {
    "duration": 602,
    "start_time": "2024-07-11T15:05:47.079Z"
   },
   {
    "duration": 8,
    "start_time": "2024-07-11T15:05:47.683Z"
   },
   {
    "duration": 7,
    "start_time": "2024-07-11T15:05:47.693Z"
   },
   {
    "duration": 15,
    "start_time": "2024-07-11T15:05:47.702Z"
   },
   {
    "duration": 10,
    "start_time": "2024-07-11T15:05:47.718Z"
   },
   {
    "duration": 20,
    "start_time": "2024-07-11T15:05:47.745Z"
   },
   {
    "duration": 17,
    "start_time": "2024-07-11T15:05:47.767Z"
   },
   {
    "duration": 27,
    "start_time": "2024-07-11T15:05:47.788Z"
   },
   {
    "duration": 16,
    "start_time": "2024-07-11T15:05:47.817Z"
   },
   {
    "duration": 24,
    "start_time": "2024-07-11T15:05:47.835Z"
   },
   {
    "duration": 8,
    "start_time": "2024-07-11T15:05:47.861Z"
   },
   {
    "duration": 226,
    "start_time": "2024-07-11T15:05:47.870Z"
   },
   {
    "duration": 232,
    "start_time": "2024-07-11T15:05:48.098Z"
   },
   {
    "duration": 532,
    "start_time": "2024-07-11T15:05:48.332Z"
   },
   {
    "duration": 11,
    "start_time": "2024-07-11T15:05:48.866Z"
   },
   {
    "duration": 530,
    "start_time": "2024-07-11T15:05:48.879Z"
   },
   {
    "duration": 15,
    "start_time": "2024-07-11T15:05:49.410Z"
   },
   {
    "duration": 45,
    "start_time": "2024-07-11T15:05:49.427Z"
   },
   {
    "duration": 521,
    "start_time": "2024-07-11T15:05:49.473Z"
   },
   {
    "duration": 11,
    "start_time": "2024-07-11T15:05:49.996Z"
   },
   {
    "duration": 90,
    "start_time": "2024-07-11T15:05:50.008Z"
   },
   {
    "duration": 27,
    "start_time": "2024-07-11T15:05:50.100Z"
   },
   {
    "duration": 14,
    "start_time": "2024-07-11T15:05:50.128Z"
   },
   {
    "duration": 4,
    "start_time": "2024-07-11T15:05:56.178Z"
   },
   {
    "duration": 16,
    "start_time": "2024-07-11T15:06:05.044Z"
   },
   {
    "duration": 4,
    "start_time": "2024-07-11T15:06:08.956Z"
   },
   {
    "duration": 10,
    "start_time": "2024-07-11T15:06:29.457Z"
   },
   {
    "duration": 5,
    "start_time": "2024-07-11T15:06:33.121Z"
   },
   {
    "duration": 4,
    "start_time": "2024-07-11T15:06:39.360Z"
   },
   {
    "duration": 1326,
    "start_time": "2024-07-11T16:09:54.535Z"
   },
   {
    "duration": 116,
    "start_time": "2024-07-11T16:09:55.863Z"
   },
   {
    "duration": 16,
    "start_time": "2024-07-11T16:09:55.980Z"
   },
   {
    "duration": 14,
    "start_time": "2024-07-11T16:09:55.998Z"
   },
   {
    "duration": 13,
    "start_time": "2024-07-11T16:09:56.013Z"
   },
   {
    "duration": 9,
    "start_time": "2024-07-11T16:09:56.027Z"
   },
   {
    "duration": 13,
    "start_time": "2024-07-11T16:09:56.038Z"
   },
   {
    "duration": 16,
    "start_time": "2024-07-11T16:09:56.052Z"
   },
   {
    "duration": 50,
    "start_time": "2024-07-11T16:09:56.070Z"
   },
   {
    "duration": 6,
    "start_time": "2024-07-11T16:09:56.123Z"
   },
   {
    "duration": 26,
    "start_time": "2024-07-11T16:09:56.130Z"
   },
   {
    "duration": 6,
    "start_time": "2024-07-11T16:09:56.158Z"
   },
   {
    "duration": 256,
    "start_time": "2024-07-11T16:09:56.166Z"
   },
   {
    "duration": 6,
    "start_time": "2024-07-11T16:09:56.424Z"
   },
   {
    "duration": 200,
    "start_time": "2024-07-11T16:09:56.431Z"
   },
   {
    "duration": 14,
    "start_time": "2024-07-11T16:09:56.633Z"
   },
   {
    "duration": 6,
    "start_time": "2024-07-11T16:09:56.649Z"
   },
   {
    "duration": 223,
    "start_time": "2024-07-11T16:09:56.657Z"
   },
   {
    "duration": 298,
    "start_time": "2024-07-11T16:09:56.882Z"
   },
   {
    "duration": 232,
    "start_time": "2024-07-11T16:09:57.182Z"
   },
   {
    "duration": 493,
    "start_time": "2024-07-11T16:09:57.415Z"
   },
   {
    "duration": 7,
    "start_time": "2024-07-11T16:09:57.911Z"
   },
   {
    "duration": 8,
    "start_time": "2024-07-11T16:09:57.919Z"
   },
   {
    "duration": 8,
    "start_time": "2024-07-11T16:09:57.929Z"
   },
   {
    "duration": 21,
    "start_time": "2024-07-11T16:09:57.939Z"
   },
   {
    "duration": 22,
    "start_time": "2024-07-11T16:09:57.962Z"
   },
   {
    "duration": 19,
    "start_time": "2024-07-11T16:09:57.986Z"
   },
   {
    "duration": 8,
    "start_time": "2024-07-11T16:09:58.009Z"
   },
   {
    "duration": 8,
    "start_time": "2024-07-11T16:09:58.019Z"
   },
   {
    "duration": 20,
    "start_time": "2024-07-11T16:09:58.028Z"
   },
   {
    "duration": 23,
    "start_time": "2024-07-11T16:09:58.050Z"
   },
   {
    "duration": 239,
    "start_time": "2024-07-11T16:09:58.075Z"
   },
   {
    "duration": 185,
    "start_time": "2024-07-11T16:09:58.315Z"
   },
   {
    "duration": 416,
    "start_time": "2024-07-11T16:09:58.502Z"
   },
   {
    "duration": 8,
    "start_time": "2024-07-11T16:09:58.919Z"
   },
   {
    "duration": 445,
    "start_time": "2024-07-11T16:09:58.929Z"
   },
   {
    "duration": 17,
    "start_time": "2024-07-11T16:09:59.376Z"
   },
   {
    "duration": 41,
    "start_time": "2024-07-11T16:09:59.397Z"
   },
   {
    "duration": 433,
    "start_time": "2024-07-11T16:09:59.440Z"
   },
   {
    "duration": 9,
    "start_time": "2024-07-11T16:09:59.875Z"
   },
   {
    "duration": 10,
    "start_time": "2024-07-11T16:09:59.886Z"
   },
   {
    "duration": 21,
    "start_time": "2024-07-11T16:09:59.897Z"
   },
   {
    "duration": 7,
    "start_time": "2024-07-11T16:09:59.920Z"
   },
   {
    "duration": 1557,
    "start_time": "2024-07-11T16:44:32.443Z"
   },
   {
    "duration": 125,
    "start_time": "2024-07-11T16:44:34.002Z"
   },
   {
    "duration": 22,
    "start_time": "2024-07-11T16:44:34.129Z"
   },
   {
    "duration": 21,
    "start_time": "2024-07-11T16:44:34.155Z"
   },
   {
    "duration": 17,
    "start_time": "2024-07-11T16:44:34.178Z"
   },
   {
    "duration": 13,
    "start_time": "2024-07-11T16:44:34.197Z"
   },
   {
    "duration": 47,
    "start_time": "2024-07-11T16:44:34.212Z"
   },
   {
    "duration": 17,
    "start_time": "2024-07-11T16:44:34.261Z"
   },
   {
    "duration": 24,
    "start_time": "2024-07-11T16:44:34.280Z"
   },
   {
    "duration": 8,
    "start_time": "2024-07-11T16:44:34.308Z"
   },
   {
    "duration": 45,
    "start_time": "2024-07-11T16:44:34.318Z"
   },
   {
    "duration": 7,
    "start_time": "2024-07-11T16:44:34.365Z"
   },
   {
    "duration": 327,
    "start_time": "2024-07-11T16:44:34.374Z"
   },
   {
    "duration": 7,
    "start_time": "2024-07-11T16:44:34.702Z"
   },
   {
    "duration": 297,
    "start_time": "2024-07-11T16:44:34.710Z"
   },
   {
    "duration": 16,
    "start_time": "2024-07-11T16:44:35.009Z"
   },
   {
    "duration": 20,
    "start_time": "2024-07-11T16:44:35.027Z"
   },
   {
    "duration": 277,
    "start_time": "2024-07-11T16:44:35.049Z"
   },
   {
    "duration": 279,
    "start_time": "2024-07-11T16:44:35.328Z"
   },
   {
    "duration": 309,
    "start_time": "2024-07-11T16:44:35.609Z"
   },
   {
    "duration": 605,
    "start_time": "2024-07-11T16:44:35.919Z"
   },
   {
    "duration": 8,
    "start_time": "2024-07-11T16:44:36.526Z"
   },
   {
    "duration": 17,
    "start_time": "2024-07-11T16:44:36.547Z"
   },
   {
    "duration": 8,
    "start_time": "2024-07-11T16:44:36.567Z"
   },
   {
    "duration": 17,
    "start_time": "2024-07-11T16:44:36.577Z"
   },
   {
    "duration": 7,
    "start_time": "2024-07-11T16:44:36.596Z"
   },
   {
    "duration": 8,
    "start_time": "2024-07-11T16:44:36.605Z"
   },
   {
    "duration": 38,
    "start_time": "2024-07-11T16:44:36.618Z"
   },
   {
    "duration": 8,
    "start_time": "2024-07-11T16:44:36.658Z"
   },
   {
    "duration": 36,
    "start_time": "2024-07-11T16:44:36.668Z"
   },
   {
    "duration": 23,
    "start_time": "2024-07-11T16:44:36.705Z"
   },
   {
    "duration": 219,
    "start_time": "2024-07-11T16:44:36.730Z"
   },
   {
    "duration": 236,
    "start_time": "2024-07-11T16:44:36.951Z"
   },
   {
    "duration": 531,
    "start_time": "2024-07-11T16:44:37.189Z"
   },
   {
    "duration": 10,
    "start_time": "2024-07-11T16:44:37.722Z"
   },
   {
    "duration": 505,
    "start_time": "2024-07-11T16:44:37.749Z"
   },
   {
    "duration": 19,
    "start_time": "2024-07-11T16:44:38.259Z"
   },
   {
    "duration": 17,
    "start_time": "2024-07-11T16:44:38.280Z"
   },
   {
    "duration": 577,
    "start_time": "2024-07-11T16:44:38.298Z"
   },
   {
    "duration": 13,
    "start_time": "2024-07-11T16:44:38.877Z"
   },
   {
    "duration": 66,
    "start_time": "2024-07-11T16:44:38.892Z"
   },
   {
    "duration": 11,
    "start_time": "2024-07-11T16:44:38.960Z"
   },
   {
    "duration": 5,
    "start_time": "2024-07-11T16:44:38.973Z"
   },
   {
    "duration": 4,
    "start_time": "2024-07-11T16:45:10.317Z"
   },
   {
    "duration": 6,
    "start_time": "2024-07-11T16:45:39.254Z"
   },
   {
    "duration": 1442,
    "start_time": "2024-07-11T16:46:27.845Z"
   },
   {
    "duration": 63,
    "start_time": "2024-07-11T16:46:29.289Z"
   },
   {
    "duration": 23,
    "start_time": "2024-07-11T16:46:29.354Z"
   },
   {
    "duration": 17,
    "start_time": "2024-07-11T16:46:29.379Z"
   },
   {
    "duration": 16,
    "start_time": "2024-07-11T16:46:29.398Z"
   },
   {
    "duration": 55,
    "start_time": "2024-07-11T16:46:29.416Z"
   },
   {
    "duration": 25,
    "start_time": "2024-07-11T16:46:29.473Z"
   },
   {
    "duration": 19,
    "start_time": "2024-07-11T16:46:29.500Z"
   },
   {
    "duration": 64,
    "start_time": "2024-07-11T16:46:29.521Z"
   },
   {
    "duration": 7,
    "start_time": "2024-07-11T16:46:29.588Z"
   },
   {
    "duration": 21,
    "start_time": "2024-07-11T16:46:29.596Z"
   },
   {
    "duration": 10,
    "start_time": "2024-07-11T16:46:29.618Z"
   },
   {
    "duration": 354,
    "start_time": "2024-07-11T16:46:29.629Z"
   },
   {
    "duration": 8,
    "start_time": "2024-07-11T16:46:29.985Z"
   },
   {
    "duration": 298,
    "start_time": "2024-07-11T16:46:29.995Z"
   },
   {
    "duration": 20,
    "start_time": "2024-07-11T16:46:30.295Z"
   },
   {
    "duration": 86,
    "start_time": "2024-07-11T16:46:30.318Z"
   },
   {
    "duration": 387,
    "start_time": "2024-07-11T16:46:30.406Z"
   },
   {
    "duration": 297,
    "start_time": "2024-07-11T16:46:30.795Z"
   },
   {
    "duration": 339,
    "start_time": "2024-07-11T16:46:31.093Z"
   },
   {
    "duration": 660,
    "start_time": "2024-07-11T16:46:31.434Z"
   },
   {
    "duration": 21,
    "start_time": "2024-07-11T16:46:32.095Z"
   },
   {
    "duration": 26,
    "start_time": "2024-07-11T16:46:32.118Z"
   },
   {
    "duration": 40,
    "start_time": "2024-07-11T16:46:32.150Z"
   },
   {
    "duration": 24,
    "start_time": "2024-07-11T16:46:32.192Z"
   },
   {
    "duration": 24,
    "start_time": "2024-07-11T16:46:32.218Z"
   },
   {
    "duration": 40,
    "start_time": "2024-07-11T16:46:32.244Z"
   },
   {
    "duration": 30,
    "start_time": "2024-07-11T16:46:32.288Z"
   },
   {
    "duration": 18,
    "start_time": "2024-07-11T16:46:32.320Z"
   },
   {
    "duration": 30,
    "start_time": "2024-07-11T16:46:32.340Z"
   },
   {
    "duration": 7,
    "start_time": "2024-07-11T16:46:32.372Z"
   },
   {
    "duration": 252,
    "start_time": "2024-07-11T16:46:32.380Z"
   },
   {
    "duration": 235,
    "start_time": "2024-07-11T16:46:32.634Z"
   },
   {
    "duration": 526,
    "start_time": "2024-07-11T16:46:32.871Z"
   },
   {
    "duration": 9,
    "start_time": "2024-07-11T16:46:33.399Z"
   },
   {
    "duration": 652,
    "start_time": "2024-07-11T16:46:33.410Z"
   },
   {
    "duration": 17,
    "start_time": "2024-07-11T16:46:34.064Z"
   },
   {
    "duration": 22,
    "start_time": "2024-07-11T16:46:34.083Z"
   },
   {
    "duration": 581,
    "start_time": "2024-07-11T16:46:34.106Z"
   },
   {
    "duration": 15,
    "start_time": "2024-07-11T16:46:34.689Z"
   },
   {
    "duration": 4,
    "start_time": "2024-07-11T16:46:34.705Z"
   },
   {
    "duration": 7,
    "start_time": "2024-07-11T16:46:34.711Z"
   },
   {
    "duration": 29,
    "start_time": "2024-07-11T16:46:34.720Z"
   },
   {
    "duration": 5,
    "start_time": "2024-07-11T16:47:16.121Z"
   },
   {
    "duration": 1189,
    "start_time": "2024-07-11T16:49:39.417Z"
   },
   {
    "duration": 60,
    "start_time": "2024-07-11T16:49:40.608Z"
   },
   {
    "duration": 20,
    "start_time": "2024-07-11T16:49:40.670Z"
   },
   {
    "duration": 15,
    "start_time": "2024-07-11T16:49:40.692Z"
   },
   {
    "duration": 15,
    "start_time": "2024-07-11T16:49:40.709Z"
   },
   {
    "duration": 32,
    "start_time": "2024-07-11T16:49:40.725Z"
   },
   {
    "duration": 23,
    "start_time": "2024-07-11T16:49:40.758Z"
   },
   {
    "duration": 16,
    "start_time": "2024-07-11T16:49:40.782Z"
   },
   {
    "duration": 24,
    "start_time": "2024-07-11T16:49:40.799Z"
   },
   {
    "duration": 45,
    "start_time": "2024-07-11T16:49:40.845Z"
   },
   {
    "duration": 140,
    "start_time": "2024-07-11T16:49:40.891Z"
   },
   {
    "duration": 16,
    "start_time": "2024-07-11T16:49:41.032Z"
   },
   {
    "duration": 301,
    "start_time": "2024-07-11T16:49:41.050Z"
   },
   {
    "duration": 7,
    "start_time": "2024-07-11T16:49:41.353Z"
   },
   {
    "duration": 266,
    "start_time": "2024-07-11T16:49:41.362Z"
   },
   {
    "duration": 23,
    "start_time": "2024-07-11T16:49:41.629Z"
   },
   {
    "duration": 15,
    "start_time": "2024-07-11T16:49:41.653Z"
   },
   {
    "duration": 247,
    "start_time": "2024-07-11T16:49:41.670Z"
   },
   {
    "duration": 262,
    "start_time": "2024-07-11T16:49:41.918Z"
   },
   {
    "duration": 271,
    "start_time": "2024-07-11T16:49:42.182Z"
   },
   {
    "duration": 560,
    "start_time": "2024-07-11T16:49:42.455Z"
   },
   {
    "duration": 9,
    "start_time": "2024-07-11T16:49:43.017Z"
   },
   {
    "duration": 19,
    "start_time": "2024-07-11T16:49:43.028Z"
   },
   {
    "duration": 6,
    "start_time": "2024-07-11T16:49:43.049Z"
   },
   {
    "duration": 7,
    "start_time": "2024-07-11T16:49:43.057Z"
   },
   {
    "duration": 10,
    "start_time": "2024-07-11T16:49:43.066Z"
   },
   {
    "duration": 10,
    "start_time": "2024-07-11T16:49:43.077Z"
   },
   {
    "duration": 20,
    "start_time": "2024-07-11T16:49:43.090Z"
   },
   {
    "duration": 11,
    "start_time": "2024-07-11T16:49:43.112Z"
   },
   {
    "duration": 7,
    "start_time": "2024-07-11T16:49:43.146Z"
   },
   {
    "duration": 8,
    "start_time": "2024-07-11T16:49:43.155Z"
   },
   {
    "duration": 243,
    "start_time": "2024-07-11T16:49:43.164Z"
   },
   {
    "duration": 224,
    "start_time": "2024-07-11T16:49:43.409Z"
   },
   {
    "duration": 467,
    "start_time": "2024-07-11T16:49:43.635Z"
   },
   {
    "duration": 9,
    "start_time": "2024-07-11T16:49:44.105Z"
   },
   {
    "duration": 532,
    "start_time": "2024-07-11T16:49:44.117Z"
   },
   {
    "duration": 16,
    "start_time": "2024-07-11T16:49:44.650Z"
   },
   {
    "duration": 18,
    "start_time": "2024-07-11T16:49:44.668Z"
   },
   {
    "duration": 560,
    "start_time": "2024-07-11T16:49:44.688Z"
   },
   {
    "duration": 13,
    "start_time": "2024-07-11T16:49:45.249Z"
   },
   {
    "duration": 11,
    "start_time": "2024-07-11T16:49:45.263Z"
   },
   {
    "duration": 17,
    "start_time": "2024-07-11T16:49:45.275Z"
   },
   {
    "duration": 10,
    "start_time": "2024-07-11T16:49:45.294Z"
   },
   {
    "duration": 1126,
    "start_time": "2024-07-12T05:08:02.731Z"
   },
   {
    "duration": 101,
    "start_time": "2024-07-12T05:08:03.859Z"
   },
   {
    "duration": 14,
    "start_time": "2024-07-12T05:08:03.962Z"
   },
   {
    "duration": 11,
    "start_time": "2024-07-12T05:08:03.977Z"
   },
   {
    "duration": 20,
    "start_time": "2024-07-12T05:08:03.989Z"
   },
   {
    "duration": 16,
    "start_time": "2024-07-12T05:08:04.010Z"
   },
   {
    "duration": 18,
    "start_time": "2024-07-12T05:08:04.027Z"
   },
   {
    "duration": 11,
    "start_time": "2024-07-12T05:08:04.047Z"
   },
   {
    "duration": 16,
    "start_time": "2024-07-12T05:08:04.060Z"
   },
   {
    "duration": 12,
    "start_time": "2024-07-12T05:08:04.078Z"
   },
   {
    "duration": 17,
    "start_time": "2024-07-12T05:08:04.091Z"
   },
   {
    "duration": 6,
    "start_time": "2024-07-12T05:08:04.110Z"
   },
   {
    "duration": 243,
    "start_time": "2024-07-12T05:08:04.117Z"
   },
   {
    "duration": 6,
    "start_time": "2024-07-12T05:08:04.362Z"
   },
   {
    "duration": 178,
    "start_time": "2024-07-12T05:08:04.369Z"
   },
   {
    "duration": 13,
    "start_time": "2024-07-12T05:08:04.548Z"
   },
   {
    "duration": 58,
    "start_time": "2024-07-12T05:08:04.562Z"
   },
   {
    "duration": 186,
    "start_time": "2024-07-12T05:08:04.621Z"
   },
   {
    "duration": 204,
    "start_time": "2024-07-12T05:08:04.809Z"
   },
   {
    "duration": 206,
    "start_time": "2024-07-12T05:08:05.015Z"
   },
   {
    "duration": 511,
    "start_time": "2024-07-12T05:08:05.223Z"
   },
   {
    "duration": 8,
    "start_time": "2024-07-12T05:08:05.736Z"
   },
   {
    "duration": 21,
    "start_time": "2024-07-12T05:08:05.745Z"
   },
   {
    "duration": 32,
    "start_time": "2024-07-12T05:08:05.768Z"
   },
   {
    "duration": 35,
    "start_time": "2024-07-12T05:08:05.802Z"
   },
   {
    "duration": 6,
    "start_time": "2024-07-12T05:08:05.839Z"
   },
   {
    "duration": 8,
    "start_time": "2024-07-12T05:08:05.847Z"
   },
   {
    "duration": 7,
    "start_time": "2024-07-12T05:08:05.858Z"
   },
   {
    "duration": 12,
    "start_time": "2024-07-12T05:08:05.867Z"
   },
   {
    "duration": 43,
    "start_time": "2024-07-12T05:08:05.880Z"
   },
   {
    "duration": 12,
    "start_time": "2024-07-12T05:08:05.925Z"
   },
   {
    "duration": 164,
    "start_time": "2024-07-12T05:08:05.938Z"
   },
   {
    "duration": 173,
    "start_time": "2024-07-12T05:08:06.103Z"
   },
   {
    "duration": 379,
    "start_time": "2024-07-12T05:08:06.278Z"
   },
   {
    "duration": 7,
    "start_time": "2024-07-12T05:08:06.659Z"
   },
   {
    "duration": 380,
    "start_time": "2024-07-12T05:08:06.667Z"
   },
   {
    "duration": 12,
    "start_time": "2024-07-12T05:08:07.048Z"
   },
   {
    "duration": 30,
    "start_time": "2024-07-12T05:08:07.061Z"
   },
   {
    "duration": 404,
    "start_time": "2024-07-12T05:08:07.092Z"
   },
   {
    "duration": 12,
    "start_time": "2024-07-12T05:08:07.501Z"
   },
   {
    "duration": 6,
    "start_time": "2024-07-12T05:08:07.514Z"
   },
   {
    "duration": 17,
    "start_time": "2024-07-12T05:08:07.521Z"
   },
   {
    "duration": 19,
    "start_time": "2024-07-12T05:08:07.539Z"
   }
  ],
  "kernelspec": {
   "display_name": "Python 3 (ipykernel)",
   "language": "python",
   "name": "python3"
  },
  "language_info": {
   "codemirror_mode": {
    "name": "ipython",
    "version": 3
   },
   "file_extension": ".py",
   "mimetype": "text/x-python",
   "name": "python",
   "nbconvert_exporter": "python",
   "pygments_lexer": "ipython3",
   "version": "3.9.5"
  },
  "toc": {
   "base_numbering": 1,
   "nav_menu": {},
   "number_sections": true,
   "sideBar": true,
   "skip_h1_title": true,
   "title_cell": "Table of Contents",
   "title_sidebar": "Contents",
   "toc_cell": false,
   "toc_position": {},
   "toc_section_display": true,
   "toc_window_display": false
  }
 },
 "nbformat": 4,
 "nbformat_minor": 2
}
