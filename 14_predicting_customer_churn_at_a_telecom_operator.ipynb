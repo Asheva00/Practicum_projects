{
 "cells": [
  {
   "cell_type": "markdown",
   "id": "fe393e83",
   "metadata": {},
   "source": [
    "**Описание проекта: телекоммуникации**\n",
    "\n",
    "Оператор связи «ТелеДом» хочет бороться с оттоком клиентов. Для этого его сотрудники начнут предлагать промокоды и специальные условия всем, кто планирует отказаться от услуг связи. Чтобы заранее находить таких пользователей, «ТелеДому» нужна модель, которая будет предсказывать, разорвёт ли абонент договор. Команда оператора собрала персональные данные о некоторых клиентах, информацию об их тарифах и услугах. Ваша задача — обучить на этих данных модель для прогноза оттока клиентов.\n",
    "\n",
    "*Описание услуг*\n",
    "\n",
    "Оператор предоставляет два основных типа услуг:\n",
    "\n",
    "•\tСтационарную телефонную связь. Телефон можно подключить к нескольким линиям одновременно.\n",
    "\n",
    "•\tИнтернет. Подключение может быть двух типов: через телефонную линию (DSL, от англ. digital subscriber line — «цифровая абонентская линия») или оптоволоконный кабель (Fiber optic).\n",
    "\n",
    "*Также доступны такие услуги:*\n",
    "\n",
    "•\tИнтернет-безопасность: антивирус (DeviceProtection) и блокировка небезопасных сайтов (OnlineSecurity);\n",
    "\n",
    "•\tВыделенная линия технической поддержки (TechSupport);\n",
    "\n",
    "•\tОблачное хранилище файлов для резервного копирования данных (OnlineBackup);\n",
    "\n",
    "•\tСтриминговое телевидение (StreamingTV) и каталог фильмов (StreamingMovies).\n",
    "\n",
    "Клиенты могут платить за услуги каждый месяц или заключить договор на 1–2 года. Возможно оплатить счёт разными способами, а также получить электронный чек."
   ]
  },
  {
   "cell_type": "code",
   "execution_count": 1,
   "id": "f8e5ae51",
   "metadata": {},
   "outputs": [
    {
     "name": "stdout",
     "output_type": "stream",
     "text": [
      "Requirement already satisfied: shap in /opt/conda/lib/python3.9/site-packages (0.46.0)\n",
      "Requirement already satisfied: scipy in /opt/conda/lib/python3.9/site-packages (from shap) (1.9.1)\n",
      "Requirement already satisfied: packaging>20.9 in /opt/conda/lib/python3.9/site-packages (from shap) (21.3)\n",
      "Requirement already satisfied: numba in /opt/conda/lib/python3.9/site-packages (from shap) (0.60.0)\n",
      "Requirement already satisfied: cloudpickle in /opt/conda/lib/python3.9/site-packages (from shap) (3.1.1)\n",
      "Requirement already satisfied: pandas in /opt/conda/lib/python3.9/site-packages (from shap) (1.2.4)\n",
      "Requirement already satisfied: slicer==0.0.8 in /opt/conda/lib/python3.9/site-packages (from shap) (0.0.8)\n",
      "Requirement already satisfied: scikit-learn in /opt/conda/lib/python3.9/site-packages (from shap) (1.6.1)\n",
      "Requirement already satisfied: tqdm>=4.27.0 in /opt/conda/lib/python3.9/site-packages (from shap) (4.61.2)\n",
      "Requirement already satisfied: numpy in /opt/conda/lib/python3.9/site-packages (from shap) (1.24.4)\n",
      "Requirement already satisfied: pyparsing!=3.0.5,>=2.0.2 in /opt/conda/lib/python3.9/site-packages (from packaging>20.9->shap) (2.4.7)\n",
      "Requirement already satisfied: llvmlite<0.44,>=0.43.0dev0 in /opt/conda/lib/python3.9/site-packages (from numba->shap) (0.43.0)\n",
      "Requirement already satisfied: python-dateutil>=2.7.3 in /opt/conda/lib/python3.9/site-packages (from pandas->shap) (2.8.1)\n",
      "Requirement already satisfied: pytz>=2017.3 in /opt/conda/lib/python3.9/site-packages (from pandas->shap) (2021.1)\n",
      "Requirement already satisfied: six>=1.5 in /opt/conda/lib/python3.9/site-packages (from python-dateutil>=2.7.3->pandas->shap) (1.16.0)\n",
      "Requirement already satisfied: joblib>=1.2.0 in /opt/conda/lib/python3.9/site-packages (from scikit-learn->shap) (1.4.2)\n",
      "Requirement already satisfied: threadpoolctl>=3.1.0 in /opt/conda/lib/python3.9/site-packages (from scikit-learn->shap) (3.1.0)\n",
      "Requirement already satisfied: matplotlib in /opt/conda/lib/python3.9/site-packages (3.9.4)\n",
      "Requirement already satisfied: kiwisolver>=1.3.1 in /opt/conda/lib/python3.9/site-packages (from matplotlib) (1.4.4)\n",
      "Requirement already satisfied: contourpy>=1.0.1 in /opt/conda/lib/python3.9/site-packages (from matplotlib) (1.3.0)\n",
      "Requirement already satisfied: pyparsing>=2.3.1 in /opt/conda/lib/python3.9/site-packages (from matplotlib) (2.4.7)\n",
      "Requirement already satisfied: importlib-resources>=3.2.0 in /opt/conda/lib/python3.9/site-packages (from matplotlib) (6.5.2)\n",
      "Requirement already satisfied: numpy>=1.23 in /opt/conda/lib/python3.9/site-packages (from matplotlib) (1.24.4)\n",
      "Requirement already satisfied: pillow>=8 in /opt/conda/lib/python3.9/site-packages (from matplotlib) (8.4.0)\n",
      "Requirement already satisfied: packaging>=20.0 in /opt/conda/lib/python3.9/site-packages (from matplotlib) (21.3)\n",
      "Requirement already satisfied: python-dateutil>=2.7 in /opt/conda/lib/python3.9/site-packages (from matplotlib) (2.8.1)\n",
      "Requirement already satisfied: fonttools>=4.22.0 in /opt/conda/lib/python3.9/site-packages (from matplotlib) (4.56.0)\n",
      "Requirement already satisfied: cycler>=0.10 in /opt/conda/lib/python3.9/site-packages (from matplotlib) (0.11.0)\n",
      "Requirement already satisfied: zipp>=3.1.0 in /opt/conda/lib/python3.9/site-packages (from importlib-resources>=3.2.0->matplotlib) (3.5.0)\n",
      "Requirement already satisfied: six>=1.5 in /opt/conda/lib/python3.9/site-packages (from python-dateutil>=2.7->matplotlib) (1.16.0)\n",
      "Requirement already satisfied: phik in /opt/conda/lib/python3.9/site-packages (0.12.4)\n",
      "Requirement already satisfied: numpy>=1.18.0 in /opt/conda/lib/python3.9/site-packages (from phik) (1.24.4)\n",
      "Requirement already satisfied: pandas>=0.25.1 in /opt/conda/lib/python3.9/site-packages (from phik) (1.2.4)\n",
      "Requirement already satisfied: scipy>=1.5.2 in /opt/conda/lib/python3.9/site-packages (from phik) (1.9.1)\n",
      "Requirement already satisfied: joblib>=0.14.1 in /opt/conda/lib/python3.9/site-packages (from phik) (1.4.2)\n",
      "Requirement already satisfied: matplotlib>=2.2.3 in /opt/conda/lib/python3.9/site-packages (from phik) (3.9.4)\n",
      "Requirement already satisfied: contourpy>=1.0.1 in /opt/conda/lib/python3.9/site-packages (from matplotlib>=2.2.3->phik) (1.3.0)\n",
      "Requirement already satisfied: cycler>=0.10 in /opt/conda/lib/python3.9/site-packages (from matplotlib>=2.2.3->phik) (0.11.0)\n",
      "Requirement already satisfied: importlib-resources>=3.2.0 in /opt/conda/lib/python3.9/site-packages (from matplotlib>=2.2.3->phik) (6.5.2)\n",
      "Requirement already satisfied: python-dateutil>=2.7 in /opt/conda/lib/python3.9/site-packages (from matplotlib>=2.2.3->phik) (2.8.1)\n",
      "Requirement already satisfied: pyparsing>=2.3.1 in /opt/conda/lib/python3.9/site-packages (from matplotlib>=2.2.3->phik) (2.4.7)\n",
      "Requirement already satisfied: packaging>=20.0 in /opt/conda/lib/python3.9/site-packages (from matplotlib>=2.2.3->phik) (21.3)\n",
      "Requirement already satisfied: pillow>=8 in /opt/conda/lib/python3.9/site-packages (from matplotlib>=2.2.3->phik) (8.4.0)\n",
      "Requirement already satisfied: kiwisolver>=1.3.1 in /opt/conda/lib/python3.9/site-packages (from matplotlib>=2.2.3->phik) (1.4.4)\n",
      "Requirement already satisfied: fonttools>=4.22.0 in /opt/conda/lib/python3.9/site-packages (from matplotlib>=2.2.3->phik) (4.56.0)\n",
      "Requirement already satisfied: zipp>=3.1.0 in /opt/conda/lib/python3.9/site-packages (from importlib-resources>=3.2.0->matplotlib>=2.2.3->phik) (3.5.0)\n",
      "Requirement already satisfied: pytz>=2017.3 in /opt/conda/lib/python3.9/site-packages (from pandas>=0.25.1->phik) (2021.1)\n",
      "Requirement already satisfied: six>=1.5 in /opt/conda/lib/python3.9/site-packages (from python-dateutil>=2.7->matplotlib>=2.2.3->phik) (1.16.0)\n",
      "Requirement already satisfied: scikit-learn in /opt/conda/lib/python3.9/site-packages (1.6.1)\n",
      "Requirement already satisfied: threadpoolctl>=3.1.0 in /opt/conda/lib/python3.9/site-packages (from scikit-learn) (3.1.0)\n",
      "Requirement already satisfied: joblib>=1.2.0 in /opt/conda/lib/python3.9/site-packages (from scikit-learn) (1.4.2)\n",
      "Requirement already satisfied: scipy>=1.6.0 in /opt/conda/lib/python3.9/site-packages (from scikit-learn) (1.9.1)\n",
      "Requirement already satisfied: numpy>=1.19.5 in /opt/conda/lib/python3.9/site-packages (from scikit-learn) (1.24.4)\n",
      "Requirement already satisfied: catboost in /opt/conda/lib/python3.9/site-packages (1.0.3)\n",
      "Requirement already satisfied: numpy>=1.16.0 in /opt/conda/lib/python3.9/site-packages (from catboost) (1.24.4)\n",
      "Requirement already satisfied: graphviz in /opt/conda/lib/python3.9/site-packages (from catboost) (0.20.1)\n",
      "Requirement already satisfied: pandas>=0.24.0 in /opt/conda/lib/python3.9/site-packages (from catboost) (1.2.4)\n",
      "Requirement already satisfied: six in /opt/conda/lib/python3.9/site-packages (from catboost) (1.16.0)\n",
      "Requirement already satisfied: plotly in /opt/conda/lib/python3.9/site-packages (from catboost) (5.4.0)\n",
      "Requirement already satisfied: scipy in /opt/conda/lib/python3.9/site-packages (from catboost) (1.9.1)\n",
      "Requirement already satisfied: matplotlib in /opt/conda/lib/python3.9/site-packages (from catboost) (3.9.4)\n",
      "Requirement already satisfied: python-dateutil>=2.7.3 in /opt/conda/lib/python3.9/site-packages (from pandas>=0.24.0->catboost) (2.8.1)\n",
      "Requirement already satisfied: pytz>=2017.3 in /opt/conda/lib/python3.9/site-packages (from pandas>=0.24.0->catboost) (2021.1)\n",
      "Requirement already satisfied: pillow>=8 in /opt/conda/lib/python3.9/site-packages (from matplotlib->catboost) (8.4.0)\n",
      "Requirement already satisfied: packaging>=20.0 in /opt/conda/lib/python3.9/site-packages (from matplotlib->catboost) (21.3)\n",
      "Requirement already satisfied: pyparsing>=2.3.1 in /opt/conda/lib/python3.9/site-packages (from matplotlib->catboost) (2.4.7)\n",
      "Requirement already satisfied: fonttools>=4.22.0 in /opt/conda/lib/python3.9/site-packages (from matplotlib->catboost) (4.56.0)\n",
      "Requirement already satisfied: kiwisolver>=1.3.1 in /opt/conda/lib/python3.9/site-packages (from matplotlib->catboost) (1.4.4)\n",
      "Requirement already satisfied: cycler>=0.10 in /opt/conda/lib/python3.9/site-packages (from matplotlib->catboost) (0.11.0)\n",
      "Requirement already satisfied: contourpy>=1.0.1 in /opt/conda/lib/python3.9/site-packages (from matplotlib->catboost) (1.3.0)\n",
      "Requirement already satisfied: importlib-resources>=3.2.0 in /opt/conda/lib/python3.9/site-packages (from matplotlib->catboost) (6.5.2)\n",
      "Requirement already satisfied: zipp>=3.1.0 in /opt/conda/lib/python3.9/site-packages (from importlib-resources>=3.2.0->matplotlib->catboost) (3.5.0)\n",
      "Requirement already satisfied: tenacity>=6.2.0 in /opt/conda/lib/python3.9/site-packages (from plotly->catboost) (8.0.1)\n"
     ]
    }
   ],
   "source": [
    "#импорты \n",
    "!pip install shap\n",
    "!pip install matplotlib\n",
    "!pip install --upgrade shap matplotlib seaborn -q\n",
    "!pip install phik\n",
    "!pip install --upgrade scikit-learn\n",
    "!pip install catboost\n",
    "\n",
    "import shap\n",
    "import pandas as pd\n",
    "import seaborn as sns\n",
    "import matplotlib.pyplot as plt\n",
    "import numpy as np\n",
    "import phik\n",
    "\n",
    "from catboost import CatBoostClassifier\n",
    "from sklearn.model_selection import train_test_split, RandomizedSearchCV, GridSearchCV\n",
    "from sklearn.compose import ColumnTransformer\n",
    "from sklearn.pipeline import Pipeline\n",
    "from sklearn.preprocessing import OneHotEncoder, OrdinalEncoder, StandardScaler, MinMaxScaler, LabelEncoder, PolynomialFeatures\n",
    "from sklearn.impute import SimpleImputer\n",
    "from sklearn.metrics import roc_auc_score, accuracy_score, make_scorer, confusion_matrix\n",
    "from sklearn.model_selection import GridSearchCV, RandomizedSearchCV\n",
    "from sklearn.neighbors import KNeighborsClassifier\n",
    "from sklearn.tree import DecisionTreeClassifier\n",
    "from sklearn.linear_model import LogisticRegression\n",
    "from sklearn.svm import SVC\n",
    "from sklearn.ensemble import RandomForestClassifier\n",
    "\n",
    "from statsmodels.stats.outliers_influence import variance_inflation_factor\n",
    "\n",
    "from phik import phik_matrix, resources, report\n",
    "from phik.report import plot_correlation_matrix"
   ]
  },
  {
   "cell_type": "code",
   "execution_count": 2,
   "id": "64a7fe3a",
   "metadata": {},
   "outputs": [],
   "source": [
    "RANDOM_STATE = 100225\n",
    "TEST_SIZE = 0.25\n",
    "threshold = 0.5\n",
    "metrica_threshold = 0.85"
   ]
  },
  {
   "cell_type": "markdown",
   "id": "475d2728",
   "metadata": {},
   "source": [
    "# Шаг 1. Загрузка данных\n",
    "Загрузите данные и выполните их первичный осмотр."
   ]
  },
  {
   "cell_type": "markdown",
   "id": "bb6ed6b5",
   "metadata": {},
   "source": [
    "### Загрузка данных из файлов"
   ]
  },
  {
   "cell_type": "code",
   "execution_count": 3,
   "id": "84d0f347",
   "metadata": {},
   "outputs": [],
   "source": [
    "contract_data = pd.read_csv('/datasets/contract_new.csv')\n",
    "personal_data = pd.read_csv('/datasets/personal_new.csv')\n",
    "internet_data = pd.read_csv('/datasets/internet_new.csv')\n",
    "phone_data = pd.read_csv('/datasets/phone_new.csv')"
   ]
  },
  {
   "cell_type": "markdown",
   "id": "ff02f360",
   "metadata": {},
   "source": [
    "### Первичный осмотр данных\n"
   ]
  },
  {
   "cell_type": "markdown",
   "id": "c9e88d17",
   "metadata": {},
   "source": [
    "**contract_data**"
   ]
  },
  {
   "cell_type": "code",
   "execution_count": 4,
   "id": "6ff0fe3f",
   "metadata": {},
   "outputs": [
    {
     "data": {
      "text/html": [
       "<div>\n",
       "<style scoped>\n",
       "    .dataframe tbody tr th:only-of-type {\n",
       "        vertical-align: middle;\n",
       "    }\n",
       "\n",
       "    .dataframe tbody tr th {\n",
       "        vertical-align: top;\n",
       "    }\n",
       "\n",
       "    .dataframe thead th {\n",
       "        text-align: right;\n",
       "    }\n",
       "</style>\n",
       "<table border=\"1\" class=\"dataframe\">\n",
       "  <thead>\n",
       "    <tr style=\"text-align: right;\">\n",
       "      <th></th>\n",
       "      <th>customerID</th>\n",
       "      <th>BeginDate</th>\n",
       "      <th>EndDate</th>\n",
       "      <th>Type</th>\n",
       "      <th>PaperlessBilling</th>\n",
       "      <th>PaymentMethod</th>\n",
       "      <th>MonthlyCharges</th>\n",
       "      <th>TotalCharges</th>\n",
       "    </tr>\n",
       "  </thead>\n",
       "  <tbody>\n",
       "    <tr>\n",
       "      <th>0</th>\n",
       "      <td>7590-VHVEG</td>\n",
       "      <td>2020-01-01</td>\n",
       "      <td>No</td>\n",
       "      <td>Month-to-month</td>\n",
       "      <td>Yes</td>\n",
       "      <td>Electronic check</td>\n",
       "      <td>29.85</td>\n",
       "      <td>31.04</td>\n",
       "    </tr>\n",
       "    <tr>\n",
       "      <th>1</th>\n",
       "      <td>5575-GNVDE</td>\n",
       "      <td>2017-04-01</td>\n",
       "      <td>No</td>\n",
       "      <td>One year</td>\n",
       "      <td>No</td>\n",
       "      <td>Mailed check</td>\n",
       "      <td>56.95</td>\n",
       "      <td>2071.84</td>\n",
       "    </tr>\n",
       "    <tr>\n",
       "      <th>2</th>\n",
       "      <td>3668-QPYBK</td>\n",
       "      <td>2019-10-01</td>\n",
       "      <td>No</td>\n",
       "      <td>Month-to-month</td>\n",
       "      <td>Yes</td>\n",
       "      <td>Mailed check</td>\n",
       "      <td>53.85</td>\n",
       "      <td>226.17</td>\n",
       "    </tr>\n",
       "    <tr>\n",
       "      <th>3</th>\n",
       "      <td>7795-CFOCW</td>\n",
       "      <td>2016-05-01</td>\n",
       "      <td>No</td>\n",
       "      <td>One year</td>\n",
       "      <td>No</td>\n",
       "      <td>Bank transfer (automatic)</td>\n",
       "      <td>42.30</td>\n",
       "      <td>1960.6</td>\n",
       "    </tr>\n",
       "    <tr>\n",
       "      <th>4</th>\n",
       "      <td>9237-HQITU</td>\n",
       "      <td>2019-09-01</td>\n",
       "      <td>No</td>\n",
       "      <td>Month-to-month</td>\n",
       "      <td>Yes</td>\n",
       "      <td>Electronic check</td>\n",
       "      <td>70.70</td>\n",
       "      <td>353.5</td>\n",
       "    </tr>\n",
       "  </tbody>\n",
       "</table>\n",
       "</div>"
      ],
      "text/plain": [
       "   customerID   BeginDate EndDate            Type PaperlessBilling  \\\n",
       "0  7590-VHVEG  2020-01-01      No  Month-to-month              Yes   \n",
       "1  5575-GNVDE  2017-04-01      No        One year               No   \n",
       "2  3668-QPYBK  2019-10-01      No  Month-to-month              Yes   \n",
       "3  7795-CFOCW  2016-05-01      No        One year               No   \n",
       "4  9237-HQITU  2019-09-01      No  Month-to-month              Yes   \n",
       "\n",
       "               PaymentMethod  MonthlyCharges TotalCharges  \n",
       "0           Electronic check           29.85        31.04  \n",
       "1               Mailed check           56.95      2071.84  \n",
       "2               Mailed check           53.85       226.17  \n",
       "3  Bank transfer (automatic)           42.30       1960.6  \n",
       "4           Electronic check           70.70        353.5  "
      ]
     },
     "execution_count": 4,
     "metadata": {},
     "output_type": "execute_result"
    }
   ],
   "source": [
    "contract_data.head()"
   ]
  },
  {
   "cell_type": "code",
   "execution_count": 5,
   "id": "bf46ed0d",
   "metadata": {},
   "outputs": [
    {
     "name": "stdout",
     "output_type": "stream",
     "text": [
      "<class 'pandas.core.frame.DataFrame'>\n",
      "RangeIndex: 7043 entries, 0 to 7042\n",
      "Data columns (total 8 columns):\n",
      " #   Column            Non-Null Count  Dtype  \n",
      "---  ------            --------------  -----  \n",
      " 0   customerID        7043 non-null   object \n",
      " 1   BeginDate         7043 non-null   object \n",
      " 2   EndDate           7043 non-null   object \n",
      " 3   Type              7043 non-null   object \n",
      " 4   PaperlessBilling  7043 non-null   object \n",
      " 5   PaymentMethod     7043 non-null   object \n",
      " 6   MonthlyCharges    7043 non-null   float64\n",
      " 7   TotalCharges      7043 non-null   object \n",
      "dtypes: float64(1), object(7)\n",
      "memory usage: 440.3+ KB\n"
     ]
    }
   ],
   "source": [
    "contract_data.info()"
   ]
  },
  {
   "cell_type": "code",
   "execution_count": 6,
   "id": "81de4978",
   "metadata": {},
   "outputs": [
    {
     "data": {
      "text/html": [
       "<div>\n",
       "<style scoped>\n",
       "    .dataframe tbody tr th:only-of-type {\n",
       "        vertical-align: middle;\n",
       "    }\n",
       "\n",
       "    .dataframe tbody tr th {\n",
       "        vertical-align: top;\n",
       "    }\n",
       "\n",
       "    .dataframe thead th {\n",
       "        text-align: right;\n",
       "    }\n",
       "</style>\n",
       "<table border=\"1\" class=\"dataframe\">\n",
       "  <thead>\n",
       "    <tr style=\"text-align: right;\">\n",
       "      <th></th>\n",
       "      <th>MonthlyCharges</th>\n",
       "    </tr>\n",
       "  </thead>\n",
       "  <tbody>\n",
       "    <tr>\n",
       "      <th>count</th>\n",
       "      <td>7043.000000</td>\n",
       "    </tr>\n",
       "    <tr>\n",
       "      <th>mean</th>\n",
       "      <td>64.761692</td>\n",
       "    </tr>\n",
       "    <tr>\n",
       "      <th>std</th>\n",
       "      <td>30.090047</td>\n",
       "    </tr>\n",
       "    <tr>\n",
       "      <th>min</th>\n",
       "      <td>18.250000</td>\n",
       "    </tr>\n",
       "    <tr>\n",
       "      <th>25%</th>\n",
       "      <td>35.500000</td>\n",
       "    </tr>\n",
       "    <tr>\n",
       "      <th>50%</th>\n",
       "      <td>70.350000</td>\n",
       "    </tr>\n",
       "    <tr>\n",
       "      <th>75%</th>\n",
       "      <td>89.850000</td>\n",
       "    </tr>\n",
       "    <tr>\n",
       "      <th>max</th>\n",
       "      <td>118.750000</td>\n",
       "    </tr>\n",
       "  </tbody>\n",
       "</table>\n",
       "</div>"
      ],
      "text/plain": [
       "       MonthlyCharges\n",
       "count     7043.000000\n",
       "mean        64.761692\n",
       "std         30.090047\n",
       "min         18.250000\n",
       "25%         35.500000\n",
       "50%         70.350000\n",
       "75%         89.850000\n",
       "max        118.750000"
      ]
     },
     "execution_count": 6,
     "metadata": {},
     "output_type": "execute_result"
    }
   ],
   "source": [
    "contract_data.describe()"
   ]
  },
  {
   "cell_type": "code",
   "execution_count": 7,
   "id": "9b2e236b",
   "metadata": {},
   "outputs": [],
   "source": [
    "# Переведем данные столбца TotalCharges в числовой формат\n",
    "\n",
    "contract_data['TotalCharges'] = pd.to_numeric(contract_data['TotalCharges'], errors='coerce')"
   ]
  },
  {
   "cell_type": "code",
   "execution_count": 8,
   "id": "fb93d6cd",
   "metadata": {},
   "outputs": [
    {
     "data": {
      "text/html": [
       "<div>\n",
       "<style scoped>\n",
       "    .dataframe tbody tr th:only-of-type {\n",
       "        vertical-align: middle;\n",
       "    }\n",
       "\n",
       "    .dataframe tbody tr th {\n",
       "        vertical-align: top;\n",
       "    }\n",
       "\n",
       "    .dataframe thead th {\n",
       "        text-align: right;\n",
       "    }\n",
       "</style>\n",
       "<table border=\"1\" class=\"dataframe\">\n",
       "  <thead>\n",
       "    <tr style=\"text-align: right;\">\n",
       "      <th></th>\n",
       "      <th>MonthlyCharges</th>\n",
       "      <th>TotalCharges</th>\n",
       "    </tr>\n",
       "  </thead>\n",
       "  <tbody>\n",
       "    <tr>\n",
       "      <th>count</th>\n",
       "      <td>7043.000000</td>\n",
       "      <td>7032.000000</td>\n",
       "    </tr>\n",
       "    <tr>\n",
       "      <th>mean</th>\n",
       "      <td>64.761692</td>\n",
       "      <td>2118.621822</td>\n",
       "    </tr>\n",
       "    <tr>\n",
       "      <th>std</th>\n",
       "      <td>30.090047</td>\n",
       "      <td>2112.736199</td>\n",
       "    </tr>\n",
       "    <tr>\n",
       "      <th>min</th>\n",
       "      <td>18.250000</td>\n",
       "      <td>19.050000</td>\n",
       "    </tr>\n",
       "    <tr>\n",
       "      <th>25%</th>\n",
       "      <td>35.500000</td>\n",
       "      <td>439.745000</td>\n",
       "    </tr>\n",
       "    <tr>\n",
       "      <th>50%</th>\n",
       "      <td>70.350000</td>\n",
       "      <td>1345.275000</td>\n",
       "    </tr>\n",
       "    <tr>\n",
       "      <th>75%</th>\n",
       "      <td>89.850000</td>\n",
       "      <td>3239.317500</td>\n",
       "    </tr>\n",
       "    <tr>\n",
       "      <th>max</th>\n",
       "      <td>118.750000</td>\n",
       "      <td>9221.380000</td>\n",
       "    </tr>\n",
       "  </tbody>\n",
       "</table>\n",
       "</div>"
      ],
      "text/plain": [
       "       MonthlyCharges  TotalCharges\n",
       "count     7043.000000   7032.000000\n",
       "mean        64.761692   2118.621822\n",
       "std         30.090047   2112.736199\n",
       "min         18.250000     19.050000\n",
       "25%         35.500000    439.745000\n",
       "50%         70.350000   1345.275000\n",
       "75%         89.850000   3239.317500\n",
       "max        118.750000   9221.380000"
      ]
     },
     "execution_count": 8,
     "metadata": {},
     "output_type": "execute_result"
    }
   ],
   "source": [
    "contract_data.describe()"
   ]
  },
  {
   "cell_type": "markdown",
   "id": "93d401b1",
   "metadata": {},
   "source": [
    "**personal_data**"
   ]
  },
  {
   "cell_type": "code",
   "execution_count": 9,
   "id": "c8272deb",
   "metadata": {},
   "outputs": [
    {
     "data": {
      "text/html": [
       "<div>\n",
       "<style scoped>\n",
       "    .dataframe tbody tr th:only-of-type {\n",
       "        vertical-align: middle;\n",
       "    }\n",
       "\n",
       "    .dataframe tbody tr th {\n",
       "        vertical-align: top;\n",
       "    }\n",
       "\n",
       "    .dataframe thead th {\n",
       "        text-align: right;\n",
       "    }\n",
       "</style>\n",
       "<table border=\"1\" class=\"dataframe\">\n",
       "  <thead>\n",
       "    <tr style=\"text-align: right;\">\n",
       "      <th></th>\n",
       "      <th>customerID</th>\n",
       "      <th>gender</th>\n",
       "      <th>SeniorCitizen</th>\n",
       "      <th>Partner</th>\n",
       "      <th>Dependents</th>\n",
       "    </tr>\n",
       "  </thead>\n",
       "  <tbody>\n",
       "    <tr>\n",
       "      <th>0</th>\n",
       "      <td>7590-VHVEG</td>\n",
       "      <td>Female</td>\n",
       "      <td>0</td>\n",
       "      <td>Yes</td>\n",
       "      <td>No</td>\n",
       "    </tr>\n",
       "    <tr>\n",
       "      <th>1</th>\n",
       "      <td>5575-GNVDE</td>\n",
       "      <td>Male</td>\n",
       "      <td>0</td>\n",
       "      <td>No</td>\n",
       "      <td>No</td>\n",
       "    </tr>\n",
       "    <tr>\n",
       "      <th>2</th>\n",
       "      <td>3668-QPYBK</td>\n",
       "      <td>Male</td>\n",
       "      <td>0</td>\n",
       "      <td>No</td>\n",
       "      <td>No</td>\n",
       "    </tr>\n",
       "    <tr>\n",
       "      <th>3</th>\n",
       "      <td>7795-CFOCW</td>\n",
       "      <td>Male</td>\n",
       "      <td>0</td>\n",
       "      <td>No</td>\n",
       "      <td>No</td>\n",
       "    </tr>\n",
       "    <tr>\n",
       "      <th>4</th>\n",
       "      <td>9237-HQITU</td>\n",
       "      <td>Female</td>\n",
       "      <td>0</td>\n",
       "      <td>No</td>\n",
       "      <td>No</td>\n",
       "    </tr>\n",
       "  </tbody>\n",
       "</table>\n",
       "</div>"
      ],
      "text/plain": [
       "   customerID  gender  SeniorCitizen Partner Dependents\n",
       "0  7590-VHVEG  Female              0     Yes         No\n",
       "1  5575-GNVDE    Male              0      No         No\n",
       "2  3668-QPYBK    Male              0      No         No\n",
       "3  7795-CFOCW    Male              0      No         No\n",
       "4  9237-HQITU  Female              0      No         No"
      ]
     },
     "execution_count": 9,
     "metadata": {},
     "output_type": "execute_result"
    }
   ],
   "source": [
    "personal_data.head()"
   ]
  },
  {
   "cell_type": "code",
   "execution_count": 10,
   "id": "e068561f",
   "metadata": {},
   "outputs": [
    {
     "name": "stdout",
     "output_type": "stream",
     "text": [
      "<class 'pandas.core.frame.DataFrame'>\n",
      "RangeIndex: 7043 entries, 0 to 7042\n",
      "Data columns (total 5 columns):\n",
      " #   Column         Non-Null Count  Dtype \n",
      "---  ------         --------------  ----- \n",
      " 0   customerID     7043 non-null   object\n",
      " 1   gender         7043 non-null   object\n",
      " 2   SeniorCitizen  7043 non-null   int64 \n",
      " 3   Partner        7043 non-null   object\n",
      " 4   Dependents     7043 non-null   object\n",
      "dtypes: int64(1), object(4)\n",
      "memory usage: 275.2+ KB\n"
     ]
    }
   ],
   "source": [
    "personal_data.info()"
   ]
  },
  {
   "cell_type": "code",
   "execution_count": 11,
   "id": "51196bde",
   "metadata": {},
   "outputs": [
    {
     "data": {
      "text/html": [
       "<div>\n",
       "<style scoped>\n",
       "    .dataframe tbody tr th:only-of-type {\n",
       "        vertical-align: middle;\n",
       "    }\n",
       "\n",
       "    .dataframe tbody tr th {\n",
       "        vertical-align: top;\n",
       "    }\n",
       "\n",
       "    .dataframe thead th {\n",
       "        text-align: right;\n",
       "    }\n",
       "</style>\n",
       "<table border=\"1\" class=\"dataframe\">\n",
       "  <thead>\n",
       "    <tr style=\"text-align: right;\">\n",
       "      <th></th>\n",
       "      <th>SeniorCitizen</th>\n",
       "    </tr>\n",
       "  </thead>\n",
       "  <tbody>\n",
       "    <tr>\n",
       "      <th>count</th>\n",
       "      <td>7043.000000</td>\n",
       "    </tr>\n",
       "    <tr>\n",
       "      <th>mean</th>\n",
       "      <td>0.162147</td>\n",
       "    </tr>\n",
       "    <tr>\n",
       "      <th>std</th>\n",
       "      <td>0.368612</td>\n",
       "    </tr>\n",
       "    <tr>\n",
       "      <th>min</th>\n",
       "      <td>0.000000</td>\n",
       "    </tr>\n",
       "    <tr>\n",
       "      <th>25%</th>\n",
       "      <td>0.000000</td>\n",
       "    </tr>\n",
       "    <tr>\n",
       "      <th>50%</th>\n",
       "      <td>0.000000</td>\n",
       "    </tr>\n",
       "    <tr>\n",
       "      <th>75%</th>\n",
       "      <td>0.000000</td>\n",
       "    </tr>\n",
       "    <tr>\n",
       "      <th>max</th>\n",
       "      <td>1.000000</td>\n",
       "    </tr>\n",
       "  </tbody>\n",
       "</table>\n",
       "</div>"
      ],
      "text/plain": [
       "       SeniorCitizen\n",
       "count    7043.000000\n",
       "mean        0.162147\n",
       "std         0.368612\n",
       "min         0.000000\n",
       "25%         0.000000\n",
       "50%         0.000000\n",
       "75%         0.000000\n",
       "max         1.000000"
      ]
     },
     "execution_count": 11,
     "metadata": {},
     "output_type": "execute_result"
    }
   ],
   "source": [
    "personal_data.describe()"
   ]
  },
  {
   "cell_type": "markdown",
   "id": "45ba46f2",
   "metadata": {},
   "source": [
    "**internet_data**"
   ]
  },
  {
   "cell_type": "code",
   "execution_count": 12,
   "id": "04328acc",
   "metadata": {},
   "outputs": [
    {
     "data": {
      "text/html": [
       "<div>\n",
       "<style scoped>\n",
       "    .dataframe tbody tr th:only-of-type {\n",
       "        vertical-align: middle;\n",
       "    }\n",
       "\n",
       "    .dataframe tbody tr th {\n",
       "        vertical-align: top;\n",
       "    }\n",
       "\n",
       "    .dataframe thead th {\n",
       "        text-align: right;\n",
       "    }\n",
       "</style>\n",
       "<table border=\"1\" class=\"dataframe\">\n",
       "  <thead>\n",
       "    <tr style=\"text-align: right;\">\n",
       "      <th></th>\n",
       "      <th>customerID</th>\n",
       "      <th>InternetService</th>\n",
       "      <th>OnlineSecurity</th>\n",
       "      <th>OnlineBackup</th>\n",
       "      <th>DeviceProtection</th>\n",
       "      <th>TechSupport</th>\n",
       "      <th>StreamingTV</th>\n",
       "      <th>StreamingMovies</th>\n",
       "    </tr>\n",
       "  </thead>\n",
       "  <tbody>\n",
       "    <tr>\n",
       "      <th>0</th>\n",
       "      <td>7590-VHVEG</td>\n",
       "      <td>DSL</td>\n",
       "      <td>No</td>\n",
       "      <td>Yes</td>\n",
       "      <td>No</td>\n",
       "      <td>No</td>\n",
       "      <td>No</td>\n",
       "      <td>No</td>\n",
       "    </tr>\n",
       "    <tr>\n",
       "      <th>1</th>\n",
       "      <td>5575-GNVDE</td>\n",
       "      <td>DSL</td>\n",
       "      <td>Yes</td>\n",
       "      <td>No</td>\n",
       "      <td>Yes</td>\n",
       "      <td>No</td>\n",
       "      <td>No</td>\n",
       "      <td>No</td>\n",
       "    </tr>\n",
       "    <tr>\n",
       "      <th>2</th>\n",
       "      <td>3668-QPYBK</td>\n",
       "      <td>DSL</td>\n",
       "      <td>Yes</td>\n",
       "      <td>Yes</td>\n",
       "      <td>No</td>\n",
       "      <td>No</td>\n",
       "      <td>No</td>\n",
       "      <td>No</td>\n",
       "    </tr>\n",
       "    <tr>\n",
       "      <th>3</th>\n",
       "      <td>7795-CFOCW</td>\n",
       "      <td>DSL</td>\n",
       "      <td>Yes</td>\n",
       "      <td>No</td>\n",
       "      <td>Yes</td>\n",
       "      <td>Yes</td>\n",
       "      <td>No</td>\n",
       "      <td>No</td>\n",
       "    </tr>\n",
       "    <tr>\n",
       "      <th>4</th>\n",
       "      <td>9237-HQITU</td>\n",
       "      <td>Fiber optic</td>\n",
       "      <td>No</td>\n",
       "      <td>No</td>\n",
       "      <td>No</td>\n",
       "      <td>No</td>\n",
       "      <td>No</td>\n",
       "      <td>No</td>\n",
       "    </tr>\n",
       "  </tbody>\n",
       "</table>\n",
       "</div>"
      ],
      "text/plain": [
       "   customerID InternetService OnlineSecurity OnlineBackup DeviceProtection  \\\n",
       "0  7590-VHVEG             DSL             No          Yes               No   \n",
       "1  5575-GNVDE             DSL            Yes           No              Yes   \n",
       "2  3668-QPYBK             DSL            Yes          Yes               No   \n",
       "3  7795-CFOCW             DSL            Yes           No              Yes   \n",
       "4  9237-HQITU     Fiber optic             No           No               No   \n",
       "\n",
       "  TechSupport StreamingTV StreamingMovies  \n",
       "0          No          No              No  \n",
       "1          No          No              No  \n",
       "2          No          No              No  \n",
       "3         Yes          No              No  \n",
       "4          No          No              No  "
      ]
     },
     "execution_count": 12,
     "metadata": {},
     "output_type": "execute_result"
    }
   ],
   "source": [
    "internet_data.head()"
   ]
  },
  {
   "cell_type": "code",
   "execution_count": 13,
   "id": "0486c505",
   "metadata": {},
   "outputs": [
    {
     "name": "stdout",
     "output_type": "stream",
     "text": [
      "<class 'pandas.core.frame.DataFrame'>\n",
      "RangeIndex: 5517 entries, 0 to 5516\n",
      "Data columns (total 8 columns):\n",
      " #   Column            Non-Null Count  Dtype \n",
      "---  ------            --------------  ----- \n",
      " 0   customerID        5517 non-null   object\n",
      " 1   InternetService   5517 non-null   object\n",
      " 2   OnlineSecurity    5517 non-null   object\n",
      " 3   OnlineBackup      5517 non-null   object\n",
      " 4   DeviceProtection  5517 non-null   object\n",
      " 5   TechSupport       5517 non-null   object\n",
      " 6   StreamingTV       5517 non-null   object\n",
      " 7   StreamingMovies   5517 non-null   object\n",
      "dtypes: object(8)\n",
      "memory usage: 344.9+ KB\n"
     ]
    }
   ],
   "source": [
    "internet_data.info()"
   ]
  },
  {
   "cell_type": "code",
   "execution_count": 14,
   "id": "304f2932",
   "metadata": {},
   "outputs": [
    {
     "data": {
      "text/html": [
       "<div>\n",
       "<style scoped>\n",
       "    .dataframe tbody tr th:only-of-type {\n",
       "        vertical-align: middle;\n",
       "    }\n",
       "\n",
       "    .dataframe tbody tr th {\n",
       "        vertical-align: top;\n",
       "    }\n",
       "\n",
       "    .dataframe thead th {\n",
       "        text-align: right;\n",
       "    }\n",
       "</style>\n",
       "<table border=\"1\" class=\"dataframe\">\n",
       "  <thead>\n",
       "    <tr style=\"text-align: right;\">\n",
       "      <th></th>\n",
       "      <th>customerID</th>\n",
       "      <th>InternetService</th>\n",
       "      <th>OnlineSecurity</th>\n",
       "      <th>OnlineBackup</th>\n",
       "      <th>DeviceProtection</th>\n",
       "      <th>TechSupport</th>\n",
       "      <th>StreamingTV</th>\n",
       "      <th>StreamingMovies</th>\n",
       "    </tr>\n",
       "  </thead>\n",
       "  <tbody>\n",
       "    <tr>\n",
       "      <th>count</th>\n",
       "      <td>5517</td>\n",
       "      <td>5517</td>\n",
       "      <td>5517</td>\n",
       "      <td>5517</td>\n",
       "      <td>5517</td>\n",
       "      <td>5517</td>\n",
       "      <td>5517</td>\n",
       "      <td>5517</td>\n",
       "    </tr>\n",
       "    <tr>\n",
       "      <th>unique</th>\n",
       "      <td>5517</td>\n",
       "      <td>2</td>\n",
       "      <td>2</td>\n",
       "      <td>2</td>\n",
       "      <td>2</td>\n",
       "      <td>2</td>\n",
       "      <td>2</td>\n",
       "      <td>2</td>\n",
       "    </tr>\n",
       "    <tr>\n",
       "      <th>top</th>\n",
       "      <td>0689-DSXGL</td>\n",
       "      <td>Fiber optic</td>\n",
       "      <td>No</td>\n",
       "      <td>No</td>\n",
       "      <td>No</td>\n",
       "      <td>No</td>\n",
       "      <td>No</td>\n",
       "      <td>No</td>\n",
       "    </tr>\n",
       "    <tr>\n",
       "      <th>freq</th>\n",
       "      <td>1</td>\n",
       "      <td>3096</td>\n",
       "      <td>3498</td>\n",
       "      <td>3088</td>\n",
       "      <td>3095</td>\n",
       "      <td>3473</td>\n",
       "      <td>2810</td>\n",
       "      <td>2785</td>\n",
       "    </tr>\n",
       "  </tbody>\n",
       "</table>\n",
       "</div>"
      ],
      "text/plain": [
       "        customerID InternetService OnlineSecurity OnlineBackup  \\\n",
       "count         5517            5517           5517         5517   \n",
       "unique        5517               2              2            2   \n",
       "top     0689-DSXGL     Fiber optic             No           No   \n",
       "freq             1            3096           3498         3088   \n",
       "\n",
       "       DeviceProtection TechSupport StreamingTV StreamingMovies  \n",
       "count              5517        5517        5517            5517  \n",
       "unique                2           2           2               2  \n",
       "top                  No          No          No              No  \n",
       "freq               3095        3473        2810            2785  "
      ]
     },
     "execution_count": 14,
     "metadata": {},
     "output_type": "execute_result"
    }
   ],
   "source": [
    "internet_data.describe()"
   ]
  },
  {
   "cell_type": "markdown",
   "id": "22585422",
   "metadata": {},
   "source": [
    "**phone_data**"
   ]
  },
  {
   "cell_type": "code",
   "execution_count": 15,
   "id": "1231a05d",
   "metadata": {},
   "outputs": [
    {
     "data": {
      "text/html": [
       "<div>\n",
       "<style scoped>\n",
       "    .dataframe tbody tr th:only-of-type {\n",
       "        vertical-align: middle;\n",
       "    }\n",
       "\n",
       "    .dataframe tbody tr th {\n",
       "        vertical-align: top;\n",
       "    }\n",
       "\n",
       "    .dataframe thead th {\n",
       "        text-align: right;\n",
       "    }\n",
       "</style>\n",
       "<table border=\"1\" class=\"dataframe\">\n",
       "  <thead>\n",
       "    <tr style=\"text-align: right;\">\n",
       "      <th></th>\n",
       "      <th>customerID</th>\n",
       "      <th>MultipleLines</th>\n",
       "    </tr>\n",
       "  </thead>\n",
       "  <tbody>\n",
       "    <tr>\n",
       "      <th>0</th>\n",
       "      <td>5575-GNVDE</td>\n",
       "      <td>No</td>\n",
       "    </tr>\n",
       "    <tr>\n",
       "      <th>1</th>\n",
       "      <td>3668-QPYBK</td>\n",
       "      <td>No</td>\n",
       "    </tr>\n",
       "    <tr>\n",
       "      <th>2</th>\n",
       "      <td>9237-HQITU</td>\n",
       "      <td>No</td>\n",
       "    </tr>\n",
       "    <tr>\n",
       "      <th>3</th>\n",
       "      <td>9305-CDSKC</td>\n",
       "      <td>Yes</td>\n",
       "    </tr>\n",
       "    <tr>\n",
       "      <th>4</th>\n",
       "      <td>1452-KIOVK</td>\n",
       "      <td>Yes</td>\n",
       "    </tr>\n",
       "  </tbody>\n",
       "</table>\n",
       "</div>"
      ],
      "text/plain": [
       "   customerID MultipleLines\n",
       "0  5575-GNVDE            No\n",
       "1  3668-QPYBK            No\n",
       "2  9237-HQITU            No\n",
       "3  9305-CDSKC           Yes\n",
       "4  1452-KIOVK           Yes"
      ]
     },
     "execution_count": 15,
     "metadata": {},
     "output_type": "execute_result"
    }
   ],
   "source": [
    "phone_data.head()"
   ]
  },
  {
   "cell_type": "code",
   "execution_count": 16,
   "id": "67c647e5",
   "metadata": {},
   "outputs": [
    {
     "name": "stdout",
     "output_type": "stream",
     "text": [
      "<class 'pandas.core.frame.DataFrame'>\n",
      "RangeIndex: 6361 entries, 0 to 6360\n",
      "Data columns (total 2 columns):\n",
      " #   Column         Non-Null Count  Dtype \n",
      "---  ------         --------------  ----- \n",
      " 0   customerID     6361 non-null   object\n",
      " 1   MultipleLines  6361 non-null   object\n",
      "dtypes: object(2)\n",
      "memory usage: 99.5+ KB\n"
     ]
    }
   ],
   "source": [
    "phone_data.info()"
   ]
  },
  {
   "cell_type": "code",
   "execution_count": 17,
   "id": "5306dd7f",
   "metadata": {},
   "outputs": [
    {
     "data": {
      "text/html": [
       "<div>\n",
       "<style scoped>\n",
       "    .dataframe tbody tr th:only-of-type {\n",
       "        vertical-align: middle;\n",
       "    }\n",
       "\n",
       "    .dataframe tbody tr th {\n",
       "        vertical-align: top;\n",
       "    }\n",
       "\n",
       "    .dataframe thead th {\n",
       "        text-align: right;\n",
       "    }\n",
       "</style>\n",
       "<table border=\"1\" class=\"dataframe\">\n",
       "  <thead>\n",
       "    <tr style=\"text-align: right;\">\n",
       "      <th></th>\n",
       "      <th>customerID</th>\n",
       "      <th>MultipleLines</th>\n",
       "    </tr>\n",
       "  </thead>\n",
       "  <tbody>\n",
       "    <tr>\n",
       "      <th>count</th>\n",
       "      <td>6361</td>\n",
       "      <td>6361</td>\n",
       "    </tr>\n",
       "    <tr>\n",
       "      <th>unique</th>\n",
       "      <td>6361</td>\n",
       "      <td>2</td>\n",
       "    </tr>\n",
       "    <tr>\n",
       "      <th>top</th>\n",
       "      <td>0689-DSXGL</td>\n",
       "      <td>No</td>\n",
       "    </tr>\n",
       "    <tr>\n",
       "      <th>freq</th>\n",
       "      <td>1</td>\n",
       "      <td>3390</td>\n",
       "    </tr>\n",
       "  </tbody>\n",
       "</table>\n",
       "</div>"
      ],
      "text/plain": [
       "        customerID MultipleLines\n",
       "count         6361          6361\n",
       "unique        6361             2\n",
       "top     0689-DSXGL            No\n",
       "freq             1          3390"
      ]
     },
     "execution_count": 17,
     "metadata": {},
     "output_type": "execute_result"
    }
   ],
   "source": [
    "phone_data.describe()"
   ]
  },
  {
   "cell_type": "markdown",
   "id": "704c268b",
   "metadata": {},
   "source": [
    "#### Анализ данных contract_data\n",
    "- Изучение структуры данных:\n",
    "  Проверим на наличие пропусков в столбцах, соответствие типов данных и уникальные значения."
   ]
  },
  {
   "cell_type": "code",
   "execution_count": 18,
   "id": "c28464eb",
   "metadata": {},
   "outputs": [
    {
     "data": {
      "text/plain": [
       "customerID           0\n",
       "BeginDate            0\n",
       "EndDate              0\n",
       "Type                 0\n",
       "PaperlessBilling     0\n",
       "PaymentMethod        0\n",
       "MonthlyCharges       0\n",
       "TotalCharges        11\n",
       "dtype: int64"
      ]
     },
     "execution_count": 18,
     "metadata": {},
     "output_type": "execute_result"
    }
   ],
   "source": [
    "contract_data.isnull().sum()"
   ]
  },
  {
   "cell_type": "code",
   "execution_count": 19,
   "id": "c3fcf2d5",
   "metadata": {},
   "outputs": [
    {
     "data": {
      "image/png": "[encoded data removed]",
      "text/plain": [
       "<Figure size 720x432 with 1 Axes>"
      ]
     },
     "metadata": {
      "needs_background": "light"
     },
     "output_type": "display_data"
    }
   ],
   "source": [
    "# Получаем уникальные значения из столбца 'Type'\n",
    "unique_types = contract_data['Type'].unique()\n",
    "\n",
    "# Построим столбчатую диаграмму для столбца 'Type'\n",
    "plt.figure(figsize=(10, 6))\n",
    "sns.countplot(data=contract_data, x='Type')\n",
    "\n",
    "# Выведем значения уникальных типов на диаграмме\n",
    "for i, type in enumerate(unique_types):\n",
    "    count = contract_data[contract_data['Type'] == type].shape[0]\n",
    "    plt.text(i, count + 0.15, str(count), ha='center', va='bottom', fontsize=12)\n",
    "\n",
    "# Настройки диаграммы\n",
    "plt.title('Распределение уникальных значений в столбце Type')\n",
    "plt.xlabel('Type')\n",
    "plt.ylabel('Количество')\n",
    "plt.xticks(rotation=45)\n",
    "plt.tight_layout()\n",
    "\n",
    "# Показать диаграмму\n",
    "plt.show()"
   ]
  },
  {
   "cell_type": "code",
   "execution_count": 20,
   "id": "706d5114",
   "metadata": {},
   "outputs": [
    {
     "data": {
      "image/png": "[encoded data removed]",
      "text/plain": [
       "<Figure size 720x432 with 1 Axes>"
      ]
     },
     "metadata": {
      "needs_background": "light"
     },
     "output_type": "display_data"
    }
   ],
   "source": [
    "# Диаграмма для PaymentMethod\n",
    "plt.figure(figsize=(10, 6))\n",
    "sns.countplot(data=contract_data, x='PaymentMethod', order=contract_data['PaymentMethod'].value_counts().index)\n",
    "\n",
    "# Добавляем текстовые метки с количеством\n",
    "for i, method in enumerate(contract_data['PaymentMethod'].value_counts().index):\n",
    "    count = contract_data[contract_data['PaymentMethod'] == method].shape[0]\n",
    "    plt.text(i, count + 0.15, str(count), ha='center', va='bottom', fontsize=12)\n",
    "\n",
    "# Настройки\n",
    "plt.title('Распределение значений PaymentMethod')\n",
    "plt.xlabel('PaymentMethod')\n",
    "plt.ylabel('Количество')\n",
    "plt.xticks(rotation=45)\n",
    "plt.tight_layout()\n",
    "\n",
    "# Показать диаграмму\n",
    "plt.show()"
   ]
  },
  {
   "cell_type": "code",
   "execution_count": 21,
   "id": "6451f9fb",
   "metadata": {},
   "outputs": [
    {
     "data": {
      "image/png": "[encoded data removed]",
      "text/plain": [
       "<Figure size 864x432 with 2 Axes>"
      ]
     },
     "metadata": {
      "needs_background": "light"
     },
     "output_type": "display_data"
    },
    {
     "data": {
      "image/png": "[encoded data removed]",
      "text/plain": [
       "<Figure size 864x432 with 2 Axes>"
      ]
     },
     "metadata": {
      "needs_background": "light"
     },
     "output_type": "display_data"
    }
   ],
   "source": [
    "# Визуализация  числовых данных\n",
    "numerical_features = ['MonthlyCharges', 'TotalCharges']\n",
    "for feature in numerical_features:\n",
    "    plt.figure(figsize=(12,6))\n",
    "    \n",
    "    plt.subplot(1, 2, 1)\n",
    "    sns.histplot(data=contract_data, x=feature, kde=True)\n",
    "    plt.title(f'Гистограмма {feature}')\n",
    "    \n",
    "    plt.subplot(1, 2, 2)\n",
    "    sns.boxplot(data=contract_data, x=feature)\n",
    "    plt.title(f'Диаграмма boxplot {feature}')\n",
    "    \n",
    "    plt.show()"
   ]
  },
  {
   "cell_type": "markdown",
   "id": "916c3482",
   "metadata": {},
   "source": [
    "#### Анализ данных personal_data\n",
    "- Изучение структуры:\n",
    "- Проверка распределения категорий в каждом признаке, например gender, SeniorCitizen, Partner и Dependents."
   ]
  },
  {
   "cell_type": "code",
   "execution_count": 22,
   "id": "5c4ba51c",
   "metadata": {},
   "outputs": [
    {
     "name": "stderr",
     "output_type": "stream",
     "text": [
      "/tmp/ipykernel_862/68624802.py:6: FutureWarning: \n",
      "\n",
      "Passing `palette` without assigning `hue` is deprecated and will be removed in v0.14.0. Assign the `x` variable to `hue` and set `legend=False` for the same effect.\n",
      "\n",
      "  sns.barplot(x=gender_counts.index, y=gender_counts.values, palette='pastel')\n"
     ]
    },
    {
     "data": {
      "image/png": "[encoded data removed]",
      "text/plain": [
       "<Figure size 432x288 with 1 Axes>"
      ]
     },
     "metadata": {
      "needs_background": "light"
     },
     "output_type": "display_data"
    }
   ],
   "source": [
    "# Подсчет количества значений в столбце gender\n",
    "gender_counts = personal_data['gender'].value_counts()\n",
    "\n",
    "# Построение столбчатой диаграммы для столбца gender\n",
    "plt.figure(figsize=(6, 4))\n",
    "sns.barplot(x=gender_counts.index, y=gender_counts.values, palette='pastel')\n",
    "\n",
    "# Добавление текстовых меток с количеством\n",
    "for i, count in enumerate(gender_counts.values):\n",
    "    plt.text(i, count + 0.5, str(count), ha='center', va='bottom', fontsize=12)\n",
    "\n",
    "# Настройки\n",
    "plt.title('Распределение значений gender')\n",
    "plt.xlabel('Пол')\n",
    "plt.ylabel('Количество')\n",
    "plt.tight_layout()\n",
    "\n",
    "# Показать диаграмму\n",
    "plt.show()\n"
   ]
  },
  {
   "cell_type": "code",
   "execution_count": 23,
   "id": "027898d6",
   "metadata": {
    "scrolled": true
   },
   "outputs": [
    {
     "name": "stderr",
     "output_type": "stream",
     "text": [
      "/tmp/ipykernel_862/1387570523.py:6: FutureWarning: \n",
      "\n",
      "Passing `palette` without assigning `hue` is deprecated and will be removed in v0.14.0. Assign the `x` variable to `hue` and set `legend=False` for the same effect.\n",
      "\n",
      "  sns.barplot(x=senior_counts.index, y=senior_counts.values, palette='viridis')\n"
     ]
    },
    {
     "data": {
      "image/png": "[encoded data removed]",
      "text/plain": [
       "<Figure size 432x288 with 1 Axes>"
      ]
     },
     "metadata": {
      "needs_background": "light"
     },
     "output_type": "display_data"
    }
   ],
   "source": [
    "# Подсчет количества значений в столбце SeniorCitizen\n",
    "senior_counts = personal_data['SeniorCitizen'].value_counts()\n",
    "\n",
    "# Построение столбчатой диаграммы для столбца SeniorCitizen\n",
    "plt.figure(figsize=(6, 4))\n",
    "sns.barplot(x=senior_counts.index, y=senior_counts.values, palette='viridis')\n",
    "\n",
    "# Добавление текстовых меток с количеством\n",
    "for i, count in enumerate(senior_counts.values):\n",
    "    plt.text(i, count + 0.5, str(count), ha='center', va='bottom', fontsize=12)\n",
    "\n",
    "# Настройки\n",
    "plt.title('Распределение значений SeniorCitizen')\n",
    "plt.xlabel('SeniorCitizen')\n",
    "plt.ylabel('Количество')\n",
    "plt.xticks(ticks=[0, 1], labels=['Нет', 'Да'])  # если 0 и 1 означают отсутствие и наличие статуса \"старший гражданин\"\n",
    "plt.tight_layout()\n",
    "\n",
    "# Показать диаграмму\n",
    "plt.show()"
   ]
  },
  {
   "cell_type": "code",
   "execution_count": 24,
   "id": "0e0998dc",
   "metadata": {},
   "outputs": [
    {
     "name": "stderr",
     "output_type": "stream",
     "text": [
      "/tmp/ipykernel_862/3933522317.py:6: FutureWarning: \n",
      "\n",
      "Passing `palette` without assigning `hue` is deprecated and will be removed in v0.14.0. Assign the `x` variable to `hue` and set `legend=False` for the same effect.\n",
      "\n",
      "  sns.barplot(x=partner_counts.index, y=partner_counts.values, palette='pastel')\n"
     ]
    },
    {
     "data": {
      "image/png": "[encoded data removed]",
      "text/plain": [
       "<Figure size 432x288 with 1 Axes>"
      ]
     },
     "metadata": {
      "needs_background": "light"
     },
     "output_type": "display_data"
    }
   ],
   "source": [
    "# Подсчет количества значений в столбце Partner\n",
    "partner_counts = personal_data['Partner'].value_counts()\n",
    "\n",
    "# Построение столбчатой диаграммы\n",
    "plt.figure(figsize=(6, 4))\n",
    "sns.barplot(x=partner_counts.index, y=partner_counts.values, palette='pastel')\n",
    "\n",
    "# Добавление текстовых меток с количеством\n",
    "for i, count in enumerate(partner_counts.values):\n",
    "    plt.text(i, count + 0.5, str(count), ha='center', va='bottom', fontsize=12)\n",
    "\n",
    "# Настройки\n",
    "plt.title('Распределение значений Partner')\n",
    "plt.xlabel('Наличие партнёра')\n",
    "plt.ylabel('Количество')\n",
    "plt.tight_layout()\n",
    "\n",
    "# Показать диаграмму\n",
    "plt.show()\n"
   ]
  },
  {
   "cell_type": "code",
   "execution_count": 25,
   "id": "65e36527",
   "metadata": {},
   "outputs": [
    {
     "name": "stderr",
     "output_type": "stream",
     "text": [
      "/tmp/ipykernel_862/3664874580.py:6: FutureWarning: \n",
      "\n",
      "Passing `palette` without assigning `hue` is deprecated and will be removed in v0.14.0. Assign the `x` variable to `hue` and set `legend=False` for the same effect.\n",
      "\n",
      "  sns.barplot(x=dependents_counts.index, y=dependents_counts.values, palette='muted')\n"
     ]
    },
    {
     "data": {
      "image/png": "[encoded data removed]",
      "text/plain": [
       "<Figure size 576x360 with 1 Axes>"
      ]
     },
     "metadata": {
      "needs_background": "light"
     },
     "output_type": "display_data"
    }
   ],
   "source": [
    "# Подсчет количества значений в столбце Dependents\n",
    "dependents_counts = personal_data['Dependents'].value_counts()\n",
    "\n",
    "# Построение столбчатой диаграммы\n",
    "plt.figure(figsize=(8, 5))\n",
    "sns.barplot(x=dependents_counts.index, y=dependents_counts.values, palette='muted')\n",
    "\n",
    "# Добавление текстовых меток с количеством\n",
    "for i, count in enumerate(dependents_counts.values):\n",
    "    plt.text(i, count + 0.5, str(count), ha='center', va='bottom', fontsize=12)\n",
    "\n",
    "# Настройки\n",
    "plt.title('Распределение значений Dependents')\n",
    "plt.xlabel('Dependents')\n",
    "plt.ylabel('Количество')\n",
    "plt.xticks(rotation=0)  # Угол подписи значений на оси X\n",
    "plt.tight_layout()\n",
    "\n",
    "# Показать диаграмму\n",
    "plt.show()"
   ]
  },
  {
   "cell_type": "markdown",
   "id": "e8d81243",
   "metadata": {},
   "source": [
    "#### Анализ данных internet_data\n",
    "- Изучение структуры:\n",
    "- Проверим, какие услуги подключены (например, OnlineBackup, DeviceProtection), и найдем уникальные значения для типа подключения."
   ]
  },
  {
   "cell_type": "code",
   "execution_count": 26,
   "id": "c2e63dc6",
   "metadata": {},
   "outputs": [
    {
     "data": {
      "text/plain": [
       "customerID          0\n",
       "InternetService     0\n",
       "OnlineSecurity      0\n",
       "OnlineBackup        0\n",
       "DeviceProtection    0\n",
       "TechSupport         0\n",
       "StreamingTV         0\n",
       "StreamingMovies     0\n",
       "dtype: int64"
      ]
     },
     "execution_count": 26,
     "metadata": {},
     "output_type": "execute_result"
    }
   ],
   "source": [
    "internet_data.isnull().sum()"
   ]
  },
  {
   "cell_type": "markdown",
   "id": "145da63d",
   "metadata": {},
   "source": [
    "- Обработка признаков:\n",
    "  1. Закодируем InternetService через OHE.\n",
    "  2. Закодируем бинарные услуги, такие как OnlineSecurity, StreamingMovies и прочие, в числовой формат."
   ]
  },
  {
   "cell_type": "markdown",
   "id": "14811fb8",
   "metadata": {},
   "source": [
    "#### Анализ данных phone_data\n",
    "- Изучение структуры:\n",
    "  Проверьте, сколько пользователей пользуются несколькими телефонными линиями."
   ]
  },
  {
   "cell_type": "code",
   "execution_count": 27,
   "id": "65993dd5",
   "metadata": {},
   "outputs": [
    {
     "name": "stderr",
     "output_type": "stream",
     "text": [
      "/tmp/ipykernel_862/3889378563.py:6: FutureWarning: \n",
      "\n",
      "Passing `palette` without assigning `hue` is deprecated and will be removed in v0.14.0. Assign the `x` variable to `hue` and set `legend=False` for the same effect.\n",
      "\n",
      "  sns.barplot(x=multiple_lines_counts.index, y=multiple_lines_counts.values, palette='pastel')\n"
     ]
    },
    {
     "data": {
      "image/png": "[encoded data removed]",
      "text/plain": [
       "<Figure size 576x360 with 1 Axes>"
      ]
     },
     "metadata": {
      "needs_background": "light"
     },
     "output_type": "display_data"
    }
   ],
   "source": [
    "# Подсчет количества значений в столбце MultipleLines\n",
    "multiple_lines_counts = phone_data['MultipleLines'].value_counts()\n",
    "\n",
    "# Построение столбчатой диаграммы\n",
    "plt.figure(figsize=(8, 5))\n",
    "sns.barplot(x=multiple_lines_counts.index, y=multiple_lines_counts.values, palette='pastel')\n",
    "\n",
    "# Добавление текстовых меток с количеством\n",
    "for i, count in enumerate(multiple_lines_counts.values):\n",
    "    plt.text(i, count + 0.5, str(count), ha='center', va='bottom', fontsize=12)\n",
    "\n",
    "# Настройки\n",
    "plt.title('Распределение значений MultipleLines')\n",
    "plt.xlabel('MultipleLines')\n",
    "plt.ylabel('Количество')\n",
    "plt.xticks(rotation=0)  # Угол подписи значений на оси X\n",
    "plt.tight_layout()\n",
    "\n",
    "# Показать диаграмму\n",
    "plt.show()\n"
   ]
  },
  {
   "cell_type": "markdown",
   "id": "159ea491",
   "metadata": {},
   "source": [
    "<div class=\"alert alert-block alert-success\"; style=\"border-left: 6px solid green\">\n",
    "<b>Успех ✔️</b>\n",
    "       \n",
    "Все данные на последней базе нашего курса и предварительно изучены, отлично!)\n",
    "    \n",
    "</div>\n"
   ]
  },
  {
   "cell_type": "markdown",
   "id": "8817bafa",
   "metadata": {},
   "source": [
    "#### Слияние данных\n",
    "- Объединение всех датафреймов:\n",
    "  Используйте столбец customerID для объединения всех таблиц."
   ]
  },
  {
   "cell_type": "code",
   "execution_count": 28,
   "id": "13edccbe",
   "metadata": {},
   "outputs": [],
   "source": [
    "# Слияние данных\n",
    "merged_data = contract_data.merge(personal_data, on='customerID')\n",
    "merged_data = merged_data.merge(internet_data, on='customerID', how='left')\n",
    "merged_data = merged_data.merge(phone_data, on='customerID', how='left')"
   ]
  },
  {
   "cell_type": "code",
   "execution_count": 29,
   "id": "8edf04a3",
   "metadata": {},
   "outputs": [
    {
     "data": {
      "text/html": [
       "<div>\n",
       "<style scoped>\n",
       "    .dataframe tbody tr th:only-of-type {\n",
       "        vertical-align: middle;\n",
       "    }\n",
       "\n",
       "    .dataframe tbody tr th {\n",
       "        vertical-align: top;\n",
       "    }\n",
       "\n",
       "    .dataframe thead th {\n",
       "        text-align: right;\n",
       "    }\n",
       "</style>\n",
       "<table border=\"1\" class=\"dataframe\">\n",
       "  <thead>\n",
       "    <tr style=\"text-align: right;\">\n",
       "      <th></th>\n",
       "      <th>customerID</th>\n",
       "      <th>BeginDate</th>\n",
       "      <th>EndDate</th>\n",
       "      <th>Type</th>\n",
       "      <th>PaperlessBilling</th>\n",
       "      <th>PaymentMethod</th>\n",
       "      <th>MonthlyCharges</th>\n",
       "      <th>TotalCharges</th>\n",
       "      <th>gender</th>\n",
       "      <th>SeniorCitizen</th>\n",
       "      <th>Partner</th>\n",
       "      <th>Dependents</th>\n",
       "      <th>InternetService</th>\n",
       "      <th>OnlineSecurity</th>\n",
       "      <th>OnlineBackup</th>\n",
       "      <th>DeviceProtection</th>\n",
       "      <th>TechSupport</th>\n",
       "      <th>StreamingTV</th>\n",
       "      <th>StreamingMovies</th>\n",
       "      <th>MultipleLines</th>\n",
       "    </tr>\n",
       "  </thead>\n",
       "  <tbody>\n",
       "    <tr>\n",
       "      <th>0</th>\n",
       "      <td>7590-VHVEG</td>\n",
       "      <td>2020-01-01</td>\n",
       "      <td>No</td>\n",
       "      <td>Month-to-month</td>\n",
       "      <td>Yes</td>\n",
       "      <td>Electronic check</td>\n",
       "      <td>29.85</td>\n",
       "      <td>31.04</td>\n",
       "      <td>Female</td>\n",
       "      <td>0</td>\n",
       "      <td>Yes</td>\n",
       "      <td>No</td>\n",
       "      <td>DSL</td>\n",
       "      <td>No</td>\n",
       "      <td>Yes</td>\n",
       "      <td>No</td>\n",
       "      <td>No</td>\n",
       "      <td>No</td>\n",
       "      <td>No</td>\n",
       "      <td>NaN</td>\n",
       "    </tr>\n",
       "    <tr>\n",
       "      <th>1</th>\n",
       "      <td>5575-GNVDE</td>\n",
       "      <td>2017-04-01</td>\n",
       "      <td>No</td>\n",
       "      <td>One year</td>\n",
       "      <td>No</td>\n",
       "      <td>Mailed check</td>\n",
       "      <td>56.95</td>\n",
       "      <td>2071.84</td>\n",
       "      <td>Male</td>\n",
       "      <td>0</td>\n",
       "      <td>No</td>\n",
       "      <td>No</td>\n",
       "      <td>DSL</td>\n",
       "      <td>Yes</td>\n",
       "      <td>No</td>\n",
       "      <td>Yes</td>\n",
       "      <td>No</td>\n",
       "      <td>No</td>\n",
       "      <td>No</td>\n",
       "      <td>No</td>\n",
       "    </tr>\n",
       "    <tr>\n",
       "      <th>2</th>\n",
       "      <td>3668-QPYBK</td>\n",
       "      <td>2019-10-01</td>\n",
       "      <td>No</td>\n",
       "      <td>Month-to-month</td>\n",
       "      <td>Yes</td>\n",
       "      <td>Mailed check</td>\n",
       "      <td>53.85</td>\n",
       "      <td>226.17</td>\n",
       "      <td>Male</td>\n",
       "      <td>0</td>\n",
       "      <td>No</td>\n",
       "      <td>No</td>\n",
       "      <td>DSL</td>\n",
       "      <td>Yes</td>\n",
       "      <td>Yes</td>\n",
       "      <td>No</td>\n",
       "      <td>No</td>\n",
       "      <td>No</td>\n",
       "      <td>No</td>\n",
       "      <td>No</td>\n",
       "    </tr>\n",
       "    <tr>\n",
       "      <th>3</th>\n",
       "      <td>7795-CFOCW</td>\n",
       "      <td>2016-05-01</td>\n",
       "      <td>No</td>\n",
       "      <td>One year</td>\n",
       "      <td>No</td>\n",
       "      <td>Bank transfer (automatic)</td>\n",
       "      <td>42.30</td>\n",
       "      <td>1960.60</td>\n",
       "      <td>Male</td>\n",
       "      <td>0</td>\n",
       "      <td>No</td>\n",
       "      <td>No</td>\n",
       "      <td>DSL</td>\n",
       "      <td>Yes</td>\n",
       "      <td>No</td>\n",
       "      <td>Yes</td>\n",
       "      <td>Yes</td>\n",
       "      <td>No</td>\n",
       "      <td>No</td>\n",
       "      <td>NaN</td>\n",
       "    </tr>\n",
       "    <tr>\n",
       "      <th>4</th>\n",
       "      <td>9237-HQITU</td>\n",
       "      <td>2019-09-01</td>\n",
       "      <td>No</td>\n",
       "      <td>Month-to-month</td>\n",
       "      <td>Yes</td>\n",
       "      <td>Electronic check</td>\n",
       "      <td>70.70</td>\n",
       "      <td>353.50</td>\n",
       "      <td>Female</td>\n",
       "      <td>0</td>\n",
       "      <td>No</td>\n",
       "      <td>No</td>\n",
       "      <td>Fiber optic</td>\n",
       "      <td>No</td>\n",
       "      <td>No</td>\n",
       "      <td>No</td>\n",
       "      <td>No</td>\n",
       "      <td>No</td>\n",
       "      <td>No</td>\n",
       "      <td>No</td>\n",
       "    </tr>\n",
       "  </tbody>\n",
       "</table>\n",
       "</div>"
      ],
      "text/plain": [
       "   customerID   BeginDate EndDate            Type PaperlessBilling  \\\n",
       "0  7590-VHVEG  2020-01-01      No  Month-to-month              Yes   \n",
       "1  5575-GNVDE  2017-04-01      No        One year               No   \n",
       "2  3668-QPYBK  2019-10-01      No  Month-to-month              Yes   \n",
       "3  7795-CFOCW  2016-05-01      No        One year               No   \n",
       "4  9237-HQITU  2019-09-01      No  Month-to-month              Yes   \n",
       "\n",
       "               PaymentMethod  MonthlyCharges  TotalCharges  gender  \\\n",
       "0           Electronic check           29.85         31.04  Female   \n",
       "1               Mailed check           56.95       2071.84    Male   \n",
       "2               Mailed check           53.85        226.17    Male   \n",
       "3  Bank transfer (automatic)           42.30       1960.60    Male   \n",
       "4           Electronic check           70.70        353.50  Female   \n",
       "\n",
       "   SeniorCitizen Partner Dependents InternetService OnlineSecurity  \\\n",
       "0              0     Yes         No             DSL             No   \n",
       "1              0      No         No             DSL            Yes   \n",
       "2              0      No         No             DSL            Yes   \n",
       "3              0      No         No             DSL            Yes   \n",
       "4              0      No         No     Fiber optic             No   \n",
       "\n",
       "  OnlineBackup DeviceProtection TechSupport StreamingTV StreamingMovies  \\\n",
       "0          Yes               No          No          No              No   \n",
       "1           No              Yes          No          No              No   \n",
       "2          Yes               No          No          No              No   \n",
       "3           No              Yes         Yes          No              No   \n",
       "4           No               No          No          No              No   \n",
       "\n",
       "  MultipleLines  \n",
       "0           NaN  \n",
       "1            No  \n",
       "2            No  \n",
       "3           NaN  \n",
       "4            No  "
      ]
     },
     "execution_count": 29,
     "metadata": {},
     "output_type": "execute_result"
    }
   ],
   "source": [
    "merged_data.head()"
   ]
  },
  {
   "cell_type": "code",
   "execution_count": 30,
   "id": "d7edd492",
   "metadata": {},
   "outputs": [
    {
     "name": "stdout",
     "output_type": "stream",
     "text": [
      "<class 'pandas.core.frame.DataFrame'>\n",
      "Int64Index: 7043 entries, 0 to 7042\n",
      "Data columns (total 20 columns):\n",
      " #   Column            Non-Null Count  Dtype  \n",
      "---  ------            --------------  -----  \n",
      " 0   customerID        7043 non-null   object \n",
      " 1   BeginDate         7043 non-null   object \n",
      " 2   EndDate           7043 non-null   object \n",
      " 3   Type              7043 non-null   object \n",
      " 4   PaperlessBilling  7043 non-null   object \n",
      " 5   PaymentMethod     7043 non-null   object \n",
      " 6   MonthlyCharges    7043 non-null   float64\n",
      " 7   TotalCharges      7032 non-null   float64\n",
      " 8   gender            7043 non-null   object \n",
      " 9   SeniorCitizen     7043 non-null   int64  \n",
      " 10  Partner           7043 non-null   object \n",
      " 11  Dependents        7043 non-null   object \n",
      " 12  InternetService   5517 non-null   object \n",
      " 13  OnlineSecurity    5517 non-null   object \n",
      " 14  OnlineBackup      5517 non-null   object \n",
      " 15  DeviceProtection  5517 non-null   object \n",
      " 16  TechSupport       5517 non-null   object \n",
      " 17  StreamingTV       5517 non-null   object \n",
      " 18  StreamingMovies   5517 non-null   object \n",
      " 19  MultipleLines     6361 non-null   object \n",
      "dtypes: float64(2), int64(1), object(17)\n",
      "memory usage: 1.1+ MB\n"
     ]
    }
   ],
   "source": [
    "# Проверка итогового датафрейма: Проверьте итоговый датафрейм на пропуски и несоответствия.\n",
    "\n",
    "merged_data.info()"
   ]
  },
  {
   "cell_type": "markdown",
   "id": "0147ea20",
   "metadata": {},
   "source": [
    "#### Выводы по данным\n",
    "\n",
    "- данные \"ровные\" - аномальных выбросов не обнаружено, модальный ежемесячный платеж - в отрезке 18-23, что является, судя по всему абонентской платой. \n",
    "- интересно несовпадение типов графиков между общими расходами и ежемесячными - количество пользователей, тратящих бОльшие суммы на телефонию снижается на графике общих расходов. В то время как график ежемесячных расходов имеет три пика 19, 50 и 80\n",
    "- датасет internet_new содержит меньшее количество данных, чем остальные таблицы (только данные подключенных к интернету пользователей)\n",
    "\n",
    "**Портрет пользователей:**\n",
    "\n",
    "- предпочитают платить ежемесячно и пользуются электронным расчетным счетом \n",
    "- примерно одинаковое количество мужчин и женщин \n",
    "- преобладают НЕ пенсионеры \n",
    "- примерно одинаковое количество пользователей с партнером и одиночек \n",
    "- подавляющее количество не имеют детей (70%)\n",
    "- чуть больше половины пользователей не пользуется подключением к нескольким телефонным линиям\n"
   ]
  },
  {
   "cell_type": "markdown",
   "id": "d8857ff1",
   "metadata": {},
   "source": [
    "<div class=\"alert alert-block alert-success\"; style=\"border-left: 6px solid green\">\n",
    "<b>Успех ✔️</b>\n",
    "       \n",
    "Объединение сделано корректно\n",
    "    \n",
    "</div>\n"
   ]
  },
  {
   "cell_type": "markdown",
   "id": "f6ec2e2b",
   "metadata": {},
   "source": [
    "# Шаг 2. Исследовательский анализ и предобработка данных"
   ]
  },
  {
   "cell_type": "markdown",
   "id": "05e36f11",
   "metadata": {},
   "source": [
    "## Предобработка данных"
   ]
  },
  {
   "cell_type": "markdown",
   "id": "c7465416",
   "metadata": {},
   "source": [
    "### Обработка пропусков"
   ]
  },
  {
   "cell_type": "code",
   "execution_count": 31,
   "id": "8279aef2",
   "metadata": {},
   "outputs": [],
   "source": [
    "# Учтем предположение, что пропущенные значения в internet_new.csv и столбец MultipleLines означают отсутствие использования и заполним их значением \"No\"\n",
    "\n",
    "columns_to_fill = [\n",
    "    'OnlineSecurity',    'OnlineBackup',\n",
    "    'DeviceProtection',  'TechSupport',\n",
    "    'StreamingTV',       'StreamingMovies',\n",
    "    'InternetService',   'MultipleLines'\n",
    "]\n",
    "\n",
    "# Замена NaN на \"No\"\n",
    "merged_data[columns_to_fill] = merged_data[columns_to_fill].fillna(\"No\")"
   ]
  },
  {
   "cell_type": "code",
   "execution_count": 32,
   "id": "c77b6f90",
   "metadata": {},
   "outputs": [],
   "source": [
    "# Убираем пропуски в столбце TotalCharges \n",
    "\n",
    "merged_data = merged_data.dropna(subset=['TotalCharges'])"
   ]
  },
  {
   "cell_type": "code",
   "execution_count": 33,
   "id": "2349d194",
   "metadata": {},
   "outputs": [
    {
     "data": {
      "text/plain": [
       "customerID          0\n",
       "BeginDate           0\n",
       "EndDate             0\n",
       "Type                0\n",
       "PaperlessBilling    0\n",
       "PaymentMethod       0\n",
       "MonthlyCharges      0\n",
       "TotalCharges        0\n",
       "gender              0\n",
       "SeniorCitizen       0\n",
       "Partner             0\n",
       "Dependents          0\n",
       "InternetService     0\n",
       "OnlineSecurity      0\n",
       "OnlineBackup        0\n",
       "DeviceProtection    0\n",
       "TechSupport         0\n",
       "StreamingTV         0\n",
       "StreamingMovies     0\n",
       "MultipleLines       0\n",
       "dtype: int64"
      ]
     },
     "execution_count": 33,
     "metadata": {},
     "output_type": "execute_result"
    }
   ],
   "source": [
    "# Проверяем на отсутствие пропусков\n",
    "\n",
    "merged_data.isnull().sum()"
   ]
  },
  {
   "cell_type": "markdown",
   "id": "e0e460b7",
   "metadata": {},
   "source": [
    "### Добавление целевого признака"
   ]
  },
  {
   "cell_type": "code",
   "execution_count": 34,
   "id": "7f0e119b",
   "metadata": {},
   "outputs": [
    {
     "data": {
      "text/html": [
       "<div>\n",
       "<style scoped>\n",
       "    .dataframe tbody tr th:only-of-type {\n",
       "        vertical-align: middle;\n",
       "    }\n",
       "\n",
       "    .dataframe tbody tr th {\n",
       "        vertical-align: top;\n",
       "    }\n",
       "\n",
       "    .dataframe thead th {\n",
       "        text-align: right;\n",
       "    }\n",
       "</style>\n",
       "<table border=\"1\" class=\"dataframe\">\n",
       "  <thead>\n",
       "    <tr style=\"text-align: right;\">\n",
       "      <th></th>\n",
       "      <th>customerID</th>\n",
       "      <th>BeginDate</th>\n",
       "      <th>EndDate</th>\n",
       "      <th>Type</th>\n",
       "      <th>PaperlessBilling</th>\n",
       "      <th>PaymentMethod</th>\n",
       "      <th>MonthlyCharges</th>\n",
       "      <th>TotalCharges</th>\n",
       "      <th>gender</th>\n",
       "      <th>SeniorCitizen</th>\n",
       "      <th>...</th>\n",
       "      <th>Dependents</th>\n",
       "      <th>InternetService</th>\n",
       "      <th>OnlineSecurity</th>\n",
       "      <th>OnlineBackup</th>\n",
       "      <th>DeviceProtection</th>\n",
       "      <th>TechSupport</th>\n",
       "      <th>StreamingTV</th>\n",
       "      <th>StreamingMovies</th>\n",
       "      <th>MultipleLines</th>\n",
       "      <th>left</th>\n",
       "    </tr>\n",
       "  </thead>\n",
       "  <tbody>\n",
       "    <tr>\n",
       "      <th>0</th>\n",
       "      <td>7590-VHVEG</td>\n",
       "      <td>2020-01-01</td>\n",
       "      <td>No</td>\n",
       "      <td>Month-to-month</td>\n",
       "      <td>Yes</td>\n",
       "      <td>Electronic check</td>\n",
       "      <td>29.85</td>\n",
       "      <td>31.04</td>\n",
       "      <td>Female</td>\n",
       "      <td>0</td>\n",
       "      <td>...</td>\n",
       "      <td>No</td>\n",
       "      <td>DSL</td>\n",
       "      <td>No</td>\n",
       "      <td>Yes</td>\n",
       "      <td>No</td>\n",
       "      <td>No</td>\n",
       "      <td>No</td>\n",
       "      <td>No</td>\n",
       "      <td>No</td>\n",
       "      <td>0</td>\n",
       "    </tr>\n",
       "    <tr>\n",
       "      <th>1</th>\n",
       "      <td>5575-GNVDE</td>\n",
       "      <td>2017-04-01</td>\n",
       "      <td>No</td>\n",
       "      <td>One year</td>\n",
       "      <td>No</td>\n",
       "      <td>Mailed check</td>\n",
       "      <td>56.95</td>\n",
       "      <td>2071.84</td>\n",
       "      <td>Male</td>\n",
       "      <td>0</td>\n",
       "      <td>...</td>\n",
       "      <td>No</td>\n",
       "      <td>DSL</td>\n",
       "      <td>Yes</td>\n",
       "      <td>No</td>\n",
       "      <td>Yes</td>\n",
       "      <td>No</td>\n",
       "      <td>No</td>\n",
       "      <td>No</td>\n",
       "      <td>No</td>\n",
       "      <td>0</td>\n",
       "    </tr>\n",
       "    <tr>\n",
       "      <th>2</th>\n",
       "      <td>3668-QPYBK</td>\n",
       "      <td>2019-10-01</td>\n",
       "      <td>No</td>\n",
       "      <td>Month-to-month</td>\n",
       "      <td>Yes</td>\n",
       "      <td>Mailed check</td>\n",
       "      <td>53.85</td>\n",
       "      <td>226.17</td>\n",
       "      <td>Male</td>\n",
       "      <td>0</td>\n",
       "      <td>...</td>\n",
       "      <td>No</td>\n",
       "      <td>DSL</td>\n",
       "      <td>Yes</td>\n",
       "      <td>Yes</td>\n",
       "      <td>No</td>\n",
       "      <td>No</td>\n",
       "      <td>No</td>\n",
       "      <td>No</td>\n",
       "      <td>No</td>\n",
       "      <td>0</td>\n",
       "    </tr>\n",
       "    <tr>\n",
       "      <th>3</th>\n",
       "      <td>7795-CFOCW</td>\n",
       "      <td>2016-05-01</td>\n",
       "      <td>No</td>\n",
       "      <td>One year</td>\n",
       "      <td>No</td>\n",
       "      <td>Bank transfer (automatic)</td>\n",
       "      <td>42.30</td>\n",
       "      <td>1960.60</td>\n",
       "      <td>Male</td>\n",
       "      <td>0</td>\n",
       "      <td>...</td>\n",
       "      <td>No</td>\n",
       "      <td>DSL</td>\n",
       "      <td>Yes</td>\n",
       "      <td>No</td>\n",
       "      <td>Yes</td>\n",
       "      <td>Yes</td>\n",
       "      <td>No</td>\n",
       "      <td>No</td>\n",
       "      <td>No</td>\n",
       "      <td>0</td>\n",
       "    </tr>\n",
       "    <tr>\n",
       "      <th>4</th>\n",
       "      <td>9237-HQITU</td>\n",
       "      <td>2019-09-01</td>\n",
       "      <td>No</td>\n",
       "      <td>Month-to-month</td>\n",
       "      <td>Yes</td>\n",
       "      <td>Electronic check</td>\n",
       "      <td>70.70</td>\n",
       "      <td>353.50</td>\n",
       "      <td>Female</td>\n",
       "      <td>0</td>\n",
       "      <td>...</td>\n",
       "      <td>No</td>\n",
       "      <td>Fiber optic</td>\n",
       "      <td>No</td>\n",
       "      <td>No</td>\n",
       "      <td>No</td>\n",
       "      <td>No</td>\n",
       "      <td>No</td>\n",
       "      <td>No</td>\n",
       "      <td>No</td>\n",
       "      <td>0</td>\n",
       "    </tr>\n",
       "  </tbody>\n",
       "</table>\n",
       "<p>5 rows × 21 columns</p>\n",
       "</div>"
      ],
      "text/plain": [
       "   customerID   BeginDate EndDate            Type PaperlessBilling  \\\n",
       "0  7590-VHVEG  2020-01-01      No  Month-to-month              Yes   \n",
       "1  5575-GNVDE  2017-04-01      No        One year               No   \n",
       "2  3668-QPYBK  2019-10-01      No  Month-to-month              Yes   \n",
       "3  7795-CFOCW  2016-05-01      No        One year               No   \n",
       "4  9237-HQITU  2019-09-01      No  Month-to-month              Yes   \n",
       "\n",
       "               PaymentMethod  MonthlyCharges  TotalCharges  gender  \\\n",
       "0           Electronic check           29.85         31.04  Female   \n",
       "1               Mailed check           56.95       2071.84    Male   \n",
       "2               Mailed check           53.85        226.17    Male   \n",
       "3  Bank transfer (automatic)           42.30       1960.60    Male   \n",
       "4           Electronic check           70.70        353.50  Female   \n",
       "\n",
       "   SeniorCitizen  ... Dependents InternetService OnlineSecurity OnlineBackup  \\\n",
       "0              0  ...         No             DSL             No          Yes   \n",
       "1              0  ...         No             DSL            Yes           No   \n",
       "2              0  ...         No             DSL            Yes          Yes   \n",
       "3              0  ...         No             DSL            Yes           No   \n",
       "4              0  ...         No     Fiber optic             No           No   \n",
       "\n",
       "  DeviceProtection TechSupport StreamingTV StreamingMovies MultipleLines left  \n",
       "0               No          No          No              No            No    0  \n",
       "1              Yes          No          No              No            No    0  \n",
       "2               No          No          No              No            No    0  \n",
       "3              Yes         Yes          No              No            No    0  \n",
       "4               No          No          No              No            No    0  \n",
       "\n",
       "[5 rows x 21 columns]"
      ]
     },
     "execution_count": 34,
     "metadata": {},
     "output_type": "execute_result"
    }
   ],
   "source": [
    "# Добавление целевого признака \n",
    "# Преобразование значений столбца EndDate в строки на случай, если они в другом формате\n",
    "merged_data['EndDate'] = merged_data['EndDate'].astype(str)\n",
    "\n",
    "# Добавление нового столбца left на основании значений столбца EndDate\n",
    "merged_data['left'] = merged_data['EndDate'].apply(lambda x: 0 if x.lower() == 'no' else 1)\n",
    "\n",
    "# Вывод первых строк для проверки\n",
    "merged_data.head()"
   ]
  },
  {
   "cell_type": "code",
   "execution_count": 35,
   "id": "3770b48e",
   "metadata": {},
   "outputs": [
    {
     "name": "stderr",
     "output_type": "stream",
     "text": [
      "/tmp/ipykernel_862/2888130583.py:6: FutureWarning: \n",
      "\n",
      "Passing `palette` without assigning `hue` is deprecated and will be removed in v0.14.0. Assign the `x` variable to `hue` and set `legend=False` for the same effect.\n",
      "\n",
      "  sns.barplot(x=left_counts.index, y=left_counts.values, palette='pastel')\n"
     ]
    },
    {
     "data": {
      "image/png": "[encoded data removed]",
      "text/plain": [
       "<Figure size 576x360 with 1 Axes>"
      ]
     },
     "metadata": {
      "needs_background": "light"
     },
     "output_type": "display_data"
    }
   ],
   "source": [
    "# Подсчет количества значений в столбце целевого признака\n",
    "left_counts = merged_data['left'].value_counts()\n",
    "\n",
    "# Построение столбчатой диаграммы\n",
    "plt.figure(figsize=(8, 5))\n",
    "sns.barplot(x=left_counts.index, y=left_counts.values, palette='pastel')\n",
    "\n",
    "# Добавление текстовых меток с количеством\n",
    "for i, count in enumerate(left_counts.values):\n",
    "    plt.text(i, count + 0.5, str(count), ha='center', va='bottom', fontsize=12)\n",
    "\n",
    "# Настройки\n",
    "plt.title('Распределение значений left')\n",
    "plt.xlabel('left')\n",
    "plt.ylabel('Количество')\n",
    "plt.xticks(rotation=0)  # Угол подписи значений на оси X\n",
    "plt.tight_layout()\n",
    "\n",
    "# Показать диаграмму\n",
    "plt.show()\n"
   ]
  },
  {
   "cell_type": "markdown",
   "id": "1c7e2ae7",
   "metadata": {},
   "source": [
    "Количество покинувших компанию гораздо меньше, чем количество оставшихся"
   ]
  },
  {
   "cell_type": "markdown",
   "id": "515f1205",
   "metadata": {},
   "source": [
    "### Работа с признаками"
   ]
  },
  {
   "cell_type": "code",
   "execution_count": 36,
   "id": "03df68d8",
   "metadata": {},
   "outputs": [
    {
     "name": "stdout",
     "output_type": "stream",
     "text": [
      "2020-01-01 00:00:00\n"
     ]
    }
   ],
   "source": [
    "# Узнаем максимальную дату в столбце 'EndDate'\n",
    "# Преобразуем столбец 'EndDate' в формат datetime, заменяя некорректные значения на NaT\n",
    "contract_data['EndDate'] = pd.to_datetime(contract_data['EndDate'], errors='coerce')\n",
    "\n",
    "# Найдем максимальную дату, игнорируя NaT\n",
    "max_end_date = contract_data['EndDate'].max()\n",
    "\n",
    "print(max_end_date)"
   ]
  },
  {
   "cell_type": "code",
   "execution_count": 37,
   "id": "6a26f918",
   "metadata": {},
   "outputs": [
    {
     "data": {
      "text/html": [
       "<div>\n",
       "<style scoped>\n",
       "    .dataframe tbody tr th:only-of-type {\n",
       "        vertical-align: middle;\n",
       "    }\n",
       "\n",
       "    .dataframe tbody tr th {\n",
       "        vertical-align: top;\n",
       "    }\n",
       "\n",
       "    .dataframe thead th {\n",
       "        text-align: right;\n",
       "    }\n",
       "</style>\n",
       "<table border=\"1\" class=\"dataframe\">\n",
       "  <thead>\n",
       "    <tr style=\"text-align: right;\">\n",
       "      <th></th>\n",
       "      <th>customerID</th>\n",
       "      <th>BeginDate</th>\n",
       "      <th>EndDate</th>\n",
       "      <th>Type</th>\n",
       "      <th>PaperlessBilling</th>\n",
       "      <th>PaymentMethod</th>\n",
       "      <th>MonthlyCharges</th>\n",
       "      <th>TotalCharges</th>\n",
       "      <th>gender</th>\n",
       "      <th>SeniorCitizen</th>\n",
       "      <th>...</th>\n",
       "      <th>InternetService</th>\n",
       "      <th>OnlineSecurity</th>\n",
       "      <th>OnlineBackup</th>\n",
       "      <th>DeviceProtection</th>\n",
       "      <th>TechSupport</th>\n",
       "      <th>StreamingTV</th>\n",
       "      <th>StreamingMovies</th>\n",
       "      <th>MultipleLines</th>\n",
       "      <th>left</th>\n",
       "      <th>duration</th>\n",
       "    </tr>\n",
       "  </thead>\n",
       "  <tbody>\n",
       "    <tr>\n",
       "      <th>0</th>\n",
       "      <td>7590-VHVEG</td>\n",
       "      <td>2020-01-01</td>\n",
       "      <td>2020-02-01</td>\n",
       "      <td>Month-to-month</td>\n",
       "      <td>Yes</td>\n",
       "      <td>Electronic check</td>\n",
       "      <td>29.85</td>\n",
       "      <td>31.04</td>\n",
       "      <td>Female</td>\n",
       "      <td>0</td>\n",
       "      <td>...</td>\n",
       "      <td>DSL</td>\n",
       "      <td>No</td>\n",
       "      <td>Yes</td>\n",
       "      <td>No</td>\n",
       "      <td>No</td>\n",
       "      <td>No</td>\n",
       "      <td>No</td>\n",
       "      <td>No</td>\n",
       "      <td>0</td>\n",
       "      <td>31</td>\n",
       "    </tr>\n",
       "    <tr>\n",
       "      <th>1</th>\n",
       "      <td>5575-GNVDE</td>\n",
       "      <td>2017-04-01</td>\n",
       "      <td>2020-02-01</td>\n",
       "      <td>One year</td>\n",
       "      <td>No</td>\n",
       "      <td>Mailed check</td>\n",
       "      <td>56.95</td>\n",
       "      <td>2071.84</td>\n",
       "      <td>Male</td>\n",
       "      <td>0</td>\n",
       "      <td>...</td>\n",
       "      <td>DSL</td>\n",
       "      <td>Yes</td>\n",
       "      <td>No</td>\n",
       "      <td>Yes</td>\n",
       "      <td>No</td>\n",
       "      <td>No</td>\n",
       "      <td>No</td>\n",
       "      <td>No</td>\n",
       "      <td>0</td>\n",
       "      <td>1036</td>\n",
       "    </tr>\n",
       "    <tr>\n",
       "      <th>2</th>\n",
       "      <td>3668-QPYBK</td>\n",
       "      <td>2019-10-01</td>\n",
       "      <td>2020-02-01</td>\n",
       "      <td>Month-to-month</td>\n",
       "      <td>Yes</td>\n",
       "      <td>Mailed check</td>\n",
       "      <td>53.85</td>\n",
       "      <td>226.17</td>\n",
       "      <td>Male</td>\n",
       "      <td>0</td>\n",
       "      <td>...</td>\n",
       "      <td>DSL</td>\n",
       "      <td>Yes</td>\n",
       "      <td>Yes</td>\n",
       "      <td>No</td>\n",
       "      <td>No</td>\n",
       "      <td>No</td>\n",
       "      <td>No</td>\n",
       "      <td>No</td>\n",
       "      <td>0</td>\n",
       "      <td>123</td>\n",
       "    </tr>\n",
       "    <tr>\n",
       "      <th>3</th>\n",
       "      <td>7795-CFOCW</td>\n",
       "      <td>2016-05-01</td>\n",
       "      <td>2020-02-01</td>\n",
       "      <td>One year</td>\n",
       "      <td>No</td>\n",
       "      <td>Bank transfer (automatic)</td>\n",
       "      <td>42.30</td>\n",
       "      <td>1960.60</td>\n",
       "      <td>Male</td>\n",
       "      <td>0</td>\n",
       "      <td>...</td>\n",
       "      <td>DSL</td>\n",
       "      <td>Yes</td>\n",
       "      <td>No</td>\n",
       "      <td>Yes</td>\n",
       "      <td>Yes</td>\n",
       "      <td>No</td>\n",
       "      <td>No</td>\n",
       "      <td>No</td>\n",
       "      <td>0</td>\n",
       "      <td>1371</td>\n",
       "    </tr>\n",
       "    <tr>\n",
       "      <th>4</th>\n",
       "      <td>9237-HQITU</td>\n",
       "      <td>2019-09-01</td>\n",
       "      <td>2020-02-01</td>\n",
       "      <td>Month-to-month</td>\n",
       "      <td>Yes</td>\n",
       "      <td>Electronic check</td>\n",
       "      <td>70.70</td>\n",
       "      <td>353.50</td>\n",
       "      <td>Female</td>\n",
       "      <td>0</td>\n",
       "      <td>...</td>\n",
       "      <td>Fiber optic</td>\n",
       "      <td>No</td>\n",
       "      <td>No</td>\n",
       "      <td>No</td>\n",
       "      <td>No</td>\n",
       "      <td>No</td>\n",
       "      <td>No</td>\n",
       "      <td>No</td>\n",
       "      <td>0</td>\n",
       "      <td>153</td>\n",
       "    </tr>\n",
       "  </tbody>\n",
       "</table>\n",
       "<p>5 rows × 22 columns</p>\n",
       "</div>"
      ],
      "text/plain": [
       "   customerID  BeginDate    EndDate            Type PaperlessBilling  \\\n",
       "0  7590-VHVEG 2020-01-01 2020-02-01  Month-to-month              Yes   \n",
       "1  5575-GNVDE 2017-04-01 2020-02-01        One year               No   \n",
       "2  3668-QPYBK 2019-10-01 2020-02-01  Month-to-month              Yes   \n",
       "3  7795-CFOCW 2016-05-01 2020-02-01        One year               No   \n",
       "4  9237-HQITU 2019-09-01 2020-02-01  Month-to-month              Yes   \n",
       "\n",
       "               PaymentMethod  MonthlyCharges  TotalCharges  gender  \\\n",
       "0           Electronic check           29.85         31.04  Female   \n",
       "1               Mailed check           56.95       2071.84    Male   \n",
       "2               Mailed check           53.85        226.17    Male   \n",
       "3  Bank transfer (automatic)           42.30       1960.60    Male   \n",
       "4           Electronic check           70.70        353.50  Female   \n",
       "\n",
       "   SeniorCitizen  ... InternetService OnlineSecurity OnlineBackup  \\\n",
       "0              0  ...             DSL             No          Yes   \n",
       "1              0  ...             DSL            Yes           No   \n",
       "2              0  ...             DSL            Yes          Yes   \n",
       "3              0  ...             DSL            Yes           No   \n",
       "4              0  ...     Fiber optic             No           No   \n",
       "\n",
       "  DeviceProtection TechSupport StreamingTV StreamingMovies MultipleLines left  \\\n",
       "0               No          No          No              No            No    0   \n",
       "1              Yes          No          No              No            No    0   \n",
       "2               No          No          No              No            No    0   \n",
       "3              Yes         Yes          No              No            No    0   \n",
       "4               No          No          No              No            No    0   \n",
       "\n",
       "  duration  \n",
       "0       31  \n",
       "1     1036  \n",
       "2      123  \n",
       "3     1371  \n",
       "4      153  \n",
       "\n",
       "[5 rows x 22 columns]"
      ]
     },
     "execution_count": 37,
     "metadata": {},
     "output_type": "execute_result"
    }
   ],
   "source": [
    "# Создаем \n",
    "\n",
    "merged_data.loc[merged_data.EndDate == 'No', ['EndDate']] = '2020-02-01'\n",
    "\n",
    "# Преобразуйте колонки BeginDate и EndDate в формат datetime\n",
    "merged_data['BeginDate'] = pd.to_datetime(merged_data['BeginDate'])\n",
    "merged_data['EndDate'] = pd.to_datetime(merged_data['EndDate'])\n",
    "\n",
    "# Создайте новый признак duration - количество дней в качестве клиента компании\n",
    "merged_data['duration'] = (merged_data.EndDate - merged_data.BeginDate).dt.days\n",
    "\n",
    "# Посмотрите на первые пять строк DataFrame\n",
    "merged_data.head()"
   ]
  },
  {
   "cell_type": "code",
   "execution_count": 38,
   "id": "0d5f7ef7",
   "metadata": {},
   "outputs": [
    {
     "data": {
      "image/png": "[encoded data removed]",
      "text/plain": [
       "<Figure size 720x432 with 1 Axes>"
      ]
     },
     "metadata": {
      "needs_background": "light"
     },
     "output_type": "display_data"
    }
   ],
   "source": [
    "# Построим гистограмму для распределения duration в зависимости от оттока\n",
    "plt.figure(figsize=(10, 6))\n",
    "sns.histplot(data=merged_data, x='duration', hue='left', kde=True, bins=30, palette='viridis')\n",
    "plt.title('Распределение продолжительности использования услуг в зависимости от оттока')\n",
    "plt.xlabel('Продолжительность (дни)')\n",
    "plt.ylabel('Количество клиентов')\n",
    "plt.legend(title='Отток', labels=['Ушли', 'Остались'])\n",
    "plt.grid(axis='y', linestyle='--', alpha=0.7)\n",
    "plt.show()"
   ]
  },
  {
   "cell_type": "code",
   "execution_count": 39,
   "id": "d7331113",
   "metadata": {},
   "outputs": [],
   "source": [
    "# Удаляем признаки, которые не будем использовать\n",
    "merged_data = merged_data.drop(['customerID', 'BeginDate', 'EndDate'], axis=1)"
   ]
  },
  {
   "cell_type": "code",
   "execution_count": 40,
   "id": "0dcb88a6",
   "metadata": {},
   "outputs": [],
   "source": [
    "# Анализ корреляции:\n",
    "\n",
    "# Задаем интервал переменных\n",
    "interval_cols = ['MonthlyCharges', 'TotalCharges', 'duration']\n",
    "\n",
    "# Вычисление корреляционной матрицы с помощью Phik\n",
    "corr_matrix = merged_data.phik_matrix(interval_cols=interval_cols)"
   ]
  },
  {
   "cell_type": "code",
   "execution_count": 41,
   "id": "45534c4b",
   "metadata": {},
   "outputs": [
    {
     "data": {
      "image/png": "[encoded data removed]",
      "text/plain": [
       "<Figure size 864x720 with 2 Axes>"
      ]
     },
     "metadata": {
      "needs_background": "light"
     },
     "output_type": "display_data"
    }
   ],
   "source": [
    "plt.figure(figsize=(12, 10))\n",
    "sns.heatmap(corr_matrix, annot=True, cmap='coolwarm', fmt='.2f')\n",
    "plt.show()"
   ]
  },
  {
   "cell_type": "markdown",
   "id": "bd0b0980",
   "metadata": {},
   "source": [
    "Выявлена очень высокая положительная корреляция между \"MonthlyCharges\" и \"InternetService\" высокая положительная корреляция между \"MonthlyCharges\" и признаками: \"StreamingTV\" и \"StreamingMovies\" "
   ]
  },
  {
   "cell_type": "markdown",
   "id": "14eb7940",
   "metadata": {},
   "source": [
    "# Удаление нерелевантных признаков\n",
    "merged_data = merged_data.drop(columns=['InternetService','StreamingTV','StreamingMovies','gender'])"
   ]
  },
  {
   "cell_type": "code",
   "execution_count": 42,
   "id": "d9726a25",
   "metadata": {},
   "outputs": [],
   "source": [
    "# Предположим, что 'left' - это целевой признак\n",
    "target = 'left'\n",
    "\n",
    "# Определите числовые и категориальные признаки\n",
    "numeric_features = merged_data.select_dtypes(include=['int64', 'float64']).columns.tolist()\n",
    "\n",
    "# Убедитесь, что целевой признак удаляется только если он есть в списке numeric_features\n",
    "if target in numeric_features:\n",
    "    numeric_features.remove(target)  # Удалить целевой признак из списка\n",
    "\n",
    "categorical_features = merged_data.select_dtypes(include=['object', 'bool']).columns.tolist()"
   ]
  },
  {
   "cell_type": "code",
   "execution_count": 43,
   "id": "ab59eca0",
   "metadata": {},
   "outputs": [],
   "source": [
    "# Разделение данных на признаки и целевой признак\n",
    "X = merged_data.drop('left', axis=1)\n",
    "y = merged_data['left']\n",
    "\n",
    "# Разделение данных на обучающую и тестовую выборки\n",
    "X_train, X_test, y_train, y_test = train_test_split(X, y, test_size = TEST_SIZE, random_state = RANDOM_STATE)"
   ]
  },
  {
   "cell_type": "code",
   "execution_count": 44,
   "id": "017b50df",
   "metadata": {},
   "outputs": [
    {
     "name": "stderr",
     "output_type": "stream",
     "text": [
      "/opt/conda/lib/python3.9/site-packages/sklearn/svm/_base.py:1249: ConvergenceWarning: Liblinear failed to converge, increase the number of iterations.\n",
      "  warnings.warn(\n",
      "/opt/conda/lib/python3.9/site-packages/sklearn/svm/_base.py:1249: ConvergenceWarning: Liblinear failed to converge, increase the number of iterations.\n",
      "  warnings.warn(\n",
      "/opt/conda/lib/python3.9/site-packages/sklearn/svm/_base.py:1249: ConvergenceWarning: Liblinear failed to converge, increase the number of iterations.\n",
      "  warnings.warn(\n",
      "/opt/conda/lib/python3.9/site-packages/sklearn/svm/_base.py:1249: ConvergenceWarning: Liblinear failed to converge, increase the number of iterations.\n",
      "  warnings.warn(\n",
      "/opt/conda/lib/python3.9/site-packages/sklearn/svm/_base.py:1249: ConvergenceWarning: Liblinear failed to converge, increase the number of iterations.\n",
      "  warnings.warn(\n"
     ]
    },
    {
     "name": "stdout",
     "output_type": "stream",
     "text": [
      "ROC AUC: 0.6303 для параметров: {'models': DecisionTreeClassifier(random_state=100225), 'models__max_depth': 2, 'models__max_features': 2, 'preprocessor__num__scaler': StandardScaler()}\n",
      "ROC AUC: 0.6303 для параметров: {'models': DecisionTreeClassifier(random_state=100225), 'models__max_depth': 2, 'models__max_features': 2, 'preprocessor__num__scaler': MinMaxScaler()}\n",
      "ROC AUC: 0.6303 для параметров: {'models': DecisionTreeClassifier(random_state=100225), 'models__max_depth': 2, 'models__max_features': 2, 'preprocessor__num__scaler': 'passthrough'}\n",
      "ROC AUC: 0.6237 для параметров: {'models': DecisionTreeClassifier(random_state=100225), 'models__max_depth': 2, 'models__max_features': 3, 'preprocessor__num__scaler': StandardScaler()}\n",
      "ROC AUC: 0.6237 для параметров: {'models': DecisionTreeClassifier(random_state=100225), 'models__max_depth': 2, 'models__max_features': 3, 'preprocessor__num__scaler': MinMaxScaler()}\n",
      "ROC AUC: 0.6237 для параметров: {'models': DecisionTreeClassifier(random_state=100225), 'models__max_depth': 2, 'models__max_features': 3, 'preprocessor__num__scaler': 'passthrough'}\n",
      "ROC AUC: 0.6339 для параметров: {'models': DecisionTreeClassifier(random_state=100225), 'models__max_depth': 2, 'models__max_features': 4, 'preprocessor__num__scaler': StandardScaler()}\n",
      "ROC AUC: 0.6339 для параметров: {'models': DecisionTreeClassifier(random_state=100225), 'models__max_depth': 2, 'models__max_features': 4, 'preprocessor__num__scaler': MinMaxScaler()}\n",
      "ROC AUC: 0.6339 для параметров: {'models': DecisionTreeClassifier(random_state=100225), 'models__max_depth': 2, 'models__max_features': 4, 'preprocessor__num__scaler': 'passthrough'}\n",
      "ROC AUC: 0.6776 для параметров: {'models': DecisionTreeClassifier(random_state=100225), 'models__max_depth': 3, 'models__max_features': 2, 'preprocessor__num__scaler': StandardScaler()}\n",
      "ROC AUC: 0.6776 для параметров: {'models': DecisionTreeClassifier(random_state=100225), 'models__max_depth': 3, 'models__max_features': 2, 'preprocessor__num__scaler': MinMaxScaler()}\n",
      "ROC AUC: 0.6776 для параметров: {'models': DecisionTreeClassifier(random_state=100225), 'models__max_depth': 3, 'models__max_features': 2, 'preprocessor__num__scaler': 'passthrough'}\n",
      "ROC AUC: 0.6592 для параметров: {'models': DecisionTreeClassifier(random_state=100225), 'models__max_depth': 3, 'models__max_features': 3, 'preprocessor__num__scaler': StandardScaler()}\n",
      "ROC AUC: 0.6592 для параметров: {'models': DecisionTreeClassifier(random_state=100225), 'models__max_depth': 3, 'models__max_features': 3, 'preprocessor__num__scaler': MinMaxScaler()}\n",
      "ROC AUC: 0.6592 для параметров: {'models': DecisionTreeClassifier(random_state=100225), 'models__max_depth': 3, 'models__max_features': 3, 'preprocessor__num__scaler': 'passthrough'}\n",
      "ROC AUC: 0.7086 для параметров: {'models': DecisionTreeClassifier(random_state=100225), 'models__max_depth': 3, 'models__max_features': 4, 'preprocessor__num__scaler': StandardScaler()}\n",
      "ROC AUC: 0.7086 для параметров: {'models': DecisionTreeClassifier(random_state=100225), 'models__max_depth': 3, 'models__max_features': 4, 'preprocessor__num__scaler': MinMaxScaler()}\n",
      "ROC AUC: 0.7086 для параметров: {'models': DecisionTreeClassifier(random_state=100225), 'models__max_depth': 3, 'models__max_features': 4, 'preprocessor__num__scaler': 'passthrough'}\n",
      "ROC AUC: 0.7031 для параметров: {'models': DecisionTreeClassifier(random_state=100225), 'models__max_depth': 4, 'models__max_features': 2, 'preprocessor__num__scaler': StandardScaler()}\n",
      "ROC AUC: 0.7031 для параметров: {'models': DecisionTreeClassifier(random_state=100225), 'models__max_depth': 4, 'models__max_features': 2, 'preprocessor__num__scaler': MinMaxScaler()}\n",
      "ROC AUC: 0.7030 для параметров: {'models': DecisionTreeClassifier(random_state=100225), 'models__max_depth': 4, 'models__max_features': 2, 'preprocessor__num__scaler': 'passthrough'}\n",
      "ROC AUC: 0.7132 для параметров: {'models': DecisionTreeClassifier(random_state=100225), 'models__max_depth': 4, 'models__max_features': 3, 'preprocessor__num__scaler': StandardScaler()}\n",
      "ROC AUC: 0.7132 для параметров: {'models': DecisionTreeClassifier(random_state=100225), 'models__max_depth': 4, 'models__max_features': 3, 'preprocessor__num__scaler': MinMaxScaler()}\n",
      "ROC AUC: 0.7132 для параметров: {'models': DecisionTreeClassifier(random_state=100225), 'models__max_depth': 4, 'models__max_features': 3, 'preprocessor__num__scaler': 'passthrough'}\n",
      "ROC AUC: 0.7296 для параметров: {'models': DecisionTreeClassifier(random_state=100225), 'models__max_depth': 4, 'models__max_features': 4, 'preprocessor__num__scaler': StandardScaler()}\n",
      "ROC AUC: 0.7296 для параметров: {'models': DecisionTreeClassifier(random_state=100225), 'models__max_depth': 4, 'models__max_features': 4, 'preprocessor__num__scaler': MinMaxScaler()}\n",
      "ROC AUC: 0.7296 для параметров: {'models': DecisionTreeClassifier(random_state=100225), 'models__max_depth': 4, 'models__max_features': 4, 'preprocessor__num__scaler': 'passthrough'}\n",
      "ROC AUC: 0.7604 для параметров: {'models': SVC(probability=True, random_state=100225), 'preprocessor__num__scaler': StandardScaler()}\n",
      "ROC AUC: 0.7611 для параметров: {'models': SVC(probability=True, random_state=100225), 'preprocessor__num__scaler': MinMaxScaler()}\n",
      "ROC AUC: 0.6139 для параметров: {'models': SVC(probability=True, random_state=100225), 'preprocessor__num__scaler': 'passthrough'}\n",
      "ROC AUC: 0.6647 для параметров: {'models': KNeighborsClassifier(), 'models__n_neighbors': 2, 'preprocessor__num__scaler': StandardScaler()}\n",
      "ROC AUC: 0.6233 для параметров: {'models': KNeighborsClassifier(), 'models__n_neighbors': 2, 'preprocessor__num__scaler': MinMaxScaler()}\n",
      "ROC AUC: 0.5930 для параметров: {'models': KNeighborsClassifier(), 'models__n_neighbors': 2, 'preprocessor__num__scaler': 'passthrough'}\n",
      "ROC AUC: 0.7020 для параметров: {'models': KNeighborsClassifier(), 'models__n_neighbors': 3, 'preprocessor__num__scaler': StandardScaler()}\n",
      "ROC AUC: 0.6525 для параметров: {'models': KNeighborsClassifier(), 'models__n_neighbors': 3, 'preprocessor__num__scaler': MinMaxScaler()}\n",
      "ROC AUC: 0.6163 для параметров: {'models': KNeighborsClassifier(), 'models__n_neighbors': 3, 'preprocessor__num__scaler': 'passthrough'}\n",
      "ROC AUC: 0.7210 для параметров: {'models': KNeighborsClassifier(), 'models__n_neighbors': 4, 'preprocessor__num__scaler': StandardScaler()}\n",
      "ROC AUC: 0.6766 для параметров: {'models': KNeighborsClassifier(), 'models__n_neighbors': 4, 'preprocessor__num__scaler': MinMaxScaler()}\n",
      "ROC AUC: 0.6319 для параметров: {'models': KNeighborsClassifier(), 'models__n_neighbors': 4, 'preprocessor__num__scaler': 'passthrough'}\n",
      "ROC AUC: 0.8268 для параметров: {'models': LogisticRegression(penalty='l1', random_state=100225, solver='liblinear'), 'models__C': 1, 'preprocessor__num__scaler': StandardScaler()}\n",
      "ROC AUC: 0.8264 для параметров: {'models': LogisticRegression(penalty='l1', random_state=100225, solver='liblinear'), 'models__C': 1, 'preprocessor__num__scaler': MinMaxScaler()}\n",
      "ROC AUC: 0.8259 для параметров: {'models': LogisticRegression(penalty='l1', random_state=100225, solver='liblinear'), 'models__C': 1, 'preprocessor__num__scaler': 'passthrough'}\n",
      "ROC AUC: 0.8269 для параметров: {'models': LogisticRegression(penalty='l1', random_state=100225, solver='liblinear'), 'models__C': 2, 'preprocessor__num__scaler': StandardScaler()}\n",
      "ROC AUC: 0.8270 для параметров: {'models': LogisticRegression(penalty='l1', random_state=100225, solver='liblinear'), 'models__C': 2, 'preprocessor__num__scaler': MinMaxScaler()}\n",
      "ROC AUC: 0.8260 для параметров: {'models': LogisticRegression(penalty='l1', random_state=100225, solver='liblinear'), 'models__C': 2, 'preprocessor__num__scaler': 'passthrough'}\n",
      "ROC AUC: 0.8269 для параметров: {'models': LogisticRegression(penalty='l1', random_state=100225, solver='liblinear'), 'models__C': 3, 'preprocessor__num__scaler': StandardScaler()}\n",
      "ROC AUC: 0.8270 для параметров: {'models': LogisticRegression(penalty='l1', random_state=100225, solver='liblinear'), 'models__C': 3, 'preprocessor__num__scaler': MinMaxScaler()}\n",
      "ROC AUC: 0.8260 для параметров: {'models': LogisticRegression(penalty='l1', random_state=100225, solver='liblinear'), 'models__C': 3, 'preprocessor__num__scaler': 'passthrough'}\n",
      "ROC AUC: 0.8268 для параметров: {'models': LogisticRegression(penalty='l1', random_state=100225, solver='liblinear'), 'models__C': 4, 'preprocessor__num__scaler': StandardScaler()}\n",
      "ROC AUC: 0.8269 для параметров: {'models': LogisticRegression(penalty='l1', random_state=100225, solver='liblinear'), 'models__C': 4, 'preprocessor__num__scaler': MinMaxScaler()}\n",
      "ROC AUC: 0.8260 для параметров: {'models': LogisticRegression(penalty='l1', random_state=100225, solver='liblinear'), 'models__C': 4, 'preprocessor__num__scaler': 'passthrough'}\n",
      "\n",
      "**Лучшая модель и её параметры:**\n",
      "\n",
      " Pipeline(steps=[('preprocessor',\n",
      "                 ColumnTransformer(transformers=[('num',\n",
      "                                                  Pipeline(steps=[('imputer',\n",
      "                                                                   SimpleImputer()),\n",
      "                                                                  ('poly',\n",
      "                                                                   PolynomialFeatures(include_bias=False)),\n",
      "                                                                  ('scaler',\n",
      "                                                                   MinMaxScaler())]),\n",
      "                                                  ['MonthlyCharges',\n",
      "                                                   'TotalCharges',\n",
      "                                                   'SeniorCitizen',\n",
      "                                                   'duration']),\n",
      "                                                 ('cat',\n",
      "                                                  Pipeline(steps=[('imputer',\n",
      "                                                                   SimpleImputer(strategy='most_frequent')),\n",
      "                                                                  ('onehot',\n",
      "                                                                   OneHotEncoder(handle_unknown='ignore'))]),\n",
      "                                                  ['Type', 'PaperlessBilling',\n",
      "                                                   'PaymentMethod', 'gender',\n",
      "                                                   'Partner', 'Dependents',\n",
      "                                                   'InternetService',\n",
      "                                                   'OnlineSecurity',\n",
      "                                                   'OnlineBackup',\n",
      "                                                   'DeviceProtection',\n",
      "                                                   'TechSupport', 'StreamingTV',\n",
      "                                                   'StreamingMovies',\n",
      "                                                   'MultipleLines'])])),\n",
      "                ('models',\n",
      "                 LogisticRegression(C=2, penalty='l1', random_state=100225,\n",
      "                                    solver='liblinear'))])\n",
      "**Метрика лучшей модели (ROC AUC) на тренировочной выборке:** 0.8270049743806938\n",
      "*Модель не прошла установленный порог качества.*\n"
     ]
    }
   ],
   "source": [
    "# Определение полиномиальных признаков на числовых данных\n",
    "poly_features = PolynomialFeatures(degree=2, interaction_only=False, include_bias=False)\n",
    "\n",
    "# Создание пайплайнов для числовых и категориальных данных\n",
    "numeric_transformer = Pipeline(steps=[\n",
    "    ('imputer', SimpleImputer(strategy='mean')),\n",
    "    ('poly', poly_features),  # Добавляем полиномиальные признаки\n",
    "    ('scaler', StandardScaler())\n",
    "])\n",
    "\n",
    "categorical_transformer = Pipeline(steps=[\n",
    "    ('imputer', SimpleImputer(strategy='most_frequent')),\n",
    "    ('onehot', OneHotEncoder(handle_unknown='ignore'))\n",
    "])\n",
    "\n",
    "# Объединение задачи для числовых и категориальных признаков\n",
    "preprocessor = ColumnTransformer(\n",
    "    transformers=[\n",
    "        ('num', numeric_transformer, numeric_features),\n",
    "        ('cat', categorical_transformer, categorical_features)\n",
    "    ]\n",
    ")\n",
    "\n",
    "# Создание финального пайплайна\n",
    "pipe_final = Pipeline([\n",
    "    ('preprocessor', preprocessor),\n",
    "    ('models', DecisionTreeClassifier(random_state=RANDOM_STATE))\n",
    "])\n",
    "\n",
    "# Сетка параметров для GridSearch\n",
    "param_grid = [\n",
    "    {\n",
    "        'models': [DecisionTreeClassifier(random_state=RANDOM_STATE)],\n",
    "        'models__max_depth': range(2, 5),\n",
    "        'models__max_features': range(2, 5),\n",
    "        'preprocessor__num__scaler': [StandardScaler(), MinMaxScaler(), 'passthrough']    \n",
    "    },\n",
    "    {\n",
    "        'models': [SVC(random_state=RANDOM_STATE, probability=True)],\n",
    "        'preprocessor__num__scaler': [StandardScaler(), MinMaxScaler(), 'passthrough']  \n",
    "    },\n",
    "    {\n",
    "        'models': [KNeighborsClassifier()],\n",
    "        'models__n_neighbors': range(2, 5),\n",
    "        'preprocessor__num__scaler': [StandardScaler(), MinMaxScaler(), 'passthrough']  \n",
    "    },\n",
    "    {\n",
    "        'models': [LogisticRegression(\n",
    "            random_state=RANDOM_STATE, \n",
    "            solver='liblinear', \n",
    "            penalty='l1'\n",
    "        )],\n",
    "        'models__C': range(1, 5),\n",
    "        'preprocessor__num__scaler': [StandardScaler(), MinMaxScaler(), 'passthrough']    \n",
    "    }\n",
    "]\n",
    "\n",
    "# Обучение через GridSearch\n",
    "grid_search = GridSearchCV(\n",
    "    estimator=pipe_final,\n",
    "    param_grid=param_grid,\n",
    "    scoring='roc_auc',\n",
    "    cv=5,\n",
    "    n_jobs=-1,\n",
    "    error_score='raise'\n",
    ")\n",
    "\n",
    "try:\n",
    "    grid_search.fit(X_train, y_train)\n",
    "    \n",
    "    # Результаты GridSearch\n",
    "    results = grid_search.cv_results_\n",
    "    mean_scores = results['mean_test_score']\n",
    "    \n",
    "    for mean, params in zip(mean_scores, results['params']):\n",
    "        print(f'ROC AUC: {mean:.4f} для параметров: {params}')\n",
    "    \n",
    "    # Лучшая модель\n",
    "    best_model_score = grid_search.best_score_\n",
    "    print('\\n**Лучшая модель и её параметры:**\\n\\n', grid_search.best_estimator_)\n",
    "    print('**Метрика лучшей модели (ROC AUC) на тренировочной выборке:**', best_model_score)\n",
    "    \n",
    "    # Проверка порога качества\n",
    "    if best_model_score >= metrica_threshold:\n",
    "        # Метрика на тестовой выборке\n",
    "        y_test_pred = grid_search.predict_proba(X_test)[:, 1]\n",
    "        print(f'**Метрика ROC-AUC на тестовой выборке:** {roc_auc_score(y_test, y_test_pred)}')\n",
    "    else:\n",
    "        print('*Модель не прошла установленный порог качества.*')\n",
    "except ValueError as e:\n",
    "    print(e)"
   ]
  },
  {
   "cell_type": "code",
   "execution_count": 45,
   "id": "44ad19a9",
   "metadata": {},
   "outputs": [
    {
     "name": "stdout",
     "output_type": "stream",
     "text": [
      "Лучшие параметры: {'depth': 6, 'iterations': 300, 'learning_rate': 0.1}\n",
      "Лучший ROC-AUC на тренировочной выборке: 0.8988412153020406\n",
      "ROC-AUC на всех данных: 0.9655\n"
     ]
    }
   ],
   "source": [
    "# Конвертируем категориальные переменные в строковый тип\n",
    "X[categorical_features] = X[categorical_features].astype(str)\n",
    "\n",
    "# Указываем индексы категориальных признаков для CatBoost\n",
    "cat_features_indices = [X.columns.get_loc(col) for col in categorical_features]\n",
    "\n",
    "# Определение модели CatBoost\n",
    "model = CatBoostClassifier(\n",
    "    random_state=RANDOM_STATE,\n",
    "    cat_features=cat_features_indices,\n",
    "    verbose=0\n",
    ")\n",
    "\n",
    "# Параметры для поиска\n",
    "param_grid = {\n",
    "    'iterations': [100, 200, 300],\n",
    "    'depth': [6, 8],\n",
    "    'learning_rate': [0.1, 0.05]\n",
    "}\n",
    "\n",
    "# Обучение модели при помощи GridSearchCV\n",
    "grid_search = GridSearchCV(\n",
    "    estimator=model,\n",
    "    param_grid=param_grid,\n",
    "    scoring='roc_auc',\n",
    "    cv=3,\n",
    "    n_jobs=-1\n",
    ")\n",
    "\n",
    "try:\n",
    "    # Выполняем обучение\n",
    "    grid_search.fit(X, y)\n",
    "\n",
    "    # Результаты\n",
    "    print(\"Лучшие параметры:\", grid_search.best_params_)\n",
    "    print(\"Лучший ROC-AUC на тренировочной выборке:\", grid_search.best_score_)\n",
    "\n",
    "    # Проверка порога метрики\n",
    "    if grid_search.best_score_ >= metrica_threshold:\n",
    "        y_pred = grid_search.best_estimator_.predict_proba(X)[:, 1]\n",
    "        print(f'ROC-AUC на всех данных: {roc_auc_score(y, y_pred):.4f}')\n",
    "    else:\n",
    "        print(\"*Модель не прошла установленный порог качества.*\")\n",
    "\n",
    "except Exception as e:\n",
    "    print(\"Ошибка:\", e)"
   ]
  },
  {
   "cell_type": "code",
   "execution_count": 46,
   "id": "f99f6739",
   "metadata": {},
   "outputs": [
    {
     "data": {
      "image/png": "[encoded data removed]",
      "text/plain": [
       "<Figure size 720x432 with 1 Axes>"
      ]
     },
     "metadata": {
      "needs_background": "light"
     },
     "output_type": "display_data"
    }
   ],
   "source": [
    "# Построение графика значимости параметров\n",
    "best_model = grid_search.best_estimator_\n",
    "feature_importances = best_model.get_feature_importance()\n",
    "feature_names = X.columns\n",
    "\n",
    "# Создадим DataFrame для удобства отображения\n",
    "importance_df = pd.DataFrame({\n",
    "    'Feature': feature_names,\n",
    "    'Importance': feature_importances\n",
    "}).sort_values(by=\"Importance\", ascending=False)\n",
    "\n",
    "# Построим график\n",
    "plt.figure(figsize=(10, 6))\n",
    "plt.barh(importance_df['Feature'], importance_df['Importance'], color='skyblue')\n",
    "plt.gca().invert_yaxis()  # Инвертируем ось Y для топовых важностей наверху\n",
    "plt.xlabel('Importance')\n",
    "plt.title('Feature Importance')\n",
    "plt.show()"
   ]
  },
  {
   "cell_type": "markdown",
   "id": "d8cf4372",
   "metadata": {},
   "source": [
    "**Топ-5 наиболее значимых признаков:**\n",
    "\n",
    "• Duration - количество дней в качестве клиента компании \n",
    "\n",
    "• TotalCharges — общие расходы абонента\n",
    "\n",
    "• MonthlyCharges — расходы за месяц\n",
    "\n",
    "• PaymentMethod — тип платежа\n"
   ]
  },
  {
   "cell_type": "code",
   "execution_count": 47,
   "id": "2834f1a2",
   "metadata": {},
   "outputs": [
    {
     "name": "stdout",
     "output_type": "stream",
     "text": [
      "Список всех признаков, на которых обучалась модель:\n",
      "Type\n",
      "PaperlessBilling\n",
      "PaymentMethod\n",
      "MonthlyCharges\n",
      "TotalCharges\n",
      "gender\n",
      "SeniorCitizen\n",
      "Partner\n",
      "Dependents\n",
      "InternetService\n",
      "OnlineSecurity\n",
      "OnlineBackup\n",
      "DeviceProtection\n",
      "TechSupport\n",
      "StreamingTV\n",
      "StreamingMovies\n",
      "MultipleLines\n",
      "duration\n"
     ]
    }
   ],
   "source": [
    "# Вывод списка всех признаков\n",
    "print(\"Список всех признаков, на которых обучалась модель:\")\n",
    "for feature in feature_names:\n",
    "    print(feature)"
   ]
  },
  {
   "cell_type": "code",
   "execution_count": 48,
   "id": "f0a80ad0",
   "metadata": {},
   "outputs": [
    {
     "name": "stdout",
     "output_type": "stream",
     "text": [
      "**Матрица ошибок на тестовой выборке:**\n",
      " [[1481    0]\n",
      " [   0  277]]\n",
      "\n",
      "**Комментарии к матрице ошибок:**\n",
      "\n",
      "TP (True Positives) 1481: Количество правильных положительных предсказаний.\n",
      "FP (False Positives) 0: Количество неправильных положительных предсказаний.\n",
      "FN (False Negatives) 0: Количество неправильных отрицательных предсказаний.\n",
      "TN (True Negatives) 277: Количество правильных отрицательных предсказаний.\n"
     ]
    }
   ],
   "source": [
    "# Преобразование вероятностных предсказаний в дискретные классы\n",
    "y_test_pred_classes = np.where(y_test > threshold, 1, 0)\n",
    "\n",
    "# Вычисление и вывод матрицы ошибок\n",
    "cm = confusion_matrix(y_test, y_test_pred_classes)\n",
    "print('**Матрица ошибок на тестовой выборке:**\\n', cm)\n",
    "\n",
    "# Комментарии к матрице ошибок\n",
    "tp, fp, fn, tn = cm.ravel()\n",
    "print(f'\\n**Комментарии к матрице ошибок:**\\n\\n'\n",
    "      f'TP (True Positives) {tp}: Количество правильных положительных предсказаний.\\n'\n",
    "      f'FP (False Positives) {fp}: Количество неправильных положительных предсказаний.\\n'\n",
    "      f'FN (False Negatives) {fn}: Количество неправильных отрицательных предсказаний.\\n'\n",
    "      f'TN (True Negatives) {tn}: Количество правильных отрицательных предсказаний.')"
   ]
  },
  {
   "cell_type": "markdown",
   "id": "6978d9c4",
   "metadata": {},
   "source": [
    "Такая матрица ошибок дает представление о качестве работы предсказательной модели:\n",
    "\n",
    "---\n",
    "\n",
    "### Метрики матрицы ошибок\n",
    "\n",
    "1. TP (True Positives) = 1481:  \n",
    "   Это количество случаев, когда модель правильно классифицировала объект как положительный (например, на самом деле класс был \"положительный\", и модель его так определила).  \n",
    "   \n",
    "2. FP (False Positives) = 0:  \n",
    "   Это количество случаев, когда модель ошибочно предсказала положительный результат для объектов, которые на самом деле были отрицательными.  \n",
    "\n",
    "3. FN (False Negatives) = 0:  \n",
    "   Это количество случаев, когда модель ошибочно не обнаружила положительный класс там, где он реально был.  \n",
    "\n",
    "4. TN (True Negatives) = 277:  \n",
    "   Это количество случаев, когда модель правильно предсказала отрицательный результат для объектов, которые на самом деле отрицательные.  \n",
    "\n",
    "Таким образом: \n",
    "    - модель  точно предсказывает правильные значения (как положительные, так и отрицательные)\n",
    "    - и обнаруживает все положительные случаи\n",
    "    \n",
    "Для нашей задачи (прогнозирование оттока клиентов) означает, что \n",
    "модель точно предсказывает когда клиент уйдет \n"
   ]
  },
  {
   "cell_type": "markdown",
   "id": "354a14c0",
   "metadata": {},
   "source": [
    "# Вывод: \n",
    "\n",
    "•  Проведена первоначальная обработка данных, аномалий не выявлено. При объединении таблиц обнаружены пропуски в internet_new, пропуски заменены на значения \"нет услуги\" (\"No\")\n",
    "\n",
    "•  В самих данных отсутствовал целевой признак, он был выведен из столбца EndDate предположением, что если есть дата окончания договора, то пользователь не является больше клиентом компании\n",
    "\n",
    "•  выборка была разделена на две подвыборки - тестовую и тренировочную (валидационную)\n",
    "\n",
    "•  данные числовых столбцов закодированы в несколько категориальных признаков через метод StandardScaler\n",
    "\n",
    "•  данные категориальных столцов закодированы в несколько категориальных признаков через метод One-hot encoding\n",
    "\n",
    "•  были удалены столбцы \"CustomerId\" как не несущий информации и \"EndDate\" и \"BeginDate\"  из-за мультиколлинеарности с целевым признаком\n",
    "\n",
    "•  добавлен признам Duration - количество дней в качестве клиента компании (на момент выгрузки данных)\n",
    "\n",
    "•  для обучения были выбраны следующие модели: \n",
    "\n",
    "    - DecisionTreeClassifier\n",
    "    - SVC\n",
    "    - KNeighborsClassifier() \n",
    "    - LogisticRegression()\n",
    "    - CatBoost\n",
    "    \n",
    "•  Была использована 5-кратная кросс-валидация (cv=5)\n",
    "\n",
    "•  Лучший результат показала модель CatBoost с параметрами (Лучшие параметры: {'depth': 6, 'iterations': 300, 'learning_rate': 0.1})\n",
    " - Метрика лучшей модели (ROC AUC) на тренировочной выборке: 0.8988412153020406\n",
    " - ROC-AUC на всех данных: 0.9655\n",
    "\n",
    "Значение метрики подходит под условия проекта (больше 0,85)\n",
    "\n",
    "•  Основные значимые признаки: \n",
    "\n",
    "- MonthlyCharges — расходы за месяц;\n",
    "\n",
    "- TotalCharges — общие расходы абонента\n",
    "\n",
    "- InternetService\n",
    "\n",
    "•  Список всех признаков, на которых обучалась лучшая модель:\n",
    "\n",
    "    • Type\n",
    "    • PaperlessBilling\n",
    "    • PaymentMethod\n",
    "    • MonthlyCharges\n",
    "    • TotalCharges\n",
    "    • gender\n",
    "    • SeniorCitizen\n",
    "    • Partner\n",
    "    • Dependents\n",
    "    • InternetService\n",
    "    • OnlineSecurity\n",
    "    • OnlineBackup\n",
    "    • DeviceProtection\n",
    "    • TechSupport\n",
    "    • StreamingTV\n",
    "    • StreamingMovies\n",
    "    • MultipleLines\n",
    "    • duration"
   ]
  }
 ],
 "metadata": {
  "ExecuteTimeLog": [
   {
    "duration": 53,
    "start_time": "2025-02-11T14:40:03.633Z"
   },
   {
    "duration": 433,
    "start_time": "2025-02-11T14:40:08.589Z"
   },
   {
    "duration": 110,
    "start_time": "2025-02-11T14:40:09.024Z"
   },
   {
    "duration": 116,
    "start_time": "2025-02-11T14:40:09.137Z"
   },
   {
    "duration": 83,
    "start_time": "2025-02-11T14:40:50.370Z"
   },
   {
    "duration": 439,
    "start_time": "2025-02-11T14:41:08.079Z"
   },
   {
    "duration": 101,
    "start_time": "2025-02-11T14:41:08.520Z"
   },
   {
    "duration": 88,
    "start_time": "2025-02-11T14:41:08.623Z"
   },
   {
    "duration": 85,
    "start_time": "2025-02-11T14:42:04.535Z"
   },
   {
    "duration": 76,
    "start_time": "2025-02-11T14:42:25.711Z"
   },
   {
    "duration": 2,
    "start_time": "2025-02-11T14:42:50.263Z"
   },
   {
    "duration": 424,
    "start_time": "2025-02-11T14:42:54.293Z"
   },
   {
    "duration": 91,
    "start_time": "2025-02-11T14:42:54.719Z"
   },
   {
    "duration": 91,
    "start_time": "2025-02-11T14:42:56.990Z"
   },
   {
    "duration": 468,
    "start_time": "2025-02-11T14:43:36.178Z"
   },
   {
    "duration": 91,
    "start_time": "2025-02-11T14:43:36.648Z"
   },
   {
    "duration": 33,
    "start_time": "2025-02-11T14:43:36.741Z"
   },
   {
    "duration": 24,
    "start_time": "2025-02-11T14:43:36.777Z"
   },
   {
    "duration": 58,
    "start_time": "2025-02-11T14:43:36.803Z"
   },
   {
    "duration": 31,
    "start_time": "2025-02-11T14:43:36.863Z"
   },
   {
    "duration": 12,
    "start_time": "2025-02-11T14:44:24.757Z"
   },
   {
    "duration": 22,
    "start_time": "2025-02-11T14:44:35.982Z"
   },
   {
    "duration": 30,
    "start_time": "2025-02-11T14:44:46.278Z"
   },
   {
    "duration": 405,
    "start_time": "2025-02-11T14:45:29.221Z"
   },
   {
    "duration": 92,
    "start_time": "2025-02-11T14:45:29.628Z"
   },
   {
    "duration": 21,
    "start_time": "2025-02-11T14:45:29.722Z"
   },
   {
    "duration": 15,
    "start_time": "2025-02-11T14:45:29.745Z"
   },
   {
    "duration": 26,
    "start_time": "2025-02-11T14:45:29.763Z"
   },
   {
    "duration": 21,
    "start_time": "2025-02-11T14:45:29.791Z"
   },
   {
    "duration": 59,
    "start_time": "2025-02-11T14:45:29.814Z"
   },
   {
    "duration": 24,
    "start_time": "2025-02-11T14:45:29.875Z"
   },
   {
    "duration": 522,
    "start_time": "2025-02-11T14:47:55.161Z"
   },
   {
    "duration": 95,
    "start_time": "2025-02-11T14:47:55.686Z"
   },
   {
    "duration": 22,
    "start_time": "2025-02-11T14:47:55.784Z"
   },
   {
    "duration": 24,
    "start_time": "2025-02-11T14:47:55.809Z"
   },
   {
    "duration": 39,
    "start_time": "2025-02-11T14:47:55.835Z"
   },
   {
    "duration": 11,
    "start_time": "2025-02-11T14:47:55.876Z"
   },
   {
    "duration": 18,
    "start_time": "2025-02-11T14:47:55.889Z"
   },
   {
    "duration": 14,
    "start_time": "2025-02-11T14:47:55.909Z"
   },
   {
    "duration": 102,
    "start_time": "2025-02-11T14:47:55.925Z"
   },
   {
    "duration": 0,
    "start_time": "2025-02-11T14:47:56.031Z"
   },
   {
    "duration": 0,
    "start_time": "2025-02-11T14:47:56.033Z"
   },
   {
    "duration": 0,
    "start_time": "2025-02-11T14:47:56.035Z"
   },
   {
    "duration": 0,
    "start_time": "2025-02-11T14:47:56.037Z"
   },
   {
    "duration": 0,
    "start_time": "2025-02-11T14:47:56.040Z"
   },
   {
    "duration": 0,
    "start_time": "2025-02-11T14:47:56.042Z"
   },
   {
    "duration": 13,
    "start_time": "2025-02-11T14:50:10.010Z"
   },
   {
    "duration": 21,
    "start_time": "2025-02-11T14:50:15.081Z"
   },
   {
    "duration": 37,
    "start_time": "2025-02-11T14:50:59.393Z"
   },
   {
    "duration": 10,
    "start_time": "2025-02-11T14:51:58.464Z"
   },
   {
    "duration": 12,
    "start_time": "2025-02-11T14:52:02.180Z"
   },
   {
    "duration": 18,
    "start_time": "2025-02-11T14:52:05.141Z"
   },
   {
    "duration": 10,
    "start_time": "2025-02-11T14:56:17.814Z"
   },
   {
    "duration": 14,
    "start_time": "2025-02-11T14:56:31.207Z"
   },
   {
    "duration": 8,
    "start_time": "2025-02-11T14:56:42.585Z"
   },
   {
    "duration": 5,
    "start_time": "2025-02-11T14:56:54.248Z"
   },
   {
    "duration": 7,
    "start_time": "2025-02-11T14:57:15.214Z"
   },
   {
    "duration": 6,
    "start_time": "2025-02-11T14:57:17.984Z"
   },
   {
    "duration": 6,
    "start_time": "2025-02-11T14:57:21.942Z"
   },
   {
    "duration": 6,
    "start_time": "2025-02-11T14:57:25.223Z"
   },
   {
    "duration": 7,
    "start_time": "2025-02-11T14:57:41.870Z"
   },
   {
    "duration": 7,
    "start_time": "2025-02-11T14:57:52.918Z"
   },
   {
    "duration": 5,
    "start_time": "2025-02-11T14:57:56.855Z"
   },
   {
    "duration": 14,
    "start_time": "2025-02-11T14:58:58.590Z"
   },
   {
    "duration": 2,
    "start_time": "2025-02-11T14:59:35.806Z"
   },
   {
    "duration": 6,
    "start_time": "2025-02-11T14:59:37.758Z"
   },
   {
    "duration": 10,
    "start_time": "2025-02-11T15:01:38.194Z"
   },
   {
    "duration": 8,
    "start_time": "2025-02-11T15:01:49.311Z"
   },
   {
    "duration": 22,
    "start_time": "2025-02-11T15:03:06.798Z"
   },
   {
    "duration": 75,
    "start_time": "2025-02-11T15:04:10.489Z"
   },
   {
    "duration": 478,
    "start_time": "2025-02-11T15:04:18.761Z"
   },
   {
    "duration": 106,
    "start_time": "2025-02-11T15:04:19.241Z"
   },
   {
    "duration": 20,
    "start_time": "2025-02-11T15:04:19.348Z"
   },
   {
    "duration": 21,
    "start_time": "2025-02-11T15:04:19.370Z"
   },
   {
    "duration": 19,
    "start_time": "2025-02-11T15:04:19.392Z"
   },
   {
    "duration": 14,
    "start_time": "2025-02-11T15:04:19.413Z"
   },
   {
    "duration": 13,
    "start_time": "2025-02-11T15:04:19.429Z"
   },
   {
    "duration": 37,
    "start_time": "2025-02-11T15:04:19.444Z"
   },
   {
    "duration": 20,
    "start_time": "2025-02-11T15:04:19.485Z"
   },
   {
    "duration": 21,
    "start_time": "2025-02-11T15:04:19.509Z"
   },
   {
    "duration": 62,
    "start_time": "2025-02-11T15:04:19.533Z"
   },
   {
    "duration": 7,
    "start_time": "2025-02-11T15:04:19.597Z"
   },
   {
    "duration": 12,
    "start_time": "2025-02-11T15:04:19.606Z"
   },
   {
    "duration": 33,
    "start_time": "2025-02-11T15:04:19.620Z"
   },
   {
    "duration": 33,
    "start_time": "2025-02-11T15:04:19.655Z"
   },
   {
    "duration": 7,
    "start_time": "2025-02-11T15:04:19.689Z"
   },
   {
    "duration": 13,
    "start_time": "2025-02-11T15:04:19.698Z"
   },
   {
    "duration": 25,
    "start_time": "2025-02-11T15:04:19.713Z"
   },
   {
    "duration": 44,
    "start_time": "2025-02-11T15:04:19.740Z"
   },
   {
    "duration": 9,
    "start_time": "2025-02-11T15:04:19.792Z"
   },
   {
    "duration": 28,
    "start_time": "2025-02-11T15:04:19.803Z"
   },
   {
    "duration": 9,
    "start_time": "2025-02-11T15:06:27.881Z"
   },
   {
    "duration": 5,
    "start_time": "2025-02-11T15:06:39.613Z"
   },
   {
    "duration": 5,
    "start_time": "2025-02-11T15:06:56.669Z"
   },
   {
    "duration": 460,
    "start_time": "2025-02-11T15:07:16.255Z"
   },
   {
    "duration": 92,
    "start_time": "2025-02-11T15:07:16.716Z"
   },
   {
    "duration": 19,
    "start_time": "2025-02-11T15:07:16.810Z"
   },
   {
    "duration": 45,
    "start_time": "2025-02-11T15:07:16.831Z"
   },
   {
    "duration": 16,
    "start_time": "2025-02-11T15:07:16.878Z"
   },
   {
    "duration": 10,
    "start_time": "2025-02-11T15:07:16.896Z"
   },
   {
    "duration": 20,
    "start_time": "2025-02-11T15:07:16.908Z"
   },
   {
    "duration": 16,
    "start_time": "2025-02-11T15:07:16.932Z"
   },
   {
    "duration": 13,
    "start_time": "2025-02-11T15:07:16.972Z"
   },
   {
    "duration": 22,
    "start_time": "2025-02-11T15:07:16.986Z"
   },
   {
    "duration": 55,
    "start_time": "2025-02-11T15:07:17.009Z"
   },
   {
    "duration": 8,
    "start_time": "2025-02-11T15:07:17.066Z"
   },
   {
    "duration": 21,
    "start_time": "2025-02-11T15:07:17.076Z"
   },
   {
    "duration": 18,
    "start_time": "2025-02-11T15:07:17.099Z"
   },
   {
    "duration": 10,
    "start_time": "2025-02-11T15:07:17.119Z"
   },
   {
    "duration": 5,
    "start_time": "2025-02-11T15:07:17.131Z"
   },
   {
    "duration": 35,
    "start_time": "2025-02-11T15:07:17.138Z"
   },
   {
    "duration": 6,
    "start_time": "2025-02-11T15:07:17.175Z"
   },
   {
    "duration": 7,
    "start_time": "2025-02-11T15:07:17.183Z"
   },
   {
    "duration": 9,
    "start_time": "2025-02-11T15:07:17.191Z"
   },
   {
    "duration": 9,
    "start_time": "2025-02-11T15:07:17.203Z"
   },
   {
    "duration": 16,
    "start_time": "2025-02-11T15:07:17.214Z"
   },
   {
    "duration": 47,
    "start_time": "2025-02-11T15:07:17.233Z"
   },
   {
    "duration": 29,
    "start_time": "2025-02-11T15:07:17.282Z"
   },
   {
    "duration": 6,
    "start_time": "2025-02-11T15:08:38.723Z"
   },
   {
    "duration": 7,
    "start_time": "2025-02-11T15:08:49.361Z"
   },
   {
    "duration": 7,
    "start_time": "2025-02-11T15:09:19.026Z"
   },
   {
    "duration": 28,
    "start_time": "2025-02-11T15:10:18.657Z"
   },
   {
    "duration": 94,
    "start_time": "2025-02-11T15:10:26.937Z"
   },
   {
    "duration": 119,
    "start_time": "2025-02-11T15:10:36.985Z"
   },
   {
    "duration": 87,
    "start_time": "2025-02-11T15:10:40.921Z"
   },
   {
    "duration": 25,
    "start_time": "2025-02-11T15:11:05.555Z"
   },
   {
    "duration": 10,
    "start_time": "2025-02-11T15:11:28.753Z"
   },
   {
    "duration": 14,
    "start_time": "2025-02-11T15:11:32.786Z"
   },
   {
    "duration": 479,
    "start_time": "2025-02-11T15:12:12.041Z"
   },
   {
    "duration": 94,
    "start_time": "2025-02-11T15:12:12.522Z"
   },
   {
    "duration": 21,
    "start_time": "2025-02-11T15:12:12.618Z"
   },
   {
    "duration": 17,
    "start_time": "2025-02-11T15:12:12.641Z"
   },
   {
    "duration": 15,
    "start_time": "2025-02-11T15:12:12.660Z"
   },
   {
    "duration": 10,
    "start_time": "2025-02-11T15:12:12.677Z"
   },
   {
    "duration": 14,
    "start_time": "2025-02-11T15:12:12.688Z"
   },
   {
    "duration": 19,
    "start_time": "2025-02-11T15:12:12.704Z"
   },
   {
    "duration": 11,
    "start_time": "2025-02-11T15:12:12.725Z"
   },
   {
    "duration": 15,
    "start_time": "2025-02-11T15:12:12.771Z"
   },
   {
    "duration": 36,
    "start_time": "2025-02-11T15:12:12.788Z"
   },
   {
    "duration": 10,
    "start_time": "2025-02-11T15:12:12.826Z"
   },
   {
    "duration": 48,
    "start_time": "2025-02-11T15:12:12.838Z"
   },
   {
    "duration": 25,
    "start_time": "2025-02-11T15:12:12.889Z"
   },
   {
    "duration": 11,
    "start_time": "2025-02-11T15:12:12.916Z"
   },
   {
    "duration": 6,
    "start_time": "2025-02-11T15:12:12.929Z"
   },
   {
    "duration": 12,
    "start_time": "2025-02-11T15:12:12.937Z"
   },
   {
    "duration": 24,
    "start_time": "2025-02-11T15:12:12.950Z"
   },
   {
    "duration": 13,
    "start_time": "2025-02-11T15:12:12.976Z"
   },
   {
    "duration": 8,
    "start_time": "2025-02-11T15:12:12.991Z"
   },
   {
    "duration": 17,
    "start_time": "2025-02-11T15:12:13.001Z"
   },
   {
    "duration": 17,
    "start_time": "2025-02-11T15:12:13.020Z"
   },
   {
    "duration": 36,
    "start_time": "2025-02-11T15:12:13.039Z"
   },
   {
    "duration": 24,
    "start_time": "2025-02-11T15:12:13.077Z"
   },
   {
    "duration": 7,
    "start_time": "2025-02-11T15:12:13.102Z"
   },
   {
    "duration": 13,
    "start_time": "2025-02-11T15:12:13.111Z"
   },
   {
    "duration": 53,
    "start_time": "2025-02-11T15:12:13.126Z"
   },
   {
    "duration": 11,
    "start_time": "2025-02-11T15:12:13.183Z"
   },
   {
    "duration": 21,
    "start_time": "2025-02-11T15:12:13.196Z"
   },
   {
    "duration": 1338,
    "start_time": "2025-02-11T15:15:46.304Z"
   },
   {
    "duration": 1338,
    "start_time": "2025-02-11T17:58:46.503Z"
   },
   {
    "duration": 113,
    "start_time": "2025-02-11T17:58:47.843Z"
   },
   {
    "duration": 28,
    "start_time": "2025-02-11T17:58:47.958Z"
   },
   {
    "duration": 23,
    "start_time": "2025-02-11T17:58:47.989Z"
   },
   {
    "duration": 18,
    "start_time": "2025-02-11T17:58:48.015Z"
   },
   {
    "duration": 9,
    "start_time": "2025-02-11T17:58:48.036Z"
   },
   {
    "duration": 42,
    "start_time": "2025-02-11T17:58:48.046Z"
   },
   {
    "duration": 18,
    "start_time": "2025-02-11T17:58:48.092Z"
   },
   {
    "duration": 13,
    "start_time": "2025-02-11T17:58:48.112Z"
   },
   {
    "duration": 14,
    "start_time": "2025-02-11T17:58:48.129Z"
   },
   {
    "duration": 41,
    "start_time": "2025-02-11T17:58:48.174Z"
   },
   {
    "duration": 10,
    "start_time": "2025-02-11T17:58:48.218Z"
   },
   {
    "duration": 62,
    "start_time": "2025-02-11T17:58:48.230Z"
   },
   {
    "duration": 16,
    "start_time": "2025-02-11T17:58:48.294Z"
   },
   {
    "duration": 11,
    "start_time": "2025-02-11T17:58:48.312Z"
   },
   {
    "duration": 7,
    "start_time": "2025-02-11T17:58:48.325Z"
   },
   {
    "duration": 6,
    "start_time": "2025-02-11T17:58:48.335Z"
   },
   {
    "duration": 46,
    "start_time": "2025-02-11T17:58:48.343Z"
   },
   {
    "duration": 7,
    "start_time": "2025-02-11T17:58:48.392Z"
   },
   {
    "duration": 9,
    "start_time": "2025-02-11T17:58:48.401Z"
   },
   {
    "duration": 9,
    "start_time": "2025-02-11T17:58:48.412Z"
   },
   {
    "duration": 18,
    "start_time": "2025-02-11T17:58:48.424Z"
   },
   {
    "duration": 42,
    "start_time": "2025-02-11T17:58:48.444Z"
   },
   {
    "duration": 36,
    "start_time": "2025-02-11T17:58:48.488Z"
   },
   {
    "duration": 6,
    "start_time": "2025-02-11T17:58:48.527Z"
   },
   {
    "duration": 15,
    "start_time": "2025-02-11T17:58:48.536Z"
   },
   {
    "duration": 56,
    "start_time": "2025-02-11T17:58:48.554Z"
   },
   {
    "duration": 10,
    "start_time": "2025-02-11T17:58:48.614Z"
   },
   {
    "duration": 26,
    "start_time": "2025-02-11T17:58:48.626Z"
   },
   {
    "duration": 318,
    "start_time": "2025-02-11T17:58:48.673Z"
   },
   {
    "duration": 1348,
    "start_time": "2025-02-11T17:59:48.645Z"
   },
   {
    "duration": 104,
    "start_time": "2025-02-11T17:59:49.996Z"
   },
   {
    "duration": 17,
    "start_time": "2025-02-11T17:59:50.102Z"
   },
   {
    "duration": 15,
    "start_time": "2025-02-11T17:59:50.121Z"
   },
   {
    "duration": 15,
    "start_time": "2025-02-11T17:59:50.139Z"
   },
   {
    "duration": 28,
    "start_time": "2025-02-11T17:59:50.156Z"
   },
   {
    "duration": 20,
    "start_time": "2025-02-11T17:59:50.186Z"
   },
   {
    "duration": 61,
    "start_time": "2025-02-11T17:59:50.208Z"
   },
   {
    "duration": 14,
    "start_time": "2025-02-11T17:59:50.271Z"
   },
   {
    "duration": 12,
    "start_time": "2025-02-11T17:59:50.289Z"
   },
   {
    "duration": 37,
    "start_time": "2025-02-11T17:59:50.303Z"
   },
   {
    "duration": 45,
    "start_time": "2025-02-11T17:59:50.342Z"
   },
   {
    "duration": 18,
    "start_time": "2025-02-11T17:59:50.390Z"
   },
   {
    "duration": 22,
    "start_time": "2025-02-11T17:59:50.411Z"
   },
   {
    "duration": 16,
    "start_time": "2025-02-11T17:59:50.434Z"
   },
   {
    "duration": 27,
    "start_time": "2025-02-11T17:59:50.451Z"
   },
   {
    "duration": 7,
    "start_time": "2025-02-11T17:59:50.483Z"
   },
   {
    "duration": 16,
    "start_time": "2025-02-11T17:59:50.492Z"
   },
   {
    "duration": 10,
    "start_time": "2025-02-11T17:59:50.510Z"
   },
   {
    "duration": 14,
    "start_time": "2025-02-11T17:59:50.521Z"
   },
   {
    "duration": 6,
    "start_time": "2025-02-11T17:59:50.537Z"
   },
   {
    "duration": 32,
    "start_time": "2025-02-11T17:59:50.545Z"
   },
   {
    "duration": 11,
    "start_time": "2025-02-11T17:59:50.582Z"
   },
   {
    "duration": 22,
    "start_time": "2025-02-11T17:59:50.595Z"
   },
   {
    "duration": 6,
    "start_time": "2025-02-11T17:59:50.619Z"
   },
   {
    "duration": 7,
    "start_time": "2025-02-11T17:59:50.626Z"
   },
   {
    "duration": 48,
    "start_time": "2025-02-11T17:59:50.635Z"
   },
   {
    "duration": 10,
    "start_time": "2025-02-11T17:59:50.689Z"
   },
   {
    "duration": 45,
    "start_time": "2025-02-11T17:59:50.701Z"
   },
   {
    "duration": 285,
    "start_time": "2025-02-11T17:59:50.748Z"
   },
   {
    "duration": 22,
    "start_time": "2025-02-11T18:01:51.031Z"
   },
   {
    "duration": 548,
    "start_time": "2025-02-11T18:04:46.484Z"
   },
   {
    "duration": 101318,
    "start_time": "2025-02-11T18:08:31.097Z"
   },
   {
    "duration": 0,
    "start_time": "2025-02-11T18:10:12.417Z"
   },
   {
    "duration": 668,
    "start_time": "2025-02-11T18:10:48.341Z"
   },
   {
    "duration": 18,
    "start_time": "2025-02-11T18:10:54.279Z"
   },
   {
    "duration": 85,
    "start_time": "2025-02-11T18:12:53.460Z"
   },
   {
    "duration": 166,
    "start_time": "2025-02-11T18:13:48.194Z"
   },
   {
    "duration": 161,
    "start_time": "2025-02-11T18:14:25.227Z"
   },
   {
    "duration": 159,
    "start_time": "2025-02-11T18:14:52.082Z"
   },
   {
    "duration": 645,
    "start_time": "2025-02-11T18:15:28.707Z"
   },
   {
    "duration": 9,
    "start_time": "2025-02-11T18:21:40.697Z"
   },
   {
    "duration": 1270,
    "start_time": "2025-02-11T18:25:14.395Z"
   },
   {
    "duration": 95,
    "start_time": "2025-02-11T18:25:15.668Z"
   },
   {
    "duration": 58,
    "start_time": "2025-02-11T18:25:15.764Z"
   },
   {
    "duration": 36,
    "start_time": "2025-02-11T18:25:15.824Z"
   },
   {
    "duration": 7,
    "start_time": "2025-02-11T18:25:15.862Z"
   },
   {
    "duration": 19,
    "start_time": "2025-02-11T18:25:15.871Z"
   },
   {
    "duration": 10,
    "start_time": "2025-02-11T18:25:15.892Z"
   },
   {
    "duration": 15,
    "start_time": "2025-02-11T18:25:15.904Z"
   },
   {
    "duration": 13,
    "start_time": "2025-02-11T18:25:15.921Z"
   },
   {
    "duration": 39,
    "start_time": "2025-02-11T18:25:15.937Z"
   },
   {
    "duration": 19,
    "start_time": "2025-02-11T18:25:15.978Z"
   },
   {
    "duration": 36,
    "start_time": "2025-02-11T18:25:15.999Z"
   },
   {
    "duration": 38,
    "start_time": "2025-02-11T18:25:16.037Z"
   },
   {
    "duration": 15,
    "start_time": "2025-02-11T18:25:16.077Z"
   },
   {
    "duration": 23,
    "start_time": "2025-02-11T18:25:16.094Z"
   },
   {
    "duration": 10,
    "start_time": "2025-02-11T18:25:16.119Z"
   },
   {
    "duration": 45,
    "start_time": "2025-02-11T18:25:16.131Z"
   },
   {
    "duration": 16,
    "start_time": "2025-02-11T18:25:16.177Z"
   },
   {
    "duration": 17,
    "start_time": "2025-02-11T18:25:16.195Z"
   },
   {
    "duration": 9,
    "start_time": "2025-02-11T18:25:16.217Z"
   },
   {
    "duration": 9,
    "start_time": "2025-02-11T18:25:16.228Z"
   },
   {
    "duration": 33,
    "start_time": "2025-02-11T18:25:16.240Z"
   },
   {
    "duration": 16,
    "start_time": "2025-02-11T18:25:16.276Z"
   },
   {
    "duration": 12,
    "start_time": "2025-02-11T18:25:16.295Z"
   },
   {
    "duration": 24,
    "start_time": "2025-02-11T18:25:16.310Z"
   },
   {
    "duration": 57,
    "start_time": "2025-02-11T18:25:16.336Z"
   },
   {
    "duration": 7,
    "start_time": "2025-02-11T18:25:16.396Z"
   },
   {
    "duration": 35,
    "start_time": "2025-02-11T18:25:16.406Z"
   },
   {
    "duration": 22,
    "start_time": "2025-02-11T18:25:16.444Z"
   },
   {
    "duration": 11,
    "start_time": "2025-02-11T18:25:16.472Z"
   },
   {
    "duration": 35,
    "start_time": "2025-02-11T18:25:16.484Z"
   },
   {
    "duration": 649,
    "start_time": "2025-02-11T18:25:16.521Z"
   },
   {
    "duration": 692,
    "start_time": "2025-02-11T18:25:17.172Z"
   },
   {
    "duration": 1247,
    "start_time": "2025-02-11T18:25:56.589Z"
   },
   {
    "duration": 96,
    "start_time": "2025-02-11T18:25:57.839Z"
   },
   {
    "duration": 16,
    "start_time": "2025-02-11T18:25:57.937Z"
   },
   {
    "duration": 15,
    "start_time": "2025-02-11T18:25:57.955Z"
   },
   {
    "duration": 9,
    "start_time": "2025-02-11T18:25:57.971Z"
   },
   {
    "duration": 16,
    "start_time": "2025-02-11T18:25:57.982Z"
   },
   {
    "duration": 8,
    "start_time": "2025-02-11T18:25:58.000Z"
   },
   {
    "duration": 16,
    "start_time": "2025-02-11T18:25:58.010Z"
   },
   {
    "duration": 12,
    "start_time": "2025-02-11T18:25:58.028Z"
   },
   {
    "duration": 43,
    "start_time": "2025-02-11T18:25:58.043Z"
   },
   {
    "duration": 14,
    "start_time": "2025-02-11T18:25:58.088Z"
   },
   {
    "duration": 40,
    "start_time": "2025-02-11T18:25:58.104Z"
   },
   {
    "duration": 38,
    "start_time": "2025-02-11T18:25:58.146Z"
   },
   {
    "duration": 17,
    "start_time": "2025-02-11T18:25:58.189Z"
   },
   {
    "duration": 18,
    "start_time": "2025-02-11T18:25:58.208Z"
   },
   {
    "duration": 9,
    "start_time": "2025-02-11T18:25:58.228Z"
   },
   {
    "duration": 18,
    "start_time": "2025-02-11T18:25:58.238Z"
   },
   {
    "duration": 33,
    "start_time": "2025-02-11T18:25:58.258Z"
   },
   {
    "duration": 10,
    "start_time": "2025-02-11T18:25:58.293Z"
   },
   {
    "duration": 8,
    "start_time": "2025-02-11T18:25:58.305Z"
   },
   {
    "duration": 49,
    "start_time": "2025-02-11T18:25:58.315Z"
   },
   {
    "duration": 11,
    "start_time": "2025-02-11T18:25:58.366Z"
   },
   {
    "duration": 19,
    "start_time": "2025-02-11T18:25:58.378Z"
   },
   {
    "duration": 11,
    "start_time": "2025-02-11T18:25:58.398Z"
   },
   {
    "duration": 23,
    "start_time": "2025-02-11T18:25:58.410Z"
   },
   {
    "duration": 7,
    "start_time": "2025-02-11T18:25:58.434Z"
   },
   {
    "duration": 45,
    "start_time": "2025-02-11T18:25:58.443Z"
   },
   {
    "duration": 26,
    "start_time": "2025-02-11T18:25:58.493Z"
   },
   {
    "duration": 20,
    "start_time": "2025-02-11T18:25:58.521Z"
   },
   {
    "duration": 44,
    "start_time": "2025-02-11T18:25:58.543Z"
   },
   {
    "duration": 16,
    "start_time": "2025-02-11T18:25:58.589Z"
   },
   {
    "duration": 706,
    "start_time": "2025-02-11T18:25:58.606Z"
   },
   {
    "duration": 1310,
    "start_time": "2025-02-11T18:26:57.822Z"
   },
   {
    "duration": 106,
    "start_time": "2025-02-11T18:26:59.134Z"
   },
   {
    "duration": 17,
    "start_time": "2025-02-11T18:26:59.242Z"
   },
   {
    "duration": 24,
    "start_time": "2025-02-11T18:26:59.267Z"
   },
   {
    "duration": 19,
    "start_time": "2025-02-11T18:26:59.293Z"
   },
   {
    "duration": 17,
    "start_time": "2025-02-11T18:26:59.314Z"
   },
   {
    "duration": 18,
    "start_time": "2025-02-11T18:26:59.333Z"
   },
   {
    "duration": 25,
    "start_time": "2025-02-11T18:26:59.353Z"
   },
   {
    "duration": 18,
    "start_time": "2025-02-11T18:26:59.380Z"
   },
   {
    "duration": 12,
    "start_time": "2025-02-11T18:26:59.401Z"
   },
   {
    "duration": 12,
    "start_time": "2025-02-11T18:26:59.415Z"
   },
   {
    "duration": 64,
    "start_time": "2025-02-11T18:26:59.428Z"
   },
   {
    "duration": 42,
    "start_time": "2025-02-11T18:26:59.495Z"
   },
   {
    "duration": 8,
    "start_time": "2025-02-11T18:26:59.539Z"
   },
   {
    "duration": 24,
    "start_time": "2025-02-11T18:26:59.549Z"
   },
   {
    "duration": 19,
    "start_time": "2025-02-11T18:26:59.582Z"
   },
   {
    "duration": 10,
    "start_time": "2025-02-11T18:26:59.603Z"
   },
   {
    "duration": 7,
    "start_time": "2025-02-11T18:26:59.615Z"
   },
   {
    "duration": 7,
    "start_time": "2025-02-11T18:26:59.624Z"
   },
   {
    "duration": 7,
    "start_time": "2025-02-11T18:26:59.632Z"
   },
   {
    "duration": 46,
    "start_time": "2025-02-11T18:26:59.641Z"
   },
   {
    "duration": 9,
    "start_time": "2025-02-11T18:26:59.692Z"
   },
   {
    "duration": 38,
    "start_time": "2025-02-11T18:26:59.703Z"
   },
   {
    "duration": 20,
    "start_time": "2025-02-11T18:26:59.743Z"
   },
   {
    "duration": 24,
    "start_time": "2025-02-11T18:26:59.765Z"
   },
   {
    "duration": 23,
    "start_time": "2025-02-11T18:26:59.791Z"
   },
   {
    "duration": 6,
    "start_time": "2025-02-11T18:26:59.816Z"
   },
   {
    "duration": 7,
    "start_time": "2025-02-11T18:26:59.825Z"
   },
   {
    "duration": 54,
    "start_time": "2025-02-11T18:26:59.833Z"
   },
   {
    "duration": 29,
    "start_time": "2025-02-11T18:26:59.889Z"
   },
   {
    "duration": 10,
    "start_time": "2025-02-11T18:26:59.920Z"
   },
   {
    "duration": 15,
    "start_time": "2025-02-11T18:26:59.932Z"
   },
   {
    "duration": 692,
    "start_time": "2025-02-11T18:26:59.948Z"
   },
   {
    "duration": 732,
    "start_time": "2025-02-11T18:27:00.642Z"
   },
   {
    "duration": 1303,
    "start_time": "2025-02-11T18:27:34.424Z"
   },
   {
    "duration": 96,
    "start_time": "2025-02-11T18:27:35.729Z"
   },
   {
    "duration": 16,
    "start_time": "2025-02-11T18:27:35.827Z"
   },
   {
    "duration": 14,
    "start_time": "2025-02-11T18:27:35.845Z"
   },
   {
    "duration": 29,
    "start_time": "2025-02-11T18:27:35.861Z"
   },
   {
    "duration": 35,
    "start_time": "2025-02-11T18:27:35.892Z"
   },
   {
    "duration": 34,
    "start_time": "2025-02-11T18:27:35.929Z"
   },
   {
    "duration": 24,
    "start_time": "2025-02-11T18:27:35.964Z"
   },
   {
    "duration": 13,
    "start_time": "2025-02-11T18:27:35.990Z"
   },
   {
    "duration": 24,
    "start_time": "2025-02-11T18:27:36.005Z"
   },
   {
    "duration": 15,
    "start_time": "2025-02-11T18:27:36.031Z"
   },
   {
    "duration": 51,
    "start_time": "2025-02-11T18:27:36.048Z"
   },
   {
    "duration": 40,
    "start_time": "2025-02-11T18:27:36.101Z"
   },
   {
    "duration": 8,
    "start_time": "2025-02-11T18:27:36.144Z"
   },
   {
    "duration": 36,
    "start_time": "2025-02-11T18:27:36.153Z"
   },
   {
    "duration": 29,
    "start_time": "2025-02-11T18:27:36.191Z"
   },
   {
    "duration": 21,
    "start_time": "2025-02-11T18:27:36.222Z"
   },
   {
    "duration": 13,
    "start_time": "2025-02-11T18:27:36.245Z"
   },
   {
    "duration": 19,
    "start_time": "2025-02-11T18:27:36.260Z"
   },
   {
    "duration": 12,
    "start_time": "2025-02-11T18:27:36.280Z"
   },
   {
    "duration": 6,
    "start_time": "2025-02-11T18:27:36.294Z"
   },
   {
    "duration": 19,
    "start_time": "2025-02-11T18:27:36.301Z"
   },
   {
    "duration": 39,
    "start_time": "2025-02-11T18:27:36.321Z"
   },
   {
    "duration": 65,
    "start_time": "2025-02-11T18:27:36.361Z"
   },
   {
    "duration": 17,
    "start_time": "2025-02-11T18:27:36.428Z"
   },
   {
    "duration": 56,
    "start_time": "2025-02-11T18:27:36.447Z"
   },
   {
    "duration": 12,
    "start_time": "2025-02-11T18:27:36.505Z"
   },
   {
    "duration": 10,
    "start_time": "2025-02-11T18:27:36.519Z"
   },
   {
    "duration": 24,
    "start_time": "2025-02-11T18:27:36.531Z"
   },
   {
    "duration": 30,
    "start_time": "2025-02-11T18:27:36.556Z"
   },
   {
    "duration": 10,
    "start_time": "2025-02-11T18:27:36.588Z"
   },
   {
    "duration": 16,
    "start_time": "2025-02-11T18:27:36.600Z"
   },
   {
    "duration": 687,
    "start_time": "2025-02-11T18:27:36.618Z"
   },
   {
    "duration": 715,
    "start_time": "2025-02-11T18:27:37.307Z"
   },
   {
    "duration": 1294,
    "start_time": "2025-02-11T18:34:18.104Z"
   },
   {
    "duration": 113,
    "start_time": "2025-02-11T18:34:19.400Z"
   },
   {
    "duration": 17,
    "start_time": "2025-02-11T18:34:19.515Z"
   },
   {
    "duration": 16,
    "start_time": "2025-02-11T18:34:19.533Z"
   },
   {
    "duration": 35,
    "start_time": "2025-02-11T18:34:19.551Z"
   },
   {
    "duration": 18,
    "start_time": "2025-02-11T18:34:19.588Z"
   },
   {
    "duration": 10,
    "start_time": "2025-02-11T18:34:19.607Z"
   },
   {
    "duration": 12,
    "start_time": "2025-02-11T18:34:19.619Z"
   },
   {
    "duration": 14,
    "start_time": "2025-02-11T18:34:19.633Z"
   },
   {
    "duration": 28,
    "start_time": "2025-02-11T18:34:19.649Z"
   },
   {
    "duration": 16,
    "start_time": "2025-02-11T18:34:19.680Z"
   },
   {
    "duration": 33,
    "start_time": "2025-02-11T18:34:19.698Z"
   },
   {
    "duration": 8,
    "start_time": "2025-02-11T18:34:19.733Z"
   },
   {
    "duration": 66,
    "start_time": "2025-02-11T18:34:19.744Z"
   },
   {
    "duration": 26,
    "start_time": "2025-02-11T18:34:19.812Z"
   },
   {
    "duration": 8,
    "start_time": "2025-02-11T18:34:19.840Z"
   },
   {
    "duration": 5,
    "start_time": "2025-02-11T18:34:19.850Z"
   },
   {
    "duration": 5,
    "start_time": "2025-02-11T18:34:19.856Z"
   },
   {
    "duration": 7,
    "start_time": "2025-02-11T18:34:19.863Z"
   },
   {
    "duration": 16,
    "start_time": "2025-02-11T18:34:19.871Z"
   },
   {
    "duration": 6,
    "start_time": "2025-02-11T18:34:19.889Z"
   },
   {
    "duration": 7,
    "start_time": "2025-02-11T18:34:19.896Z"
   },
   {
    "duration": 14,
    "start_time": "2025-02-11T18:34:19.905Z"
   },
   {
    "duration": 10,
    "start_time": "2025-02-11T18:34:19.920Z"
   },
   {
    "duration": 61,
    "start_time": "2025-02-11T18:34:19.932Z"
   },
   {
    "duration": 6,
    "start_time": "2025-02-11T18:34:19.995Z"
   },
   {
    "duration": 7,
    "start_time": "2025-02-11T18:34:20.002Z"
   },
   {
    "duration": 49,
    "start_time": "2025-02-11T18:34:20.010Z"
   },
   {
    "duration": 28,
    "start_time": "2025-02-11T18:34:20.061Z"
   },
   {
    "duration": 9,
    "start_time": "2025-02-11T18:34:20.091Z"
   },
   {
    "duration": 28,
    "start_time": "2025-02-11T18:34:20.102Z"
   },
   {
    "duration": 680,
    "start_time": "2025-02-11T18:34:20.132Z"
   },
   {
    "duration": 728,
    "start_time": "2025-02-11T18:34:20.814Z"
   },
   {
    "duration": 289,
    "start_time": "2025-02-11T18:49:49.161Z"
   },
   {
    "duration": 117,
    "start_time": "2025-02-11T18:50:49.226Z"
   },
   {
    "duration": 328,
    "start_time": "2025-02-11T18:52:16.722Z"
   },
   {
    "duration": 239,
    "start_time": "2025-02-11T18:54:01.674Z"
   },
   {
    "duration": 328,
    "start_time": "2025-02-11T18:55:00.785Z"
   },
   {
    "duration": 268,
    "start_time": "2025-02-11T18:55:22.632Z"
   },
   {
    "duration": 218,
    "start_time": "2025-02-11T18:55:49.800Z"
   },
   {
    "duration": 281,
    "start_time": "2025-02-11T18:56:41.728Z"
   },
   {
    "duration": 253,
    "start_time": "2025-02-11T18:57:07.850Z"
   },
   {
    "duration": 259,
    "start_time": "2025-02-11T18:58:02.170Z"
   },
   {
    "duration": 312,
    "start_time": "2025-02-11T18:58:56.717Z"
   },
   {
    "duration": 252,
    "start_time": "2025-02-11T19:00:03.289Z"
   },
   {
    "duration": 1382,
    "start_time": "2025-02-11T19:00:13.965Z"
   },
   {
    "duration": 98,
    "start_time": "2025-02-11T19:00:15.349Z"
   },
   {
    "duration": 17,
    "start_time": "2025-02-11T19:00:15.449Z"
   },
   {
    "duration": 26,
    "start_time": "2025-02-11T19:00:15.469Z"
   },
   {
    "duration": 7,
    "start_time": "2025-02-11T19:00:15.497Z"
   },
   {
    "duration": 22,
    "start_time": "2025-02-11T19:00:15.506Z"
   },
   {
    "duration": 11,
    "start_time": "2025-02-11T19:00:15.529Z"
   },
   {
    "duration": 41,
    "start_time": "2025-02-11T19:00:15.542Z"
   },
   {
    "duration": 16,
    "start_time": "2025-02-11T19:00:15.586Z"
   },
   {
    "duration": 12,
    "start_time": "2025-02-11T19:00:15.605Z"
   },
   {
    "duration": 13,
    "start_time": "2025-02-11T19:00:15.619Z"
   },
   {
    "duration": 72,
    "start_time": "2025-02-11T19:00:15.634Z"
   },
   {
    "duration": 8,
    "start_time": "2025-02-11T19:00:15.708Z"
   },
   {
    "duration": 24,
    "start_time": "2025-02-11T19:00:15.719Z"
   },
   {
    "duration": 34,
    "start_time": "2025-02-11T19:00:15.745Z"
   },
   {
    "duration": 11,
    "start_time": "2025-02-11T19:00:15.783Z"
   },
   {
    "duration": 294,
    "start_time": "2025-02-11T19:00:15.796Z"
   },
   {
    "duration": 0,
    "start_time": "2025-02-11T19:00:16.092Z"
   },
   {
    "duration": 0,
    "start_time": "2025-02-11T19:00:16.093Z"
   },
   {
    "duration": 0,
    "start_time": "2025-02-11T19:00:16.095Z"
   },
   {
    "duration": 0,
    "start_time": "2025-02-11T19:00:16.096Z"
   },
   {
    "duration": 0,
    "start_time": "2025-02-11T19:00:16.098Z"
   },
   {
    "duration": 0,
    "start_time": "2025-02-11T19:00:16.100Z"
   },
   {
    "duration": 0,
    "start_time": "2025-02-11T19:00:16.101Z"
   },
   {
    "duration": 0,
    "start_time": "2025-02-11T19:00:16.102Z"
   },
   {
    "duration": 0,
    "start_time": "2025-02-11T19:00:16.104Z"
   },
   {
    "duration": 0,
    "start_time": "2025-02-11T19:00:16.106Z"
   },
   {
    "duration": 0,
    "start_time": "2025-02-11T19:00:16.107Z"
   },
   {
    "duration": 0,
    "start_time": "2025-02-11T19:00:16.109Z"
   },
   {
    "duration": 0,
    "start_time": "2025-02-11T19:00:16.110Z"
   },
   {
    "duration": 0,
    "start_time": "2025-02-11T19:00:16.112Z"
   },
   {
    "duration": 0,
    "start_time": "2025-02-11T19:00:16.113Z"
   },
   {
    "duration": 0,
    "start_time": "2025-02-11T19:00:16.115Z"
   },
   {
    "duration": 1,
    "start_time": "2025-02-11T19:00:16.116Z"
   },
   {
    "duration": 1327,
    "start_time": "2025-02-11T19:00:57.349Z"
   },
   {
    "duration": 92,
    "start_time": "2025-02-11T19:00:58.679Z"
   },
   {
    "duration": 17,
    "start_time": "2025-02-11T19:00:58.784Z"
   },
   {
    "duration": 15,
    "start_time": "2025-02-11T19:00:58.803Z"
   },
   {
    "duration": 8,
    "start_time": "2025-02-11T19:00:58.819Z"
   },
   {
    "duration": 23,
    "start_time": "2025-02-11T19:00:58.829Z"
   },
   {
    "duration": 21,
    "start_time": "2025-02-11T19:00:58.854Z"
   },
   {
    "duration": 17,
    "start_time": "2025-02-11T19:00:58.883Z"
   },
   {
    "duration": 14,
    "start_time": "2025-02-11T19:00:58.902Z"
   },
   {
    "duration": 11,
    "start_time": "2025-02-11T19:00:58.919Z"
   },
   {
    "duration": 23,
    "start_time": "2025-02-11T19:00:58.932Z"
   },
   {
    "duration": 64,
    "start_time": "2025-02-11T19:00:58.972Z"
   },
   {
    "duration": 8,
    "start_time": "2025-02-11T19:00:59.039Z"
   },
   {
    "duration": 31,
    "start_time": "2025-02-11T19:00:59.049Z"
   },
   {
    "duration": 22,
    "start_time": "2025-02-11T19:00:59.082Z"
   },
   {
    "duration": 8,
    "start_time": "2025-02-11T19:00:59.106Z"
   },
   {
    "duration": 329,
    "start_time": "2025-02-11T19:00:59.116Z"
   },
   {
    "duration": 298,
    "start_time": "2025-02-11T19:00:59.447Z"
   },
   {
    "duration": 252,
    "start_time": "2025-02-11T19:00:59.747Z"
   },
   {
    "duration": 0,
    "start_time": "2025-02-11T19:01:00.002Z"
   },
   {
    "duration": 0,
    "start_time": "2025-02-11T19:01:00.004Z"
   },
   {
    "duration": 0,
    "start_time": "2025-02-11T19:01:00.006Z"
   },
   {
    "duration": 0,
    "start_time": "2025-02-11T19:01:00.007Z"
   },
   {
    "duration": 0,
    "start_time": "2025-02-11T19:01:00.009Z"
   },
   {
    "duration": 0,
    "start_time": "2025-02-11T19:01:00.011Z"
   },
   {
    "duration": 0,
    "start_time": "2025-02-11T19:01:00.012Z"
   },
   {
    "duration": 0,
    "start_time": "2025-02-11T19:01:00.014Z"
   },
   {
    "duration": 0,
    "start_time": "2025-02-11T19:01:00.015Z"
   },
   {
    "duration": 0,
    "start_time": "2025-02-11T19:01:00.017Z"
   },
   {
    "duration": 0,
    "start_time": "2025-02-11T19:01:00.019Z"
   },
   {
    "duration": 0,
    "start_time": "2025-02-11T19:01:00.020Z"
   },
   {
    "duration": 0,
    "start_time": "2025-02-11T19:01:00.021Z"
   },
   {
    "duration": 0,
    "start_time": "2025-02-11T19:01:00.023Z"
   },
   {
    "duration": 0,
    "start_time": "2025-02-11T19:01:00.024Z"
   },
   {
    "duration": 633,
    "start_time": "2025-02-11T19:01:32.658Z"
   },
   {
    "duration": 1367,
    "start_time": "2025-02-11T19:01:37.903Z"
   },
   {
    "duration": 104,
    "start_time": "2025-02-11T19:01:39.284Z"
   },
   {
    "duration": 17,
    "start_time": "2025-02-11T19:01:39.389Z"
   },
   {
    "duration": 16,
    "start_time": "2025-02-11T19:01:39.408Z"
   },
   {
    "duration": 15,
    "start_time": "2025-02-11T19:01:39.427Z"
   },
   {
    "duration": 20,
    "start_time": "2025-02-11T19:01:39.444Z"
   },
   {
    "duration": 22,
    "start_time": "2025-02-11T19:01:39.466Z"
   },
   {
    "duration": 12,
    "start_time": "2025-02-11T19:01:39.491Z"
   },
   {
    "duration": 15,
    "start_time": "2025-02-11T19:01:39.505Z"
   },
   {
    "duration": 18,
    "start_time": "2025-02-11T19:01:39.522Z"
   },
   {
    "duration": 44,
    "start_time": "2025-02-11T19:01:39.541Z"
   },
   {
    "duration": 36,
    "start_time": "2025-02-11T19:01:39.587Z"
   },
   {
    "duration": 8,
    "start_time": "2025-02-11T19:01:39.624Z"
   },
   {
    "duration": 13,
    "start_time": "2025-02-11T19:01:39.633Z"
   },
   {
    "duration": 40,
    "start_time": "2025-02-11T19:01:39.647Z"
   },
   {
    "duration": 8,
    "start_time": "2025-02-11T19:01:39.689Z"
   },
   {
    "duration": 337,
    "start_time": "2025-02-11T19:01:39.699Z"
   },
   {
    "duration": 319,
    "start_time": "2025-02-11T19:01:40.038Z"
   },
   {
    "duration": 628,
    "start_time": "2025-02-11T19:01:40.359Z"
   },
   {
    "duration": 7,
    "start_time": "2025-02-11T19:01:40.989Z"
   },
   {
    "duration": 305,
    "start_time": "2025-02-11T19:01:40.999Z"
   },
   {
    "duration": 290,
    "start_time": "2025-02-11T19:01:41.306Z"
   },
   {
    "duration": 318,
    "start_time": "2025-02-11T19:01:41.598Z"
   },
   {
    "duration": 295,
    "start_time": "2025-02-11T19:01:41.918Z"
   },
   {
    "duration": 13,
    "start_time": "2025-02-11T19:01:42.216Z"
   },
   {
    "duration": 20,
    "start_time": "2025-02-11T19:01:42.230Z"
   },
   {
    "duration": 51,
    "start_time": "2025-02-11T19:01:42.252Z"
   },
   {
    "duration": 313,
    "start_time": "2025-02-11T19:01:42.306Z"
   },
   {
    "duration": 6,
    "start_time": "2025-02-11T19:01:42.621Z"
   },
   {
    "duration": 26,
    "start_time": "2025-02-11T19:01:42.629Z"
   },
   {
    "duration": 33,
    "start_time": "2025-02-11T19:01:42.675Z"
   },
   {
    "duration": 14,
    "start_time": "2025-02-11T19:01:42.710Z"
   },
   {
    "duration": 22,
    "start_time": "2025-02-11T19:01:42.726Z"
   },
   {
    "duration": 662,
    "start_time": "2025-02-11T19:01:42.750Z"
   },
   {
    "duration": 1314,
    "start_time": "2025-02-11T19:06:17.923Z"
   },
   {
    "duration": 1228,
    "start_time": "2025-02-11T19:07:06.228Z"
   },
   {
    "duration": 1177,
    "start_time": "2025-02-11T19:07:22.266Z"
   },
   {
    "duration": 8,
    "start_time": "2025-02-11T19:07:28.458Z"
   },
   {
    "duration": 1427,
    "start_time": "2025-02-12T19:16:30.336Z"
   },
   {
    "duration": 98,
    "start_time": "2025-02-12T19:16:31.765Z"
   },
   {
    "duration": 17,
    "start_time": "2025-02-12T19:16:31.865Z"
   },
   {
    "duration": 42,
    "start_time": "2025-02-12T19:16:31.885Z"
   },
   {
    "duration": 8,
    "start_time": "2025-02-12T19:16:31.929Z"
   },
   {
    "duration": 31,
    "start_time": "2025-02-12T19:16:31.939Z"
   },
   {
    "duration": 10,
    "start_time": "2025-02-12T19:16:31.972Z"
   },
   {
    "duration": 17,
    "start_time": "2025-02-12T19:16:31.984Z"
   },
   {
    "duration": 42,
    "start_time": "2025-02-12T19:16:32.003Z"
   },
   {
    "duration": 21,
    "start_time": "2025-02-12T19:16:32.048Z"
   },
   {
    "duration": 29,
    "start_time": "2025-02-12T19:16:32.070Z"
   },
   {
    "duration": 43,
    "start_time": "2025-02-12T19:16:32.101Z"
   },
   {
    "duration": 7,
    "start_time": "2025-02-12T19:16:32.146Z"
   },
   {
    "duration": 17,
    "start_time": "2025-02-12T19:16:32.155Z"
   },
   {
    "duration": 36,
    "start_time": "2025-02-12T19:16:32.174Z"
   },
   {
    "duration": 8,
    "start_time": "2025-02-12T19:16:32.212Z"
   },
   {
    "duration": 382,
    "start_time": "2025-02-12T19:16:32.221Z"
   },
   {
    "duration": 258,
    "start_time": "2025-02-12T19:16:32.605Z"
   },
   {
    "duration": 584,
    "start_time": "2025-02-12T19:16:32.865Z"
   },
   {
    "duration": 265,
    "start_time": "2025-02-12T19:16:33.451Z"
   },
   {
    "duration": 220,
    "start_time": "2025-02-12T19:16:33.717Z"
   },
   {
    "duration": 388,
    "start_time": "2025-02-12T19:16:33.938Z"
   },
   {
    "duration": 225,
    "start_time": "2025-02-12T19:16:34.328Z"
   },
   {
    "duration": 45,
    "start_time": "2025-02-12T19:16:34.555Z"
   },
   {
    "duration": 20,
    "start_time": "2025-02-12T19:16:34.602Z"
   },
   {
    "duration": 23,
    "start_time": "2025-02-12T19:16:34.623Z"
   },
   {
    "duration": 286,
    "start_time": "2025-02-12T19:16:34.648Z"
   },
   {
    "duration": 7,
    "start_time": "2025-02-12T19:16:34.937Z"
   },
   {
    "duration": 35,
    "start_time": "2025-02-12T19:16:34.945Z"
   },
   {
    "duration": 29,
    "start_time": "2025-02-12T19:16:34.982Z"
   },
   {
    "duration": 11,
    "start_time": "2025-02-12T19:16:35.013Z"
   },
   {
    "duration": 19,
    "start_time": "2025-02-12T19:16:35.026Z"
   },
   {
    "duration": 8,
    "start_time": "2025-02-12T19:20:04.494Z"
   },
   {
    "duration": 13,
    "start_time": "2025-02-12T19:23:00.659Z"
   },
   {
    "duration": 14,
    "start_time": "2025-02-12T19:23:25.057Z"
   },
   {
    "duration": 7,
    "start_time": "2025-02-12T19:25:27.735Z"
   },
   {
    "duration": 16,
    "start_time": "2025-02-12T19:25:30.317Z"
   },
   {
    "duration": 15,
    "start_time": "2025-02-12T19:25:33.540Z"
   },
   {
    "duration": 8,
    "start_time": "2025-02-12T19:33:42.373Z"
   },
   {
    "duration": 9,
    "start_time": "2025-02-12T19:33:55.726Z"
   },
   {
    "duration": 44,
    "start_time": "2025-02-12T19:34:28.164Z"
   },
   {
    "duration": 60,
    "start_time": "2025-02-12T19:34:34.572Z"
   },
   {
    "duration": 15,
    "start_time": "2025-02-12T19:35:04.427Z"
   },
   {
    "duration": 81,
    "start_time": "2025-02-12T19:37:07.289Z"
   },
   {
    "duration": 51,
    "start_time": "2025-02-12T19:37:14.146Z"
   },
   {
    "duration": 111,
    "start_time": "2025-02-12T19:39:08.182Z"
   },
   {
    "duration": 1263,
    "start_time": "2025-02-12T19:45:33.129Z"
   },
   {
    "duration": 98,
    "start_time": "2025-02-12T19:45:34.394Z"
   },
   {
    "duration": 18,
    "start_time": "2025-02-12T19:45:34.494Z"
   },
   {
    "duration": 15,
    "start_time": "2025-02-12T19:45:34.514Z"
   },
   {
    "duration": 30,
    "start_time": "2025-02-12T19:45:34.532Z"
   },
   {
    "duration": 72,
    "start_time": "2025-02-12T19:45:34.564Z"
   },
   {
    "duration": 11,
    "start_time": "2025-02-12T19:45:34.639Z"
   },
   {
    "duration": 15,
    "start_time": "2025-02-12T19:45:34.653Z"
   },
   {
    "duration": 32,
    "start_time": "2025-02-12T19:45:34.670Z"
   },
   {
    "duration": 11,
    "start_time": "2025-02-12T19:45:34.705Z"
   },
   {
    "duration": 12,
    "start_time": "2025-02-12T19:45:34.718Z"
   },
   {
    "duration": 67,
    "start_time": "2025-02-12T19:45:34.732Z"
   },
   {
    "duration": 8,
    "start_time": "2025-02-12T19:45:34.801Z"
   },
   {
    "duration": 22,
    "start_time": "2025-02-12T19:45:34.810Z"
   },
   {
    "duration": 26,
    "start_time": "2025-02-12T19:45:34.834Z"
   },
   {
    "duration": 10,
    "start_time": "2025-02-12T19:45:34.862Z"
   },
   {
    "duration": 315,
    "start_time": "2025-02-12T19:45:34.874Z"
   },
   {
    "duration": 265,
    "start_time": "2025-02-12T19:45:35.200Z"
   },
   {
    "duration": 589,
    "start_time": "2025-02-12T19:45:35.466Z"
   },
   {
    "duration": 263,
    "start_time": "2025-02-12T19:45:36.057Z"
   },
   {
    "duration": 216,
    "start_time": "2025-02-12T19:45:36.322Z"
   },
   {
    "duration": 376,
    "start_time": "2025-02-12T19:45:36.539Z"
   },
   {
    "duration": 233,
    "start_time": "2025-02-12T19:45:36.917Z"
   },
   {
    "duration": 8,
    "start_time": "2025-02-12T19:45:37.152Z"
   },
   {
    "duration": 286,
    "start_time": "2025-02-12T19:45:37.161Z"
   },
   {
    "duration": 51,
    "start_time": "2025-02-12T19:45:37.448Z"
   },
   {
    "duration": 20,
    "start_time": "2025-02-12T19:45:37.501Z"
   },
   {
    "duration": 168,
    "start_time": "2025-02-12T19:45:37.524Z"
   },
   {
    "duration": 111,
    "start_time": "2025-02-12T19:45:37.695Z"
   },
   {
    "duration": 0,
    "start_time": "2025-02-12T19:45:37.808Z"
   },
   {
    "duration": 0,
    "start_time": "2025-02-12T19:45:37.809Z"
   },
   {
    "duration": 0,
    "start_time": "2025-02-12T19:45:37.811Z"
   },
   {
    "duration": 0,
    "start_time": "2025-02-12T19:45:37.812Z"
   },
   {
    "duration": 0,
    "start_time": "2025-02-12T19:45:37.813Z"
   },
   {
    "duration": 22,
    "start_time": "2025-02-12T19:45:54.984Z"
   },
   {
    "duration": 12,
    "start_time": "2025-02-12T19:45:58.727Z"
   },
   {
    "duration": 1294,
    "start_time": "2025-02-12T19:46:04.750Z"
   },
   {
    "duration": 87,
    "start_time": "2025-02-12T19:46:06.049Z"
   },
   {
    "duration": 16,
    "start_time": "2025-02-12T19:46:06.138Z"
   },
   {
    "duration": 22,
    "start_time": "2025-02-12T19:46:06.155Z"
   },
   {
    "duration": 6,
    "start_time": "2025-02-12T19:46:06.178Z"
   },
   {
    "duration": 32,
    "start_time": "2025-02-12T19:46:06.186Z"
   },
   {
    "duration": 22,
    "start_time": "2025-02-12T19:46:06.220Z"
   },
   {
    "duration": 17,
    "start_time": "2025-02-12T19:46:06.244Z"
   },
   {
    "duration": 15,
    "start_time": "2025-02-12T19:46:06.264Z"
   },
   {
    "duration": 29,
    "start_time": "2025-02-12T19:46:06.281Z"
   },
   {
    "duration": 52,
    "start_time": "2025-02-12T19:46:06.312Z"
   },
   {
    "duration": 44,
    "start_time": "2025-02-12T19:46:06.365Z"
   },
   {
    "duration": 8,
    "start_time": "2025-02-12T19:46:06.410Z"
   },
   {
    "duration": 32,
    "start_time": "2025-02-12T19:46:06.421Z"
   },
   {
    "duration": 26,
    "start_time": "2025-02-12T19:46:06.455Z"
   },
   {
    "duration": 9,
    "start_time": "2025-02-12T19:46:06.483Z"
   },
   {
    "duration": 281,
    "start_time": "2025-02-12T19:46:06.494Z"
   },
   {
    "duration": 289,
    "start_time": "2025-02-12T19:46:06.777Z"
   },
   {
    "duration": 607,
    "start_time": "2025-02-12T19:46:07.068Z"
   },
   {
    "duration": 252,
    "start_time": "2025-02-12T19:46:07.676Z"
   },
   {
    "duration": 280,
    "start_time": "2025-02-12T19:46:07.930Z"
   },
   {
    "duration": 321,
    "start_time": "2025-02-12T19:46:08.211Z"
   },
   {
    "duration": 284,
    "start_time": "2025-02-12T19:46:08.534Z"
   },
   {
    "duration": 8,
    "start_time": "2025-02-12T19:46:08.819Z"
   },
   {
    "duration": 294,
    "start_time": "2025-02-12T19:46:08.829Z"
   },
   {
    "duration": 25,
    "start_time": "2025-02-12T19:46:09.125Z"
   },
   {
    "duration": 23,
    "start_time": "2025-02-12T19:46:09.154Z"
   },
   {
    "duration": 31,
    "start_time": "2025-02-12T19:46:09.179Z"
   },
   {
    "duration": 14,
    "start_time": "2025-02-12T19:46:09.212Z"
   },
   {
    "duration": 22,
    "start_time": "2025-02-12T19:46:09.228Z"
   },
   {
    "duration": 18,
    "start_time": "2025-02-12T19:46:09.251Z"
   },
   {
    "duration": 38,
    "start_time": "2025-02-12T19:46:09.271Z"
   },
   {
    "duration": 19,
    "start_time": "2025-02-12T19:46:09.310Z"
   },
   {
    "duration": 126,
    "start_time": "2025-02-12T19:46:09.331Z"
   },
   {
    "duration": 2055,
    "start_time": "2025-02-12T19:52:23.592Z"
   },
   {
    "duration": 18,
    "start_time": "2025-02-12T20:39:56.180Z"
   },
   {
    "duration": 28,
    "start_time": "2025-02-12T20:40:05.235Z"
   },
   {
    "duration": 35,
    "start_time": "2025-02-12T20:40:21.573Z"
   },
   {
    "duration": 34,
    "start_time": "2025-02-12T20:40:44.957Z"
   },
   {
    "duration": 29,
    "start_time": "2025-02-12T20:41:11.773Z"
   },
   {
    "duration": 29,
    "start_time": "2025-02-12T20:41:28.138Z"
   },
   {
    "duration": 17,
    "start_time": "2025-02-12T20:44:35.570Z"
   },
   {
    "duration": 29,
    "start_time": "2025-02-12T20:44:40.066Z"
   },
   {
    "duration": 1291,
    "start_time": "2025-02-12T20:45:26.664Z"
   },
   {
    "duration": 90,
    "start_time": "2025-02-12T20:45:27.958Z"
   },
   {
    "duration": 18,
    "start_time": "2025-02-12T20:45:28.050Z"
   },
   {
    "duration": 23,
    "start_time": "2025-02-12T20:45:28.071Z"
   },
   {
    "duration": 21,
    "start_time": "2025-02-12T20:45:28.097Z"
   },
   {
    "duration": 24,
    "start_time": "2025-02-12T20:45:28.121Z"
   },
   {
    "duration": 13,
    "start_time": "2025-02-12T20:45:28.147Z"
   },
   {
    "duration": 18,
    "start_time": "2025-02-12T20:45:28.163Z"
   },
   {
    "duration": 30,
    "start_time": "2025-02-12T20:45:28.184Z"
   },
   {
    "duration": 17,
    "start_time": "2025-02-12T20:45:28.217Z"
   },
   {
    "duration": 19,
    "start_time": "2025-02-12T20:45:28.236Z"
   },
   {
    "duration": 67,
    "start_time": "2025-02-12T20:45:28.256Z"
   },
   {
    "duration": 11,
    "start_time": "2025-02-12T20:45:28.325Z"
   },
   {
    "duration": 28,
    "start_time": "2025-02-12T20:45:28.339Z"
   },
   {
    "duration": 31,
    "start_time": "2025-02-12T20:45:28.370Z"
   },
   {
    "duration": 10,
    "start_time": "2025-02-12T20:45:28.403Z"
   },
   {
    "duration": 360,
    "start_time": "2025-02-12T20:45:28.415Z"
   },
   {
    "duration": 311,
    "start_time": "2025-02-12T20:45:28.778Z"
   },
   {
    "duration": 650,
    "start_time": "2025-02-12T20:45:29.101Z"
   },
   {
    "duration": 300,
    "start_time": "2025-02-12T20:45:29.753Z"
   },
   {
    "duration": 290,
    "start_time": "2025-02-12T20:45:30.055Z"
   },
   {
    "duration": 389,
    "start_time": "2025-02-12T20:45:30.347Z"
   },
   {
    "duration": 314,
    "start_time": "2025-02-12T20:45:30.738Z"
   },
   {
    "duration": 11,
    "start_time": "2025-02-12T20:45:31.055Z"
   },
   {
    "duration": 289,
    "start_time": "2025-02-12T20:45:31.068Z"
   },
   {
    "duration": 27,
    "start_time": "2025-02-12T20:45:31.359Z"
   },
   {
    "duration": 24,
    "start_time": "2025-02-12T20:45:31.400Z"
   },
   {
    "duration": 39,
    "start_time": "2025-02-12T20:45:31.428Z"
   },
   {
    "duration": 76,
    "start_time": "2025-02-12T20:45:31.469Z"
   },
   {
    "duration": 34,
    "start_time": "2025-02-12T20:45:31.547Z"
   },
   {
    "duration": 36,
    "start_time": "2025-02-12T20:45:31.584Z"
   },
   {
    "duration": 52,
    "start_time": "2025-02-12T20:45:31.621Z"
   },
   {
    "duration": 305,
    "start_time": "2025-02-12T20:48:01.041Z"
   },
   {
    "duration": 84,
    "start_time": "2025-02-12T20:49:20.016Z"
   },
   {
    "duration": 456,
    "start_time": "2025-02-12T20:49:25.945Z"
   },
   {
    "duration": 12,
    "start_time": "2025-02-12T20:50:30.527Z"
   },
   {
    "duration": 5050,
    "start_time": "2025-02-12T20:50:50.499Z"
   },
   {
    "duration": 2733,
    "start_time": "2025-02-12T20:51:17.424Z"
   },
   {
    "duration": 2721,
    "start_time": "2025-02-12T20:52:46.256Z"
   },
   {
    "duration": 2993,
    "start_time": "2025-02-12T20:53:07.850Z"
   },
   {
    "duration": 2710,
    "start_time": "2025-02-12T20:53:45.537Z"
   },
   {
    "duration": 2796,
    "start_time": "2025-02-12T20:54:11.915Z"
   },
   {
    "duration": 2743,
    "start_time": "2025-02-12T20:54:47.281Z"
   },
   {
    "duration": 23245,
    "start_time": "2025-02-12T20:55:09.597Z"
   },
   {
    "duration": 1252,
    "start_time": "2025-02-12T20:57:18.001Z"
   },
   {
    "duration": 89,
    "start_time": "2025-02-12T20:57:19.255Z"
   },
   {
    "duration": 17,
    "start_time": "2025-02-12T20:57:19.346Z"
   },
   {
    "duration": 59,
    "start_time": "2025-02-12T20:57:19.365Z"
   },
   {
    "duration": 14,
    "start_time": "2025-02-12T20:57:19.425Z"
   },
   {
    "duration": 28,
    "start_time": "2025-02-12T20:57:19.441Z"
   },
   {
    "duration": 10,
    "start_time": "2025-02-12T20:57:19.471Z"
   },
   {
    "duration": 24,
    "start_time": "2025-02-12T20:57:19.482Z"
   },
   {
    "duration": 18,
    "start_time": "2025-02-12T20:57:19.508Z"
   },
   {
    "duration": 12,
    "start_time": "2025-02-12T20:57:19.529Z"
   },
   {
    "duration": 13,
    "start_time": "2025-02-12T20:57:19.543Z"
   },
   {
    "duration": 52,
    "start_time": "2025-02-12T20:57:19.558Z"
   },
   {
    "duration": 8,
    "start_time": "2025-02-12T20:57:19.612Z"
   },
   {
    "duration": 14,
    "start_time": "2025-02-12T20:57:19.622Z"
   },
   {
    "duration": 21,
    "start_time": "2025-02-12T20:57:19.638Z"
   },
   {
    "duration": 13,
    "start_time": "2025-02-12T20:57:19.661Z"
   },
   {
    "duration": 274,
    "start_time": "2025-02-12T20:57:19.700Z"
   },
   {
    "duration": 288,
    "start_time": "2025-02-12T20:57:19.999Z"
   },
   {
    "duration": 645,
    "start_time": "2025-02-12T20:57:20.289Z"
   },
   {
    "duration": 303,
    "start_time": "2025-02-12T20:57:20.936Z"
   },
   {
    "duration": 273,
    "start_time": "2025-02-12T20:57:21.241Z"
   },
   {
    "duration": 325,
    "start_time": "2025-02-12T20:57:21.516Z"
   },
   {
    "duration": 297,
    "start_time": "2025-02-12T20:57:21.843Z"
   },
   {
    "duration": 8,
    "start_time": "2025-02-12T20:57:22.142Z"
   },
   {
    "duration": 290,
    "start_time": "2025-02-12T20:57:22.152Z"
   },
   {
    "duration": 26,
    "start_time": "2025-02-12T20:57:22.444Z"
   },
   {
    "duration": 36,
    "start_time": "2025-02-12T20:57:22.472Z"
   },
   {
    "duration": 21,
    "start_time": "2025-02-12T20:57:22.511Z"
   },
   {
    "duration": 30,
    "start_time": "2025-02-12T20:57:22.534Z"
   },
   {
    "duration": 22,
    "start_time": "2025-02-12T20:57:22.566Z"
   },
   {
    "duration": 13,
    "start_time": "2025-02-12T20:57:22.590Z"
   },
   {
    "duration": 31,
    "start_time": "2025-02-12T20:57:22.604Z"
   },
   {
    "duration": 341,
    "start_time": "2025-02-12T20:57:22.636Z"
   },
   {
    "duration": 36870,
    "start_time": "2025-02-12T20:57:22.979Z"
   },
   {
    "duration": 1395,
    "start_time": "2025-02-13T09:01:59.548Z"
   },
   {
    "duration": 160,
    "start_time": "2025-02-13T09:02:00.945Z"
   },
   {
    "duration": 26,
    "start_time": "2025-02-13T09:02:01.108Z"
   },
   {
    "duration": 16,
    "start_time": "2025-02-13T09:02:01.137Z"
   },
   {
    "duration": 20,
    "start_time": "2025-02-13T09:02:01.155Z"
   },
   {
    "duration": 60,
    "start_time": "2025-02-13T09:02:01.177Z"
   },
   {
    "duration": 43,
    "start_time": "2025-02-13T09:02:01.239Z"
   },
   {
    "duration": 49,
    "start_time": "2025-02-13T09:02:01.284Z"
   },
   {
    "duration": 40,
    "start_time": "2025-02-13T09:02:01.335Z"
   },
   {
    "duration": 48,
    "start_time": "2025-02-13T09:02:01.378Z"
   },
   {
    "duration": 29,
    "start_time": "2025-02-13T09:02:01.427Z"
   },
   {
    "duration": 50,
    "start_time": "2025-02-13T09:02:01.458Z"
   },
   {
    "duration": 22,
    "start_time": "2025-02-13T09:02:01.509Z"
   },
   {
    "duration": 109,
    "start_time": "2025-02-13T09:02:01.533Z"
   },
   {
    "duration": 96,
    "start_time": "2025-02-13T09:02:01.644Z"
   },
   {
    "duration": 37,
    "start_time": "2025-02-13T09:02:01.742Z"
   },
   {
    "duration": 398,
    "start_time": "2025-02-13T09:02:01.780Z"
   },
   {
    "duration": 320,
    "start_time": "2025-02-13T09:02:02.180Z"
   },
   {
    "duration": 672,
    "start_time": "2025-02-13T09:02:02.508Z"
   },
   {
    "duration": 271,
    "start_time": "2025-02-13T09:02:03.183Z"
   },
   {
    "duration": 299,
    "start_time": "2025-02-13T09:02:03.456Z"
   },
   {
    "duration": 409,
    "start_time": "2025-02-13T09:02:03.758Z"
   },
   {
    "duration": 295,
    "start_time": "2025-02-13T09:02:04.169Z"
   },
   {
    "duration": 9,
    "start_time": "2025-02-13T09:02:04.466Z"
   },
   {
    "duration": 304,
    "start_time": "2025-02-13T09:02:04.476Z"
   },
   {
    "duration": 53,
    "start_time": "2025-02-13T09:02:04.782Z"
   },
   {
    "duration": 21,
    "start_time": "2025-02-13T09:02:04.837Z"
   },
   {
    "duration": 38,
    "start_time": "2025-02-13T09:02:04.861Z"
   },
   {
    "duration": 122,
    "start_time": "2025-02-13T09:02:04.902Z"
   },
   {
    "duration": 28,
    "start_time": "2025-02-13T09:02:05.026Z"
   },
   {
    "duration": 30,
    "start_time": "2025-02-13T09:02:05.056Z"
   },
   {
    "duration": 69,
    "start_time": "2025-02-13T09:02:05.089Z"
   },
   {
    "duration": 359,
    "start_time": "2025-02-13T09:02:05.161Z"
   },
   {
    "duration": 94517,
    "start_time": "2025-02-13T09:02:05.522Z"
   },
   {
    "duration": 11,
    "start_time": "2025-02-13T09:07:56.038Z"
   },
   {
    "duration": 250,
    "start_time": "2025-02-13T09:10:54.623Z"
   },
   {
    "duration": 9,
    "start_time": "2025-02-13T09:28:58.260Z"
   },
   {
    "duration": 26,
    "start_time": "2025-02-13T09:29:02.253Z"
   },
   {
    "duration": 525,
    "start_time": "2025-02-13T09:29:58.252Z"
   },
   {
    "duration": 1223,
    "start_time": "2025-02-13T09:30:22.149Z"
   },
   {
    "duration": 102,
    "start_time": "2025-02-13T09:30:23.374Z"
   },
   {
    "duration": 16,
    "start_time": "2025-02-13T09:30:23.478Z"
   },
   {
    "duration": 20,
    "start_time": "2025-02-13T09:30:23.496Z"
   },
   {
    "duration": 6,
    "start_time": "2025-02-13T09:30:23.517Z"
   },
   {
    "duration": 41,
    "start_time": "2025-02-13T09:30:23.524Z"
   },
   {
    "duration": 9,
    "start_time": "2025-02-13T09:30:23.566Z"
   },
   {
    "duration": 18,
    "start_time": "2025-02-13T09:30:23.577Z"
   },
   {
    "duration": 23,
    "start_time": "2025-02-13T09:30:23.597Z"
   },
   {
    "duration": 12,
    "start_time": "2025-02-13T09:30:23.622Z"
   },
   {
    "duration": 12,
    "start_time": "2025-02-13T09:30:23.636Z"
   },
   {
    "duration": 101,
    "start_time": "2025-02-13T09:30:23.650Z"
   },
   {
    "duration": 7,
    "start_time": "2025-02-13T09:30:23.753Z"
   },
   {
    "duration": 73,
    "start_time": "2025-02-13T09:30:23.762Z"
   },
   {
    "duration": 31,
    "start_time": "2025-02-13T09:30:23.837Z"
   },
   {
    "duration": 8,
    "start_time": "2025-02-13T09:30:23.870Z"
   },
   {
    "duration": 306,
    "start_time": "2025-02-13T09:30:23.880Z"
   },
   {
    "duration": 269,
    "start_time": "2025-02-13T09:30:24.199Z"
   },
   {
    "duration": 600,
    "start_time": "2025-02-13T09:30:24.469Z"
   },
   {
    "duration": 251,
    "start_time": "2025-02-13T09:30:25.071Z"
   },
   {
    "duration": 217,
    "start_time": "2025-02-13T09:30:25.324Z"
   },
   {
    "duration": 376,
    "start_time": "2025-02-13T09:30:25.543Z"
   },
   {
    "duration": 237,
    "start_time": "2025-02-13T09:30:25.920Z"
   },
   {
    "duration": 8,
    "start_time": "2025-02-13T09:30:26.159Z"
   },
   {
    "duration": 357,
    "start_time": "2025-02-13T09:30:26.169Z"
   },
   {
    "duration": 24,
    "start_time": "2025-02-13T09:30:26.528Z"
   },
   {
    "duration": 19,
    "start_time": "2025-02-13T09:30:26.554Z"
   },
   {
    "duration": 36,
    "start_time": "2025-02-13T09:30:26.576Z"
   },
   {
    "duration": 12,
    "start_time": "2025-02-13T09:30:26.614Z"
   },
   {
    "duration": 13,
    "start_time": "2025-02-13T09:30:26.628Z"
   },
   {
    "duration": 13,
    "start_time": "2025-02-13T09:30:26.643Z"
   },
   {
    "duration": 67,
    "start_time": "2025-02-13T09:30:26.658Z"
   },
   {
    "duration": 286,
    "start_time": "2025-02-13T09:30:26.727Z"
   },
   {
    "duration": 939,
    "start_time": "2025-02-13T09:30:27.015Z"
   },
   {
    "duration": 45,
    "start_time": "2025-02-13T09:32:04.475Z"
   },
   {
    "duration": 1227,
    "start_time": "2025-02-13T09:32:12.329Z"
   },
   {
    "duration": 92,
    "start_time": "2025-02-13T09:32:13.559Z"
   },
   {
    "duration": 17,
    "start_time": "2025-02-13T09:32:13.652Z"
   },
   {
    "duration": 73,
    "start_time": "2025-02-13T09:32:13.671Z"
   },
   {
    "duration": 7,
    "start_time": "2025-02-13T09:32:13.745Z"
   },
   {
    "duration": 18,
    "start_time": "2025-02-13T09:32:13.753Z"
   },
   {
    "duration": 91,
    "start_time": "2025-02-13T09:32:13.772Z"
   },
   {
    "duration": 13,
    "start_time": "2025-02-13T09:32:13.865Z"
   },
   {
    "duration": 14,
    "start_time": "2025-02-13T09:32:13.879Z"
   },
   {
    "duration": 11,
    "start_time": "2025-02-13T09:32:13.896Z"
   },
   {
    "duration": 14,
    "start_time": "2025-02-13T09:32:13.909Z"
   },
   {
    "duration": 36,
    "start_time": "2025-02-13T09:32:13.926Z"
   },
   {
    "duration": 6,
    "start_time": "2025-02-13T09:32:13.964Z"
   },
   {
    "duration": 12,
    "start_time": "2025-02-13T09:32:14.000Z"
   },
   {
    "duration": 31,
    "start_time": "2025-02-13T09:32:14.016Z"
   },
   {
    "duration": 14,
    "start_time": "2025-02-13T09:32:14.049Z"
   },
   {
    "duration": 308,
    "start_time": "2025-02-13T09:32:14.065Z"
   },
   {
    "duration": 313,
    "start_time": "2025-02-13T09:32:14.375Z"
   },
   {
    "duration": 599,
    "start_time": "2025-02-13T09:32:14.690Z"
   },
   {
    "duration": 257,
    "start_time": "2025-02-13T09:32:15.291Z"
   },
   {
    "duration": 290,
    "start_time": "2025-02-13T09:32:15.550Z"
   },
   {
    "duration": 392,
    "start_time": "2025-02-13T09:32:15.843Z"
   },
   {
    "duration": 316,
    "start_time": "2025-02-13T09:32:16.237Z"
   },
   {
    "duration": 9,
    "start_time": "2025-02-13T09:32:16.555Z"
   },
   {
    "duration": 278,
    "start_time": "2025-02-13T09:32:16.566Z"
   },
   {
    "duration": 26,
    "start_time": "2025-02-13T09:32:16.846Z"
   },
   {
    "duration": 37,
    "start_time": "2025-02-13T09:32:16.874Z"
   },
   {
    "duration": 29,
    "start_time": "2025-02-13T09:32:16.915Z"
   },
   {
    "duration": 13,
    "start_time": "2025-02-13T09:32:16.946Z"
   },
   {
    "duration": 12,
    "start_time": "2025-02-13T09:32:16.961Z"
   },
   {
    "duration": 29,
    "start_time": "2025-02-13T09:32:16.974Z"
   },
   {
    "duration": 31,
    "start_time": "2025-02-13T09:32:17.005Z"
   },
   {
    "duration": 337,
    "start_time": "2025-02-13T09:32:17.038Z"
   },
   {
    "duration": 946,
    "start_time": "2025-02-13T09:32:17.377Z"
   },
   {
    "duration": 536,
    "start_time": "2025-02-13T09:33:11.004Z"
   },
   {
    "duration": 526,
    "start_time": "2025-02-13T09:33:55.625Z"
   },
   {
    "duration": 523,
    "start_time": "2025-02-13T09:34:17.851Z"
   },
   {
    "duration": 24,
    "start_time": "2025-02-13T09:34:34.499Z"
   },
   {
    "duration": 21,
    "start_time": "2025-02-13T09:34:46.315Z"
   },
   {
    "duration": 10,
    "start_time": "2025-02-13T09:35:23.691Z"
   },
   {
    "duration": 11,
    "start_time": "2025-02-13T09:35:49.041Z"
   },
   {
    "duration": 32,
    "start_time": "2025-02-13T09:35:57.120Z"
   },
   {
    "duration": 23,
    "start_time": "2025-02-13T09:38:22.394Z"
   },
   {
    "duration": 1256,
    "start_time": "2025-02-13T09:38:31.416Z"
   },
   {
    "duration": 102,
    "start_time": "2025-02-13T09:38:32.674Z"
   },
   {
    "duration": 18,
    "start_time": "2025-02-13T09:38:32.781Z"
   },
   {
    "duration": 70,
    "start_time": "2025-02-13T09:38:32.801Z"
   },
   {
    "duration": 11,
    "start_time": "2025-02-13T09:38:32.873Z"
   },
   {
    "duration": 23,
    "start_time": "2025-02-13T09:38:32.886Z"
   },
   {
    "duration": 10,
    "start_time": "2025-02-13T09:38:32.911Z"
   },
   {
    "duration": 29,
    "start_time": "2025-02-13T09:38:32.923Z"
   },
   {
    "duration": 38,
    "start_time": "2025-02-13T09:38:32.955Z"
   },
   {
    "duration": 11,
    "start_time": "2025-02-13T09:38:32.995Z"
   },
   {
    "duration": 38,
    "start_time": "2025-02-13T09:38:33.008Z"
   },
   {
    "duration": 62,
    "start_time": "2025-02-13T09:38:33.048Z"
   },
   {
    "duration": 10,
    "start_time": "2025-02-13T09:38:33.112Z"
   },
   {
    "duration": 43,
    "start_time": "2025-02-13T09:38:33.124Z"
   },
   {
    "duration": 31,
    "start_time": "2025-02-13T09:38:33.169Z"
   },
   {
    "duration": 9,
    "start_time": "2025-02-13T09:38:33.201Z"
   },
   {
    "duration": 339,
    "start_time": "2025-02-13T09:38:33.212Z"
   },
   {
    "duration": 302,
    "start_time": "2025-02-13T09:38:33.553Z"
   },
   {
    "duration": 658,
    "start_time": "2025-02-13T09:38:33.858Z"
   },
   {
    "duration": 226,
    "start_time": "2025-02-13T09:38:34.518Z"
   },
   {
    "duration": 278,
    "start_time": "2025-02-13T09:38:34.746Z"
   },
   {
    "duration": 315,
    "start_time": "2025-02-13T09:38:35.026Z"
   },
   {
    "duration": 294,
    "start_time": "2025-02-13T09:38:35.343Z"
   },
   {
    "duration": 9,
    "start_time": "2025-02-13T09:38:35.639Z"
   },
   {
    "duration": 295,
    "start_time": "2025-02-13T09:38:35.649Z"
   },
   {
    "duration": 25,
    "start_time": "2025-02-13T09:38:35.946Z"
   },
   {
    "duration": 36,
    "start_time": "2025-02-13T09:38:35.974Z"
   },
   {
    "duration": 41,
    "start_time": "2025-02-13T09:38:36.011Z"
   },
   {
    "duration": 101,
    "start_time": "2025-02-13T09:38:36.054Z"
   },
   {
    "duration": 20,
    "start_time": "2025-02-13T09:38:36.157Z"
   },
   {
    "duration": 15,
    "start_time": "2025-02-13T09:38:36.179Z"
   },
   {
    "duration": 81,
    "start_time": "2025-02-13T09:38:36.196Z"
   },
   {
    "duration": 312,
    "start_time": "2025-02-13T09:38:36.279Z"
   },
   {
    "duration": 125,
    "start_time": "2025-02-13T09:38:36.600Z"
   },
   {
    "duration": 0,
    "start_time": "2025-02-13T09:38:36.727Z"
   },
   {
    "duration": 0,
    "start_time": "2025-02-13T09:38:36.729Z"
   },
   {
    "duration": 0,
    "start_time": "2025-02-13T09:38:36.730Z"
   },
   {
    "duration": 10,
    "start_time": "2025-02-13T09:39:45.401Z"
   },
   {
    "duration": 409,
    "start_time": "2025-02-13T09:39:50.457Z"
   },
   {
    "duration": 13,
    "start_time": "2025-02-13T09:39:53.769Z"
   },
   {
    "duration": 1227,
    "start_time": "2025-02-13T09:40:08.714Z"
   },
   {
    "duration": 26,
    "start_time": "2025-02-13T09:41:00.489Z"
   },
   {
    "duration": 31,
    "start_time": "2025-02-13T09:43:58.925Z"
   },
   {
    "duration": 1345,
    "start_time": "2025-02-13T09:48:22.294Z"
   },
   {
    "duration": 94,
    "start_time": "2025-02-13T09:48:23.641Z"
   },
   {
    "duration": 18,
    "start_time": "2025-02-13T09:48:23.737Z"
   },
   {
    "duration": 49,
    "start_time": "2025-02-13T09:48:23.757Z"
   },
   {
    "duration": 19,
    "start_time": "2025-02-13T09:48:23.807Z"
   },
   {
    "duration": 97,
    "start_time": "2025-02-13T09:48:23.828Z"
   },
   {
    "duration": 8,
    "start_time": "2025-02-13T09:48:23.927Z"
   },
   {
    "duration": 17,
    "start_time": "2025-02-13T09:48:23.937Z"
   },
   {
    "duration": 22,
    "start_time": "2025-02-13T09:48:23.956Z"
   },
   {
    "duration": 20,
    "start_time": "2025-02-13T09:48:23.981Z"
   },
   {
    "duration": 19,
    "start_time": "2025-02-13T09:48:24.003Z"
   },
   {
    "duration": 46,
    "start_time": "2025-02-13T09:48:24.024Z"
   },
   {
    "duration": 8,
    "start_time": "2025-02-13T09:48:24.072Z"
   },
   {
    "duration": 26,
    "start_time": "2025-02-13T09:48:24.082Z"
   },
   {
    "duration": 22,
    "start_time": "2025-02-13T09:48:24.110Z"
   },
   {
    "duration": 15,
    "start_time": "2025-02-13T09:48:24.134Z"
   },
   {
    "duration": 348,
    "start_time": "2025-02-13T09:48:24.151Z"
   },
   {
    "duration": 267,
    "start_time": "2025-02-13T09:48:24.501Z"
   },
   {
    "duration": 607,
    "start_time": "2025-02-13T09:48:24.770Z"
   },
   {
    "duration": 250,
    "start_time": "2025-02-13T09:48:25.379Z"
   },
   {
    "duration": 284,
    "start_time": "2025-02-13T09:48:25.630Z"
   },
   {
    "duration": 326,
    "start_time": "2025-02-13T09:48:25.916Z"
   },
   {
    "duration": 293,
    "start_time": "2025-02-13T09:48:26.244Z"
   },
   {
    "duration": 9,
    "start_time": "2025-02-13T09:48:26.539Z"
   },
   {
    "duration": 290,
    "start_time": "2025-02-13T09:48:26.550Z"
   },
   {
    "duration": 28,
    "start_time": "2025-02-13T09:48:26.842Z"
   },
   {
    "duration": 62,
    "start_time": "2025-02-13T09:48:26.872Z"
   },
   {
    "duration": 23,
    "start_time": "2025-02-13T09:48:26.938Z"
   },
   {
    "duration": 19,
    "start_time": "2025-02-13T09:48:26.963Z"
   },
   {
    "duration": 26,
    "start_time": "2025-02-13T09:48:26.984Z"
   },
   {
    "duration": 12,
    "start_time": "2025-02-13T09:48:27.012Z"
   },
   {
    "duration": 30,
    "start_time": "2025-02-13T09:48:27.026Z"
   },
   {
    "duration": 334,
    "start_time": "2025-02-13T09:48:27.058Z"
   },
   {
    "duration": 10,
    "start_time": "2025-02-13T09:48:27.399Z"
   },
   {
    "duration": 434,
    "start_time": "2025-02-13T09:48:27.411Z"
   },
   {
    "duration": 20,
    "start_time": "2025-02-13T09:48:42.753Z"
   },
   {
    "duration": 1448,
    "start_time": "2025-02-13T09:49:44.353Z"
   },
   {
    "duration": 1288,
    "start_time": "2025-02-13T09:50:00.686Z"
   },
   {
    "duration": 93,
    "start_time": "2025-02-13T09:50:01.976Z"
   },
   {
    "duration": 16,
    "start_time": "2025-02-13T09:50:02.070Z"
   },
   {
    "duration": 32,
    "start_time": "2025-02-13T09:50:02.089Z"
   },
   {
    "duration": 24,
    "start_time": "2025-02-13T09:50:02.123Z"
   },
   {
    "duration": 49,
    "start_time": "2025-02-13T09:50:02.149Z"
   },
   {
    "duration": 57,
    "start_time": "2025-02-13T09:50:02.200Z"
   },
   {
    "duration": 80,
    "start_time": "2025-02-13T09:50:02.259Z"
   },
   {
    "duration": 43,
    "start_time": "2025-02-13T09:50:02.340Z"
   },
   {
    "duration": 41,
    "start_time": "2025-02-13T09:50:02.385Z"
   },
   {
    "duration": 66,
    "start_time": "2025-02-13T09:50:02.428Z"
   },
   {
    "duration": 53,
    "start_time": "2025-02-13T09:50:02.496Z"
   },
   {
    "duration": 46,
    "start_time": "2025-02-13T09:50:02.551Z"
   },
   {
    "duration": 67,
    "start_time": "2025-02-13T09:50:02.598Z"
   },
   {
    "duration": 24,
    "start_time": "2025-02-13T09:50:02.667Z"
   },
   {
    "duration": 43,
    "start_time": "2025-02-13T09:50:02.693Z"
   },
   {
    "duration": 325,
    "start_time": "2025-02-13T09:50:02.738Z"
   },
   {
    "duration": 295,
    "start_time": "2025-02-13T09:50:03.065Z"
   },
   {
    "duration": 620,
    "start_time": "2025-02-13T09:50:03.362Z"
   },
   {
    "duration": 265,
    "start_time": "2025-02-13T09:50:03.985Z"
   },
   {
    "duration": 289,
    "start_time": "2025-02-13T09:50:04.251Z"
   },
   {
    "duration": 382,
    "start_time": "2025-02-13T09:50:04.542Z"
   },
   {
    "duration": 234,
    "start_time": "2025-02-13T09:50:04.925Z"
   },
   {
    "duration": 41,
    "start_time": "2025-02-13T09:50:05.160Z"
   },
   {
    "duration": 341,
    "start_time": "2025-02-13T09:50:05.203Z"
   },
   {
    "duration": 28,
    "start_time": "2025-02-13T09:50:05.546Z"
   },
   {
    "duration": 41,
    "start_time": "2025-02-13T09:50:05.576Z"
   },
   {
    "duration": 30,
    "start_time": "2025-02-13T09:50:05.621Z"
   },
   {
    "duration": 17,
    "start_time": "2025-02-13T09:50:05.653Z"
   },
   {
    "duration": 15,
    "start_time": "2025-02-13T09:50:05.672Z"
   },
   {
    "duration": 143,
    "start_time": "2025-02-13T09:50:05.699Z"
   },
   {
    "duration": 180,
    "start_time": "2025-02-13T09:50:05.844Z"
   },
   {
    "duration": 353,
    "start_time": "2025-02-13T09:50:06.026Z"
   },
   {
    "duration": 18,
    "start_time": "2025-02-13T09:50:06.381Z"
   },
   {
    "duration": 1726,
    "start_time": "2025-02-13T09:50:06.401Z"
   },
   {
    "duration": 1386,
    "start_time": "2025-02-13T09:51:05.096Z"
   },
   {
    "duration": 98,
    "start_time": "2025-02-13T09:51:06.484Z"
   },
   {
    "duration": 21,
    "start_time": "2025-02-13T09:51:06.584Z"
   },
   {
    "duration": 67,
    "start_time": "2025-02-13T09:51:06.607Z"
   },
   {
    "duration": 25,
    "start_time": "2025-02-13T09:51:06.676Z"
   },
   {
    "duration": 38,
    "start_time": "2025-02-13T09:51:06.703Z"
   },
   {
    "duration": 10,
    "start_time": "2025-02-13T09:51:06.743Z"
   },
   {
    "duration": 20,
    "start_time": "2025-02-13T09:51:06.755Z"
   },
   {
    "duration": 28,
    "start_time": "2025-02-13T09:51:06.777Z"
   },
   {
    "duration": 78,
    "start_time": "2025-02-13T09:51:06.807Z"
   },
   {
    "duration": 57,
    "start_time": "2025-02-13T09:51:06.887Z"
   },
   {
    "duration": 47,
    "start_time": "2025-02-13T09:51:06.946Z"
   },
   {
    "duration": 9,
    "start_time": "2025-02-13T09:51:06.995Z"
   },
   {
    "duration": 32,
    "start_time": "2025-02-13T09:51:07.007Z"
   },
   {
    "duration": 31,
    "start_time": "2025-02-13T09:51:07.041Z"
   },
   {
    "duration": 9,
    "start_time": "2025-02-13T09:51:07.073Z"
   },
   {
    "duration": 283,
    "start_time": "2025-02-13T09:51:07.083Z"
   },
   {
    "duration": 303,
    "start_time": "2025-02-13T09:51:07.368Z"
   },
   {
    "duration": 630,
    "start_time": "2025-02-13T09:51:07.673Z"
   },
   {
    "duration": 236,
    "start_time": "2025-02-13T09:51:08.305Z"
   },
   {
    "duration": 306,
    "start_time": "2025-02-13T09:51:08.543Z"
   },
   {
    "duration": 367,
    "start_time": "2025-02-13T09:51:08.851Z"
   },
   {
    "duration": 234,
    "start_time": "2025-02-13T09:51:09.220Z"
   },
   {
    "duration": 10,
    "start_time": "2025-02-13T09:51:09.456Z"
   },
   {
    "duration": 290,
    "start_time": "2025-02-13T09:51:09.467Z"
   },
   {
    "duration": 26,
    "start_time": "2025-02-13T09:51:09.759Z"
   },
   {
    "duration": 52,
    "start_time": "2025-02-13T09:51:09.787Z"
   },
   {
    "duration": 113,
    "start_time": "2025-02-13T09:51:09.841Z"
   },
   {
    "duration": 22,
    "start_time": "2025-02-13T09:51:09.957Z"
   },
   {
    "duration": 24,
    "start_time": "2025-02-13T09:51:09.980Z"
   },
   {
    "duration": 13,
    "start_time": "2025-02-13T09:51:10.005Z"
   },
   {
    "duration": 45,
    "start_time": "2025-02-13T09:51:10.019Z"
   },
   {
    "duration": 343,
    "start_time": "2025-02-13T09:51:10.066Z"
   },
   {
    "duration": 1713,
    "start_time": "2025-02-13T09:51:10.412Z"
   },
   {
    "duration": 1297,
    "start_time": "2025-02-13T09:52:04.767Z"
   },
   {
    "duration": 16,
    "start_time": "2025-02-13T09:52:34.061Z"
   },
   {
    "duration": 1298,
    "start_time": "2025-02-13T09:52:41.149Z"
   },
   {
    "duration": 5,
    "start_time": "2025-02-13T09:53:05.500Z"
   },
   {
    "duration": 4,
    "start_time": "2025-02-13T09:53:21.996Z"
   },
   {
    "duration": 1406,
    "start_time": "2025-02-13T09:53:28.420Z"
   },
   {
    "duration": 10,
    "start_time": "2025-02-13T09:54:35.742Z"
   },
   {
    "duration": 1145,
    "start_time": "2025-02-13T09:54:40.650Z"
   },
   {
    "duration": 10240,
    "start_time": "2025-02-13T09:56:42.094Z"
   },
   {
    "duration": 11369,
    "start_time": "2025-02-13T09:57:04.198Z"
   },
   {
    "duration": 5,
    "start_time": "2025-02-13T09:58:40.632Z"
   },
   {
    "duration": 1325,
    "start_time": "2025-02-13T09:59:57.278Z"
   },
   {
    "duration": 94,
    "start_time": "2025-02-13T09:59:58.606Z"
   },
   {
    "duration": 18,
    "start_time": "2025-02-13T09:59:58.702Z"
   },
   {
    "duration": 31,
    "start_time": "2025-02-13T09:59:58.722Z"
   },
   {
    "duration": 21,
    "start_time": "2025-02-13T09:59:58.755Z"
   },
   {
    "duration": 47,
    "start_time": "2025-02-13T09:59:58.777Z"
   },
   {
    "duration": 52,
    "start_time": "2025-02-13T09:59:58.826Z"
   },
   {
    "duration": 50,
    "start_time": "2025-02-13T09:59:58.880Z"
   },
   {
    "duration": 43,
    "start_time": "2025-02-13T09:59:58.932Z"
   },
   {
    "duration": 41,
    "start_time": "2025-02-13T09:59:58.978Z"
   },
   {
    "duration": 29,
    "start_time": "2025-02-13T09:59:59.021Z"
   },
   {
    "duration": 52,
    "start_time": "2025-02-13T09:59:59.052Z"
   },
   {
    "duration": 7,
    "start_time": "2025-02-13T09:59:59.106Z"
   },
   {
    "duration": 17,
    "start_time": "2025-02-13T09:59:59.115Z"
   },
   {
    "duration": 21,
    "start_time": "2025-02-13T09:59:59.134Z"
   },
   {
    "duration": 11,
    "start_time": "2025-02-13T09:59:59.157Z"
   },
   {
    "duration": 321,
    "start_time": "2025-02-13T09:59:59.170Z"
   },
   {
    "duration": 273,
    "start_time": "2025-02-13T09:59:59.500Z"
   },
   {
    "duration": 624,
    "start_time": "2025-02-13T09:59:59.775Z"
   },
   {
    "duration": 244,
    "start_time": "2025-02-13T10:00:00.401Z"
   },
   {
    "duration": 278,
    "start_time": "2025-02-13T10:00:00.647Z"
   },
   {
    "duration": 381,
    "start_time": "2025-02-13T10:00:00.927Z"
   },
   {
    "duration": 260,
    "start_time": "2025-02-13T10:00:01.310Z"
   },
   {
    "duration": 9,
    "start_time": "2025-02-13T10:00:01.572Z"
   },
   {
    "duration": 384,
    "start_time": "2025-02-13T10:00:01.583Z"
   },
   {
    "duration": 40,
    "start_time": "2025-02-13T10:00:01.969Z"
   },
   {
    "duration": 53,
    "start_time": "2025-02-13T10:00:02.011Z"
   },
   {
    "duration": 72,
    "start_time": "2025-02-13T10:00:02.068Z"
   },
   {
    "duration": 97,
    "start_time": "2025-02-13T10:00:02.141Z"
   },
   {
    "duration": 118,
    "start_time": "2025-02-13T10:00:02.240Z"
   },
   {
    "duration": 37,
    "start_time": "2025-02-13T10:00:02.360Z"
   },
   {
    "duration": 67,
    "start_time": "2025-02-13T10:00:02.399Z"
   },
   {
    "duration": 353,
    "start_time": "2025-02-13T10:00:02.467Z"
   },
   {
    "duration": 315,
    "start_time": "2025-02-13T10:00:02.821Z"
   },
   {
    "duration": 4,
    "start_time": "2025-02-13T10:00:03.138Z"
   },
   {
    "duration": 37,
    "start_time": "2025-02-13T10:00:03.144Z"
   },
   {
    "duration": 32,
    "start_time": "2025-02-13T10:00:03.183Z"
   },
   {
    "duration": 140,
    "start_time": "2025-02-13T10:00:03.217Z"
   },
   {
    "duration": 54,
    "start_time": "2025-02-13T10:00:03.358Z"
   },
   {
    "duration": 10150,
    "start_time": "2025-02-13T10:00:03.414Z"
   },
   {
    "duration": 124,
    "start_time": "2025-02-13T10:01:19.213Z"
   },
   {
    "duration": 3463,
    "start_time": "2025-02-13T10:01:23.299Z"
   },
   {
    "duration": 1304,
    "start_time": "2025-02-13T10:01:49.829Z"
   },
   {
    "duration": 94,
    "start_time": "2025-02-13T10:01:51.135Z"
   },
   {
    "duration": 16,
    "start_time": "2025-02-13T10:01:51.234Z"
   },
   {
    "duration": 115,
    "start_time": "2025-02-13T10:01:51.253Z"
   },
   {
    "duration": 26,
    "start_time": "2025-02-13T10:01:51.370Z"
   },
   {
    "duration": 31,
    "start_time": "2025-02-13T10:01:51.398Z"
   },
   {
    "duration": 9,
    "start_time": "2025-02-13T10:01:51.432Z"
   },
   {
    "duration": 21,
    "start_time": "2025-02-13T10:01:51.442Z"
   },
   {
    "duration": 16,
    "start_time": "2025-02-13T10:01:51.464Z"
   },
   {
    "duration": 32,
    "start_time": "2025-02-13T10:01:51.481Z"
   },
   {
    "duration": 21,
    "start_time": "2025-02-13T10:01:51.515Z"
   },
   {
    "duration": 34,
    "start_time": "2025-02-13T10:01:51.538Z"
   },
   {
    "duration": 14,
    "start_time": "2025-02-13T10:01:51.575Z"
   },
   {
    "duration": 32,
    "start_time": "2025-02-13T10:01:51.590Z"
   },
   {
    "duration": 21,
    "start_time": "2025-02-13T10:01:51.624Z"
   },
   {
    "duration": 9,
    "start_time": "2025-02-13T10:01:51.647Z"
   },
   {
    "duration": 310,
    "start_time": "2025-02-13T10:01:51.658Z"
   },
   {
    "duration": 298,
    "start_time": "2025-02-13T10:01:51.969Z"
   },
   {
    "duration": 617,
    "start_time": "2025-02-13T10:01:52.269Z"
   },
   {
    "duration": 246,
    "start_time": "2025-02-13T10:01:52.888Z"
   },
   {
    "duration": 279,
    "start_time": "2025-02-13T10:01:53.136Z"
   },
   {
    "duration": 329,
    "start_time": "2025-02-13T10:01:53.417Z"
   },
   {
    "duration": 303,
    "start_time": "2025-02-13T10:01:53.748Z"
   },
   {
    "duration": 8,
    "start_time": "2025-02-13T10:01:54.053Z"
   },
   {
    "duration": 282,
    "start_time": "2025-02-13T10:01:54.063Z"
   },
   {
    "duration": 37,
    "start_time": "2025-02-13T10:01:54.347Z"
   },
   {
    "duration": 26,
    "start_time": "2025-02-13T10:01:54.399Z"
   },
   {
    "duration": 19,
    "start_time": "2025-02-13T10:01:54.427Z"
   },
   {
    "duration": 17,
    "start_time": "2025-02-13T10:01:54.448Z"
   },
   {
    "duration": 50,
    "start_time": "2025-02-13T10:01:54.467Z"
   },
   {
    "duration": 16,
    "start_time": "2025-02-13T10:01:54.520Z"
   },
   {
    "duration": 31,
    "start_time": "2025-02-13T10:01:54.538Z"
   },
   {
    "duration": 335,
    "start_time": "2025-02-13T10:01:54.571Z"
   },
   {
    "duration": 324,
    "start_time": "2025-02-13T10:01:54.908Z"
   },
   {
    "duration": 4,
    "start_time": "2025-02-13T10:01:55.234Z"
   },
   {
    "duration": 101,
    "start_time": "2025-02-13T10:01:55.240Z"
   },
   {
    "duration": 21,
    "start_time": "2025-02-13T10:01:55.343Z"
   },
   {
    "duration": 11,
    "start_time": "2025-02-13T10:01:55.366Z"
   },
   {
    "duration": 18,
    "start_time": "2025-02-13T10:01:55.379Z"
   },
   {
    "duration": 3403,
    "start_time": "2025-02-13T10:01:55.402Z"
   },
   {
    "duration": 1310,
    "start_time": "2025-02-13T10:03:12.338Z"
   },
   {
    "duration": 94,
    "start_time": "2025-02-13T10:03:13.650Z"
   },
   {
    "duration": 17,
    "start_time": "2025-02-13T10:03:13.746Z"
   },
   {
    "duration": 40,
    "start_time": "2025-02-13T10:03:13.765Z"
   },
   {
    "duration": 7,
    "start_time": "2025-02-13T10:03:13.807Z"
   },
   {
    "duration": 17,
    "start_time": "2025-02-13T10:03:13.816Z"
   },
   {
    "duration": 9,
    "start_time": "2025-02-13T10:03:13.835Z"
   },
   {
    "duration": 22,
    "start_time": "2025-02-13T10:03:13.845Z"
   },
   {
    "duration": 56,
    "start_time": "2025-02-13T10:03:13.869Z"
   },
   {
    "duration": 69,
    "start_time": "2025-02-13T10:03:13.929Z"
   },
   {
    "duration": 19,
    "start_time": "2025-02-13T10:03:14.001Z"
   },
   {
    "duration": 52,
    "start_time": "2025-02-13T10:03:14.023Z"
   },
   {
    "duration": 29,
    "start_time": "2025-02-13T10:03:14.077Z"
   },
   {
    "duration": 18,
    "start_time": "2025-02-13T10:03:14.108Z"
   },
   {
    "duration": 21,
    "start_time": "2025-02-13T10:03:14.128Z"
   },
   {
    "duration": 9,
    "start_time": "2025-02-13T10:03:14.151Z"
   },
   {
    "duration": 327,
    "start_time": "2025-02-13T10:03:14.161Z"
   },
   {
    "duration": 280,
    "start_time": "2025-02-13T10:03:14.490Z"
   },
   {
    "duration": 623,
    "start_time": "2025-02-13T10:03:14.772Z"
   },
   {
    "duration": 257,
    "start_time": "2025-02-13T10:03:15.400Z"
   },
   {
    "duration": 283,
    "start_time": "2025-02-13T10:03:15.659Z"
   },
   {
    "duration": 396,
    "start_time": "2025-02-13T10:03:15.944Z"
   },
   {
    "duration": 287,
    "start_time": "2025-02-13T10:03:16.342Z"
   },
   {
    "duration": 9,
    "start_time": "2025-02-13T10:03:16.632Z"
   },
   {
    "duration": 291,
    "start_time": "2025-02-13T10:03:16.643Z"
   },
   {
    "duration": 27,
    "start_time": "2025-02-13T10:03:16.936Z"
   },
   {
    "duration": 37,
    "start_time": "2025-02-13T10:03:16.965Z"
   },
   {
    "duration": 36,
    "start_time": "2025-02-13T10:03:17.006Z"
   },
   {
    "duration": 54,
    "start_time": "2025-02-13T10:03:17.044Z"
   },
   {
    "duration": 38,
    "start_time": "2025-02-13T10:03:17.100Z"
   },
   {
    "duration": 36,
    "start_time": "2025-02-13T10:03:17.140Z"
   },
   {
    "duration": 75,
    "start_time": "2025-02-13T10:03:17.179Z"
   },
   {
    "duration": 403,
    "start_time": "2025-02-13T10:03:17.256Z"
   },
   {
    "duration": 323,
    "start_time": "2025-02-13T10:03:17.661Z"
   },
   {
    "duration": 4,
    "start_time": "2025-02-13T10:03:17.986Z"
   },
   {
    "duration": 4,
    "start_time": "2025-02-13T10:03:17.999Z"
   },
   {
    "duration": 10,
    "start_time": "2025-02-13T10:03:18.005Z"
   },
   {
    "duration": 15,
    "start_time": "2025-02-13T10:03:18.017Z"
   },
   {
    "duration": 26,
    "start_time": "2025-02-13T10:03:18.035Z"
   },
   {
    "duration": 1695,
    "start_time": "2025-02-13T10:03:18.064Z"
   },
   {
    "duration": 1320,
    "start_time": "2025-02-13T16:25:59.558Z"
   },
   {
    "duration": 94,
    "start_time": "2025-02-13T16:26:00.880Z"
   },
   {
    "duration": 16,
    "start_time": "2025-02-13T16:26:00.976Z"
   },
   {
    "duration": 38,
    "start_time": "2025-02-13T16:26:00.994Z"
   },
   {
    "duration": 6,
    "start_time": "2025-02-13T16:26:01.034Z"
   },
   {
    "duration": 101,
    "start_time": "2025-02-13T16:26:01.042Z"
   },
   {
    "duration": 13,
    "start_time": "2025-02-13T16:26:01.145Z"
   },
   {
    "duration": 32,
    "start_time": "2025-02-13T16:26:01.160Z"
   },
   {
    "duration": 20,
    "start_time": "2025-02-13T16:26:01.193Z"
   },
   {
    "duration": 13,
    "start_time": "2025-02-13T16:26:01.218Z"
   },
   {
    "duration": 37,
    "start_time": "2025-02-13T16:26:01.233Z"
   },
   {
    "duration": 67,
    "start_time": "2025-02-13T16:26:01.272Z"
   },
   {
    "duration": 7,
    "start_time": "2025-02-13T16:26:01.341Z"
   },
   {
    "duration": 43,
    "start_time": "2025-02-13T16:26:01.350Z"
   },
   {
    "duration": 39,
    "start_time": "2025-02-13T16:26:01.395Z"
   },
   {
    "duration": 26,
    "start_time": "2025-02-13T16:26:01.436Z"
   },
   {
    "duration": 379,
    "start_time": "2025-02-13T16:26:01.464Z"
   },
   {
    "duration": 337,
    "start_time": "2025-02-13T16:26:01.844Z"
   },
   {
    "duration": 684,
    "start_time": "2025-02-13T16:26:02.183Z"
   },
   {
    "duration": 279,
    "start_time": "2025-02-13T16:26:02.869Z"
   },
   {
    "duration": 292,
    "start_time": "2025-02-13T16:26:03.150Z"
   },
   {
    "duration": 403,
    "start_time": "2025-02-13T16:26:03.444Z"
   },
   {
    "duration": 306,
    "start_time": "2025-02-13T16:26:03.849Z"
   },
   {
    "duration": 8,
    "start_time": "2025-02-13T16:26:04.156Z"
   },
   {
    "duration": 295,
    "start_time": "2025-02-13T16:26:04.166Z"
   },
   {
    "duration": 39,
    "start_time": "2025-02-13T16:26:04.463Z"
   },
   {
    "duration": 27,
    "start_time": "2025-02-13T16:26:04.505Z"
   },
   {
    "duration": 36,
    "start_time": "2025-02-13T16:26:04.536Z"
   },
   {
    "duration": 47,
    "start_time": "2025-02-13T16:26:04.574Z"
   },
   {
    "duration": 20,
    "start_time": "2025-02-13T16:26:04.623Z"
   },
   {
    "duration": 34,
    "start_time": "2025-02-13T16:26:04.645Z"
   },
   {
    "duration": 48,
    "start_time": "2025-02-13T16:26:04.681Z"
   },
   {
    "duration": 361,
    "start_time": "2025-02-13T16:26:04.731Z"
   },
   {
    "duration": 387,
    "start_time": "2025-02-13T16:26:05.094Z"
   },
   {
    "duration": 4,
    "start_time": "2025-02-13T16:26:05.482Z"
   },
   {
    "duration": 148,
    "start_time": "2025-02-13T16:26:05.488Z"
   },
   {
    "duration": 27,
    "start_time": "2025-02-13T16:26:05.639Z"
   },
   {
    "duration": 1662,
    "start_time": "2025-02-13T16:26:05.668Z"
   },
   {
    "duration": 1354,
    "start_time": "2025-02-13T16:28:21.332Z"
   },
   {
    "duration": 98,
    "start_time": "2025-02-13T16:28:22.688Z"
   },
   {
    "duration": 21,
    "start_time": "2025-02-13T16:28:22.787Z"
   },
   {
    "duration": 19,
    "start_time": "2025-02-13T16:28:22.810Z"
   },
   {
    "duration": 8,
    "start_time": "2025-02-13T16:28:22.832Z"
   },
   {
    "duration": 22,
    "start_time": "2025-02-13T16:28:22.841Z"
   },
   {
    "duration": 34,
    "start_time": "2025-02-13T16:28:22.865Z"
   },
   {
    "duration": 16,
    "start_time": "2025-02-13T16:28:22.902Z"
   },
   {
    "duration": 13,
    "start_time": "2025-02-13T16:28:22.920Z"
   },
   {
    "duration": 11,
    "start_time": "2025-02-13T16:28:22.935Z"
   },
   {
    "duration": 21,
    "start_time": "2025-02-13T16:28:22.947Z"
   },
   {
    "duration": 84,
    "start_time": "2025-02-13T16:28:22.970Z"
   },
   {
    "duration": 58,
    "start_time": "2025-02-13T16:28:23.056Z"
   },
   {
    "duration": 17,
    "start_time": "2025-02-13T16:28:23.120Z"
   },
   {
    "duration": 17,
    "start_time": "2025-02-13T16:28:23.139Z"
   },
   {
    "duration": 17,
    "start_time": "2025-02-13T16:28:23.158Z"
   },
   {
    "duration": 343,
    "start_time": "2025-02-13T16:28:23.177Z"
   },
   {
    "duration": 326,
    "start_time": "2025-02-13T16:28:23.522Z"
   },
   {
    "duration": 665,
    "start_time": "2025-02-13T16:28:23.850Z"
   },
   {
    "duration": 244,
    "start_time": "2025-02-13T16:28:24.517Z"
   },
   {
    "duration": 287,
    "start_time": "2025-02-13T16:28:24.762Z"
   },
   {
    "duration": 389,
    "start_time": "2025-02-13T16:28:25.051Z"
   },
   {
    "duration": 302,
    "start_time": "2025-02-13T16:28:25.441Z"
   },
   {
    "duration": 9,
    "start_time": "2025-02-13T16:28:25.744Z"
   },
   {
    "duration": 309,
    "start_time": "2025-02-13T16:28:25.754Z"
   },
   {
    "duration": 38,
    "start_time": "2025-02-13T16:28:26.065Z"
   },
   {
    "duration": 34,
    "start_time": "2025-02-13T16:28:26.106Z"
   },
   {
    "duration": 30,
    "start_time": "2025-02-13T16:28:26.142Z"
   },
   {
    "duration": 45,
    "start_time": "2025-02-13T16:28:26.173Z"
   },
   {
    "duration": 14,
    "start_time": "2025-02-13T16:28:26.221Z"
   },
   {
    "duration": 11,
    "start_time": "2025-02-13T16:28:26.237Z"
   },
   {
    "duration": 56,
    "start_time": "2025-02-13T16:28:26.250Z"
   },
   {
    "duration": 358,
    "start_time": "2025-02-13T16:28:26.310Z"
   },
   {
    "duration": 345,
    "start_time": "2025-02-13T16:28:26.670Z"
   },
   {
    "duration": 7,
    "start_time": "2025-02-13T16:28:27.017Z"
   },
   {
    "duration": 141,
    "start_time": "2025-02-13T16:28:27.025Z"
   },
   {
    "duration": 0,
    "start_time": "2025-02-13T16:28:27.168Z"
   },
   {
    "duration": 0,
    "start_time": "2025-02-13T16:28:27.169Z"
   },
   {
    "duration": 0,
    "start_time": "2025-02-13T16:28:27.170Z"
   },
   {
    "duration": 23,
    "start_time": "2025-02-13T16:28:54.104Z"
   },
   {
    "duration": 1730,
    "start_time": "2025-02-13T16:30:18.720Z"
   },
   {
    "duration": 23,
    "start_time": "2025-02-13T16:30:41.504Z"
   },
   {
    "duration": 1356,
    "start_time": "2025-02-13T16:38:23.915Z"
   },
   {
    "duration": 108,
    "start_time": "2025-02-13T16:38:25.273Z"
   },
   {
    "duration": 17,
    "start_time": "2025-02-13T16:38:25.383Z"
   },
   {
    "duration": 23,
    "start_time": "2025-02-13T16:38:25.403Z"
   },
   {
    "duration": 7,
    "start_time": "2025-02-13T16:38:25.428Z"
   },
   {
    "duration": 22,
    "start_time": "2025-02-13T16:38:25.437Z"
   },
   {
    "duration": 9,
    "start_time": "2025-02-13T16:38:25.461Z"
   },
   {
    "duration": 35,
    "start_time": "2025-02-13T16:38:25.472Z"
   },
   {
    "duration": 13,
    "start_time": "2025-02-13T16:38:25.509Z"
   },
   {
    "duration": 12,
    "start_time": "2025-02-13T16:38:25.525Z"
   },
   {
    "duration": 67,
    "start_time": "2025-02-13T16:38:25.538Z"
   },
   {
    "duration": 52,
    "start_time": "2025-02-13T16:38:25.607Z"
   },
   {
    "duration": 7,
    "start_time": "2025-02-13T16:38:25.660Z"
   },
   {
    "duration": 11,
    "start_time": "2025-02-13T16:38:25.669Z"
   },
   {
    "duration": 32,
    "start_time": "2025-02-13T16:38:25.681Z"
   },
   {
    "duration": 9,
    "start_time": "2025-02-13T16:38:25.715Z"
   },
   {
    "duration": 356,
    "start_time": "2025-02-13T16:38:25.726Z"
   },
   {
    "duration": 304,
    "start_time": "2025-02-13T16:38:26.084Z"
   },
   {
    "duration": 677,
    "start_time": "2025-02-13T16:38:26.390Z"
   },
   {
    "duration": 269,
    "start_time": "2025-02-13T16:38:27.069Z"
   },
   {
    "duration": 285,
    "start_time": "2025-02-13T16:38:27.340Z"
   },
   {
    "duration": 333,
    "start_time": "2025-02-13T16:38:27.627Z"
   },
   {
    "duration": 298,
    "start_time": "2025-02-13T16:38:27.962Z"
   },
   {
    "duration": 8,
    "start_time": "2025-02-13T16:38:28.262Z"
   },
   {
    "duration": 289,
    "start_time": "2025-02-13T16:38:28.272Z"
   },
   {
    "duration": 39,
    "start_time": "2025-02-13T16:38:28.563Z"
   },
   {
    "duration": 21,
    "start_time": "2025-02-13T16:38:28.604Z"
   },
   {
    "duration": 42,
    "start_time": "2025-02-13T16:38:28.629Z"
   },
   {
    "duration": 13,
    "start_time": "2025-02-13T16:38:28.673Z"
   },
   {
    "duration": 26,
    "start_time": "2025-02-13T16:38:28.688Z"
   },
   {
    "duration": 15,
    "start_time": "2025-02-13T16:38:28.716Z"
   },
   {
    "duration": 31,
    "start_time": "2025-02-13T16:38:28.733Z"
   },
   {
    "duration": 390,
    "start_time": "2025-02-13T16:38:28.766Z"
   },
   {
    "duration": 324,
    "start_time": "2025-02-13T16:38:29.158Z"
   },
   {
    "duration": 5,
    "start_time": "2025-02-13T16:38:29.484Z"
   },
   {
    "duration": 246,
    "start_time": "2025-02-13T16:38:29.490Z"
   },
   {
    "duration": 0,
    "start_time": "2025-02-13T16:38:29.739Z"
   },
   {
    "duration": 0,
    "start_time": "2025-02-13T16:38:29.740Z"
   },
   {
    "duration": 0,
    "start_time": "2025-02-13T16:38:29.741Z"
   },
   {
    "duration": 1357,
    "start_time": "2025-02-13T16:40:49.815Z"
   },
   {
    "duration": 101,
    "start_time": "2025-02-13T16:40:51.175Z"
   },
   {
    "duration": 17,
    "start_time": "2025-02-13T16:40:51.277Z"
   },
   {
    "duration": 25,
    "start_time": "2025-02-13T16:40:51.296Z"
   },
   {
    "duration": 7,
    "start_time": "2025-02-13T16:40:51.323Z"
   },
   {
    "duration": 18,
    "start_time": "2025-02-13T16:40:51.332Z"
   },
   {
    "duration": 13,
    "start_time": "2025-02-13T16:40:51.351Z"
   },
   {
    "duration": 49,
    "start_time": "2025-02-13T16:40:51.365Z"
   },
   {
    "duration": 15,
    "start_time": "2025-02-13T16:40:51.416Z"
   },
   {
    "duration": 11,
    "start_time": "2025-02-13T16:40:51.434Z"
   },
   {
    "duration": 15,
    "start_time": "2025-02-13T16:40:51.447Z"
   },
   {
    "duration": 80,
    "start_time": "2025-02-13T16:40:51.464Z"
   },
   {
    "duration": 7,
    "start_time": "2025-02-13T16:40:51.547Z"
   },
   {
    "duration": 21,
    "start_time": "2025-02-13T16:40:51.555Z"
   },
   {
    "duration": 73,
    "start_time": "2025-02-13T16:40:51.578Z"
   },
   {
    "duration": 8,
    "start_time": "2025-02-13T16:40:51.652Z"
   },
   {
    "duration": 337,
    "start_time": "2025-02-13T16:40:51.662Z"
   },
   {
    "duration": 314,
    "start_time": "2025-02-13T16:40:52.002Z"
   },
   {
    "duration": 609,
    "start_time": "2025-02-13T16:40:52.320Z"
   },
   {
    "duration": 305,
    "start_time": "2025-02-13T16:40:52.932Z"
   },
   {
    "duration": 295,
    "start_time": "2025-02-13T16:40:53.239Z"
   },
   {
    "duration": 368,
    "start_time": "2025-02-13T16:40:53.536Z"
   },
   {
    "duration": 349,
    "start_time": "2025-02-13T16:40:53.906Z"
   },
   {
    "duration": 8,
    "start_time": "2025-02-13T16:40:54.257Z"
   },
   {
    "duration": 305,
    "start_time": "2025-02-13T16:40:54.266Z"
   },
   {
    "duration": 47,
    "start_time": "2025-02-13T16:40:54.573Z"
   },
   {
    "duration": 29,
    "start_time": "2025-02-13T16:40:54.622Z"
   },
   {
    "duration": 19,
    "start_time": "2025-02-13T16:40:54.656Z"
   },
   {
    "duration": 39,
    "start_time": "2025-02-13T16:40:54.678Z"
   },
   {
    "duration": 15,
    "start_time": "2025-02-13T16:40:54.719Z"
   },
   {
    "duration": 13,
    "start_time": "2025-02-13T16:40:54.736Z"
   },
   {
    "duration": 68,
    "start_time": "2025-02-13T16:40:54.751Z"
   },
   {
    "duration": 363,
    "start_time": "2025-02-13T16:40:54.821Z"
   },
   {
    "duration": 371,
    "start_time": "2025-02-13T16:40:55.185Z"
   },
   {
    "duration": 4,
    "start_time": "2025-02-13T16:40:55.558Z"
   },
   {
    "duration": 426041,
    "start_time": "2025-02-13T16:40:55.564Z"
   },
   {
    "duration": 6,
    "start_time": "2025-02-13T16:48:01.607Z"
   },
   {
    "duration": 89,
    "start_time": "2025-02-13T16:48:01.615Z"
   },
   {
    "duration": 1642,
    "start_time": "2025-02-13T16:48:01.706Z"
   },
   {
    "duration": 1405,
    "start_time": "2025-02-13T16:59:05.882Z"
   },
   {
    "duration": 99,
    "start_time": "2025-02-13T16:59:07.289Z"
   },
   {
    "duration": 24,
    "start_time": "2025-02-13T16:59:07.390Z"
   },
   {
    "duration": 20,
    "start_time": "2025-02-13T16:59:07.417Z"
   },
   {
    "duration": 15,
    "start_time": "2025-02-13T16:59:07.439Z"
   },
   {
    "duration": 18,
    "start_time": "2025-02-13T16:59:07.456Z"
   },
   {
    "duration": 36,
    "start_time": "2025-02-13T16:59:07.476Z"
   },
   {
    "duration": 23,
    "start_time": "2025-02-13T16:59:07.514Z"
   },
   {
    "duration": 47,
    "start_time": "2025-02-13T16:59:07.539Z"
   },
   {
    "duration": 67,
    "start_time": "2025-02-13T16:59:07.589Z"
   },
   {
    "duration": 17,
    "start_time": "2025-02-13T16:59:07.658Z"
   },
   {
    "duration": 61,
    "start_time": "2025-02-13T16:59:07.676Z"
   },
   {
    "duration": 7,
    "start_time": "2025-02-13T16:59:07.739Z"
   },
   {
    "duration": 49,
    "start_time": "2025-02-13T16:59:07.748Z"
   },
   {
    "duration": 33,
    "start_time": "2025-02-13T16:59:07.799Z"
   },
   {
    "duration": 25,
    "start_time": "2025-02-13T16:59:07.834Z"
   },
   {
    "duration": 329,
    "start_time": "2025-02-13T16:59:07.861Z"
   },
   {
    "duration": 318,
    "start_time": "2025-02-13T16:59:08.191Z"
   },
   {
    "duration": 619,
    "start_time": "2025-02-13T16:59:08.511Z"
   },
   {
    "duration": 310,
    "start_time": "2025-02-13T16:59:09.131Z"
   },
   {
    "duration": 302,
    "start_time": "2025-02-13T16:59:09.443Z"
   },
   {
    "duration": 387,
    "start_time": "2025-02-13T16:59:09.747Z"
   },
   {
    "duration": 327,
    "start_time": "2025-02-13T16:59:10.136Z"
   },
   {
    "duration": 13,
    "start_time": "2025-02-13T16:59:10.465Z"
   },
   {
    "duration": 320,
    "start_time": "2025-02-13T16:59:10.480Z"
   },
   {
    "duration": 33,
    "start_time": "2025-02-13T16:59:10.804Z"
   },
   {
    "duration": 20,
    "start_time": "2025-02-13T16:59:10.839Z"
   },
   {
    "duration": 54,
    "start_time": "2025-02-13T16:59:10.863Z"
   },
   {
    "duration": 16,
    "start_time": "2025-02-13T16:59:10.919Z"
   },
   {
    "duration": 36,
    "start_time": "2025-02-13T16:59:10.936Z"
   },
   {
    "duration": 25,
    "start_time": "2025-02-13T16:59:10.974Z"
   },
   {
    "duration": 35,
    "start_time": "2025-02-13T16:59:11.001Z"
   },
   {
    "duration": 381,
    "start_time": "2025-02-13T16:59:11.038Z"
   },
   {
    "duration": 83,
    "start_time": "2025-02-13T16:59:11.422Z"
   },
   {
    "duration": 0,
    "start_time": "2025-02-13T16:59:11.508Z"
   },
   {
    "duration": 0,
    "start_time": "2025-02-13T16:59:11.509Z"
   },
   {
    "duration": 0,
    "start_time": "2025-02-13T16:59:11.511Z"
   },
   {
    "duration": 0,
    "start_time": "2025-02-13T16:59:11.512Z"
   },
   {
    "duration": 0,
    "start_time": "2025-02-13T16:59:11.514Z"
   },
   {
    "duration": 1,
    "start_time": "2025-02-13T16:59:11.515Z"
   },
   {
    "duration": 5,
    "start_time": "2025-02-13T16:59:17.692Z"
   },
   {
    "duration": 123,
    "start_time": "2025-02-13T16:59:42.853Z"
   },
   {
    "duration": 298,
    "start_time": "2025-02-13T17:02:18.445Z"
   },
   {
    "duration": 37,
    "start_time": "2025-02-13T17:03:18.085Z"
   },
   {
    "duration": 7,
    "start_time": "2025-02-13T17:03:37.843Z"
   },
   {
    "duration": 4,
    "start_time": "2025-02-13T17:04:08.125Z"
   },
   {
    "duration": 1298,
    "start_time": "2025-02-13T17:08:47.864Z"
   },
   {
    "duration": 89,
    "start_time": "2025-02-13T17:08:49.163Z"
   },
   {
    "duration": 16,
    "start_time": "2025-02-13T17:08:49.253Z"
   },
   {
    "duration": 78,
    "start_time": "2025-02-13T17:08:49.271Z"
   },
   {
    "duration": 6,
    "start_time": "2025-02-13T17:08:49.351Z"
   },
   {
    "duration": 21,
    "start_time": "2025-02-13T17:08:49.358Z"
   },
   {
    "duration": 9,
    "start_time": "2025-02-13T17:08:49.381Z"
   },
   {
    "duration": 18,
    "start_time": "2025-02-13T17:08:49.392Z"
   },
   {
    "duration": 16,
    "start_time": "2025-02-13T17:08:49.412Z"
   },
   {
    "duration": 17,
    "start_time": "2025-02-13T17:08:49.431Z"
   },
   {
    "duration": 18,
    "start_time": "2025-02-13T17:08:49.450Z"
   },
   {
    "duration": 48,
    "start_time": "2025-02-13T17:08:49.470Z"
   },
   {
    "duration": 8,
    "start_time": "2025-02-13T17:08:49.520Z"
   },
   {
    "duration": 12,
    "start_time": "2025-02-13T17:08:49.530Z"
   },
   {
    "duration": 17,
    "start_time": "2025-02-13T17:08:49.544Z"
   },
   {
    "duration": 38,
    "start_time": "2025-02-13T17:08:49.562Z"
   },
   {
    "duration": 268,
    "start_time": "2025-02-13T17:08:49.602Z"
   },
   {
    "duration": 297,
    "start_time": "2025-02-13T17:08:49.873Z"
   },
   {
    "duration": 637,
    "start_time": "2025-02-13T17:08:50.172Z"
   },
   {
    "duration": 224,
    "start_time": "2025-02-13T17:08:50.810Z"
   },
   {
    "duration": 276,
    "start_time": "2025-02-13T17:08:51.036Z"
   },
   {
    "duration": 320,
    "start_time": "2025-02-13T17:08:51.314Z"
   },
   {
    "duration": 290,
    "start_time": "2025-02-13T17:08:51.636Z"
   },
   {
    "duration": 10,
    "start_time": "2025-02-13T17:08:51.928Z"
   },
   {
    "duration": 300,
    "start_time": "2025-02-13T17:08:51.940Z"
   },
   {
    "duration": 26,
    "start_time": "2025-02-13T17:08:52.241Z"
   },
   {
    "duration": 35,
    "start_time": "2025-02-13T17:08:52.268Z"
   },
   {
    "duration": 19,
    "start_time": "2025-02-13T17:08:52.307Z"
   },
   {
    "duration": 34,
    "start_time": "2025-02-13T17:08:52.328Z"
   },
   {
    "duration": 16,
    "start_time": "2025-02-13T17:08:52.364Z"
   },
   {
    "duration": 21,
    "start_time": "2025-02-13T17:08:52.381Z"
   },
   {
    "duration": 38,
    "start_time": "2025-02-13T17:08:52.404Z"
   },
   {
    "duration": 340,
    "start_time": "2025-02-13T17:08:52.443Z"
   },
   {
    "duration": 14,
    "start_time": "2025-02-13T17:08:52.785Z"
   },
   {
    "duration": 330,
    "start_time": "2025-02-13T17:08:52.801Z"
   },
   {
    "duration": 9,
    "start_time": "2025-02-13T17:08:53.133Z"
   },
   {
    "duration": 26,
    "start_time": "2025-02-13T17:08:53.144Z"
   },
   {
    "duration": 120,
    "start_time": "2025-02-13T17:08:53.172Z"
   },
   {
    "duration": 0,
    "start_time": "2025-02-13T17:08:53.294Z"
   },
   {
    "duration": 0,
    "start_time": "2025-02-13T17:08:53.299Z"
   },
   {
    "duration": 0,
    "start_time": "2025-02-13T17:08:53.300Z"
   },
   {
    "duration": 0,
    "start_time": "2025-02-13T17:08:53.301Z"
   },
   {
    "duration": 0,
    "start_time": "2025-02-13T17:08:53.302Z"
   },
   {
    "duration": 1213,
    "start_time": "2025-02-13T17:11:14.851Z"
   },
   {
    "duration": 91,
    "start_time": "2025-02-13T17:11:16.067Z"
   },
   {
    "duration": 16,
    "start_time": "2025-02-13T17:11:16.159Z"
   },
   {
    "duration": 15,
    "start_time": "2025-02-13T17:11:16.177Z"
   },
   {
    "duration": 18,
    "start_time": "2025-02-13T17:11:16.194Z"
   },
   {
    "duration": 18,
    "start_time": "2025-02-13T17:11:16.214Z"
   },
   {
    "duration": 10,
    "start_time": "2025-02-13T17:11:16.233Z"
   },
   {
    "duration": 11,
    "start_time": "2025-02-13T17:11:16.244Z"
   },
   {
    "duration": 11,
    "start_time": "2025-02-13T17:11:16.257Z"
   },
   {
    "duration": 31,
    "start_time": "2025-02-13T17:11:16.270Z"
   },
   {
    "duration": 16,
    "start_time": "2025-02-13T17:11:16.303Z"
   },
   {
    "duration": 43,
    "start_time": "2025-02-13T17:11:16.321Z"
   },
   {
    "duration": 7,
    "start_time": "2025-02-13T17:11:16.366Z"
   },
   {
    "duration": 25,
    "start_time": "2025-02-13T17:11:16.375Z"
   },
   {
    "duration": 19,
    "start_time": "2025-02-13T17:11:16.402Z"
   },
   {
    "duration": 8,
    "start_time": "2025-02-13T17:11:16.423Z"
   },
   {
    "duration": 328,
    "start_time": "2025-02-13T17:11:16.432Z"
   },
   {
    "duration": 288,
    "start_time": "2025-02-13T17:11:16.762Z"
   },
   {
    "duration": 580,
    "start_time": "2025-02-13T17:11:17.052Z"
   },
   {
    "duration": 276,
    "start_time": "2025-02-13T17:11:17.634Z"
   },
   {
    "duration": 223,
    "start_time": "2025-02-13T17:11:17.913Z"
   },
   {
    "duration": 305,
    "start_time": "2025-02-13T17:11:18.139Z"
   },
   {
    "duration": 296,
    "start_time": "2025-02-13T17:11:18.446Z"
   },
   {
    "duration": 8,
    "start_time": "2025-02-13T17:11:18.744Z"
   },
   {
    "duration": 280,
    "start_time": "2025-02-13T17:11:18.754Z"
   },
   {
    "duration": 26,
    "start_time": "2025-02-13T17:11:19.036Z"
   },
   {
    "duration": 38,
    "start_time": "2025-02-13T17:11:19.063Z"
   },
   {
    "duration": 82,
    "start_time": "2025-02-13T17:11:19.104Z"
   },
   {
    "duration": 14,
    "start_time": "2025-02-13T17:11:19.187Z"
   },
   {
    "duration": 16,
    "start_time": "2025-02-13T17:11:19.202Z"
   },
   {
    "duration": 12,
    "start_time": "2025-02-13T17:11:19.220Z"
   },
   {
    "duration": 33,
    "start_time": "2025-02-13T17:11:19.234Z"
   },
   {
    "duration": 426,
    "start_time": "2025-02-13T17:11:19.269Z"
   },
   {
    "duration": 6,
    "start_time": "2025-02-13T17:11:19.699Z"
   },
   {
    "duration": 369,
    "start_time": "2025-02-13T17:11:19.707Z"
   },
   {
    "duration": 8,
    "start_time": "2025-02-13T17:11:20.078Z"
   },
   {
    "duration": 24,
    "start_time": "2025-02-13T17:11:20.098Z"
   },
   {
    "duration": 154564,
    "start_time": "2025-02-13T17:11:20.124Z"
   },
   {
    "duration": 0,
    "start_time": "2025-02-13T17:13:54.691Z"
   },
   {
    "duration": 1,
    "start_time": "2025-02-13T17:13:54.693Z"
   },
   {
    "duration": 0,
    "start_time": "2025-02-13T17:13:54.700Z"
   },
   {
    "duration": 0,
    "start_time": "2025-02-13T17:13:54.702Z"
   },
   {
    "duration": 0,
    "start_time": "2025-02-13T17:13:54.703Z"
   },
   {
    "duration": 134,
    "start_time": "2025-02-13T17:15:10.357Z"
   },
   {
    "duration": 621,
    "start_time": "2025-02-13T17:25:05.708Z"
   },
   {
    "duration": 0,
    "start_time": "2025-02-13T17:25:06.334Z"
   },
   {
    "duration": 0,
    "start_time": "2025-02-13T17:25:06.335Z"
   },
   {
    "duration": 0,
    "start_time": "2025-02-13T17:25:06.336Z"
   },
   {
    "duration": 0,
    "start_time": "2025-02-13T17:25:06.337Z"
   },
   {
    "duration": 0,
    "start_time": "2025-02-13T17:25:06.338Z"
   },
   {
    "duration": 0,
    "start_time": "2025-02-13T17:25:06.339Z"
   },
   {
    "duration": 0,
    "start_time": "2025-02-13T17:25:06.341Z"
   },
   {
    "duration": 0,
    "start_time": "2025-02-13T17:25:06.342Z"
   },
   {
    "duration": 0,
    "start_time": "2025-02-13T17:25:06.343Z"
   },
   {
    "duration": 0,
    "start_time": "2025-02-13T17:25:06.344Z"
   },
   {
    "duration": 0,
    "start_time": "2025-02-13T17:25:06.345Z"
   },
   {
    "duration": 0,
    "start_time": "2025-02-13T17:25:06.346Z"
   },
   {
    "duration": 0,
    "start_time": "2025-02-13T17:25:06.348Z"
   },
   {
    "duration": 0,
    "start_time": "2025-02-13T17:25:06.349Z"
   },
   {
    "duration": 0,
    "start_time": "2025-02-13T17:25:06.350Z"
   },
   {
    "duration": 0,
    "start_time": "2025-02-13T17:25:06.351Z"
   },
   {
    "duration": 0,
    "start_time": "2025-02-13T17:25:06.352Z"
   },
   {
    "duration": 0,
    "start_time": "2025-02-13T17:25:06.353Z"
   },
   {
    "duration": 0,
    "start_time": "2025-02-13T17:25:06.355Z"
   },
   {
    "duration": 0,
    "start_time": "2025-02-13T17:25:06.356Z"
   },
   {
    "duration": 0,
    "start_time": "2025-02-13T17:25:06.357Z"
   },
   {
    "duration": 0,
    "start_time": "2025-02-13T17:25:06.358Z"
   },
   {
    "duration": 0,
    "start_time": "2025-02-13T17:25:06.359Z"
   },
   {
    "duration": 0,
    "start_time": "2025-02-13T17:25:06.360Z"
   },
   {
    "duration": 0,
    "start_time": "2025-02-13T17:25:06.361Z"
   },
   {
    "duration": 0,
    "start_time": "2025-02-13T17:25:06.363Z"
   },
   {
    "duration": 0,
    "start_time": "2025-02-13T17:25:06.363Z"
   },
   {
    "duration": 0,
    "start_time": "2025-02-13T17:25:06.365Z"
   },
   {
    "duration": 0,
    "start_time": "2025-02-13T17:25:06.366Z"
   },
   {
    "duration": 0,
    "start_time": "2025-02-13T17:25:06.367Z"
   },
   {
    "duration": 0,
    "start_time": "2025-02-13T17:25:06.368Z"
   },
   {
    "duration": 0,
    "start_time": "2025-02-13T17:25:06.369Z"
   },
   {
    "duration": 0,
    "start_time": "2025-02-13T17:25:06.370Z"
   },
   {
    "duration": 0,
    "start_time": "2025-02-13T17:25:06.400Z"
   },
   {
    "duration": 0,
    "start_time": "2025-02-13T17:25:06.401Z"
   },
   {
    "duration": 0,
    "start_time": "2025-02-13T17:25:06.402Z"
   },
   {
    "duration": 0,
    "start_time": "2025-02-13T17:25:06.403Z"
   },
   {
    "duration": 0,
    "start_time": "2025-02-13T17:25:06.404Z"
   },
   {
    "duration": 1,
    "start_time": "2025-02-13T17:25:06.405Z"
   },
   {
    "duration": 0,
    "start_time": "2025-02-13T17:25:06.407Z"
   },
   {
    "duration": 0,
    "start_time": "2025-02-13T17:25:06.408Z"
   },
   {
    "duration": 0,
    "start_time": "2025-02-13T17:25:06.409Z"
   },
   {
    "duration": 474,
    "start_time": "2025-02-13T17:25:51.850Z"
   },
   {
    "duration": 5768,
    "start_time": "2025-02-13T17:26:54.976Z"
   },
   {
    "duration": 3153,
    "start_time": "2025-02-13T17:34:44.926Z"
   },
   {
    "duration": 307,
    "start_time": "2025-02-13T17:37:09.753Z"
   },
   {
    "duration": 551,
    "start_time": "2025-02-13T17:41:34.224Z"
   },
   {
    "duration": 0,
    "start_time": "2025-02-13T17:41:34.780Z"
   },
   {
    "duration": 0,
    "start_time": "2025-02-13T17:41:34.782Z"
   },
   {
    "duration": 0,
    "start_time": "2025-02-13T17:41:34.784Z"
   },
   {
    "duration": 0,
    "start_time": "2025-02-13T17:41:34.785Z"
   },
   {
    "duration": 0,
    "start_time": "2025-02-13T17:41:34.787Z"
   },
   {
    "duration": 0,
    "start_time": "2025-02-13T17:41:34.788Z"
   },
   {
    "duration": 0,
    "start_time": "2025-02-13T17:41:34.790Z"
   },
   {
    "duration": 0,
    "start_time": "2025-02-13T17:41:34.791Z"
   },
   {
    "duration": 0,
    "start_time": "2025-02-13T17:41:34.793Z"
   },
   {
    "duration": 0,
    "start_time": "2025-02-13T17:41:34.795Z"
   },
   {
    "duration": 0,
    "start_time": "2025-02-13T17:41:34.796Z"
   },
   {
    "duration": 0,
    "start_time": "2025-02-13T17:41:34.798Z"
   },
   {
    "duration": 0,
    "start_time": "2025-02-13T17:41:34.799Z"
   },
   {
    "duration": 0,
    "start_time": "2025-02-13T17:41:34.801Z"
   },
   {
    "duration": 0,
    "start_time": "2025-02-13T17:41:34.802Z"
   },
   {
    "duration": 0,
    "start_time": "2025-02-13T17:41:34.804Z"
   },
   {
    "duration": 0,
    "start_time": "2025-02-13T17:41:34.805Z"
   },
   {
    "duration": 0,
    "start_time": "2025-02-13T17:41:34.806Z"
   },
   {
    "duration": 0,
    "start_time": "2025-02-13T17:41:34.808Z"
   },
   {
    "duration": 0,
    "start_time": "2025-02-13T17:41:34.809Z"
   },
   {
    "duration": 0,
    "start_time": "2025-02-13T17:41:34.810Z"
   },
   {
    "duration": 0,
    "start_time": "2025-02-13T17:41:34.812Z"
   },
   {
    "duration": 0,
    "start_time": "2025-02-13T17:41:34.812Z"
   },
   {
    "duration": 0,
    "start_time": "2025-02-13T17:41:34.813Z"
   },
   {
    "duration": 0,
    "start_time": "2025-02-13T17:41:34.814Z"
   },
   {
    "duration": 0,
    "start_time": "2025-02-13T17:41:34.816Z"
   },
   {
    "duration": 0,
    "start_time": "2025-02-13T17:41:34.817Z"
   },
   {
    "duration": 0,
    "start_time": "2025-02-13T17:41:34.818Z"
   },
   {
    "duration": 0,
    "start_time": "2025-02-13T17:41:34.819Z"
   },
   {
    "duration": 0,
    "start_time": "2025-02-13T17:41:34.820Z"
   },
   {
    "duration": 0,
    "start_time": "2025-02-13T17:41:34.821Z"
   },
   {
    "duration": 0,
    "start_time": "2025-02-13T17:41:34.822Z"
   },
   {
    "duration": 0,
    "start_time": "2025-02-13T17:41:34.823Z"
   },
   {
    "duration": 0,
    "start_time": "2025-02-13T17:41:34.824Z"
   },
   {
    "duration": 0,
    "start_time": "2025-02-13T17:41:34.825Z"
   },
   {
    "duration": 0,
    "start_time": "2025-02-13T17:41:34.826Z"
   },
   {
    "duration": 0,
    "start_time": "2025-02-13T17:41:34.827Z"
   },
   {
    "duration": 0,
    "start_time": "2025-02-13T17:41:34.828Z"
   },
   {
    "duration": 0,
    "start_time": "2025-02-13T17:41:34.829Z"
   },
   {
    "duration": 0,
    "start_time": "2025-02-13T17:41:34.830Z"
   },
   {
    "duration": 0,
    "start_time": "2025-02-13T17:41:34.832Z"
   },
   {
    "duration": 0,
    "start_time": "2025-02-13T17:41:34.833Z"
   },
   {
    "duration": 16626,
    "start_time": "2025-02-13T17:56:48.725Z"
   },
   {
    "duration": 0,
    "start_time": "2025-02-13T17:57:05.353Z"
   },
   {
    "duration": 36751,
    "start_time": "2025-02-13T18:09:19.161Z"
   },
   {
    "duration": 342159,
    "start_time": "2025-02-13T18:10:34.577Z"
   },
   {
    "duration": 0,
    "start_time": "2025-02-13T18:16:16.738Z"
   },
   {
    "duration": 38074,
    "start_time": "2025-02-13T18:29:32.957Z"
   },
   {
    "duration": 194,
    "start_time": "2025-02-13T18:30:11.033Z"
   },
   {
    "duration": 77,
    "start_time": "2025-02-13T18:30:11.229Z"
   },
   {
    "duration": 18,
    "start_time": "2025-02-13T18:30:11.309Z"
   },
   {
    "duration": 6,
    "start_time": "2025-02-13T18:30:11.329Z"
   },
   {
    "duration": 18,
    "start_time": "2025-02-13T18:30:11.400Z"
   },
   {
    "duration": 9,
    "start_time": "2025-02-13T18:30:11.421Z"
   },
   {
    "duration": 75,
    "start_time": "2025-02-13T18:30:11.432Z"
   },
   {
    "duration": 15,
    "start_time": "2025-02-13T18:30:11.509Z"
   },
   {
    "duration": 72,
    "start_time": "2025-02-13T18:30:11.527Z"
   },
   {
    "duration": 15,
    "start_time": "2025-02-13T18:30:11.601Z"
   },
   {
    "duration": 96,
    "start_time": "2025-02-13T18:30:11.618Z"
   },
   {
    "duration": 8,
    "start_time": "2025-02-13T18:30:11.716Z"
   },
   {
    "duration": 81,
    "start_time": "2025-02-13T18:30:11.725Z"
   },
   {
    "duration": 25,
    "start_time": "2025-02-13T18:30:11.809Z"
   },
   {
    "duration": 67,
    "start_time": "2025-02-13T18:30:11.836Z"
   },
   {
    "duration": 740,
    "start_time": "2025-02-13T18:30:11.905Z"
   },
   {
    "duration": 832,
    "start_time": "2025-02-13T18:30:12.699Z"
   },
   {
    "duration": 1701,
    "start_time": "2025-02-13T18:30:13.534Z"
   },
   {
    "duration": 589,
    "start_time": "2025-02-13T18:30:15.237Z"
   },
   {
    "duration": 599,
    "start_time": "2025-02-13T18:30:15.828Z"
   },
   {
    "duration": 592,
    "start_time": "2025-02-13T18:30:16.429Z"
   },
   {
    "duration": 584,
    "start_time": "2025-02-13T18:30:17.023Z"
   },
   {
    "duration": 10,
    "start_time": "2025-02-13T18:30:17.609Z"
   },
   {
    "duration": 604,
    "start_time": "2025-02-13T18:30:17.621Z"
   },
   {
    "duration": 86,
    "start_time": "2025-02-13T18:30:18.228Z"
   },
   {
    "duration": 85,
    "start_time": "2025-02-13T18:30:18.315Z"
   },
   {
    "duration": 28,
    "start_time": "2025-02-13T18:30:18.405Z"
   },
   {
    "duration": 77,
    "start_time": "2025-02-13T18:30:18.435Z"
   },
   {
    "duration": 17,
    "start_time": "2025-02-13T18:30:18.514Z"
   },
   {
    "duration": 68,
    "start_time": "2025-02-13T18:30:18.533Z"
   },
   {
    "duration": 101,
    "start_time": "2025-02-13T18:30:18.603Z"
   },
   {
    "duration": 525,
    "start_time": "2025-02-13T18:30:18.706Z"
   },
   {
    "duration": 6,
    "start_time": "2025-02-13T18:30:19.233Z"
   },
   {
    "duration": 68,
    "start_time": "2025-02-13T18:30:19.241Z"
   },
   {
    "duration": 8,
    "start_time": "2025-02-13T18:30:19.311Z"
   },
   {
    "duration": 5,
    "start_time": "2025-02-13T18:30:19.321Z"
   },
   {
    "duration": 32690,
    "start_time": "2025-02-13T18:30:19.328Z"
   },
   {
    "duration": 37115,
    "start_time": "2025-02-13T18:32:55.599Z"
   },
   {
    "duration": 183,
    "start_time": "2025-02-13T18:33:32.716Z"
   },
   {
    "duration": 20,
    "start_time": "2025-02-13T18:33:32.902Z"
   },
   {
    "duration": 183,
    "start_time": "2025-02-13T18:33:32.924Z"
   },
   {
    "duration": 109,
    "start_time": "2025-02-13T18:33:33.198Z"
   },
   {
    "duration": 197,
    "start_time": "2025-02-13T18:33:33.311Z"
   },
   {
    "duration": 16,
    "start_time": "2025-02-13T18:33:33.510Z"
   },
   {
    "duration": 75,
    "start_time": "2025-02-13T18:33:33.528Z"
   },
   {
    "duration": 15,
    "start_time": "2025-02-13T18:33:33.605Z"
   },
   {
    "duration": 15,
    "start_time": "2025-02-13T18:33:33.622Z"
   },
   {
    "duration": 22,
    "start_time": "2025-02-13T18:33:33.701Z"
   },
   {
    "duration": 114,
    "start_time": "2025-02-13T18:33:33.726Z"
   },
   {
    "duration": 61,
    "start_time": "2025-02-13T18:33:33.842Z"
   },
   {
    "duration": 102,
    "start_time": "2025-02-13T18:33:33.908Z"
   },
   {
    "duration": 101,
    "start_time": "2025-02-13T18:33:34.012Z"
   },
   {
    "duration": 22,
    "start_time": "2025-02-13T18:33:34.115Z"
   },
   {
    "duration": 760,
    "start_time": "2025-02-13T18:33:34.139Z"
   },
   {
    "duration": 830,
    "start_time": "2025-02-13T18:33:34.902Z"
   },
   {
    "duration": 1611,
    "start_time": "2025-02-13T18:33:35.734Z"
   },
   {
    "duration": 604,
    "start_time": "2025-02-13T18:33:37.398Z"
   },
   {
    "duration": 536,
    "start_time": "2025-02-13T18:33:38.004Z"
   },
   {
    "duration": 658,
    "start_time": "2025-02-13T18:33:38.541Z"
   },
   {
    "duration": 610,
    "start_time": "2025-02-13T18:33:39.201Z"
   },
   {
    "duration": 8,
    "start_time": "2025-02-13T18:33:39.813Z"
   },
   {
    "duration": 686,
    "start_time": "2025-02-13T18:33:39.823Z"
   },
   {
    "duration": 30,
    "start_time": "2025-02-13T18:33:40.511Z"
   },
   {
    "duration": 21,
    "start_time": "2025-02-13T18:33:40.599Z"
   },
   {
    "duration": 84,
    "start_time": "2025-02-13T18:33:40.622Z"
   },
   {
    "duration": 15,
    "start_time": "2025-02-13T18:33:40.708Z"
   },
   {
    "duration": 80,
    "start_time": "2025-02-13T18:33:40.725Z"
   },
   {
    "duration": 12,
    "start_time": "2025-02-13T18:33:40.807Z"
   },
   {
    "duration": 98,
    "start_time": "2025-02-13T18:33:40.821Z"
   },
   {
    "duration": 587,
    "start_time": "2025-02-13T18:33:40.921Z"
   },
   {
    "duration": 6,
    "start_time": "2025-02-13T18:33:41.510Z"
   },
   {
    "duration": 5,
    "start_time": "2025-02-13T18:33:41.518Z"
   },
   {
    "duration": 74,
    "start_time": "2025-02-13T18:33:41.525Z"
   },
   {
    "duration": 8,
    "start_time": "2025-02-13T18:33:41.602Z"
   },
   {
    "duration": 6,
    "start_time": "2025-02-13T18:33:41.611Z"
   },
   {
    "duration": 0,
    "start_time": "2025-02-13T18:33:41.619Z"
   },
   {
    "duration": 0,
    "start_time": "2025-02-13T18:33:41.621Z"
   },
   {
    "duration": 0,
    "start_time": "2025-02-13T18:33:41.622Z"
   },
   {
    "duration": 0,
    "start_time": "2025-02-13T18:33:41.624Z"
   },
   {
    "duration": 5,
    "start_time": "2025-02-13T18:33:59.805Z"
   },
   {
    "duration": 7,
    "start_time": "2025-02-13T18:34:04.624Z"
   },
   {
    "duration": 241553,
    "start_time": "2025-02-13T18:34:06.646Z"
   },
   {
    "duration": 53,
    "start_time": "2025-02-14T08:45:33.321Z"
   },
   {
    "duration": 50933,
    "start_time": "2025-02-14T08:45:39.214Z"
   },
   {
    "duration": 107,
    "start_time": "2025-02-14T08:46:30.149Z"
   },
   {
    "duration": 21,
    "start_time": "2025-02-14T08:46:30.258Z"
   },
   {
    "duration": 67,
    "start_time": "2025-02-14T08:46:30.281Z"
   },
   {
    "duration": 105,
    "start_time": "2025-02-14T08:46:30.350Z"
   },
   {
    "duration": 63,
    "start_time": "2025-02-14T08:46:30.457Z"
   },
   {
    "duration": 50,
    "start_time": "2025-02-14T08:46:30.522Z"
   },
   {
    "duration": 40,
    "start_time": "2025-02-14T08:46:30.574Z"
   },
   {
    "duration": 38,
    "start_time": "2025-02-14T08:46:30.616Z"
   },
   {
    "duration": 47,
    "start_time": "2025-02-14T08:46:30.657Z"
   },
   {
    "duration": 44,
    "start_time": "2025-02-14T08:46:30.706Z"
   },
   {
    "duration": 52,
    "start_time": "2025-02-14T08:46:30.752Z"
   },
   {
    "duration": 9,
    "start_time": "2025-02-14T08:46:30.805Z"
   },
   {
    "duration": 120,
    "start_time": "2025-02-14T08:46:30.816Z"
   },
   {
    "duration": 29,
    "start_time": "2025-02-14T08:46:30.938Z"
   },
   {
    "duration": 35,
    "start_time": "2025-02-14T08:46:30.968Z"
   },
   {
    "duration": 633,
    "start_time": "2025-02-14T08:46:31.005Z"
   },
   {
    "duration": 391,
    "start_time": "2025-02-14T08:46:31.639Z"
   },
   {
    "duration": 914,
    "start_time": "2025-02-14T08:46:32.032Z"
   },
   {
    "duration": 354,
    "start_time": "2025-02-14T08:46:32.956Z"
   },
   {
    "duration": 475,
    "start_time": "2025-02-14T08:46:33.312Z"
   },
   {
    "duration": 407,
    "start_time": "2025-02-14T08:46:33.788Z"
   },
   {
    "duration": 402,
    "start_time": "2025-02-14T08:46:34.196Z"
   },
   {
    "duration": 9,
    "start_time": "2025-02-14T08:46:34.600Z"
   },
   {
    "duration": 482,
    "start_time": "2025-02-14T08:46:34.611Z"
   },
   {
    "duration": 26,
    "start_time": "2025-02-14T08:46:35.095Z"
   },
   {
    "duration": 38,
    "start_time": "2025-02-14T08:46:35.123Z"
   },
   {
    "duration": 20,
    "start_time": "2025-02-14T08:46:35.165Z"
   },
   {
    "duration": 88,
    "start_time": "2025-02-14T08:46:35.186Z"
   },
   {
    "duration": 141,
    "start_time": "2025-02-14T08:46:35.276Z"
   },
   {
    "duration": 77,
    "start_time": "2025-02-14T08:46:35.419Z"
   },
   {
    "duration": 204,
    "start_time": "2025-02-14T08:46:35.497Z"
   },
   {
    "duration": 469,
    "start_time": "2025-02-14T08:46:35.703Z"
   },
   {
    "duration": 6,
    "start_time": "2025-02-14T08:46:36.174Z"
   },
   {
    "duration": 21,
    "start_time": "2025-02-14T08:46:36.181Z"
   },
   {
    "duration": 48,
    "start_time": "2025-02-14T08:46:36.204Z"
   },
   {
    "duration": 24,
    "start_time": "2025-02-14T08:46:36.254Z"
   },
   {
    "duration": 38,
    "start_time": "2025-02-14T08:46:36.279Z"
   },
   {
    "duration": 28,
    "start_time": "2025-02-14T08:46:36.318Z"
   },
   {
    "duration": 111946,
    "start_time": "2025-02-14T08:46:36.347Z"
   },
   {
    "duration": 18888776,
    "start_time": "2025-02-14T08:48:28.295Z"
   },
   {
    "duration": 1672,
    "start_time": "2025-02-14T14:03:17.076Z"
   },
   {
    "duration": 179,
    "start_time": "2025-02-15T15:51:30.963Z"
   },
   {
    "duration": 13,
    "start_time": "2025-02-15T15:52:41.384Z"
   },
   {
    "duration": 15,
    "start_time": "2025-02-15T15:53:04.235Z"
   },
   {
    "duration": 14,
    "start_time": "2025-02-15T15:53:41.499Z"
   },
   {
    "duration": 13,
    "start_time": "2025-02-15T15:53:52.460Z"
   },
   {
    "duration": 17,
    "start_time": "2025-02-15T15:54:09.171Z"
   },
   {
    "duration": 5,
    "start_time": "2025-02-15T16:01:14.931Z"
   },
   {
    "duration": 40050,
    "start_time": "2025-02-17T23:08:56.816Z"
   },
   {
    "duration": 3,
    "start_time": "2025-02-17T23:09:36.868Z"
   },
   {
    "duration": 342,
    "start_time": "2025-02-17T23:09:36.872Z"
   },
   {
    "duration": 19,
    "start_time": "2025-02-17T23:09:37.217Z"
   },
   {
    "duration": 14,
    "start_time": "2025-02-17T23:09:37.238Z"
   },
   {
    "duration": 5,
    "start_time": "2025-02-17T23:09:37.253Z"
   },
   {
    "duration": 15,
    "start_time": "2025-02-17T23:09:37.260Z"
   },
   {
    "duration": 13,
    "start_time": "2025-02-17T23:09:37.277Z"
   },
   {
    "duration": 54,
    "start_time": "2025-02-17T23:09:37.292Z"
   },
   {
    "duration": 11,
    "start_time": "2025-02-17T23:09:37.348Z"
   },
   {
    "duration": 11,
    "start_time": "2025-02-17T23:09:37.361Z"
   },
   {
    "duration": 19,
    "start_time": "2025-02-17T23:09:37.373Z"
   },
   {
    "duration": 27,
    "start_time": "2025-02-17T23:09:37.394Z"
   },
   {
    "duration": 6,
    "start_time": "2025-02-17T23:09:37.423Z"
   },
   {
    "duration": 23,
    "start_time": "2025-02-17T23:09:37.430Z"
   },
   {
    "duration": 35,
    "start_time": "2025-02-17T23:09:37.455Z"
   },
   {
    "duration": 26,
    "start_time": "2025-02-17T23:09:37.491Z"
   },
   {
    "duration": 604,
    "start_time": "2025-02-17T23:09:37.518Z"
   },
   {
    "duration": 384,
    "start_time": "2025-02-17T23:09:38.123Z"
   },
   {
    "duration": 814,
    "start_time": "2025-02-17T23:09:38.509Z"
   },
   {
    "duration": 354,
    "start_time": "2025-02-17T23:09:39.324Z"
   },
   {
    "duration": 312,
    "start_time": "2025-02-17T23:09:39.680Z"
   },
   {
    "duration": 320,
    "start_time": "2025-02-17T23:09:39.993Z"
   },
   {
    "duration": 369,
    "start_time": "2025-02-17T23:09:40.314Z"
   },
   {
    "duration": 7,
    "start_time": "2025-02-17T23:09:40.684Z"
   },
   {
    "duration": 369,
    "start_time": "2025-02-17T23:09:40.693Z"
   },
   {
    "duration": 25,
    "start_time": "2025-02-17T23:09:41.064Z"
   },
   {
    "duration": 17,
    "start_time": "2025-02-17T23:09:41.093Z"
   },
   {
    "duration": 21,
    "start_time": "2025-02-17T23:09:41.111Z"
   },
   {
    "duration": 34,
    "start_time": "2025-02-17T23:09:41.133Z"
   },
   {
    "duration": 6,
    "start_time": "2025-02-17T23:09:41.169Z"
   },
   {
    "duration": 28,
    "start_time": "2025-02-17T23:09:41.176Z"
   },
   {
    "duration": 28,
    "start_time": "2025-02-17T23:09:41.205Z"
   },
   {
    "duration": 21313,
    "start_time": "2025-02-17T23:13:46.146Z"
   },
   {
    "duration": 3,
    "start_time": "2025-02-17T23:14:07.460Z"
   },
   {
    "duration": 319,
    "start_time": "2025-02-17T23:14:07.464Z"
   },
   {
    "duration": 18,
    "start_time": "2025-02-17T23:14:07.785Z"
   },
   {
    "duration": 14,
    "start_time": "2025-02-17T23:14:07.805Z"
   },
   {
    "duration": 6,
    "start_time": "2025-02-17T23:14:07.820Z"
   },
   {
    "duration": 31,
    "start_time": "2025-02-17T23:14:07.828Z"
   },
   {
    "duration": 8,
    "start_time": "2025-02-17T23:14:07.860Z"
   },
   {
    "duration": 11,
    "start_time": "2025-02-17T23:14:07.869Z"
   },
   {
    "duration": 33,
    "start_time": "2025-02-17T23:14:07.882Z"
   },
   {
    "duration": 15,
    "start_time": "2025-02-17T23:14:07.917Z"
   },
   {
    "duration": 15,
    "start_time": "2025-02-17T23:14:07.933Z"
   },
   {
    "duration": 34,
    "start_time": "2025-02-17T23:14:07.950Z"
   },
   {
    "duration": 7,
    "start_time": "2025-02-17T23:14:07.985Z"
   },
   {
    "duration": 17,
    "start_time": "2025-02-17T23:14:07.994Z"
   },
   {
    "duration": 36,
    "start_time": "2025-02-17T23:14:08.013Z"
   },
   {
    "duration": 15,
    "start_time": "2025-02-17T23:14:08.051Z"
   },
   {
    "duration": 477,
    "start_time": "2025-02-17T23:14:08.067Z"
   },
   {
    "duration": 470,
    "start_time": "2025-02-17T23:14:08.546Z"
   },
   {
    "duration": 824,
    "start_time": "2025-02-17T23:14:09.017Z"
   },
   {
    "duration": 350,
    "start_time": "2025-02-17T23:14:09.843Z"
   },
   {
    "duration": 314,
    "start_time": "2025-02-17T23:14:10.195Z"
   },
   {
    "duration": 300,
    "start_time": "2025-02-17T23:14:10.510Z"
   },
   {
    "duration": 512,
    "start_time": "2025-02-17T23:14:10.812Z"
   },
   {
    "duration": 8,
    "start_time": "2025-02-17T23:14:11.326Z"
   },
   {
    "duration": 375,
    "start_time": "2025-02-17T23:14:11.335Z"
   },
   {
    "duration": 22,
    "start_time": "2025-02-17T23:14:11.712Z"
   },
   {
    "duration": 29,
    "start_time": "2025-02-17T23:14:11.737Z"
   },
   {
    "duration": 22,
    "start_time": "2025-02-17T23:14:11.768Z"
   },
   {
    "duration": 14,
    "start_time": "2025-02-17T23:14:11.792Z"
   },
   {
    "duration": 6,
    "start_time": "2025-02-17T23:14:11.807Z"
   },
   {
    "duration": 11,
    "start_time": "2025-02-17T23:14:11.814Z"
   },
   {
    "duration": 51,
    "start_time": "2025-02-17T23:14:11.827Z"
   },
   {
    "duration": 26401,
    "start_time": "2025-02-18T10:19:21.848Z"
   },
   {
    "duration": 3,
    "start_time": "2025-02-18T10:19:48.251Z"
   },
   {
    "duration": 394,
    "start_time": "2025-02-18T10:19:48.255Z"
   },
   {
    "duration": 23,
    "start_time": "2025-02-18T10:19:48.651Z"
   },
   {
    "duration": 20,
    "start_time": "2025-02-18T10:19:48.677Z"
   },
   {
    "duration": 10,
    "start_time": "2025-02-18T10:19:48.698Z"
   },
   {
    "duration": 42,
    "start_time": "2025-02-18T10:19:48.710Z"
   },
   {
    "duration": 17,
    "start_time": "2025-02-18T10:19:48.754Z"
   },
   {
    "duration": 21,
    "start_time": "2025-02-18T10:19:48.774Z"
   },
   {
    "duration": 30,
    "start_time": "2025-02-18T10:19:48.798Z"
   },
   {
    "duration": 29,
    "start_time": "2025-02-18T10:19:48.831Z"
   },
   {
    "duration": 19,
    "start_time": "2025-02-18T10:19:48.862Z"
   },
   {
    "duration": 36,
    "start_time": "2025-02-18T10:19:48.884Z"
   },
   {
    "duration": 9,
    "start_time": "2025-02-18T10:19:48.924Z"
   },
   {
    "duration": 38,
    "start_time": "2025-02-18T10:19:48.934Z"
   },
   {
    "duration": 20,
    "start_time": "2025-02-18T10:19:48.974Z"
   },
   {
    "duration": 11,
    "start_time": "2025-02-18T10:19:48.996Z"
   },
   {
    "duration": 547,
    "start_time": "2025-02-18T10:19:49.009Z"
   },
   {
    "duration": 559,
    "start_time": "2025-02-18T10:19:49.559Z"
   },
   {
    "duration": 957,
    "start_time": "2025-02-18T10:19:50.120Z"
   },
   {
    "duration": 439,
    "start_time": "2025-02-18T10:19:51.079Z"
   },
   {
    "duration": 404,
    "start_time": "2025-02-18T10:19:51.521Z"
   },
   {
    "duration": 393,
    "start_time": "2025-02-18T10:19:51.928Z"
   },
   {
    "duration": 400,
    "start_time": "2025-02-18T10:19:52.324Z"
   },
   {
    "duration": 11,
    "start_time": "2025-02-18T10:19:52.726Z"
   },
   {
    "duration": 436,
    "start_time": "2025-02-18T10:19:52.738Z"
   },
   {
    "duration": 30,
    "start_time": "2025-02-18T10:19:53.176Z"
   },
   {
    "duration": 21,
    "start_time": "2025-02-18T10:19:53.209Z"
   },
   {
    "duration": 41,
    "start_time": "2025-02-18T10:19:53.232Z"
   },
   {
    "duration": 20,
    "start_time": "2025-02-18T10:19:53.275Z"
   },
   {
    "duration": 18,
    "start_time": "2025-02-18T10:19:53.297Z"
   },
   {
    "duration": 71,
    "start_time": "2025-02-18T10:19:53.316Z"
   },
   {
    "duration": 171,
    "start_time": "2025-02-18T10:19:53.389Z"
   },
   {
    "duration": 259,
    "start_time": "2025-02-18T10:19:53.562Z"
   },
   {
    "duration": 0,
    "start_time": "2025-02-18T10:19:53.823Z"
   },
   {
    "duration": 0,
    "start_time": "2025-02-18T10:19:53.825Z"
   },
   {
    "duration": 0,
    "start_time": "2025-02-18T10:19:53.826Z"
   },
   {
    "duration": 0,
    "start_time": "2025-02-18T10:19:53.827Z"
   },
   {
    "duration": 0,
    "start_time": "2025-02-18T10:19:53.828Z"
   },
   {
    "duration": 0,
    "start_time": "2025-02-18T10:19:53.830Z"
   },
   {
    "duration": 0,
    "start_time": "2025-02-18T10:19:53.830Z"
   },
   {
    "duration": 0,
    "start_time": "2025-02-18T10:19:53.831Z"
   },
   {
    "duration": 0,
    "start_time": "2025-02-18T10:19:53.833Z"
   },
   {
    "duration": 0,
    "start_time": "2025-02-18T10:19:53.835Z"
   },
   {
    "duration": 0,
    "start_time": "2025-02-18T10:19:53.836Z"
   },
   {
    "duration": 0,
    "start_time": "2025-02-18T10:19:53.863Z"
   },
   {
    "duration": 0,
    "start_time": "2025-02-18T10:19:53.865Z"
   },
   {
    "duration": 6,
    "start_time": "2025-02-18T10:20:22.687Z"
   },
   {
    "duration": 91,
    "start_time": "2025-02-18T10:20:24.687Z"
   },
   {
    "duration": 14683,
    "start_time": "2025-02-18T10:20:46.552Z"
   },
   {
    "duration": 1305,
    "start_time": "2025-02-18T10:21:01.237Z"
   },
   {
    "duration": 5,
    "start_time": "2025-02-18T10:21:07.079Z"
   },
   {
    "duration": 19104,
    "start_time": "2025-02-18T10:21:26.220Z"
   },
   {
    "duration": 2,
    "start_time": "2025-02-18T10:21:45.326Z"
   },
   {
    "duration": 142,
    "start_time": "2025-02-18T10:21:45.330Z"
   },
   {
    "duration": 21,
    "start_time": "2025-02-18T10:21:45.474Z"
   },
   {
    "duration": 32,
    "start_time": "2025-02-18T10:21:45.497Z"
   },
   {
    "duration": 31,
    "start_time": "2025-02-18T10:21:45.531Z"
   },
   {
    "duration": 46,
    "start_time": "2025-02-18T10:21:45.565Z"
   },
   {
    "duration": 74,
    "start_time": "2025-02-18T10:21:45.613Z"
   },
   {
    "duration": 26,
    "start_time": "2025-02-18T10:21:45.689Z"
   },
   {
    "duration": 19,
    "start_time": "2025-02-18T10:21:45.719Z"
   },
   {
    "duration": 12,
    "start_time": "2025-02-18T10:21:45.739Z"
   },
   {
    "duration": 30,
    "start_time": "2025-02-18T10:21:45.753Z"
   },
   {
    "duration": 37,
    "start_time": "2025-02-18T10:21:45.784Z"
   },
   {
    "duration": 8,
    "start_time": "2025-02-18T10:21:45.822Z"
   },
   {
    "duration": 18,
    "start_time": "2025-02-18T10:21:45.831Z"
   },
   {
    "duration": 29,
    "start_time": "2025-02-18T10:21:45.851Z"
   },
   {
    "duration": 24,
    "start_time": "2025-02-18T10:21:45.882Z"
   },
   {
    "duration": 483,
    "start_time": "2025-02-18T10:21:45.908Z"
   },
   {
    "duration": 529,
    "start_time": "2025-02-18T10:21:46.394Z"
   },
   {
    "duration": 928,
    "start_time": "2025-02-18T10:21:46.925Z"
   },
   {
    "duration": 362,
    "start_time": "2025-02-18T10:21:47.855Z"
   },
   {
    "duration": 378,
    "start_time": "2025-02-18T10:21:48.219Z"
   },
   {
    "duration": 410,
    "start_time": "2025-02-18T10:21:48.599Z"
   },
   {
    "duration": 406,
    "start_time": "2025-02-18T10:21:49.011Z"
   },
   {
    "duration": 9,
    "start_time": "2025-02-18T10:21:49.418Z"
   },
   {
    "duration": 490,
    "start_time": "2025-02-18T10:21:49.429Z"
   },
   {
    "duration": 40,
    "start_time": "2025-02-18T10:21:49.921Z"
   },
   {
    "duration": 20,
    "start_time": "2025-02-18T10:21:49.966Z"
   },
   {
    "duration": 24,
    "start_time": "2025-02-18T10:21:49.988Z"
   },
   {
    "duration": 14,
    "start_time": "2025-02-18T10:21:50.015Z"
   },
   {
    "duration": 41,
    "start_time": "2025-02-18T10:21:50.031Z"
   },
   {
    "duration": 56,
    "start_time": "2025-02-18T10:21:50.074Z"
   },
   {
    "duration": 32,
    "start_time": "2025-02-18T10:21:50.132Z"
   },
   {
    "duration": 7,
    "start_time": "2025-02-18T10:21:50.166Z"
   },
   {
    "duration": 12,
    "start_time": "2025-02-18T10:21:50.175Z"
   },
   {
    "duration": 1209,
    "start_time": "2025-02-18T10:21:50.189Z"
   },
   {
    "duration": 1002,
    "start_time": "2025-02-18T10:21:51.400Z"
   },
   {
    "duration": 16,
    "start_time": "2025-02-18T10:21:52.404Z"
   },
   {
    "duration": 42,
    "start_time": "2025-02-18T10:21:52.422Z"
   },
   {
    "duration": 28,
    "start_time": "2025-02-18T10:21:52.466Z"
   },
   {
    "duration": 11,
    "start_time": "2025-02-18T10:21:52.496Z"
   },
   {
    "duration": 28,
    "start_time": "2025-02-18T10:21:52.509Z"
   },
   {
    "duration": 108494,
    "start_time": "2025-02-18T10:21:52.539Z"
   },
   {
    "duration": 18859127,
    "start_time": "2025-02-18T10:23:41.035Z"
   },
   {
    "duration": 1361,
    "start_time": "2025-02-18T15:38:00.164Z"
   },
   {
    "duration": 411,
    "start_time": "2025-02-18T15:38:01.526Z"
   },
   {
    "duration": 0,
    "start_time": "2025-02-18T15:38:01.939Z"
   },
   {
    "duration": 68,
    "start_time": "2025-02-18T15:42:06.452Z"
   },
   {
    "duration": 77,
    "start_time": "2025-02-18T15:42:12.266Z"
   },
   {
    "duration": 173,
    "start_time": "2025-02-18T15:43:20.074Z"
   },
   {
    "duration": 79,
    "start_time": "2025-02-18T15:43:40.297Z"
   },
   {
    "duration": 17,
    "start_time": "2025-02-18T15:44:03.425Z"
   },
   {
    "duration": 83,
    "start_time": "2025-02-18T15:44:26.465Z"
   },
   {
    "duration": 15,
    "start_time": "2025-02-18T15:44:39.601Z"
   },
   {
    "duration": 11,
    "start_time": "2025-02-18T15:45:16.649Z"
   },
   {
    "duration": 8,
    "start_time": "2025-02-18T15:45:26.337Z"
   },
   {
    "duration": 239,
    "start_time": "2025-02-18T15:45:34.377Z"
   },
   {
    "duration": 62305,
    "start_time": "2025-02-19T19:54:30.159Z"
   },
   {
    "duration": 3,
    "start_time": "2025-02-19T19:55:32.467Z"
   },
   {
    "duration": 202,
    "start_time": "2025-02-19T19:55:32.471Z"
   },
   {
    "duration": 22,
    "start_time": "2025-02-19T19:55:32.675Z"
   },
   {
    "duration": 19,
    "start_time": "2025-02-19T19:55:32.699Z"
   },
   {
    "duration": 6,
    "start_time": "2025-02-19T19:55:32.720Z"
   },
   {
    "duration": 23,
    "start_time": "2025-02-19T19:55:32.727Z"
   },
   {
    "duration": 26,
    "start_time": "2025-02-19T19:55:32.752Z"
   },
   {
    "duration": 20,
    "start_time": "2025-02-19T19:55:32.780Z"
   },
   {
    "duration": 13,
    "start_time": "2025-02-19T19:55:32.801Z"
   },
   {
    "duration": 15,
    "start_time": "2025-02-19T19:55:32.816Z"
   },
   {
    "duration": 13,
    "start_time": "2025-02-19T19:55:32.832Z"
   },
   {
    "duration": 36,
    "start_time": "2025-02-19T19:55:32.871Z"
   },
   {
    "duration": 7,
    "start_time": "2025-02-19T19:55:32.910Z"
   },
   {
    "duration": 11,
    "start_time": "2025-02-19T19:55:32.918Z"
   },
   {
    "duration": 42,
    "start_time": "2025-02-19T19:55:32.931Z"
   },
   {
    "duration": 10,
    "start_time": "2025-02-19T19:55:32.975Z"
   },
   {
    "duration": 662,
    "start_time": "2025-02-19T19:55:32.987Z"
   },
   {
    "duration": 437,
    "start_time": "2025-02-19T19:55:33.651Z"
   },
   {
    "duration": 964,
    "start_time": "2025-02-19T19:55:34.090Z"
   },
   {
    "duration": 373,
    "start_time": "2025-02-19T19:55:35.056Z"
   },
   {
    "duration": 403,
    "start_time": "2025-02-19T19:55:35.431Z"
   },
   {
    "duration": 359,
    "start_time": "2025-02-19T19:55:35.872Z"
   },
   {
    "duration": 384,
    "start_time": "2025-02-19T19:55:36.233Z"
   },
   {
    "duration": 9,
    "start_time": "2025-02-19T19:55:36.619Z"
   },
   {
    "duration": 401,
    "start_time": "2025-02-19T19:55:36.630Z"
   },
   {
    "duration": 38,
    "start_time": "2025-02-19T19:55:37.034Z"
   },
   {
    "duration": 22,
    "start_time": "2025-02-19T19:55:37.074Z"
   },
   {
    "duration": 22,
    "start_time": "2025-02-19T19:55:37.098Z"
   },
   {
    "duration": 16,
    "start_time": "2025-02-19T19:55:37.122Z"
   },
   {
    "duration": 35,
    "start_time": "2025-02-19T19:55:37.140Z"
   },
   {
    "duration": 14,
    "start_time": "2025-02-19T19:55:37.177Z"
   },
   {
    "duration": 39,
    "start_time": "2025-02-19T19:55:37.193Z"
   },
   {
    "duration": 7,
    "start_time": "2025-02-19T19:55:37.234Z"
   },
   {
    "duration": 33,
    "start_time": "2025-02-19T19:55:37.243Z"
   },
   {
    "duration": 25,
    "start_time": "2025-02-19T19:55:37.278Z"
   },
   {
    "duration": 1034,
    "start_time": "2025-02-19T19:55:37.305Z"
   },
   {
    "duration": 989,
    "start_time": "2025-02-19T19:55:38.341Z"
   },
   {
    "duration": 12,
    "start_time": "2025-02-19T19:55:39.332Z"
   },
   {
    "duration": 27,
    "start_time": "2025-02-19T19:55:39.345Z"
   },
   {
    "duration": 6,
    "start_time": "2025-02-19T19:55:39.377Z"
   },
   {
    "duration": 13,
    "start_time": "2025-02-19T19:55:39.385Z"
   },
   {
    "duration": 24,
    "start_time": "2025-02-19T19:55:39.399Z"
   },
   {
    "duration": 74718,
    "start_time": "2025-02-19T19:55:39.425Z"
   },
   {
    "duration": 14124728,
    "start_time": "2025-02-19T19:56:54.146Z"
   },
   {
    "duration": 1829,
    "start_time": "2025-02-19T23:52:18.876Z"
   },
   {
    "duration": 187,
    "start_time": "2025-02-19T23:52:20.707Z"
   },
   {
    "duration": 0,
    "start_time": "2025-02-19T23:52:20.895Z"
   },
   {
    "duration": 0,
    "start_time": "2025-02-19T23:52:20.897Z"
   },
   {
    "duration": 9,
    "start_time": "2025-02-20T08:39:18.192Z"
   },
   {
    "duration": 20045,
    "start_time": "2025-02-20T09:40:55.416Z"
   },
   {
    "duration": 4,
    "start_time": "2025-02-20T09:41:15.464Z"
   },
   {
    "duration": 139,
    "start_time": "2025-02-20T09:41:15.474Z"
   },
   {
    "duration": 22,
    "start_time": "2025-02-20T09:41:15.616Z"
   },
   {
    "duration": 17,
    "start_time": "2025-02-20T09:41:15.639Z"
   },
   {
    "duration": 10,
    "start_time": "2025-02-20T09:41:15.658Z"
   },
   {
    "duration": 27,
    "start_time": "2025-02-20T09:41:15.670Z"
   },
   {
    "duration": 10,
    "start_time": "2025-02-20T09:41:15.700Z"
   },
   {
    "duration": 14,
    "start_time": "2025-02-20T09:41:15.711Z"
   },
   {
    "duration": 15,
    "start_time": "2025-02-20T09:41:15.728Z"
   },
   {
    "duration": 33,
    "start_time": "2025-02-20T09:41:15.744Z"
   },
   {
    "duration": 14,
    "start_time": "2025-02-20T09:41:15.785Z"
   },
   {
    "duration": 33,
    "start_time": "2025-02-20T09:41:15.801Z"
   },
   {
    "duration": 7,
    "start_time": "2025-02-20T09:41:15.836Z"
   },
   {
    "duration": 45,
    "start_time": "2025-02-20T09:41:15.845Z"
   },
   {
    "duration": 20,
    "start_time": "2025-02-20T09:41:15.892Z"
   },
   {
    "duration": 10,
    "start_time": "2025-02-20T09:41:15.914Z"
   },
   {
    "duration": 525,
    "start_time": "2025-02-20T09:41:15.926Z"
   },
   {
    "duration": 533,
    "start_time": "2025-02-20T09:41:16.453Z"
   },
   {
    "duration": 1031,
    "start_time": "2025-02-20T09:41:16.988Z"
   },
   {
    "duration": 414,
    "start_time": "2025-02-20T09:41:18.021Z"
   },
   {
    "duration": 420,
    "start_time": "2025-02-20T09:41:18.437Z"
   },
   {
    "duration": 467,
    "start_time": "2025-02-20T09:41:18.867Z"
   },
   {
    "duration": 458,
    "start_time": "2025-02-20T09:41:19.335Z"
   },
   {
    "duration": 9,
    "start_time": "2025-02-20T09:41:19.795Z"
   },
   {
    "duration": 448,
    "start_time": "2025-02-20T09:41:19.806Z"
   },
   {
    "duration": 50,
    "start_time": "2025-02-20T09:41:20.256Z"
   },
   {
    "duration": 21,
    "start_time": "2025-02-20T09:41:20.311Z"
   },
   {
    "duration": 22,
    "start_time": "2025-02-20T09:41:20.334Z"
   },
   {
    "duration": 34,
    "start_time": "2025-02-20T09:41:20.358Z"
   },
   {
    "duration": 6,
    "start_time": "2025-02-20T09:41:20.394Z"
   },
   {
    "duration": 12,
    "start_time": "2025-02-20T09:41:20.402Z"
   },
   {
    "duration": 58,
    "start_time": "2025-02-20T09:41:20.416Z"
   },
   {
    "duration": 7,
    "start_time": "2025-02-20T09:41:20.476Z"
   },
   {
    "duration": 10,
    "start_time": "2025-02-20T09:41:20.485Z"
   },
   {
    "duration": 6,
    "start_time": "2025-02-20T09:41:20.497Z"
   },
   {
    "duration": 1131,
    "start_time": "2025-02-20T09:41:20.505Z"
   },
   {
    "duration": 1091,
    "start_time": "2025-02-20T09:41:21.638Z"
   },
   {
    "duration": 10,
    "start_time": "2025-02-20T09:41:22.731Z"
   },
   {
    "duration": 12,
    "start_time": "2025-02-20T09:41:22.743Z"
   },
   {
    "duration": 29,
    "start_time": "2025-02-20T09:41:22.757Z"
   },
   {
    "duration": 8,
    "start_time": "2025-02-20T09:41:22.789Z"
   },
   {
    "duration": 79042,
    "start_time": "2025-02-20T09:41:22.800Z"
   },
   {
    "duration": 20025,
    "start_time": "2025-02-20T09:46:20.291Z"
   },
   {
    "duration": 3,
    "start_time": "2025-02-20T09:46:40.318Z"
   },
   {
    "duration": 102,
    "start_time": "2025-02-20T09:46:40.324Z"
   },
   {
    "duration": 25,
    "start_time": "2025-02-20T09:46:40.428Z"
   },
   {
    "duration": 27,
    "start_time": "2025-02-20T09:46:40.456Z"
   },
   {
    "duration": 10,
    "start_time": "2025-02-20T09:46:40.486Z"
   },
   {
    "duration": 21,
    "start_time": "2025-02-20T09:46:40.498Z"
   },
   {
    "duration": 11,
    "start_time": "2025-02-20T09:46:40.521Z"
   },
   {
    "duration": 37,
    "start_time": "2025-02-20T09:46:40.534Z"
   },
   {
    "duration": 15,
    "start_time": "2025-02-20T09:46:40.585Z"
   },
   {
    "duration": 13,
    "start_time": "2025-02-20T09:46:40.602Z"
   },
   {
    "duration": 14,
    "start_time": "2025-02-20T09:46:40.617Z"
   },
   {
    "duration": 63,
    "start_time": "2025-02-20T09:46:40.633Z"
   },
   {
    "duration": 8,
    "start_time": "2025-02-20T09:46:40.700Z"
   },
   {
    "duration": 15,
    "start_time": "2025-02-20T09:46:40.710Z"
   },
   {
    "duration": 21,
    "start_time": "2025-02-20T09:46:40.727Z"
   },
   {
    "duration": 38,
    "start_time": "2025-02-20T09:46:40.749Z"
   },
   {
    "duration": 506,
    "start_time": "2025-02-20T09:46:40.789Z"
   },
   {
    "duration": 551,
    "start_time": "2025-02-20T09:46:41.297Z"
   },
   {
    "duration": 987,
    "start_time": "2025-02-20T09:46:41.850Z"
   },
   {
    "duration": 488,
    "start_time": "2025-02-20T09:46:42.839Z"
   },
   {
    "duration": 422,
    "start_time": "2025-02-20T09:46:43.329Z"
   },
   {
    "duration": 472,
    "start_time": "2025-02-20T09:46:43.753Z"
   },
   {
    "duration": 422,
    "start_time": "2025-02-20T09:46:44.227Z"
   },
   {
    "duration": 9,
    "start_time": "2025-02-20T09:46:44.651Z"
   },
   {
    "duration": 479,
    "start_time": "2025-02-20T09:46:44.671Z"
   },
   {
    "duration": 43,
    "start_time": "2025-02-20T09:46:45.152Z"
   },
   {
    "duration": 26,
    "start_time": "2025-02-20T09:46:45.196Z"
   },
   {
    "duration": 22,
    "start_time": "2025-02-20T09:46:45.224Z"
   },
   {
    "duration": 36,
    "start_time": "2025-02-20T09:46:45.248Z"
   },
   {
    "duration": 8,
    "start_time": "2025-02-20T09:46:45.286Z"
   },
   {
    "duration": 23,
    "start_time": "2025-02-20T09:46:45.296Z"
   },
   {
    "duration": 35,
    "start_time": "2025-02-20T09:46:45.321Z"
   },
   {
    "duration": 9,
    "start_time": "2025-02-20T09:46:45.375Z"
   },
   {
    "duration": 17,
    "start_time": "2025-02-20T09:46:45.386Z"
   },
   {
    "duration": 24,
    "start_time": "2025-02-20T09:46:45.405Z"
   },
   {
    "duration": 9,
    "start_time": "2025-02-20T09:46:45.431Z"
   },
   {
    "duration": 1142,
    "start_time": "2025-02-20T09:46:45.441Z"
   },
   {
    "duration": 1000,
    "start_time": "2025-02-20T09:46:46.585Z"
   },
   {
    "duration": 13,
    "start_time": "2025-02-20T09:46:47.587Z"
   },
   {
    "duration": 8,
    "start_time": "2025-02-20T09:46:47.605Z"
   },
   {
    "duration": 6,
    "start_time": "2025-02-20T09:46:47.615Z"
   },
   {
    "duration": 6,
    "start_time": "2025-02-20T09:46:47.623Z"
   },
   {
    "duration": 78811,
    "start_time": "2025-02-20T09:46:47.631Z"
   },
   {
    "duration": 20154,
    "start_time": "2025-02-20T09:52:34.670Z"
   },
   {
    "duration": 3,
    "start_time": "2025-02-20T09:52:54.826Z"
   },
   {
    "duration": 98,
    "start_time": "2025-02-20T09:52:54.831Z"
   },
   {
    "duration": 21,
    "start_time": "2025-02-20T09:52:54.931Z"
   },
   {
    "duration": 16,
    "start_time": "2025-02-20T09:52:54.954Z"
   },
   {
    "duration": 69,
    "start_time": "2025-02-20T09:52:54.971Z"
   },
   {
    "duration": 29,
    "start_time": "2025-02-20T09:52:55.041Z"
   },
   {
    "duration": 10,
    "start_time": "2025-02-20T09:52:55.073Z"
   },
   {
    "duration": 26,
    "start_time": "2025-02-20T09:52:55.085Z"
   },
   {
    "duration": 12,
    "start_time": "2025-02-20T09:52:55.114Z"
   },
   {
    "duration": 20,
    "start_time": "2025-02-20T09:52:55.128Z"
   },
   {
    "duration": 30,
    "start_time": "2025-02-20T09:52:55.150Z"
   },
   {
    "duration": 33,
    "start_time": "2025-02-20T09:52:55.182Z"
   },
   {
    "duration": 7,
    "start_time": "2025-02-20T09:52:55.216Z"
   },
   {
    "duration": 11,
    "start_time": "2025-02-20T09:52:55.225Z"
   },
   {
    "duration": 46,
    "start_time": "2025-02-20T09:52:55.238Z"
   },
   {
    "duration": 12,
    "start_time": "2025-02-20T09:52:55.286Z"
   },
   {
    "duration": 465,
    "start_time": "2025-02-20T09:52:55.300Z"
   },
   {
    "duration": 561,
    "start_time": "2025-02-20T09:52:55.776Z"
   },
   {
    "duration": 942,
    "start_time": "2025-02-20T09:52:56.339Z"
   },
   {
    "duration": 360,
    "start_time": "2025-02-20T09:52:57.283Z"
   },
   {
    "duration": 393,
    "start_time": "2025-02-20T09:52:57.645Z"
   },
   {
    "duration": 386,
    "start_time": "2025-02-20T09:52:58.040Z"
   },
   {
    "duration": 398,
    "start_time": "2025-02-20T09:52:58.428Z"
   },
   {
    "duration": 9,
    "start_time": "2025-02-20T09:52:58.828Z"
   },
   {
    "duration": 479,
    "start_time": "2025-02-20T09:52:58.839Z"
   },
   {
    "duration": 28,
    "start_time": "2025-02-20T09:52:59.320Z"
   },
   {
    "duration": 37,
    "start_time": "2025-02-20T09:52:59.352Z"
   },
   {
    "duration": 20,
    "start_time": "2025-02-20T09:52:59.391Z"
   },
   {
    "duration": 14,
    "start_time": "2025-02-20T09:52:59.413Z"
   },
   {
    "duration": 11,
    "start_time": "2025-02-20T09:52:59.429Z"
   },
   {
    "duration": 35,
    "start_time": "2025-02-20T09:52:59.442Z"
   },
   {
    "duration": 32,
    "start_time": "2025-02-20T09:52:59.479Z"
   },
   {
    "duration": 8,
    "start_time": "2025-02-20T09:52:59.513Z"
   },
   {
    "duration": 13,
    "start_time": "2025-02-20T09:52:59.523Z"
   },
   {
    "duration": 8,
    "start_time": "2025-02-20T09:52:59.538Z"
   },
   {
    "duration": 1056,
    "start_time": "2025-02-20T09:52:59.548Z"
   },
   {
    "duration": 1051,
    "start_time": "2025-02-20T09:53:00.606Z"
   },
   {
    "duration": 6,
    "start_time": "2025-02-20T09:53:01.658Z"
   },
   {
    "duration": 65,
    "start_time": "2025-02-20T09:53:01.665Z"
   },
   {
    "duration": 23,
    "start_time": "2025-02-20T09:53:01.732Z"
   },
   {
    "duration": 23,
    "start_time": "2025-02-20T09:53:01.757Z"
   },
   {
    "duration": 6,
    "start_time": "2025-02-20T09:53:01.782Z"
   },
   {
    "duration": 65044,
    "start_time": "2025-02-20T09:53:01.789Z"
   },
   {
    "duration": 22198,
    "start_time": "2025-02-20T09:56:23.351Z"
   },
   {
    "duration": 3,
    "start_time": "2025-02-20T09:56:45.552Z"
   },
   {
    "duration": 358,
    "start_time": "2025-02-20T09:56:45.557Z"
   },
   {
    "duration": 22,
    "start_time": "2025-02-20T09:56:45.917Z"
   },
   {
    "duration": 17,
    "start_time": "2025-02-20T09:56:45.940Z"
   },
   {
    "duration": 11,
    "start_time": "2025-02-20T09:56:45.959Z"
   },
   {
    "duration": 29,
    "start_time": "2025-02-20T09:56:45.972Z"
   },
   {
    "duration": 9,
    "start_time": "2025-02-20T09:56:46.003Z"
   },
   {
    "duration": 16,
    "start_time": "2025-02-20T09:56:46.014Z"
   },
   {
    "duration": 16,
    "start_time": "2025-02-20T09:56:46.033Z"
   },
   {
    "duration": 25,
    "start_time": "2025-02-20T09:56:46.076Z"
   },
   {
    "duration": 21,
    "start_time": "2025-02-20T09:56:46.103Z"
   },
   {
    "duration": 56,
    "start_time": "2025-02-20T09:56:46.126Z"
   },
   {
    "duration": 10,
    "start_time": "2025-02-20T09:56:46.183Z"
   },
   {
    "duration": 30,
    "start_time": "2025-02-20T09:56:46.195Z"
   },
   {
    "duration": 23,
    "start_time": "2025-02-20T09:56:46.227Z"
   },
   {
    "duration": 13,
    "start_time": "2025-02-20T09:56:46.251Z"
   },
   {
    "duration": 499,
    "start_time": "2025-02-20T09:56:46.266Z"
   },
   {
    "duration": 566,
    "start_time": "2025-02-20T09:56:46.767Z"
   },
   {
    "duration": 990,
    "start_time": "2025-02-20T09:56:47.334Z"
   },
   {
    "duration": 405,
    "start_time": "2025-02-20T09:56:48.325Z"
   },
   {
    "duration": 414,
    "start_time": "2025-02-20T09:56:48.732Z"
   },
   {
    "duration": 414,
    "start_time": "2025-02-20T09:56:49.148Z"
   },
   {
    "duration": 362,
    "start_time": "2025-02-20T09:56:49.583Z"
   },
   {
    "duration": 12,
    "start_time": "2025-02-20T09:56:49.947Z"
   },
   {
    "duration": 399,
    "start_time": "2025-02-20T09:56:49.960Z"
   },
   {
    "duration": 53,
    "start_time": "2025-02-20T09:56:50.361Z"
   },
   {
    "duration": 21,
    "start_time": "2025-02-20T09:56:50.418Z"
   },
   {
    "duration": 32,
    "start_time": "2025-02-20T09:56:50.441Z"
   },
   {
    "duration": 23,
    "start_time": "2025-02-20T09:56:50.479Z"
   },
   {
    "duration": 9,
    "start_time": "2025-02-20T09:56:50.504Z"
   },
   {
    "duration": 20,
    "start_time": "2025-02-20T09:56:50.515Z"
   },
   {
    "duration": 52,
    "start_time": "2025-02-20T09:56:50.537Z"
   },
   {
    "duration": 9,
    "start_time": "2025-02-20T09:56:50.591Z"
   },
   {
    "duration": 19,
    "start_time": "2025-02-20T09:56:50.601Z"
   },
   {
    "duration": 23,
    "start_time": "2025-02-20T09:56:50.622Z"
   },
   {
    "duration": 1275,
    "start_time": "2025-02-20T09:56:50.647Z"
   },
   {
    "duration": 1053,
    "start_time": "2025-02-20T09:56:51.924Z"
   },
   {
    "duration": 20,
    "start_time": "2025-02-20T09:56:52.983Z"
   },
   {
    "duration": 54,
    "start_time": "2025-02-20T09:56:53.005Z"
   },
   {
    "duration": 8,
    "start_time": "2025-02-20T09:56:53.061Z"
   },
   {
    "duration": 10,
    "start_time": "2025-02-20T09:56:53.071Z"
   },
   {
    "duration": 15,
    "start_time": "2025-02-20T09:56:53.084Z"
   },
   {
    "duration": 79824,
    "start_time": "2025-02-20T09:56:53.103Z"
   },
   {
    "duration": 20829,
    "start_time": "2025-02-20T09:59:08.120Z"
   },
   {
    "duration": 3,
    "start_time": "2025-02-20T09:59:28.952Z"
   },
   {
    "duration": 168,
    "start_time": "2025-02-20T09:59:28.956Z"
   },
   {
    "duration": 22,
    "start_time": "2025-02-20T09:59:29.126Z"
   },
   {
    "duration": 14,
    "start_time": "2025-02-20T09:59:29.150Z"
   },
   {
    "duration": 10,
    "start_time": "2025-02-20T09:59:29.166Z"
   },
   {
    "duration": 24,
    "start_time": "2025-02-20T09:59:29.178Z"
   },
   {
    "duration": 9,
    "start_time": "2025-02-20T09:59:29.204Z"
   },
   {
    "duration": 23,
    "start_time": "2025-02-20T09:59:29.215Z"
   },
   {
    "duration": 13,
    "start_time": "2025-02-20T09:59:29.241Z"
   },
   {
    "duration": 24,
    "start_time": "2025-02-20T09:59:29.273Z"
   },
   {
    "duration": 18,
    "start_time": "2025-02-20T09:59:29.299Z"
   },
   {
    "duration": 35,
    "start_time": "2025-02-20T09:59:29.319Z"
   },
   {
    "duration": 28,
    "start_time": "2025-02-20T09:59:29.355Z"
   },
   {
    "duration": 16,
    "start_time": "2025-02-20T09:59:29.386Z"
   },
   {
    "duration": 20,
    "start_time": "2025-02-20T09:59:29.404Z"
   },
   {
    "duration": 8,
    "start_time": "2025-02-20T09:59:29.426Z"
   },
   {
    "duration": 525,
    "start_time": "2025-02-20T09:59:29.436Z"
   },
   {
    "duration": 572,
    "start_time": "2025-02-20T09:59:29.963Z"
   },
   {
    "duration": 984,
    "start_time": "2025-02-20T09:59:30.537Z"
   },
   {
    "duration": 405,
    "start_time": "2025-02-20T09:59:31.523Z"
   },
   {
    "duration": 395,
    "start_time": "2025-02-20T09:59:31.930Z"
   },
   {
    "duration": 426,
    "start_time": "2025-02-20T09:59:32.327Z"
   },
   {
    "duration": 394,
    "start_time": "2025-02-20T09:59:32.755Z"
   },
   {
    "duration": 9,
    "start_time": "2025-02-20T09:59:33.151Z"
   },
   {
    "duration": 375,
    "start_time": "2025-02-20T09:59:33.176Z"
   },
   {
    "duration": 53,
    "start_time": "2025-02-20T09:59:33.553Z"
   },
   {
    "duration": 21,
    "start_time": "2025-02-20T09:59:33.609Z"
   },
   {
    "duration": 85,
    "start_time": "2025-02-20T09:59:33.632Z"
   },
   {
    "duration": 14,
    "start_time": "2025-02-20T09:59:33.719Z"
   },
   {
    "duration": 7,
    "start_time": "2025-02-20T09:59:33.735Z"
   },
   {
    "duration": 42,
    "start_time": "2025-02-20T09:59:33.743Z"
   },
   {
    "duration": 34,
    "start_time": "2025-02-20T09:59:33.794Z"
   },
   {
    "duration": 11,
    "start_time": "2025-02-20T09:59:33.829Z"
   },
   {
    "duration": 22,
    "start_time": "2025-02-20T09:59:33.842Z"
   },
   {
    "duration": 9,
    "start_time": "2025-02-20T09:59:33.866Z"
   },
   {
    "duration": 1108,
    "start_time": "2025-02-20T09:59:33.880Z"
   },
   {
    "duration": 1098,
    "start_time": "2025-02-20T09:59:34.992Z"
   },
   {
    "duration": 19,
    "start_time": "2025-02-20T09:59:36.094Z"
   },
   {
    "duration": 8,
    "start_time": "2025-02-20T09:59:36.116Z"
   },
   {
    "duration": 14,
    "start_time": "2025-02-20T09:59:36.126Z"
   },
   {
    "duration": 22,
    "start_time": "2025-02-20T09:59:36.142Z"
   },
   {
    "duration": 40,
    "start_time": "2025-02-20T09:59:36.165Z"
   },
   {
    "duration": 78935,
    "start_time": "2025-02-20T09:59:36.207Z"
   },
   {
    "duration": 20609,
    "start_time": "2025-02-20T10:02:26.124Z"
   },
   {
    "duration": 3,
    "start_time": "2025-02-20T10:02:46.735Z"
   },
   {
    "duration": 136,
    "start_time": "2025-02-20T10:02:46.740Z"
   },
   {
    "duration": 22,
    "start_time": "2025-02-20T10:02:46.880Z"
   },
   {
    "duration": 15,
    "start_time": "2025-02-20T10:02:46.904Z"
   },
   {
    "duration": 6,
    "start_time": "2025-02-20T10:02:46.921Z"
   },
   {
    "duration": 49,
    "start_time": "2025-02-20T10:02:46.929Z"
   },
   {
    "duration": 11,
    "start_time": "2025-02-20T10:02:46.979Z"
   },
   {
    "duration": 13,
    "start_time": "2025-02-20T10:02:46.992Z"
   },
   {
    "duration": 63,
    "start_time": "2025-02-20T10:02:47.008Z"
   },
   {
    "duration": 19,
    "start_time": "2025-02-20T10:02:47.073Z"
   },
   {
    "duration": 14,
    "start_time": "2025-02-20T10:02:47.094Z"
   },
   {
    "duration": 34,
    "start_time": "2025-02-20T10:02:47.110Z"
   },
   {
    "duration": 31,
    "start_time": "2025-02-20T10:02:47.146Z"
   },
   {
    "duration": 15,
    "start_time": "2025-02-20T10:02:47.179Z"
   },
   {
    "duration": 22,
    "start_time": "2025-02-20T10:02:47.196Z"
   },
   {
    "duration": 9,
    "start_time": "2025-02-20T10:02:47.220Z"
   },
   {
    "duration": 522,
    "start_time": "2025-02-20T10:02:47.230Z"
   },
   {
    "duration": 510,
    "start_time": "2025-02-20T10:02:47.754Z"
   },
   {
    "duration": 957,
    "start_time": "2025-02-20T10:02:48.266Z"
   },
   {
    "duration": 403,
    "start_time": "2025-02-20T10:02:49.225Z"
   },
   {
    "duration": 392,
    "start_time": "2025-02-20T10:02:49.630Z"
   },
   {
    "duration": 405,
    "start_time": "2025-02-20T10:02:50.024Z"
   },
   {
    "duration": 408,
    "start_time": "2025-02-20T10:02:50.431Z"
   },
   {
    "duration": 9,
    "start_time": "2025-02-20T10:02:50.841Z"
   },
   {
    "duration": 454,
    "start_time": "2025-02-20T10:02:50.852Z"
   },
   {
    "duration": 30,
    "start_time": "2025-02-20T10:02:51.308Z"
   },
   {
    "duration": 45,
    "start_time": "2025-02-20T10:02:51.342Z"
   },
   {
    "duration": 52,
    "start_time": "2025-02-20T10:02:51.389Z"
   },
   {
    "duration": 15,
    "start_time": "2025-02-20T10:02:51.443Z"
   },
   {
    "duration": 22,
    "start_time": "2025-02-20T10:02:51.460Z"
   },
   {
    "duration": 14,
    "start_time": "2025-02-20T10:02:51.484Z"
   },
   {
    "duration": 46,
    "start_time": "2025-02-20T10:02:51.499Z"
   },
   {
    "duration": 5,
    "start_time": "2025-02-20T10:02:51.547Z"
   },
   {
    "duration": 48,
    "start_time": "2025-02-20T10:02:51.553Z"
   },
   {
    "duration": 21,
    "start_time": "2025-02-20T10:02:51.602Z"
   },
   {
    "duration": 1095,
    "start_time": "2025-02-20T10:02:51.625Z"
   },
   {
    "duration": 1027,
    "start_time": "2025-02-20T10:02:52.721Z"
   },
   {
    "duration": 15,
    "start_time": "2025-02-20T10:02:53.750Z"
   },
   {
    "duration": 17,
    "start_time": "2025-02-20T10:02:53.766Z"
   },
   {
    "duration": 8,
    "start_time": "2025-02-20T10:02:53.787Z"
   },
   {
    "duration": 14,
    "start_time": "2025-02-20T10:02:53.796Z"
   },
   {
    "duration": 8,
    "start_time": "2025-02-20T10:02:53.811Z"
   },
   {
    "duration": 64979,
    "start_time": "2025-02-20T10:02:53.821Z"
   },
   {
    "duration": 20333,
    "start_time": "2025-02-20T10:05:03.351Z"
   },
   {
    "duration": 6,
    "start_time": "2025-02-20T10:05:23.686Z"
   },
   {
    "duration": 153,
    "start_time": "2025-02-20T10:05:23.694Z"
   },
   {
    "duration": 24,
    "start_time": "2025-02-20T10:05:23.850Z"
   },
   {
    "duration": 16,
    "start_time": "2025-02-20T10:05:23.884Z"
   },
   {
    "duration": 7,
    "start_time": "2025-02-20T10:05:23.902Z"
   },
   {
    "duration": 27,
    "start_time": "2025-02-20T10:05:23.911Z"
   },
   {
    "duration": 11,
    "start_time": "2025-02-20T10:05:23.940Z"
   },
   {
    "duration": 33,
    "start_time": "2025-02-20T10:05:23.952Z"
   },
   {
    "duration": 16,
    "start_time": "2025-02-20T10:05:23.988Z"
   },
   {
    "duration": 22,
    "start_time": "2025-02-20T10:05:24.005Z"
   },
   {
    "duration": 33,
    "start_time": "2025-02-20T10:05:24.029Z"
   },
   {
    "duration": 51,
    "start_time": "2025-02-20T10:05:24.064Z"
   },
   {
    "duration": 7,
    "start_time": "2025-02-20T10:05:24.117Z"
   },
   {
    "duration": 13,
    "start_time": "2025-02-20T10:05:24.126Z"
   },
   {
    "duration": 20,
    "start_time": "2025-02-20T10:05:24.141Z"
   },
   {
    "duration": 12,
    "start_time": "2025-02-20T10:05:24.179Z"
   },
   {
    "duration": 510,
    "start_time": "2025-02-20T10:05:24.194Z"
   },
   {
    "duration": 573,
    "start_time": "2025-02-20T10:05:24.706Z"
   },
   {
    "duration": 1036,
    "start_time": "2025-02-20T10:05:25.281Z"
   },
   {
    "duration": 416,
    "start_time": "2025-02-20T10:05:26.320Z"
   },
   {
    "duration": 409,
    "start_time": "2025-02-20T10:05:26.737Z"
   },
   {
    "duration": 477,
    "start_time": "2025-02-20T10:05:27.148Z"
   },
   {
    "duration": 412,
    "start_time": "2025-02-20T10:05:27.627Z"
   },
   {
    "duration": 8,
    "start_time": "2025-02-20T10:05:28.041Z"
   },
   {
    "duration": 405,
    "start_time": "2025-02-20T10:05:28.051Z"
   },
   {
    "duration": 47,
    "start_time": "2025-02-20T10:05:28.457Z"
   },
   {
    "duration": 19,
    "start_time": "2025-02-20T10:05:28.508Z"
   },
   {
    "duration": 25,
    "start_time": "2025-02-20T10:05:28.529Z"
   },
   {
    "duration": 32,
    "start_time": "2025-02-20T10:05:28.556Z"
   },
   {
    "duration": 7,
    "start_time": "2025-02-20T10:05:28.590Z"
   },
   {
    "duration": 14,
    "start_time": "2025-02-20T10:05:28.599Z"
   },
   {
    "duration": 39,
    "start_time": "2025-02-20T10:05:28.614Z"
   },
   {
    "duration": 16,
    "start_time": "2025-02-20T10:05:28.672Z"
   },
   {
    "duration": 7,
    "start_time": "2025-02-20T10:05:28.690Z"
   },
   {
    "duration": 19,
    "start_time": "2025-02-20T10:05:28.698Z"
   },
   {
    "duration": 1138,
    "start_time": "2025-02-20T10:05:28.719Z"
   },
   {
    "duration": 1009,
    "start_time": "2025-02-20T10:05:29.859Z"
   },
   {
    "duration": 6,
    "start_time": "2025-02-20T10:05:30.871Z"
   },
   {
    "duration": 20,
    "start_time": "2025-02-20T10:05:30.880Z"
   },
   {
    "duration": 14,
    "start_time": "2025-02-20T10:05:30.902Z"
   },
   {
    "duration": 5,
    "start_time": "2025-02-20T10:05:30.918Z"
   },
   {
    "duration": 40,
    "start_time": "2025-02-20T10:05:30.925Z"
   },
   {
    "duration": 71572,
    "start_time": "2025-02-20T10:05:30.968Z"
   },
   {
    "duration": 19875,
    "start_time": "2025-02-20T10:09:23.389Z"
   },
   {
    "duration": 18,
    "start_time": "2025-02-20T10:09:43.266Z"
   },
   {
    "duration": 102,
    "start_time": "2025-02-20T10:09:43.289Z"
   },
   {
    "duration": 20,
    "start_time": "2025-02-20T10:09:43.393Z"
   },
   {
    "duration": 16,
    "start_time": "2025-02-20T10:09:43.415Z"
   },
   {
    "duration": 7,
    "start_time": "2025-02-20T10:09:43.433Z"
   },
   {
    "duration": 42,
    "start_time": "2025-02-20T10:09:43.442Z"
   },
   {
    "duration": 10,
    "start_time": "2025-02-20T10:09:43.486Z"
   },
   {
    "duration": 17,
    "start_time": "2025-02-20T10:09:43.498Z"
   },
   {
    "duration": 13,
    "start_time": "2025-02-20T10:09:43.518Z"
   },
   {
    "duration": 11,
    "start_time": "2025-02-20T10:09:43.533Z"
   },
   {
    "duration": 44,
    "start_time": "2025-02-20T10:09:43.546Z"
   },
   {
    "duration": 41,
    "start_time": "2025-02-20T10:09:43.592Z"
   },
   {
    "duration": 7,
    "start_time": "2025-02-20T10:09:43.635Z"
   },
   {
    "duration": 13,
    "start_time": "2025-02-20T10:09:43.644Z"
   },
   {
    "duration": 36,
    "start_time": "2025-02-20T10:09:43.658Z"
   },
   {
    "duration": 54,
    "start_time": "2025-02-20T10:09:43.696Z"
   },
   {
    "duration": 505,
    "start_time": "2025-02-20T10:09:43.752Z"
   },
   {
    "duration": 606,
    "start_time": "2025-02-20T10:09:44.259Z"
   },
   {
    "duration": 1044,
    "start_time": "2025-02-20T10:09:44.872Z"
   },
   {
    "duration": 417,
    "start_time": "2025-02-20T10:09:45.919Z"
   },
   {
    "duration": 404,
    "start_time": "2025-02-20T10:09:46.338Z"
   },
   {
    "duration": 483,
    "start_time": "2025-02-20T10:09:46.744Z"
   },
   {
    "duration": 416,
    "start_time": "2025-02-20T10:09:47.229Z"
   },
   {
    "duration": 9,
    "start_time": "2025-02-20T10:09:47.647Z"
   },
   {
    "duration": 467,
    "start_time": "2025-02-20T10:09:47.658Z"
   },
   {
    "duration": 49,
    "start_time": "2025-02-20T10:09:48.127Z"
   },
   {
    "duration": 21,
    "start_time": "2025-02-20T10:09:48.187Z"
   },
   {
    "duration": 26,
    "start_time": "2025-02-20T10:09:48.211Z"
   },
   {
    "duration": 15,
    "start_time": "2025-02-20T10:09:48.239Z"
   },
   {
    "duration": 31,
    "start_time": "2025-02-20T10:09:48.256Z"
   },
   {
    "duration": 12,
    "start_time": "2025-02-20T10:09:48.289Z"
   },
   {
    "duration": 33,
    "start_time": "2025-02-20T10:09:48.303Z"
   },
   {
    "duration": 6,
    "start_time": "2025-02-20T10:09:48.337Z"
   },
   {
    "duration": 31,
    "start_time": "2025-02-20T10:09:48.344Z"
   },
   {
    "duration": 18,
    "start_time": "2025-02-20T10:09:48.377Z"
   },
   {
    "duration": 1126,
    "start_time": "2025-02-20T10:09:48.397Z"
   },
   {
    "duration": 1076,
    "start_time": "2025-02-20T10:09:49.525Z"
   },
   {
    "duration": 5,
    "start_time": "2025-02-20T10:09:50.603Z"
   },
   {
    "duration": 15,
    "start_time": "2025-02-20T10:09:50.610Z"
   },
   {
    "duration": 18,
    "start_time": "2025-02-20T10:09:50.627Z"
   },
   {
    "duration": 13,
    "start_time": "2025-02-20T10:09:50.647Z"
   },
   {
    "duration": 26,
    "start_time": "2025-02-20T10:09:50.662Z"
   },
   {
    "duration": 72117,
    "start_time": "2025-02-20T10:09:50.690Z"
   },
   {
    "duration": 3380,
    "start_time": "2025-02-20T10:11:02.812Z"
   },
   {
    "duration": 3364,
    "start_time": "2025-02-20T10:12:10.371Z"
   },
   {
    "duration": 17,
    "start_time": "2025-02-20T10:13:40.627Z"
   },
   {
    "duration": 30,
    "start_time": "2025-02-20T10:13:48.972Z"
   },
   {
    "duration": 5219,
    "start_time": "2025-02-20T10:19:18.582Z"
   },
   {
    "duration": 18918,
    "start_time": "2025-02-20T10:23:02.631Z"
   },
   {
    "duration": 3,
    "start_time": "2025-02-20T10:23:21.552Z"
   },
   {
    "duration": 119,
    "start_time": "2025-02-20T10:23:21.556Z"
   },
   {
    "duration": 22,
    "start_time": "2025-02-20T10:23:21.677Z"
   },
   {
    "duration": 16,
    "start_time": "2025-02-20T10:23:21.701Z"
   },
   {
    "duration": 6,
    "start_time": "2025-02-20T10:23:21.719Z"
   },
   {
    "duration": 34,
    "start_time": "2025-02-20T10:23:21.727Z"
   },
   {
    "duration": 20,
    "start_time": "2025-02-20T10:23:21.763Z"
   },
   {
    "duration": 30,
    "start_time": "2025-02-20T10:23:21.785Z"
   },
   {
    "duration": 15,
    "start_time": "2025-02-20T10:23:21.818Z"
   },
   {
    "duration": 12,
    "start_time": "2025-02-20T10:23:21.835Z"
   },
   {
    "duration": 25,
    "start_time": "2025-02-20T10:23:21.849Z"
   },
   {
    "duration": 42,
    "start_time": "2025-02-20T10:23:21.876Z"
   },
   {
    "duration": 7,
    "start_time": "2025-02-20T10:23:21.920Z"
   },
   {
    "duration": 13,
    "start_time": "2025-02-20T10:23:21.929Z"
   },
   {
    "duration": 18,
    "start_time": "2025-02-20T10:23:21.972Z"
   },
   {
    "duration": 22,
    "start_time": "2025-02-20T10:23:21.991Z"
   },
   {
    "duration": 547,
    "start_time": "2025-02-20T10:23:22.015Z"
   },
   {
    "duration": 602,
    "start_time": "2025-02-20T10:23:22.564Z"
   },
   {
    "duration": 928,
    "start_time": "2025-02-20T10:23:23.171Z"
   },
   {
    "duration": 406,
    "start_time": "2025-02-20T10:23:24.100Z"
   },
   {
    "duration": 401,
    "start_time": "2025-02-20T10:23:24.508Z"
   },
   {
    "duration": 398,
    "start_time": "2025-02-20T10:23:24.912Z"
   },
   {
    "duration": 416,
    "start_time": "2025-02-20T10:23:25.312Z"
   },
   {
    "duration": 9,
    "start_time": "2025-02-20T10:23:25.730Z"
   },
   {
    "duration": 402,
    "start_time": "2025-02-20T10:23:25.741Z"
   },
   {
    "duration": 50,
    "start_time": "2025-02-20T10:23:26.146Z"
   },
   {
    "duration": 25,
    "start_time": "2025-02-20T10:23:26.201Z"
   },
   {
    "duration": 26,
    "start_time": "2025-02-20T10:23:26.228Z"
   },
   {
    "duration": 34,
    "start_time": "2025-02-20T10:23:26.256Z"
   },
   {
    "duration": 9,
    "start_time": "2025-02-20T10:23:26.293Z"
   },
   {
    "duration": 13,
    "start_time": "2025-02-20T10:23:26.304Z"
   },
   {
    "duration": 62,
    "start_time": "2025-02-20T10:23:26.319Z"
   },
   {
    "duration": 5,
    "start_time": "2025-02-20T10:23:26.383Z"
   },
   {
    "duration": 6,
    "start_time": "2025-02-20T10:23:26.390Z"
   },
   {
    "duration": 13,
    "start_time": "2025-02-20T10:23:26.397Z"
   },
   {
    "duration": 1038,
    "start_time": "2025-02-20T10:23:26.412Z"
   },
   {
    "duration": 971,
    "start_time": "2025-02-20T10:23:27.453Z"
   },
   {
    "duration": 5,
    "start_time": "2025-02-20T10:23:28.427Z"
   },
   {
    "duration": 10,
    "start_time": "2025-02-20T10:23:28.435Z"
   },
   {
    "duration": 27,
    "start_time": "2025-02-20T10:23:28.446Z"
   },
   {
    "duration": 5,
    "start_time": "2025-02-20T10:23:28.475Z"
   },
   {
    "duration": 7,
    "start_time": "2025-02-20T10:23:28.482Z"
   },
   {
    "duration": 67366,
    "start_time": "2025-02-20T10:23:28.491Z"
   },
   {
    "duration": 34,
    "start_time": "2025-02-20T10:24:35.861Z"
   },
   {
    "duration": 6087,
    "start_time": "2025-02-20T10:24:35.898Z"
   },
   {
    "duration": 22977,
    "start_time": "2025-02-20T10:27:47.350Z"
   },
   {
    "duration": 3,
    "start_time": "2025-02-20T10:28:10.329Z"
   },
   {
    "duration": 120,
    "start_time": "2025-02-20T10:28:10.334Z"
   },
   {
    "duration": 24,
    "start_time": "2025-02-20T10:28:10.457Z"
   },
   {
    "duration": 17,
    "start_time": "2025-02-20T10:28:10.483Z"
   },
   {
    "duration": 6,
    "start_time": "2025-02-20T10:28:10.502Z"
   },
   {
    "duration": 26,
    "start_time": "2025-02-20T10:28:10.510Z"
   },
   {
    "duration": 9,
    "start_time": "2025-02-20T10:28:10.537Z"
   },
   {
    "duration": 16,
    "start_time": "2025-02-20T10:28:10.548Z"
   },
   {
    "duration": 26,
    "start_time": "2025-02-20T10:28:10.567Z"
   },
   {
    "duration": 17,
    "start_time": "2025-02-20T10:28:10.594Z"
   },
   {
    "duration": 13,
    "start_time": "2025-02-20T10:28:10.613Z"
   },
   {
    "duration": 41,
    "start_time": "2025-02-20T10:28:10.628Z"
   },
   {
    "duration": 16,
    "start_time": "2025-02-20T10:28:10.671Z"
   },
   {
    "duration": 12,
    "start_time": "2025-02-20T10:28:10.689Z"
   },
   {
    "duration": 20,
    "start_time": "2025-02-20T10:28:10.703Z"
   },
   {
    "duration": 55,
    "start_time": "2025-02-20T10:28:10.725Z"
   },
   {
    "duration": 795,
    "start_time": "2025-02-20T10:28:10.785Z"
   },
   {
    "duration": 466,
    "start_time": "2025-02-20T10:28:11.582Z"
   },
   {
    "duration": 964,
    "start_time": "2025-02-20T10:28:12.050Z"
   },
   {
    "duration": 405,
    "start_time": "2025-02-20T10:28:13.016Z"
   },
   {
    "duration": 412,
    "start_time": "2025-02-20T10:28:13.423Z"
   },
   {
    "duration": 522,
    "start_time": "2025-02-20T10:28:13.837Z"
   },
   {
    "duration": 479,
    "start_time": "2025-02-20T10:28:14.362Z"
   },
   {
    "duration": 10,
    "start_time": "2025-02-20T10:28:14.842Z"
   },
   {
    "duration": 505,
    "start_time": "2025-02-20T10:28:14.854Z"
   },
   {
    "duration": 43,
    "start_time": "2025-02-20T10:28:15.361Z"
   },
   {
    "duration": 21,
    "start_time": "2025-02-20T10:28:15.408Z"
   },
   {
    "duration": 30,
    "start_time": "2025-02-20T10:28:15.430Z"
   },
   {
    "duration": 29,
    "start_time": "2025-02-20T10:28:15.472Z"
   },
   {
    "duration": 12,
    "start_time": "2025-02-20T10:28:15.503Z"
   },
   {
    "duration": 17,
    "start_time": "2025-02-20T10:28:15.517Z"
   },
   {
    "duration": 55,
    "start_time": "2025-02-20T10:28:15.536Z"
   },
   {
    "duration": 6,
    "start_time": "2025-02-20T10:28:15.593Z"
   },
   {
    "duration": 12,
    "start_time": "2025-02-20T10:28:15.602Z"
   },
   {
    "duration": 13,
    "start_time": "2025-02-20T10:28:15.616Z"
   },
   {
    "duration": 1174,
    "start_time": "2025-02-20T10:28:15.631Z"
   },
   {
    "duration": 1015,
    "start_time": "2025-02-20T10:28:16.806Z"
   },
   {
    "duration": 6,
    "start_time": "2025-02-20T10:28:17.823Z"
   },
   {
    "duration": 47,
    "start_time": "2025-02-20T10:28:17.831Z"
   },
   {
    "duration": 16,
    "start_time": "2025-02-20T10:28:17.881Z"
   },
   {
    "duration": 18,
    "start_time": "2025-02-20T10:28:17.899Z"
   },
   {
    "duration": 11,
    "start_time": "2025-02-20T10:28:17.919Z"
   },
   {
    "duration": 72405,
    "start_time": "2025-02-20T10:28:17.932Z"
   },
   {
    "duration": 0,
    "start_time": "2025-02-20T10:29:30.340Z"
   },
   {
    "duration": 23178,
    "start_time": "2025-02-20T10:32:16.605Z"
   },
   {
    "duration": 3,
    "start_time": "2025-02-20T10:32:39.790Z"
   },
   {
    "duration": 131,
    "start_time": "2025-02-20T10:32:39.796Z"
   },
   {
    "duration": 24,
    "start_time": "2025-02-20T10:32:39.929Z"
   },
   {
    "duration": 25,
    "start_time": "2025-02-20T10:32:39.955Z"
   },
   {
    "duration": 9,
    "start_time": "2025-02-20T10:32:39.987Z"
   },
   {
    "duration": 47,
    "start_time": "2025-02-20T10:32:39.998Z"
   },
   {
    "duration": 17,
    "start_time": "2025-02-20T10:32:40.047Z"
   },
   {
    "duration": 27,
    "start_time": "2025-02-20T10:32:40.066Z"
   },
   {
    "duration": 22,
    "start_time": "2025-02-20T10:32:40.097Z"
   },
   {
    "duration": 15,
    "start_time": "2025-02-20T10:32:40.120Z"
   },
   {
    "duration": 18,
    "start_time": "2025-02-20T10:32:40.137Z"
   },
   {
    "duration": 56,
    "start_time": "2025-02-20T10:32:40.157Z"
   },
   {
    "duration": 9,
    "start_time": "2025-02-20T10:32:40.215Z"
   },
   {
    "duration": 28,
    "start_time": "2025-02-20T10:32:40.226Z"
   },
   {
    "duration": 26,
    "start_time": "2025-02-20T10:32:40.256Z"
   },
   {
    "duration": 24,
    "start_time": "2025-02-20T10:32:40.284Z"
   },
   {
    "duration": 693,
    "start_time": "2025-02-20T10:32:40.310Z"
   },
   {
    "duration": 545,
    "start_time": "2025-02-20T10:32:41.005Z"
   },
   {
    "duration": 1076,
    "start_time": "2025-02-20T10:32:41.552Z"
   },
   {
    "duration": 412,
    "start_time": "2025-02-20T10:32:42.630Z"
   },
   {
    "duration": 414,
    "start_time": "2025-02-20T10:32:43.044Z"
   },
   {
    "duration": 404,
    "start_time": "2025-02-20T10:32:43.460Z"
   },
   {
    "duration": 473,
    "start_time": "2025-02-20T10:32:43.866Z"
   },
   {
    "duration": 9,
    "start_time": "2025-02-20T10:32:44.341Z"
   },
   {
    "duration": 409,
    "start_time": "2025-02-20T10:32:44.351Z"
   },
   {
    "duration": 44,
    "start_time": "2025-02-20T10:32:44.761Z"
   },
   {
    "duration": 22,
    "start_time": "2025-02-20T10:32:44.809Z"
   },
   {
    "duration": 97,
    "start_time": "2025-02-20T10:32:44.833Z"
   },
   {
    "duration": 15,
    "start_time": "2025-02-20T10:32:44.932Z"
   },
   {
    "duration": 8,
    "start_time": "2025-02-20T10:32:44.950Z"
   },
   {
    "duration": 29,
    "start_time": "2025-02-20T10:32:44.960Z"
   },
   {
    "duration": 33,
    "start_time": "2025-02-20T10:32:44.991Z"
   },
   {
    "duration": 48,
    "start_time": "2025-02-20T10:32:45.027Z"
   },
   {
    "duration": 112,
    "start_time": "2025-02-20T10:32:45.077Z"
   },
   {
    "duration": 12,
    "start_time": "2025-02-20T10:32:45.191Z"
   },
   {
    "duration": 1363,
    "start_time": "2025-02-20T10:32:45.205Z"
   },
   {
    "duration": 1054,
    "start_time": "2025-02-20T10:32:46.571Z"
   },
   {
    "duration": 6,
    "start_time": "2025-02-20T10:32:47.627Z"
   },
   {
    "duration": 10,
    "start_time": "2025-02-20T10:32:47.635Z"
   },
   {
    "duration": 8,
    "start_time": "2025-02-20T10:32:47.647Z"
   },
   {
    "duration": 21,
    "start_time": "2025-02-20T10:32:47.657Z"
   },
   {
    "duration": 11,
    "start_time": "2025-02-20T10:32:47.680Z"
   },
   {
    "duration": 69122,
    "start_time": "2025-02-20T10:32:47.693Z"
   },
   {
    "duration": 66426,
    "start_time": "2025-02-20T10:33:56.817Z"
   },
   {
    "duration": 19,
    "start_time": "2025-02-20T10:35:03.245Z"
   },
   {
    "duration": 24063,
    "start_time": "2025-02-20T10:39:03.569Z"
   },
   {
    "duration": 4,
    "start_time": "2025-02-20T10:39:27.634Z"
   },
   {
    "duration": 114,
    "start_time": "2025-02-20T10:39:27.639Z"
   },
   {
    "duration": 29,
    "start_time": "2025-02-20T10:39:27.756Z"
   },
   {
    "duration": 16,
    "start_time": "2025-02-20T10:39:27.788Z"
   },
   {
    "duration": 7,
    "start_time": "2025-02-20T10:39:27.806Z"
   },
   {
    "duration": 19,
    "start_time": "2025-02-20T10:39:27.815Z"
   },
   {
    "duration": 9,
    "start_time": "2025-02-20T10:39:27.836Z"
   },
   {
    "duration": 56,
    "start_time": "2025-02-20T10:39:27.847Z"
   },
   {
    "duration": 19,
    "start_time": "2025-02-20T10:39:27.907Z"
   },
   {
    "duration": 15,
    "start_time": "2025-02-20T10:39:27.928Z"
   },
   {
    "duration": 33,
    "start_time": "2025-02-20T10:39:27.946Z"
   },
   {
    "duration": 44,
    "start_time": "2025-02-20T10:39:27.981Z"
   },
   {
    "duration": 7,
    "start_time": "2025-02-20T10:39:28.027Z"
   },
   {
    "duration": 11,
    "start_time": "2025-02-20T10:39:28.036Z"
   },
   {
    "duration": 44,
    "start_time": "2025-02-20T10:39:28.048Z"
   },
   {
    "duration": 9,
    "start_time": "2025-02-20T10:39:28.094Z"
   },
   {
    "duration": 650,
    "start_time": "2025-02-20T10:39:28.104Z"
   },
   {
    "duration": 489,
    "start_time": "2025-02-20T10:39:28.756Z"
   },
   {
    "duration": 968,
    "start_time": "2025-02-20T10:39:29.246Z"
   },
   {
    "duration": 415,
    "start_time": "2025-02-20T10:39:30.216Z"
   },
   {
    "duration": 501,
    "start_time": "2025-02-20T10:39:30.633Z"
   },
   {
    "duration": 411,
    "start_time": "2025-02-20T10:39:31.136Z"
   },
   {
    "duration": 399,
    "start_time": "2025-02-20T10:39:31.549Z"
   },
   {
    "duration": 36,
    "start_time": "2025-02-20T10:39:31.950Z"
   },
   {
    "duration": 420,
    "start_time": "2025-02-20T10:39:31.988Z"
   },
   {
    "duration": 29,
    "start_time": "2025-02-20T10:39:32.411Z"
   },
   {
    "duration": 43,
    "start_time": "2025-02-20T10:39:32.443Z"
   },
   {
    "duration": 21,
    "start_time": "2025-02-20T10:39:32.488Z"
   },
   {
    "duration": 17,
    "start_time": "2025-02-20T10:39:32.511Z"
   },
   {
    "duration": 8,
    "start_time": "2025-02-20T10:39:32.529Z"
   },
   {
    "duration": 50,
    "start_time": "2025-02-20T10:39:32.539Z"
   },
   {
    "duration": 35,
    "start_time": "2025-02-20T10:39:32.591Z"
   },
   {
    "duration": 7,
    "start_time": "2025-02-20T10:39:32.628Z"
   },
   {
    "duration": 25,
    "start_time": "2025-02-20T10:39:32.638Z"
   },
   {
    "duration": 14,
    "start_time": "2025-02-20T10:39:32.665Z"
   },
   {
    "duration": 1085,
    "start_time": "2025-02-20T10:39:32.689Z"
   },
   {
    "duration": 1025,
    "start_time": "2025-02-20T10:39:33.780Z"
   },
   {
    "duration": 5,
    "start_time": "2025-02-20T10:39:34.807Z"
   },
   {
    "duration": 20,
    "start_time": "2025-02-20T10:39:34.813Z"
   },
   {
    "duration": 9,
    "start_time": "2025-02-20T10:39:34.835Z"
   },
   {
    "duration": 53,
    "start_time": "2025-02-20T10:39:34.846Z"
   },
   {
    "duration": 5,
    "start_time": "2025-02-20T10:39:34.902Z"
   },
   {
    "duration": 75625,
    "start_time": "2025-02-20T10:39:34.909Z"
   },
   {
    "duration": 58228,
    "start_time": "2025-02-20T10:40:50.536Z"
   },
   {
    "duration": 25,
    "start_time": "2025-02-20T10:41:48.766Z"
   },
   {
    "duration": 22614,
    "start_time": "2025-02-20T11:18:22.815Z"
   },
   {
    "duration": 3,
    "start_time": "2025-02-20T11:18:45.431Z"
   },
   {
    "duration": 109,
    "start_time": "2025-02-20T11:18:45.435Z"
   },
   {
    "duration": 21,
    "start_time": "2025-02-20T11:18:45.546Z"
   },
   {
    "duration": 26,
    "start_time": "2025-02-20T11:18:45.569Z"
   },
   {
    "duration": 7,
    "start_time": "2025-02-20T11:18:45.597Z"
   },
   {
    "duration": 17,
    "start_time": "2025-02-20T11:18:45.606Z"
   },
   {
    "duration": 10,
    "start_time": "2025-02-20T11:18:45.625Z"
   },
   {
    "duration": 42,
    "start_time": "2025-02-20T11:18:45.637Z"
   },
   {
    "duration": 20,
    "start_time": "2025-02-20T11:18:45.685Z"
   },
   {
    "duration": 14,
    "start_time": "2025-02-20T11:18:45.707Z"
   },
   {
    "duration": 15,
    "start_time": "2025-02-20T11:18:45.722Z"
   },
   {
    "duration": 65,
    "start_time": "2025-02-20T11:18:45.739Z"
   },
   {
    "duration": 7,
    "start_time": "2025-02-20T11:18:45.806Z"
   },
   {
    "duration": 24,
    "start_time": "2025-02-20T11:18:45.815Z"
   },
   {
    "duration": 28,
    "start_time": "2025-02-20T11:18:45.841Z"
   },
   {
    "duration": 15,
    "start_time": "2025-02-20T11:18:45.870Z"
   },
   {
    "duration": 616,
    "start_time": "2025-02-20T11:18:45.887Z"
   },
   {
    "duration": 457,
    "start_time": "2025-02-20T11:18:46.505Z"
   },
   {
    "duration": 1012,
    "start_time": "2025-02-20T11:18:46.973Z"
   },
   {
    "duration": 438,
    "start_time": "2025-02-20T11:18:47.988Z"
   },
   {
    "duration": 403,
    "start_time": "2025-02-20T11:18:48.428Z"
   },
   {
    "duration": 412,
    "start_time": "2025-02-20T11:18:48.832Z"
   },
   {
    "duration": 403,
    "start_time": "2025-02-20T11:18:49.246Z"
   },
   {
    "duration": 8,
    "start_time": "2025-02-20T11:18:49.651Z"
   },
   {
    "duration": 380,
    "start_time": "2025-02-20T11:18:49.673Z"
   },
   {
    "duration": 48,
    "start_time": "2025-02-20T11:18:50.054Z"
   },
   {
    "duration": 20,
    "start_time": "2025-02-20T11:18:50.106Z"
   },
   {
    "duration": 21,
    "start_time": "2025-02-20T11:18:50.128Z"
   },
   {
    "duration": 41,
    "start_time": "2025-02-20T11:18:50.150Z"
   },
   {
    "duration": 9,
    "start_time": "2025-02-20T11:18:50.193Z"
   },
   {
    "duration": 12,
    "start_time": "2025-02-20T11:18:50.204Z"
   },
   {
    "duration": 34,
    "start_time": "2025-02-20T11:18:50.218Z"
   },
   {
    "duration": 15,
    "start_time": "2025-02-20T11:18:50.273Z"
   },
   {
    "duration": 6,
    "start_time": "2025-02-20T11:18:50.290Z"
   },
   {
    "duration": 10,
    "start_time": "2025-02-20T11:18:50.298Z"
   },
   {
    "duration": 1096,
    "start_time": "2025-02-20T11:18:50.309Z"
   },
   {
    "duration": 994,
    "start_time": "2025-02-20T11:18:51.407Z"
   },
   {
    "duration": 12,
    "start_time": "2025-02-20T11:18:52.403Z"
   },
   {
    "duration": 13,
    "start_time": "2025-02-20T11:18:52.417Z"
   },
   {
    "duration": 17,
    "start_time": "2025-02-20T11:18:52.432Z"
   },
   {
    "duration": 19,
    "start_time": "2025-02-20T11:18:52.450Z"
   },
   {
    "duration": 77172,
    "start_time": "2025-02-20T11:18:52.470Z"
   },
   {
    "duration": 71127,
    "start_time": "2025-02-20T11:20:09.643Z"
   },
   {
    "duration": 26,
    "start_time": "2025-02-20T11:21:20.771Z"
   },
   {
    "duration": 12,
    "start_time": "2025-02-20T11:21:20.800Z"
   },
   {
    "duration": 23196,
    "start_time": "2025-02-20T11:26:13.290Z"
   },
   {
    "duration": 3,
    "start_time": "2025-02-20T11:26:36.488Z"
   },
   {
    "duration": 128,
    "start_time": "2025-02-20T11:26:36.493Z"
   },
   {
    "duration": 20,
    "start_time": "2025-02-20T11:26:36.623Z"
   },
   {
    "duration": 16,
    "start_time": "2025-02-20T11:26:36.644Z"
   },
   {
    "duration": 21,
    "start_time": "2025-02-20T11:26:36.662Z"
   },
   {
    "duration": 22,
    "start_time": "2025-02-20T11:26:36.685Z"
   },
   {
    "duration": 10,
    "start_time": "2025-02-20T11:26:36.709Z"
   },
   {
    "duration": 23,
    "start_time": "2025-02-20T11:26:36.720Z"
   },
   {
    "duration": 34,
    "start_time": "2025-02-20T11:26:36.746Z"
   },
   {
    "duration": 14,
    "start_time": "2025-02-20T11:26:36.782Z"
   },
   {
    "duration": 19,
    "start_time": "2025-02-20T11:26:36.797Z"
   },
   {
    "duration": 58,
    "start_time": "2025-02-20T11:26:36.817Z"
   },
   {
    "duration": 13,
    "start_time": "2025-02-20T11:26:36.879Z"
   },
   {
    "duration": 14,
    "start_time": "2025-02-20T11:26:36.894Z"
   },
   {
    "duration": 21,
    "start_time": "2025-02-20T11:26:36.910Z"
   },
   {
    "duration": 9,
    "start_time": "2025-02-20T11:26:36.932Z"
   },
   {
    "duration": 633,
    "start_time": "2025-02-20T11:26:36.943Z"
   },
   {
    "duration": 475,
    "start_time": "2025-02-20T11:26:37.578Z"
   },
   {
    "duration": 1050,
    "start_time": "2025-02-20T11:26:38.054Z"
   },
   {
    "duration": 431,
    "start_time": "2025-02-20T11:26:39.106Z"
   },
   {
    "duration": 409,
    "start_time": "2025-02-20T11:26:39.539Z"
   },
   {
    "duration": 443,
    "start_time": "2025-02-20T11:26:39.950Z"
   },
   {
    "duration": 462,
    "start_time": "2025-02-20T11:26:40.395Z"
   },
   {
    "duration": 19,
    "start_time": "2025-02-20T11:26:40.860Z"
   },
   {
    "duration": 424,
    "start_time": "2025-02-20T11:26:40.884Z"
   },
   {
    "duration": 28,
    "start_time": "2025-02-20T11:26:41.310Z"
   },
   {
    "duration": 46,
    "start_time": "2025-02-20T11:26:41.342Z"
   },
   {
    "duration": 20,
    "start_time": "2025-02-20T11:26:41.391Z"
   },
   {
    "duration": 16,
    "start_time": "2025-02-20T11:26:41.412Z"
   },
   {
    "duration": 9,
    "start_time": "2025-02-20T11:26:41.430Z"
   },
   {
    "duration": 45,
    "start_time": "2025-02-20T11:26:41.441Z"
   },
   {
    "duration": 34,
    "start_time": "2025-02-20T11:26:41.487Z"
   },
   {
    "duration": 7,
    "start_time": "2025-02-20T11:26:41.524Z"
   },
   {
    "duration": 7,
    "start_time": "2025-02-20T11:26:41.533Z"
   },
   {
    "duration": 6,
    "start_time": "2025-02-20T11:26:41.541Z"
   },
   {
    "duration": 1085,
    "start_time": "2025-02-20T11:26:41.549Z"
   },
   {
    "duration": 1109,
    "start_time": "2025-02-20T11:26:42.636Z"
   },
   {
    "duration": 7,
    "start_time": "2025-02-20T11:26:43.747Z"
   },
   {
    "duration": 11,
    "start_time": "2025-02-20T11:26:43.757Z"
   },
   {
    "duration": 17,
    "start_time": "2025-02-20T11:26:43.770Z"
   },
   {
    "duration": 7,
    "start_time": "2025-02-20T11:26:43.794Z"
   },
   {
    "duration": 11,
    "start_time": "2025-02-20T11:26:43.802Z"
   },
   {
    "duration": 72880,
    "start_time": "2025-02-20T11:26:43.815Z"
   },
   {
    "duration": 62920,
    "start_time": "2025-02-20T11:27:56.697Z"
   },
   {
    "duration": 18,
    "start_time": "2025-02-20T11:28:59.618Z"
   },
   {
    "duration": 22731,
    "start_time": "2025-02-20T11:30:08.025Z"
   },
   {
    "duration": 3,
    "start_time": "2025-02-20T11:30:30.758Z"
   },
   {
    "duration": 119,
    "start_time": "2025-02-20T11:30:30.763Z"
   },
   {
    "duration": 31,
    "start_time": "2025-02-20T11:30:30.884Z"
   },
   {
    "duration": 22,
    "start_time": "2025-02-20T11:30:30.919Z"
   },
   {
    "duration": 38,
    "start_time": "2025-02-20T11:30:30.943Z"
   },
   {
    "duration": 47,
    "start_time": "2025-02-20T11:30:30.983Z"
   },
   {
    "duration": 14,
    "start_time": "2025-02-20T11:30:31.033Z"
   },
   {
    "duration": 40,
    "start_time": "2025-02-20T11:30:31.049Z"
   },
   {
    "duration": 18,
    "start_time": "2025-02-20T11:30:31.090Z"
   },
   {
    "duration": 18,
    "start_time": "2025-02-20T11:30:31.110Z"
   },
   {
    "duration": 20,
    "start_time": "2025-02-20T11:30:31.130Z"
   },
   {
    "duration": 36,
    "start_time": "2025-02-20T11:30:31.171Z"
   },
   {
    "duration": 13,
    "start_time": "2025-02-20T11:30:31.210Z"
   },
   {
    "duration": 18,
    "start_time": "2025-02-20T11:30:31.226Z"
   },
   {
    "duration": 69,
    "start_time": "2025-02-20T11:30:31.274Z"
   },
   {
    "duration": 36,
    "start_time": "2025-02-20T11:30:31.345Z"
   },
   {
    "duration": 575,
    "start_time": "2025-02-20T11:30:31.383Z"
   },
   {
    "duration": 398,
    "start_time": "2025-02-20T11:30:31.960Z"
   },
   {
    "duration": 932,
    "start_time": "2025-02-20T11:30:32.360Z"
   },
   {
    "duration": 418,
    "start_time": "2025-02-20T11:30:33.294Z"
   },
   {
    "duration": 398,
    "start_time": "2025-02-20T11:30:33.715Z"
   },
   {
    "duration": 396,
    "start_time": "2025-02-20T11:30:34.115Z"
   },
   {
    "duration": 402,
    "start_time": "2025-02-20T11:30:34.513Z"
   },
   {
    "duration": 9,
    "start_time": "2025-02-20T11:30:34.917Z"
   },
   {
    "duration": 511,
    "start_time": "2025-02-20T11:30:34.928Z"
   },
   {
    "duration": 39,
    "start_time": "2025-02-20T11:30:35.441Z"
   },
   {
    "duration": 57,
    "start_time": "2025-02-20T11:30:35.481Z"
   },
   {
    "duration": 83,
    "start_time": "2025-02-20T11:30:35.540Z"
   },
   {
    "duration": 27,
    "start_time": "2025-02-20T11:30:35.626Z"
   },
   {
    "duration": 33,
    "start_time": "2025-02-20T11:30:35.655Z"
   },
   {
    "duration": 42,
    "start_time": "2025-02-20T11:30:35.690Z"
   },
   {
    "duration": 35,
    "start_time": "2025-02-20T11:30:35.735Z"
   },
   {
    "duration": 7,
    "start_time": "2025-02-20T11:30:35.772Z"
   },
   {
    "duration": 62,
    "start_time": "2025-02-20T11:30:35.781Z"
   },
   {
    "duration": 36,
    "start_time": "2025-02-20T11:30:35.845Z"
   },
   {
    "duration": 1035,
    "start_time": "2025-02-20T11:30:35.883Z"
   },
   {
    "duration": 1097,
    "start_time": "2025-02-20T11:30:36.920Z"
   },
   {
    "duration": 1472,
    "start_time": "2025-02-20T11:30:38.019Z"
   },
   {
    "duration": 0,
    "start_time": "2025-02-20T11:30:39.493Z"
   },
   {
    "duration": 0,
    "start_time": "2025-02-20T11:30:39.495Z"
   },
   {
    "duration": 0,
    "start_time": "2025-02-20T11:30:39.497Z"
   },
   {
    "duration": 0,
    "start_time": "2025-02-20T11:30:39.498Z"
   },
   {
    "duration": 0,
    "start_time": "2025-02-20T11:30:39.500Z"
   },
   {
    "duration": 0,
    "start_time": "2025-02-20T11:30:39.502Z"
   },
   {
    "duration": 0,
    "start_time": "2025-02-20T11:30:39.503Z"
   },
   {
    "duration": 1194,
    "start_time": "2025-02-20T11:31:59.072Z"
   },
   {
    "duration": 6,
    "start_time": "2025-02-20T11:32:23.512Z"
   },
   {
    "duration": 20,
    "start_time": "2025-02-20T11:32:27.639Z"
   },
   {
    "duration": 19,
    "start_time": "2025-02-20T11:33:07.159Z"
   },
   {
    "duration": 22025,
    "start_time": "2025-02-20T11:33:21.955Z"
   },
   {
    "duration": 3,
    "start_time": "2025-02-20T11:33:43.982Z"
   },
   {
    "duration": 111,
    "start_time": "2025-02-20T11:33:43.987Z"
   },
   {
    "duration": 21,
    "start_time": "2025-02-20T11:33:44.100Z"
   },
   {
    "duration": 16,
    "start_time": "2025-02-20T11:33:44.123Z"
   },
   {
    "duration": 7,
    "start_time": "2025-02-20T11:33:44.141Z"
   },
   {
    "duration": 36,
    "start_time": "2025-02-20T11:33:44.150Z"
   },
   {
    "duration": 10,
    "start_time": "2025-02-20T11:33:44.188Z"
   },
   {
    "duration": 19,
    "start_time": "2025-02-20T11:33:44.199Z"
   },
   {
    "duration": 21,
    "start_time": "2025-02-20T11:33:44.221Z"
   },
   {
    "duration": 35,
    "start_time": "2025-02-20T11:33:44.244Z"
   },
   {
    "duration": 14,
    "start_time": "2025-02-20T11:33:44.281Z"
   },
   {
    "duration": 43,
    "start_time": "2025-02-20T11:33:44.297Z"
   },
   {
    "duration": 32,
    "start_time": "2025-02-20T11:33:44.342Z"
   },
   {
    "duration": 35,
    "start_time": "2025-02-20T11:33:44.377Z"
   },
   {
    "duration": 18,
    "start_time": "2025-02-20T11:33:44.414Z"
   },
   {
    "duration": 9,
    "start_time": "2025-02-20T11:33:44.433Z"
   },
   {
    "duration": 629,
    "start_time": "2025-02-20T11:33:44.443Z"
   },
   {
    "duration": 516,
    "start_time": "2025-02-20T11:33:45.074Z"
   },
   {
    "duration": 1011,
    "start_time": "2025-02-20T11:33:45.593Z"
   },
   {
    "duration": 421,
    "start_time": "2025-02-20T11:33:46.605Z"
   },
   {
    "duration": 396,
    "start_time": "2025-02-20T11:33:47.028Z"
   },
   {
    "duration": 404,
    "start_time": "2025-02-20T11:33:47.426Z"
   },
   {
    "duration": 393,
    "start_time": "2025-02-20T11:33:47.831Z"
   },
   {
    "duration": 8,
    "start_time": "2025-02-20T11:33:48.226Z"
   },
   {
    "duration": 402,
    "start_time": "2025-02-20T11:33:48.236Z"
   },
   {
    "duration": 44,
    "start_time": "2025-02-20T11:33:48.640Z"
   },
   {
    "duration": 20,
    "start_time": "2025-02-20T11:33:48.688Z"
   },
   {
    "duration": 18,
    "start_time": "2025-02-20T11:33:48.710Z"
   },
   {
    "duration": 47,
    "start_time": "2025-02-20T11:33:48.730Z"
   },
   {
    "duration": 11,
    "start_time": "2025-02-20T11:33:48.779Z"
   },
   {
    "duration": 13,
    "start_time": "2025-02-20T11:33:48.792Z"
   },
   {
    "duration": 44,
    "start_time": "2025-02-20T11:33:48.806Z"
   },
   {
    "duration": 6,
    "start_time": "2025-02-20T11:33:48.871Z"
   },
   {
    "duration": 5,
    "start_time": "2025-02-20T11:33:48.879Z"
   },
   {
    "duration": 6,
    "start_time": "2025-02-20T11:33:48.886Z"
   },
   {
    "duration": 1078,
    "start_time": "2025-02-20T11:33:48.894Z"
   },
   {
    "duration": 995,
    "start_time": "2025-02-20T11:33:49.974Z"
   },
   {
    "duration": 5,
    "start_time": "2025-02-20T11:33:50.971Z"
   },
   {
    "duration": 27,
    "start_time": "2025-02-20T11:33:50.978Z"
   },
   {
    "duration": 16,
    "start_time": "2025-02-20T11:33:51.007Z"
   },
   {
    "duration": 17,
    "start_time": "2025-02-20T11:33:51.026Z"
   },
   {
    "duration": 30,
    "start_time": "2025-02-20T11:33:51.045Z"
   },
   {
    "duration": 62520,
    "start_time": "2025-02-20T11:33:51.077Z"
   },
   {
    "duration": 50607,
    "start_time": "2025-02-20T11:34:53.599Z"
   },
   {
    "duration": 13,
    "start_time": "2025-02-20T11:35:44.208Z"
   },
   {
    "duration": 23588,
    "start_time": "2025-02-20T11:37:39.940Z"
   },
   {
    "duration": 3,
    "start_time": "2025-02-20T11:38:03.531Z"
   },
   {
    "duration": 136,
    "start_time": "2025-02-20T11:38:03.535Z"
   },
   {
    "duration": 34,
    "start_time": "2025-02-20T11:38:03.683Z"
   },
   {
    "duration": 16,
    "start_time": "2025-02-20T11:38:03.720Z"
   },
   {
    "duration": 7,
    "start_time": "2025-02-20T11:38:03.738Z"
   },
   {
    "duration": 48,
    "start_time": "2025-02-20T11:38:03.747Z"
   },
   {
    "duration": 9,
    "start_time": "2025-02-20T11:38:03.797Z"
   },
   {
    "duration": 25,
    "start_time": "2025-02-20T11:38:03.808Z"
   },
   {
    "duration": 14,
    "start_time": "2025-02-20T11:38:03.835Z"
   },
   {
    "duration": 37,
    "start_time": "2025-02-20T11:38:03.850Z"
   },
   {
    "duration": 47,
    "start_time": "2025-02-20T11:38:03.889Z"
   },
   {
    "duration": 112,
    "start_time": "2025-02-20T11:38:03.938Z"
   },
   {
    "duration": 43,
    "start_time": "2025-02-20T11:38:04.053Z"
   },
   {
    "duration": 65,
    "start_time": "2025-02-20T11:38:04.098Z"
   },
   {
    "duration": 33,
    "start_time": "2025-02-20T11:38:04.165Z"
   },
   {
    "duration": 22,
    "start_time": "2025-02-20T11:38:04.200Z"
   },
   {
    "duration": 669,
    "start_time": "2025-02-20T11:38:04.223Z"
   },
   {
    "duration": 469,
    "start_time": "2025-02-20T11:38:04.893Z"
   },
   {
    "duration": 957,
    "start_time": "2025-02-20T11:38:05.372Z"
   },
   {
    "duration": 449,
    "start_time": "2025-02-20T11:38:06.331Z"
   },
   {
    "duration": 353,
    "start_time": "2025-02-20T11:38:06.784Z"
   },
   {
    "duration": 401,
    "start_time": "2025-02-20T11:38:07.139Z"
   },
   {
    "duration": 403,
    "start_time": "2025-02-20T11:38:07.543Z"
   },
   {
    "duration": 9,
    "start_time": "2025-02-20T11:38:07.948Z"
   },
   {
    "duration": 462,
    "start_time": "2025-02-20T11:38:07.959Z"
   },
   {
    "duration": 35,
    "start_time": "2025-02-20T11:38:08.424Z"
   },
   {
    "duration": 38,
    "start_time": "2025-02-20T11:38:08.461Z"
   },
   {
    "duration": 22,
    "start_time": "2025-02-20T11:38:08.500Z"
   },
   {
    "duration": 30,
    "start_time": "2025-02-20T11:38:08.524Z"
   },
   {
    "duration": 17,
    "start_time": "2025-02-20T11:38:08.556Z"
   },
   {
    "duration": 23,
    "start_time": "2025-02-20T11:38:08.583Z"
   },
   {
    "duration": 54,
    "start_time": "2025-02-20T11:38:08.608Z"
   },
   {
    "duration": 25,
    "start_time": "2025-02-20T11:38:08.664Z"
   },
   {
    "duration": 19,
    "start_time": "2025-02-20T11:38:08.691Z"
   },
   {
    "duration": 31,
    "start_time": "2025-02-20T11:38:08.712Z"
   },
   {
    "duration": 1171,
    "start_time": "2025-02-20T11:38:08.744Z"
   },
   {
    "duration": 1255,
    "start_time": "2025-02-20T11:38:09.917Z"
   },
   {
    "duration": 5,
    "start_time": "2025-02-20T11:38:11.177Z"
   },
   {
    "duration": 63,
    "start_time": "2025-02-20T11:38:11.184Z"
   },
   {
    "duration": 12,
    "start_time": "2025-02-20T11:38:11.254Z"
   },
   {
    "duration": 58,
    "start_time": "2025-02-20T11:38:11.268Z"
   },
   {
    "duration": 37,
    "start_time": "2025-02-20T11:38:11.329Z"
   },
   {
    "duration": 66132,
    "start_time": "2025-02-20T11:38:11.368Z"
   },
   {
    "duration": 65763,
    "start_time": "2025-02-20T11:39:17.502Z"
   },
   {
    "duration": 27,
    "start_time": "2025-02-20T11:40:23.267Z"
   },
   {
    "duration": 195,
    "start_time": "2025-02-20T11:44:16.540Z"
   },
   {
    "duration": 33,
    "start_time": "2025-02-20T11:44:39.145Z"
   },
   {
    "duration": 5178,
    "start_time": "2025-02-20T11:47:00.202Z"
   },
   {
    "duration": 56,
    "start_time": "2025-02-20T11:48:02.403Z"
   },
   {
    "duration": 27394,
    "start_time": "2025-02-20T11:48:26.760Z"
   },
   {
    "duration": 3,
    "start_time": "2025-02-20T11:48:54.157Z"
   },
   {
    "duration": 387,
    "start_time": "2025-02-20T11:48:54.161Z"
   },
   {
    "duration": 23,
    "start_time": "2025-02-20T11:48:54.550Z"
   },
   {
    "duration": 27,
    "start_time": "2025-02-20T11:48:54.577Z"
   },
   {
    "duration": 7,
    "start_time": "2025-02-20T11:48:54.607Z"
   },
   {
    "duration": 21,
    "start_time": "2025-02-20T11:48:54.616Z"
   },
   {
    "duration": 37,
    "start_time": "2025-02-20T11:48:54.639Z"
   },
   {
    "duration": 21,
    "start_time": "2025-02-20T11:48:54.679Z"
   },
   {
    "duration": 16,
    "start_time": "2025-02-20T11:48:54.702Z"
   },
   {
    "duration": 13,
    "start_time": "2025-02-20T11:48:54.720Z"
   },
   {
    "duration": 54,
    "start_time": "2025-02-20T11:48:54.735Z"
   },
   {
    "duration": 59,
    "start_time": "2025-02-20T11:48:54.792Z"
   },
   {
    "duration": 23,
    "start_time": "2025-02-20T11:48:54.856Z"
   },
   {
    "duration": 23,
    "start_time": "2025-02-20T11:48:54.881Z"
   },
   {
    "duration": 19,
    "start_time": "2025-02-20T11:48:54.906Z"
   },
   {
    "duration": 10,
    "start_time": "2025-02-20T11:48:54.927Z"
   },
   {
    "duration": 780,
    "start_time": "2025-02-20T11:48:54.939Z"
   },
   {
    "duration": 536,
    "start_time": "2025-02-20T11:48:55.721Z"
   },
   {
    "duration": 1056,
    "start_time": "2025-02-20T11:48:56.259Z"
   },
   {
    "duration": 433,
    "start_time": "2025-02-20T11:48:57.317Z"
   },
   {
    "duration": 432,
    "start_time": "2025-02-20T11:48:57.753Z"
   },
   {
    "duration": 478,
    "start_time": "2025-02-20T11:48:58.188Z"
   },
   {
    "duration": 472,
    "start_time": "2025-02-20T11:48:58.672Z"
   },
   {
    "duration": 13,
    "start_time": "2025-02-20T11:48:59.146Z"
   },
   {
    "duration": 447,
    "start_time": "2025-02-20T11:48:59.175Z"
   },
   {
    "duration": 28,
    "start_time": "2025-02-20T11:48:59.624Z"
   },
   {
    "duration": 42,
    "start_time": "2025-02-20T11:48:59.654Z"
   },
   {
    "duration": 28,
    "start_time": "2025-02-20T11:48:59.698Z"
   },
   {
    "duration": 45,
    "start_time": "2025-02-20T11:48:59.728Z"
   },
   {
    "duration": 14,
    "start_time": "2025-02-20T11:48:59.775Z"
   },
   {
    "duration": 26,
    "start_time": "2025-02-20T11:48:59.792Z"
   },
   {
    "duration": 33,
    "start_time": "2025-02-20T11:48:59.820Z"
   },
   {
    "duration": 7,
    "start_time": "2025-02-20T11:48:59.872Z"
   },
   {
    "duration": 16,
    "start_time": "2025-02-20T11:48:59.881Z"
   },
   {
    "duration": 10,
    "start_time": "2025-02-20T11:48:59.899Z"
   },
   {
    "duration": 1128,
    "start_time": "2025-02-20T11:48:59.911Z"
   },
   {
    "duration": 1088,
    "start_time": "2025-02-20T11:49:01.041Z"
   },
   {
    "duration": 6,
    "start_time": "2025-02-20T11:49:02.130Z"
   },
   {
    "duration": 53,
    "start_time": "2025-02-20T11:49:02.138Z"
   },
   {
    "duration": 28,
    "start_time": "2025-02-20T11:49:02.195Z"
   },
   {
    "duration": 12,
    "start_time": "2025-02-20T11:49:02.226Z"
   },
   {
    "duration": 117,
    "start_time": "2025-02-20T11:49:02.240Z"
   },
   {
    "duration": 66942,
    "start_time": "2025-02-20T11:49:02.359Z"
   },
   {
    "duration": 67240,
    "start_time": "2025-02-20T11:50:09.304Z"
   },
   {
    "duration": 3750,
    "start_time": "2025-02-20T11:51:16.546Z"
   },
   {
    "duration": 26726,
    "start_time": "2025-02-20T11:52:01.574Z"
   },
   {
    "duration": 3,
    "start_time": "2025-02-20T11:52:28.302Z"
   },
   {
    "duration": 327,
    "start_time": "2025-02-20T11:52:28.307Z"
   },
   {
    "duration": 21,
    "start_time": "2025-02-20T11:52:28.636Z"
   },
   {
    "duration": 22,
    "start_time": "2025-02-20T11:52:28.659Z"
   },
   {
    "duration": 10,
    "start_time": "2025-02-20T11:52:28.683Z"
   },
   {
    "duration": 20,
    "start_time": "2025-02-20T11:52:28.695Z"
   },
   {
    "duration": 9,
    "start_time": "2025-02-20T11:52:28.717Z"
   },
   {
    "duration": 13,
    "start_time": "2025-02-20T11:52:28.727Z"
   },
   {
    "duration": 35,
    "start_time": "2025-02-20T11:52:28.742Z"
   },
   {
    "duration": 15,
    "start_time": "2025-02-20T11:52:28.780Z"
   },
   {
    "duration": 21,
    "start_time": "2025-02-20T11:52:28.797Z"
   },
   {
    "duration": 53,
    "start_time": "2025-02-20T11:52:28.819Z"
   },
   {
    "duration": 10,
    "start_time": "2025-02-20T11:52:28.878Z"
   },
   {
    "duration": 12,
    "start_time": "2025-02-20T11:52:28.891Z"
   },
   {
    "duration": 18,
    "start_time": "2025-02-20T11:52:28.905Z"
   },
   {
    "duration": 10,
    "start_time": "2025-02-20T11:52:28.925Z"
   },
   {
    "duration": 684,
    "start_time": "2025-02-20T11:52:28.988Z"
   },
   {
    "duration": 476,
    "start_time": "2025-02-20T11:52:29.674Z"
   },
   {
    "duration": 975,
    "start_time": "2025-02-20T11:52:30.152Z"
   },
   {
    "duration": 413,
    "start_time": "2025-02-20T11:52:31.128Z"
   },
   {
    "duration": 404,
    "start_time": "2025-02-20T11:52:31.543Z"
   },
   {
    "duration": 440,
    "start_time": "2025-02-20T11:52:31.949Z"
   },
   {
    "duration": 452,
    "start_time": "2025-02-20T11:52:32.391Z"
   },
   {
    "duration": 9,
    "start_time": "2025-02-20T11:52:32.846Z"
   },
   {
    "duration": 477,
    "start_time": "2025-02-20T11:52:32.857Z"
   },
   {
    "duration": 36,
    "start_time": "2025-02-20T11:52:33.336Z"
   },
   {
    "duration": 44,
    "start_time": "2025-02-20T11:52:33.374Z"
   },
   {
    "duration": 27,
    "start_time": "2025-02-20T11:52:33.420Z"
   },
   {
    "duration": 53,
    "start_time": "2025-02-20T11:52:33.449Z"
   },
   {
    "duration": 15,
    "start_time": "2025-02-20T11:52:33.504Z"
   },
   {
    "duration": 12,
    "start_time": "2025-02-20T11:52:33.521Z"
   },
   {
    "duration": 39,
    "start_time": "2025-02-20T11:52:33.535Z"
   },
   {
    "duration": 10,
    "start_time": "2025-02-20T11:52:33.576Z"
   },
   {
    "duration": 9,
    "start_time": "2025-02-20T11:52:33.588Z"
   },
   {
    "duration": 16,
    "start_time": "2025-02-20T11:52:33.599Z"
   },
   {
    "duration": 1114,
    "start_time": "2025-02-20T11:52:33.617Z"
   },
   {
    "duration": 1080,
    "start_time": "2025-02-20T11:52:34.733Z"
   },
   {
    "duration": 5,
    "start_time": "2025-02-20T11:52:35.814Z"
   },
   {
    "duration": 193,
    "start_time": "2025-02-20T11:52:35.821Z"
   },
   {
    "duration": 0,
    "start_time": "2025-02-20T11:52:36.016Z"
   },
   {
    "duration": 0,
    "start_time": "2025-02-20T11:52:36.018Z"
   },
   {
    "duration": 0,
    "start_time": "2025-02-20T11:52:36.019Z"
   },
   {
    "duration": 0,
    "start_time": "2025-02-20T11:52:36.020Z"
   },
   {
    "duration": 0,
    "start_time": "2025-02-20T11:52:36.022Z"
   },
   {
    "duration": 0,
    "start_time": "2025-02-20T11:52:36.023Z"
   },
   {
    "duration": 0,
    "start_time": "2025-02-20T11:52:36.024Z"
   },
   {
    "duration": 0,
    "start_time": "2025-02-20T11:52:36.026Z"
   },
   {
    "duration": 22985,
    "start_time": "2025-02-20T11:53:46.630Z"
   },
   {
    "duration": 4,
    "start_time": "2025-02-20T11:54:09.617Z"
   },
   {
    "duration": 110,
    "start_time": "2025-02-20T11:54:09.623Z"
   },
   {
    "duration": 21,
    "start_time": "2025-02-20T11:54:09.736Z"
   },
   {
    "duration": 27,
    "start_time": "2025-02-20T11:54:09.759Z"
   },
   {
    "duration": 9,
    "start_time": "2025-02-20T11:54:09.788Z"
   },
   {
    "duration": 18,
    "start_time": "2025-02-20T11:54:09.799Z"
   },
   {
    "duration": 10,
    "start_time": "2025-02-20T11:54:09.819Z"
   },
   {
    "duration": 21,
    "start_time": "2025-02-20T11:54:09.830Z"
   },
   {
    "duration": 15,
    "start_time": "2025-02-20T11:54:09.874Z"
   },
   {
    "duration": 14,
    "start_time": "2025-02-20T11:54:09.891Z"
   },
   {
    "duration": 16,
    "start_time": "2025-02-20T11:54:09.907Z"
   },
   {
    "duration": 59,
    "start_time": "2025-02-20T11:54:09.925Z"
   },
   {
    "duration": 10,
    "start_time": "2025-02-20T11:54:09.986Z"
   },
   {
    "duration": 12,
    "start_time": "2025-02-20T11:54:09.998Z"
   },
   {
    "duration": 35,
    "start_time": "2025-02-20T11:54:10.012Z"
   },
   {
    "duration": 28,
    "start_time": "2025-02-20T11:54:10.050Z"
   },
   {
    "duration": 673,
    "start_time": "2025-02-20T11:54:10.080Z"
   },
   {
    "duration": 532,
    "start_time": "2025-02-20T11:54:10.755Z"
   },
   {
    "duration": 1139,
    "start_time": "2025-02-20T11:54:11.289Z"
   },
   {
    "duration": 399,
    "start_time": "2025-02-20T11:54:12.430Z"
   },
   {
    "duration": 406,
    "start_time": "2025-02-20T11:54:12.831Z"
   },
   {
    "duration": 404,
    "start_time": "2025-02-20T11:54:13.239Z"
   },
   {
    "duration": 404,
    "start_time": "2025-02-20T11:54:13.644Z"
   },
   {
    "duration": 23,
    "start_time": "2025-02-20T11:54:14.050Z"
   },
   {
    "duration": 461,
    "start_time": "2025-02-20T11:54:14.076Z"
   },
   {
    "duration": 37,
    "start_time": "2025-02-20T11:54:14.538Z"
   },
   {
    "duration": 22,
    "start_time": "2025-02-20T11:54:14.580Z"
   },
   {
    "duration": 29,
    "start_time": "2025-02-20T11:54:14.604Z"
   },
   {
    "duration": 15,
    "start_time": "2025-02-20T11:54:14.635Z"
   },
   {
    "duration": 25,
    "start_time": "2025-02-20T11:54:14.652Z"
   },
   {
    "duration": 22,
    "start_time": "2025-02-20T11:54:14.678Z"
   },
   {
    "duration": 34,
    "start_time": "2025-02-20T11:54:14.702Z"
   },
   {
    "duration": 6,
    "start_time": "2025-02-20T11:54:14.738Z"
   },
   {
    "duration": 32,
    "start_time": "2025-02-20T11:54:14.746Z"
   },
   {
    "duration": 15,
    "start_time": "2025-02-20T11:54:14.781Z"
   },
   {
    "duration": 1095,
    "start_time": "2025-02-20T11:54:14.798Z"
   },
   {
    "duration": 1015,
    "start_time": "2025-02-20T11:54:15.894Z"
   },
   {
    "duration": 4,
    "start_time": "2025-02-20T11:54:16.912Z"
   },
   {
    "duration": 12,
    "start_time": "2025-02-20T11:54:16.918Z"
   },
   {
    "duration": 200,
    "start_time": "2025-02-20T11:54:16.932Z"
   },
   {
    "duration": 0,
    "start_time": "2025-02-20T11:54:17.133Z"
   },
   {
    "duration": 0,
    "start_time": "2025-02-20T11:54:17.135Z"
   },
   {
    "duration": 0,
    "start_time": "2025-02-20T11:54:17.136Z"
   },
   {
    "duration": 0,
    "start_time": "2025-02-20T11:54:17.138Z"
   },
   {
    "duration": 0,
    "start_time": "2025-02-20T11:54:17.139Z"
   },
   {
    "duration": 0,
    "start_time": "2025-02-20T11:54:17.140Z"
   },
   {
    "duration": 0,
    "start_time": "2025-02-20T11:54:17.141Z"
   },
   {
    "duration": 11,
    "start_time": "2025-02-20T11:54:53.630Z"
   },
   {
    "duration": 74738,
    "start_time": "2025-02-20T11:54:57.263Z"
   },
   {
    "duration": 65778,
    "start_time": "2025-02-20T11:56:40.605Z"
   },
   {
    "duration": 125,
    "start_time": "2025-02-20T12:01:52.590Z"
   },
   {
    "duration": 86,
    "start_time": "2025-02-20T12:02:43.453Z"
   },
   {
    "duration": 109,
    "start_time": "2025-02-20T12:03:43.777Z"
   },
   {
    "duration": 76425,
    "start_time": "2025-02-20T12:04:38.364Z"
   },
   {
    "duration": 71,
    "start_time": "2025-02-20T12:06:35.036Z"
   },
   {
    "duration": 37,
    "start_time": "2025-02-20T12:07:09.310Z"
   },
   {
    "duration": 23241,
    "start_time": "2025-02-20T12:07:28.752Z"
   },
   {
    "duration": 4,
    "start_time": "2025-02-20T12:07:51.995Z"
   },
   {
    "duration": 110,
    "start_time": "2025-02-20T12:07:52.002Z"
   },
   {
    "duration": 19,
    "start_time": "2025-02-20T12:07:52.115Z"
   },
   {
    "duration": 24,
    "start_time": "2025-02-20T12:07:52.136Z"
   },
   {
    "duration": 37,
    "start_time": "2025-02-20T12:07:52.162Z"
   },
   {
    "duration": 44,
    "start_time": "2025-02-20T12:07:52.201Z"
   },
   {
    "duration": 10,
    "start_time": "2025-02-20T12:07:52.247Z"
   },
   {
    "duration": 41,
    "start_time": "2025-02-20T12:07:52.258Z"
   },
   {
    "duration": 20,
    "start_time": "2025-02-20T12:07:52.302Z"
   },
   {
    "duration": 21,
    "start_time": "2025-02-20T12:07:52.324Z"
   },
   {
    "duration": 44,
    "start_time": "2025-02-20T12:07:52.346Z"
   },
   {
    "duration": 39,
    "start_time": "2025-02-20T12:07:52.392Z"
   },
   {
    "duration": 8,
    "start_time": "2025-02-20T12:07:52.432Z"
   },
   {
    "duration": 67,
    "start_time": "2025-02-20T12:07:52.441Z"
   },
   {
    "duration": 23,
    "start_time": "2025-02-20T12:07:52.510Z"
   },
   {
    "duration": 26,
    "start_time": "2025-02-20T12:07:52.534Z"
   },
   {
    "duration": 602,
    "start_time": "2025-02-20T12:07:52.561Z"
   },
   {
    "duration": 415,
    "start_time": "2025-02-20T12:07:53.165Z"
   },
   {
    "duration": 942,
    "start_time": "2025-02-20T12:07:53.585Z"
   },
   {
    "duration": 410,
    "start_time": "2025-02-20T12:07:54.529Z"
   },
   {
    "duration": 390,
    "start_time": "2025-02-20T12:07:54.941Z"
   },
   {
    "duration": 412,
    "start_time": "2025-02-20T12:07:55.333Z"
   },
   {
    "duration": 402,
    "start_time": "2025-02-20T12:07:55.746Z"
   },
   {
    "duration": 9,
    "start_time": "2025-02-20T12:07:56.150Z"
   },
   {
    "duration": 437,
    "start_time": "2025-02-20T12:07:56.160Z"
   },
   {
    "duration": 28,
    "start_time": "2025-02-20T12:07:56.600Z"
   },
   {
    "duration": 20,
    "start_time": "2025-02-20T12:07:56.631Z"
   },
   {
    "duration": 49,
    "start_time": "2025-02-20T12:07:56.653Z"
   },
   {
    "duration": 15,
    "start_time": "2025-02-20T12:07:56.705Z"
   },
   {
    "duration": 7,
    "start_time": "2025-02-20T12:07:56.721Z"
   },
   {
    "duration": 13,
    "start_time": "2025-02-20T12:07:56.730Z"
   },
   {
    "duration": 68,
    "start_time": "2025-02-20T12:07:56.744Z"
   },
   {
    "duration": 5,
    "start_time": "2025-02-20T12:07:56.813Z"
   },
   {
    "duration": 6,
    "start_time": "2025-02-20T12:07:56.820Z"
   },
   {
    "duration": 5,
    "start_time": "2025-02-20T12:07:56.827Z"
   },
   {
    "duration": 1121,
    "start_time": "2025-02-20T12:07:56.834Z"
   },
   {
    "duration": 1084,
    "start_time": "2025-02-20T12:07:57.957Z"
   },
   {
    "duration": 6,
    "start_time": "2025-02-20T12:07:59.044Z"
   },
   {
    "duration": 10,
    "start_time": "2025-02-20T12:07:59.053Z"
   },
   {
    "duration": 13,
    "start_time": "2025-02-20T12:07:59.066Z"
   },
   {
    "duration": 77835,
    "start_time": "2025-02-20T12:07:59.082Z"
   },
   {
    "duration": 5,
    "start_time": "2025-02-20T12:09:16.919Z"
   },
   {
    "duration": 19,
    "start_time": "2025-02-20T12:09:16.926Z"
   },
   {
    "duration": 66579,
    "start_time": "2025-02-20T12:09:16.947Z"
   },
   {
    "duration": 48,
    "start_time": "2025-02-20T12:10:23.529Z"
   },
   {
    "duration": 25,
    "start_time": "2025-02-20T12:10:23.590Z"
   },
   {
    "duration": 36,
    "start_time": "2025-02-20T12:11:31.990Z"
   },
   {
    "duration": 85730,
    "start_time": "2025-02-20T12:13:11.588Z"
   },
   {
    "duration": 305,
    "start_time": "2025-02-20T12:14:50.377Z"
   },
   {
    "duration": 24903,
    "start_time": "2025-02-20T12:16:03.359Z"
   },
   {
    "duration": 3,
    "start_time": "2025-02-20T12:16:28.264Z"
   },
   {
    "duration": 120,
    "start_time": "2025-02-20T12:16:28.277Z"
   },
   {
    "duration": 21,
    "start_time": "2025-02-20T12:16:28.400Z"
   },
   {
    "duration": 15,
    "start_time": "2025-02-20T12:16:28.423Z"
   },
   {
    "duration": 7,
    "start_time": "2025-02-20T12:16:28.440Z"
   },
   {
    "duration": 40,
    "start_time": "2025-02-20T12:16:28.450Z"
   },
   {
    "duration": 15,
    "start_time": "2025-02-20T12:16:28.493Z"
   },
   {
    "duration": 36,
    "start_time": "2025-02-20T12:16:28.510Z"
   },
   {
    "duration": 23,
    "start_time": "2025-02-20T12:16:28.550Z"
   },
   {
    "duration": 23,
    "start_time": "2025-02-20T12:16:28.577Z"
   },
   {
    "duration": 17,
    "start_time": "2025-02-20T12:16:28.602Z"
   },
   {
    "duration": 58,
    "start_time": "2025-02-20T12:16:28.621Z"
   },
   {
    "duration": 13,
    "start_time": "2025-02-20T12:16:28.680Z"
   },
   {
    "duration": 13,
    "start_time": "2025-02-20T12:16:28.695Z"
   },
   {
    "duration": 23,
    "start_time": "2025-02-20T12:16:28.710Z"
   },
   {
    "duration": 56,
    "start_time": "2025-02-20T12:16:28.735Z"
   },
   {
    "duration": 715,
    "start_time": "2025-02-20T12:16:28.794Z"
   },
   {
    "duration": 477,
    "start_time": "2025-02-20T12:16:29.511Z"
   },
   {
    "duration": 1073,
    "start_time": "2025-02-20T12:16:29.991Z"
   },
   {
    "duration": 483,
    "start_time": "2025-02-20T12:16:31.066Z"
   },
   {
    "duration": 479,
    "start_time": "2025-02-20T12:16:31.550Z"
   },
   {
    "duration": 421,
    "start_time": "2025-02-20T12:16:32.031Z"
   },
   {
    "duration": 407,
    "start_time": "2025-02-20T12:16:32.453Z"
   },
   {
    "duration": 32,
    "start_time": "2025-02-20T12:16:32.862Z"
   },
   {
    "duration": 480,
    "start_time": "2025-02-20T12:16:32.898Z"
   },
   {
    "duration": 34,
    "start_time": "2025-02-20T12:16:33.380Z"
   },
   {
    "duration": 22,
    "start_time": "2025-02-20T12:16:33.418Z"
   },
   {
    "duration": 90,
    "start_time": "2025-02-20T12:16:33.442Z"
   },
   {
    "duration": 14,
    "start_time": "2025-02-20T12:16:33.535Z"
   },
   {
    "duration": 12,
    "start_time": "2025-02-20T12:16:33.551Z"
   },
   {
    "duration": 30,
    "start_time": "2025-02-20T12:16:33.565Z"
   },
   {
    "duration": 37,
    "start_time": "2025-02-20T12:16:33.597Z"
   },
   {
    "duration": 14,
    "start_time": "2025-02-20T12:16:33.636Z"
   },
   {
    "duration": 28,
    "start_time": "2025-02-20T12:16:33.652Z"
   },
   {
    "duration": 6,
    "start_time": "2025-02-20T12:16:33.691Z"
   },
   {
    "duration": 1184,
    "start_time": "2025-02-20T12:16:33.699Z"
   },
   {
    "duration": 1095,
    "start_time": "2025-02-20T12:16:34.885Z"
   },
   {
    "duration": 8,
    "start_time": "2025-02-20T12:16:35.987Z"
   },
   {
    "duration": 18,
    "start_time": "2025-02-20T12:16:35.998Z"
   },
   {
    "duration": 16,
    "start_time": "2025-02-20T12:16:36.018Z"
   },
   {
    "duration": 80621,
    "start_time": "2025-02-20T12:16:36.036Z"
   },
   {
    "duration": 221,
    "start_time": "2025-02-20T12:17:56.660Z"
   },
   {
    "duration": 0,
    "start_time": "2025-02-20T12:17:56.887Z"
   },
   {
    "duration": 0,
    "start_time": "2025-02-20T12:17:56.888Z"
   },
   {
    "duration": 0,
    "start_time": "2025-02-20T12:17:56.889Z"
   },
   {
    "duration": 0,
    "start_time": "2025-02-20T12:17:56.890Z"
   },
   {
    "duration": 0,
    "start_time": "2025-02-20T12:17:56.891Z"
   },
   {
    "duration": 16,
    "start_time": "2025-02-20T12:19:23.488Z"
   },
   {
    "duration": 16,
    "start_time": "2025-02-20T12:19:38.821Z"
   },
   {
    "duration": 21,
    "start_time": "2025-02-20T12:19:43.175Z"
   },
   {
    "duration": 21,
    "start_time": "2025-02-20T12:21:11.269Z"
   },
   {
    "duration": 8,
    "start_time": "2025-02-20T12:21:25.605Z"
   },
   {
    "duration": 8,
    "start_time": "2025-02-20T12:22:53.518Z"
   },
   {
    "duration": 23,
    "start_time": "2025-02-20T12:23:34.382Z"
   },
   {
    "duration": 23437,
    "start_time": "2025-02-20T12:24:19.980Z"
   },
   {
    "duration": 2,
    "start_time": "2025-02-20T12:24:43.419Z"
   },
   {
    "duration": 119,
    "start_time": "2025-02-20T12:24:43.423Z"
   },
   {
    "duration": 21,
    "start_time": "2025-02-20T12:24:43.544Z"
   },
   {
    "duration": 24,
    "start_time": "2025-02-20T12:24:43.567Z"
   },
   {
    "duration": 12,
    "start_time": "2025-02-20T12:24:43.592Z"
   },
   {
    "duration": 18,
    "start_time": "2025-02-20T12:24:43.605Z"
   },
   {
    "duration": 9,
    "start_time": "2025-02-20T12:24:43.625Z"
   },
   {
    "duration": 47,
    "start_time": "2025-02-20T12:24:43.636Z"
   },
   {
    "duration": 20,
    "start_time": "2025-02-20T12:24:43.686Z"
   },
   {
    "duration": 22,
    "start_time": "2025-02-20T12:24:43.708Z"
   },
   {
    "duration": 14,
    "start_time": "2025-02-20T12:24:43.732Z"
   },
   {
    "duration": 53,
    "start_time": "2025-02-20T12:24:43.748Z"
   },
   {
    "duration": 8,
    "start_time": "2025-02-20T12:24:43.804Z"
   },
   {
    "duration": 12,
    "start_time": "2025-02-20T12:24:43.815Z"
   },
   {
    "duration": 46,
    "start_time": "2025-02-20T12:24:43.829Z"
   },
   {
    "duration": 22,
    "start_time": "2025-02-20T12:24:43.877Z"
   },
   {
    "duration": 656,
    "start_time": "2025-02-20T12:24:43.901Z"
   },
   {
    "duration": 433,
    "start_time": "2025-02-20T12:24:44.576Z"
   },
   {
    "duration": 1049,
    "start_time": "2025-02-20T12:24:45.011Z"
   },
   {
    "duration": 375,
    "start_time": "2025-02-20T12:24:46.061Z"
   },
   {
    "duration": 395,
    "start_time": "2025-02-20T12:24:46.438Z"
   },
   {
    "duration": 410,
    "start_time": "2025-02-20T12:24:46.835Z"
   },
   {
    "duration": 392,
    "start_time": "2025-02-20T12:24:47.247Z"
   },
   {
    "duration": 12,
    "start_time": "2025-02-20T12:24:47.641Z"
   },
   {
    "duration": 432,
    "start_time": "2025-02-20T12:24:47.672Z"
   },
   {
    "duration": 30,
    "start_time": "2025-02-20T12:24:48.105Z"
   },
   {
    "duration": 39,
    "start_time": "2025-02-20T12:24:48.138Z"
   },
   {
    "duration": 26,
    "start_time": "2025-02-20T12:24:48.182Z"
   },
   {
    "duration": 18,
    "start_time": "2025-02-20T12:24:48.210Z"
   },
   {
    "duration": 7,
    "start_time": "2025-02-20T12:24:48.230Z"
   },
   {
    "duration": 45,
    "start_time": "2025-02-20T12:24:48.238Z"
   },
   {
    "duration": 40,
    "start_time": "2025-02-20T12:24:48.290Z"
   },
   {
    "duration": 5,
    "start_time": "2025-02-20T12:24:48.332Z"
   },
   {
    "duration": 15,
    "start_time": "2025-02-20T12:24:48.339Z"
   },
   {
    "duration": 17,
    "start_time": "2025-02-20T12:24:48.356Z"
   },
   {
    "duration": 1165,
    "start_time": "2025-02-20T12:24:48.375Z"
   },
   {
    "duration": 1099,
    "start_time": "2025-02-20T12:24:49.542Z"
   },
   {
    "duration": 11,
    "start_time": "2025-02-20T12:24:50.643Z"
   },
   {
    "duration": 54,
    "start_time": "2025-02-20T12:24:50.655Z"
   },
   {
    "duration": 96014,
    "start_time": "2025-02-20T12:24:50.712Z"
   },
   {
    "duration": 93761,
    "start_time": "2025-02-20T12:26:26.729Z"
   },
   {
    "duration": 22,
    "start_time": "2025-02-20T12:28:00.492Z"
   },
   {
    "duration": 23739,
    "start_time": "2025-02-20T12:28:24.480Z"
   },
   {
    "duration": 3,
    "start_time": "2025-02-20T12:28:48.221Z"
   },
   {
    "duration": 118,
    "start_time": "2025-02-20T12:28:48.226Z"
   },
   {
    "duration": 21,
    "start_time": "2025-02-20T12:28:48.346Z"
   },
   {
    "duration": 33,
    "start_time": "2025-02-20T12:28:48.369Z"
   },
   {
    "duration": 9,
    "start_time": "2025-02-20T12:28:48.404Z"
   },
   {
    "duration": 19,
    "start_time": "2025-02-20T12:28:48.415Z"
   },
   {
    "duration": 9,
    "start_time": "2025-02-20T12:28:48.436Z"
   },
   {
    "duration": 28,
    "start_time": "2025-02-20T12:28:48.447Z"
   },
   {
    "duration": 19,
    "start_time": "2025-02-20T12:28:48.481Z"
   },
   {
    "duration": 12,
    "start_time": "2025-02-20T12:28:48.502Z"
   },
   {
    "duration": 21,
    "start_time": "2025-02-20T12:28:48.515Z"
   },
   {
    "duration": 44,
    "start_time": "2025-02-20T12:28:48.538Z"
   },
   {
    "duration": 48,
    "start_time": "2025-02-20T12:28:48.588Z"
   },
   {
    "duration": 11,
    "start_time": "2025-02-20T12:28:48.638Z"
   },
   {
    "duration": 19,
    "start_time": "2025-02-20T12:28:48.651Z"
   },
   {
    "duration": 22,
    "start_time": "2025-02-20T12:28:48.674Z"
   },
   {
    "duration": 589,
    "start_time": "2025-02-20T12:28:48.698Z"
   },
   {
    "duration": 458,
    "start_time": "2025-02-20T12:28:49.289Z"
   },
   {
    "duration": 994,
    "start_time": "2025-02-20T12:28:49.748Z"
   },
   {
    "duration": 414,
    "start_time": "2025-02-20T12:28:50.744Z"
   },
   {
    "duration": 469,
    "start_time": "2025-02-20T12:28:51.160Z"
   },
   {
    "duration": 401,
    "start_time": "2025-02-20T12:28:51.631Z"
   },
   {
    "duration": 407,
    "start_time": "2025-02-20T12:28:52.033Z"
   },
   {
    "duration": 8,
    "start_time": "2025-02-20T12:28:52.442Z"
   },
   {
    "duration": 410,
    "start_time": "2025-02-20T12:28:52.452Z"
   },
   {
    "duration": 42,
    "start_time": "2025-02-20T12:28:52.864Z"
   },
   {
    "duration": 21,
    "start_time": "2025-02-20T12:28:52.908Z"
   },
   {
    "duration": 20,
    "start_time": "2025-02-20T12:28:52.931Z"
   },
   {
    "duration": 20,
    "start_time": "2025-02-20T12:28:52.971Z"
   },
   {
    "duration": 9,
    "start_time": "2025-02-20T12:28:52.993Z"
   },
   {
    "duration": 14,
    "start_time": "2025-02-20T12:28:53.004Z"
   },
   {
    "duration": 62,
    "start_time": "2025-02-20T12:28:53.020Z"
   },
   {
    "duration": 8,
    "start_time": "2025-02-20T12:28:53.085Z"
   },
   {
    "duration": 14,
    "start_time": "2025-02-20T12:28:53.097Z"
   },
   {
    "duration": 7,
    "start_time": "2025-02-20T12:28:53.113Z"
   },
   {
    "duration": 1118,
    "start_time": "2025-02-20T12:28:53.122Z"
   },
   {
    "duration": 1114,
    "start_time": "2025-02-20T12:28:54.242Z"
   },
   {
    "duration": 6,
    "start_time": "2025-02-20T12:28:55.358Z"
   },
   {
    "duration": 19,
    "start_time": "2025-02-20T12:28:55.365Z"
   },
   {
    "duration": 18,
    "start_time": "2025-02-20T12:28:55.390Z"
   },
   {
    "duration": 78709,
    "start_time": "2025-02-20T12:28:55.410Z"
   },
   {
    "duration": 85918,
    "start_time": "2025-02-20T12:30:14.121Z"
   },
   {
    "duration": 18,
    "start_time": "2025-02-20T12:31:40.040Z"
   },
   {
    "duration": 23565,
    "start_time": "2025-02-20T12:36:06.330Z"
   },
   {
    "duration": 3,
    "start_time": "2025-02-20T12:36:29.897Z"
   },
   {
    "duration": 112,
    "start_time": "2025-02-20T12:36:29.902Z"
   },
   {
    "duration": 20,
    "start_time": "2025-02-20T12:36:30.017Z"
   },
   {
    "duration": 65,
    "start_time": "2025-02-20T12:36:30.039Z"
   },
   {
    "duration": 32,
    "start_time": "2025-02-20T12:36:30.107Z"
   },
   {
    "duration": 66,
    "start_time": "2025-02-20T12:36:30.141Z"
   },
   {
    "duration": 18,
    "start_time": "2025-02-20T12:36:30.208Z"
   },
   {
    "duration": 29,
    "start_time": "2025-02-20T12:36:30.227Z"
   },
   {
    "duration": 30,
    "start_time": "2025-02-20T12:36:30.259Z"
   },
   {
    "duration": 23,
    "start_time": "2025-02-20T12:36:30.291Z"
   },
   {
    "duration": 18,
    "start_time": "2025-02-20T12:36:30.316Z"
   },
   {
    "duration": 76,
    "start_time": "2025-02-20T12:36:30.335Z"
   },
   {
    "duration": 19,
    "start_time": "2025-02-20T12:36:30.412Z"
   },
   {
    "duration": 26,
    "start_time": "2025-02-20T12:36:30.433Z"
   },
   {
    "duration": 49,
    "start_time": "2025-02-20T12:36:30.460Z"
   },
   {
    "duration": 17,
    "start_time": "2025-02-20T12:36:30.511Z"
   },
   {
    "duration": 620,
    "start_time": "2025-02-20T12:36:30.530Z"
   },
   {
    "duration": 494,
    "start_time": "2025-02-20T12:36:31.152Z"
   },
   {
    "duration": 962,
    "start_time": "2025-02-20T12:36:31.648Z"
   },
   {
    "duration": 418,
    "start_time": "2025-02-20T12:36:32.612Z"
   },
   {
    "duration": 397,
    "start_time": "2025-02-20T12:36:33.033Z"
   },
   {
    "duration": 405,
    "start_time": "2025-02-20T12:36:33.432Z"
   },
   {
    "duration": 388,
    "start_time": "2025-02-20T12:36:33.840Z"
   },
   {
    "duration": 10,
    "start_time": "2025-02-20T12:36:34.229Z"
   },
   {
    "duration": 495,
    "start_time": "2025-02-20T12:36:34.241Z"
   },
   {
    "duration": 38,
    "start_time": "2025-02-20T12:36:34.737Z"
   },
   {
    "duration": 23,
    "start_time": "2025-02-20T12:36:34.784Z"
   },
   {
    "duration": 25,
    "start_time": "2025-02-20T12:36:34.809Z"
   },
   {
    "duration": 15,
    "start_time": "2025-02-20T12:36:34.836Z"
   },
   {
    "duration": 9,
    "start_time": "2025-02-20T12:36:34.853Z"
   },
   {
    "duration": 24,
    "start_time": "2025-02-20T12:36:34.873Z"
   },
   {
    "duration": 40,
    "start_time": "2025-02-20T12:36:34.899Z"
   },
   {
    "duration": 5,
    "start_time": "2025-02-20T12:36:34.941Z"
   },
   {
    "duration": 34,
    "start_time": "2025-02-20T12:36:34.948Z"
   },
   {
    "duration": 31,
    "start_time": "2025-02-20T12:36:34.984Z"
   },
   {
    "duration": 1096,
    "start_time": "2025-02-20T12:36:35.017Z"
   },
   {
    "duration": 1050,
    "start_time": "2025-02-20T12:36:36.115Z"
   },
   {
    "duration": 9,
    "start_time": "2025-02-20T12:36:37.167Z"
   },
   {
    "duration": 15,
    "start_time": "2025-02-20T12:36:37.180Z"
   },
   {
    "duration": 9,
    "start_time": "2025-02-20T12:36:37.197Z"
   },
   {
    "duration": 69112,
    "start_time": "2025-02-20T12:36:37.208Z"
   },
   {
    "duration": 23792,
    "start_time": "2025-02-20T12:38:46.402Z"
   },
   {
    "duration": 3,
    "start_time": "2025-02-20T12:39:10.199Z"
   },
   {
    "duration": 116,
    "start_time": "2025-02-20T12:39:10.204Z"
   },
   {
    "duration": 21,
    "start_time": "2025-02-20T12:39:10.322Z"
   },
   {
    "duration": 16,
    "start_time": "2025-02-20T12:39:10.345Z"
   },
   {
    "duration": 23,
    "start_time": "2025-02-20T12:39:10.363Z"
   },
   {
    "duration": 23,
    "start_time": "2025-02-20T12:39:10.388Z"
   },
   {
    "duration": 9,
    "start_time": "2025-02-20T12:39:10.413Z"
   },
   {
    "duration": 14,
    "start_time": "2025-02-20T12:39:10.424Z"
   },
   {
    "duration": 14,
    "start_time": "2025-02-20T12:39:10.439Z"
   },
   {
    "duration": 41,
    "start_time": "2025-02-20T12:39:10.455Z"
   },
   {
    "duration": 14,
    "start_time": "2025-02-20T12:39:10.503Z"
   },
   {
    "duration": 34,
    "start_time": "2025-02-20T12:39:10.518Z"
   },
   {
    "duration": 35,
    "start_time": "2025-02-20T12:39:10.556Z"
   },
   {
    "duration": 14,
    "start_time": "2025-02-20T12:39:10.594Z"
   },
   {
    "duration": 57,
    "start_time": "2025-02-20T12:39:10.610Z"
   },
   {
    "duration": 23,
    "start_time": "2025-02-20T12:39:10.669Z"
   },
   {
    "duration": 608,
    "start_time": "2025-02-20T12:39:10.699Z"
   },
   {
    "duration": 450,
    "start_time": "2025-02-20T12:39:11.308Z"
   },
   {
    "duration": 995,
    "start_time": "2025-02-20T12:39:11.759Z"
   },
   {
    "duration": 388,
    "start_time": "2025-02-20T12:39:12.756Z"
   },
   {
    "duration": 475,
    "start_time": "2025-02-20T12:39:13.146Z"
   },
   {
    "duration": 411,
    "start_time": "2025-02-20T12:39:13.622Z"
   },
   {
    "duration": 394,
    "start_time": "2025-02-20T12:39:14.036Z"
   },
   {
    "duration": 9,
    "start_time": "2025-02-20T12:39:14.433Z"
   },
   {
    "duration": 490,
    "start_time": "2025-02-20T12:39:14.444Z"
   },
   {
    "duration": 50,
    "start_time": "2025-02-20T12:39:14.936Z"
   },
   {
    "duration": 22,
    "start_time": "2025-02-20T12:39:14.987Z"
   },
   {
    "duration": 55,
    "start_time": "2025-02-20T12:39:15.010Z"
   },
   {
    "duration": 40,
    "start_time": "2025-02-20T12:39:15.066Z"
   },
   {
    "duration": 7,
    "start_time": "2025-02-20T12:39:15.108Z"
   },
   {
    "duration": 21,
    "start_time": "2025-02-20T12:39:15.117Z"
   },
   {
    "duration": 59,
    "start_time": "2025-02-20T12:39:15.140Z"
   },
   {
    "duration": 11,
    "start_time": "2025-02-20T12:39:15.201Z"
   },
   {
    "duration": 14,
    "start_time": "2025-02-20T12:39:15.213Z"
   },
   {
    "duration": 11,
    "start_time": "2025-02-20T12:39:15.229Z"
   },
   {
    "duration": 1125,
    "start_time": "2025-02-20T12:39:15.241Z"
   },
   {
    "duration": 1053,
    "start_time": "2025-02-20T12:39:16.368Z"
   },
   {
    "duration": 5,
    "start_time": "2025-02-20T12:39:17.423Z"
   },
   {
    "duration": 8,
    "start_time": "2025-02-20T12:39:17.429Z"
   },
   {
    "duration": 14,
    "start_time": "2025-02-20T12:39:17.442Z"
   },
   {
    "duration": 77171,
    "start_time": "2025-02-20T12:39:17.459Z"
   },
   {
    "duration": 23298,
    "start_time": "2025-02-20T12:41:49.908Z"
   },
   {
    "duration": 3,
    "start_time": "2025-02-20T12:42:13.209Z"
   },
   {
    "duration": 120,
    "start_time": "2025-02-20T12:42:13.216Z"
   },
   {
    "duration": 20,
    "start_time": "2025-02-20T12:42:13.338Z"
   },
   {
    "duration": 27,
    "start_time": "2025-02-20T12:42:13.359Z"
   },
   {
    "duration": 23,
    "start_time": "2025-02-20T12:42:13.389Z"
   },
   {
    "duration": 24,
    "start_time": "2025-02-20T12:42:13.414Z"
   },
   {
    "duration": 9,
    "start_time": "2025-02-20T12:42:13.440Z"
   },
   {
    "duration": 12,
    "start_time": "2025-02-20T12:42:13.452Z"
   },
   {
    "duration": 18,
    "start_time": "2025-02-20T12:42:13.466Z"
   },
   {
    "duration": 14,
    "start_time": "2025-02-20T12:42:13.488Z"
   },
   {
    "duration": 21,
    "start_time": "2025-02-20T12:42:13.504Z"
   },
   {
    "duration": 70,
    "start_time": "2025-02-20T12:42:13.527Z"
   },
   {
    "duration": 8,
    "start_time": "2025-02-20T12:42:13.600Z"
   },
   {
    "duration": 12,
    "start_time": "2025-02-20T12:42:13.610Z"
   },
   {
    "duration": 23,
    "start_time": "2025-02-20T12:42:13.624Z"
   },
   {
    "duration": 28,
    "start_time": "2025-02-20T12:42:13.649Z"
   },
   {
    "duration": 630,
    "start_time": "2025-02-20T12:42:13.678Z"
   },
   {
    "duration": 451,
    "start_time": "2025-02-20T12:42:14.309Z"
   },
   {
    "duration": 968,
    "start_time": "2025-02-20T12:42:14.762Z"
   },
   {
    "duration": 411,
    "start_time": "2025-02-20T12:42:15.732Z"
   },
   {
    "duration": 382,
    "start_time": "2025-02-20T12:42:16.145Z"
   },
   {
    "duration": 412,
    "start_time": "2025-02-20T12:42:16.529Z"
   },
   {
    "duration": 391,
    "start_time": "2025-02-20T12:42:16.942Z"
   },
   {
    "duration": 9,
    "start_time": "2025-02-20T12:42:17.335Z"
   },
   {
    "duration": 403,
    "start_time": "2025-02-20T12:42:17.346Z"
   },
   {
    "duration": 49,
    "start_time": "2025-02-20T12:42:17.754Z"
   },
   {
    "duration": 20,
    "start_time": "2025-02-20T12:42:17.805Z"
   },
   {
    "duration": 19,
    "start_time": "2025-02-20T12:42:17.827Z"
   },
   {
    "duration": 45,
    "start_time": "2025-02-20T12:42:17.847Z"
   },
   {
    "duration": 10,
    "start_time": "2025-02-20T12:42:17.894Z"
   },
   {
    "duration": 19,
    "start_time": "2025-02-20T12:42:17.906Z"
   },
   {
    "duration": 32,
    "start_time": "2025-02-20T12:42:17.927Z"
   },
   {
    "duration": 23,
    "start_time": "2025-02-20T12:42:17.972Z"
   },
   {
    "duration": 6,
    "start_time": "2025-02-20T12:42:17.999Z"
   },
   {
    "duration": 5,
    "start_time": "2025-02-20T12:42:18.007Z"
   },
   {
    "duration": 1125,
    "start_time": "2025-02-20T12:42:18.014Z"
   },
   {
    "duration": 1068,
    "start_time": "2025-02-20T12:42:19.141Z"
   },
   {
    "duration": 5,
    "start_time": "2025-02-20T12:42:20.211Z"
   },
   {
    "duration": 1419,
    "start_time": "2025-02-20T12:42:20.218Z"
   },
   {
    "duration": 0,
    "start_time": "2025-02-20T12:42:21.639Z"
   },
   {
    "duration": 0,
    "start_time": "2025-02-20T12:42:21.641Z"
   },
   {
    "duration": 0,
    "start_time": "2025-02-20T12:42:21.642Z"
   },
   {
    "duration": 0,
    "start_time": "2025-02-20T12:42:21.643Z"
   },
   {
    "duration": 0,
    "start_time": "2025-02-20T12:42:21.644Z"
   },
   {
    "duration": 25014,
    "start_time": "2025-02-20T12:42:44.185Z"
   },
   {
    "duration": 3,
    "start_time": "2025-02-20T12:43:09.202Z"
   },
   {
    "duration": 126,
    "start_time": "2025-02-20T12:43:09.207Z"
   },
   {
    "duration": 21,
    "start_time": "2025-02-20T12:43:09.334Z"
   },
   {
    "duration": 19,
    "start_time": "2025-02-20T12:43:09.358Z"
   },
   {
    "duration": 12,
    "start_time": "2025-02-20T12:43:09.390Z"
   },
   {
    "duration": 19,
    "start_time": "2025-02-20T12:43:09.404Z"
   },
   {
    "duration": 9,
    "start_time": "2025-02-20T12:43:09.425Z"
   },
   {
    "duration": 15,
    "start_time": "2025-02-20T12:43:09.437Z"
   },
   {
    "duration": 36,
    "start_time": "2025-02-20T12:43:09.454Z"
   },
   {
    "duration": 21,
    "start_time": "2025-02-20T12:43:09.492Z"
   },
   {
    "duration": 51,
    "start_time": "2025-02-20T12:43:09.515Z"
   },
   {
    "duration": 56,
    "start_time": "2025-02-20T12:43:09.568Z"
   },
   {
    "duration": 8,
    "start_time": "2025-02-20T12:43:09.627Z"
   },
   {
    "duration": 13,
    "start_time": "2025-02-20T12:43:09.636Z"
   },
   {
    "duration": 38,
    "start_time": "2025-02-20T12:43:09.651Z"
   },
   {
    "duration": 17,
    "start_time": "2025-02-20T12:43:09.691Z"
   },
   {
    "duration": 573,
    "start_time": "2025-02-20T12:43:09.709Z"
   },
   {
    "duration": 455,
    "start_time": "2025-02-20T12:43:10.283Z"
   },
   {
    "duration": 957,
    "start_time": "2025-02-20T12:43:10.740Z"
   },
   {
    "duration": 347,
    "start_time": "2025-02-20T12:43:11.702Z"
   },
   {
    "duration": 390,
    "start_time": "2025-02-20T12:43:12.051Z"
   },
   {
    "duration": 393,
    "start_time": "2025-02-20T12:43:12.444Z"
   },
   {
    "duration": 398,
    "start_time": "2025-02-20T12:43:12.839Z"
   },
   {
    "duration": 8,
    "start_time": "2025-02-20T12:43:13.239Z"
   },
   {
    "duration": 401,
    "start_time": "2025-02-20T12:43:13.249Z"
   },
   {
    "duration": 46,
    "start_time": "2025-02-20T12:43:13.652Z"
   },
   {
    "duration": 19,
    "start_time": "2025-02-20T12:43:13.701Z"
   },
   {
    "duration": 19,
    "start_time": "2025-02-20T12:43:13.722Z"
   },
   {
    "duration": 47,
    "start_time": "2025-02-20T12:43:13.743Z"
   },
   {
    "duration": 8,
    "start_time": "2025-02-20T12:43:13.796Z"
   },
   {
    "duration": 14,
    "start_time": "2025-02-20T12:43:13.806Z"
   },
   {
    "duration": 32,
    "start_time": "2025-02-20T12:43:13.821Z"
   },
   {
    "duration": 5,
    "start_time": "2025-02-20T12:43:13.854Z"
   },
   {
    "duration": 11,
    "start_time": "2025-02-20T12:43:13.874Z"
   },
   {
    "duration": 32,
    "start_time": "2025-02-20T12:43:13.895Z"
   },
   {
    "duration": 1100,
    "start_time": "2025-02-20T12:43:13.929Z"
   },
   {
    "duration": 1102,
    "start_time": "2025-02-20T12:43:15.031Z"
   },
   {
    "duration": 53,
    "start_time": "2025-02-20T12:43:16.135Z"
   },
   {
    "duration": 201,
    "start_time": "2025-02-20T12:43:16.194Z"
   },
   {
    "duration": 0,
    "start_time": "2025-02-20T12:43:16.399Z"
   },
   {
    "duration": 0,
    "start_time": "2025-02-20T12:43:16.400Z"
   },
   {
    "duration": 0,
    "start_time": "2025-02-20T12:43:16.401Z"
   },
   {
    "duration": 0,
    "start_time": "2025-02-20T12:43:16.402Z"
   },
   {
    "duration": 0,
    "start_time": "2025-02-20T12:43:16.403Z"
   },
   {
    "duration": 4,
    "start_time": "2025-02-20T12:43:53.130Z"
   },
   {
    "duration": 7,
    "start_time": "2025-02-20T12:43:57.155Z"
   },
   {
    "duration": 8,
    "start_time": "2025-02-20T12:43:59.499Z"
   },
   {
    "duration": 75219,
    "start_time": "2025-02-20T12:44:01.067Z"
   },
   {
    "duration": 75261,
    "start_time": "2025-02-20T12:45:16.294Z"
   },
   {
    "duration": 255046,
    "start_time": "2025-02-20T15:04:25.931Z"
   },
   {
    "duration": 4,
    "start_time": "2025-02-20T15:08:40.979Z"
   },
   {
    "duration": 99,
    "start_time": "2025-02-20T15:08:40.985Z"
   },
   {
    "duration": 21,
    "start_time": "2025-02-20T15:08:41.086Z"
   },
   {
    "duration": 16,
    "start_time": "2025-02-20T15:08:41.110Z"
   },
   {
    "duration": 6,
    "start_time": "2025-02-20T15:08:41.128Z"
   },
   {
    "duration": 18,
    "start_time": "2025-02-20T15:08:41.136Z"
   },
   {
    "duration": 10,
    "start_time": "2025-02-20T15:08:41.172Z"
   },
   {
    "duration": 21,
    "start_time": "2025-02-20T15:08:41.184Z"
   },
   {
    "duration": 25,
    "start_time": "2025-02-20T15:08:41.208Z"
   },
   {
    "duration": 14,
    "start_time": "2025-02-20T15:08:41.236Z"
   },
   {
    "duration": 34,
    "start_time": "2025-02-20T15:08:41.252Z"
   },
   {
    "duration": 40,
    "start_time": "2025-02-20T15:08:41.288Z"
   },
   {
    "duration": 9,
    "start_time": "2025-02-20T15:08:41.331Z"
   },
   {
    "duration": 42,
    "start_time": "2025-02-20T15:08:41.342Z"
   },
   {
    "duration": 19,
    "start_time": "2025-02-20T15:08:41.386Z"
   },
   {
    "duration": 10,
    "start_time": "2025-02-20T15:08:41.407Z"
   },
   {
    "duration": 647,
    "start_time": "2025-02-20T15:08:41.419Z"
   },
   {
    "duration": 459,
    "start_time": "2025-02-20T15:08:42.072Z"
   },
   {
    "duration": 939,
    "start_time": "2025-02-20T15:08:42.533Z"
   },
   {
    "duration": 355,
    "start_time": "2025-02-20T15:08:43.474Z"
   },
   {
    "duration": 390,
    "start_time": "2025-02-20T15:08:43.830Z"
   },
   {
    "duration": 406,
    "start_time": "2025-02-20T15:08:44.221Z"
   },
   {
    "duration": 392,
    "start_time": "2025-02-20T15:08:44.629Z"
   },
   {
    "duration": 11,
    "start_time": "2025-02-20T15:08:45.023Z"
   },
   {
    "duration": 491,
    "start_time": "2025-02-20T15:08:45.036Z"
   },
   {
    "duration": 27,
    "start_time": "2025-02-20T15:08:45.529Z"
   },
   {
    "duration": 28,
    "start_time": "2025-02-20T15:08:45.558Z"
   },
   {
    "duration": 17,
    "start_time": "2025-02-20T15:08:45.588Z"
   },
   {
    "duration": 14,
    "start_time": "2025-02-20T15:08:45.607Z"
   },
   {
    "duration": 8,
    "start_time": "2025-02-20T15:08:45.622Z"
   },
   {
    "duration": 48,
    "start_time": "2025-02-20T15:08:45.632Z"
   },
   {
    "duration": 32,
    "start_time": "2025-02-20T15:08:45.682Z"
   },
   {
    "duration": 6,
    "start_time": "2025-02-20T15:08:45.716Z"
   },
   {
    "duration": 5,
    "start_time": "2025-02-20T15:08:45.723Z"
   },
   {
    "duration": 5,
    "start_time": "2025-02-20T15:08:45.730Z"
   },
   {
    "duration": 992,
    "start_time": "2025-02-20T15:08:45.737Z"
   },
   {
    "duration": 986,
    "start_time": "2025-02-20T15:08:46.731Z"
   },
   {
    "duration": 43,
    "start_time": "2025-02-20T15:08:47.719Z"
   },
   {
    "duration": 1963,
    "start_time": "2025-02-20T15:08:47.764Z"
   },
   {
    "duration": 0,
    "start_time": "2025-02-20T15:08:49.729Z"
   },
   {
    "duration": 0,
    "start_time": "2025-02-20T15:08:49.731Z"
   },
   {
    "duration": 0,
    "start_time": "2025-02-20T15:08:49.732Z"
   },
   {
    "duration": 0,
    "start_time": "2025-02-20T15:08:49.734Z"
   },
   {
    "duration": 0,
    "start_time": "2025-02-20T15:08:49.735Z"
   },
   {
    "duration": 19,
    "start_time": "2025-02-20T15:12:38.568Z"
   },
   {
    "duration": 5,
    "start_time": "2025-02-20T15:13:08.185Z"
   },
   {
    "duration": 8,
    "start_time": "2025-02-20T15:13:12.105Z"
   },
   {
    "duration": 9,
    "start_time": "2025-02-20T15:13:13.785Z"
   },
   {
    "duration": 70023,
    "start_time": "2025-02-20T15:13:16.913Z"
   },
   {
    "duration": 30,
    "start_time": "2025-02-20T15:15:43.535Z"
   },
   {
    "duration": 25,
    "start_time": "2025-02-20T15:16:18.230Z"
   },
   {
    "duration": 23,
    "start_time": "2025-02-20T15:18:28.910Z"
   },
   {
    "duration": 16,
    "start_time": "2025-02-20T15:39:15.671Z"
   },
   {
    "duration": 21778,
    "start_time": "2025-02-20T15:41:50.168Z"
   },
   {
    "duration": 3,
    "start_time": "2025-02-20T15:42:11.948Z"
   },
   {
    "duration": 148,
    "start_time": "2025-02-20T15:42:11.953Z"
   },
   {
    "duration": 20,
    "start_time": "2025-02-20T15:42:12.103Z"
   },
   {
    "duration": 88,
    "start_time": "2025-02-20T15:42:12.125Z"
   },
   {
    "duration": 9,
    "start_time": "2025-02-20T15:42:12.215Z"
   },
   {
    "duration": 26,
    "start_time": "2025-02-20T15:42:12.225Z"
   },
   {
    "duration": 9,
    "start_time": "2025-02-20T15:42:12.253Z"
   },
   {
    "duration": 14,
    "start_time": "2025-02-20T15:42:12.264Z"
   },
   {
    "duration": 13,
    "start_time": "2025-02-20T15:42:12.281Z"
   },
   {
    "duration": 12,
    "start_time": "2025-02-20T15:42:12.296Z"
   },
   {
    "duration": 14,
    "start_time": "2025-02-20T15:42:12.309Z"
   },
   {
    "duration": 65,
    "start_time": "2025-02-20T15:42:12.325Z"
   },
   {
    "duration": 7,
    "start_time": "2025-02-20T15:42:12.392Z"
   },
   {
    "duration": 19,
    "start_time": "2025-02-20T15:42:12.401Z"
   },
   {
    "duration": 18,
    "start_time": "2025-02-20T15:42:12.422Z"
   },
   {
    "duration": 29,
    "start_time": "2025-02-20T15:42:12.443Z"
   },
   {
    "duration": 570,
    "start_time": "2025-02-20T15:42:12.474Z"
   },
   {
    "duration": 411,
    "start_time": "2025-02-20T15:42:13.046Z"
   },
   {
    "duration": 933,
    "start_time": "2025-02-20T15:42:13.459Z"
   },
   {
    "duration": 387,
    "start_time": "2025-02-20T15:42:14.394Z"
   },
   {
    "duration": 396,
    "start_time": "2025-02-20T15:42:14.783Z"
   },
   {
    "duration": 453,
    "start_time": "2025-02-20T15:42:15.182Z"
   },
   {
    "duration": 406,
    "start_time": "2025-02-20T15:42:15.637Z"
   },
   {
    "duration": 9,
    "start_time": "2025-02-20T15:42:16.045Z"
   },
   {
    "duration": 388,
    "start_time": "2025-02-20T15:42:16.056Z"
   },
   {
    "duration": 46,
    "start_time": "2025-02-20T15:42:16.446Z"
   },
   {
    "duration": 21,
    "start_time": "2025-02-20T15:42:16.495Z"
   },
   {
    "duration": 20,
    "start_time": "2025-02-20T15:42:16.517Z"
   },
   {
    "duration": 40,
    "start_time": "2025-02-20T15:42:16.540Z"
   },
   {
    "duration": 8,
    "start_time": "2025-02-20T15:42:16.582Z"
   },
   {
    "duration": 12,
    "start_time": "2025-02-20T15:42:16.591Z"
   },
   {
    "duration": 37,
    "start_time": "2025-02-20T15:42:16.605Z"
   },
   {
    "duration": 440,
    "start_time": "2025-02-20T15:42:16.673Z"
   },
   {
    "duration": 190,
    "start_time": "2025-02-20T15:42:17.115Z"
   },
   {
    "duration": 0,
    "start_time": "2025-02-20T15:42:17.308Z"
   },
   {
    "duration": 0,
    "start_time": "2025-02-20T15:42:17.309Z"
   },
   {
    "duration": 1,
    "start_time": "2025-02-20T15:42:17.311Z"
   },
   {
    "duration": 0,
    "start_time": "2025-02-20T15:42:17.313Z"
   },
   {
    "duration": 0,
    "start_time": "2025-02-20T15:42:17.315Z"
   },
   {
    "duration": 20942,
    "start_time": "2025-02-20T15:47:36.539Z"
   },
   {
    "duration": 4,
    "start_time": "2025-02-20T15:47:57.483Z"
   },
   {
    "duration": 95,
    "start_time": "2025-02-20T15:47:57.489Z"
   },
   {
    "duration": 22,
    "start_time": "2025-02-20T15:47:57.587Z"
   },
   {
    "duration": 30,
    "start_time": "2025-02-20T15:47:57.612Z"
   },
   {
    "duration": 7,
    "start_time": "2025-02-20T15:47:57.644Z"
   },
   {
    "duration": 23,
    "start_time": "2025-02-20T15:47:57.652Z"
   },
   {
    "duration": 9,
    "start_time": "2025-02-20T15:47:57.677Z"
   },
   {
    "duration": 14,
    "start_time": "2025-02-20T15:47:57.688Z"
   },
   {
    "duration": 14,
    "start_time": "2025-02-20T15:47:57.706Z"
   },
   {
    "duration": 12,
    "start_time": "2025-02-20T15:47:57.722Z"
   },
   {
    "duration": 13,
    "start_time": "2025-02-20T15:47:57.773Z"
   },
   {
    "duration": 37,
    "start_time": "2025-02-20T15:47:57.788Z"
   },
   {
    "duration": 9,
    "start_time": "2025-02-20T15:47:57.826Z"
   },
   {
    "duration": 42,
    "start_time": "2025-02-20T15:47:57.837Z"
   },
   {
    "duration": 18,
    "start_time": "2025-02-20T15:47:57.881Z"
   },
   {
    "duration": 9,
    "start_time": "2025-02-20T15:47:57.901Z"
   },
   {
    "duration": 624,
    "start_time": "2025-02-20T15:47:57.912Z"
   },
   {
    "duration": 511,
    "start_time": "2025-02-20T15:47:58.539Z"
   },
   {
    "duration": 908,
    "start_time": "2025-02-20T15:47:59.052Z"
   },
   {
    "duration": 358,
    "start_time": "2025-02-20T15:47:59.962Z"
   },
   {
    "duration": 393,
    "start_time": "2025-02-20T15:48:00.321Z"
   },
   {
    "duration": 393,
    "start_time": "2025-02-20T15:48:00.716Z"
   },
   {
    "duration": 421,
    "start_time": "2025-02-20T15:48:01.111Z"
   },
   {
    "duration": 9,
    "start_time": "2025-02-20T15:48:01.534Z"
   },
   {
    "duration": 481,
    "start_time": "2025-02-20T15:48:01.545Z"
   },
   {
    "duration": 28,
    "start_time": "2025-02-20T15:48:02.028Z"
   },
   {
    "duration": 20,
    "start_time": "2025-02-20T15:48:02.072Z"
   },
   {
    "duration": 20,
    "start_time": "2025-02-20T15:48:02.094Z"
   },
   {
    "duration": 16,
    "start_time": "2025-02-20T15:48:02.116Z"
   },
   {
    "duration": 39,
    "start_time": "2025-02-20T15:48:02.133Z"
   },
   {
    "duration": 14,
    "start_time": "2025-02-20T15:48:02.174Z"
   },
   {
    "duration": 71,
    "start_time": "2025-02-20T15:48:02.190Z"
   },
   {
    "duration": 381,
    "start_time": "2025-02-20T15:48:02.263Z"
   },
   {
    "duration": 199,
    "start_time": "2025-02-20T15:48:02.646Z"
   },
   {
    "duration": 0,
    "start_time": "2025-02-20T15:48:02.847Z"
   },
   {
    "duration": 0,
    "start_time": "2025-02-20T15:48:02.850Z"
   },
   {
    "duration": 0,
    "start_time": "2025-02-20T15:48:02.851Z"
   },
   {
    "duration": 0,
    "start_time": "2025-02-20T15:48:02.853Z"
   },
   {
    "duration": 0,
    "start_time": "2025-02-20T15:48:02.855Z"
   },
   {
    "duration": 22,
    "start_time": "2025-02-20T15:50:08.209Z"
   },
   {
    "duration": 25,
    "start_time": "2025-02-20T15:50:19.472Z"
   },
   {
    "duration": 30,
    "start_time": "2025-02-20T15:51:29.936Z"
   },
   {
    "duration": 1659,
    "start_time": "2025-02-20T15:52:09.636Z"
   },
   {
    "duration": 26,
    "start_time": "2025-02-20T15:56:26.359Z"
   },
   {
    "duration": 17,
    "start_time": "2025-02-20T15:56:34.157Z"
   },
   {
    "duration": 28,
    "start_time": "2025-02-20T15:56:45.285Z"
   },
   {
    "duration": 56,
    "start_time": "2025-02-20T15:57:05.253Z"
   },
   {
    "duration": 530,
    "start_time": "2025-02-20T15:57:26.262Z"
   },
   {
    "duration": 513,
    "start_time": "2025-02-20T15:58:28.781Z"
   },
   {
    "duration": 596,
    "start_time": "2025-02-20T16:00:23.228Z"
   },
   {
    "duration": 402,
    "start_time": "2025-02-20T16:00:29.628Z"
   },
   {
    "duration": 8,
    "start_time": "2025-02-20T16:02:49.057Z"
   },
   {
    "duration": 1642,
    "start_time": "2025-02-20T16:02:50.714Z"
   },
   {
    "duration": 1102,
    "start_time": "2025-02-20T16:02:57.930Z"
   },
   {
    "duration": 1683,
    "start_time": "2025-02-20T16:04:30.714Z"
   },
   {
    "duration": 1051,
    "start_time": "2025-02-20T16:04:33.155Z"
   },
   {
    "duration": 27,
    "start_time": "2025-02-20T16:05:26.786Z"
   },
   {
    "duration": 21823,
    "start_time": "2025-02-20T16:05:35.386Z"
   },
   {
    "duration": 3,
    "start_time": "2025-02-20T16:05:57.212Z"
   },
   {
    "duration": 99,
    "start_time": "2025-02-20T16:05:57.217Z"
   },
   {
    "duration": 20,
    "start_time": "2025-02-20T16:05:57.318Z"
   },
   {
    "duration": 15,
    "start_time": "2025-02-20T16:05:57.340Z"
   },
   {
    "duration": 7,
    "start_time": "2025-02-20T16:05:57.357Z"
   },
   {
    "duration": 24,
    "start_time": "2025-02-20T16:05:57.366Z"
   },
   {
    "duration": 10,
    "start_time": "2025-02-20T16:05:57.392Z"
   },
   {
    "duration": 14,
    "start_time": "2025-02-20T16:05:57.404Z"
   },
   {
    "duration": 13,
    "start_time": "2025-02-20T16:05:57.420Z"
   },
   {
    "duration": 12,
    "start_time": "2025-02-20T16:05:57.434Z"
   },
   {
    "duration": 14,
    "start_time": "2025-02-20T16:05:57.473Z"
   },
   {
    "duration": 43,
    "start_time": "2025-02-20T16:05:57.489Z"
   },
   {
    "duration": 9,
    "start_time": "2025-02-20T16:05:57.536Z"
   },
   {
    "duration": 32,
    "start_time": "2025-02-20T16:05:57.547Z"
   },
   {
    "duration": 17,
    "start_time": "2025-02-20T16:05:57.581Z"
   },
   {
    "duration": 9,
    "start_time": "2025-02-20T16:05:57.600Z"
   },
   {
    "duration": 589,
    "start_time": "2025-02-20T16:05:57.610Z"
   },
   {
    "duration": 431,
    "start_time": "2025-02-20T16:05:58.201Z"
   },
   {
    "duration": 971,
    "start_time": "2025-02-20T16:05:58.634Z"
   },
   {
    "duration": 429,
    "start_time": "2025-02-20T16:05:59.607Z"
   },
   {
    "duration": 397,
    "start_time": "2025-02-20T16:06:00.039Z"
   },
   {
    "duration": 395,
    "start_time": "2025-02-20T16:06:00.438Z"
   },
   {
    "duration": 408,
    "start_time": "2025-02-20T16:06:00.836Z"
   },
   {
    "duration": 25,
    "start_time": "2025-02-20T16:06:01.247Z"
   },
   {
    "duration": 440,
    "start_time": "2025-02-20T16:06:01.275Z"
   },
   {
    "duration": 27,
    "start_time": "2025-02-20T16:06:01.717Z"
   },
   {
    "duration": 46,
    "start_time": "2025-02-20T16:06:01.746Z"
   },
   {
    "duration": 36,
    "start_time": "2025-02-20T16:06:01.794Z"
   },
   {
    "duration": 14,
    "start_time": "2025-02-20T16:06:01.832Z"
   },
   {
    "duration": 30,
    "start_time": "2025-02-20T16:06:01.848Z"
   },
   {
    "duration": 12,
    "start_time": "2025-02-20T16:06:01.880Z"
   },
   {
    "duration": 46,
    "start_time": "2025-02-20T16:06:01.894Z"
   },
   {
    "duration": 398,
    "start_time": "2025-02-20T16:06:01.941Z"
   },
   {
    "duration": 224,
    "start_time": "2025-02-20T16:06:02.341Z"
   },
   {
    "duration": 0,
    "start_time": "2025-02-20T16:06:02.572Z"
   },
   {
    "duration": 0,
    "start_time": "2025-02-20T16:06:02.574Z"
   },
   {
    "duration": 0,
    "start_time": "2025-02-20T16:06:02.576Z"
   },
   {
    "duration": 0,
    "start_time": "2025-02-20T16:06:02.578Z"
   },
   {
    "duration": 0,
    "start_time": "2025-02-20T16:06:02.580Z"
   },
   {
    "duration": 0,
    "start_time": "2025-02-20T16:06:02.582Z"
   },
   {
    "duration": 47,
    "start_time": "2025-02-20T16:08:25.057Z"
   },
   {
    "duration": 61,
    "start_time": "2025-02-20T16:08:34.393Z"
   },
   {
    "duration": 462,
    "start_time": "2025-02-20T16:08:42.012Z"
   },
   {
    "duration": 648,
    "start_time": "2025-02-20T16:10:38.407Z"
   },
   {
    "duration": 6,
    "start_time": "2025-02-20T16:12:24.082Z"
   },
   {
    "duration": 1565,
    "start_time": "2025-02-20T16:12:26.119Z"
   },
   {
    "duration": 1161,
    "start_time": "2025-02-20T16:12:31.432Z"
   },
   {
    "duration": 22484,
    "start_time": "2025-02-20T16:16:04.292Z"
   },
   {
    "duration": 3,
    "start_time": "2025-02-20T16:16:26.778Z"
   },
   {
    "duration": 103,
    "start_time": "2025-02-20T16:16:26.783Z"
   },
   {
    "duration": 23,
    "start_time": "2025-02-20T16:16:26.888Z"
   },
   {
    "duration": 17,
    "start_time": "2025-02-20T16:16:26.913Z"
   },
   {
    "duration": 7,
    "start_time": "2025-02-20T16:16:26.932Z"
   },
   {
    "duration": 39,
    "start_time": "2025-02-20T16:16:26.941Z"
   },
   {
    "duration": 10,
    "start_time": "2025-02-20T16:16:26.982Z"
   },
   {
    "duration": 16,
    "start_time": "2025-02-20T16:16:26.994Z"
   },
   {
    "duration": 18,
    "start_time": "2025-02-20T16:16:27.013Z"
   },
   {
    "duration": 45,
    "start_time": "2025-02-20T16:16:27.032Z"
   },
   {
    "duration": 17,
    "start_time": "2025-02-20T16:16:27.079Z"
   },
   {
    "duration": 39,
    "start_time": "2025-02-20T16:16:27.098Z"
   },
   {
    "duration": 40,
    "start_time": "2025-02-20T16:16:27.139Z"
   },
   {
    "duration": 17,
    "start_time": "2025-02-20T16:16:27.182Z"
   },
   {
    "duration": 24,
    "start_time": "2025-02-20T16:16:27.201Z"
   },
   {
    "duration": 9,
    "start_time": "2025-02-20T16:16:27.227Z"
   },
   {
    "duration": 616,
    "start_time": "2025-02-20T16:16:27.238Z"
   },
   {
    "duration": 470,
    "start_time": "2025-02-20T16:16:27.856Z"
   },
   {
    "duration": 990,
    "start_time": "2025-02-20T16:16:28.329Z"
   },
   {
    "duration": 499,
    "start_time": "2025-02-20T16:16:29.322Z"
   },
   {
    "duration": 400,
    "start_time": "2025-02-20T16:16:29.823Z"
   },
   {
    "duration": 425,
    "start_time": "2025-02-20T16:16:30.226Z"
   },
   {
    "duration": 501,
    "start_time": "2025-02-20T16:16:30.652Z"
   },
   {
    "duration": 23,
    "start_time": "2025-02-20T16:16:31.155Z"
   },
   {
    "duration": 469,
    "start_time": "2025-02-20T16:16:31.180Z"
   },
   {
    "duration": 38,
    "start_time": "2025-02-20T16:16:31.651Z"
   },
   {
    "duration": 21,
    "start_time": "2025-02-20T16:16:31.693Z"
   },
   {
    "duration": 103,
    "start_time": "2025-02-20T16:16:31.715Z"
   },
   {
    "duration": 19,
    "start_time": "2025-02-20T16:16:31.820Z"
   },
   {
    "duration": 8,
    "start_time": "2025-02-20T16:16:31.842Z"
   },
   {
    "duration": 75,
    "start_time": "2025-02-20T16:16:31.853Z"
   },
   {
    "duration": 43,
    "start_time": "2025-02-20T16:16:31.930Z"
   },
   {
    "duration": 369,
    "start_time": "2025-02-20T16:16:31.975Z"
   },
   {
    "duration": 54,
    "start_time": "2025-02-20T16:16:32.346Z"
   },
   {
    "duration": 490,
    "start_time": "2025-02-20T16:16:32.401Z"
   },
   {
    "duration": 10,
    "start_time": "2025-02-20T16:16:32.893Z"
   },
   {
    "duration": 1831,
    "start_time": "2025-02-20T16:16:32.905Z"
   },
   {
    "duration": 1135,
    "start_time": "2025-02-20T16:16:34.738Z"
   },
   {
    "duration": 9,
    "start_time": "2025-02-20T16:16:35.875Z"
   },
   {
    "duration": 10,
    "start_time": "2025-02-20T16:16:35.886Z"
   },
   {
    "duration": 22489,
    "start_time": "2025-02-20T17:16:07.655Z"
   },
   {
    "duration": 3,
    "start_time": "2025-02-20T17:16:30.147Z"
   },
   {
    "duration": 124,
    "start_time": "2025-02-20T17:16:30.152Z"
   },
   {
    "duration": 20,
    "start_time": "2025-02-20T17:16:30.278Z"
   },
   {
    "duration": 32,
    "start_time": "2025-02-20T17:16:30.301Z"
   },
   {
    "duration": 6,
    "start_time": "2025-02-20T17:16:30.334Z"
   },
   {
    "duration": 47,
    "start_time": "2025-02-20T17:16:30.342Z"
   },
   {
    "duration": 10,
    "start_time": "2025-02-20T17:16:30.391Z"
   },
   {
    "duration": 17,
    "start_time": "2025-02-20T17:16:30.403Z"
   },
   {
    "duration": 16,
    "start_time": "2025-02-20T17:16:30.422Z"
   },
   {
    "duration": 60,
    "start_time": "2025-02-20T17:16:30.440Z"
   },
   {
    "duration": 27,
    "start_time": "2025-02-20T17:16:30.501Z"
   },
   {
    "duration": 36,
    "start_time": "2025-02-20T17:16:30.530Z"
   },
   {
    "duration": 8,
    "start_time": "2025-02-20T17:16:30.569Z"
   },
   {
    "duration": 20,
    "start_time": "2025-02-20T17:16:30.579Z"
   },
   {
    "duration": 27,
    "start_time": "2025-02-20T17:16:30.600Z"
   },
   {
    "duration": 9,
    "start_time": "2025-02-20T17:16:30.629Z"
   },
   {
    "duration": 622,
    "start_time": "2025-02-20T17:16:30.640Z"
   },
   {
    "duration": 494,
    "start_time": "2025-02-20T17:16:31.264Z"
   },
   {
    "duration": 956,
    "start_time": "2025-02-20T17:16:31.760Z"
   },
   {
    "duration": 400,
    "start_time": "2025-02-20T17:16:32.717Z"
   },
   {
    "duration": 403,
    "start_time": "2025-02-20T17:16:33.119Z"
   },
   {
    "duration": 413,
    "start_time": "2025-02-20T17:16:33.523Z"
   },
   {
    "duration": 407,
    "start_time": "2025-02-20T17:16:33.938Z"
   },
   {
    "duration": 10,
    "start_time": "2025-02-20T17:16:34.346Z"
   },
   {
    "duration": 508,
    "start_time": "2025-02-20T17:16:34.357Z"
   },
   {
    "duration": 38,
    "start_time": "2025-02-20T17:16:34.866Z"
   },
   {
    "duration": 26,
    "start_time": "2025-02-20T17:16:34.906Z"
   },
   {
    "duration": 46,
    "start_time": "2025-02-20T17:16:34.934Z"
   },
   {
    "duration": 20,
    "start_time": "2025-02-20T17:16:34.982Z"
   },
   {
    "duration": 24,
    "start_time": "2025-02-20T17:16:35.004Z"
   },
   {
    "duration": 20,
    "start_time": "2025-02-20T17:16:35.030Z"
   },
   {
    "duration": 77,
    "start_time": "2025-02-20T17:16:35.052Z"
   },
   {
    "duration": 408,
    "start_time": "2025-02-20T17:16:35.131Z"
   },
   {
    "duration": 61,
    "start_time": "2025-02-20T17:16:35.541Z"
   },
   {
    "duration": 503,
    "start_time": "2025-02-20T17:16:35.604Z"
   },
   {
    "duration": 5,
    "start_time": "2025-02-20T17:16:36.109Z"
   },
   {
    "duration": 1713,
    "start_time": "2025-02-20T17:16:36.115Z"
   },
   {
    "duration": 1127,
    "start_time": "2025-02-20T17:16:37.830Z"
   },
   {
    "duration": 9,
    "start_time": "2025-02-20T17:16:38.958Z"
   },
   {
    "duration": 32,
    "start_time": "2025-02-20T17:16:38.971Z"
   },
   {
    "duration": 176,
    "start_time": "2025-02-20T17:18:14.806Z"
   },
   {
    "duration": 22486,
    "start_time": "2025-02-20T17:18:22.390Z"
   },
   {
    "duration": 4,
    "start_time": "2025-02-20T17:18:44.879Z"
   },
   {
    "duration": 104,
    "start_time": "2025-02-20T17:18:44.885Z"
   },
   {
    "duration": 22,
    "start_time": "2025-02-20T17:18:44.992Z"
   },
   {
    "duration": 26,
    "start_time": "2025-02-20T17:18:45.016Z"
   },
   {
    "duration": 33,
    "start_time": "2025-02-20T17:18:45.044Z"
   },
   {
    "duration": 34,
    "start_time": "2025-02-20T17:18:45.079Z"
   },
   {
    "duration": 22,
    "start_time": "2025-02-20T17:18:45.115Z"
   },
   {
    "duration": 34,
    "start_time": "2025-02-20T17:18:45.139Z"
   },
   {
    "duration": 37,
    "start_time": "2025-02-20T17:18:45.176Z"
   },
   {
    "duration": 14,
    "start_time": "2025-02-20T17:18:45.214Z"
   },
   {
    "duration": 19,
    "start_time": "2025-02-20T17:18:45.230Z"
   },
   {
    "duration": 52,
    "start_time": "2025-02-20T17:18:45.250Z"
   },
   {
    "duration": 9,
    "start_time": "2025-02-20T17:18:45.303Z"
   },
   {
    "duration": 22,
    "start_time": "2025-02-20T17:18:45.313Z"
   },
   {
    "duration": 37,
    "start_time": "2025-02-20T17:18:45.337Z"
   },
   {
    "duration": 14,
    "start_time": "2025-02-20T17:18:45.376Z"
   },
   {
    "duration": 665,
    "start_time": "2025-02-20T17:18:45.391Z"
   },
   {
    "duration": 493,
    "start_time": "2025-02-20T17:18:46.057Z"
   },
   {
    "duration": 930,
    "start_time": "2025-02-20T17:18:46.552Z"
   },
   {
    "duration": 348,
    "start_time": "2025-02-20T17:18:47.484Z"
   },
   {
    "duration": 389,
    "start_time": "2025-02-20T17:18:47.834Z"
   },
   {
    "duration": 469,
    "start_time": "2025-02-20T17:18:48.225Z"
   },
   {
    "duration": 381,
    "start_time": "2025-02-20T17:18:48.696Z"
   },
   {
    "duration": 12,
    "start_time": "2025-02-20T17:18:49.079Z"
   },
   {
    "duration": 652,
    "start_time": "2025-02-20T17:18:49.094Z"
   },
   {
    "duration": 42,
    "start_time": "2025-02-20T17:18:49.747Z"
   },
   {
    "duration": 20,
    "start_time": "2025-02-20T17:18:49.793Z"
   },
   {
    "duration": 20,
    "start_time": "2025-02-20T17:18:49.815Z"
   },
   {
    "duration": 38,
    "start_time": "2025-02-20T17:18:49.837Z"
   },
   {
    "duration": 7,
    "start_time": "2025-02-20T17:18:49.878Z"
   },
   {
    "duration": 12,
    "start_time": "2025-02-20T17:18:49.887Z"
   },
   {
    "duration": 40,
    "start_time": "2025-02-20T17:18:49.901Z"
   },
   {
    "duration": 395,
    "start_time": "2025-02-20T17:18:49.942Z"
   },
   {
    "duration": 50,
    "start_time": "2025-02-20T17:18:50.338Z"
   },
   {
    "duration": 443,
    "start_time": "2025-02-20T17:18:50.390Z"
   },
   {
    "duration": 6,
    "start_time": "2025-02-20T17:18:50.835Z"
   },
   {
    "duration": 1666,
    "start_time": "2025-02-20T17:18:50.842Z"
   },
   {
    "duration": 1027,
    "start_time": "2025-02-20T17:18:52.510Z"
   },
   {
    "duration": 8,
    "start_time": "2025-02-20T17:18:53.539Z"
   },
   {
    "duration": 19,
    "start_time": "2025-02-20T17:18:53.548Z"
   },
   {
    "duration": 172,
    "start_time": "2025-02-20T17:19:42.040Z"
   },
   {
    "duration": 21,
    "start_time": "2025-02-20T17:19:46.376Z"
   },
   {
    "duration": 22065,
    "start_time": "2025-02-20T17:19:54.656Z"
   },
   {
    "duration": 3,
    "start_time": "2025-02-20T17:20:16.724Z"
   },
   {
    "duration": 97,
    "start_time": "2025-02-20T17:20:16.728Z"
   },
   {
    "duration": 22,
    "start_time": "2025-02-20T17:20:16.828Z"
   },
   {
    "duration": 16,
    "start_time": "2025-02-20T17:20:16.852Z"
   },
   {
    "duration": 8,
    "start_time": "2025-02-20T17:20:16.869Z"
   },
   {
    "duration": 19,
    "start_time": "2025-02-20T17:20:16.878Z"
   },
   {
    "duration": 9,
    "start_time": "2025-02-20T17:20:16.898Z"
   },
   {
    "duration": 15,
    "start_time": "2025-02-20T17:20:16.909Z"
   },
   {
    "duration": 13,
    "start_time": "2025-02-20T17:20:16.926Z"
   },
   {
    "duration": 40,
    "start_time": "2025-02-20T17:20:16.941Z"
   },
   {
    "duration": 14,
    "start_time": "2025-02-20T17:20:16.983Z"
   },
   {
    "duration": 33,
    "start_time": "2025-02-20T17:20:16.999Z"
   },
   {
    "duration": 8,
    "start_time": "2025-02-20T17:20:17.034Z"
   },
   {
    "duration": 12,
    "start_time": "2025-02-20T17:20:17.071Z"
   },
   {
    "duration": 22,
    "start_time": "2025-02-20T17:20:17.085Z"
   },
   {
    "duration": 19,
    "start_time": "2025-02-20T17:20:17.109Z"
   },
   {
    "duration": 609,
    "start_time": "2025-02-20T17:20:17.130Z"
   },
   {
    "duration": 405,
    "start_time": "2025-02-20T17:20:17.741Z"
   },
   {
    "duration": 954,
    "start_time": "2025-02-20T17:20:18.148Z"
   },
   {
    "duration": 406,
    "start_time": "2025-02-20T17:20:19.104Z"
   },
   {
    "duration": 402,
    "start_time": "2025-02-20T17:20:19.512Z"
   },
   {
    "duration": 406,
    "start_time": "2025-02-20T17:20:19.915Z"
   },
   {
    "duration": 398,
    "start_time": "2025-02-20T17:20:20.323Z"
   },
   {
    "duration": 9,
    "start_time": "2025-02-20T17:20:20.723Z"
   },
   {
    "duration": 409,
    "start_time": "2025-02-20T17:20:20.733Z"
   },
   {
    "duration": 46,
    "start_time": "2025-02-20T17:20:21.144Z"
   },
   {
    "duration": 25,
    "start_time": "2025-02-20T17:20:21.194Z"
   },
   {
    "duration": 29,
    "start_time": "2025-02-20T17:20:21.221Z"
   },
   {
    "duration": 33,
    "start_time": "2025-02-20T17:20:21.253Z"
   },
   {
    "duration": 14,
    "start_time": "2025-02-20T17:20:21.288Z"
   },
   {
    "duration": 24,
    "start_time": "2025-02-20T17:20:21.304Z"
   },
   {
    "duration": 29,
    "start_time": "2025-02-20T17:20:21.330Z"
   },
   {
    "duration": 357,
    "start_time": "2025-02-20T17:20:21.372Z"
   },
   {
    "duration": 52,
    "start_time": "2025-02-20T17:20:21.731Z"
   },
   {
    "duration": 478,
    "start_time": "2025-02-20T17:20:21.784Z"
   },
   {
    "duration": 9,
    "start_time": "2025-02-20T17:20:22.263Z"
   },
   {
    "duration": 1613,
    "start_time": "2025-02-20T17:20:22.274Z"
   },
   {
    "duration": 1056,
    "start_time": "2025-02-20T17:20:23.889Z"
   },
   {
    "duration": 9,
    "start_time": "2025-02-20T17:20:24.947Z"
   },
   {
    "duration": 24,
    "start_time": "2025-02-20T17:20:24.959Z"
   },
   {
    "duration": 6,
    "start_time": "2025-02-20T17:23:44.901Z"
   },
   {
    "duration": 4,
    "start_time": "2025-02-20T17:24:37.622Z"
   },
   {
    "duration": 21907,
    "start_time": "2025-02-20T17:24:43.194Z"
   },
   {
    "duration": 3,
    "start_time": "2025-02-20T17:25:05.103Z"
   },
   {
    "duration": 112,
    "start_time": "2025-02-20T17:25:05.107Z"
   },
   {
    "duration": 21,
    "start_time": "2025-02-20T17:25:05.221Z"
   },
   {
    "duration": 47,
    "start_time": "2025-02-20T17:25:05.245Z"
   },
   {
    "duration": 25,
    "start_time": "2025-02-20T17:25:05.294Z"
   },
   {
    "duration": 28,
    "start_time": "2025-02-20T17:25:05.321Z"
   },
   {
    "duration": 29,
    "start_time": "2025-02-20T17:25:05.351Z"
   },
   {
    "duration": 37,
    "start_time": "2025-02-20T17:25:05.381Z"
   },
   {
    "duration": 18,
    "start_time": "2025-02-20T17:25:05.420Z"
   },
   {
    "duration": 12,
    "start_time": "2025-02-20T17:25:05.439Z"
   },
   {
    "duration": 43,
    "start_time": "2025-02-20T17:25:05.452Z"
   },
   {
    "duration": 71,
    "start_time": "2025-02-20T17:25:05.497Z"
   },
   {
    "duration": 8,
    "start_time": "2025-02-20T17:25:05.571Z"
   },
   {
    "duration": 16,
    "start_time": "2025-02-20T17:25:05.581Z"
   },
   {
    "duration": 20,
    "start_time": "2025-02-20T17:25:05.600Z"
   },
   {
    "duration": 9,
    "start_time": "2025-02-20T17:25:05.622Z"
   },
   {
    "duration": 609,
    "start_time": "2025-02-20T17:25:05.633Z"
   },
   {
    "duration": 405,
    "start_time": "2025-02-20T17:25:06.243Z"
   },
   {
    "duration": 926,
    "start_time": "2025-02-20T17:25:06.650Z"
   },
   {
    "duration": 357,
    "start_time": "2025-02-20T17:25:07.578Z"
   },
   {
    "duration": 352,
    "start_time": "2025-02-20T17:25:07.971Z"
   },
   {
    "duration": 396,
    "start_time": "2025-02-20T17:25:08.325Z"
   },
   {
    "duration": 396,
    "start_time": "2025-02-20T17:25:08.723Z"
   },
   {
    "duration": 8,
    "start_time": "2025-02-20T17:25:09.121Z"
   },
   {
    "duration": 406,
    "start_time": "2025-02-20T17:25:09.131Z"
   },
   {
    "duration": 41,
    "start_time": "2025-02-20T17:25:09.539Z"
   },
   {
    "duration": 20,
    "start_time": "2025-02-20T17:25:09.582Z"
   },
   {
    "duration": 18,
    "start_time": "2025-02-20T17:25:09.604Z"
   },
   {
    "duration": 14,
    "start_time": "2025-02-20T17:25:09.624Z"
   },
   {
    "duration": 36,
    "start_time": "2025-02-20T17:25:09.639Z"
   },
   {
    "duration": 12,
    "start_time": "2025-02-20T17:25:09.677Z"
   },
   {
    "duration": 33,
    "start_time": "2025-02-20T17:25:09.691Z"
   },
   {
    "duration": 5,
    "start_time": "2025-02-20T17:25:09.726Z"
   },
   {
    "duration": 394,
    "start_time": "2025-02-20T17:25:09.732Z"
   },
   {
    "duration": 51,
    "start_time": "2025-02-20T17:25:10.127Z"
   },
   {
    "duration": 460,
    "start_time": "2025-02-20T17:25:10.180Z"
   },
   {
    "duration": 479,
    "start_time": "2025-02-20T17:25:10.642Z"
   },
   {
    "duration": 5,
    "start_time": "2025-02-20T17:25:11.124Z"
   },
   {
    "duration": 7,
    "start_time": "2025-02-20T17:25:11.131Z"
   },
   {
    "duration": 1714,
    "start_time": "2025-02-20T17:25:11.143Z"
   },
   {
    "duration": 1050,
    "start_time": "2025-02-20T17:25:12.859Z"
   },
   {
    "duration": 7,
    "start_time": "2025-02-20T17:25:13.911Z"
   },
   {
    "duration": 22,
    "start_time": "2025-02-20T17:25:13.920Z"
   },
   {
    "duration": 23378,
    "start_time": "2025-02-20T17:29:10.432Z"
   },
   {
    "duration": 2,
    "start_time": "2025-02-20T17:29:33.812Z"
   },
   {
    "duration": 101,
    "start_time": "2025-02-20T17:29:33.816Z"
   },
   {
    "duration": 21,
    "start_time": "2025-02-20T17:29:33.919Z"
   },
   {
    "duration": 22,
    "start_time": "2025-02-20T17:29:33.944Z"
   },
   {
    "duration": 8,
    "start_time": "2025-02-20T17:29:33.968Z"
   },
   {
    "duration": 17,
    "start_time": "2025-02-20T17:29:33.978Z"
   },
   {
    "duration": 16,
    "start_time": "2025-02-20T17:29:33.997Z"
   },
   {
    "duration": 13,
    "start_time": "2025-02-20T17:29:34.016Z"
   },
   {
    "duration": 49,
    "start_time": "2025-02-20T17:29:34.032Z"
   },
   {
    "duration": 25,
    "start_time": "2025-02-20T17:29:34.083Z"
   },
   {
    "duration": 14,
    "start_time": "2025-02-20T17:29:34.110Z"
   },
   {
    "duration": 48,
    "start_time": "2025-02-20T17:29:34.127Z"
   },
   {
    "duration": 9,
    "start_time": "2025-02-20T17:29:34.178Z"
   },
   {
    "duration": 36,
    "start_time": "2025-02-20T17:29:34.188Z"
   },
   {
    "duration": 17,
    "start_time": "2025-02-20T17:29:34.226Z"
   },
   {
    "duration": 8,
    "start_time": "2025-02-20T17:29:34.245Z"
   },
   {
    "duration": 597,
    "start_time": "2025-02-20T17:29:34.255Z"
   },
   {
    "duration": 447,
    "start_time": "2025-02-20T17:29:34.854Z"
   },
   {
    "duration": 993,
    "start_time": "2025-02-20T17:29:35.303Z"
   },
   {
    "duration": 378,
    "start_time": "2025-02-20T17:29:36.298Z"
   },
   {
    "duration": 395,
    "start_time": "2025-02-20T17:29:36.677Z"
   },
   {
    "duration": 358,
    "start_time": "2025-02-20T17:29:37.074Z"
   },
   {
    "duration": 382,
    "start_time": "2025-02-20T17:29:37.434Z"
   },
   {
    "duration": 8,
    "start_time": "2025-02-20T17:29:37.817Z"
   },
   {
    "duration": 401,
    "start_time": "2025-02-20T17:29:37.827Z"
   },
   {
    "duration": 27,
    "start_time": "2025-02-20T17:29:38.230Z"
   },
   {
    "duration": 20,
    "start_time": "2025-02-20T17:29:38.272Z"
   },
   {
    "duration": 18,
    "start_time": "2025-02-20T17:29:38.294Z"
   },
   {
    "duration": 17,
    "start_time": "2025-02-20T17:29:38.314Z"
   },
   {
    "duration": 8,
    "start_time": "2025-02-20T17:29:38.333Z"
   },
   {
    "duration": 14,
    "start_time": "2025-02-20T17:29:38.371Z"
   },
   {
    "duration": 29,
    "start_time": "2025-02-20T17:29:38.387Z"
   },
   {
    "duration": 405,
    "start_time": "2025-02-20T17:29:38.419Z"
   },
   {
    "duration": 57,
    "start_time": "2025-02-20T17:29:38.827Z"
   },
   {
    "duration": 466,
    "start_time": "2025-02-20T17:29:38.887Z"
   },
   {
    "duration": 17,
    "start_time": "2025-02-20T17:29:39.355Z"
   },
   {
    "duration": 1628,
    "start_time": "2025-02-20T17:29:39.374Z"
   },
   {
    "duration": 1057,
    "start_time": "2025-02-20T17:29:41.004Z"
   },
   {
    "duration": 11,
    "start_time": "2025-02-20T17:29:42.063Z"
   },
   {
    "duration": 56,
    "start_time": "2025-02-20T17:29:42.078Z"
   },
   {
    "duration": 448,
    "start_time": "2025-02-20T17:31:44.776Z"
   },
   {
    "duration": 17,
    "start_time": "2025-02-20T17:33:59.295Z"
   },
   {
    "duration": 2221,
    "start_time": "2025-02-20T17:35:37.049Z"
   },
   {
    "duration": 8,
    "start_time": "2025-02-20T17:37:18.679Z"
   },
   {
    "duration": 22527,
    "start_time": "2025-02-20T17:38:47.969Z"
   },
   {
    "duration": 3,
    "start_time": "2025-02-20T17:39:10.498Z"
   },
   {
    "duration": 120,
    "start_time": "2025-02-20T17:39:10.503Z"
   },
   {
    "duration": 20,
    "start_time": "2025-02-20T17:39:10.624Z"
   },
   {
    "duration": 15,
    "start_time": "2025-02-20T17:39:10.646Z"
   },
   {
    "duration": 14,
    "start_time": "2025-02-20T17:39:10.663Z"
   },
   {
    "duration": 5,
    "start_time": "2025-02-20T17:39:10.679Z"
   },
   {
    "duration": 22,
    "start_time": "2025-02-20T17:39:10.686Z"
   },
   {
    "duration": 9,
    "start_time": "2025-02-20T17:39:10.709Z"
   },
   {
    "duration": 14,
    "start_time": "2025-02-20T17:39:10.719Z"
   },
   {
    "duration": 41,
    "start_time": "2025-02-20T17:39:10.734Z"
   },
   {
    "duration": 11,
    "start_time": "2025-02-20T17:39:10.777Z"
   },
   {
    "duration": 13,
    "start_time": "2025-02-20T17:39:10.790Z"
   },
   {
    "duration": 33,
    "start_time": "2025-02-20T17:39:10.806Z"
   },
   {
    "duration": 31,
    "start_time": "2025-02-20T17:39:10.841Z"
   },
   {
    "duration": 13,
    "start_time": "2025-02-20T17:39:10.874Z"
   },
   {
    "duration": 18,
    "start_time": "2025-02-20T17:39:10.889Z"
   },
   {
    "duration": 8,
    "start_time": "2025-02-20T17:39:10.908Z"
   },
   {
    "duration": 630,
    "start_time": "2025-02-20T17:39:10.918Z"
   },
   {
    "duration": 396,
    "start_time": "2025-02-20T17:39:11.549Z"
   },
   {
    "duration": 946,
    "start_time": "2025-02-20T17:39:11.947Z"
   },
   {
    "duration": 425,
    "start_time": "2025-02-20T17:39:12.894Z"
   },
   {
    "duration": 401,
    "start_time": "2025-02-20T17:39:13.321Z"
   },
   {
    "duration": 406,
    "start_time": "2025-02-20T17:39:13.724Z"
   },
   {
    "duration": 381,
    "start_time": "2025-02-20T17:39:14.132Z"
   },
   {
    "duration": 8,
    "start_time": "2025-02-20T17:39:14.515Z"
   },
   {
    "duration": 403,
    "start_time": "2025-02-20T17:39:14.525Z"
   },
   {
    "duration": 43,
    "start_time": "2025-02-20T17:39:14.929Z"
   },
   {
    "duration": 20,
    "start_time": "2025-02-20T17:39:14.974Z"
   },
   {
    "duration": 43,
    "start_time": "2025-02-20T17:39:14.996Z"
   },
   {
    "duration": 36,
    "start_time": "2025-02-20T17:39:15.040Z"
   },
   {
    "duration": 43,
    "start_time": "2025-02-20T17:39:15.077Z"
   },
   {
    "duration": 31,
    "start_time": "2025-02-20T17:39:15.122Z"
   },
   {
    "duration": 44,
    "start_time": "2025-02-20T17:39:15.154Z"
   },
   {
    "duration": 412,
    "start_time": "2025-02-20T17:39:15.200Z"
   },
   {
    "duration": 9,
    "start_time": "2025-02-20T17:39:15.614Z"
   },
   {
    "duration": 58,
    "start_time": "2025-02-20T17:39:15.624Z"
   },
   {
    "duration": 468,
    "start_time": "2025-02-20T17:39:15.684Z"
   },
   {
    "duration": 6,
    "start_time": "2025-02-20T17:39:16.154Z"
   },
   {
    "duration": 1555,
    "start_time": "2025-02-20T17:39:16.162Z"
   },
   {
    "duration": 996,
    "start_time": "2025-02-20T17:39:17.721Z"
   },
   {
    "duration": 8,
    "start_time": "2025-02-20T17:39:18.718Z"
   },
   {
    "duration": 8,
    "start_time": "2025-02-20T17:39:18.728Z"
   },
   {
    "duration": 21659,
    "start_time": "2025-02-20T17:45:32.803Z"
   },
   {
    "duration": 8,
    "start_time": "2025-02-20T17:45:54.465Z"
   },
   {
    "duration": 101,
    "start_time": "2025-02-20T17:45:54.474Z"
   },
   {
    "duration": 26,
    "start_time": "2025-02-20T17:45:54.577Z"
   },
   {
    "duration": 15,
    "start_time": "2025-02-20T17:45:54.604Z"
   },
   {
    "duration": 14,
    "start_time": "2025-02-20T17:45:54.621Z"
   },
   {
    "duration": 6,
    "start_time": "2025-02-20T17:45:54.637Z"
   },
   {
    "duration": 19,
    "start_time": "2025-02-20T17:45:54.671Z"
   },
   {
    "duration": 9,
    "start_time": "2025-02-20T17:45:54.692Z"
   },
   {
    "duration": 12,
    "start_time": "2025-02-20T17:45:54.704Z"
   },
   {
    "duration": 23,
    "start_time": "2025-02-20T17:45:54.718Z"
   },
   {
    "duration": 34,
    "start_time": "2025-02-20T17:45:54.743Z"
   },
   {
    "duration": 14,
    "start_time": "2025-02-20T17:45:54.779Z"
   },
   {
    "duration": 37,
    "start_time": "2025-02-20T17:45:54.795Z"
   },
   {
    "duration": 8,
    "start_time": "2025-02-20T17:45:54.833Z"
   },
   {
    "duration": 37,
    "start_time": "2025-02-20T17:45:54.842Z"
   },
   {
    "duration": 17,
    "start_time": "2025-02-20T17:45:54.881Z"
   },
   {
    "duration": 9,
    "start_time": "2025-02-20T17:45:54.900Z"
   },
   {
    "duration": 631,
    "start_time": "2025-02-20T17:45:54.910Z"
   },
   {
    "duration": 404,
    "start_time": "2025-02-20T17:45:55.542Z"
   },
   {
    "duration": 930,
    "start_time": "2025-02-20T17:45:55.948Z"
   },
   {
    "duration": 349,
    "start_time": "2025-02-20T17:45:56.880Z"
   },
   {
    "duration": 384,
    "start_time": "2025-02-20T17:45:57.231Z"
   },
   {
    "duration": 400,
    "start_time": "2025-02-20T17:45:57.617Z"
   },
   {
    "duration": 391,
    "start_time": "2025-02-20T17:45:58.019Z"
   },
   {
    "duration": 8,
    "start_time": "2025-02-20T17:45:58.412Z"
   },
   {
    "duration": 470,
    "start_time": "2025-02-20T17:45:58.422Z"
   },
   {
    "duration": 27,
    "start_time": "2025-02-20T17:45:58.895Z"
   },
   {
    "duration": 19,
    "start_time": "2025-02-20T17:45:58.924Z"
   },
   {
    "duration": 46,
    "start_time": "2025-02-20T17:45:58.945Z"
   },
   {
    "duration": 22,
    "start_time": "2025-02-20T17:45:58.993Z"
   },
   {
    "duration": 10,
    "start_time": "2025-02-20T17:45:59.020Z"
   },
   {
    "duration": 13,
    "start_time": "2025-02-20T17:45:59.032Z"
   },
   {
    "duration": 49,
    "start_time": "2025-02-20T17:45:59.047Z"
   },
   {
    "duration": 414,
    "start_time": "2025-02-20T17:45:59.098Z"
   },
   {
    "duration": 10,
    "start_time": "2025-02-20T17:45:59.514Z"
   },
   {
    "duration": 56,
    "start_time": "2025-02-20T17:45:59.526Z"
   },
   {
    "duration": 475,
    "start_time": "2025-02-20T17:45:59.584Z"
   },
   {
    "duration": 11,
    "start_time": "2025-02-20T17:46:00.061Z"
   },
   {
    "duration": 1630,
    "start_time": "2025-02-20T17:46:00.074Z"
   },
   {
    "duration": 1043,
    "start_time": "2025-02-20T17:46:01.705Z"
   },
   {
    "duration": 8,
    "start_time": "2025-02-20T17:46:02.750Z"
   },
   {
    "duration": 29,
    "start_time": "2025-02-20T17:46:02.760Z"
   },
   {
    "duration": 173,
    "start_time": "2025-02-20T17:47:06.044Z"
   },
   {
    "duration": 36819,
    "start_time": "2025-02-20T17:47:13.066Z"
   },
   {
    "duration": 3,
    "start_time": "2025-02-20T17:47:49.887Z"
   },
   {
    "duration": 111,
    "start_time": "2025-02-20T17:47:49.892Z"
   },
   {
    "duration": 21,
    "start_time": "2025-02-20T17:47:50.005Z"
   },
   {
    "duration": 16,
    "start_time": "2025-02-20T17:47:50.028Z"
   },
   {
    "duration": 25,
    "start_time": "2025-02-20T17:47:50.046Z"
   },
   {
    "duration": 26,
    "start_time": "2025-02-20T17:47:50.073Z"
   },
   {
    "duration": 21,
    "start_time": "2025-02-20T17:47:50.101Z"
   },
   {
    "duration": 47,
    "start_time": "2025-02-20T17:47:50.124Z"
   },
   {
    "duration": 14,
    "start_time": "2025-02-20T17:47:50.175Z"
   },
   {
    "duration": 77,
    "start_time": "2025-02-20T17:47:50.192Z"
   },
   {
    "duration": 13,
    "start_time": "2025-02-20T17:47:50.272Z"
   },
   {
    "duration": 38,
    "start_time": "2025-02-20T17:47:50.287Z"
   },
   {
    "duration": 41,
    "start_time": "2025-02-20T17:47:50.327Z"
   },
   {
    "duration": 8,
    "start_time": "2025-02-20T17:47:50.370Z"
   },
   {
    "duration": 12,
    "start_time": "2025-02-20T17:47:50.381Z"
   },
   {
    "duration": 76,
    "start_time": "2025-02-20T17:47:50.395Z"
   },
   {
    "duration": 11,
    "start_time": "2025-02-20T17:47:50.473Z"
   },
   {
    "duration": 566,
    "start_time": "2025-02-20T17:47:50.487Z"
   },
   {
    "duration": 397,
    "start_time": "2025-02-20T17:47:51.055Z"
   },
   {
    "duration": 919,
    "start_time": "2025-02-20T17:47:51.454Z"
   },
   {
    "duration": 353,
    "start_time": "2025-02-20T17:47:52.375Z"
   },
   {
    "duration": 380,
    "start_time": "2025-02-20T17:47:52.730Z"
   },
   {
    "duration": 400,
    "start_time": "2025-02-20T17:47:53.111Z"
   },
   {
    "duration": 399,
    "start_time": "2025-02-20T17:47:53.513Z"
   },
   {
    "duration": 8,
    "start_time": "2025-02-20T17:47:53.914Z"
   },
   {
    "duration": 413,
    "start_time": "2025-02-20T17:47:53.923Z"
   },
   {
    "duration": 37,
    "start_time": "2025-02-20T17:47:54.339Z"
   },
   {
    "duration": 20,
    "start_time": "2025-02-20T17:47:54.378Z"
   },
   {
    "duration": 32,
    "start_time": "2025-02-20T17:47:54.399Z"
   },
   {
    "duration": 14,
    "start_time": "2025-02-20T17:47:54.433Z"
   },
   {
    "duration": 7,
    "start_time": "2025-02-20T17:47:54.449Z"
   },
   {
    "duration": 25,
    "start_time": "2025-02-20T17:47:54.458Z"
   },
   {
    "duration": 30,
    "start_time": "2025-02-20T17:47:54.484Z"
   },
   {
    "duration": 406,
    "start_time": "2025-02-20T17:47:54.516Z"
   },
   {
    "duration": 10,
    "start_time": "2025-02-20T17:47:54.925Z"
   },
   {
    "duration": 52,
    "start_time": "2025-02-20T17:47:54.936Z"
   },
   {
    "duration": 457,
    "start_time": "2025-02-20T17:47:54.990Z"
   },
   {
    "duration": 5,
    "start_time": "2025-02-20T17:47:55.449Z"
   },
   {
    "duration": 1560,
    "start_time": "2025-02-20T17:47:55.456Z"
   },
   {
    "duration": 1006,
    "start_time": "2025-02-20T17:47:57.018Z"
   },
   {
    "duration": 8,
    "start_time": "2025-02-20T17:47:58.026Z"
   },
   {
    "duration": 9,
    "start_time": "2025-02-20T17:47:58.035Z"
   },
   {
    "duration": 22200,
    "start_time": "2025-02-20T17:56:31.188Z"
   },
   {
    "duration": 3,
    "start_time": "2025-02-20T17:56:53.390Z"
   },
   {
    "duration": 112,
    "start_time": "2025-02-20T17:56:53.395Z"
   },
   {
    "duration": 20,
    "start_time": "2025-02-20T17:56:53.509Z"
   },
   {
    "duration": 14,
    "start_time": "2025-02-20T17:56:53.531Z"
   },
   {
    "duration": 14,
    "start_time": "2025-02-20T17:56:53.547Z"
   },
   {
    "duration": 11,
    "start_time": "2025-02-20T17:56:53.562Z"
   },
   {
    "duration": 18,
    "start_time": "2025-02-20T17:56:53.575Z"
   },
   {
    "duration": 10,
    "start_time": "2025-02-20T17:56:53.594Z"
   },
   {
    "duration": 13,
    "start_time": "2025-02-20T17:56:53.607Z"
   },
   {
    "duration": 14,
    "start_time": "2025-02-20T17:56:53.621Z"
   },
   {
    "duration": 12,
    "start_time": "2025-02-20T17:56:53.671Z"
   },
   {
    "duration": 15,
    "start_time": "2025-02-20T17:56:53.685Z"
   },
   {
    "duration": 33,
    "start_time": "2025-02-20T17:56:53.702Z"
   },
   {
    "duration": 8,
    "start_time": "2025-02-20T17:56:53.736Z"
   },
   {
    "duration": 11,
    "start_time": "2025-02-20T17:56:53.773Z"
   },
   {
    "duration": 18,
    "start_time": "2025-02-20T17:56:53.786Z"
   },
   {
    "duration": 9,
    "start_time": "2025-02-20T17:56:53.805Z"
   },
   {
    "duration": 628,
    "start_time": "2025-02-20T17:56:53.815Z"
   },
   {
    "duration": 405,
    "start_time": "2025-02-20T17:56:54.445Z"
   },
   {
    "duration": 936,
    "start_time": "2025-02-20T17:56:54.852Z"
   },
   {
    "duration": 352,
    "start_time": "2025-02-20T17:56:55.790Z"
   },
   {
    "duration": 480,
    "start_time": "2025-02-20T17:56:56.144Z"
   },
   {
    "duration": 471,
    "start_time": "2025-02-20T17:56:56.625Z"
   },
   {
    "duration": 334,
    "start_time": "2025-02-20T17:56:57.098Z"
   },
   {
    "duration": 10,
    "start_time": "2025-02-20T17:56:57.433Z"
   },
   {
    "duration": 401,
    "start_time": "2025-02-20T17:56:57.445Z"
   },
   {
    "duration": 40,
    "start_time": "2025-02-20T17:56:57.849Z"
   },
   {
    "duration": 20,
    "start_time": "2025-02-20T17:56:57.891Z"
   },
   {
    "duration": 18,
    "start_time": "2025-02-20T17:56:57.912Z"
   },
   {
    "duration": 13,
    "start_time": "2025-02-20T17:56:57.932Z"
   },
   {
    "duration": 32,
    "start_time": "2025-02-20T17:56:57.947Z"
   },
   {
    "duration": 13,
    "start_time": "2025-02-20T17:56:57.980Z"
   },
   {
    "duration": 42,
    "start_time": "2025-02-20T17:56:57.994Z"
   },
   {
    "duration": 380,
    "start_time": "2025-02-20T17:56:58.038Z"
   },
   {
    "duration": 9,
    "start_time": "2025-02-20T17:56:58.420Z"
   },
   {
    "duration": 53,
    "start_time": "2025-02-20T17:56:58.430Z"
   },
   {
    "duration": 474,
    "start_time": "2025-02-20T17:56:58.485Z"
   },
   {
    "duration": 16,
    "start_time": "2025-02-20T17:56:58.961Z"
   },
   {
    "duration": 1304,
    "start_time": "2025-02-20T17:56:58.979Z"
   },
   {
    "duration": 0,
    "start_time": "2025-02-20T17:57:00.285Z"
   },
   {
    "duration": 0,
    "start_time": "2025-02-20T17:57:00.286Z"
   },
   {
    "duration": 0,
    "start_time": "2025-02-20T17:57:00.287Z"
   },
   {
    "duration": 0,
    "start_time": "2025-02-20T17:57:00.289Z"
   },
   {
    "duration": 1221,
    "start_time": "2025-02-20T17:57:34.541Z"
   },
   {
    "duration": 1079,
    "start_time": "2025-02-20T17:57:40.434Z"
   },
   {
    "duration": 1153,
    "start_time": "2025-02-20T17:58:36.185Z"
   },
   {
    "duration": 21782,
    "start_time": "2025-02-20T17:59:15.200Z"
   },
   {
    "duration": 3,
    "start_time": "2025-02-20T17:59:36.984Z"
   },
   {
    "duration": 99,
    "start_time": "2025-02-20T17:59:36.989Z"
   },
   {
    "duration": 19,
    "start_time": "2025-02-20T17:59:37.090Z"
   },
   {
    "duration": 16,
    "start_time": "2025-02-20T17:59:37.111Z"
   },
   {
    "duration": 21,
    "start_time": "2025-02-20T17:59:37.128Z"
   },
   {
    "duration": 6,
    "start_time": "2025-02-20T17:59:37.151Z"
   },
   {
    "duration": 29,
    "start_time": "2025-02-20T17:59:37.159Z"
   },
   {
    "duration": 9,
    "start_time": "2025-02-20T17:59:37.190Z"
   },
   {
    "duration": 26,
    "start_time": "2025-02-20T17:59:37.201Z"
   },
   {
    "duration": 14,
    "start_time": "2025-02-20T17:59:37.229Z"
   },
   {
    "duration": 27,
    "start_time": "2025-02-20T17:59:37.245Z"
   },
   {
    "duration": 13,
    "start_time": "2025-02-20T17:59:37.274Z"
   },
   {
    "duration": 60,
    "start_time": "2025-02-20T17:59:37.288Z"
   },
   {
    "duration": 8,
    "start_time": "2025-02-20T17:59:37.349Z"
   },
   {
    "duration": 18,
    "start_time": "2025-02-20T17:59:37.358Z"
   },
   {
    "duration": 35,
    "start_time": "2025-02-20T17:59:37.378Z"
   },
   {
    "duration": 8,
    "start_time": "2025-02-20T17:59:37.415Z"
   },
   {
    "duration": 548,
    "start_time": "2025-02-20T17:59:37.425Z"
   },
   {
    "duration": 443,
    "start_time": "2025-02-20T17:59:37.975Z"
   },
   {
    "duration": 943,
    "start_time": "2025-02-20T17:59:38.420Z"
   },
   {
    "duration": 359,
    "start_time": "2025-02-20T17:59:39.364Z"
   },
   {
    "duration": 383,
    "start_time": "2025-02-20T17:59:39.724Z"
   },
   {
    "duration": 405,
    "start_time": "2025-02-20T17:59:40.108Z"
   },
   {
    "duration": 400,
    "start_time": "2025-02-20T17:59:40.515Z"
   },
   {
    "duration": 8,
    "start_time": "2025-02-20T17:59:40.918Z"
   },
   {
    "duration": 416,
    "start_time": "2025-02-20T17:59:40.927Z"
   },
   {
    "duration": 37,
    "start_time": "2025-02-20T17:59:41.347Z"
   },
   {
    "duration": 19,
    "start_time": "2025-02-20T17:59:41.386Z"
   },
   {
    "duration": 24,
    "start_time": "2025-02-20T17:59:41.406Z"
   },
   {
    "duration": 14,
    "start_time": "2025-02-20T17:59:41.431Z"
   },
   {
    "duration": 6,
    "start_time": "2025-02-20T17:59:41.447Z"
   },
   {
    "duration": 11,
    "start_time": "2025-02-20T17:59:41.473Z"
   },
   {
    "duration": 31,
    "start_time": "2025-02-20T17:59:41.486Z"
   },
   {
    "duration": 475,
    "start_time": "2025-02-20T17:59:41.519Z"
   },
   {
    "duration": 10,
    "start_time": "2025-02-20T17:59:41.996Z"
   },
   {
    "duration": 51,
    "start_time": "2025-02-20T17:59:42.008Z"
   },
   {
    "duration": 489,
    "start_time": "2025-02-20T17:59:42.061Z"
   },
   {
    "duration": 6,
    "start_time": "2025-02-20T17:59:42.552Z"
   },
   {
    "duration": 1156,
    "start_time": "2025-02-20T17:59:42.560Z"
   },
   {
    "duration": 1155,
    "start_time": "2025-02-20T17:59:43.718Z"
   },
   {
    "duration": 11,
    "start_time": "2025-02-20T17:59:44.875Z"
   },
   {
    "duration": 16,
    "start_time": "2025-02-20T17:59:44.888Z"
   },
   {
    "duration": 121257,
    "start_time": "2025-02-20T18:02:57.948Z"
   },
   {
    "duration": 87837,
    "start_time": "2025-02-20T18:04:59.207Z"
   },
   {
    "duration": 8,
    "start_time": "2025-02-20T18:11:14.234Z"
   },
   {
    "duration": 169,
    "start_time": "2025-02-20T18:11:43.944Z"
   },
   {
    "duration": 15,
    "start_time": "2025-02-20T18:13:27.728Z"
   },
   {
    "duration": 12,
    "start_time": "2025-02-20T18:13:50.640Z"
   },
   {
    "duration": 13,
    "start_time": "2025-02-20T18:14:02.073Z"
   },
   {
    "duration": 14,
    "start_time": "2025-02-20T18:14:56.734Z"
   },
   {
    "duration": 324,
    "start_time": "2025-02-20T18:17:31.814Z"
   },
   {
    "duration": 5,
    "start_time": "2025-02-20T18:21:43.407Z"
   },
   {
    "duration": 21487,
    "start_time": "2025-02-20T18:22:11.418Z"
   },
   {
    "duration": 3,
    "start_time": "2025-02-20T18:22:32.908Z"
   },
   {
    "duration": 99,
    "start_time": "2025-02-20T18:22:32.912Z"
   },
   {
    "duration": 21,
    "start_time": "2025-02-20T18:22:33.013Z"
   },
   {
    "duration": 16,
    "start_time": "2025-02-20T18:22:33.036Z"
   },
   {
    "duration": 23,
    "start_time": "2025-02-20T18:22:33.054Z"
   },
   {
    "duration": 6,
    "start_time": "2025-02-20T18:22:33.079Z"
   },
   {
    "duration": 28,
    "start_time": "2025-02-20T18:22:33.087Z"
   },
   {
    "duration": 22,
    "start_time": "2025-02-20T18:22:33.117Z"
   },
   {
    "duration": 35,
    "start_time": "2025-02-20T18:22:33.140Z"
   },
   {
    "duration": 15,
    "start_time": "2025-02-20T18:22:33.176Z"
   },
   {
    "duration": 19,
    "start_time": "2025-02-20T18:22:33.193Z"
   },
   {
    "duration": 13,
    "start_time": "2025-02-20T18:22:33.214Z"
   },
   {
    "duration": 44,
    "start_time": "2025-02-20T18:22:33.230Z"
   },
   {
    "duration": 7,
    "start_time": "2025-02-20T18:22:33.276Z"
   },
   {
    "duration": 27,
    "start_time": "2025-02-20T18:22:33.285Z"
   },
   {
    "duration": 18,
    "start_time": "2025-02-20T18:22:33.314Z"
   },
   {
    "duration": 9,
    "start_time": "2025-02-20T18:22:33.334Z"
   },
   {
    "duration": 630,
    "start_time": "2025-02-20T18:22:33.344Z"
   },
   {
    "duration": 448,
    "start_time": "2025-02-20T18:22:33.977Z"
   },
   {
    "duration": 902,
    "start_time": "2025-02-20T18:22:34.426Z"
   },
   {
    "duration": 391,
    "start_time": "2025-02-20T18:22:35.330Z"
   },
   {
    "duration": 389,
    "start_time": "2025-02-20T18:22:35.723Z"
   },
   {
    "duration": 398,
    "start_time": "2025-02-20T18:22:36.113Z"
   },
   {
    "duration": 395,
    "start_time": "2025-02-20T18:22:36.513Z"
   },
   {
    "duration": 8,
    "start_time": "2025-02-20T18:22:36.910Z"
   },
   {
    "duration": 406,
    "start_time": "2025-02-20T18:22:36.919Z"
   },
   {
    "duration": 27,
    "start_time": "2025-02-20T18:22:37.327Z"
   },
   {
    "duration": 32,
    "start_time": "2025-02-20T18:22:37.356Z"
   },
   {
    "duration": 18,
    "start_time": "2025-02-20T18:22:37.390Z"
   },
   {
    "duration": 14,
    "start_time": "2025-02-20T18:22:37.409Z"
   },
   {
    "duration": 7,
    "start_time": "2025-02-20T18:22:37.424Z"
   },
   {
    "duration": 45,
    "start_time": "2025-02-20T18:22:37.432Z"
   },
   {
    "duration": 31,
    "start_time": "2025-02-20T18:22:37.479Z"
   },
   {
    "duration": 409,
    "start_time": "2025-02-20T18:22:37.512Z"
   },
   {
    "duration": 9,
    "start_time": "2025-02-20T18:22:37.923Z"
   },
   {
    "duration": 61,
    "start_time": "2025-02-20T18:22:37.934Z"
   },
   {
    "duration": 462,
    "start_time": "2025-02-20T18:22:37.998Z"
   },
   {
    "duration": 10,
    "start_time": "2025-02-20T18:22:38.462Z"
   },
   {
    "duration": 1116,
    "start_time": "2025-02-20T18:22:38.474Z"
   },
   {
    "duration": 1131,
    "start_time": "2025-02-20T18:22:39.594Z"
   },
   {
    "duration": 10,
    "start_time": "2025-02-20T18:22:40.727Z"
   },
   {
    "duration": 13,
    "start_time": "2025-02-20T18:22:40.739Z"
   },
   {
    "duration": 118698,
    "start_time": "2025-02-20T18:22:40.753Z"
   },
   {
    "duration": 85883,
    "start_time": "2025-02-20T18:24:39.454Z"
   },
   {
    "duration": 369,
    "start_time": "2025-02-20T18:26:05.339Z"
   },
   {
    "duration": 5,
    "start_time": "2025-02-20T18:26:05.710Z"
   },
   {
    "duration": 20,
    "start_time": "2025-02-20T18:26:05.717Z"
   },
   {
    "duration": 158,
    "start_time": "2025-02-20T18:26:05.738Z"
   }
  ],
  "kernelspec": {
   "display_name": "Python 3 (ipykernel)",
   "language": "python",
   "name": "python3"
  },
  "language_info": {
   "codemirror_mode": {
    "name": "ipython",
    "version": 3
   },
   "file_extension": ".py",
   "mimetype": "text/x-python",
   "name": "python",
   "nbconvert_exporter": "python",
   "pygments_lexer": "ipython3",
   "version": "3.9.5"
  },
  "toc": {
   "base_numbering": 1,
   "nav_menu": {},
   "number_sections": true,
   "sideBar": true,
   "skip_h1_title": true,
   "title_cell": "Table of Contents",
   "title_sidebar": "Contents",
   "toc_cell": false,
   "toc_position": {},
   "toc_section_display": true,
   "toc_window_display": false
  }
 },
 "nbformat": 4,
 "nbformat_minor": 5
}
