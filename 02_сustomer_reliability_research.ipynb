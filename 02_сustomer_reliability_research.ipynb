{
 "cells": [
  {
   "cell_type": "markdown",
   "id": "c34205e5",
   "metadata": {},
   "source": [
    "<font face='Liberation serif' size=3>\n",
    "    \n",
    "**Привет!** 👋\n",
    "\n",
    "Меня зовут Артем Пиляй. Я буду проверять твой проект. В рамках корпоративной этики мы общаемся на «ты». Но если лучше на «Вы», то нужно обозначить это сразу.\n",
    " \n",
    "В тетрадке есть комментарии к проекту, они будут в отдельных ячейках Markdown.\n",
    " \n",
    "<div class=\"alert alert-danger\">\n",
    "\n",
    "**Артём:** ❌ Такой комментарий **нужно исправить** обязательно, он критически влияет на удачное выполнение проекта.\n",
    "\n",
    "</div>\n",
    "\n",
    "<div class=\"alert alert-info\">\n",
    "\n",
    "**Артём:** 💡 Этот комментарий подскажет о небольших ошибках или подсказки как сделать **твой проект ещё лучше**.\n",
    "</div>\n",
    "\n",
    "<div class=\"alert alert-success\">\n",
    "\n",
    "**Артём:** 👍 А это **самый главный комментарий**, значит все сделано хорошо. 😉\n",
    "\n",
    "</div>\n",
    "\n",
    "---\n",
    "\n",
    "**Распространенные ошибки**\n",
    "\n",
    "<div class=\"alert alert-danger\">\n",
    "\n",
    "**Артём:** ❌ Не перемещай и не удаляй мои комментарии. Лучше, чтобы твои ответы на мои комментарии шли по очереди, как сообщения в мессенджере. Это ускорит проверку.\n",
    "    \n",
    "</div>\n",
    "\n",
    "<div class=\"alert alert-danger\">\n",
    "\n",
    "**Артём:** ❌ Проверь проект на работоспособность перед отправкой на проверку. Это важный навык, который тебе пригодится как на собеседовании, при выполнении тестового задания, так и перед совещанием у руководства компании. Помни, ревьеры не вносят изменения в код, даже если это путь к датасету или ячейка в неверном формате (code/mardown).  \n",
    "    \n",
    "</div>\n",
    "\n",
    "<div class=\"alert alert-info\">\n",
    "\n",
    "**Артём:** 💡 Кстати, смотри как можно сделать, чтобы датасет грузился и локально, и в JupyterHub:\n",
    "\n",
    "```py\n",
    "try:\n",
    "    df = pd.read_csv('C:/Users/Student/Desktop/dataset.csv')\n",
    "except:\n",
    "    df = pd.read_csv('/datasets/dataset.csv')\n",
    "```\n",
    "    \n",
    "Используя эту конструкцию в будущих проектах, ты будешь спокойно отправлять проект на проверку зная, что он будет работать.\n",
    "    \n",
    "</div>\n",
    "\n",
    "<div class=\"alert alert-danger\">\n",
    "\n",
    "**Артём:** ❌ Проект должен быть структурирован. Где названия разделов и подразделов будут записаны в ячейках [Markdown](https://paulradzkov.com/2014/markdown_cheatsheet/?).\n",
    "    \n",
    "</div>\n",
    "\n",
    "<div class=\"alert alert-danger\">\n",
    "\n",
    "**Артём:** ❌ Если с твоим проектом будет знакомиться другой человек, например рекрутер или старший дата специалист, в нем должны быть описаны поставленные задачи, содержание датасета, промежуточные и финальные выводы. Как правило, заказчик читает только финальный вывод, поэтому важно добавить информацию о проведенном исследовании, применить форматирование текста, в общем, сделать красиво, чтобы было понятно, что проведено настоящее исследование и выводу можно верить. \n",
    "\n",
    "</div>  \n",
    "\n",
    "<div class=\"alert alert-info\">\n",
    "    \n",
    "**Артём:** 💡 Длинный код и комментарии нужно переносить на новую строку. Согласись, коллеги не оценят, если им придется тратить время на пролистывание ячеек. Согласно международному стандарту [PEP8](https://www.python.org/dev/peps/pep-0008/) длина строки не должна превышать 79 символов.\n",
    "Вот как можно перенести код на новую строку:\n",
    "\n",
    "```py\n",
    "# Переносить можно код внутри скобки\n",
    "example = (2 *\n",
    "           2)\n",
    "```\n",
    "Конечно, я не считаю сколько символов в строке, главное, чтобы код или комментарий не ушел за пределы ячейки (зависит от разрешения экрана). Если ушел, то это желтый комментарий для каждой нечитаемой ячейки.\n",
    "    \n",
    "</div>\n",
    "\n",
    "<div class=\"alert alert-info\">\n",
    "    \n",
    "**Артём:** 💡 Тимлид, старший дата специалист или ревьюер ценят твое и своё время, подсвечивай свои комментарии в ячейках Markdown. Шаблон я тебе оставил ниже. Подробнее про синтаксис Markdown, с примерами, можно почитать [здесь](https://paulradzkov.com/2014/markdown_cheatsheet/?).\n",
    "    \n",
    "</div>\n",
    "\n",
    "<div class=\"alert alert-success\">\n",
    "\n",
    "**Артём:** 👍 Буду рад, если воспользуешься моими советами. Они тебе помогут при трудоустройстве, например в [Яндексе](https://yandex.ru/jobs/pages/analytics_interview?ysclid=l84s63fs1g790141490), и при работе в команде. Если в ходе проведения исследования возникнут вопросы, не стесняйся задавай. 🙂\n",
    "</div>\n",
    "\n",
    "<div class=\"alert alert-info\">\n",
    "\n",
    "**Артём:** 🏁 [Итоги ревью здесь](#results)\n",
    "</div>\n",
    "\n",
    "\n",
    "**Поехали!** 🚀 👨‍🚀\n",
    "<a id=\"start\"></a>"
   ]
  },
  {
   "cell_type": "markdown",
   "id": "94e84168",
   "metadata": {},
   "source": [
    "<div style=\"background-color:lavender; color:#black; text-align:center; padding:2%\">\n",
    "    \n",
    "**Имя:** ✔️ Это шаблон для тебя. Такой комментарий можно быстро найти."
   ]
  },
  {
   "cell_type": "markdown",
   "id": "e0e77d45",
   "metadata": {
    "deletable": false,
    "editable": false,
    "id": "c81daeeb"
   },
   "source": [
    "# Исследование надежности заемщиков\n"
   ]
  },
  {
   "cell_type": "markdown",
   "id": "da969d84",
   "metadata": {
    "deletable": false,
    "editable": false,
    "id": "827c20bf"
   },
   "source": [
    "Во второй части проекта вы выполните шаги 3 и 4. Их вручную проверит ревьюер.\n",
    "Чтобы вам не пришлось писать код заново для шагов 1 и 2, мы добавили авторские решения в ячейки с кодом. \n",
    "\n"
   ]
  },
  {
   "cell_type": "markdown",
   "id": "3da7f5ed",
   "metadata": {
    "deletable": false,
    "editable": false,
    "id": "744d7639"
   },
   "source": [
    "## Откройте таблицу и изучите общую информацию о данных"
   ]
  },
  {
   "cell_type": "markdown",
   "id": "c095b155",
   "metadata": {
    "deletable": false,
    "editable": false,
    "id": "e7a14c31"
   },
   "source": [
    "**Задание 1. Импортируйте библиотеку pandas. Считайте данные из csv-файла в датафрейм и сохраните в переменную `data`. Путь к файлу:**\n",
    "\n",
    "`/datasets/data.csv`"
   ]
  },
  {
   "cell_type": "code",
   "execution_count": 1,
   "id": "f58bb6b8",
   "metadata": {
    "deletable": false,
    "id": "7bcf75c9"
   },
   "outputs": [],
   "source": [
    "import pandas as pd\n",
    "\n",
    "try:\n",
    "    data = pd.read_csv('/datasets/data.csv')\n",
    "except:\n",
    "    data = pd.read_csv('https://code.s3.yandex.net/datasets/data.csv')"
   ]
  },
  {
   "cell_type": "markdown",
   "id": "7d80f444",
   "metadata": {
    "deletable": false,
    "editable": false,
    "id": "b8038fe3"
   },
   "source": [
    "**Задание 2. Выведите первые 20 строчек датафрейма `data` на экран.**"
   ]
  },
  {
   "cell_type": "code",
   "execution_count": 2,
   "id": "0d6c9b72",
   "metadata": {
    "deletable": false,
    "id": "2a7cab99",
    "outputId": "1a8f3ef2-d323-4ec2-ddf7-89670b5944c4"
   },
   "outputs": [
    {
     "data": {
      "text/html": [
       "<div>\n",
       "<style scoped>\n",
       "    .dataframe tbody tr th:only-of-type {\n",
       "        vertical-align: middle;\n",
       "    }\n",
       "\n",
       "    .dataframe tbody tr th {\n",
       "        vertical-align: top;\n",
       "    }\n",
       "\n",
       "    .dataframe thead th {\n",
       "        text-align: right;\n",
       "    }\n",
       "</style>\n",
       "<table border=\"1\" class=\"dataframe\">\n",
       "  <thead>\n",
       "    <tr style=\"text-align: right;\">\n",
       "      <th></th>\n",
       "      <th>children</th>\n",
       "      <th>days_employed</th>\n",
       "      <th>dob_years</th>\n",
       "      <th>education</th>\n",
       "      <th>education_id</th>\n",
       "      <th>family_status</th>\n",
       "      <th>family_status_id</th>\n",
       "      <th>gender</th>\n",
       "      <th>income_type</th>\n",
       "      <th>debt</th>\n",
       "      <th>total_income</th>\n",
       "      <th>purpose</th>\n",
       "    </tr>\n",
       "  </thead>\n",
       "  <tbody>\n",
       "    <tr>\n",
       "      <th>0</th>\n",
       "      <td>1</td>\n",
       "      <td>-8437.673028</td>\n",
       "      <td>42</td>\n",
       "      <td>высшее</td>\n",
       "      <td>0</td>\n",
       "      <td>женат / замужем</td>\n",
       "      <td>0</td>\n",
       "      <td>F</td>\n",
       "      <td>сотрудник</td>\n",
       "      <td>0</td>\n",
       "      <td>253875.639453</td>\n",
       "      <td>покупка жилья</td>\n",
       "    </tr>\n",
       "    <tr>\n",
       "      <th>1</th>\n",
       "      <td>1</td>\n",
       "      <td>-4024.803754</td>\n",
       "      <td>36</td>\n",
       "      <td>среднее</td>\n",
       "      <td>1</td>\n",
       "      <td>женат / замужем</td>\n",
       "      <td>0</td>\n",
       "      <td>F</td>\n",
       "      <td>сотрудник</td>\n",
       "      <td>0</td>\n",
       "      <td>112080.014102</td>\n",
       "      <td>приобретение автомобиля</td>\n",
       "    </tr>\n",
       "    <tr>\n",
       "      <th>2</th>\n",
       "      <td>0</td>\n",
       "      <td>-5623.422610</td>\n",
       "      <td>33</td>\n",
       "      <td>Среднее</td>\n",
       "      <td>1</td>\n",
       "      <td>женат / замужем</td>\n",
       "      <td>0</td>\n",
       "      <td>M</td>\n",
       "      <td>сотрудник</td>\n",
       "      <td>0</td>\n",
       "      <td>145885.952297</td>\n",
       "      <td>покупка жилья</td>\n",
       "    </tr>\n",
       "    <tr>\n",
       "      <th>3</th>\n",
       "      <td>3</td>\n",
       "      <td>-4124.747207</td>\n",
       "      <td>32</td>\n",
       "      <td>среднее</td>\n",
       "      <td>1</td>\n",
       "      <td>женат / замужем</td>\n",
       "      <td>0</td>\n",
       "      <td>M</td>\n",
       "      <td>сотрудник</td>\n",
       "      <td>0</td>\n",
       "      <td>267628.550329</td>\n",
       "      <td>дополнительное образование</td>\n",
       "    </tr>\n",
       "    <tr>\n",
       "      <th>4</th>\n",
       "      <td>0</td>\n",
       "      <td>340266.072047</td>\n",
       "      <td>53</td>\n",
       "      <td>среднее</td>\n",
       "      <td>1</td>\n",
       "      <td>гражданский брак</td>\n",
       "      <td>1</td>\n",
       "      <td>F</td>\n",
       "      <td>пенсионер</td>\n",
       "      <td>0</td>\n",
       "      <td>158616.077870</td>\n",
       "      <td>сыграть свадьбу</td>\n",
       "    </tr>\n",
       "    <tr>\n",
       "      <th>5</th>\n",
       "      <td>0</td>\n",
       "      <td>-926.185831</td>\n",
       "      <td>27</td>\n",
       "      <td>высшее</td>\n",
       "      <td>0</td>\n",
       "      <td>гражданский брак</td>\n",
       "      <td>1</td>\n",
       "      <td>M</td>\n",
       "      <td>компаньон</td>\n",
       "      <td>0</td>\n",
       "      <td>255763.565419</td>\n",
       "      <td>покупка жилья</td>\n",
       "    </tr>\n",
       "    <tr>\n",
       "      <th>6</th>\n",
       "      <td>0</td>\n",
       "      <td>-2879.202052</td>\n",
       "      <td>43</td>\n",
       "      <td>высшее</td>\n",
       "      <td>0</td>\n",
       "      <td>женат / замужем</td>\n",
       "      <td>0</td>\n",
       "      <td>F</td>\n",
       "      <td>компаньон</td>\n",
       "      <td>0</td>\n",
       "      <td>240525.971920</td>\n",
       "      <td>операции с жильем</td>\n",
       "    </tr>\n",
       "    <tr>\n",
       "      <th>7</th>\n",
       "      <td>0</td>\n",
       "      <td>-152.779569</td>\n",
       "      <td>50</td>\n",
       "      <td>СРЕДНЕЕ</td>\n",
       "      <td>1</td>\n",
       "      <td>женат / замужем</td>\n",
       "      <td>0</td>\n",
       "      <td>M</td>\n",
       "      <td>сотрудник</td>\n",
       "      <td>0</td>\n",
       "      <td>135823.934197</td>\n",
       "      <td>образование</td>\n",
       "    </tr>\n",
       "    <tr>\n",
       "      <th>8</th>\n",
       "      <td>2</td>\n",
       "      <td>-6929.865299</td>\n",
       "      <td>35</td>\n",
       "      <td>ВЫСШЕЕ</td>\n",
       "      <td>0</td>\n",
       "      <td>гражданский брак</td>\n",
       "      <td>1</td>\n",
       "      <td>F</td>\n",
       "      <td>сотрудник</td>\n",
       "      <td>0</td>\n",
       "      <td>95856.832424</td>\n",
       "      <td>на проведение свадьбы</td>\n",
       "    </tr>\n",
       "    <tr>\n",
       "      <th>9</th>\n",
       "      <td>0</td>\n",
       "      <td>-2188.756445</td>\n",
       "      <td>41</td>\n",
       "      <td>среднее</td>\n",
       "      <td>1</td>\n",
       "      <td>женат / замужем</td>\n",
       "      <td>0</td>\n",
       "      <td>M</td>\n",
       "      <td>сотрудник</td>\n",
       "      <td>0</td>\n",
       "      <td>144425.938277</td>\n",
       "      <td>покупка жилья для семьи</td>\n",
       "    </tr>\n",
       "    <tr>\n",
       "      <th>10</th>\n",
       "      <td>2</td>\n",
       "      <td>-4171.483647</td>\n",
       "      <td>36</td>\n",
       "      <td>высшее</td>\n",
       "      <td>0</td>\n",
       "      <td>женат / замужем</td>\n",
       "      <td>0</td>\n",
       "      <td>M</td>\n",
       "      <td>компаньон</td>\n",
       "      <td>0</td>\n",
       "      <td>113943.491460</td>\n",
       "      <td>покупка недвижимости</td>\n",
       "    </tr>\n",
       "    <tr>\n",
       "      <th>11</th>\n",
       "      <td>0</td>\n",
       "      <td>-792.701887</td>\n",
       "      <td>40</td>\n",
       "      <td>среднее</td>\n",
       "      <td>1</td>\n",
       "      <td>женат / замужем</td>\n",
       "      <td>0</td>\n",
       "      <td>F</td>\n",
       "      <td>сотрудник</td>\n",
       "      <td>0</td>\n",
       "      <td>77069.234271</td>\n",
       "      <td>покупка коммерческой недвижимости</td>\n",
       "    </tr>\n",
       "    <tr>\n",
       "      <th>12</th>\n",
       "      <td>0</td>\n",
       "      <td>NaN</td>\n",
       "      <td>65</td>\n",
       "      <td>среднее</td>\n",
       "      <td>1</td>\n",
       "      <td>гражданский брак</td>\n",
       "      <td>1</td>\n",
       "      <td>M</td>\n",
       "      <td>пенсионер</td>\n",
       "      <td>0</td>\n",
       "      <td>NaN</td>\n",
       "      <td>сыграть свадьбу</td>\n",
       "    </tr>\n",
       "    <tr>\n",
       "      <th>13</th>\n",
       "      <td>0</td>\n",
       "      <td>-1846.641941</td>\n",
       "      <td>54</td>\n",
       "      <td>неоконченное высшее</td>\n",
       "      <td>2</td>\n",
       "      <td>женат / замужем</td>\n",
       "      <td>0</td>\n",
       "      <td>F</td>\n",
       "      <td>сотрудник</td>\n",
       "      <td>0</td>\n",
       "      <td>130458.228857</td>\n",
       "      <td>приобретение автомобиля</td>\n",
       "    </tr>\n",
       "    <tr>\n",
       "      <th>14</th>\n",
       "      <td>0</td>\n",
       "      <td>-1844.956182</td>\n",
       "      <td>56</td>\n",
       "      <td>высшее</td>\n",
       "      <td>0</td>\n",
       "      <td>гражданский брак</td>\n",
       "      <td>1</td>\n",
       "      <td>F</td>\n",
       "      <td>компаньон</td>\n",
       "      <td>1</td>\n",
       "      <td>165127.911772</td>\n",
       "      <td>покупка жилой недвижимости</td>\n",
       "    </tr>\n",
       "    <tr>\n",
       "      <th>15</th>\n",
       "      <td>1</td>\n",
       "      <td>-972.364419</td>\n",
       "      <td>26</td>\n",
       "      <td>среднее</td>\n",
       "      <td>1</td>\n",
       "      <td>женат / замужем</td>\n",
       "      <td>0</td>\n",
       "      <td>F</td>\n",
       "      <td>сотрудник</td>\n",
       "      <td>0</td>\n",
       "      <td>116820.904450</td>\n",
       "      <td>строительство собственной недвижимости</td>\n",
       "    </tr>\n",
       "    <tr>\n",
       "      <th>16</th>\n",
       "      <td>0</td>\n",
       "      <td>-1719.934226</td>\n",
       "      <td>35</td>\n",
       "      <td>среднее</td>\n",
       "      <td>1</td>\n",
       "      <td>женат / замужем</td>\n",
       "      <td>0</td>\n",
       "      <td>F</td>\n",
       "      <td>сотрудник</td>\n",
       "      <td>0</td>\n",
       "      <td>289202.704229</td>\n",
       "      <td>недвижимость</td>\n",
       "    </tr>\n",
       "    <tr>\n",
       "      <th>17</th>\n",
       "      <td>0</td>\n",
       "      <td>-2369.999720</td>\n",
       "      <td>33</td>\n",
       "      <td>высшее</td>\n",
       "      <td>0</td>\n",
       "      <td>гражданский брак</td>\n",
       "      <td>1</td>\n",
       "      <td>M</td>\n",
       "      <td>сотрудник</td>\n",
       "      <td>0</td>\n",
       "      <td>90410.586745</td>\n",
       "      <td>строительство недвижимости</td>\n",
       "    </tr>\n",
       "    <tr>\n",
       "      <th>18</th>\n",
       "      <td>0</td>\n",
       "      <td>400281.136913</td>\n",
       "      <td>53</td>\n",
       "      <td>среднее</td>\n",
       "      <td>1</td>\n",
       "      <td>вдовец / вдова</td>\n",
       "      <td>2</td>\n",
       "      <td>F</td>\n",
       "      <td>пенсионер</td>\n",
       "      <td>0</td>\n",
       "      <td>56823.777243</td>\n",
       "      <td>на покупку подержанного автомобиля</td>\n",
       "    </tr>\n",
       "    <tr>\n",
       "      <th>19</th>\n",
       "      <td>0</td>\n",
       "      <td>-10038.818549</td>\n",
       "      <td>48</td>\n",
       "      <td>СРЕДНЕЕ</td>\n",
       "      <td>1</td>\n",
       "      <td>в разводе</td>\n",
       "      <td>3</td>\n",
       "      <td>F</td>\n",
       "      <td>сотрудник</td>\n",
       "      <td>0</td>\n",
       "      <td>242831.107982</td>\n",
       "      <td>на покупку своего автомобиля</td>\n",
       "    </tr>\n",
       "  </tbody>\n",
       "</table>\n",
       "</div>"
      ],
      "text/plain": [
       "    children  days_employed  dob_years            education  education_id  \\\n",
       "0          1   -8437.673028         42               высшее             0   \n",
       "1          1   -4024.803754         36              среднее             1   \n",
       "2          0   -5623.422610         33              Среднее             1   \n",
       "3          3   -4124.747207         32              среднее             1   \n",
       "4          0  340266.072047         53              среднее             1   \n",
       "5          0    -926.185831         27               высшее             0   \n",
       "6          0   -2879.202052         43               высшее             0   \n",
       "7          0    -152.779569         50              СРЕДНЕЕ             1   \n",
       "8          2   -6929.865299         35               ВЫСШЕЕ             0   \n",
       "9          0   -2188.756445         41              среднее             1   \n",
       "10         2   -4171.483647         36               высшее             0   \n",
       "11         0    -792.701887         40              среднее             1   \n",
       "12         0            NaN         65              среднее             1   \n",
       "13         0   -1846.641941         54  неоконченное высшее             2   \n",
       "14         0   -1844.956182         56               высшее             0   \n",
       "15         1    -972.364419         26              среднее             1   \n",
       "16         0   -1719.934226         35              среднее             1   \n",
       "17         0   -2369.999720         33               высшее             0   \n",
       "18         0  400281.136913         53              среднее             1   \n",
       "19         0  -10038.818549         48              СРЕДНЕЕ             1   \n",
       "\n",
       "       family_status  family_status_id gender income_type  debt  \\\n",
       "0    женат / замужем                 0      F   сотрудник     0   \n",
       "1    женат / замужем                 0      F   сотрудник     0   \n",
       "2    женат / замужем                 0      M   сотрудник     0   \n",
       "3    женат / замужем                 0      M   сотрудник     0   \n",
       "4   гражданский брак                 1      F   пенсионер     0   \n",
       "5   гражданский брак                 1      M   компаньон     0   \n",
       "6    женат / замужем                 0      F   компаньон     0   \n",
       "7    женат / замужем                 0      M   сотрудник     0   \n",
       "8   гражданский брак                 1      F   сотрудник     0   \n",
       "9    женат / замужем                 0      M   сотрудник     0   \n",
       "10   женат / замужем                 0      M   компаньон     0   \n",
       "11   женат / замужем                 0      F   сотрудник     0   \n",
       "12  гражданский брак                 1      M   пенсионер     0   \n",
       "13   женат / замужем                 0      F   сотрудник     0   \n",
       "14  гражданский брак                 1      F   компаньон     1   \n",
       "15   женат / замужем                 0      F   сотрудник     0   \n",
       "16   женат / замужем                 0      F   сотрудник     0   \n",
       "17  гражданский брак                 1      M   сотрудник     0   \n",
       "18    вдовец / вдова                 2      F   пенсионер     0   \n",
       "19         в разводе                 3      F   сотрудник     0   \n",
       "\n",
       "     total_income                                 purpose  \n",
       "0   253875.639453                           покупка жилья  \n",
       "1   112080.014102                 приобретение автомобиля  \n",
       "2   145885.952297                           покупка жилья  \n",
       "3   267628.550329              дополнительное образование  \n",
       "4   158616.077870                         сыграть свадьбу  \n",
       "5   255763.565419                           покупка жилья  \n",
       "6   240525.971920                       операции с жильем  \n",
       "7   135823.934197                             образование  \n",
       "8    95856.832424                   на проведение свадьбы  \n",
       "9   144425.938277                 покупка жилья для семьи  \n",
       "10  113943.491460                    покупка недвижимости  \n",
       "11   77069.234271       покупка коммерческой недвижимости  \n",
       "12            NaN                         сыграть свадьбу  \n",
       "13  130458.228857                 приобретение автомобиля  \n",
       "14  165127.911772              покупка жилой недвижимости  \n",
       "15  116820.904450  строительство собственной недвижимости  \n",
       "16  289202.704229                            недвижимость  \n",
       "17   90410.586745              строительство недвижимости  \n",
       "18   56823.777243      на покупку подержанного автомобиля  \n",
       "19  242831.107982            на покупку своего автомобиля  "
      ]
     },
     "execution_count": 2,
     "metadata": {},
     "output_type": "execute_result"
    }
   ],
   "source": [
    "data.head(20)"
   ]
  },
  {
   "cell_type": "markdown",
   "id": "a582f51d",
   "metadata": {
    "deletable": false,
    "editable": false,
    "id": "1c12e233"
   },
   "source": [
    "**Задание 3. Выведите основную информацию о датафрейме с помощью метода `info()`.**"
   ]
  },
  {
   "cell_type": "code",
   "execution_count": 3,
   "id": "00f235a7",
   "metadata": {
    "deletable": false,
    "id": "2b757bca",
    "outputId": "15376089-8dad-46c9-b520-c05248d43158"
   },
   "outputs": [
    {
     "name": "stdout",
     "output_type": "stream",
     "text": [
      "<class 'pandas.core.frame.DataFrame'>\n",
      "RangeIndex: 21525 entries, 0 to 21524\n",
      "Data columns (total 12 columns):\n",
      " #   Column            Non-Null Count  Dtype  \n",
      "---  ------            --------------  -----  \n",
      " 0   children          21525 non-null  int64  \n",
      " 1   days_employed     19351 non-null  float64\n",
      " 2   dob_years         21525 non-null  int64  \n",
      " 3   education         21525 non-null  object \n",
      " 4   education_id      21525 non-null  int64  \n",
      " 5   family_status     21525 non-null  object \n",
      " 6   family_status_id  21525 non-null  int64  \n",
      " 7   gender            21525 non-null  object \n",
      " 8   income_type       21525 non-null  object \n",
      " 9   debt              21525 non-null  int64  \n",
      " 10  total_income      19351 non-null  float64\n",
      " 11  purpose           21525 non-null  object \n",
      "dtypes: float64(2), int64(5), object(5)\n",
      "memory usage: 2.0+ MB\n"
     ]
    }
   ],
   "source": [
    "data.info()"
   ]
  },
  {
   "cell_type": "markdown",
   "id": "186070ab",
   "metadata": {
    "deletable": false,
    "editable": false,
    "id": "333ec665"
   },
   "source": [
    "## Предобработка данных"
   ]
  },
  {
   "cell_type": "markdown",
   "id": "3736bad5",
   "metadata": {
    "deletable": false,
    "editable": false,
    "id": "02d92d53"
   },
   "source": [
    "### Удаление пропусков"
   ]
  },
  {
   "cell_type": "markdown",
   "id": "1ba66547",
   "metadata": {
    "deletable": false,
    "editable": false,
    "id": "cd84967c"
   },
   "source": [
    "**Задание 4. Выведите количество пропущенных значений для каждого столбца. Используйте комбинацию двух методов.**"
   ]
  },
  {
   "cell_type": "code",
   "execution_count": 4,
   "id": "9728f549",
   "metadata": {
    "deletable": false,
    "id": "7f9b2309",
    "outputId": "81f4d817-781c-465c-ed15-91ce4446810d"
   },
   "outputs": [
    {
     "data": {
      "text/plain": [
       "children               0\n",
       "days_employed       2174\n",
       "dob_years              0\n",
       "education              0\n",
       "education_id           0\n",
       "family_status          0\n",
       "family_status_id       0\n",
       "gender                 0\n",
       "income_type            0\n",
       "debt                   0\n",
       "total_income        2174\n",
       "purpose                0\n",
       "dtype: int64"
      ]
     },
     "execution_count": 4,
     "metadata": {},
     "output_type": "execute_result"
    }
   ],
   "source": [
    "data.isna().sum()"
   ]
  },
  {
   "cell_type": "markdown",
   "id": "1a11c6ba",
   "metadata": {
    "deletable": false,
    "editable": false,
    "id": "db86e27b"
   },
   "source": [
    "**Задание 5. В двух столбцах есть пропущенные значения. Один из них — `days_employed`. Пропуски в этом столбце вы обработаете на следующем этапе. Другой столбец с пропущенными значениями — `total_income` — хранит данные о доходах. На сумму дохода сильнее всего влияет тип занятости, поэтому заполнить пропуски в этом столбце нужно медианным значением по каждому типу из столбца `income_type`. Например, у человека с типом занятости `сотрудник` пропуск в столбце `total_income` должен быть заполнен медианным доходом среди всех записей с тем же типом.**"
   ]
  },
  {
   "cell_type": "code",
   "execution_count": 5,
   "id": "d995158c",
   "metadata": {
    "deletable": false,
    "id": "42006a93"
   },
   "outputs": [],
   "source": [
    "for t in data['income_type'].unique():\n",
    "    data.loc[(data['income_type'] == t) & (data['total_income'].isna()), 'total_income'] = \\\n",
    "    data.loc[(data['income_type'] == t), 'total_income'].median()"
   ]
  },
  {
   "cell_type": "markdown",
   "id": "fe8460cd",
   "metadata": {
    "deletable": false,
    "editable": false,
    "id": "89da5ece"
   },
   "source": [
    "### Обработка аномальных значений"
   ]
  },
  {
   "cell_type": "markdown",
   "id": "807672da",
   "metadata": {
    "deletable": false,
    "editable": false,
    "id": "57964554"
   },
   "source": [
    "**Задание 6. В данных могут встречаться артефакты (аномалии) — значения, которые не отражают действительность и появились по какой-то ошибке. таким артефактом будет отрицательное количество дней трудового стажа в столбце `days_employed`. Для реальных данных это нормально. Обработайте значения в этом столбце: замените все отрицательные значения положительными с помощью метода `abs()`.**"
   ]
  },
  {
   "cell_type": "code",
   "execution_count": 6,
   "id": "a32e839c",
   "metadata": {
    "deletable": false,
    "id": "f6f055bf"
   },
   "outputs": [],
   "source": [
    "data['days_employed'] = data['days_employed'].abs()"
   ]
  },
  {
   "cell_type": "markdown",
   "id": "13a5f623",
   "metadata": {
    "deletable": false,
    "editable": false,
    "id": "6107dd2f"
   },
   "source": [
    "**Задание 7. Для каждого типа занятости выведите медианное значение трудового стажа `days_employed` в днях.**"
   ]
  },
  {
   "cell_type": "code",
   "execution_count": 7,
   "id": "20dee04a",
   "metadata": {
    "deletable": false,
    "id": "85a5faf6",
    "outputId": "801ef80e-522b-4668-f34e-565af7432bcf"
   },
   "outputs": [
    {
     "data": {
      "text/plain": [
       "income_type\n",
       "безработный        366413.652744\n",
       "в декрете            3296.759962\n",
       "госслужащий          2689.368353\n",
       "компаньон            1547.382223\n",
       "пенсионер          365213.306266\n",
       "предприниматель       520.848083\n",
       "сотрудник            1574.202821\n",
       "студент               578.751554\n",
       "Name: days_employed, dtype: float64"
      ]
     },
     "execution_count": 7,
     "metadata": {},
     "output_type": "execute_result"
    }
   ],
   "source": [
    "data.groupby('income_type')['days_employed'].agg('median')"
   ]
  },
  {
   "cell_type": "markdown",
   "id": "05f4d353",
   "metadata": {
    "deletable": false,
    "editable": false,
    "id": "38d1a030"
   },
   "source": [
    "У двух типов (безработные и пенсионеры) получатся аномально большие значения. Исправить такие значения сложно, поэтому оставьте их как есть. Тем более этот столбец не понадобится вам для исследования."
   ]
  },
  {
   "cell_type": "markdown",
   "id": "eed0e594",
   "metadata": {
    "deletable": false,
    "editable": false,
    "id": "d8a9f147"
   },
   "source": [
    "**Задание 8. Выведите перечень уникальных значений столбца `children`.**"
   ]
  },
  {
   "cell_type": "code",
   "execution_count": 8,
   "id": "4920cdaf",
   "metadata": {
    "deletable": false,
    "id": "ef5056eb",
    "outputId": "6975b15c-7f95-4697-d16d-a0c79b657b03"
   },
   "outputs": [
    {
     "data": {
      "text/plain": [
       "array([ 1,  0,  3,  2, -1,  4, 20,  5])"
      ]
     },
     "execution_count": 8,
     "metadata": {},
     "output_type": "execute_result"
    }
   ],
   "source": [
    "data['children'].unique()"
   ]
  },
  {
   "cell_type": "markdown",
   "id": "46dbd57b",
   "metadata": {
    "deletable": false,
    "editable": false,
    "id": "40b9ebf2"
   },
   "source": [
    "**Задание 9. В столбце `children` есть два аномальных значения. Удалите строки, в которых встречаются такие аномальные значения из датафрейма `data`.**"
   ]
  },
  {
   "cell_type": "code",
   "execution_count": 9,
   "id": "75a94e0e",
   "metadata": {
    "deletable": false,
    "id": "3ff9801d"
   },
   "outputs": [],
   "source": [
    "data = data[(data['children'] != -1) & (data['children'] != 20)]"
   ]
  },
  {
   "cell_type": "markdown",
   "id": "877fa398",
   "metadata": {
    "deletable": false,
    "editable": false,
    "id": "bbc4d0ce"
   },
   "source": [
    "**Задание 10. Ещё раз выведите перечень уникальных значений столбца `children`, чтобы убедиться, что артефакты удалены.**"
   ]
  },
  {
   "cell_type": "code",
   "execution_count": 10,
   "id": "ca312763",
   "metadata": {
    "deletable": false,
    "id": "ad4fa8b7",
    "outputId": "b2097101-d49d-44d9-901b-32a65c9463d1"
   },
   "outputs": [
    {
     "data": {
      "text/plain": [
       "array([1, 0, 3, 2, 4, 5])"
      ]
     },
     "execution_count": 10,
     "metadata": {},
     "output_type": "execute_result"
    }
   ],
   "source": [
    "data['children'].unique()"
   ]
  },
  {
   "cell_type": "markdown",
   "id": "2bd0742a",
   "metadata": {
    "deletable": false,
    "editable": false,
    "id": "75440b63"
   },
   "source": [
    "### Удаление пропусков (продолжение)"
   ]
  },
  {
   "cell_type": "markdown",
   "id": "ec2825de",
   "metadata": {
    "deletable": false,
    "editable": false,
    "id": "f4ea573f"
   },
   "source": [
    "**Задание 11. Заполните пропуски в столбце `days_employed` медианными значениями по каждого типа занятости `income_type`.**"
   ]
  },
  {
   "cell_type": "code",
   "execution_count": 11,
   "id": "6d0873c9",
   "metadata": {
    "deletable": false,
    "id": "af6b1a7e"
   },
   "outputs": [],
   "source": [
    "for t in data['income_type'].unique():\n",
    "    data.loc[(data['income_type'] == t) & (data['days_employed'].isna()), 'days_employed'] = \\\n",
    "    data.loc[(data['income_type'] == t), 'days_employed'].median()"
   ]
  },
  {
   "cell_type": "markdown",
   "id": "ffc8cb2e",
   "metadata": {
    "deletable": false,
    "editable": false,
    "id": "2753f40d"
   },
   "source": [
    "**Задание 12. Убедитесь, что все пропуски заполнены. Проверьте себя и ещё раз выведите количество пропущенных значений для каждого столбца с помощью двух методов.**"
   ]
  },
  {
   "cell_type": "code",
   "execution_count": 12,
   "id": "0cd92081",
   "metadata": {
    "deletable": false,
    "id": "55f78bc2",
    "outputId": "8da1e4e1-358e-4e87-98c9-f261bce0a7b2"
   },
   "outputs": [
    {
     "data": {
      "text/plain": [
       "children            0\n",
       "days_employed       0\n",
       "dob_years           0\n",
       "education           0\n",
       "education_id        0\n",
       "family_status       0\n",
       "family_status_id    0\n",
       "gender              0\n",
       "income_type         0\n",
       "debt                0\n",
       "total_income        0\n",
       "purpose             0\n",
       "dtype: int64"
      ]
     },
     "execution_count": 12,
     "metadata": {},
     "output_type": "execute_result"
    }
   ],
   "source": [
    "data.isna().sum()"
   ]
  },
  {
   "cell_type": "markdown",
   "id": "578f7650",
   "metadata": {
    "deletable": false,
    "editable": false,
    "id": "ddc81e43"
   },
   "source": [
    "### Изменение типов данных"
   ]
  },
  {
   "cell_type": "markdown",
   "id": "29e33afa",
   "metadata": {
    "deletable": false,
    "editable": false,
    "id": "42d19d24"
   },
   "source": [
    "**Задание 13. Замените вещественный тип данных в столбце `total_income` на целочисленный с помощью метода `astype()`.**"
   ]
  },
  {
   "cell_type": "code",
   "execution_count": 13,
   "id": "a51af6d5",
   "metadata": {
    "deletable": false,
    "id": "920b65ad"
   },
   "outputs": [],
   "source": [
    "data['total_income'] = data['total_income'].astype(int)"
   ]
  },
  {
   "cell_type": "markdown",
   "id": "b32b7106",
   "metadata": {
    "deletable": false,
    "editable": false,
    "id": "80c420ba"
   },
   "source": [
    "### Обработка дубликатов"
   ]
  },
  {
   "cell_type": "markdown",
   "id": "170797a1",
   "metadata": {
    "deletable": false,
    "editable": false
   },
   "source": [
    "**Задание 14. Обработайте неявные дубликаты в столбце `education`. В этом столбце есть одни и те же значения, но записанные по-разному: с использованием заглавных и строчных букв. Приведите их к нижнему регистру. Проверьте остальные столбцы.**"
   ]
  },
  {
   "cell_type": "code",
   "execution_count": 14,
   "id": "9e3197e8",
   "metadata": {
    "deletable": false
   },
   "outputs": [],
   "source": [
    "data['education'] = data['education'].str.lower()"
   ]
  },
  {
   "cell_type": "markdown",
   "id": "c0814875",
   "metadata": {
    "deletable": false,
    "editable": false,
    "id": "dc587695"
   },
   "source": [
    "**Задание 15. Выведите на экран количество строк-дубликатов в данных. Если такие строки присутствуют, удалите их.**"
   ]
  },
  {
   "cell_type": "code",
   "execution_count": 15,
   "id": "8270070a",
   "metadata": {
    "deletable": false,
    "id": "3ee445e4",
    "outputId": "9684deba-1934-42d1-99e1-cda61740f822"
   },
   "outputs": [
    {
     "data": {
      "text/plain": [
       "71"
      ]
     },
     "execution_count": 15,
     "metadata": {},
     "output_type": "execute_result"
    }
   ],
   "source": [
    "data.duplicated().sum()"
   ]
  },
  {
   "cell_type": "code",
   "execution_count": 16,
   "id": "a0a36d3b",
   "metadata": {
    "deletable": false,
    "id": "8575fe05"
   },
   "outputs": [],
   "source": [
    "data = data.drop_duplicates()"
   ]
  },
  {
   "cell_type": "markdown",
   "id": "7640213a",
   "metadata": {
    "deletable": false,
    "editable": false,
    "id": "9904cf55"
   },
   "source": [
    "### Категоризация данных"
   ]
  },
  {
   "cell_type": "markdown",
   "id": "ef2f4c9f",
   "metadata": {
    "deletable": false,
    "editable": false,
    "id": "72fcc8a2"
   },
   "source": [
    "**Задание 16. На основании диапазонов, указанных ниже, создайте в датафрейме `data` столбец `total_income_category` с категориями:**\n",
    "\n",
    "- 0–30000 — `'E'`;\n",
    "- 30001–50000 — `'D'`;\n",
    "- 50001–200000 — `'C'`;\n",
    "- 200001–1000000 — `'B'`;\n",
    "- 1000001 и выше — `'A'`.\n",
    "\n",
    "\n",
    "**Например, кредитополучателю с доходом 25000 нужно назначить категорию `'E'`, а клиенту, получающему 235000, — `'B'`. Используйте собственную функцию с именем `categorize_income()` и метод `apply()`.**"
   ]
  },
  {
   "cell_type": "code",
   "execution_count": 17,
   "id": "6a999b2d",
   "metadata": {
    "deletable": false,
    "id": "e1771346"
   },
   "outputs": [],
   "source": [
    "def categorize_income(income):\n",
    "    try:\n",
    "        if 0 <= income <= 30000:\n",
    "            return 'E'\n",
    "        elif 30001 <= income <= 50000:\n",
    "            return 'D'\n",
    "        elif 50001 <= income <= 200000:\n",
    "            return 'C'\n",
    "        elif 200001 <= income <= 1000000:\n",
    "            return 'B'\n",
    "        elif income >= 1000001:\n",
    "            return 'A'\n",
    "    except:\n",
    "        pass"
   ]
  },
  {
   "cell_type": "code",
   "execution_count": 18,
   "id": "ee756048",
   "metadata": {
    "deletable": false,
    "id": "d5f3586d"
   },
   "outputs": [],
   "source": [
    "data['total_income_category'] = data['total_income'].apply(categorize_income)"
   ]
  },
  {
   "cell_type": "markdown",
   "id": "444cacfd",
   "metadata": {
    "deletable": false,
    "editable": false,
    "id": "dde49b5c"
   },
   "source": [
    "**Задание 17. Выведите на экран перечень уникальных целей взятия кредита из столбца `purpose`.**"
   ]
  },
  {
   "cell_type": "code",
   "execution_count": 19,
   "id": "a2025168",
   "metadata": {
    "deletable": false,
    "id": "f67ce9b3",
    "outputId": "673c12d9-7d7e-4ae0-9812-c622c89dd244"
   },
   "outputs": [
    {
     "data": {
      "text/plain": [
       "array(['покупка жилья', 'приобретение автомобиля',\n",
       "       'дополнительное образование', 'сыграть свадьбу',\n",
       "       'операции с жильем', 'образование', 'на проведение свадьбы',\n",
       "       'покупка жилья для семьи', 'покупка недвижимости',\n",
       "       'покупка коммерческой недвижимости', 'покупка жилой недвижимости',\n",
       "       'строительство собственной недвижимости', 'недвижимость',\n",
       "       'строительство недвижимости', 'на покупку подержанного автомобиля',\n",
       "       'на покупку своего автомобиля',\n",
       "       'операции с коммерческой недвижимостью',\n",
       "       'строительство жилой недвижимости', 'жилье',\n",
       "       'операции со своей недвижимостью', 'автомобили',\n",
       "       'заняться образованием', 'сделка с подержанным автомобилем',\n",
       "       'получение образования', 'автомобиль', 'свадьба',\n",
       "       'получение дополнительного образования', 'покупка своего жилья',\n",
       "       'операции с недвижимостью', 'получение высшего образования',\n",
       "       'свой автомобиль', 'сделка с автомобилем',\n",
       "       'профильное образование', 'высшее образование',\n",
       "       'покупка жилья для сдачи', 'на покупку автомобиля', 'ремонт жилью',\n",
       "       'заняться высшим образованием'], dtype=object)"
      ]
     },
     "execution_count": 19,
     "metadata": {},
     "output_type": "execute_result"
    }
   ],
   "source": [
    "data['purpose'].unique()"
   ]
  },
  {
   "cell_type": "markdown",
   "id": "d79422b0",
   "metadata": {
    "deletable": false,
    "editable": false,
    "id": "85d0aef0"
   },
   "source": [
    "**Задание 18. Создайте функцию, которая на основании данных из столбца `purpose` сформирует новый столбец `purpose_category`, в который войдут следующие категории:**\n",
    "\n",
    "- `'операции с автомобилем'`,\n",
    "- `'операции с недвижимостью'`,\n",
    "- `'проведение свадьбы'`,\n",
    "- `'получение образования'`.\n",
    "\n",
    "**Например, если в столбце `purpose` находится подстрока `'на покупку автомобиля'`, то в столбце `purpose_category` должна появиться строка `'операции с автомобилем'`.**\n",
    "\n",
    "**Используйте собственную функцию с именем `categorize_purpose()` и метод `apply()`. Изучите данные в столбце `purpose` и определите, какие подстроки помогут вам правильно определить категорию.**"
   ]
  },
  {
   "cell_type": "code",
   "execution_count": 20,
   "id": "08c92fc3",
   "metadata": {
    "deletable": false,
    "id": "e149fab4"
   },
   "outputs": [],
   "source": [
    "def categorize_purpose(row):\n",
    "    try:\n",
    "        if 'автом' in row:\n",
    "            return 'операции с автомобилем'\n",
    "        elif 'жил' in row or 'недвиж' in row:\n",
    "            return 'операции с недвижимостью'\n",
    "        elif 'свад' in row:\n",
    "            return 'проведение свадьбы'\n",
    "        elif 'образов' in row:\n",
    "            return 'получение образования'\n",
    "    except:\n",
    "        return 'нет категории'"
   ]
  },
  {
   "cell_type": "code",
   "execution_count": 21,
   "id": "27fa9f06",
   "metadata": {
    "deletable": false,
    "id": "bf36e69b"
   },
   "outputs": [],
   "source": [
    "data['purpose_category'] = data['purpose'].apply(categorize_purpose)"
   ]
  },
  {
   "cell_type": "markdown",
   "id": "2b14421d",
   "metadata": {
    "deletable": false,
    "editable": false,
    "id": "09b242bf"
   },
   "source": [
    "### Шаг 3. Исследуйте данные и ответьте на вопросы"
   ]
  },
  {
   "cell_type": "markdown",
   "id": "d715bb48",
   "metadata": {
    "deletable": false,
    "editable": false,
    "id": "c5d66278"
   },
   "source": [
    "#### 3.1 Есть ли зависимость между количеством детей и возвратом кредита в срок?"
   ]
  },
  {
   "cell_type": "code",
   "execution_count": 22,
   "id": "68251ced",
   "metadata": {
    "deletable": false,
    "id": "2cacfc4a"
   },
   "outputs": [
    {
     "data": {
      "text/html": [
       "<div>\n",
       "<style scoped>\n",
       "    .dataframe tbody tr th:only-of-type {\n",
       "        vertical-align: middle;\n",
       "    }\n",
       "\n",
       "    .dataframe tbody tr th {\n",
       "        vertical-align: top;\n",
       "    }\n",
       "\n",
       "    .dataframe thead tr th {\n",
       "        text-align: left;\n",
       "    }\n",
       "\n",
       "    .dataframe thead tr:last-of-type th {\n",
       "        text-align: right;\n",
       "    }\n",
       "</style>\n",
       "<table border=\"1\" class=\"dataframe\">\n",
       "  <thead>\n",
       "    <tr>\n",
       "      <th></th>\n",
       "      <th colspan=\"2\" halign=\"left\">debt</th>\n",
       "      <th>доля отдавших кредит</th>\n",
       "    </tr>\n",
       "    <tr>\n",
       "      <th></th>\n",
       "      <th>общее число заемщиков</th>\n",
       "      <th>не отдали кредит</th>\n",
       "      <th></th>\n",
       "    </tr>\n",
       "    <tr>\n",
       "      <th>children</th>\n",
       "      <th></th>\n",
       "      <th></th>\n",
       "      <th></th>\n",
       "    </tr>\n",
       "  </thead>\n",
       "  <tbody>\n",
       "    <tr>\n",
       "      <th>0</th>\n",
       "      <td>14091</td>\n",
       "      <td>1063</td>\n",
       "      <td>0.075438</td>\n",
       "    </tr>\n",
       "    <tr>\n",
       "      <th>1</th>\n",
       "      <td>4808</td>\n",
       "      <td>444</td>\n",
       "      <td>0.092346</td>\n",
       "    </tr>\n",
       "    <tr>\n",
       "      <th>2</th>\n",
       "      <td>2052</td>\n",
       "      <td>194</td>\n",
       "      <td>0.094542</td>\n",
       "    </tr>\n",
       "    <tr>\n",
       "      <th>3</th>\n",
       "      <td>330</td>\n",
       "      <td>27</td>\n",
       "      <td>0.081818</td>\n",
       "    </tr>\n",
       "    <tr>\n",
       "      <th>4</th>\n",
       "      <td>41</td>\n",
       "      <td>4</td>\n",
       "      <td>0.097561</td>\n",
       "    </tr>\n",
       "    <tr>\n",
       "      <th>5</th>\n",
       "      <td>9</td>\n",
       "      <td>0</td>\n",
       "      <td>0.000000</td>\n",
       "    </tr>\n",
       "  </tbody>\n",
       "</table>\n",
       "</div>"
      ],
      "text/plain": [
       "                          debt                  доля отдавших кредит\n",
       "         общее число заемщиков не отдали кредит                     \n",
       "children                                                            \n",
       "0                        14091             1063             0.075438\n",
       "1                         4808              444             0.092346\n",
       "2                         2052              194             0.094542\n",
       "3                          330               27             0.081818\n",
       "4                           41                4             0.097561\n",
       "5                            9                0             0.000000"
      ]
     },
     "execution_count": 22,
     "metadata": {},
     "output_type": "execute_result"
    }
   ],
   "source": [
    "data_children = data.groupby('children').agg({'debt': ['count', 'sum']})\n",
    "\n",
    "data_children['conversion'] = data_children['debt']['sum'] / data_children['debt']['count']\n",
    "\n",
    "\n",
    "data_children = data_children.rename(columns={'sum' : 'не отдали кредит', 'count' : 'общее число заемщиков', 'conversion' : 'доля отдавших кредит'}) \n",
    "\n",
    "data_children\n",
    "\n",
    "\n",
    "# Ваш код будет здесь. Вы можете создавать новые ячейки."
   ]
  },
  {
   "cell_type": "markdown",
   "id": "c50abd00",
   "metadata": {},
   "source": [
    "<div class=\"alert alert-info\">\n",
    "    \n",
    "#### **Артём:** 💡 Когда комментарий или код прешывает 79 символов в строке - это стилистическая ошибка с точки зрения международных стандартов ([PEP 8](https://www.python.org/dev/peps/pep-0008/)) разработчиков на Python. \n",
    "    \n",
    "\n",
    "</div>"
   ]
  },
  {
   "cell_type": "markdown",
   "id": "66cd8f56",
   "metadata": {},
   "source": [
    "<div class=\"alert alert-success\">\n",
    "\n",
    "**Артём:** 👍 Молодец, что используешь сводную таблицу.\n",
    "\n",
    "</div>"
   ]
  },
  {
   "cell_type": "markdown",
   "id": "2e750b8d",
   "metadata": {
    "deletable": false,
    "id": "3a6b99ec"
   },
   "source": [
    "**Вывод:** заметна корреляция между количеством детей и возвратом кредита. С большей вероятностью отдают кредит семьи, в которых 2-е детей. На втором месте семьи с одним ребенком и на третьем - семьи, где нет детей. Данных для анализа в семьях, где трое детей и больше недостаточно "
   ]
  },
  {
   "cell_type": "markdown",
   "id": "085ec2bf",
   "metadata": {},
   "source": [
    "<div class=\"alert alert-success\">\n",
    "\n",
    "**Артём:** 👍 Здорово, что смотришь на размер групп.\n",
    "\n",
    "</div>"
   ]
  },
  {
   "cell_type": "markdown",
   "id": "229693a0",
   "metadata": {},
   "source": [
    "<div class=\"alert alert-success\">\n",
    "\n",
    "**Артём:**  Похоже ты просто путаешь логику столбца задолженности. Если бы доля невозврата составляла 90+%, то банки бы давно разорились. 😉\n",
    "</div>"
   ]
  },
  {
   "cell_type": "markdown",
   "id": "223ee783",
   "metadata": {},
   "source": [
    "<div style=\"background-color:lavender; color:#black; text-align:center; padding:2%\">\n",
    "    \n",
    "**Анастасия:** поправила\n",
    "</div>"
   ]
  },
  {
   "cell_type": "markdown",
   "id": "3d096a11",
   "metadata": {},
   "source": [
    "<div class=\"alert alert-success\">\n",
    "\n",
    "**Артём:** 👍 Все отлично.\n",
    "\n",
    "</div>"
   ]
  },
  {
   "cell_type": "markdown",
   "id": "b979d5be",
   "metadata": {
    "deletable": false,
    "editable": false,
    "id": "97be82ca"
   },
   "source": [
    "#### 3.2 Есть ли зависимость между семейным положением и возвратом кредита в срок?"
   ]
  },
  {
   "cell_type": "code",
   "execution_count": 23,
   "id": "270d3e28",
   "metadata": {
    "deletable": false,
    "id": "dc3f7ee8"
   },
   "outputs": [
    {
     "data": {
      "text/html": [
       "<div>\n",
       "<style scoped>\n",
       "    .dataframe tbody tr th:only-of-type {\n",
       "        vertical-align: middle;\n",
       "    }\n",
       "\n",
       "    .dataframe tbody tr th {\n",
       "        vertical-align: top;\n",
       "    }\n",
       "\n",
       "    .dataframe thead tr th {\n",
       "        text-align: left;\n",
       "    }\n",
       "\n",
       "    .dataframe thead tr:last-of-type th {\n",
       "        text-align: right;\n",
       "    }\n",
       "</style>\n",
       "<table border=\"1\" class=\"dataframe\">\n",
       "  <thead>\n",
       "    <tr>\n",
       "      <th></th>\n",
       "      <th colspan=\"2\" halign=\"left\">debt</th>\n",
       "      <th>доля отдавших кредит</th>\n",
       "    </tr>\n",
       "    <tr>\n",
       "      <th></th>\n",
       "      <th>общее число заемщиков</th>\n",
       "      <th>не отдали кредит</th>\n",
       "      <th></th>\n",
       "    </tr>\n",
       "    <tr>\n",
       "      <th>family_status</th>\n",
       "      <th></th>\n",
       "      <th></th>\n",
       "      <th></th>\n",
       "    </tr>\n",
       "  </thead>\n",
       "  <tbody>\n",
       "    <tr>\n",
       "      <th>Не женат / не замужем</th>\n",
       "      <td>2796</td>\n",
       "      <td>273</td>\n",
       "      <td>0.097639</td>\n",
       "    </tr>\n",
       "    <tr>\n",
       "      <th>в разводе</th>\n",
       "      <td>1189</td>\n",
       "      <td>84</td>\n",
       "      <td>0.070648</td>\n",
       "    </tr>\n",
       "    <tr>\n",
       "      <th>вдовец / вдова</th>\n",
       "      <td>951</td>\n",
       "      <td>63</td>\n",
       "      <td>0.066246</td>\n",
       "    </tr>\n",
       "    <tr>\n",
       "      <th>гражданский брак</th>\n",
       "      <td>4134</td>\n",
       "      <td>385</td>\n",
       "      <td>0.093130</td>\n",
       "    </tr>\n",
       "    <tr>\n",
       "      <th>женат / замужем</th>\n",
       "      <td>12261</td>\n",
       "      <td>927</td>\n",
       "      <td>0.075606</td>\n",
       "    </tr>\n",
       "  </tbody>\n",
       "</table>\n",
       "</div>"
      ],
      "text/plain": [
       "                                       debt                   \\\n",
       "                      общее число заемщиков не отдали кредит   \n",
       "family_status                                                  \n",
       "Не женат / не замужем                  2796              273   \n",
       "в разводе                              1189               84   \n",
       "вдовец / вдова                          951               63   \n",
       "гражданский брак                       4134              385   \n",
       "женат / замужем                       12261              927   \n",
       "\n",
       "                      доля отдавших кредит  \n",
       "                                            \n",
       "family_status                               \n",
       "Не женат / не замужем             0.097639  \n",
       "в разводе                         0.070648  \n",
       "вдовец / вдова                    0.066246  \n",
       "гражданский брак                  0.093130  \n",
       "женат / замужем                   0.075606  "
      ]
     },
     "execution_count": 23,
     "metadata": {},
     "output_type": "execute_result"
    }
   ],
   "source": [
    "# Ваш код будет здесь. Вы можете создавать новые ячейки.\n",
    "\n",
    "data_family = data.groupby('family_status').agg({'debt': ['count', 'sum']})\n",
    "\n",
    "data_family['conversion'] = data_family['debt']['sum'] / data_family['debt']['count']\n",
    "\n",
    "\n",
    "data_family = data_family.rename(columns={'sum' : 'не отдали кредит', 'count' : 'общее число заемщиков', 'conversion' : 'доля отдавших кредит'}) \n",
    "\n",
    "\n",
    "\n",
    "data_family"
   ]
  },
  {
   "cell_type": "markdown",
   "id": "f99a44ff",
   "metadata": {
    "deletable": false,
    "id": "1cef7837"
   },
   "source": [
    "**Вывод:**  С большей вероятностью отдают кредит незамужние люди. На втором месте - живущие в гражданском браке. Хотелось бы отметить, что несмотря на то, что доля возврата кредита замужними людьми лишь на третьем месте, но удельная доля их в общем числе - значительна (57%) "
   ]
  },
  {
   "cell_type": "markdown",
   "id": "80c4e3e1",
   "metadata": {},
   "source": [
    "<div class=\"alert alert-success\">\n",
    "\n",
    "**Артём:** 👍 Верно."
   ]
  },
  {
   "cell_type": "markdown",
   "id": "d509910f",
   "metadata": {
    "deletable": false,
    "editable": false,
    "id": "1e8b2fca"
   },
   "source": [
    "#### 3.3 Есть ли зависимость между уровнем дохода и возвратом кредита в срок?"
   ]
  },
  {
   "cell_type": "code",
   "execution_count": 24,
   "id": "e08d8517",
   "metadata": {
    "deletable": false,
    "id": "cd7e3720"
   },
   "outputs": [
    {
     "name": "stdout",
     "output_type": "stream",
     "text": [
      "                                       debt                   \\\n",
      "                      общее число заемщиков не отдали кредит   \n",
      "total_income_category                                          \n",
      "A                                        25                2   \n",
      "B                                      5014              354   \n",
      "C                                     15921             1353   \n",
      "D                                       349               21   \n",
      "E                                        22                2   \n",
      "\n",
      "                      доля отдавших кредит  \n",
      "                                            \n",
      "total_income_category                       \n",
      "A                                 0.080000  \n",
      "B                                 0.070602  \n",
      "C                                 0.084982  \n",
      "D                                 0.060172  \n",
      "E                                 0.090909  \n",
      " \n",
      "E: 0–30000\n",
      "D: 30001–50000\n",
      "C: 50001–200000\n",
      "B: 200001–1000000\n",
      "A: 1000001 и выше\n"
     ]
    }
   ],
   "source": [
    "# Ваш код будет здесь. Вы можете создавать новые ячейки.\n",
    "\n",
    "data_income = data.groupby('total_income_category').agg({'debt': ['count', 'sum']})\n",
    "\n",
    "data_income['conversion'] = data_income['debt']['sum'] / data_income['debt']['count']\n",
    "\n",
    "data_income = data_income.rename(columns={'sum' : 'не отдали кредит', 'count' : 'общее число заемщиков', 'conversion' : 'доля отдавших кредит'}) \n",
    "\n",
    "print(data_income)\n",
    "print(' ')\n",
    "print ('E: 0–30000')\n",
    "print ('D: 30001–50000')\n",
    "print ('C: 50001–200000')\n",
    "print ('B: 200001–1000000')\n",
    "print ('A: 1000001 и выше')\n"
   ]
  },
  {
   "cell_type": "markdown",
   "id": "98fb9320",
   "metadata": {},
   "source": [
    "<div class=\"alert alert-info\">\n",
    "\n",
    "#### **Артём:** 💡 При выводе на экран датафреймов лучше использовать метод `display()`, а не `print()`. Попробуй здесь и далее.\n",
    "    \n",
    "</div>"
   ]
  },
  {
   "cell_type": "markdown",
   "id": "c00dd199",
   "metadata": {
    "deletable": false,
    "id": "e8593def"
   },
   "source": [
    "**Вывод:**  Здесь нужно обратить внимание на группу \"С\" с доходом от 50 001 до 200 000. Среди этой группы наибольшая вероятность возврата кредита и наибольший процент людей, взявших кредит (75%). На втором месте группа \"В\" (200 001 - 1 000 000). Данных для анализа остальных групп недостаточно "
   ]
  },
  {
   "cell_type": "markdown",
   "id": "5cd500e2",
   "metadata": {},
   "source": [
    "<div class=\"alert alert-info\">\n",
    "\n",
    "#### **Артём:** 💡 Дам тебе совет на будущее, как лучше проводить категоризацию количественных данных. **В этом проекте переделывать ничего не надо, так как заказчик уже предложил свои категории, его стоит проинформировать, что выборки крайне несбалансированны.** Если только как дополнительное исследование.\n",
    "    \n",
    "Сейчас самая маленькая категория в 728 раз меньше самой большой. Это может отразиться на результатах исследования. Когда мы делим на категории количественные данные, то лучше их делать примерно одинаковыми. Для этого можно воспользоваться методом `qcut()`. Пример:\n",
    "    \n",
    "```py\n",
    "pd.qcut(df['total_income'], 4)\n",
    "```\n",
    "    \n",
    "```\n",
    "Name: total_income, Length: 21453, dtype: category\n",
    "Categories (4, interval[float64]): [(20666.999, 107620.0]  (107620.0, 142594.0]  (142594.0, 195818.0]  (195818.0, 2265604.0]]\n",
    "```\n",
    "                                                                                                               \n",
    "Что внутри: \n",
    "    \n",
    "```py\n",
    "pd.qcut(датафрейм['столбец'], количество_категорий)\n",
    "``` \n",
    "    \n",
    "Итого у нас 4 категории:\n",
    "<ul>\n",
    "  <li>меньше 107_620</li>\n",
    "  <li>от 107_620 до 142_594</li>\n",
    "  <li>от 142_594 до 195_818</li>\n",
    "  <li>от 195_818</li>\n",
    "</ul>"
   ]
  },
  {
   "cell_type": "markdown",
   "id": "001e91a0",
   "metadata": {
    "deletable": false,
    "editable": false,
    "id": "99ecbd1f"
   },
   "source": [
    "#### 3.4 Как разные цели кредита влияют на его возврат в срок?"
   ]
  },
  {
   "cell_type": "code",
   "execution_count": 25,
   "id": "4f5a2b26",
   "metadata": {
    "deletable": false,
    "id": "2b687290"
   },
   "outputs": [
    {
     "data": {
      "text/html": [
       "<div>\n",
       "<style scoped>\n",
       "    .dataframe tbody tr th:only-of-type {\n",
       "        vertical-align: middle;\n",
       "    }\n",
       "\n",
       "    .dataframe tbody tr th {\n",
       "        vertical-align: top;\n",
       "    }\n",
       "\n",
       "    .dataframe thead tr th {\n",
       "        text-align: left;\n",
       "    }\n",
       "\n",
       "    .dataframe thead tr:last-of-type th {\n",
       "        text-align: right;\n",
       "    }\n",
       "</style>\n",
       "<table border=\"1\" class=\"dataframe\">\n",
       "  <thead>\n",
       "    <tr>\n",
       "      <th></th>\n",
       "      <th colspan=\"2\" halign=\"left\">debt</th>\n",
       "      <th>доля отдавших кредит</th>\n",
       "    </tr>\n",
       "    <tr>\n",
       "      <th></th>\n",
       "      <th>общее число заемщиков</th>\n",
       "      <th>не отдали кредит</th>\n",
       "      <th></th>\n",
       "    </tr>\n",
       "    <tr>\n",
       "      <th>purpose_category</th>\n",
       "      <th></th>\n",
       "      <th></th>\n",
       "      <th></th>\n",
       "    </tr>\n",
       "  </thead>\n",
       "  <tbody>\n",
       "    <tr>\n",
       "      <th>операции с автомобилем</th>\n",
       "      <td>4279</td>\n",
       "      <td>400</td>\n",
       "      <td>0.093480</td>\n",
       "    </tr>\n",
       "    <tr>\n",
       "      <th>операции с недвижимостью</th>\n",
       "      <td>10751</td>\n",
       "      <td>780</td>\n",
       "      <td>0.072551</td>\n",
       "    </tr>\n",
       "    <tr>\n",
       "      <th>получение образования</th>\n",
       "      <td>3988</td>\n",
       "      <td>369</td>\n",
       "      <td>0.092528</td>\n",
       "    </tr>\n",
       "    <tr>\n",
       "      <th>проведение свадьбы</th>\n",
       "      <td>2313</td>\n",
       "      <td>183</td>\n",
       "      <td>0.079118</td>\n",
       "    </tr>\n",
       "  </tbody>\n",
       "</table>\n",
       "</div>"
      ],
      "text/plain": [
       "                                          debt                   \\\n",
       "                         общее число заемщиков не отдали кредит   \n",
       "purpose_category                                                  \n",
       "операции с автомобилем                    4279              400   \n",
       "операции с недвижимостью                 10751              780   \n",
       "получение образования                     3988              369   \n",
       "проведение свадьбы                        2313              183   \n",
       "\n",
       "                         доля отдавших кредит  \n",
       "                                               \n",
       "purpose_category                               \n",
       "операции с автомобилем               0.093480  \n",
       "операции с недвижимостью             0.072551  \n",
       "получение образования                0.092528  \n",
       "проведение свадьбы                   0.079118  "
      ]
     },
     "execution_count": 25,
     "metadata": {},
     "output_type": "execute_result"
    }
   ],
   "source": [
    "# Ваш код будет здесь. Вы можете создавать новые ячейки.\n",
    "\n",
    "data_purpose = data.groupby('purpose_category').agg({'debt': ['count', 'sum']})\n",
    "\n",
    "data_purpose['conversion'] = data_purpose['debt']['sum'] / data_purpose['debt']['count']\n",
    "\n",
    "data_purpose = data_purpose.rename(columns={'sum' : 'не отдали кредит', 'count' : 'общее число заемщиков', 'conversion' : 'доля отдавших кредит'}) \n",
    "\n",
    "\n",
    "data_purpose"
   ]
  },
  {
   "cell_type": "markdown",
   "id": "fb797755",
   "metadata": {
    "deletable": false,
    "id": "b4bb2ce6"
   },
   "source": [
    "**Вывод:** с большей вероятностью отдают кредит заемщики, у которых была цель - приобретение автомобиля. На втором месте - получение обрзования. Но опять же несмотря на то, что на операции с недвижимостью наименьший процент возврата - доля таких клиентов составляет чуть менее 50%. Здесь было бы интересно изучить более детально, возможно, выделить еще дополнительную категорию / подкатегорию, потому что обычно ипотечные кредиты отдаются с очень большой долей вероятности. "
   ]
  },
  {
   "cell_type": "markdown",
   "id": "f2d8f560",
   "metadata": {},
   "source": [
    "<div class=\"alert alert-success\">\n",
    "\n",
    "**Артём:** 👍 Правильно."
   ]
  },
  {
   "cell_type": "markdown",
   "id": "78b471f8",
   "metadata": {
    "deletable": false,
    "editable": false,
    "id": "09c3ac4c"
   },
   "source": [
    "#### 3.5 Приведите возможные причины появления пропусков в исходных данных."
   ]
  },
  {
   "cell_type": "markdown",
   "id": "609e6906",
   "metadata": {
    "deletable": false,
    "id": "9da2ceda"
   },
   "source": [
    "*Ответ:* вопрос в анкете был необязательным и пользователь не пожелал указывать эти данные. Также возможно, что трудового стажа и дохода у данного человека нет "
   ]
  },
  {
   "cell_type": "markdown",
   "id": "7d258148",
   "metadata": {},
   "source": [
    "<div class=\"alert alert-success\">\n",
    "\n",
    "**Артём:** 👍 Хорошо, это человеческий фактор.\n",
    "</div>\n",
    "\n",
    "<div class=\"alert alert-success\">\n",
    "\n",
    "**Артём:**  А какие еще варианты?\n",
    "    \n",
    "</div>"
   ]
  },
  {
   "cell_type": "markdown",
   "id": "a931d6ee",
   "metadata": {},
   "source": [
    "<div style=\"background-color:lavender; color:#black; text-align:center; padding:2%\">\n",
    "    \n",
    "**Анастасия:** total_income  зависит от days_employed, исходя из того, что количество пропусков совпадает\n",
    "\n",
    "</div>"
   ]
  },
  {
   "cell_type": "markdown",
   "id": "ade9825a",
   "metadata": {},
   "source": [
    "<div class=\"alert alert-success\">\n",
    "\n",
    "#### **Артём:** 👍 Cовпадают, ok, но о чем это говорит? Какой фактор?"
   ]
  },
  {
   "cell_type": "markdown",
   "id": "f5cd171c",
   "metadata": {
    "deletable": false,
    "editable": false,
    "id": "7b0487d6"
   },
   "source": [
    "#### 3.6 Объясните, почему заполнить пропуски медианным значением — лучшее решение для количественных переменных."
   ]
  },
  {
   "cell_type": "markdown",
   "id": "5d3fef52",
   "metadata": {
    "deletable": false,
    "id": "7ecf2b8e"
   },
   "source": [
    "*Ответ:* Пропуски заполняются медианным значением в случае неоднородсти данных. В данном случае мы видим как раз такую ситуацию - например, даже при анализе первых 20 строчек видно, что доход сильно разнообразный. Например, у пенсионеров есть 160 000, а следующее значение 50 000. Та же ситуация и в столбце days_employed"
   ]
  },
  {
   "cell_type": "markdown",
   "id": "12bc45c2",
   "metadata": {},
   "source": [
    "<div class=\"alert alert-success\">\n",
    "\n",
    "**Артём:** 👍 Молодец.\n",
    "    \n",
    "</div>"
   ]
  },
  {
   "cell_type": "markdown",
   "id": "f404e8c7",
   "metadata": {
    "deletable": false,
    "editable": false,
    "id": "6db5255a"
   },
   "source": [
    "### Шаг 4: общий вывод."
   ]
  },
  {
   "cell_type": "markdown",
   "id": "cb3a0928",
   "metadata": {
    "deletable": false,
    "id": "bad65432"
   },
   "source": [
    "Лучшие заемщики - семьи с двумя детьми с доходом от 50 000 до 200 000. В таком случае они охотнее берут кредит (с большей вероятностью на приобретение недвижимости или покупку автомобиля) и имеют наибольший процент возврата "
   ]
  },
  {
   "cell_type": "markdown",
   "id": "f5adf6bd",
   "metadata": {},
   "source": [
    "<div class=\"alert alert-success\">\n",
    "\n",
    "**Артём:**  Промежуточные выводы будет смотреть старший аналитик, а заказчик будет читать финальный вывод и только его. Добавь информации о полученных результатах по каждому из четырех вопросов, разбей по пунктам, сделай красиво, чтобы было понятно, что проведено настоящее исследование и выводу можно верить. Например, какие именно категории имеют наибольший процент невозврата кредитов, и почему? Учитывай для кого проведено исследование, в банковской сфере даже сотые доли процента играют роль, но в нашем можно ограничиться десятыми. Помни, вывод – это лицо дата специалиста. 😉\n",
    "\n",
    "</div>"
   ]
  },
  {
   "cell_type": "markdown",
   "id": "6dc386cc",
   "metadata": {},
   "source": [
    "<div style=\"background-color:lavender; color:#black; text-align:center; padding:2%\">\n",
    "    \n",
    "**Анастасия:** \n",
    "    \n",
    "*В ходе исследования удалось выявить зависимость возврата кредита в срок от:*\n",
    "    \n",
    "**1. количества детей** - с большей вероятностью отдают кредит семьи, в которых 2-е детей. На втором месте семьи с одним ребенком и на третьем - семьи, где нет детей. \n",
    "    \n",
    "**2. семейного положения** - с большей вероятностью отдают кредит незамужние люди. На втором месте - живущие в гражданском браке. Хотелось бы отметить, что несмотря на то, что доля возврата кредита замужними людьми лишь на третьем месте, но удельная доля их в общем числе - значительна (57,47%)\n",
    "    \n",
    "**3. уровня дохода** - с большей вероятностью отдают кредит заемщики с доходом от 50 001 до 200 000. Среди этой группы наибольшая вероятность возврата кредита и наибольший процент людей, взявших кредит (74,63%). На втором месте заемщики с доходом от  200 001 до 1 000 000\n",
    "    \n",
    "**4. разных целей кредита** - с большей вероятностью отдают кредит заемщики, у которых была цель - приобретение автомобиля. На втором месте - получение образования. Но несмотря на то, что на операции с недвижимостью наименьший процент возврата - доля таких клиентов составляет чуть менее 50,40%. Здесь было бы интересно изучить более детально, возможно, выделить еще дополнительную категорию / подкатегорию, потому что обычно ипотечные кредиты отдаются с очень большой долей вероятности.\n",
    "\n",
    "Таким образом, лучшие заемщики - семьи с двумя детьми с доходом от 50 000 до 200 000. В таком случае они охотнее берут кредит (с большей вероятностью на приобретение недвижимости или покупку автомобиля) и имеют наибольший процент возврата.\n",
    "    \n",
    "Заемщики, живущие в семьях без детей и с доходом от 200 000 до 1 000 000 рублей и берущие кредит на покупку недвижимости имеют наименьшую долю возврата кредита. \n",
    "\n",
    "</div>"
   ]
  },
  {
   "cell_type": "markdown",
   "id": "c3a2f39e",
   "metadata": {},
   "source": [
    "<div class=\"alert alert-success\">\n",
    "\n",
    "**Артём:** 👍 Хороший вывод. Аккуратно, последовательно приятно читать.\n",
    "\n",
    "</div>"
   ]
  },
  {
   "cell_type": "markdown",
   "id": "54c5e208",
   "metadata": {},
   "source": [
    "## 🏁 Итоги ревью\n",
    "<a id=\"results\"></a>\n",
    "[В начало](#start)\n",
    "<div class=\"alert alert-danger\">\n",
    "\n",
    "**Артём:** ❌ Анастасия, спасибо за работу. Осталось исправить несколько комментариев и можно идти к заказчику. Молодец! 👍\n",
    "    \n",
    "Для удобства, комментарии которые нужно скорректировать я добавил в меню **Contents** слева.\n",
    "    \n",
    "Жду новую версию проекта. 🙂\n",
    "\n",
    "</div>"
   ]
  },
  {
   "cell_type": "markdown",
   "id": "ae78fb06",
   "metadata": {},
   "source": [
    "<img src=\"https://s19536.pcdn.co/wp-content/uploads/2020/06/Web-Great-Job.jpg\"> \n",
    "<div class=\"alert alert-success\">   \n",
    "\n",
    "**Артём:** ✌️ Анастасия, спасибо за работу и внесенные корректировки! Критических замечаний нет, вернее есть один про факторы, скорректируй.\n",
    "    \n",
    "\n",
    "Поздравляю, **проект принят!** 🥳 🎉 Ты молодец!\n",
    "\n",
    "Желаю тебе успехов в дальнейшем обучении. 😉\n",
    "    \n",
    "---\n",
    "    \n",
    "#### 📖 **Полезные ссылки**\n",
    "\n",
    "* [Работа в Яндексе](https://yandex.ru/jobs/pages/analytics_interview?ysclid=l84s63fs1g790141490)\n",
    "* [Настройте свой Jupyter Notebook правильно](https://medium.com/nuances-of-programming/настройте-свой-jupyter-notebook-правильно-faef14c89434)    \n",
    "* [Краткое руководство по Маркдауну](https://paulradzkov.com/2014/markdown_cheatsheet/?)\n",
    "* [PEP 8 – Style Guide for Python Code](https://www.python.org/dev/peps/pep-0008/)    \n",
    "* [Обработка пропусков в данных](https://loginom.ru/blog/missing)  \n",
    "* [Разделение данных с помощью qcut и cut в Pandas](https://dfedorov.spb.ru/pandas/Разделение%20данных%20в%20Pandas%20с%20помощью%20qcut%20и%20cut.html?)  \n",
    "* [Официальная документаци метода qcut](https://pandas.pydata.org/pandas-docs/stable/reference/api/pandas.qcut.html)  \n",
    "* [Подробное руководство по группировке и агрегированию с помощью pandas](https://dfedorov.spb.ru/pandas/Подробное%20руководство%20по%20группировке%20и%20агрегированию%20с%20помощью%20pandas.html?ysclid=lcmm6rtg2w602526506)\n",
    "* [Проверка статистических гипотез. (21 мая 2020 г.)](https://allatambov.github.io/psms/pdf/hypo-test.pdf)    \n",
    "* [Шпаргалка по визуализации данных в Python с помощью Plotly](https://habr.com/ru/articles/502958/) \n",
    "* [Тест гигиены визуализации данных](https://bar-or-pie.dianov.org)    \n",
    "* [Задачки SQL](https://habr.com/ru/company/dcmiran/blog/500360/)    \n",
    "* [7 cайтов для оттачивания навыка написания SQL запросов на 2020 год](https://techrocks.ru/2019/11/22/7-sites-to-perfect-sql-query-writing-skills/)\n",
    "* [Главред помогает очистить текст от словесного мусора, проверяет на соответствие информационному стилю.](https://glvrd.ru)\n",
    "\n",
    "</div>    "
   ]
  },
  {
   "cell_type": "code",
   "execution_count": null,
   "id": "2979bca9",
   "metadata": {},
   "outputs": [],
   "source": []
  }
 ],
 "metadata": {
  "ExecuteTimeLog": [
   {
    "duration": 529,
    "start_time": "2024-05-24T19:45:30.933Z"
   },
   {
    "duration": 432,
    "start_time": "2024-05-24T19:45:38.963Z"
   },
   {
    "duration": 17,
    "start_time": "2024-05-24T19:45:39.397Z"
   },
   {
    "duration": 12,
    "start_time": "2024-05-24T19:45:39.415Z"
   },
   {
    "duration": 7,
    "start_time": "2024-05-24T19:45:39.428Z"
   },
   {
    "duration": 30,
    "start_time": "2024-05-24T19:45:39.436Z"
   },
   {
    "duration": 3,
    "start_time": "2024-05-24T19:45:39.467Z"
   },
   {
    "duration": 12,
    "start_time": "2024-05-24T19:45:39.471Z"
   },
   {
    "duration": 5,
    "start_time": "2024-05-24T19:45:39.484Z"
   },
   {
    "duration": 7,
    "start_time": "2024-05-24T19:45:39.501Z"
   },
   {
    "duration": 4,
    "start_time": "2024-05-24T19:45:39.509Z"
   },
   {
    "duration": 27,
    "start_time": "2024-05-24T19:45:39.514Z"
   },
   {
    "duration": 13,
    "start_time": "2024-05-24T19:45:39.543Z"
   },
   {
    "duration": 7,
    "start_time": "2024-05-24T19:45:39.557Z"
   },
   {
    "duration": 12,
    "start_time": "2024-05-24T19:45:39.565Z"
   },
   {
    "duration": 24,
    "start_time": "2024-05-24T19:45:39.578Z"
   },
   {
    "duration": 15,
    "start_time": "2024-05-24T19:45:39.603Z"
   },
   {
    "duration": 3,
    "start_time": "2024-05-24T19:45:39.619Z"
   },
   {
    "duration": 16,
    "start_time": "2024-05-24T19:45:39.623Z"
   },
   {
    "duration": 6,
    "start_time": "2024-05-24T19:45:39.640Z"
   },
   {
    "duration": 11,
    "start_time": "2024-05-24T19:45:39.647Z"
   },
   {
    "duration": 21,
    "start_time": "2024-05-24T19:45:39.660Z"
   },
   {
    "duration": 18,
    "start_time": "2024-05-24T19:45:39.682Z"
   },
   {
    "duration": 10,
    "start_time": "2024-05-24T19:45:39.701Z"
   },
   {
    "duration": 5,
    "start_time": "2024-05-24T19:45:39.712Z"
   },
   {
    "duration": 20,
    "start_time": "2024-05-24T19:45:39.718Z"
   },
   {
    "duration": 69,
    "start_time": "2024-05-24T19:45:58.875Z"
   },
   {
    "duration": 8,
    "start_time": "2024-05-24T19:46:10.401Z"
   },
   {
    "duration": 5,
    "start_time": "2024-05-24T19:50:15.956Z"
   },
   {
    "duration": 8,
    "start_time": "2024-05-24T19:53:33.918Z"
   },
   {
    "duration": 6,
    "start_time": "2024-05-24T19:56:18.363Z"
   },
   {
    "duration": 6,
    "start_time": "2024-05-24T19:56:25.300Z"
   },
   {
    "duration": 8,
    "start_time": "2024-05-24T19:56:36.581Z"
   },
   {
    "duration": 5,
    "start_time": "2024-05-24T19:56:41.866Z"
   },
   {
    "duration": 7,
    "start_time": "2024-05-24T19:56:49.059Z"
   },
   {
    "duration": 6,
    "start_time": "2024-05-24T19:57:23.044Z"
   },
   {
    "duration": 14,
    "start_time": "2024-05-24T19:59:21.708Z"
   },
   {
    "duration": 21,
    "start_time": "2024-05-24T20:00:45.915Z"
   },
   {
    "duration": 198,
    "start_time": "2024-05-24T20:01:08.356Z"
   },
   {
    "duration": 12,
    "start_time": "2024-05-24T20:08:16.386Z"
   },
   {
    "duration": 97,
    "start_time": "2024-05-24T20:08:36.122Z"
   },
   {
    "duration": 7,
    "start_time": "2024-05-24T20:12:07.435Z"
   },
   {
    "duration": 7,
    "start_time": "2024-05-24T20:12:27.338Z"
   },
   {
    "duration": 8,
    "start_time": "2024-05-24T20:16:12.408Z"
   },
   {
    "duration": 10,
    "start_time": "2024-05-24T20:16:43.895Z"
   },
   {
    "duration": 6,
    "start_time": "2024-05-24T20:17:17.882Z"
   },
   {
    "duration": 10,
    "start_time": "2024-05-24T20:17:31.318Z"
   },
   {
    "duration": 950,
    "start_time": "2024-05-24T20:20:48.846Z"
   },
   {
    "duration": 59,
    "start_time": "2024-05-24T20:24:59.624Z"
   },
   {
    "duration": 12,
    "start_time": "2024-05-24T20:25:09.379Z"
   },
   {
    "duration": 68,
    "start_time": "2024-05-24T20:26:09.987Z"
   },
   {
    "duration": 13,
    "start_time": "2024-05-24T20:27:16.001Z"
   },
   {
    "duration": 922,
    "start_time": "2024-05-24T20:28:32.106Z"
   },
   {
    "duration": 8,
    "start_time": "2024-05-24T20:28:41.930Z"
   },
   {
    "duration": 860,
    "start_time": "2024-05-24T20:29:01.189Z"
   },
   {
    "duration": 11,
    "start_time": "2024-05-24T20:29:33.769Z"
   },
   {
    "duration": 9,
    "start_time": "2024-05-24T20:30:51.657Z"
   },
   {
    "duration": 946,
    "start_time": "2024-05-24T20:31:32.281Z"
   },
   {
    "duration": 9,
    "start_time": "2024-05-24T20:31:40.618Z"
   },
   {
    "duration": 872,
    "start_time": "2024-05-24T20:31:53.537Z"
   },
   {
    "duration": 909,
    "start_time": "2024-05-24T20:33:07.505Z"
   },
   {
    "duration": 9,
    "start_time": "2024-05-24T20:33:28.257Z"
   },
   {
    "duration": 943,
    "start_time": "2024-05-24T20:34:17.294Z"
   },
   {
    "duration": 8,
    "start_time": "2024-05-24T20:34:53.424Z"
   },
   {
    "duration": 884,
    "start_time": "2024-05-24T20:35:18.407Z"
   },
   {
    "duration": 881,
    "start_time": "2024-05-24T20:35:28.527Z"
   },
   {
    "duration": 10,
    "start_time": "2024-05-24T20:36:15.255Z"
   },
   {
    "duration": 16,
    "start_time": "2024-05-24T20:45:50.199Z"
   },
   {
    "duration": 60,
    "start_time": "2024-05-24T20:46:23.309Z"
   },
   {
    "duration": 11,
    "start_time": "2024-05-24T20:46:49.460Z"
   },
   {
    "duration": 17,
    "start_time": "2024-05-24T20:47:04.980Z"
   },
   {
    "duration": 14,
    "start_time": "2024-05-24T20:48:38.236Z"
   },
   {
    "duration": 13,
    "start_time": "2024-05-24T20:49:01.988Z"
   },
   {
    "duration": 24,
    "start_time": "2024-05-24T20:50:57.669Z"
   },
   {
    "duration": 12,
    "start_time": "2024-05-24T20:51:27.468Z"
   },
   {
    "duration": 22,
    "start_time": "2024-05-24T20:51:32.428Z"
   },
   {
    "duration": 11,
    "start_time": "2024-05-24T20:53:29.668Z"
   },
   {
    "duration": 66,
    "start_time": "2024-05-24T20:54:42.163Z"
   },
   {
    "duration": 13,
    "start_time": "2024-05-24T20:54:48.947Z"
   },
   {
    "duration": 8,
    "start_time": "2024-05-24T20:56:45.299Z"
   },
   {
    "duration": 10,
    "start_time": "2024-05-24T20:57:09.402Z"
   },
   {
    "duration": 11,
    "start_time": "2024-05-24T20:57:38.971Z"
   },
   {
    "duration": 15,
    "start_time": "2024-05-24T20:58:05.596Z"
   },
   {
    "duration": 14,
    "start_time": "2024-05-24T21:00:05.914Z"
   },
   {
    "duration": 11,
    "start_time": "2024-05-24T21:01:43.065Z"
   },
   {
    "duration": 20,
    "start_time": "2024-05-24T21:02:15.912Z"
   },
   {
    "duration": 7,
    "start_time": "2024-05-24T21:02:37.608Z"
   },
   {
    "duration": 14,
    "start_time": "2024-05-24T21:04:08.280Z"
   },
   {
    "duration": 88,
    "start_time": "2024-05-25T15:07:45.991Z"
   },
   {
    "duration": 17,
    "start_time": "2024-05-25T15:07:46.080Z"
   },
   {
    "duration": 22,
    "start_time": "2024-05-25T15:07:46.098Z"
   },
   {
    "duration": 11,
    "start_time": "2024-05-25T15:07:46.122Z"
   },
   {
    "duration": 62,
    "start_time": "2024-05-25T15:07:46.135Z"
   },
   {
    "duration": 3,
    "start_time": "2024-05-25T15:07:46.199Z"
   },
   {
    "duration": 14,
    "start_time": "2024-05-25T15:07:46.204Z"
   },
   {
    "duration": 5,
    "start_time": "2024-05-25T15:07:46.219Z"
   },
   {
    "duration": 60,
    "start_time": "2024-05-25T15:07:46.225Z"
   },
   {
    "duration": 8,
    "start_time": "2024-05-25T15:07:46.286Z"
   },
   {
    "duration": 58,
    "start_time": "2024-05-25T15:07:46.296Z"
   },
   {
    "duration": 12,
    "start_time": "2024-05-25T15:07:46.356Z"
   },
   {
    "duration": 3,
    "start_time": "2024-05-25T15:07:46.370Z"
   },
   {
    "duration": 17,
    "start_time": "2024-05-25T15:07:46.375Z"
   },
   {
    "duration": 72,
    "start_time": "2024-05-25T15:07:46.394Z"
   },
   {
    "duration": 27,
    "start_time": "2024-05-25T15:07:46.470Z"
   },
   {
    "duration": 4,
    "start_time": "2024-05-25T15:07:46.498Z"
   },
   {
    "duration": 20,
    "start_time": "2024-05-25T15:07:46.504Z"
   },
   {
    "duration": 20,
    "start_time": "2024-05-25T15:07:46.526Z"
   },
   {
    "duration": 12,
    "start_time": "2024-05-25T15:07:46.547Z"
   },
   {
    "duration": 21,
    "start_time": "2024-05-25T15:07:46.560Z"
   },
   {
    "duration": 21,
    "start_time": "2024-05-25T15:07:46.583Z"
   },
   {
    "duration": 20,
    "start_time": "2024-05-25T15:07:46.605Z"
   },
   {
    "duration": 40,
    "start_time": "2024-05-25T15:07:46.627Z"
   },
   {
    "duration": 18,
    "start_time": "2024-05-25T15:07:46.669Z"
   },
   {
    "duration": 25,
    "start_time": "2024-05-25T15:09:44.855Z"
   },
   {
    "duration": 17,
    "start_time": "2024-05-25T15:11:32.952Z"
   },
   {
    "duration": 17,
    "start_time": "2024-05-25T15:16:06.262Z"
   },
   {
    "duration": 18,
    "start_time": "2024-05-25T15:16:19.446Z"
   },
   {
    "duration": 44,
    "start_time": "2024-05-25T15:17:42.973Z"
   },
   {
    "duration": 49,
    "start_time": "2024-05-25T15:17:53.879Z"
   },
   {
    "duration": 45,
    "start_time": "2024-05-25T15:18:05.037Z"
   },
   {
    "duration": 11,
    "start_time": "2024-05-25T15:18:12.005Z"
   },
   {
    "duration": 45,
    "start_time": "2024-05-25T15:19:32.150Z"
   },
   {
    "duration": 13,
    "start_time": "2024-05-25T15:20:04.118Z"
   },
   {
    "duration": 17,
    "start_time": "2024-05-25T15:20:17.812Z"
   },
   {
    "duration": 19,
    "start_time": "2024-05-25T15:20:34.660Z"
   },
   {
    "duration": 80,
    "start_time": "2024-05-25T15:26:03.084Z"
   },
   {
    "duration": 19,
    "start_time": "2024-05-25T15:26:12.101Z"
   },
   {
    "duration": 22,
    "start_time": "2024-05-25T15:26:15.892Z"
   },
   {
    "duration": 506,
    "start_time": "2024-05-25T17:28:46.663Z"
   },
   {
    "duration": 23,
    "start_time": "2024-05-25T17:28:47.171Z"
   },
   {
    "duration": 16,
    "start_time": "2024-05-25T17:28:47.195Z"
   },
   {
    "duration": 10,
    "start_time": "2024-05-25T17:28:47.213Z"
   },
   {
    "duration": 59,
    "start_time": "2024-05-25T17:28:47.225Z"
   },
   {
    "duration": 4,
    "start_time": "2024-05-25T17:28:47.285Z"
   },
   {
    "duration": 9,
    "start_time": "2024-05-25T17:28:47.290Z"
   },
   {
    "duration": 4,
    "start_time": "2024-05-25T17:28:47.301Z"
   },
   {
    "duration": 7,
    "start_time": "2024-05-25T17:28:47.307Z"
   },
   {
    "duration": 6,
    "start_time": "2024-05-25T17:28:47.318Z"
   },
   {
    "duration": 76,
    "start_time": "2024-05-25T17:28:47.326Z"
   },
   {
    "duration": 11,
    "start_time": "2024-05-25T17:28:47.404Z"
   },
   {
    "duration": 12,
    "start_time": "2024-05-25T17:28:47.417Z"
   },
   {
    "duration": 12,
    "start_time": "2024-05-25T17:28:47.430Z"
   },
   {
    "duration": 21,
    "start_time": "2024-05-25T17:28:47.444Z"
   },
   {
    "duration": 30,
    "start_time": "2024-05-25T17:28:47.467Z"
   },
   {
    "duration": 3,
    "start_time": "2024-05-25T17:28:47.499Z"
   },
   {
    "duration": 30,
    "start_time": "2024-05-25T17:28:47.504Z"
   },
   {
    "duration": 6,
    "start_time": "2024-05-25T17:28:47.536Z"
   },
   {
    "duration": 7,
    "start_time": "2024-05-25T17:28:47.543Z"
   },
   {
    "duration": 14,
    "start_time": "2024-05-25T17:28:47.551Z"
   },
   {
    "duration": 28,
    "start_time": "2024-05-25T17:28:47.566Z"
   },
   {
    "duration": 17,
    "start_time": "2024-05-25T17:28:47.596Z"
   },
   {
    "duration": 15,
    "start_time": "2024-05-25T17:28:47.614Z"
   },
   {
    "duration": 29,
    "start_time": "2024-05-25T17:28:47.631Z"
   },
   {
    "duration": 61,
    "start_time": "2024-05-26T19:17:57.885Z"
   },
   {
    "duration": 7,
    "start_time": "2024-05-26T19:18:09.529Z"
   },
   {
    "duration": 609,
    "start_time": "2024-05-26T19:18:26.862Z"
   },
   {
    "duration": 21,
    "start_time": "2024-05-26T19:18:27.472Z"
   },
   {
    "duration": 14,
    "start_time": "2024-05-26T19:18:27.494Z"
   },
   {
    "duration": 9,
    "start_time": "2024-05-26T19:18:27.510Z"
   },
   {
    "duration": 46,
    "start_time": "2024-05-26T19:18:27.520Z"
   },
   {
    "duration": 3,
    "start_time": "2024-05-26T19:18:27.568Z"
   },
   {
    "duration": 12,
    "start_time": "2024-05-26T19:18:27.572Z"
   },
   {
    "duration": 4,
    "start_time": "2024-05-26T19:18:27.585Z"
   },
   {
    "duration": 7,
    "start_time": "2024-05-26T19:18:27.590Z"
   },
   {
    "duration": 5,
    "start_time": "2024-05-26T19:18:27.599Z"
   },
   {
    "duration": 33,
    "start_time": "2024-05-26T19:18:27.605Z"
   },
   {
    "duration": 32,
    "start_time": "2024-05-26T19:18:27.640Z"
   },
   {
    "duration": 5,
    "start_time": "2024-05-26T19:18:27.674Z"
   },
   {
    "duration": 15,
    "start_time": "2024-05-26T19:18:27.680Z"
   },
   {
    "duration": 20,
    "start_time": "2024-05-26T19:18:27.696Z"
   },
   {
    "duration": 16,
    "start_time": "2024-05-26T19:18:27.717Z"
   },
   {
    "duration": 6,
    "start_time": "2024-05-26T19:18:27.735Z"
   },
   {
    "duration": 14,
    "start_time": "2024-05-26T19:18:27.768Z"
   },
   {
    "duration": 11,
    "start_time": "2024-05-26T19:18:27.784Z"
   },
   {
    "duration": 11,
    "start_time": "2024-05-26T19:18:27.797Z"
   },
   {
    "duration": 12,
    "start_time": "2024-05-26T19:18:27.810Z"
   },
   {
    "duration": 19,
    "start_time": "2024-05-26T19:18:27.824Z"
   },
   {
    "duration": 30,
    "start_time": "2024-05-26T19:18:27.844Z"
   },
   {
    "duration": 13,
    "start_time": "2024-05-26T19:18:27.875Z"
   },
   {
    "duration": 14,
    "start_time": "2024-05-26T19:18:27.890Z"
   },
   {
    "duration": 16,
    "start_time": "2024-05-26T19:18:43.830Z"
   },
   {
    "duration": 16,
    "start_time": "2024-05-26T19:19:04.014Z"
   },
   {
    "duration": 14,
    "start_time": "2024-05-26T19:19:10.151Z"
   },
   {
    "duration": 15,
    "start_time": "2024-05-26T19:24:13.780Z"
   },
   {
    "duration": 14,
    "start_time": "2024-05-26T19:24:32.372Z"
   },
   {
    "duration": 16,
    "start_time": "2024-05-26T19:24:40.551Z"
   },
   {
    "duration": 21,
    "start_time": "2024-05-26T19:27:44.939Z"
   },
   {
    "duration": 16,
    "start_time": "2024-05-26T19:28:57.989Z"
   },
   {
    "duration": 489,
    "start_time": "2024-05-26T19:29:07.062Z"
   },
   {
    "duration": 19,
    "start_time": "2024-05-26T19:29:07.553Z"
   },
   {
    "duration": 14,
    "start_time": "2024-05-26T19:29:07.573Z"
   },
   {
    "duration": 9,
    "start_time": "2024-05-26T19:29:07.588Z"
   },
   {
    "duration": 41,
    "start_time": "2024-05-26T19:29:07.599Z"
   },
   {
    "duration": 2,
    "start_time": "2024-05-26T19:29:07.642Z"
   },
   {
    "duration": 20,
    "start_time": "2024-05-26T19:29:07.645Z"
   },
   {
    "duration": 4,
    "start_time": "2024-05-26T19:29:07.667Z"
   },
   {
    "duration": 7,
    "start_time": "2024-05-26T19:29:07.672Z"
   },
   {
    "duration": 5,
    "start_time": "2024-05-26T19:29:07.681Z"
   },
   {
    "duration": 30,
    "start_time": "2024-05-26T19:29:07.688Z"
   },
   {
    "duration": 9,
    "start_time": "2024-05-26T19:29:07.720Z"
   },
   {
    "duration": 19,
    "start_time": "2024-05-26T19:29:07.730Z"
   },
   {
    "duration": 20,
    "start_time": "2024-05-26T19:29:07.751Z"
   },
   {
    "duration": 21,
    "start_time": "2024-05-26T19:29:07.773Z"
   },
   {
    "duration": 16,
    "start_time": "2024-05-26T19:29:07.796Z"
   },
   {
    "duration": 20,
    "start_time": "2024-05-26T19:29:07.813Z"
   },
   {
    "duration": 24,
    "start_time": "2024-05-26T19:29:07.834Z"
   },
   {
    "duration": 6,
    "start_time": "2024-05-26T19:29:07.860Z"
   },
   {
    "duration": 4,
    "start_time": "2024-05-26T19:29:07.867Z"
   },
   {
    "duration": 10,
    "start_time": "2024-05-26T19:29:07.872Z"
   },
   {
    "duration": 14,
    "start_time": "2024-05-26T19:29:07.884Z"
   },
   {
    "duration": 15,
    "start_time": "2024-05-26T19:29:07.900Z"
   },
   {
    "duration": 14,
    "start_time": "2024-05-26T19:29:07.916Z"
   },
   {
    "duration": 46,
    "start_time": "2024-05-26T19:29:07.931Z"
   },
   {
    "duration": 7,
    "start_time": "2024-05-26T19:31:21.492Z"
   },
   {
    "duration": 14,
    "start_time": "2024-05-26T19:32:09.772Z"
   },
   {
    "duration": 17,
    "start_time": "2024-05-26T19:32:25.051Z"
   },
   {
    "duration": 420,
    "start_time": "2024-05-26T19:32:44.825Z"
   },
   {
    "duration": 22,
    "start_time": "2024-05-26T19:32:45.247Z"
   },
   {
    "duration": 30,
    "start_time": "2024-05-26T19:32:45.270Z"
   },
   {
    "duration": 10,
    "start_time": "2024-05-26T19:32:45.302Z"
   },
   {
    "duration": 112,
    "start_time": "2024-05-26T19:32:45.313Z"
   },
   {
    "duration": 3,
    "start_time": "2024-05-26T19:32:45.427Z"
   },
   {
    "duration": 10,
    "start_time": "2024-05-26T19:32:45.432Z"
   },
   {
    "duration": 4,
    "start_time": "2024-05-26T19:32:45.444Z"
   },
   {
    "duration": 13,
    "start_time": "2024-05-26T19:32:45.450Z"
   },
   {
    "duration": 5,
    "start_time": "2024-05-26T19:32:45.468Z"
   },
   {
    "duration": 43,
    "start_time": "2024-05-26T19:32:45.475Z"
   },
   {
    "duration": 13,
    "start_time": "2024-05-26T19:32:45.520Z"
   },
   {
    "duration": 4,
    "start_time": "2024-05-26T19:32:45.534Z"
   },
   {
    "duration": 31,
    "start_time": "2024-05-26T19:32:45.540Z"
   },
   {
    "duration": 18,
    "start_time": "2024-05-26T19:32:45.573Z"
   },
   {
    "duration": 17,
    "start_time": "2024-05-26T19:32:45.593Z"
   },
   {
    "duration": 4,
    "start_time": "2024-05-26T19:32:45.611Z"
   },
   {
    "duration": 12,
    "start_time": "2024-05-26T19:32:45.617Z"
   },
   {
    "duration": 35,
    "start_time": "2024-05-26T19:32:45.631Z"
   },
   {
    "duration": 4,
    "start_time": "2024-05-26T19:32:45.667Z"
   },
   {
    "duration": 23,
    "start_time": "2024-05-26T19:32:45.673Z"
   },
   {
    "duration": 16,
    "start_time": "2024-05-26T19:32:45.697Z"
   },
   {
    "duration": 16,
    "start_time": "2024-05-26T19:32:45.714Z"
   },
   {
    "duration": 35,
    "start_time": "2024-05-26T19:32:45.731Z"
   },
   {
    "duration": 16,
    "start_time": "2024-05-26T19:32:45.767Z"
   },
   {
    "duration": 61,
    "start_time": "2024-05-26T19:50:03.231Z"
   },
   {
    "duration": 468,
    "start_time": "2024-05-27T07:19:45.730Z"
   },
   {
    "duration": 23,
    "start_time": "2024-05-27T07:19:46.200Z"
   },
   {
    "duration": 50,
    "start_time": "2024-05-27T07:19:46.225Z"
   },
   {
    "duration": 14,
    "start_time": "2024-05-27T07:19:46.278Z"
   },
   {
    "duration": 44,
    "start_time": "2024-05-27T07:19:46.294Z"
   },
   {
    "duration": 4,
    "start_time": "2024-05-27T07:19:46.339Z"
   },
   {
    "duration": 21,
    "start_time": "2024-05-27T07:19:46.345Z"
   },
   {
    "duration": 10,
    "start_time": "2024-05-27T07:19:46.368Z"
   },
   {
    "duration": 34,
    "start_time": "2024-05-27T07:19:46.379Z"
   },
   {
    "duration": 22,
    "start_time": "2024-05-27T07:19:46.419Z"
   },
   {
    "duration": 40,
    "start_time": "2024-05-27T07:19:46.444Z"
   },
   {
    "duration": 13,
    "start_time": "2024-05-27T07:19:46.486Z"
   },
   {
    "duration": 6,
    "start_time": "2024-05-27T07:19:46.501Z"
   },
   {
    "duration": 19,
    "start_time": "2024-05-27T07:19:46.508Z"
   },
   {
    "duration": 29,
    "start_time": "2024-05-27T07:19:46.529Z"
   },
   {
    "duration": 25,
    "start_time": "2024-05-27T07:19:46.560Z"
   },
   {
    "duration": 5,
    "start_time": "2024-05-27T07:19:46.587Z"
   },
   {
    "duration": 71,
    "start_time": "2024-05-27T07:19:46.593Z"
   },
   {
    "duration": 27,
    "start_time": "2024-05-27T07:19:46.666Z"
   },
   {
    "duration": 3,
    "start_time": "2024-05-27T07:19:46.695Z"
   },
   {
    "duration": 15,
    "start_time": "2024-05-27T07:19:46.700Z"
   },
   {
    "duration": 18,
    "start_time": "2024-05-27T07:19:46.717Z"
   },
   {
    "duration": 18,
    "start_time": "2024-05-27T07:19:46.736Z"
   },
   {
    "duration": 40,
    "start_time": "2024-05-27T07:19:46.756Z"
   },
   {
    "duration": 21,
    "start_time": "2024-05-27T07:19:46.798Z"
   },
   {
    "duration": 55,
    "start_time": "2024-05-27T07:23:00.034Z"
   }
  ],
  "colab": {
   "name": "dpp_template_part2.ipynb",
   "provenance": []
  },
  "kernelspec": {
   "display_name": "Python 3 (ipykernel)",
   "language": "python",
   "name": "python3"
  },
  "language_info": {
   "codemirror_mode": {
    "name": "ipython",
    "version": 3
   },
   "file_extension": ".py",
   "mimetype": "text/x-python",
   "name": "python",
   "nbconvert_exporter": "python",
   "pygments_lexer": "ipython3",
   "version": "3.9.5"
  },
  "toc": {
   "base_numbering": 1,
   "nav_menu": {},
   "number_sections": true,
   "sideBar": true,
   "skip_h1_title": true,
   "title_cell": "Table of Contents",
   "title_sidebar": "Contents",
   "toc_cell": false,
   "toc_position": {},
   "toc_section_display": true,
   "toc_window_display": true
  }
 },
 "nbformat": 4,
 "nbformat_minor": 5
}
