{
 "cells": [
  {
   "cell_type": "markdown",
   "metadata": {
    "toc": true
   },
   "source": [
    "<h1>Содержание<span class=\"tocSkip\"></span></h1>\n",
    "<div class=\"toc\"><ul class=\"toc-item\"><li><span><a href=\"#Подготовка\" data-toc-modified-id=\"Подготовка-1\"><span class=\"toc-item-num\">1&nbsp;&nbsp;</span>Подготовка</a></span></li><li><span><a href=\"#Анализ\" data-toc-modified-id=\"Анализ-2\"><span class=\"toc-item-num\">2&nbsp;&nbsp;</span>Анализ</a></span><ul class=\"toc-item\"><li><span><a href=\"#График-временного-ряда\" data-toc-modified-id=\"График-временного-ряда-2.1\"><span class=\"toc-item-num\">2.1&nbsp;&nbsp;</span>График временного ряда</a></span></li><li><span><a href=\"#Статистический-анализ\" data-toc-modified-id=\"Статистический-анализ-2.2\"><span class=\"toc-item-num\">2.2&nbsp;&nbsp;</span>Статистический анализ</a></span></li><li><span><a href=\"#Проверка-на-аномалии\" data-toc-modified-id=\"Проверка-на-аномалии-2.3\"><span class=\"toc-item-num\">2.3&nbsp;&nbsp;</span>Проверка на аномалии</a></span></li><li><span><a href=\"#Сезонность-и-тренды\" data-toc-modified-id=\"Сезонность-и-тренды-2.4\"><span class=\"toc-item-num\">2.4&nbsp;&nbsp;</span>Сезонность и тренды</a></span></li></ul></li><li><span><a href=\"#Обучение\" data-toc-modified-id=\"Обучение-3\"><span class=\"toc-item-num\">3&nbsp;&nbsp;</span>Обучение</a></span><ul class=\"toc-item\"><li><span><a href=\"#Разделение-данных-на-обучающую-и-тестовую-выборки\" data-toc-modified-id=\"Разделение-данных-на-обучающую-и-тестовую-выборки-3.1\"><span class=\"toc-item-num\">3.1&nbsp;&nbsp;</span>Разделение данных на обучающую и тестовую выборки</a></span></li><li><span><a href=\"#Обучение-моделей\" data-toc-modified-id=\"Обучение-моделей-3.2\"><span class=\"toc-item-num\">3.2&nbsp;&nbsp;</span>Обучение моделей</a></span><ul class=\"toc-item\"><li><span><a href=\"#Оптимизация-гиперпараметров\" data-toc-modified-id=\"Оптимизация-гиперпараметров-3.2.1\"><span class=\"toc-item-num\">3.2.1&nbsp;&nbsp;</span>Оптимизация гиперпараметров</a></span></li></ul></li></ul></li><li><span><a href=\"#Тестирование\" data-toc-modified-id=\"Тестирование-4\"><span class=\"toc-item-num\">4&nbsp;&nbsp;</span>Тестирование</a></span></li><li><span><a href=\"#Чек-лист-проверки\" data-toc-modified-id=\"Чек-лист-проверки-5\"><span class=\"toc-item-num\">5&nbsp;&nbsp;</span>Чек-лист проверки</a></span></li></ul></div>"
   ]
  },
  {
   "cell_type": "markdown",
   "metadata": {},
   "source": [
    "#  Прогнозирование заказов такси"
   ]
  },
  {
   "cell_type": "markdown",
   "metadata": {},
   "source": [
    "Компания «Чётенькое такси» собрала исторические данные о заказах такси в аэропортах. Чтобы привлекать больше водителей в период пиковой нагрузки, нужно спрогнозировать количество заказов такси на следующий час. Постройте модель для такого предсказания.\n",
    "\n",
    "Значение метрики *RMSE* на тестовой выборке должно быть не больше 48.\n",
    "\n",
    "Вам нужно:\n",
    "\n",
    "1. Загрузить данные и выполнить их ресемплирование по одному часу.\n",
    "2. Проанализировать данные.\n",
    "3. Обучить разные модели с различными гиперпараметрами. Сделать тестовую выборку размером 10% от исходных данных.\n",
    "4. Проверить данные на тестовой выборке и сделать выводы.\n",
    "\n",
    "\n",
    "Данные лежат в файле `taxi.csv`. Количество заказов находится в столбце `num_orders` (от англ. *number of orders*, «число заказов»)."
   ]
  },
  {
   "cell_type": "markdown",
   "metadata": {},
   "source": [
    "## Подготовка"
   ]
  },
  {
   "cell_type": "code",
   "execution_count": 1,
   "metadata": {},
   "outputs": [],
   "source": [
    "import pandas as pd\n",
    "import matplotlib.pyplot as plt\n",
    "import numpy as np\n",
    "\n",
    "from sklearn.model_selection import GridSearchCV, TimeSeriesSplit\n",
    "from sklearn.model_selection import train_test_split\n",
    "from sklearn.linear_model import LinearRegression\n",
    "from sklearn.metrics import mean_squared_error, r2_score\n",
    "from sklearn.ensemble import RandomForestRegressor, GradientBoostingRegressor\n",
    "\n",
    "from statsmodels.tsa.seasonal import seasonal_decompose\n",
    "\n",
    "from xgboost import XGBRegressor"
   ]
  },
  {
   "cell_type": "code",
   "execution_count": 2,
   "metadata": {},
   "outputs": [
    {
     "data": {
      "text/html": [
       "<div>\n",
       "<style scoped>\n",
       "    .dataframe tbody tr th:only-of-type {\n",
       "        vertical-align: middle;\n",
       "    }\n",
       "\n",
       "    .dataframe tbody tr th {\n",
       "        vertical-align: top;\n",
       "    }\n",
       "\n",
       "    .dataframe thead th {\n",
       "        text-align: right;\n",
       "    }\n",
       "</style>\n",
       "<table border=\"1\" class=\"dataframe\">\n",
       "  <thead>\n",
       "    <tr style=\"text-align: right;\">\n",
       "      <th></th>\n",
       "      <th>num_orders</th>\n",
       "    </tr>\n",
       "    <tr>\n",
       "      <th>datetime</th>\n",
       "      <th></th>\n",
       "    </tr>\n",
       "  </thead>\n",
       "  <tbody>\n",
       "    <tr>\n",
       "      <th>2018-03-01 00:00:00</th>\n",
       "      <td>9</td>\n",
       "    </tr>\n",
       "    <tr>\n",
       "      <th>2018-03-01 00:10:00</th>\n",
       "      <td>14</td>\n",
       "    </tr>\n",
       "    <tr>\n",
       "      <th>2018-03-01 00:20:00</th>\n",
       "      <td>28</td>\n",
       "    </tr>\n",
       "    <tr>\n",
       "      <th>2018-03-01 00:30:00</th>\n",
       "      <td>20</td>\n",
       "    </tr>\n",
       "    <tr>\n",
       "      <th>2018-03-01 00:40:00</th>\n",
       "      <td>32</td>\n",
       "    </tr>\n",
       "  </tbody>\n",
       "</table>\n",
       "</div>"
      ],
      "text/plain": [
       "                     num_orders\n",
       "datetime                       \n",
       "2018-03-01 00:00:00           9\n",
       "2018-03-01 00:10:00          14\n",
       "2018-03-01 00:20:00          28\n",
       "2018-03-01 00:30:00          20\n",
       "2018-03-01 00:40:00          32"
      ]
     },
     "execution_count": 2,
     "metadata": {},
     "output_type": "execute_result"
    }
   ],
   "source": [
    "import pandas as pd\n",
    "\n",
    "# Загрузка данных\n",
    "\n",
    "data = pd.read_csv('/datasets/taxi.csv',parse_dates=[0], index_col=[0])\n",
    "\n",
    "# Ресемплирование данных по одному часу, агрегируем суммой заказов\n",
    "data_resampled = data.resample('1H').sum()\n",
    "\n",
    "data.head()\n"
   ]
  },
  {
   "cell_type": "markdown",
   "metadata": {},
   "source": [
    "## Анализ"
   ]
  },
  {
   "cell_type": "markdown",
   "metadata": {},
   "source": [
    "### График временного ряда"
   ]
  },
  {
   "cell_type": "code",
   "execution_count": 3,
   "metadata": {},
   "outputs": [
    {
     "data": {
      "image/png": "[encoded data removed]",
      "text/plain": [
       "<Figure size 864x432 with 1 Axes>"
      ]
     },
     "metadata": {
      "needs_background": "light"
     },
     "output_type": "display_data"
    }
   ],
   "source": [
    "plt.figure(figsize=(12, 6))\n",
    "plt.plot(data_resampled, label='Hourly Orders', color='blue')\n",
    "plt.title('Hourly Taxi Orders Over Time', fontsize=16)\n",
    "plt.xlabel('Date', fontsize=12)\n",
    "plt.ylabel('Number of Orders', fontsize=12)\n",
    "plt.legend()\n",
    "plt.grid(True)\n",
    "plt.show()"
   ]
  },
  {
   "cell_type": "markdown",
   "metadata": {},
   "source": [
    "### Статистический анализ\n",
    "\n",
    "Этот метод выведет такие параметры, как:\n",
    "- count - количество непустых значений,\n",
    "- mean - среднее количество заказов,\n",
    "- std - стандартное отклонение,\n",
    "- min, max - минимальное и максимальное значение заказов,\n",
    "- квартили (25%, 50%, 75%)."
   ]
  },
  {
   "cell_type": "code",
   "execution_count": 4,
   "metadata": {},
   "outputs": [
    {
     "data": {
      "text/html": [
       "<div>\n",
       "<style scoped>\n",
       "    .dataframe tbody tr th:only-of-type {\n",
       "        vertical-align: middle;\n",
       "    }\n",
       "\n",
       "    .dataframe tbody tr th {\n",
       "        vertical-align: top;\n",
       "    }\n",
       "\n",
       "    .dataframe thead th {\n",
       "        text-align: right;\n",
       "    }\n",
       "</style>\n",
       "<table border=\"1\" class=\"dataframe\">\n",
       "  <thead>\n",
       "    <tr style=\"text-align: right;\">\n",
       "      <th></th>\n",
       "      <th>num_orders</th>\n",
       "    </tr>\n",
       "  </thead>\n",
       "  <tbody>\n",
       "    <tr>\n",
       "      <th>count</th>\n",
       "      <td>4416.000000</td>\n",
       "    </tr>\n",
       "    <tr>\n",
       "      <th>mean</th>\n",
       "      <td>84.422781</td>\n",
       "    </tr>\n",
       "    <tr>\n",
       "      <th>std</th>\n",
       "      <td>45.023853</td>\n",
       "    </tr>\n",
       "    <tr>\n",
       "      <th>min</th>\n",
       "      <td>0.000000</td>\n",
       "    </tr>\n",
       "    <tr>\n",
       "      <th>25%</th>\n",
       "      <td>54.000000</td>\n",
       "    </tr>\n",
       "    <tr>\n",
       "      <th>50%</th>\n",
       "      <td>78.000000</td>\n",
       "    </tr>\n",
       "    <tr>\n",
       "      <th>75%</th>\n",
       "      <td>107.000000</td>\n",
       "    </tr>\n",
       "    <tr>\n",
       "      <th>max</th>\n",
       "      <td>462.000000</td>\n",
       "    </tr>\n",
       "  </tbody>\n",
       "</table>\n",
       "</div>"
      ],
      "text/plain": [
       "        num_orders\n",
       "count  4416.000000\n",
       "mean     84.422781\n",
       "std      45.023853\n",
       "min       0.000000\n",
       "25%      54.000000\n",
       "50%      78.000000\n",
       "75%     107.000000\n",
       "max     462.000000"
      ]
     },
     "execution_count": 4,
     "metadata": {},
     "output_type": "execute_result"
    }
   ],
   "source": [
    "# Описание статистик\n",
    "data_resampled.describe()"
   ]
  },
  {
   "cell_type": "markdown",
   "metadata": {},
   "source": [
    "### Проверка на аномалии\n",
    "\n",
    "Можно проверить данные на аномалии, например, выявить слишком высокие/низкие значения заказов:"
   ]
  },
  {
   "cell_type": "code",
   "execution_count": 5,
   "metadata": {},
   "outputs": [
    {
     "name": "stdout",
     "output_type": "stream",
     "text": [
      "Аномалии с высоким числом заказов:\n",
      "                     num_orders\n",
      "datetime                       \n",
      "2018-03-01 00:00:00         NaN\n",
      "2018-03-01 01:00:00         NaN\n",
      "2018-03-01 02:00:00         NaN\n",
      "2018-03-01 03:00:00         NaN\n",
      "2018-03-01 04:00:00         NaN\n",
      "...                         ...\n",
      "2018-08-31 19:00:00         NaN\n",
      "2018-08-31 20:00:00         NaN\n",
      "2018-08-31 21:00:00         NaN\n",
      "2018-08-31 22:00:00       223.0\n",
      "2018-08-31 23:00:00       205.0\n",
      "\n",
      "[4416 rows x 1 columns]\n",
      "Аномалии с низким числом заказов:\n",
      "                     num_orders\n",
      "datetime                       \n",
      "2018-03-01 00:00:00         NaN\n",
      "2018-03-01 01:00:00         NaN\n",
      "2018-03-01 02:00:00         NaN\n",
      "2018-03-01 03:00:00         NaN\n",
      "2018-03-01 04:00:00         NaN\n",
      "...                         ...\n",
      "2018-08-31 19:00:00         NaN\n",
      "2018-08-31 20:00:00         NaN\n",
      "2018-08-31 21:00:00         NaN\n",
      "2018-08-31 22:00:00         NaN\n",
      "2018-08-31 23:00:00         NaN\n",
      "\n",
      "[4416 rows x 1 columns]\n"
     ]
    }
   ],
   "source": [
    "# Вывод строк с аномально высоким числом заказов (например, выше 95-го перцентиля)\n",
    "threshold_high = data_resampled.quantile(0.95)\n",
    "anomalies_high = data_resampled[data_resampled > threshold_high]\n",
    "print(\"Аномалии с высоким числом заказов:\")\n",
    "print(anomalies_high)\n",
    "\n",
    "# Вывод строк с аномально низким числом заказов (например, ниже 5-го перцентиля)\n",
    "threshold_low = data_resampled.quantile(0.05)\n",
    "anomalies_low = data_resampled[data_resampled < threshold_low]\n",
    "print(\"Аномалии с низким числом заказов:\")\n",
    "print(anomalies_low)"
   ]
  },
  {
   "cell_type": "markdown",
   "metadata": {},
   "source": [
    "### Сезонность и тренды"
   ]
  },
  {
   "cell_type": "code",
   "execution_count": 6,
   "metadata": {},
   "outputs": [
    {
     "data": {
      "image/png": "[encoded data removed]",
      "text/plain": [
       "<Figure size 864x720 with 5 Axes>"
      ]
     },
     "metadata": {
      "needs_background": "light"
     },
     "output_type": "display_data"
    }
   ],
   "source": [
    "# Выполним декомпозицию временного ряда\n",
    "decomposition = seasonal_decompose(data_resampled, model='additive')  # Выбираем аддитивную модель\n",
    "\n",
    "# Получаем компоненты: тренд, сезонность, остатки\n",
    "trend = decomposition.trend\n",
    "seasonal = decomposition.seasonal\n",
    "residual = decomposition.resid\n",
    "\n",
    "# Задаем интересующий период для увеличенного масштаба\n",
    "start_date = '2018-03-01'  # Укажите вашу дату начала\n",
    "end_date = '2018-09-30'    # Укажите вашу дату конца\n",
    "\n",
    "# Визуализация всех компонентов временного ряда\n",
    "plt.figure(figsize=(12, 10))\n",
    "\n",
    "# Оригинальный ряд\n",
    "plt.subplot(5, 1, 1)\n",
    "plt.plot(data_resampled, label='Resampled Data')\n",
    "plt.legend(loc='best')\n",
    "plt.title('Original Resampled Time Series')\n",
    "\n",
    "# Тренд\n",
    "plt.subplot(5, 1, 2)\n",
    "plt.plot(decomposition.trend, label='Trend', color='orange')\n",
    "plt.legend(loc='best')\n",
    "plt.title('Trend')\n",
    "\n",
    "# Сезонность (общее представление)\n",
    "plt.subplot(5, 1, 3)\n",
    "plt.plot(decomposition.seasonal, label='Seasonality (Weekly)', color='green')\n",
    "plt.legend(loc='best')\n",
    "plt.title('Seasonality (Full Range)')\n",
    "\n",
    "# Сезонность (увеличенный масштаб, конкретный период)\n",
    "plt.subplot(5, 1, 4)\n",
    "decomposition.seasonal[start_date:end_date].plot(ax=plt.gca(), color='teal', label='Scaled Seasonality')\n",
    "plt.legend(loc='best')\n",
    "plt.title(f'Seasonality (From {start_date} to {end_date})')\n",
    "\n",
    "# Остатки\n",
    "plt.subplot(5, 1, 5)\n",
    "plt.plot(decomposition.resid, label='Residuals', color='red')\n",
    "plt.legend(loc='best')\n",
    "plt.title('Residuals')\n",
    "\n",
    "plt.tight_layout()\n",
    "plt.show()\n"
   ]
  },
  {
   "cell_type": "code",
   "execution_count": 7,
   "metadata": {},
   "outputs": [
    {
     "data": {
      "image/png": "[encoded data removed]",
      "text/plain": [
       "<Figure size 864x576 with 4 Axes>"
      ]
     },
     "metadata": {
      "needs_background": "light"
     },
     "output_type": "display_data"
    }
   ],
   "source": [
    "# Шаг 1: Ресемплинг данных по суткам \n",
    "data_daily = data.resample('1D').sum()\n",
    "\n",
    "# Шаг 2: Декомпозиция ресемплированных данных для выявления недельной сезонности\n",
    "decomposition_weekly = seasonal_decompose(data_daily, period=7)  # Период = 7 дней\n",
    "\n",
    "# Визуализация декомпозиции\n",
    "plt.figure(figsize=(12, 8))\n",
    "\n",
    "# Оригинальный ресемплированный ряд\n",
    "plt.subplot(4, 1, 1)\n",
    "plt.plot(data_daily, label='Resampled Data (Daily)', color='blue')\n",
    "plt.legend(loc='best')\n",
    "plt.title('Original Resampled Time Series (Daily)')\n",
    "\n",
    "# Тренд\n",
    "plt.subplot(4, 1, 2)\n",
    "plt.plot(decomposition_weekly.trend, label='Trend', color='orange')\n",
    "plt.legend(loc='best')\n",
    "plt.title('Trend (Weekly Data)')\n",
    "\n",
    "# Недельная сезонность\n",
    "plt.subplot(4, 1, 3)\n",
    "plt.plot(decomposition_weekly.seasonal, label='Seasonality (Weekly)', color='green')\n",
    "plt.legend(loc='best')\n",
    "plt.title('Weekly Seasonality')\n",
    "\n",
    "# Остатки\n",
    "plt.subplot(4, 1, 4)\n",
    "plt.plot(decomposition_weekly.resid, label='Residuals', color='red')\n",
    "plt.legend(loc='best')\n",
    "plt.title('Residuals')\n",
    "\n",
    "plt.tight_layout()\n",
    "plt.show()\n"
   ]
  },
  {
   "cell_type": "code",
   "execution_count": 8,
   "metadata": {},
   "outputs": [
    {
     "data": {
      "image/png": "[encoded data removed]",
      "text/plain": [
       "<Figure size 720x432 with 1 Axes>"
      ]
     },
     "metadata": {
      "needs_background": "light"
     },
     "output_type": "display_data"
    }
   ],
   "source": [
    "# Расчет среднего количества заказов по часам\n",
    "hourly_mean = data_resampled.groupby(data_resampled.index.hour).mean()\n",
    "\n",
    "# Построение графика\n",
    "hourly_mean.plot(kind='bar', figsize=(10, 6), color='blue')\n",
    "plt.title('Average Taxi Orders by Hour of the Day')\n",
    "plt.xlabel('Hour')\n",
    "plt.ylabel('Average Number of Orders')\n",
    "plt.grid(True)\n",
    "plt.show()"
   ]
  },
  {
   "cell_type": "code",
   "execution_count": 9,
   "metadata": {},
   "outputs": [
    {
     "data": {
      "image/png": "[encoded data removed]",
      "text/plain": [
       "<Figure size 720x432 with 1 Axes>"
      ]
     },
     "metadata": {
      "needs_background": "light"
     },
     "output_type": "display_data"
    }
   ],
   "source": [
    "# Расчет среднего количества заказов по дням недели\n",
    "daily_mean = data_resampled.groupby(data_resampled.index.dayofweek).mean()\n",
    "\n",
    "# Построение графика\n",
    "daily_mean.plot(kind='bar', figsize=(10, 6), color='purple')\n",
    "plt.title('Average Taxi Orders by Day of the Week')\n",
    "plt.xlabel('Day of the Week (0=Monday, 6=Sunday)')\n",
    "plt.ylabel('Average Number of Orders')\n",
    "plt.grid(True)\n",
    "plt.show()"
   ]
  },
  {
   "cell_type": "markdown",
   "metadata": {},
   "source": [
    "▎**Анализ ряда**\n",
    "\n",
    "После проведения декомпозиции:\n",
    "\n",
    "1. **Тренд:** \n",
    "   - Компонента тренда показывает общее направление временного ряда. Например, если количество заказов растет с каждым месяцем или снижается, мы увидим это на графике.\n",
    "   - Если тренд отсутствует, то график останется примерно на одном уровне.\n",
    "   \n",
    "На графике мы видим непрерывный рост количества заказов     \n",
    "\n",
    "2. **Сезонность:**\n",
    "   - Это периодическая компонента, которая может отражать ежедневную, недельную или месячную цикличность:\n",
    "     - На внутрисуточном уровне (по часам) мы видим циклы активности (утро, день, вечер).\n",
    "     - На уровне недели можно заметить закономерности активности в будни и выходные.\n",
    "\n",
    "В течение суток самые \"непопулярные\" - утренние часы (с 5 до 8 утра), а наибольшей популярностью пользуется ночное время (особенно промежуток с полуночи до часу ночи). Что касается дней недели, то заказы такси распределены довольно равномерно, но максимум приходится на понедельник и вторник\n",
    "\n",
    "\n",
    "3. **Остатки:**\n",
    "   - Остатки представляют собой шум и отклонения, которые не объясняются трендом и сезонностью.\n",
    "   - Стоит проверить, если остатки имеют характерный шум, значит модель адекватно объясняет поведение ряда.\n",
    "\n",
    "Остатки в пределах нормы"
   ]
  },
  {
   "cell_type": "markdown",
   "metadata": {},
   "source": [
    "## Обучение"
   ]
  },
  {
   "cell_type": "markdown",
   "metadata": {},
   "source": [
    "### Разделение данных на обучающую и тестовую выборки\n",
    "\n",
    "Выделите тестовую выборку размером 10% от всех данных:"
   ]
  },
  {
   "cell_type": "code",
   "execution_count": 10,
   "metadata": {},
   "outputs": [
    {
     "name": "stdout",
     "output_type": "stream",
     "text": [
      "Размер обучающей выборки: 3971, тестовой выборки: 442\n"
     ]
    }
   ],
   "source": [
    "# data_resampled - временной ряд, где индекс - дата (DateTimeIndex), а значения - количество заказов\n",
    "\n",
    "# Создание копии данных\n",
    "df = data_resampled.copy()\n",
    "\n",
    "# Создание календарных признаков\n",
    "df['hour'] = df.index.hour  # Часы в сутках\n",
    "df['day_of_week'] = df.index.dayofweek  # День недели (0=Monday)\n",
    "df['day'] = df.index.day  # День месяца\n",
    "\n",
    "\n",
    "# Создание лаговых признаков (предыдущие значения ряда)\n",
    "df['lag_1'] = df[data_resampled.columns[0]].shift(1)  # Значение за 1 предыдущий час\n",
    "df['lag_2'] = df[data_resampled.columns[0]].shift(2)  # Значение за 2 предыдущих часа\n",
    "df['lag_3'] = df[data_resampled.columns[0]].shift(3)  # Значение за 3 предыдущих часа\n",
    "\n",
    "# Удаление строк с NaN, которые появились из-за лагов\n",
    "df = df.dropna()\n",
    "\n",
    "# Целевой признак (количество заказов)\n",
    "target = df[data_resampled.columns[0]]\n",
    "\n",
    "# Формирование матрицы признаков (удаляем целевой признак из данных)\n",
    "features = df.drop(columns=[data_resampled.columns[0]])\n",
    "\n",
    "# Разделение данных на обучающую и тестовую выборки\n",
    "X_train, X_test, y_train, y_test = train_test_split(\n",
    "    features, target, test_size=0.1, random_state=42, shuffle=False  # Без перемешивания данных\n",
    ")\n",
    "\n",
    "# Вывод размеров выборок\n",
    "print(f\"Размер обучающей выборки: {len(X_train)}, тестовой выборки: {len(X_test)}\")\n"
   ]
  },
  {
   "cell_type": "code",
   "execution_count": 11,
   "metadata": {},
   "outputs": [
    {
     "name": "stdout",
     "output_type": "stream",
     "text": [
      "Размер обучающей выборки: 3952, тестовой выборки: 440\n"
     ]
    }
   ],
   "source": [
    "# Копирование временного ряда\n",
    "df = data_resampled.copy()\n",
    "\n",
    "# Создание календарных признаков\n",
    "df['hour'] = df.index.hour  # Часы дня\n",
    "df['day_of_week'] = df.index.dayofweek  # День недели (0=Понедельник)\n",
    "df['day'] = df.index.day  # День в месяце\n",
    "\n",
    "# --- Создание лаговых признаков (значения из предыдущих точек временного ряда) ---\n",
    "max_lag = 24  # Лаг на сутки (также можно попробовать 168 для недели)\n",
    "\n",
    "for lag in range(1, max_lag + 1):\n",
    "    df[f'lag_{lag}'] = df[data_resampled.columns[0]].shift(lag)  # Создание лагов\n",
    "\n",
    "# --- Создание признаков скользящего среднего ---\n",
    "rolling_mean_size = 24  # Скользящее среднее на сутки (или можно 168 для недели)\n",
    "df[f'rolling_mean_{rolling_mean_size}'] = df[data_resampled.columns[0]].rolling(rolling_mean_size).mean()\n",
    "\n",
    "# Удаление строк с NaN, которые появляются из-за лагов и скользящего среднего\n",
    "df = df.dropna()\n",
    "\n",
    "# Целевой признак (значения за каждый час/день)\n",
    "target = df[data_resampled.columns[0]]\n",
    "\n",
    "# Матрица признаков (удаляем целевой признак)\n",
    "features = df.drop(columns=[data_resampled.columns[0]])\n",
    "\n",
    "# --- Разделение данных на обучающую и тестовую выборки ---\n",
    "X_train, X_test, y_train, y_test = train_test_split(\n",
    "    features, target, test_size=0.1, random_state=42, shuffle=False  # shuffle=False — без перемешивания\n",
    ")\n",
    "\n",
    "# Вывод размеров выборок\n",
    "print(f\"Размер обучающей выборки: {len(X_train)}, тестовой выборки: {len(X_test)}\")\n"
   ]
  },
  {
   "cell_type": "markdown",
   "metadata": {},
   "source": [
    "### Обучение моделей"
   ]
  },
  {
   "cell_type": "markdown",
   "metadata": {},
   "source": [
    "#### Оптимизация гиперпараметров"
   ]
  },
  {
   "cell_type": "code",
   "execution_count": 12,
   "metadata": {},
   "outputs": [
    {
     "name": "stdout",
     "output_type": "stream",
     "text": [
      "\n",
      "*** Обучение модели RandomForest ***\n",
      "Fitting 5 folds for each of 18 candidates, totalling 90 fits\n",
      "Лучшие параметры для RandomForest: {'max_depth': None, 'min_samples_split': 2, 'n_estimators': 200}\n",
      "RMSE на кросс-валидации (RandomForest): 25.117620816445243\n",
      "\n",
      "*** Обучение модели GradientBoosting ***\n",
      "Fitting 5 folds for each of 27 candidates, totalling 135 fits\n",
      "Лучшие параметры для GradientBoosting: {'learning_rate': 0.1, 'max_depth': 5, 'n_estimators': 200}\n",
      "RMSE на кросс-валидации (GradientBoosting): 24.68118803393189\n",
      "\n",
      "*** Обучение модели XGBoost ***\n",
      "Fitting 5 folds for each of 27 candidates, totalling 135 fits\n",
      "Лучшие параметры для XGBoost: {'learning_rate': 0.1, 'max_depth': 3, 'n_estimators': 200}\n",
      "RMSE на кросс-валидации (XGBoost): 24.64660318235299\n"
     ]
    }
   ],
   "source": [
    "# Задаем гиперпараметры для разных моделей\n",
    "param_grids = {\n",
    "    'RandomForest': {\n",
    "        'n_estimators': [50, 100, 200],\n",
    "        'max_depth': [5, 10, None],\n",
    "        'min_samples_split': [2, 5]\n",
    "    },\n",
    "    'GradientBoosting': {\n",
    "        'n_estimators': [50, 100, 200],\n",
    "        'learning_rate': [0.01, 0.1, 0.2],\n",
    "        'max_depth': [3, 5, 7]\n",
    "    },\n",
    "    'XGBoost': {\n",
    "        'n_estimators': [50, 100, 200],\n",
    "        'learning_rate': [0.01, 0.1, 0.2],\n",
    "        'max_depth': [3, 5, 7]\n",
    "    }\n",
    "}\n",
    "\n",
    "# Создаем TimeSeriesSplit для временных рядов\n",
    "tscv = TimeSeriesSplit(n_splits=5)\n",
    "\n",
    "# Создаем словарь моделей\n",
    "models = {\n",
    "    'RandomForest': RandomForestRegressor(random_state=42),\n",
    "    'GradientBoosting': GradientBoostingRegressor(random_state=42),\n",
    "    'XGBoost': XGBRegressor(random_state=42)\n",
    "}\n",
    "\n",
    "best_model = None\n",
    "best_score = float('inf')\n",
    "best_model_name = None\n",
    "\n",
    "# Проходимся по каждой модели\n",
    "for model_name, model in models.items():\n",
    "    print(f\"\\n*** Обучение модели {model_name} ***\")\n",
    "    \n",
    "    # Оптимизация гиперпараметров для текущей модели\n",
    "    grid_search = GridSearchCV(\n",
    "        estimator=model,\n",
    "        param_grid=param_grids[model_name],\n",
    "        scoring='neg_mean_squared_error',\n",
    "        cv=tscv,\n",
    "        verbose=1\n",
    "    )\n",
    "    \n",
    "    # Обучение модели\n",
    "    grid_search.fit(X_train, y_train)\n",
    "    \n",
    "    # Получение наилучших гиперпараметров и оценки\n",
    "    current_rmse = np.sqrt(-grid_search.best_score_)\n",
    "    print(f\"Лучшие параметры для {model_name}: {grid_search.best_params_}\")\n",
    "    print(f\"RMSE на кросс-валидации ({model_name}): {current_rmse}\")\n",
    "    \n",
    "    # Сравнение метрик\n",
    "    if current_rmse < best_score:\n",
    "        best_score = current_rmse\n",
    "        best_model = grid_search.best_estimator_\n",
    "        best_model_name = model_name"
   ]
  },
  {
   "cell_type": "markdown",
   "metadata": {},
   "source": [
    "## Тестирование"
   ]
  },
  {
   "cell_type": "code",
   "execution_count": 13,
   "metadata": {},
   "outputs": [
    {
     "name": "stdout",
     "output_type": "stream",
     "text": [
      "\n",
      "*** Лучшая модель: XGBoost ***\n",
      "Лучшее RMSE на кросс-валидации: 24.64660318235299\n",
      "RMSE на тестовой выборке (XGBoost): 42.304489956780245\n"
     ]
    }
   ],
   "source": [
    "# Финальное тестирование на тестовых данных\n",
    "y_pred = best_model.predict(X_test)\n",
    "final_rmse = np.sqrt(mean_squared_error(y_test, y_pred))\n",
    "print(f\"\\n*** Лучшая модель: {best_model_name} ***\")\n",
    "print(f\"Лучшее RMSE на кросс-валидации: {best_score}\")\n",
    "print(f\"RMSE на тестовой выборке ({best_model_name}): {final_rmse}\")"
   ]
  },
  {
   "cell_type": "markdown",
   "metadata": {},
   "source": [
    "В ходе анализа было установлено, что лучшей моделью для предсказания целевой переменной оказалась RandomForest. На этапе кросс-валидации модель показала наилучший результат с метрикой RMSE, равной 24.6466\n",
    "\n",
    "Заключение:\n",
    "Целевое значение RMSE (<48) было достигнуто обеими моделями. Однако, случайный лес оказался лучшей моделью и именно эта модель рекомендуется для использования в прогнозировании количества заказов такси."
   ]
  }
 ],
 "metadata": {
  "ExecuteTimeLog": [
   {
    "duration": 439,
    "start_time": "2024-12-12T17:17:15.249Z"
   },
   {
    "duration": 101,
    "start_time": "2024-12-12T17:17:18.409Z"
   },
   {
    "duration": 60,
    "start_time": "2024-12-12T17:17:25.338Z"
   },
   {
    "duration": 884,
    "start_time": "2024-12-12T17:18:23.480Z"
   },
   {
    "duration": 9,
    "start_time": "2024-12-12T17:20:26.329Z"
   },
   {
    "duration": 8,
    "start_time": "2024-12-12T17:20:40.608Z"
   },
   {
    "duration": 12,
    "start_time": "2024-12-12T17:21:40.592Z"
   },
   {
    "duration": 269,
    "start_time": "2024-12-12T17:23:12.436Z"
   },
   {
    "duration": 201,
    "start_time": "2024-12-12T17:24:10.569Z"
   },
   {
    "duration": 677,
    "start_time": "2024-12-12T17:26:34.864Z"
   },
   {
    "duration": 2,
    "start_time": "2024-12-12T17:27:11.360Z"
   },
   {
    "duration": 2,
    "start_time": "2024-12-12T17:28:10.327Z"
   },
   {
    "duration": 37,
    "start_time": "2024-12-12T17:28:35.727Z"
   },
   {
    "duration": 2,
    "start_time": "2024-12-12T17:32:18.486Z"
   },
   {
    "duration": 411,
    "start_time": "2024-12-12T17:32:47.989Z"
   },
   {
    "duration": 2,
    "start_time": "2024-12-12T17:35:58.341Z"
   },
   {
    "duration": 15229,
    "start_time": "2024-12-12T17:36:18.788Z"
   },
   {
    "duration": 226,
    "start_time": "2024-12-12T17:36:43.981Z"
   },
   {
    "duration": 5,
    "start_time": "2024-12-12T17:39:01.213Z"
   },
   {
    "duration": 7,
    "start_time": "2024-12-12T17:40:09.158Z"
   },
   {
    "duration": 3,
    "start_time": "2024-12-12T17:40:29.636Z"
   },
   {
    "duration": 316,
    "start_time": "2024-12-12T17:40:50.325Z"
   },
   {
    "duration": 1541,
    "start_time": "2024-12-13T07:20:05.415Z"
   },
   {
    "duration": 169,
    "start_time": "2024-12-13T07:20:06.958Z"
   },
   {
    "duration": 272,
    "start_time": "2024-12-13T07:20:07.129Z"
   },
   {
    "duration": 8,
    "start_time": "2024-12-13T07:20:07.403Z"
   },
   {
    "duration": 50,
    "start_time": "2024-12-13T07:20:07.413Z"
   },
   {
    "duration": 230,
    "start_time": "2024-12-13T07:20:07.465Z"
   },
   {
    "duration": 142,
    "start_time": "2024-12-13T07:20:07.697Z"
   },
   {
    "duration": 11,
    "start_time": "2024-12-13T07:20:07.841Z"
   },
   {
    "duration": 125,
    "start_time": "2024-12-13T07:20:07.854Z"
   },
   {
    "duration": 0,
    "start_time": "2024-12-13T07:20:07.981Z"
   },
   {
    "duration": 0,
    "start_time": "2024-12-13T07:20:07.982Z"
   },
   {
    "duration": 0,
    "start_time": "2024-12-13T07:20:07.984Z"
   },
   {
    "duration": 0,
    "start_time": "2024-12-13T07:20:07.985Z"
   },
   {
    "duration": 1296,
    "start_time": "2024-12-13T07:21:31.390Z"
   },
   {
    "duration": 61,
    "start_time": "2024-12-13T07:21:32.688Z"
   },
   {
    "duration": 285,
    "start_time": "2024-12-13T07:21:32.750Z"
   },
   {
    "duration": 16,
    "start_time": "2024-12-13T07:21:33.037Z"
   },
   {
    "duration": 11,
    "start_time": "2024-12-13T07:21:33.054Z"
   },
   {
    "duration": 249,
    "start_time": "2024-12-13T07:21:33.066Z"
   },
   {
    "duration": 152,
    "start_time": "2024-12-13T07:21:33.317Z"
   },
   {
    "duration": 5,
    "start_time": "2024-12-13T07:21:33.470Z"
   },
   {
    "duration": 41,
    "start_time": "2024-12-13T07:21:33.477Z"
   },
   {
    "duration": 340,
    "start_time": "2024-12-13T07:21:33.521Z"
   },
   {
    "duration": 14504,
    "start_time": "2024-12-13T07:21:33.862Z"
   },
   {
    "duration": 221,
    "start_time": "2024-12-13T07:21:48.367Z"
   },
   {
    "duration": 4,
    "start_time": "2024-12-13T07:21:48.589Z"
   },
   {
    "duration": 6,
    "start_time": "2024-12-13T07:23:03.873Z"
   },
   {
    "duration": 1353,
    "start_time": "2024-12-13T07:33:38.843Z"
   },
   {
    "duration": 59,
    "start_time": "2024-12-13T07:33:40.198Z"
   },
   {
    "duration": 287,
    "start_time": "2024-12-13T07:33:40.258Z"
   },
   {
    "duration": 11,
    "start_time": "2024-12-13T07:33:40.547Z"
   },
   {
    "duration": 29,
    "start_time": "2024-12-13T07:33:40.560Z"
   },
   {
    "duration": 256,
    "start_time": "2024-12-13T07:33:40.591Z"
   },
   {
    "duration": 136,
    "start_time": "2024-12-13T07:33:40.852Z"
   },
   {
    "duration": 480,
    "start_time": "2024-12-13T07:33:40.990Z"
   },
   {
    "duration": 110,
    "start_time": "2024-12-13T07:33:41.471Z"
   },
   {
    "duration": 0,
    "start_time": "2024-12-13T07:33:41.583Z"
   },
   {
    "duration": 0,
    "start_time": "2024-12-13T07:33:41.584Z"
   },
   {
    "duration": 0,
    "start_time": "2024-12-13T07:33:41.585Z"
   },
   {
    "duration": 0,
    "start_time": "2024-12-13T07:33:41.586Z"
   },
   {
    "duration": 16,
    "start_time": "2024-12-13T07:34:00.736Z"
   },
   {
    "duration": 1320,
    "start_time": "2024-12-13T07:34:08.852Z"
   },
   {
    "duration": 61,
    "start_time": "2024-12-13T07:34:10.174Z"
   },
   {
    "duration": 278,
    "start_time": "2024-12-13T07:34:10.237Z"
   },
   {
    "duration": 7,
    "start_time": "2024-12-13T07:34:10.517Z"
   },
   {
    "duration": 30,
    "start_time": "2024-12-13T07:34:10.526Z"
   },
   {
    "duration": 230,
    "start_time": "2024-12-13T07:34:10.557Z"
   },
   {
    "duration": 146,
    "start_time": "2024-12-13T07:34:10.789Z"
   },
   {
    "duration": 1063,
    "start_time": "2024-12-13T07:34:10.937Z"
   },
   {
    "duration": 0,
    "start_time": "2024-12-13T07:34:12.001Z"
   },
   {
    "duration": 0,
    "start_time": "2024-12-13T07:34:12.003Z"
   },
   {
    "duration": 0,
    "start_time": "2024-12-13T07:34:12.004Z"
   },
   {
    "duration": 0,
    "start_time": "2024-12-13T07:34:12.005Z"
   },
   {
    "duration": 0,
    "start_time": "2024-12-13T07:34:12.006Z"
   },
   {
    "duration": 275,
    "start_time": "2024-12-13T07:35:12.879Z"
   },
   {
    "duration": 7,
    "start_time": "2024-12-13T07:35:36.970Z"
   },
   {
    "duration": 8,
    "start_time": "2024-12-13T07:35:41.196Z"
   },
   {
    "duration": 302,
    "start_time": "2024-12-13T07:35:48.260Z"
   },
   {
    "duration": 14447,
    "start_time": "2024-12-13T07:35:52.757Z"
   },
   {
    "duration": 204,
    "start_time": "2024-12-13T07:36:18.605Z"
   },
   {
    "duration": 6,
    "start_time": "2024-12-13T07:36:23.694Z"
   },
   {
    "duration": 1371,
    "start_time": "2024-12-13T07:37:22.486Z"
   },
   {
    "duration": 73,
    "start_time": "2024-12-13T07:37:23.859Z"
   },
   {
    "duration": 290,
    "start_time": "2024-12-13T07:37:23.934Z"
   },
   {
    "duration": 7,
    "start_time": "2024-12-13T07:37:24.225Z"
   },
   {
    "duration": 30,
    "start_time": "2024-12-13T07:37:24.234Z"
   },
   {
    "duration": 237,
    "start_time": "2024-12-13T07:37:24.265Z"
   },
   {
    "duration": 144,
    "start_time": "2024-12-13T07:37:24.504Z"
   },
   {
    "duration": 235,
    "start_time": "2024-12-13T07:37:24.650Z"
   },
   {
    "duration": 102,
    "start_time": "2024-12-13T07:37:24.956Z"
   },
   {
    "duration": 2470,
    "start_time": "2024-12-13T07:37:25.060Z"
   },
   {
    "duration": 1317,
    "start_time": "2024-12-13T07:38:11.858Z"
   },
   {
    "duration": 60,
    "start_time": "2024-12-13T07:38:13.178Z"
   },
   {
    "duration": 281,
    "start_time": "2024-12-13T07:38:13.239Z"
   },
   {
    "duration": 7,
    "start_time": "2024-12-13T07:38:13.522Z"
   },
   {
    "duration": 24,
    "start_time": "2024-12-13T07:38:13.531Z"
   },
   {
    "duration": 258,
    "start_time": "2024-12-13T07:38:13.556Z"
   },
   {
    "duration": 190,
    "start_time": "2024-12-13T07:38:13.816Z"
   },
   {
    "duration": 968,
    "start_time": "2024-12-13T07:38:14.008Z"
   },
   {
    "duration": 0,
    "start_time": "2024-12-13T07:38:14.978Z"
   },
   {
    "duration": 0,
    "start_time": "2024-12-13T07:38:14.979Z"
   },
   {
    "duration": 0,
    "start_time": "2024-12-13T07:38:14.981Z"
   },
   {
    "duration": 0,
    "start_time": "2024-12-13T07:38:14.982Z"
   },
   {
    "duration": 0,
    "start_time": "2024-12-13T07:38:14.983Z"
   },
   {
    "duration": 1730,
    "start_time": "2024-12-16T14:53:41.121Z"
   },
   {
    "duration": 113,
    "start_time": "2024-12-16T14:53:42.854Z"
   },
   {
    "duration": 302,
    "start_time": "2024-12-16T14:53:42.968Z"
   },
   {
    "duration": 8,
    "start_time": "2024-12-16T14:53:43.272Z"
   },
   {
    "duration": 20,
    "start_time": "2024-12-16T14:53:43.282Z"
   },
   {
    "duration": 288,
    "start_time": "2024-12-16T14:53:43.304Z"
   },
   {
    "duration": 168,
    "start_time": "2024-12-16T14:53:43.594Z"
   },
   {
    "duration": 6,
    "start_time": "2024-12-16T14:53:43.764Z"
   },
   {
    "duration": 8,
    "start_time": "2024-12-16T14:53:43.772Z"
   },
   {
    "duration": 434,
    "start_time": "2024-12-16T14:53:43.782Z"
   },
   {
    "duration": 15784,
    "start_time": "2024-12-16T14:53:44.218Z"
   },
   {
    "duration": 230,
    "start_time": "2024-12-16T14:54:00.004Z"
   },
   {
    "duration": 6,
    "start_time": "2024-12-16T14:54:00.236Z"
   },
   {
    "duration": 121,
    "start_time": "2024-12-16T15:13:00.166Z"
   },
   {
    "duration": 1446,
    "start_time": "2024-12-16T15:13:08.786Z"
   },
   {
    "duration": 63,
    "start_time": "2024-12-16T15:13:10.234Z"
   },
   {
    "duration": 292,
    "start_time": "2024-12-16T15:13:10.299Z"
   },
   {
    "duration": 10,
    "start_time": "2024-12-16T15:13:10.594Z"
   },
   {
    "duration": 32,
    "start_time": "2024-12-16T15:13:10.606Z"
   },
   {
    "duration": 278,
    "start_time": "2024-12-16T15:13:10.640Z"
   },
   {
    "duration": 150,
    "start_time": "2024-12-16T15:13:10.919Z"
   },
   {
    "duration": 126,
    "start_time": "2024-12-16T15:13:11.070Z"
   },
   {
    "duration": 0,
    "start_time": "2024-12-16T15:13:11.198Z"
   },
   {
    "duration": 0,
    "start_time": "2024-12-16T15:13:11.199Z"
   },
   {
    "duration": 0,
    "start_time": "2024-12-16T15:13:11.200Z"
   },
   {
    "duration": 1,
    "start_time": "2024-12-16T15:13:11.201Z"
   },
   {
    "duration": 0,
    "start_time": "2024-12-16T15:13:11.202Z"
   },
   {
    "duration": 5,
    "start_time": "2024-12-16T15:13:35.748Z"
   },
   {
    "duration": 1927,
    "start_time": "2024-12-16T15:14:41.723Z"
   },
   {
    "duration": 5,
    "start_time": "2024-12-16T15:16:12.548Z"
   },
   {
    "duration": 8,
    "start_time": "2024-12-16T15:17:13.457Z"
   },
   {
    "duration": 1435,
    "start_time": "2024-12-16T15:17:42.095Z"
   },
   {
    "duration": 62,
    "start_time": "2024-12-16T15:17:43.532Z"
   },
   {
    "duration": 293,
    "start_time": "2024-12-16T15:17:43.595Z"
   },
   {
    "duration": 8,
    "start_time": "2024-12-16T15:17:43.891Z"
   },
   {
    "duration": 30,
    "start_time": "2024-12-16T15:17:43.900Z"
   },
   {
    "duration": 273,
    "start_time": "2024-12-16T15:17:43.932Z"
   },
   {
    "duration": 161,
    "start_time": "2024-12-16T15:17:44.206Z"
   },
   {
    "duration": 6,
    "start_time": "2024-12-16T15:17:44.368Z"
   },
   {
    "duration": 596,
    "start_time": "2024-12-16T15:17:44.376Z"
   },
   {
    "duration": 5,
    "start_time": "2024-12-16T15:17:44.975Z"
   },
   {
    "duration": 17,
    "start_time": "2024-12-16T15:17:44.981Z"
   },
   {
    "duration": 370,
    "start_time": "2024-12-16T15:17:45.000Z"
   },
   {
    "duration": 15616,
    "start_time": "2024-12-16T15:17:45.372Z"
   },
   {
    "duration": 212,
    "start_time": "2024-12-16T15:18:00.990Z"
   },
   {
    "duration": 6,
    "start_time": "2024-12-16T15:18:01.205Z"
   },
   {
    "duration": 22442,
    "start_time": "2024-12-16T15:20:43.758Z"
   },
   {
    "duration": 14,
    "start_time": "2024-12-16T15:21:06.202Z"
   },
   {
    "duration": 13,
    "start_time": "2024-12-16T15:22:10.150Z"
   },
   {
    "duration": 675,
    "start_time": "2024-12-16T15:22:29.874Z"
   },
   {
    "duration": 1438,
    "start_time": "2024-12-16T15:23:12.398Z"
   },
   {
    "duration": 61,
    "start_time": "2024-12-16T15:23:13.838Z"
   },
   {
    "duration": 303,
    "start_time": "2024-12-16T15:23:13.900Z"
   },
   {
    "duration": 8,
    "start_time": "2024-12-16T15:23:14.205Z"
   },
   {
    "duration": 25,
    "start_time": "2024-12-16T15:23:14.215Z"
   },
   {
    "duration": 277,
    "start_time": "2024-12-16T15:23:14.242Z"
   },
   {
    "duration": 157,
    "start_time": "2024-12-16T15:23:14.520Z"
   },
   {
    "duration": 8,
    "start_time": "2024-12-16T15:23:14.681Z"
   },
   {
    "duration": 22022,
    "start_time": "2024-12-16T15:23:14.692Z"
   },
   {
    "duration": 27,
    "start_time": "2024-12-16T15:23:36.715Z"
   },
   {
    "duration": 12,
    "start_time": "2024-12-16T15:23:36.744Z"
   },
   {
    "duration": 654,
    "start_time": "2024-12-16T15:23:36.757Z"
   },
   {
    "duration": 227,
    "start_time": "2024-12-16T15:23:37.413Z"
   },
   {
    "duration": 6,
    "start_time": "2024-12-16T15:23:37.642Z"
   },
   {
    "duration": 117,
    "start_time": "2024-12-16T15:24:44.309Z"
   },
   {
    "duration": 4,
    "start_time": "2024-12-16T15:26:14.792Z"
   },
   {
    "duration": 6,
    "start_time": "2024-12-16T15:27:23.112Z"
   },
   {
    "duration": 63,
    "start_time": "2024-12-16T15:31:55.015Z"
   },
   {
    "duration": 56,
    "start_time": "2024-12-16T15:32:21.767Z"
   },
   {
    "duration": 1449,
    "start_time": "2024-12-16T15:32:57.126Z"
   },
   {
    "duration": 57,
    "start_time": "2024-12-16T15:33:16.821Z"
   },
   {
    "duration": 54,
    "start_time": "2024-12-16T15:33:31.522Z"
   },
   {
    "duration": 58,
    "start_time": "2024-12-16T15:34:30.175Z"
   },
   {
    "duration": 1646,
    "start_time": "2024-12-16T15:34:39.212Z"
   },
   {
    "duration": 61,
    "start_time": "2024-12-16T15:34:40.860Z"
   },
   {
    "duration": 115,
    "start_time": "2024-12-16T15:34:40.923Z"
   },
   {
    "duration": 0,
    "start_time": "2024-12-16T15:34:41.040Z"
   },
   {
    "duration": 0,
    "start_time": "2024-12-16T15:34:41.041Z"
   },
   {
    "duration": 0,
    "start_time": "2024-12-16T15:34:41.043Z"
   },
   {
    "duration": 0,
    "start_time": "2024-12-16T15:34:41.044Z"
   },
   {
    "duration": 0,
    "start_time": "2024-12-16T15:34:41.045Z"
   },
   {
    "duration": 0,
    "start_time": "2024-12-16T15:34:41.046Z"
   },
   {
    "duration": 0,
    "start_time": "2024-12-16T15:34:41.047Z"
   },
   {
    "duration": 0,
    "start_time": "2024-12-16T15:34:41.048Z"
   },
   {
    "duration": 0,
    "start_time": "2024-12-16T15:34:41.050Z"
   },
   {
    "duration": 0,
    "start_time": "2024-12-16T15:34:41.051Z"
   },
   {
    "duration": 0,
    "start_time": "2024-12-16T15:34:41.052Z"
   },
   {
    "duration": 1528,
    "start_time": "2024-12-16T15:35:13.622Z"
   },
   {
    "duration": 62,
    "start_time": "2024-12-16T15:35:15.153Z"
   },
   {
    "duration": 122,
    "start_time": "2024-12-16T15:35:15.217Z"
   },
   {
    "duration": 0,
    "start_time": "2024-12-16T15:35:15.341Z"
   },
   {
    "duration": 0,
    "start_time": "2024-12-16T15:35:15.343Z"
   },
   {
    "duration": 0,
    "start_time": "2024-12-16T15:35:15.344Z"
   },
   {
    "duration": 0,
    "start_time": "2024-12-16T15:35:15.345Z"
   },
   {
    "duration": 0,
    "start_time": "2024-12-16T15:35:15.346Z"
   },
   {
    "duration": 0,
    "start_time": "2024-12-16T15:35:15.347Z"
   },
   {
    "duration": 0,
    "start_time": "2024-12-16T15:35:15.348Z"
   },
   {
    "duration": 0,
    "start_time": "2024-12-16T15:35:15.349Z"
   },
   {
    "duration": 0,
    "start_time": "2024-12-16T15:35:15.350Z"
   },
   {
    "duration": 0,
    "start_time": "2024-12-16T15:35:15.351Z"
   },
   {
    "duration": 0,
    "start_time": "2024-12-16T15:35:15.352Z"
   },
   {
    "duration": 12,
    "start_time": "2024-12-16T15:35:30.605Z"
   },
   {
    "duration": 56,
    "start_time": "2024-12-16T15:35:41.282Z"
   },
   {
    "duration": 322,
    "start_time": "2024-12-16T15:35:44.484Z"
   },
   {
    "duration": 1463,
    "start_time": "2024-12-16T15:35:50.739Z"
   },
   {
    "duration": 62,
    "start_time": "2024-12-16T15:35:52.204Z"
   },
   {
    "duration": 301,
    "start_time": "2024-12-16T15:35:52.267Z"
   },
   {
    "duration": 14,
    "start_time": "2024-12-16T15:35:52.569Z"
   },
   {
    "duration": 48,
    "start_time": "2024-12-16T15:35:52.585Z"
   },
   {
    "duration": 289,
    "start_time": "2024-12-16T15:35:52.634Z"
   },
   {
    "duration": 178,
    "start_time": "2024-12-16T15:35:52.924Z"
   },
   {
    "duration": 6,
    "start_time": "2024-12-16T15:35:53.103Z"
   },
   {
    "duration": 22652,
    "start_time": "2024-12-16T15:35:53.110Z"
   },
   {
    "duration": 14,
    "start_time": "2024-12-16T15:36:15.764Z"
   },
   {
    "duration": 30,
    "start_time": "2024-12-16T15:36:15.780Z"
   },
   {
    "duration": 700,
    "start_time": "2024-12-16T15:36:15.811Z"
   },
   {
    "duration": 218,
    "start_time": "2024-12-16T15:36:16.513Z"
   },
   {
    "duration": 6,
    "start_time": "2024-12-16T15:36:16.734Z"
   },
   {
    "duration": 298,
    "start_time": "2024-12-16T15:36:53.901Z"
   },
   {
    "duration": 1401,
    "start_time": "2024-12-16T15:37:02.384Z"
   },
   {
    "duration": 65,
    "start_time": "2024-12-16T15:37:03.787Z"
   },
   {
    "duration": 314,
    "start_time": "2024-12-16T15:37:03.854Z"
   },
   {
    "duration": 14,
    "start_time": "2024-12-16T15:37:04.170Z"
   },
   {
    "duration": 19,
    "start_time": "2024-12-16T15:37:04.186Z"
   },
   {
    "duration": 302,
    "start_time": "2024-12-16T15:37:04.206Z"
   },
   {
    "duration": 179,
    "start_time": "2024-12-16T15:37:04.510Z"
   },
   {
    "duration": 9,
    "start_time": "2024-12-16T15:37:04.692Z"
   },
   {
    "duration": 22820,
    "start_time": "2024-12-16T15:37:04.703Z"
   },
   {
    "duration": 13,
    "start_time": "2024-12-16T15:37:27.529Z"
   },
   {
    "duration": 16,
    "start_time": "2024-12-16T15:37:27.544Z"
   },
   {
    "duration": 677,
    "start_time": "2024-12-16T15:37:27.562Z"
   },
   {
    "duration": 329,
    "start_time": "2024-12-16T15:37:28.241Z"
   },
   {
    "duration": 6,
    "start_time": "2024-12-16T15:37:28.572Z"
   },
   {
    "duration": 3162,
    "start_time": "2024-12-16T15:41:33.756Z"
   },
   {
    "duration": 69,
    "start_time": "2024-12-16T15:41:36.920Z"
   },
   {
    "duration": 304,
    "start_time": "2024-12-16T15:41:36.990Z"
   },
   {
    "duration": 13,
    "start_time": "2024-12-16T15:41:37.296Z"
   },
   {
    "duration": 31,
    "start_time": "2024-12-16T15:41:37.312Z"
   },
   {
    "duration": 290,
    "start_time": "2024-12-16T15:41:37.345Z"
   },
   {
    "duration": 181,
    "start_time": "2024-12-16T15:41:37.637Z"
   },
   {
    "duration": 12,
    "start_time": "2024-12-16T15:41:37.820Z"
   },
   {
    "duration": 22749,
    "start_time": "2024-12-16T15:41:37.833Z"
   },
   {
    "duration": 13,
    "start_time": "2024-12-16T15:42:00.584Z"
   },
   {
    "duration": 27,
    "start_time": "2024-12-16T15:42:00.599Z"
   },
   {
    "duration": 695,
    "start_time": "2024-12-16T15:42:00.629Z"
   },
   {
    "duration": 290,
    "start_time": "2024-12-16T15:42:01.330Z"
   },
   {
    "duration": 11,
    "start_time": "2024-12-16T15:42:01.623Z"
   },
   {
    "duration": 3,
    "start_time": "2024-12-16T15:45:00.521Z"
   },
   {
    "duration": 6,
    "start_time": "2024-12-16T15:46:24.817Z"
   },
   {
    "duration": 5,
    "start_time": "2024-12-16T15:46:35.400Z"
   },
   {
    "duration": 44310,
    "start_time": "2024-12-16T15:46:51.103Z"
   },
   {
    "duration": 1619,
    "start_time": "2024-12-17T17:28:21.314Z"
   },
   {
    "duration": 112,
    "start_time": "2024-12-17T17:28:25.562Z"
   },
   {
    "duration": 58,
    "start_time": "2024-12-17T17:28:39.448Z"
   },
   {
    "duration": 53,
    "start_time": "2024-12-17T17:28:48.203Z"
   },
   {
    "duration": 54,
    "start_time": "2024-12-17T17:28:53.979Z"
   },
   {
    "duration": 3,
    "start_time": "2024-12-17T17:28:57.561Z"
   },
   {
    "duration": 1363,
    "start_time": "2024-12-17T17:29:00.711Z"
   },
   {
    "duration": 62,
    "start_time": "2024-12-17T17:29:02.076Z"
   },
   {
    "duration": 306,
    "start_time": "2024-12-17T17:29:02.140Z"
   },
   {
    "duration": 13,
    "start_time": "2024-12-17T17:29:02.449Z"
   },
   {
    "duration": 42,
    "start_time": "2024-12-17T17:29:02.463Z"
   },
   {
    "duration": 292,
    "start_time": "2024-12-17T17:29:02.507Z"
   },
   {
    "duration": 234,
    "start_time": "2024-12-17T17:29:02.800Z"
   },
   {
    "duration": 5,
    "start_time": "2024-12-17T17:29:03.035Z"
   },
   {
    "duration": 21697,
    "start_time": "2024-12-17T17:29:03.041Z"
   },
   {
    "duration": 12,
    "start_time": "2024-12-17T17:29:24.740Z"
   },
   {
    "duration": 10,
    "start_time": "2024-12-17T17:29:24.753Z"
   },
   {
    "duration": 594,
    "start_time": "2024-12-17T17:29:24.765Z"
   },
   {
    "duration": 289,
    "start_time": "2024-12-17T17:29:25.361Z"
   },
   {
    "duration": 6,
    "start_time": "2024-12-17T17:29:25.652Z"
   },
   {
    "duration": 17,
    "start_time": "2024-12-17T17:29:55.663Z"
   },
   {
    "duration": 14,
    "start_time": "2024-12-17T17:30:04.390Z"
   },
   {
    "duration": 791,
    "start_time": "2024-12-17T17:32:18.944Z"
   },
   {
    "duration": 270,
    "start_time": "2024-12-17T17:32:53.302Z"
   },
   {
    "duration": 160,
    "start_time": "2024-12-17T17:33:35.700Z"
   },
   {
    "duration": 4,
    "start_time": "2024-12-17T17:35:00.588Z"
   },
   {
    "duration": 1354,
    "start_time": "2024-12-17T17:35:04.090Z"
   },
   {
    "duration": 61,
    "start_time": "2024-12-17T17:35:05.446Z"
   },
   {
    "duration": 275,
    "start_time": "2024-12-17T17:35:05.508Z"
   },
   {
    "duration": 12,
    "start_time": "2024-12-17T17:35:05.785Z"
   },
   {
    "duration": 29,
    "start_time": "2024-12-17T17:35:05.798Z"
   },
   {
    "duration": 829,
    "start_time": "2024-12-17T17:35:05.829Z"
   },
   {
    "duration": 340,
    "start_time": "2024-12-17T17:35:06.660Z"
   },
   {
    "duration": 163,
    "start_time": "2024-12-17T17:35:07.002Z"
   },
   {
    "duration": 6,
    "start_time": "2024-12-17T17:35:07.167Z"
   },
   {
    "duration": 20911,
    "start_time": "2024-12-17T17:35:07.176Z"
   },
   {
    "duration": 13,
    "start_time": "2024-12-17T17:35:28.088Z"
   },
   {
    "duration": 23,
    "start_time": "2024-12-17T17:35:28.103Z"
   },
   {
    "duration": 608,
    "start_time": "2024-12-17T17:35:28.128Z"
   },
   {
    "duration": 257,
    "start_time": "2024-12-17T17:35:28.737Z"
   },
   {
    "duration": 5,
    "start_time": "2024-12-17T17:35:28.995Z"
   },
   {
    "duration": 17,
    "start_time": "2024-12-17T17:47:58.890Z"
   },
   {
    "duration": 50898,
    "start_time": "2024-12-17T17:49:27.145Z"
   },
   {
    "duration": 51439,
    "start_time": "2024-12-17T17:50:30.073Z"
   },
   {
    "duration": 65468,
    "start_time": "2024-12-17T17:51:33.531Z"
   },
   {
    "duration": 115,
    "start_time": "2024-12-17T17:55:02.447Z"
   },
   {
    "duration": 560423,
    "start_time": "2024-12-17T18:04:56.422Z"
   },
   {
    "duration": 39,
    "start_time": "2024-12-17T18:14:16.846Z"
   },
   {
    "duration": 1695,
    "start_time": "2024-12-18T18:58:04.871Z"
   },
   {
    "duration": 115,
    "start_time": "2024-12-18T18:58:06.569Z"
   },
   {
    "duration": 332,
    "start_time": "2024-12-18T18:58:06.686Z"
   },
   {
    "duration": 12,
    "start_time": "2024-12-18T18:58:07.020Z"
   },
   {
    "duration": 85,
    "start_time": "2024-12-18T18:58:07.033Z"
   },
   {
    "duration": 999,
    "start_time": "2024-12-18T18:58:07.119Z"
   },
   {
    "duration": 2039,
    "start_time": "2024-12-18T18:58:08.120Z"
   },
   {
    "duration": 0,
    "start_time": "2024-12-18T18:58:10.162Z"
   },
   {
    "duration": 0,
    "start_time": "2024-12-18T18:58:10.164Z"
   },
   {
    "duration": 0,
    "start_time": "2024-12-18T18:58:10.166Z"
   },
   {
    "duration": 0,
    "start_time": "2024-12-18T18:58:10.168Z"
   },
   {
    "duration": 0,
    "start_time": "2024-12-18T18:58:10.171Z"
   },
   {
    "duration": 2011,
    "start_time": "2024-12-18T18:59:52.475Z"
   },
   {
    "duration": 1255,
    "start_time": "2024-12-18T19:00:21.277Z"
   },
   {
    "duration": 794,
    "start_time": "2024-12-18T19:01:26.847Z"
   },
   {
    "duration": 766,
    "start_time": "2024-12-18T19:02:19.851Z"
   },
   {
    "duration": 193,
    "start_time": "2024-12-18T19:03:14.322Z"
   },
   {
    "duration": 159,
    "start_time": "2024-12-18T19:03:30.085Z"
   },
   {
    "duration": 17,
    "start_time": "2024-12-18T19:03:46.936Z"
   },
   {
    "duration": 1489,
    "start_time": "2024-12-18T19:03:56.352Z"
   },
   {
    "duration": 62,
    "start_time": "2024-12-18T19:03:57.843Z"
   },
   {
    "duration": 300,
    "start_time": "2024-12-18T19:03:57.907Z"
   },
   {
    "duration": 12,
    "start_time": "2024-12-18T19:03:58.209Z"
   },
   {
    "duration": 20,
    "start_time": "2024-12-18T19:03:58.223Z"
   },
   {
    "duration": 978,
    "start_time": "2024-12-18T19:03:58.244Z"
   },
   {
    "duration": 1166,
    "start_time": "2024-12-18T19:03:59.224Z"
   },
   {
    "duration": 1061,
    "start_time": "2024-12-18T19:04:00.393Z"
   },
   {
    "duration": 408,
    "start_time": "2024-12-18T19:04:01.456Z"
   },
   {
    "duration": 330,
    "start_time": "2024-12-18T19:04:01.867Z"
   },
   {
    "duration": 324,
    "start_time": "2024-12-18T19:04:02.199Z"
   },
   {
    "duration": 0,
    "start_time": "2024-12-18T19:04:02.554Z"
   },
   {
    "duration": 0,
    "start_time": "2024-12-18T19:04:02.556Z"
   },
   {
    "duration": 1584,
    "start_time": "2024-12-18T19:04:39.160Z"
   },
   {
    "duration": 67,
    "start_time": "2024-12-18T19:04:40.746Z"
   },
   {
    "duration": 326,
    "start_time": "2024-12-18T19:04:40.815Z"
   },
   {
    "duration": 25,
    "start_time": "2024-12-18T19:04:41.143Z"
   },
   {
    "duration": 19,
    "start_time": "2024-12-18T19:04:41.170Z"
   },
   {
    "duration": 433,
    "start_time": "2024-12-18T19:04:41.192Z"
   },
   {
    "duration": 0,
    "start_time": "2024-12-18T19:04:41.626Z"
   },
   {
    "duration": 0,
    "start_time": "2024-12-18T19:04:41.628Z"
   },
   {
    "duration": 0,
    "start_time": "2024-12-18T19:04:41.629Z"
   },
   {
    "duration": 0,
    "start_time": "2024-12-18T19:04:41.630Z"
   },
   {
    "duration": 0,
    "start_time": "2024-12-18T19:04:41.631Z"
   },
   {
    "duration": 0,
    "start_time": "2024-12-18T19:04:41.632Z"
   },
   {
    "duration": 327,
    "start_time": "2024-12-18T19:05:24.214Z"
   },
   {
    "duration": 1669,
    "start_time": "2024-12-18T19:06:05.154Z"
   },
   {
    "duration": 90,
    "start_time": "2024-12-18T19:06:06.825Z"
   },
   {
    "duration": 324,
    "start_time": "2024-12-18T19:06:06.918Z"
   },
   {
    "duration": 16,
    "start_time": "2024-12-18T19:06:07.244Z"
   },
   {
    "duration": 25,
    "start_time": "2024-12-18T19:06:07.262Z"
   },
   {
    "duration": 903,
    "start_time": "2024-12-18T19:06:07.288Z"
   },
   {
    "duration": 1200,
    "start_time": "2024-12-18T19:06:08.193Z"
   },
   {
    "duration": 1492,
    "start_time": "2024-12-18T19:06:09.395Z"
   },
   {
    "duration": 396,
    "start_time": "2024-12-18T19:06:10.889Z"
   },
   {
    "duration": 332,
    "start_time": "2024-12-18T19:06:11.287Z"
   },
   {
    "duration": 146,
    "start_time": "2024-12-18T19:06:11.621Z"
   },
   {
    "duration": 0,
    "start_time": "2024-12-18T19:06:11.769Z"
   },
   {
    "duration": 0,
    "start_time": "2024-12-18T19:06:11.771Z"
   },
   {
    "duration": 1613,
    "start_time": "2024-12-18T19:07:29.547Z"
   },
   {
    "duration": 62,
    "start_time": "2024-12-18T19:07:31.171Z"
   },
   {
    "duration": 350,
    "start_time": "2024-12-18T19:07:31.234Z"
   },
   {
    "duration": 15,
    "start_time": "2024-12-18T19:07:31.587Z"
   },
   {
    "duration": 25,
    "start_time": "2024-12-18T19:07:31.603Z"
   },
   {
    "duration": 13,
    "start_time": "2024-12-18T19:07:31.629Z"
   },
   {
    "duration": 1306,
    "start_time": "2024-12-18T19:07:31.644Z"
   },
   {
    "duration": 1142,
    "start_time": "2024-12-18T19:07:32.952Z"
   },
   {
    "duration": 370,
    "start_time": "2024-12-18T19:07:34.096Z"
   },
   {
    "duration": 492,
    "start_time": "2024-12-18T19:07:34.469Z"
   },
   {
    "duration": 310,
    "start_time": "2024-12-18T19:07:34.963Z"
   },
   {
    "duration": 0,
    "start_time": "2024-12-18T19:07:35.277Z"
   },
   {
    "duration": 0,
    "start_time": "2024-12-18T19:07:35.278Z"
   },
   {
    "duration": 8,
    "start_time": "2024-12-18T19:11:13.232Z"
   },
   {
    "duration": 567,
    "start_time": "2024-12-18T19:12:26.171Z"
   },
   {
    "duration": 6,
    "start_time": "2024-12-18T19:13:01.529Z"
   },
   {
    "duration": 3,
    "start_time": "2024-12-18T19:13:44.312Z"
   },
   {
    "duration": 1024,
    "start_time": "2024-12-18T19:13:55.611Z"
   },
   {
    "duration": 922,
    "start_time": "2024-12-18T19:14:24.118Z"
   },
   {
    "duration": 567,
    "start_time": "2024-12-18T19:14:50.776Z"
   },
   {
    "duration": 805,
    "start_time": "2024-12-18T19:15:06.695Z"
   },
   {
    "duration": 567,
    "start_time": "2024-12-18T19:15:39.559Z"
   },
   {
    "duration": 534,
    "start_time": "2024-12-18T19:15:53.929Z"
   },
   {
    "duration": 471,
    "start_time": "2024-12-18T19:16:33.921Z"
   },
   {
    "duration": 723,
    "start_time": "2024-12-18T19:16:46.791Z"
   },
   {
    "duration": 138,
    "start_time": "2024-12-18T19:18:01.800Z"
   },
   {
    "duration": 576,
    "start_time": "2024-12-18T19:18:20.450Z"
   },
   {
    "duration": 517,
    "start_time": "2024-12-18T19:18:49.983Z"
   },
   {
    "duration": 524,
    "start_time": "2024-12-18T19:19:46.584Z"
   },
   {
    "duration": 798,
    "start_time": "2024-12-18T19:20:44.606Z"
   },
   {
    "duration": 667,
    "start_time": "2024-12-18T19:21:07.091Z"
   },
   {
    "duration": 1427,
    "start_time": "2024-12-18T19:21:31.278Z"
   },
   {
    "duration": 64,
    "start_time": "2024-12-18T19:21:32.707Z"
   },
   {
    "duration": 289,
    "start_time": "2024-12-18T19:21:32.772Z"
   },
   {
    "duration": 15,
    "start_time": "2024-12-18T19:21:33.064Z"
   },
   {
    "duration": 91,
    "start_time": "2024-12-18T19:21:33.081Z"
   },
   {
    "duration": 836,
    "start_time": "2024-12-18T19:21:33.174Z"
   },
   {
    "duration": 724,
    "start_time": "2024-12-18T19:21:34.012Z"
   },
   {
    "duration": 1539,
    "start_time": "2024-12-18T19:21:34.738Z"
   },
   {
    "duration": 0,
    "start_time": "2024-12-18T19:21:36.279Z"
   },
   {
    "duration": 0,
    "start_time": "2024-12-18T19:21:36.280Z"
   },
   {
    "duration": 0,
    "start_time": "2024-12-18T19:21:36.281Z"
   },
   {
    "duration": 0,
    "start_time": "2024-12-18T19:21:36.282Z"
   },
   {
    "duration": 0,
    "start_time": "2024-12-18T19:21:36.284Z"
   },
   {
    "duration": 0,
    "start_time": "2024-12-18T19:21:36.284Z"
   },
   {
    "duration": 1499,
    "start_time": "2024-12-18T19:23:45.828Z"
   },
   {
    "duration": 59,
    "start_time": "2024-12-18T19:23:47.329Z"
   },
   {
    "duration": 271,
    "start_time": "2024-12-18T19:23:47.390Z"
   },
   {
    "duration": 12,
    "start_time": "2024-12-18T19:23:47.663Z"
   },
   {
    "duration": 27,
    "start_time": "2024-12-18T19:23:47.676Z"
   },
   {
    "duration": 782,
    "start_time": "2024-12-18T19:23:47.705Z"
   },
   {
    "duration": 997,
    "start_time": "2024-12-18T19:23:48.488Z"
   },
   {
    "duration": 1644,
    "start_time": "2024-12-18T19:23:49.487Z"
   },
   {
    "duration": 0,
    "start_time": "2024-12-18T19:23:51.133Z"
   },
   {
    "duration": 1,
    "start_time": "2024-12-18T19:23:51.133Z"
   },
   {
    "duration": 0,
    "start_time": "2024-12-18T19:23:51.134Z"
   },
   {
    "duration": 0,
    "start_time": "2024-12-18T19:23:51.135Z"
   },
   {
    "duration": 0,
    "start_time": "2024-12-18T19:23:51.136Z"
   },
   {
    "duration": 0,
    "start_time": "2024-12-18T19:23:51.138Z"
   },
   {
    "duration": 931,
    "start_time": "2024-12-18T19:24:21.000Z"
   },
   {
    "duration": 1007,
    "start_time": "2024-12-18T19:24:44.182Z"
   },
   {
    "duration": 1356,
    "start_time": "2024-12-18T19:26:08.896Z"
   },
   {
    "duration": 615,
    "start_time": "2024-12-18T19:31:10.920Z"
   },
   {
    "duration": 363,
    "start_time": "2024-12-18T19:32:43.196Z"
   },
   {
    "duration": 1428,
    "start_time": "2024-12-18T19:33:35.541Z"
   },
   {
    "duration": 62,
    "start_time": "2024-12-18T19:33:36.971Z"
   },
   {
    "duration": 289,
    "start_time": "2024-12-18T19:33:37.035Z"
   },
   {
    "duration": 13,
    "start_time": "2024-12-18T19:33:37.326Z"
   },
   {
    "duration": 34,
    "start_time": "2024-12-18T19:33:37.341Z"
   },
   {
    "duration": 371,
    "start_time": "2024-12-18T19:33:37.376Z"
   },
   {
    "duration": 0,
    "start_time": "2024-12-18T19:33:37.748Z"
   },
   {
    "duration": 0,
    "start_time": "2024-12-18T19:33:37.750Z"
   },
   {
    "duration": 0,
    "start_time": "2024-12-18T19:33:37.761Z"
   },
   {
    "duration": 0,
    "start_time": "2024-12-18T19:33:37.762Z"
   },
   {
    "duration": 0,
    "start_time": "2024-12-18T19:33:37.763Z"
   },
   {
    "duration": 0,
    "start_time": "2024-12-18T19:33:37.763Z"
   },
   {
    "duration": 1077,
    "start_time": "2024-12-18T19:34:11.205Z"
   },
   {
    "duration": 1362,
    "start_time": "2024-12-18T19:34:22.885Z"
   },
   {
    "duration": 65,
    "start_time": "2024-12-18T19:34:24.250Z"
   },
   {
    "duration": 315,
    "start_time": "2024-12-18T19:34:24.316Z"
   },
   {
    "duration": 39,
    "start_time": "2024-12-18T19:34:24.633Z"
   },
   {
    "duration": 57,
    "start_time": "2024-12-18T19:34:24.675Z"
   },
   {
    "duration": 2121,
    "start_time": "2024-12-18T19:34:24.734Z"
   },
   {
    "duration": 521,
    "start_time": "2024-12-18T19:34:26.856Z"
   },
   {
    "duration": 715,
    "start_time": "2024-12-18T19:34:27.379Z"
   },
   {
    "duration": 173,
    "start_time": "2024-12-18T19:34:28.096Z"
   },
   {
    "duration": 18,
    "start_time": "2024-12-18T19:34:28.271Z"
   },
   {
    "duration": 1509,
    "start_time": "2024-12-18T19:43:13.614Z"
   },
   {
    "duration": 67,
    "start_time": "2024-12-18T19:43:15.125Z"
   },
   {
    "duration": 291,
    "start_time": "2024-12-18T19:43:15.193Z"
   },
   {
    "duration": 12,
    "start_time": "2024-12-18T19:43:15.486Z"
   },
   {
    "duration": 20,
    "start_time": "2024-12-18T19:43:15.499Z"
   },
   {
    "duration": 1210,
    "start_time": "2024-12-18T19:43:15.520Z"
   },
   {
    "duration": 674,
    "start_time": "2024-12-18T19:43:16.732Z"
   },
   {
    "duration": 280,
    "start_time": "2024-12-18T19:43:17.408Z"
   },
   {
    "duration": 174,
    "start_time": "2024-12-18T19:43:17.689Z"
   },
   {
    "duration": 17,
    "start_time": "2024-12-18T19:43:17.871Z"
   },
   {
    "duration": 31,
    "start_time": "2024-12-18T19:43:17.890Z"
   },
   {
    "duration": 991760,
    "start_time": "2024-12-18T19:43:17.923Z"
   },
   {
    "duration": 71,
    "start_time": "2024-12-18T19:59:49.684Z"
   },
   {
    "duration": 3874,
    "start_time": "2024-12-19T10:10:26.226Z"
   },
   {
    "duration": 106,
    "start_time": "2024-12-19T10:10:30.102Z"
   },
   {
    "duration": 273,
    "start_time": "2024-12-19T10:10:30.210Z"
   },
   {
    "duration": 12,
    "start_time": "2024-12-19T10:10:30.485Z"
   },
   {
    "duration": 46,
    "start_time": "2024-12-19T10:10:30.499Z"
   },
   {
    "duration": 1184,
    "start_time": "2024-12-19T10:10:30.546Z"
   },
   {
    "duration": 914,
    "start_time": "2024-12-19T10:10:31.732Z"
   },
   {
    "duration": 284,
    "start_time": "2024-12-19T10:10:32.647Z"
   },
   {
    "duration": 159,
    "start_time": "2024-12-19T10:10:32.933Z"
   },
   {
    "duration": 16,
    "start_time": "2024-12-19T10:10:33.095Z"
   },
   {
    "duration": 284,
    "start_time": "2024-12-19T10:10:33.122Z"
   },
   {
    "duration": 963540,
    "start_time": "2024-12-19T10:10:33.407Z"
   },
   {
    "duration": 15,
    "start_time": "2024-12-19T10:26:36.949Z"
   }
  ],
  "kernelspec": {
   "display_name": "Python 3 (ipykernel)",
   "language": "python",
   "name": "python3"
  },
  "language_info": {
   "codemirror_mode": {
    "name": "ipython",
    "version": 3
   },
   "file_extension": ".py",
   "mimetype": "text/x-python",
   "name": "python",
   "nbconvert_exporter": "python",
   "pygments_lexer": "ipython3",
   "version": "3.9.5"
  },
  "toc": {
   "base_numbering": 1,
   "nav_menu": {},
   "number_sections": true,
   "sideBar": true,
   "skip_h1_title": true,
   "title_cell": "Содержание",
   "title_sidebar": "Contents",
   "toc_cell": true,
   "toc_position": {
    "height": "calc(100% - 180px)",
    "left": "10px",
    "top": "150px",
    "width": "165px"
   },
   "toc_section_display": true,
   "toc_window_display": true
  }
 },
 "nbformat": 4,
 "nbformat_minor": 2
}
